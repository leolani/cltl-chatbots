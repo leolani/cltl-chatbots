{
 "cells": [
  {
   "cell_type": "markdown",
   "metadata": {},
   "source": [
    "# EMISSOR chat bot with audio backend"
   ]
  },
  {
   "cell_type": "markdown",
   "metadata": {},
   "source": [
    "@CLTL"
   ]
  },
  {
   "cell_type": "markdown",
   "metadata": {},
   "source": [
    "\n",
    "## 1. Installing the platform\n"
   ]
  },
  {
   "cell_type": "markdown",
   "metadata": {},
   "source": [
    "requirements.txt:"
   ]
  },
  {
   "cell_type": "code",
   "execution_count": null,
   "metadata": {
    "pycharm": {
     "name": "#%%\n"
    }
   },
   "outputs": [],
   "source": [
    "cltl.backend[impl,host]\n",
    "cltl.asr[impl]\n",
    "cltl.vad[impl]\n",
    "\n",
    "numpy==1.21.2\n",
    "\n",
    "transformers==4.10.0\n",
    "torch==1.9.0\n",
    "cffi==1.14.6\n",
    "jiwer==2.2.0\n",
    "sounddevice==0.4.2\n",
    "soundfile==0.10.3.post1\n",
    "PyAudio==0.2.11;sys_platform=='darwin'\n",
    "webrtcvad==2.0.10\n"
   ]
  },
  {
   "cell_type": "markdown",
   "metadata": {},
   "source": [
    "cltl packages are in cltl-requirements repo, clone it and install with -f option"
   ]
  },
  {
   "cell_type": "code",
   "execution_count": null,
   "metadata": {},
   "outputs": [],
   "source": [
    "! git clone https://github.com/leolani/cltl-requirements.git\n",
    "! python -m venv venv\n",
    "! source venv/bin/activate\n",
    "! pip install -f cltl-requirements/leolani -r requirements.txt\n",
    "! python -m ipykernel install --user --name=cltl"
   ]
  },
  {
   "cell_type": "markdown",
   "metadata": {},
   "source": [
    "Should not be necessary: Instead of pinning versions in the requirements.txt we can use the ones defined in cltl-requirements, mirror the external dependencies and install them from cltl-requirements/mirror/"
   ]
  },
  {
   "cell_type": "code",
   "execution_count": null,
   "metadata": {},
   "outputs": [],
   "source": [
    "! git clone --recurse-submodules -j8 https://github.com/leolani/cltl-requirements.git\n",
    "! cd cltl-requirements & make build & cd ..\n",
    "! python -m venv venv\n",
    "! source venv/bin/activate\n",
    "! pip install --no-index -f cltl-requirements/mirror -f cltl-requirements/leolani -r requirements.txt\n",
    "! python -m ipykernel install --user --name=cltl"
   ]
  },
  {
   "cell_type": "markdown",
   "metadata": {},
   "source": [
    "## Running with ASR"
   ]
  },
  {
   "cell_type": "code",
   "execution_count": null,
   "metadata": {},
   "outputs": [],
   "source": [
    "import numpy as np\n",
    "from cltl.asr.wav2vec_asr import Wav2Vec2ASR\n",
    "from cltl.backend.source.pyaudio_source import PyAudioSource\n",
    "from cltl.vad.webrtc_vad import WebRtcVAD\n",
    "\n",
    "from cltl.backend.api.util import raw_frames_to_np"
   ]
  },
  {
   "cell_type": "code",
   "execution_count": null,
   "metadata": {},
   "outputs": [],
   "source": [
    "source = PyAudioSource(16000, 1, 480)\n",
    "vad = WebRtcVAD()\n",
    "asr = Wav2Vec2ASR(model_id=\"facebook/wav2vec2-large-960h\", sampling_rate=16000)\n",
    "\n",
    "while True:\n",
    "    try:\n",
    "        with source as audio:\n",
    "            frames = raw_frames_to_np(audio, source.frame_size, source.channels, source.depth)\n",
    "            speech, offset, consumed = tuple(vad.detect_vad(frames, source.rate))\n",
    "            text = asr.speech_to_text(np.concatenate(tuple(speech)), source.rate)\n",
    "            print(\"Detected:\", text)\n",
    "    except Exception as e:\n",
    "        print(\"Failed\", e)"
   ]
  },
  {
   "cell_type": "markdown",
   "metadata": {
    "pycharm": {
     "name": "#%% md\n"
    }
   },
   "source": []
  }
 ],
 "metadata": {
  "kernelspec": {
   "display_name": "cltl",
   "language": "python",
   "name": "cltl"
  },
  "language_info": {
   "codemirror_mode": {
    "name": "ipython",
    "version": 3
   },
   "file_extension": ".py",
   "mimetype": "text/x-python",
   "name": "python",
   "nbconvert_exporter": "python",
   "pygments_lexer": "ipython3",
   "version": "3.7.10"
  }
 },
 "nbformat": 4,
 "nbformat_minor": 4
}
