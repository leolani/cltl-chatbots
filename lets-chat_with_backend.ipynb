{
 "cells": [
  {
   "cell_type": "markdown",
   "metadata": {},
   "source": [
    "# EMISSOR chat bot with audio backend"
   ]
  },
  {
   "cell_type": "markdown",
   "metadata": {},
   "source": [
    "@CLTL"
   ]
  },
  {
   "cell_type": "markdown",
   "metadata": {},
   "source": [
    "\n",
    "## 1. Installing the platform\n"
   ]
  },
  {
   "cell_type": "markdown",
   "metadata": {},
   "source": [
    "requirements.txt:"
   ]
  },
  {
   "cell_type": "code",
   "execution_count": null,
   "metadata": {
    "pycharm": {
     "name": "#%%\n"
    }
   },
   "outputs": [],
   "source": [
    "cltl.backend[impl,host]\n",
    "cltl.asr[impl]\n",
    "cltl.vad[impl]\n",
    "\n",
    "numpy==1.21.2\n",
    "\n",
    "transformers==4.10.0\n",
    "torch==1.9.0\n",
    "cffi==1.14.6\n",
    "jiwer==2.2.0\n",
    "sounddevice==0.4.2\n",
    "soundfile==0.10.3.post1\n",
    "PyAudio==0.2.11;sys_platform=='darwin'\n",
    "webrtcvad==2.0.10\n"
   ]
  },
  {
   "cell_type": "markdown",
   "metadata": {},
   "source": [
    "Some conflicts:\n",
    "    \n",
    "    ERROR: pip's dependency resolver does not currently take into account all the packages that are installed. This behaviour is the source of the following dependency conflicts.\n",
    "cltl-brain 0.0.dev3 requires nltk==3.4.4, but you have nltk 3.4 which is incompatible.\n",
    "cltl-brain 0.0.dev3 requires numpy==1.20.0, but you have numpy 1.21.2 which is incompatible.\n",
    "cltl-brain 0.0.dev3 requires python-Levenshtein==0.12.2, but you have python-levenshtein 0.12.0 which is incompatible.\n",
    "cltl-brain 0.0.dev3 requires rdflib-jsonld==0.5.0, but you have rdflib-jsonld 0.6.2 which is incompatible."
   ]
  },
  {
   "cell_type": "markdown",
   "metadata": {},
   "source": [
    "cltl packages are in cltl-requirements repo, clone it and install with -f option"
   ]
  },
  {
   "cell_type": "code",
   "execution_count": null,
   "metadata": {},
   "outputs": [],
   "source": [
    "! git clone https://github.com/leolani/cltl-requirements.git\n",
    "! python -m venv venv\n",
    "! source venv/bin/activate\n",
    "! pip install -f cltl-requirements/leolani -r requirements.txt\n",
    "! python -m ipykernel install --user --name=cltl"
   ]
  },
  {
   "cell_type": "markdown",
   "metadata": {},
   "source": [
    "Should not be necessary: Instead of pinning versions in the requirements.txt we can use the ones defined in cltl-requirements, mirror the external dependencies and install them from cltl-requirements/mirror/"
   ]
  },
  {
   "cell_type": "code",
   "execution_count": null,
   "metadata": {},
   "outputs": [],
   "source": [
    "! git clone --recurse-submodules -j8 https://github.com/leolani/cltl-requirements.git\n",
    "! cd cltl-requirements & make build & cd ..\n",
    "! python -m venv venv\n",
    "! source venv/bin/activate\n",
    "! pip install --no-index -f cltl-requirements/mirror -f cltl-requirements/leolani -r requirements.txt\n",
    "! python -m ipykernel install --user --name=cltl"
   ]
  },
  {
   "cell_type": "code",
   "execution_count": 2,
   "metadata": {},
   "outputs": [
    {
     "ename": "SyntaxError",
     "evalue": "invalid syntax (1633270057.py, line 2)",
     "output_type": "error",
     "traceback": [
      "\u001b[0;36m  File \u001b[0;32m\"/var/folders/6w/bw7dqbl9727c48pcjjh32r140000gn/T/ipykernel_4490/1633270057.py\"\u001b[0;36m, line \u001b[0;32m2\u001b[0m\n\u001b[0;31m    import cltl.asr[impl]\u001b[0m\n\u001b[0m                   ^\u001b[0m\n\u001b[0;31mSyntaxError\u001b[0m\u001b[0;31m:\u001b[0m invalid syntax\n"
     ]
    }
   ],
   "source": [
    "! cltl.backend[impl,host]\n",
    "import cltl.asr[impl]\n",
    "import cltl.vad[impl]"
   ]
  },
  {
   "cell_type": "markdown",
   "metadata": {},
   "source": [
    "## Running with ASR"
   ]
  },
  {
   "cell_type": "code",
   "execution_count": 3,
   "metadata": {},
   "outputs": [
    {
     "ename": "ModuleNotFoundError",
     "evalue": "No module named 'cltl.asr'",
     "output_type": "error",
     "traceback": [
      "\u001b[0;31m---------------------------------------------------------------------------\u001b[0m",
      "\u001b[0;31mModuleNotFoundError\u001b[0m                       Traceback (most recent call last)",
      "\u001b[0;32m/var/folders/6w/bw7dqbl9727c48pcjjh32r140000gn/T/ipykernel_4490/3036610263.py\u001b[0m in \u001b[0;36m<module>\u001b[0;34m\u001b[0m\n\u001b[1;32m      1\u001b[0m \u001b[0;32mimport\u001b[0m \u001b[0mnumpy\u001b[0m \u001b[0;32mas\u001b[0m \u001b[0mnp\u001b[0m\u001b[0;34m\u001b[0m\u001b[0;34m\u001b[0m\u001b[0m\n\u001b[0;32m----> 2\u001b[0;31m \u001b[0;32mfrom\u001b[0m \u001b[0mcltl\u001b[0m\u001b[0;34m.\u001b[0m\u001b[0masr\u001b[0m\u001b[0;34m.\u001b[0m\u001b[0mwav2vec_asr\u001b[0m \u001b[0;32mimport\u001b[0m \u001b[0mWav2Vec2ASR\u001b[0m\u001b[0;34m\u001b[0m\u001b[0;34m\u001b[0m\u001b[0m\n\u001b[0m\u001b[1;32m      3\u001b[0m \u001b[0;32mfrom\u001b[0m \u001b[0mcltl\u001b[0m\u001b[0;34m.\u001b[0m\u001b[0mbackend\u001b[0m\u001b[0;34m.\u001b[0m\u001b[0msource\u001b[0m\u001b[0;34m.\u001b[0m\u001b[0mpyaudio_source\u001b[0m \u001b[0;32mimport\u001b[0m \u001b[0mPyAudioSource\u001b[0m\u001b[0;34m\u001b[0m\u001b[0;34m\u001b[0m\u001b[0m\n\u001b[1;32m      4\u001b[0m \u001b[0;32mfrom\u001b[0m \u001b[0mcltl\u001b[0m\u001b[0;34m.\u001b[0m\u001b[0mvad\u001b[0m\u001b[0;34m.\u001b[0m\u001b[0mwebrtc_vad\u001b[0m \u001b[0;32mimport\u001b[0m \u001b[0mWebRtcVAD\u001b[0m\u001b[0;34m\u001b[0m\u001b[0;34m\u001b[0m\u001b[0m\n\u001b[1;32m      5\u001b[0m \u001b[0;34m\u001b[0m\u001b[0m\n",
      "\u001b[0;31mModuleNotFoundError\u001b[0m: No module named 'cltl.asr'"
     ]
    }
   ],
   "source": [
    "import numpy as np\n",
    "from cltl.asr.wav2vec_asr import Wav2Vec2ASR\n",
    "from cltl.backend.source.pyaudio_source import PyAudioSource\n",
    "from cltl.vad.webrtc_vad import WebRtcVAD\n",
    "\n",
    "from cltl.backend.api.util import raw_frames_to_np"
   ]
  },
  {
   "cell_type": "code",
   "execution_count": null,
   "metadata": {},
   "outputs": [],
   "source": [
    "source = PyAudioSource(16000, 1, 480)\n",
    "vad = WebRtcVAD()\n",
    "asr = Wav2Vec2ASR(model_id=\"facebook/wav2vec2-large-960h\", sampling_rate=16000)\n",
    "\n",
    "while True:\n",
    "    try:\n",
    "        with source as audio:\n",
    "            frames = raw_frames_to_np(audio, source.frame_size, source.channels, source.depth)\n",
    "            speech, offset, consumed = tuple(vad.detect_vad(frames, source.rate))\n",
    "            text = asr.speech_to_text(np.concatenate(tuple(speech)), source.rate)\n",
    "            print(\"Detected:\", text)\n",
    "    except Exception as e:\n",
    "        print(\"Failed\", e)"
   ]
  },
  {
   "cell_type": "markdown",
   "metadata": {
    "pycharm": {
     "name": "#%% md\n"
    }
   },
   "source": []
  }
 ],
 "metadata": {
  "kernelspec": {
   "display_name": "venv",
   "language": "python",
   "name": "venv"
  },
  "language_info": {
   "codemirror_mode": {
    "name": "ipython",
    "version": 3
   },
   "file_extension": ".py",
   "mimetype": "text/x-python",
   "name": "python",
   "nbconvert_exporter": "python",
   "pygments_lexer": "ipython3",
   "version": "3.7.6"
  }
 },
 "nbformat": 4,
 "nbformat_minor": 4
}
