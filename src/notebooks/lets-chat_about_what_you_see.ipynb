{
 "cells": [
  {
   "cell_type": "markdown",
   "metadata": {},
   "source": [
    "# Let's chat with a friend and I have a brain"
   ]
  },
  {
   "cell_type": "markdown",
   "metadata": {},
   "source": [
    "Demo chat with Leolani that combine face recognition and storage in the BRAIN. This notebook combines the functions of two other notebooks:\n"
   ]
  },
  {
   "cell_type": "code",
   "execution_count": 19,
   "metadata": {},
   "outputs": [],
   "source": [
    "# general imports for EMISSOR and the BRAIN\n",
    "import emissor as em\n",
    "from cltl import brain\n",
    "from cltl.triple_extraction.api import Chat, UtteranceHypothesis\n",
    "from emissor.persistence import ScenarioStorage\n",
    "from emissor.representation.annotation import AnnotationType, Token, NER\n",
    "from emissor.representation.container import Index\n",
    "from emissor.representation.scenario import Modality, ImageSignal, TextSignal, Mention, Annotation, Scenario\n",
    "from cltl.brain.long_term_memory import LongTermMemory\n",
    "from cltl.combot.backend.api.discrete import UtteranceType\n",
    "from cltl.reply_generation.data.sentences import GREETING, ASK_NAME, ELOQUENCE, TALK_TO_ME\n",
    "from cltl.reply_generation.lenka_replier import LenkaReplier\n",
    "from cltl.triple_extraction.api import Chat, UtteranceHypothesis\n",
    "from cltl.brain.utils.helper_functions import brain_response_to_json\n",
    "\n",
    "\n",
    "# specific imports\n",
    "import uuid\n",
    "from datetime import datetime\n",
    "import time\n",
    "import cv2\n",
    "import requests\n",
    "import pickle\n",
    "import jsonpickle"
   ]
  },
  {
   "cell_type": "code",
   "execution_count": 20,
   "metadata": {},
   "outputs": [],
   "source": [
    "import sys\n",
    "import os\n",
    "\n",
    "src_path = os.path.abspath(os.path.join('..'))\n",
    "if src_path not in sys.path:\n",
    "    sys.path.append(src_path)\n",
    "\n",
    "#### The next utils are needed for the interaction and creating triples and capsules\n",
    "import chatbots.util.driver_util as d_util\n",
    "import chatbots.util.capsule_util as c_util\n",
    "import chatbots.intentions.talk as talk\n",
    "import chatbots.util.face_util as f_util\n",
    "import chatbots.intentions.get_to_know_you as friend"
   ]
  },
  {
   "cell_type": "markdown",
   "metadata": {},
   "source": [
    "### Connect to the camera"
   ]
  },
  {
   "cell_type": "code",
   "execution_count": 21,
   "metadata": {},
   "outputs": [],
   "source": [
    "### Link your camera\n",
    "camera = cv2.VideoCapture(0)"
   ]
  },
  {
   "cell_type": "markdown",
   "metadata": {},
   "source": [
    "### Initialise the BRAIN"
   ]
  },
  {
   "cell_type": "code",
   "execution_count": 22,
   "metadata": {},
   "outputs": [
    {
     "name": "stdout",
     "output_type": "stream",
     "text": [
      "2021-11-18 11:35:32,384 -     INFO -    cltl.brain.basic_brain.LongTermMemory - Booted\n"
     ]
    },
    {
     "name": "stderr",
     "output_type": "stream",
     "text": [
      "Booted\n"
     ]
    },
    {
     "name": "stdout",
     "output_type": "stream",
     "text": [
      "2021-11-18 11:35:34,563 -     INFO -    cltl.brain.basic_brain.LongTermMemory - Uploading ontology to brain\n"
     ]
    },
    {
     "name": "stderr",
     "output_type": "stream",
     "text": [
      "Uploading ontology to brain\n"
     ]
    },
    {
     "name": "stdout",
     "output_type": "stream",
     "text": [
      "2021-11-18 11:35:36,531 -     INFO -  cltl.brain.basic_brain.ThoughtGenerator - Booted\n"
     ]
    },
    {
     "name": "stderr",
     "output_type": "stream",
     "text": [
      "Booted\n"
     ]
    },
    {
     "name": "stdout",
     "output_type": "stream",
     "text": [
      "2021-11-18 11:35:36,533 -     INFO -  cltl.brain.basic_brain.LocationReasoner - Booted\n"
     ]
    },
    {
     "name": "stderr",
     "output_type": "stream",
     "text": [
      "Booted\n"
     ]
    },
    {
     "name": "stdout",
     "output_type": "stream",
     "text": [
      "2021-11-18 11:35:36,535 -     INFO -      cltl.brain.basic_brain.TypeReasoner - Booted\n"
     ]
    },
    {
     "name": "stderr",
     "output_type": "stream",
     "text": [
      "Booted\n"
     ]
    },
    {
     "name": "stdout",
     "output_type": "stream",
     "text": [
      "2021-11-18 11:35:36,538 -     INFO -   cltl.brain.basic_brain.TrustCalculator - Booted\n"
     ]
    },
    {
     "name": "stderr",
     "output_type": "stream",
     "text": [
      "Booted\n"
     ]
    },
    {
     "name": "stdout",
     "output_type": "stream",
     "text": [
      "2021-11-18 11:35:36,662 -     INFO -   cltl.brain.basic_brain.TrustCalculator - Computed trust for all known agents\n"
     ]
    },
    {
     "name": "stderr",
     "output_type": "stream",
     "text": [
      "Computed trust for all known agents\n"
     ]
    }
   ],
   "source": [
    "# Initialise the brain in GraphDB\n",
    "import pathlib\n",
    "\n",
    "log_path = pathlib.Path('./logs')\n",
    "my_brain = brain.LongTermMemory(address=\"http://localhost:7200/repositories/sandbox\",\n",
    "                                log_dir=log_path,\n",
    "                                clear_all=True)"
   ]
  },
  {
   "cell_type": "markdown",
   "metadata": {},
   "source": [
    "## Create an instance of a replier"
   ]
  },
  {
   "cell_type": "code",
   "execution_count": 23,
   "metadata": {},
   "outputs": [
    {
     "name": "stdout",
     "output_type": "stream",
     "text": [
      "2021-11-18 11:35:36,667 -     INFO -   cltl.reply_generation.api.LenkaReplier - Booted\n"
     ]
    },
    {
     "name": "stderr",
     "output_type": "stream",
     "text": [
      "Booted\n"
     ]
    }
   ],
   "source": [
    "replier = LenkaReplier()"
   ]
  },
  {
   "cell_type": "markdown",
   "metadata": {},
   "source": [
    "## Standard initialisation of a scenario"
   ]
  },
  {
   "cell_type": "code",
   "execution_count": 24,
   "metadata": {},
   "outputs": [
    {
     "name": "stdout",
     "output_type": "stream",
     "text": [
      "Directories for 2021-11-18-11:35:36 created in /Users/piek/PycharmProjects/cltl-chatbots/data\n"
     ]
    }
   ],
   "source": [
    "from random import getrandbits, choice\n",
    "import requests\n",
    "##### Setting the location\n",
    "place_id = getrandbits(8)\n",
    "location = None\n",
    "try:\n",
    "    location = requests.get(\"https://ipinfo.io\").json()\n",
    "except:\n",
    "    print(\"failed to get the IP location\")\n",
    "    \n",
    "##### Setting the agents\n",
    "AGENT = \"Leolani2\"\n",
    "HUMAN_NAME = \"Stranger\"\n",
    "HUMAN_ID = \"stranger\"\n",
    "\n",
    "### The name of your scenario\n",
    "scenario_id = datetime.today().strftime(\"%Y-%m-%d-%H:%M:%S\")\n",
    "\n",
    "### Specify the path to an existing data folder where your scenario is created and saved as a subfolder\n",
    "# Find the repository root dir\n",
    "parent, dir_name = (d_util.__file__, \"_\")\n",
    "while dir_name and dir_name != \"src\":\n",
    "    parent, dir_name = os.path.split(parent)\n",
    "root_dir = parent\n",
    "scenario_path = os.path.abspath(os.path.join(root_dir, 'data'))\n",
    "\n",
    "if scenario_path not in sys.path:\n",
    "    sys.path.append(scenario_path)\n",
    "\n",
    "if not os.path.exists(scenario_path) :\n",
    "    os.mkdir(scenario_path)\n",
    "    print(\"Created a data folder for storing the scenarios\", scenario_path)\n",
    "\n",
    "### Specify the path to an existing folder with the embeddings of your friends\n",
    "friends_path = os.path.abspath(os.path.join(root_dir, 'friend_embeddings'))\n",
    "if friends_path not in sys.path:\n",
    "    sys.path.append(friends_path)\n",
    "    print(\"The paths with the friends:\", friends_path)\n",
    "    \n",
    "### Define the folders where the images and rdf triples are saved\n",
    "imagefolder = scenario_path + \"/\" + scenario_id + \"/\" + \"image\"\n",
    "rdffolder = scenario_path + \"/\" + scenario_id + \"/\" + \"rdf\"\n",
    "\n",
    "\n",
    "### Create the scenario folder, the json files and a scenarioStorage and scenario in memory\n",
    "scenarioStorage = d_util.create_scenario(scenario_path, scenario_id)\n",
    "scenario_ctrl = scenarioStorage.create_scenario(scenario_id, int(time.time() * 1e3), None, AGENT)"
   ]
  },
  {
   "cell_type": "markdown",
   "metadata": {},
   "source": [
    "## Loading the docker containers for face detection and face property detection"
   ]
  },
  {
   "cell_type": "markdown",
   "metadata": {},
   "source": [
    "#### If the docker images are running you can skip the next part"
   ]
  },
  {
   "cell_type": "code",
   "execution_count": 25,
   "metadata": {},
   "outputs": [],
   "source": [
    "### This is only needed if you start the docker containers from this notebook\n",
    "\n",
    "#container_fdr = f_util.start_docker_container(\"tae898/face-detection-recognition:v0.1\", 10002)\n",
    "#container_ag = f_util.start_docker_container(\"tae898/age-gender:v0.2\", 10003)\n",
    "#cntainer_yolo = f_util.start_docker_container(\"tae898/yolov5\", 10004)"
   ]
  },
  {
   "cell_type": "markdown",
   "metadata": {},
   "source": [
    "If there is a problem starting the dockers, you may need to kill them and start them again. Use the following command to kill and rerun the previous command. Note that if there are running already you should not restart. Starting it again gives an error that the port is occupied."
   ]
  },
  {
   "cell_type": "code",
   "execution_count": 26,
   "metadata": {},
   "outputs": [],
   "source": [
    "#!docker kill $(docker ps -q)"
   ]
  },
  {
   "cell_type": "markdown",
   "metadata": {},
   "source": [
    "## Extracting and storing triples from an utterance"
   ]
  },
  {
   "cell_type": "markdown",
   "metadata": {},
   "source": [
    "The next function processes any textSignal using the baseline language model from the Leolani platform.\n",
    "This model uses a context-free grammar and closed-class lexicons specifically designed for social robot interaction.\n",
    "\n",
    "The function creates a capsule for posting any triples and perspective to the BRAIN.\n",
    "If no triples are extracted, a dummy prompt is returned: \"Any gossip?\".\n",
    "\n",
    "Any thoughts coming from the BRAIN are returned."
   ]
  },
  {
   "cell_type": "markdown",
   "metadata": {},
   "source": [
    "## Create a new friend.\n",
    "\n",
    "The functions in *intentions/get_to_know_you.py* are needed to get the properties and visual information for identifying a new friend.\n",
    "\n",
    "The visual information is based on the camera images of the uses from which we extract an averaged embedding.\n",
    "These embeddings are store in the *friend_embeddings* folder. \n",
    "\n",
    "By comparing an image with the stored embeddings, the system decides whether a person is a *stranger*.\n",
    "In case the user is a *stranger*, the system will try to get to know him/her.\n",
    "\n",
    "If you delete someone's embeddings from the *friend_embeddings* folder. This person will become a *stranger* again."
   ]
  },
  {
   "cell_type": "code",
   "execution_count": 27,
   "metadata": {},
   "outputs": [
    {
     "name": "stderr",
     "output_type": "stream",
     "text": [
      "/Users/piek/PycharmProjects/cltl-chatbots/data/2021-11-18-11:35:36/image/1637231744598.png image loaded!\n",
      "got <Response [200]> from server!...\n",
      "1 faces deteced!\n",
      "got <Response [200]> from server!...\n",
      "got <Response [200]> from server!...\n",
      "YOLO image annotation is done!\n",
      "Annotating face, genders, and ages is done!\n",
      "image annotation is done!\n",
      "image saved at /Users/piek/PycharmProjects/cltl-chatbots/data/2021-11-18-11:35:36/image/1637231744598.png.ANNOTATED.jpg\n"
     ]
    },
    {
     "name": "stdout",
     "output_type": "stream",
     "text": [
      "Leolani2: Hi Fred. Nice to see you again. How are you today?\n",
      "\n"
     ]
    }
   ],
   "source": [
    "def parse_age(face_info):\n",
    "    return round(face_info.age[\"mean\"])\n",
    "def parse_gender(face_info):\n",
    "    return \"male\" if face_info.gender[\"m\"] > 0.5 else \"female\"\n",
    "def parse_bbox(face_info):\n",
    "    return [int(num) for num in face_info.bbox.tolist()]\n",
    "def parse_id(face_info):\n",
    "    return face_info.face_id['name'] if 'name' in face_info.face_id else f\"Stranger_t_{int(time.time() * 1e3)}\"\n",
    "def parse_name(face_info):\n",
    "    face_id = parse_id(face_info)\n",
    "    return face_id.split(\"_t_\")[0] if face_id else \"Stranger\"\n",
    "\n",
    "# First signals to get started\n",
    "faces =[]\n",
    "while not len(faces) == 1:\n",
    "    success, frame = camera.read()\n",
    "    if not success:\n",
    "        raise ValueError(\"Failed to take a picture\")\n",
    "        \n",
    "    image_time = int(time.time() * 1e3)\n",
    "    imagepath = d_util.absolute_path(scenarioStorage, scenario_id, Modality.IMAGE, f\"{image_time}.png\")\n",
    "    cv2.imwrite(imagepath, frame)\n",
    "    \n",
    "    faces = f_util.detect_faces(friends_path, imagepath)\n",
    "    \n",
    "    image_bbox = (0, 0, frame.shape[1], frame.shape[0])\n",
    "    imageSignal = d_util.create_image_signal(scenario_ctrl, f\"{image_time}.png\", image_bbox, image_time)\n",
    "    mentions = [f_util.create_face_mention(imageSignal, \"front_camera\", image_time,\n",
    "                                           parse_bbox(face), parse_id(face), parse_name(face),\n",
    "                                           parse_age(face), parse_gender(face), face.det_score)\n",
    "                for face in faces]\n",
    "    \n",
    "    imageSignal.mentions.extend(mentions)\n",
    "    scenario_ctrl.append_signal(imageSignal)\n",
    "\n",
    "    if not faces:\n",
    "        response = \"Hi, anyone there? I can't see you..\"\n",
    "        time.sleep(3)\n",
    "    elif len(faces) > 1:\n",
    "        response = \"Hi there! Apologizes, but I will only talk to one of you at a time..\"\n",
    "        time.sleep(3)\n",
    "    else:\n",
    "        face = faces[0]\n",
    "        if parse_id(face) is None:\n",
    "            ### This is a stranger, we process the new face\n",
    "            HUMAN_ID, HUMAN_NAME, _ = friend.get_to_know_person(scenario_ctrl, AGENT, parse_gender(face),\n",
    "                                                                parse_age(face), face.face_id, face.embedding,\n",
    "                                                                friends_path)\n",
    "            HUMAN_ID = HUMAN_NAME  ### Hack because we cannot force the namespace through capsules, name and identity are the same till this is fixed\n",
    "\n",
    "\n",
    "            ### Add the new information to the signal\n",
    "            mention = f_util.create_face_mention(imageSignal, \"front_camera\", int(time.time() * 1e3),\n",
    "                                                 parse_bbox(face), HUMAN_ID, HUMAN_NAME,\n",
    "                                                 parse_age(face), parse_gender(face), face.det_score)\n",
    "            imageSignal.mentions.append(mention)\n",
    "\n",
    "            response = f\"So you what do you want to talk about {HUMAN_NAME}?\"\n",
    "        else:\n",
    "            ### We know this person\n",
    "            HUMAN_ID = parse_id(face)\n",
    "            HUMAN_NAME = parse_name(face)\n",
    "            response = f\"Hi {parse_name(face)}. Nice to see you again. How are you today?\"\n",
    "\n",
    "    print(f\"{AGENT}: {response}\\n\")\n",
    "\n",
    "    # Store signals, annotated with the infered Person information\n",
    "    textSignal = d_util.create_text_signal(scenario_ctrl, response)\n",
    "    scenario_ctrl.append_signal(textSignal)\n",
    "    \n",
    "scenarioStorage.save_scenario(scenario_ctrl)"
   ]
  },
  {
   "cell_type": "markdown",
   "metadata": {},
   "source": [
    "## Proceed to communicate with an identified friend"
   ]
  },
  {
   "cell_type": "markdown",
   "metadata": {},
   "source": [
    "The next while loop is for continuous communication with the identified user until *stop* or *bye*.\n",
    "We process the user input and the captured image sequentially step by step in the code block of the while loop.\n",
    "At the end of the code block, a response is generated and new input from the user is requested."
   ]
  },
  {
   "cell_type": "markdown",
   "metadata": {},
   "source": [
    "We first initialise a Chat class with the HUMAN_ID value for the speaker."
   ]
  },
  {
   "cell_type": "code",
   "execution_count": 28,
   "metadata": {},
   "outputs": [
    {
     "name": "stdout",
     "output_type": "stream",
     "text": [
      "2021-11-18 11:35:50,930 -     INFO - cltl.triple_extraction.api.Chat (Fred)              000 - << Start of Chat with Fred >>\n"
     ]
    },
    {
     "name": "stderr",
     "output_type": "stream",
     "text": [
      "<< Start of Chat with Fred >>\n"
     ]
    }
   ],
   "source": [
    "chat = Chat(HUMAN_ID)"
   ]
  },
  {
   "cell_type": "markdown",
   "metadata": {},
   "source": [
    "### Respondig to what it sees"
   ]
  },
  {
   "cell_type": "markdown",
   "metadata": {},
   "source": [
    "We define a function that does the following:\n",
    "\n",
    "* captures an image from the camera\n",
    "* creates an imageSignal from it, \n",
    "* annotates the image with the mention of the person\n",
    "* stores the mention in the brain as a perceivedBy data\n",
    "* gets the response from the brain\n",
    "* verbalises the response\n",
    "* stores the verbalised response as a textSignal\n"
   ]
  },
  {
   "cell_type": "markdown",
   "metadata": {},
   "source": [
    "### Respond to an object"
   ]
  },
  {
   "cell_type": "code",
   "execution_count": 29,
   "metadata": {},
   "outputs": [],
   "source": [
    "def respond_to_an_image(camera, \n",
    "                        imagefolder, \n",
    "                        scenario_ctrl, \n",
    "                        place_id, \n",
    "                        location, \n",
    "                        HUMAN_ID, \n",
    "                        my_brain, \n",
    "                        replier,\n",
    "                       respond_to_thought:False):\n",
    "        ## We capture the image again\n",
    "    ## For now, we only take pictures of faces of the user\n",
    "    ## @TODO add object recognition and check if there are other people detected than the user\n",
    "\n",
    "    success, frame = camera.read()\n",
    "    if success:\n",
    "        current_time = int(time.time() * 1e3)\n",
    "        imagepath = f\"{imagefolder}/{current_time}.png\"\n",
    "        image_bbox = (0, 0, frame.shape[1], frame.shape[0])\n",
    "        cv2.imwrite(imagepath, frame)\n",
    "        print(imagepath)\n",
    " \n",
    "        results = f_util.detect_objects(imagepath)\n",
    "\n",
    "        #[{'det_score': 0.9202485680580139, 'label_num': 0, 'label_string': 'person', 'yolo_bbox': [430, 349, 918, 715]}, \n",
    "        # {'det_score': 0.45640841126441956, 'label_num': 0, 'label_string': 'person', 'yolo_bbox': [309, 167, 365, 324]}, \n",
    "        #{'det_score': 0.339588463306427, 'label_num': 72, 'label_string': 'refrigerator', 'yolo_bbox': [0, 208, 111, 707]}]\n",
    "       \n",
    "        imageSignal = d_util.create_image_signal(scenario_ctrl, f\"{current_time}.png\", image_bbox, current_time)\n",
    "        scenario_ctrl.append_signal(imageSignal)\n",
    "\n",
    "        what_did_i_see = []\n",
    "        ## The next for loop creates a capsule for each object detected in the image and posts a perceivedIn property for the object in the signal\n",
    "        ## The \"front_camera\" is the source of the signal\n",
    "        for result in results:\n",
    "            current_time = int(time.time() * 1e3)\n",
    "            \n",
    "            bbox = [int(num) for num in result['yolo_bbox']]\n",
    "            object_type = result['label_string']\n",
    "            object_prob = result['det_score']\n",
    "            what_did_i_see.append(object_type)\n",
    "            mention = f_util.create_object_mention(imageSignal, \"front_camera\", current_time, bbox, object_type, object_prob)\n",
    "            imageSignal.mentions.append(mention)\n",
    "            \n",
    "            ### We created a perceivedBy triple for this experience, \n",
    "            ### @TODO we need to include the bouding box somehow in the object\n",
    "            capsule = c_util.scenario_image_triple_to_capsule(scenario_ctrl,\n",
    "                                                              place_id,\n",
    "                                                              location,\n",
    "                                                              imageSignal,\n",
    "                                                              \"front_camera\",\n",
    "                                                              object_type,\n",
    "                                                              \"perceivedIn\",\n",
    "                                                              imageSignal.id)\n",
    "\n",
    "            # Create the response from the system and store this as a new signal\n",
    "            # We use the throughts to respond\n",
    "            response = my_brain.update(capsule, reason_types=True, create_label=True)\n",
    "            if (respond_to_thought):\n",
    "                response_json = brain_response_to_json(response)\n",
    "                reply = replier.reply_to_statement(response_json, proactive=True, persist=True)\n",
    "                print(AGENT + \": \" + reply)\n",
    "                textSignal = d_util.create_text_signal(scenario_ctrl, reply)\n",
    "                scenario_ctrl.append_signal(textSignal)\n",
    "            \n",
    "    return what_did_i_see"
   ]
  },
  {
   "cell_type": "code",
   "execution_count": 30,
   "metadata": {},
   "outputs": [
    {
     "name": "stdout",
     "output_type": "stream",
     "text": [
      "Leolani2: Do you have any gossip?\n"
     ]
    },
    {
     "name": "stdin",
     "output_type": "stream",
     "text": [
      "\n",
      " I like cookies\n"
     ]
    },
    {
     "name": "stdout",
     "output_type": "stream",
     "text": [
      "Fred: I like cookies\n",
      "2021-11-18 11:36:04,318 -     INFO - cltl.triple_extraction.api.Chat (Fred)              001 -       Fred: \"I like cookies\"\n"
     ]
    },
    {
     "name": "stderr",
     "output_type": "stream",
     "text": [
      "      Fred: \"I like cookies\"\n",
      "extracted perspective: {'sentiment': '0.75', 'certainty': 1, 'polarity': 1, 'emotion': <Emotion.NEUTRAL: 7>}\n",
      "RDF    subject: {\"label\": \"Fred\", \"type\": [\"person\"]}\n",
      "RDF  predicate: {\"label\": \"like\", \"type\": [\"verb.emotion\"]}\n",
      "RDF     object: {\"label\": \"cookies\", \"type\": [\"noun.food\"]}\n"
     ]
    },
    {
     "name": "stdout",
     "output_type": "stream",
     "text": [
      "2021-11-18 11:36:04,347 -     INFO -    cltl.brain.basic_brain.LongTermMemory - Triple in statement: fred_like_cookies [person_->_food])\n"
     ]
    },
    {
     "name": "stderr",
     "output_type": "stream",
     "text": [
      "Triple in statement: fred_like_cookies [person_->_food])\n"
     ]
    },
    {
     "name": "stdout",
     "output_type": "stream",
     "text": [
      "2021-11-18 11:36:04,362 -     INFO -  cltl.brain.basic_brain.ThoughtGenerator - Entity Novelty: new subject - new object \n"
     ]
    },
    {
     "name": "stderr",
     "output_type": "stream",
     "text": [
      "Entity Novelty: new subject - new object \n"
     ]
    },
    {
     "name": "stdout",
     "output_type": "stream",
     "text": [
      "2021-11-18 11:36:05,891 -     INFO -  cltl.brain.basic_brain.ThoughtGenerator - Negation Conflicts: fred on November,2021 about POSITIVE\n"
     ]
    },
    {
     "name": "stderr",
     "output_type": "stream",
     "text": [
      "Negation Conflicts: fred on November,2021 about POSITIVE\n"
     ]
    },
    {
     "name": "stdout",
     "output_type": "stream",
     "text": [
      "2021-11-18 11:36:05,906 -     INFO -  cltl.brain.basic_brain.ThoughtGenerator - Gaps: 26 gaps as subject: e.g. be-family-of person - 15 gaps as object: e.g. cook-by dish\n"
     ]
    },
    {
     "name": "stderr",
     "output_type": "stream",
     "text": [
      "Gaps: 26 gaps as subject: e.g. be-family-of person - 15 gaps as object: e.g. cook-by dish\n"
     ]
    },
    {
     "name": "stdout",
     "output_type": "stream",
     "text": [
      "2021-11-18 11:36:05,916 -     INFO -  cltl.brain.basic_brain.ThoughtGenerator - Gaps: 3 gaps as subject: e.g. cook-by agent - 2 gaps as object: e.g. favorite agent\n"
     ]
    },
    {
     "name": "stderr",
     "output_type": "stream",
     "text": [
      "Gaps: 3 gaps as subject: e.g. cook-by agent - 2 gaps as object: e.g. favorite agent\n",
      "/Users/piek/PycharmProjects/cltl-chatbots/data/2021-11-18-11:35:36/image/1637231765959.png image loaded!\n"
     ]
    },
    {
     "name": "stdout",
     "output_type": "stream",
     "text": [
      "Leolani2: I just learned something, I did not know anything that fred like\n",
      "/Users/piek/PycharmProjects/cltl-chatbots/data/2021-11-18-11:35:36/image/1637231765959.png\n"
     ]
    },
    {
     "name": "stderr",
     "output_type": "stream",
     "text": [
      "got <Response [200]> from server!...\n",
      "YOLO image annotation is done!\n",
      "image annotation is done!\n",
      "image saved at /Users/piek/PycharmProjects/cltl-chatbots/data/2021-11-18-11:35:36/image/1637231765959.png.ANNOTATED.jpg\n"
     ]
    },
    {
     "name": "stdout",
     "output_type": "stream",
     "text": [
      "2021-11-18 11:36:09,382 -  WARNING -      cltl.brain.basic_brain.TypeReasoner - Failed to query Wikidata: HTTPSConnectionPool(host='query.wikidata.org', port=443): Read timed out. (read timeout=3)\n"
     ]
    },
    {
     "name": "stderr",
     "output_type": "stream",
     "text": [
      "Failed to query Wikidata: HTTPSConnectionPool(host='query.wikidata.org', port=443): Read timed out. (read timeout=3)\n"
     ]
    },
    {
     "name": "stdout",
     "output_type": "stream",
     "text": [
      "2021-11-18 11:36:09,999 -     INFO -      cltl.brain.basic_brain.TypeReasoner - Reasoned type of 6c70699e-e665-44b8-bc22-70a5c3a71ce2 to: None\n"
     ]
    },
    {
     "name": "stderr",
     "output_type": "stream",
     "text": [
      "Reasoned type of 6c70699e-e665-44b8-bc22-70a5c3a71ce2 to: None\n"
     ]
    },
    {
     "name": "stdout",
     "output_type": "stream",
     "text": [
      "2021-11-18 11:36:10,056 -     INFO -    cltl.brain.basic_brain.LongTermMemory - Triple in statement: person_perceivedin_6c70699e-e665-44b8-bc22-70a5c3a71ce2 [person_->_])\n"
     ]
    },
    {
     "name": "stderr",
     "output_type": "stream",
     "text": [
      "Triple in statement: person_perceivedin_6c70699e-e665-44b8-bc22-70a5c3a71ce2 [person_->_])\n"
     ]
    },
    {
     "name": "stdout",
     "output_type": "stream",
     "text": [
      "2021-11-18 11:36:10,106 -     INFO -  cltl.brain.basic_brain.ThoughtGenerator - Entity Novelty: new subject - new object \n"
     ]
    },
    {
     "name": "stderr",
     "output_type": "stream",
     "text": [
      "Entity Novelty: new subject - new object \n"
     ]
    },
    {
     "name": "stdout",
     "output_type": "stream",
     "text": [
      "2021-11-18 11:36:12,562 -     INFO -  cltl.brain.basic_brain.ThoughtGenerator - Gaps: 26 gaps as subject: e.g. experience taste - 15 gaps as object: e.g. cook-by food\n"
     ]
    },
    {
     "name": "stderr",
     "output_type": "stream",
     "text": [
      "Gaps: 26 gaps as subject: e.g. experience taste - 15 gaps as object: e.g. cook-by food\n"
     ]
    },
    {
     "name": "stdout",
     "output_type": "stream",
     "text": [
      "2021-11-18 11:36:15,743 -  WARNING -      cltl.brain.basic_brain.TypeReasoner - Failed to query Wikidata: HTTPSConnectionPool(host='query.wikidata.org', port=443): Read timed out. (read timeout=3)\n"
     ]
    },
    {
     "name": "stderr",
     "output_type": "stream",
     "text": [
      "Failed to query Wikidata: HTTPSConnectionPool(host='query.wikidata.org', port=443): Read timed out. (read timeout=3)\n"
     ]
    },
    {
     "name": "stdout",
     "output_type": "stream",
     "text": [
      "2021-11-18 11:36:16,317 -     INFO -      cltl.brain.basic_brain.TypeReasoner - Reasoned type of 6c70699e-e665-44b8-bc22-70a5c3a71ce2 to: None\n"
     ]
    },
    {
     "name": "stderr",
     "output_type": "stream",
     "text": [
      "Reasoned type of 6c70699e-e665-44b8-bc22-70a5c3a71ce2 to: None\n"
     ]
    },
    {
     "name": "stdout",
     "output_type": "stream",
     "text": [
      "2021-11-18 11:36:16,338 -     INFO -    cltl.brain.basic_brain.LongTermMemory - Triple in statement: person_perceivedin_6c70699e-e665-44b8-bc22-70a5c3a71ce2 [person_->_])\n"
     ]
    },
    {
     "name": "stderr",
     "output_type": "stream",
     "text": [
      "Triple in statement: person_perceivedin_6c70699e-e665-44b8-bc22-70a5c3a71ce2 [person_->_])\n"
     ]
    },
    {
     "name": "stdout",
     "output_type": "stream",
     "text": [
      "2021-11-18 11:36:16,346 -     INFO -  cltl.brain.basic_brain.ThoughtGenerator - Statement Novelty: 1 times, e.g. front-camera on November,2021\n"
     ]
    },
    {
     "name": "stderr",
     "output_type": "stream",
     "text": [
      "Statement Novelty: 1 times, e.g. front-camera on November,2021\n"
     ]
    },
    {
     "name": "stdout",
     "output_type": "stream",
     "text": [
      "2021-11-18 11:36:17,865 -     INFO -  cltl.brain.basic_brain.ThoughtGenerator - Gaps: 26 gaps as subject: e.g. live-in location - 15 gaps as object: e.g. like agent\n"
     ]
    },
    {
     "name": "stderr",
     "output_type": "stream",
     "text": [
      "Gaps: 26 gaps as subject: e.g. live-in location - 15 gaps as object: e.g. like agent\n"
     ]
    },
    {
     "name": "stdout",
     "output_type": "stream",
     "text": [
      "Leolani2: By the way while talking, I have been seeing a person and  a person\n"
     ]
    },
    {
     "name": "stdin",
     "output_type": "stream",
     "text": [
      "\n",
      " I have a pencil\n"
     ]
    },
    {
     "name": "stdout",
     "output_type": "stream",
     "text": [
      "Fred: I have a pencil\n",
      "2021-11-18 11:36:45,824 -     INFO - cltl.triple_extraction.api.Chat (Fred)              002 -       Fred: \"I have a pencil\"\n"
     ]
    },
    {
     "name": "stderr",
     "output_type": "stream",
     "text": [
      "      Fred: \"I have a pencil\"\n",
      "extracted perspective: {'sentiment': 0, 'certainty': 1, 'polarity': 1, 'emotion': <Emotion.NEUTRAL: 7>}\n",
      "RDF    subject: {\"label\": \"Fred\", \"type\": [\"person\"]}\n",
      "RDF  predicate: {\"label\": \"have\", \"type\": [\"verb.possession\"]}\n",
      "RDF     object: {\"label\": \"a-pencil\", \"type\": [\"article:indefinite\", \"noun.artifact\"]}\n"
     ]
    },
    {
     "name": "stdout",
     "output_type": "stream",
     "text": [
      "2021-11-18 11:36:48,985 -  WARNING -      cltl.brain.basic_brain.TypeReasoner - Failed to query Wikidata: HTTPSConnectionPool(host='query.wikidata.org', port=443): Read timed out. (read timeout=3)\n"
     ]
    },
    {
     "name": "stderr",
     "output_type": "stream",
     "text": [
      "Failed to query Wikidata: HTTPSConnectionPool(host='query.wikidata.org', port=443): Read timed out. (read timeout=3)\n"
     ]
    },
    {
     "name": "stdout",
     "output_type": "stream",
     "text": [
      "2021-11-18 11:36:49,226 -     INFO -      cltl.brain.basic_brain.TypeReasoner - Reasoned type of pencil to: pencil\n"
     ]
    },
    {
     "name": "stderr",
     "output_type": "stream",
     "text": [
      "Reasoned type of pencil to: pencil\n"
     ]
    },
    {
     "name": "stdout",
     "output_type": "stream",
     "text": [
      "2021-11-18 11:36:49,246 -     INFO -    cltl.brain.basic_brain.LongTermMemory - Triple in statement: fred_have_a-pencil [person_->_pencil])\n"
     ]
    },
    {
     "name": "stderr",
     "output_type": "stream",
     "text": [
      "Triple in statement: fred_have_a-pencil [person_->_pencil])\n"
     ]
    },
    {
     "name": "stdout",
     "output_type": "stream",
     "text": [
      "2021-11-18 11:36:49,259 -     INFO -  cltl.brain.basic_brain.ThoughtGenerator - Entity Novelty: existing subject - new object \n"
     ]
    },
    {
     "name": "stderr",
     "output_type": "stream",
     "text": [
      "Entity Novelty: existing subject - new object \n"
     ]
    },
    {
     "name": "stdout",
     "output_type": "stream",
     "text": [
      "2021-11-18 11:36:50,744 -     INFO -  cltl.brain.basic_brain.ThoughtGenerator - Negation Conflicts: fred on November,2021 about POSITIVE\n"
     ]
    },
    {
     "name": "stderr",
     "output_type": "stream",
     "text": [
      "Negation Conflicts: fred on November,2021 about POSITIVE\n"
     ]
    },
    {
     "name": "stdout",
     "output_type": "stream",
     "text": [
      "2021-11-18 11:36:50,759 -     INFO -  cltl.brain.basic_brain.ThoughtGenerator - Gaps: 26 gaps as subject: e.g. be-family-of person - 15 gaps as object: e.g. be-family-of person\n"
     ]
    },
    {
     "name": "stderr",
     "output_type": "stream",
     "text": [
      "Gaps: 26 gaps as subject: e.g. be-family-of person - 15 gaps as object: e.g. be-family-of person\n",
      "/Users/piek/PycharmProjects/cltl-chatbots/data/2021-11-18-11:35:36/image/1637231810806.png image loaded!\n"
     ]
    },
    {
     "name": "stdout",
     "output_type": "stream",
     "text": [
      "Leolani2: If you don't mind me asking. What types can fred have\n",
      "/Users/piek/PycharmProjects/cltl-chatbots/data/2021-11-18-11:35:36/image/1637231810806.png\n"
     ]
    },
    {
     "name": "stderr",
     "output_type": "stream",
     "text": [
      "got <Response [200]> from server!...\n",
      "YOLO image annotation is done!\n",
      "image annotation is done!\n",
      "image saved at /Users/piek/PycharmProjects/cltl-chatbots/data/2021-11-18-11:35:36/image/1637231810806.png.ANNOTATED.jpg\n"
     ]
    },
    {
     "name": "stdout",
     "output_type": "stream",
     "text": [
      "2021-11-18 11:36:54,237 -  WARNING -      cltl.brain.basic_brain.TypeReasoner - Failed to query Wikidata: HTTPSConnectionPool(host='query.wikidata.org', port=443): Read timed out. (read timeout=3)\n"
     ]
    },
    {
     "name": "stderr",
     "output_type": "stream",
     "text": [
      "Failed to query Wikidata: HTTPSConnectionPool(host='query.wikidata.org', port=443): Read timed out. (read timeout=3)\n"
     ]
    },
    {
     "name": "stdout",
     "output_type": "stream",
     "text": [
      "2021-11-18 11:36:54,933 -     INFO -      cltl.brain.basic_brain.TypeReasoner - Reasoned type of 4f2f9630-05a2-4826-831e-5a9cea4a247b to: None\n"
     ]
    },
    {
     "name": "stderr",
     "output_type": "stream",
     "text": [
      "Reasoned type of 4f2f9630-05a2-4826-831e-5a9cea4a247b to: None\n"
     ]
    },
    {
     "name": "stdout",
     "output_type": "stream",
     "text": [
      "2021-11-18 11:36:54,950 -     INFO -    cltl.brain.basic_brain.LongTermMemory - Triple in statement: person_perceivedin_4f2f9630-05a2-4826-831e-5a9cea4a247b [person_->_])\n"
     ]
    },
    {
     "name": "stderr",
     "output_type": "stream",
     "text": [
      "Triple in statement: person_perceivedin_4f2f9630-05a2-4826-831e-5a9cea4a247b [person_->_])\n"
     ]
    },
    {
     "name": "stdout",
     "output_type": "stream",
     "text": [
      "2021-11-18 11:36:54,966 -     INFO -  cltl.brain.basic_brain.ThoughtGenerator - Entity Novelty: existing subject - new object \n"
     ]
    },
    {
     "name": "stderr",
     "output_type": "stream",
     "text": [
      "Entity Novelty: existing subject - new object \n"
     ]
    },
    {
     "name": "stdout",
     "output_type": "stream",
     "text": [
      "2021-11-18 11:36:56,521 -     INFO -  cltl.brain.basic_brain.ThoughtGenerator - Gaps: 26 gaps as subject: e.g. be-friends-with person - 15 gaps as object: e.g. write-by book\n"
     ]
    },
    {
     "name": "stderr",
     "output_type": "stream",
     "text": [
      "Gaps: 26 gaps as subject: e.g. be-friends-with person - 15 gaps as object: e.g. write-by book\n"
     ]
    },
    {
     "name": "stdout",
     "output_type": "stream",
     "text": [
      "2021-11-18 11:36:59,611 -  WARNING -      cltl.brain.basic_brain.TypeReasoner - Failed to query Wikidata: HTTPSConnectionPool(host='query.wikidata.org', port=443): Read timed out. (read timeout=3)\n"
     ]
    },
    {
     "name": "stderr",
     "output_type": "stream",
     "text": [
      "Failed to query Wikidata: HTTPSConnectionPool(host='query.wikidata.org', port=443): Read timed out. (read timeout=3)\n"
     ]
    },
    {
     "name": "stdout",
     "output_type": "stream",
     "text": [
      "2021-11-18 11:37:00,209 -     INFO -      cltl.brain.basic_brain.TypeReasoner - Reasoned type of 4f2f9630-05a2-4826-831e-5a9cea4a247b to: None\n"
     ]
    },
    {
     "name": "stderr",
     "output_type": "stream",
     "text": [
      "Reasoned type of 4f2f9630-05a2-4826-831e-5a9cea4a247b to: None\n"
     ]
    },
    {
     "name": "stdout",
     "output_type": "stream",
     "text": [
      "2021-11-18 11:37:00,227 -     INFO -    cltl.brain.basic_brain.LongTermMemory - Triple in statement: person_perceivedin_4f2f9630-05a2-4826-831e-5a9cea4a247b [person_->_])\n"
     ]
    },
    {
     "name": "stderr",
     "output_type": "stream",
     "text": [
      "Triple in statement: person_perceivedin_4f2f9630-05a2-4826-831e-5a9cea4a247b [person_->_])\n"
     ]
    },
    {
     "name": "stdout",
     "output_type": "stream",
     "text": [
      "2021-11-18 11:37:00,233 -     INFO -  cltl.brain.basic_brain.ThoughtGenerator - Statement Novelty: 1 times, e.g. front-camera on November,2021\n"
     ]
    },
    {
     "name": "stderr",
     "output_type": "stream",
     "text": [
      "Statement Novelty: 1 times, e.g. front-camera on November,2021\n"
     ]
    },
    {
     "name": "stdout",
     "output_type": "stream",
     "text": [
      "2021-11-18 11:37:01,754 -     INFO -  cltl.brain.basic_brain.ThoughtGenerator - Gaps: 26 gaps as subject: e.g. like interest - 15 gaps as object: e.g. like-by interest\n"
     ]
    },
    {
     "name": "stderr",
     "output_type": "stream",
     "text": [
      "Gaps: 26 gaps as subject: e.g. like interest - 15 gaps as object: e.g. like-by interest\n"
     ]
    },
    {
     "name": "stdout",
     "output_type": "stream",
     "text": [
      "2021-11-18 11:37:04,835 -  WARNING -      cltl.brain.basic_brain.TypeReasoner - Failed to query Wikidata: HTTPSConnectionPool(host='query.wikidata.org', port=443): Read timed out. (read timeout=3)\n"
     ]
    },
    {
     "name": "stderr",
     "output_type": "stream",
     "text": [
      "Failed to query Wikidata: HTTPSConnectionPool(host='query.wikidata.org', port=443): Read timed out. (read timeout=3)\n"
     ]
    },
    {
     "name": "stdout",
     "output_type": "stream",
     "text": [
      "2021-11-18 11:37:05,477 -     INFO -      cltl.brain.basic_brain.TypeReasoner - Reasoned type of 4f2f9630-05a2-4826-831e-5a9cea4a247b to: None\n"
     ]
    },
    {
     "name": "stderr",
     "output_type": "stream",
     "text": [
      "Reasoned type of 4f2f9630-05a2-4826-831e-5a9cea4a247b to: None\n"
     ]
    },
    {
     "name": "stdout",
     "output_type": "stream",
     "text": [
      "2021-11-18 11:37:05,499 -     INFO -    cltl.brain.basic_brain.LongTermMemory - Triple in statement: bottle_perceivedin_4f2f9630-05a2-4826-831e-5a9cea4a247b [person_->_])\n"
     ]
    },
    {
     "name": "stderr",
     "output_type": "stream",
     "text": [
      "Triple in statement: bottle_perceivedin_4f2f9630-05a2-4826-831e-5a9cea4a247b [person_->_])\n"
     ]
    },
    {
     "name": "stdout",
     "output_type": "stream",
     "text": [
      "2021-11-18 11:37:05,513 -     INFO -  cltl.brain.basic_brain.ThoughtGenerator - Entity Novelty: new subject - existing object \n"
     ]
    },
    {
     "name": "stderr",
     "output_type": "stream",
     "text": [
      "Entity Novelty: new subject - existing object \n"
     ]
    },
    {
     "name": "stdout",
     "output_type": "stream",
     "text": [
      "2021-11-18 11:37:07,157 -     INFO -  cltl.brain.basic_brain.ThoughtGenerator - Gaps: 26 gaps as subject: e.g. experience touch - 15 gaps as object: e.g. be-child-of agent\n"
     ]
    },
    {
     "name": "stderr",
     "output_type": "stream",
     "text": [
      "Gaps: 26 gaps as subject: e.g. experience touch - 15 gaps as object: e.g. be-child-of agent\n"
     ]
    },
    {
     "name": "stdout",
     "output_type": "stream",
     "text": [
      "Leolani2: By the way while talking, I have been seeing a person a person and  a bottle\n"
     ]
    },
    {
     "name": "stdin",
     "output_type": "stream",
     "text": [
      "\n",
      " stop\n"
     ]
    },
    {
     "name": "stdout",
     "output_type": "stream",
     "text": [
      "Fred: stop\n"
     ]
    }
   ],
   "source": [
    "import random\n",
    "print_details=False\n",
    "#### Initial prompt by the system from which we create a TextSignal and store it\n",
    "initial_prompt = f\"{choice(TALK_TO_ME)}\"\n",
    "print(AGENT + \": \" + initial_prompt)\n",
    "textSignal = d_util.create_text_signal(scenario_ctrl, initial_prompt)\n",
    "scenario_ctrl.append_signal(textSignal)\n",
    "\n",
    "utterance = \"\"\n",
    "utterance = input('\\n')\n",
    "print(HUMAN_NAME + \": \" + utterance)\n",
    "\n",
    "#### Get input and loop\n",
    "while not (utterance.lower() == 'stop' or utterance.lower() == 'bye'):\n",
    "    ###### Getting the next input signals\n",
    "    textSignal = d_util.create_text_signal(scenario_ctrl, utterance)\n",
    "    scenario_ctrl.append_signal(textSignal)\n",
    "\n",
    "    capsule, reply = talk.process_text_and_reply(scenario_ctrl,\n",
    "                           place_id,\n",
    "                           location,\n",
    "                           HUMAN_ID,\n",
    "                           textSignal,\n",
    "                           chat,\n",
    "                           replier,\n",
    "                           my_brain,\n",
    "                           print_details)\n",
    "\n",
    "\n",
    "    print(AGENT + \": \" + reply)\n",
    "    textSignal = d_util.create_text_signal(scenario_ctrl, reply)\n",
    "    scenario_ctrl.append_signal(textSignal)\n",
    "    what_do_i_see = respond_to_an_image(camera, \n",
    "                                        imagefolder, \n",
    "                                        scenario_ctrl, \n",
    "                                        place_id, \n",
    "                                        location, \n",
    "                                        HUMAN_ID, \n",
    "                                        my_brain, \n",
    "                                        replier,\n",
    "                                       False)\n",
    "\n",
    "    reply = \"By the way while talking, I have been seeing\"\n",
    "    for index, object in enumerate(what_do_i_see):\n",
    "        if index==len(what_do_i_see)-1:\n",
    "            reply += \" and \"\n",
    "        reply += \" a \"+object\n",
    "\n",
    "    print(AGENT + \": \" + reply)\n",
    "    textSignal = d_util.create_text_signal(scenario_ctrl, reply)\n",
    "    scenario_ctrl.append_signal(textSignal)\n",
    "\n",
    "    # Get the next input signal from the user\n",
    "    utterance = input(\"\\n\")\n",
    "    print(HUMAN_NAME + \": \" + utterance)\n",
    "\n",
    "    time.sleep(2)\n",
    "\n",
    "    ### We now have a new input check if the user wants to continue"
   ]
  },
  {
   "cell_type": "markdown",
   "metadata": {},
   "source": [
    "### Set the end time of the scenario, save it and stop the containers\n",
    "\n",
    "After we stopped the interaction, we set the end time and save the scenario as EMISSOR data."
   ]
  },
  {
   "cell_type": "code",
   "execution_count": 31,
   "metadata": {},
   "outputs": [],
   "source": [
    "scenario_ctrl.scenario.ruler.end = int(time.time() * 1e3)\n",
    "scenarioStorage.save_scenario(scenario_ctrl)"
   ]
  },
  {
   "cell_type": "code",
   "execution_count": 32,
   "metadata": {},
   "outputs": [],
   "source": [
    "### Stopping the docker containers\n",
    "### This is only needed of you started them in this notebook\n",
    "#f_util.kill_container(container_fdr)\n",
    "#f_util.kill_container(container_ag)"
   ]
  },
  {
   "cell_type": "code",
   "execution_count": 33,
   "metadata": {},
   "outputs": [],
   "source": [
    "#### Stop the camera when we are done\n",
    "camera.release()"
   ]
  },
  {
   "cell_type": "markdown",
   "metadata": {},
   "source": [
    "## End of notebook"
   ]
  },
  {
   "cell_type": "code",
   "execution_count": null,
   "metadata": {},
   "outputs": [],
   "source": []
  }
 ],
 "metadata": {
  "kernelspec": {
   "display_name": "venv",
   "language": "python",
   "name": "venv"
  },
  "language_info": {
   "codemirror_mode": {
    "name": "ipython",
    "version": 3
   },
   "file_extension": ".py",
   "mimetype": "text/x-python",
   "name": "python",
   "nbconvert_exporter": "python",
   "pygments_lexer": "ipython3",
   "version": "3.7.6"
  }
 },
 "nbformat": 4,
 "nbformat_minor": 4
}
