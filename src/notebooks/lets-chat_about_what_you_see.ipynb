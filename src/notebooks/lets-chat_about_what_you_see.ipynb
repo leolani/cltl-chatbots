{
 "cells": [
  {
   "cell_type": "markdown",
   "metadata": {},
   "source": [
    "# Let's chat with a friend and I have a brain"
   ]
  },
  {
   "cell_type": "markdown",
   "metadata": {},
   "source": [
    "Demo chat with Leolani that combine face recognition and storage in the BRAIN. This notebook combines the functions of two other notebooks:\n"
   ]
  },
  {
   "cell_type": "code",
   "execution_count": 1,
   "metadata": {},
   "outputs": [
    {
     "name": "stderr",
     "output_type": "stream",
     "text": [
      "/Users/piek/PycharmProjects/cltl-chatbots/chatvenv/lib/python3.9/site-packages/rdflib_jsonld/__init__.py:9: DeprecationWarning: The rdflib-jsonld package has been integrated into rdflib as of rdflib==6.0.1.  Please remove rdflib-jsonld from your project's dependencies.\n",
      "  warnings.warn(\n"
     ]
    }
   ],
   "source": [
    "# general imports for EMISSOR and the BRAIN\n",
    "import emissor as em\n",
    "from cltl import brain\n",
    "from cltl.triple_extraction.api import Chat, UtteranceHypothesis\n",
    "from emissor.persistence import ScenarioStorage\n",
    "from emissor.representation.annotation import AnnotationType, Token, NER\n",
    "from emissor.representation.container import Index\n",
    "from emissor.representation.scenario import Modality, ImageSignal, TextSignal, Mention, Annotation, Scenario\n",
    "from cltl.brain.long_term_memory import LongTermMemory\n",
    "from cltl.combot.backend.api.discrete import UtteranceType\n",
    "from cltl.reply_generation.data.sentences import GREETING, ASK_NAME, ELOQUENCE, TALK_TO_ME\n",
    "from cltl.reply_generation.lenka_replier import LenkaReplier\n",
    "from cltl.triple_extraction.api import Chat, UtteranceHypothesis\n",
    "from cltl.brain.utils.helper_functions import brain_response_to_json\n",
    "\n",
    "\n",
    "# specific imports\n",
    "import uuid\n",
    "from datetime import datetime\n",
    "import time\n",
    "import cv2\n",
    "import requests\n",
    "import pickle\n",
    "import jsonpickle"
   ]
  },
  {
   "cell_type": "code",
   "execution_count": 2,
   "metadata": {},
   "outputs": [],
   "source": [
    "import sys\n",
    "import os\n",
    "\n",
    "src_path = os.path.abspath(os.path.join('..'))\n",
    "if src_path not in sys.path:\n",
    "    sys.path.append(src_path)\n",
    "\n",
    "#### The next utils are needed for the interaction and creating triples and capsules\n",
    "import chatbots.util.driver_util as d_util\n",
    "import chatbots.util.capsule_util as c_util\n",
    "import chatbots.intentions.talk as talk\n",
    "import chatbots.util.face_util as f_util\n",
    "import chatbots.intentions.get_to_know_you as friend"
   ]
  },
  {
   "cell_type": "markdown",
   "metadata": {},
   "source": [
    "### Connect to the camera"
   ]
  },
  {
   "cell_type": "code",
   "execution_count": 3,
   "metadata": {},
   "outputs": [],
   "source": [
    "### Link your camera\n",
    "camera = cv2.VideoCapture(0)"
   ]
  },
  {
   "cell_type": "markdown",
   "metadata": {},
   "source": [
    "### Initialise the BRAIN"
   ]
  },
  {
   "cell_type": "code",
   "execution_count": 4,
   "metadata": {},
   "outputs": [
    {
     "name": "stdout",
     "output_type": "stream",
     "text": [
      "2022-04-12 16:44:28,681 -     INFO -    cltl.brain.basic_brain.LongTermMemory - Booted\n"
     ]
    },
    {
     "name": "stderr",
     "output_type": "stream",
     "text": [
      "2022-04-12 16:44:28 -     INFO -                        cltl.brain.basic_brain.LongTermMemory - Booted\n"
     ]
    },
    {
     "name": "stdout",
     "output_type": "stream",
     "text": [
      "2022-04-12 16:44:50,982 -     INFO -    cltl.brain.basic_brain.LongTermMemory - Uploading ontology to brain\n"
     ]
    },
    {
     "name": "stderr",
     "output_type": "stream",
     "text": [
      "2022-04-12 16:44:50 -     INFO -                        cltl.brain.basic_brain.LongTermMemory - Uploading ontology to brain\n"
     ]
    },
    {
     "name": "stdout",
     "output_type": "stream",
     "text": [
      "2022-04-12 16:44:55,180 -     INFO -  cltl.brain.basic_brain.ThoughtGenerator - Booted\n"
     ]
    },
    {
     "name": "stderr",
     "output_type": "stream",
     "text": [
      "2022-04-12 16:44:55 -     INFO -                      cltl.brain.basic_brain.ThoughtGenerator - Booted\n"
     ]
    },
    {
     "name": "stdout",
     "output_type": "stream",
     "text": [
      "2022-04-12 16:44:55,183 -     INFO -  cltl.brain.basic_brain.LocationReasoner - Booted\n"
     ]
    },
    {
     "name": "stderr",
     "output_type": "stream",
     "text": [
      "2022-04-12 16:44:55 -     INFO -                      cltl.brain.basic_brain.LocationReasoner - Booted\n"
     ]
    },
    {
     "name": "stdout",
     "output_type": "stream",
     "text": [
      "2022-04-12 16:44:55,185 -     INFO -      cltl.brain.basic_brain.TypeReasoner - Booted\n"
     ]
    },
    {
     "name": "stderr",
     "output_type": "stream",
     "text": [
      "2022-04-12 16:44:55 -     INFO -                          cltl.brain.basic_brain.TypeReasoner - Booted\n"
     ]
    },
    {
     "name": "stdout",
     "output_type": "stream",
     "text": [
      "2022-04-12 16:44:55,188 -     INFO -   cltl.brain.basic_brain.TrustCalculator - Booted\n"
     ]
    },
    {
     "name": "stderr",
     "output_type": "stream",
     "text": [
      "2022-04-12 16:44:55 -     INFO -                       cltl.brain.basic_brain.TrustCalculator - Booted\n"
     ]
    },
    {
     "name": "stdout",
     "output_type": "stream",
     "text": [
      "2022-04-12 16:44:55,532 -     INFO -   cltl.brain.basic_brain.TrustCalculator - Computed trust for all known agents\n"
     ]
    },
    {
     "name": "stderr",
     "output_type": "stream",
     "text": [
      "2022-04-12 16:44:55 -     INFO -                       cltl.brain.basic_brain.TrustCalculator - Computed trust for all known agents\n"
     ]
    }
   ],
   "source": [
    "# Initialise the brain in GraphDB\n",
    "import pathlib\n",
    "\n",
    "log_path = pathlib.Path('./logs')\n",
    "my_brain = brain.LongTermMemory(address=\"http://localhost:7200/repositories/sandbox\",\n",
    "                                log_dir=log_path,\n",
    "                                clear_all=True)"
   ]
  },
  {
   "cell_type": "markdown",
   "metadata": {},
   "source": [
    "## Create an instance of a replier"
   ]
  },
  {
   "cell_type": "code",
   "execution_count": 5,
   "metadata": {},
   "outputs": [
    {
     "name": "stdout",
     "output_type": "stream",
     "text": [
      "2022-04-12 16:44:55,538 -     INFO -   cltl.reply_generation.api.LenkaReplier - Booted\n"
     ]
    },
    {
     "name": "stderr",
     "output_type": "stream",
     "text": [
      "2022-04-12 16:44:55 -     INFO -                       cltl.reply_generation.api.LenkaReplier - Booted\n"
     ]
    }
   ],
   "source": [
    "replier = LenkaReplier()"
   ]
  },
  {
   "cell_type": "markdown",
   "metadata": {},
   "source": [
    "## Standard initialisation of a scenario"
   ]
  },
  {
   "cell_type": "code",
   "execution_count": 6,
   "metadata": {},
   "outputs": [
    {
     "name": "stdout",
     "output_type": "stream",
     "text": [
      "The paths with the friends: /Users/piek/PycharmProjects/cltl-chatbots/friend_embeddings\n",
      "Directories for 2022-04-12-16:44:55 created in /Users/piek/PycharmProjects/cltl-chatbots/data\n"
     ]
    }
   ],
   "source": [
    "from random import getrandbits, choice\n",
    "import requests\n",
    "##### Setting the location\n",
    "place_id = getrandbits(8)\n",
    "location = None\n",
    "try:\n",
    "    location = requests.get(\"https://ipinfo.io\").json()\n",
    "except:\n",
    "    print(\"failed to get the IP location\")\n",
    "    \n",
    "##### Setting the agents\n",
    "AGENT = \"Leolani2\"\n",
    "HUMAN_NAME = \"Stranger\"\n",
    "HUMAN_ID = \"stranger\"\n",
    "\n",
    "### The name of your scenario\n",
    "scenario_id = datetime.today().strftime(\"%Y-%m-%d-%H:%M:%S\")\n",
    "\n",
    "### Specify the path to an existing data folder where your scenario is created and saved as a subfolder\n",
    "# Find the repository root dir\n",
    "parent, dir_name = (d_util.__file__, \"_\")\n",
    "while dir_name and dir_name != \"src\":\n",
    "    parent, dir_name = os.path.split(parent)\n",
    "root_dir = parent\n",
    "scenario_path = os.path.abspath(os.path.join(root_dir, 'data'))\n",
    "\n",
    "if scenario_path not in sys.path:\n",
    "    sys.path.append(scenario_path)\n",
    "\n",
    "if not os.path.exists(scenario_path) :\n",
    "    os.mkdir(scenario_path)\n",
    "    print(\"Created a data folder for storing the scenarios\", scenario_path)\n",
    "\n",
    "### Specify the path to an existing folder with the embeddings of your friends\n",
    "friends_path = os.path.abspath(os.path.join(root_dir, 'friend_embeddings'))\n",
    "if friends_path not in sys.path:\n",
    "    sys.path.append(friends_path)\n",
    "    print(\"The paths with the friends:\", friends_path)\n",
    "    \n",
    "### Define the folders where the images and rdf triples are saved\n",
    "imagefolder = scenario_path + \"/\" + scenario_id + \"/\" + \"image\"\n",
    "rdffolder = scenario_path + \"/\" + scenario_id + \"/\" + \"rdf\"\n",
    "\n",
    "\n",
    "### Create the scenario folder, the json files and a scenarioStorage and scenario in memory\n",
    "scenarioStorage = d_util.create_scenario(scenario_path, scenario_id)\n",
    "scenario_ctrl = scenarioStorage.create_scenario(scenario_id, int(time.time() * 1e3), None, AGENT)"
   ]
  },
  {
   "cell_type": "markdown",
   "metadata": {},
   "source": [
    "## Loading the docker containers for face detection and face property detection"
   ]
  },
  {
   "cell_type": "markdown",
   "metadata": {},
   "source": [
    "#### If the docker images are running you can skip the next part"
   ]
  },
  {
   "cell_type": "code",
   "execution_count": 7,
   "metadata": {},
   "outputs": [
    {
     "name": "stdout",
     "output_type": "stream",
     "text": [
      "Unable to find image 'tae898/yolov5' locally\n",
      "Using default tag: latest\n",
      "latest: Pulling from tae898/yolov5\n",
      "f3ef4ff62e0d: Pulling fs layer\n",
      "0a5a58fe9f80: Pulling fs layer\n",
      "ffe911d7d638: Pulling fs layer\n",
      "b6ca3d91503f: Pulling fs layer\n",
      "2153f05ef7a8: Pulling fs layer\n",
      "960ad9fc339d: Pulling fs layer\n",
      "423cea99f7d2: Pulling fs layer\n",
      "ea4474a67b49: Pulling fs layer\n",
      "b397fb86b3bc: Pulling fs layer\n",
      "927627363759: Pulling fs layer\n",
      "312d920fedcc: Pulling fs layer\n",
      "7a50c2cfea6b: Pulling fs layer\n",
      "06daa3d0f46c: Pulling fs layer\n",
      "aec116761f98: Pulling fs layer\n",
      "2812dcb9b1f1: Pulling fs layer\n",
      "0b40e0143bfd: Pulling fs layer\n",
      "0617ebfc4a21: Pulling fs layer\n",
      "45a7802e347f: Pulling fs layer\n",
      "9c3aac051d0f: Pulling fs layer\n",
      "c06cf176a9ca: Pulling fs layer\n",
      "6790e5e29cc3: Pulling fs layer\n",
      "896ac25d66a9: Pulling fs layer\n",
      "7dfa990e7e17: Pulling fs layer\n",
      "9c0ad29545c4: Pulling fs layer\n",
      "10c826feeab7: Pulling fs layer\n",
      "7586e32d8197: Pulling fs layer\n",
      "4b15b5b33bf7: Pulling fs layer\n",
      "57e6549ecb9d: Pulling fs layer\n",
      "6ad6cc7591f4: Pulling fs layer\n",
      "42f060f227fb: Pulling fs layer\n",
      "011b1f6b6400: Pulling fs layer\n",
      "9e53e4417963: Pulling fs layer\n",
      "ca666d4eaa20: Pulling fs layer\n",
      "d1f7400b2d3f: Pulling fs layer\n",
      "54369ed1d3f1: Pulling fs layer\n",
      "1c729a9c37b3: Pulling fs layer\n",
      "e1578f4858a1: Pulling fs layer\n",
      "74181d60a1e2: Pulling fs layer\n",
      "50ddcf676259: Pulling fs layer\n",
      "21bcddf58d24: Pulling fs layer\n",
      "2bbd488a8a42: Pulling fs layer\n",
      "908ee1b12e54: Pulling fs layer\n",
      "b47a76672e02: Pulling fs layer\n",
      "75b1c4237463: Pulling fs layer\n",
      "b04a25f7a069: Pulling fs layer\n",
      "f4b2df38716c: Pulling fs layer\n",
      "a0b7791628b2: Pulling fs layer\n",
      "ef76ad566004: Pulling fs layer\n",
      "afe1fa489351: Pulling fs layer\n",
      "d11180edb78f: Pulling fs layer\n",
      "8b703351d31b: Pulling fs layer\n",
      "ae16429c29b3: Pulling fs layer\n",
      "51065c2f605b: Pulling fs layer\n",
      "421dd65d1507: Pulling fs layer\n",
      "7d08e51a6a51: Pulling fs layer\n",
      "8b6b9fb2335d: Pulling fs layer\n",
      "273d46f0c521: Pulling fs layer\n",
      "cd5c79c8e033: Pulling fs layer\n",
      "496573f364fa: Pulling fs layer\n",
      "893222044a8c: Pulling fs layer\n",
      "b8076638c402: Pulling fs layer\n",
      "bc3a9f7a5fef: Pulling fs layer\n",
      "2d029ff65a46: Pulling fs layer\n",
      "9c3aac051d0f: Waiting\n",
      "c06cf176a9ca: Waiting\n",
      "6790e5e29cc3: Waiting\n",
      "896ac25d66a9: Waiting\n",
      "7dfa990e7e17: Waiting\n",
      "9c0ad29545c4: Waiting\n",
      "10c826feeab7: Waiting\n",
      "7586e32d8197: Waiting\n",
      "4b15b5b33bf7: Waiting\n",
      "57e6549ecb9d: Waiting\n",
      "ef76ad566004: Waiting\n",
      "6ad6cc7591f4: Waiting\n",
      "afe1fa489351: Waiting\n",
      "d11180edb78f: Waiting\n",
      "42f060f227fb: Waiting\n",
      "8b703351d31b: Waiting\n",
      "011b1f6b6400: Waiting\n",
      "ae16429c29b3: Waiting\n",
      "9e53e4417963: Waiting\n",
      "51065c2f605b: Waiting\n",
      "ca666d4eaa20: Waiting\n",
      "421dd65d1507: Waiting\n",
      "d1f7400b2d3f: Waiting\n",
      "7d08e51a6a51: Waiting\n",
      "54369ed1d3f1: Waiting\n",
      "8b6b9fb2335d: Waiting\n",
      "1c729a9c37b3: Waiting\n",
      "273d46f0c521: Waiting\n",
      "e1578f4858a1: Waiting\n",
      "cd5c79c8e033: Waiting\n",
      "74181d60a1e2: Waiting\n",
      "496573f364fa: Waiting\n",
      "50ddcf676259: Waiting\n",
      "893222044a8c: Waiting\n",
      "21bcddf58d24: Waiting\n",
      "b8076638c402: Waiting\n",
      "2bbd488a8a42: Waiting\n",
      "bc3a9f7a5fef: Waiting\n",
      "908ee1b12e54: Waiting\n",
      "2d029ff65a46: Waiting\n",
      "b47a76672e02: Waiting\n",
      "75b1c4237463: Waiting\n",
      "b04a25f7a069: Waiting\n",
      "927627363759: Waiting\n",
      "f4b2df38716c: Waiting\n",
      "312d920fedcc: Waiting\n",
      "a0b7791628b2: Waiting\n",
      "7a50c2cfea6b: Waiting\n",
      "aec116761f98: Waiting\n",
      "2812dcb9b1f1: Waiting\n",
      "0617ebfc4a21: Waiting\n",
      "45a7802e347f: Waiting\n",
      "ea4474a67b49: Waiting\n",
      "960ad9fc339d: Waiting\n",
      "423cea99f7d2: Waiting\n",
      "b397fb86b3bc: Waiting\n",
      "b6ca3d91503f: Waiting\n",
      "0b40e0143bfd: Waiting\n",
      "f3ef4ff62e0d: Verifying Checksum\n",
      "f3ef4ff62e0d: Download complete\n",
      "b6ca3d91503f: Verifying Checksum\n",
      "b6ca3d91503f: Download complete\n",
      "2153f05ef7a8: Download complete\n",
      "f3ef4ff62e0d: Pull complete\n",
      "960ad9fc339d: Verifying Checksum\n",
      "960ad9fc339d: Download complete\n",
      "423cea99f7d2: Download complete\n",
      "0a5a58fe9f80: Download complete\n",
      "ea4474a67b49: Download complete\n",
      "b397fb86b3bc: Verifying Checksum\n",
      "b397fb86b3bc: Download complete\n",
      "927627363759: Verifying Checksum\n",
      "927627363759: Download complete\n",
      "312d920fedcc: Download complete\n",
      "06daa3d0f46c: Download complete\n",
      "ffe911d7d638: Verifying Checksum\n",
      "ffe911d7d638: Download complete\n",
      "aec116761f98: Verifying Checksum\n",
      "aec116761f98: Download complete\n",
      "2812dcb9b1f1: Verifying Checksum\n",
      "2812dcb9b1f1: Download complete\n",
      "0b40e0143bfd: Verifying Checksum\n",
      "0b40e0143bfd: Download complete\n",
      "0617ebfc4a21: Verifying Checksum\n",
      "0617ebfc4a21: Download complete\n",
      "0a5a58fe9f80: Pull complete\n",
      "45a7802e347f: Verifying Checksum\n",
      "45a7802e347f: Download complete\n",
      "ffe911d7d638: Pull complete\n",
      "b6ca3d91503f: Pull complete\n",
      "2153f05ef7a8: Pull complete\n",
      "960ad9fc339d: Pull complete\n",
      "423cea99f7d2: Pull complete\n",
      "ea4474a67b49: Pull complete\n",
      "b397fb86b3bc: Pull complete\n",
      "927627363759: Pull complete\n",
      "9c3aac051d0f: Download complete\n",
      "312d920fedcc: Pull complete\n",
      "c06cf176a9ca: Verifying Checksum\n",
      "c06cf176a9ca: Download complete\n",
      "6790e5e29cc3: Verifying Checksum\n",
      "6790e5e29cc3: Download complete\n",
      "7dfa990e7e17: Verifying Checksum\n",
      "7dfa990e7e17: Download complete\n",
      "9c0ad29545c4: Verifying Checksum\n",
      "9c0ad29545c4: Download complete\n",
      "896ac25d66a9: Verifying Checksum\n",
      "896ac25d66a9: Download complete\n",
      "7586e32d8197: Download complete\n",
      "4b15b5b33bf7: Download complete\n",
      "57e6549ecb9d: Verifying Checksum\n",
      "57e6549ecb9d: Download complete\n",
      "10c826feeab7: Verifying Checksum\n",
      "10c826feeab7: Download complete\n",
      "6ad6cc7591f4: Verifying Checksum\n",
      "6ad6cc7591f4: Download complete\n",
      "42f060f227fb: Verifying Checksum\n",
      "42f060f227fb: Download complete\n",
      "9e53e4417963: Verifying Checksum\n",
      "9e53e4417963: Download complete\n",
      "ca666d4eaa20: Verifying Checksum\n",
      "ca666d4eaa20: Download complete\n",
      "011b1f6b6400: Verifying Checksum\n",
      "011b1f6b6400: Download complete\n",
      "54369ed1d3f1: Download complete\n",
      "d1f7400b2d3f: Verifying Checksum\n",
      "d1f7400b2d3f: Download complete\n",
      "e1578f4858a1: Verifying Checksum\n",
      "e1578f4858a1: Download complete\n",
      "74181d60a1e2: Verifying Checksum\n",
      "74181d60a1e2: Download complete\n",
      "1c729a9c37b3: Verifying Checksum\n",
      "1c729a9c37b3: Download complete\n",
      "21bcddf58d24: Verifying Checksum\n",
      "21bcddf58d24: Download complete\n",
      "2bbd488a8a42: Verifying Checksum\n",
      "2bbd488a8a42: Download complete\n",
      "908ee1b12e54: Verifying Checksum\n",
      "908ee1b12e54: Download complete\n",
      "b47a76672e02: Verifying Checksum\n",
      "b47a76672e02: Download complete\n",
      "75b1c4237463: Verifying Checksum\n",
      "75b1c4237463: Download complete\n",
      "b04a25f7a069: Verifying Checksum\n",
      "b04a25f7a069: Download complete\n",
      "f4b2df38716c: Verifying Checksum\n",
      "f4b2df38716c: Download complete\n",
      "a0b7791628b2: Verifying Checksum\n",
      "a0b7791628b2: Download complete\n",
      "ef76ad566004: Verifying Checksum\n",
      "ef76ad566004: Download complete\n",
      "afe1fa489351: Verifying Checksum\n",
      "afe1fa489351: Download complete\n",
      "d11180edb78f: Verifying Checksum\n",
      "d11180edb78f: Download complete\n",
      "8b703351d31b: Verifying Checksum\n",
      "8b703351d31b: Download complete\n",
      "ae16429c29b3: Verifying Checksum\n",
      "ae16429c29b3: Download complete\n",
      "51065c2f605b: Verifying Checksum\n",
      "51065c2f605b: Download complete\n",
      "421dd65d1507: Verifying Checksum\n",
      "421dd65d1507: Download complete\n",
      "7d08e51a6a51: Download complete\n",
      "8b6b9fb2335d: Verifying Checksum\n",
      "8b6b9fb2335d: Download complete\n",
      "273d46f0c521: Verifying Checksum\n",
      "273d46f0c521: Download complete\n",
      "cd5c79c8e033: Verifying Checksum\n",
      "cd5c79c8e033: Download complete\n",
      "496573f364fa: Verifying Checksum\n",
      "496573f364fa: Download complete\n",
      "50ddcf676259: Verifying Checksum\n",
      "50ddcf676259: Download complete\n",
      "b8076638c402: Download complete\n",
      "bc3a9f7a5fef: Verifying Checksum\n",
      "bc3a9f7a5fef: Download complete\n",
      "2d029ff65a46: Verifying Checksum\n",
      "2d029ff65a46: Download complete\n",
      "7a50c2cfea6b: Verifying Checksum\n",
      "7a50c2cfea6b: Download complete\n",
      "893222044a8c: Verifying Checksum\n",
      "893222044a8c: Download complete\n",
      "7a50c2cfea6b: Pull complete\n",
      "06daa3d0f46c: Pull complete\n",
      "aec116761f98: Pull complete\n",
      "2812dcb9b1f1: Pull complete\n",
      "0b40e0143bfd: Pull complete\n",
      "0617ebfc4a21: Pull complete\n",
      "45a7802e347f: Pull complete\n",
      "9c3aac051d0f: Pull complete\n",
      "c06cf176a9ca: Pull complete\n",
      "6790e5e29cc3: Pull complete\n",
      "896ac25d66a9: Pull complete\n",
      "7dfa990e7e17: Pull complete\n",
      "9c0ad29545c4: Pull complete\n",
      "10c826feeab7: Pull complete\n",
      "7586e32d8197: Pull complete\n",
      "4b15b5b33bf7: Pull complete\n",
      "57e6549ecb9d: Pull complete\n",
      "6ad6cc7591f4: Pull complete\n",
      "42f060f227fb: Pull complete\n",
      "011b1f6b6400: Pull complete\n",
      "9e53e4417963: Pull complete\n",
      "ca666d4eaa20: Pull complete\n",
      "d1f7400b2d3f: Pull complete\n",
      "54369ed1d3f1: Pull complete\n",
      "1c729a9c37b3: Pull complete\n",
      "e1578f4858a1: Pull complete\n",
      "74181d60a1e2: Pull complete\n",
      "50ddcf676259: Pull complete\n",
      "21bcddf58d24: Pull complete\n",
      "2bbd488a8a42: Pull complete\n",
      "908ee1b12e54: Pull complete\n",
      "b47a76672e02: Pull complete\n",
      "75b1c4237463: Pull complete\n",
      "b04a25f7a069: Pull complete\n",
      "f4b2df38716c: Pull complete\n",
      "a0b7791628b2: Pull complete\n",
      "ef76ad566004: Pull complete\n",
      "afe1fa489351: Pull complete\n",
      "d11180edb78f: Pull complete\n",
      "8b703351d31b: Pull complete\n",
      "ae16429c29b3: Pull complete\n",
      "51065c2f605b: Pull complete\n",
      "421dd65d1507: Pull complete\n",
      "7d08e51a6a51: Pull complete\n",
      "8b6b9fb2335d: Pull complete\n",
      "273d46f0c521: Pull complete\n",
      "cd5c79c8e033: Pull complete\n",
      "496573f364fa: Pull complete\n",
      "893222044a8c: Pull complete\n",
      "b8076638c402: Pull complete\n",
      "bc3a9f7a5fef: Pull complete\n",
      "2d029ff65a46: Pull complete\n",
      "Digest: sha256:db2512a9bb0a8be65185492c3c53596aea5a423825c23597b52ef137d75cc87b\n",
      "Status: Downloaded newer image for tae898/yolov5:latest\n",
      "docker.io/tae898/yolov5:latest\n"
     ]
    },
    {
     "name": "stderr",
     "output_type": "stream",
     "text": [
      "2022-04-12 16:52:36 -     INFO -                                                         root - starting a tae898/yolov5 container ...\n"
     ]
    }
   ],
   "source": [
    "### This is only needed if you start the docker containers from this notebook\n",
    "\n",
    "#container_fdr = f_util.start_docker_container(\"tae898/face-detection-recognition:v0.1\", 10002)\n",
    "#container_ag = f_util.start_docker_container(\"tae898/age-gender:v0.2\", 10003)\n",
    "container_yolo = f_util.start_docker_container(\"tae898/yolov5\", 10004)"
   ]
  },
  {
   "cell_type": "markdown",
   "metadata": {},
   "source": [
    "If there is a problem starting the dockers, you may need to kill them and start them again. Use the following command to kill and rerun the previous command. Note that if there are running already you should not restart. Starting it again gives an error that the port is occupied."
   ]
  },
  {
   "cell_type": "code",
   "execution_count": 10,
   "metadata": {},
   "outputs": [
    {
     "name": "stdout",
     "output_type": "stream",
     "text": [
      "5d8d9c648110\n",
      "8524d4182698\n",
      "9b1c993160dd\n"
     ]
    }
   ],
   "source": [
    "#!docker kill $(docker ps -q)"
   ]
  },
  {
   "cell_type": "markdown",
   "metadata": {},
   "source": [
    "## Extracting and storing triples from an utterance"
   ]
  },
  {
   "cell_type": "markdown",
   "metadata": {},
   "source": [
    "The next function processes any textSignal using the baseline language model from the Leolani platform.\n",
    "This model uses a context-free grammar and closed-class lexicons specifically designed for social robot interaction.\n",
    "\n",
    "The function creates a capsule for posting any triples and perspective to the BRAIN.\n",
    "If no triples are extracted, a dummy prompt is returned: \"Any gossip?\".\n",
    "\n",
    "Any thoughts coming from the BRAIN are returned."
   ]
  },
  {
   "cell_type": "markdown",
   "metadata": {},
   "source": [
    "## Create a new friend.\n",
    "\n",
    "The functions in *intentions/get_to_know_you.py* are needed to get the properties and visual information for identifying a new friend.\n",
    "\n",
    "The visual information is based on the camera images of the uses from which we extract an averaged embedding.\n",
    "These embeddings are store in the *friend_embeddings* folder. \n",
    "\n",
    "By comparing an image with the stored embeddings, the system decides whether a person is a *stranger*.\n",
    "In case the user is a *stranger*, the system will try to get to know him/her.\n",
    "\n",
    "If you delete someone's embeddings from the *friend_embeddings* folder. This person will become a *stranger* again."
   ]
  },
  {
   "cell_type": "code",
   "execution_count": 9,
   "metadata": {},
   "outputs": [
    {
     "name": "stderr",
     "output_type": "stream",
     "text": [
      "/Users/piek/PycharmProjects/cltl-chatbots/data/2021-11-18-13:01:52/image/1637236912068.png image loaded!\n",
      "got <Response [200]> from server!...\n",
      "1 faces deteced!\n",
      "got <Response [200]> from server!...\n",
      "got <Response [200]> from server!...\n",
      "YOLO image annotation is done!\n",
      "Annotating face, genders, and ages is done!\n",
      "image annotation is done!\n",
      "image saved at /Users/piek/PycharmProjects/cltl-chatbots/data/2021-11-18-13:01:52/image/1637236912068.png.ANNOTATED.jpg\n"
     ]
    },
    {
     "name": "stdout",
     "output_type": "stream",
     "text": [
      "Leolani2: Hi Fred. Nice to see you again. How are you today?\n",
      "\n"
     ]
    }
   ],
   "source": [
    "def parse_age(face_info):\n",
    "    return round(face_info.age[\"mean\"])\n",
    "def parse_gender(face_info):\n",
    "    return \"male\" if face_info.gender[\"m\"] > 0.5 else \"female\"\n",
    "def parse_bbox(face_info):\n",
    "    return [int(num) for num in face_info.bbox.tolist()]\n",
    "def parse_id(face_info):\n",
    "    return face_info.face_id['name'] if 'name' in face_info.face_id else f\"Stranger_t_{int(time.time() * 1e3)}\"\n",
    "def parse_name(face_info):\n",
    "    face_id = parse_id(face_info)\n",
    "    return face_id.split(\"_t_\")[0] if face_id else \"Stranger\"\n",
    "\n",
    "# First signals to get started\n",
    "faces =[]\n",
    "while not len(faces) == 1:\n",
    "    success, frame = camera.read()\n",
    "    if not success:\n",
    "        raise ValueError(\"Failed to take a picture\")\n",
    "        \n",
    "    image_time = int(time.time() * 1e3)\n",
    "    imagepath = d_util.absolute_path(scenarioStorage, scenario_id, Modality.IMAGE, f\"{image_time}.png\")\n",
    "    cv2.imwrite(imagepath, frame)\n",
    "    \n",
    "    faces = f_util.detect_faces(friends_path, imagepath)\n",
    "    \n",
    "    image_bbox = (0, 0, frame.shape[1], frame.shape[0])\n",
    "    imageSignal = d_util.create_image_signal(scenario_ctrl, f\"{image_time}.png\", image_bbox, image_time)\n",
    "    mentions = [f_util.create_face_mention(imageSignal, \"front_camera\", image_time,\n",
    "                                           parse_bbox(face), parse_id(face), parse_name(face),\n",
    "                                           parse_age(face), parse_gender(face), face.det_score)\n",
    "                for face in faces]\n",
    "    \n",
    "    imageSignal.mentions.extend(mentions)\n",
    "    scenario_ctrl.append_signal(imageSignal)\n",
    "\n",
    "    if not faces:\n",
    "        response = \"Hi, anyone there? I can't see you..\"\n",
    "        time.sleep(3)\n",
    "    elif len(faces) > 1:\n",
    "        response = \"Hi there! Apologizes, but I will only talk to one of you at a time..\"\n",
    "        time.sleep(3)\n",
    "    else:\n",
    "        face = faces[0]\n",
    "        if parse_id(face) is None:\n",
    "            ### This is a stranger, we process the new face\n",
    "            HUMAN_ID, HUMAN_NAME, _ = friend.get_to_know_person(scenario_ctrl, AGENT, parse_gender(face),\n",
    "                                                                parse_age(face), face.face_id, face.embedding,\n",
    "                                                                friends_path)\n",
    "            HUMAN_ID = HUMAN_NAME  ### Hack because we cannot force the namespace through capsules, name and identity are the same till this is fixed\n",
    "\n",
    "\n",
    "            ### Add the new information to the signal\n",
    "            mention = f_util.create_face_mention(imageSignal, \"front_camera\", int(time.time() * 1e3),\n",
    "                                                 parse_bbox(face), HUMAN_ID, HUMAN_NAME,\n",
    "                                                 parse_age(face), parse_gender(face), face.det_score)\n",
    "            imageSignal.mentions.append(mention)\n",
    "\n",
    "            response = f\"So you what do you want to talk about {HUMAN_NAME}?\"\n",
    "        else:\n",
    "            ### We know this person\n",
    "            HUMAN_ID = parse_id(face)\n",
    "            HUMAN_NAME = parse_name(face)\n",
    "            response = f\"Hi {parse_name(face)}. Nice to see you again. How are you today?\"\n",
    "\n",
    "    print(f\"{AGENT}: {response}\\n\")\n",
    "\n",
    "    # Store signals, annotated with the infered Person information\n",
    "    textSignal = d_util.create_text_signal_with_speaker_annotation(scenario_ctrl, response, AGENT)\n",
    "    scenario_ctrl.append_signal(textSignal)\n",
    "    \n",
    "scenarioStorage.save_scenario(scenario_ctrl)"
   ]
  },
  {
   "cell_type": "markdown",
   "metadata": {},
   "source": [
    "## Proceed to communicate with an identified friend"
   ]
  },
  {
   "cell_type": "markdown",
   "metadata": {},
   "source": [
    "The next while loop is for continuous communication with the identified user until *stop* or *bye*.\n",
    "We process the user input and the captured image sequentially step by step in the code block of the while loop.\n",
    "At the end of the code block, a response is generated and new input from the user is requested."
   ]
  },
  {
   "cell_type": "markdown",
   "metadata": {},
   "source": [
    "We first initialise a Chat class with the HUMAN_ID value for the speaker."
   ]
  },
  {
   "cell_type": "code",
   "execution_count": 10,
   "metadata": {},
   "outputs": [
    {
     "name": "stdout",
     "output_type": "stream",
     "text": [
      "2021-11-18 13:01:53,320 -     INFO - cltl.triple_extraction.api.Chat (Fred)              000 - << Start of Chat with Fred >>\n"
     ]
    },
    {
     "name": "stderr",
     "output_type": "stream",
     "text": [
      "<< Start of Chat with Fred >>\n"
     ]
    }
   ],
   "source": [
    "chat = Chat(HUMAN_ID)"
   ]
  },
  {
   "cell_type": "markdown",
   "metadata": {},
   "source": [
    "### Respondig to what it sees"
   ]
  },
  {
   "cell_type": "markdown",
   "metadata": {},
   "source": [
    "We define a function that does the following:\n",
    "\n",
    "* captures an image from the camera\n",
    "* creates an imageSignal from it, \n",
    "* annotates the image with the mention of the person\n",
    "* stores the mention in the brain as a perceivedBy data\n",
    "* gets the response from the brain\n",
    "* verbalises the response\n",
    "* stores the verbalised response as a textSignal\n"
   ]
  },
  {
   "cell_type": "markdown",
   "metadata": {},
   "source": [
    "### Respond to an object"
   ]
  },
  {
   "cell_type": "code",
   "execution_count": 11,
   "metadata": {},
   "outputs": [],
   "source": [
    "def respond_to_an_image(camera, \n",
    "                        imagefolder, \n",
    "                        scenario_ctrl, \n",
    "                        place_id, \n",
    "                        location, \n",
    "                        HUMAN_ID, \n",
    "                        my_brain, \n",
    "                        replier,\n",
    "                       respond_to_thought:False):\n",
    "        ## We capture the image again\n",
    "    ## For now, we only take pictures of faces of the user\n",
    "    ## @TODO add object recognition and check if there are other people detected than the user\n",
    "    what_did_i_see = []\n",
    "\n",
    "    success, frame = camera.read()\n",
    "    if success:\n",
    "        current_time = int(time.time() * 1e3)\n",
    "        imagepath = f\"{imagefolder}/{current_time}.png\"\n",
    "        image_bbox = (0, 0, frame.shape[1], frame.shape[0])\n",
    "        cv2.imwrite(imagepath, frame)\n",
    "        print(imagepath)\n",
    " \n",
    "        results = f_util.detect_objects(imagepath)\n",
    "\n",
    "        #[{'det_score': 0.9202485680580139, 'label_num': 0, 'label_string': 'person', 'yolo_bbox': [430, 349, 918, 715]}, \n",
    "        # {'det_score': 0.45640841126441956, 'label_num': 0, 'label_string': 'person', 'yolo_bbox': [309, 167, 365, 324]}, \n",
    "        #{'det_score': 0.339588463306427, 'label_num': 72, 'label_string': 'refrigerator', 'yolo_bbox': [0, 208, 111, 707]}]\n",
    "       \n",
    "        imageSignal = d_util.create_image_signal(scenario_ctrl, f\"{current_time}.png\", image_bbox, current_time)\n",
    "        scenario_ctrl.append_signal(imageSignal)\n",
    "\n",
    "        ## The next for loop creates a capsule for each object detected in the image and posts a perceivedIn property for the object in the signal\n",
    "        ## The \"front_camera\" is the source of the signal\n",
    "        for result in results:\n",
    "            current_time = int(time.time() * 1e3)\n",
    "            \n",
    "            bbox = [int(num) for num in result['yolo_bbox']]\n",
    "            object_type = result['label_string']\n",
    "            object_prob = result['det_score']\n",
    "            what_did_i_see.append(object_type)\n",
    "            mention = f_util.create_object_mention(imageSignal, \"front_camera\", current_time, bbox, object_type, object_prob)\n",
    "            imageSignal.mentions.append(mention)\n",
    "            \n",
    "            ### We created a perceivedBy triple for this experience, \n",
    "            ### @TODO we need to include the bouding box somehow in the object\n",
    "            capsule = c_util.scenario_image_triple_to_capsule(scenario_ctrl,\n",
    "                                                              place_id,\n",
    "                                                              location,\n",
    "                                                              imageSignal,\n",
    "                                                              \"front_camera\",\n",
    "                                                              object_type,\n",
    "                                                              \"perceivedIn\",\n",
    "                                                              imageSignal.id)\n",
    "\n",
    "            # Create the response from the system and store this as a new signal\n",
    "            # We use the throughts to respond\n",
    "            response = my_brain.update(capsule, reason_types=True, create_label=True)\n",
    "            if (respond_to_thought):\n",
    "                response_json = brain_response_to_json(response)\n",
    "                reply = replier.reply_to_statement(response_json, proactive=True, persist=True)\n",
    "                print(AGENT + \": \" + reply)\n",
    "                textSignal = d_util.create_text_signal_with_speaker_annotation(scenario_ctrl, reply, AGENT)\n",
    "                scenario_ctrl.append_signal(textSignal)\n",
    "        \n",
    "    return what_did_i_see"
   ]
  },
  {
   "cell_type": "code",
   "execution_count": 12,
   "metadata": {},
   "outputs": [
    {
     "name": "stdout",
     "output_type": "stream",
     "text": [
      "Leolani2: Tell me something, anything!\n"
     ]
    },
    {
     "name": "stdin",
     "output_type": "stream",
     "text": [
      "\n",
      " I like dogs\n"
     ]
    },
    {
     "name": "stdout",
     "output_type": "stream",
     "text": [
      "Fred: I like dogs\n",
      "2021-11-18 13:03:35,683 -     INFO -               cltl.triple_extraction.api - Started POS tagger\n"
     ]
    },
    {
     "name": "stderr",
     "output_type": "stream",
     "text": [
      "Started POS tagger\n"
     ]
    },
    {
     "name": "stdout",
     "output_type": "stream",
     "text": [
      "2021-11-18 13:03:35,691 -     INFO -               cltl.triple_extraction.api - Started NER tagger\n"
     ]
    },
    {
     "name": "stderr",
     "output_type": "stream",
     "text": [
      "Started NER server\n",
      "Started NER tagger\n"
     ]
    },
    {
     "name": "stdout",
     "output_type": "stream",
     "text": [
      "2021-11-18 13:03:35,703 -     INFO -               cltl.triple_extraction.api - Loaded grammar\n"
     ]
    },
    {
     "name": "stderr",
     "output_type": "stream",
     "text": [
      "Loaded grammar\n"
     ]
    },
    {
     "name": "stdout",
     "output_type": "stream",
     "text": [
      "2021-11-18 13:03:36,850 -     INFO - cltl.triple_extraction.api.Chat (Fred)              001 -       Fred: \"I like dogs\"\n"
     ]
    },
    {
     "name": "stderr",
     "output_type": "stream",
     "text": [
      "      Fred: \"I like dogs\"\n",
      "Started NER server\n",
      "extracted perspective: {'sentiment': '0.75', 'certainty': 1, 'polarity': 1, 'emotion': <Emotion.NEUTRAL: 7>}\n",
      "RDF    subject: {\"label\": \"Fred\", \"type\": [\"person\"]}\n",
      "RDF  predicate: {\"label\": \"like\", \"type\": [\"verb.emotion\"]}\n",
      "RDF     object: {\"label\": \"dogs\", \"type\": [\"noun.animal\"]}\n"
     ]
    },
    {
     "name": "stdout",
     "output_type": "stream",
     "text": [
      "2021-11-18 13:03:38,295 -     INFO -    cltl.brain.basic_brain.LongTermMemory - Triple in statement: fred_like_dogs [person_->_animal])\n"
     ]
    },
    {
     "name": "stderr",
     "output_type": "stream",
     "text": [
      "Triple in statement: fred_like_dogs [person_->_animal])\n"
     ]
    },
    {
     "name": "stdout",
     "output_type": "stream",
     "text": [
      "2021-11-18 13:03:38,390 -     INFO -  cltl.brain.basic_brain.ThoughtGenerator - Entity Novelty: new subject - new object \n"
     ]
    },
    {
     "name": "stderr",
     "output_type": "stream",
     "text": [
      "Entity Novelty: new subject - new object \n"
     ]
    },
    {
     "name": "stdout",
     "output_type": "stream",
     "text": [
      "2021-11-18 13:03:40,991 -     INFO -  cltl.brain.basic_brain.ThoughtGenerator - Negation Conflicts: fred on November,2021 about POSITIVE\n"
     ]
    },
    {
     "name": "stderr",
     "output_type": "stream",
     "text": [
      "Negation Conflicts: fred on November,2021 about POSITIVE\n"
     ]
    },
    {
     "name": "stdout",
     "output_type": "stream",
     "text": [
      "2021-11-18 13:03:41,089 -     INFO -  cltl.brain.basic_brain.ThoughtGenerator - Gaps: 26 gaps as subject: e.g. experience taste - 15 gaps as object: e.g. cook-by dish\n"
     ]
    },
    {
     "name": "stderr",
     "output_type": "stream",
     "text": [
      "Gaps: 26 gaps as subject: e.g. experience taste - 15 gaps as object: e.g. cook-by dish\n"
     ]
    },
    {
     "name": "stdout",
     "output_type": "stream",
     "text": [
      "2021-11-18 13:03:41,139 -     INFO -  cltl.brain.basic_brain.ThoughtGenerator - Gaps: 0 gaps as subject: e.g. '' - 2 gaps as object: e.g. own agent\n"
     ]
    },
    {
     "name": "stderr",
     "output_type": "stream",
     "text": [
      "Gaps: 0 gaps as subject: e.g. '' - 2 gaps as object: e.g. own agent\n"
     ]
    },
    {
     "name": "stdout",
     "output_type": "stream",
     "text": [
      "Leolani2: Let me ask you something. Has fred perceive sensor?\n"
     ]
    },
    {
     "name": "stderr",
     "output_type": "stream",
     "text": [
      "/Users/piek/PycharmProjects/cltl-chatbots/data/2021-11-18-13:01:52/image/1637237021177.png image loaded!\n"
     ]
    },
    {
     "name": "stdout",
     "output_type": "stream",
     "text": [
      "/Users/piek/PycharmProjects/cltl-chatbots/data/2021-11-18-13:01:52/image/1637237021177.png\n"
     ]
    },
    {
     "name": "stderr",
     "output_type": "stream",
     "text": [
      "got <Response [200]> from server!...\n",
      "YOLO image annotation is done!\n",
      "image annotation is done!\n",
      "image saved at /Users/piek/PycharmProjects/cltl-chatbots/data/2021-11-18-13:01:52/image/1637237021177.png.ANNOTATED.jpg\n"
     ]
    },
    {
     "name": "stdout",
     "output_type": "stream",
     "text": [
      "2021-11-18 13:03:44,763 -  WARNING -      cltl.brain.basic_brain.TypeReasoner - Failed to query Wikidata: HTTPSConnectionPool(host='query.wikidata.org', port=443): Read timed out. (read timeout=3)\n"
     ]
    },
    {
     "name": "stderr",
     "output_type": "stream",
     "text": [
      "Failed to query Wikidata: HTTPSConnectionPool(host='query.wikidata.org', port=443): Read timed out. (read timeout=3)\n"
     ]
    },
    {
     "name": "stdout",
     "output_type": "stream",
     "text": [
      "2021-11-18 13:03:45,677 -     INFO -      cltl.brain.basic_brain.TypeReasoner - Reasoned type of 5e839d7c-22d4-422b-9924-12e6ac13582d to: None\n"
     ]
    },
    {
     "name": "stderr",
     "output_type": "stream",
     "text": [
      "Reasoned type of 5e839d7c-22d4-422b-9924-12e6ac13582d to: None\n"
     ]
    },
    {
     "name": "stdout",
     "output_type": "stream",
     "text": [
      "2021-11-18 13:03:45,697 -     INFO -    cltl.brain.basic_brain.LongTermMemory - Triple in statement: person_perceivedin_5e839d7c-22d4-422b-9924-12e6ac13582d [person_->_])\n"
     ]
    },
    {
     "name": "stderr",
     "output_type": "stream",
     "text": [
      "Triple in statement: person_perceivedin_5e839d7c-22d4-422b-9924-12e6ac13582d [person_->_])\n"
     ]
    },
    {
     "name": "stdout",
     "output_type": "stream",
     "text": [
      "2021-11-18 13:03:45,784 -     INFO -  cltl.brain.basic_brain.ThoughtGenerator - Entity Novelty: new subject - new object \n"
     ]
    },
    {
     "name": "stderr",
     "output_type": "stream",
     "text": [
      "Entity Novelty: new subject - new object \n"
     ]
    },
    {
     "name": "stdout",
     "output_type": "stream",
     "text": [
      "2021-11-18 13:03:48,046 -     INFO -  cltl.brain.basic_brain.ThoughtGenerator - Gaps: 26 gaps as subject: e.g. play song - 15 gaps as object: e.g. dislike agent\n"
     ]
    },
    {
     "name": "stderr",
     "output_type": "stream",
     "text": [
      "Gaps: 26 gaps as subject: e.g. play song - 15 gaps as object: e.g. dislike agent\n"
     ]
    },
    {
     "name": "stdout",
     "output_type": "stream",
     "text": [
      "2021-11-18 13:03:51,245 -  WARNING -      cltl.brain.basic_brain.TypeReasoner - Failed to query Wikidata: HTTPSConnectionPool(host='query.wikidata.org', port=443): Read timed out. (read timeout=3)\n"
     ]
    },
    {
     "name": "stderr",
     "output_type": "stream",
     "text": [
      "Failed to query Wikidata: HTTPSConnectionPool(host='query.wikidata.org', port=443): Read timed out. (read timeout=3)\n"
     ]
    },
    {
     "name": "stdout",
     "output_type": "stream",
     "text": [
      "2021-11-18 13:03:51,833 -     INFO -      cltl.brain.basic_brain.TypeReasoner - Reasoned type of 5e839d7c-22d4-422b-9924-12e6ac13582d to: None\n"
     ]
    },
    {
     "name": "stderr",
     "output_type": "stream",
     "text": [
      "Reasoned type of 5e839d7c-22d4-422b-9924-12e6ac13582d to: None\n"
     ]
    },
    {
     "name": "stdout",
     "output_type": "stream",
     "text": [
      "2021-11-18 13:03:51,895 -     INFO -    cltl.brain.basic_brain.LongTermMemory - Triple in statement: person_perceivedin_5e839d7c-22d4-422b-9924-12e6ac13582d [person_->_])\n"
     ]
    },
    {
     "name": "stderr",
     "output_type": "stream",
     "text": [
      "Triple in statement: person_perceivedin_5e839d7c-22d4-422b-9924-12e6ac13582d [person_->_])\n"
     ]
    },
    {
     "name": "stdout",
     "output_type": "stream",
     "text": [
      "2021-11-18 13:03:51,936 -     INFO -  cltl.brain.basic_brain.ThoughtGenerator - Statement Novelty: 1 times, e.g. front-camera on November,2021\n"
     ]
    },
    {
     "name": "stderr",
     "output_type": "stream",
     "text": [
      "Statement Novelty: 1 times, e.g. front-camera on November,2021\n"
     ]
    },
    {
     "name": "stdout",
     "output_type": "stream",
     "text": [
      "2021-11-18 13:03:54,036 -     INFO -  cltl.brain.basic_brain.ThoughtGenerator - Gaps: 26 gaps as subject: e.g. dislike agent - 15 gaps as object: e.g. cook-by food\n"
     ]
    },
    {
     "name": "stderr",
     "output_type": "stream",
     "text": [
      "Gaps: 26 gaps as subject: e.g. dislike agent - 15 gaps as object: e.g. cook-by food\n"
     ]
    },
    {
     "name": "stdout",
     "output_type": "stream",
     "text": [
      "2021-11-18 13:03:57,192 -  WARNING -      cltl.brain.basic_brain.TypeReasoner - Failed to query Wikidata: HTTPSConnectionPool(host='query.wikidata.org', port=443): Read timed out. (read timeout=3)\n"
     ]
    },
    {
     "name": "stderr",
     "output_type": "stream",
     "text": [
      "Failed to query Wikidata: HTTPSConnectionPool(host='query.wikidata.org', port=443): Read timed out. (read timeout=3)\n"
     ]
    },
    {
     "name": "stdout",
     "output_type": "stream",
     "text": [
      "2021-11-18 13:03:57,823 -     INFO -      cltl.brain.basic_brain.TypeReasoner - Reasoned type of 5e839d7c-22d4-422b-9924-12e6ac13582d to: None\n"
     ]
    },
    {
     "name": "stderr",
     "output_type": "stream",
     "text": [
      "Reasoned type of 5e839d7c-22d4-422b-9924-12e6ac13582d to: None\n"
     ]
    },
    {
     "name": "stdout",
     "output_type": "stream",
     "text": [
      "2021-11-18 13:03:57,846 -     INFO -    cltl.brain.basic_brain.LongTermMemory - Triple in statement: remote_perceivedin_5e839d7c-22d4-422b-9924-12e6ac13582d [person_->_])\n"
     ]
    },
    {
     "name": "stderr",
     "output_type": "stream",
     "text": [
      "Triple in statement: remote_perceivedin_5e839d7c-22d4-422b-9924-12e6ac13582d [person_->_])\n"
     ]
    },
    {
     "name": "stdout",
     "output_type": "stream",
     "text": [
      "2021-11-18 13:03:57,934 -     INFO -  cltl.brain.basic_brain.ThoughtGenerator - Entity Novelty: new subject - existing object \n"
     ]
    },
    {
     "name": "stderr",
     "output_type": "stream",
     "text": [
      "Entity Novelty: new subject - existing object \n"
     ]
    },
    {
     "name": "stdout",
     "output_type": "stream",
     "text": [
      "2021-11-18 13:04:00,442 -     INFO -  cltl.brain.basic_brain.ThoughtGenerator - Gaps: 26 gaps as subject: e.g. be-from location - 15 gaps as object: e.g. like-by agent\n"
     ]
    },
    {
     "name": "stderr",
     "output_type": "stream",
     "text": [
      "Gaps: 26 gaps as subject: e.g. be-from location - 15 gaps as object: e.g. like-by agent\n"
     ]
    },
    {
     "name": "stdout",
     "output_type": "stream",
     "text": [
      "Leolani2: \n",
      "By the way while talking, I have been seeing a person a person and  a remote\n",
      "\n"
     ]
    },
    {
     "name": "stdin",
     "output_type": "stream",
     "text": [
      "\n",
      " Dogs can bark\n"
     ]
    },
    {
     "name": "stdout",
     "output_type": "stream",
     "text": [
      "Fred: Dogs can bark\n",
      "2021-11-18 13:04:47,169 -     INFO - cltl.triple_extraction.api.Chat (Fred)              002 -       Fred: \"Dogs can bark\"\n"
     ]
    },
    {
     "name": "stderr",
     "output_type": "stream",
     "text": [
      "      Fred: \"Dogs can bark\"\n",
      "extracted perspective: {'sentiment': 0, 'certainty': 1, 'polarity': 1, 'emotion': <Emotion.NEUTRAL: 7>}\n",
      "RDF    subject: {\"label\": \"dogs\", \"type\": [\"noun.animal\"]}\n",
      "RDF  predicate: {\"label\": \"can-bark\", \"type\": [\"modal:['ability', 'permission']\", \"verb.communication\"]}\n",
      "RDF     object: {\"label\": \"\", \"type\": []}\n"
     ]
    },
    {
     "name": "stdout",
     "output_type": "stream",
     "text": [
      "2021-11-18 13:04:48,127 -     INFO -      cltl.brain.basic_brain.TypeReasoner - Reasoned type of  to: None\n"
     ]
    },
    {
     "name": "stderr",
     "output_type": "stream",
     "text": [
      "Reasoned type of  to: None\n"
     ]
    },
    {
     "name": "stdout",
     "output_type": "stream",
     "text": [
      "2021-11-18 13:04:48,149 -     INFO -    cltl.brain.basic_brain.LongTermMemory - Triple in statement: dogs_can-bark_None [animal_->_])\n"
     ]
    },
    {
     "name": "stderr",
     "output_type": "stream",
     "text": [
      "Triple in statement: dogs_can-bark_None [animal_->_])\n"
     ]
    },
    {
     "name": "stdout",
     "output_type": "stream",
     "text": [
      "2021-11-18 13:04:48,235 -     INFO -  cltl.brain.basic_brain.ThoughtGenerator - Entity Novelty: existing subject - new object \n"
     ]
    },
    {
     "name": "stderr",
     "output_type": "stream",
     "text": [
      "Entity Novelty: existing subject - new object \n"
     ]
    },
    {
     "name": "stdout",
     "output_type": "stream",
     "text": [
      "2021-11-18 13:04:51,801 -     INFO -  cltl.brain.basic_brain.ThoughtGenerator - Negation Conflicts: fred on November,2021 about POSITIVE\n"
     ]
    },
    {
     "name": "stderr",
     "output_type": "stream",
     "text": [
      "Negation Conflicts: fred on November,2021 about POSITIVE\n"
     ]
    },
    {
     "name": "stdout",
     "output_type": "stream",
     "text": [
      "2021-11-18 13:04:51,811 -     INFO -  cltl.brain.basic_brain.ThoughtGenerator - Gaps: 0 gaps as subject: e.g. '' - 2 gaps as object: e.g. own person\n"
     ]
    },
    {
     "name": "stderr",
     "output_type": "stream",
     "text": [
      "Gaps: 0 gaps as subject: e.g. '' - 2 gaps as object: e.g. own person\n",
      "/Users/piek/PycharmProjects/cltl-chatbots/data/2021-11-18-13:01:52/image/1637237091844.png image loaded!\n"
     ]
    },
    {
     "name": "stdout",
     "output_type": "stream",
     "text": [
      "Leolani2: I just learned something, I did not know anything that dogs can bark\n",
      "/Users/piek/PycharmProjects/cltl-chatbots/data/2021-11-18-13:01:52/image/1637237091844.png\n"
     ]
    },
    {
     "name": "stderr",
     "output_type": "stream",
     "text": [
      "got <Response [200]> from server!...\n",
      "YOLO image annotation is done!\n",
      "image annotation is done!\n",
      "image saved at /Users/piek/PycharmProjects/cltl-chatbots/data/2021-11-18-13:01:52/image/1637237091844.png.ANNOTATED.jpg\n"
     ]
    },
    {
     "name": "stdout",
     "output_type": "stream",
     "text": [
      "2021-11-18 13:04:55,281 -  WARNING -      cltl.brain.basic_brain.TypeReasoner - Failed to query Wikidata: HTTPSConnectionPool(host='query.wikidata.org', port=443): Read timed out. (read timeout=3)\n"
     ]
    },
    {
     "name": "stderr",
     "output_type": "stream",
     "text": [
      "Failed to query Wikidata: HTTPSConnectionPool(host='query.wikidata.org', port=443): Read timed out. (read timeout=3)\n"
     ]
    },
    {
     "name": "stdout",
     "output_type": "stream",
     "text": [
      "2021-11-18 13:04:56,071 -     INFO -      cltl.brain.basic_brain.TypeReasoner - Reasoned type of cf58c193-b2cc-4c3a-beaf-8ab9eb99d252 to: None\n"
     ]
    },
    {
     "name": "stderr",
     "output_type": "stream",
     "text": [
      "Reasoned type of cf58c193-b2cc-4c3a-beaf-8ab9eb99d252 to: None\n"
     ]
    },
    {
     "name": "stdout",
     "output_type": "stream",
     "text": [
      "2021-11-18 13:04:56,089 -     INFO -    cltl.brain.basic_brain.LongTermMemory - Triple in statement: person_perceivedin_cf58c193-b2cc-4c3a-beaf-8ab9eb99d252 [person_->_])\n"
     ]
    },
    {
     "name": "stderr",
     "output_type": "stream",
     "text": [
      "Triple in statement: person_perceivedin_cf58c193-b2cc-4c3a-beaf-8ab9eb99d252 [person_->_])\n"
     ]
    },
    {
     "name": "stdout",
     "output_type": "stream",
     "text": [
      "2021-11-18 13:04:56,102 -     INFO -  cltl.brain.basic_brain.ThoughtGenerator - Entity Novelty: existing subject - new object \n"
     ]
    },
    {
     "name": "stderr",
     "output_type": "stream",
     "text": [
      "Entity Novelty: existing subject - new object \n"
     ]
    },
    {
     "name": "stdout",
     "output_type": "stream",
     "text": [
      "2021-11-18 13:04:57,880 -     INFO -  cltl.brain.basic_brain.ThoughtGenerator - Gaps: 26 gaps as subject: e.g. experience touch - 15 gaps as object: e.g. cook-by food\n"
     ]
    },
    {
     "name": "stderr",
     "output_type": "stream",
     "text": [
      "Gaps: 26 gaps as subject: e.g. experience touch - 15 gaps as object: e.g. cook-by food\n"
     ]
    },
    {
     "name": "stdout",
     "output_type": "stream",
     "text": [
      "2021-11-18 13:05:01,052 -  WARNING -      cltl.brain.basic_brain.TypeReasoner - Failed to query Wikidata: HTTPSConnectionPool(host='query.wikidata.org', port=443): Read timed out. (read timeout=3)\n"
     ]
    },
    {
     "name": "stderr",
     "output_type": "stream",
     "text": [
      "Failed to query Wikidata: HTTPSConnectionPool(host='query.wikidata.org', port=443): Read timed out. (read timeout=3)\n"
     ]
    },
    {
     "name": "stdout",
     "output_type": "stream",
     "text": [
      "2021-11-18 13:05:01,736 -     INFO -      cltl.brain.basic_brain.TypeReasoner - Reasoned type of cf58c193-b2cc-4c3a-beaf-8ab9eb99d252 to: None\n"
     ]
    },
    {
     "name": "stderr",
     "output_type": "stream",
     "text": [
      "Reasoned type of cf58c193-b2cc-4c3a-beaf-8ab9eb99d252 to: None\n"
     ]
    },
    {
     "name": "stdout",
     "output_type": "stream",
     "text": [
      "2021-11-18 13:05:01,754 -     INFO -    cltl.brain.basic_brain.LongTermMemory - Triple in statement: person_perceivedin_cf58c193-b2cc-4c3a-beaf-8ab9eb99d252 [person_->_])\n"
     ]
    },
    {
     "name": "stderr",
     "output_type": "stream",
     "text": [
      "Triple in statement: person_perceivedin_cf58c193-b2cc-4c3a-beaf-8ab9eb99d252 [person_->_])\n"
     ]
    },
    {
     "name": "stdout",
     "output_type": "stream",
     "text": [
      "2021-11-18 13:05:01,760 -     INFO -  cltl.brain.basic_brain.ThoughtGenerator - Statement Novelty: 1 times, e.g. front-camera on November,2021\n"
     ]
    },
    {
     "name": "stderr",
     "output_type": "stream",
     "text": [
      "Statement Novelty: 1 times, e.g. front-camera on November,2021\n"
     ]
    },
    {
     "name": "stdout",
     "output_type": "stream",
     "text": [
      "2021-11-18 13:05:03,378 -     INFO -  cltl.brain.basic_brain.ThoughtGenerator - Gaps: 26 gaps as subject: e.g. be-child-of agent - 15 gaps as object: e.g. be-ancestor-of person\n"
     ]
    },
    {
     "name": "stderr",
     "output_type": "stream",
     "text": [
      "Gaps: 26 gaps as subject: e.g. be-child-of agent - 15 gaps as object: e.g. be-ancestor-of person\n"
     ]
    },
    {
     "name": "stdout",
     "output_type": "stream",
     "text": [
      "Leolani2: \n",
      "By the way while talking, I have been seeing a person and  a person\n",
      "\n"
     ]
    },
    {
     "name": "stdin",
     "output_type": "stream",
     "text": [
      "\n",
      " stop\n"
     ]
    },
    {
     "name": "stdout",
     "output_type": "stream",
     "text": [
      "Fred: stop\n"
     ]
    }
   ],
   "source": [
    "import random\n",
    "print_details=False\n",
    "#### Initial prompt by the system from which we create a TextSignal and store it\n",
    "initial_prompt = f\"{choice(TALK_TO_ME)}\"\n",
    "print(AGENT + \": \" + initial_prompt)\n",
    "textSignal = d_util.create_text_signal_with_speaker_annotation(scenario_ctrl, initial_prompt, AGENT)\n",
    "scenario_ctrl.append_signal(textSignal)\n",
    "\n",
    "utterance = \"\"\n",
    "utterance = input('\\n')\n",
    "print(HUMAN_NAME + \": \" + utterance)\n",
    "\n",
    "#### Get input and loop\n",
    "while not (utterance.lower() == 'stop' or utterance.lower() == 'bye'):\n",
    "    ###### Getting the next input signals\n",
    "    textSignal = d_util.create_text_signal_with_speaker_annotation(scenario_ctrl, utterance, HUAN_ID)\n",
    "    scenario_ctrl.append_signal(textSignal)\n",
    "\n",
    "    capsule, reply = talk.process_text_and_reply(scenario_ctrl,\n",
    "                           place_id,\n",
    "                           location,\n",
    "                           HUMAN_ID,\n",
    "                           textSignal,\n",
    "                           chat,\n",
    "                           replier,\n",
    "                           my_brain,\n",
    "                           print_details)\n",
    "\n",
    "\n",
    "    print(AGENT + \": \" + reply)\n",
    "    textSignal = d_util.create_text_signal_with_speaker_annotation(scenario_ctrl, reply, AGENT)\n",
    "    scenario_ctrl.append_signal(textSignal)\n",
    "    what_do_i_see = respond_to_an_image(camera, \n",
    "                                        imagefolder, \n",
    "                                        scenario_ctrl, \n",
    "                                        place_id, \n",
    "                                        location, \n",
    "                                        HUMAN_ID, \n",
    "                                        my_brain, \n",
    "                                        replier,\n",
    "                                       False)\n",
    "\n",
    "    reply = \"\\nBy the way while talking, I have been seeing\"\n",
    "    if len(what_do_i_see)>1:\n",
    "        for index, object in enumerate(what_do_i_see):\n",
    "            if index==len(what_do_i_see)-1:\n",
    "                reply += \" and\"\n",
    "            reply += \" a \"+object\n",
    "    elif len(what_do_i_see)==1:\n",
    "        reply += \" a \" + what_do_i_see[0]\n",
    "    else:\n",
    "        reply = \"\\nI cannot see! Something wrong with my camera.\"\n",
    "\n",
    "       \n",
    "    print(AGENT + \": \" + reply+\"\\n\")\n",
    "    textSignal = d_util.create_text_signal_with_speaker_annotation(scenario_ctrl, reply, AGENT)\n",
    "    scenario_ctrl.append_signal(textSignal)\n",
    "\n",
    "    # Get the next input signal from the user\n",
    "    utterance = input(\"\\n\")\n",
    "    print(HUMAN_NAME + \": \" + utterance)\n",
    "\n",
    "    time.sleep(2)\n",
    "\n",
    "    ### We now have a new input check if the user wants to continue"
   ]
  },
  {
   "cell_type": "markdown",
   "metadata": {},
   "source": [
    "### Set the end time of the scenario, save it and stop the containers\n",
    "\n",
    "After we stopped the interaction, we set the end time and save the scenario as EMISSOR data."
   ]
  },
  {
   "cell_type": "code",
   "execution_count": 13,
   "metadata": {},
   "outputs": [],
   "source": [
    "scenario_ctrl.scenario.ruler.end = int(time.time() * 1e3)\n",
    "scenarioStorage.save_scenario(scenario_ctrl)"
   ]
  },
  {
   "cell_type": "code",
   "execution_count": 14,
   "metadata": {},
   "outputs": [],
   "source": [
    "### Stopping the docker containers\n",
    "### This is only needed of you started them in this notebook\n",
    "#f_util.kill_container(container_fdr)\n",
    "#f_util.kill_container(container_ag)"
   ]
  },
  {
   "cell_type": "code",
   "execution_count": 9,
   "metadata": {},
   "outputs": [],
   "source": [
    "#### Stop the camera when we are done\n",
    "camera.release()"
   ]
  },
  {
   "cell_type": "markdown",
   "metadata": {},
   "source": [
    "## End of notebook"
   ]
  },
  {
   "cell_type": "code",
   "execution_count": null,
   "metadata": {},
   "outputs": [],
   "source": []
  }
 ],
 "metadata": {
  "kernelspec": {
   "display_name": "chatvenv",
   "language": "python",
   "name": "chatvenv"
  },
  "language_info": {
   "codemirror_mode": {
    "name": "ipython",
    "version": 3
   },
   "file_extension": ".py",
   "mimetype": "text/x-python",
   "name": "python",
   "nbconvert_exporter": "python",
   "pygments_lexer": "ipython3",
   "version": "3.9.7"
  }
 },
 "nbformat": 4,
 "nbformat_minor": 4
}
