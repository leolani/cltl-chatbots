{
 "cells": [
  {
   "cell_type": "markdown",
   "metadata": {},
   "source": [
    "# EMISSOR chat bot with audio backend"
   ]
  },
  {
   "cell_type": "markdown",
   "metadata": {},
   "source": [
    "### UNDER CONSTRUCTION "
   ]
  },
  {
   "cell_type": "markdown",
   "metadata": {},
   "source": [
    "## Running with ASR"
   ]
  },
  {
   "cell_type": "code",
   "execution_count": null,
   "metadata": {},
   "outputs": [],
   "source": [
    "import numpy as np\n",
    "from cltl.asr.speechbrain_asr import SpeechbrainASR\n",
    "from cltl.backend.source.pyaudio_source import PyAudioSource\n",
    "from cltl.vad.webrtc_vad import WebRtcVAD\n",
    "\n",
    "from cltl.backend.api.util import raw_frames_to_np"
   ]
  },
  {
   "cell_type": "code",
   "execution_count": null,
   "metadata": {},
   "outputs": [],
   "source": [
    "source = PyAudioSource(16000, 1, 480)\n",
    "vad = WebRtcVAD(allow_gap=250, padding=5)\n",
    "\n",
    "# Store detected audio for debugging\n",
    "# asr = SpeechbrainASR(model_id=\"speechbrain/asr-transformer-transformerlm-librispeech\", sampling_rate=16000, storage=\"wav\")\n",
    "asr = SpeechbrainASR(model_id=\"speechbrain/asr-transformer-transformerlm-librispeech\")\n",
    "\n",
    "    \n",
    "def detect_and_transcribe():\n",
    "    with source as audio:\n",
    "            print(\"---------   Listen   ---------\")\n",
    "            frames = raw_frames_to_np(audio, source.frame_size, source.channels, source.depth)\n",
    "            speech, offset, consumed = tuple(vad.detect_vad(frames, source.rate))\n",
    "            print(\"--------- Transcribe --------\")\n",
    "            text = asr.speech_to_text(np.concatenate(tuple(speech)), source.rate)\n",
    "            print(\"--------- Detected:\", text)\n",
    "\n",
    "            return text\n"
   ]
  },
  {
   "cell_type": "code",
   "execution_count": null,
   "metadata": {},
   "outputs": [],
   "source": [
    "for _ in range(5):\n",
    "        try:\n",
    "        detect_and_transcribe()\n",
    "    except Exception as e:\n",
    "        print(\"Failed\", e)\n",
    "\n",
    "print(\"Calibrated\")"
   ]
  },
  {
   "cell_type": "markdown",
   "metadata": {
    "pycharm": {
     "name": "#%% md\n"
    }
   },
   "source": []
  },
  {
   "cell_type": "code",
   "execution_count": null,
   "metadata": {},
   "outputs": [],
   "source": [
    "while True:\n",
    "    try:\n",
    "        detect_and_transcribe()\n",
    "    except Exception as e:\n",
    "        print(\"Failed\", e)"
   ]
  },
  {
   "cell_type": "code",
   "execution_count": null,
   "metadata": {},
   "outputs": [],
   "source": []
  }
 ],
 "metadata": {
  "kernelspec": {
   "display_name": "venv",
   "language": "python",
   "name": "venv"
  },
  "language_info": {
   "codemirror_mode": {
    "name": "ipython",
    "version": 3
   },
   "file_extension": ".py",
   "mimetype": "text/x-python",
   "name": "python",
   "nbconvert_exporter": "python",
   "pygments_lexer": "ipython3",
   "version": "3.7.10"
  }
 },
 "nbformat": 4,
 "nbformat_minor": 4
}
