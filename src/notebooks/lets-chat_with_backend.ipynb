{
 "cells": [
  {
   "cell_type": "markdown",
   "metadata": {},
   "source": [
    "# EMISSOR chat bot with audio backend"
   ]
  },
  {
   "cell_type": "markdown",
   "metadata": {},
   "source": [
    "@CLTL"
   ]
  },
  {
   "cell_type": "markdown",
   "metadata": {},
   "source": [
    "\n",
    "## 1. Installing the platform\n"
   ]
  },
  {
   "cell_type": "markdown",
   "metadata": {},
   "source": [
    "requirements.txt:"
   ]
  },
  {
   "cell_type": "code",
   "execution_count": null,
   "metadata": {
    "pycharm": {
     "name": "#%%\n"
    }
   },
   "outputs": [],
   "source": [
    "cltl.backend[impl,host]\n",
    "cltl.asr[impl]\n",
    "cltl.vad[impl]\n",
    "\n",
    "numpy==1.21.2\n",
    "\n",
    "transformers==4.10.0\n",
    "torch==1.9.0\n",
    "cffi==1.14.6\n",
    "jiwer==2.2.0\n",
    "sounddevice==0.4.2\n",
    "soundfile==0.10.3.post1\n",
    "PyAudio==0.2.11;sys_platform=='darwin'\n",
    "webrtcvad==2.0.10\n"
   ]
  },
  {
   "cell_type": "markdown",
   "metadata": {},
   "source": [
    "Some conflicts:\n",
    "    \n",
    "    ERROR: pip's dependency resolver does not currently take into account all the packages that are installed. This behaviour is the source of the following dependency conflicts.\n",
    "cltl-brain 0.0.dev3 requires nltk==3.4.4, but you have nltk 3.4 which is incompatible.\n",
    "cltl-brain 0.0.dev3 requires numpy==1.20.0, but you have numpy 1.21.2 which is incompatible.\n",
    "cltl-brain 0.0.dev3 requires python-Levenshtein==0.12.2, but you have python-levenshtein 0.12.0 which is incompatible.\n",
    "cltl-brain 0.0.dev3 requires rdflib-jsonld==0.5.0, but you have rdflib-jsonld 0.6.2 which is incompatible."
   ]
  },
  {
   "cell_type": "markdown",
   "metadata": {},
   "source": [
    "cltl packages are in cltl-requirements repo, clone it and install with -f option"
   ]
  },
  {
   "cell_type": "code",
   "execution_count": null,
   "metadata": {},
   "outputs": [],
   "source": [
    "! git clone https://github.com/leolani/cltl-requirements.git\n",
    "! python -m venv venv\n",
    "! source venv/bin/activate\n",
    "! pip install -f cltl-requirements/leolani -r requirements.txt\n",
    "! python -m ipykernel install --user --name=cltl"
   ]
  },
  {
   "cell_type": "markdown",
   "metadata": {},
   "source": [
    "Should not be necessary: Instead of pinning versions in the requirements.txt we can use the ones defined in cltl-requirements, mirror the external dependencies and install them from cltl-requirements/mirror/"
   ]
  },
  {
   "cell_type": "code",
   "execution_count": null,
   "metadata": {},
   "outputs": [],
   "source": [
    "! git clone --recurse-submodules -j8 https://github.com/leolani/cltl-requirements.git\n",
    "! cd cltl-requirements & make build & cd ..\n",
    "! python -m venv venv\n",
    "! source venv/bin/activate\n",
    "! pip install --no-index -f cltl-requirements/mirror -f cltl-requirements/leolani -r requirements.txt\n",
    "! python -m ipykernel install --user --name=cltl"
   ]
  },
  {
   "cell_type": "code",
   "execution_count": 2,
   "metadata": {},
   "outputs": [
    {
     "ename": "SyntaxError",
     "evalue": "invalid syntax (1633270057.py, line 2)",
     "output_type": "error",
     "traceback": [
      "\u001B[0;36m  File \u001B[0;32m\"/var/folders/6w/bw7dqbl9727c48pcjjh32r140000gn/T/ipykernel_4490/1633270057.py\"\u001B[0;36m, line \u001B[0;32m2\u001B[0m\n\u001B[0;31m    import cltl.asr[impl]\u001B[0m\n\u001B[0m                   ^\u001B[0m\n\u001B[0;31mSyntaxError\u001B[0m\u001B[0;31m:\u001B[0m invalid syntax\n"
     ]
    }
   ],
   "source": [
    "! cltl.backend[impl,host]\n",
    "import cltl.asr[impl]\n",
    "import cltl.vad[impl]"
   ]
  },
  {
   "cell_type": "markdown",
   "metadata": {},
   "source": [
    "## Running with ASR"
   ]
  },
  {
   "cell_type": "code",
   "execution_count": 1,
   "metadata": {},
   "outputs": [],
   "source": [
    "import numpy as np\n",
    "from cltl.asr.wav2vec_asr import Wav2Vec2ASR\n",
    "from cltl.backend.source.pyaudio_source import PyAudioSource\n",
    "from cltl.vad.webrtc_vad import WebRtcVAD\n",
    "\n",
    "from cltl.backend.api.util import raw_frames_to_np"
   ]
  },
  {
   "cell_type": "code",
   "execution_count": null,
   "metadata": {},
   "outputs": [
    {
     "data": {
      "application/vnd.jupyter.widget-view+json": {
       "model_id": "e1fe23c6e830444fb5fae3b61b0b1249",
       "version_major": 2,
       "version_minor": 0
      },
      "text/plain": [
       "Downloading:   0%|          | 0.00/159 [00:00<?, ?B/s]"
      ]
     },
     "metadata": {},
     "output_type": "display_data"
    },
    {
     "data": {
      "application/vnd.jupyter.widget-view+json": {
       "model_id": "c87f6b38aedd47e882a9e724c06b2bf7",
       "version_major": 2,
       "version_minor": 0
      },
      "text/plain": [
       "Downloading:   0%|          | 0.00/291 [00:00<?, ?B/s]"
      ]
     },
     "metadata": {},
     "output_type": "display_data"
    },
    {
     "data": {
      "application/vnd.jupyter.widget-view+json": {
       "model_id": "27bfd54083a14a77a04736b140d94b9f",
       "version_major": 2,
       "version_minor": 0
      },
      "text/plain": [
       "Downloading:   0%|          | 0.00/163 [00:00<?, ?B/s]"
      ]
     },
     "metadata": {},
     "output_type": "display_data"
    },
    {
     "data": {
      "application/vnd.jupyter.widget-view+json": {
       "model_id": "0190e06e3b554c5699e072b7b9bae7ac",
       "version_major": 2,
       "version_minor": 0
      },
      "text/plain": [
       "Downloading:   0%|          | 0.00/85.0 [00:00<?, ?B/s]"
      ]
     },
     "metadata": {},
     "output_type": "display_data"
    },
    {
     "data": {
      "application/vnd.jupyter.widget-view+json": {
       "model_id": "c6d057b68f7d49ae8b8bcb2b7987a144",
       "version_major": 2,
       "version_minor": 0
      },
      "text/plain": [
       "Downloading:   0%|          | 0.00/843 [00:00<?, ?B/s]"
      ]
     },
     "metadata": {},
     "output_type": "display_data"
    },
    {
     "data": {
      "application/vnd.jupyter.widget-view+json": {
       "model_id": "987cd7923a674c2fbb558eaad9424398",
       "version_major": 2,
       "version_minor": 0
      },
      "text/plain": [
       "Downloading:   0%|          | 0.00/1.26G [00:00<?, ?B/s]"
      ]
     },
     "metadata": {},
     "output_type": "display_data"
    },
    {
     "name": "stderr",
     "output_type": "stream",
     "text": [
      "Some weights of Wav2Vec2ForCTC were not initialized from the model checkpoint at facebook/wav2vec2-large-960h and are newly initialized: ['wav2vec2.masked_spec_embed']\n",
      "You should probably TRAIN this model on a down-stream task to be able to use it for predictions and inference.\n"
     ]
    }
   ],
   "source": [
    "source = PyAudioSource(16000, 1, 480)\n",
    "vad = WebRtcVAD()\n",
    "asr = Wav2Vec2ASR(model_id=\"facebook/wav2vec2-large-960h\", sampling_rate=16000)\n",
    "\n",
    "while True:\n",
    "    try:\n",
    "        with source as audio:\n",
    "            frames = raw_frames_to_np(audio, source.frame_size, source.channels, source.depth)\n",
    "            speech, offset, consumed = tuple(vad.detect_vad(frames, source.rate))\n",
    "            text = asr.speech_to_text(np.concatenate(tuple(speech)), source.rate)\n",
    "            print(\"Detected:\", text)\n",
    "    except Exception as e:\n",
    "        print(\"Failed\", e)"
   ]
  },
  {
   "cell_type": "markdown",
   "metadata": {
    "pycharm": {
     "name": "#%% md\n"
    }
   },
   "source": []
  }
 ],
 "metadata": {
  "kernelspec": {
   "display_name": "venv",
   "language": "python",
   "name": "venv"
  },
  "language_info": {
   "codemirror_mode": {
    "name": "ipython",
    "version": 3
   },
   "file_extension": ".py",
   "mimetype": "text/x-python",
   "name": "python",
   "nbconvert_exporter": "python",
   "pygments_lexer": "ipython3",
   "version": "3.7.6"
  }
 },
 "nbformat": 4,
 "nbformat_minor": 4
}