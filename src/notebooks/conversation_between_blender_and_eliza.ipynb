{
 "cells": [
  {
   "cell_type": "markdown",
   "metadata": {},
   "source": [
    "# Conversation between BlenderBot and Eliza"
   ]
  },
  {
   "cell_type": "markdown",
   "metadata": {},
   "source": [
    "In this notebook, we create a loop in which Blenderbot has a conversation with Eliza. We send an initial prompt to Blenderbot to start a conversation. We try to extract triples from the Blenderbot response and store these in the eKG.\n",
    "Next we capture Eliza's response and DialogueGpt's response constinuously until we meet the stop condition. \n",
    "\n",
    "In principle, this conversation can go on forever. At the end, we save the scenario in EMISSOR."
   ]
  },
  {
   "cell_type": "markdown",
   "metadata": {},
   "source": [
    "Before running, start GraphDB and make sure that there is a sandbox repository.\n",
    "GraphDB can be downloaded from:\n",
    "\n",
    "https://graphdb.ontotext.com"
   ]
  },
  {
   "cell_type": "markdown",
   "metadata": {},
   "source": [
    "## Import the necessary modules"
   ]
  },
  {
   "cell_type": "code",
   "execution_count": 1,
   "metadata": {},
   "outputs": [
    {
     "name": "stderr",
     "output_type": "stream",
     "text": [
      "/Users/piek/PycharmProjects/cltl-chatbots/chatvenv/lib/python3.9/site-packages/rdflib_jsonld/__init__.py:9: DeprecationWarning: The rdflib-jsonld package has been integrated into rdflib as of rdflib==6.0.1.  Please remove rdflib-jsonld from your project's dependencies.\n",
      "  warnings.warn(\n"
     ]
    }
   ],
   "source": [
    "import json\n",
    "import os\n",
    "import time\n",
    "import uuid\n",
    "from datetime import date\n",
    "from datetime import datetime\n",
    "from random import getrandbits, choice\n",
    "import pathlib\n",
    "import pprint\n",
    "import spacy\n",
    "\n",
    "# general imports for EMISSOR and the BRAIN\n",
    "import emissor as em\n",
    "import requests\n",
    "from cltl import brain\n",
    "from cltl.brain.long_term_memory import LongTermMemory\n",
    "from cltl.brain.utils.helper_functions import brain_response_to_json\n",
    "from cltl.combot.backend.api.discrete import UtteranceType\n",
    "from cltl.reply_generation.data.sentences import GREETING, ASK_NAME, ELOQUENCE, TALK_TO_ME\n",
    "from cltl.reply_generation.lenka_replier import LenkaReplier\n",
    "from cltl.triple_extraction.api import Chat, UtteranceHypothesis\n",
    "from emissor.persistence import ScenarioStorage\n",
    "from emissor.representation.annotation import AnnotationType, Token, NER\n",
    "from emissor.representation.container import Index\n",
    "from emissor.representation.scenario import Modality, ImageSignal, TextSignal, Mention, Annotation, Scenario"
   ]
  },
  {
   "cell_type": "code",
   "execution_count": 2,
   "metadata": {},
   "outputs": [],
   "source": [
    "#!python -m spacy download en"
   ]
  },
  {
   "cell_type": "markdown",
   "metadata": {},
   "source": [
    "### Import the chatbot utility functions"
   ]
  },
  {
   "cell_type": "code",
   "execution_count": 3,
   "metadata": {},
   "outputs": [],
   "source": [
    "import sys\n",
    "import os\n",
    "\n",
    "src_path = os.path.abspath(os.path.join('..'))\n",
    "if src_path not in sys.path:\n",
    "    sys.path.append(src_path)\n",
    "\n",
    "#### The next utils are needed for the interaction and creating triples and capsules\n",
    "import chatbots.util.driver_util as d_util\n",
    "import chatbots.util.text_util as t_util\n",
    "import chatbots.util.capsule_util as c_util\n",
    "import chatbots.intentions.talk as talk\n",
    "import chatbots.intentions.get_to_know_you as friend\n",
    "import chatbots.bots.eliza as eliza"
   ]
  },
  {
   "cell_type": "markdown",
   "metadata": {},
   "source": [
    "## Import a conversation agent pipeline"
   ]
  },
  {
   "cell_type": "code",
   "execution_count": 4,
   "metadata": {},
   "outputs": [],
   "source": [
    "#from transformers import AutoModelForCausalLM, AutoTokenizer, AutoModel, AutoModelWithLMHead\n",
    "#import torch\n",
    "\n",
    "#tokenizer = AutoTokenizer.from_pretrained('microsoft/DialoGPT-medium')\n",
    "#model = AutoModelForCausalLM.from_pretrained('microsoft/DialoGPT-medium')\n",
    "\n",
    "#tokenizer = AutoTokenizer.from_pretrained('gpt2')\n",
    "#model = AutoModelForCausalLM.from_pretrained('gpt2')\n",
    "\n",
    "#tokenizer = AutoTokenizer.from_pretrained(\"manueltonneau/bert-base-cased-conversational-nli\")\n",
    "#model = AutoModel.from_pretrained(\"manueltonneau/bert-base-cased-conversational-nli\")\n",
    "\n",
    "#tokenizer = AutoTokenizer.from_pretrained(\"xlnet-large-cased\")\n",
    "#model = AutoModelForCausalLM.from_pretrained(\"xlnet-large-cased\")\n",
    "\n",
    "#tokenizer = AutoTokenizer.from_pretrained(\"t5-small\")\n",
    "\n",
    "#model = AutoModelWithLMHead.from_pretrained(\"t5-small\")\n",
    "\n",
    "#### Needed to suppress messages from DialgGPT\n",
    "#import os\n",
    "#os.environ[\"TOKENIZERS_PARALLELISM\"] = \"false\""
   ]
  },
  {
   "cell_type": "code",
   "execution_count": 4,
   "metadata": {},
   "outputs": [],
   "source": [
    "from transformers import BlenderbotTokenizer, BlenderbotForConditionalGeneration\n",
    "mname = 'facebook/blenderbot-400M-distill'\n",
    "model = BlenderbotForConditionalGeneration.from_pretrained(mname)\n",
    "tokenizer = BlenderbotTokenizer.from_pretrained(mname)"
   ]
  },
  {
   "cell_type": "code",
   "execution_count": 5,
   "metadata": {},
   "outputs": [
    {
     "name": "stdout",
     "output_type": "stream",
     "text": [
      "[\"<s> I'm not sure, but I do know that they have been around since the late 19th century.</s>\"]\n"
     ]
    }
   ],
   "source": [
    "UTTERANCE = \" I am curious. Has blenderbot live in location?\"\n",
    "inputs = tokenizer([UTTERANCE], return_tensors='pt')\n",
    "reply_ids = model.generate(**inputs)\n",
    "print(tokenizer.batch_decode(reply_ids))"
   ]
  },
  {
   "cell_type": "markdown",
   "metadata": {},
   "source": [
    "## Standard initialisation of a scenario\n",
    "\n",
    "We initialise a scenario in the standard way by creating a unique folder and setting the AGENT and HUMAN_NAME and HUMAN_ID variables. Throughout this scenario, the HUMAN_NAME and HUMAN_ID will be used as the source for the utterances."
   ]
  },
  {
   "cell_type": "code",
   "execution_count": 6,
   "metadata": {},
   "outputs": [
    {
     "name": "stdout",
     "output_type": "stream",
     "text": [
      "Directories for 2022-05-03-19_43_11 created in /Users/piek/PycharmProjects/cltl-chatbots/data\n"
     ]
    }
   ],
   "source": [
    "from random import getrandbits\n",
    "import requests\n",
    "##### Setting the location\n",
    "place_id = getrandbits(8)\n",
    "location = None\n",
    "try:\n",
    "    location = requests.get(\"https://ipinfo.io\").json()\n",
    "except:\n",
    "    print(\"failed to get the IP location\")\n",
    "    \n",
    "##### Setting the agents\n",
    "AGENT = \"Leolani\"\n",
    "HUMAN_NAME = \"BLENDERBOT\"\n",
    "HUMAN_ID = \"BLENDERBOT\"\n",
    "\n",
    "### The name of your scenario\n",
    "scenario_id = datetime.today().strftime(\"%Y-%m-%d-%H_%M_%S\")\n",
    "\n",
    "### Specify the path to an existing data folder where your scenario is created and saved as a subfolder\n",
    "# Find the repository root dir\n",
    "parent, dir_name = (d_util.__file__, \"_\")\n",
    "while dir_name and dir_name != \"src\":\n",
    "    parent, dir_name = os.path.split(parent)\n",
    "root_dir = parent\n",
    "scenario_path = os.path.abspath(os.path.join(root_dir, 'data'))\n",
    "\n",
    "if not os.path.exists(scenario_path) :\n",
    "    os.mkdir(scenario_path)\n",
    "    print(\"Created a data folder for storing the scenarios\", scenario_path)\n",
    "\n",
    "### Define the folders where the images and rdf triples are saved\n",
    "imagefolder = scenario_path + \"/\" + scenario_id + \"/\" + \"image\"\n",
    "rdffolder = scenario_path + \"/\" + scenario_id + \"/\" + \"rdf\"\n",
    "\n",
    "### Create the scenario folder, the json files and a scenarioStorage and scenario in memory\n",
    "scenarioStorage = d_util.create_scenario(scenario_path, scenario_id)\n",
    "scenario_ctrl = scenarioStorage.create_scenario(scenario_id, int(time.time() * 1e3), None, AGENT)"
   ]
  },
  {
   "cell_type": "markdown",
   "metadata": {},
   "source": [
    "## Specifying the BRAIN"
   ]
  },
  {
   "cell_type": "markdown",
   "metadata": {},
   "source": [
    "We specify the BRAIN in GraphDB and use the scenario path just defined for storing the RDF triple produced in EMISSOR.\n",
    "\n",
    "If you set *clear_all* to *True*, the sandbox triple store is emptied (memory erased) and the basic ontological models are reloaded. Setting it to *False* means you add things to the current memory."
   ]
  },
  {
   "cell_type": "code",
   "execution_count": 7,
   "metadata": {},
   "outputs": [
    {
     "name": "stdout",
     "output_type": "stream",
     "text": [
      "2022-05-03 19:44:13,740 -     INFO -    cltl.brain.basic_brain.LongTermMemory - Booted\n"
     ]
    },
    {
     "name": "stderr",
     "output_type": "stream",
     "text": [
      "2022-05-03 19:44:13 -     INFO -                        cltl.brain.basic_brain.LongTermMemory - Booted\n"
     ]
    },
    {
     "name": "stdout",
     "output_type": "stream",
     "text": [
      "2022-05-03 19:44:17,668 -     INFO -    cltl.brain.basic_brain.LongTermMemory - Uploading ontology to brain\n"
     ]
    },
    {
     "name": "stderr",
     "output_type": "stream",
     "text": [
      "2022-05-03 19:44:17 -     INFO -                        cltl.brain.basic_brain.LongTermMemory - Uploading ontology to brain\n"
     ]
    },
    {
     "name": "stdout",
     "output_type": "stream",
     "text": [
      "2022-05-03 19:44:19,216 -     INFO -  cltl.brain.basic_brain.ThoughtGenerator - Booted\n"
     ]
    },
    {
     "name": "stderr",
     "output_type": "stream",
     "text": [
      "2022-05-03 19:44:19 -     INFO -                      cltl.brain.basic_brain.ThoughtGenerator - Booted\n"
     ]
    },
    {
     "name": "stdout",
     "output_type": "stream",
     "text": [
      "2022-05-03 19:44:19,218 -     INFO -  cltl.brain.basic_brain.LocationReasoner - Booted\n"
     ]
    },
    {
     "name": "stderr",
     "output_type": "stream",
     "text": [
      "2022-05-03 19:44:19 -     INFO -                      cltl.brain.basic_brain.LocationReasoner - Booted\n"
     ]
    },
    {
     "name": "stdout",
     "output_type": "stream",
     "text": [
      "2022-05-03 19:44:19,221 -     INFO -      cltl.brain.basic_brain.TypeReasoner - Booted\n"
     ]
    },
    {
     "name": "stderr",
     "output_type": "stream",
     "text": [
      "2022-05-03 19:44:19 -     INFO -                          cltl.brain.basic_brain.TypeReasoner - Booted\n"
     ]
    },
    {
     "name": "stdout",
     "output_type": "stream",
     "text": [
      "2022-05-03 19:44:19,223 -     INFO -   cltl.brain.basic_brain.TrustCalculator - Booted\n"
     ]
    },
    {
     "name": "stderr",
     "output_type": "stream",
     "text": [
      "2022-05-03 19:44:19 -     INFO -                       cltl.brain.basic_brain.TrustCalculator - Booted\n"
     ]
    },
    {
     "name": "stdout",
     "output_type": "stream",
     "text": [
      "2022-05-03 19:44:19,390 -     INFO -   cltl.brain.basic_brain.TrustCalculator - Computed trust for all known agents\n"
     ]
    },
    {
     "name": "stderr",
     "output_type": "stream",
     "text": [
      "2022-05-03 19:44:19 -     INFO -                       cltl.brain.basic_brain.TrustCalculator - Computed trust for all known agents\n"
     ]
    }
   ],
   "source": [
    "log_path = pathlib.Path(rdffolder)\n",
    "my_brain = brain.LongTermMemory(address=\"http://localhost:7200/repositories/blender4\",\n",
    "                                log_dir=log_path,\n",
    "                                clear_all=True)"
   ]
  },
  {
   "cell_type": "markdown",
   "metadata": {},
   "source": [
    "## Create an instance of a replier"
   ]
  },
  {
   "cell_type": "code",
   "execution_count": 22,
   "metadata": {},
   "outputs": [],
   "source": [
    "replier = eliza.ElizaImpl()"
   ]
  },
  {
   "cell_type": "markdown",
   "metadata": {},
   "source": [
    "## Initialise a chat with the HUMAN_ID to keep track of the dialogue history"
   ]
  },
  {
   "cell_type": "code",
   "execution_count": 9,
   "metadata": {},
   "outputs": [
    {
     "name": "stderr",
     "output_type": "stream",
     "text": [
      "2022-05-03 19:44:58 -     INFO -                                  cltl.triple_extraction.Chat - << Start of Chat with BLENDERBOT >>\n"
     ]
    }
   ],
   "source": [
    "chat = Chat(HUMAN_ID)"
   ]
  },
  {
   "cell_type": "code",
   "execution_count": 10,
   "metadata": {},
   "outputs": [],
   "source": [
    "nlp = spacy.load(\"en_core_web_sm\")\n",
    "#nlp= spacy.load('en') # other languages: de, es, pt, fr, it, nl"
   ]
  },
  {
   "cell_type": "code",
   "execution_count": 11,
   "metadata": {},
   "outputs": [],
   "source": [
    "from cltl.triple_extraction.cfg_analyzer import CFGAnalyzer\n",
    "analyzer = CFGAnalyzer()"
   ]
  },
  {
   "cell_type": "code",
   "execution_count": 12,
   "metadata": {},
   "outputs": [
    {
     "name": "stderr",
     "output_type": "stream",
     "text": [
      "2022-05-03 19:45:08 -     INFO -                                  cltl.triple_extraction.Chat - BLENDERBOT 000: \"I like dogs.\"\n",
      "2022-05-03 19:45:10 -     INFO -                           cltl.triple_extraction.CFGAnalyzer - Found 1 triples\n",
      "2022-05-03 19:45:11 -     INFO -              cltl.triple_extraction.GeneralStatementAnalyzer - Utterance type: \"STATEMENT\"\n",
      "2022-05-03 19:45:11 -     INFO -              cltl.triple_extraction.GeneralStatementAnalyzer - RDF triplet    subject: {\"label\": \"BLENDERBOT\", \"type\": [\"agent\"]}\n",
      "2022-05-03 19:45:11 -     INFO -              cltl.triple_extraction.GeneralStatementAnalyzer - RDF triplet  predicate: {\"label\": \"like\", \"type\": [\"emotion\"]}\n",
      "2022-05-03 19:45:11 -     INFO -              cltl.triple_extraction.GeneralStatementAnalyzer - RDF triplet     object: {\"label\": \"dogs.\", \"type\": [\"agent\"]}\n",
      "2022-05-03 19:45:11 -     INFO -              cltl.triple_extraction.GeneralStatementAnalyzer - Perspective  certainty: POSSIBLE\n",
      "2022-05-03 19:45:11 -     INFO -              cltl.triple_extraction.GeneralStatementAnalyzer - Perspective   polarity: POSITIVE\n",
      "2022-05-03 19:45:11 -     INFO -              cltl.triple_extraction.GeneralStatementAnalyzer - Perspective  sentiment: NEUTRAL\n",
      "2022-05-03 19:45:11 -     INFO -              cltl.triple_extraction.GeneralStatementAnalyzer - Perspective    emotion: UNDERSPECIFIED\n"
     ]
    },
    {
     "name": "stdout",
     "output_type": "stream",
     "text": [
      "BLENDERBOT 000: \"I like dogs.\" [{'object': {'label': 'dogs.', 'type': ['agent']}, 'perspective': {'sentiment': 0.75, 'certainty': 1.0, 'polarity': 1.0, 'emotion': 0.0}, 'predicate': {'label': 'like', 'type': ['emotion']}, 'subject': {'label': 'BLENDERBOT', 'type': ['agent']}, 'utterance_type': 'STATEMENT'}]\n"
     ]
    }
   ],
   "source": [
    "#CFG test\n",
    "item = {'utterance': \"I like dogs.\"}\n",
    "chat.add_utterance(item['utterance'])\n",
    "analyzer.analyze(chat.last_utterance)\n",
    "print(chat.last_utterance, chat.last_utterance.triples)"
   ]
  },
  {
   "cell_type": "markdown",
   "metadata": {
    "tags": []
   },
   "source": [
    "## Start the interaction"
   ]
  },
  {
   "cell_type": "code",
   "execution_count": 14,
   "metadata": {},
   "outputs": [],
   "source": [
    "context_size = 5\n",
    "def get_answer_from_blender(leolani_prompt:str, history_list:[]):\n",
    "    answer = \"\"\n",
    "    sentences = []\n",
    "    history = \"\"\n",
    "    for i, his in enumerate(history):\n",
    "        if i==context_size:\n",
    "            break\n",
    "        history += his +\". \"\n",
    "    input_prompt = history+leolani_prompt\n",
    "    print('input_prompt:',input_prompt)\n",
    "    bot_input_ids = tokenizer(input_prompt, return_tensors='pt')\n",
    "    chat_history_ids = model.generate(**bot_input_ids)\n",
    "    utteranceList = tokenizer.batch_decode(chat_history_ids)\n",
    "    print('utteranceList:', utteranceList)\n",
    "    answer = utteranceList[0].strip('</s>')\n",
    "    print(\"ANSWER\", answer)\n",
    "    doc = nlp(answer)\n",
    "    for s in doc.sents:\n",
    "        sentence = \"\"\n",
    "        for token in s:\n",
    "            if token.text==',':\n",
    "                sentences.append(sentence) \n",
    "            else:\n",
    "                sentence += token.text+\" \"\n",
    "        sentences.append(sentence) \n",
    "    return sentences"
   ]
  },
  {
   "cell_type": "code",
   "execution_count": 15,
   "metadata": {},
   "outputs": [],
   "source": [
    "def process_text_with_cfg(scenario: Scenario,\n",
    "                           place_id: str,\n",
    "                           location: str,\n",
    "                           human_id: str,\n",
    "                           textSignal: TextSignal,\n",
    "                           chat: Chat,\n",
    "                           analyzer: CFGAnalyzer,\n",
    "                           my_brain: LongTermMemory,\n",
    "                           print_details:False):\n",
    "    capsule = None\n",
    "    response = None\n",
    "    response_json = None\n",
    "    ### Next, we get all possible triples\n",
    "    chat.add_utterance(c_util.seq_to_text(textSignal.seq))\n",
    "\n",
    "    analyzer.analyze(chat.last_utterance)\n",
    "\n",
    "    if print_details:\n",
    "        print('Last utterance:', c_util.seq_to_text(textSignal.seq))\n",
    "        print('CFG Tripels:', chat.last_utterance.triples)\n",
    "\n",
    "\n",
    "    for extracted_triple in chat.last_utterance.triples:\n",
    "        print(extracted_triple['utterance_type'], extracted_triple)\n",
    "        capsule = c_util.scenario_utterance_to_capsule(scenario,place_id,location, textSignal,human_id, extracted_triple)\n",
    "        response = my_brain.update(capsule, reason_types=False, create_label=True)\n"
   ]
  },
  {
   "cell_type": "code",
   "execution_count": 18,
   "metadata": {},
   "outputs": [],
   "source": [
    "def process_triple_spacy(scenario: Scenario,\n",
    "                           place_id: str,\n",
    "                           location: str,\n",
    "                           speaker: str,\n",
    "                           hearer:str,\n",
    "                           textSignal: TextSignal,\n",
    "                           my_brain: LongTermMemory,\n",
    "                           nlp,\n",
    "                           print_details:False):\n",
    "    response = None\n",
    "    triples = t_util.get_subj_amod_triples_with_spacy(textSignal, nlp, speaker, hearer)\n",
    "    triples.extend(t_util.get_subj_obj_triples_with_spacy(textSignal, nlp, speaker, hearer))\n",
    "    if print_details:\n",
    "        print('spacy Triples', triples)\n",
    "\n",
    "    for triple in triples:\n",
    "        capsule = c_util.scenario_pred_to_capsule(scenario,\n",
    "                                                          place_id,\n",
    "                                                          location,\n",
    "                                                          textSignal,\n",
    "                                                          speaker,\n",
    "                                                          triple[1],\n",
    "                                                          triple[0],\n",
    "                                                          triple[2])\n",
    "        if print_details:\n",
    "            print('Triple spacy Capsule:')\n",
    "            pprint.pprint(capsule)\n",
    "\n",
    "        try:\n",
    "            response = my_brain.update(capsule, reason_types=False, create_label=True)\n",
    "            response_json = brain_response_to_json(response)\n",
    "        except:\n",
    "            print('Error:', response)"
   ]
  },
  {
   "cell_type": "code",
   "execution_count": null,
   "metadata": {},
   "outputs": [
    {
     "name": "stdout",
     "output_type": "stream",
     "text": [
      "\n",
      "\tLeolani: Would you like to chat? I'll do my best to keep up\n",
      "input_prompt: Would you like to chat? I'll do my best to keep up\n"
     ]
    },
    {
     "name": "stderr",
     "output_type": "stream",
     "text": [
      "2022-05-03 19:56:46 -     INFO -                                  cltl.triple_extraction.Chat - BLENDERBOT 004: \"Sure\"\n"
     ]
    },
    {
     "name": "stdout",
     "output_type": "stream",
     "text": [
      "utteranceList: [\"<s> Sure, what do you do for a living? I'm an accountant, what about you?</s>\"]\n",
      "ANSWER  Sure, what do you do for a living? I'm an accountant, what about you?\n"
     ]
    },
    {
     "name": "stderr",
     "output_type": "stream",
     "text": [
      "2022-05-03 19:56:47 -  WARNING -                           cltl.triple_extraction.CFGAnalyzer - Couldn't parse input\n",
      "2022-05-03 19:56:47 -     INFO -                                  cltl.triple_extraction.Chat - BLENDERBOT 005: \"Sure what do you do for a living?\"\n"
     ]
    },
    {
     "name": "stdout",
     "output_type": "stream",
     "text": [
      "Last utterance: Sure\n",
      "CFG Tripels: []\n",
      "spacy Triples []\n",
      "\n",
      "\tLeolani: Please tell me more.\n",
      "\n",
      "\tFixed question BLENDERBOT: Sure what do you do for a living?\n"
     ]
    },
    {
     "name": "stderr",
     "output_type": "stream",
     "text": [
      "2022-05-03 19:56:48 -  WARNING -                           cltl.triple_extraction.CFGAnalyzer - Couldn't parse input\n",
      "2022-05-03 19:56:48 -     INFO -                                  cltl.triple_extraction.Chat - BLENDERBOT 006: \"I 'm an accountant\"\n"
     ]
    },
    {
     "name": "stdout",
     "output_type": "stream",
     "text": [
      "Last utterance: Sure what do you do for a living?\n",
      "CFG Tripels: []\n",
      "spacy Triples []\n",
      "\n",
      "\tLeolani: Why do you ask that?\n"
     ]
    },
    {
     "name": "stderr",
     "output_type": "stream",
     "text": [
      "2022-05-03 19:56:49 -     INFO -                           cltl.triple_extraction.CFGAnalyzer - Found 3 triples\n",
      "2022-05-03 19:56:49 -     INFO -              cltl.triple_extraction.GeneralStatementAnalyzer - Utterance type: \"STATEMENT\"\n",
      "2022-05-03 19:56:49 -     INFO -              cltl.triple_extraction.GeneralStatementAnalyzer - RDF triplet    subject: {\"label\": \"BLENDERBOT\", \"type\": [\"agent\"]}\n",
      "2022-05-03 19:56:49 -     INFO -              cltl.triple_extraction.GeneralStatementAnalyzer - RDF triplet  predicate: {\"label\": \"be\", \"type\": [\"stative\"]}\n",
      "2022-05-03 19:56:49 -     INFO -              cltl.triple_extraction.GeneralStatementAnalyzer - RDF triplet     object: {\"label\": \"an-accountant\", \"type\": [\"person\"]}\n",
      "2022-05-03 19:56:49 -     INFO -              cltl.triple_extraction.GeneralStatementAnalyzer - Perspective  certainty: POSSIBLE\n",
      "2022-05-03 19:56:49 -     INFO -              cltl.triple_extraction.GeneralStatementAnalyzer - Perspective   polarity: POSITIVE\n",
      "2022-05-03 19:56:49 -     INFO -              cltl.triple_extraction.GeneralStatementAnalyzer - Perspective  sentiment: UNDERSPECIFIED\n",
      "2022-05-03 19:56:49 -     INFO -              cltl.triple_extraction.GeneralStatementAnalyzer - Perspective    emotion: UNDERSPECIFIED\n",
      "2022-05-03 19:56:49 -     INFO -              cltl.triple_extraction.GeneralStatementAnalyzer - Utterance type: \"STATEMENT\"\n",
      "2022-05-03 19:56:49 -     INFO -              cltl.triple_extraction.GeneralStatementAnalyzer - RDF triplet    subject: {\"label\": \"BLENDERBOT\", \"type\": [\"agent\"]}\n",
      "2022-05-03 19:56:49 -     INFO -              cltl.triple_extraction.GeneralStatementAnalyzer - RDF triplet  predicate: {\"label\": \"be\", \"type\": [\"stative\"]}\n",
      "2022-05-03 19:56:49 -     INFO -              cltl.triple_extraction.GeneralStatementAnalyzer - RDF triplet     object: {\"label\": \"an-accountant\", \"type\": [\"person\"]}\n",
      "2022-05-03 19:56:49 -     INFO -              cltl.triple_extraction.GeneralStatementAnalyzer - Perspective  certainty: POSSIBLE\n",
      "2022-05-03 19:56:49 -     INFO -              cltl.triple_extraction.GeneralStatementAnalyzer - Perspective   polarity: POSITIVE\n",
      "2022-05-03 19:56:49 -     INFO -              cltl.triple_extraction.GeneralStatementAnalyzer - Perspective  sentiment: UNDERSPECIFIED\n",
      "2022-05-03 19:56:49 -     INFO -              cltl.triple_extraction.GeneralStatementAnalyzer - Perspective    emotion: UNDERSPECIFIED\n",
      "2022-05-03 19:56:49 -     INFO -              cltl.triple_extraction.GeneralStatementAnalyzer - Utterance type: \"STATEMENT\"\n",
      "2022-05-03 19:56:49 -     INFO -              cltl.triple_extraction.GeneralStatementAnalyzer - RDF triplet    subject: {\"label\": \"BLENDERBOT\", \"type\": [\"agent\"]}\n",
      "2022-05-03 19:56:49 -     INFO -              cltl.triple_extraction.GeneralStatementAnalyzer - RDF triplet  predicate: {\"label\": \"be\", \"type\": [\"stative\"]}\n",
      "2022-05-03 19:56:49 -     INFO -              cltl.triple_extraction.GeneralStatementAnalyzer - RDF triplet     object: {\"label\": \"an-accountant\", \"type\": [\"person\"]}\n",
      "2022-05-03 19:56:49 -     INFO -              cltl.triple_extraction.GeneralStatementAnalyzer - Perspective  certainty: POSSIBLE\n",
      "2022-05-03 19:56:49 -     INFO -              cltl.triple_extraction.GeneralStatementAnalyzer - Perspective   polarity: POSITIVE\n",
      "2022-05-03 19:56:49 -     INFO -              cltl.triple_extraction.GeneralStatementAnalyzer - Perspective  sentiment: UNDERSPECIFIED\n",
      "2022-05-03 19:56:49 -     INFO -              cltl.triple_extraction.GeneralStatementAnalyzer - Perspective    emotion: UNDERSPECIFIED\n"
     ]
    },
    {
     "name": "stdout",
     "output_type": "stream",
     "text": [
      "Last utterance: I 'm an accountant\n",
      "CFG Tripels: [{'object': {'label': 'an-accountant', 'type': ['person']}, 'perspective': {'sentiment': 0.0, 'certainty': 1.0, 'polarity': 1.0, 'emotion': 0.0}, 'predicate': {'label': 'be', 'type': ['stative']}, 'subject': {'label': 'BLENDERBOT', 'type': ['agent']}, 'utterance_type': 'STATEMENT'}]\n",
      "STATEMENT {'object': {'label': 'an-accountant', 'type': ['person']}, 'perspective': {'sentiment': 0.0, 'certainty': 1.0, 'polarity': 1.0, 'emotion': 0.0}, 'predicate': {'label': 'be', 'type': ['stative']}, 'subject': {'label': 'BLENDERBOT', 'type': ['agent']}, 'utterance_type': 'STATEMENT'}\n",
      "2022-05-03 19:56:50,011 -     INFO -    cltl.brain.basic_brain.LongTermMemory - Triple in statement: blenderbot_be_an-accountant [agent_->_person])\n"
     ]
    },
    {
     "name": "stderr",
     "output_type": "stream",
     "text": [
      "2022-05-03 19:56:50 -     INFO -                        cltl.brain.basic_brain.LongTermMemory - Triple in statement: blenderbot_be_an-accountant [agent_->_person])\n"
     ]
    },
    {
     "name": "stdout",
     "output_type": "stream",
     "text": [
      "2022-05-03 19:56:50,028 -     INFO -  cltl.brain.basic_brain.ThoughtGenerator - Entity Novelty: new subject - new object \n"
     ]
    },
    {
     "name": "stderr",
     "output_type": "stream",
     "text": [
      "2022-05-03 19:56:50 -     INFO -                      cltl.brain.basic_brain.ThoughtGenerator - Entity Novelty: new subject - new object \n"
     ]
    },
    {
     "name": "stdout",
     "output_type": "stream",
     "text": [
      "2022-05-03 19:56:51,441 -     INFO -  cltl.brain.basic_brain.ThoughtGenerator - Negation Conflicts: blenderbot on May,2022 about UNDERSPECIFIED\n"
     ]
    },
    {
     "name": "stderr",
     "output_type": "stream",
     "text": [
      "2022-05-03 19:56:51 -     INFO -                      cltl.brain.basic_brain.ThoughtGenerator - Negation Conflicts: blenderbot on May,2022 about UNDERSPECIFIED\n"
     ]
    },
    {
     "name": "stdout",
     "output_type": "stream",
     "text": [
      "2022-05-03 19:56:51,460 -     INFO -  cltl.brain.basic_brain.ThoughtGenerator - Gaps: 26 gaps as subject: e.g. like-by agent - 15 gaps as object: e.g. be-parent-of person\n"
     ]
    },
    {
     "name": "stderr",
     "output_type": "stream",
     "text": [
      "2022-05-03 19:56:51 -     INFO -                      cltl.brain.basic_brain.ThoughtGenerator - Gaps: 26 gaps as subject: e.g. like-by agent - 15 gaps as object: e.g. be-parent-of person\n"
     ]
    },
    {
     "name": "stdout",
     "output_type": "stream",
     "text": [
      "2022-05-03 19:56:51,478 -     INFO -  cltl.brain.basic_brain.ThoughtGenerator - Gaps: 26 gaps as subject: e.g. experience taste - 15 gaps as object: e.g. read-by book\n"
     ]
    },
    {
     "name": "stderr",
     "output_type": "stream",
     "text": [
      "2022-05-03 19:56:51 -     INFO -                      cltl.brain.basic_brain.ThoughtGenerator - Gaps: 26 gaps as subject: e.g. experience taste - 15 gaps as object: e.g. read-by book\n",
      "2022-05-03 19:56:51 -     INFO -                                  cltl.triple_extraction.Chat - BLENDERBOT 007: \"I 'm an accountant what about you?\"\n"
     ]
    },
    {
     "name": "stdout",
     "output_type": "stream",
     "text": [
      "spacy Triples []\n",
      "\n",
      "\tLeolani: How do you feel when you say that?\n",
      "\n",
      "\tFixed question BLENDERBOT: I 'm an accountant what about you?\n"
     ]
    },
    {
     "name": "stderr",
     "output_type": "stream",
     "text": [
      "2022-05-03 19:56:52 -  WARNING -                           cltl.triple_extraction.CFGAnalyzer - Couldn't parse input\n"
     ]
    },
    {
     "name": "stdout",
     "output_type": "stream",
     "text": [
      "Last utterance: I 'm an accountant what about you?\n",
      "CFG Tripels: []\n",
      "spacy Triples []\n",
      "\n",
      "\tLeolani: Why do you ask that?\n",
      "input_prompt: Why do you ask that?\n"
     ]
    },
    {
     "name": "stderr",
     "output_type": "stream",
     "text": [
      "2022-05-03 19:56:57 -     INFO -                                  cltl.triple_extraction.Chat - BLENDERBOT 008: \"I do n't know\"\n"
     ]
    },
    {
     "name": "stdout",
     "output_type": "stream",
     "text": [
      "utteranceList: [\"<s> I don't know, I guess I just feel like I'm not good enough for them.</s>\"]\n",
      "ANSWER  I don't know, I guess I just feel like I'm not good enough for them.\n"
     ]
    },
    {
     "name": "stderr",
     "output_type": "stream",
     "text": [
      "2022-05-03 19:56:59 -     INFO -                           cltl.triple_extraction.CFGAnalyzer - Found 2 triples\n",
      "2022-05-03 19:56:59 -     INFO -              cltl.triple_extraction.GeneralStatementAnalyzer - Utterance type: \"STATEMENT\"\n",
      "2022-05-03 19:56:59 -     INFO -              cltl.triple_extraction.GeneralStatementAnalyzer - RDF triplet    subject: {\"label\": \"BLENDERBOT\", \"type\": [\"agent\"]}\n",
      "2022-05-03 19:56:59 -     INFO -              cltl.triple_extraction.GeneralStatementAnalyzer - RDF triplet  predicate: {\"label\": \"do\", \"type\": [\"social\"]}\n",
      "2022-05-03 19:56:59 -     INFO -              cltl.triple_extraction.GeneralStatementAnalyzer - RDF triplet     object: {\"label\": \"n-not-know\", \"type\": [\"substance\", \"adv\", \"cognition\"]}\n",
      "2022-05-03 19:56:59 -     INFO -              cltl.triple_extraction.GeneralStatementAnalyzer - Perspective  certainty: POSSIBLE\n",
      "2022-05-03 19:56:59 -     INFO -              cltl.triple_extraction.GeneralStatementAnalyzer - Perspective   polarity: POSITIVE\n",
      "2022-05-03 19:56:59 -     INFO -              cltl.triple_extraction.GeneralStatementAnalyzer - Perspective  sentiment: UNDERSPECIFIED\n",
      "2022-05-03 19:56:59 -     INFO -              cltl.triple_extraction.GeneralStatementAnalyzer - Perspective    emotion: UNDERSPECIFIED\n",
      "2022-05-03 19:56:59 -     INFO -              cltl.triple_extraction.GeneralStatementAnalyzer - Utterance type: \"STATEMENT\"\n",
      "2022-05-03 19:56:59 -     INFO -              cltl.triple_extraction.GeneralStatementAnalyzer - RDF triplet    subject: {\"label\": \"BLENDERBOT\", \"type\": [\"agent\"]}\n",
      "2022-05-03 19:56:59 -     INFO -              cltl.triple_extraction.GeneralStatementAnalyzer - RDF triplet  predicate: {\"label\": \"do\", \"type\": [\"social\"]}\n",
      "2022-05-03 19:56:59 -     INFO -              cltl.triple_extraction.GeneralStatementAnalyzer - RDF triplet     object: {\"label\": \"n-not-know\", \"type\": [\"substance\", \"adv\", \"cognition\"]}\n",
      "2022-05-03 19:56:59 -     INFO -              cltl.triple_extraction.GeneralStatementAnalyzer - Perspective  certainty: POSSIBLE\n",
      "2022-05-03 19:56:59 -     INFO -              cltl.triple_extraction.GeneralStatementAnalyzer - Perspective   polarity: POSITIVE\n",
      "2022-05-03 19:56:59 -     INFO -              cltl.triple_extraction.GeneralStatementAnalyzer - Perspective  sentiment: UNDERSPECIFIED\n",
      "2022-05-03 19:56:59 -     INFO -              cltl.triple_extraction.GeneralStatementAnalyzer - Perspective    emotion: UNDERSPECIFIED\n"
     ]
    },
    {
     "name": "stdout",
     "output_type": "stream",
     "text": [
      "Last utterance: I do n't know\n",
      "CFG Tripels: [{'object': {'label': 'n-not-know', 'type': ['substance', 'adv', 'cognition']}, 'perspective': {'sentiment': 0.0, 'certainty': 1.0, 'polarity': 1.0, 'emotion': 0.0}, 'predicate': {'label': 'do', 'type': ['social']}, 'subject': {'label': 'BLENDERBOT', 'type': ['agent']}, 'utterance_type': 'STATEMENT'}]\n",
      "STATEMENT {'object': {'label': 'n-not-know', 'type': ['substance', 'adv', 'cognition']}, 'perspective': {'sentiment': 0.0, 'certainty': 1.0, 'polarity': 1.0, 'emotion': 0.0}, 'predicate': {'label': 'do', 'type': ['social']}, 'subject': {'label': 'BLENDERBOT', 'type': ['agent']}, 'utterance_type': 'STATEMENT'}\n",
      "2022-05-03 19:56:59,715 -     INFO -    cltl.brain.basic_brain.LongTermMemory - Triple in statement: blenderbot_do_n-not-know [agent_->_substance or cognition])\n"
     ]
    },
    {
     "name": "stderr",
     "output_type": "stream",
     "text": [
      "2022-05-03 19:56:59 -     INFO -                        cltl.brain.basic_brain.LongTermMemory - Triple in statement: blenderbot_do_n-not-know [agent_->_substance or cognition])\n"
     ]
    },
    {
     "name": "stdout",
     "output_type": "stream",
     "text": [
      "2022-05-03 19:56:59,733 -     INFO -  cltl.brain.basic_brain.ThoughtGenerator - Entity Novelty: existing subject - new object \n"
     ]
    },
    {
     "name": "stderr",
     "output_type": "stream",
     "text": [
      "2022-05-03 19:56:59 -     INFO -                      cltl.brain.basic_brain.ThoughtGenerator - Entity Novelty: existing subject - new object \n"
     ]
    },
    {
     "name": "stdout",
     "output_type": "stream",
     "text": [
      "2022-05-03 19:57:01,108 -     INFO -  cltl.brain.basic_brain.ThoughtGenerator - Negation Conflicts: blenderbot on May,2022 about UNDERSPECIFIED\n"
     ]
    },
    {
     "name": "stderr",
     "output_type": "stream",
     "text": [
      "2022-05-03 19:57:01 -     INFO -                      cltl.brain.basic_brain.ThoughtGenerator - Negation Conflicts: blenderbot on May,2022 about UNDERSPECIFIED\n"
     ]
    },
    {
     "name": "stdout",
     "output_type": "stream",
     "text": [
      "2022-05-03 19:57:01,126 -     INFO -  cltl.brain.basic_brain.ThoughtGenerator - Gaps: 26 gaps as subject: e.g. dislike agent - 15 gaps as object: e.g. be-family-of person\n"
     ]
    },
    {
     "name": "stderr",
     "output_type": "stream",
     "text": [
      "2022-05-03 19:57:01 -     INFO -                      cltl.brain.basic_brain.ThoughtGenerator - Gaps: 26 gaps as subject: e.g. dislike agent - 15 gaps as object: e.g. be-family-of person\n",
      "2022-05-03 19:57:01 -     INFO -                                  cltl.triple_extraction.Chat - BLENDERBOT 009: \"I do n't know I guess I just feel like I 'm not good enough for them.\"\n"
     ]
    },
    {
     "name": "stdout",
     "output_type": "stream",
     "text": [
      "spacy Triples []\n",
      "\n",
      "\tLeolani: Please tell me more.\n",
      "\n",
      "\tFixed period BLENDERBOT: I do n't know I guess I just feel like I 'm not good enough for them.\n"
     ]
    },
    {
     "name": "stderr",
     "output_type": "stream",
     "text": [
      "2022-05-03 19:57:13 -     INFO -                           cltl.triple_extraction.CFGAnalyzer - Found 16 triples\n",
      "2022-05-03 19:57:13 -     INFO -              cltl.triple_extraction.GeneralStatementAnalyzer - Utterance type: \"STATEMENT\"\n",
      "2022-05-03 19:57:13 -     INFO -              cltl.triple_extraction.GeneralStatementAnalyzer - RDF triplet    subject: {\"label\": \"BLENDERBOT\", \"type\": [\"agent\"]}\n",
      "2022-05-03 19:57:13 -     INFO -              cltl.triple_extraction.GeneralStatementAnalyzer - RDF triplet  predicate: {\"label\": \"do\", \"type\": [\"social\"]}\n",
      "2022-05-03 19:57:13 -     INFO -              cltl.triple_extraction.GeneralStatementAnalyzer - RDF triplet     object: {\"label\": \"n-not-know-I-guess-I-just-feel-like-I-am-not-good-enough-for-them.\", \"type\": [\"substance\", \"adv\", \"cognition\", \"person\", \"cognition\", \"adv\", \"emotion\", \"emotion\", \"stative\", \"adv\", \"agent\"]}\n",
      "2022-05-03 19:57:13 -     INFO -              cltl.triple_extraction.GeneralStatementAnalyzer - Perspective  certainty: POSSIBLE\n",
      "2022-05-03 19:57:13 -     INFO -              cltl.triple_extraction.GeneralStatementAnalyzer - Perspective   polarity: POSITIVE\n",
      "2022-05-03 19:57:13 -     INFO -              cltl.triple_extraction.GeneralStatementAnalyzer - Perspective  sentiment: UNDERSPECIFIED\n",
      "2022-05-03 19:57:13 -     INFO -              cltl.triple_extraction.GeneralStatementAnalyzer - Perspective    emotion: UNDERSPECIFIED\n",
      "2022-05-03 19:57:13 -     INFO -              cltl.triple_extraction.GeneralStatementAnalyzer - Utterance type: \"STATEMENT\"\n",
      "2022-05-03 19:57:13 -     INFO -              cltl.triple_extraction.GeneralStatementAnalyzer - RDF triplet    subject: {\"label\": \"BLENDERBOT\", \"type\": [\"agent\"]}\n",
      "2022-05-03 19:57:13 -     INFO -              cltl.triple_extraction.GeneralStatementAnalyzer - RDF triplet  predicate: {\"label\": \"do\", \"type\": [\"social\"]}\n",
      "2022-05-03 19:57:13 -     INFO -              cltl.triple_extraction.GeneralStatementAnalyzer - RDF triplet     object: {\"label\": \"n-not-know-I-guess-I-just-feel-like-I-am-not-good-enough-for-them.\", \"type\": [\"substance\", \"adv\", \"cognition\", \"person\", \"cognition\", \"adv\", \"emotion\", \"emotion\", \"stative\", \"adv\", \"agent\"]}\n",
      "2022-05-03 19:57:13 -     INFO -              cltl.triple_extraction.GeneralStatementAnalyzer - Perspective  certainty: POSSIBLE\n",
      "2022-05-03 19:57:13 -     INFO -              cltl.triple_extraction.GeneralStatementAnalyzer - Perspective   polarity: POSITIVE\n",
      "2022-05-03 19:57:13 -     INFO -              cltl.triple_extraction.GeneralStatementAnalyzer - Perspective  sentiment: UNDERSPECIFIED\n",
      "2022-05-03 19:57:13 -     INFO -              cltl.triple_extraction.GeneralStatementAnalyzer - Perspective    emotion: UNDERSPECIFIED\n",
      "2022-05-03 19:57:13 -     INFO -              cltl.triple_extraction.GeneralStatementAnalyzer - Utterance type: \"STATEMENT\"\n",
      "2022-05-03 19:57:13 -     INFO -              cltl.triple_extraction.GeneralStatementAnalyzer - RDF triplet    subject: {\"label\": \"BLENDERBOT\", \"type\": [\"agent\"]}\n",
      "2022-05-03 19:57:13 -     INFO -              cltl.triple_extraction.GeneralStatementAnalyzer - RDF triplet  predicate: {\"label\": \"do\", \"type\": [\"social\"]}\n",
      "2022-05-03 19:57:13 -     INFO -              cltl.triple_extraction.GeneralStatementAnalyzer - RDF triplet     object: {\"label\": \"n-not-know-I-guess-I-just-feel-like-I-am-not-good-enough-for-them.\", \"type\": [\"substance\", \"adv\", \"cognition\", \"person\", \"cognition\", \"adv\", \"emotion\", \"emotion\", \"stative\", \"adv\", \"agent\"]}\n",
      "2022-05-03 19:57:13 -     INFO -              cltl.triple_extraction.GeneralStatementAnalyzer - Perspective  certainty: POSSIBLE\n",
      "2022-05-03 19:57:13 -     INFO -              cltl.triple_extraction.GeneralStatementAnalyzer - Perspective   polarity: POSITIVE\n",
      "2022-05-03 19:57:13 -     INFO -              cltl.triple_extraction.GeneralStatementAnalyzer - Perspective  sentiment: UNDERSPECIFIED\n",
      "2022-05-03 19:57:13 -     INFO -              cltl.triple_extraction.GeneralStatementAnalyzer - Perspective    emotion: UNDERSPECIFIED\n",
      "2022-05-03 19:57:13 -     INFO -              cltl.triple_extraction.GeneralStatementAnalyzer - Utterance type: \"STATEMENT\"\n",
      "2022-05-03 19:57:13 -     INFO -              cltl.triple_extraction.GeneralStatementAnalyzer - RDF triplet    subject: {\"label\": \"BLENDERBOT\", \"type\": [\"agent\"]}\n",
      "2022-05-03 19:57:13 -     INFO -              cltl.triple_extraction.GeneralStatementAnalyzer - RDF triplet  predicate: {\"label\": \"do\", \"type\": [\"social\"]}\n",
      "2022-05-03 19:57:13 -     INFO -              cltl.triple_extraction.GeneralStatementAnalyzer - RDF triplet     object: {\"label\": \"n-not-know-I-guess-I-just-feel-like-I-am-not-good-enough-for-them.\", \"type\": [\"substance\", \"adv\", \"cognition\", \"person\", \"cognition\", \"adv\", \"emotion\", \"emotion\", \"stative\", \"adv\", \"agent\"]}\n",
      "2022-05-03 19:57:13 -     INFO -              cltl.triple_extraction.GeneralStatementAnalyzer - Perspective  certainty: POSSIBLE\n",
      "2022-05-03 19:57:13 -     INFO -              cltl.triple_extraction.GeneralStatementAnalyzer - Perspective   polarity: POSITIVE\n",
      "2022-05-03 19:57:13 -     INFO -              cltl.triple_extraction.GeneralStatementAnalyzer - Perspective  sentiment: UNDERSPECIFIED\n",
      "2022-05-03 19:57:13 -     INFO -              cltl.triple_extraction.GeneralStatementAnalyzer - Perspective    emotion: UNDERSPECIFIED\n",
      "2022-05-03 19:57:13 -     INFO -              cltl.triple_extraction.GeneralStatementAnalyzer - Utterance type: \"STATEMENT\"\n",
      "2022-05-03 19:57:13 -     INFO -              cltl.triple_extraction.GeneralStatementAnalyzer - RDF triplet    subject: {\"label\": \"BLENDERBOT\", \"type\": [\"agent\"]}\n",
      "2022-05-03 19:57:13 -     INFO -              cltl.triple_extraction.GeneralStatementAnalyzer - RDF triplet  predicate: {\"label\": \"do\", \"type\": [\"social\"]}\n",
      "2022-05-03 19:57:13 -     INFO -              cltl.triple_extraction.GeneralStatementAnalyzer - RDF triplet     object: {\"label\": \"n-not-know-I-guess-I-just-feel-like-I-am-not-good-enough-for-them.\", \"type\": [\"substance\", \"adv\", \"cognition\", \"person\", \"cognition\", \"adv\", \"emotion\", \"emotion\", \"stative\", \"adv\", \"agent\"]}\n",
      "2022-05-03 19:57:13 -     INFO -              cltl.triple_extraction.GeneralStatementAnalyzer - Perspective  certainty: POSSIBLE\n",
      "2022-05-03 19:57:13 -     INFO -              cltl.triple_extraction.GeneralStatementAnalyzer - Perspective   polarity: POSITIVE\n",
      "2022-05-03 19:57:13 -     INFO -              cltl.triple_extraction.GeneralStatementAnalyzer - Perspective  sentiment: UNDERSPECIFIED\n",
      "2022-05-03 19:57:13 -     INFO -              cltl.triple_extraction.GeneralStatementAnalyzer - Perspective    emotion: UNDERSPECIFIED\n",
      "2022-05-03 19:57:13 -     INFO -              cltl.triple_extraction.GeneralStatementAnalyzer - Utterance type: \"STATEMENT\"\n",
      "2022-05-03 19:57:13 -     INFO -              cltl.triple_extraction.GeneralStatementAnalyzer - RDF triplet    subject: {\"label\": \"BLENDERBOT\", \"type\": [\"agent\"]}\n",
      "2022-05-03 19:57:13 -     INFO -              cltl.triple_extraction.GeneralStatementAnalyzer - RDF triplet  predicate: {\"label\": \"do\", \"type\": [\"social\"]}\n",
      "2022-05-03 19:57:13 -     INFO -              cltl.triple_extraction.GeneralStatementAnalyzer - RDF triplet     object: {\"label\": \"n-not-know-I-guess-I-just-feel-like-I-am-not-good-enough-for-them.\", \"type\": [\"substance\", \"adv\", \"cognition\", \"person\", \"cognition\", \"adv\", \"emotion\", \"emotion\", \"stative\", \"adv\", \"agent\"]}\n",
      "2022-05-03 19:57:13 -     INFO -              cltl.triple_extraction.GeneralStatementAnalyzer - Perspective  certainty: POSSIBLE\n",
      "2022-05-03 19:57:13 -     INFO -              cltl.triple_extraction.GeneralStatementAnalyzer - Perspective   polarity: POSITIVE\n",
      "2022-05-03 19:57:13 -     INFO -              cltl.triple_extraction.GeneralStatementAnalyzer - Perspective  sentiment: UNDERSPECIFIED\n",
      "2022-05-03 19:57:13 -     INFO -              cltl.triple_extraction.GeneralStatementAnalyzer - Perspective    emotion: UNDERSPECIFIED\n",
      "2022-05-03 19:57:13 -     INFO -              cltl.triple_extraction.GeneralStatementAnalyzer - Utterance type: \"STATEMENT\"\n",
      "2022-05-03 19:57:13 -     INFO -              cltl.triple_extraction.GeneralStatementAnalyzer - RDF triplet    subject: {\"label\": \"BLENDERBOT\", \"type\": [\"agent\"]}\n",
      "2022-05-03 19:57:13 -     INFO -              cltl.triple_extraction.GeneralStatementAnalyzer - RDF triplet  predicate: {\"label\": \"do\", \"type\": [\"social\"]}\n",
      "2022-05-03 19:57:13 -     INFO -              cltl.triple_extraction.GeneralStatementAnalyzer - RDF triplet     object: {\"label\": \"n-not-know-I-guess-I-just-feel-like-I-am-not-good-enough-for-them.\", \"type\": [\"substance\", \"adv\", \"cognition\", \"person\", \"cognition\", \"adv\", \"emotion\", \"emotion\", \"stative\", \"adv\", \"agent\"]}\n",
      "2022-05-03 19:57:13 -     INFO -              cltl.triple_extraction.GeneralStatementAnalyzer - Perspective  certainty: POSSIBLE\n",
      "2022-05-03 19:57:13 -     INFO -              cltl.triple_extraction.GeneralStatementAnalyzer - Perspective   polarity: POSITIVE\n",
      "2022-05-03 19:57:13 -     INFO -              cltl.triple_extraction.GeneralStatementAnalyzer - Perspective  sentiment: UNDERSPECIFIED\n",
      "2022-05-03 19:57:13 -     INFO -              cltl.triple_extraction.GeneralStatementAnalyzer - Perspective    emotion: UNDERSPECIFIED\n",
      "2022-05-03 19:57:13 -     INFO -              cltl.triple_extraction.GeneralStatementAnalyzer - Utterance type: \"STATEMENT\"\n",
      "2022-05-03 19:57:13 -     INFO -              cltl.triple_extraction.GeneralStatementAnalyzer - RDF triplet    subject: {\"label\": \"BLENDERBOT\", \"type\": [\"agent\"]}\n",
      "2022-05-03 19:57:13 -     INFO -              cltl.triple_extraction.GeneralStatementAnalyzer - RDF triplet  predicate: {\"label\": \"do\", \"type\": [\"social\"]}\n",
      "2022-05-03 19:57:13 -     INFO -              cltl.triple_extraction.GeneralStatementAnalyzer - RDF triplet     object: {\"label\": \"n-not-know-I-guess-I-just-feel-like-I-am-not-good-enough-for-them.\", \"type\": [\"substance\", \"adv\", \"cognition\", \"person\", \"cognition\", \"adv\", \"emotion\", \"emotion\", \"stative\", \"adv\", \"agent\"]}\n",
      "2022-05-03 19:57:13 -     INFO -              cltl.triple_extraction.GeneralStatementAnalyzer - Perspective  certainty: POSSIBLE\n",
      "2022-05-03 19:57:13 -     INFO -              cltl.triple_extraction.GeneralStatementAnalyzer - Perspective   polarity: POSITIVE\n",
      "2022-05-03 19:57:13 -     INFO -              cltl.triple_extraction.GeneralStatementAnalyzer - Perspective  sentiment: UNDERSPECIFIED\n",
      "2022-05-03 19:57:13 -     INFO -              cltl.triple_extraction.GeneralStatementAnalyzer - Perspective    emotion: UNDERSPECIFIED\n",
      "2022-05-03 19:57:13 -     INFO -              cltl.triple_extraction.GeneralStatementAnalyzer - Utterance type: \"STATEMENT\"\n",
      "2022-05-03 19:57:13 -     INFO -              cltl.triple_extraction.GeneralStatementAnalyzer - RDF triplet    subject: {\"label\": \"BLENDERBOT\", \"type\": [\"agent\"]}\n",
      "2022-05-03 19:57:13 -     INFO -              cltl.triple_extraction.GeneralStatementAnalyzer - RDF triplet  predicate: {\"label\": \"do\", \"type\": [\"social\"]}\n",
      "2022-05-03 19:57:13 -     INFO -              cltl.triple_extraction.GeneralStatementAnalyzer - RDF triplet     object: {\"label\": \"n-not-know-I-guess-I-just-feel-like-I-am-not-good-enough-for-them.\", \"type\": [\"substance\", \"adv\", \"cognition\", \"person\", \"cognition\", \"adv\", \"emotion\", \"emotion\", \"stative\", \"adv\", \"agent\"]}\n",
      "2022-05-03 19:57:13 -     INFO -              cltl.triple_extraction.GeneralStatementAnalyzer - Perspective  certainty: POSSIBLE\n",
      "2022-05-03 19:57:13 -     INFO -              cltl.triple_extraction.GeneralStatementAnalyzer - Perspective   polarity: POSITIVE\n",
      "2022-05-03 19:57:13 -     INFO -              cltl.triple_extraction.GeneralStatementAnalyzer - Perspective  sentiment: UNDERSPECIFIED\n",
      "2022-05-03 19:57:13 -     INFO -              cltl.triple_extraction.GeneralStatementAnalyzer - Perspective    emotion: UNDERSPECIFIED\n",
      "2022-05-03 19:57:13 -     INFO -              cltl.triple_extraction.GeneralStatementAnalyzer - Utterance type: \"STATEMENT\"\n",
      "2022-05-03 19:57:13 -     INFO -              cltl.triple_extraction.GeneralStatementAnalyzer - RDF triplet    subject: {\"label\": \"BLENDERBOT\", \"type\": [\"agent\"]}\n",
      "2022-05-03 19:57:13 -     INFO -              cltl.triple_extraction.GeneralStatementAnalyzer - RDF triplet  predicate: {\"label\": \"do\", \"type\": [\"social\"]}\n",
      "2022-05-03 19:57:13 -     INFO -              cltl.triple_extraction.GeneralStatementAnalyzer - RDF triplet     object: {\"label\": \"n-not-know-I-guess-I-just-feel-like-I-am-not-good-enough-for-them.\", \"type\": [\"substance\", \"adv\", \"cognition\", \"person\", \"cognition\", \"adv\", \"emotion\", \"emotion\", \"stative\", \"adv\", \"agent\"]}\n",
      "2022-05-03 19:57:13 -     INFO -              cltl.triple_extraction.GeneralStatementAnalyzer - Perspective  certainty: POSSIBLE\n",
      "2022-05-03 19:57:13 -     INFO -              cltl.triple_extraction.GeneralStatementAnalyzer - Perspective   polarity: POSITIVE\n",
      "2022-05-03 19:57:13 -     INFO -              cltl.triple_extraction.GeneralStatementAnalyzer - Perspective  sentiment: UNDERSPECIFIED\n",
      "2022-05-03 19:57:13 -     INFO -              cltl.triple_extraction.GeneralStatementAnalyzer - Perspective    emotion: UNDERSPECIFIED\n",
      "2022-05-03 19:57:13 -     INFO -              cltl.triple_extraction.GeneralStatementAnalyzer - Utterance type: \"STATEMENT\"\n",
      "2022-05-03 19:57:13 -     INFO -              cltl.triple_extraction.GeneralStatementAnalyzer - RDF triplet    subject: {\"label\": \"BLENDERBOT\", \"type\": [\"agent\"]}\n",
      "2022-05-03 19:57:13 -     INFO -              cltl.triple_extraction.GeneralStatementAnalyzer - RDF triplet  predicate: {\"label\": \"do\", \"type\": [\"social\"]}\n",
      "2022-05-03 19:57:13 -     INFO -              cltl.triple_extraction.GeneralStatementAnalyzer - RDF triplet     object: {\"label\": \"n-not-know-I-guess-I-just-feel-like-I-am-not-good-enough-for-them.\", \"type\": [\"substance\", \"adv\", \"cognition\", \"person\", \"cognition\", \"adv\", \"emotion\", \"emotion\", \"stative\", \"adv\", \"agent\"]}\n",
      "2022-05-03 19:57:13 -     INFO -              cltl.triple_extraction.GeneralStatementAnalyzer - Perspective  certainty: POSSIBLE\n",
      "2022-05-03 19:57:13 -     INFO -              cltl.triple_extraction.GeneralStatementAnalyzer - Perspective   polarity: POSITIVE\n",
      "2022-05-03 19:57:13 -     INFO -              cltl.triple_extraction.GeneralStatementAnalyzer - Perspective  sentiment: UNDERSPECIFIED\n",
      "2022-05-03 19:57:13 -     INFO -              cltl.triple_extraction.GeneralStatementAnalyzer - Perspective    emotion: UNDERSPECIFIED\n",
      "2022-05-03 19:57:13 -     INFO -              cltl.triple_extraction.GeneralStatementAnalyzer - Utterance type: \"STATEMENT\"\n",
      "2022-05-03 19:57:13 -     INFO -              cltl.triple_extraction.GeneralStatementAnalyzer - RDF triplet    subject: {\"label\": \"BLENDERBOT\", \"type\": [\"agent\"]}\n",
      "2022-05-03 19:57:13 -     INFO -              cltl.triple_extraction.GeneralStatementAnalyzer - RDF triplet  predicate: {\"label\": \"do\", \"type\": [\"social\"]}\n",
      "2022-05-03 19:57:13 -     INFO -              cltl.triple_extraction.GeneralStatementAnalyzer - RDF triplet     object: {\"label\": \"n-not-know-I-guess-I-just-feel-like-I-am-not-good-enough-for-them.\", \"type\": [\"substance\", \"adv\", \"cognition\", \"person\", \"cognition\", \"adv\", \"emotion\", \"emotion\", \"stative\", \"adv\", \"agent\"]}\n",
      "2022-05-03 19:57:13 -     INFO -              cltl.triple_extraction.GeneralStatementAnalyzer - Perspective  certainty: POSSIBLE\n",
      "2022-05-03 19:57:13 -     INFO -              cltl.triple_extraction.GeneralStatementAnalyzer - Perspective   polarity: POSITIVE\n",
      "2022-05-03 19:57:13 -     INFO -              cltl.triple_extraction.GeneralStatementAnalyzer - Perspective  sentiment: UNDERSPECIFIED\n",
      "2022-05-03 19:57:13 -     INFO -              cltl.triple_extraction.GeneralStatementAnalyzer - Perspective    emotion: UNDERSPECIFIED\n",
      "2022-05-03 19:57:13 -     INFO -              cltl.triple_extraction.GeneralStatementAnalyzer - Utterance type: \"STATEMENT\"\n",
      "2022-05-03 19:57:13 -     INFO -              cltl.triple_extraction.GeneralStatementAnalyzer - RDF triplet    subject: {\"label\": \"BLENDERBOT\", \"type\": [\"agent\"]}\n",
      "2022-05-03 19:57:13 -     INFO -              cltl.triple_extraction.GeneralStatementAnalyzer - RDF triplet  predicate: {\"label\": \"do\", \"type\": [\"social\"]}\n",
      "2022-05-03 19:57:13 -     INFO -              cltl.triple_extraction.GeneralStatementAnalyzer - RDF triplet     object: {\"label\": \"n-not-know-I-guess-I-just-feel-like-I-am-not-good-enough-for-them.\", \"type\": [\"substance\", \"adv\", \"cognition\", \"person\", \"cognition\", \"adv\", \"emotion\", \"emotion\", \"stative\", \"adv\", \"agent\"]}\n",
      "2022-05-03 19:57:13 -     INFO -              cltl.triple_extraction.GeneralStatementAnalyzer - Perspective  certainty: POSSIBLE\n",
      "2022-05-03 19:57:13 -     INFO -              cltl.triple_extraction.GeneralStatementAnalyzer - Perspective   polarity: POSITIVE\n",
      "2022-05-03 19:57:13 -     INFO -              cltl.triple_extraction.GeneralStatementAnalyzer - Perspective  sentiment: UNDERSPECIFIED\n",
      "2022-05-03 19:57:13 -     INFO -              cltl.triple_extraction.GeneralStatementAnalyzer - Perspective    emotion: UNDERSPECIFIED\n",
      "2022-05-03 19:57:13 -     INFO -              cltl.triple_extraction.GeneralStatementAnalyzer - Utterance type: \"STATEMENT\"\n",
      "2022-05-03 19:57:13 -     INFO -              cltl.triple_extraction.GeneralStatementAnalyzer - RDF triplet    subject: {\"label\": \"BLENDERBOT\", \"type\": [\"agent\"]}\n",
      "2022-05-03 19:57:13 -     INFO -              cltl.triple_extraction.GeneralStatementAnalyzer - RDF triplet  predicate: {\"label\": \"do\", \"type\": [\"social\"]}\n",
      "2022-05-03 19:57:13 -     INFO -              cltl.triple_extraction.GeneralStatementAnalyzer - RDF triplet     object: {\"label\": \"n-not-know-I-guess-I-just-feel-like-I-am-not-good-enough-for-them.\", \"type\": [\"substance\", \"adv\", \"cognition\", \"person\", \"cognition\", \"adv\", \"emotion\", \"emotion\", \"stative\", \"adv\", \"agent\"]}\n",
      "2022-05-03 19:57:13 -     INFO -              cltl.triple_extraction.GeneralStatementAnalyzer - Perspective  certainty: POSSIBLE\n",
      "2022-05-03 19:57:13 -     INFO -              cltl.triple_extraction.GeneralStatementAnalyzer - Perspective   polarity: POSITIVE\n",
      "2022-05-03 19:57:13 -     INFO -              cltl.triple_extraction.GeneralStatementAnalyzer - Perspective  sentiment: UNDERSPECIFIED\n",
      "2022-05-03 19:57:13 -     INFO -              cltl.triple_extraction.GeneralStatementAnalyzer - Perspective    emotion: UNDERSPECIFIED\n",
      "2022-05-03 19:57:13 -     INFO -              cltl.triple_extraction.GeneralStatementAnalyzer - Utterance type: \"STATEMENT\"\n",
      "2022-05-03 19:57:13 -     INFO -              cltl.triple_extraction.GeneralStatementAnalyzer - RDF triplet    subject: {\"label\": \"BLENDERBOT\", \"type\": [\"agent\"]}\n",
      "2022-05-03 19:57:13 -     INFO -              cltl.triple_extraction.GeneralStatementAnalyzer - RDF triplet  predicate: {\"label\": \"do\", \"type\": [\"social\"]}\n",
      "2022-05-03 19:57:13 -     INFO -              cltl.triple_extraction.GeneralStatementAnalyzer - RDF triplet     object: {\"label\": \"n-not-know-I-guess-I-just-feel-like-I-am-not-good-enough-for-them.\", \"type\": [\"substance\", \"adv\", \"cognition\", \"person\", \"cognition\", \"adv\", \"emotion\", \"emotion\", \"stative\", \"adv\", \"agent\"]}\n",
      "2022-05-03 19:57:13 -     INFO -              cltl.triple_extraction.GeneralStatementAnalyzer - Perspective  certainty: POSSIBLE\n",
      "2022-05-03 19:57:13 -     INFO -              cltl.triple_extraction.GeneralStatementAnalyzer - Perspective   polarity: POSITIVE\n",
      "2022-05-03 19:57:13 -     INFO -              cltl.triple_extraction.GeneralStatementAnalyzer - Perspective  sentiment: UNDERSPECIFIED\n",
      "2022-05-03 19:57:13 -     INFO -              cltl.triple_extraction.GeneralStatementAnalyzer - Perspective    emotion: UNDERSPECIFIED\n",
      "2022-05-03 19:57:13 -     INFO -              cltl.triple_extraction.GeneralStatementAnalyzer - Utterance type: \"STATEMENT\"\n",
      "2022-05-03 19:57:13 -     INFO -              cltl.triple_extraction.GeneralStatementAnalyzer - RDF triplet    subject: {\"label\": \"BLENDERBOT\", \"type\": [\"agent\"]}\n",
      "2022-05-03 19:57:13 -     INFO -              cltl.triple_extraction.GeneralStatementAnalyzer - RDF triplet  predicate: {\"label\": \"do\", \"type\": [\"social\"]}\n",
      "2022-05-03 19:57:13 -     INFO -              cltl.triple_extraction.GeneralStatementAnalyzer - RDF triplet     object: {\"label\": \"n-not-know-I-guess-I-just-feel-like-I-am-not-good-enough-for-them.\", \"type\": [\"substance\", \"adv\", \"cognition\", \"person\", \"cognition\", \"adv\", \"emotion\", \"emotion\", \"stative\", \"adv\", \"agent\"]}\n",
      "2022-05-03 19:57:13 -     INFO -              cltl.triple_extraction.GeneralStatementAnalyzer - Perspective  certainty: POSSIBLE\n",
      "2022-05-03 19:57:13 -     INFO -              cltl.triple_extraction.GeneralStatementAnalyzer - Perspective   polarity: POSITIVE\n",
      "2022-05-03 19:57:13 -     INFO -              cltl.triple_extraction.GeneralStatementAnalyzer - Perspective  sentiment: UNDERSPECIFIED\n",
      "2022-05-03 19:57:13 -     INFO -              cltl.triple_extraction.GeneralStatementAnalyzer - Perspective    emotion: UNDERSPECIFIED\n"
     ]
    },
    {
     "name": "stdout",
     "output_type": "stream",
     "text": [
      "Last utterance: I do n't know I guess I just feel like I 'm not good enough for them.\n",
      "CFG Tripels: [{'object': {'label': 'n-not-know-I-guess-I-just-feel-like-I-am-not-good-enough-for-them.', 'type': ['substance', 'adv', 'cognition', 'person', 'cognition', 'adv', 'emotion', 'emotion', 'stative', 'adv', 'agent']}, 'perspective': {'sentiment': 0.0, 'certainty': 1.0, 'polarity': 1.0, 'emotion': 0.0}, 'predicate': {'label': 'do', 'type': ['social']}, 'subject': {'label': 'BLENDERBOT', 'type': ['agent']}, 'utterance_type': 'STATEMENT'}]\n",
      "STATEMENT {'object': {'label': 'n-not-know-I-guess-I-just-feel-like-I-am-not-good-enough-for-them.', 'type': ['substance', 'adv', 'cognition', 'person', 'cognition', 'adv', 'emotion', 'emotion', 'stative', 'adv', 'agent']}, 'perspective': {'sentiment': 0.0, 'certainty': 1.0, 'polarity': 1.0, 'emotion': 0.0}, 'predicate': {'label': 'do', 'type': ['social']}, 'subject': {'label': 'BLENDERBOT', 'type': ['agent']}, 'utterance_type': 'STATEMENT'}\n",
      "2022-05-03 19:57:13,616 -     INFO -    cltl.brain.basic_brain.LongTermMemory - Triple in statement: blenderbot_do_n-not-know-i-guess-i-just-feel-like-i-am-not-good-enough-for-them [agent_->_substance or cognition or person or emotion or stative or agent])\n"
     ]
    },
    {
     "name": "stderr",
     "output_type": "stream",
     "text": [
      "2022-05-03 19:57:13 -     INFO -                        cltl.brain.basic_brain.LongTermMemory - Triple in statement: blenderbot_do_n-not-know-i-guess-i-just-feel-like-i-am-not-good-enough-for-them [agent_->_substance or cognition or person or emotion or stative or agent])\n"
     ]
    },
    {
     "name": "stdout",
     "output_type": "stream",
     "text": [
      "2022-05-03 19:57:13,630 -     INFO -  cltl.brain.basic_brain.ThoughtGenerator - Entity Novelty: existing subject - new object \n"
     ]
    },
    {
     "name": "stderr",
     "output_type": "stream",
     "text": [
      "2022-05-03 19:57:13 -     INFO -                      cltl.brain.basic_brain.ThoughtGenerator - Entity Novelty: existing subject - new object \n"
     ]
    },
    {
     "name": "stdout",
     "output_type": "stream",
     "text": [
      "2022-05-03 19:57:13,648 -     INFO -  cltl.brain.basic_brain.ThoughtGenerator - Overlaps: 1 subject overlaps: e.g. blenderbot on May,2022 about n-not-know - 0 object overlaps: e.g. ''\n"
     ]
    },
    {
     "name": "stderr",
     "output_type": "stream",
     "text": [
      "2022-05-03 19:57:13 -     INFO -                      cltl.brain.basic_brain.ThoughtGenerator - Overlaps: 1 subject overlaps: e.g. blenderbot on May,2022 about n-not-know - 0 object overlaps: e.g. ''\n"
     ]
    },
    {
     "name": "stdout",
     "output_type": "stream",
     "text": [
      "2022-05-03 19:57:15,161 -     INFO -  cltl.brain.basic_brain.ThoughtGenerator - Negation Conflicts: blenderbot on May,2022 about UNDERSPECIFIED\n"
     ]
    },
    {
     "name": "stderr",
     "output_type": "stream",
     "text": [
      "2022-05-03 19:57:15 -     INFO -                      cltl.brain.basic_brain.ThoughtGenerator - Negation Conflicts: blenderbot on May,2022 about UNDERSPECIFIED\n"
     ]
    },
    {
     "name": "stdout",
     "output_type": "stream",
     "text": [
      "2022-05-03 19:57:15,178 -     INFO -  cltl.brain.basic_brain.ThoughtGenerator - Gaps: 26 gaps as subject: e.g. be-family-of person - 15 gaps as object: e.g. like agent\n"
     ]
    },
    {
     "name": "stderr",
     "output_type": "stream",
     "text": [
      "2022-05-03 19:57:15 -     INFO -                      cltl.brain.basic_brain.ThoughtGenerator - Gaps: 26 gaps as subject: e.g. be-family-of person - 15 gaps as object: e.g. like agent\n"
     ]
    },
    {
     "name": "stdout",
     "output_type": "stream",
     "text": [
      "2022-05-03 19:57:15,208 -     INFO -  cltl.brain.basic_brain.ThoughtGenerator - Gaps: 26 gaps as subject: e.g. favorite interest - 15 gaps as object: e.g. be-parent-of person\n"
     ]
    },
    {
     "name": "stderr",
     "output_type": "stream",
     "text": [
      "2022-05-03 19:57:15 -     INFO -                      cltl.brain.basic_brain.ThoughtGenerator - Gaps: 26 gaps as subject: e.g. favorite interest - 15 gaps as object: e.g. be-parent-of person\n"
     ]
    },
    {
     "name": "stdout",
     "output_type": "stream",
     "text": [
      "spacy Triples [('feel', 'BLENDERBOT', 'good')]\n",
      "Triple spacy Capsule:\n",
      "{'author': 'BLENDERBOT',\n",
      " 'chat': '2022-05-03-19_43_11',\n",
      " 'city': 'Amsterdam',\n",
      " 'context_id': 'Leolani',\n",
      " 'country': 'NL',\n",
      " 'date': datetime.date(2022, 5, 3),\n",
      " 'object': {'label': 'good', 'type': ''},\n",
      " 'objects': [],\n",
      " 'people': [],\n",
      " 'place': 'Amsterdam',\n",
      " 'place_id': 124,\n",
      " 'position': 'image',\n",
      " 'predicate': {'label': 'feel'},\n",
      " 'region': 'North Holland',\n",
      " 'subject': {'label': 'BLENDERBOT', 'type': ''},\n",
      " 'turn': 'a6e8f00d-3a75-4359-b82d-c79eb7c04724',\n",
      " 'utterance': ''}\n",
      "2022-05-03 19:57:15,253 -     INFO -    cltl.brain.basic_brain.LongTermMemory - Triple in statement: blenderbot_feel_good [_->_])\n"
     ]
    },
    {
     "name": "stderr",
     "output_type": "stream",
     "text": [
      "2022-05-03 19:57:15 -     INFO -                        cltl.brain.basic_brain.LongTermMemory - Triple in statement: blenderbot_feel_good [_->_])\n"
     ]
    },
    {
     "name": "stdout",
     "output_type": "stream",
     "text": [
      "2022-05-03 19:57:15,267 -     INFO -  cltl.brain.basic_brain.ThoughtGenerator - Entity Novelty: existing subject - new object \n"
     ]
    },
    {
     "name": "stderr",
     "output_type": "stream",
     "text": [
      "2022-05-03 19:57:15 -     INFO -                      cltl.brain.basic_brain.ThoughtGenerator - Entity Novelty: existing subject - new object \n"
     ]
    },
    {
     "name": "stdout",
     "output_type": "stream",
     "text": [
      "2022-05-03 19:57:16,504 -     INFO -  cltl.brain.basic_brain.ThoughtGenerator - Negation Conflicts: blenderbot on May,2022 about UNDERSPECIFIED\n"
     ]
    },
    {
     "name": "stderr",
     "output_type": "stream",
     "text": [
      "2022-05-03 19:57:16 -     INFO -                      cltl.brain.basic_brain.ThoughtGenerator - Negation Conflicts: blenderbot on May,2022 about UNDERSPECIFIED\n"
     ]
    },
    {
     "name": "stdout",
     "output_type": "stream",
     "text": [
      "2022-05-03 19:57:16,518 -     INFO -  cltl.brain.basic_brain.ThoughtGenerator - Gaps: 26 gaps as subject: e.g. study-at institution - 15 gaps as object: e.g. be-parent-of person\n"
     ]
    },
    {
     "name": "stderr",
     "output_type": "stream",
     "text": [
      "2022-05-03 19:57:16 -     INFO -                      cltl.brain.basic_brain.ThoughtGenerator - Gaps: 26 gaps as subject: e.g. study-at institution - 15 gaps as object: e.g. be-parent-of person\n"
     ]
    },
    {
     "name": "stdout",
     "output_type": "stream",
     "text": [
      "\n",
      "\tLeolani: Let's change focus a bit... Tell me about your family.\n",
      "input_prompt: Let's change focus a bit... Tell me about your family.\n"
     ]
    },
    {
     "name": "stderr",
     "output_type": "stream",
     "text": [
      "2022-05-03 19:57:21 -     INFO -                                  cltl.triple_extraction.Chat - BLENDERBOT 010: \"My family is very supportive.\"\n"
     ]
    },
    {
     "name": "stdout",
     "output_type": "stream",
     "text": [
      "utteranceList: ['<s> My family is very supportive. They are always there for me when I need them. </s>']\n",
      "ANSWER  My family is very supportive. They are always there for me when I need them. \n",
      "\n",
      "\tFixed period BLENDERBOT: My family is very supportive.\n"
     ]
    },
    {
     "name": "stderr",
     "output_type": "stream",
     "text": [
      "2022-05-03 19:57:22 -     INFO -                           cltl.triple_extraction.CFGAnalyzer - Found 2 triples\n",
      "2022-05-03 19:57:22 -     INFO -              cltl.triple_extraction.GeneralStatementAnalyzer - Utterance type: \"STATEMENT\"\n",
      "2022-05-03 19:57:22 -     INFO -              cltl.triple_extraction.GeneralStatementAnalyzer - RDF triplet    subject: {\"label\": \"My\", \"type\": [\"person\"]}\n",
      "2022-05-03 19:57:22 -     INFO -              cltl.triple_extraction.GeneralStatementAnalyzer - RDF triplet  predicate: {\"label\": \"family-is\", \"type\": [\"group\", \"stative\"]}\n",
      "2022-05-03 19:57:22 -     INFO -              cltl.triple_extraction.GeneralStatementAnalyzer - RDF triplet     object: {\"label\": \"supportive.\", \"type\": []}\n",
      "2022-05-03 19:57:22 -     INFO -              cltl.triple_extraction.GeneralStatementAnalyzer - Perspective  certainty: POSSIBLE\n",
      "2022-05-03 19:57:22 -     INFO -              cltl.triple_extraction.GeneralStatementAnalyzer - Perspective   polarity: POSITIVE\n",
      "2022-05-03 19:57:22 -     INFO -              cltl.triple_extraction.GeneralStatementAnalyzer - Perspective  sentiment: UNDERSPECIFIED\n",
      "2022-05-03 19:57:22 -     INFO -              cltl.triple_extraction.GeneralStatementAnalyzer - Perspective    emotion: UNDERSPECIFIED\n",
      "2022-05-03 19:57:22 -     INFO -              cltl.triple_extraction.GeneralStatementAnalyzer - Utterance type: \"STATEMENT\"\n",
      "2022-05-03 19:57:22 -     INFO -              cltl.triple_extraction.GeneralStatementAnalyzer - RDF triplet    subject: {\"label\": \"My\", \"type\": [\"person\"]}\n",
      "2022-05-03 19:57:22 -     INFO -              cltl.triple_extraction.GeneralStatementAnalyzer - RDF triplet  predicate: {\"label\": \"family-is\", \"type\": [\"group\", \"stative\"]}\n",
      "2022-05-03 19:57:22 -     INFO -              cltl.triple_extraction.GeneralStatementAnalyzer - RDF triplet     object: {\"label\": \"supportive.\", \"type\": []}\n",
      "2022-05-03 19:57:22 -     INFO -              cltl.triple_extraction.GeneralStatementAnalyzer - Perspective  certainty: POSSIBLE\n",
      "2022-05-03 19:57:22 -     INFO -              cltl.triple_extraction.GeneralStatementAnalyzer - Perspective   polarity: POSITIVE\n",
      "2022-05-03 19:57:22 -     INFO -              cltl.triple_extraction.GeneralStatementAnalyzer - Perspective  sentiment: UNDERSPECIFIED\n",
      "2022-05-03 19:57:22 -     INFO -              cltl.triple_extraction.GeneralStatementAnalyzer - Perspective    emotion: UNDERSPECIFIED\n"
     ]
    },
    {
     "name": "stdout",
     "output_type": "stream",
     "text": [
      "Last utterance: My family is very supportive.\n",
      "CFG Tripels: [{'object': {'label': 'supportive.', 'type': []}, 'perspective': {'sentiment': 0.0, 'certainty': 1.0, 'polarity': 1.0, 'emotion': 0.0}, 'predicate': {'label': 'family-is', 'type': ['group', 'stative']}, 'subject': {'label': 'My', 'type': ['person']}, 'utterance_type': 'STATEMENT'}]\n",
      "STATEMENT {'object': {'label': 'supportive.', 'type': []}, 'perspective': {'sentiment': 0.0, 'certainty': 1.0, 'polarity': 1.0, 'emotion': 0.0}, 'predicate': {'label': 'family-is', 'type': ['group', 'stative']}, 'subject': {'label': 'My', 'type': ['person']}, 'utterance_type': 'STATEMENT'}\n",
      "2022-05-03 19:57:22,705 -     INFO -    cltl.brain.basic_brain.LongTermMemory - Triple in statement: my_family-is_supportive [person_->_])\n"
     ]
    },
    {
     "name": "stderr",
     "output_type": "stream",
     "text": [
      "2022-05-03 19:57:22 -     INFO -                        cltl.brain.basic_brain.LongTermMemory - Triple in statement: my_family-is_supportive [person_->_])\n"
     ]
    },
    {
     "name": "stdout",
     "output_type": "stream",
     "text": [
      "2022-05-03 19:57:22,719 -     INFO -  cltl.brain.basic_brain.ThoughtGenerator - Entity Novelty: new subject - new object \n"
     ]
    },
    {
     "name": "stderr",
     "output_type": "stream",
     "text": [
      "2022-05-03 19:57:22 -     INFO -                      cltl.brain.basic_brain.ThoughtGenerator - Entity Novelty: new subject - new object \n"
     ]
    },
    {
     "name": "stdout",
     "output_type": "stream",
     "text": [
      "2022-05-03 19:57:24,068 -     INFO -  cltl.brain.basic_brain.ThoughtGenerator - Negation Conflicts: blenderbot on May,2022 about UNDERSPECIFIED\n"
     ]
    },
    {
     "name": "stderr",
     "output_type": "stream",
     "text": [
      "2022-05-03 19:57:24 -     INFO -                      cltl.brain.basic_brain.ThoughtGenerator - Negation Conflicts: blenderbot on May,2022 about UNDERSPECIFIED\n"
     ]
    },
    {
     "name": "stdout",
     "output_type": "stream",
     "text": [
      "2022-05-03 19:57:24,081 -     INFO -  cltl.brain.basic_brain.ThoughtGenerator - Gaps: 26 gaps as subject: e.g. play song - 15 gaps as object: e.g. dislike agent\n"
     ]
    },
    {
     "name": "stderr",
     "output_type": "stream",
     "text": [
      "2022-05-03 19:57:24 -     INFO -                      cltl.brain.basic_brain.ThoughtGenerator - Gaps: 26 gaps as subject: e.g. play song - 15 gaps as object: e.g. dislike agent\n",
      "2022-05-03 19:57:24 -     INFO -                                  cltl.triple_extraction.Chat - BLENDERBOT 011: \"They are always there for me when I need them.\"\n"
     ]
    },
    {
     "name": "stdout",
     "output_type": "stream",
     "text": [
      "spacy Triples []\n",
      "\n",
      "\tLeolani: Why do you say that your family is very supportive?\n",
      "\n",
      "\tFixed period BLENDERBOT: They are always there for me when I need them.\n"
     ]
    },
    {
     "name": "stderr",
     "output_type": "stream",
     "text": [
      "2022-05-03 19:57:25 -  WARNING -                           cltl.triple_extraction.CFGAnalyzer - Couldn't parse input\n"
     ]
    },
    {
     "name": "stdout",
     "output_type": "stream",
     "text": [
      "Last utterance: They are always there for me when I need them.\n",
      "CFG Tripels: []\n",
      "spacy Triples []\n",
      "\n",
      "\tLeolani: I see.  And what does that tell you?\n",
      "input_prompt: I see.  And what does that tell you?\n"
     ]
    },
    {
     "name": "stderr",
     "output_type": "stream",
     "text": [
      "2022-05-03 19:57:30 -     INFO -                                  cltl.triple_extraction.Chat - BLENDERBOT 012: \"It tells me that I need to get my life in order and that I am ready for the next step.\"\n"
     ]
    },
    {
     "name": "stdout",
     "output_type": "stream",
     "text": [
      "utteranceList: ['<s> It tells me that I need to get my life in order and that I am ready for the next step.</s>']\n",
      "ANSWER  It tells me that I need to get my life in order and that I am ready for the next step.\n",
      "\n",
      "\tFixed period BLENDERBOT: It tells me that I need to get my life in order and that I am ready for the next step.\n"
     ]
    },
    {
     "name": "stderr",
     "output_type": "stream",
     "text": [
      "2022-05-03 19:57:33 -  WARNING -                           cltl.triple_extraction.CFGAnalyzer - Couldn't parse input\n"
     ]
    },
    {
     "name": "stdout",
     "output_type": "stream",
     "text": [
      "Last utterance: It tells me that I need to get my life in order and that I am ready for the next step.\n",
      "CFG Tripels: []\n",
      "spacy Triples [('be', 'BLENDERBOT', 'ready')]\n",
      "Triple spacy Capsule:\n",
      "{'author': 'BLENDERBOT',\n",
      " 'chat': '2022-05-03-19_43_11',\n",
      " 'city': 'Amsterdam',\n",
      " 'context_id': 'Leolani',\n",
      " 'country': 'NL',\n",
      " 'date': datetime.date(2022, 5, 3),\n",
      " 'object': {'label': 'ready', 'type': ''},\n",
      " 'objects': [],\n",
      " 'people': [],\n",
      " 'place': 'Amsterdam',\n",
      " 'place_id': 124,\n",
      " 'position': 'image',\n",
      " 'predicate': {'label': 'be'},\n",
      " 'region': 'North Holland',\n",
      " 'subject': {'label': 'BLENDERBOT', 'type': ''},\n",
      " 'turn': '30c2f810-0c78-49a0-aca6-7ef3c152846c',\n",
      " 'utterance': ''}\n",
      "2022-05-03 19:57:33,171 -     INFO -    cltl.brain.basic_brain.LongTermMemory - Triple in statement: blenderbot_be_ready [_->_])\n"
     ]
    },
    {
     "name": "stderr",
     "output_type": "stream",
     "text": [
      "2022-05-03 19:57:33 -     INFO -                        cltl.brain.basic_brain.LongTermMemory - Triple in statement: blenderbot_be_ready [_->_])\n"
     ]
    },
    {
     "name": "stdout",
     "output_type": "stream",
     "text": [
      "2022-05-03 19:57:33,212 -     INFO -  cltl.brain.basic_brain.ThoughtGenerator - Entity Novelty: existing subject - new object \n"
     ]
    },
    {
     "name": "stderr",
     "output_type": "stream",
     "text": [
      "2022-05-03 19:57:33 -     INFO -                      cltl.brain.basic_brain.ThoughtGenerator - Entity Novelty: existing subject - new object \n"
     ]
    },
    {
     "name": "stdout",
     "output_type": "stream",
     "text": [
      "2022-05-03 19:57:33,227 -     INFO -  cltl.brain.basic_brain.ThoughtGenerator - Overlaps: 1 subject overlaps: e.g. blenderbot on May,2022 about an-accountant - 0 object overlaps: e.g. ''\n"
     ]
    },
    {
     "name": "stderr",
     "output_type": "stream",
     "text": [
      "2022-05-03 19:57:33 -     INFO -                      cltl.brain.basic_brain.ThoughtGenerator - Overlaps: 1 subject overlaps: e.g. blenderbot on May,2022 about an-accountant - 0 object overlaps: e.g. ''\n"
     ]
    },
    {
     "name": "stdout",
     "output_type": "stream",
     "text": [
      "2022-05-03 19:57:34,975 -     INFO -  cltl.brain.basic_brain.ThoughtGenerator - Negation Conflicts: blenderbot on May,2022 about UNDERSPECIFIED\n"
     ]
    },
    {
     "name": "stderr",
     "output_type": "stream",
     "text": [
      "2022-05-03 19:57:34 -     INFO -                      cltl.brain.basic_brain.ThoughtGenerator - Negation Conflicts: blenderbot on May,2022 about UNDERSPECIFIED\n"
     ]
    },
    {
     "name": "stdout",
     "output_type": "stream",
     "text": [
      "2022-05-03 19:57:35,017 -     INFO -  cltl.brain.basic_brain.ThoughtGenerator - Gaps: 26 gaps as subject: e.g. like interest - 15 gaps as object: e.g. dislike agent\n"
     ]
    },
    {
     "name": "stderr",
     "output_type": "stream",
     "text": [
      "2022-05-03 19:57:35 -     INFO -                      cltl.brain.basic_brain.ThoughtGenerator - Gaps: 26 gaps as subject: e.g. like interest - 15 gaps as object: e.g. dislike agent\n"
     ]
    },
    {
     "name": "stdout",
     "output_type": "stream",
     "text": [
      "\n",
      "\tLeolani: Very interesting.\n",
      "input_prompt: Very interesting.\n"
     ]
    },
    {
     "name": "stderr",
     "output_type": "stream",
     "text": [
      "2022-05-03 19:57:39 -     INFO -                                  cltl.triple_extraction.Chat - BLENDERBOT 013: \"Yes\"\n"
     ]
    },
    {
     "name": "stdout",
     "output_type": "stream",
     "text": [
      "utteranceList: ['<s> Yes, it was very interesting. I had no idea what to expect, but it turned out to be a great experience.</s>']\n",
      "ANSWER  Yes, it was very interesting. I had no idea what to expect, but it turned out to be a great experience.\n"
     ]
    },
    {
     "name": "stderr",
     "output_type": "stream",
     "text": [
      "2022-05-03 19:57:40 -  WARNING -                           cltl.triple_extraction.CFGAnalyzer - Couldn't parse input\n",
      "2022-05-03 19:57:40 -     INFO -                                  cltl.triple_extraction.Chat - BLENDERBOT 014: \"Yes it was very interesting.\"\n"
     ]
    },
    {
     "name": "stdout",
     "output_type": "stream",
     "text": [
      "Last utterance: Yes\n",
      "CFG Tripels: []\n",
      "spacy Triples []\n",
      "\n",
      "\tLeolani: You seem quite sure.\n",
      "\n",
      "\tFixed period BLENDERBOT: Yes it was very interesting.\n"
     ]
    },
    {
     "name": "stderr",
     "output_type": "stream",
     "text": [
      "2022-05-03 19:57:43 -     INFO -                           cltl.triple_extraction.CFGAnalyzer - Found 4 triples\n",
      "2022-05-03 19:57:43 -     INFO -              cltl.triple_extraction.GeneralStatementAnalyzer - Utterance type: \"STATEMENT\"\n",
      "2022-05-03 19:57:43 -     INFO -              cltl.triple_extraction.GeneralStatementAnalyzer - RDF triplet    subject: {\"label\": \"Yes-it\", \"type\": [\"communication\"]}\n",
      "2022-05-03 19:57:43 -     INFO -              cltl.triple_extraction.GeneralStatementAnalyzer - RDF triplet  predicate: {\"label\": \"be\", \"type\": [\"stative\"]}\n",
      "2022-05-03 19:57:43 -     INFO -              cltl.triple_extraction.GeneralStatementAnalyzer - RDF triplet     object: {\"label\": \"interesting.\", \"type\": []}\n",
      "2022-05-03 19:57:43 -     INFO -              cltl.triple_extraction.GeneralStatementAnalyzer - Perspective  certainty: POSSIBLE\n",
      "2022-05-03 19:57:43 -     INFO -              cltl.triple_extraction.GeneralStatementAnalyzer - Perspective   polarity: POSITIVE\n",
      "2022-05-03 19:57:43 -     INFO -              cltl.triple_extraction.GeneralStatementAnalyzer - Perspective  sentiment: UNDERSPECIFIED\n",
      "2022-05-03 19:57:43 -     INFO -              cltl.triple_extraction.GeneralStatementAnalyzer - Perspective    emotion: UNDERSPECIFIED\n",
      "2022-05-03 19:57:43 -     INFO -              cltl.triple_extraction.GeneralStatementAnalyzer - Utterance type: \"STATEMENT\"\n",
      "2022-05-03 19:57:43 -     INFO -              cltl.triple_extraction.GeneralStatementAnalyzer - RDF triplet    subject: {\"label\": \"Yes-it\", \"type\": [\"communication\"]}\n",
      "2022-05-03 19:57:43 -     INFO -              cltl.triple_extraction.GeneralStatementAnalyzer - RDF triplet  predicate: {\"label\": \"be\", \"type\": [\"stative\"]}\n",
      "2022-05-03 19:57:43 -     INFO -              cltl.triple_extraction.GeneralStatementAnalyzer - RDF triplet     object: {\"label\": \"interesting.\", \"type\": []}\n",
      "2022-05-03 19:57:43 -     INFO -              cltl.triple_extraction.GeneralStatementAnalyzer - Perspective  certainty: POSSIBLE\n",
      "2022-05-03 19:57:43 -     INFO -              cltl.triple_extraction.GeneralStatementAnalyzer - Perspective   polarity: POSITIVE\n",
      "2022-05-03 19:57:43 -     INFO -              cltl.triple_extraction.GeneralStatementAnalyzer - Perspective  sentiment: UNDERSPECIFIED\n",
      "2022-05-03 19:57:43 -     INFO -              cltl.triple_extraction.GeneralStatementAnalyzer - Perspective    emotion: UNDERSPECIFIED\n",
      "2022-05-03 19:57:43 -     INFO -              cltl.triple_extraction.GeneralStatementAnalyzer - Utterance type: \"STATEMENT\"\n",
      "2022-05-03 19:57:43 -     INFO -              cltl.triple_extraction.GeneralStatementAnalyzer - RDF triplet    subject: {\"label\": \"Yes-it\", \"type\": [\"communication\"]}\n",
      "2022-05-03 19:57:43 -     INFO -              cltl.triple_extraction.GeneralStatementAnalyzer - RDF triplet  predicate: {\"label\": \"be\", \"type\": [\"stative\"]}\n",
      "2022-05-03 19:57:43 -     INFO -              cltl.triple_extraction.GeneralStatementAnalyzer - RDF triplet     object: {\"label\": \"interesting.\", \"type\": []}\n",
      "2022-05-03 19:57:43 -     INFO -              cltl.triple_extraction.GeneralStatementAnalyzer - Perspective  certainty: POSSIBLE\n",
      "2022-05-03 19:57:43 -     INFO -              cltl.triple_extraction.GeneralStatementAnalyzer - Perspective   polarity: POSITIVE\n",
      "2022-05-03 19:57:43 -     INFO -              cltl.triple_extraction.GeneralStatementAnalyzer - Perspective  sentiment: UNDERSPECIFIED\n",
      "2022-05-03 19:57:43 -     INFO -              cltl.triple_extraction.GeneralStatementAnalyzer - Perspective    emotion: UNDERSPECIFIED\n",
      "2022-05-03 19:57:43 -     INFO -              cltl.triple_extraction.GeneralStatementAnalyzer - Utterance type: \"STATEMENT\"\n",
      "2022-05-03 19:57:43 -     INFO -              cltl.triple_extraction.GeneralStatementAnalyzer - RDF triplet    subject: {\"label\": \"Yes-it\", \"type\": [\"communication\"]}\n",
      "2022-05-03 19:57:43 -     INFO -              cltl.triple_extraction.GeneralStatementAnalyzer - RDF triplet  predicate: {\"label\": \"be\", \"type\": [\"stative\"]}\n",
      "2022-05-03 19:57:43 -     INFO -              cltl.triple_extraction.GeneralStatementAnalyzer - RDF triplet     object: {\"label\": \"interesting.\", \"type\": []}\n",
      "2022-05-03 19:57:43 -     INFO -              cltl.triple_extraction.GeneralStatementAnalyzer - Perspective  certainty: POSSIBLE\n",
      "2022-05-03 19:57:43 -     INFO -              cltl.triple_extraction.GeneralStatementAnalyzer - Perspective   polarity: POSITIVE\n",
      "2022-05-03 19:57:43 -     INFO -              cltl.triple_extraction.GeneralStatementAnalyzer - Perspective  sentiment: UNDERSPECIFIED\n",
      "2022-05-03 19:57:43 -     INFO -              cltl.triple_extraction.GeneralStatementAnalyzer - Perspective    emotion: UNDERSPECIFIED\n"
     ]
    },
    {
     "name": "stdout",
     "output_type": "stream",
     "text": [
      "Last utterance: Yes it was very interesting.\n",
      "CFG Tripels: [{'object': {'label': 'interesting.', 'type': []}, 'perspective': {'sentiment': 0.0, 'certainty': 1.0, 'polarity': 1.0, 'emotion': 0.0}, 'predicate': {'label': 'be', 'type': ['stative']}, 'subject': {'label': 'Yes-it', 'type': ['communication']}, 'utterance_type': 'STATEMENT'}]\n",
      "STATEMENT {'object': {'label': 'interesting.', 'type': []}, 'perspective': {'sentiment': 0.0, 'certainty': 1.0, 'polarity': 1.0, 'emotion': 0.0}, 'predicate': {'label': 'be', 'type': ['stative']}, 'subject': {'label': 'Yes-it', 'type': ['communication']}, 'utterance_type': 'STATEMENT'}\n",
      "2022-05-03 19:57:43,251 -     INFO -    cltl.brain.basic_brain.LongTermMemory - Triple in statement: yes-it_be_interesting [communication_->_])\n"
     ]
    },
    {
     "name": "stderr",
     "output_type": "stream",
     "text": [
      "2022-05-03 19:57:43 -     INFO -                        cltl.brain.basic_brain.LongTermMemory - Triple in statement: yes-it_be_interesting [communication_->_])\n"
     ]
    },
    {
     "name": "stdout",
     "output_type": "stream",
     "text": [
      "2022-05-03 19:57:43,265 -     INFO -  cltl.brain.basic_brain.ThoughtGenerator - Entity Novelty: new subject - new object \n"
     ]
    },
    {
     "name": "stderr",
     "output_type": "stream",
     "text": [
      "2022-05-03 19:57:43 -     INFO -                      cltl.brain.basic_brain.ThoughtGenerator - Entity Novelty: new subject - new object \n"
     ]
    },
    {
     "name": "stdout",
     "output_type": "stream",
     "text": [
      "2022-05-03 19:57:44,691 -     INFO -  cltl.brain.basic_brain.ThoughtGenerator - Negation Conflicts: blenderbot on May,2022 about UNDERSPECIFIED\n"
     ]
    },
    {
     "name": "stderr",
     "output_type": "stream",
     "text": [
      "2022-05-03 19:57:44 -     INFO -                      cltl.brain.basic_brain.ThoughtGenerator - Negation Conflicts: blenderbot on May,2022 about UNDERSPECIFIED\n",
      "2022-05-03 19:57:44 -     INFO -                                  cltl.triple_extraction.Chat - BLENDERBOT 015: \"I had no idea what to expect\"\n"
     ]
    },
    {
     "name": "stdout",
     "output_type": "stream",
     "text": [
      "spacy Triples []\n",
      "\n",
      "\tLeolani: You seem quite sure.\n"
     ]
    },
    {
     "name": "stderr",
     "output_type": "stream",
     "text": [
      "2022-05-03 19:57:46 -  WARNING -                           cltl.triple_extraction.CFGAnalyzer - Couldn't parse input\n"
     ]
    },
    {
     "name": "stdout",
     "output_type": "stream",
     "text": [
      "Last utterance: I had no idea what to expect\n",
      "CFG Tripels: []\n",
      "spacy Triples [('have', 'BLENDERBOT', 'idea')]\n",
      "Triple spacy Capsule:\n",
      "{'author': 'BLENDERBOT',\n",
      " 'chat': '2022-05-03-19_43_11',\n",
      " 'city': 'Amsterdam',\n",
      " 'context_id': 'Leolani',\n",
      " 'country': 'NL',\n",
      " 'date': datetime.date(2022, 5, 3),\n",
      " 'object': {'label': 'idea', 'type': ''},\n",
      " 'objects': [],\n",
      " 'people': [],\n",
      " 'place': 'Amsterdam',\n",
      " 'place_id': 124,\n",
      " 'position': 'image',\n",
      " 'predicate': {'label': 'have'},\n",
      " 'region': 'North Holland',\n",
      " 'subject': {'label': 'BLENDERBOT', 'type': ''},\n",
      " 'turn': '46ca75c6-45b0-4a44-ba71-1e2123fb18d3',\n",
      " 'utterance': ''}\n",
      "2022-05-03 19:57:46,332 -     INFO -    cltl.brain.basic_brain.LongTermMemory - Triple in statement: blenderbot_have_idea [_->_])\n"
     ]
    },
    {
     "name": "stderr",
     "output_type": "stream",
     "text": [
      "2022-05-03 19:57:46 -     INFO -                        cltl.brain.basic_brain.LongTermMemory - Triple in statement: blenderbot_have_idea [_->_])\n"
     ]
    },
    {
     "name": "stdout",
     "output_type": "stream",
     "text": [
      "2022-05-03 19:57:46,376 -     INFO -  cltl.brain.basic_brain.ThoughtGenerator - Entity Novelty: existing subject - new object \n"
     ]
    },
    {
     "name": "stderr",
     "output_type": "stream",
     "text": [
      "2022-05-03 19:57:46 -     INFO -                      cltl.brain.basic_brain.ThoughtGenerator - Entity Novelty: existing subject - new object \n"
     ]
    },
    {
     "name": "stdout",
     "output_type": "stream",
     "text": [
      "2022-05-03 19:57:47,912 -     INFO -  cltl.brain.basic_brain.ThoughtGenerator - Negation Conflicts: blenderbot on May,2022 about UNDERSPECIFIED\n"
     ]
    },
    {
     "name": "stderr",
     "output_type": "stream",
     "text": [
      "2022-05-03 19:57:47 -     INFO -                      cltl.brain.basic_brain.ThoughtGenerator - Negation Conflicts: blenderbot on May,2022 about UNDERSPECIFIED\n"
     ]
    },
    {
     "name": "stdout",
     "output_type": "stream",
     "text": [
      "2022-05-03 19:57:47,932 -     INFO -  cltl.brain.basic_brain.ThoughtGenerator - Gaps: 26 gaps as subject: e.g. experience smell - 15 gaps as object: e.g. know agent\n"
     ]
    },
    {
     "name": "stderr",
     "output_type": "stream",
     "text": [
      "2022-05-03 19:57:47 -     INFO -                      cltl.brain.basic_brain.ThoughtGenerator - Gaps: 26 gaps as subject: e.g. experience smell - 15 gaps as object: e.g. know agent\n",
      "2022-05-03 19:57:47 -     INFO -                                  cltl.triple_extraction.Chat - BLENDERBOT 016: \"I had no idea what to expect but it turned out to be a great experience.\"\n"
     ]
    },
    {
     "name": "stdout",
     "output_type": "stream",
     "text": [
      "\n",
      "\tLeolani: Please tell me more.\n",
      "\n",
      "\tFixed period BLENDERBOT: I had no idea what to expect but it turned out to be a great experience.\n"
     ]
    },
    {
     "name": "stderr",
     "output_type": "stream",
     "text": [
      "2022-05-03 19:57:49 -  WARNING -                           cltl.triple_extraction.CFGAnalyzer - Couldn't parse input\n"
     ]
    },
    {
     "name": "stdout",
     "output_type": "stream",
     "text": [
      "Last utterance: I had no idea what to expect but it turned out to be a great experience.\n",
      "CFG Tripels: []\n",
      "spacy Triples [('have', 'BLENDERBOT', 'idea')]\n",
      "Triple spacy Capsule:\n",
      "{'author': 'BLENDERBOT',\n",
      " 'chat': '2022-05-03-19_43_11',\n",
      " 'city': 'Amsterdam',\n",
      " 'context_id': 'Leolani',\n",
      " 'country': 'NL',\n",
      " 'date': datetime.date(2022, 5, 3),\n",
      " 'object': {'label': 'idea', 'type': ''},\n",
      " 'objects': [],\n",
      " 'people': [],\n",
      " 'place': 'Amsterdam',\n",
      " 'place_id': 124,\n",
      " 'position': 'image',\n",
      " 'predicate': {'label': 'have'},\n",
      " 'region': 'North Holland',\n",
      " 'subject': {'label': 'BLENDERBOT', 'type': ''},\n",
      " 'turn': 'ec2f9c94-a10f-4902-bd8b-1c5667797d91',\n",
      " 'utterance': ''}\n",
      "2022-05-03 19:57:49,853 -     INFO -    cltl.brain.basic_brain.LongTermMemory - Triple in statement: blenderbot_have_idea [_->_])\n"
     ]
    },
    {
     "name": "stderr",
     "output_type": "stream",
     "text": [
      "2022-05-03 19:57:49 -     INFO -                        cltl.brain.basic_brain.LongTermMemory - Triple in statement: blenderbot_have_idea [_->_])\n"
     ]
    },
    {
     "name": "stdout",
     "output_type": "stream",
     "text": [
      "2022-05-03 19:57:49,862 -     INFO -  cltl.brain.basic_brain.ThoughtGenerator - Statement Novelty: 1 times, e.g. blenderbot on May,2022\n"
     ]
    },
    {
     "name": "stderr",
     "output_type": "stream",
     "text": [
      "2022-05-03 19:57:49 -     INFO -                      cltl.brain.basic_brain.ThoughtGenerator - Statement Novelty: 1 times, e.g. blenderbot on May,2022\n"
     ]
    },
    {
     "name": "stdout",
     "output_type": "stream",
     "text": [
      "2022-05-03 19:57:51,405 -     INFO -  cltl.brain.basic_brain.ThoughtGenerator - Negation Conflicts: blenderbot on May,2022 about UNDERSPECIFIED\n"
     ]
    },
    {
     "name": "stderr",
     "output_type": "stream",
     "text": [
      "2022-05-03 19:57:51 -     INFO -                      cltl.brain.basic_brain.ThoughtGenerator - Negation Conflicts: blenderbot on May,2022 about UNDERSPECIFIED\n"
     ]
    },
    {
     "name": "stdout",
     "output_type": "stream",
     "text": [
      "2022-05-03 19:57:51,428 -     INFO -  cltl.brain.basic_brain.ThoughtGenerator - Gaps: 26 gaps as subject: e.g. be-member-of institution - 15 gaps as object: e.g. be-child-of agent\n"
     ]
    },
    {
     "name": "stderr",
     "output_type": "stream",
     "text": [
      "2022-05-03 19:57:51 -     INFO -                      cltl.brain.basic_brain.ThoughtGenerator - Gaps: 26 gaps as subject: e.g. be-member-of institution - 15 gaps as object: e.g. be-child-of agent\n"
     ]
    },
    {
     "name": "stdout",
     "output_type": "stream",
     "text": [
      "\n",
      "\tLeolani: Very interesting.\n",
      "input_prompt: Very interesting.\n"
     ]
    },
    {
     "name": "stderr",
     "output_type": "stream",
     "text": [
      "2022-05-03 19:57:55 -     INFO -                                  cltl.triple_extraction.Chat - BLENDERBOT 017: \"Yes\"\n"
     ]
    },
    {
     "name": "stdout",
     "output_type": "stream",
     "text": [
      "utteranceList: ['<s> Yes, it was very interesting. I had no idea what to expect, but it turned out to be a great experience.</s>']\n",
      "ANSWER  Yes, it was very interesting. I had no idea what to expect, but it turned out to be a great experience.\n",
      "Repeating   Yes \n"
     ]
    },
    {
     "name": "stderr",
     "output_type": "stream",
     "text": [
      "2022-05-03 19:57:57 -  WARNING -                           cltl.triple_extraction.CFGAnalyzer - Couldn't parse input\n",
      "2022-05-03 19:57:57 -     INFO -                                  cltl.triple_extraction.Chat - BLENDERBOT 018: \"Yes it was very interesting.\"\n"
     ]
    },
    {
     "name": "stdout",
     "output_type": "stream",
     "text": [
      "Last utterance: Yes\n",
      "CFG Tripels: []\n",
      "spacy Triples []\n",
      "\n",
      "\tLeolani: OK, but can you elaborate a bit?\n",
      "Repeating   Yes it was very interesting . \n",
      "\n",
      "\tFixed period BLENDERBOT: Yes it was very interesting.\n"
     ]
    },
    {
     "name": "stderr",
     "output_type": "stream",
     "text": [
      "2022-05-03 19:57:59 -     INFO -                           cltl.triple_extraction.CFGAnalyzer - Found 4 triples\n",
      "2022-05-03 19:57:59 -     INFO -              cltl.triple_extraction.GeneralStatementAnalyzer - Utterance type: \"STATEMENT\"\n",
      "2022-05-03 19:57:59 -     INFO -              cltl.triple_extraction.GeneralStatementAnalyzer - RDF triplet    subject: {\"label\": \"Yes-it\", \"type\": [\"communication\"]}\n",
      "2022-05-03 19:57:59 -     INFO -              cltl.triple_extraction.GeneralStatementAnalyzer - RDF triplet  predicate: {\"label\": \"be\", \"type\": [\"stative\"]}\n",
      "2022-05-03 19:57:59 -     INFO -              cltl.triple_extraction.GeneralStatementAnalyzer - RDF triplet     object: {\"label\": \"interesting.\", \"type\": []}\n",
      "2022-05-03 19:57:59 -     INFO -              cltl.triple_extraction.GeneralStatementAnalyzer - Perspective  certainty: POSSIBLE\n",
      "2022-05-03 19:57:59 -     INFO -              cltl.triple_extraction.GeneralStatementAnalyzer - Perspective   polarity: POSITIVE\n",
      "2022-05-03 19:57:59 -     INFO -              cltl.triple_extraction.GeneralStatementAnalyzer - Perspective  sentiment: UNDERSPECIFIED\n",
      "2022-05-03 19:57:59 -     INFO -              cltl.triple_extraction.GeneralStatementAnalyzer - Perspective    emotion: UNDERSPECIFIED\n",
      "2022-05-03 19:57:59 -     INFO -              cltl.triple_extraction.GeneralStatementAnalyzer - Utterance type: \"STATEMENT\"\n",
      "2022-05-03 19:57:59 -     INFO -              cltl.triple_extraction.GeneralStatementAnalyzer - RDF triplet    subject: {\"label\": \"Yes-it\", \"type\": [\"communication\"]}\n",
      "2022-05-03 19:57:59 -     INFO -              cltl.triple_extraction.GeneralStatementAnalyzer - RDF triplet  predicate: {\"label\": \"be\", \"type\": [\"stative\"]}\n",
      "2022-05-03 19:57:59 -     INFO -              cltl.triple_extraction.GeneralStatementAnalyzer - RDF triplet     object: {\"label\": \"interesting.\", \"type\": []}\n",
      "2022-05-03 19:57:59 -     INFO -              cltl.triple_extraction.GeneralStatementAnalyzer - Perspective  certainty: POSSIBLE\n",
      "2022-05-03 19:57:59 -     INFO -              cltl.triple_extraction.GeneralStatementAnalyzer - Perspective   polarity: POSITIVE\n",
      "2022-05-03 19:57:59 -     INFO -              cltl.triple_extraction.GeneralStatementAnalyzer - Perspective  sentiment: UNDERSPECIFIED\n",
      "2022-05-03 19:57:59 -     INFO -              cltl.triple_extraction.GeneralStatementAnalyzer - Perspective    emotion: UNDERSPECIFIED\n",
      "2022-05-03 19:57:59 -     INFO -              cltl.triple_extraction.GeneralStatementAnalyzer - Utterance type: \"STATEMENT\"\n",
      "2022-05-03 19:57:59 -     INFO -              cltl.triple_extraction.GeneralStatementAnalyzer - RDF triplet    subject: {\"label\": \"Yes-it\", \"type\": [\"communication\"]}\n",
      "2022-05-03 19:57:59 -     INFO -              cltl.triple_extraction.GeneralStatementAnalyzer - RDF triplet  predicate: {\"label\": \"be\", \"type\": [\"stative\"]}\n",
      "2022-05-03 19:57:59 -     INFO -              cltl.triple_extraction.GeneralStatementAnalyzer - RDF triplet     object: {\"label\": \"interesting.\", \"type\": []}\n",
      "2022-05-03 19:57:59 -     INFO -              cltl.triple_extraction.GeneralStatementAnalyzer - Perspective  certainty: POSSIBLE\n",
      "2022-05-03 19:57:59 -     INFO -              cltl.triple_extraction.GeneralStatementAnalyzer - Perspective   polarity: POSITIVE\n",
      "2022-05-03 19:57:59 -     INFO -              cltl.triple_extraction.GeneralStatementAnalyzer - Perspective  sentiment: UNDERSPECIFIED\n",
      "2022-05-03 19:57:59 -     INFO -              cltl.triple_extraction.GeneralStatementAnalyzer - Perspective    emotion: UNDERSPECIFIED\n",
      "2022-05-03 19:57:59 -     INFO -              cltl.triple_extraction.GeneralStatementAnalyzer - Utterance type: \"STATEMENT\"\n",
      "2022-05-03 19:57:59 -     INFO -              cltl.triple_extraction.GeneralStatementAnalyzer - RDF triplet    subject: {\"label\": \"Yes-it\", \"type\": [\"communication\"]}\n",
      "2022-05-03 19:57:59 -     INFO -              cltl.triple_extraction.GeneralStatementAnalyzer - RDF triplet  predicate: {\"label\": \"be\", \"type\": [\"stative\"]}\n",
      "2022-05-03 19:57:59 -     INFO -              cltl.triple_extraction.GeneralStatementAnalyzer - RDF triplet     object: {\"label\": \"interesting.\", \"type\": []}\n",
      "2022-05-03 19:57:59 -     INFO -              cltl.triple_extraction.GeneralStatementAnalyzer - Perspective  certainty: POSSIBLE\n",
      "2022-05-03 19:57:59 -     INFO -              cltl.triple_extraction.GeneralStatementAnalyzer - Perspective   polarity: POSITIVE\n",
      "2022-05-03 19:57:59 -     INFO -              cltl.triple_extraction.GeneralStatementAnalyzer - Perspective  sentiment: UNDERSPECIFIED\n",
      "2022-05-03 19:57:59 -     INFO -              cltl.triple_extraction.GeneralStatementAnalyzer - Perspective    emotion: UNDERSPECIFIED\n"
     ]
    },
    {
     "name": "stdout",
     "output_type": "stream",
     "text": [
      "Last utterance: Yes it was very interesting.\n",
      "CFG Tripels: [{'object': {'label': 'interesting.', 'type': []}, 'perspective': {'sentiment': 0.0, 'certainty': 1.0, 'polarity': 1.0, 'emotion': 0.0}, 'predicate': {'label': 'be', 'type': ['stative']}, 'subject': {'label': 'Yes-it', 'type': ['communication']}, 'utterance_type': 'STATEMENT'}]\n",
      "STATEMENT {'object': {'label': 'interesting.', 'type': []}, 'perspective': {'sentiment': 0.0, 'certainty': 1.0, 'polarity': 1.0, 'emotion': 0.0}, 'predicate': {'label': 'be', 'type': ['stative']}, 'subject': {'label': 'Yes-it', 'type': ['communication']}, 'utterance_type': 'STATEMENT'}\n",
      "2022-05-03 19:57:59,584 -     INFO -    cltl.brain.basic_brain.LongTermMemory - Triple in statement: yes-it_be_interesting [communication_->_])\n"
     ]
    },
    {
     "name": "stderr",
     "output_type": "stream",
     "text": [
      "2022-05-03 19:57:59 -     INFO -                        cltl.brain.basic_brain.LongTermMemory - Triple in statement: yes-it_be_interesting [communication_->_])\n"
     ]
    },
    {
     "name": "stdout",
     "output_type": "stream",
     "text": [
      "2022-05-03 19:57:59,623 -     INFO -  cltl.brain.basic_brain.ThoughtGenerator - Statement Novelty: 1 times, e.g. blenderbot on May,2022\n"
     ]
    },
    {
     "name": "stderr",
     "output_type": "stream",
     "text": [
      "2022-05-03 19:57:59 -     INFO -                      cltl.brain.basic_brain.ThoughtGenerator - Statement Novelty: 1 times, e.g. blenderbot on May,2022\n"
     ]
    },
    {
     "name": "stdout",
     "output_type": "stream",
     "text": [
      "2022-05-03 19:58:02,073 -     INFO -  cltl.brain.basic_brain.ThoughtGenerator - Negation Conflicts: blenderbot on May,2022 about UNDERSPECIFIED\n"
     ]
    },
    {
     "name": "stderr",
     "output_type": "stream",
     "text": [
      "2022-05-03 19:58:02 -     INFO -                      cltl.brain.basic_brain.ThoughtGenerator - Negation Conflicts: blenderbot on May,2022 about UNDERSPECIFIED\n",
      "2022-05-03 19:58:02 -     INFO -                                  cltl.triple_extraction.Chat - BLENDERBOT 019: \"I had no idea what to expect\"\n"
     ]
    },
    {
     "name": "stdout",
     "output_type": "stream",
     "text": [
      "spacy Triples []\n",
      "\n",
      "\tLeolani: OK, but can you elaborate a bit?\n",
      "Repeating I had no idea what to expect \n"
     ]
    },
    {
     "name": "stderr",
     "output_type": "stream",
     "text": [
      "2022-05-03 19:58:03 -  WARNING -                           cltl.triple_extraction.CFGAnalyzer - Couldn't parse input\n"
     ]
    },
    {
     "name": "stdout",
     "output_type": "stream",
     "text": [
      "Last utterance: I had no idea what to expect\n",
      "CFG Tripels: []\n",
      "spacy Triples [('have', 'BLENDERBOT', 'idea')]\n",
      "Triple spacy Capsule:\n",
      "{'author': 'BLENDERBOT',\n",
      " 'chat': '2022-05-03-19_43_11',\n",
      " 'city': 'Amsterdam',\n",
      " 'context_id': 'Leolani',\n",
      " 'country': 'NL',\n",
      " 'date': datetime.date(2022, 5, 3),\n",
      " 'object': {'label': 'idea', 'type': ''},\n",
      " 'objects': [],\n",
      " 'people': [],\n",
      " 'place': 'Amsterdam',\n",
      " 'place_id': 124,\n",
      " 'position': 'image',\n",
      " 'predicate': {'label': 'have'},\n",
      " 'region': 'North Holland',\n",
      " 'subject': {'label': 'BLENDERBOT', 'type': ''},\n",
      " 'turn': '5e68af7e-d25a-4f3a-a080-717f666f694a',\n",
      " 'utterance': ''}\n",
      "2022-05-03 19:58:04,076 -     INFO -    cltl.brain.basic_brain.LongTermMemory - Triple in statement: blenderbot_have_idea [_->_])\n"
     ]
    },
    {
     "name": "stderr",
     "output_type": "stream",
     "text": [
      "2022-05-03 19:58:04 -     INFO -                        cltl.brain.basic_brain.LongTermMemory - Triple in statement: blenderbot_have_idea [_->_])\n"
     ]
    },
    {
     "name": "stdout",
     "output_type": "stream",
     "text": [
      "2022-05-03 19:58:04,122 -     INFO -  cltl.brain.basic_brain.ThoughtGenerator - Statement Novelty: 1 times, e.g. blenderbot on May,2022\n"
     ]
    },
    {
     "name": "stderr",
     "output_type": "stream",
     "text": [
      "2022-05-03 19:58:04 -     INFO -                      cltl.brain.basic_brain.ThoughtGenerator - Statement Novelty: 1 times, e.g. blenderbot on May,2022\n"
     ]
    },
    {
     "name": "stdout",
     "output_type": "stream",
     "text": [
      "2022-05-03 19:58:06,378 -     INFO -  cltl.brain.basic_brain.ThoughtGenerator - Negation Conflicts: blenderbot on May,2022 about UNDERSPECIFIED\n"
     ]
    },
    {
     "name": "stderr",
     "output_type": "stream",
     "text": [
      "2022-05-03 19:58:06 -     INFO -                      cltl.brain.basic_brain.ThoughtGenerator - Negation Conflicts: blenderbot on May,2022 about UNDERSPECIFIED\n"
     ]
    },
    {
     "name": "stdout",
     "output_type": "stream",
     "text": [
      "2022-05-03 19:58:06,423 -     INFO -  cltl.brain.basic_brain.ThoughtGenerator - Gaps: 26 gaps as subject: e.g. like agent - 15 gaps as object: e.g. cook-by dish\n"
     ]
    },
    {
     "name": "stderr",
     "output_type": "stream",
     "text": [
      "2022-05-03 19:58:06 -     INFO -                      cltl.brain.basic_brain.ThoughtGenerator - Gaps: 26 gaps as subject: e.g. like agent - 15 gaps as object: e.g. cook-by dish\n",
      "2022-05-03 19:58:06 -     INFO -                                  cltl.triple_extraction.Chat - BLENDERBOT 020: \"I had no idea what to expect but it turned out to be a great experience.\"\n"
     ]
    },
    {
     "name": "stdout",
     "output_type": "stream",
     "text": [
      "\n",
      "\tLeolani: Let's change focus a bit... Tell me about your family.\n",
      "Repeating I had no idea what to expect but it turned out to be a great experience . \n",
      "\n",
      "\tFixed period BLENDERBOT: I had no idea what to expect but it turned out to be a great experience.\n"
     ]
    },
    {
     "name": "stderr",
     "output_type": "stream",
     "text": [
      "2022-05-03 19:58:08 -  WARNING -                           cltl.triple_extraction.CFGAnalyzer - Couldn't parse input\n"
     ]
    },
    {
     "name": "stdout",
     "output_type": "stream",
     "text": [
      "Last utterance: I had no idea what to expect but it turned out to be a great experience.\n",
      "CFG Tripels: []\n",
      "spacy Triples [('have', 'BLENDERBOT', 'idea')]\n",
      "Triple spacy Capsule:\n",
      "{'author': 'BLENDERBOT',\n",
      " 'chat': '2022-05-03-19_43_11',\n",
      " 'city': 'Amsterdam',\n",
      " 'context_id': 'Leolani',\n",
      " 'country': 'NL',\n",
      " 'date': datetime.date(2022, 5, 3),\n",
      " 'object': {'label': 'idea', 'type': ''},\n",
      " 'objects': [],\n",
      " 'people': [],\n",
      " 'place': 'Amsterdam',\n",
      " 'place_id': 124,\n",
      " 'position': 'image',\n",
      " 'predicate': {'label': 'have'},\n",
      " 'region': 'North Holland',\n",
      " 'subject': {'label': 'BLENDERBOT', 'type': ''},\n",
      " 'turn': '1c609d2f-8a24-4079-9920-ffff8c78f4ef',\n",
      " 'utterance': ''}\n",
      "2022-05-03 19:58:08,283 -     INFO -    cltl.brain.basic_brain.LongTermMemory - Triple in statement: blenderbot_have_idea [_->_])\n"
     ]
    },
    {
     "name": "stderr",
     "output_type": "stream",
     "text": [
      "2022-05-03 19:58:08 -     INFO -                        cltl.brain.basic_brain.LongTermMemory - Triple in statement: blenderbot_have_idea [_->_])\n"
     ]
    },
    {
     "name": "stdout",
     "output_type": "stream",
     "text": [
      "2022-05-03 19:58:08,314 -     INFO -  cltl.brain.basic_brain.ThoughtGenerator - Statement Novelty: 1 times, e.g. blenderbot on May,2022\n"
     ]
    },
    {
     "name": "stderr",
     "output_type": "stream",
     "text": [
      "2022-05-03 19:58:08 -     INFO -                      cltl.brain.basic_brain.ThoughtGenerator - Statement Novelty: 1 times, e.g. blenderbot on May,2022\n"
     ]
    },
    {
     "name": "stdout",
     "output_type": "stream",
     "text": [
      "2022-05-03 19:58:10,378 -     INFO -  cltl.brain.basic_brain.ThoughtGenerator - Negation Conflicts: blenderbot on May,2022 about UNDERSPECIFIED\n"
     ]
    },
    {
     "name": "stderr",
     "output_type": "stream",
     "text": [
      "2022-05-03 19:58:10 -     INFO -                      cltl.brain.basic_brain.ThoughtGenerator - Negation Conflicts: blenderbot on May,2022 about UNDERSPECIFIED\n"
     ]
    },
    {
     "name": "stdout",
     "output_type": "stream",
     "text": [
      "2022-05-03 19:58:10,426 -     INFO -  cltl.brain.basic_brain.ThoughtGenerator - Gaps: 26 gaps as subject: e.g. know agent - 15 gaps as object: e.g. be-parent-of person\n"
     ]
    },
    {
     "name": "stderr",
     "output_type": "stream",
     "text": [
      "2022-05-03 19:58:10 -     INFO -                      cltl.brain.basic_brain.ThoughtGenerator - Gaps: 26 gaps as subject: e.g. know agent - 15 gaps as object: e.g. be-parent-of person\n"
     ]
    },
    {
     "name": "stdout",
     "output_type": "stream",
     "text": [
      "\n",
      "\tLeolani: Can you elaborate on that?\n",
      "input_prompt: Can you elaborate on that?\n"
     ]
    },
    {
     "name": "stderr",
     "output_type": "stream",
     "text": [
      "2022-05-03 19:58:16 -     INFO -                                  cltl.triple_extraction.Chat - BLENDERBOT 021: \"Well\"\n"
     ]
    },
    {
     "name": "stdout",
     "output_type": "stream",
     "text": [
      "utteranceList: [\"<s><s> Well, I'm not sure if I'm going to be able to get the job.</s>\"]\n",
      "ANSWER  Well, I'm not sure if I'm going to be able to get the job.\n"
     ]
    },
    {
     "name": "stderr",
     "output_type": "stream",
     "text": [
      "2022-05-03 19:58:17 -  WARNING -                           cltl.triple_extraction.CFGAnalyzer - Couldn't parse input\n",
      "2022-05-03 19:58:17 -     INFO -                                  cltl.triple_extraction.Chat - BLENDERBOT 022: \"Well I 'm not sure if I 'm going to be able to get the job.\"\n"
     ]
    },
    {
     "name": "stdout",
     "output_type": "stream",
     "text": [
      "Last utterance: Well\n",
      "CFG Tripels: []\n",
      "spacy Triples []\n",
      "\n",
      "\tLeolani: I see.\n",
      "\n",
      "\tFixed period BLENDERBOT: Well I 'm not sure if I 'm going to be able to get the job.\n"
     ]
    },
    {
     "name": "stderr",
     "output_type": "stream",
     "text": [
      "2022-05-03 19:58:30 -  WARNING -                           cltl.triple_extraction.CFGAnalyzer - Couldn't parse input\n"
     ]
    },
    {
     "name": "stdout",
     "output_type": "stream",
     "text": [
      "Last utterance: Well I 'm not sure if I 'm going to be able to get the job.\n",
      "CFG Tripels: []\n",
      "spacy Triples []\n",
      "\n",
      "\tLeolani: I see.\n",
      "input_prompt: I see.\n"
     ]
    },
    {
     "name": "stderr",
     "output_type": "stream",
     "text": [
      "2022-05-03 19:58:34 -     INFO -                                  cltl.triple_extraction.Chat - BLENDERBOT 023: \"Yeah\"\n"
     ]
    },
    {
     "name": "stdout",
     "output_type": "stream",
     "text": [
      "utteranceList: [\"<s><s><s> Yeah, I'm not sure what I'm going to do with my life now.</s>\"]\n",
      "ANSWER  Yeah, I'm not sure what I'm going to do with my life now.\n"
     ]
    },
    {
     "name": "stderr",
     "output_type": "stream",
     "text": [
      "2022-05-03 19:58:35 -  WARNING -                           cltl.triple_extraction.CFGAnalyzer - Couldn't parse input\n",
      "2022-05-03 19:58:35 -     INFO -                                  cltl.triple_extraction.Chat - BLENDERBOT 024: \"Yeah I 'm not sure what I 'm going to do with my life now.\"\n"
     ]
    },
    {
     "name": "stdout",
     "output_type": "stream",
     "text": [
      "Last utterance: Yeah\n",
      "CFG Tripels: []\n",
      "spacy Triples []\n",
      "\n",
      "\tLeolani: Why do you say that yeah?\n",
      "\n",
      "\tFixed period BLENDERBOT: Yeah I 'm not sure what I 'm going to do with my life now.\n"
     ]
    },
    {
     "name": "stderr",
     "output_type": "stream",
     "text": [
      "2022-05-03 19:58:36 -  WARNING -                           cltl.triple_extraction.CFGAnalyzer - Couldn't parse input\n"
     ]
    },
    {
     "name": "stdout",
     "output_type": "stream",
     "text": [
      "Last utterance: Yeah I 'm not sure what I 'm going to do with my life now.\n",
      "CFG Tripels: []\n",
      "spacy Triples []\n",
      "\n",
      "\tLeolani: Let's change focus a bit... Tell me about your family.\n",
      "input_prompt: Let's change focus a bit... Tell me about your family.\n"
     ]
    },
    {
     "name": "stderr",
     "output_type": "stream",
     "text": [
      "2022-05-03 19:58:40 -     INFO -                                  cltl.triple_extraction.Chat - BLENDERBOT 025: \"My family is very supportive.\"\n"
     ]
    },
    {
     "name": "stdout",
     "output_type": "stream",
     "text": [
      "utteranceList: ['<s> My family is very supportive. They are always there for me when I need them. </s>']\n",
      "ANSWER  My family is very supportive. They are always there for me when I need them. \n",
      "Repeating   My family is very supportive . \n",
      "\n",
      "\tFixed period BLENDERBOT: My family is very supportive.\n"
     ]
    },
    {
     "name": "stderr",
     "output_type": "stream",
     "text": [
      "2022-05-03 19:58:42 -     INFO -                           cltl.triple_extraction.CFGAnalyzer - Found 2 triples\n",
      "2022-05-03 19:58:42 -     INFO -              cltl.triple_extraction.GeneralStatementAnalyzer - Utterance type: \"STATEMENT\"\n",
      "2022-05-03 19:58:42 -     INFO -              cltl.triple_extraction.GeneralStatementAnalyzer - RDF triplet    subject: {\"label\": \"My\", \"type\": [\"person\"]}\n",
      "2022-05-03 19:58:42 -     INFO -              cltl.triple_extraction.GeneralStatementAnalyzer - RDF triplet  predicate: {\"label\": \"family-is\", \"type\": [\"group\", \"stative\"]}\n",
      "2022-05-03 19:58:42 -     INFO -              cltl.triple_extraction.GeneralStatementAnalyzer - RDF triplet     object: {\"label\": \"supportive.\", \"type\": []}\n",
      "2022-05-03 19:58:42 -     INFO -              cltl.triple_extraction.GeneralStatementAnalyzer - Perspective  certainty: POSSIBLE\n",
      "2022-05-03 19:58:42 -     INFO -              cltl.triple_extraction.GeneralStatementAnalyzer - Perspective   polarity: POSITIVE\n",
      "2022-05-03 19:58:42 -     INFO -              cltl.triple_extraction.GeneralStatementAnalyzer - Perspective  sentiment: UNDERSPECIFIED\n",
      "2022-05-03 19:58:42 -     INFO -              cltl.triple_extraction.GeneralStatementAnalyzer - Perspective    emotion: UNDERSPECIFIED\n",
      "2022-05-03 19:58:42 -     INFO -              cltl.triple_extraction.GeneralStatementAnalyzer - Utterance type: \"STATEMENT\"\n",
      "2022-05-03 19:58:42 -     INFO -              cltl.triple_extraction.GeneralStatementAnalyzer - RDF triplet    subject: {\"label\": \"My\", \"type\": [\"person\"]}\n",
      "2022-05-03 19:58:42 -     INFO -              cltl.triple_extraction.GeneralStatementAnalyzer - RDF triplet  predicate: {\"label\": \"family-is\", \"type\": [\"group\", \"stative\"]}\n",
      "2022-05-03 19:58:42 -     INFO -              cltl.triple_extraction.GeneralStatementAnalyzer - RDF triplet     object: {\"label\": \"supportive.\", \"type\": []}\n",
      "2022-05-03 19:58:42 -     INFO -              cltl.triple_extraction.GeneralStatementAnalyzer - Perspective  certainty: POSSIBLE\n",
      "2022-05-03 19:58:42 -     INFO -              cltl.triple_extraction.GeneralStatementAnalyzer - Perspective   polarity: POSITIVE\n",
      "2022-05-03 19:58:42 -     INFO -              cltl.triple_extraction.GeneralStatementAnalyzer - Perspective  sentiment: UNDERSPECIFIED\n",
      "2022-05-03 19:58:42 -     INFO -              cltl.triple_extraction.GeneralStatementAnalyzer - Perspective    emotion: UNDERSPECIFIED\n"
     ]
    },
    {
     "name": "stdout",
     "output_type": "stream",
     "text": [
      "Last utterance: My family is very supportive.\n",
      "CFG Tripels: [{'object': {'label': 'supportive.', 'type': []}, 'perspective': {'sentiment': 0.0, 'certainty': 1.0, 'polarity': 1.0, 'emotion': 0.0}, 'predicate': {'label': 'family-is', 'type': ['group', 'stative']}, 'subject': {'label': 'My', 'type': ['person']}, 'utterance_type': 'STATEMENT'}]\n",
      "STATEMENT {'object': {'label': 'supportive.', 'type': []}, 'perspective': {'sentiment': 0.0, 'certainty': 1.0, 'polarity': 1.0, 'emotion': 0.0}, 'predicate': {'label': 'family-is', 'type': ['group', 'stative']}, 'subject': {'label': 'My', 'type': ['person']}, 'utterance_type': 'STATEMENT'}\n",
      "2022-05-03 19:58:42,281 -     INFO -    cltl.brain.basic_brain.LongTermMemory - Triple in statement: my_family-is_supportive [person_->_])\n"
     ]
    },
    {
     "name": "stderr",
     "output_type": "stream",
     "text": [
      "2022-05-03 19:58:42 -     INFO -                        cltl.brain.basic_brain.LongTermMemory - Triple in statement: my_family-is_supportive [person_->_])\n"
     ]
    },
    {
     "name": "stdout",
     "output_type": "stream",
     "text": [
      "2022-05-03 19:58:42,328 -     INFO -  cltl.brain.basic_brain.ThoughtGenerator - Statement Novelty: 1 times, e.g. blenderbot on May,2022\n"
     ]
    },
    {
     "name": "stderr",
     "output_type": "stream",
     "text": [
      "2022-05-03 19:58:42 -     INFO -                      cltl.brain.basic_brain.ThoughtGenerator - Statement Novelty: 1 times, e.g. blenderbot on May,2022\n"
     ]
    },
    {
     "name": "stdout",
     "output_type": "stream",
     "text": [
      "2022-05-03 19:58:45,330 -     INFO -  cltl.brain.basic_brain.ThoughtGenerator - Negation Conflicts: blenderbot on May,2022 about UNDERSPECIFIED\n"
     ]
    },
    {
     "name": "stderr",
     "output_type": "stream",
     "text": [
      "2022-05-03 19:58:45 -     INFO -                      cltl.brain.basic_brain.ThoughtGenerator - Negation Conflicts: blenderbot on May,2022 about UNDERSPECIFIED\n"
     ]
    },
    {
     "name": "stdout",
     "output_type": "stream",
     "text": [
      "2022-05-03 19:58:45,429 -     INFO -  cltl.brain.basic_brain.ThoughtGenerator - Gaps: 26 gaps as subject: e.g. be-from location - 15 gaps as object: e.g. be-child-of agent\n"
     ]
    },
    {
     "name": "stderr",
     "output_type": "stream",
     "text": [
      "2022-05-03 19:58:45 -     INFO -                      cltl.brain.basic_brain.ThoughtGenerator - Gaps: 26 gaps as subject: e.g. be-from location - 15 gaps as object: e.g. be-child-of agent\n",
      "2022-05-03 19:58:45 -     INFO -                                  cltl.triple_extraction.Chat - BLENDERBOT 026: \"They are always there for me when I need them.\"\n"
     ]
    },
    {
     "name": "stdout",
     "output_type": "stream",
     "text": [
      "spacy Triples []\n",
      "\n",
      "\tLeolani: Why do you say that your family is very supportive?\n",
      "Repeating They are always there for me when I need them . \n",
      "\n",
      "\tFixed period BLENDERBOT: They are always there for me when I need them.\n"
     ]
    },
    {
     "name": "stderr",
     "output_type": "stream",
     "text": [
      "2022-05-03 19:58:47 -  WARNING -                           cltl.triple_extraction.CFGAnalyzer - Couldn't parse input\n"
     ]
    },
    {
     "name": "stdout",
     "output_type": "stream",
     "text": [
      "Last utterance: They are always there for me when I need them.\n",
      "CFG Tripels: []\n",
      "spacy Triples []\n",
      "\n",
      "\tLeolani: they am always there for you when you need them.\n",
      "input_prompt: they am always there for you when you need them.\n"
     ]
    },
    {
     "name": "stderr",
     "output_type": "stream",
     "text": [
      "2022-05-03 19:58:52 -     INFO -                                  cltl.triple_extraction.Chat - BLENDERBOT 027: \"That is so true.\"\n"
     ]
    },
    {
     "name": "stdout",
     "output_type": "stream",
     "text": [
      "utteranceList: ['<s> That is so true. I am so grateful to have them in my life. </s>']\n",
      "ANSWER  That is so true. I am so grateful to have them in my life. \n",
      "\n",
      "\tFixed period BLENDERBOT: That is so true.\n"
     ]
    },
    {
     "name": "stderr",
     "output_type": "stream",
     "text": [
      "2022-05-03 19:58:54 -     INFO -                           cltl.triple_extraction.CFGAnalyzer - Found 2 triples\n",
      "2022-05-03 19:58:54 -     INFO -              cltl.triple_extraction.GeneralStatementAnalyzer - Utterance type: \"STATEMENT\"\n",
      "2022-05-03 19:58:54 -     INFO -              cltl.triple_extraction.GeneralStatementAnalyzer - RDF triplet    subject: {\"label\": \"that\", \"type\": []}\n",
      "2022-05-03 19:58:54 -     INFO -              cltl.triple_extraction.GeneralStatementAnalyzer - RDF triplet  predicate: {\"label\": \"be\", \"type\": [\"stative\"]}\n",
      "2022-05-03 19:58:54 -     INFO -              cltl.triple_extraction.GeneralStatementAnalyzer - RDF triplet     object: {\"label\": \"true.\", \"type\": []}\n",
      "2022-05-03 19:58:54 -     INFO -              cltl.triple_extraction.GeneralStatementAnalyzer - Perspective  certainty: POSSIBLE\n",
      "2022-05-03 19:58:54 -     INFO -              cltl.triple_extraction.GeneralStatementAnalyzer - Perspective   polarity: POSITIVE\n",
      "2022-05-03 19:58:54 -     INFO -              cltl.triple_extraction.GeneralStatementAnalyzer - Perspective  sentiment: UNDERSPECIFIED\n",
      "2022-05-03 19:58:54 -     INFO -              cltl.triple_extraction.GeneralStatementAnalyzer - Perspective    emotion: UNDERSPECIFIED\n",
      "2022-05-03 19:58:54 -     INFO -              cltl.triple_extraction.GeneralStatementAnalyzer - Utterance type: \"STATEMENT\"\n",
      "2022-05-03 19:58:54 -     INFO -              cltl.triple_extraction.GeneralStatementAnalyzer - RDF triplet    subject: {\"label\": \"that\", \"type\": []}\n",
      "2022-05-03 19:58:54 -     INFO -              cltl.triple_extraction.GeneralStatementAnalyzer - RDF triplet  predicate: {\"label\": \"be\", \"type\": [\"stative\"]}\n",
      "2022-05-03 19:58:54 -     INFO -              cltl.triple_extraction.GeneralStatementAnalyzer - RDF triplet     object: {\"label\": \"true.\", \"type\": []}\n",
      "2022-05-03 19:58:54 -     INFO -              cltl.triple_extraction.GeneralStatementAnalyzer - Perspective  certainty: POSSIBLE\n",
      "2022-05-03 19:58:54 -     INFO -              cltl.triple_extraction.GeneralStatementAnalyzer - Perspective   polarity: POSITIVE\n",
      "2022-05-03 19:58:54 -     INFO -              cltl.triple_extraction.GeneralStatementAnalyzer - Perspective  sentiment: UNDERSPECIFIED\n",
      "2022-05-03 19:58:54 -     INFO -              cltl.triple_extraction.GeneralStatementAnalyzer - Perspective    emotion: UNDERSPECIFIED\n"
     ]
    },
    {
     "name": "stdout",
     "output_type": "stream",
     "text": [
      "Last utterance: That is so true.\n",
      "CFG Tripels: [{'object': {'label': 'true.', 'type': []}, 'perspective': {'sentiment': 0.0, 'certainty': 1.0, 'polarity': 1.0, 'emotion': 0.0}, 'predicate': {'label': 'be', 'type': ['stative']}, 'subject': {'label': 'that', 'type': []}, 'utterance_type': 'STATEMENT'}]\n",
      "STATEMENT {'object': {'label': 'true.', 'type': []}, 'perspective': {'sentiment': 0.0, 'certainty': 1.0, 'polarity': 1.0, 'emotion': 0.0}, 'predicate': {'label': 'be', 'type': ['stative']}, 'subject': {'label': 'that', 'type': []}, 'utterance_type': 'STATEMENT'}\n",
      "2022-05-03 19:58:54,829 -     INFO -    cltl.brain.basic_brain.LongTermMemory - Triple in statement: that_be_true [_->_])\n"
     ]
    },
    {
     "name": "stderr",
     "output_type": "stream",
     "text": [
      "2022-05-03 19:58:54 -     INFO -                        cltl.brain.basic_brain.LongTermMemory - Triple in statement: that_be_true [_->_])\n"
     ]
    },
    {
     "name": "stdout",
     "output_type": "stream",
     "text": [
      "2022-05-03 19:58:54,930 -     INFO -  cltl.brain.basic_brain.ThoughtGenerator - Entity Novelty: new subject - new object \n"
     ]
    },
    {
     "name": "stderr",
     "output_type": "stream",
     "text": [
      "2022-05-03 19:58:54 -     INFO -                      cltl.brain.basic_brain.ThoughtGenerator - Entity Novelty: new subject - new object \n"
     ]
    },
    {
     "name": "stdout",
     "output_type": "stream",
     "text": [
      "2022-05-03 19:58:57,976 -     INFO -  cltl.brain.basic_brain.ThoughtGenerator - Negation Conflicts: blenderbot on May,2022 about UNDERSPECIFIED\n"
     ]
    },
    {
     "name": "stderr",
     "output_type": "stream",
     "text": [
      "2022-05-03 19:58:57 -     INFO -                      cltl.brain.basic_brain.ThoughtGenerator - Negation Conflicts: blenderbot on May,2022 about UNDERSPECIFIED\n",
      "2022-05-03 19:58:58 -     INFO -                                  cltl.triple_extraction.Chat - BLENDERBOT 028: \"I am so grateful to have them in my life.\"\n"
     ]
    },
    {
     "name": "stdout",
     "output_type": "stream",
     "text": [
      "spacy Triples []\n",
      "\n",
      "\tLeolani: How does that make you feel?\n",
      "\n",
      "\tFixed period BLENDERBOT: I am so grateful to have them in my life.\n"
     ]
    },
    {
     "name": "stderr",
     "output_type": "stream",
     "text": [
      "2022-05-03 19:59:00 -  WARNING -                           cltl.triple_extraction.CFGAnalyzer - Couldn't parse input\n"
     ]
    },
    {
     "name": "stdout",
     "output_type": "stream",
     "text": [
      "Last utterance: I am so grateful to have them in my life.\n",
      "CFG Tripels: []\n",
      "spacy Triples [('be', 'BLENDERBOT', 'grateful')]\n",
      "Triple spacy Capsule:\n",
      "{'author': 'BLENDERBOT',\n",
      " 'chat': '2022-05-03-19_43_11',\n",
      " 'city': 'Amsterdam',\n",
      " 'context_id': 'Leolani',\n",
      " 'country': 'NL',\n",
      " 'date': datetime.date(2022, 5, 3),\n",
      " 'object': {'label': 'grateful', 'type': ''},\n",
      " 'objects': [],\n",
      " 'people': [],\n",
      " 'place': 'Amsterdam',\n",
      " 'place_id': 124,\n",
      " 'position': 'image',\n",
      " 'predicate': {'label': 'be'},\n",
      " 'region': 'North Holland',\n",
      " 'subject': {'label': 'BLENDERBOT', 'type': ''},\n",
      " 'turn': '3fa8be5c-f6cc-4f99-8d49-404477eb382e',\n",
      " 'utterance': ''}\n",
      "2022-05-03 19:59:00,325 -     INFO -    cltl.brain.basic_brain.LongTermMemory - Triple in statement: blenderbot_be_grateful [_->_])\n"
     ]
    },
    {
     "name": "stderr",
     "output_type": "stream",
     "text": [
      "2022-05-03 19:59:00 -     INFO -                        cltl.brain.basic_brain.LongTermMemory - Triple in statement: blenderbot_be_grateful [_->_])\n"
     ]
    },
    {
     "name": "stdout",
     "output_type": "stream",
     "text": [
      "2022-05-03 19:59:00,420 -     INFO -  cltl.brain.basic_brain.ThoughtGenerator - Entity Novelty: existing subject - new object \n"
     ]
    },
    {
     "name": "stderr",
     "output_type": "stream",
     "text": [
      "2022-05-03 19:59:00 -     INFO -                      cltl.brain.basic_brain.ThoughtGenerator - Entity Novelty: existing subject - new object \n"
     ]
    },
    {
     "name": "stdout",
     "output_type": "stream",
     "text": [
      "2022-05-03 19:59:00,476 -     INFO -  cltl.brain.basic_brain.ThoughtGenerator - Overlaps: 1 subject overlaps: e.g. blenderbot on May,2022 about an-accountant - 0 object overlaps: e.g. ''\n"
     ]
    },
    {
     "name": "stderr",
     "output_type": "stream",
     "text": [
      "2022-05-03 19:59:00 -     INFO -                      cltl.brain.basic_brain.ThoughtGenerator - Overlaps: 1 subject overlaps: e.g. blenderbot on May,2022 about an-accountant - 0 object overlaps: e.g. ''\n"
     ]
    },
    {
     "name": "stdout",
     "output_type": "stream",
     "text": [
      "2022-05-03 19:59:02,529 -     INFO -  cltl.brain.basic_brain.ThoughtGenerator - Negation Conflicts: blenderbot on May,2022 about UNDERSPECIFIED\n"
     ]
    },
    {
     "name": "stderr",
     "output_type": "stream",
     "text": [
      "2022-05-03 19:59:02 -     INFO -                      cltl.brain.basic_brain.ThoughtGenerator - Negation Conflicts: blenderbot on May,2022 about UNDERSPECIFIED\n"
     ]
    },
    {
     "name": "stdout",
     "output_type": "stream",
     "text": [
      "2022-05-03 19:59:02,584 -     INFO -  cltl.brain.basic_brain.ThoughtGenerator - Gaps: 26 gaps as subject: e.g. like-by agent - 15 gaps as object: e.g. like-by agent\n"
     ]
    },
    {
     "name": "stderr",
     "output_type": "stream",
     "text": [
      "2022-05-03 19:59:02 -     INFO -                      cltl.brain.basic_brain.ThoughtGenerator - Gaps: 26 gaps as subject: e.g. like-by agent - 15 gaps as object: e.g. like-by agent\n"
     ]
    },
    {
     "name": "stdout",
     "output_type": "stream",
     "text": [
      "\n",
      "\tLeolani: Did you come to me because you are so grateful to have them in your life?\n",
      "input_prompt: Did you come to me because you are so grateful to have them in your life?\n"
     ]
    },
    {
     "name": "stderr",
     "output_type": "stream",
     "text": [
      "2022-05-03 19:59:06 -     INFO -                                  cltl.triple_extraction.Chat - BLENDERBOT 029: \"Yes\"\n"
     ]
    },
    {
     "name": "stdout",
     "output_type": "stream",
     "text": [
      "utteranceList: ['<s> Yes, I am so thankful for them. They have been there for me through so many hard times.</s>']\n",
      "ANSWER  Yes, I am so thankful for them. They have been there for me through so many hard times.\n",
      "Repeating   Yes \n"
     ]
    },
    {
     "name": "stderr",
     "output_type": "stream",
     "text": [
      "2022-05-03 19:59:08 -  WARNING -                           cltl.triple_extraction.CFGAnalyzer - Couldn't parse input\n",
      "2022-05-03 19:59:08 -     INFO -                                  cltl.triple_extraction.Chat - BLENDERBOT 030: \"Yes I am so thankful for them.\"\n"
     ]
    },
    {
     "name": "stdout",
     "output_type": "stream",
     "text": [
      "Last utterance: Yes\n",
      "CFG Tripels: []\n",
      "spacy Triples []\n",
      "\n",
      "\tLeolani: You seem quite sure.\n",
      "\n",
      "\tFixed period BLENDERBOT: Yes I am so thankful for them.\n"
     ]
    },
    {
     "name": "stderr",
     "output_type": "stream",
     "text": [
      "2022-05-03 19:59:12 -     INFO -                           cltl.triple_extraction.CFGAnalyzer - Found 8 triples\n",
      "2022-05-03 19:59:12 -     INFO -              cltl.triple_extraction.GeneralStatementAnalyzer - Utterance type: \"STATEMENT\"\n",
      "2022-05-03 19:59:12 -     INFO -              cltl.triple_extraction.GeneralStatementAnalyzer - RDF triplet    subject: {\"label\": \"Yes-I\", \"type\": [\"communication\", \"person\"]}\n",
      "2022-05-03 19:59:12 -     INFO -              cltl.triple_extraction.GeneralStatementAnalyzer - RDF triplet  predicate: {\"label\": \"be\", \"type\": [\"stative\"]}\n",
      "2022-05-03 19:59:12 -     INFO -              cltl.triple_extraction.GeneralStatementAnalyzer - RDF triplet     object: {\"label\": \"thankful-for-them.\", \"type\": [\"agent\"]}\n",
      "2022-05-03 19:59:12 -     INFO -              cltl.triple_extraction.GeneralStatementAnalyzer - Perspective  certainty: POSSIBLE\n",
      "2022-05-03 19:59:12 -     INFO -              cltl.triple_extraction.GeneralStatementAnalyzer - Perspective   polarity: POSITIVE\n",
      "2022-05-03 19:59:12 -     INFO -              cltl.triple_extraction.GeneralStatementAnalyzer - Perspective  sentiment: UNDERSPECIFIED\n",
      "2022-05-03 19:59:12 -     INFO -              cltl.triple_extraction.GeneralStatementAnalyzer - Perspective    emotion: UNDERSPECIFIED\n",
      "2022-05-03 19:59:12 -     INFO -              cltl.triple_extraction.GeneralStatementAnalyzer - Utterance type: \"STATEMENT\"\n",
      "2022-05-03 19:59:12 -     INFO -              cltl.triple_extraction.GeneralStatementAnalyzer - RDF triplet    subject: {\"label\": \"Yes-I\", \"type\": [\"communication\", \"person\"]}\n",
      "2022-05-03 19:59:12 -     INFO -              cltl.triple_extraction.GeneralStatementAnalyzer - RDF triplet  predicate: {\"label\": \"be\", \"type\": [\"stative\"]}\n",
      "2022-05-03 19:59:12 -     INFO -              cltl.triple_extraction.GeneralStatementAnalyzer - RDF triplet     object: {\"label\": \"thankful-for-them.\", \"type\": [\"agent\"]}\n",
      "2022-05-03 19:59:12 -     INFO -              cltl.triple_extraction.GeneralStatementAnalyzer - Perspective  certainty: POSSIBLE\n",
      "2022-05-03 19:59:12 -     INFO -              cltl.triple_extraction.GeneralStatementAnalyzer - Perspective   polarity: POSITIVE\n",
      "2022-05-03 19:59:12 -     INFO -              cltl.triple_extraction.GeneralStatementAnalyzer - Perspective  sentiment: UNDERSPECIFIED\n",
      "2022-05-03 19:59:12 -     INFO -              cltl.triple_extraction.GeneralStatementAnalyzer - Perspective    emotion: UNDERSPECIFIED\n",
      "2022-05-03 19:59:12 -     INFO -              cltl.triple_extraction.GeneralStatementAnalyzer - Utterance type: \"STATEMENT\"\n",
      "2022-05-03 19:59:12 -     INFO -              cltl.triple_extraction.GeneralStatementAnalyzer - RDF triplet    subject: {\"label\": \"Yes-I\", \"type\": [\"communication\", \"person\"]}\n",
      "2022-05-03 19:59:12 -     INFO -              cltl.triple_extraction.GeneralStatementAnalyzer - RDF triplet  predicate: {\"label\": \"be\", \"type\": [\"stative\"]}\n",
      "2022-05-03 19:59:12 -     INFO -              cltl.triple_extraction.GeneralStatementAnalyzer - RDF triplet     object: {\"label\": \"thankful-for-them.\", \"type\": [\"agent\"]}\n",
      "2022-05-03 19:59:12 -     INFO -              cltl.triple_extraction.GeneralStatementAnalyzer - Perspective  certainty: POSSIBLE\n",
      "2022-05-03 19:59:12 -     INFO -              cltl.triple_extraction.GeneralStatementAnalyzer - Perspective   polarity: POSITIVE\n",
      "2022-05-03 19:59:12 -     INFO -              cltl.triple_extraction.GeneralStatementAnalyzer - Perspective  sentiment: UNDERSPECIFIED\n",
      "2022-05-03 19:59:12 -     INFO -              cltl.triple_extraction.GeneralStatementAnalyzer - Perspective    emotion: UNDERSPECIFIED\n",
      "2022-05-03 19:59:12 -     INFO -              cltl.triple_extraction.GeneralStatementAnalyzer - Utterance type: \"STATEMENT\"\n",
      "2022-05-03 19:59:12 -     INFO -              cltl.triple_extraction.GeneralStatementAnalyzer - RDF triplet    subject: {\"label\": \"Yes-I\", \"type\": [\"communication\", \"person\"]}\n",
      "2022-05-03 19:59:12 -     INFO -              cltl.triple_extraction.GeneralStatementAnalyzer - RDF triplet  predicate: {\"label\": \"be\", \"type\": [\"stative\"]}\n",
      "2022-05-03 19:59:12 -     INFO -              cltl.triple_extraction.GeneralStatementAnalyzer - RDF triplet     object: {\"label\": \"thankful-for-them.\", \"type\": [\"agent\"]}\n",
      "2022-05-03 19:59:12 -     INFO -              cltl.triple_extraction.GeneralStatementAnalyzer - Perspective  certainty: POSSIBLE\n",
      "2022-05-03 19:59:12 -     INFO -              cltl.triple_extraction.GeneralStatementAnalyzer - Perspective   polarity: POSITIVE\n",
      "2022-05-03 19:59:12 -     INFO -              cltl.triple_extraction.GeneralStatementAnalyzer - Perspective  sentiment: UNDERSPECIFIED\n",
      "2022-05-03 19:59:12 -     INFO -              cltl.triple_extraction.GeneralStatementAnalyzer - Perspective    emotion: UNDERSPECIFIED\n",
      "2022-05-03 19:59:12 -     INFO -              cltl.triple_extraction.GeneralStatementAnalyzer - Utterance type: \"STATEMENT\"\n",
      "2022-05-03 19:59:12 -     INFO -              cltl.triple_extraction.GeneralStatementAnalyzer - RDF triplet    subject: {\"label\": \"Yes-I\", \"type\": [\"communication\", \"person\"]}\n",
      "2022-05-03 19:59:12 -     INFO -              cltl.triple_extraction.GeneralStatementAnalyzer - RDF triplet  predicate: {\"label\": \"be\", \"type\": [\"stative\"]}\n",
      "2022-05-03 19:59:12 -     INFO -              cltl.triple_extraction.GeneralStatementAnalyzer - RDF triplet     object: {\"label\": \"thankful-for-them.\", \"type\": [\"agent\"]}\n",
      "2022-05-03 19:59:12 -     INFO -              cltl.triple_extraction.GeneralStatementAnalyzer - Perspective  certainty: POSSIBLE\n",
      "2022-05-03 19:59:12 -     INFO -              cltl.triple_extraction.GeneralStatementAnalyzer - Perspective   polarity: POSITIVE\n",
      "2022-05-03 19:59:12 -     INFO -              cltl.triple_extraction.GeneralStatementAnalyzer - Perspective  sentiment: UNDERSPECIFIED\n",
      "2022-05-03 19:59:12 -     INFO -              cltl.triple_extraction.GeneralStatementAnalyzer - Perspective    emotion: UNDERSPECIFIED\n",
      "2022-05-03 19:59:12 -     INFO -              cltl.triple_extraction.GeneralStatementAnalyzer - Utterance type: \"STATEMENT\"\n",
      "2022-05-03 19:59:12 -     INFO -              cltl.triple_extraction.GeneralStatementAnalyzer - RDF triplet    subject: {\"label\": \"Yes-I\", \"type\": [\"communication\", \"person\"]}\n",
      "2022-05-03 19:59:12 -     INFO -              cltl.triple_extraction.GeneralStatementAnalyzer - RDF triplet  predicate: {\"label\": \"be\", \"type\": [\"stative\"]}\n",
      "2022-05-03 19:59:12 -     INFO -              cltl.triple_extraction.GeneralStatementAnalyzer - RDF triplet     object: {\"label\": \"thankful-for-them.\", \"type\": [\"agent\"]}\n",
      "2022-05-03 19:59:12 -     INFO -              cltl.triple_extraction.GeneralStatementAnalyzer - Perspective  certainty: POSSIBLE\n",
      "2022-05-03 19:59:12 -     INFO -              cltl.triple_extraction.GeneralStatementAnalyzer - Perspective   polarity: POSITIVE\n",
      "2022-05-03 19:59:12 -     INFO -              cltl.triple_extraction.GeneralStatementAnalyzer - Perspective  sentiment: UNDERSPECIFIED\n",
      "2022-05-03 19:59:12 -     INFO -              cltl.triple_extraction.GeneralStatementAnalyzer - Perspective    emotion: UNDERSPECIFIED\n",
      "2022-05-03 19:59:12 -     INFO -              cltl.triple_extraction.GeneralStatementAnalyzer - Utterance type: \"STATEMENT\"\n",
      "2022-05-03 19:59:12 -     INFO -              cltl.triple_extraction.GeneralStatementAnalyzer - RDF triplet    subject: {\"label\": \"Yes-I\", \"type\": [\"communication\", \"person\"]}\n",
      "2022-05-03 19:59:12 -     INFO -              cltl.triple_extraction.GeneralStatementAnalyzer - RDF triplet  predicate: {\"label\": \"be\", \"type\": [\"stative\"]}\n",
      "2022-05-03 19:59:12 -     INFO -              cltl.triple_extraction.GeneralStatementAnalyzer - RDF triplet     object: {\"label\": \"thankful-for-them.\", \"type\": [\"agent\"]}\n",
      "2022-05-03 19:59:12 -     INFO -              cltl.triple_extraction.GeneralStatementAnalyzer - Perspective  certainty: POSSIBLE\n",
      "2022-05-03 19:59:12 -     INFO -              cltl.triple_extraction.GeneralStatementAnalyzer - Perspective   polarity: POSITIVE\n",
      "2022-05-03 19:59:12 -     INFO -              cltl.triple_extraction.GeneralStatementAnalyzer - Perspective  sentiment: UNDERSPECIFIED\n",
      "2022-05-03 19:59:12 -     INFO -              cltl.triple_extraction.GeneralStatementAnalyzer - Perspective    emotion: UNDERSPECIFIED\n",
      "2022-05-03 19:59:12 -     INFO -              cltl.triple_extraction.GeneralStatementAnalyzer - Utterance type: \"STATEMENT\"\n",
      "2022-05-03 19:59:12 -     INFO -              cltl.triple_extraction.GeneralStatementAnalyzer - RDF triplet    subject: {\"label\": \"Yes-I\", \"type\": [\"communication\", \"person\"]}\n",
      "2022-05-03 19:59:12 -     INFO -              cltl.triple_extraction.GeneralStatementAnalyzer - RDF triplet  predicate: {\"label\": \"be\", \"type\": [\"stative\"]}\n",
      "2022-05-03 19:59:12 -     INFO -              cltl.triple_extraction.GeneralStatementAnalyzer - RDF triplet     object: {\"label\": \"thankful-for-them.\", \"type\": [\"agent\"]}\n",
      "2022-05-03 19:59:12 -     INFO -              cltl.triple_extraction.GeneralStatementAnalyzer - Perspective  certainty: POSSIBLE\n",
      "2022-05-03 19:59:12 -     INFO -              cltl.triple_extraction.GeneralStatementAnalyzer - Perspective   polarity: POSITIVE\n",
      "2022-05-03 19:59:12 -     INFO -              cltl.triple_extraction.GeneralStatementAnalyzer - Perspective  sentiment: UNDERSPECIFIED\n",
      "2022-05-03 19:59:12 -     INFO -              cltl.triple_extraction.GeneralStatementAnalyzer - Perspective    emotion: UNDERSPECIFIED\n"
     ]
    },
    {
     "name": "stdout",
     "output_type": "stream",
     "text": [
      "Last utterance: Yes I am so thankful for them.\n",
      "CFG Tripels: [{'object': {'label': 'thankful-for-them.', 'type': ['agent']}, 'perspective': {'sentiment': 0.0, 'certainty': 1.0, 'polarity': 1.0, 'emotion': 0.0}, 'predicate': {'label': 'be', 'type': ['stative']}, 'subject': {'label': 'Yes-I', 'type': ['communication', 'person']}, 'utterance_type': 'STATEMENT'}]\n",
      "STATEMENT {'object': {'label': 'thankful-for-them.', 'type': ['agent']}, 'perspective': {'sentiment': 0.0, 'certainty': 1.0, 'polarity': 1.0, 'emotion': 0.0}, 'predicate': {'label': 'be', 'type': ['stative']}, 'subject': {'label': 'Yes-I', 'type': ['communication', 'person']}, 'utterance_type': 'STATEMENT'}\n",
      "2022-05-03 19:59:12,136 -     INFO -    cltl.brain.basic_brain.LongTermMemory - Triple in statement: yes-i_be_thankful-for-them [communication or person_->_agent])\n"
     ]
    },
    {
     "name": "stderr",
     "output_type": "stream",
     "text": [
      "2022-05-03 19:59:12 -     INFO -                        cltl.brain.basic_brain.LongTermMemory - Triple in statement: yes-i_be_thankful-for-them [communication or person_->_agent])\n"
     ]
    },
    {
     "name": "stdout",
     "output_type": "stream",
     "text": [
      "2022-05-03 19:59:12,221 -     INFO -  cltl.brain.basic_brain.ThoughtGenerator - Entity Novelty: new subject - new object \n"
     ]
    },
    {
     "name": "stderr",
     "output_type": "stream",
     "text": [
      "2022-05-03 19:59:12 -     INFO -                      cltl.brain.basic_brain.ThoughtGenerator - Entity Novelty: new subject - new object \n"
     ]
    },
    {
     "name": "stdout",
     "output_type": "stream",
     "text": [
      "2022-05-03 19:59:15,226 -     INFO -  cltl.brain.basic_brain.ThoughtGenerator - Negation Conflicts: blenderbot on May,2022 about UNDERSPECIFIED\n"
     ]
    },
    {
     "name": "stderr",
     "output_type": "stream",
     "text": [
      "2022-05-03 19:59:15 -     INFO -                      cltl.brain.basic_brain.ThoughtGenerator - Negation Conflicts: blenderbot on May,2022 about UNDERSPECIFIED\n"
     ]
    },
    {
     "name": "stdout",
     "output_type": "stream",
     "text": [
      "2022-05-03 19:59:15,325 -     INFO -  cltl.brain.basic_brain.ThoughtGenerator - Gaps: 26 gaps as subject: e.g. travel-to location - 15 gaps as object: e.g. like-by agent\n"
     ]
    },
    {
     "name": "stderr",
     "output_type": "stream",
     "text": [
      "2022-05-03 19:59:15 -     INFO -                      cltl.brain.basic_brain.ThoughtGenerator - Gaps: 26 gaps as subject: e.g. travel-to location - 15 gaps as object: e.g. like-by agent\n"
     ]
    },
    {
     "name": "stdout",
     "output_type": "stream",
     "text": [
      "2022-05-03 19:59:15,377 -     INFO -  cltl.brain.basic_brain.ThoughtGenerator - Gaps: 18 gaps as subject: e.g. perceive sensor - 10 gaps as object: e.g. read-by book\n"
     ]
    },
    {
     "name": "stderr",
     "output_type": "stream",
     "text": [
      "2022-05-03 19:59:15 -     INFO -                      cltl.brain.basic_brain.ThoughtGenerator - Gaps: 18 gaps as subject: e.g. perceive sensor - 10 gaps as object: e.g. read-by book\n"
     ]
    },
    {
     "name": "stdout",
     "output_type": "stream",
     "text": [
      "spacy Triples [('be', 'BLENDERBOT', 'thankful')]\n",
      "Triple spacy Capsule:\n",
      "{'author': 'BLENDERBOT',\n",
      " 'chat': '2022-05-03-19_43_11',\n",
      " 'city': 'Amsterdam',\n",
      " 'context_id': 'Leolani',\n",
      " 'country': 'NL',\n",
      " 'date': datetime.date(2022, 5, 3),\n",
      " 'object': {'label': 'thankful', 'type': ''},\n",
      " 'objects': [],\n",
      " 'people': [],\n",
      " 'place': 'Amsterdam',\n",
      " 'place_id': 124,\n",
      " 'position': 'image',\n",
      " 'predicate': {'label': 'be'},\n",
      " 'region': 'North Holland',\n",
      " 'subject': {'label': 'BLENDERBOT', 'type': ''},\n",
      " 'turn': '49b3a3fe-6a2b-4662-b622-ceb1877f83e4',\n",
      " 'utterance': ''}\n",
      "2022-05-03 19:59:15,534 -     INFO -    cltl.brain.basic_brain.LongTermMemory - Triple in statement: blenderbot_be_thankful [_->_])\n"
     ]
    },
    {
     "name": "stderr",
     "output_type": "stream",
     "text": [
      "2022-05-03 19:59:15 -     INFO -                        cltl.brain.basic_brain.LongTermMemory - Triple in statement: blenderbot_be_thankful [_->_])\n"
     ]
    },
    {
     "name": "stdout",
     "output_type": "stream",
     "text": [
      "2022-05-03 19:59:15,621 -     INFO -  cltl.brain.basic_brain.ThoughtGenerator - Entity Novelty: existing subject - new object \n"
     ]
    },
    {
     "name": "stderr",
     "output_type": "stream",
     "text": [
      "2022-05-03 19:59:15 -     INFO -                      cltl.brain.basic_brain.ThoughtGenerator - Entity Novelty: existing subject - new object \n"
     ]
    },
    {
     "name": "stdout",
     "output_type": "stream",
     "text": [
      "2022-05-03 19:59:15,721 -     INFO -  cltl.brain.basic_brain.ThoughtGenerator - Overlaps: 1 subject overlaps: e.g. blenderbot on May,2022 about an-accountant - 0 object overlaps: e.g. ''\n"
     ]
    },
    {
     "name": "stderr",
     "output_type": "stream",
     "text": [
      "2022-05-03 19:59:15 -     INFO -                      cltl.brain.basic_brain.ThoughtGenerator - Overlaps: 1 subject overlaps: e.g. blenderbot on May,2022 about an-accountant - 0 object overlaps: e.g. ''\n"
     ]
    },
    {
     "name": "stdout",
     "output_type": "stream",
     "text": [
      "2022-05-03 19:59:19,022 -     INFO -  cltl.brain.basic_brain.ThoughtGenerator - Negation Conflicts: blenderbot on May,2022 about UNDERSPECIFIED\n"
     ]
    },
    {
     "name": "stderr",
     "output_type": "stream",
     "text": [
      "2022-05-03 19:59:19 -     INFO -                      cltl.brain.basic_brain.ThoughtGenerator - Negation Conflicts: blenderbot on May,2022 about UNDERSPECIFIED\n"
     ]
    },
    {
     "name": "stdout",
     "output_type": "stream",
     "text": [
      "2022-05-03 19:59:19,080 -     INFO -  cltl.brain.basic_brain.ThoughtGenerator - Gaps: 26 gaps as subject: e.g. dislike agent - 15 gaps as object: e.g. like-by agent\n"
     ]
    },
    {
     "name": "stderr",
     "output_type": "stream",
     "text": [
      "2022-05-03 19:59:19 -     INFO -                      cltl.brain.basic_brain.ThoughtGenerator - Gaps: 26 gaps as subject: e.g. dislike agent - 15 gaps as object: e.g. like-by agent\n",
      "2022-05-03 19:59:19 -     INFO -                                  cltl.triple_extraction.Chat - BLENDERBOT 031: \"They have been there for me through so many hard times.\"\n"
     ]
    },
    {
     "name": "stdout",
     "output_type": "stream",
     "text": [
      "\n",
      "\tLeolani: OK, but can you elaborate a bit?\n",
      "\n",
      "\tFixed period BLENDERBOT: They have been there for me through so many hard times.\n"
     ]
    },
    {
     "name": "stderr",
     "output_type": "stream",
     "text": [
      "2022-05-03 19:59:26 -     INFO -                           cltl.triple_extraction.CFGAnalyzer - Found 16 triples\n",
      "2022-05-03 19:59:26 -     INFO -              cltl.triple_extraction.GeneralStatementAnalyzer - Utterance type: \"STATEMENT\"\n",
      "2022-05-03 19:59:26 -     INFO -              cltl.triple_extraction.GeneralStatementAnalyzer - RDF triplet    subject: {\"label\": \"they\", \"type\": []}\n",
      "2022-05-03 19:59:26 -     INFO -              cltl.triple_extraction.GeneralStatementAnalyzer - RDF triplet  predicate: {\"label\": \"be-for\", \"type\": [\"stative\"]}\n",
      "2022-05-03 19:59:26 -     INFO -              cltl.triple_extraction.GeneralStatementAnalyzer - RDF triplet     object: {\"label\": \"me-through-so-many-hard-times.\", \"type\": [\"adv\", \"agent\"]}\n",
      "2022-05-03 19:59:26 -     INFO -              cltl.triple_extraction.GeneralStatementAnalyzer - Perspective  certainty: POSSIBLE\n",
      "2022-05-03 19:59:26 -     INFO -              cltl.triple_extraction.GeneralStatementAnalyzer - Perspective   polarity: POSITIVE\n",
      "2022-05-03 19:59:26 -     INFO -              cltl.triple_extraction.GeneralStatementAnalyzer - Perspective  sentiment: UNDERSPECIFIED\n",
      "2022-05-03 19:59:26 -     INFO -              cltl.triple_extraction.GeneralStatementAnalyzer - Perspective    emotion: UNDERSPECIFIED\n",
      "2022-05-03 19:59:26 -     INFO -              cltl.triple_extraction.GeneralStatementAnalyzer - Utterance type: \"STATEMENT\"\n",
      "2022-05-03 19:59:26 -     INFO -              cltl.triple_extraction.GeneralStatementAnalyzer - RDF triplet    subject: {\"label\": \"they\", \"type\": []}\n",
      "2022-05-03 19:59:26 -     INFO -              cltl.triple_extraction.GeneralStatementAnalyzer - RDF triplet  predicate: {\"label\": \"be-for\", \"type\": [\"stative\"]}\n",
      "2022-05-03 19:59:26 -     INFO -              cltl.triple_extraction.GeneralStatementAnalyzer - RDF triplet     object: {\"label\": \"me-through-so-many-hard-times.\", \"type\": [\"adv\", \"agent\"]}\n",
      "2022-05-03 19:59:26 -     INFO -              cltl.triple_extraction.GeneralStatementAnalyzer - Perspective  certainty: POSSIBLE\n",
      "2022-05-03 19:59:26 -     INFO -              cltl.triple_extraction.GeneralStatementAnalyzer - Perspective   polarity: POSITIVE\n",
      "2022-05-03 19:59:26 -     INFO -              cltl.triple_extraction.GeneralStatementAnalyzer - Perspective  sentiment: UNDERSPECIFIED\n",
      "2022-05-03 19:59:26 -     INFO -              cltl.triple_extraction.GeneralStatementAnalyzer - Perspective    emotion: UNDERSPECIFIED\n",
      "2022-05-03 19:59:26 -     INFO -              cltl.triple_extraction.GeneralStatementAnalyzer - Utterance type: \"STATEMENT\"\n",
      "2022-05-03 19:59:26 -     INFO -              cltl.triple_extraction.GeneralStatementAnalyzer - RDF triplet    subject: {\"label\": \"they\", \"type\": []}\n",
      "2022-05-03 19:59:26 -     INFO -              cltl.triple_extraction.GeneralStatementAnalyzer - RDF triplet  predicate: {\"label\": \"be-for\", \"type\": [\"stative\"]}\n",
      "2022-05-03 19:59:26 -     INFO -              cltl.triple_extraction.GeneralStatementAnalyzer - RDF triplet     object: {\"label\": \"me-through-so-many-hard-times.\", \"type\": [\"adv\", \"agent\"]}\n",
      "2022-05-03 19:59:26 -     INFO -              cltl.triple_extraction.GeneralStatementAnalyzer - Perspective  certainty: POSSIBLE\n",
      "2022-05-03 19:59:26 -     INFO -              cltl.triple_extraction.GeneralStatementAnalyzer - Perspective   polarity: POSITIVE\n",
      "2022-05-03 19:59:26 -     INFO -              cltl.triple_extraction.GeneralStatementAnalyzer - Perspective  sentiment: UNDERSPECIFIED\n",
      "2022-05-03 19:59:26 -     INFO -              cltl.triple_extraction.GeneralStatementAnalyzer - Perspective    emotion: UNDERSPECIFIED\n",
      "2022-05-03 19:59:26 -     INFO -              cltl.triple_extraction.GeneralStatementAnalyzer - Utterance type: \"STATEMENT\"\n",
      "2022-05-03 19:59:26 -     INFO -              cltl.triple_extraction.GeneralStatementAnalyzer - RDF triplet    subject: {\"label\": \"they\", \"type\": []}\n",
      "2022-05-03 19:59:26 -     INFO -              cltl.triple_extraction.GeneralStatementAnalyzer - RDF triplet  predicate: {\"label\": \"be-for\", \"type\": [\"stative\"]}\n",
      "2022-05-03 19:59:26 -     INFO -              cltl.triple_extraction.GeneralStatementAnalyzer - RDF triplet     object: {\"label\": \"me-through-so-many-hard-times.\", \"type\": [\"adv\", \"agent\"]}\n",
      "2022-05-03 19:59:26 -     INFO -              cltl.triple_extraction.GeneralStatementAnalyzer - Perspective  certainty: POSSIBLE\n",
      "2022-05-03 19:59:26 -     INFO -              cltl.triple_extraction.GeneralStatementAnalyzer - Perspective   polarity: POSITIVE\n",
      "2022-05-03 19:59:26 -     INFO -              cltl.triple_extraction.GeneralStatementAnalyzer - Perspective  sentiment: UNDERSPECIFIED\n",
      "2022-05-03 19:59:26 -     INFO -              cltl.triple_extraction.GeneralStatementAnalyzer - Perspective    emotion: UNDERSPECIFIED\n",
      "2022-05-03 19:59:26 -     INFO -              cltl.triple_extraction.GeneralStatementAnalyzer - Utterance type: \"STATEMENT\"\n",
      "2022-05-03 19:59:26 -     INFO -              cltl.triple_extraction.GeneralStatementAnalyzer - RDF triplet    subject: {\"label\": \"they\", \"type\": []}\n",
      "2022-05-03 19:59:26 -     INFO -              cltl.triple_extraction.GeneralStatementAnalyzer - RDF triplet  predicate: {\"label\": \"be-for\", \"type\": [\"stative\"]}\n",
      "2022-05-03 19:59:26 -     INFO -              cltl.triple_extraction.GeneralStatementAnalyzer - RDF triplet     object: {\"label\": \"me-through-so-many-hard-times.\", \"type\": [\"adv\", \"agent\"]}\n",
      "2022-05-03 19:59:26 -     INFO -              cltl.triple_extraction.GeneralStatementAnalyzer - Perspective  certainty: POSSIBLE\n",
      "2022-05-03 19:59:26 -     INFO -              cltl.triple_extraction.GeneralStatementAnalyzer - Perspective   polarity: POSITIVE\n",
      "2022-05-03 19:59:26 -     INFO -              cltl.triple_extraction.GeneralStatementAnalyzer - Perspective  sentiment: UNDERSPECIFIED\n",
      "2022-05-03 19:59:26 -     INFO -              cltl.triple_extraction.GeneralStatementAnalyzer - Perspective    emotion: UNDERSPECIFIED\n",
      "2022-05-03 19:59:26 -     INFO -              cltl.triple_extraction.GeneralStatementAnalyzer - Utterance type: \"STATEMENT\"\n",
      "2022-05-03 19:59:26 -     INFO -              cltl.triple_extraction.GeneralStatementAnalyzer - RDF triplet    subject: {\"label\": \"they\", \"type\": []}\n",
      "2022-05-03 19:59:26 -     INFO -              cltl.triple_extraction.GeneralStatementAnalyzer - RDF triplet  predicate: {\"label\": \"be-for\", \"type\": [\"stative\"]}\n",
      "2022-05-03 19:59:26 -     INFO -              cltl.triple_extraction.GeneralStatementAnalyzer - RDF triplet     object: {\"label\": \"me-through-so-many-hard-times.\", \"type\": [\"adv\", \"agent\"]}\n",
      "2022-05-03 19:59:26 -     INFO -              cltl.triple_extraction.GeneralStatementAnalyzer - Perspective  certainty: POSSIBLE\n",
      "2022-05-03 19:59:26 -     INFO -              cltl.triple_extraction.GeneralStatementAnalyzer - Perspective   polarity: POSITIVE\n",
      "2022-05-03 19:59:26 -     INFO -              cltl.triple_extraction.GeneralStatementAnalyzer - Perspective  sentiment: UNDERSPECIFIED\n",
      "2022-05-03 19:59:26 -     INFO -              cltl.triple_extraction.GeneralStatementAnalyzer - Perspective    emotion: UNDERSPECIFIED\n",
      "2022-05-03 19:59:26 -     INFO -              cltl.triple_extraction.GeneralStatementAnalyzer - Utterance type: \"STATEMENT\"\n",
      "2022-05-03 19:59:26 -     INFO -              cltl.triple_extraction.GeneralStatementAnalyzer - RDF triplet    subject: {\"label\": \"they\", \"type\": []}\n",
      "2022-05-03 19:59:26 -     INFO -              cltl.triple_extraction.GeneralStatementAnalyzer - RDF triplet  predicate: {\"label\": \"be-for\", \"type\": [\"stative\"]}\n",
      "2022-05-03 19:59:26 -     INFO -              cltl.triple_extraction.GeneralStatementAnalyzer - RDF triplet     object: {\"label\": \"me-through-so-many-hard-times.\", \"type\": [\"adv\", \"agent\"]}\n",
      "2022-05-03 19:59:26 -     INFO -              cltl.triple_extraction.GeneralStatementAnalyzer - Perspective  certainty: POSSIBLE\n",
      "2022-05-03 19:59:26 -     INFO -              cltl.triple_extraction.GeneralStatementAnalyzer - Perspective   polarity: POSITIVE\n",
      "2022-05-03 19:59:26 -     INFO -              cltl.triple_extraction.GeneralStatementAnalyzer - Perspective  sentiment: UNDERSPECIFIED\n",
      "2022-05-03 19:59:26 -     INFO -              cltl.triple_extraction.GeneralStatementAnalyzer - Perspective    emotion: UNDERSPECIFIED\n",
      "2022-05-03 19:59:26 -     INFO -              cltl.triple_extraction.GeneralStatementAnalyzer - Utterance type: \"STATEMENT\"\n",
      "2022-05-03 19:59:26 -     INFO -              cltl.triple_extraction.GeneralStatementAnalyzer - RDF triplet    subject: {\"label\": \"they\", \"type\": []}\n",
      "2022-05-03 19:59:26 -     INFO -              cltl.triple_extraction.GeneralStatementAnalyzer - RDF triplet  predicate: {\"label\": \"be-for\", \"type\": [\"stative\"]}\n",
      "2022-05-03 19:59:26 -     INFO -              cltl.triple_extraction.GeneralStatementAnalyzer - RDF triplet     object: {\"label\": \"me-through-so-many-hard-times.\", \"type\": [\"adv\", \"agent\"]}\n",
      "2022-05-03 19:59:26 -     INFO -              cltl.triple_extraction.GeneralStatementAnalyzer - Perspective  certainty: POSSIBLE\n",
      "2022-05-03 19:59:26 -     INFO -              cltl.triple_extraction.GeneralStatementAnalyzer - Perspective   polarity: POSITIVE\n",
      "2022-05-03 19:59:26 -     INFO -              cltl.triple_extraction.GeneralStatementAnalyzer - Perspective  sentiment: UNDERSPECIFIED\n",
      "2022-05-03 19:59:26 -     INFO -              cltl.triple_extraction.GeneralStatementAnalyzer - Perspective    emotion: UNDERSPECIFIED\n",
      "2022-05-03 19:59:26 -     INFO -              cltl.triple_extraction.GeneralStatementAnalyzer - Utterance type: \"STATEMENT\"\n",
      "2022-05-03 19:59:26 -     INFO -              cltl.triple_extraction.GeneralStatementAnalyzer - RDF triplet    subject: {\"label\": \"they\", \"type\": []}\n",
      "2022-05-03 19:59:26 -     INFO -              cltl.triple_extraction.GeneralStatementAnalyzer - RDF triplet  predicate: {\"label\": \"be-for\", \"type\": [\"stative\"]}\n",
      "2022-05-03 19:59:26 -     INFO -              cltl.triple_extraction.GeneralStatementAnalyzer - RDF triplet     object: {\"label\": \"me-through-so-many-hard-times.\", \"type\": [\"adv\", \"agent\"]}\n",
      "2022-05-03 19:59:26 -     INFO -              cltl.triple_extraction.GeneralStatementAnalyzer - Perspective  certainty: POSSIBLE\n",
      "2022-05-03 19:59:26 -     INFO -              cltl.triple_extraction.GeneralStatementAnalyzer - Perspective   polarity: POSITIVE\n",
      "2022-05-03 19:59:26 -     INFO -              cltl.triple_extraction.GeneralStatementAnalyzer - Perspective  sentiment: UNDERSPECIFIED\n",
      "2022-05-03 19:59:26 -     INFO -              cltl.triple_extraction.GeneralStatementAnalyzer - Perspective    emotion: UNDERSPECIFIED\n",
      "2022-05-03 19:59:26 -     INFO -              cltl.triple_extraction.GeneralStatementAnalyzer - Utterance type: \"STATEMENT\"\n",
      "2022-05-03 19:59:26 -     INFO -              cltl.triple_extraction.GeneralStatementAnalyzer - RDF triplet    subject: {\"label\": \"they\", \"type\": []}\n",
      "2022-05-03 19:59:26 -     INFO -              cltl.triple_extraction.GeneralStatementAnalyzer - RDF triplet  predicate: {\"label\": \"be-for\", \"type\": [\"stative\"]}\n",
      "2022-05-03 19:59:26 -     INFO -              cltl.triple_extraction.GeneralStatementAnalyzer - RDF triplet     object: {\"label\": \"me-through-so-many-hard-times.\", \"type\": [\"adv\", \"agent\"]}\n",
      "2022-05-03 19:59:26 -     INFO -              cltl.triple_extraction.GeneralStatementAnalyzer - Perspective  certainty: POSSIBLE\n",
      "2022-05-03 19:59:26 -     INFO -              cltl.triple_extraction.GeneralStatementAnalyzer - Perspective   polarity: POSITIVE\n",
      "2022-05-03 19:59:26 -     INFO -              cltl.triple_extraction.GeneralStatementAnalyzer - Perspective  sentiment: UNDERSPECIFIED\n",
      "2022-05-03 19:59:26 -     INFO -              cltl.triple_extraction.GeneralStatementAnalyzer - Perspective    emotion: UNDERSPECIFIED\n",
      "2022-05-03 19:59:26 -     INFO -              cltl.triple_extraction.GeneralStatementAnalyzer - Utterance type: \"STATEMENT\"\n",
      "2022-05-03 19:59:26 -     INFO -              cltl.triple_extraction.GeneralStatementAnalyzer - RDF triplet    subject: {\"label\": \"they\", \"type\": []}\n",
      "2022-05-03 19:59:26 -     INFO -              cltl.triple_extraction.GeneralStatementAnalyzer - RDF triplet  predicate: {\"label\": \"be-for\", \"type\": [\"stative\"]}\n",
      "2022-05-03 19:59:26 -     INFO -              cltl.triple_extraction.GeneralStatementAnalyzer - RDF triplet     object: {\"label\": \"me-through-so-many-hard-times.\", \"type\": [\"adv\", \"agent\"]}\n",
      "2022-05-03 19:59:26 -     INFO -              cltl.triple_extraction.GeneralStatementAnalyzer - Perspective  certainty: POSSIBLE\n",
      "2022-05-03 19:59:26 -     INFO -              cltl.triple_extraction.GeneralStatementAnalyzer - Perspective   polarity: POSITIVE\n",
      "2022-05-03 19:59:26 -     INFO -              cltl.triple_extraction.GeneralStatementAnalyzer - Perspective  sentiment: UNDERSPECIFIED\n",
      "2022-05-03 19:59:26 -     INFO -              cltl.triple_extraction.GeneralStatementAnalyzer - Perspective    emotion: UNDERSPECIFIED\n",
      "2022-05-03 19:59:26 -     INFO -              cltl.triple_extraction.GeneralStatementAnalyzer - Utterance type: \"STATEMENT\"\n",
      "2022-05-03 19:59:26 -     INFO -              cltl.triple_extraction.GeneralStatementAnalyzer - RDF triplet    subject: {\"label\": \"they\", \"type\": []}\n",
      "2022-05-03 19:59:26 -     INFO -              cltl.triple_extraction.GeneralStatementAnalyzer - RDF triplet  predicate: {\"label\": \"be-for\", \"type\": [\"stative\"]}\n",
      "2022-05-03 19:59:26 -     INFO -              cltl.triple_extraction.GeneralStatementAnalyzer - RDF triplet     object: {\"label\": \"me-through-so-many-hard-times.\", \"type\": [\"adv\", \"agent\"]}\n",
      "2022-05-03 19:59:26 -     INFO -              cltl.triple_extraction.GeneralStatementAnalyzer - Perspective  certainty: POSSIBLE\n",
      "2022-05-03 19:59:26 -     INFO -              cltl.triple_extraction.GeneralStatementAnalyzer - Perspective   polarity: POSITIVE\n",
      "2022-05-03 19:59:26 -     INFO -              cltl.triple_extraction.GeneralStatementAnalyzer - Perspective  sentiment: UNDERSPECIFIED\n",
      "2022-05-03 19:59:26 -     INFO -              cltl.triple_extraction.GeneralStatementAnalyzer - Perspective    emotion: UNDERSPECIFIED\n",
      "2022-05-03 19:59:26 -     INFO -              cltl.triple_extraction.GeneralStatementAnalyzer - Utterance type: \"STATEMENT\"\n",
      "2022-05-03 19:59:26 -     INFO -              cltl.triple_extraction.GeneralStatementAnalyzer - RDF triplet    subject: {\"label\": \"they\", \"type\": []}\n",
      "2022-05-03 19:59:26 -     INFO -              cltl.triple_extraction.GeneralStatementAnalyzer - RDF triplet  predicate: {\"label\": \"be-for\", \"type\": [\"stative\"]}\n",
      "2022-05-03 19:59:26 -     INFO -              cltl.triple_extraction.GeneralStatementAnalyzer - RDF triplet     object: {\"label\": \"me-through-so-many-hard-times.\", \"type\": [\"adv\", \"agent\"]}\n",
      "2022-05-03 19:59:26 -     INFO -              cltl.triple_extraction.GeneralStatementAnalyzer - Perspective  certainty: POSSIBLE\n",
      "2022-05-03 19:59:26 -     INFO -              cltl.triple_extraction.GeneralStatementAnalyzer - Perspective   polarity: POSITIVE\n",
      "2022-05-03 19:59:26 -     INFO -              cltl.triple_extraction.GeneralStatementAnalyzer - Perspective  sentiment: UNDERSPECIFIED\n",
      "2022-05-03 19:59:26 -     INFO -              cltl.triple_extraction.GeneralStatementAnalyzer - Perspective    emotion: UNDERSPECIFIED\n",
      "2022-05-03 19:59:26 -     INFO -              cltl.triple_extraction.GeneralStatementAnalyzer - Utterance type: \"STATEMENT\"\n",
      "2022-05-03 19:59:26 -     INFO -              cltl.triple_extraction.GeneralStatementAnalyzer - RDF triplet    subject: {\"label\": \"they\", \"type\": []}\n",
      "2022-05-03 19:59:26 -     INFO -              cltl.triple_extraction.GeneralStatementAnalyzer - RDF triplet  predicate: {\"label\": \"be-for\", \"type\": [\"stative\"]}\n",
      "2022-05-03 19:59:26 -     INFO -              cltl.triple_extraction.GeneralStatementAnalyzer - RDF triplet     object: {\"label\": \"me-through-so-many-hard-times.\", \"type\": [\"adv\", \"agent\"]}\n",
      "2022-05-03 19:59:26 -     INFO -              cltl.triple_extraction.GeneralStatementAnalyzer - Perspective  certainty: POSSIBLE\n",
      "2022-05-03 19:59:26 -     INFO -              cltl.triple_extraction.GeneralStatementAnalyzer - Perspective   polarity: POSITIVE\n",
      "2022-05-03 19:59:26 -     INFO -              cltl.triple_extraction.GeneralStatementAnalyzer - Perspective  sentiment: UNDERSPECIFIED\n",
      "2022-05-03 19:59:26 -     INFO -              cltl.triple_extraction.GeneralStatementAnalyzer - Perspective    emotion: UNDERSPECIFIED\n",
      "2022-05-03 19:59:26 -     INFO -              cltl.triple_extraction.GeneralStatementAnalyzer - Utterance type: \"STATEMENT\"\n",
      "2022-05-03 19:59:26 -     INFO -              cltl.triple_extraction.GeneralStatementAnalyzer - RDF triplet    subject: {\"label\": \"they\", \"type\": []}\n",
      "2022-05-03 19:59:26 -     INFO -              cltl.triple_extraction.GeneralStatementAnalyzer - RDF triplet  predicate: {\"label\": \"be-for\", \"type\": [\"stative\"]}\n",
      "2022-05-03 19:59:26 -     INFO -              cltl.triple_extraction.GeneralStatementAnalyzer - RDF triplet     object: {\"label\": \"me-through-so-many-hard-times.\", \"type\": [\"adv\", \"agent\"]}\n",
      "2022-05-03 19:59:26 -     INFO -              cltl.triple_extraction.GeneralStatementAnalyzer - Perspective  certainty: POSSIBLE\n",
      "2022-05-03 19:59:26 -     INFO -              cltl.triple_extraction.GeneralStatementAnalyzer - Perspective   polarity: POSITIVE\n",
      "2022-05-03 19:59:26 -     INFO -              cltl.triple_extraction.GeneralStatementAnalyzer - Perspective  sentiment: UNDERSPECIFIED\n",
      "2022-05-03 19:59:26 -     INFO -              cltl.triple_extraction.GeneralStatementAnalyzer - Perspective    emotion: UNDERSPECIFIED\n",
      "2022-05-03 19:59:26 -     INFO -              cltl.triple_extraction.GeneralStatementAnalyzer - Utterance type: \"STATEMENT\"\n",
      "2022-05-03 19:59:26 -     INFO -              cltl.triple_extraction.GeneralStatementAnalyzer - RDF triplet    subject: {\"label\": \"they\", \"type\": []}\n",
      "2022-05-03 19:59:26 -     INFO -              cltl.triple_extraction.GeneralStatementAnalyzer - RDF triplet  predicate: {\"label\": \"be-for\", \"type\": [\"stative\"]}\n",
      "2022-05-03 19:59:26 -     INFO -              cltl.triple_extraction.GeneralStatementAnalyzer - RDF triplet     object: {\"label\": \"me-through-so-many-hard-times.\", \"type\": [\"adv\", \"agent\"]}\n",
      "2022-05-03 19:59:26 -     INFO -              cltl.triple_extraction.GeneralStatementAnalyzer - Perspective  certainty: POSSIBLE\n",
      "2022-05-03 19:59:26 -     INFO -              cltl.triple_extraction.GeneralStatementAnalyzer - Perspective   polarity: POSITIVE\n",
      "2022-05-03 19:59:26 -     INFO -              cltl.triple_extraction.GeneralStatementAnalyzer - Perspective  sentiment: UNDERSPECIFIED\n",
      "2022-05-03 19:59:26 -     INFO -              cltl.triple_extraction.GeneralStatementAnalyzer - Perspective    emotion: UNDERSPECIFIED\n"
     ]
    },
    {
     "name": "stdout",
     "output_type": "stream",
     "text": [
      "Last utterance: They have been there for me through so many hard times.\n",
      "CFG Tripels: [{'object': {'label': 'me-through-so-many-hard-times.', 'type': ['adv', 'agent']}, 'perspective': {'sentiment': 0.0, 'certainty': 1.0, 'polarity': 1.0, 'emotion': 0.0}, 'predicate': {'label': 'be-for', 'type': ['stative']}, 'subject': {'label': 'they', 'type': []}, 'utterance_type': 'STATEMENT'}]\n",
      "STATEMENT {'object': {'label': 'me-through-so-many-hard-times.', 'type': ['adv', 'agent']}, 'perspective': {'sentiment': 0.0, 'certainty': 1.0, 'polarity': 1.0, 'emotion': 0.0}, 'predicate': {'label': 'be-for', 'type': ['stative']}, 'subject': {'label': 'they', 'type': []}, 'utterance_type': 'STATEMENT'}\n",
      "2022-05-03 19:59:26,983 -     INFO -    cltl.brain.basic_brain.LongTermMemory - Triple in statement: they_be-for_me-through-so-many-hard-times [_->_agent])\n"
     ]
    },
    {
     "name": "stderr",
     "output_type": "stream",
     "text": [
      "2022-05-03 19:59:26 -     INFO -                        cltl.brain.basic_brain.LongTermMemory - Triple in statement: they_be-for_me-through-so-many-hard-times [_->_agent])\n"
     ]
    },
    {
     "name": "stdout",
     "output_type": "stream",
     "text": [
      "2022-05-03 19:59:27,030 -     INFO -  cltl.brain.basic_brain.ThoughtGenerator - Entity Novelty: new subject - new object \n"
     ]
    },
    {
     "name": "stderr",
     "output_type": "stream",
     "text": [
      "2022-05-03 19:59:27 -     INFO -                      cltl.brain.basic_brain.ThoughtGenerator - Entity Novelty: new subject - new object \n"
     ]
    },
    {
     "name": "stdout",
     "output_type": "stream",
     "text": [
      "2022-05-03 19:59:30,282 -     INFO -  cltl.brain.basic_brain.ThoughtGenerator - Negation Conflicts: blenderbot on May,2022 about UNDERSPECIFIED\n"
     ]
    },
    {
     "name": "stderr",
     "output_type": "stream",
     "text": [
      "2022-05-03 19:59:30 -     INFO -                      cltl.brain.basic_brain.ThoughtGenerator - Negation Conflicts: blenderbot on May,2022 about UNDERSPECIFIED\n"
     ]
    },
    {
     "name": "stdout",
     "output_type": "stream",
     "text": [
      "2022-05-03 19:59:30,422 -     INFO -  cltl.brain.basic_brain.ThoughtGenerator - Gaps: 18 gaps as subject: e.g. like-by agent - 10 gaps as object: e.g. be-child-of agent\n"
     ]
    },
    {
     "name": "stderr",
     "output_type": "stream",
     "text": [
      "2022-05-03 19:59:30 -     INFO -                      cltl.brain.basic_brain.ThoughtGenerator - Gaps: 18 gaps as subject: e.g. like-by agent - 10 gaps as object: e.g. be-child-of agent\n"
     ]
    },
    {
     "name": "stdout",
     "output_type": "stream",
     "text": [
      "spacy Triples []\n",
      "\n",
      "\tLeolani: How do you feel when you say that?\n",
      "input_prompt: How do you feel when you say that?\n"
     ]
    },
    {
     "name": "stderr",
     "output_type": "stream",
     "text": [
      "2022-05-03 19:59:34 -     INFO -                                  cltl.triple_extraction.Chat - BLENDERBOT 032: \"I feel like I need to do something about it\"\n"
     ]
    },
    {
     "name": "stdout",
     "output_type": "stream",
     "text": [
      "utteranceList: [\"<s> I feel like I need to do something about it, but I don't know what to do.</s>\"]\n",
      "ANSWER  I feel like I need to do something about it, but I don't know what to do.\n"
     ]
    },
    {
     "name": "stderr",
     "output_type": "stream",
     "text": [
      "2022-05-03 19:59:37 -     INFO -                           cltl.triple_extraction.CFGAnalyzer - Found 4 triples\n",
      "2022-05-03 19:59:37 -     INFO -              cltl.triple_extraction.GeneralStatementAnalyzer - Utterance type: \"STATEMENT\"\n",
      "2022-05-03 19:59:37 -     INFO -              cltl.triple_extraction.GeneralStatementAnalyzer - RDF triplet    subject: {\"label\": \"BLENDERBOT\", \"type\": [\"agent\"]}\n",
      "2022-05-03 19:59:37 -     INFO -              cltl.triple_extraction.GeneralStatementAnalyzer - RDF triplet  predicate: {\"label\": \"feel-like\", \"type\": [\"emotion\", \"emotion\"]}\n",
      "2022-05-03 19:59:37 -     INFO -              cltl.triple_extraction.GeneralStatementAnalyzer - RDF triplet     object: {\"label\": \"I-need-to-do-something-about-it\", \"type\": [\"person\", \"stative\", \"social\", \"agent\"]}\n",
      "2022-05-03 19:59:37 -     INFO -              cltl.triple_extraction.GeneralStatementAnalyzer - Perspective  certainty: POSSIBLE\n",
      "2022-05-03 19:59:37 -     INFO -              cltl.triple_extraction.GeneralStatementAnalyzer - Perspective   polarity: POSITIVE\n",
      "2022-05-03 19:59:37 -     INFO -              cltl.triple_extraction.GeneralStatementAnalyzer - Perspective  sentiment: NEUTRAL\n",
      "2022-05-03 19:59:37 -     INFO -              cltl.triple_extraction.GeneralStatementAnalyzer - Perspective    emotion: UNDERSPECIFIED\n",
      "2022-05-03 19:59:37 -     INFO -              cltl.triple_extraction.GeneralStatementAnalyzer - Utterance type: \"STATEMENT\"\n",
      "2022-05-03 19:59:37 -     INFO -              cltl.triple_extraction.GeneralStatementAnalyzer - RDF triplet    subject: {\"label\": \"BLENDERBOT\", \"type\": [\"agent\"]}\n",
      "2022-05-03 19:59:37 -     INFO -              cltl.triple_extraction.GeneralStatementAnalyzer - RDF triplet  predicate: {\"label\": \"feel-like\", \"type\": [\"emotion\", \"emotion\"]}\n",
      "2022-05-03 19:59:37 -     INFO -              cltl.triple_extraction.GeneralStatementAnalyzer - RDF triplet     object: {\"label\": \"I-need-to-do-something-about-it\", \"type\": [\"person\", \"stative\", \"social\", \"agent\"]}\n",
      "2022-05-03 19:59:37 -     INFO -              cltl.triple_extraction.GeneralStatementAnalyzer - Perspective  certainty: POSSIBLE\n",
      "2022-05-03 19:59:37 -     INFO -              cltl.triple_extraction.GeneralStatementAnalyzer - Perspective   polarity: POSITIVE\n",
      "2022-05-03 19:59:37 -     INFO -              cltl.triple_extraction.GeneralStatementAnalyzer - Perspective  sentiment: NEUTRAL\n",
      "2022-05-03 19:59:37 -     INFO -              cltl.triple_extraction.GeneralStatementAnalyzer - Perspective    emotion: UNDERSPECIFIED\n",
      "2022-05-03 19:59:37 -     INFO -              cltl.triple_extraction.GeneralStatementAnalyzer - Utterance type: \"STATEMENT\"\n",
      "2022-05-03 19:59:37 -     INFO -              cltl.triple_extraction.GeneralStatementAnalyzer - RDF triplet    subject: {\"label\": \"BLENDERBOT\", \"type\": [\"agent\"]}\n",
      "2022-05-03 19:59:37 -     INFO -              cltl.triple_extraction.GeneralStatementAnalyzer - RDF triplet  predicate: {\"label\": \"feel-like\", \"type\": [\"emotion\", \"emotion\"]}\n",
      "2022-05-03 19:59:37 -     INFO -              cltl.triple_extraction.GeneralStatementAnalyzer - RDF triplet     object: {\"label\": \"I-need-to-do-something-about-it\", \"type\": [\"person\", \"stative\", \"social\", \"agent\"]}\n",
      "2022-05-03 19:59:37 -     INFO -              cltl.triple_extraction.GeneralStatementAnalyzer - Perspective  certainty: POSSIBLE\n",
      "2022-05-03 19:59:37 -     INFO -              cltl.triple_extraction.GeneralStatementAnalyzer - Perspective   polarity: POSITIVE\n",
      "2022-05-03 19:59:37 -     INFO -              cltl.triple_extraction.GeneralStatementAnalyzer - Perspective  sentiment: NEUTRAL\n",
      "2022-05-03 19:59:37 -     INFO -              cltl.triple_extraction.GeneralStatementAnalyzer - Perspective    emotion: UNDERSPECIFIED\n",
      "2022-05-03 19:59:37 -     INFO -              cltl.triple_extraction.GeneralStatementAnalyzer - Utterance type: \"STATEMENT\"\n",
      "2022-05-03 19:59:37 -     INFO -              cltl.triple_extraction.GeneralStatementAnalyzer - RDF triplet    subject: {\"label\": \"BLENDERBOT\", \"type\": [\"agent\"]}\n",
      "2022-05-03 19:59:37 -     INFO -              cltl.triple_extraction.GeneralStatementAnalyzer - RDF triplet  predicate: {\"label\": \"feel-like\", \"type\": [\"emotion\", \"emotion\"]}\n",
      "2022-05-03 19:59:37 -     INFO -              cltl.triple_extraction.GeneralStatementAnalyzer - RDF triplet     object: {\"label\": \"I-need-to-do-something-about-it\", \"type\": [\"person\", \"stative\", \"social\", \"agent\"]}\n",
      "2022-05-03 19:59:37 -     INFO -              cltl.triple_extraction.GeneralStatementAnalyzer - Perspective  certainty: POSSIBLE\n",
      "2022-05-03 19:59:37 -     INFO -              cltl.triple_extraction.GeneralStatementAnalyzer - Perspective   polarity: POSITIVE\n",
      "2022-05-03 19:59:37 -     INFO -              cltl.triple_extraction.GeneralStatementAnalyzer - Perspective  sentiment: NEUTRAL\n",
      "2022-05-03 19:59:37 -     INFO -              cltl.triple_extraction.GeneralStatementAnalyzer - Perspective    emotion: UNDERSPECIFIED\n"
     ]
    },
    {
     "name": "stdout",
     "output_type": "stream",
     "text": [
      "Last utterance: I feel like I need to do something about it\n",
      "CFG Tripels: [{'object': {'label': 'I-need-to-do-something-about-it', 'type': ['person', 'stative', 'social', 'agent']}, 'perspective': {'sentiment': 0.75, 'certainty': 1.0, 'polarity': 1.0, 'emotion': 0.0}, 'predicate': {'label': 'feel-like', 'type': ['emotion', 'emotion']}, 'subject': {'label': 'BLENDERBOT', 'type': ['agent']}, 'utterance_type': 'STATEMENT'}]\n",
      "STATEMENT {'object': {'label': 'I-need-to-do-something-about-it', 'type': ['person', 'stative', 'social', 'agent']}, 'perspective': {'sentiment': 0.75, 'certainty': 1.0, 'polarity': 1.0, 'emotion': 0.0}, 'predicate': {'label': 'feel-like', 'type': ['emotion', 'emotion']}, 'subject': {'label': 'BLENDERBOT', 'type': ['agent']}, 'utterance_type': 'STATEMENT'}\n",
      "2022-05-03 19:59:38,029 -     INFO -    cltl.brain.basic_brain.LongTermMemory - Triple in statement: blenderbot_feel-like_i-need-to-do-something-about-it [agent_->_person or stative or social or agent])\n"
     ]
    },
    {
     "name": "stderr",
     "output_type": "stream",
     "text": [
      "2022-05-03 19:59:38 -     INFO -                        cltl.brain.basic_brain.LongTermMemory - Triple in statement: blenderbot_feel-like_i-need-to-do-something-about-it [agent_->_person or stative or social or agent])\n"
     ]
    },
    {
     "name": "stdout",
     "output_type": "stream",
     "text": [
      "2022-05-03 19:59:38,126 -     INFO -  cltl.brain.basic_brain.ThoughtGenerator - Entity Novelty: existing subject - new object \n"
     ]
    },
    {
     "name": "stderr",
     "output_type": "stream",
     "text": [
      "2022-05-03 19:59:38 -     INFO -                      cltl.brain.basic_brain.ThoughtGenerator - Entity Novelty: existing subject - new object \n"
     ]
    },
    {
     "name": "stdout",
     "output_type": "stream",
     "text": [
      "2022-05-03 19:59:41,532 -     INFO -  cltl.brain.basic_brain.ThoughtGenerator - Negation Conflicts: blenderbot on May,2022 about UNDERSPECIFIED\n"
     ]
    },
    {
     "name": "stderr",
     "output_type": "stream",
     "text": [
      "2022-05-03 19:59:41 -     INFO -                      cltl.brain.basic_brain.ThoughtGenerator - Negation Conflicts: blenderbot on May,2022 about UNDERSPECIFIED\n"
     ]
    },
    {
     "name": "stdout",
     "output_type": "stream",
     "text": [
      "2022-05-03 19:59:41,630 -     INFO -  cltl.brain.basic_brain.ThoughtGenerator - Gaps: 26 gaps as subject: e.g. travel-to location - 15 gaps as object: e.g. like-by agent\n"
     ]
    },
    {
     "name": "stderr",
     "output_type": "stream",
     "text": [
      "2022-05-03 19:59:41 -     INFO -                      cltl.brain.basic_brain.ThoughtGenerator - Gaps: 26 gaps as subject: e.g. travel-to location - 15 gaps as object: e.g. like-by agent\n"
     ]
    },
    {
     "name": "stdout",
     "output_type": "stream",
     "text": [
      "2022-05-03 19:59:41,727 -     INFO -  cltl.brain.basic_brain.ThoughtGenerator - Gaps: 26 gaps as subject: e.g. work-at institution - 15 gaps as object: e.g. be-friends-with person\n"
     ]
    },
    {
     "name": "stderr",
     "output_type": "stream",
     "text": [
      "2022-05-03 19:59:41 -     INFO -                      cltl.brain.basic_brain.ThoughtGenerator - Gaps: 26 gaps as subject: e.g. work-at institution - 15 gaps as object: e.g. be-friends-with person\n",
      "2022-05-03 19:59:41 -     INFO -                                  cltl.triple_extraction.Chat - BLENDERBOT 033: \"I feel like I need to do something about it but I do n't know what to do.\"\n"
     ]
    },
    {
     "name": "stdout",
     "output_type": "stream",
     "text": [
      "spacy Triples []\n",
      "\n",
      "\tLeolani: Good, tell me more about these feelings.\n",
      "\n",
      "\tFixed period BLENDERBOT: I feel like I need to do something about it but I do n't know what to do.\n"
     ]
    }
   ],
   "source": [
    "print_details=True\n",
    "\n",
    "max_context=50\n",
    "t1 = datetime.now()\n",
    "history = []\n",
    "#### Initial prompt by the system from which we create a TextSignal and store it\n",
    "leolani_prompt = f\"{choice(TALK_TO_ME)}\"\n",
    "history.append(leolani_prompt)\n",
    "print('\\n\\t'+AGENT + \": \" + leolani_prompt)\n",
    "textSignal = d_util.create_text_signal_with_speaker_annotation(scenario_ctrl, leolani_prompt, AGENT)\n",
    "scenario_ctrl.append_signal(textSignal)\n",
    "\n",
    "\n",
    "#BLENDERBOT\n",
    "\n",
    "repetition = []\n",
    "utterance = \"\"\n",
    "response_json = None\n",
    "response_json_list = []\n",
    "replies = []\n",
    "#### Get input and loop\n",
    "#while (datetime.now()-t1).seconds <= 3600 or no_reply_count<15:\n",
    "    \n",
    "while True:\n",
    "    # BLENDER\n",
    "    answer = \"\"\n",
    "    \n",
    "    sentences = get_answer_from_blender(leolani_prompt, history)\n",
    "    leolani_prompt = \"\"\n",
    "\n",
    "    if not sentences:\n",
    "        if len(response_json_list)>0:\n",
    "            for response_json in response_json_list:\n",
    "                if response_json['statement']:\n",
    "                    leolani_prompt +=  replier.reply_to_statement(response_json, proactive=True, persist=True)\n",
    "                response_json_list = []\n",
    "        else:\n",
    "            leolani_prompt = f\"{choice(TALK_TO_ME)}\"\n",
    "\n",
    "        print('\\n\\t'+AGENT + \": \" + leolani_prompt)\n",
    "        textSignal = d_util.create_text_signal_with_speaker_annotation(scenario_ctrl, leolani_prompt, AGENT)\n",
    "        scenario_ctrl.append_signal(textSignal)\n",
    "\n",
    "    else:\n",
    "        for utterance in sentences:\n",
    "            if utterance in repetition:\n",
    "                print('Repeating', utterance)\n",
    "                #utterance = None\n",
    "            else:\n",
    "                repetition.append(utterance)\n",
    "\n",
    "            if utterance:\n",
    "                utterance = utterance.strip()\n",
    "                if utterance.endswith(' .'):\n",
    "                    utterance = utterance[:-2]+'.'\n",
    "                    print('\\n\\tFixed period '+HUMAN_NAME + \": \" + utterance)\n",
    "                    \n",
    "                if utterance.endswith(' ?'):\n",
    "                    utterance = utterance[:-2]+'?'\n",
    "                    print('\\n\\tFixed question '+HUMAN_NAME + \": \" + utterance)\n",
    "                    \n",
    "                textSignal = d_util.create_text_signal_with_speaker_annotation(scenario_ctrl, utterance, HUMAN_ID)\n",
    "                scenario_ctrl.append_signal(textSignal)\n",
    "\n",
    "                #### Process input and generate reply\n",
    "\n",
    "                process_text_with_cfg(scenario_ctrl, place_id, location, HUMAN_ID, textSignal, chat, analyzer, my_brain, print_details)\n",
    "                process_triple_spacy(scenario_ctrl,place_id,location,HUMAN_ID,AGENT, textSignal,my_brain,nlp,print_details)\n",
    "                \n",
    "                leolani_prompt = replier.respond(utterance)\n",
    "                print('\\n\\t'+AGENT + \": \" + leolani_prompt)\n",
    "                textSignal = d_util.create_text_signal_with_speaker_annotation(scenario_ctrl, leolani_prompt, AGENT)\n",
    "                scenario_ctrl.append_signal(textSignal)\n",
    "                history.append(leolani_prompt)\n"
   ]
  },
  {
   "cell_type": "markdown",
   "metadata": {},
   "source": [
    "## Save the scenario data"
   ]
  },
  {
   "cell_type": "code",
   "execution_count": 36,
   "metadata": {},
   "outputs": [],
   "source": [
    "scenario_ctrl.scenario.ruler.end = int(time.time() * 1e3)\n",
    "scenarioStorage.save_scenario(scenario_ctrl)"
   ]
  },
  {
   "cell_type": "markdown",
   "metadata": {},
   "source": [
    "## End of notebook"
   ]
  },
  {
   "cell_type": "code",
   "execution_count": null,
   "metadata": {},
   "outputs": [],
   "source": []
  },
  {
   "cell_type": "code",
   "execution_count": null,
   "metadata": {},
   "outputs": [],
   "source": []
  }
 ],
 "metadata": {
  "kernelspec": {
   "display_name": "chatvenv",
   "language": "python",
   "name": "chatvenv"
  },
  "language_info": {
   "codemirror_mode": {
    "name": "ipython",
    "version": 3
   },
   "file_extension": ".py",
   "mimetype": "text/x-python",
   "name": "python",
   "nbconvert_exporter": "python",
   "pygments_lexer": "ipython3",
   "version": "3.9.7"
  }
 },
 "nbformat": 4,
 "nbformat_minor": 4
}
