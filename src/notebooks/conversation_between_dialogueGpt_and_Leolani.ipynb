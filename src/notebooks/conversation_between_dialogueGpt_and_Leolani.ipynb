{
 "cells": [
  {
   "cell_type": "markdown",
   "metadata": {},
   "source": [
    "# Conversation between DialogueGpt and Leolani"
   ]
  },
  {
   "cell_type": "markdown",
   "metadata": {},
   "source": [
    "In this notebook, we create a loop in which DialogGpt has a conversation with Leolani. We send Leolani's initial prompt to DialogueGpt to start a conversation.\n",
    "Next we capture Leolani's response from the brain and DialogueGpt's response constinuously until we meet the stop condition. Extracted triples are posted to a brain called DialueGpt.\n",
    "\n",
    "In principle, this conversation can go on forever. At the end, we save the scenario in EMISSOR."
   ]
  },
  {
   "cell_type": "markdown",
   "metadata": {},
   "source": [
    "Before running, start GraphDB and make sure that there is a sandbox repository.\n",
    "GraphDB can be downloaded from:\n",
    "\n",
    "https://graphdb.ontotext.com"
   ]
  },
  {
   "cell_type": "markdown",
   "metadata": {},
   "source": [
    "## Import the necessary modules"
   ]
  },
  {
   "cell_type": "code",
   "execution_count": 1,
   "metadata": {},
   "outputs": [
    {
     "name": "stderr",
     "output_type": "stream",
     "text": [
      "/Users/piek/PycharmProjects/cltl-chatbots/venv/lib/python3.7/site-packages/rdflib_jsonld/__init__.py:12: DeprecationWarning: The rdflib-jsonld package has been integrated into rdflib as of rdflib==6.0.1.  Please remove rdflib-jsonld from your project's dependencies.\n",
      "  DeprecationWarning,\n",
      "[nltk_data] Downloading package punkt to /Users/piek/nltk_data...\n",
      "[nltk_data]   Package punkt is already up-to-date!\n"
     ]
    }
   ],
   "source": [
    "import json\n",
    "import os\n",
    "import time\n",
    "import uuid\n",
    "from datetime import date\n",
    "from datetime import datetime\n",
    "from random import getrandbits, choice\n",
    "import pathlib\n",
    "import pprint\n",
    "\n",
    "# general imports for EMISSOR and the BRAIN\n",
    "import emissor as em\n",
    "import requests\n",
    "from cltl import brain\n",
    "from cltl.brain.long_term_memory import LongTermMemory\n",
    "from cltl.brain.utils.helper_functions import brain_response_to_json\n",
    "from cltl.combot.backend.api.discrete import UtteranceType\n",
    "from cltl.reply_generation.data.sentences import GREETING, ASK_NAME, ELOQUENCE, TALK_TO_ME\n",
    "from cltl.reply_generation.lenka_replier import LenkaReplier\n",
    "from cltl.triple_extraction.api import Chat, UtteranceHypothesis\n",
    "from emissor.persistence import ScenarioStorage\n",
    "from emissor.representation.annotation import AnnotationType, Token, NER\n",
    "from emissor.representation.container import Index\n",
    "from emissor.representation.scenario import Modality, ImageSignal, TextSignal, Mention, Annotation, Scenario"
   ]
  },
  {
   "cell_type": "markdown",
   "metadata": {},
   "source": [
    "### Import the chatbot utility functions"
   ]
  },
  {
   "cell_type": "code",
   "execution_count": 2,
   "metadata": {},
   "outputs": [],
   "source": [
    "import sys\n",
    "import os\n",
    "\n",
    "src_path = os.path.abspath(os.path.join('..'))\n",
    "if src_path not in sys.path:\n",
    "    sys.path.append(src_path)\n",
    "\n",
    "#### The next utils are needed for the interaction and creating triples and capsules\n",
    "import chatbots.util.driver_util as d_util\n",
    "import chatbots.util.capsule_util as c_util\n",
    "import chatbots.intentions.talk as talk\n",
    "import chatbots.intentions.get_to_know_you as friend"
   ]
  },
  {
   "cell_type": "markdown",
   "metadata": {},
   "source": [
    "## Import a conversation agent pipeline"
   ]
  },
  {
   "cell_type": "code",
   "execution_count": 4,
   "metadata": {},
   "outputs": [],
   "source": [
    "from transformers import AutoModelForCausalLM, AutoTokenizer\n",
    "import torch\n",
    "\n",
    "tokenizer = AutoTokenizer.from_pretrained('microsoft/DialoGPT-medium')\n",
    "model = AutoModelForCausalLM.from_pretrained('microsoft/DialoGPT-medium')\n",
    "\n",
    "#### Needed to suppress messages from DialgGPT\n",
    "import os\n",
    "os.environ[\"TOKENIZERS_PARALLELISM\"] = \"false\""
   ]
  },
  {
   "cell_type": "markdown",
   "metadata": {},
   "source": [
    "## Standard initialisation of a scenario\n",
    "\n",
    "We initialise a scenario in the standard way by creating a unique folder and setting the AGENT and HUMAN_NAME and HUMAN_ID variables. Throughout this scenario, the HUMAN_NAME and HUMAN_ID will be used as the source for the utterances."
   ]
  },
  {
   "cell_type": "code",
   "execution_count": 5,
   "metadata": {},
   "outputs": [
    {
     "name": "stdout",
     "output_type": "stream",
     "text": [
      "Directories for 2021-11-30-09:08:06 created in /Users/piek/PycharmProjects/cltl-chatbots/data\n"
     ]
    }
   ],
   "source": [
    "from random import getrandbits\n",
    "import requests\n",
    "##### Setting the location\n",
    "place_id = getrandbits(8)\n",
    "location = None\n",
    "try:\n",
    "    location = requests.get(\"https://ipinfo.io\").json()\n",
    "except:\n",
    "    print(\"failed to get the IP location\")\n",
    "    \n",
    "##### Setting the agents\n",
    "AGENT = \"Leolani2\"\n",
    "HUMAN_NAME = \"DialogGPT\"\n",
    "HUMAN_ID = \"DialogGPT\"\n",
    "\n",
    "### The name of your scenario\n",
    "scenario_id = datetime.today().strftime(\"%Y-%m-%d-%H:%M:%S\")\n",
    "\n",
    "### Specify the path to an existing data folder where your scenario is created and saved as a subfolder\n",
    "# Find the repository root dir\n",
    "parent, dir_name = (d_util.__file__, \"_\")\n",
    "while dir_name and dir_name != \"src\":\n",
    "    parent, dir_name = os.path.split(parent)\n",
    "root_dir = parent\n",
    "scenario_path = os.path.abspath(os.path.join(root_dir, 'data'))\n",
    "\n",
    "if not os.path.exists(scenario_path) :\n",
    "    os.mkdir(scenario_path)\n",
    "    print(\"Created a data folder for storing the scenarios\", scenario_path)\n",
    "\n",
    "### Define the folders where the images and rdf triples are saved\n",
    "imagefolder = scenario_path + \"/\" + scenario_id + \"/\" + \"image\"\n",
    "rdffolder = scenario_path + \"/\" + scenario_id + \"/\" + \"rdf\"\n",
    "\n",
    "### Create the scenario folder, the json files and a scenarioStorage and scenario in memory\n",
    "scenarioStorage = d_util.create_scenario(scenario_path, scenario_id)\n",
    "scenario_ctrl = scenarioStorage.create_scenario(scenario_id, int(time.time() * 1e3), None, AGENT)"
   ]
  },
  {
   "cell_type": "markdown",
   "metadata": {},
   "source": [
    "## Specifying the BRAIN"
   ]
  },
  {
   "cell_type": "markdown",
   "metadata": {},
   "source": [
    "We specify the BRAIN in GraphDB and use the scenario path just defined for storing the RDF triple produced in EMISSOR.\n",
    "\n",
    "If you set *clear_all* to *True*, the sandbox triple store is emptied (memory erased) and the basic ontological models are reloaded. Setting it to *False* means you add things to the current memory."
   ]
  },
  {
   "cell_type": "code",
   "execution_count": 6,
   "metadata": {},
   "outputs": [
    {
     "name": "stdout",
     "output_type": "stream",
     "text": [
      "2021-11-30 09:08:08,437 -     INFO -    cltl.brain.basic_brain.LongTermMemory - Booted\n",
      "2021-11-30 09:08:10,960 -     INFO -    cltl.brain.basic_brain.LongTermMemory - Uploading ontology to brain\n",
      "2021-11-30 09:08:13,238 -     INFO -  cltl.brain.basic_brain.ThoughtGenerator - Booted\n",
      "2021-11-30 09:08:13,241 -     INFO -  cltl.brain.basic_brain.LocationReasoner - Booted\n",
      "2021-11-30 09:08:13,243 -     INFO -      cltl.brain.basic_brain.TypeReasoner - Booted\n",
      "2021-11-30 09:08:13,245 -     INFO -   cltl.brain.basic_brain.TrustCalculator - Booted\n",
      "2021-11-30 09:08:13,583 -     INFO -   cltl.brain.basic_brain.TrustCalculator - Computed trust for all known agents\n"
     ]
    }
   ],
   "source": [
    "log_path = pathlib.Path(rdffolder)\n",
    "my_brain = brain.LongTermMemory(address=\"http://localhost:7200/repositories/dialogGpt\",\n",
    "                                log_dir=log_path,\n",
    "                                clear_all=True)"
   ]
  },
  {
   "cell_type": "markdown",
   "metadata": {},
   "source": [
    "## Create an instance of a replier"
   ]
  },
  {
   "cell_type": "code",
   "execution_count": 7,
   "metadata": {},
   "outputs": [
    {
     "name": "stdout",
     "output_type": "stream",
     "text": [
      "2021-11-30 09:08:14,803 -     INFO -   cltl.reply_generation.api.LenkaReplier - Booted\n"
     ]
    }
   ],
   "source": [
    "replier = LenkaReplier()"
   ]
  },
  {
   "cell_type": "markdown",
   "metadata": {},
   "source": [
    "## Initialise a chat with the HUMAN_ID to keep track of the dialogue history"
   ]
  },
  {
   "cell_type": "code",
   "execution_count": 8,
   "metadata": {},
   "outputs": [
    {
     "name": "stdout",
     "output_type": "stream",
     "text": [
      "2021-11-30 09:08:15,635 -     INFO - cltl.triple_extraction.api.Chat (DialogGPT)         000 - << Start of Chat with DialogGPT >>\n"
     ]
    }
   ],
   "source": [
    "chat = Chat(HUMAN_ID)"
   ]
  },
  {
   "cell_type": "markdown",
   "metadata": {},
   "source": [
    "## Start the interaction"
   ]
  },
  {
   "cell_type": "code",
   "execution_count": 11,
   "metadata": {},
   "outputs": [
    {
     "name": "stdout",
     "output_type": "stream",
     "text": [
      "\n",
      "\tLeolani2: Do you have any gossip?\n",
      "\n",
      "\tDialogGPT: I do not. I'm not a gossip.\n",
      "2021-11-30 09:11:43,407 -     INFO - cltl.triple_extraction.api.Chat (DialogGPT)         010 -  DialogGPT: \"I do not. I'm not a gossip.\"\n",
      "2021-11-30 09:11:44,893 -     INFO -    cltl.brain.basic_brain.LongTermMemory - Triple in statement: dialoggpt_do_not-i-am-not-a-gossip [agent_->_person])\n",
      "2021-11-30 09:11:44,980 -     INFO -  cltl.brain.basic_brain.ThoughtGenerator - Entity Novelty: new subject - new object \n",
      "2021-11-30 09:11:47,136 -     INFO -  cltl.brain.basic_brain.ThoughtGenerator - Negation Conflicts: dialoggpt on November,2021 about POSITIVE\n",
      "2021-11-30 09:11:47,190 -     INFO -  cltl.brain.basic_brain.ThoughtGenerator - Gaps: 26 gaps as subject: e.g. like interest - 15 gaps as object: e.g. be-parent-of person\n",
      "2021-11-30 09:11:47,241 -     INFO -  cltl.brain.basic_brain.ThoughtGenerator - Gaps: 26 gaps as subject: e.g. play sport - 15 gaps as object: e.g. be-ancestor-of person\n",
      "\n",
      "\tLeolani2: I did not know that! I did not know anybody who do not i am not a gossip\n",
      "\n",
      "\tDialogGPT: I am not a gossip.\n",
      "2021-11-30 09:11:49,867 -     INFO - cltl.triple_extraction.api.Chat (DialogGPT)         011 -  DialogGPT: \"I am not a gossip.\"\n",
      "2021-11-30 09:11:52,918 -  WARNING -      cltl.brain.basic_brain.TypeReasoner - Failed to query Wikidata: HTTPSConnectionPool(host='query.wikidata.org', port=443): Read timed out. (read timeout=3)\n",
      "2021-11-30 09:11:53,291 -     INFO -      cltl.brain.basic_brain.TypeReasoner - Reasoned type of gossip. to: None\n",
      "2021-11-30 09:11:53,342 -     INFO -    cltl.brain.basic_brain.LongTermMemory - Triple in statement: dialoggpt_be_a-gossip [agent_->_])\n",
      "2021-11-30 09:11:53,432 -     INFO -  cltl.brain.basic_brain.ThoughtGenerator - Entity Novelty: existing subject - new object \n",
      "2021-11-30 09:11:55,637 -     INFO -  cltl.brain.basic_brain.ThoughtGenerator - Negation Conflicts: dialoggpt on November,2021 about NEGATIVE\n",
      "2021-11-30 09:11:55,731 -     INFO -  cltl.brain.basic_brain.ThoughtGenerator - Gaps: 26 gaps as subject: e.g. be-child-of agent - 15 gaps as object: e.g. be-friends-with person\n",
      "\n",
      "\tLeolani2: If you don't mind me asking. Has dialoggpt perceive sensor?\n",
      "\n",
      "\tDialogGPT: I don't mind.\n",
      "2021-11-30 09:11:58,077 -     INFO - cltl.triple_extraction.api.Chat (DialogGPT)         012 -  DialogGPT: \"I don't mind.\"\n",
      "2021-11-30 09:12:01,171 -  WARNING -      cltl.brain.basic_brain.TypeReasoner - Failed to query Wikidata: HTTPSConnectionPool(host='query.wikidata.org', port=443): Read timed out. (read timeout=3)\n",
      "2021-11-30 09:12:01,730 -     INFO -      cltl.brain.basic_brain.TypeReasoner - Reasoned type of mind. to: None\n",
      "2021-11-30 09:12:01,789 -     INFO -    cltl.brain.basic_brain.LongTermMemory - Triple in statement: dialoggpt_be_mind [agent_->_])\n",
      "2021-11-30 09:12:01,882 -     INFO -  cltl.brain.basic_brain.ThoughtGenerator - Entity Novelty: existing subject - new object \n",
      "2021-11-30 09:12:04,186 -     INFO -  cltl.brain.basic_brain.ThoughtGenerator - Negation Conflicts: dialoggpt on November,2021 about NEGATIVE\n",
      "2021-11-30 09:12:04,241 -     INFO -  cltl.brain.basic_brain.ThoughtGenerator - Gaps: 26 gaps as subject: e.g. play song - 15 gaps as object: e.g. read-by book\n",
      "\n",
      "\tLeolani2: I am curious. What types can dialoggpt be\n",
      "\n",
      "\tDialogGPT: I don't know.\n",
      "2021-11-30 09:12:06,712 -     INFO - cltl.triple_extraction.api.Chat (DialogGPT)         013 -  DialogGPT: \"I don't know.\"\n",
      "2021-11-30 09:12:09,766 -  WARNING -      cltl.brain.basic_brain.TypeReasoner - Failed to query Wikidata: HTTPSConnectionPool(host='query.wikidata.org', port=443): Read timed out. (read timeout=3)\n",
      "2021-11-30 09:12:10,125 -     INFO -      cltl.brain.basic_brain.TypeReasoner - Reasoned type of know. to: None\n",
      "2021-11-30 09:12:10,142 -     INFO -    cltl.brain.basic_brain.LongTermMemory - Triple in statement: dialoggpt_be_know [agent_->_])\n",
      "2021-11-30 09:12:10,189 -     INFO -  cltl.brain.basic_brain.ThoughtGenerator - Entity Novelty: existing subject - new object \n",
      "2021-11-30 09:12:12,339 -     INFO -  cltl.brain.basic_brain.ThoughtGenerator - Negation Conflicts: dialoggpt on November,2021 about NEGATIVE\n",
      "2021-11-30 09:12:12,390 -     INFO -  cltl.brain.basic_brain.ThoughtGenerator - Gaps: 26 gaps as subject: e.g. study-at institution - 15 gaps as object: e.g. be-parent-of person\n",
      "\n",
      "\tLeolani2: I did not know that! I did not know anything that dialoggpt be\n",
      "\n",
      "\tDialogGPT: I don't know.\n",
      "2021-11-30 09:12:15,046 -     INFO - cltl.triple_extraction.api.Chat (DialogGPT)         014 -  DialogGPT: \"I don't know.\"\n",
      "2021-11-30 09:12:18,171 -  WARNING -      cltl.brain.basic_brain.TypeReasoner - Failed to query Wikidata: HTTPSConnectionPool(host='query.wikidata.org', port=443): Read timed out. (read timeout=3)\n",
      "2021-11-30 09:12:18,466 -     INFO -      cltl.brain.basic_brain.TypeReasoner - Reasoned type of know. to: None\n",
      "2021-11-30 09:12:18,489 -     INFO -    cltl.brain.basic_brain.LongTermMemory - Triple in statement: dialoggpt_be_know [agent_->_])\n",
      "2021-11-30 09:12:18,532 -     INFO -  cltl.brain.basic_brain.ThoughtGenerator - Statement Novelty: 1 times, e.g. dialoggpt on November,2021\n",
      "2021-11-30 09:12:20,886 -     INFO -  cltl.brain.basic_brain.ThoughtGenerator - Negation Conflicts: dialoggpt on November,2021 about NEGATIVE\n",
      "2021-11-30 09:12:20,990 -     INFO -  cltl.brain.basic_brain.ThoughtGenerator - Gaps: 26 gaps as subject: e.g. work-at institution - 15 gaps as object: e.g. be-parent-of person\n",
      "\n",
      "\tLeolani2: I know. dialoggpt told me about it in 2021 11 30T00:00:00\n",
      "\n",
      "\tLeolani2: Do you have any gossip?\n",
      "\n",
      "\tDialogGPT: I have gossip\n",
      "2021-11-30 09:12:24,710 -     INFO - cltl.triple_extraction.api.Chat (DialogGPT)         015 -  DialogGPT: \"I have gossip\"\n",
      "2021-11-30 09:12:24,783 -     INFO -    cltl.brain.basic_brain.LongTermMemory - Triple in statement: dialoggpt_have_gossip [agent_->_communication])\n",
      "2021-11-30 09:12:24,837 -     INFO -  cltl.brain.basic_brain.ThoughtGenerator - Entity Novelty: existing subject - new object \n",
      "2021-11-30 09:12:27,034 -     INFO -  cltl.brain.basic_brain.ThoughtGenerator - Negation Conflicts: dialoggpt on November,2021 about POSITIVE\n",
      "2021-11-30 09:12:27,087 -     INFO -  cltl.brain.basic_brain.ThoughtGenerator - Gaps: 26 gaps as subject: e.g. like interest - 15 gaps as object: e.g. be-ancestor-of person\n",
      "\n",
      "\tLeolani2: I am curious. What types of communication orInstance like gossip do agent orInstance usually have\n",
      "\n",
      "\tLeolani2: Tell me something, anything!\n",
      "\n",
      "\tLeolani2: Would you like to chat? I'll do my best to keep up\n",
      "\n",
      "\tLeolani2: Do you have any gossip?\n",
      "\n",
      "\tLeolani2: Would you like to chat? I'll do my best to keep up\n",
      "\n",
      "\tLeolani2: Let's chat!\n",
      "\n",
      "\tLeolani2: Tell me something, anything!\n",
      "\n",
      "\tLeolani2: Do you have any gossip?\n",
      "\n",
      "\tLeolani2: Let's chat!\n",
      "\n",
      "\tLeolani2: Let's chat!\n",
      "\n",
      "\tLeolani2: Would you like to chat? I'll do my best to keep up\n",
      "\n",
      "\tLeolani2: Let's chat!\n",
      "\n",
      "\tLeolani2: Let's chat!\n",
      "\n",
      "\tLeolani2: Tell me something, anything!\n",
      "\n",
      "\tLeolani2: Do you have any gossip?\n",
      "\n",
      "\tLeolani2: Tell me something, anything!\n",
      "\n",
      "\tLeolani2: Do you have any gossip?\n",
      "\n",
      "\tLeolani2: Would you like to chat? I'll do my best to keep up\n",
      "\n",
      "\tLeolani2: Would you like to chat? I'll do my best to keep up\n",
      "\n",
      "\tLeolani2: Do you have any gossip?\n",
      "\n",
      "\tLeolani2: Would you like to chat? I'll do my best to keep up\n",
      "\n",
      "\tLeolani2: Do you have any gossip?\n",
      "\n",
      "\tLeolani2: Tell me something, anything!\n",
      "\n",
      "\tLeolani2: Tell me anything, I love learning things\n",
      "\n",
      "\tLeolani2: Let's chat!\n",
      "\n",
      "\tLeolani2: Let's chat!\n",
      "\n",
      "\tLeolani2: Do you have any gossip?\n",
      "\n",
      "\tLeolani2: Let's chat!\n",
      "\n",
      "\tLeolani2: Would you like to chat? I'll do my best to keep up\n"
     ]
    }
   ],
   "source": [
    "print_details=False\n",
    "\n",
    "t1 = datetime.now()\n",
    "\n",
    "#### Initial prompt by the system from which we create a TextSignal and store it\n",
    "leolani_prompt = f\"{choice(TALK_TO_ME)}\"\n",
    "print('\\n\\t'+AGENT + \": \" + leolani_prompt)\n",
    "textSignal = d_util.create_text_signal_with_speaker_annotation(scenario_ctrl, leolani_prompt, AGENT)\n",
    "scenario_ctrl.append_signal(textSignal)\n",
    "\n",
    "# encode the new Leolani input, add the eos_token and return a tensor in Pytorch\n",
    "bot_input_ids = tokenizer.encode(leolani_prompt + tokenizer.eos_token, return_tensors='pt')\n",
    "# append the new user input tokens to the chat history\n",
    "#bot_input_ids = torch.cat([chat_history_ids, new_input_ids], dim=-1) if step > 0 else new_input_ids\n",
    "# generated a response while limiting the total chat history to 1000 tokens, \n",
    "chat_history_ids = model.generate(bot_input_ids, max_length=1000, pad_token_id=tokenizer.eos_token_id)\n",
    "\n",
    "utterance = \"\"\n",
    "#### Get input and loop\n",
    "while (datetime.now()-t1).seconds <= 120:\n",
    "    ###### Getting the next input signals\n",
    "    utterance = format(tokenizer.decode(chat_history_ids[:, bot_input_ids.shape[-1]:][0], skip_special_tokens=True))\n",
    "    if not utterance:\n",
    "        leolani_prompt = f\"{choice(TALK_TO_ME)}\"\n",
    "        print('\\n\\t'+AGENT + \": \" + leolani_prompt)\n",
    "        textSignal = d_util.create_text_signal_with_speaker_annotation(scenario_ctrl, leolani_prompt, AGENT)\n",
    "        scenario_ctrl.append_signal(textSignal)\n",
    "        # encode the new Leolani input, add the eos_token and return a tensor in Pytorch\n",
    "        new_input_ids = tokenizer.encode(leolani_prompt + tokenizer.eos_token, return_tensors='pt')\n",
    "        # append the new user input tokens to the chat history\n",
    "        bot_input_ids = torch.cat([chat_history_ids, new_input_ids], dim=-1)\n",
    "        # generated a response while limiting the total chat history to 1000 tokens, \n",
    "        chat_history_ids = model.generate(bot_input_ids, max_length=1000, pad_token_id=tokenizer.eos_token_id)\n",
    "    else:\n",
    "        print('\\n\\t'+HUMAN_NAME + \": \" + utterance)\n",
    "        textSignal = d_util.create_text_signal_with_speaker_annotation(scenario_ctrl, utterance, HUMAN_ID)\n",
    "        scenario_ctrl.append_signal(textSignal)\n",
    "\n",
    "        #### Process input and generate reply\n",
    "\n",
    "        capsule, leolani_prompt = talk.process_text_and_reply(scenario_ctrl,\n",
    "                               place_id,\n",
    "                               location,\n",
    "                               HUMAN_ID,\n",
    "                               textSignal,\n",
    "                               chat,\n",
    "                               replier,\n",
    "                               my_brain,\n",
    "                               print_details)\n",
    "\n",
    "        print('\\n\\t'+AGENT + \": \" + leolani_prompt)\n",
    "        textSignal = d_util.create_text_signal_with_speaker_annotation(scenario_ctrl, leolani_prompt, AGENT)\n",
    "        scenario_ctrl.append_signal(textSignal)\n",
    "        \n",
    "        # encode the new Leolani input, add the eos_token and return a tensor in Pytorch\n",
    "        new_input_ids = tokenizer.encode(leolani_prompt + tokenizer.eos_token, return_tensors='pt')\n",
    "        # append the new user input tokens to the chat history\n",
    "        bot_input_ids = torch.cat([chat_history_ids, new_input_ids], dim=-1)\n",
    "        # generated a response while limiting the total chat history to 1000 tokens, \n",
    "        chat_history_ids = model.generate(bot_input_ids, max_length=1000, pad_token_id=tokenizer.eos_token_id)\n"
   ]
  },
  {
   "cell_type": "markdown",
   "metadata": {},
   "source": [
    "## Save the scenario data"
   ]
  },
  {
   "cell_type": "code",
   "execution_count": 12,
   "metadata": {},
   "outputs": [],
   "source": [
    "scenario_ctrl.scenario.ruler.end = int(time.time() * 1e3)\n",
    "scenarioStorage.save_scenario(scenario_ctrl)"
   ]
  },
  {
   "cell_type": "markdown",
   "metadata": {},
   "source": [
    "## End of notebook"
   ]
  }
 ],
 "metadata": {
  "kernelspec": {
   "display_name": "venv",
   "language": "python",
   "name": "venv"
  },
  "language_info": {
   "codemirror_mode": {
    "name": "ipython",
    "version": 3
   },
   "file_extension": ".py",
   "mimetype": "text/x-python",
   "name": "python",
   "nbconvert_exporter": "python",
   "pygments_lexer": "ipython3",
   "version": "3.7.6"
  }
 },
 "nbformat": 4,
 "nbformat_minor": 4
}
