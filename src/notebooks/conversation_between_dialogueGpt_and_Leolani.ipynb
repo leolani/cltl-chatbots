{
 "cells": [
  {
   "cell_type": "markdown",
   "metadata": {},
   "source": [
    "# Conversation between DialogueGpt and Leolani"
   ]
  },
  {
   "cell_type": "markdown",
   "metadata": {},
   "source": [
    "In this notebook, we create a loop in which DialogGpt has a conversation with Leolani. We send Leolani's initial prompt to DialogueGpt to start a conversation.\n",
    "Next we capture Leolani's response from the brain and DialogueGpt's response constinuously until we meet the stop condition. Extracted triples are posted to a brain called DialueGpt.\n",
    "\n",
    "In principle, this conversation can go on forever. At the end, we save the scenario in EMISSOR."
   ]
  },
  {
   "cell_type": "markdown",
   "metadata": {},
   "source": [
    "Before running, start GraphDB and make sure that there is a sandbox repository.\n",
    "GraphDB can be downloaded from:\n",
    "\n",
    "https://graphdb.ontotext.com"
   ]
  },
  {
   "cell_type": "markdown",
   "metadata": {},
   "source": [
    "## Import the necessary modules"
   ]
  },
  {
   "cell_type": "code",
   "execution_count": 1,
   "metadata": {},
   "outputs": [
    {
     "name": "stderr",
     "output_type": "stream",
     "text": [
      "/Users/piek/PycharmProjects/cltl-chatbots/venv/lib/python3.7/site-packages/rdflib_jsonld/__init__.py:12: DeprecationWarning: The rdflib-jsonld package has been integrated into rdflib as of rdflib==6.0.1.  Please remove rdflib-jsonld from your project's dependencies.\n",
      "  DeprecationWarning,\n",
      "[nltk_data] Downloading package punkt to /Users/piek/nltk_data...\n",
      "[nltk_data]   Package punkt is already up-to-date!\n"
     ]
    }
   ],
   "source": [
    "import json\n",
    "import os\n",
    "import time\n",
    "import uuid\n",
    "from datetime import date\n",
    "from datetime import datetime\n",
    "from random import getrandbits, choice\n",
    "import pathlib\n",
    "import pprint\n",
    "\n",
    "# general imports for EMISSOR and the BRAIN\n",
    "import emissor as em\n",
    "import requests\n",
    "from cltl import brain\n",
    "from cltl.brain.long_term_memory import LongTermMemory\n",
    "from cltl.brain.utils.helper_functions import brain_response_to_json\n",
    "from cltl.combot.backend.api.discrete import UtteranceType\n",
    "from cltl.reply_generation.data.sentences import GREETING, ASK_NAME, ELOQUENCE, TALK_TO_ME\n",
    "from cltl.reply_generation.lenka_replier import LenkaReplier\n",
    "from cltl.triple_extraction.api import Chat, UtteranceHypothesis\n",
    "from emissor.persistence import ScenarioStorage\n",
    "from emissor.representation.annotation import AnnotationType, Token, NER\n",
    "from emissor.representation.container import Index\n",
    "from emissor.representation.scenario import Modality, ImageSignal, TextSignal, Mention, Annotation, Scenario"
   ]
  },
  {
   "cell_type": "markdown",
   "metadata": {},
   "source": [
    "### Import the chatbot utility functions"
   ]
  },
  {
   "cell_type": "code",
   "execution_count": 2,
   "metadata": {},
   "outputs": [],
   "source": [
    "import sys\n",
    "import os\n",
    "\n",
    "src_path = os.path.abspath(os.path.join('..'))\n",
    "if src_path not in sys.path:\n",
    "    sys.path.append(src_path)\n",
    "\n",
    "#### The next utils are needed for the interaction and creating triples and capsules\n",
    "import chatbots.util.driver_util as d_util\n",
    "import chatbots.util.capsule_util as c_util\n",
    "import chatbots.intentions.talk as talk\n",
    "import chatbots.intentions.get_to_know_you as friend"
   ]
  },
  {
   "cell_type": "markdown",
   "metadata": {},
   "source": [
    "## Import a conversation agent pipeline"
   ]
  },
  {
   "cell_type": "code",
   "execution_count": 3,
   "metadata": {},
   "outputs": [],
   "source": [
    "import os\n",
    "os.environ[\"TOKENIZERS_PARALLELISM\"] = \"false\""
   ]
  },
  {
   "cell_type": "code",
   "execution_count": 18,
   "metadata": {},
   "outputs": [],
   "source": [
    "from transformers import pipeline, Conversation\n",
    "conversational_pipeline = pipeline(\"conversational\", model='microsoft/DialoGPT-medium')\n",
    "## DialogGPT at work"
   ]
  },
  {
   "cell_type": "markdown",
   "metadata": {},
   "source": [
    "## Standard initialisation of a scenario\n",
    "\n",
    "We initialise a scenario in the standard way by creating a unique folder and setting the AGENT and HUMAN_NAME and HUMAN_ID variables. Throughout this scenario, the HUMAN_NAME and HUMAN_ID will be used as the source for the utterances."
   ]
  },
  {
   "cell_type": "code",
   "execution_count": 7,
   "metadata": {},
   "outputs": [
    {
     "name": "stdout",
     "output_type": "stream",
     "text": [
      "Directories for 2021-11-29-22:21:50 created in /Users/piek/PycharmProjects/cltl-chatbots/data\n"
     ]
    }
   ],
   "source": [
    "from random import getrandbits\n",
    "import requests\n",
    "##### Setting the location\n",
    "place_id = getrandbits(8)\n",
    "location = None\n",
    "try:\n",
    "    location = requests.get(\"https://ipinfo.io\").json()\n",
    "except:\n",
    "    print(\"failed to get the IP location\")\n",
    "    \n",
    "##### Setting the agents\n",
    "AGENT = \"Leolani2\"\n",
    "HUMAN_NAME = \"DialogGpt\"\n",
    "HUMAN_ID = \"DialogGpt\"\n",
    "\n",
    "### The name of your scenario\n",
    "scenario_id = datetime.today().strftime(\"%Y-%m-%d-%H:%M:%S\")\n",
    "\n",
    "### Specify the path to an existing data folder where your scenario is created and saved as a subfolder\n",
    "# Find the repository root dir\n",
    "parent, dir_name = (d_util.__file__, \"_\")\n",
    "while dir_name and dir_name != \"src\":\n",
    "    parent, dir_name = os.path.split(parent)\n",
    "root_dir = parent\n",
    "scenario_path = os.path.abspath(os.path.join(root_dir, 'data'))\n",
    "\n",
    "if not os.path.exists(scenario_path) :\n",
    "    os.mkdir(scenario_path)\n",
    "    print(\"Created a data folder for storing the scenarios\", scenario_path)\n",
    "\n",
    "### Define the folders where the images and rdf triples are saved\n",
    "imagefolder = scenario_path + \"/\" + scenario_id + \"/\" + \"image\"\n",
    "rdffolder = scenario_path + \"/\" + scenario_id + \"/\" + \"rdf\"\n",
    "\n",
    "### Create the scenario folder, the json files and a scenarioStorage and scenario in memory\n",
    "scenarioStorage = d_util.create_scenario(scenario_path, scenario_id)\n",
    "scenario_ctrl = scenarioStorage.create_scenario(scenario_id, int(time.time() * 1e3), None, AGENT)"
   ]
  },
  {
   "cell_type": "markdown",
   "metadata": {},
   "source": [
    "## Specifying the BRAIN"
   ]
  },
  {
   "cell_type": "markdown",
   "metadata": {},
   "source": [
    "We specify the BRAIN in GraphDB and use the scenario path just defined for storing the RDF triple produced in EMISSOR.\n",
    "\n",
    "If you set *clear_all* to *True*, the sandbox triple store is emptied (memory erased) and the basic ontological models are reloaded. Setting it to *False* means you add things to the current memory."
   ]
  },
  {
   "cell_type": "code",
   "execution_count": 8,
   "metadata": {},
   "outputs": [
    {
     "name": "stdout",
     "output_type": "stream",
     "text": [
      "2021-11-29 22:22:05,852 -     INFO -    cltl.brain.basic_brain.LongTermMemory - Booted\n",
      "2021-11-29 22:22:12,200 -     INFO -    cltl.brain.basic_brain.LongTermMemory - Uploading ontology to brain\n",
      "2021-11-29 22:22:13,563 -     INFO -  cltl.brain.basic_brain.ThoughtGenerator - Booted\n",
      "2021-11-29 22:22:13,565 -     INFO -  cltl.brain.basic_brain.LocationReasoner - Booted\n",
      "2021-11-29 22:22:13,567 -     INFO -      cltl.brain.basic_brain.TypeReasoner - Booted\n",
      "2021-11-29 22:22:13,568 -     INFO -   cltl.brain.basic_brain.TrustCalculator - Booted\n",
      "2021-11-29 22:22:13,675 -     INFO -   cltl.brain.basic_brain.TrustCalculator - Computed trust for all known agents\n"
     ]
    }
   ],
   "source": [
    "log_path = pathlib.Path(rdffolder)\n",
    "my_brain = brain.LongTermMemory(address=\"http://localhost:7200/repositories/dialogGpt\",\n",
    "                                log_dir=log_path,\n",
    "                                clear_all=True)"
   ]
  },
  {
   "cell_type": "markdown",
   "metadata": {},
   "source": [
    "## Create an instance of a replier"
   ]
  },
  {
   "cell_type": "code",
   "execution_count": 9,
   "metadata": {},
   "outputs": [
    {
     "name": "stdout",
     "output_type": "stream",
     "text": [
      "2021-11-29 22:22:13,680 -     INFO -   cltl.reply_generation.api.LenkaReplier - Booted\n"
     ]
    }
   ],
   "source": [
    "replier = LenkaReplier()"
   ]
  },
  {
   "cell_type": "markdown",
   "metadata": {},
   "source": [
    "## Initialise a chat with the HUMAN_ID to keep track of the dialogue history"
   ]
  },
  {
   "cell_type": "code",
   "execution_count": 10,
   "metadata": {},
   "outputs": [
    {
     "name": "stdout",
     "output_type": "stream",
     "text": [
      "2021-11-29 22:22:16,001 -     INFO - cltl.triple_extraction.api.Chat (DialogGpt)         000 - << Start of Chat with DialogGpt >>\n"
     ]
    }
   ],
   "source": [
    "chat = Chat(HUMAN_ID)"
   ]
  },
  {
   "cell_type": "markdown",
   "metadata": {},
   "source": [
    "## Start the interaction"
   ]
  },
  {
   "cell_type": "code",
   "execution_count": 11,
   "metadata": {},
   "outputs": [
    {
     "name": "stderr",
     "output_type": "stream",
     "text": [
      "Setting `pad_token_id` to `eos_token_id`:50256 for open-end generation.\n"
     ]
    },
    {
     "name": "stdout",
     "output_type": "stream",
     "text": [
      "\n",
      "\tLeolani2: Tell me anything, I love learning things\n",
      "\n",
      "\tDialogGpt: I'm a student at the University of Texas at Austin.\n",
      "2021-11-29 22:22:19,308 -     INFO -               cltl.triple_extraction.api - Started POS tagger\n",
      "2021-11-29 22:22:19,328 -     INFO -               cltl.triple_extraction.api - Started NER tagger\n",
      "2021-11-29 22:22:19,332 -     INFO -               cltl.triple_extraction.api - Loaded grammar\n",
      "2021-11-29 22:22:24,302 -     INFO - cltl.triple_extraction.api.Chat (DialogGpt)         001 -  DialogGpt: \"I'm a student at the University of Texas at Austin.\"\n",
      "2021-11-29 22:22:28,843 -  WARNING -      cltl.brain.basic_brain.TypeReasoner - Failed to query Wikidata: HTTPSConnectionPool(host='query.wikidata.org', port=443): Read timed out. (read timeout=3)\n",
      "2021-11-29 22:22:29,576 -     INFO -      cltl.brain.basic_brain.TypeReasoner - Reasoned type of student-at-the-University-of-Texas-at-Austin. to: None\n",
      "2021-11-29 22:22:29,624 -     INFO -    cltl.brain.basic_brain.LongTermMemory - Triple in statement: dialoggpt_be_a-student-at-the-university-of-texas-at-austin [agent_->_])\n",
      "2021-11-29 22:22:29,635 -     INFO -  cltl.brain.basic_brain.ThoughtGenerator - Entity Novelty: new subject - new object \n",
      "2021-11-29 22:22:30,983 -     INFO -  cltl.brain.basic_brain.ThoughtGenerator - Negation Conflicts: dialoggpt on November,2021 about POSITIVE\n",
      "2021-11-29 22:22:30,999 -     INFO -  cltl.brain.basic_brain.ThoughtGenerator - Gaps: 26 gaps as subject: e.g. study-at institution - 15 gaps as object: e.g. like-by interest\n"
     ]
    },
    {
     "name": "stderr",
     "output_type": "stream",
     "text": [
      "Setting `pad_token_id` to `eos_token_id`:50256 for open-end generation.\n"
     ]
    },
    {
     "name": "stdout",
     "output_type": "stream",
     "text": [
      "\n",
      "\tLeolani2: Interesting! I did not know anything that dialoggpt be\n",
      "\n",
      "\tDialogGpt: I'm a student at the University of Texas at Austin.\n",
      "2021-11-29 22:22:37,183 -     INFO - cltl.triple_extraction.api.Chat (DialogGpt)         002 -  DialogGpt: \"I'm a student at the University of Texas at Austin.\"\n",
      "2021-11-29 22:22:40,264 -  WARNING -      cltl.brain.basic_brain.TypeReasoner - Failed to query Wikidata: HTTPSConnectionPool(host='query.wikidata.org', port=443): Read timed out. (read timeout=3)\n",
      "2021-11-29 22:22:41,122 -     INFO -      cltl.brain.basic_brain.TypeReasoner - Reasoned type of student-at-the-University-of-Texas-at-Austin. to: None\n",
      "2021-11-29 22:22:41,142 -     INFO -    cltl.brain.basic_brain.LongTermMemory - Triple in statement: dialoggpt_be_a-student-at-the-university-of-texas-at-austin [agent_->_])\n",
      "2021-11-29 22:22:41,148 -     INFO -  cltl.brain.basic_brain.ThoughtGenerator - Statement Novelty: 1 times, e.g. dialoggpt on November,2021\n",
      "2021-11-29 22:22:42,557 -     INFO -  cltl.brain.basic_brain.ThoughtGenerator - Negation Conflicts: dialoggpt on November,2021 about POSITIVE\n",
      "2021-11-29 22:22:42,572 -     INFO -  cltl.brain.basic_brain.ThoughtGenerator - Gaps: 26 gaps as subject: e.g. like interest - 15 gaps as object: e.g. read-by book\n"
     ]
    },
    {
     "name": "stderr",
     "output_type": "stream",
     "text": [
      "Setting `pad_token_id` to `eos_token_id`:50256 for open-end generation.\n"
     ]
    },
    {
     "name": "stdout",
     "output_type": "stream",
     "text": [
      "\n",
      "\tLeolani2: If you don't mind me asking. Has dialoggpt ever like by a agent?\n",
      "\n",
      "\tDialogGpt: I don't know. I'm not a student at the University of Texas at Austin.\n",
      "2021-11-29 22:22:56,575 -     INFO - cltl.triple_extraction.api.Chat (DialogGpt)         003 -  DialogGpt: \"I don't know. I'm not a student at the University of Texas at Austin.\"\n",
      "2021-11-29 22:22:56,598 -     INFO -    cltl.brain.basic_brain.LongTermMemory - Triple in statement: dialoggpt_know_i-am-not-a-student-at-the-university-of-texas-at-austin [agent_->_person])\n",
      "2021-11-29 22:22:56,610 -     INFO -  cltl.brain.basic_brain.ThoughtGenerator - Entity Novelty: existing subject - new object \n",
      "2021-11-29 22:22:57,954 -     INFO -  cltl.brain.basic_brain.ThoughtGenerator - Gaps: 26 gaps as subject: e.g. perceive sensor - 15 gaps as object: e.g. favorite-of interest\n",
      "2021-11-29 22:22:57,967 -     INFO -  cltl.brain.basic_brain.ThoughtGenerator - Gaps: 26 gaps as subject: e.g. play sport - 15 gaps as object: e.g. be-friends-with person\n"
     ]
    },
    {
     "name": "stderr",
     "output_type": "stream",
     "text": [
      "Setting `pad_token_id` to `eos_token_id`:50256 for open-end generation.\n"
     ]
    },
    {
     "name": "stdout",
     "output_type": "stream",
     "text": [
      "\n",
      "\tLeolani2: I just learned something, I did not know anybody who know i am not a student at the university of texas at austin\n",
      "\n",
      "\tDialogGpt: I'm a student at the University of Texas at Austin.\n",
      "2021-11-29 22:23:05,120 -     INFO - cltl.triple_extraction.api.Chat (DialogGpt)         004 -  DialogGpt: \"I'm a student at the University of Texas at Austin.\"\n",
      "2021-11-29 22:23:08,201 -  WARNING -      cltl.brain.basic_brain.TypeReasoner - Failed to query Wikidata: HTTPSConnectionPool(host='query.wikidata.org', port=443): Read timed out. (read timeout=3)\n",
      "2021-11-29 22:23:09,166 -     INFO -      cltl.brain.basic_brain.TypeReasoner - Reasoned type of student-at-the-University-of-Texas-at-Austin. to: None\n",
      "2021-11-29 22:23:09,183 -     INFO -    cltl.brain.basic_brain.LongTermMemory - Triple in statement: dialoggpt_be_a-student-at-the-university-of-texas-at-austin [agent_->_])\n",
      "2021-11-29 22:23:09,188 -     INFO -  cltl.brain.basic_brain.ThoughtGenerator - Statement Novelty: 1 times, e.g. dialoggpt on November,2021\n",
      "2021-11-29 22:23:10,669 -     INFO -  cltl.brain.basic_brain.ThoughtGenerator - Negation Conflicts: dialoggpt on November,2021 about POSITIVE\n",
      "2021-11-29 22:23:10,681 -     INFO -  cltl.brain.basic_brain.ThoughtGenerator - Gaps: 26 gaps as subject: e.g. like agent - 15 gaps as object: e.g. be-child-of agent\n"
     ]
    },
    {
     "name": "stderr",
     "output_type": "stream",
     "text": [
      "Setting `pad_token_id` to `eos_token_id`:50256 for open-end generation.\n"
     ]
    },
    {
     "name": "stdout",
     "output_type": "stream",
     "text": [
      "\n",
      "\tLeolani2: Let me ask you something. Has dialoggpt know agent?\n"
     ]
    },
    {
     "name": "stderr",
     "output_type": "stream",
     "text": [
      "Setting `pad_token_id` to `eos_token_id`:50256 for open-end generation.\n"
     ]
    },
    {
     "name": "stdout",
     "output_type": "stream",
     "text": [
      "\n",
      "\tLeolani2: Tell me anything, I love learning things\n",
      "\n",
      "\tDialogGpt: I love you\n",
      "2021-11-29 22:23:14,577 -     INFO - cltl.triple_extraction.api.Chat (DialogGpt)         005 -  DialogGpt: \"I love you\"\n",
      "2021-11-29 22:23:14,600 -     INFO -    cltl.brain.basic_brain.LongTermMemory - Triple in statement: dialoggpt_love_leolani [agent_->_agent])\n",
      "2021-11-29 22:23:16,083 -     INFO -  cltl.brain.basic_brain.ThoughtGenerator - Negation Conflicts: dialoggpt on November,2021 about POSITIVE\n",
      "2021-11-29 22:23:16,096 -     INFO -  cltl.brain.basic_brain.ThoughtGenerator - Gaps: 24 gaps as subject: e.g. travel-to location - 14 gaps as object: e.g. dislike agent\n",
      "2021-11-29 22:23:16,108 -     INFO -  cltl.brain.basic_brain.ThoughtGenerator - Gaps: 22 gaps as subject: e.g. acknowledge smell - 10 gaps as object: e.g. favorite-of interest\n"
     ]
    },
    {
     "name": "stderr",
     "output_type": "stream",
     "text": [
      "Setting `pad_token_id` to `eos_token_id`:50256 for open-end generation.\n"
     ]
    },
    {
     "name": "stdout",
     "output_type": "stream",
     "text": [
      "\n",
      "\tLeolani2: If you don't mind me asking. Has dialoggpt be member of institution?\n"
     ]
    },
    {
     "name": "stderr",
     "output_type": "stream",
     "text": [
      "Setting `pad_token_id` to `eos_token_id`:50256 for open-end generation.\n"
     ]
    },
    {
     "name": "stdout",
     "output_type": "stream",
     "text": [
      "\n",
      "\tLeolani2: Do you have any gossip?\n"
     ]
    },
    {
     "name": "stderr",
     "output_type": "stream",
     "text": [
      "Setting `pad_token_id` to `eos_token_id`:50256 for open-end generation.\n"
     ]
    },
    {
     "name": "stdout",
     "output_type": "stream",
     "text": [
      "\n",
      "\tLeolani2: Do you have any gossip?\n"
     ]
    },
    {
     "name": "stderr",
     "output_type": "stream",
     "text": [
      "Setting `pad_token_id` to `eos_token_id`:50256 for open-end generation.\n"
     ]
    },
    {
     "name": "stdout",
     "output_type": "stream",
     "text": [
      "\n",
      "\tLeolani2: Let's chat!\n"
     ]
    },
    {
     "name": "stderr",
     "output_type": "stream",
     "text": [
      "Setting `pad_token_id` to `eos_token_id`:50256 for open-end generation.\n"
     ]
    },
    {
     "name": "stdout",
     "output_type": "stream",
     "text": [
      "\n",
      "\tLeolani2: Let's chat!\n"
     ]
    },
    {
     "name": "stderr",
     "output_type": "stream",
     "text": [
      "Setting `pad_token_id` to `eos_token_id`:50256 for open-end generation.\n"
     ]
    },
    {
     "name": "stdout",
     "output_type": "stream",
     "text": [
      "\n",
      "\tLeolani2: Tell me something, anything!\n"
     ]
    },
    {
     "name": "stderr",
     "output_type": "stream",
     "text": [
      "Setting `pad_token_id` to `eos_token_id`:50256 for open-end generation.\n"
     ]
    },
    {
     "name": "stdout",
     "output_type": "stream",
     "text": [
      "\n",
      "\tLeolani2: Tell me something, anything!\n"
     ]
    },
    {
     "name": "stderr",
     "output_type": "stream",
     "text": [
      "Setting `pad_token_id` to `eos_token_id`:50256 for open-end generation.\n"
     ]
    },
    {
     "name": "stdout",
     "output_type": "stream",
     "text": [
      "\n",
      "\tLeolani2: Tell me anything, I love learning things\n"
     ]
    },
    {
     "name": "stderr",
     "output_type": "stream",
     "text": [
      "Setting `pad_token_id` to `eos_token_id`:50256 for open-end generation.\n"
     ]
    },
    {
     "name": "stdout",
     "output_type": "stream",
     "text": [
      "\n",
      "\tLeolani2: Tell me anything, I love learning things\n"
     ]
    },
    {
     "name": "stderr",
     "output_type": "stream",
     "text": [
      "Setting `pad_token_id` to `eos_token_id`:50256 for open-end generation.\n"
     ]
    },
    {
     "name": "stdout",
     "output_type": "stream",
     "text": [
      "\n",
      "\tLeolani2: Tell me anything, I love learning things\n"
     ]
    },
    {
     "name": "stderr",
     "output_type": "stream",
     "text": [
      "Setting `pad_token_id` to `eos_token_id`:50256 for open-end generation.\n"
     ]
    },
    {
     "name": "stdout",
     "output_type": "stream",
     "text": [
      "\n",
      "\tLeolani2: Let's chat!\n"
     ]
    },
    {
     "name": "stderr",
     "output_type": "stream",
     "text": [
      "Setting `pad_token_id` to `eos_token_id`:50256 for open-end generation.\n"
     ]
    },
    {
     "name": "stdout",
     "output_type": "stream",
     "text": [
      "\n",
      "\tLeolani2: Tell me something, anything!\n"
     ]
    },
    {
     "name": "stderr",
     "output_type": "stream",
     "text": [
      "Setting `pad_token_id` to `eos_token_id`:50256 for open-end generation.\n"
     ]
    },
    {
     "name": "stdout",
     "output_type": "stream",
     "text": [
      "\n",
      "\tLeolani2: Would you like to chat? I'll do my best to keep up\n"
     ]
    },
    {
     "name": "stderr",
     "output_type": "stream",
     "text": [
      "Setting `pad_token_id` to `eos_token_id`:50256 for open-end generation.\n"
     ]
    },
    {
     "name": "stdout",
     "output_type": "stream",
     "text": [
      "\n",
      "\tLeolani2: Let's chat!\n"
     ]
    },
    {
     "name": "stderr",
     "output_type": "stream",
     "text": [
      "Setting `pad_token_id` to `eos_token_id`:50256 for open-end generation.\n"
     ]
    },
    {
     "name": "stdout",
     "output_type": "stream",
     "text": [
      "\n",
      "\tLeolani2: Would you like to chat? I'll do my best to keep up\n"
     ]
    },
    {
     "name": "stderr",
     "output_type": "stream",
     "text": [
      "Setting `pad_token_id` to `eos_token_id`:50256 for open-end generation.\n"
     ]
    },
    {
     "name": "stdout",
     "output_type": "stream",
     "text": [
      "\n",
      "\tLeolani2: Do you have any gossip?\n"
     ]
    },
    {
     "name": "stderr",
     "output_type": "stream",
     "text": [
      "Setting `pad_token_id` to `eos_token_id`:50256 for open-end generation.\n"
     ]
    },
    {
     "name": "stdout",
     "output_type": "stream",
     "text": [
      "\n",
      "\tLeolani2: Do you have any gossip?\n"
     ]
    },
    {
     "name": "stderr",
     "output_type": "stream",
     "text": [
      "Setting `pad_token_id` to `eos_token_id`:50256 for open-end generation.\n"
     ]
    },
    {
     "name": "stdout",
     "output_type": "stream",
     "text": [
      "\n",
      "\tLeolani2: Do you have any gossip?\n"
     ]
    },
    {
     "name": "stderr",
     "output_type": "stream",
     "text": [
      "Setting `pad_token_id` to `eos_token_id`:50256 for open-end generation.\n"
     ]
    },
    {
     "name": "stdout",
     "output_type": "stream",
     "text": [
      "\n",
      "\tLeolani2: Tell me something, anything!\n"
     ]
    },
    {
     "name": "stderr",
     "output_type": "stream",
     "text": [
      "Setting `pad_token_id` to `eos_token_id`:50256 for open-end generation.\n"
     ]
    },
    {
     "name": "stdout",
     "output_type": "stream",
     "text": [
      "\n",
      "\tLeolani2: Would you like to chat? I'll do my best to keep up\n"
     ]
    },
    {
     "name": "stderr",
     "output_type": "stream",
     "text": [
      "Setting `pad_token_id` to `eos_token_id`:50256 for open-end generation.\n"
     ]
    },
    {
     "name": "stdout",
     "output_type": "stream",
     "text": [
      "\n",
      "\tLeolani2: Tell me anything, I love learning things\n"
     ]
    },
    {
     "name": "stderr",
     "output_type": "stream",
     "text": [
      "Setting `pad_token_id` to `eos_token_id`:50256 for open-end generation.\n"
     ]
    },
    {
     "name": "stdout",
     "output_type": "stream",
     "text": [
      "\n",
      "\tLeolani2: Tell me something, anything!\n"
     ]
    },
    {
     "name": "stderr",
     "output_type": "stream",
     "text": [
      "Setting `pad_token_id` to `eos_token_id`:50256 for open-end generation.\n"
     ]
    },
    {
     "name": "stdout",
     "output_type": "stream",
     "text": [
      "\n",
      "\tLeolani2: Let's chat!\n"
     ]
    },
    {
     "name": "stderr",
     "output_type": "stream",
     "text": [
      "Setting `pad_token_id` to `eos_token_id`:50256 for open-end generation.\n"
     ]
    },
    {
     "name": "stdout",
     "output_type": "stream",
     "text": [
      "\n",
      "\tLeolani2: Do you have any gossip?\n"
     ]
    },
    {
     "name": "stderr",
     "output_type": "stream",
     "text": [
      "Setting `pad_token_id` to `eos_token_id`:50256 for open-end generation.\n"
     ]
    },
    {
     "name": "stdout",
     "output_type": "stream",
     "text": [
      "\n",
      "\tLeolani2: Do you have any gossip?\n"
     ]
    },
    {
     "name": "stderr",
     "output_type": "stream",
     "text": [
      "Setting `pad_token_id` to `eos_token_id`:50256 for open-end generation.\n"
     ]
    },
    {
     "name": "stdout",
     "output_type": "stream",
     "text": [
      "\n",
      "\tLeolani2: Would you like to chat? I'll do my best to keep up\n",
      "\n",
      "\tLeolani2: Tell me something, anything!\n"
     ]
    }
   ],
   "source": [
    "print_details=False\n",
    "\n",
    "t1 = datetime.now()\n",
    "\n",
    "#### Initial prompt by the system from which we create a TextSignal and store it\n",
    "leolani_prompt = f\"{choice(TALK_TO_ME)}\"\n",
    "print('\\n\\t'+AGENT + \": \" + leolani_prompt)\n",
    "textSignal = d_util.create_text_signal(scenario_ctrl, leolani_prompt)\n",
    "scenario_ctrl.append_signal(textSignal)\n",
    "conv = Conversation()\n",
    "conv.add_user_input(leolani_prompt)\n",
    "\n",
    "utterance = \"\"\n",
    "#### Get input and loop\n",
    "while (datetime.now()-t1).seconds <= 120:\n",
    "    ###### Getting the next input signals\n",
    "    conversational_pipeline(conv)\n",
    "    utterance = conv.generated_responses[-1]\n",
    "    if not utterance:\n",
    "        leolani_prompt = f\"{choice(TALK_TO_ME)}\"\n",
    "        print('\\n\\t'+AGENT + \": \" + leolani_prompt)\n",
    "        textSignal = d_util.create_text_signal(scenario_ctrl, leolani_prompt)\n",
    "        scenario_ctrl.append_signal(textSignal)\n",
    "        conv.add_user_input(leolani_prompt)\n",
    "    else:\n",
    "        print('\\n\\t'+HUMAN_NAME + \": \" + utterance)\n",
    "        textSignal = d_util.create_text_signal(scenario_ctrl, utterance)\n",
    "        scenario_ctrl.append_signal(textSignal)\n",
    "\n",
    "        #### Process input and generate reply\n",
    "\n",
    "        capsule, leolani_prompt = talk.process_text_and_reply(scenario_ctrl,\n",
    "                               place_id,\n",
    "                               location,\n",
    "                               HUMAN_ID,\n",
    "                               textSignal,\n",
    "                               chat,\n",
    "                               replier,\n",
    "                               my_brain,\n",
    "                               print_details)\n",
    "\n",
    "        print('\\n\\t'+AGENT + \": \" + leolani_prompt)\n",
    "        textSignal = d_util.create_text_signal(scenario_ctrl, leolani_prompt)\n",
    "        scenario_ctrl.append_signal(textSignal)\n",
    "        conv.add_user_input(leolani_prompt)\n"
   ]
  },
  {
   "cell_type": "code",
   "execution_count": 14,
   "metadata": {},
   "outputs": [
    {
     "data": {
      "text/plain": [
       "[\"I'm a student at the University of Texas at Austin.\",\n",
       " \"I'm a student at the University of Texas at Austin.\",\n",
       " \"I don't know. I'm not a student at the University of Texas at Austin.\",\n",
       " \"I'm a student at the University of Texas at Austin.\",\n",
       " '',\n",
       " 'I love you',\n",
       " '',\n",
       " '',\n",
       " '',\n",
       " '',\n",
       " '',\n",
       " '',\n",
       " '',\n",
       " '',\n",
       " '',\n",
       " '',\n",
       " '',\n",
       " '',\n",
       " '',\n",
       " '',\n",
       " '',\n",
       " '',\n",
       " '',\n",
       " '',\n",
       " '',\n",
       " '',\n",
       " '',\n",
       " '',\n",
       " '',\n",
       " '',\n",
       " '',\n",
       " '']"
      ]
     },
     "execution_count": 14,
     "metadata": {},
     "output_type": "execute_result"
    }
   ],
   "source": [
    "conv.generated_responses"
   ]
  },
  {
   "cell_type": "markdown",
   "metadata": {},
   "source": [
    "## Save the scenario data"
   ]
  },
  {
   "cell_type": "code",
   "execution_count": 15,
   "metadata": {},
   "outputs": [],
   "source": [
    "scenario_ctrl.scenario.ruler.end = int(time.time() * 1e3)\n",
    "scenarioStorage.save_scenario(scenario_ctrl)"
   ]
  },
  {
   "cell_type": "markdown",
   "metadata": {},
   "source": [
    "## End of notebook"
   ]
  }
 ],
 "metadata": {
  "kernelspec": {
   "display_name": "venv",
   "language": "python",
   "name": "venv"
  },
  "language_info": {
   "codemirror_mode": {
    "name": "ipython",
    "version": 3
   },
   "file_extension": ".py",
   "mimetype": "text/x-python",
   "name": "python",
   "nbconvert_exporter": "python",
   "pygments_lexer": "ipython3",
   "version": "3.7.6"
  }
 },
 "nbformat": 4,
 "nbformat_minor": 4
}
