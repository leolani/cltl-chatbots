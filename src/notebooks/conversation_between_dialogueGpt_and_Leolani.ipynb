{
 "cells": [
  {
   "cell_type": "markdown",
   "metadata": {},
   "source": [
    "# Conversation between DialogueGpt and Leolani"
   ]
  },
  {
   "cell_type": "markdown",
   "metadata": {},
   "source": [
    "In this notebook, we create a loop in which DialogGpt has a conversation with Leolani. We send Leolani's initial prompt to DialogueGpt to start a conversation.\n",
    "Next we capture Leolani's response from the brain and DialogueGpt's response constinuously until we meet the stop condition. Extracted triples are posted to a brain called DialueGpt.\n",
    "\n",
    "In principle, this conversation can go on forever. At the end, we save the scenario in EMISSOR."
   ]
  },
  {
   "cell_type": "markdown",
   "metadata": {},
   "source": [
    "Before running, start GraphDB and make sure that there is a sandbox repository.\n",
    "GraphDB can be downloaded from:\n",
    "\n",
    "https://graphdb.ontotext.com"
   ]
  },
  {
   "cell_type": "markdown",
   "metadata": {},
   "source": [
    "## Import the necessary modules"
   ]
  },
  {
   "cell_type": "code",
   "execution_count": 1,
   "metadata": {},
   "outputs": [
    {
     "name": "stderr",
     "output_type": "stream",
     "text": [
      "/Users/piek/PycharmProjects/cltl-chatbots/venv/lib/python3.7/site-packages/rdflib_jsonld/__init__.py:12: DeprecationWarning: The rdflib-jsonld package has been integrated into rdflib as of rdflib==6.0.1.  Please remove rdflib-jsonld from your project's dependencies.\n",
      "  DeprecationWarning,\n",
      "[nltk_data] Downloading package punkt to /Users/piek/nltk_data...\n",
      "[nltk_data]   Package punkt is already up-to-date!\n"
     ]
    }
   ],
   "source": [
    "import json\n",
    "import os\n",
    "import time\n",
    "import uuid\n",
    "from datetime import date\n",
    "from datetime import datetime\n",
    "from random import getrandbits, choice\n",
    "import pathlib\n",
    "import pprint\n",
    "import spacy\n",
    "\n",
    "# general imports for EMISSOR and the BRAIN\n",
    "import emissor as em\n",
    "import requests\n",
    "from cltl import brain\n",
    "from cltl.brain.long_term_memory import LongTermMemory\n",
    "from cltl.brain.utils.helper_functions import brain_response_to_json\n",
    "from cltl.combot.backend.api.discrete import UtteranceType\n",
    "from cltl.reply_generation.data.sentences import GREETING, ASK_NAME, ELOQUENCE, TALK_TO_ME\n",
    "from cltl.reply_generation.lenka_replier import LenkaReplier\n",
    "from cltl.triple_extraction.api import Chat, UtteranceHypothesis\n",
    "from emissor.persistence import ScenarioStorage\n",
    "from emissor.representation.annotation import AnnotationType, Token, NER\n",
    "from emissor.representation.container import Index\n",
    "from emissor.representation.scenario import Modality, ImageSignal, TextSignal, Mention, Annotation, Scenario"
   ]
  },
  {
   "cell_type": "code",
   "execution_count": 2,
   "metadata": {},
   "outputs": [],
   "source": [
    "#!python -m spacy download en"
   ]
  },
  {
   "cell_type": "markdown",
   "metadata": {},
   "source": [
    "### Import the chatbot utility functions"
   ]
  },
  {
   "cell_type": "code",
   "execution_count": 3,
   "metadata": {},
   "outputs": [],
   "source": [
    "import sys\n",
    "import os\n",
    "\n",
    "src_path = os.path.abspath(os.path.join('..'))\n",
    "if src_path not in sys.path:\n",
    "    sys.path.append(src_path)\n",
    "\n",
    "#### The next utils are needed for the interaction and creating triples and capsules\n",
    "import chatbots.util.driver_util as d_util\n",
    "import chatbots.util.capsule_util as c_util\n",
    "import chatbots.intentions.talk as talk\n",
    "import chatbots.intentions.get_to_know_you as friend"
   ]
  },
  {
   "cell_type": "markdown",
   "metadata": {},
   "source": [
    "## Import a conversation agent pipeline"
   ]
  },
  {
   "cell_type": "code",
   "execution_count": 4,
   "metadata": {},
   "outputs": [],
   "source": [
    "#from transformers import AutoModelForCausalLM, AutoTokenizer, AutoModel, AutoModelWithLMHead\n",
    "#import torch\n",
    "\n",
    "#tokenizer = AutoTokenizer.from_pretrained('microsoft/DialoGPT-medium')\n",
    "#model = AutoModelForCausalLM.from_pretrained('microsoft/DialoGPT-medium')\n",
    "\n",
    "#tokenizer = AutoTokenizer.from_pretrained('gpt2')\n",
    "#model = AutoModelForCausalLM.from_pretrained('gpt2')\n",
    "\n",
    "#tokenizer = AutoTokenizer.from_pretrained(\"manueltonneau/bert-base-cased-conversational-nli\")\n",
    "#model = AutoModel.from_pretrained(\"manueltonneau/bert-base-cased-conversational-nli\")\n",
    "\n",
    "#tokenizer = AutoTokenizer.from_pretrained(\"xlnet-large-cased\")\n",
    "#model = AutoModelForCausalLM.from_pretrained(\"xlnet-large-cased\")\n",
    "\n",
    "#tokenizer = AutoTokenizer.from_pretrained(\"t5-small\")\n",
    "\n",
    "#model = AutoModelWithLMHead.from_pretrained(\"t5-small\")\n",
    "\n",
    "#### Needed to suppress messages from DialgGPT\n",
    "#import os\n",
    "#os.environ[\"TOKENIZERS_PARALLELISM\"] = \"false\""
   ]
  },
  {
   "cell_type": "code",
   "execution_count": null,
   "metadata": {},
   "outputs": [],
   "source": [
    "from transformers import BlenderbotTokenizer, BlenderbotForConditionalGeneration\n",
    "mname = 'facebook/blenderbot-400M-distill'\n",
    "model = BlenderbotForConditionalGeneration.from_pretrained(mname)\n",
    "tokenizer = BlenderbotTokenizer.from_pretrained(mname)\n",
    "UTTERANCE = \"My friends are cool but they eat too many carbs.\"\n",
    "inputs = tokenizer([UTTERANCE], return_tensors='pt')\n",
    "reply_ids = model.generate(**inputs)\n",
    "print(tokenizer.batch_decode(reply_ids))\n"
   ]
  },
  {
   "cell_type": "markdown",
   "metadata": {},
   "source": [
    "## Standard initialisation of a scenario\n",
    "\n",
    "We initialise a scenario in the standard way by creating a unique folder and setting the AGENT and HUMAN_NAME and HUMAN_ID variables. Throughout this scenario, the HUMAN_NAME and HUMAN_ID will be used as the source for the utterances."
   ]
  },
  {
   "cell_type": "code",
   "execution_count": null,
   "metadata": {},
   "outputs": [],
   "source": [
    "from random import getrandbits\n",
    "import requests\n",
    "##### Setting the location\n",
    "place_id = getrandbits(8)\n",
    "location = None\n",
    "try:\n",
    "    location = requests.get(\"https://ipinfo.io\").json()\n",
    "except:\n",
    "    print(\"failed to get the IP location\")\n",
    "    \n",
    "##### Setting the agents\n",
    "AGENT = \"Leolani2\"\n",
    "HUMAN_NAME = \"BLENDERBOT\"\n",
    "HUMAN_ID = \"BLENDERBOT\"\n",
    "\n",
    "### The name of your scenario\n",
    "scenario_id = datetime.today().strftime(\"%Y-%m-%d-%H:%M:%S\")\n",
    "\n",
    "### Specify the path to an existing data folder where your scenario is created and saved as a subfolder\n",
    "# Find the repository root dir\n",
    "parent, dir_name = (d_util.__file__, \"_\")\n",
    "while dir_name and dir_name != \"src\":\n",
    "    parent, dir_name = os.path.split(parent)\n",
    "root_dir = parent\n",
    "scenario_path = os.path.abspath(os.path.join(root_dir, 'data'))\n",
    "\n",
    "if not os.path.exists(scenario_path) :\n",
    "    os.mkdir(scenario_path)\n",
    "    print(\"Created a data folder for storing the scenarios\", scenario_path)\n",
    "\n",
    "### Define the folders where the images and rdf triples are saved\n",
    "imagefolder = scenario_path + \"/\" + scenario_id + \"/\" + \"image\"\n",
    "rdffolder = scenario_path + \"/\" + scenario_id + \"/\" + \"rdf\"\n",
    "\n",
    "### Create the scenario folder, the json files and a scenarioStorage and scenario in memory\n",
    "scenarioStorage = d_util.create_scenario(scenario_path, scenario_id)\n",
    "scenario_ctrl = scenarioStorage.create_scenario(scenario_id, int(time.time() * 1e3), None, AGENT)"
   ]
  },
  {
   "cell_type": "markdown",
   "metadata": {},
   "source": [
    "## Specifying the BRAIN"
   ]
  },
  {
   "cell_type": "markdown",
   "metadata": {},
   "source": [
    "We specify the BRAIN in GraphDB and use the scenario path just defined for storing the RDF triple produced in EMISSOR.\n",
    "\n",
    "If you set *clear_all* to *True*, the sandbox triple store is emptied (memory erased) and the basic ontological models are reloaded. Setting it to *False* means you add things to the current memory."
   ]
  },
  {
   "cell_type": "code",
   "execution_count": null,
   "metadata": {},
   "outputs": [],
   "source": [
    "log_path = pathlib.Path(rdffolder)\n",
    "my_brain = brain.LongTermMemory(address=\"http://localhost:7200/repositories/blender\",\n",
    "                                log_dir=log_path,\n",
    "                                clear_all=True)"
   ]
  },
  {
   "cell_type": "markdown",
   "metadata": {},
   "source": [
    "## Create an instance of a replier"
   ]
  },
  {
   "cell_type": "code",
   "execution_count": null,
   "metadata": {},
   "outputs": [],
   "source": [
    "replier = LenkaReplier()"
   ]
  },
  {
   "cell_type": "markdown",
   "metadata": {},
   "source": [
    "## Initialise a chat with the HUMAN_ID to keep track of the dialogue history"
   ]
  },
  {
   "cell_type": "code",
   "execution_count": null,
   "metadata": {},
   "outputs": [],
   "source": [
    "chat = Chat(HUMAN_ID)"
   ]
  },
  {
   "cell_type": "code",
   "execution_count": null,
   "metadata": {},
   "outputs": [],
   "source": [
    "nlp = spacy.load(\"en_core_web_sm\")\n",
    "#nlp= spacy.load('en') # other languages: de, es, pt, fr, it, nl"
   ]
  },
  {
   "cell_type": "markdown",
   "metadata": {},
   "source": [
    "## Start the interaction"
   ]
  },
  {
   "cell_type": "code",
   "execution_count": null,
   "metadata": {},
   "outputs": [],
   "source": [
    "print_details=True\n",
    "\n",
    "max_context=500\n",
    "t1 = datetime.now()\n",
    "\n",
    "#### Initial prompt by the system from which we create a TextSignal and store it\n",
    "leolani_prompt = f\"{choice(TALK_TO_ME)}\"\n",
    "print('\\n\\t'+AGENT + \": \" + leolani_prompt)\n",
    "textSignal = d_util.create_text_signal_with_speaker_annotation(scenario_ctrl, leolani_prompt, AGENT)\n",
    "scenario_ctrl.append_signal(textSignal)\n",
    "\n",
    "\n",
    "#BLENDERBOT\n",
    "bot_input_ids = tokenizer(leolani_prompt, return_tensors='pt')\n",
    "chat_history_ids = model.generate(**bot_input_ids)\n",
    "\n",
    "# encode the new Leolani input, add the eos_token and return a tensor in Pytorch\n",
    "##bot_input_ids = tokenizer.encode(leolani_prompt + tokenizer.eos_token, return_tensors='pt')\n",
    "# append the new user input tokens to the chat history\n",
    "#bot_input_ids = torch.cat([chat_history_ids, new_input_ids], dim=-1) if step > 0 else new_input_ids\n",
    "# generated a response while limiting the total chat history to max_context tokens, \n",
    "##chat_history_ids = model.generate(bot_input_ids, max_length=max_context, pad_token_id=tokenizer.eos_token_id)\n",
    "repetition = []\n",
    "utterance = \"\"\n",
    "response_json = None\n",
    "#### Get input and loop\n",
    "while (datetime.now()-t1).seconds <= 3600:\n",
    "    ###### Getting the next input signals\n",
    "    #utterance = format(tokenizer.decode(chat_history_ids[:, bot_input_ids.shape[-1]:][0], skip_special_tokens=True))\n",
    "    # BLENDER\n",
    "    utteranceList = tokenizer.batch_decode(chat_history_ids)\n",
    "    #[\"<s> Sure, what do you do for a living? I'm an accountant, what about you?</s>\"]\n",
    "    answer = utteranceList[0].strip('</s>')\n",
    "    #print(\"ANSWER\", answer)\n",
    "    doc = nlp(answer)\n",
    "    sentences = []\n",
    "    for s in doc.sents:\n",
    "        sentence = \"\"\n",
    "        for token in s:\n",
    "            sentence += token.text+\" \"\n",
    "        sentences.append(sentence) \n",
    "#    utterance = sentences[len(sentences)-1]\n",
    "   #print(sentences)                       \n",
    "    #print(\"UTTERANCE\", utterance)\n",
    " \n",
    "    for utterance in sentences:\n",
    "        if utterance in repetition:\n",
    "            print('Repeating', utterance)\n",
    "            utterance = None\n",
    "        else:\n",
    "            repetition.append(utterance)\n",
    "            \n",
    "        if not utterance:\n",
    "            if response_json:\n",
    "                leolani_prompt =  replier.reply_to_statement(response_json, proactive=True, persist=True)\n",
    "            else:\n",
    "                leolani_prompt = f\"{choice(TALK_TO_ME)}\"\n",
    "\n",
    "            print('\\n\\t'+AGENT + \": \" + leolani_prompt)\n",
    "            textSignal = d_util.create_text_signal_with_speaker_annotation(scenario_ctrl, leolani_prompt, AGENT)\n",
    "            scenario_ctrl.append_signal(textSignal)\n",
    "            \n",
    "            #BLENDERBOT\n",
    "            bot_input_ids = tokenizer(leolani_prompt, return_tensors='pt')\n",
    "            chat_history_ids = model.generate(**bot_input_ids)\n",
    "\n",
    "\n",
    "            # encode the new Leolani input, add the eos_token and return a tensor in Pytorch\n",
    "            ##new_input_ids = tokenizer.encode(leolani_prompt + tokenizer.eos_token, return_tensors='pt')\n",
    "            # append the new user input tokens to the chat history\n",
    "            ##bot_input_ids = torch.cat([chat_history_ids, new_input_ids], dim=-1)\n",
    "            # generated a response while limiting the total chat history to max_context tokens, \n",
    "            ##chat_history_ids = model.generate(bot_input_ids, max_length=max_context, pad_token_id=tokenizer.eos_token_id)\n",
    "        else:\n",
    "            print('\\n\\t'+HUMAN_NAME + \": \" + utterance)\n",
    "            textSignal = d_util.create_text_signal_with_speaker_annotation(scenario_ctrl, utterance, HUMAN_ID)\n",
    "            scenario_ctrl.append_signal(textSignal)\n",
    "\n",
    "            #### Process input and generate reply\n",
    "\n",
    "            capsule, leolani_prompt, response_json = talk.process_text_and_reply(scenario_ctrl,\n",
    "                                   place_id,\n",
    "                                   location,\n",
    "                                   HUMAN_ID,\n",
    "                                   textSignal,\n",
    "                                   chat,\n",
    "                                   replier,\n",
    "                                   my_brain,\n",
    "                                   print_details)\n",
    "\n",
    "            if not capsule:\n",
    "                replies, response_json = talk.process_text_spacy_and_reply(scenario_ctrl,\n",
    "                                   place_id,\n",
    "                                   location,\n",
    "                                   HUMAN_ID,\n",
    "                                   textSignal,\n",
    "                                   chat,\n",
    "                                   replier,\n",
    "                                   my_brain,\n",
    "                                   nlp,\n",
    "                                   print_details)\n",
    "                for reply in replies:\n",
    "                    leolani_prompt+= reply+\".\"\n",
    "\n",
    "            print('\\n\\t'+AGENT + \": \" + leolani_prompt)\n",
    "            textSignal = d_util.create_text_signal_with_speaker_annotation(scenario_ctrl, leolani_prompt, AGENT)\n",
    "            scenario_ctrl.append_signal(textSignal)\n",
    "            \n",
    "            #BLENDERBOT\n",
    "            bot_input_ids = tokenizer(leolani_prompt, return_tensors='pt')\n",
    "            chat_history_ids = model.generate(**bot_input_ids)\n",
    "\n",
    "\n",
    "        # encode the new Leolani input, add the eos_token and return a tensor in Pytorch\n",
    "        ##new_input_ids = tokenizer.encode(leolani_prompt + tokenizer.eos_token, return_tensors='pt')\n",
    "        # append the new user input tokens to the chat history\n",
    "        ##bot_input_ids = torch.cat([chat_history_ids, new_input_ids], dim=-1)\n",
    "        # generated a response while limiting the total chat history to max_context tokens, \n",
    "        ##hat_history_ids = model.generate(bot_input_ids, max_length=max_context, pad_token_id=tokenizer.eos_token_id)\n"
   ]
  },
  {
   "cell_type": "markdown",
   "metadata": {},
   "source": [
    "## Save the scenario data"
   ]
  },
  {
   "cell_type": "code",
   "execution_count": null,
   "metadata": {},
   "outputs": [],
   "source": [
    "scenario_ctrl.scenario.ruler.end = int(time.time() * 1e3)\n",
    "scenarioStorage.save_scenario(scenario_ctrl)"
   ]
  },
  {
   "cell_type": "markdown",
   "metadata": {},
   "source": [
    "## End of notebook"
   ]
  }
 ],
 "metadata": {
  "kernelspec": {
   "display_name": "venv",
   "language": "python",
   "name": "venv"
  },
  "language_info": {
   "codemirror_mode": {
    "name": "ipython",
    "version": 3
   },
   "file_extension": ".py",
   "mimetype": "text/x-python",
   "name": "python",
   "nbconvert_exporter": "python",
   "pygments_lexer": "ipython3",
   "version": "3.7.6"
  }
 },
 "nbformat": 4,
 "nbformat_minor": 4
}
