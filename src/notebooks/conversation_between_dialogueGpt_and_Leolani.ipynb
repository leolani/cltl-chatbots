{
 "cells": [
  {
   "cell_type": "markdown",
   "metadata": {},
   "source": [
    "# Conversation between DialogueGpt and Leolani"
   ]
  },
  {
   "cell_type": "markdown",
   "metadata": {},
   "source": [
    "In this notebook, we create a loop in which DialogGpt has a conversation with Leolani. We send Leolani's initial prompt to DialogueGpt to start a conversation.\n",
    "Next we capture Leolani's response from the brain and DialogueGpt's response constinuously until we meet the stop condition. Extracted triples are posted to a brain called DialueGpt.\n",
    "\n",
    "In principle, this conversation can go on forever. At the end, we save the scenario in EMISSOR."
   ]
  },
  {
   "cell_type": "markdown",
   "metadata": {},
   "source": [
    "Before running, start GraphDB and make sure that there is a sandbox repository.\n",
    "GraphDB can be downloaded from:\n",
    "\n",
    "https://graphdb.ontotext.com"
   ]
  },
  {
   "cell_type": "markdown",
   "metadata": {},
   "source": [
    "## Import the necessary modules"
   ]
  },
  {
   "cell_type": "code",
   "execution_count": 1,
   "metadata": {},
   "outputs": [
    {
     "name": "stderr",
     "output_type": "stream",
     "text": [
      "/Users/piek/PycharmProjects/cltl-chatbots/chatvenv/lib/python3.9/site-packages/rdflib_jsonld/__init__.py:9: DeprecationWarning: The rdflib-jsonld package has been integrated into rdflib as of rdflib==6.0.1.  Please remove rdflib-jsonld from your project's dependencies.\n",
      "  warnings.warn(\n"
     ]
    }
   ],
   "source": [
    "import json\n",
    "import os\n",
    "import time\n",
    "import uuid\n",
    "from datetime import date\n",
    "from datetime import datetime\n",
    "from random import getrandbits, choice\n",
    "import pathlib\n",
    "import pprint\n",
    "import spacy\n",
    "\n",
    "# general imports for EMISSOR and the BRAIN\n",
    "import emissor as em\n",
    "import requests\n",
    "from cltl import brain\n",
    "from cltl.brain.long_term_memory import LongTermMemory\n",
    "from cltl.brain.utils.helper_functions import brain_response_to_json\n",
    "from cltl.combot.backend.api.discrete import UtteranceType\n",
    "from cltl.reply_generation.data.sentences import GREETING, ASK_NAME, ELOQUENCE, TALK_TO_ME\n",
    "from cltl.reply_generation.lenka_replier import LenkaReplier\n",
    "from cltl.triple_extraction.api import Chat, UtteranceHypothesis\n",
    "from emissor.persistence import ScenarioStorage\n",
    "from emissor.representation.annotation import AnnotationType, Token, NER\n",
    "from emissor.representation.container import Index\n",
    "from emissor.representation.scenario import Modality, ImageSignal, TextSignal, Mention, Annotation, Scenario"
   ]
  },
  {
   "cell_type": "code",
   "execution_count": 2,
   "metadata": {},
   "outputs": [],
   "source": [
    "#!python -m spacy download en"
   ]
  },
  {
   "cell_type": "markdown",
   "metadata": {},
   "source": [
    "### Import the chatbot utility functions"
   ]
  },
  {
   "cell_type": "code",
   "execution_count": 3,
   "metadata": {},
   "outputs": [],
   "source": [
    "import sys\n",
    "import os\n",
    "\n",
    "src_path = os.path.abspath(os.path.join('..'))\n",
    "if src_path not in sys.path:\n",
    "    sys.path.append(src_path)\n",
    "\n",
    "#### The next utils are needed for the interaction and creating triples and capsules\n",
    "import chatbots.util.driver_util as d_util\n",
    "import chatbots.util.text_util as t_util\n",
    "import chatbots.util.capsule_util as c_util\n",
    "import chatbots.intentions.talk as talk\n",
    "import chatbots.intentions.get_to_know_you as friend"
   ]
  },
  {
   "cell_type": "markdown",
   "metadata": {},
   "source": [
    "## Import a conversation agent pipeline"
   ]
  },
  {
   "cell_type": "code",
   "execution_count": 4,
   "metadata": {},
   "outputs": [],
   "source": [
    "#from transformers import AutoModelForCausalLM, AutoTokenizer, AutoModel, AutoModelWithLMHead\n",
    "#import torch\n",
    "\n",
    "#tokenizer = AutoTokenizer.from_pretrained('microsoft/DialoGPT-medium')\n",
    "#model = AutoModelForCausalLM.from_pretrained('microsoft/DialoGPT-medium')\n",
    "\n",
    "#tokenizer = AutoTokenizer.from_pretrained('gpt2')\n",
    "#model = AutoModelForCausalLM.from_pretrained('gpt2')\n",
    "\n",
    "#tokenizer = AutoTokenizer.from_pretrained(\"manueltonneau/bert-base-cased-conversational-nli\")\n",
    "#model = AutoModel.from_pretrained(\"manueltonneau/bert-base-cased-conversational-nli\")\n",
    "\n",
    "#tokenizer = AutoTokenizer.from_pretrained(\"xlnet-large-cased\")\n",
    "#model = AutoModelForCausalLM.from_pretrained(\"xlnet-large-cased\")\n",
    "\n",
    "#tokenizer = AutoTokenizer.from_pretrained(\"t5-small\")\n",
    "\n",
    "#model = AutoModelWithLMHead.from_pretrained(\"t5-small\")\n",
    "\n",
    "#### Needed to suppress messages from DialgGPT\n",
    "#import os\n",
    "#os.environ[\"TOKENIZERS_PARALLELISM\"] = \"false\""
   ]
  },
  {
   "cell_type": "code",
   "execution_count": 5,
   "metadata": {},
   "outputs": [
    {
     "name": "stdout",
     "output_type": "stream",
     "text": [
      "[\"<s> That's unfortunate. Are they trying to lose weight or are they just trying to be healthier?</s>\"]\n"
     ]
    }
   ],
   "source": [
    "from transformers import BlenderbotTokenizer, BlenderbotForConditionalGeneration\n",
    "mname = 'facebook/blenderbot-400M-distill'\n",
    "model = BlenderbotForConditionalGeneration.from_pretrained(mname)\n",
    "tokenizer = BlenderbotTokenizer.from_pretrained(mname)"
   ]
  },
  {
   "cell_type": "code",
   "execution_count": 23,
   "metadata": {},
   "outputs": [
    {
     "name": "stdout",
     "output_type": "stream",
     "text": [
      "[\"<s> I'm not sure, but I do know that they have been around since the late 19th century.</s>\"]\n"
     ]
    }
   ],
   "source": [
    "UTTERANCE = \" I am curious. Has blenderbot live in location?\"\n",
    "inputs = tokenizer([UTTERANCE], return_tensors='pt')\n",
    "reply_ids = model.generate(**inputs)\n",
    "print(tokenizer.batch_decode(reply_ids))"
   ]
  },
  {
   "cell_type": "markdown",
   "metadata": {},
   "source": [
    "## Standard initialisation of a scenario\n",
    "\n",
    "We initialise a scenario in the standard way by creating a unique folder and setting the AGENT and HUMAN_NAME and HUMAN_ID variables. Throughout this scenario, the HUMAN_NAME and HUMAN_ID will be used as the source for the utterances."
   ]
  },
  {
   "cell_type": "code",
   "execution_count": 6,
   "metadata": {},
   "outputs": [
    {
     "name": "stdout",
     "output_type": "stream",
     "text": [
      "Directories for 2022-05-03-15_06_25 created in /Users/piek/PycharmProjects/cltl-chatbots/data\n"
     ]
    }
   ],
   "source": [
    "from random import getrandbits\n",
    "import requests\n",
    "##### Setting the location\n",
    "place_id = getrandbits(8)\n",
    "location = None\n",
    "try:\n",
    "    location = requests.get(\"https://ipinfo.io\").json()\n",
    "except:\n",
    "    print(\"failed to get the IP location\")\n",
    "    \n",
    "##### Setting the agents\n",
    "AGENT = \"Leolani\"\n",
    "HUMAN_NAME = \"BLENDERBOT\"\n",
    "HUMAN_ID = \"BLENDERBOT\"\n",
    "\n",
    "### The name of your scenario\n",
    "scenario_id = datetime.today().strftime(\"%Y-%m-%d-%H_%M_%S\")\n",
    "\n",
    "### Specify the path to an existing data folder where your scenario is created and saved as a subfolder\n",
    "# Find the repository root dir\n",
    "parent, dir_name = (d_util.__file__, \"_\")\n",
    "while dir_name and dir_name != \"src\":\n",
    "    parent, dir_name = os.path.split(parent)\n",
    "root_dir = parent\n",
    "scenario_path = os.path.abspath(os.path.join(root_dir, 'data'))\n",
    "\n",
    "if not os.path.exists(scenario_path) :\n",
    "    os.mkdir(scenario_path)\n",
    "    print(\"Created a data folder for storing the scenarios\", scenario_path)\n",
    "\n",
    "### Define the folders where the images and rdf triples are saved\n",
    "imagefolder = scenario_path + \"/\" + scenario_id + \"/\" + \"image\"\n",
    "rdffolder = scenario_path + \"/\" + scenario_id + \"/\" + \"rdf\"\n",
    "\n",
    "### Create the scenario folder, the json files and a scenarioStorage and scenario in memory\n",
    "scenarioStorage = d_util.create_scenario(scenario_path, scenario_id)\n",
    "scenario_ctrl = scenarioStorage.create_scenario(scenario_id, int(time.time() * 1e3), None, AGENT)"
   ]
  },
  {
   "cell_type": "markdown",
   "metadata": {},
   "source": [
    "## Specifying the BRAIN"
   ]
  },
  {
   "cell_type": "markdown",
   "metadata": {},
   "source": [
    "We specify the BRAIN in GraphDB and use the scenario path just defined for storing the RDF triple produced in EMISSOR.\n",
    "\n",
    "If you set *clear_all* to *True*, the sandbox triple store is emptied (memory erased) and the basic ontological models are reloaded. Setting it to *False* means you add things to the current memory."
   ]
  },
  {
   "cell_type": "code",
   "execution_count": 7,
   "metadata": {},
   "outputs": [
    {
     "name": "stdout",
     "output_type": "stream",
     "text": [
      "2022-05-03 15:06:25,718 -     INFO -    cltl.brain.basic_brain.LongTermMemory - Booted\n"
     ]
    },
    {
     "name": "stderr",
     "output_type": "stream",
     "text": [
      "2022-05-03 15:06:25 -     INFO -                        cltl.brain.basic_brain.LongTermMemory - Booted\n"
     ]
    },
    {
     "name": "stdout",
     "output_type": "stream",
     "text": [
      "2022-05-03 15:07:16,721 -     INFO -    cltl.brain.basic_brain.LongTermMemory - Uploading ontology to brain\n"
     ]
    },
    {
     "name": "stderr",
     "output_type": "stream",
     "text": [
      "2022-05-03 15:07:16 -     INFO -                        cltl.brain.basic_brain.LongTermMemory - Uploading ontology to brain\n"
     ]
    },
    {
     "name": "stdout",
     "output_type": "stream",
     "text": [
      "2022-05-03 15:07:17,933 -     INFO -  cltl.brain.basic_brain.ThoughtGenerator - Booted\n"
     ]
    },
    {
     "name": "stderr",
     "output_type": "stream",
     "text": [
      "2022-05-03 15:07:17 -     INFO -                      cltl.brain.basic_brain.ThoughtGenerator - Booted\n"
     ]
    },
    {
     "name": "stdout",
     "output_type": "stream",
     "text": [
      "2022-05-03 15:07:17,936 -     INFO -  cltl.brain.basic_brain.LocationReasoner - Booted\n"
     ]
    },
    {
     "name": "stderr",
     "output_type": "stream",
     "text": [
      "2022-05-03 15:07:17 -     INFO -                      cltl.brain.basic_brain.LocationReasoner - Booted\n"
     ]
    },
    {
     "name": "stdout",
     "output_type": "stream",
     "text": [
      "2022-05-03 15:07:17,939 -     INFO -      cltl.brain.basic_brain.TypeReasoner - Booted\n"
     ]
    },
    {
     "name": "stderr",
     "output_type": "stream",
     "text": [
      "2022-05-03 15:07:17 -     INFO -                          cltl.brain.basic_brain.TypeReasoner - Booted\n"
     ]
    },
    {
     "name": "stdout",
     "output_type": "stream",
     "text": [
      "2022-05-03 15:07:17,941 -     INFO -   cltl.brain.basic_brain.TrustCalculator - Booted\n"
     ]
    },
    {
     "name": "stderr",
     "output_type": "stream",
     "text": [
      "2022-05-03 15:07:17 -     INFO -                       cltl.brain.basic_brain.TrustCalculator - Booted\n"
     ]
    },
    {
     "name": "stdout",
     "output_type": "stream",
     "text": [
      "2022-05-03 15:07:18,067 -     INFO -   cltl.brain.basic_brain.TrustCalculator - Computed trust for all known agents\n"
     ]
    },
    {
     "name": "stderr",
     "output_type": "stream",
     "text": [
      "2022-05-03 15:07:18 -     INFO -                       cltl.brain.basic_brain.TrustCalculator - Computed trust for all known agents\n"
     ]
    }
   ],
   "source": [
    "log_path = pathlib.Path(rdffolder)\n",
    "my_brain = brain.LongTermMemory(address=\"http://localhost:7200/repositories/blender3\",\n",
    "                                log_dir=log_path,\n",
    "                                clear_all=True)"
   ]
  },
  {
   "cell_type": "markdown",
   "metadata": {},
   "source": [
    "## Create an instance of a replier"
   ]
  },
  {
   "cell_type": "code",
   "execution_count": 8,
   "metadata": {},
   "outputs": [
    {
     "name": "stdout",
     "output_type": "stream",
     "text": [
      "2022-05-03 15:07:18,071 -     INFO -   cltl.reply_generation.api.LenkaReplier - Booted\n"
     ]
    },
    {
     "name": "stderr",
     "output_type": "stream",
     "text": [
      "2022-05-03 15:07:18 -     INFO -                       cltl.reply_generation.api.LenkaReplier - Booted\n"
     ]
    }
   ],
   "source": [
    "replier = LenkaReplier()"
   ]
  },
  {
   "cell_type": "markdown",
   "metadata": {},
   "source": [
    "## Initialise a chat with the HUMAN_ID to keep track of the dialogue history"
   ]
  },
  {
   "cell_type": "code",
   "execution_count": 9,
   "metadata": {},
   "outputs": [
    {
     "name": "stderr",
     "output_type": "stream",
     "text": [
      "2022-05-03 15:07:18 -     INFO -                                  cltl.triple_extraction.Chat - << Start of Chat with BLENDERBOT >>\n"
     ]
    }
   ],
   "source": [
    "chat = Chat(HUMAN_ID)"
   ]
  },
  {
   "cell_type": "code",
   "execution_count": 10,
   "metadata": {},
   "outputs": [],
   "source": [
    "nlp = spacy.load(\"en_core_web_sm\")\n",
    "#nlp= spacy.load('en') # other languages: de, es, pt, fr, it, nl"
   ]
  },
  {
   "cell_type": "code",
   "execution_count": 18,
   "metadata": {},
   "outputs": [
    {
     "name": "stderr",
     "output_type": "stream",
     "text": [
      "2022-05-03 15:14:58 -     INFO -                                  cltl.triple_extraction.Chat - BLENDERBOT 043: \"I like dogs.\"\n",
      "2022-05-03 15:14:59 -     INFO -                           cltl.triple_extraction.CFGAnalyzer - Found 1 triples\n",
      "2022-05-03 15:14:59 -     INFO -              cltl.triple_extraction.GeneralStatementAnalyzer - Utterance type: \"STATEMENT\"\n",
      "2022-05-03 15:14:59 -     INFO -              cltl.triple_extraction.GeneralStatementAnalyzer - RDF triplet    subject: {\"label\": \"BLENDERBOT\", \"type\": [\"agent\"]}\n",
      "2022-05-03 15:14:59 -     INFO -              cltl.triple_extraction.GeneralStatementAnalyzer - RDF triplet  predicate: {\"label\": \"like\", \"type\": [\"emotion\"]}\n",
      "2022-05-03 15:14:59 -     INFO -              cltl.triple_extraction.GeneralStatementAnalyzer - RDF triplet     object: {\"label\": \"dogs.\", \"type\": [\"agent\"]}\n",
      "2022-05-03 15:14:59 -     INFO -              cltl.triple_extraction.GeneralStatementAnalyzer - Perspective  certainty: POSSIBLE\n",
      "2022-05-03 15:14:59 -     INFO -              cltl.triple_extraction.GeneralStatementAnalyzer - Perspective   polarity: POSITIVE\n",
      "2022-05-03 15:14:59 -     INFO -              cltl.triple_extraction.GeneralStatementAnalyzer - Perspective  sentiment: NEUTRAL\n",
      "2022-05-03 15:14:59 -     INFO -              cltl.triple_extraction.GeneralStatementAnalyzer - Perspective    emotion: UNDERSPECIFIED\n"
     ]
    },
    {
     "name": "stdout",
     "output_type": "stream",
     "text": [
      "BLENDERBOT 043: \"I like dogs.\" [{'object': {'label': 'dogs.', 'type': ['agent']}, 'perspective': {'sentiment': 0.75, 'certainty': 1.0, 'polarity': 1.0, 'emotion': 0.0}, 'predicate': {'label': 'like', 'type': ['emotion']}, 'subject': {'label': 'BLENDERBOT', 'type': ['agent']}, 'utterance_type': 'STATEMENT'}]\n"
     ]
    }
   ],
   "source": [
    "from cltl.triple_extraction.cfg_analyzer import CFGAnalyzer\n",
    "analyzer = CFGAnalyzer()"
   ]
  },
  {
   "cell_type": "code",
   "execution_count": null,
   "metadata": {},
   "outputs": [],
   "source": [
    "#CFG test\n",
    "item = {'utterance': \"I like dogs.\"}\n",
    "chat.add_utterance(item['utterance'])\n",
    "analyzer.analyze(chat.last_utterance)\n",
    "print(chat.last_utterance, chat.last_utterance.triples)"
   ]
  },
  {
   "cell_type": "markdown",
   "metadata": {
    "tags": []
   },
   "source": [
    "## Start the interaction"
   ]
  },
  {
   "cell_type": "code",
   "execution_count": 32,
   "metadata": {},
   "outputs": [],
   "source": [
    "context_size = 5\n",
    "def get_answer_from_blender(leolani_prompt:str, history_list:[]):\n",
    "    answer = \"\"\n",
    "    sentences = []\n",
    "    history = \"\"\n",
    "    for i, his in enumerate(history):\n",
    "        if i==context_size:\n",
    "            break\n",
    "        history += his +\". \"\n",
    "    input_prompt = history+leolani_prompt\n",
    "    print('input_prompt:',input_prompt)\n",
    "    bot_input_ids = tokenizer(input_prompt, return_tensors='pt')\n",
    "    chat_history_ids = model.generate(**bot_input_ids)\n",
    "    utteranceList = tokenizer.batch_decode(chat_history_ids)\n",
    "    print('utteranceList:', utteranceList)\n",
    "    answer = utteranceList[0].strip('</s>')\n",
    "    print(\"ANSWER\", answer)\n",
    "    doc = nlp(answer)\n",
    "    for s in doc.sents:\n",
    "        sentence = \"\"\n",
    "        for token in s:\n",
    "            if token.text==',':\n",
    "                sentences.append(sentence) \n",
    "            else:\n",
    "                sentence += token.text+\" \"\n",
    "        sentences.append(sentence) \n",
    "    return sentences"
   ]
  },
  {
   "cell_type": "code",
   "execution_count": 33,
   "metadata": {},
   "outputs": [],
   "source": [
    "def process_text_with_cfg_and_reply(scenario: Scenario,\n",
    "                           place_id: str,\n",
    "                           location: str,\n",
    "                           human_id: str,\n",
    "                           textSignal: TextSignal,\n",
    "                           chat: Chat,\n",
    "                           analyzer: CFGAnalyzer,\n",
    "                           replier: LenkaReplier,\n",
    "                           my_brain: LongTermMemory,\n",
    "                           print_details:False):\n",
    "    reply_list = []\n",
    "    capsule = None\n",
    "    response = None\n",
    "    response_json = None\n",
    "    response_list = []\n",
    "    ### Next, we get all possible triples\n",
    "    chat.add_utterance(c_util.seq_to_text(textSignal.seq))\n",
    "\n",
    "    analyzer.analyze(chat.last_utterance)\n",
    "\n",
    "    if print_details:\n",
    "        print('Last utterance:', c_util.seq_to_text(textSignal.seq))\n",
    "        print('CFG Tripels:', chat.last_utterance.triples)\n",
    "\n",
    "\n",
    "    for extracted_triple in chat.last_utterance.triples:\n",
    "        print(extracted_triple['utterance_type'], extracted_triple)\n",
    "        capsule = c_util.scenario_utterance_to_capsule(scenario,place_id,location, textSignal,human_id, extracted_triple)\n",
    "\n",
    "        if extracted_triple['utterance_type'] == UtteranceType.QUESTION:\n",
    "            capsule = c_util.lowcase_triple_json_for_query(capsule)\n",
    "            try:\n",
    "                response = my_brain.query_brain(capsule)\n",
    "                response_json = brain_response_to_json(response)\n",
    "                reply = replier.reply_to_question(response_json)\n",
    "                response_list.append(response_json)\n",
    "                reply_list.append(reply)\n",
    "            except:\n",
    "                print('Error:', response)\n",
    "        elif  extracted_triple['utterance_type'] == UtteranceType.STATEMENT:\n",
    "            try:\n",
    "                response = my_brain.update(capsule, reason_types=False, create_label=True)\n",
    "                response_json = brain_response_to_json(response)\n",
    "                reply = replier.reply_to_statement(response_json, proactive=True, persist=True)\n",
    "                response_list.append(response_json)\n",
    "                reply_list.append(reply)\n",
    "            except:\n",
    "                print('Error:', response)\n",
    "\n",
    "    return reply_list, response_list"
   ]
  },
  {
   "cell_type": "code",
   "execution_count": 34,
   "metadata": {},
   "outputs": [],
   "source": [
    "\n",
    "def process_triple_spacy_and_reply(scenario: Scenario,\n",
    "                           place_id: str,\n",
    "                           location: str,\n",
    "                           speaker: str,\n",
    "                           hearer:str,\n",
    "                           textSignal: TextSignal,\n",
    "                           replier: LenkaReplier,\n",
    "                           my_brain: LongTermMemory,\n",
    "                           nlp,\n",
    "                           print_details:False):\n",
    "    reply_list = []\n",
    "    response_list = []\n",
    "    response = None\n",
    "    triples = t_util.get_subj_amod_triples_with_spacy(textSignal, nlp, speaker, hearer)\n",
    "    triples.extend(t_util.get_subj_obj_triples_with_spacy(textSignal, nlp, speaker, hearer))\n",
    "    if print_details:\n",
    "        print('spacy Triples', triples)\n",
    "\n",
    "    for triple in triples:\n",
    "        capsule = c_util.scenario_pred_to_capsule(scenario,\n",
    "                                                          place_id,\n",
    "                                                          location,\n",
    "                                                          textSignal,\n",
    "                                                          speaker,\n",
    "                                                          triple[1],\n",
    "                                                          triple[0],\n",
    "                                                          triple[2])\n",
    "        if print_details:\n",
    "            print('Triple spacy Capsule:')\n",
    "            pprint.pprint(capsule)\n",
    "\n",
    "        try:\n",
    "            response = my_brain.update(capsule, reason_types=False, create_label=True)\n",
    "            response_json = brain_response_to_json(response)\n",
    "            reply = replier.reply_to_statement(response_json, proactive=True, persist=True)\n",
    "            response_list.append(response_json)\n",
    "            reply_list.append(reply)\n",
    "            if print_details:\n",
    "                print('Triple spacy reply', reply)\n",
    "\n",
    "        except:\n",
    "            print('Error:', response)\n",
    "\n",
    "    return reply_list, response_list"
   ]
  },
  {
   "cell_type": "code",
   "execution_count": 35,
   "metadata": {},
   "outputs": [
    {
     "name": "stdout",
     "output_type": "stream",
     "text": [
      "\n",
      "\tLeolani: Would you like to chat? I'll do my best to keep up\n",
      "input_prompt: Would you like to chat? I'll do my best to keep up\n"
     ]
    },
    {
     "name": "stderr",
     "output_type": "stream",
     "text": [
      "2022-05-03 15:33:02 -     INFO -                                  cltl.triple_extraction.Chat - BLENDERBOT 104: \"Sure\"\n"
     ]
    },
    {
     "name": "stdout",
     "output_type": "stream",
     "text": [
      "utteranceList: [\"<s> Sure, what do you do for a living? I'm an accountant, what about you?</s>\"]\n",
      "ANSWER  Sure, what do you do for a living? I'm an accountant, what about you?\n"
     ]
    },
    {
     "name": "stderr",
     "output_type": "stream",
     "text": [
      "2022-05-03 15:33:03 -  WARNING -                           cltl.triple_extraction.CFGAnalyzer - Couldn't parse input\n",
      "2022-05-03 15:33:03 -     INFO -                                  cltl.triple_extraction.Chat - BLENDERBOT 105: \"Sure what do you do for a living?\"\n"
     ]
    },
    {
     "name": "stdout",
     "output_type": "stream",
     "text": [
      "Last utterance: Sure\n",
      "CFG Tripels: []\n",
      "spacy Triples []\n",
      "\n",
      "\tAlso spaCy could not get that\n",
      "\n",
      "\tLeolani: \n",
      "\n",
      "\tFixed question BLENDERBOT: Sure what do you do for a living?\n"
     ]
    },
    {
     "name": "stderr",
     "output_type": "stream",
     "text": [
      "2022-05-03 15:33:04 -  WARNING -                           cltl.triple_extraction.CFGAnalyzer - Couldn't parse input\n",
      "2022-05-03 15:33:04 -     INFO -                                  cltl.triple_extraction.Chat - BLENDERBOT 106: \"I 'm an accountant\"\n"
     ]
    },
    {
     "name": "stdout",
     "output_type": "stream",
     "text": [
      "Last utterance: Sure what do you do for a living?\n",
      "CFG Tripels: []\n",
      "spacy Triples []\n",
      "\n",
      "\tAlso spaCy could not get that\n",
      "\n",
      "\tLeolani: \n"
     ]
    },
    {
     "name": "stderr",
     "output_type": "stream",
     "text": [
      "2022-05-03 15:33:05 -  WARNING -                           cltl.triple_extraction.CFGAnalyzer - Couldn't parse input\n",
      "2022-05-03 15:33:05 -     INFO -                                  cltl.triple_extraction.Chat - BLENDERBOT 107: \"I 'm an accountant what about you?\"\n"
     ]
    },
    {
     "name": "stdout",
     "output_type": "stream",
     "text": [
      "Last utterance: I 'm an accountant\n",
      "CFG Tripels: []\n",
      "spacy Triples []\n",
      "\n",
      "\tAlso spaCy could not get that\n",
      "\n",
      "\tLeolani: \n",
      "\n",
      "\tFixed question BLENDERBOT: I 'm an accountant what about you?\n"
     ]
    },
    {
     "name": "stderr",
     "output_type": "stream",
     "text": [
      "2022-05-03 15:33:06 -  WARNING -                           cltl.triple_extraction.CFGAnalyzer - Couldn't parse input\n"
     ]
    },
    {
     "name": "stdout",
     "output_type": "stream",
     "text": [
      "Last utterance: I 'm an accountant what about you?\n",
      "CFG Tripels: []\n",
      "spacy Triples []\n",
      "\n",
      "\tAlso spaCy could not get that\n",
      "\n",
      "\tLeolani: \n",
      "input_prompt: \n"
     ]
    },
    {
     "name": "stderr",
     "output_type": "stream",
     "text": [
      "2022-05-03 15:33:09 -     INFO -                                  cltl.triple_extraction.Chat - BLENDERBOT 108: \"Do you have any pets?\"\n"
     ]
    },
    {
     "name": "stdout",
     "output_type": "stream",
     "text": [
      "utteranceList: [\"<s><s> Do you have any pets? I have a dog and he's my best friend.</s>\"]\n",
      "ANSWER  Do you have any pets? I have a dog and he's my best friend.\n",
      "\n",
      "\tFixed question BLENDERBOT: Do you have any pets?\n"
     ]
    },
    {
     "name": "stderr",
     "output_type": "stream",
     "text": [
      "2022-05-03 15:33:10 -  WARNING -                           cltl.triple_extraction.CFGAnalyzer - Couldn't parse input\n"
     ]
    },
    {
     "name": "stdout",
     "output_type": "stream",
     "text": [
      "Last utterance: Do you have any pets?\n",
      "CFG Tripels: []\n",
      "spacy Triples [('have', 'Leolani', 'pet')]\n",
      "Triple spacy Capsule:\n",
      "{'author': 'BLENDERBOT',\n",
      " 'chat': '2022-05-03-15_06_25',\n",
      " 'city': 'Amsterdam',\n",
      " 'context_id': 'Leolani',\n",
      " 'country': 'NL',\n",
      " 'date': datetime.date(2022, 5, 3),\n",
      " 'object': {'label': 'pet', 'type': ''},\n",
      " 'objects': [],\n",
      " 'people': [],\n",
      " 'place': 'Amsterdam',\n",
      " 'place_id': 117,\n",
      " 'position': 'image',\n",
      " 'predicate': {'label': 'have'},\n",
      " 'region': 'North Holland',\n",
      " 'subject': {'label': 'Leolani', 'type': ''},\n",
      " 'turn': '79e2e900-7253-434a-a2a0-578711d59218',\n",
      " 'utterance': ''}\n",
      "2022-05-03 15:33:10,355 -     INFO -    cltl.brain.basic_brain.LongTermMemory - Triple in statement: leolani_have_pet [_->_])\n"
     ]
    },
    {
     "name": "stderr",
     "output_type": "stream",
     "text": [
      "2022-05-03 15:33:10 -     INFO -                        cltl.brain.basic_brain.LongTermMemory - Triple in statement: leolani_have_pet [_->_])\n"
     ]
    },
    {
     "name": "stdout",
     "output_type": "stream",
     "text": [
      "2022-05-03 15:33:10,362 -     INFO -  cltl.brain.basic_brain.ThoughtGenerator - Statement Novelty: 1 times, e.g. blenderbot on May,2022\n"
     ]
    },
    {
     "name": "stderr",
     "output_type": "stream",
     "text": [
      "2022-05-03 15:33:10 -     INFO -                      cltl.brain.basic_brain.ThoughtGenerator - Statement Novelty: 1 times, e.g. blenderbot on May,2022\n"
     ]
    },
    {
     "name": "stdout",
     "output_type": "stream",
     "text": [
      "2022-05-03 15:33:15,218 -     INFO -  cltl.brain.basic_brain.ThoughtGenerator - Negation Conflicts: blenderbot on May,2022 about UNDERSPECIFIED\n"
     ]
    },
    {
     "name": "stderr",
     "output_type": "stream",
     "text": [
      "2022-05-03 15:33:15 -     INFO -                      cltl.brain.basic_brain.ThoughtGenerator - Negation Conflicts: blenderbot on May,2022 about UNDERSPECIFIED\n"
     ]
    },
    {
     "name": "stdout",
     "output_type": "stream",
     "text": [
      "2022-05-03 15:33:15,250 -     INFO -  cltl.brain.basic_brain.ThoughtGenerator - Gaps: 22 gaps as subject: e.g. dislike interest - 10 gaps as object: e.g. like-by agent\n"
     ]
    },
    {
     "name": "stderr",
     "output_type": "stream",
     "text": [
      "2022-05-03 15:33:15 -     INFO -                      cltl.brain.basic_brain.ThoughtGenerator - Gaps: 22 gaps as subject: e.g. dislike interest - 10 gaps as object: e.g. like-by agent\n",
      "2022-05-03 15:33:15 -     INFO -                                  cltl.triple_extraction.Chat - BLENDERBOT 109: \"I have a dog and he 's my best friend.\"\n"
     ]
    },
    {
     "name": "stdout",
     "output_type": "stream",
     "text": [
      "Triple spacy reply I am curious. What types can leolani have\n",
      "\n",
      "\tLeolani: I am curious. What types can leolani have . \n",
      "\n",
      "\tFixed period BLENDERBOT: I have a dog and he 's my best friend.\n"
     ]
    },
    {
     "name": "stderr",
     "output_type": "stream",
     "text": [
      "2022-05-03 15:33:16 -  WARNING -                           cltl.triple_extraction.CFGAnalyzer - Couldn't parse input\n"
     ]
    },
    {
     "name": "stdout",
     "output_type": "stream",
     "text": [
      "Last utterance: I have a dog and he 's my best friend.\n",
      "CFG Tripels: []\n",
      "spacy Triples [('have', 'BLENDERBOT', 'dog')]\n",
      "Triple spacy Capsule:\n",
      "{'author': 'BLENDERBOT',\n",
      " 'chat': '2022-05-03-15_06_25',\n",
      " 'city': 'Amsterdam',\n",
      " 'context_id': 'Leolani',\n",
      " 'country': 'NL',\n",
      " 'date': datetime.date(2022, 5, 3),\n",
      " 'object': {'label': 'dog', 'type': ''},\n",
      " 'objects': [],\n",
      " 'people': [],\n",
      " 'place': 'Amsterdam',\n",
      " 'place_id': 117,\n",
      " 'position': 'image',\n",
      " 'predicate': {'label': 'have'},\n",
      " 'region': 'North Holland',\n",
      " 'subject': {'label': 'BLENDERBOT', 'type': ''},\n",
      " 'turn': 'f1d6a00a-3b8a-4bc7-a68b-aa5714c7a852',\n",
      " 'utterance': ''}\n",
      "2022-05-03 15:33:16,219 -     INFO -    cltl.brain.basic_brain.LongTermMemory - Triple in statement: blenderbot_have_dog [_->_])\n"
     ]
    },
    {
     "name": "stderr",
     "output_type": "stream",
     "text": [
      "2022-05-03 15:33:16 -     INFO -                        cltl.brain.basic_brain.LongTermMemory - Triple in statement: blenderbot_have_dog [_->_])\n"
     ]
    },
    {
     "name": "stdout",
     "output_type": "stream",
     "text": [
      "2022-05-03 15:33:16,245 -     INFO -  cltl.brain.basic_brain.ThoughtGenerator - Statement Novelty: 1 times, e.g. blenderbot on May,2022\n"
     ]
    },
    {
     "name": "stderr",
     "output_type": "stream",
     "text": [
      "2022-05-03 15:33:16 -     INFO -                      cltl.brain.basic_brain.ThoughtGenerator - Statement Novelty: 1 times, e.g. blenderbot on May,2022\n"
     ]
    },
    {
     "name": "stdout",
     "output_type": "stream",
     "text": [
      "2022-05-03 15:33:20,956 -     INFO -  cltl.brain.basic_brain.ThoughtGenerator - Negation Conflicts: blenderbot on May,2022 about UNDERSPECIFIED\n"
     ]
    },
    {
     "name": "stderr",
     "output_type": "stream",
     "text": [
      "2022-05-03 15:33:20 -     INFO -                      cltl.brain.basic_brain.ThoughtGenerator - Negation Conflicts: blenderbot on May,2022 about UNDERSPECIFIED\n"
     ]
    },
    {
     "name": "stdout",
     "output_type": "stream",
     "text": [
      "2022-05-03 15:33:20,970 -     INFO -  cltl.brain.basic_brain.ThoughtGenerator - Gaps: 26 gaps as subject: e.g. be-member-of institution - 15 gaps as object: e.g. be-friends-with person\n"
     ]
    },
    {
     "name": "stderr",
     "output_type": "stream",
     "text": [
      "2022-05-03 15:33:20 -     INFO -                      cltl.brain.basic_brain.ThoughtGenerator - Gaps: 26 gaps as subject: e.g. be-member-of institution - 15 gaps as object: e.g. be-friends-with person\n"
     ]
    },
    {
     "name": "stdout",
     "output_type": "stream",
     "text": [
      "Triple spacy reply I am curious. What types of Instance like dog do Instance usually have\n",
      "\n",
      "\tLeolani: I am curious. What types can leolani have . I am curious. What types of Instance like dog do Instance usually have . \n",
      "input_prompt: I am curious. What types can leolani have . I am curious. What types of Instance like dog do Instance usually have . \n"
     ]
    },
    {
     "name": "stderr",
     "output_type": "stream",
     "text": [
      "2022-05-03 15:33:26 -     INFO -                                  cltl.triple_extraction.Chat - BLENDERBOT 110: \"I 'm not sure what type of instances they have\"\n"
     ]
    },
    {
     "name": "stdout",
     "output_type": "stream",
     "text": [
      "utteranceList: [\"<s> I'm not sure what type of instances they have, but I know they can be trained to do a variety of things.</s>\"]\n",
      "ANSWER  I'm not sure what type of instances they have, but I know they can be trained to do a variety of things.\n"
     ]
    },
    {
     "name": "stderr",
     "output_type": "stream",
     "text": [
      "2022-05-03 15:33:26 -  WARNING -                           cltl.triple_extraction.CFGAnalyzer - Couldn't parse input\n",
      "2022-05-03 15:33:26 -     INFO -                                  cltl.triple_extraction.Chat - BLENDERBOT 111: \"I 'm not sure what type of instances they have but I know they can be trained to do a variety of things.\"\n"
     ]
    },
    {
     "name": "stdout",
     "output_type": "stream",
     "text": [
      "Last utterance: I 'm not sure what type of instances they have\n",
      "CFG Tripels: []\n",
      "spacy Triples []\n",
      "\n",
      "\tAlso spaCy could not get that\n",
      "\n",
      "\tLeolani: \n",
      "\n",
      "\tFixed period BLENDERBOT: I 'm not sure what type of instances they have but I know they can be trained to do a variety of things.\n"
     ]
    },
    {
     "name": "stderr",
     "output_type": "stream",
     "text": [
      "2022-05-03 15:33:27 -  WARNING -                           cltl.triple_extraction.CFGAnalyzer - Couldn't parse input\n"
     ]
    },
    {
     "name": "stdout",
     "output_type": "stream",
     "text": [
      "Last utterance: I 'm not sure what type of instances they have but I know they can be trained to do a variety of things.\n",
      "CFG Tripels: []\n",
      "spacy Triples []\n",
      "\n",
      "\tAlso spaCy could not get that\n",
      "\n",
      "\tLeolani: \n",
      "input_prompt: \n"
     ]
    },
    {
     "name": "stderr",
     "output_type": "stream",
     "text": [
      "2022-05-03 15:33:31 -     INFO -                                  cltl.triple_extraction.Chat - BLENDERBOT 112: \"Do you have any pets?\"\n"
     ]
    },
    {
     "name": "stdout",
     "output_type": "stream",
     "text": [
      "utteranceList: [\"<s><s> Do you have any pets? I have a dog and he's my best friend.</s>\"]\n",
      "ANSWER  Do you have any pets? I have a dog and he's my best friend.\n",
      "Repeating   Do you have any pets ? \n",
      "\n",
      "\tFixed question BLENDERBOT: Do you have any pets?\n"
     ]
    },
    {
     "name": "stderr",
     "output_type": "stream",
     "text": [
      "2022-05-03 15:33:32 -  WARNING -                           cltl.triple_extraction.CFGAnalyzer - Couldn't parse input\n"
     ]
    },
    {
     "name": "stdout",
     "output_type": "stream",
     "text": [
      "Last utterance: Do you have any pets?\n",
      "CFG Tripels: []\n",
      "spacy Triples [('have', 'Leolani', 'pet')]\n",
      "Triple spacy Capsule:\n",
      "{'author': 'BLENDERBOT',\n",
      " 'chat': '2022-05-03-15_06_25',\n",
      " 'city': 'Amsterdam',\n",
      " 'context_id': 'Leolani',\n",
      " 'country': 'NL',\n",
      " 'date': datetime.date(2022, 5, 3),\n",
      " 'object': {'label': 'pet', 'type': ''},\n",
      " 'objects': [],\n",
      " 'people': [],\n",
      " 'place': 'Amsterdam',\n",
      " 'place_id': 117,\n",
      " 'position': 'image',\n",
      " 'predicate': {'label': 'have'},\n",
      " 'region': 'North Holland',\n",
      " 'subject': {'label': 'Leolani', 'type': ''},\n",
      " 'turn': 'e1a271ee-b5f3-4acf-8600-728bf2f99aff',\n",
      " 'utterance': ''}\n",
      "2022-05-03 15:33:32,112 -     INFO -    cltl.brain.basic_brain.LongTermMemory - Triple in statement: leolani_have_pet [_->_])\n"
     ]
    },
    {
     "name": "stderr",
     "output_type": "stream",
     "text": [
      "2022-05-03 15:33:32 -     INFO -                        cltl.brain.basic_brain.LongTermMemory - Triple in statement: leolani_have_pet [_->_])\n"
     ]
    },
    {
     "name": "stdout",
     "output_type": "stream",
     "text": [
      "2022-05-03 15:33:32,119 -     INFO -  cltl.brain.basic_brain.ThoughtGenerator - Statement Novelty: 1 times, e.g. blenderbot on May,2022\n"
     ]
    },
    {
     "name": "stderr",
     "output_type": "stream",
     "text": [
      "2022-05-03 15:33:32 -     INFO -                      cltl.brain.basic_brain.ThoughtGenerator - Statement Novelty: 1 times, e.g. blenderbot on May,2022\n"
     ]
    },
    {
     "name": "stdout",
     "output_type": "stream",
     "text": [
      "2022-05-03 15:33:38,700 -     INFO -  cltl.brain.basic_brain.ThoughtGenerator - Negation Conflicts: blenderbot on May,2022 about UNDERSPECIFIED\n"
     ]
    },
    {
     "name": "stderr",
     "output_type": "stream",
     "text": [
      "2022-05-03 15:33:38 -     INFO -                      cltl.brain.basic_brain.ThoughtGenerator - Negation Conflicts: blenderbot on May,2022 about UNDERSPECIFIED\n"
     ]
    },
    {
     "name": "stdout",
     "output_type": "stream",
     "text": [
      "2022-05-03 15:33:38,716 -     INFO -  cltl.brain.basic_brain.ThoughtGenerator - Gaps: 22 gaps as subject: e.g. work-at institution - 10 gaps as object: e.g. like-by agent\n"
     ]
    },
    {
     "name": "stderr",
     "output_type": "stream",
     "text": [
      "2022-05-03 15:33:38 -     INFO -                      cltl.brain.basic_brain.ThoughtGenerator - Gaps: 22 gaps as subject: e.g. work-at institution - 10 gaps as object: e.g. like-by agent\n",
      "2022-05-03 15:33:38 -     INFO -                                  cltl.triple_extraction.Chat - BLENDERBOT 113: \"I have a dog and he 's my best friend.\"\n"
     ]
    },
    {
     "name": "stdout",
     "output_type": "stream",
     "text": [
      "Triple spacy reply I have heard this before. blenderbot told me about it in 2022 05 03T00:00:00\n",
      "\n",
      "\tLeolani: I have heard this before. blenderbot told me about it in 2022 05 03T00:00:00 . \n",
      "Repeating I have a dog and he 's my best friend . \n",
      "\n",
      "\tFixed period BLENDERBOT: I have a dog and he 's my best friend.\n"
     ]
    },
    {
     "name": "stderr",
     "output_type": "stream",
     "text": [
      "2022-05-03 15:33:39 -  WARNING -                           cltl.triple_extraction.CFGAnalyzer - Couldn't parse input\n"
     ]
    },
    {
     "name": "stdout",
     "output_type": "stream",
     "text": [
      "Last utterance: I have a dog and he 's my best friend.\n",
      "CFG Tripels: []\n",
      "spacy Triples [('have', 'BLENDERBOT', 'dog')]\n",
      "Triple spacy Capsule:\n",
      "{'author': 'BLENDERBOT',\n",
      " 'chat': '2022-05-03-15_06_25',\n",
      " 'city': 'Amsterdam',\n",
      " 'context_id': 'Leolani',\n",
      " 'country': 'NL',\n",
      " 'date': datetime.date(2022, 5, 3),\n",
      " 'object': {'label': 'dog', 'type': ''},\n",
      " 'objects': [],\n",
      " 'people': [],\n",
      " 'place': 'Amsterdam',\n",
      " 'place_id': 117,\n",
      " 'position': 'image',\n",
      " 'predicate': {'label': 'have'},\n",
      " 'region': 'North Holland',\n",
      " 'subject': {'label': 'BLENDERBOT', 'type': ''},\n",
      " 'turn': '08eb9108-150c-4a3a-8dc8-18a0e9916eca',\n",
      " 'utterance': ''}\n",
      "2022-05-03 15:33:39,815 -     INFO -    cltl.brain.basic_brain.LongTermMemory - Triple in statement: blenderbot_have_dog [_->_])\n"
     ]
    },
    {
     "name": "stderr",
     "output_type": "stream",
     "text": [
      "2022-05-03 15:33:39 -     INFO -                        cltl.brain.basic_brain.LongTermMemory - Triple in statement: blenderbot_have_dog [_->_])\n"
     ]
    },
    {
     "name": "stdout",
     "output_type": "stream",
     "text": [
      "2022-05-03 15:33:39,853 -     INFO -  cltl.brain.basic_brain.ThoughtGenerator - Statement Novelty: 1 times, e.g. blenderbot on May,2022\n"
     ]
    },
    {
     "name": "stderr",
     "output_type": "stream",
     "text": [
      "2022-05-03 15:33:39 -     INFO -                      cltl.brain.basic_brain.ThoughtGenerator - Statement Novelty: 1 times, e.g. blenderbot on May,2022\n"
     ]
    },
    {
     "name": "stdout",
     "output_type": "stream",
     "text": [
      "2022-05-03 15:33:46,806 -     INFO -  cltl.brain.basic_brain.ThoughtGenerator - Negation Conflicts: blenderbot on May,2022 about UNDERSPECIFIED\n"
     ]
    },
    {
     "name": "stderr",
     "output_type": "stream",
     "text": [
      "2022-05-03 15:33:46 -     INFO -                      cltl.brain.basic_brain.ThoughtGenerator - Negation Conflicts: blenderbot on May,2022 about UNDERSPECIFIED\n"
     ]
    },
    {
     "name": "stdout",
     "output_type": "stream",
     "text": [
      "2022-05-03 15:33:46,873 -     INFO -  cltl.brain.basic_brain.ThoughtGenerator - Gaps: 26 gaps as subject: e.g. born-in location - 15 gaps as object: e.g. be-friends-with person\n"
     ]
    },
    {
     "name": "stderr",
     "output_type": "stream",
     "text": [
      "2022-05-03 15:33:46 -     INFO -                      cltl.brain.basic_brain.ThoughtGenerator - Gaps: 26 gaps as subject: e.g. born-in location - 15 gaps as object: e.g. be-friends-with person\n"
     ]
    },
    {
     "name": "stdout",
     "output_type": "stream",
     "text": [
      "Triple spacy reply Exciting news! I am excited to get to know about you!\n",
      "\n",
      "\tLeolani: I have heard this before. blenderbot told me about it in 2022 05 03T00:00:00 . Exciting news! I am excited to get to know about you! . \n",
      "input_prompt: I have heard this before. blenderbot told me about it in 2022 05 03T00:00:00 . Exciting news! I am excited to get to know about you! . \n"
     ]
    },
    {
     "name": "stderr",
     "output_type": "stream",
     "text": [
      "2022-05-03 15:33:52 -     INFO -                                  cltl.triple_extraction.Chat - BLENDERBOT 114: \"I 'm excited for you too !\"\n"
     ]
    },
    {
     "name": "stdout",
     "output_type": "stream",
     "text": [
      "utteranceList: [\"<s> I'm excited for you too! It's going to be a lot of work, but I think it will be worth it.</s>\"]\n",
      "ANSWER  I'm excited for you too! It's going to be a lot of work, but I think it will be worth it.\n"
     ]
    },
    {
     "name": "stderr",
     "output_type": "stream",
     "text": [
      "2022-05-03 15:33:53 -  WARNING -                           cltl.triple_extraction.CFGAnalyzer - Couldn't parse input\n",
      "2022-05-03 15:33:53 -     INFO -                                  cltl.triple_extraction.Chat - BLENDERBOT 115: \"It 's going to be a lot of work\"\n"
     ]
    },
    {
     "name": "stdout",
     "output_type": "stream",
     "text": [
      "Last utterance: I 'm excited for you too !\n",
      "CFG Tripels: []\n",
      "spacy Triples []\n",
      "\n",
      "\tAlso spaCy could not get that\n",
      "\n",
      "\tLeolani: \n"
     ]
    },
    {
     "name": "stderr",
     "output_type": "stream",
     "text": [
      "2022-05-03 15:33:54 -  WARNING -                           cltl.triple_extraction.CFGAnalyzer - Couldn't parse input\n",
      "2022-05-03 15:33:54 -     INFO -                                  cltl.triple_extraction.Chat - BLENDERBOT 116: \"It 's going to be a lot of work but I think it will be worth it.\"\n"
     ]
    },
    {
     "name": "stdout",
     "output_type": "stream",
     "text": [
      "Last utterance: It 's going to be a lot of work\n",
      "CFG Tripels: []\n",
      "spacy Triples []\n",
      "\n",
      "\tAlso spaCy could not get that\n",
      "\n",
      "\tLeolani: \n",
      "\n",
      "\tFixed period BLENDERBOT: It 's going to be a lot of work but I think it will be worth it.\n"
     ]
    },
    {
     "name": "stderr",
     "output_type": "stream",
     "text": [
      "2022-05-03 15:33:55 -  WARNING -                           cltl.triple_extraction.CFGAnalyzer - Couldn't parse input\n"
     ]
    },
    {
     "name": "stdout",
     "output_type": "stream",
     "text": [
      "Last utterance: It 's going to be a lot of work but I think it will be worth it.\n",
      "CFG Tripels: []\n",
      "spacy Triples []\n",
      "\n",
      "\tAlso spaCy could not get that\n",
      "\n",
      "\tLeolani: \n",
      "input_prompt: \n"
     ]
    },
    {
     "name": "stderr",
     "output_type": "stream",
     "text": [
      "2022-05-03 15:33:58 -     INFO -                                  cltl.triple_extraction.Chat - BLENDERBOT 117: \"Do you have any pets?\"\n"
     ]
    },
    {
     "name": "stdout",
     "output_type": "stream",
     "text": [
      "utteranceList: [\"<s><s> Do you have any pets? I have a dog and he's my best friend.</s>\"]\n",
      "ANSWER  Do you have any pets? I have a dog and he's my best friend.\n",
      "Repeating   Do you have any pets ? \n",
      "\n",
      "\tFixed question BLENDERBOT: Do you have any pets?\n"
     ]
    },
    {
     "name": "stderr",
     "output_type": "stream",
     "text": [
      "2022-05-03 15:33:59 -  WARNING -                           cltl.triple_extraction.CFGAnalyzer - Couldn't parse input\n"
     ]
    },
    {
     "name": "stdout",
     "output_type": "stream",
     "text": [
      "Last utterance: Do you have any pets?\n",
      "CFG Tripels: []\n",
      "spacy Triples [('have', 'Leolani', 'pet')]\n",
      "Triple spacy Capsule:\n",
      "{'author': 'BLENDERBOT',\n",
      " 'chat': '2022-05-03-15_06_25',\n",
      " 'city': 'Amsterdam',\n",
      " 'context_id': 'Leolani',\n",
      " 'country': 'NL',\n",
      " 'date': datetime.date(2022, 5, 3),\n",
      " 'object': {'label': 'pet', 'type': ''},\n",
      " 'objects': [],\n",
      " 'people': [],\n",
      " 'place': 'Amsterdam',\n",
      " 'place_id': 117,\n",
      " 'position': 'image',\n",
      " 'predicate': {'label': 'have'},\n",
      " 'region': 'North Holland',\n",
      " 'subject': {'label': 'Leolani', 'type': ''},\n",
      " 'turn': '0afe3fbb-a447-476b-9684-0ddcbc34b974',\n",
      " 'utterance': ''}\n",
      "2022-05-03 15:33:59,622 -     INFO -    cltl.brain.basic_brain.LongTermMemory - Triple in statement: leolani_have_pet [_->_])\n"
     ]
    },
    {
     "name": "stderr",
     "output_type": "stream",
     "text": [
      "2022-05-03 15:33:59 -     INFO -                        cltl.brain.basic_brain.LongTermMemory - Triple in statement: leolani_have_pet [_->_])\n"
     ]
    },
    {
     "name": "stdout",
     "output_type": "stream",
     "text": [
      "2022-05-03 15:33:59,659 -     INFO -  cltl.brain.basic_brain.ThoughtGenerator - Statement Novelty: 1 times, e.g. blenderbot on May,2022\n"
     ]
    },
    {
     "name": "stderr",
     "output_type": "stream",
     "text": [
      "2022-05-03 15:33:59 -     INFO -                      cltl.brain.basic_brain.ThoughtGenerator - Statement Novelty: 1 times, e.g. blenderbot on May,2022\n"
     ]
    },
    {
     "name": "stdout",
     "output_type": "stream",
     "text": [
      "2022-05-03 15:34:08,664 -     INFO -  cltl.brain.basic_brain.ThoughtGenerator - Negation Conflicts: blenderbot on May,2022 about UNDERSPECIFIED\n"
     ]
    },
    {
     "name": "stderr",
     "output_type": "stream",
     "text": [
      "2022-05-03 15:34:08 -     INFO -                      cltl.brain.basic_brain.ThoughtGenerator - Negation Conflicts: blenderbot on May,2022 about UNDERSPECIFIED\n"
     ]
    },
    {
     "name": "stdout",
     "output_type": "stream",
     "text": [
      "2022-05-03 15:34:08,721 -     INFO -  cltl.brain.basic_brain.ThoughtGenerator - Gaps: 22 gaps as subject: e.g. favorite interest - 10 gaps as object: e.g. cook-by dish\n"
     ]
    },
    {
     "name": "stderr",
     "output_type": "stream",
     "text": [
      "2022-05-03 15:34:08 -     INFO -                      cltl.brain.basic_brain.ThoughtGenerator - Gaps: 22 gaps as subject: e.g. favorite interest - 10 gaps as object: e.g. cook-by dish\n",
      "2022-05-03 15:34:08 -     INFO -                                  cltl.triple_extraction.Chat - BLENDERBOT 118: \"I have a dog and he 's my best friend.\"\n"
     ]
    },
    {
     "name": "stdout",
     "output_type": "stream",
     "text": [
      "Triple spacy reply Let me ask you something. Has leolani know agent?\n",
      "\n",
      "\tLeolani: Let me ask you something. Has leolani know agent? . \n",
      "Repeating I have a dog and he 's my best friend . \n",
      "\n",
      "\tFixed period BLENDERBOT: I have a dog and he 's my best friend.\n"
     ]
    },
    {
     "name": "stderr",
     "output_type": "stream",
     "text": [
      "2022-05-03 15:34:09 -  WARNING -                           cltl.triple_extraction.CFGAnalyzer - Couldn't parse input\n"
     ]
    },
    {
     "name": "stdout",
     "output_type": "stream",
     "text": [
      "Last utterance: I have a dog and he 's my best friend.\n",
      "CFG Tripels: []\n",
      "spacy Triples [('have', 'BLENDERBOT', 'dog')]\n",
      "Triple spacy Capsule:\n",
      "{'author': 'BLENDERBOT',\n",
      " 'chat': '2022-05-03-15_06_25',\n",
      " 'city': 'Amsterdam',\n",
      " 'context_id': 'Leolani',\n",
      " 'country': 'NL',\n",
      " 'date': datetime.date(2022, 5, 3),\n",
      " 'object': {'label': 'dog', 'type': ''},\n",
      " 'objects': [],\n",
      " 'people': [],\n",
      " 'place': 'Amsterdam',\n",
      " 'place_id': 117,\n",
      " 'position': 'image',\n",
      " 'predicate': {'label': 'have'},\n",
      " 'region': 'North Holland',\n",
      " 'subject': {'label': 'BLENDERBOT', 'type': ''},\n",
      " 'turn': '7c5f4036-c06e-45fe-b086-e063636396ad',\n",
      " 'utterance': ''}\n",
      "2022-05-03 15:34:09,823 -     INFO -    cltl.brain.basic_brain.LongTermMemory - Triple in statement: blenderbot_have_dog [_->_])\n"
     ]
    },
    {
     "name": "stderr",
     "output_type": "stream",
     "text": [
      "2022-05-03 15:34:09 -     INFO -                        cltl.brain.basic_brain.LongTermMemory - Triple in statement: blenderbot_have_dog [_->_])\n"
     ]
    },
    {
     "name": "stdout",
     "output_type": "stream",
     "text": [
      "2022-05-03 15:34:09,860 -     INFO -  cltl.brain.basic_brain.ThoughtGenerator - Statement Novelty: 1 times, e.g. blenderbot on May,2022\n"
     ]
    },
    {
     "name": "stderr",
     "output_type": "stream",
     "text": [
      "2022-05-03 15:34:09 -     INFO -                      cltl.brain.basic_brain.ThoughtGenerator - Statement Novelty: 1 times, e.g. blenderbot on May,2022\n"
     ]
    },
    {
     "name": "stdout",
     "output_type": "stream",
     "text": [
      "2022-05-03 15:34:12,370 -     INFO -  cltl.brain.basic_brain.ThoughtGenerator - Negation Conflicts: blenderbot on May,2022 about UNDERSPECIFIED\n"
     ]
    },
    {
     "name": "stderr",
     "output_type": "stream",
     "text": [
      "2022-05-03 15:34:12 -     INFO -                      cltl.brain.basic_brain.ThoughtGenerator - Negation Conflicts: blenderbot on May,2022 about UNDERSPECIFIED\n"
     ]
    },
    {
     "name": "stdout",
     "output_type": "stream",
     "text": [
      "2022-05-03 15:34:12,391 -     INFO -  cltl.brain.basic_brain.ThoughtGenerator - Gaps: 26 gaps as subject: e.g. be-family-of person - 15 gaps as object: e.g. be-ancestor-of person\n"
     ]
    },
    {
     "name": "stderr",
     "output_type": "stream",
     "text": [
      "2022-05-03 15:34:12 -     INFO -                      cltl.brain.basic_brain.ThoughtGenerator - Gaps: 26 gaps as subject: e.g. be-family-of person - 15 gaps as object: e.g. be-ancestor-of person\n"
     ]
    },
    {
     "name": "stdout",
     "output_type": "stream",
     "text": [
      "Triple spacy reply I would like to know. What types of Instance like dog do Instance usually have\n",
      "\n",
      "\tLeolani: Let me ask you something. Has leolani know agent? . I would like to know. What types of Instance like dog do Instance usually have . \n",
      "input_prompt: Let me ask you something. Has leolani know agent? . I would like to know. What types of Instance like dog do Instance usually have . \n"
     ]
    },
    {
     "name": "stderr",
     "output_type": "stream",
     "text": [
      "2022-05-03 15:34:16 -     INFO -                                  cltl.triple_extraction.Chat - BLENDERBOT 119: \"I 'm not sure\"\n"
     ]
    },
    {
     "name": "stdout",
     "output_type": "stream",
     "text": [
      "utteranceList: [\"<s> I'm not sure, but I do know that they train dogs to perform a variety of tasks.</s>\"]\n",
      "ANSWER  I'm not sure, but I do know that they train dogs to perform a variety of tasks.\n"
     ]
    },
    {
     "name": "stderr",
     "output_type": "stream",
     "text": [
      "2022-05-03 15:34:17 -  WARNING -                           cltl.triple_extraction.CFGAnalyzer - Couldn't parse input\n",
      "2022-05-03 15:34:17 -     INFO -                                  cltl.triple_extraction.Chat - BLENDERBOT 120: \"I 'm not sure but I do know that they train dogs to perform a variety of tasks.\"\n"
     ]
    },
    {
     "name": "stdout",
     "output_type": "stream",
     "text": [
      "Last utterance: I 'm not sure\n",
      "CFG Tripels: []\n",
      "spacy Triples []\n",
      "\n",
      "\tAlso spaCy could not get that\n",
      "\n",
      "\tLeolani: \n",
      "\n",
      "\tFixed period BLENDERBOT: I 'm not sure but I do know that they train dogs to perform a variety of tasks.\n"
     ]
    },
    {
     "name": "stderr",
     "output_type": "stream",
     "text": [
      "2022-05-03 15:34:18 -  WARNING -                           cltl.triple_extraction.CFGAnalyzer - Couldn't parse input\n"
     ]
    },
    {
     "name": "stdout",
     "output_type": "stream",
     "text": [
      "Last utterance: I 'm not sure but I do know that they train dogs to perform a variety of tasks.\n",
      "CFG Tripels: []\n",
      "spacy Triples []\n",
      "\n",
      "\tAlso spaCy could not get that\n",
      "\n",
      "\tLeolani: \n",
      "input_prompt: \n"
     ]
    },
    {
     "name": "stderr",
     "output_type": "stream",
     "text": [
      "2022-05-03 15:34:21 -     INFO -                                  cltl.triple_extraction.Chat - BLENDERBOT 121: \"Do you have any pets?\"\n"
     ]
    },
    {
     "name": "stdout",
     "output_type": "stream",
     "text": [
      "utteranceList: [\"<s><s> Do you have any pets? I have a dog and he's my best friend.</s>\"]\n",
      "ANSWER  Do you have any pets? I have a dog and he's my best friend.\n",
      "Repeating   Do you have any pets ? \n",
      "\n",
      "\tFixed question BLENDERBOT: Do you have any pets?\n"
     ]
    },
    {
     "name": "stderr",
     "output_type": "stream",
     "text": [
      "2022-05-03 15:34:22 -  WARNING -                           cltl.triple_extraction.CFGAnalyzer - Couldn't parse input\n"
     ]
    },
    {
     "name": "stdout",
     "output_type": "stream",
     "text": [
      "Last utterance: Do you have any pets?\n",
      "CFG Tripels: []\n",
      "spacy Triples [('have', 'Leolani', 'pet')]\n",
      "Triple spacy Capsule:\n",
      "{'author': 'BLENDERBOT',\n",
      " 'chat': '2022-05-03-15_06_25',\n",
      " 'city': 'Amsterdam',\n",
      " 'context_id': 'Leolani',\n",
      " 'country': 'NL',\n",
      " 'date': datetime.date(2022, 5, 3),\n",
      " 'object': {'label': 'pet', 'type': ''},\n",
      " 'objects': [],\n",
      " 'people': [],\n",
      " 'place': 'Amsterdam',\n",
      " 'place_id': 117,\n",
      " 'position': 'image',\n",
      " 'predicate': {'label': 'have'},\n",
      " 'region': 'North Holland',\n",
      " 'subject': {'label': 'Leolani', 'type': ''},\n",
      " 'turn': '53129721-fac6-44ea-8c40-dd0eff3f5758',\n",
      " 'utterance': ''}\n",
      "2022-05-03 15:34:22,594 -     INFO -    cltl.brain.basic_brain.LongTermMemory - Triple in statement: leolani_have_pet [_->_])\n"
     ]
    },
    {
     "name": "stderr",
     "output_type": "stream",
     "text": [
      "2022-05-03 15:34:22 -     INFO -                        cltl.brain.basic_brain.LongTermMemory - Triple in statement: leolani_have_pet [_->_])\n"
     ]
    },
    {
     "name": "stdout",
     "output_type": "stream",
     "text": [
      "2022-05-03 15:34:22,601 -     INFO -  cltl.brain.basic_brain.ThoughtGenerator - Statement Novelty: 1 times, e.g. blenderbot on May,2022\n"
     ]
    },
    {
     "name": "stderr",
     "output_type": "stream",
     "text": [
      "2022-05-03 15:34:22 -     INFO -                      cltl.brain.basic_brain.ThoughtGenerator - Statement Novelty: 1 times, e.g. blenderbot on May,2022\n"
     ]
    },
    {
     "name": "stdout",
     "output_type": "stream",
     "text": [
      "2022-05-03 15:34:24,900 -     INFO -  cltl.brain.basic_brain.ThoughtGenerator - Negation Conflicts: blenderbot on May,2022 about UNDERSPECIFIED\n"
     ]
    },
    {
     "name": "stderr",
     "output_type": "stream",
     "text": [
      "2022-05-03 15:34:24 -     INFO -                      cltl.brain.basic_brain.ThoughtGenerator - Negation Conflicts: blenderbot on May,2022 about UNDERSPECIFIED\n"
     ]
    },
    {
     "name": "stdout",
     "output_type": "stream",
     "text": [
      "2022-05-03 15:34:24,915 -     INFO -  cltl.brain.basic_brain.ThoughtGenerator - Gaps: 22 gaps as subject: e.g. acknowledge taste - 10 gaps as object: e.g. know agent\n"
     ]
    },
    {
     "name": "stderr",
     "output_type": "stream",
     "text": [
      "2022-05-03 15:34:24 -     INFO -                      cltl.brain.basic_brain.ThoughtGenerator - Gaps: 22 gaps as subject: e.g. acknowledge taste - 10 gaps as object: e.g. know agent\n",
      "2022-05-03 15:34:24 -     INFO -                                  cltl.triple_extraction.Chat - BLENDERBOT 122: \"I have a dog and he 's my best friend.\"\n"
     ]
    },
    {
     "name": "stdout",
     "output_type": "stream",
     "text": [
      "Triple spacy reply I just learned something, I had never heard about I before!\n",
      "\n",
      "\tLeolani: I just learned something, I had never heard about I before! . \n",
      "Repeating I have a dog and he 's my best friend . \n",
      "\n",
      "\tFixed period BLENDERBOT: I have a dog and he 's my best friend.\n"
     ]
    },
    {
     "name": "stderr",
     "output_type": "stream",
     "text": [
      "2022-05-03 15:34:25 -  WARNING -                           cltl.triple_extraction.CFGAnalyzer - Couldn't parse input\n"
     ]
    },
    {
     "name": "stdout",
     "output_type": "stream",
     "text": [
      "Last utterance: I have a dog and he 's my best friend.\n",
      "CFG Tripels: []\n",
      "spacy Triples [('have', 'BLENDERBOT', 'dog')]\n",
      "Triple spacy Capsule:\n",
      "{'author': 'BLENDERBOT',\n",
      " 'chat': '2022-05-03-15_06_25',\n",
      " 'city': 'Amsterdam',\n",
      " 'context_id': 'Leolani',\n",
      " 'country': 'NL',\n",
      " 'date': datetime.date(2022, 5, 3),\n",
      " 'object': {'label': 'dog', 'type': ''},\n",
      " 'objects': [],\n",
      " 'people': [],\n",
      " 'place': 'Amsterdam',\n",
      " 'place_id': 117,\n",
      " 'position': 'image',\n",
      " 'predicate': {'label': 'have'},\n",
      " 'region': 'North Holland',\n",
      " 'subject': {'label': 'BLENDERBOT', 'type': ''},\n",
      " 'turn': '88f7fff3-3a5c-4d3a-83b3-8a91fe3489ad',\n",
      " 'utterance': ''}\n",
      "2022-05-03 15:34:25,946 -     INFO -    cltl.brain.basic_brain.LongTermMemory - Triple in statement: blenderbot_have_dog [_->_])\n"
     ]
    },
    {
     "name": "stderr",
     "output_type": "stream",
     "text": [
      "2022-05-03 15:34:25 -     INFO -                        cltl.brain.basic_brain.LongTermMemory - Triple in statement: blenderbot_have_dog [_->_])\n"
     ]
    },
    {
     "name": "stdout",
     "output_type": "stream",
     "text": [
      "2022-05-03 15:34:25,953 -     INFO -  cltl.brain.basic_brain.ThoughtGenerator - Statement Novelty: 1 times, e.g. blenderbot on May,2022\n"
     ]
    },
    {
     "name": "stderr",
     "output_type": "stream",
     "text": [
      "2022-05-03 15:34:25 -     INFO -                      cltl.brain.basic_brain.ThoughtGenerator - Statement Novelty: 1 times, e.g. blenderbot on May,2022\n"
     ]
    },
    {
     "name": "stdout",
     "output_type": "stream",
     "text": [
      "2022-05-03 15:34:28,397 -     INFO -  cltl.brain.basic_brain.ThoughtGenerator - Negation Conflicts: blenderbot on May,2022 about UNDERSPECIFIED\n"
     ]
    },
    {
     "name": "stderr",
     "output_type": "stream",
     "text": [
      "2022-05-03 15:34:28 -     INFO -                      cltl.brain.basic_brain.ThoughtGenerator - Negation Conflicts: blenderbot on May,2022 about UNDERSPECIFIED\n"
     ]
    },
    {
     "name": "stdout",
     "output_type": "stream",
     "text": [
      "2022-05-03 15:34:28,412 -     INFO -  cltl.brain.basic_brain.ThoughtGenerator - Gaps: 26 gaps as subject: e.g. like interest - 15 gaps as object: e.g. cook-by food\n"
     ]
    },
    {
     "name": "stderr",
     "output_type": "stream",
     "text": [
      "2022-05-03 15:34:28 -     INFO -                      cltl.brain.basic_brain.ThoughtGenerator - Gaps: 26 gaps as subject: e.g. like interest - 15 gaps as object: e.g. cook-by food\n"
     ]
    },
    {
     "name": "stdout",
     "output_type": "stream",
     "text": [
      "Triple spacy reply If you don't mind me asking. What types of Instance like dog do Instance usually have\n",
      "\n",
      "\tLeolani: I just learned something, I had never heard about I before! . If you don't mind me asking. What types of Instance like dog do Instance usually have . \n",
      "input_prompt: I just learned something, I had never heard about I before! . If you don't mind me asking. What types of Instance like dog do Instance usually have . \n"
     ]
    },
    {
     "name": "stderr",
     "output_type": "stream",
     "text": [
      "2022-05-03 15:34:33 -     INFO -                                  cltl.triple_extraction.Chat - BLENDERBOT 123: \"Dog Instance is a group that teaches dogs how to perform certain tasks.\"\n"
     ]
    },
    {
     "name": "stdout",
     "output_type": "stream",
     "text": [
      "utteranceList: ['<s><s> Dog Instance is a group that teaches dogs how to perform certain tasks.</s>']\n",
      "ANSWER  Dog Instance is a group that teaches dogs how to perform certain tasks.\n",
      "\n",
      "\tFixed period BLENDERBOT: Dog Instance is a group that teaches dogs how to perform certain tasks.\n"
     ]
    },
    {
     "name": "stderr",
     "output_type": "stream",
     "text": [
      "2022-05-03 15:34:34 -  WARNING -                           cltl.triple_extraction.CFGAnalyzer - Couldn't parse input\n"
     ]
    },
    {
     "name": "stdout",
     "output_type": "stream",
     "text": [
      "Last utterance: Dog Instance is a group that teaches dogs how to perform certain tasks.\n",
      "CFG Tripels: []\n",
      "spacy Triples []\n",
      "\n",
      "\tAlso spaCy could not get that\n",
      "\n",
      "\tLeolani: \n",
      "input_prompt: \n"
     ]
    },
    {
     "name": "stderr",
     "output_type": "stream",
     "text": [
      "2022-05-03 15:34:37 -     INFO -                                  cltl.triple_extraction.Chat - BLENDERBOT 124: \"Do you have any pets?\"\n"
     ]
    },
    {
     "name": "stdout",
     "output_type": "stream",
     "text": [
      "utteranceList: [\"<s><s> Do you have any pets? I have a dog and he's my best friend.</s>\"]\n",
      "ANSWER  Do you have any pets? I have a dog and he's my best friend.\n",
      "Repeating   Do you have any pets ? \n",
      "\n",
      "\tFixed question BLENDERBOT: Do you have any pets?\n"
     ]
    },
    {
     "name": "stderr",
     "output_type": "stream",
     "text": [
      "2022-05-03 15:34:38 -  WARNING -                           cltl.triple_extraction.CFGAnalyzer - Couldn't parse input\n"
     ]
    },
    {
     "name": "stdout",
     "output_type": "stream",
     "text": [
      "Last utterance: Do you have any pets?\n",
      "CFG Tripels: []\n",
      "spacy Triples [('have', 'Leolani', 'pet')]\n",
      "Triple spacy Capsule:\n",
      "{'author': 'BLENDERBOT',\n",
      " 'chat': '2022-05-03-15_06_25',\n",
      " 'city': 'Amsterdam',\n",
      " 'context_id': 'Leolani',\n",
      " 'country': 'NL',\n",
      " 'date': datetime.date(2022, 5, 3),\n",
      " 'object': {'label': 'pet', 'type': ''},\n",
      " 'objects': [],\n",
      " 'people': [],\n",
      " 'place': 'Amsterdam',\n",
      " 'place_id': 117,\n",
      " 'position': 'image',\n",
      " 'predicate': {'label': 'have'},\n",
      " 'region': 'North Holland',\n",
      " 'subject': {'label': 'Leolani', 'type': ''},\n",
      " 'turn': 'b86606f4-4d14-4614-9a9f-a044c21d2878',\n",
      " 'utterance': ''}\n",
      "2022-05-03 15:34:38,567 -     INFO -    cltl.brain.basic_brain.LongTermMemory - Triple in statement: leolani_have_pet [_->_])\n"
     ]
    },
    {
     "name": "stderr",
     "output_type": "stream",
     "text": [
      "2022-05-03 15:34:38 -     INFO -                        cltl.brain.basic_brain.LongTermMemory - Triple in statement: leolani_have_pet [_->_])\n"
     ]
    },
    {
     "name": "stdout",
     "output_type": "stream",
     "text": [
      "2022-05-03 15:34:38,574 -     INFO -  cltl.brain.basic_brain.ThoughtGenerator - Statement Novelty: 1 times, e.g. blenderbot on May,2022\n"
     ]
    },
    {
     "name": "stderr",
     "output_type": "stream",
     "text": [
      "2022-05-03 15:34:38 -     INFO -                      cltl.brain.basic_brain.ThoughtGenerator - Statement Novelty: 1 times, e.g. blenderbot on May,2022\n"
     ]
    },
    {
     "name": "stdout",
     "output_type": "stream",
     "text": [
      "2022-05-03 15:34:41,110 -     INFO -  cltl.brain.basic_brain.ThoughtGenerator - Negation Conflicts: blenderbot on May,2022 about UNDERSPECIFIED\n"
     ]
    },
    {
     "name": "stderr",
     "output_type": "stream",
     "text": [
      "2022-05-03 15:34:41 -     INFO -                      cltl.brain.basic_brain.ThoughtGenerator - Negation Conflicts: blenderbot on May,2022 about UNDERSPECIFIED\n"
     ]
    },
    {
     "name": "stdout",
     "output_type": "stream",
     "text": [
      "2022-05-03 15:34:41,124 -     INFO -  cltl.brain.basic_brain.ThoughtGenerator - Gaps: 22 gaps as subject: e.g. like-by agent - 10 gaps as object: e.g. like-by interest\n"
     ]
    },
    {
     "name": "stderr",
     "output_type": "stream",
     "text": [
      "2022-05-03 15:34:41 -     INFO -                      cltl.brain.basic_brain.ThoughtGenerator - Gaps: 22 gaps as subject: e.g. like-by agent - 10 gaps as object: e.g. like-by interest\n",
      "2022-05-03 15:34:41 -     INFO -                                  cltl.triple_extraction.Chat - BLENDERBOT 125: \"I have a dog and he 's my best friend.\"\n"
     ]
    },
    {
     "name": "stdout",
     "output_type": "stream",
     "text": [
      "Triple spacy reply This is news to me. I had never heard about pet before!\n",
      "\n",
      "\tLeolani: This is news to me. I had never heard about pet before! . \n",
      "Repeating I have a dog and he 's my best friend . \n",
      "\n",
      "\tFixed period BLENDERBOT: I have a dog and he 's my best friend.\n"
     ]
    },
    {
     "name": "stderr",
     "output_type": "stream",
     "text": [
      "2022-05-03 15:34:42 -  WARNING -                           cltl.triple_extraction.CFGAnalyzer - Couldn't parse input\n"
     ]
    },
    {
     "name": "stdout",
     "output_type": "stream",
     "text": [
      "Last utterance: I have a dog and he 's my best friend.\n",
      "CFG Tripels: []\n",
      "spacy Triples [('have', 'BLENDERBOT', 'dog')]\n",
      "Triple spacy Capsule:\n",
      "{'author': 'BLENDERBOT',\n",
      " 'chat': '2022-05-03-15_06_25',\n",
      " 'city': 'Amsterdam',\n",
      " 'context_id': 'Leolani',\n",
      " 'country': 'NL',\n",
      " 'date': datetime.date(2022, 5, 3),\n",
      " 'object': {'label': 'dog', 'type': ''},\n",
      " 'objects': [],\n",
      " 'people': [],\n",
      " 'place': 'Amsterdam',\n",
      " 'place_id': 117,\n",
      " 'position': 'image',\n",
      " 'predicate': {'label': 'have'},\n",
      " 'region': 'North Holland',\n",
      " 'subject': {'label': 'BLENDERBOT', 'type': ''},\n",
      " 'turn': 'ffeae77a-b4cf-4195-bb67-2c654685f435',\n",
      " 'utterance': ''}\n",
      "2022-05-03 15:34:42,187 -     INFO -    cltl.brain.basic_brain.LongTermMemory - Triple in statement: blenderbot_have_dog [_->_])\n"
     ]
    },
    {
     "name": "stderr",
     "output_type": "stream",
     "text": [
      "2022-05-03 15:34:42 -     INFO -                        cltl.brain.basic_brain.LongTermMemory - Triple in statement: blenderbot_have_dog [_->_])\n"
     ]
    },
    {
     "name": "stdout",
     "output_type": "stream",
     "text": [
      "2022-05-03 15:34:42,194 -     INFO -  cltl.brain.basic_brain.ThoughtGenerator - Statement Novelty: 1 times, e.g. blenderbot on May,2022\n"
     ]
    },
    {
     "name": "stderr",
     "output_type": "stream",
     "text": [
      "2022-05-03 15:34:42 -     INFO -                      cltl.brain.basic_brain.ThoughtGenerator - Statement Novelty: 1 times, e.g. blenderbot on May,2022\n"
     ]
    },
    {
     "name": "stdout",
     "output_type": "stream",
     "text": [
      "2022-05-03 15:34:44,622 -     INFO -  cltl.brain.basic_brain.ThoughtGenerator - Negation Conflicts: blenderbot on May,2022 about UNDERSPECIFIED\n"
     ]
    },
    {
     "name": "stderr",
     "output_type": "stream",
     "text": [
      "2022-05-03 15:34:44 -     INFO -                      cltl.brain.basic_brain.ThoughtGenerator - Negation Conflicts: blenderbot on May,2022 about UNDERSPECIFIED\n"
     ]
    },
    {
     "name": "stdout",
     "output_type": "stream",
     "text": [
      "2022-05-03 15:34:44,639 -     INFO -  cltl.brain.basic_brain.ThoughtGenerator - Gaps: 26 gaps as subject: e.g. born-in location - 15 gaps as object: e.g. be-parent-of person\n"
     ]
    },
    {
     "name": "stderr",
     "output_type": "stream",
     "text": [
      "2022-05-03 15:34:44 -     INFO -                      cltl.brain.basic_brain.ThoughtGenerator - Gaps: 26 gaps as subject: e.g. born-in location - 15 gaps as object: e.g. be-parent-of person\n"
     ]
    },
    {
     "name": "stdout",
     "output_type": "stream",
     "text": [
      "Triple spacy reply I did not know that! I had never heard about dog before!\n",
      "\n",
      "\tLeolani: This is news to me. I had never heard about pet before! . I did not know that! I had never heard about dog before! . \n",
      "input_prompt: This is news to me. I had never heard about pet before! . I did not know that! I had never heard about dog before! . \n"
     ]
    },
    {
     "name": "stderr",
     "output_type": "stream",
     "text": [
      "2022-05-03 15:34:53 -     INFO -                                  cltl.triple_extraction.Chat - BLENDERBOT 126: \"Dogs are man 's best friend.\"\n"
     ]
    },
    {
     "name": "stdout",
     "output_type": "stream",
     "text": [
      "utteranceList: [\"<s> Dogs are man's best friend. They were the first species to be domesticated and have been selectively bred over millennia for various behaviors, sensory capabilities, and physical attributes.</s>\"]\n",
      "ANSWER  Dogs are man's best friend. They were the first species to be domesticated and have been selectively bred over millennia for various behaviors, sensory capabilities, and physical attributes.\n",
      "\n",
      "\tFixed period BLENDERBOT: Dogs are man 's best friend.\n"
     ]
    },
    {
     "name": "stderr",
     "output_type": "stream",
     "text": [
      "2022-05-03 15:34:54 -  WARNING -                           cltl.triple_extraction.CFGAnalyzer - Couldn't parse input\n",
      "2022-05-03 15:34:54 -     INFO -                                  cltl.triple_extraction.Chat - BLENDERBOT 127: \"They were the first species to be domesticated and have been selectively bred over millennia for various behaviors\"\n"
     ]
    },
    {
     "name": "stdout",
     "output_type": "stream",
     "text": [
      "Last utterance: Dogs are man 's best friend.\n",
      "CFG Tripels: []\n",
      "spacy Triples []\n",
      "\n",
      "\tAlso spaCy could not get that\n",
      "\n",
      "\tLeolani: \n"
     ]
    },
    {
     "name": "stderr",
     "output_type": "stream",
     "text": [
      "2022-05-03 15:34:55 -  WARNING -                           cltl.triple_extraction.CFGAnalyzer - Couldn't parse input\n",
      "2022-05-03 15:34:55 -     INFO -                                  cltl.triple_extraction.Chat - BLENDERBOT 128: \"They were the first species to be domesticated and have been selectively bred over millennia for various behaviors sensory capabilities\"\n"
     ]
    },
    {
     "name": "stdout",
     "output_type": "stream",
     "text": [
      "Last utterance: They were the first species to be domesticated and have been selectively bred over millennia for various behaviors\n",
      "CFG Tripels: []\n",
      "spacy Triples []\n",
      "\n",
      "\tAlso spaCy could not get that\n",
      "\n",
      "\tLeolani: \n"
     ]
    },
    {
     "name": "stderr",
     "output_type": "stream",
     "text": [
      "2022-05-03 15:34:55 -  WARNING -                           cltl.triple_extraction.CFGAnalyzer - Couldn't parse input\n",
      "2022-05-03 15:34:55 -     INFO -                                  cltl.triple_extraction.Chat - BLENDERBOT 129: \"They were the first species to be domesticated and have been selectively bred over millennia for various behaviors sensory capabilities and physical attributes.\"\n"
     ]
    },
    {
     "name": "stdout",
     "output_type": "stream",
     "text": [
      "Last utterance: They were the first species to be domesticated and have been selectively bred over millennia for various behaviors sensory capabilities\n",
      "CFG Tripels: []\n",
      "spacy Triples []\n",
      "\n",
      "\tAlso spaCy could not get that\n",
      "\n",
      "\tLeolani: \n",
      "\n",
      "\tFixed period BLENDERBOT: They were the first species to be domesticated and have been selectively bred over millennia for various behaviors sensory capabilities and physical attributes.\n"
     ]
    },
    {
     "name": "stderr",
     "output_type": "stream",
     "text": [
      "2022-05-03 15:34:56 -  WARNING -                           cltl.triple_extraction.CFGAnalyzer - Couldn't parse input\n"
     ]
    },
    {
     "name": "stdout",
     "output_type": "stream",
     "text": [
      "Last utterance: They were the first species to be domesticated and have been selectively bred over millennia for various behaviors sensory capabilities and physical attributes.\n",
      "CFG Tripels: []\n",
      "spacy Triples []\n",
      "\n",
      "\tAlso spaCy could not get that\n",
      "\n",
      "\tLeolani: \n",
      "input_prompt: \n"
     ]
    },
    {
     "name": "stderr",
     "output_type": "stream",
     "text": [
      "2022-05-03 15:35:00 -     INFO -                                  cltl.triple_extraction.Chat - BLENDERBOT 130: \"Do you have any pets?\"\n"
     ]
    },
    {
     "name": "stdout",
     "output_type": "stream",
     "text": [
      "utteranceList: [\"<s><s> Do you have any pets? I have a dog and he's my best friend.</s>\"]\n",
      "ANSWER  Do you have any pets? I have a dog and he's my best friend.\n",
      "Repeating   Do you have any pets ? \n",
      "\n",
      "\tFixed question BLENDERBOT: Do you have any pets?\n"
     ]
    },
    {
     "name": "stderr",
     "output_type": "stream",
     "text": [
      "2022-05-03 15:35:01 -  WARNING -                           cltl.triple_extraction.CFGAnalyzer - Couldn't parse input\n"
     ]
    },
    {
     "name": "stdout",
     "output_type": "stream",
     "text": [
      "Last utterance: Do you have any pets?\n",
      "CFG Tripels: []\n",
      "spacy Triples [('have', 'Leolani', 'pet')]\n",
      "Triple spacy Capsule:\n",
      "{'author': 'BLENDERBOT',\n",
      " 'chat': '2022-05-03-15_06_25',\n",
      " 'city': 'Amsterdam',\n",
      " 'context_id': 'Leolani',\n",
      " 'country': 'NL',\n",
      " 'date': datetime.date(2022, 5, 3),\n",
      " 'object': {'label': 'pet', 'type': ''},\n",
      " 'objects': [],\n",
      " 'people': [],\n",
      " 'place': 'Amsterdam',\n",
      " 'place_id': 117,\n",
      " 'position': 'image',\n",
      " 'predicate': {'label': 'have'},\n",
      " 'region': 'North Holland',\n",
      " 'subject': {'label': 'Leolani', 'type': ''},\n",
      " 'turn': '4568da42-27e4-4c51-af76-b9ae1e55f9d3',\n",
      " 'utterance': ''}\n",
      "2022-05-03 15:35:01,254 -     INFO -    cltl.brain.basic_brain.LongTermMemory - Triple in statement: leolani_have_pet [_->_])\n"
     ]
    },
    {
     "name": "stderr",
     "output_type": "stream",
     "text": [
      "2022-05-03 15:35:01 -     INFO -                        cltl.brain.basic_brain.LongTermMemory - Triple in statement: leolani_have_pet [_->_])\n"
     ]
    },
    {
     "name": "stdout",
     "output_type": "stream",
     "text": [
      "2022-05-03 15:35:01,262 -     INFO -  cltl.brain.basic_brain.ThoughtGenerator - Statement Novelty: 1 times, e.g. blenderbot on May,2022\n"
     ]
    },
    {
     "name": "stderr",
     "output_type": "stream",
     "text": [
      "2022-05-03 15:35:01 -     INFO -                      cltl.brain.basic_brain.ThoughtGenerator - Statement Novelty: 1 times, e.g. blenderbot on May,2022\n"
     ]
    },
    {
     "name": "stdout",
     "output_type": "stream",
     "text": [
      "2022-05-03 15:35:03,695 -     INFO -  cltl.brain.basic_brain.ThoughtGenerator - Negation Conflicts: blenderbot on May,2022 about UNDERSPECIFIED\n"
     ]
    },
    {
     "name": "stderr",
     "output_type": "stream",
     "text": [
      "2022-05-03 15:35:03 -     INFO -                      cltl.brain.basic_brain.ThoughtGenerator - Negation Conflicts: blenderbot on May,2022 about UNDERSPECIFIED\n"
     ]
    },
    {
     "name": "stdout",
     "output_type": "stream",
     "text": [
      "2022-05-03 15:35:03,711 -     INFO -  cltl.brain.basic_brain.ThoughtGenerator - Gaps: 22 gaps as subject: e.g. know agent - 10 gaps as object: e.g. be-child-of agent\n"
     ]
    },
    {
     "name": "stderr",
     "output_type": "stream",
     "text": [
      "2022-05-03 15:35:03 -     INFO -                      cltl.brain.basic_brain.ThoughtGenerator - Gaps: 22 gaps as subject: e.g. know agent - 10 gaps as object: e.g. be-child-of agent\n",
      "2022-05-03 15:35:03 -     INFO -                                  cltl.triple_extraction.Chat - BLENDERBOT 131: \"I have a dog and he 's my best friend.\"\n"
     ]
    },
    {
     "name": "stdout",
     "output_type": "stream",
     "text": [
      "Triple spacy reply I know. blenderbot told me about it in 2022 05 03T00:00:00\n",
      "\n",
      "\tLeolani: I know. blenderbot told me about it in 2022 05 03T00:00:00 . \n",
      "Repeating I have a dog and he 's my best friend . \n",
      "\n",
      "\tFixed period BLENDERBOT: I have a dog and he 's my best friend.\n"
     ]
    },
    {
     "name": "stderr",
     "output_type": "stream",
     "text": [
      "2022-05-03 15:35:04 -  WARNING -                           cltl.triple_extraction.CFGAnalyzer - Couldn't parse input\n"
     ]
    },
    {
     "name": "stdout",
     "output_type": "stream",
     "text": [
      "Last utterance: I have a dog and he 's my best friend.\n",
      "CFG Tripels: []\n",
      "spacy Triples [('have', 'BLENDERBOT', 'dog')]\n",
      "Triple spacy Capsule:\n",
      "{'author': 'BLENDERBOT',\n",
      " 'chat': '2022-05-03-15_06_25',\n",
      " 'city': 'Amsterdam',\n",
      " 'context_id': 'Leolani',\n",
      " 'country': 'NL',\n",
      " 'date': datetime.date(2022, 5, 3),\n",
      " 'object': {'label': 'dog', 'type': ''},\n",
      " 'objects': [],\n",
      " 'people': [],\n",
      " 'place': 'Amsterdam',\n",
      " 'place_id': 117,\n",
      " 'position': 'image',\n",
      " 'predicate': {'label': 'have'},\n",
      " 'region': 'North Holland',\n",
      " 'subject': {'label': 'BLENDERBOT', 'type': ''},\n",
      " 'turn': 'b81e6c62-5712-4534-9954-549c01f774a1',\n",
      " 'utterance': ''}\n",
      "2022-05-03 15:35:04,705 -     INFO -    cltl.brain.basic_brain.LongTermMemory - Triple in statement: blenderbot_have_dog [_->_])\n"
     ]
    },
    {
     "name": "stderr",
     "output_type": "stream",
     "text": [
      "2022-05-03 15:35:04 -     INFO -                        cltl.brain.basic_brain.LongTermMemory - Triple in statement: blenderbot_have_dog [_->_])\n"
     ]
    },
    {
     "name": "stdout",
     "output_type": "stream",
     "text": [
      "2022-05-03 15:35:04,712 -     INFO -  cltl.brain.basic_brain.ThoughtGenerator - Statement Novelty: 1 times, e.g. blenderbot on May,2022\n"
     ]
    },
    {
     "name": "stderr",
     "output_type": "stream",
     "text": [
      "2022-05-03 15:35:04 -     INFO -                      cltl.brain.basic_brain.ThoughtGenerator - Statement Novelty: 1 times, e.g. blenderbot on May,2022\n"
     ]
    },
    {
     "name": "stdout",
     "output_type": "stream",
     "text": [
      "2022-05-03 15:35:07,204 -     INFO -  cltl.brain.basic_brain.ThoughtGenerator - Negation Conflicts: blenderbot on May,2022 about UNDERSPECIFIED\n"
     ]
    },
    {
     "name": "stderr",
     "output_type": "stream",
     "text": [
      "2022-05-03 15:35:07 -     INFO -                      cltl.brain.basic_brain.ThoughtGenerator - Negation Conflicts: blenderbot on May,2022 about UNDERSPECIFIED\n"
     ]
    },
    {
     "name": "stdout",
     "output_type": "stream",
     "text": [
      "2022-05-03 15:35:07,220 -     INFO -  cltl.brain.basic_brain.ThoughtGenerator - Gaps: 26 gaps as subject: e.g. be-friends-with person - 15 gaps as object: e.g. like-by agent\n"
     ]
    },
    {
     "name": "stderr",
     "output_type": "stream",
     "text": [
      "2022-05-03 15:35:07 -     INFO -                      cltl.brain.basic_brain.ThoughtGenerator - Gaps: 26 gaps as subject: e.g. be-friends-with person - 15 gaps as object: e.g. like-by agent\n"
     ]
    },
    {
     "name": "stdout",
     "output_type": "stream",
     "text": [
      "Triple spacy reply I did not know that! I am excited to get to know about you!\n",
      "\n",
      "\tLeolani: I know. blenderbot told me about it in 2022 05 03T00:00:00 . I did not know that! I am excited to get to know about you! . \n",
      "input_prompt: I know. blenderbot told me about it in 2022 05 03T00:00:00 . I did not know that! I am excited to get to know about you! . \n"
     ]
    },
    {
     "name": "stderr",
     "output_type": "stream",
     "text": [
      "2022-05-03 15:35:11 -     INFO -                                  cltl.triple_extraction.Chat - BLENDERBOT 132: \"I 'm excited for you as well !\"\n"
     ]
    },
    {
     "name": "stdout",
     "output_type": "stream",
     "text": [
      "utteranceList: [\"<s> I'm excited for you as well!  I'm sure you'll have a great time.</s>\"]\n",
      "ANSWER  I'm excited for you as well!  I'm sure you'll have a great time.\n"
     ]
    },
    {
     "name": "stderr",
     "output_type": "stream",
     "text": [
      "2022-05-03 15:35:12 -  WARNING -                           cltl.triple_extraction.CFGAnalyzer - Couldn't parse input\n",
      "2022-05-03 15:35:12 -     INFO -                                  cltl.triple_extraction.Chat - BLENDERBOT 133: \"I 'm sure you 'll have a great time.\"\n"
     ]
    },
    {
     "name": "stdout",
     "output_type": "stream",
     "text": [
      "Last utterance: I 'm excited for you as well !\n",
      "CFG Tripels: []\n",
      "spacy Triples []\n",
      "\n",
      "\tAlso spaCy could not get that\n",
      "\n",
      "\tLeolani: \n",
      "\n",
      "\tFixed period BLENDERBOT: I 'm sure you 'll have a great time.\n"
     ]
    },
    {
     "name": "stderr",
     "output_type": "stream",
     "text": [
      "2022-05-03 15:35:13 -  WARNING -                           cltl.triple_extraction.CFGAnalyzer - Couldn't parse input\n"
     ]
    },
    {
     "name": "stdout",
     "output_type": "stream",
     "text": [
      "Last utterance: I 'm sure you 'll have a great time.\n",
      "CFG Tripels: []\n",
      "spacy Triples [('have', 'Leolani', 'time')]\n",
      "Triple spacy Capsule:\n",
      "{'author': 'BLENDERBOT',\n",
      " 'chat': '2022-05-03-15_06_25',\n",
      " 'city': 'Amsterdam',\n",
      " 'context_id': 'Leolani',\n",
      " 'country': 'NL',\n",
      " 'date': datetime.date(2022, 5, 3),\n",
      " 'object': {'label': 'time', 'type': ''},\n",
      " 'objects': [],\n",
      " 'people': [],\n",
      " 'place': 'Amsterdam',\n",
      " 'place_id': 117,\n",
      " 'position': 'image',\n",
      " 'predicate': {'label': 'have'},\n",
      " 'region': 'North Holland',\n",
      " 'subject': {'label': 'Leolani', 'type': ''},\n",
      " 'turn': '3ece9a54-28ed-4ab2-9df1-be305da14ab8',\n",
      " 'utterance': ''}\n",
      "2022-05-03 15:35:13,661 -     INFO -    cltl.brain.basic_brain.LongTermMemory - Triple in statement: leolani_have_time [_->_])\n"
     ]
    },
    {
     "name": "stderr",
     "output_type": "stream",
     "text": [
      "2022-05-03 15:35:13 -     INFO -                        cltl.brain.basic_brain.LongTermMemory - Triple in statement: leolani_have_time [_->_])\n"
     ]
    },
    {
     "name": "stdout",
     "output_type": "stream",
     "text": [
      "2022-05-03 15:35:13,676 -     INFO -  cltl.brain.basic_brain.ThoughtGenerator - Entity Novelty: existing subject - new object \n"
     ]
    },
    {
     "name": "stderr",
     "output_type": "stream",
     "text": [
      "2022-05-03 15:35:13 -     INFO -                      cltl.brain.basic_brain.ThoughtGenerator - Entity Novelty: existing subject - new object \n"
     ]
    },
    {
     "name": "stdout",
     "output_type": "stream",
     "text": [
      "2022-05-03 15:35:16,149 -     INFO -  cltl.brain.basic_brain.ThoughtGenerator - Negation Conflicts: blenderbot on May,2022 about UNDERSPECIFIED\n"
     ]
    },
    {
     "name": "stderr",
     "output_type": "stream",
     "text": [
      "2022-05-03 15:35:16 -     INFO -                      cltl.brain.basic_brain.ThoughtGenerator - Negation Conflicts: blenderbot on May,2022 about UNDERSPECIFIED\n"
     ]
    },
    {
     "name": "stdout",
     "output_type": "stream",
     "text": [
      "2022-05-03 15:35:16,162 -     INFO -  cltl.brain.basic_brain.ThoughtGenerator - Gaps: 22 gaps as subject: e.g. acknowledge touch - 10 gaps as object: e.g. favorite-of interest\n"
     ]
    },
    {
     "name": "stderr",
     "output_type": "stream",
     "text": [
      "2022-05-03 15:35:16 -     INFO -                      cltl.brain.basic_brain.ThoughtGenerator - Gaps: 22 gaps as subject: e.g. acknowledge touch - 10 gaps as object: e.g. favorite-of interest\n"
     ]
    },
    {
     "name": "stdout",
     "output_type": "stream",
     "text": [
      "Triple spacy reply I am curious. What types of Instance like time do Instance usually have\n",
      "\n",
      "\tLeolani: I am curious. What types of Instance like time do Instance usually have . \n",
      "input_prompt: I am curious. What types of Instance like time do Instance usually have . \n"
     ]
    },
    {
     "name": "stderr",
     "output_type": "stream",
     "text": [
      "2022-05-03 15:35:23 -     INFO -                                  cltl.triple_extraction.Chat - BLENDERBOT 134: \"Well\"\n"
     ]
    },
    {
     "name": "stdout",
     "output_type": "stream",
     "text": [
      "utteranceList: [\"<s><s><s> Well, it's basically a program that teaches you how to do a lot of different things.</s>\"]\n",
      "ANSWER  Well, it's basically a program that teaches you how to do a lot of different things.\n"
     ]
    },
    {
     "name": "stderr",
     "output_type": "stream",
     "text": [
      "2022-05-03 15:35:24 -  WARNING -                           cltl.triple_extraction.CFGAnalyzer - Couldn't parse input\n",
      "2022-05-03 15:35:24 -     INFO -                                  cltl.triple_extraction.Chat - BLENDERBOT 135: \"Well it 's basically a program that teaches you how to do a lot of different things.\"\n"
     ]
    },
    {
     "name": "stdout",
     "output_type": "stream",
     "text": [
      "Last utterance: Well\n",
      "CFG Tripels: []\n",
      "spacy Triples []\n",
      "\n",
      "\tAlso spaCy could not get that\n",
      "\n",
      "\tLeolani: \n",
      "\n",
      "\tFixed period BLENDERBOT: Well it 's basically a program that teaches you how to do a lot of different things.\n"
     ]
    },
    {
     "name": "stderr",
     "output_type": "stream",
     "text": [
      "2022-05-03 15:35:24 -  WARNING -                           cltl.triple_extraction.CFGAnalyzer - Couldn't parse input\n"
     ]
    },
    {
     "name": "stdout",
     "output_type": "stream",
     "text": [
      "Last utterance: Well it 's basically a program that teaches you how to do a lot of different things.\n",
      "CFG Tripels: []\n",
      "spacy Triples []\n",
      "\n",
      "\tAlso spaCy could not get that\n",
      "\n",
      "\tLeolani: \n",
      "input_prompt: \n"
     ]
    },
    {
     "name": "stderr",
     "output_type": "stream",
     "text": [
      "2022-05-03 15:35:28 -     INFO -                                  cltl.triple_extraction.Chat - BLENDERBOT 136: \"Do you have any pets?\"\n"
     ]
    },
    {
     "name": "stdout",
     "output_type": "stream",
     "text": [
      "utteranceList: [\"<s><s> Do you have any pets? I have a dog and he's my best friend.</s>\"]\n",
      "ANSWER  Do you have any pets? I have a dog and he's my best friend.\n",
      "Repeating   Do you have any pets ? \n",
      "\n",
      "\tFixed question BLENDERBOT: Do you have any pets?\n"
     ]
    },
    {
     "name": "stderr",
     "output_type": "stream",
     "text": [
      "2022-05-03 15:35:29 -  WARNING -                           cltl.triple_extraction.CFGAnalyzer - Couldn't parse input\n"
     ]
    },
    {
     "name": "stdout",
     "output_type": "stream",
     "text": [
      "Last utterance: Do you have any pets?\n",
      "CFG Tripels: []\n",
      "spacy Triples [('have', 'Leolani', 'pet')]\n",
      "Triple spacy Capsule:\n",
      "{'author': 'BLENDERBOT',\n",
      " 'chat': '2022-05-03-15_06_25',\n",
      " 'city': 'Amsterdam',\n",
      " 'context_id': 'Leolani',\n",
      " 'country': 'NL',\n",
      " 'date': datetime.date(2022, 5, 3),\n",
      " 'object': {'label': 'pet', 'type': ''},\n",
      " 'objects': [],\n",
      " 'people': [],\n",
      " 'place': 'Amsterdam',\n",
      " 'place_id': 117,\n",
      " 'position': 'image',\n",
      " 'predicate': {'label': 'have'},\n",
      " 'region': 'North Holland',\n",
      " 'subject': {'label': 'Leolani', 'type': ''},\n",
      " 'turn': '43acb0db-904b-48e7-8481-a88e039320ed',\n",
      " 'utterance': ''}\n",
      "2022-05-03 15:35:29,565 -     INFO -    cltl.brain.basic_brain.LongTermMemory - Triple in statement: leolani_have_pet [_->_])\n"
     ]
    },
    {
     "name": "stderr",
     "output_type": "stream",
     "text": [
      "2022-05-03 15:35:29 -     INFO -                        cltl.brain.basic_brain.LongTermMemory - Triple in statement: leolani_have_pet [_->_])\n"
     ]
    },
    {
     "name": "stdout",
     "output_type": "stream",
     "text": [
      "2022-05-03 15:35:29,610 -     INFO -  cltl.brain.basic_brain.ThoughtGenerator - Statement Novelty: 1 times, e.g. blenderbot on May,2022\n"
     ]
    },
    {
     "name": "stderr",
     "output_type": "stream",
     "text": [
      "2022-05-03 15:35:29 -     INFO -                      cltl.brain.basic_brain.ThoughtGenerator - Statement Novelty: 1 times, e.g. blenderbot on May,2022\n"
     ]
    },
    {
     "name": "stdout",
     "output_type": "stream",
     "text": [
      "2022-05-03 15:35:40,466 -     INFO -  cltl.brain.basic_brain.ThoughtGenerator - Negation Conflicts: blenderbot on May,2022 about UNDERSPECIFIED\n"
     ]
    },
    {
     "name": "stderr",
     "output_type": "stream",
     "text": [
      "2022-05-03 15:35:40 -     INFO -                      cltl.brain.basic_brain.ThoughtGenerator - Negation Conflicts: blenderbot on May,2022 about UNDERSPECIFIED\n"
     ]
    },
    {
     "name": "stdout",
     "output_type": "stream",
     "text": [
      "2022-05-03 15:35:40,518 -     INFO -  cltl.brain.basic_brain.ThoughtGenerator - Gaps: 22 gaps as subject: e.g. acknowledge smell - 10 gaps as object: e.g. be-child-of agent\n"
     ]
    },
    {
     "name": "stderr",
     "output_type": "stream",
     "text": [
      "2022-05-03 15:35:40 -     INFO -                      cltl.brain.basic_brain.ThoughtGenerator - Gaps: 22 gaps as subject: e.g. acknowledge smell - 10 gaps as object: e.g. be-child-of agent\n",
      "2022-05-03 15:35:40 -     INFO -                                  cltl.triple_extraction.Chat - BLENDERBOT 137: \"I have a dog and he 's my best friend.\"\n"
     ]
    },
    {
     "name": "stdout",
     "output_type": "stream",
     "text": [
      "Triple spacy reply I did not know that! I had never heard about I before!\n",
      "\n",
      "\tLeolani: I did not know that! I had never heard about I before! . \n",
      "Repeating I have a dog and he 's my best friend . \n",
      "\n",
      "\tFixed period BLENDERBOT: I have a dog and he 's my best friend.\n"
     ]
    },
    {
     "name": "stderr",
     "output_type": "stream",
     "text": [
      "2022-05-03 15:35:41 -  WARNING -                           cltl.triple_extraction.CFGAnalyzer - Couldn't parse input\n"
     ]
    },
    {
     "name": "stdout",
     "output_type": "stream",
     "text": [
      "Last utterance: I have a dog and he 's my best friend.\n",
      "CFG Tripels: []\n",
      "spacy Triples [('have', 'BLENDERBOT', 'dog')]\n",
      "Triple spacy Capsule:\n",
      "{'author': 'BLENDERBOT',\n",
      " 'chat': '2022-05-03-15_06_25',\n",
      " 'city': 'Amsterdam',\n",
      " 'context_id': 'Leolani',\n",
      " 'country': 'NL',\n",
      " 'date': datetime.date(2022, 5, 3),\n",
      " 'object': {'label': 'dog', 'type': ''},\n",
      " 'objects': [],\n",
      " 'people': [],\n",
      " 'place': 'Amsterdam',\n",
      " 'place_id': 117,\n",
      " 'position': 'image',\n",
      " 'predicate': {'label': 'have'},\n",
      " 'region': 'North Holland',\n",
      " 'subject': {'label': 'BLENDERBOT', 'type': ''},\n",
      " 'turn': '3b6e7c8a-2f76-4f4d-abd5-2b47625ea0bc',\n",
      " 'utterance': ''}\n",
      "2022-05-03 15:35:41,715 -     INFO -    cltl.brain.basic_brain.LongTermMemory - Triple in statement: blenderbot_have_dog [_->_])\n"
     ]
    },
    {
     "name": "stderr",
     "output_type": "stream",
     "text": [
      "2022-05-03 15:35:41 -     INFO -                        cltl.brain.basic_brain.LongTermMemory - Triple in statement: blenderbot_have_dog [_->_])\n"
     ]
    },
    {
     "name": "stdout",
     "output_type": "stream",
     "text": [
      "2022-05-03 15:35:41,761 -     INFO -  cltl.brain.basic_brain.ThoughtGenerator - Statement Novelty: 1 times, e.g. blenderbot on May,2022\n"
     ]
    },
    {
     "name": "stderr",
     "output_type": "stream",
     "text": [
      "2022-05-03 15:35:41 -     INFO -                      cltl.brain.basic_brain.ThoughtGenerator - Statement Novelty: 1 times, e.g. blenderbot on May,2022\n"
     ]
    },
    {
     "name": "stdout",
     "output_type": "stream",
     "text": [
      "2022-05-03 15:35:53,467 -     INFO -  cltl.brain.basic_brain.ThoughtGenerator - Negation Conflicts: blenderbot on May,2022 about UNDERSPECIFIED\n"
     ]
    },
    {
     "name": "stderr",
     "output_type": "stream",
     "text": [
      "2022-05-03 15:35:53 -     INFO -                      cltl.brain.basic_brain.ThoughtGenerator - Negation Conflicts: blenderbot on May,2022 about UNDERSPECIFIED\n"
     ]
    },
    {
     "name": "stdout",
     "output_type": "stream",
     "text": [
      "2022-05-03 15:35:53,565 -     INFO -  cltl.brain.basic_brain.ThoughtGenerator - Gaps: 26 gaps as subject: e.g. be-parent-of person - 15 gaps as object: e.g. like agent\n"
     ]
    },
    {
     "name": "stderr",
     "output_type": "stream",
     "text": [
      "2022-05-03 15:35:53 -     INFO -                      cltl.brain.basic_brain.ThoughtGenerator - Gaps: 26 gaps as subject: e.g. be-parent-of person - 15 gaps as object: e.g. like agent\n"
     ]
    },
    {
     "name": "stdout",
     "output_type": "stream",
     "text": [
      "Triple spacy reply That rings a bell. blenderbot told me about it in 2022 05 03T00:00:00\n",
      "\n",
      "\tLeolani: I did not know that! I had never heard about I before! . That rings a bell. blenderbot told me about it in 2022 05 03T00:00:00 . \n",
      "input_prompt: I did not know that! I had never heard about I before! . That rings a bell. blenderbot told me about it in 2022 05 03T00:00:00 . \n"
     ]
    },
    {
     "name": "stderr",
     "output_type": "stream",
     "text": [
      "2022-05-03 15:35:58 -     INFO -                                  cltl.triple_extraction.Chat - BLENDERBOT 138: \"Wow\"\n"
     ]
    },
    {
     "name": "stdout",
     "output_type": "stream",
     "text": [
      "utteranceList: [\"<s> Wow, that's a long time ago.  I wonder if it's still around today.</s>\"]\n",
      "ANSWER  Wow, that's a long time ago.  I wonder if it's still around today.\n"
     ]
    },
    {
     "name": "stderr",
     "output_type": "stream",
     "text": [
      "2022-05-03 15:35:59 -  WARNING -                           cltl.triple_extraction.CFGAnalyzer - Couldn't parse input\n",
      "2022-05-03 15:35:59 -     INFO -                                  cltl.triple_extraction.Chat - BLENDERBOT 139: \"Wow that 's a long time ago.\"\n"
     ]
    },
    {
     "name": "stdout",
     "output_type": "stream",
     "text": [
      "Last utterance: Wow\n",
      "CFG Tripels: []\n",
      "spacy Triples []\n",
      "\n",
      "\tAlso spaCy could not get that\n",
      "\n",
      "\tLeolani: \n",
      "\n",
      "\tFixed period BLENDERBOT: Wow that 's a long time ago.\n"
     ]
    },
    {
     "name": "stderr",
     "output_type": "stream",
     "text": [
      "2022-05-03 15:36:00 -  WARNING -                           cltl.triple_extraction.CFGAnalyzer - Couldn't parse input\n",
      "2022-05-03 15:36:00 -     INFO -                                  cltl.triple_extraction.Chat - BLENDERBOT 140: \"I wonder if it 's still around today.\"\n"
     ]
    },
    {
     "name": "stdout",
     "output_type": "stream",
     "text": [
      "Last utterance: Wow that 's a long time ago.\n",
      "CFG Tripels: []\n",
      "spacy Triples []\n",
      "\n",
      "\tAlso spaCy could not get that\n",
      "\n",
      "\tLeolani: \n",
      "\n",
      "\tFixed period BLENDERBOT: I wonder if it 's still around today.\n"
     ]
    },
    {
     "name": "stderr",
     "output_type": "stream",
     "text": [
      "2022-05-03 15:36:01 -  WARNING -                           cltl.triple_extraction.CFGAnalyzer - Couldn't parse input\n"
     ]
    },
    {
     "name": "stdout",
     "output_type": "stream",
     "text": [
      "Last utterance: I wonder if it 's still around today.\n",
      "CFG Tripels: []\n",
      "spacy Triples []\n",
      "\n",
      "\tAlso spaCy could not get that\n",
      "\n",
      "\tLeolani: \n",
      "input_prompt: \n"
     ]
    },
    {
     "name": "stderr",
     "output_type": "stream",
     "text": [
      "2022-05-03 15:36:05 -     INFO -                                  cltl.triple_extraction.Chat - BLENDERBOT 141: \"Do you have any pets?\"\n"
     ]
    },
    {
     "name": "stdout",
     "output_type": "stream",
     "text": [
      "utteranceList: [\"<s><s> Do you have any pets? I have a dog and he's my best friend.</s>\"]\n",
      "ANSWER  Do you have any pets? I have a dog and he's my best friend.\n",
      "Repeating   Do you have any pets ? \n",
      "\n",
      "\tFixed question BLENDERBOT: Do you have any pets?\n"
     ]
    },
    {
     "name": "stderr",
     "output_type": "stream",
     "text": [
      "2022-05-03 15:36:05 -  WARNING -                           cltl.triple_extraction.CFGAnalyzer - Couldn't parse input\n"
     ]
    },
    {
     "name": "stdout",
     "output_type": "stream",
     "text": [
      "Last utterance: Do you have any pets?\n",
      "CFG Tripels: []\n",
      "spacy Triples [('have', 'Leolani', 'pet')]\n",
      "Triple spacy Capsule:\n",
      "{'author': 'BLENDERBOT',\n",
      " 'chat': '2022-05-03-15_06_25',\n",
      " 'city': 'Amsterdam',\n",
      " 'context_id': 'Leolani',\n",
      " 'country': 'NL',\n",
      " 'date': datetime.date(2022, 5, 3),\n",
      " 'object': {'label': 'pet', 'type': ''},\n",
      " 'objects': [],\n",
      " 'people': [],\n",
      " 'place': 'Amsterdam',\n",
      " 'place_id': 117,\n",
      " 'position': 'image',\n",
      " 'predicate': {'label': 'have'},\n",
      " 'region': 'North Holland',\n",
      " 'subject': {'label': 'Leolani', 'type': ''},\n",
      " 'turn': '14c35473-a236-4ffa-a16c-c21de7232a7a',\n",
      " 'utterance': ''}\n",
      "2022-05-03 15:36:06,016 -     INFO -    cltl.brain.basic_brain.LongTermMemory - Triple in statement: leolani_have_pet [_->_])\n"
     ]
    },
    {
     "name": "stderr",
     "output_type": "stream",
     "text": [
      "2022-05-03 15:36:06 -     INFO -                        cltl.brain.basic_brain.LongTermMemory - Triple in statement: leolani_have_pet [_->_])\n"
     ]
    },
    {
     "name": "stdout",
     "output_type": "stream",
     "text": [
      "2022-05-03 15:36:06,061 -     INFO -  cltl.brain.basic_brain.ThoughtGenerator - Statement Novelty: 1 times, e.g. blenderbot on May,2022\n"
     ]
    },
    {
     "name": "stderr",
     "output_type": "stream",
     "text": [
      "2022-05-03 15:36:06 -     INFO -                      cltl.brain.basic_brain.ThoughtGenerator - Statement Novelty: 1 times, e.g. blenderbot on May,2022\n"
     ]
    },
    {
     "name": "stdout",
     "output_type": "stream",
     "text": [
      "2022-05-03 15:36:17,012 -     INFO -  cltl.brain.basic_brain.ThoughtGenerator - Negation Conflicts: blenderbot on May,2022 about UNDERSPECIFIED\n"
     ]
    },
    {
     "name": "stderr",
     "output_type": "stream",
     "text": [
      "2022-05-03 15:36:17 -     INFO -                      cltl.brain.basic_brain.ThoughtGenerator - Negation Conflicts: blenderbot on May,2022 about UNDERSPECIFIED\n"
     ]
    },
    {
     "name": "stdout",
     "output_type": "stream",
     "text": [
      "2022-05-03 15:36:17,111 -     INFO -  cltl.brain.basic_brain.ThoughtGenerator - Gaps: 22 gaps as subject: e.g. like agent - 10 gaps as object: e.g. read-by book\n"
     ]
    },
    {
     "name": "stderr",
     "output_type": "stream",
     "text": [
      "2022-05-03 15:36:17 -     INFO -                      cltl.brain.basic_brain.ThoughtGenerator - Gaps: 22 gaps as subject: e.g. like agent - 10 gaps as object: e.g. read-by book\n",
      "2022-05-03 15:36:17 -     INFO -                                  cltl.triple_extraction.Chat - BLENDERBOT 142: \"I have a dog and he 's my best friend.\"\n"
     ]
    },
    {
     "name": "stdout",
     "output_type": "stream",
     "text": [
      "Triple spacy reply If you don't mind me asking. What types can leolani have\n",
      "\n",
      "\tLeolani: If you don't mind me asking. What types can leolani have . \n",
      "Repeating I have a dog and he 's my best friend . \n",
      "\n",
      "\tFixed period BLENDERBOT: I have a dog and he 's my best friend.\n"
     ]
    },
    {
     "name": "stderr",
     "output_type": "stream",
     "text": [
      "2022-05-03 15:36:18 -  WARNING -                           cltl.triple_extraction.CFGAnalyzer - Couldn't parse input\n"
     ]
    },
    {
     "name": "stdout",
     "output_type": "stream",
     "text": [
      "Last utterance: I have a dog and he 's my best friend.\n",
      "CFG Tripels: []\n",
      "spacy Triples [('have', 'BLENDERBOT', 'dog')]\n",
      "Triple spacy Capsule:\n",
      "{'author': 'BLENDERBOT',\n",
      " 'chat': '2022-05-03-15_06_25',\n",
      " 'city': 'Amsterdam',\n",
      " 'context_id': 'Leolani',\n",
      " 'country': 'NL',\n",
      " 'date': datetime.date(2022, 5, 3),\n",
      " 'object': {'label': 'dog', 'type': ''},\n",
      " 'objects': [],\n",
      " 'people': [],\n",
      " 'place': 'Amsterdam',\n",
      " 'place_id': 117,\n",
      " 'position': 'image',\n",
      " 'predicate': {'label': 'have'},\n",
      " 'region': 'North Holland',\n",
      " 'subject': {'label': 'BLENDERBOT', 'type': ''},\n",
      " 'turn': '25eaeb29-b9bc-4560-97eb-c31063672ffd',\n",
      " 'utterance': ''}\n",
      "2022-05-03 15:36:18,614 -     INFO -    cltl.brain.basic_brain.LongTermMemory - Triple in statement: blenderbot_have_dog [_->_])\n"
     ]
    },
    {
     "name": "stderr",
     "output_type": "stream",
     "text": [
      "2022-05-03 15:36:18 -     INFO -                        cltl.brain.basic_brain.LongTermMemory - Triple in statement: blenderbot_have_dog [_->_])\n"
     ]
    },
    {
     "name": "stdout",
     "output_type": "stream",
     "text": [
      "2022-05-03 15:36:18,659 -     INFO -  cltl.brain.basic_brain.ThoughtGenerator - Statement Novelty: 1 times, e.g. blenderbot on May,2022\n"
     ]
    },
    {
     "name": "stderr",
     "output_type": "stream",
     "text": [
      "2022-05-03 15:36:18 -     INFO -                      cltl.brain.basic_brain.ThoughtGenerator - Statement Novelty: 1 times, e.g. blenderbot on May,2022\n"
     ]
    },
    {
     "name": "stdout",
     "output_type": "stream",
     "text": [
      "2022-05-03 15:36:33,065 -     INFO -  cltl.brain.basic_brain.ThoughtGenerator - Negation Conflicts: blenderbot on May,2022 about UNDERSPECIFIED\n"
     ]
    },
    {
     "name": "stderr",
     "output_type": "stream",
     "text": [
      "2022-05-03 15:36:33 -     INFO -                      cltl.brain.basic_brain.ThoughtGenerator - Negation Conflicts: blenderbot on May,2022 about UNDERSPECIFIED\n"
     ]
    },
    {
     "name": "stdout",
     "output_type": "stream",
     "text": [
      "2022-05-03 15:36:33,159 -     INFO -  cltl.brain.basic_brain.ThoughtGenerator - Gaps: 26 gaps as subject: e.g. favorite interest - 15 gaps as object: e.g. like-by interest\n"
     ]
    },
    {
     "name": "stderr",
     "output_type": "stream",
     "text": [
      "2022-05-03 15:36:33 -     INFO -                      cltl.brain.basic_brain.ThoughtGenerator - Gaps: 26 gaps as subject: e.g. favorite interest - 15 gaps as object: e.g. like-by interest\n"
     ]
    },
    {
     "name": "stdout",
     "output_type": "stream",
     "text": [
      "Triple spacy reply I have heard this before. blenderbot told me about it in 2022 05 03T00:00:00\n",
      "\n",
      "\tLeolani: If you don't mind me asking. What types can leolani have . I have heard this before. blenderbot told me about it in 2022 05 03T00:00:00 . \n",
      "input_prompt: If you don't mind me asking. What types can leolani have . I have heard this before. blenderbot told me about it in 2022 05 03T00:00:00 . \n"
     ]
    },
    {
     "name": "stderr",
     "output_type": "stream",
     "text": [
      "2022-05-03 15:36:38 -     INFO -                                  cltl.triple_extraction.Chat - BLENDERBOT 143: \"They can be made from cotton\"\n"
     ]
    },
    {
     "name": "stdout",
     "output_type": "stream",
     "text": [
      "utteranceList: ['<s><s><s> They can be made from cotton, rice, wheat, or maize.</s>']\n",
      "ANSWER  They can be made from cotton, rice, wheat, or maize.\n"
     ]
    },
    {
     "name": "stderr",
     "output_type": "stream",
     "text": [
      "2022-05-03 15:36:39 -  WARNING -                           cltl.triple_extraction.CFGAnalyzer - Couldn't parse input\n",
      "2022-05-03 15:36:39 -     INFO -                                  cltl.triple_extraction.Chat - BLENDERBOT 144: \"They can be made from cotton rice\"\n"
     ]
    },
    {
     "name": "stdout",
     "output_type": "stream",
     "text": [
      "Last utterance: They can be made from cotton\n",
      "CFG Tripels: []\n",
      "spacy Triples []\n",
      "\n",
      "\tAlso spaCy could not get that\n",
      "\n",
      "\tLeolani: \n"
     ]
    },
    {
     "name": "stderr",
     "output_type": "stream",
     "text": [
      "2022-05-03 15:36:40 -  WARNING -                           cltl.triple_extraction.CFGAnalyzer - Couldn't parse input\n",
      "2022-05-03 15:36:40 -     INFO -                                  cltl.triple_extraction.Chat - BLENDERBOT 145: \"They can be made from cotton rice wheat\"\n"
     ]
    },
    {
     "name": "stdout",
     "output_type": "stream",
     "text": [
      "Last utterance: They can be made from cotton rice\n",
      "CFG Tripels: []\n",
      "spacy Triples []\n",
      "\n",
      "\tAlso spaCy could not get that\n",
      "\n",
      "\tLeolani: \n"
     ]
    },
    {
     "name": "stderr",
     "output_type": "stream",
     "text": [
      "2022-05-03 15:36:41 -  WARNING -                           cltl.triple_extraction.CFGAnalyzer - Couldn't parse input\n",
      "2022-05-03 15:36:41 -     INFO -                                  cltl.triple_extraction.Chat - BLENDERBOT 146: \"They can be made from cotton rice wheat or maize.\"\n"
     ]
    },
    {
     "name": "stdout",
     "output_type": "stream",
     "text": [
      "Last utterance: They can be made from cotton rice wheat\n",
      "CFG Tripels: []\n",
      "spacy Triples []\n",
      "\n",
      "\tAlso spaCy could not get that\n",
      "\n",
      "\tLeolani: \n",
      "\n",
      "\tFixed period BLENDERBOT: They can be made from cotton rice wheat or maize.\n"
     ]
    },
    {
     "name": "stderr",
     "output_type": "stream",
     "text": [
      "2022-05-03 15:36:42 -  WARNING -                           cltl.triple_extraction.CFGAnalyzer - Couldn't parse input\n"
     ]
    },
    {
     "name": "stdout",
     "output_type": "stream",
     "text": [
      "Last utterance: They can be made from cotton rice wheat or maize.\n",
      "CFG Tripels: []\n",
      "spacy Triples []\n",
      "\n",
      "\tAlso spaCy could not get that\n",
      "\n",
      "\tLeolani: \n",
      "input_prompt: \n"
     ]
    },
    {
     "name": "stderr",
     "output_type": "stream",
     "text": [
      "2022-05-03 15:36:45 -     INFO -                                  cltl.triple_extraction.Chat - BLENDERBOT 147: \"Do you have any pets?\"\n"
     ]
    },
    {
     "name": "stdout",
     "output_type": "stream",
     "text": [
      "utteranceList: [\"<s><s> Do you have any pets? I have a dog and he's my best friend.</s>\"]\n",
      "ANSWER  Do you have any pets? I have a dog and he's my best friend.\n",
      "Repeating   Do you have any pets ? \n",
      "\n",
      "\tFixed question BLENDERBOT: Do you have any pets?\n"
     ]
    },
    {
     "name": "stderr",
     "output_type": "stream",
     "text": [
      "2022-05-03 15:36:46 -  WARNING -                           cltl.triple_extraction.CFGAnalyzer - Couldn't parse input\n"
     ]
    },
    {
     "name": "stdout",
     "output_type": "stream",
     "text": [
      "Last utterance: Do you have any pets?\n",
      "CFG Tripels: []\n",
      "spacy Triples [('have', 'Leolani', 'pet')]\n",
      "Triple spacy Capsule:\n",
      "{'author': 'BLENDERBOT',\n",
      " 'chat': '2022-05-03-15_06_25',\n",
      " 'city': 'Amsterdam',\n",
      " 'context_id': 'Leolani',\n",
      " 'country': 'NL',\n",
      " 'date': datetime.date(2022, 5, 3),\n",
      " 'object': {'label': 'pet', 'type': ''},\n",
      " 'objects': [],\n",
      " 'people': [],\n",
      " 'place': 'Amsterdam',\n",
      " 'place_id': 117,\n",
      " 'position': 'image',\n",
      " 'predicate': {'label': 'have'},\n",
      " 'region': 'North Holland',\n",
      " 'subject': {'label': 'Leolani', 'type': ''},\n",
      " 'turn': '62fcd552-a692-42bf-89fa-c721652ac46a',\n",
      " 'utterance': ''}\n",
      "2022-05-03 15:36:46,568 -     INFO -    cltl.brain.basic_brain.LongTermMemory - Triple in statement: leolani_have_pet [_->_])\n"
     ]
    },
    {
     "name": "stderr",
     "output_type": "stream",
     "text": [
      "2022-05-03 15:36:46 -     INFO -                        cltl.brain.basic_brain.LongTermMemory - Triple in statement: leolani_have_pet [_->_])\n"
     ]
    },
    {
     "name": "stdout",
     "output_type": "stream",
     "text": [
      "2022-05-03 15:36:46,653 -     INFO -  cltl.brain.basic_brain.ThoughtGenerator - Statement Novelty: 1 times, e.g. blenderbot on May,2022\n"
     ]
    },
    {
     "name": "stderr",
     "output_type": "stream",
     "text": [
      "2022-05-03 15:36:46 -     INFO -                      cltl.brain.basic_brain.ThoughtGenerator - Statement Novelty: 1 times, e.g. blenderbot on May,2022\n",
      "2022-05-03 15:36:59 -     INFO -                                  cltl.triple_extraction.Chat - BLENDERBOT 148: \"I have a dog and he 's my best friend.\"\n"
     ]
    },
    {
     "name": "stdout",
     "output_type": "stream",
     "text": [
      "Error: None\n",
      "\n",
      "\tAlso spaCy could not get that\n",
      "\n",
      "\tLeolani: \n",
      "Repeating I have a dog and he 's my best friend . \n",
      "\n",
      "\tFixed period BLENDERBOT: I have a dog and he 's my best friend.\n"
     ]
    },
    {
     "ename": "KeyboardInterrupt",
     "evalue": "",
     "output_type": "error",
     "traceback": [
      "\u001b[0;31m---------------------------------------------------------------------------\u001b[0m",
      "\u001b[0;31mKeyboardInterrupt\u001b[0m                         Traceback (most recent call last)",
      "Input \u001b[0;32mIn [35]\u001b[0m, in \u001b[0;36m<cell line: 26>\u001b[0;34m()\u001b[0m\n\u001b[1;32m     63\u001b[0m scenario_ctrl\u001b[38;5;241m.\u001b[39mappend_signal(textSignal)\n\u001b[1;32m     65\u001b[0m \u001b[38;5;66;03m#### Process input and generate reply\u001b[39;00m\n\u001b[0;32m---> 67\u001b[0m replies, response_list \u001b[38;5;241m=\u001b[39m \u001b[43mprocess_text_with_cfg_and_reply\u001b[49m\u001b[43m(\u001b[49m\u001b[43mscenario_ctrl\u001b[49m\u001b[43m,\u001b[49m\u001b[43m \u001b[49m\u001b[43mplace_id\u001b[49m\u001b[43m,\u001b[49m\u001b[43m \u001b[49m\u001b[43mlocation\u001b[49m\u001b[43m,\u001b[49m\u001b[43m \u001b[49m\u001b[43mHUMAN_ID\u001b[49m\u001b[43m,\u001b[49m\u001b[43m \u001b[49m\u001b[43mtextSignal\u001b[49m\u001b[43m,\u001b[49m\u001b[43m \u001b[49m\u001b[43mchat\u001b[49m\u001b[43m,\u001b[49m\u001b[43m \u001b[49m\u001b[43manalyzer\u001b[49m\u001b[43m,\u001b[49m\u001b[43m \u001b[49m\u001b[43mreplier\u001b[49m\u001b[43m,\u001b[49m\u001b[43m \u001b[49m\u001b[43mmy_brain\u001b[49m\u001b[43m,\u001b[49m\u001b[43m \u001b[49m\u001b[43mprint_details\u001b[49m\u001b[43m)\u001b[49m\n\u001b[1;32m     69\u001b[0m \u001b[38;5;28;01mif\u001b[39;00m \u001b[38;5;129;01mnot\u001b[39;00m replies:                \n\u001b[1;32m     70\u001b[0m     replies, response_json_list \u001b[38;5;241m=\u001b[39m process_triple_spacy_and_reply(scenario_ctrl,place_id,location,HUMAN_ID,AGENT, textSignal,replier,my_brain,nlp,print_details)\n",
      "Input \u001b[0;32mIn [33]\u001b[0m, in \u001b[0;36mprocess_text_with_cfg_and_reply\u001b[0;34m(scenario, place_id, location, human_id, textSignal, chat, analyzer, replier, my_brain, print_details)\u001b[0m\n\u001b[1;32m     16\u001b[0m \u001b[38;5;66;03m### Next, we get all possible triples\u001b[39;00m\n\u001b[1;32m     17\u001b[0m chat\u001b[38;5;241m.\u001b[39madd_utterance(c_util\u001b[38;5;241m.\u001b[39mseq_to_text(textSignal\u001b[38;5;241m.\u001b[39mseq))\n\u001b[0;32m---> 19\u001b[0m \u001b[43manalyzer\u001b[49m\u001b[38;5;241;43m.\u001b[39;49m\u001b[43manalyze\u001b[49m\u001b[43m(\u001b[49m\u001b[43mchat\u001b[49m\u001b[38;5;241;43m.\u001b[39;49m\u001b[43mlast_utterance\u001b[49m\u001b[43m)\u001b[49m\n\u001b[1;32m     21\u001b[0m \u001b[38;5;28;01mif\u001b[39;00m print_details:\n\u001b[1;32m     22\u001b[0m     \u001b[38;5;28mprint\u001b[39m(\u001b[38;5;124m'\u001b[39m\u001b[38;5;124mLast utterance:\u001b[39m\u001b[38;5;124m'\u001b[39m, c_util\u001b[38;5;241m.\u001b[39mseq_to_text(textSignal\u001b[38;5;241m.\u001b[39mseq))\n",
      "File \u001b[0;32m~/PycharmProjects/cltl-chatbots/chatvenv/lib/python3.9/site-packages/cltl/triple_extraction/cfg_analyzer.py:47\u001b[0m, in \u001b[0;36mCFGAnalyzer.analyze\u001b[0;34m(self, utterance)\u001b[0m\n\u001b[1;32m     33\u001b[0m \u001b[38;5;124;03m\"\"\"\u001b[39;00m\n\u001b[1;32m     34\u001b[0m \u001b[38;5;124;03mCFGAnalyzer factory function\u001b[39;00m\n\u001b[1;32m     35\u001b[0m \n\u001b[0;32m   (...)\u001b[0m\n\u001b[1;32m     42\u001b[0m \n\u001b[1;32m     43\u001b[0m \u001b[38;5;124;03m\"\"\"\u001b[39;00m\n\u001b[1;32m     45\u001b[0m \u001b[38;5;28msuper\u001b[39m(CFGAnalyzer, \u001b[38;5;28mself\u001b[39m)\u001b[38;5;241m.\u001b[39manalyze(utterance)\n\u001b[0;32m---> 47\u001b[0m \u001b[43mCFGAnalyzer\u001b[49m\u001b[38;5;241;43m.\u001b[39;49m\u001b[43mPARSER\u001b[49m\u001b[38;5;241;43m.\u001b[39;49m\u001b[43mparse\u001b[49m\u001b[43m(\u001b[49m\u001b[43mutterance\u001b[49m\u001b[43m)\u001b[49m\n\u001b[1;32m     49\u001b[0m \u001b[38;5;28;01mif\u001b[39;00m \u001b[38;5;129;01mnot\u001b[39;00m CFGAnalyzer\u001b[38;5;241m.\u001b[39mPARSER\u001b[38;5;241m.\u001b[39mforest:\n\u001b[1;32m     50\u001b[0m     \u001b[38;5;28mself\u001b[39m\u001b[38;5;241m.\u001b[39m_log\u001b[38;5;241m.\u001b[39mwarning(\u001b[38;5;124m\"\u001b[39m\u001b[38;5;124mCouldn\u001b[39m\u001b[38;5;124m'\u001b[39m\u001b[38;5;124mt parse input\u001b[39m\u001b[38;5;124m\"\u001b[39m)\n",
      "File \u001b[0;32m~/PycharmProjects/cltl-chatbots/chatvenv/lib/python3.9/site-packages/cltl/triple_extraction/nlp/parser.py:51\u001b[0m, in \u001b[0;36mParser.parse\u001b[0;34m(self, utterance)\u001b[0m\n\u001b[1;32m     49\u001b[0m \u001b[38;5;28mself\u001b[39m\u001b[38;5;241m.\u001b[39m_log\u001b[38;5;241m.\u001b[39mdebug(\u001b[38;5;124m\"\u001b[39m\u001b[38;5;124mStart parsing\u001b[39m\u001b[38;5;124m\"\u001b[39m)\n\u001b[1;32m     50\u001b[0m tokenized_sentence \u001b[38;5;241m=\u001b[39m utterance\u001b[38;5;241m.\u001b[39mtokens\n\u001b[0;32m---> 51\u001b[0m pos \u001b[38;5;241m=\u001b[39m \u001b[38;5;28;43mself\u001b[39;49m\u001b[38;5;241;43m.\u001b[39;49m\u001b[43mPOS_TAGGER\u001b[49m\u001b[38;5;241;43m.\u001b[39;49m\u001b[43mtag\u001b[49m\u001b[43m(\u001b[49m\u001b[43mtokenized_sentence\u001b[49m\u001b[43m)\u001b[49m  \u001b[38;5;66;03m# stanford\u001b[39;00m\n\u001b[1;32m     52\u001b[0m alternative_pos \u001b[38;5;241m=\u001b[39m pos_tag(tokenized_sentence)  \u001b[38;5;66;03m# nltk\u001b[39;00m\n\u001b[1;32m     54\u001b[0m \u001b[38;5;28mself\u001b[39m\u001b[38;5;241m.\u001b[39m_log\u001b[38;5;241m.\u001b[39mdebug(pos)\n",
      "File \u001b[0;32m~/PycharmProjects/cltl-chatbots/chatvenv/lib/python3.9/site-packages/cltl/triple_extraction/nlp/pos.py:36\u001b[0m, in \u001b[0;36mPOS.tag\u001b[0;34m(self, tokens)\u001b[0m\n\u001b[1;32m     23\u001b[0m \u001b[38;5;124;03m\"\"\"\u001b[39;00m\n\u001b[1;32m     24\u001b[0m \u001b[38;5;124;03mTag Part of Speech using Stanford NER\u001b[39;00m\n\u001b[1;32m     25\u001b[0m \n\u001b[0;32m   (...)\u001b[0m\n\u001b[1;32m     32\u001b[0m \u001b[38;5;124;03mPOS: list of tuples of strings\u001b[39;00m\n\u001b[1;32m     33\u001b[0m \u001b[38;5;124;03m\"\"\"\u001b[39;00m\n\u001b[1;32m     35\u001b[0m \u001b[38;5;28;01mtry\u001b[39;00m:\n\u001b[0;32m---> 36\u001b[0m     \u001b[38;5;28;01mreturn\u001b[39;00m \u001b[38;5;28;43mself\u001b[39;49m\u001b[38;5;241;43m.\u001b[39;49m\u001b[43m_tagger\u001b[49m\u001b[38;5;241;43m.\u001b[39;49m\u001b[43mtag\u001b[49m\u001b[43m(\u001b[49m\u001b[43mtokens\u001b[49m\u001b[43m)\u001b[49m\n\u001b[1;32m     37\u001b[0m \u001b[38;5;28;01mexcept\u001b[39;00m \u001b[38;5;167;01mException\u001b[39;00m \u001b[38;5;28;01mas\u001b[39;00m e:\n\u001b[1;32m     38\u001b[0m     \u001b[38;5;28mself\u001b[39m\u001b[38;5;241m.\u001b[39m_log\u001b[38;5;241m.\u001b[39merror(\u001b[38;5;124m\"\u001b[39m\u001b[38;5;124mCouldn\u001b[39m\u001b[38;5;124m'\u001b[39m\u001b[38;5;124mt connect to Java POS Server. Do you have Java installed?\u001b[39m\u001b[38;5;124m\"\u001b[39m)\n",
      "File \u001b[0;32m~/PycharmProjects/cltl-chatbots/chatvenv/lib/python3.9/site-packages/nltk/tag/stanford.py:93\u001b[0m, in \u001b[0;36mStanfordTagger.tag\u001b[0;34m(self, tokens)\u001b[0m\n\u001b[1;32m     91\u001b[0m \u001b[38;5;28;01mdef\u001b[39;00m \u001b[38;5;21mtag\u001b[39m(\u001b[38;5;28mself\u001b[39m, tokens):\n\u001b[1;32m     92\u001b[0m     \u001b[38;5;66;03m# This function should return list of tuple rather than list of list\u001b[39;00m\n\u001b[0;32m---> 93\u001b[0m     \u001b[38;5;28;01mreturn\u001b[39;00m \u001b[38;5;28msum\u001b[39m(\u001b[38;5;28;43mself\u001b[39;49m\u001b[38;5;241;43m.\u001b[39;49m\u001b[43mtag_sents\u001b[49m\u001b[43m(\u001b[49m\u001b[43m[\u001b[49m\u001b[43mtokens\u001b[49m\u001b[43m]\u001b[49m\u001b[43m)\u001b[49m, [])\n",
      "File \u001b[0;32m~/PycharmProjects/cltl-chatbots/chatvenv/lib/python3.9/site-packages/nltk/tag/stanford.py:115\u001b[0m, in \u001b[0;36mStanfordTagger.tag_sents\u001b[0;34m(self, sentences)\u001b[0m\n\u001b[1;32m    112\u001b[0m _input_fh\u001b[38;5;241m.\u001b[39mclose()\n\u001b[1;32m    114\u001b[0m \u001b[38;5;66;03m# Run the tagger and get the output\u001b[39;00m\n\u001b[0;32m--> 115\u001b[0m stanpos_output, _stderr \u001b[38;5;241m=\u001b[39m \u001b[43mjava\u001b[49m\u001b[43m(\u001b[49m\n\u001b[1;32m    116\u001b[0m \u001b[43m    \u001b[49m\u001b[43mcmd\u001b[49m\u001b[43m,\u001b[49m\u001b[43m \u001b[49m\u001b[43mclasspath\u001b[49m\u001b[38;5;241;43m=\u001b[39;49m\u001b[38;5;28;43mself\u001b[39;49m\u001b[38;5;241;43m.\u001b[39;49m\u001b[43m_stanford_jar\u001b[49m\u001b[43m,\u001b[49m\u001b[43m \u001b[49m\u001b[43mstdout\u001b[49m\u001b[38;5;241;43m=\u001b[39;49m\u001b[43mPIPE\u001b[49m\u001b[43m,\u001b[49m\u001b[43m \u001b[49m\u001b[43mstderr\u001b[49m\u001b[38;5;241;43m=\u001b[39;49m\u001b[43mPIPE\u001b[49m\n\u001b[1;32m    117\u001b[0m \u001b[43m\u001b[49m\u001b[43m)\u001b[49m\n\u001b[1;32m    118\u001b[0m stanpos_output \u001b[38;5;241m=\u001b[39m stanpos_output\u001b[38;5;241m.\u001b[39mdecode(encoding)\n\u001b[1;32m    120\u001b[0m \u001b[38;5;66;03m# Delete the temporary file\u001b[39;00m\n",
      "File \u001b[0;32m~/PycharmProjects/cltl-chatbots/chatvenv/lib/python3.9/site-packages/nltk/internals.py:141\u001b[0m, in \u001b[0;36mjava\u001b[0;34m(cmd, classpath, stdin, stdout, stderr, blocking)\u001b[0m\n\u001b[1;32m    139\u001b[0m \u001b[38;5;28;01mif\u001b[39;00m \u001b[38;5;129;01mnot\u001b[39;00m blocking:\n\u001b[1;32m    140\u001b[0m     \u001b[38;5;28;01mreturn\u001b[39;00m p\n\u001b[0;32m--> 141\u001b[0m (stdout, stderr) \u001b[38;5;241m=\u001b[39m \u001b[43mp\u001b[49m\u001b[38;5;241;43m.\u001b[39;49m\u001b[43mcommunicate\u001b[49m\u001b[43m(\u001b[49m\u001b[43m)\u001b[49m\n\u001b[1;32m    143\u001b[0m \u001b[38;5;66;03m# Check the return code.\u001b[39;00m\n\u001b[1;32m    144\u001b[0m \u001b[38;5;28;01mif\u001b[39;00m p\u001b[38;5;241m.\u001b[39mreturncode \u001b[38;5;241m!=\u001b[39m \u001b[38;5;241m0\u001b[39m:\n",
      "File \u001b[0;32m~/opt/anaconda3/lib/python3.9/subprocess.py:1134\u001b[0m, in \u001b[0;36mPopen.communicate\u001b[0;34m(self, input, timeout)\u001b[0m\n\u001b[1;32m   1131\u001b[0m     endtime \u001b[38;5;241m=\u001b[39m \u001b[38;5;28;01mNone\u001b[39;00m\n\u001b[1;32m   1133\u001b[0m \u001b[38;5;28;01mtry\u001b[39;00m:\n\u001b[0;32m-> 1134\u001b[0m     stdout, stderr \u001b[38;5;241m=\u001b[39m \u001b[38;5;28;43mself\u001b[39;49m\u001b[38;5;241;43m.\u001b[39;49m\u001b[43m_communicate\u001b[49m\u001b[43m(\u001b[49m\u001b[38;5;28;43minput\u001b[39;49m\u001b[43m,\u001b[49m\u001b[43m \u001b[49m\u001b[43mendtime\u001b[49m\u001b[43m,\u001b[49m\u001b[43m \u001b[49m\u001b[43mtimeout\u001b[49m\u001b[43m)\u001b[49m\n\u001b[1;32m   1135\u001b[0m \u001b[38;5;28;01mexcept\u001b[39;00m \u001b[38;5;167;01mKeyboardInterrupt\u001b[39;00m:\n\u001b[1;32m   1136\u001b[0m     \u001b[38;5;66;03m# https://bugs.python.org/issue25942\u001b[39;00m\n\u001b[1;32m   1137\u001b[0m     \u001b[38;5;66;03m# See the detailed comment in .wait().\u001b[39;00m\n\u001b[1;32m   1138\u001b[0m     \u001b[38;5;28;01mif\u001b[39;00m timeout \u001b[38;5;129;01mis\u001b[39;00m \u001b[38;5;129;01mnot\u001b[39;00m \u001b[38;5;28;01mNone\u001b[39;00m:\n",
      "File \u001b[0;32m~/opt/anaconda3/lib/python3.9/subprocess.py:1979\u001b[0m, in \u001b[0;36mPopen._communicate\u001b[0;34m(self, input, endtime, orig_timeout)\u001b[0m\n\u001b[1;32m   1972\u001b[0m     \u001b[38;5;28mself\u001b[39m\u001b[38;5;241m.\u001b[39m_check_timeout(endtime, orig_timeout,\n\u001b[1;32m   1973\u001b[0m                         stdout, stderr,\n\u001b[1;32m   1974\u001b[0m                         skip_check_and_raise\u001b[38;5;241m=\u001b[39m\u001b[38;5;28;01mTrue\u001b[39;00m)\n\u001b[1;32m   1975\u001b[0m     \u001b[38;5;28;01mraise\u001b[39;00m \u001b[38;5;167;01mRuntimeError\u001b[39;00m(  \u001b[38;5;66;03m# Impossible :)\u001b[39;00m\n\u001b[1;32m   1976\u001b[0m         \u001b[38;5;124m'\u001b[39m\u001b[38;5;124m_check_timeout(..., skip_check_and_raise=True) \u001b[39m\u001b[38;5;124m'\u001b[39m\n\u001b[1;32m   1977\u001b[0m         \u001b[38;5;124m'\u001b[39m\u001b[38;5;124mfailed to raise TimeoutExpired.\u001b[39m\u001b[38;5;124m'\u001b[39m)\n\u001b[0;32m-> 1979\u001b[0m ready \u001b[38;5;241m=\u001b[39m \u001b[43mselector\u001b[49m\u001b[38;5;241;43m.\u001b[39;49m\u001b[43mselect\u001b[49m\u001b[43m(\u001b[49m\u001b[43mtimeout\u001b[49m\u001b[43m)\u001b[49m\n\u001b[1;32m   1980\u001b[0m \u001b[38;5;28mself\u001b[39m\u001b[38;5;241m.\u001b[39m_check_timeout(endtime, orig_timeout, stdout, stderr)\n\u001b[1;32m   1982\u001b[0m \u001b[38;5;66;03m# XXX Rewrite these to use non-blocking I/O on the file\u001b[39;00m\n\u001b[1;32m   1983\u001b[0m \u001b[38;5;66;03m# objects; they are no longer using C stdio!\u001b[39;00m\n",
      "File \u001b[0;32m~/opt/anaconda3/lib/python3.9/selectors.py:416\u001b[0m, in \u001b[0;36m_PollLikeSelector.select\u001b[0;34m(self, timeout)\u001b[0m\n\u001b[1;32m    414\u001b[0m ready \u001b[38;5;241m=\u001b[39m []\n\u001b[1;32m    415\u001b[0m \u001b[38;5;28;01mtry\u001b[39;00m:\n\u001b[0;32m--> 416\u001b[0m     fd_event_list \u001b[38;5;241m=\u001b[39m \u001b[38;5;28;43mself\u001b[39;49m\u001b[38;5;241;43m.\u001b[39;49m\u001b[43m_selector\u001b[49m\u001b[38;5;241;43m.\u001b[39;49m\u001b[43mpoll\u001b[49m\u001b[43m(\u001b[49m\u001b[43mtimeout\u001b[49m\u001b[43m)\u001b[49m\n\u001b[1;32m    417\u001b[0m \u001b[38;5;28;01mexcept\u001b[39;00m \u001b[38;5;167;01mInterruptedError\u001b[39;00m:\n\u001b[1;32m    418\u001b[0m     \u001b[38;5;28;01mreturn\u001b[39;00m ready\n",
      "\u001b[0;31mKeyboardInterrupt\u001b[0m: "
     ]
    }
   ],
   "source": [
    "print_details=True\n",
    "\n",
    "max_context=50\n",
    "t1 = datetime.now()\n",
    "history = []\n",
    "#### Initial prompt by the system from which we create a TextSignal and store it\n",
    "leolani_prompt = f\"{choice(TALK_TO_ME)}\"\n",
    "history.append(leolani_prompt)\n",
    "print('\\n\\t'+AGENT + \": \" + leolani_prompt)\n",
    "textSignal = d_util.create_text_signal_with_speaker_annotation(scenario_ctrl, leolani_prompt, AGENT)\n",
    "scenario_ctrl.append_signal(textSignal)\n",
    "\n",
    "\n",
    "#BLENDERBOT\n",
    "\n",
    "repetition = []\n",
    "utterance = \"\"\n",
    "response_json = None\n",
    "response_json_list = []\n",
    "replies = []\n",
    "#### Get input and loop\n",
    "#while (datetime.now()-t1).seconds <= 3600 or no_reply_count<15:\n",
    "    \n",
    "while True:\n",
    "    # BLENDER\n",
    "    answer = \"\"\n",
    "    \n",
    "    sentences = get_answer_from_blender(leolani_prompt, history)\n",
    "    leolani_prompt = \"\"\n",
    "\n",
    "    if not sentences:\n",
    "        if len(response_json_list)>0:\n",
    "            for response_json in response_json_list:\n",
    "                if response_json['statement']:\n",
    "                    leolani_prompt +=  replier.reply_to_statement(response_json, proactive=True, persist=True)\n",
    "                response_json_list = []\n",
    "        else:\n",
    "            leolani_prompt = f\"{choice(TALK_TO_ME)}\"\n",
    "\n",
    "        print('\\n\\t'+AGENT + \": \" + leolani_prompt)\n",
    "        textSignal = d_util.create_text_signal_with_speaker_annotation(scenario_ctrl, leolani_prompt, AGENT)\n",
    "        scenario_ctrl.append_signal(textSignal)\n",
    "\n",
    "    else:\n",
    "        for utterance in sentences:\n",
    "            if utterance in repetition:\n",
    "                print('Repeating', utterance)\n",
    "                #utterance = None\n",
    "            else:\n",
    "                repetition.append(utterance)\n",
    "\n",
    "            if utterance:\n",
    "                utterance = utterance.strip()\n",
    "                if utterance.endswith(' .'):\n",
    "                    utterance = utterance[:-2]+'.'\n",
    "                    print('\\n\\tFixed period '+HUMAN_NAME + \": \" + utterance)\n",
    "                    \n",
    "                if utterance.endswith(' ?'):\n",
    "                    utterance = utterance[:-2]+'?'\n",
    "                    print('\\n\\tFixed question '+HUMAN_NAME + \": \" + utterance)\n",
    "                    \n",
    "                textSignal = d_util.create_text_signal_with_speaker_annotation(scenario_ctrl, utterance, HUMAN_ID)\n",
    "                scenario_ctrl.append_signal(textSignal)\n",
    "\n",
    "                #### Process input and generate reply\n",
    "\n",
    "                replies, response_list = process_text_with_cfg_and_reply(scenario_ctrl, place_id, location, HUMAN_ID, textSignal, chat, analyzer, replier, my_brain, print_details)\n",
    "\n",
    "                if not replies:                \n",
    "                    replies, response_json_list = process_triple_spacy_and_reply(scenario_ctrl,place_id,location,HUMAN_ID,AGENT, textSignal,replier,my_brain,nlp,print_details)\n",
    "                if not replies:\n",
    "                    print('\\n\\tAlso spaCy could not get that')\n",
    "                    \n",
    "                for reply in replies:\n",
    "                    leolani_prompt+= reply+\" . \"\n",
    "                    \n",
    "                replies = []\n",
    "                print('\\n\\t'+AGENT + \": \" + leolani_prompt)\n",
    "                textSignal = d_util.create_text_signal_with_speaker_annotation(scenario_ctrl, leolani_prompt, AGENT)\n",
    "                scenario_ctrl.append_signal(textSignal)\n",
    "                history.append(leolani_prompt)\n"
   ]
  },
  {
   "cell_type": "markdown",
   "metadata": {},
   "source": [
    "## Save the scenario data"
   ]
  },
  {
   "cell_type": "code",
   "execution_count": 36,
   "metadata": {},
   "outputs": [],
   "source": [
    "scenario_ctrl.scenario.ruler.end = int(time.time() * 1e3)\n",
    "scenarioStorage.save_scenario(scenario_ctrl)"
   ]
  },
  {
   "cell_type": "markdown",
   "metadata": {},
   "source": [
    "## End of notebook"
   ]
  },
  {
   "cell_type": "code",
   "execution_count": null,
   "metadata": {},
   "outputs": [],
   "source": []
  },
  {
   "cell_type": "code",
   "execution_count": null,
   "metadata": {},
   "outputs": [],
   "source": []
  }
 ],
 "metadata": {
  "kernelspec": {
   "display_name": "chatvenv",
   "language": "python",
   "name": "chatvenv"
  },
  "language_info": {
   "codemirror_mode": {
    "name": "ipython",
    "version": 3
   },
   "file_extension": ".py",
   "mimetype": "text/x-python",
   "name": "python",
   "nbconvert_exporter": "python",
   "pygments_lexer": "ipython3",
   "version": "3.9.7"
  }
 },
 "nbformat": 4,
 "nbformat_minor": 4
}
