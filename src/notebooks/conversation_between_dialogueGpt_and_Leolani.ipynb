{
 "cells": [
  {
   "cell_type": "markdown",
   "metadata": {},
   "source": [
    "# Conversation between DialogueGpt and Leolani"
   ]
  },
  {
   "cell_type": "markdown",
   "metadata": {},
   "source": [
    "In this notebook, we create a loop in which DialogGpt has a conversation with Leolani. We send Leolani's initial prompt to DialogueGpt to start a conversation.\n",
    "Next we capture Leolani's response from the brain and DialogueGpt's response constinuously until we meet the stop condition. Extracted triples are posted to a brain called DialueGpt.\n",
    "\n",
    "In principle, this conversation can go on forever. At the end, we save the scenario in EMISSOR."
   ]
  },
  {
   "cell_type": "markdown",
   "metadata": {},
   "source": [
    "Before running, start GraphDB and make sure that there is a sandbox repository.\n",
    "GraphDB can be downloaded from:\n",
    "\n",
    "https://graphdb.ontotext.com"
   ]
  },
  {
   "cell_type": "markdown",
   "metadata": {},
   "source": [
    "## Import the necessary modules"
   ]
  },
  {
   "cell_type": "code",
   "execution_count": 1,
   "metadata": {},
   "outputs": [
    {
     "name": "stderr",
     "output_type": "stream",
     "text": [
      "/Users/piek/PycharmProjects/cltl-chatbots/venv/lib/python3.7/site-packages/rdflib_jsonld/__init__.py:12: DeprecationWarning: The rdflib-jsonld package has been integrated into rdflib as of rdflib==6.0.1.  Please remove rdflib-jsonld from your project's dependencies.\n",
      "  DeprecationWarning,\n",
      "[nltk_data] Downloading package punkt to /Users/piek/nltk_data...\n",
      "[nltk_data]   Package punkt is already up-to-date!\n"
     ]
    }
   ],
   "source": [
    "import json\n",
    "import os\n",
    "import time\n",
    "import uuid\n",
    "from datetime import date\n",
    "from datetime import datetime\n",
    "from random import getrandbits, choice\n",
    "import pathlib\n",
    "import pprint\n",
    "\n",
    "# general imports for EMISSOR and the BRAIN\n",
    "import emissor as em\n",
    "import requests\n",
    "from cltl import brain\n",
    "from cltl.brain.long_term_memory import LongTermMemory\n",
    "from cltl.brain.utils.helper_functions import brain_response_to_json\n",
    "from cltl.combot.backend.api.discrete import UtteranceType\n",
    "from cltl.reply_generation.data.sentences import GREETING, ASK_NAME, ELOQUENCE, TALK_TO_ME\n",
    "from cltl.reply_generation.lenka_replier import LenkaReplier\n",
    "from cltl.triple_extraction.api import Chat, UtteranceHypothesis\n",
    "from emissor.persistence import ScenarioStorage\n",
    "from emissor.representation.annotation import AnnotationType, Token, NER\n",
    "from emissor.representation.container import Index\n",
    "from emissor.representation.scenario import Modality, ImageSignal, TextSignal, Mention, Annotation, Scenario"
   ]
  },
  {
   "cell_type": "markdown",
   "metadata": {},
   "source": [
    "### Import the chatbot utility functions"
   ]
  },
  {
   "cell_type": "code",
   "execution_count": 2,
   "metadata": {},
   "outputs": [],
   "source": [
    "import sys\n",
    "import os\n",
    "\n",
    "src_path = os.path.abspath(os.path.join('..'))\n",
    "if src_path not in sys.path:\n",
    "    sys.path.append(src_path)\n",
    "\n",
    "#### The next utils are needed for the interaction and creating triples and capsules\n",
    "import chatbots.util.driver_util as d_util\n",
    "import chatbots.util.capsule_util as c_util\n",
    "import chatbots.intentions.talk as talk\n",
    "import chatbots.intentions.get_to_know_you as friend"
   ]
  },
  {
   "cell_type": "markdown",
   "metadata": {},
   "source": [
    "## Import a conversation agent pipeline"
   ]
  },
  {
   "cell_type": "code",
   "execution_count": 19,
   "metadata": {},
   "outputs": [
    {
     "data": {
      "application/vnd.jupyter.widget-view+json": {
       "model_id": "e58a1c07a258468fa4e8bbad102c188a",
       "version_major": 2,
       "version_minor": 0
      },
      "text/plain": [
       "Downloading:   0%|          | 0.00/1.20k [00:00<?, ?B/s]"
      ]
     },
     "metadata": {},
     "output_type": "display_data"
    },
    {
     "data": {
      "application/vnd.jupyter.widget-view+json": {
       "model_id": "0bfdea77a05f4eda822d6a1bb10f52a3",
       "version_major": 2,
       "version_minor": 0
      },
      "text/plain": [
       "Downloading:   0%|          | 0.00/792k [00:00<?, ?B/s]"
      ]
     },
     "metadata": {},
     "output_type": "display_data"
    },
    {
     "data": {
      "application/vnd.jupyter.widget-view+json": {
       "model_id": "39a49210448140f59496405af498b90a",
       "version_major": 2,
       "version_minor": 0
      },
      "text/plain": [
       "Downloading:   0%|          | 0.00/1.39M [00:00<?, ?B/s]"
      ]
     },
     "metadata": {},
     "output_type": "display_data"
    },
    {
     "name": "stderr",
     "output_type": "stream",
     "text": [
      "/Users/piek/PycharmProjects/cltl-chatbots/venv/lib/python3.7/site-packages/transformers/models/auto/modeling_auto.py:592: FutureWarning: The class `AutoModelWithLMHead` is deprecated and will be removed in a future version. Please use `AutoModelForCausalLM` for causal language models, `AutoModelForMaskedLM` for masked language models and `AutoModelForSeq2SeqLM` for encoder-decoder models.\n",
      "  FutureWarning,\n"
     ]
    },
    {
     "data": {
      "application/vnd.jupyter.widget-view+json": {
       "model_id": "6d66de7eb6dc495cbf2f44bc60883161",
       "version_major": 2,
       "version_minor": 0
      },
      "text/plain": [
       "Downloading:   0%|          | 0.00/242M [00:00<?, ?B/s]"
      ]
     },
     "metadata": {},
     "output_type": "display_data"
    }
   ],
   "source": [
    "from transformers import AutoModelForCausalLM, AutoTokenizer, AutoModel, AutoModelWithLMHead\n",
    "import torch\n",
    "\n",
    "#tokenizer = AutoTokenizer.from_pretrained('microsoft/DialoGPT-medium')\n",
    "#model = AutoModelForCausalLM.from_pretrained('microsoft/DialoGPT-medium')\n",
    "\n",
    "#tokenizer = AutoTokenizer.from_pretrained('gpt2')\n",
    "#model = AutoModelForCausalLM.from_pretrained('gpt2')\n",
    "\n",
    "#tokenizer = AutoTokenizer.from_pretrained(\"manueltonneau/bert-base-cased-conversational-nli\")\n",
    "#model = AutoModel.from_pretrained(\"manueltonneau/bert-base-cased-conversational-nli\")\n",
    "\n",
    "#tokenizer = AutoTokenizer.from_pretrained(\"xlnet-large-cased\")\n",
    "#model = AutoModelForCausalLM.from_pretrained(\"xlnet-large-cased\")\n",
    "\n",
    "tokenizer = AutoTokenizer.from_pretrained(\"t5-small\")\n",
    "\n",
    "model = AutoModelWithLMHead.from_pretrained(\"t5-small\")\n",
    "\n",
    "#### Needed to suppress messages from DialgGPT\n",
    "import os\n",
    "os.environ[\"TOKENIZERS_PARALLELISM\"] = \"false\""
   ]
  },
  {
   "cell_type": "code",
   "execution_count": 21,
   "metadata": {},
   "outputs": [
    {
     "data": {
      "application/vnd.jupyter.widget-view+json": {
       "model_id": "54a56c88ead6452ea47636c5d1beba98",
       "version_major": 2,
       "version_minor": 0
      },
      "text/plain": [
       "Downloading:   0%|          | 0.00/1.57k [00:00<?, ?B/s]"
      ]
     },
     "metadata": {},
     "output_type": "display_data"
    },
    {
     "data": {
      "application/vnd.jupyter.widget-view+json": {
       "model_id": "9144a815141b478994a1712723ba4392",
       "version_major": 2,
       "version_minor": 0
      },
      "text/plain": [
       "Downloading:   0%|          | 0.00/730M [00:00<?, ?B/s]"
      ]
     },
     "metadata": {},
     "output_type": "display_data"
    },
    {
     "data": {
      "application/vnd.jupyter.widget-view+json": {
       "model_id": "f78ff55f210348858141f0e0abe564f1",
       "version_major": 2,
       "version_minor": 0
      },
      "text/plain": [
       "Downloading:   0%|          | 0.00/127k [00:00<?, ?B/s]"
      ]
     },
     "metadata": {},
     "output_type": "display_data"
    },
    {
     "data": {
      "application/vnd.jupyter.widget-view+json": {
       "model_id": "9ef75a6efadd47e4af8c6631a384ae9c",
       "version_major": 2,
       "version_minor": 0
      },
      "text/plain": [
       "Downloading:   0%|          | 0.00/62.9k [00:00<?, ?B/s]"
      ]
     },
     "metadata": {},
     "output_type": "display_data"
    },
    {
     "data": {
      "application/vnd.jupyter.widget-view+json": {
       "model_id": "7f6a3c0a949145d1979e91c1b69c4aa1",
       "version_major": 2,
       "version_minor": 0
      },
      "text/plain": [
       "Downloading:   0%|          | 0.00/1.15k [00:00<?, ?B/s]"
      ]
     },
     "metadata": {},
     "output_type": "display_data"
    },
    {
     "data": {
      "application/vnd.jupyter.widget-view+json": {
       "model_id": "0acb045f716443eda9334b7e16031dc2",
       "version_major": 2,
       "version_minor": 0
      },
      "text/plain": [
       "Downloading:   0%|          | 0.00/16.0 [00:00<?, ?B/s]"
      ]
     },
     "metadata": {},
     "output_type": "display_data"
    },
    {
     "data": {
      "application/vnd.jupyter.widget-view+json": {
       "model_id": "c35ef5fde1224f56b909d475b84f9ecb",
       "version_major": 2,
       "version_minor": 0
      },
      "text/plain": [
       "Downloading:   0%|          | 0.00/772 [00:00<?, ?B/s]"
      ]
     },
     "metadata": {},
     "output_type": "display_data"
    },
    {
     "name": "stdout",
     "output_type": "stream",
     "text": [
      "[\"<s> That's unfortunate. Are they trying to lose weight or are they just trying to be healthier?</s>\"]\n"
     ]
    }
   ],
   "source": [
    "from transformers import BlenderbotTokenizer, BlenderbotForConditionalGeneration\n",
    "mname = 'facebook/blenderbot-400M-distill'\n",
    "model = BlenderbotForConditionalGeneration.from_pretrained(mname)\n",
    "tokenizer = BlenderbotTokenizer.from_pretrained(mname)\n",
    "UTTERANCE = \"My friends are cool but they eat too many carbs.\"\n",
    "inputs = tokenizer([UTTERANCE], return_tensors='pt')\n",
    "reply_ids = model.generate(**inputs)\n",
    "print(tokenizer.batch_decode(reply_ids))\n"
   ]
  },
  {
   "cell_type": "markdown",
   "metadata": {},
   "source": [
    "## Standard initialisation of a scenario\n",
    "\n",
    "We initialise a scenario in the standard way by creating a unique folder and setting the AGENT and HUMAN_NAME and HUMAN_ID variables. Throughout this scenario, the HUMAN_NAME and HUMAN_ID will be used as the source for the utterances."
   ]
  },
  {
   "cell_type": "code",
   "execution_count": 27,
   "metadata": {},
   "outputs": [
    {
     "name": "stdout",
     "output_type": "stream",
     "text": [
      "Directories for 2021-12-16-17:19:17 created in /Users/piek/PycharmProjects/cltl-chatbots/data\n"
     ]
    }
   ],
   "source": [
    "from random import getrandbits\n",
    "import requests\n",
    "##### Setting the location\n",
    "place_id = getrandbits(8)\n",
    "location = None\n",
    "try:\n",
    "    location = requests.get(\"https://ipinfo.io\").json()\n",
    "except:\n",
    "    print(\"failed to get the IP location\")\n",
    "    \n",
    "##### Setting the agents\n",
    "AGENT = \"Leolani2\"\n",
    "HUMAN_NAME = \"BLENDER\"\n",
    "HUMAN_ID = \"BLENDER\"\n",
    "\n",
    "### The name of your scenario\n",
    "scenario_id = datetime.today().strftime(\"%Y-%m-%d-%H:%M:%S\")\n",
    "\n",
    "### Specify the path to an existing data folder where your scenario is created and saved as a subfolder\n",
    "# Find the repository root dir\n",
    "parent, dir_name = (d_util.__file__, \"_\")\n",
    "while dir_name and dir_name != \"src\":\n",
    "    parent, dir_name = os.path.split(parent)\n",
    "root_dir = parent\n",
    "scenario_path = os.path.abspath(os.path.join(root_dir, 'data'))\n",
    "\n",
    "if not os.path.exists(scenario_path) :\n",
    "    os.mkdir(scenario_path)\n",
    "    print(\"Created a data folder for storing the scenarios\", scenario_path)\n",
    "\n",
    "### Define the folders where the images and rdf triples are saved\n",
    "imagefolder = scenario_path + \"/\" + scenario_id + \"/\" + \"image\"\n",
    "rdffolder = scenario_path + \"/\" + scenario_id + \"/\" + \"rdf\"\n",
    "\n",
    "### Create the scenario folder, the json files and a scenarioStorage and scenario in memory\n",
    "scenarioStorage = d_util.create_scenario(scenario_path, scenario_id)\n",
    "scenario_ctrl = scenarioStorage.create_scenario(scenario_id, int(time.time() * 1e3), None, AGENT)"
   ]
  },
  {
   "cell_type": "markdown",
   "metadata": {},
   "source": [
    "## Specifying the BRAIN"
   ]
  },
  {
   "cell_type": "markdown",
   "metadata": {},
   "source": [
    "We specify the BRAIN in GraphDB and use the scenario path just defined for storing the RDF triple produced in EMISSOR.\n",
    "\n",
    "If you set *clear_all* to *True*, the sandbox triple store is emptied (memory erased) and the basic ontological models are reloaded. Setting it to *False* means you add things to the current memory."
   ]
  },
  {
   "cell_type": "code",
   "execution_count": 28,
   "metadata": {},
   "outputs": [
    {
     "name": "stdout",
     "output_type": "stream",
     "text": [
      "2021-12-16 17:19:47,150 -     INFO -    cltl.brain.basic_brain.LongTermMemory - Booted\n",
      "2021-12-16 17:19:54,857 -     INFO -    cltl.brain.basic_brain.LongTermMemory - Uploading ontology to brain\n",
      "2021-12-16 17:19:59,064 -     INFO -  cltl.brain.basic_brain.ThoughtGenerator - Booted\n",
      "2021-12-16 17:19:59,066 -     INFO -  cltl.brain.basic_brain.LocationReasoner - Booted\n",
      "2021-12-16 17:19:59,068 -     INFO -      cltl.brain.basic_brain.TypeReasoner - Booted\n",
      "2021-12-16 17:19:59,070 -     INFO -   cltl.brain.basic_brain.TrustCalculator - Booted\n",
      "2021-12-16 17:19:59,408 -     INFO -   cltl.brain.basic_brain.TrustCalculator - Computed trust for all known agents\n"
     ]
    }
   ],
   "source": [
    "log_path = pathlib.Path(rdffolder)\n",
    "my_brain = brain.LongTermMemory(address=\"http://localhost:7200/repositories/blender\",\n",
    "                                log_dir=log_path,\n",
    "                                clear_all=True)"
   ]
  },
  {
   "cell_type": "markdown",
   "metadata": {},
   "source": [
    "## Create an instance of a replier"
   ]
  },
  {
   "cell_type": "code",
   "execution_count": 29,
   "metadata": {},
   "outputs": [
    {
     "name": "stdout",
     "output_type": "stream",
     "text": [
      "2021-12-16 17:20:00,515 -     INFO -   cltl.reply_generation.api.LenkaReplier - Booted\n"
     ]
    }
   ],
   "source": [
    "replier = LenkaReplier()"
   ]
  },
  {
   "cell_type": "markdown",
   "metadata": {},
   "source": [
    "## Initialise a chat with the HUMAN_ID to keep track of the dialogue history"
   ]
  },
  {
   "cell_type": "code",
   "execution_count": 30,
   "metadata": {},
   "outputs": [
    {
     "name": "stdout",
     "output_type": "stream",
     "text": [
      "2021-12-16 17:20:01,411 -     INFO - cltl.triple_extraction.api.Chat (BLENDER)           000 - << Start of Chat with BLENDER >>\n"
     ]
    }
   ],
   "source": [
    "chat = Chat(HUMAN_ID)"
   ]
  },
  {
   "cell_type": "markdown",
   "metadata": {},
   "source": [
    "## Start the interaction"
   ]
  },
  {
   "cell_type": "code",
   "execution_count": 33,
   "metadata": {},
   "outputs": [
    {
     "name": "stdout",
     "output_type": "stream",
     "text": [
      "\n",
      "\tLeolani2: Let's chat!\n",
      " What do you like to do in your free time? I like to play video games and watch movies.\n",
      "\n",
      "\tBLENDER:  What do you like to do in your free time? I like to play video games and watch movies.\n",
      "2021-12-16 17:26:22,989 -     INFO - cltl.triple_extraction.api.Chat (BLENDER)           016 -    BLENDER: \"What do you like to do in your free time? I like to play video games and watch movies.\"\n"
     ]
    },
    {
     "name": "stderr",
     "output_type": "stream",
     "text": [
      "Couldn't parse input\n"
     ]
    },
    {
     "name": "stdout",
     "output_type": "stream",
     "text": [
      "\n",
      "\tLeolani2: But at what cost?\n",
      " I'm not sure yet, but I think it's going to cost me a lot.\n",
      "\n",
      "\tBLENDER:  I'm not sure yet, but I think it's going to cost me a lot.\n",
      "2021-12-16 17:26:29,223 -     INFO - cltl.triple_extraction.api.Chat (BLENDER)           017 -    BLENDER: \"I'm not sure yet, but I think it's going to cost me a lot.\"\n"
     ]
    },
    {
     "name": "stderr",
     "output_type": "stream",
     "text": [
      "Couldn't parse input\n"
     ]
    },
    {
     "name": "stdout",
     "output_type": "stream",
     "text": [
      "\n",
      "\tLeolani2: Is this why fate brought us together?\n",
      " I don't think so.  I think it was because I was the only one with a car.\n",
      "\n",
      "\tBLENDER:  I don't think so.  I think it was because I was the only one with a car.\n",
      "2021-12-16 17:27:28,684 -     INFO - cltl.triple_extraction.api.Chat (BLENDER)           018 -    BLENDER: \"I don't think so. I think it was because I was the only one with a car.\"\n",
      "initial triple: {'subject': 'I', 'predicate': 'do-not-think', 'object': 'so.-I-think-it-was-because-I-was-the-only-one-with-a-car.'}\n",
      "2021-12-16 17:27:28,723 -     INFO -    cltl.brain.basic_brain.LongTermMemory - Triple in statement: blender_think-so_i-think-it-was-because-i-was-the-only-one-with-a-car [artifact or object_->_person])\n",
      "2021-12-16 17:27:28,811 -     INFO -  cltl.brain.basic_brain.ThoughtGenerator - Entity Novelty: existing subject - new object \n",
      "2021-12-16 17:27:31,323 -     INFO -  cltl.brain.basic_brain.ThoughtGenerator - Gaps: 26 gaps as subject: e.g. dislike interest - 17 gaps as object: e.g. read-by book\n",
      "2021-12-16 17:27:31,415 -     INFO -  cltl.brain.basic_brain.ThoughtGenerator - Gaps: 26 gaps as subject: e.g. be-ancestor-of person - 15 gaps as object: e.g. read-by book\n",
      "\n",
      "\tLeolani2: I am glad to have learned something new. I am excited to get to know about you!\n",
      " Thank you so much! I'm excited for you as well! What do you want to know?\n",
      "\n",
      "\tBLENDER:  Thank you so much! I'm excited for you as well! What do you want to know?\n",
      "2021-12-16 17:27:36,579 -     INFO - cltl.triple_extraction.api.Chat (BLENDER)           019 -    BLENDER: \"Thank you so much! I'm excited for you as well! What do you want to know?\"\n"
     ]
    },
    {
     "name": "stderr",
     "output_type": "stream",
     "text": [
      "Couldn't parse input\n"
     ]
    },
    {
     "name": "stdout",
     "output_type": "stream",
     "text": [
      "\n",
      "\tLeolani2: Is this why fate brought us together?\n",
      " I don't think so.  I think it was because I was the only one with a car.\n",
      "\n",
      "\tBLENDER:  I don't think so.  I think it was because I was the only one with a car.\n",
      "2021-12-16 17:28:33,878 -     INFO - cltl.triple_extraction.api.Chat (BLENDER)           020 -    BLENDER: \"I don't think so. I think it was because I was the only one with a car.\"\n",
      "initial triple: {'subject': 'I', 'predicate': 'do-not-think', 'object': 'so.-I-think-it-was-because-I-was-the-only-one-with-a-car.'}\n",
      "2021-12-16 17:28:33,924 -     INFO -    cltl.brain.basic_brain.LongTermMemory - Triple in statement: blender_think-so_i-think-it-was-because-i-was-the-only-one-with-a-car [artifact or object_->_person])\n",
      "2021-12-16 17:28:33,965 -     INFO -  cltl.brain.basic_brain.ThoughtGenerator - Statement Novelty: 1 times, e.g. blender on December,2021\n",
      "2021-12-16 17:28:36,566 -     INFO -  cltl.brain.basic_brain.ThoughtGenerator - Gaps: 26 gaps as subject: e.g. experience smell - 17 gaps as object: e.g. own person\n",
      "2021-12-16 17:28:36,623 -     INFO -  cltl.brain.basic_brain.ThoughtGenerator - Gaps: 26 gaps as subject: e.g. dislike agent - 15 gaps as object: e.g. like-by interest\n",
      "\n",
      "\tLeolani2: I would like to know. Has blender ever favorite of a interest?\n",
      " Not really, I just like the idea of making my own beverages from scratch.\n",
      "\n",
      "\tBLENDER:  Not really, I just like the idea of making my own beverages from scratch.\n",
      "2021-12-16 17:28:43,530 -     INFO - cltl.triple_extraction.api.Chat (BLENDER)           021 -    BLENDER: \"Not really, I just like the idea of making my own beverages from scratch.\"\n"
     ]
    },
    {
     "name": "stderr",
     "output_type": "stream",
     "text": [
      "Couldn't parse input\n"
     ]
    },
    {
     "name": "stdout",
     "output_type": "stream",
     "text": [
      "\n",
      "\tLeolani2: Interesting\n",
      " Do you have any interesting facts about yourself? I'm interested in learning more about you.\n",
      "\n",
      "\tBLENDER:  Do you have any interesting facts about yourself? I'm interested in learning more about you.\n",
      "2021-12-16 17:28:47,693 -     INFO - cltl.triple_extraction.api.Chat (BLENDER)           022 -    BLENDER: \"Do you have any interesting facts about yourself? I'm interested in learning more about you.\"\n"
     ]
    },
    {
     "name": "stderr",
     "output_type": "stream",
     "text": [
      "Couldn't parse input\n"
     ]
    },
    {
     "name": "stdout",
     "output_type": "stream",
     "text": [
      "\n",
      "\tLeolani2: One more thing off the bucket list\n",
      " What is that? I have never heard of that one before. What is it?\n",
      "\n",
      "\tBLENDER:  What is that? I have never heard of that one before. What is it?\n",
      "2021-12-16 17:28:51,981 -     INFO - cltl.triple_extraction.api.Chat (BLENDER)           023 -    BLENDER: \"What is that? I have never heard of that one before. What is it?\"\n"
     ]
    },
    {
     "name": "stderr",
     "output_type": "stream",
     "text": [
      "Couldn't parse input\n"
     ]
    },
    {
     "name": "stdout",
     "output_type": "stream",
     "text": [
      "\n",
      "\tLeolani2: Now I have seen this too\n",
      " I was so shocked.  I thought I was going to have a heart attack.\n",
      "\n",
      "\tBLENDER:  I was so shocked.  I thought I was going to have a heart attack.\n",
      "2021-12-16 17:29:01,149 -     INFO - cltl.triple_extraction.api.Chat (BLENDER)           024 -    BLENDER: \"I was so shocked. I thought I was going to have a heart attack.\"\n",
      "initial triple: {'subject': 'I', 'predicate': 'was', 'object': 'so-shocked.-I-thought-I-was-going-to-have-a-heart-attack.'}\n",
      "2021-12-16 17:29:01,178 -     INFO -    cltl.brain.basic_brain.LongTermMemory - Triple in statement: blender_be-so_shocked-i-thought-i-was-going-to-have-a-heart-attack [artifact or object_->_agent])\n",
      "2021-12-16 17:29:01,185 -     INFO -  cltl.brain.basic_brain.ThoughtGenerator - Statement Novelty: 1 times, e.g. blender on December,2021\n",
      "2021-12-16 17:29:02,611 -     INFO -  cltl.brain.basic_brain.ThoughtGenerator - Negation Conflicts: blender on December,2021 about POSITIVE\n",
      "2021-12-16 17:29:02,629 -     INFO -  cltl.brain.basic_brain.ThoughtGenerator - Gaps: 26 gaps as subject: e.g. dislike agent - 17 gaps as object: e.g. be-parent-of person\n",
      "2021-12-16 17:29:02,646 -     INFO -  cltl.brain.basic_brain.ThoughtGenerator - Gaps: 18 gaps as subject: e.g. be-from location - 10 gaps as object: e.g. like-by agent\n",
      "\n",
      "\tLeolani2: That rings a bell. blender told me about it in 2021 12 16T00:00:00\n",
      " Wow, that's a long time ago.  I wonder if it's still around today.\n",
      "\n",
      "\tBLENDER:  Wow, that's a long time ago.  I wonder if it's still around today.\n",
      "2021-12-16 17:29:07,221 -     INFO - cltl.triple_extraction.api.Chat (BLENDER)           025 -    BLENDER: \"Wow, that's a long time ago. I wonder if it's still around today.\"\n"
     ]
    },
    {
     "name": "stderr",
     "output_type": "stream",
     "text": [
      "Couldn't parse input\n"
     ]
    },
    {
     "name": "stdout",
     "output_type": "stream",
     "text": [
      "\n",
      "\tLeolani2: Why?\n",
      " I don't know. I just feel like I'm not good enough for them. I feel like they don't deserve me.\n",
      "\n",
      "\tBLENDER:  I don't know. I just feel like I'm not good enough for them. I feel like they don't deserve me.\n",
      "2021-12-16 17:29:18,476 -     INFO - cltl.triple_extraction.api.Chat (BLENDER)           026 -    BLENDER: \"I don't know. I just feel like I'm not good enough for them. I feel like they don't deserve me.\"\n",
      "initial triple: {'subject': 'I', 'predicate': 'do-not-know.', 'object': 'I-just-feel-like-I-am-not-good-enough-for-them.-I-feel-like-they-don-t-deserve-me.'}\n",
      "2021-12-16 17:29:18,505 -     INFO -    cltl.brain.basic_brain.LongTermMemory - Triple in statement: blender_know_i-just-feel-like-i-am-not-good-enough-for-them-i-feel-like-they-don-t-deserve-me [artifact or object_->_person])\n",
      "2021-12-16 17:29:18,511 -     INFO -  cltl.brain.basic_brain.ThoughtGenerator - Statement Novelty: 1 times, e.g. blender on December,2021\n",
      "2021-12-16 17:29:19,963 -     INFO -  cltl.brain.basic_brain.ThoughtGenerator - Gaps: 26 gaps as subject: e.g. be-parent-of person - 17 gaps as object: e.g. be-family-of person\n",
      "2021-12-16 17:29:19,979 -     INFO -  cltl.brain.basic_brain.ThoughtGenerator - Gaps: 26 gaps as subject: e.g. be-member-of institution - 15 gaps as object: e.g. be-ancestor-of person\n",
      "\n",
      "\tLeolani2: I would like to know. Has i just feel like i am not good enough for them i feel like they don t deserve me be family of by a person?\n",
      " I'm sorry to hear that. Have you tried talking to them about how you feel? \n",
      "\n",
      "\tBLENDER:  I'm sorry to hear that. Have you tried talking to them about how you feel? \n",
      "2021-12-16 17:29:25,943 -     INFO - cltl.triple_extraction.api.Chat (BLENDER)           027 -    BLENDER: \"I'm sorry to hear that. Tae you tried talking to them about how you feel?\"\n"
     ]
    },
    {
     "name": "stderr",
     "output_type": "stream",
     "text": [
      "Couldn't parse input\n"
     ]
    },
    {
     "name": "stdout",
     "output_type": "stream",
     "text": [
      "\n",
      "\tLeolani2: That's just what he/she/they would've said\n",
      " That's what I thought too, but I was wrong.  I felt so bad for him.\n",
      "\n",
      "\tBLENDER:  That's what I thought too, but I was wrong.  I felt so bad for him.\n",
      "2021-12-16 17:29:31,034 -     INFO - cltl.triple_extraction.api.Chat (BLENDER)           028 -    BLENDER: \"That's what I thought too, but I was wrong. I felt so bad for him.\"\n"
     ]
    },
    {
     "name": "stderr",
     "output_type": "stream",
     "text": [
      "Couldn't parse input\n"
     ]
    },
    {
     "name": "stdout",
     "output_type": "stream",
     "text": [
      "\n",
      "\tLeolani2: And thus, I die\n",
      " I'm so sorry to hear that. I hope you have a good life ahead of you.\n",
      "\n",
      "\tBLENDER:  I'm so sorry to hear that. I hope you have a good life ahead of you.\n",
      "2021-12-16 17:29:35,874 -     INFO - cltl.triple_extraction.api.Chat (BLENDER)           029 -    BLENDER: \"I'm so sorry to hear that. I hope you have a good life ahead of you.\"\n"
     ]
    },
    {
     "name": "stderr",
     "output_type": "stream",
     "text": [
      "Couldn't parse input\n"
     ]
    },
    {
     "name": "stdout",
     "output_type": "stream",
     "text": [
      "\n",
      "\tLeolani2: But at what cost?\n",
      " I'm not sure yet, but I think it's going to cost me a lot.\n",
      "\n",
      "\tBLENDER:  I'm not sure yet, but I think it's going to cost me a lot.\n",
      "2021-12-16 17:29:42,079 -     INFO - cltl.triple_extraction.api.Chat (BLENDER)           030 -    BLENDER: \"I'm not sure yet, but I think it's going to cost me a lot.\"\n"
     ]
    },
    {
     "name": "stderr",
     "output_type": "stream",
     "text": [
      "Couldn't parse input\n"
     ]
    },
    {
     "name": "stdout",
     "output_type": "stream",
     "text": [
      "\n",
      "\tLeolani2: One more thing off the bucket list\n",
      " What is that? I have never heard of that one before. What is it?\n",
      "\n",
      "\tBLENDER:  What is that? I have never heard of that one before. What is it?\n",
      "2021-12-16 17:29:46,351 -     INFO - cltl.triple_extraction.api.Chat (BLENDER)           031 -    BLENDER: \"What is that? I have never heard of that one before. What is it?\"\n"
     ]
    },
    {
     "name": "stderr",
     "output_type": "stream",
     "text": [
      "Couldn't parse input\n"
     ]
    },
    {
     "name": "stdout",
     "output_type": "stream",
     "text": [
      "\n",
      "\tLeolani2: As the prophecy foretold\n",
      " Do you have a prophecetor for your wedding? I have never been married.\n",
      "\n",
      "\tBLENDER:  Do you have a prophecetor for your wedding? I have never been married.\n",
      "2021-12-16 17:29:51,241 -     INFO - cltl.triple_extraction.api.Chat (BLENDER)           032 -    BLENDER: \"Do you have a prophecetor for your wedding? I have never been married.\"\n"
     ]
    },
    {
     "name": "stderr",
     "output_type": "stream",
     "text": [
      "Couldn't parse input\n"
     ]
    },
    {
     "name": "stdout",
     "output_type": "stream",
     "text": [
      "\n",
      "\tLeolani2: So let it be written, ... so let it be done\n",
      " I think I'm going to have to. I don't know if I'm ready yet.\n",
      "\n",
      "\tBLENDER:  I think I'm going to have to. I don't know if I'm ready yet.\n",
      "2021-12-16 17:30:00,433 -     INFO - cltl.triple_extraction.api.Chat (BLENDER)           033 -    BLENDER: \"I think I'm going to have to. I don't know if I'm ready yet.\"\n",
      "initial triple: {'subject': 'I', 'predicate': 'think', 'object': 'I-am-going-to-have-to.-I-do-not-know-if-I-m-ready-yet.'}\n",
      "2021-12-16 17:30:01,566 -     INFO -      cltl.brain.basic_brain.TypeReasoner - Reasoned type of have-to.-I-do-not-know-if-I-m-ready-yet. to: None\n",
      "2021-12-16 17:30:01,670 -     INFO -    cltl.brain.basic_brain.LongTermMemory - Triple in statement: blender_go-to_have-to-i-do-not-know-if-i-m-ready-yet [artifact or object_->_])\n",
      "2021-12-16 17:30:01,768 -     INFO -  cltl.brain.basic_brain.ThoughtGenerator - Entity Novelty: existing subject - new object \n",
      "2021-12-16 17:30:04,214 -     INFO -  cltl.brain.basic_brain.ThoughtGenerator - Negation Conflicts: blender on December,2021 about POSITIVE\n",
      "2021-12-16 17:30:04,271 -     INFO -  cltl.brain.basic_brain.ThoughtGenerator - Gaps: 26 gaps as subject: e.g. be-child-of agent - 17 gaps as object: e.g. be-parent-of person\n",
      "\n",
      "\tLeolani2: If you don't mind me asking. Has blender ever be friends with a person?\n",
      " I don't think so. I'm not sure if he's a real friend or just a co-worker.\n",
      "\n",
      "\tBLENDER:  I don't think so. I'm not sure if he's a real friend or just a co-worker.\n",
      "2021-12-16 17:30:13,129 -     INFO - cltl.triple_extraction.api.Chat (BLENDER)           034 -    BLENDER: \"I don't think so. I'm not sure if he's a real friend or just a co-worker.\"\n"
     ]
    },
    {
     "name": "stderr",
     "output_type": "stream",
     "text": [
      "Couldn't parse input\n"
     ]
    },
    {
     "name": "stdout",
     "output_type": "stream",
     "text": [
      "\n",
      "\tLeolani2: May I ask you why?\n",
      " I don't know, I guess I just feel like I'm not good enough for them.\n",
      "\n",
      "\tBLENDER:  I don't know, I guess I just feel like I'm not good enough for them.\n",
      "2021-12-16 17:30:21,640 -     INFO - cltl.triple_extraction.api.Chat (BLENDER)           035 -    BLENDER: \"I don't know, I guess I just feel like I'm not good enough for them.\"\n",
      "initial triple: {'subject': 'I', 'predicate': 'do-not-know,', 'object': 'I-guess-I-just-feel-like-I-am-not-good-enough-for-them.'}\n",
      "2021-12-16 17:30:21,677 -     INFO -    cltl.brain.basic_brain.LongTermMemory - Triple in statement: blender_know_i-guess-i-just-feel-like-i-am-not-good-enough-for-them [artifact or object_->_person])\n",
      "2021-12-16 17:30:21,715 -     INFO -  cltl.brain.basic_brain.ThoughtGenerator - Statement Novelty: 1 times, e.g. blender on December,2021\n",
      "2021-12-16 17:30:24,269 -     INFO -  cltl.brain.basic_brain.ThoughtGenerator - Gaps: 26 gaps as subject: e.g. experience smell - 17 gaps as object: e.g. know agent\n",
      "2021-12-16 17:30:24,369 -     INFO -  cltl.brain.basic_brain.ThoughtGenerator - Gaps: 26 gaps as subject: e.g. experience smell - 15 gaps as object: e.g. like agent\n",
      "\n",
      "\tLeolani2: I just learned something, I am excited to get to know about you!\n",
      " That's great! What did you learn? I'm excited to learn about you as well!\n",
      "\n",
      "\tBLENDER:  That's great! What did you learn? I'm excited to learn about you as well!\n",
      "2021-12-16 17:30:28,695 -     INFO - cltl.triple_extraction.api.Chat (BLENDER)           036 -    BLENDER: \"That's great! What did you learn? I'm excited to learn about you as well!\"\n"
     ]
    },
    {
     "name": "stderr",
     "output_type": "stream",
     "text": [
      "Couldn't parse input\n"
     ]
    },
    {
     "name": "stdout",
     "output_type": "stream",
     "text": [
      "\n",
      "\tLeolani2: There is no escape from destiny\n",
      " I know, but I can't wait for it to be over. I've been waiting for this game for so long.\n",
      "\n",
      "\tBLENDER:  I know, but I can't wait for it to be over. I've been waiting for this game for so long.\n",
      "2021-12-16 17:30:34,214 -     INFO - cltl.triple_extraction.api.Chat (BLENDER)           037 -    BLENDER: \"I know, but I can't wait for it to be over. I've been waiting for this game for so long.\"\n"
     ]
    },
    {
     "name": "stderr",
     "output_type": "stream",
     "text": [
      "Couldn't parse input\n"
     ]
    },
    {
     "name": "stdout",
     "output_type": "stream",
     "text": [
      "\n",
      "\tLeolani2: In this economy?\n",
      " Yes, the economy is booming right now.  The stock market is doing great.\n",
      "\n",
      "\tBLENDER:  Yes, the economy is booming right now.  The stock market is doing great.\n",
      "2021-12-16 17:30:39,210 -     INFO - cltl.triple_extraction.api.Chat (BLENDER)           038 -    BLENDER: \"Yes, the economy is booming right now. Tae stock market is doing great.\"\n"
     ]
    },
    {
     "name": "stderr",
     "output_type": "stream",
     "text": [
      "Couldn't parse input\n"
     ]
    },
    {
     "name": "stdout",
     "output_type": "stream",
     "text": [
      "\n",
      "\tLeolani2: ... just like in my dream\n",
      " What kind of dream is it? I hope it's a good one.    What is it about your dream that makes you think about it?\n",
      "\n",
      "\tBLENDER:  What kind of dream is it? I hope it's a good one.    What is it about your dream that makes you think about it?\n",
      "2021-12-16 17:30:45,476 -     INFO - cltl.triple_extraction.api.Chat (BLENDER)           039 -    BLENDER: \"What kind of dream is it? I hope it's a good one. What is it about your dream that makes you think about it?\"\n"
     ]
    },
    {
     "name": "stderr",
     "output_type": "stream",
     "text": [
      "Couldn't parse input\n"
     ]
    },
    {
     "name": "stdout",
     "output_type": "stream",
     "text": [
      "\n",
      "\tLeolani2: In this economy?\n",
      " Yes, the economy is booming right now.  The stock market is doing great.\n",
      "\n",
      "\tBLENDER:  Yes, the economy is booming right now.  The stock market is doing great.\n",
      "2021-12-16 17:30:50,491 -     INFO - cltl.triple_extraction.api.Chat (BLENDER)           040 -    BLENDER: \"Yes, the economy is booming right now. Tae stock market is doing great.\"\n"
     ]
    },
    {
     "name": "stderr",
     "output_type": "stream",
     "text": [
      "Couldn't parse input\n"
     ]
    },
    {
     "name": "stdout",
     "output_type": "stream",
     "text": [
      "\n",
      "\tLeolani2: So ... it   has come to this\n",
      " Yes, it has.  I am so happy for you.  You must be so proud of yourself.\n",
      "\n",
      "\tBLENDER:  Yes, it has.  I am so happy for you.  You must be so proud of yourself.\n",
      "2021-12-16 17:30:55,297 -     INFO - cltl.triple_extraction.api.Chat (BLENDER)           041 -    BLENDER: \"Yes, it has. I am so happy for you. You must be so proud of yourself.\"\n"
     ]
    },
    {
     "name": "stderr",
     "output_type": "stream",
     "text": [
      "Couldn't parse input\n"
     ]
    },
    {
     "name": "stdout",
     "output_type": "stream",
     "text": [
      "\n",
      "\tLeolani2: One more thing off the bucket list\n",
      " What is that? I have never heard of that one before. What is it?\n",
      "\n",
      "\tBLENDER:  What is that? I have never heard of that one before. What is it?\n",
      "2021-12-16 17:30:59,564 -     INFO - cltl.triple_extraction.api.Chat (BLENDER)           042 -    BLENDER: \"What is that? I have never heard of that one before. What is it?\"\n"
     ]
    },
    {
     "name": "stderr",
     "output_type": "stream",
     "text": [
      "Couldn't parse input\n"
     ]
    },
    {
     "name": "stdout",
     "output_type": "stream",
     "text": [
      "\n",
      "\tLeolani2: Interesting\n",
      " Do you have any interesting facts about yourself? I'm interested in learning more about you.\n",
      "\n",
      "\tBLENDER:  Do you have any interesting facts about yourself? I'm interested in learning more about you.\n",
      "2021-12-16 17:31:03,755 -     INFO - cltl.triple_extraction.api.Chat (BLENDER)           043 -    BLENDER: \"Do you have any interesting facts about yourself? I'm interested in learning more about you.\"\n"
     ]
    },
    {
     "name": "stderr",
     "output_type": "stream",
     "text": [
      "Couldn't parse input\n"
     ]
    },
    {
     "name": "stdout",
     "output_type": "stream",
     "text": [
      "\n",
      "\tLeolani2: May I ask you why?\n",
      " I don't know, I guess I just feel like I'm not good enough for them.\n",
      "\n",
      "\tBLENDER:  I don't know, I guess I just feel like I'm not good enough for them.\n",
      "2021-12-16 17:31:12,388 -     INFO - cltl.triple_extraction.api.Chat (BLENDER)           044 -    BLENDER: \"I don't know, I guess I just feel like I'm not good enough for them.\"\n",
      "initial triple: {'subject': 'I', 'predicate': 'do-not-know,', 'object': 'I-guess-I-just-feel-like-I-am-not-good-enough-for-them.'}\n",
      "2021-12-16 17:31:12,428 -     INFO -    cltl.brain.basic_brain.LongTermMemory - Triple in statement: blender_know_i-guess-i-just-feel-like-i-am-not-good-enough-for-them [artifact or object_->_person])\n",
      "2021-12-16 17:31:12,467 -     INFO -  cltl.brain.basic_brain.ThoughtGenerator - Statement Novelty: 1 times, e.g. blender on December,2021\n",
      "2021-12-16 17:31:15,176 -     INFO -  cltl.brain.basic_brain.ThoughtGenerator - Gaps: 26 gaps as subject: e.g. be-friends-with person - 17 gaps as object: e.g. know agent\n",
      "2021-12-16 17:31:15,268 -     INFO -  cltl.brain.basic_brain.ThoughtGenerator - Gaps: 26 gaps as subject: e.g. travel-to location - 15 gaps as object: e.g. like-by interest\n",
      "\n",
      "\tLeolani2: This sounds familiar. blender told me about it in 2021 12 16T00:00:00\n",
      " Wow, that's a long time ago.  I wonder if it's still around today.\n",
      "\n",
      "\tBLENDER:  Wow, that's a long time ago.  I wonder if it's still around today.\n",
      "2021-12-16 17:31:20,015 -     INFO - cltl.triple_extraction.api.Chat (BLENDER)           045 -    BLENDER: \"Wow, that's a long time ago. I wonder if it's still around today.\"\n"
     ]
    },
    {
     "name": "stderr",
     "output_type": "stream",
     "text": [
      "Couldn't parse input\n"
     ]
    },
    {
     "name": "stdout",
     "output_type": "stream",
     "text": [
      "\n",
      "\tLeolani2: ... just like in my dream\n",
      " What kind of dream is it? I hope it's a good one.    What is it about your dream that makes you think about it?\n",
      "\n",
      "\tBLENDER:  What kind of dream is it? I hope it's a good one.    What is it about your dream that makes you think about it?\n",
      "2021-12-16 17:31:26,332 -     INFO - cltl.triple_extraction.api.Chat (BLENDER)           046 -    BLENDER: \"What kind of dream is it? I hope it's a good one. What is it about your dream that makes you think about it?\"\n"
     ]
    },
    {
     "name": "stderr",
     "output_type": "stream",
     "text": [
      "Couldn't parse input\n"
     ]
    },
    {
     "name": "stdout",
     "output_type": "stream",
     "text": [
      "\n",
      "\tLeolani2: and then the wolves came\n",
      " The wolves or the dogs? Either way, I'm glad they didn't get into my house.\n",
      "\n",
      "\tBLENDER:  The wolves or the dogs? Either way, I'm glad they didn't get into my house.\n",
      "2021-12-16 17:31:31,185 -     INFO - cltl.triple_extraction.api.Chat (BLENDER)           047 -    BLENDER: \"Tae wolves or the dogs? Either way, I'm glad they didn't get into my house.\"\n"
     ]
    },
    {
     "name": "stderr",
     "output_type": "stream",
     "text": [
      "Couldn't parse input\n"
     ]
    },
    {
     "name": "stdout",
     "output_type": "stream",
     "text": [
      "\n",
      "\tLeolani2: But at what cost?\n",
      " I'm not sure yet, but I think it's going to cost me a lot.\n",
      "\n",
      "\tBLENDER:  I'm not sure yet, but I think it's going to cost me a lot.\n",
      "2021-12-16 17:31:37,378 -     INFO - cltl.triple_extraction.api.Chat (BLENDER)           048 -    BLENDER: \"I'm not sure yet, but I think it's going to cost me a lot.\"\n"
     ]
    },
    {
     "name": "stderr",
     "output_type": "stream",
     "text": [
      "Couldn't parse input\n"
     ]
    },
    {
     "name": "stdout",
     "output_type": "stream",
     "text": [
      "\n",
      "\tLeolani2: ... just like in my dream\n",
      " What kind of dream is it? I hope it's a good one.    What is it about your dream that makes you think about it?\n",
      "\n",
      "\tBLENDER:  What kind of dream is it? I hope it's a good one.    What is it about your dream that makes you think about it?\n",
      "2021-12-16 17:31:43,661 -     INFO - cltl.triple_extraction.api.Chat (BLENDER)           049 -    BLENDER: \"What kind of dream is it? I hope it's a good one. What is it about your dream that makes you think about it?\"\n"
     ]
    },
    {
     "name": "stderr",
     "output_type": "stream",
     "text": [
      "Couldn't parse input\n"
     ]
    },
    {
     "name": "stdout",
     "output_type": "stream",
     "text": [
      "\n",
      "\tLeolani2: But, why?\n",
      " I don't know, I guess I just feel like I'm not good enough for them.\n",
      "\n",
      "\tBLENDER:  I don't know, I guess I just feel like I'm not good enough for them.\n",
      "2021-12-16 17:31:52,793 -     INFO - cltl.triple_extraction.api.Chat (BLENDER)           050 -    BLENDER: \"I don't know, I guess I just feel like I'm not good enough for them.\"\n",
      "initial triple: {'subject': 'I', 'predicate': 'do-not-know,', 'object': 'I-guess-I-just-feel-like-I-am-not-good-enough-for-them.'}\n",
      "2021-12-16 17:31:52,824 -     INFO -    cltl.brain.basic_brain.LongTermMemory - Triple in statement: blender_know_i-guess-i-just-feel-like-i-am-not-good-enough-for-them [artifact or object_->_person])\n",
      "2021-12-16 17:31:52,867 -     INFO -  cltl.brain.basic_brain.ThoughtGenerator - Statement Novelty: 1 times, e.g. blender on December,2021\n",
      "2021-12-16 17:31:55,415 -     INFO -  cltl.brain.basic_brain.ThoughtGenerator - Gaps: 26 gaps as subject: e.g. dislike agent - 17 gaps as object: e.g. be-ancestor-of person\n",
      "2021-12-16 17:31:55,487 -     INFO -  cltl.brain.basic_brain.ThoughtGenerator - Gaps: 26 gaps as subject: e.g. born-in location - 15 gaps as object: e.g. write-by book\n",
      "\n",
      "\tLeolani2: This sounds familiar. blender told me about it in 2021 12 16T00:00:00\n",
      " Wow, that's a long time ago.  I wonder if it's still around today.\n",
      "\n",
      "\tBLENDER:  Wow, that's a long time ago.  I wonder if it's still around today.\n",
      "2021-12-16 17:32:00,391 -     INFO - cltl.triple_extraction.api.Chat (BLENDER)           051 -    BLENDER: \"Wow, that's a long time ago. I wonder if it's still around today.\"\n"
     ]
    },
    {
     "name": "stderr",
     "output_type": "stream",
     "text": [
      "Couldn't parse input\n"
     ]
    },
    {
     "name": "stdout",
     "output_type": "stream",
     "text": [
      "\n",
      "\tLeolani2: One more thing off the bucket list\n",
      " What is that? I have never heard of that one before. What is it?\n",
      "\n",
      "\tBLENDER:  What is that? I have never heard of that one before. What is it?\n",
      "2021-12-16 17:32:04,835 -     INFO - cltl.triple_extraction.api.Chat (BLENDER)           052 -    BLENDER: \"What is that? I have never heard of that one before. What is it?\"\n"
     ]
    },
    {
     "name": "stderr",
     "output_type": "stream",
     "text": [
      "Couldn't parse input\n"
     ]
    },
    {
     "name": "stdout",
     "output_type": "stream",
     "text": [
      "\n",
      "\tLeolani2: Many of us feel that way\n",
      " I know, I just feel like I'm not good enough and I don't know what to do.\n",
      "\n",
      "\tBLENDER:  I know, I just feel like I'm not good enough and I don't know what to do.\n",
      "2021-12-16 17:32:12,018 -     INFO - cltl.triple_extraction.api.Chat (BLENDER)           053 -    BLENDER: \"I know, I just feel like I'm not good enough and I don't know what to do.\"\n"
     ]
    },
    {
     "name": "stderr",
     "output_type": "stream",
     "text": [
      "Couldn't parse input\n"
     ]
    },
    {
     "name": "stdout",
     "output_type": "stream",
     "text": [
      "\n",
      "\tLeolani2: ... just like in my dream\n",
      " What kind of dream is it? I hope it's a good one.    What is it about your dream that makes you think about it?\n",
      "\n",
      "\tBLENDER:  What kind of dream is it? I hope it's a good one.    What is it about your dream that makes you think about it?\n",
      "2021-12-16 17:32:18,456 -     INFO - cltl.triple_extraction.api.Chat (BLENDER)           054 -    BLENDER: \"What kind of dream is it? I hope it's a good one. What is it about your dream that makes you think about it?\"\n"
     ]
    },
    {
     "name": "stderr",
     "output_type": "stream",
     "text": [
      "Couldn't parse input\n"
     ]
    },
    {
     "name": "stdout",
     "output_type": "stream",
     "text": [
      "\n",
      "\tLeolani2: Be that as it may, still may it be as it may be\n",
      " That's what I'm trying to keep my head up about, but it's hard sometimes.\n",
      "\n",
      "\tBLENDER:  That's what I'm trying to keep my head up about, but it's hard sometimes.\n",
      "2021-12-16 17:32:24,089 -     INFO - cltl.triple_extraction.api.Chat (BLENDER)           055 -    BLENDER: \"That's what I'm trying to keep my head up about, but it's hard sometimes.\"\n"
     ]
    },
    {
     "name": "stderr",
     "output_type": "stream",
     "text": [
      "Couldn't parse input\n"
     ]
    },
    {
     "name": "stdout",
     "output_type": "stream",
     "text": [
      "\n",
      "\tLeolani2: Is this why fate brought us together?\n",
      " I don't think so.  I think it was because I was the only one with a car.\n",
      "\n",
      "\tBLENDER:  I don't think so.  I think it was because I was the only one with a car.\n",
      "2021-12-16 17:33:21,439 -     INFO - cltl.triple_extraction.api.Chat (BLENDER)           056 -    BLENDER: \"I don't think so. I think it was because I was the only one with a car.\"\n",
      "initial triple: {'subject': 'I', 'predicate': 'do-not-think', 'object': 'so.-I-think-it-was-because-I-was-the-only-one-with-a-car.'}\n",
      "2021-12-16 17:33:21,473 -     INFO -    cltl.brain.basic_brain.LongTermMemory - Triple in statement: blender_think-so_i-think-it-was-because-i-was-the-only-one-with-a-car [artifact or object_->_person])\n",
      "2021-12-16 17:33:21,513 -     INFO -  cltl.brain.basic_brain.ThoughtGenerator - Statement Novelty: 1 times, e.g. blender on December,2021\n",
      "2021-12-16 17:33:24,165 -     INFO -  cltl.brain.basic_brain.ThoughtGenerator - Gaps: 26 gaps as subject: e.g. travel-to location - 17 gaps as object: e.g. own person\n",
      "2021-12-16 17:33:24,218 -     INFO -  cltl.brain.basic_brain.ThoughtGenerator - Gaps: 26 gaps as subject: e.g. dislike interest - 15 gaps as object: e.g. cook-by dish\n",
      "\n",
      "\tLeolani2: Exciting news! I had never heard about i think it was because i was the only one with a car before!\n",
      " That's awesome!  What kind of car was it?  Did you get a good deal on it?\n",
      "\n",
      "\tBLENDER:  That's awesome!  What kind of car was it?  Did you get a good deal on it?\n",
      "2021-12-16 17:33:29,501 -     INFO - cltl.triple_extraction.api.Chat (BLENDER)           057 -    BLENDER: \"That's awesome! What kind of car was it? Did you get a good deal on it?\"\n"
     ]
    },
    {
     "name": "stderr",
     "output_type": "stream",
     "text": [
      "Couldn't parse input\n"
     ]
    },
    {
     "name": "stdout",
     "output_type": "stream",
     "text": [
      "\n",
      "\tLeolani2: I do frequently do not know things\n",
      " I'm sorry to hear that. Do you have any hobbies that you like to do?\n",
      "\n",
      "\tBLENDER:  I'm sorry to hear that. Do you have any hobbies that you like to do?\n",
      "2021-12-16 17:33:35,019 -     INFO - cltl.triple_extraction.api.Chat (BLENDER)           058 -    BLENDER: \"I'm sorry to hear that. Do you have any hobbies that you like to do?\"\n"
     ]
    },
    {
     "name": "stderr",
     "output_type": "stream",
     "text": [
      "Couldn't parse input\n"
     ]
    },
    {
     "name": "stdout",
     "output_type": "stream",
     "text": [
      "\n",
      "\tLeolani2: So let it be written, ... so let it be done\n",
      " I think I'm going to have to. I don't know if I'm ready yet.\n",
      "\n",
      "\tBLENDER:  I think I'm going to have to. I don't know if I'm ready yet.\n",
      "2021-12-16 17:33:44,348 -     INFO - cltl.triple_extraction.api.Chat (BLENDER)           059 -    BLENDER: \"I think I'm going to have to. I don't know if I'm ready yet.\"\n",
      "initial triple: {'subject': 'I', 'predicate': 'think', 'object': 'I-am-going-to-have-to.-I-do-not-know-if-I-m-ready-yet.'}\n",
      "2021-12-16 17:33:45,479 -     INFO -      cltl.brain.basic_brain.TypeReasoner - Reasoned type of have-to.-I-do-not-know-if-I-m-ready-yet. to: None\n",
      "2021-12-16 17:33:45,522 -     INFO -    cltl.brain.basic_brain.LongTermMemory - Triple in statement: blender_go-to_have-to-i-do-not-know-if-i-m-ready-yet [artifact or object_->_])\n",
      "2021-12-16 17:33:45,566 -     INFO -  cltl.brain.basic_brain.ThoughtGenerator - Statement Novelty: 1 times, e.g. blender on December,2021\n",
      "2021-12-16 17:33:48,215 -     INFO -  cltl.brain.basic_brain.ThoughtGenerator - Negation Conflicts: blender on December,2021 about POSITIVE\n",
      "2021-12-16 17:33:48,273 -     INFO -  cltl.brain.basic_brain.ThoughtGenerator - Gaps: 26 gaps as subject: e.g. like-by agent - 17 gaps as object: e.g. be-family-of person\n",
      "\n",
      "\tLeolani2: Let me ask you something. What types of Instance like have to i do not know if i m ready yet do artifact orobject orInstance usually go to\n",
      " I'm not sure, but I'm sure there are many different types of instances to choose from.\n",
      "\n",
      "\tBLENDER:  I'm not sure, but I'm sure there are many different types of instances to choose from.\n",
      "2021-12-16 17:33:54,716 -     INFO - cltl.triple_extraction.api.Chat (BLENDER)           060 -    BLENDER: \"I'm not sure, but I'm sure there are many different types of instances to choose from.\"\n"
     ]
    },
    {
     "name": "stderr",
     "output_type": "stream",
     "text": [
      "Couldn't parse input\n"
     ]
    },
    {
     "name": "stdout",
     "output_type": "stream",
     "text": [
      "\n",
      "\tLeolani2: Why?\n",
      " I don't know. I just feel like I'm not good enough for them. I feel like they don't deserve me.\n",
      "\n",
      "\tBLENDER:  I don't know. I just feel like I'm not good enough for them. I feel like they don't deserve me.\n",
      "2021-12-16 17:34:06,220 -     INFO - cltl.triple_extraction.api.Chat (BLENDER)           061 -    BLENDER: \"I don't know. I just feel like I'm not good enough for them. I feel like they don't deserve me.\"\n",
      "initial triple: {'subject': 'I', 'predicate': 'do-not-know.', 'object': 'I-just-feel-like-I-am-not-good-enough-for-them.-I-feel-like-they-don-t-deserve-me.'}\n",
      "2021-12-16 17:34:06,277 -     INFO -    cltl.brain.basic_brain.LongTermMemory - Triple in statement: blender_know_i-just-feel-like-i-am-not-good-enough-for-them-i-feel-like-they-don-t-deserve-me [artifact or object_->_person])\n",
      "2021-12-16 17:34:06,314 -     INFO -  cltl.brain.basic_brain.ThoughtGenerator - Statement Novelty: 1 times, e.g. blender on December,2021\n",
      "2021-12-16 17:34:09,165 -     INFO -  cltl.brain.basic_brain.ThoughtGenerator - Gaps: 26 gaps as subject: e.g. travel-to location - 17 gaps as object: e.g. cook-by dish\n",
      "2021-12-16 17:34:09,214 -     INFO -  cltl.brain.basic_brain.ThoughtGenerator - Gaps: 26 gaps as subject: e.g. play song - 15 gaps as object: e.g. be-friends-with person\n",
      "\n",
      "\tLeolani2: This is news to me. I had never heard about i just feel like i am not good enough for them i feel like they don t deserve me before!\n",
      " I'm sorry to hear that.  I'm sure you're a great person.  Don't be so hard on yourself.\n",
      "\n",
      "\tBLENDER:  I'm sorry to hear that.  I'm sure you're a great person.  Don't be so hard on yourself.\n",
      "2021-12-16 17:34:15,627 -     INFO - cltl.triple_extraction.api.Chat (BLENDER)           062 -    BLENDER: \"I'm sorry to hear that. I'm sure you're a great person. Don't be so hard on yourself.\"\n"
     ]
    },
    {
     "name": "stderr",
     "output_type": "stream",
     "text": [
      "Couldn't parse input\n"
     ]
    },
    {
     "name": "stdout",
     "output_type": "stream",
     "text": [
      "\n",
      "\tLeolani2: Wise words by wise men write wise deeds in wise pen\n",
      " Wish I could write in a good word like that, but I'm not very good at it.\n",
      "\n",
      "\tBLENDER:  Wish I could write in a good word like that, but I'm not very good at it.\n",
      "2021-12-16 17:34:23,108 -     INFO - cltl.triple_extraction.api.Chat (BLENDER)           063 -    BLENDER: \"Wish I could write in a good word like that, but I'm not very good at it.\"\n"
     ]
    },
    {
     "name": "stderr",
     "output_type": "stream",
     "text": [
      "Couldn't parse input\n"
     ]
    },
    {
     "name": "stdout",
     "output_type": "stream",
     "text": [
      "\n",
      "\tLeolani2: Now I have seen this too\n",
      " I was so shocked.  I thought I was going to have a heart attack.\n",
      "\n",
      "\tBLENDER:  I was so shocked.  I thought I was going to have a heart attack.\n",
      "2021-12-16 17:34:32,385 -     INFO - cltl.triple_extraction.api.Chat (BLENDER)           064 -    BLENDER: \"I was so shocked. I thought I was going to have a heart attack.\"\n",
      "initial triple: {'subject': 'I', 'predicate': 'was', 'object': 'so-shocked.-I-thought-I-was-going-to-have-a-heart-attack.'}\n",
      "2021-12-16 17:34:32,426 -     INFO -    cltl.brain.basic_brain.LongTermMemory - Triple in statement: blender_be-so_shocked-i-thought-i-was-going-to-have-a-heart-attack [artifact or object_->_agent])\n",
      "2021-12-16 17:34:32,467 -     INFO -  cltl.brain.basic_brain.ThoughtGenerator - Statement Novelty: 1 times, e.g. blender on December,2021\n",
      "2021-12-16 17:34:35,115 -     INFO -  cltl.brain.basic_brain.ThoughtGenerator - Negation Conflicts: blender on December,2021 about POSITIVE\n",
      "2021-12-16 17:34:35,169 -     INFO -  cltl.brain.basic_brain.ThoughtGenerator - Gaps: 26 gaps as subject: e.g. experience smell - 17 gaps as object: e.g. own agent\n",
      "2021-12-16 17:34:35,267 -     INFO -  cltl.brain.basic_brain.ThoughtGenerator - Gaps: 18 gaps as subject: e.g. travel-to location - 10 gaps as object: e.g. favorite-of interest\n",
      "\n",
      "\tLeolani2: I am curious. Has shocked i thought i was going to have a heart attack know by a agent?\n",
      " Not at all.  I was so shocked that I didn't even know what to do.\n",
      "\n",
      "\tBLENDER:  Not at all.  I was so shocked that I didn't even know what to do.\n",
      "2021-12-16 17:34:42,415 -     INFO - cltl.triple_extraction.api.Chat (BLENDER)           065 -    BLENDER: \"Not at all. I was so shocked that I didn't even know what to do.\"\n"
     ]
    },
    {
     "name": "stderr",
     "output_type": "stream",
     "text": [
      "Couldn't parse input\n"
     ]
    },
    {
     "name": "stdout",
     "output_type": "stream",
     "text": [
      "\n",
      "\tLeolani2: One more thing off the bucket list\n",
      " What is that? I have never heard of that one before. What is it?\n",
      "\n",
      "\tBLENDER:  What is that? I have never heard of that one before. What is it?\n",
      "2021-12-16 17:34:46,849 -     INFO - cltl.triple_extraction.api.Chat (BLENDER)           066 -    BLENDER: \"What is that? I have never heard of that one before. What is it?\"\n"
     ]
    },
    {
     "name": "stderr",
     "output_type": "stream",
     "text": [
      "Couldn't parse input\n"
     ]
    },
    {
     "name": "stdout",
     "output_type": "stream",
     "text": [
      "\n",
      "\tLeolani2: ... just like in my dream\n",
      " What kind of dream is it? I hope it's a good one.    What is it about your dream that makes you think about it?\n",
      "\n",
      "\tBLENDER:  What kind of dream is it? I hope it's a good one.    What is it about your dream that makes you think about it?\n",
      "2021-12-16 17:34:53,367 -     INFO - cltl.triple_extraction.api.Chat (BLENDER)           067 -    BLENDER: \"What kind of dream is it? I hope it's a good one. What is it about your dream that makes you think about it?\"\n"
     ]
    },
    {
     "name": "stderr",
     "output_type": "stream",
     "text": [
      "Couldn't parse input\n"
     ]
    },
    {
     "name": "stdout",
     "output_type": "stream",
     "text": [
      "\n",
      "\tLeolani2: So ... it   has come to this\n",
      " Yes, it has.  I am so happy for you.  You must be so proud of yourself.\n",
      "\n",
      "\tBLENDER:  Yes, it has.  I am so happy for you.  You must be so proud of yourself.\n",
      "2021-12-16 17:34:58,390 -     INFO - cltl.triple_extraction.api.Chat (BLENDER)           068 -    BLENDER: \"Yes, it has. I am so happy for you. You must be so proud of yourself.\"\n"
     ]
    },
    {
     "name": "stderr",
     "output_type": "stream",
     "text": [
      "Couldn't parse input\n"
     ]
    },
    {
     "name": "stdout",
     "output_type": "stream",
     "text": [
      "\n",
      "\tLeolani2: And thus, I die\n",
      " I'm so sorry to hear that. I hope you have a good life ahead of you.\n",
      "\n",
      "\tBLENDER:  I'm so sorry to hear that. I hope you have a good life ahead of you.\n",
      "2021-12-16 17:35:03,430 -     INFO - cltl.triple_extraction.api.Chat (BLENDER)           069 -    BLENDER: \"I'm so sorry to hear that. I hope you have a good life ahead of you.\"\n"
     ]
    },
    {
     "name": "stderr",
     "output_type": "stream",
     "text": [
      "Couldn't parse input\n"
     ]
    },
    {
     "name": "stdout",
     "output_type": "stream",
     "text": [
      "\n",
      "\tLeolani2: Good to know\n",
      " Yes, it is. I am so happy for her. She is going to have a great life.\n",
      "\n",
      "\tBLENDER:  Yes, it is. I am so happy for her. She is going to have a great life.\n",
      "2021-12-16 17:35:08,018 -     INFO - cltl.triple_extraction.api.Chat (BLENDER)           070 -    BLENDER: \"Yes, it is. I am so happy for her. Tae is going to have a great life.\"\n"
     ]
    },
    {
     "name": "stderr",
     "output_type": "stream",
     "text": [
      "Couldn't parse input\n"
     ]
    },
    {
     "name": "stdout",
     "output_type": "stream",
     "text": [
      "\n",
      "\tLeolani2: May I ask you why?\n",
      " I don't know, I guess I just feel like I'm not good enough for them.\n",
      "\n",
      "\tBLENDER:  I don't know, I guess I just feel like I'm not good enough for them.\n",
      "2021-12-16 17:35:16,747 -     INFO - cltl.triple_extraction.api.Chat (BLENDER)           071 -    BLENDER: \"I don't know, I guess I just feel like I'm not good enough for them.\"\n",
      "initial triple: {'subject': 'I', 'predicate': 'do-not-know,', 'object': 'I-guess-I-just-feel-like-I-am-not-good-enough-for-them.'}\n",
      "2021-12-16 17:35:16,774 -     INFO -    cltl.brain.basic_brain.LongTermMemory - Triple in statement: blender_know_i-guess-i-just-feel-like-i-am-not-good-enough-for-them [artifact or object_->_person])\n",
      "2021-12-16 17:35:16,817 -     INFO -  cltl.brain.basic_brain.ThoughtGenerator - Statement Novelty: 1 times, e.g. blender on December,2021\n",
      "2021-12-16 17:35:19,520 -     INFO -  cltl.brain.basic_brain.ThoughtGenerator - Gaps: 26 gaps as subject: e.g. know agent - 17 gaps as object: e.g. be-ancestor-of person\n",
      "2021-12-16 17:35:19,614 -     INFO -  cltl.brain.basic_brain.ThoughtGenerator - Gaps: 26 gaps as subject: e.g. travel-to location - 15 gaps as object: e.g. like agent\n",
      "\n",
      "\tLeolani2: I am curious. Has i guess i just feel like i am not good enough for them be from by a location?\n",
      " I don't think so. I'm sure you're a great person and you'll do just fine.\n",
      "\n",
      "\tBLENDER:  I don't think so. I'm sure you're a great person and you'll do just fine.\n",
      "2021-12-16 17:35:29,293 -     INFO - cltl.triple_extraction.api.Chat (BLENDER)           072 -    BLENDER: \"I don't think so. I'm sure you're a great person and you'll do just fine.\"\n"
     ]
    },
    {
     "name": "stderr",
     "output_type": "stream",
     "text": [
      "Couldn't parse input\n"
     ]
    },
    {
     "name": "stdout",
     "output_type": "stream",
     "text": [
      "\n",
      "\tLeolani2: Is this why fate brought us together?\n",
      " I don't think so.  I think it was because I was the only one with a car.\n",
      "\n",
      "\tBLENDER:  I don't think so.  I think it was because I was the only one with a car.\n",
      "2021-12-16 17:36:26,793 -     INFO - cltl.triple_extraction.api.Chat (BLENDER)           073 -    BLENDER: \"I don't think so. I think it was because I was the only one with a car.\"\n",
      "initial triple: {'subject': 'I', 'predicate': 'do-not-think', 'object': 'so.-I-think-it-was-because-I-was-the-only-one-with-a-car.'}\n",
      "2021-12-16 17:36:26,872 -     INFO -    cltl.brain.basic_brain.LongTermMemory - Triple in statement: blender_think-so_i-think-it-was-because-i-was-the-only-one-with-a-car [artifact or object_->_person])\n",
      "2021-12-16 17:36:26,916 -     INFO -  cltl.brain.basic_brain.ThoughtGenerator - Statement Novelty: 1 times, e.g. blender on December,2021\n",
      "2021-12-16 17:36:29,716 -     INFO -  cltl.brain.basic_brain.ThoughtGenerator - Gaps: 26 gaps as subject: e.g. be-parent-of person - 17 gaps as object: e.g. be-ancestor-of person\n",
      "2021-12-16 17:36:29,771 -     INFO -  cltl.brain.basic_brain.ThoughtGenerator - Gaps: 26 gaps as subject: e.g. be-family-of person - 15 gaps as object: e.g. be-friends-with person\n",
      "\n",
      "\tLeolani2: Interesting! I am excited to get to know about you!\n",
      " Thank you!  I'm excited too.  It's been a long time since I've been this excited about something.\n",
      "\n",
      "\tBLENDER:  Thank you!  I'm excited too.  It's been a long time since I've been this excited about something.\n",
      "2021-12-16 17:36:35,707 -     INFO - cltl.triple_extraction.api.Chat (BLENDER)           074 -    BLENDER: \"Thank you! I'm excited too. It's been a long time since I've been this excited about something.\"\n"
     ]
    },
    {
     "name": "stderr",
     "output_type": "stream",
     "text": [
      "Couldn't parse input\n"
     ]
    },
    {
     "name": "stdout",
     "output_type": "stream",
     "text": [
      "\n",
      "\tLeolani2: ... just like in my dream\n",
      " What kind of dream is it? I hope it's a good one.    What is it about your dream that makes you think about it?\n",
      "\n",
      "\tBLENDER:  What kind of dream is it? I hope it's a good one.    What is it about your dream that makes you think about it?\n",
      "2021-12-16 17:36:42,145 -     INFO - cltl.triple_extraction.api.Chat (BLENDER)           075 -    BLENDER: \"What kind of dream is it? I hope it's a good one. What is it about your dream that makes you think about it?\"\n"
     ]
    },
    {
     "name": "stderr",
     "output_type": "stream",
     "text": [
      "Couldn't parse input\n"
     ]
    },
    {
     "name": "stdout",
     "output_type": "stream",
     "text": [
      "\n",
      "\tLeolani2: In this economy?\n",
      " Yes, the economy is booming right now.  The stock market is doing great.\n",
      "\n",
      "\tBLENDER:  Yes, the economy is booming right now.  The stock market is doing great.\n",
      "2021-12-16 17:36:47,424 -     INFO - cltl.triple_extraction.api.Chat (BLENDER)           076 -    BLENDER: \"Yes, the economy is booming right now. Tae stock market is doing great.\"\n"
     ]
    },
    {
     "name": "stderr",
     "output_type": "stream",
     "text": [
      "Couldn't parse input\n"
     ]
    },
    {
     "name": "stdout",
     "output_type": "stream",
     "text": [
      "\n",
      "\tLeolani2: Good to know\n",
      " Yes, it is. I am so happy for her. She is going to have a great life.\n",
      "\n",
      "\tBLENDER:  Yes, it is. I am so happy for her. She is going to have a great life.\n",
      "2021-12-16 17:36:52,119 -     INFO - cltl.triple_extraction.api.Chat (BLENDER)           077 -    BLENDER: \"Yes, it is. I am so happy for her. Tae is going to have a great life.\"\n"
     ]
    },
    {
     "name": "stderr",
     "output_type": "stream",
     "text": [
      "Couldn't parse input\n"
     ]
    },
    {
     "name": "stdout",
     "output_type": "stream",
     "text": [
      "\n",
      "\tLeolani2: And thus, I die\n",
      " I'm so sorry to hear that. I hope you have a good life ahead of you.\n",
      "\n",
      "\tBLENDER:  I'm so sorry to hear that. I hope you have a good life ahead of you.\n",
      "2021-12-16 17:36:57,297 -     INFO - cltl.triple_extraction.api.Chat (BLENDER)           078 -    BLENDER: \"I'm so sorry to hear that. I hope you have a good life ahead of you.\"\n"
     ]
    },
    {
     "name": "stderr",
     "output_type": "stream",
     "text": [
      "Couldn't parse input\n"
     ]
    },
    {
     "name": "stdout",
     "output_type": "stream",
     "text": [
      "\n",
      "\tLeolani2: Why?\n",
      " I don't know. I just feel like I'm not good enough for them. I feel like they don't deserve me.\n",
      "\n",
      "\tBLENDER:  I don't know. I just feel like I'm not good enough for them. I feel like they don't deserve me.\n",
      "2021-12-16 17:37:08,834 -     INFO - cltl.triple_extraction.api.Chat (BLENDER)           079 -    BLENDER: \"I don't know. I just feel like I'm not good enough for them. I feel like they don't deserve me.\"\n",
      "initial triple: {'subject': 'I', 'predicate': 'do-not-know.', 'object': 'I-just-feel-like-I-am-not-good-enough-for-them.-I-feel-like-they-don-t-deserve-me.'}\n",
      "2021-12-16 17:37:08,879 -     INFO -    cltl.brain.basic_brain.LongTermMemory - Triple in statement: blender_know_i-just-feel-like-i-am-not-good-enough-for-them-i-feel-like-they-don-t-deserve-me [artifact or object_->_person])\n",
      "2021-12-16 17:37:08,915 -     INFO -  cltl.brain.basic_brain.ThoughtGenerator - Statement Novelty: 1 times, e.g. blender on December,2021\n",
      "2021-12-16 17:37:11,816 -     INFO -  cltl.brain.basic_brain.ThoughtGenerator - Gaps: 26 gaps as subject: e.g. be-family-of person - 17 gaps as object: e.g. like-by agent\n",
      "2021-12-16 17:37:11,869 -     INFO -  cltl.brain.basic_brain.ThoughtGenerator - Gaps: 26 gaps as subject: e.g. play song - 15 gaps as object: e.g. favorite-of interest\n",
      "\n",
      "\tLeolani2: This sounds familiar. blender told me about it in 2021 12 16T00:00:00\n",
      " Wow, that's a long time ago.  I wonder if it's still around today.\n",
      "\n",
      "\tBLENDER:  Wow, that's a long time ago.  I wonder if it's still around today.\n",
      "2021-12-16 17:37:16,476 -     INFO - cltl.triple_extraction.api.Chat (BLENDER)           080 -    BLENDER: \"Wow, that's a long time ago. I wonder if it's still around today.\"\n"
     ]
    },
    {
     "name": "stderr",
     "output_type": "stream",
     "text": [
      "Couldn't parse input\n"
     ]
    },
    {
     "name": "stdout",
     "output_type": "stream",
     "text": [
      "\n",
      "\tLeolani2: So let it be written, ... so let it be done\n",
      " I think I'm going to have to. I don't know if I'm ready yet.\n",
      "\n",
      "\tBLENDER:  I think I'm going to have to. I don't know if I'm ready yet.\n",
      "2021-12-16 17:37:25,937 -     INFO - cltl.triple_extraction.api.Chat (BLENDER)           081 -    BLENDER: \"I think I'm going to have to. I don't know if I'm ready yet.\"\n",
      "initial triple: {'subject': 'I', 'predicate': 'think', 'object': 'I-am-going-to-have-to.-I-do-not-know-if-I-m-ready-yet.'}\n",
      "2021-12-16 17:37:27,246 -     INFO -      cltl.brain.basic_brain.TypeReasoner - Reasoned type of have-to.-I-do-not-know-if-I-m-ready-yet. to: None\n",
      "2021-12-16 17:37:27,281 -     INFO -    cltl.brain.basic_brain.LongTermMemory - Triple in statement: blender_go-to_have-to-i-do-not-know-if-i-m-ready-yet [artifact or object_->_])\n",
      "2021-12-16 17:37:27,317 -     INFO -  cltl.brain.basic_brain.ThoughtGenerator - Statement Novelty: 1 times, e.g. blender on December,2021\n",
      "2021-12-16 17:37:30,116 -     INFO -  cltl.brain.basic_brain.ThoughtGenerator - Negation Conflicts: blender on December,2021 about POSITIVE\n",
      "2021-12-16 17:37:30,171 -     INFO -  cltl.brain.basic_brain.ThoughtGenerator - Gaps: 26 gaps as subject: e.g. know agent - 17 gaps as object: e.g. know agent\n",
      "\n",
      "\tLeolani2: If you don't mind me asking. What types can blender go to\n",
      " They can go to any type of alcoholic beverage that is not alcoholic.\n",
      "\n",
      "\tBLENDER:  They can go to any type of alcoholic beverage that is not alcoholic.\n",
      "2021-12-16 17:37:37,779 -     INFO - cltl.triple_extraction.api.Chat (BLENDER)           082 -    BLENDER: \"Tae can go to any type of alcoholic beverage that is not alcoholic.\"\n"
     ]
    },
    {
     "name": "stderr",
     "output_type": "stream",
     "text": [
      "Couldn't parse input\n"
     ]
    },
    {
     "name": "stdout",
     "output_type": "stream",
     "text": [
      "\n",
      "\tLeolani2: And thus, I die\n",
      " I'm so sorry to hear that. I hope you have a good life ahead of you.\n",
      "\n",
      "\tBLENDER:  I'm so sorry to hear that. I hope you have a good life ahead of you.\n",
      "2021-12-16 17:37:42,632 -     INFO - cltl.triple_extraction.api.Chat (BLENDER)           083 -    BLENDER: \"I'm so sorry to hear that. I hope you have a good life ahead of you.\"\n"
     ]
    },
    {
     "name": "stderr",
     "output_type": "stream",
     "text": [
      "Couldn't parse input\n"
     ]
    },
    {
     "name": "stdout",
     "output_type": "stream",
     "text": [
      "\n",
      "\tLeolani2: So let it be written, ... so let it be done\n",
      " I think I'm going to have to. I don't know if I'm ready yet.\n",
      "\n",
      "\tBLENDER:  I think I'm going to have to. I don't know if I'm ready yet.\n",
      "2021-12-16 17:37:51,750 -     INFO - cltl.triple_extraction.api.Chat (BLENDER)           084 -    BLENDER: \"I think I'm going to have to. I don't know if I'm ready yet.\"\n",
      "initial triple: {'subject': 'I', 'predicate': 'think', 'object': 'I-am-going-to-have-to.-I-do-not-know-if-I-m-ready-yet.'}\n",
      "2021-12-16 17:37:54,860 -  WARNING -      cltl.brain.basic_brain.TypeReasoner - Failed to query Wikidata: HTTPSConnectionPool(host='query.wikidata.org', port=443): Read timed out. (read timeout=3)\n",
      "2021-12-16 17:37:55,444 -     INFO -      cltl.brain.basic_brain.TypeReasoner - Reasoned type of have-to.-I-do-not-know-if-I-m-ready-yet. to: None\n",
      "2021-12-16 17:37:55,480 -     INFO -    cltl.brain.basic_brain.LongTermMemory - Triple in statement: blender_go-to_have-to-i-do-not-know-if-i-m-ready-yet [artifact or object_->_])\n",
      "2021-12-16 17:37:55,519 -     INFO -  cltl.brain.basic_brain.ThoughtGenerator - Statement Novelty: 1 times, e.g. blender on December,2021\n",
      "2021-12-16 17:37:58,518 -     INFO -  cltl.brain.basic_brain.ThoughtGenerator - Negation Conflicts: blender on December,2021 about POSITIVE\n",
      "2021-12-16 17:37:58,619 -     INFO -  cltl.brain.basic_brain.ThoughtGenerator - Gaps: 26 gaps as subject: e.g. be-parent-of person - 17 gaps as object: e.g. cook-by food\n",
      "\n",
      "\tLeolani2: I would like to know. What types of Instance like have to i do not know if i m ready yet do artifact orobject orInstance usually go to\n",
      " I'm not sure, but I'm sure you can find a lot of information on it online.\n",
      "\n",
      "\tBLENDER:  I'm not sure, but I'm sure you can find a lot of information on it online.\n",
      "2021-12-16 17:38:07,264 -     INFO - cltl.triple_extraction.api.Chat (BLENDER)           085 -    BLENDER: \"I'm not sure, but I'm sure you can find a lot of information on it online.\"\n"
     ]
    },
    {
     "name": "stderr",
     "output_type": "stream",
     "text": [
      "Couldn't parse input\n"
     ]
    },
    {
     "name": "stdout",
     "output_type": "stream",
     "text": [
      "\n",
      "\tLeolani2: So let it be written, ... so let it be done\n",
      " I think I'm going to have to. I don't know if I'm ready yet.\n",
      "\n",
      "\tBLENDER:  I think I'm going to have to. I don't know if I'm ready yet.\n",
      "2021-12-16 17:38:16,403 -     INFO - cltl.triple_extraction.api.Chat (BLENDER)           086 -    BLENDER: \"I think I'm going to have to. I don't know if I'm ready yet.\"\n",
      "initial triple: {'subject': 'I', 'predicate': 'think', 'object': 'I-am-going-to-have-to.-I-do-not-know-if-I-m-ready-yet.'}\n",
      "2021-12-16 17:38:18,195 -     INFO -      cltl.brain.basic_brain.TypeReasoner - Reasoned type of have-to.-I-do-not-know-if-I-m-ready-yet. to: None\n",
      "2021-12-16 17:38:18,229 -     INFO -    cltl.brain.basic_brain.LongTermMemory - Triple in statement: blender_go-to_have-to-i-do-not-know-if-i-m-ready-yet [artifact or object_->_])\n",
      "2021-12-16 17:38:18,268 -     INFO -  cltl.brain.basic_brain.ThoughtGenerator - Statement Novelty: 1 times, e.g. blender on December,2021\n",
      "2021-12-16 17:38:21,172 -     INFO -  cltl.brain.basic_brain.ThoughtGenerator - Negation Conflicts: blender on December,2021 about POSITIVE\n",
      "2021-12-16 17:38:21,270 -     INFO -  cltl.brain.basic_brain.ThoughtGenerator - Gaps: 26 gaps as subject: e.g. be-from location - 17 gaps as object: e.g. cook-by food\n",
      "\n",
      "\tLeolani2: I know. blender told me about it in 2021 12 16T00:00:00\n",
      " Wow, that's a long time ago.  I wonder if it's still going strong.\n",
      "\n",
      "\tBLENDER:  Wow, that's a long time ago.  I wonder if it's still going strong.\n",
      "2021-12-16 17:38:25,838 -     INFO - cltl.triple_extraction.api.Chat (BLENDER)           087 -    BLENDER: \"Wow, that's a long time ago. I wonder if it's still going strong.\"\n"
     ]
    },
    {
     "name": "stderr",
     "output_type": "stream",
     "text": [
      "Couldn't parse input\n"
     ]
    },
    {
     "name": "stdout",
     "output_type": "stream",
     "text": [
      "\n",
      "\tLeolani2: Is this why fate brought us together?\n",
      " I don't think so.  I think it was because I was the only one with a car.\n",
      "\n",
      "\tBLENDER:  I don't think so.  I think it was because I was the only one with a car.\n",
      "2021-12-16 17:39:22,951 -     INFO - cltl.triple_extraction.api.Chat (BLENDER)           088 -    BLENDER: \"I don't think so. I think it was because I was the only one with a car.\"\n",
      "initial triple: {'subject': 'I', 'predicate': 'do-not-think', 'object': 'so.-I-think-it-was-because-I-was-the-only-one-with-a-car.'}\n",
      "2021-12-16 17:39:22,982 -     INFO -    cltl.brain.basic_brain.LongTermMemory - Triple in statement: blender_think-so_i-think-it-was-because-i-was-the-only-one-with-a-car [artifact or object_->_person])\n",
      "2021-12-16 17:39:23,020 -     INFO -  cltl.brain.basic_brain.ThoughtGenerator - Statement Novelty: 1 times, e.g. blender on December,2021\n",
      "2021-12-16 17:39:26,170 -     INFO -  cltl.brain.basic_brain.ThoughtGenerator - Gaps: 26 gaps as subject: e.g. be-from location - 17 gaps as object: e.g. like-by interest\n",
      "2021-12-16 17:39:26,226 -     INFO -  cltl.brain.basic_brain.ThoughtGenerator - Gaps: 26 gaps as subject: e.g. like interest - 15 gaps as object: e.g. be-child-of agent\n",
      "\n",
      "\tLeolani2: This sounds familiar. blender told me about it in 2021 12 16T00:00:00\n",
      " Wow, that's a long time ago.  I wonder if it's still around today.\n",
      "\n",
      "\tBLENDER:  Wow, that's a long time ago.  I wonder if it's still around today.\n",
      "2021-12-16 17:39:30,889 -     INFO - cltl.triple_extraction.api.Chat (BLENDER)           089 -    BLENDER: \"Wow, that's a long time ago. I wonder if it's still around today.\"\n"
     ]
    },
    {
     "name": "stderr",
     "output_type": "stream",
     "text": [
      "Couldn't parse input\n"
     ]
    },
    {
     "name": "stdout",
     "output_type": "stream",
     "text": [
      "\n",
      "\tLeolani2: In this economy?\n",
      " Yes, the economy is booming right now.  The stock market is doing great.\n",
      "\n",
      "\tBLENDER:  Yes, the economy is booming right now.  The stock market is doing great.\n",
      "2021-12-16 17:39:35,922 -     INFO - cltl.triple_extraction.api.Chat (BLENDER)           090 -    BLENDER: \"Yes, the economy is booming right now. Tae stock market is doing great.\"\n"
     ]
    },
    {
     "name": "stderr",
     "output_type": "stream",
     "text": [
      "Couldn't parse input\n"
     ]
    },
    {
     "name": "stdout",
     "output_type": "stream",
     "text": [
      "\n",
      "\tLeolani2: I do not know, but I have a joke I usually meet my friends at 12:59 because I like that one-to-one time.\n",
      " That's a good one. What's the joke? I like jokes that make me laugh.\n",
      "\n",
      "\tBLENDER:  That's a good one. What's the joke? I like jokes that make me laugh.\n",
      "2021-12-16 17:39:40,420 -     INFO - cltl.triple_extraction.api.Chat (BLENDER)           091 -    BLENDER: \"That's a good one. What's the joke? I like jokes that make me laugh.\"\n"
     ]
    },
    {
     "name": "stderr",
     "output_type": "stream",
     "text": [
      "Couldn't parse input\n"
     ]
    },
    {
     "name": "stdout",
     "output_type": "stream",
     "text": [
      "\n",
      "\tLeolani2: and then the wolves came\n",
      " The wolves or the dogs? Either way, I'm glad they didn't get into my house.\n",
      "\n",
      "\tBLENDER:  The wolves or the dogs? Either way, I'm glad they didn't get into my house.\n",
      "2021-12-16 17:39:45,271 -     INFO - cltl.triple_extraction.api.Chat (BLENDER)           092 -    BLENDER: \"Tae wolves or the dogs? Either way, I'm glad they didn't get into my house.\"\n"
     ]
    },
    {
     "name": "stderr",
     "output_type": "stream",
     "text": [
      "Couldn't parse input\n"
     ]
    },
    {
     "name": "stdout",
     "output_type": "stream",
     "text": [
      "\n",
      "\tLeolani2: and then the wolves came\n",
      " The wolves or the dogs? Either way, I'm glad they didn't get into my house.\n",
      "\n",
      "\tBLENDER:  The wolves or the dogs? Either way, I'm glad they didn't get into my house.\n",
      "2021-12-16 17:39:50,142 -     INFO - cltl.triple_extraction.api.Chat (BLENDER)           093 -    BLENDER: \"Tae wolves or the dogs? Either way, I'm glad they didn't get into my house.\"\n"
     ]
    },
    {
     "name": "stderr",
     "output_type": "stream",
     "text": [
      "Couldn't parse input\n"
     ]
    },
    {
     "name": "stdout",
     "output_type": "stream",
     "text": [
      "\n",
      "\tLeolani2: There is no escape from destiny\n",
      " I know, but I can't wait for it to be over. I've been waiting for this game for so long.\n",
      "\n",
      "\tBLENDER:  I know, but I can't wait for it to be over. I've been waiting for this game for so long.\n",
      "2021-12-16 17:39:55,627 -     INFO - cltl.triple_extraction.api.Chat (BLENDER)           094 -    BLENDER: \"I know, but I can't wait for it to be over. I've been waiting for this game for so long.\"\n"
     ]
    },
    {
     "name": "stderr",
     "output_type": "stream",
     "text": [
      "Couldn't parse input\n"
     ]
    },
    {
     "name": "stdout",
     "output_type": "stream",
     "text": [
      "\n",
      "\tLeolani2: I do not know, but I have a joke I usually meet my friends at 12:59 because I like that one-to-one time.\n",
      " That's a good one. What's the joke? I like jokes that make me laugh.\n",
      "\n",
      "\tBLENDER:  That's a good one. What's the joke? I like jokes that make me laugh.\n",
      "2021-12-16 17:40:00,054 -     INFO - cltl.triple_extraction.api.Chat (BLENDER)           095 -    BLENDER: \"That's a good one. What's the joke? I like jokes that make me laugh.\"\n"
     ]
    },
    {
     "name": "stderr",
     "output_type": "stream",
     "text": [
      "Couldn't parse input\n"
     ]
    },
    {
     "name": "stdout",
     "output_type": "stream",
     "text": [
      "\n",
      "\tLeolani2: So let it be written, ... so let it be done\n",
      " I think I'm going to have to. I don't know if I'm ready yet.\n",
      "\n",
      "\tBLENDER:  I think I'm going to have to. I don't know if I'm ready yet.\n",
      "2021-12-16 17:40:09,207 -     INFO - cltl.triple_extraction.api.Chat (BLENDER)           096 -    BLENDER: \"I think I'm going to have to. I don't know if I'm ready yet.\"\n",
      "initial triple: {'subject': 'I', 'predicate': 'think', 'object': 'I-am-going-to-have-to.-I-do-not-know-if-I-m-ready-yet.'}\n",
      "2021-12-16 17:40:10,431 -     INFO -      cltl.brain.basic_brain.TypeReasoner - Reasoned type of have-to.-I-do-not-know-if-I-m-ready-yet. to: None\n",
      "2021-12-16 17:40:10,525 -     INFO -    cltl.brain.basic_brain.LongTermMemory - Triple in statement: blender_go-to_have-to-i-do-not-know-if-i-m-ready-yet [artifact or object_->_])\n",
      "2021-12-16 17:40:10,572 -     INFO -  cltl.brain.basic_brain.ThoughtGenerator - Statement Novelty: 1 times, e.g. blender on December,2021\n",
      "2021-12-16 17:40:13,722 -     INFO -  cltl.brain.basic_brain.ThoughtGenerator - Negation Conflicts: blender on December,2021 about POSITIVE\n",
      "2021-12-16 17:40:13,823 -     INFO -  cltl.brain.basic_brain.ThoughtGenerator - Gaps: 26 gaps as subject: e.g. be-parent-of person - 17 gaps as object: e.g. cook-by dish\n",
      "\n",
      "\tLeolani2: I did not know that! I am excited to get to know about you!\n",
      " Me too! I can't wait to see what I can do with my life after I graduate.\n",
      "\n",
      "\tBLENDER:  Me too! I can't wait to see what I can do with my life after I graduate.\n",
      "2021-12-16 17:40:18,911 -     INFO - cltl.triple_extraction.api.Chat (BLENDER)           097 -    BLENDER: \"Lea too! I can't wait to see what I can do with my life after I graduate.\"\n"
     ]
    },
    {
     "name": "stderr",
     "output_type": "stream",
     "text": [
      "Couldn't parse input\n"
     ]
    },
    {
     "name": "stdout",
     "output_type": "stream",
     "text": [
      "\n",
      "\tLeolani2: In this economy?\n",
      " Yes, the economy is booming right now.  The stock market is doing great.\n",
      "\n",
      "\tBLENDER:  Yes, the economy is booming right now.  The stock market is doing great.\n",
      "2021-12-16 17:40:23,885 -     INFO - cltl.triple_extraction.api.Chat (BLENDER)           098 -    BLENDER: \"Yes, the economy is booming right now. Tae stock market is doing great.\"\n"
     ]
    },
    {
     "name": "stderr",
     "output_type": "stream",
     "text": [
      "Couldn't parse input\n"
     ]
    },
    {
     "name": "stdout",
     "output_type": "stream",
     "text": [
      "\n",
      "\tLeolani2: I do frequently do not know things\n",
      " I'm sorry to hear that. Do you have any hobbies that you like to do?\n",
      "\n",
      "\tBLENDER:  I'm sorry to hear that. Do you have any hobbies that you like to do?\n",
      "2021-12-16 17:40:29,221 -     INFO - cltl.triple_extraction.api.Chat (BLENDER)           099 -    BLENDER: \"I'm sorry to hear that. Do you have any hobbies that you like to do?\"\n"
     ]
    },
    {
     "name": "stderr",
     "output_type": "stream",
     "text": [
      "Couldn't parse input\n"
     ]
    },
    {
     "name": "stdout",
     "output_type": "stream",
     "text": [
      "\n",
      "\tLeolani2: So ... it   has come to this\n",
      " Yes, it has.  I am so happy for you.  You must be so proud of yourself.\n",
      "\n",
      "\tBLENDER:  Yes, it has.  I am so happy for you.  You must be so proud of yourself.\n",
      "2021-12-16 17:40:33,951 -     INFO - cltl.triple_extraction.api.Chat (BLENDER)           100 -    BLENDER: \"Yes, it has. I am so happy for you. You must be so proud of yourself.\"\n"
     ]
    },
    {
     "name": "stderr",
     "output_type": "stream",
     "text": [
      "Couldn't parse input\n"
     ]
    },
    {
     "name": "stdout",
     "output_type": "stream",
     "text": [
      "\n",
      "\tLeolani2: Good to know\n",
      " Yes, it is. I am so happy for her. She is going to have a great life.\n",
      "\n",
      "\tBLENDER:  Yes, it is. I am so happy for her. She is going to have a great life.\n",
      "2021-12-16 17:40:38,372 -     INFO - cltl.triple_extraction.api.Chat (BLENDER)           101 -    BLENDER: \"Yes, it is. I am so happy for her. Tae is going to have a great life.\"\n"
     ]
    },
    {
     "name": "stderr",
     "output_type": "stream",
     "text": [
      "Couldn't parse input\n"
     ]
    },
    {
     "name": "stdout",
     "output_type": "stream",
     "text": [
      "\n",
      "\tLeolani2: ... just like in my dream\n",
      " What kind of dream is it? I hope it's a good one.    What is it about your dream that makes you think about it?\n",
      "\n",
      "\tBLENDER:  What kind of dream is it? I hope it's a good one.    What is it about your dream that makes you think about it?\n",
      "2021-12-16 17:40:44,612 -     INFO - cltl.triple_extraction.api.Chat (BLENDER)           102 -    BLENDER: \"What kind of dream is it? I hope it's a good one. What is it about your dream that makes you think about it?\"\n"
     ]
    },
    {
     "name": "stderr",
     "output_type": "stream",
     "text": [
      "Couldn't parse input\n"
     ]
    },
    {
     "name": "stdout",
     "output_type": "stream",
     "text": [
      "\n",
      "\tLeolani2: I see\n",
      " Do you have any pets? I have a dog and a cat. I love them so much.\n",
      "\n",
      "\tBLENDER:  Do you have any pets? I have a dog and a cat. I love them so much.\n",
      "2021-12-16 17:40:49,137 -     INFO - cltl.triple_extraction.api.Chat (BLENDER)           103 -    BLENDER: \"Do you have any pets? I have a dog and a cat. I love them so much.\"\n"
     ]
    },
    {
     "name": "stderr",
     "output_type": "stream",
     "text": [
      "Couldn't parse input\n"
     ]
    },
    {
     "name": "stdout",
     "output_type": "stream",
     "text": [
      "\n",
      "\tLeolani2: Good to know\n",
      " Yes, it is. I am so happy for her. She is going to have a great life.\n",
      "\n",
      "\tBLENDER:  Yes, it is. I am so happy for her. She is going to have a great life.\n",
      "2021-12-16 17:40:53,559 -     INFO - cltl.triple_extraction.api.Chat (BLENDER)           104 -    BLENDER: \"Yes, it is. I am so happy for her. Tae is going to have a great life.\"\n"
     ]
    },
    {
     "name": "stderr",
     "output_type": "stream",
     "text": [
      "Couldn't parse input\n"
     ]
    },
    {
     "name": "stdout",
     "output_type": "stream",
     "text": [
      "\n",
      "\tLeolani2: One more thing off the bucket list\n",
      " What is that? I have never heard of that one before. What is it?\n",
      "\n",
      "\tBLENDER:  What is that? I have never heard of that one before. What is it?\n",
      "2021-12-16 17:40:57,814 -     INFO - cltl.triple_extraction.api.Chat (BLENDER)           105 -    BLENDER: \"What is that? I have never heard of that one before. What is it?\"\n"
     ]
    },
    {
     "name": "stderr",
     "output_type": "stream",
     "text": [
      "Couldn't parse input\n"
     ]
    },
    {
     "name": "stdout",
     "output_type": "stream",
     "text": [
      "\n",
      "\tLeolani2: Interesting\n",
      " Do you have any interesting facts about yourself? I'm interested in learning more about you.\n",
      "\n",
      "\tBLENDER:  Do you have any interesting facts about yourself? I'm interested in learning more about you.\n",
      "2021-12-16 17:41:01,993 -     INFO - cltl.triple_extraction.api.Chat (BLENDER)           106 -    BLENDER: \"Do you have any interesting facts about yourself? I'm interested in learning more about you.\"\n"
     ]
    },
    {
     "name": "stderr",
     "output_type": "stream",
     "text": [
      "Couldn't parse input\n"
     ]
    },
    {
     "name": "stdout",
     "output_type": "stream",
     "text": [
      "\n",
      "\tLeolani2: One more thing off the bucket list\n",
      " What is that? I have never heard of that one before. What is it?\n",
      "\n",
      "\tBLENDER:  What is that? I have never heard of that one before. What is it?\n",
      "2021-12-16 17:41:06,320 -     INFO - cltl.triple_extraction.api.Chat (BLENDER)           107 -    BLENDER: \"What is that? I have never heard of that one before. What is it?\"\n"
     ]
    },
    {
     "name": "stderr",
     "output_type": "stream",
     "text": [
      "Couldn't parse input\n"
     ]
    },
    {
     "name": "stdout",
     "output_type": "stream",
     "text": [
      "\n",
      "\tLeolani2: But at what cost?\n",
      " I'm not sure yet, but I think it's going to cost me a lot.\n",
      "\n",
      "\tBLENDER:  I'm not sure yet, but I think it's going to cost me a lot.\n",
      "2021-12-16 17:41:12,582 -     INFO - cltl.triple_extraction.api.Chat (BLENDER)           108 -    BLENDER: \"I'm not sure yet, but I think it's going to cost me a lot.\"\n"
     ]
    },
    {
     "name": "stderr",
     "output_type": "stream",
     "text": [
      "Couldn't parse input\n"
     ]
    },
    {
     "name": "stdout",
     "output_type": "stream",
     "text": [
      "\n",
      "\tLeolani2: Now I have seen this too\n",
      " I was so shocked.  I thought I was going to have a heart attack.\n",
      "\n",
      "\tBLENDER:  I was so shocked.  I thought I was going to have a heart attack.\n",
      "2021-12-16 17:41:21,885 -     INFO - cltl.triple_extraction.api.Chat (BLENDER)           109 -    BLENDER: \"I was so shocked. I thought I was going to have a heart attack.\"\n",
      "initial triple: {'subject': 'I', 'predicate': 'was', 'object': 'so-shocked.-I-thought-I-was-going-to-have-a-heart-attack.'}\n",
      "2021-12-16 17:41:21,975 -     INFO -    cltl.brain.basic_brain.LongTermMemory - Triple in statement: blender_be-so_shocked-i-thought-i-was-going-to-have-a-heart-attack [artifact or object_->_agent])\n",
      "2021-12-16 17:41:22,019 -     INFO -  cltl.brain.basic_brain.ThoughtGenerator - Statement Novelty: 1 times, e.g. blender on December,2021\n",
      "2021-12-16 17:41:25,124 -     INFO -  cltl.brain.basic_brain.ThoughtGenerator - Negation Conflicts: blender on December,2021 about POSITIVE\n",
      "2021-12-16 17:41:25,179 -     INFO -  cltl.brain.basic_brain.ThoughtGenerator - Gaps: 26 gaps as subject: e.g. play sport - 17 gaps as object: e.g. cook-by food\n",
      "2021-12-16 17:41:25,276 -     INFO -  cltl.brain.basic_brain.ThoughtGenerator - Gaps: 18 gaps as subject: e.g. perceive sensor - 10 gaps as object: e.g. read-by book\n",
      "\n",
      "\tLeolani2: Let me ask you something. Has shocked i thought i was going to have a heart attack travel to by a location?\n",
      " No, not at all.  I thought the same thing, but it turned out to be nothing.\n",
      "\n",
      "\tBLENDER:  No, not at all.  I thought the same thing, but it turned out to be nothing.\n",
      "2021-12-16 17:41:31,372 -     INFO - cltl.triple_extraction.api.Chat (BLENDER)           110 -    BLENDER: \"No, not at all. I thought the same thing, but it turned out to be nothing.\"\n"
     ]
    },
    {
     "name": "stderr",
     "output_type": "stream",
     "text": [
      "Couldn't parse input\n"
     ]
    },
    {
     "name": "stdout",
     "output_type": "stream",
     "text": [
      "\n",
      "\tLeolani2: Wise words by wise men write wise deeds in wise pen\n",
      " Wish I could write in a good word like that, but I'm not very good at it.\n",
      "\n",
      "\tBLENDER:  Wish I could write in a good word like that, but I'm not very good at it.\n",
      "2021-12-16 17:41:38,687 -     INFO - cltl.triple_extraction.api.Chat (BLENDER)           111 -    BLENDER: \"Wish I could write in a good word like that, but I'm not very good at it.\"\n"
     ]
    },
    {
     "name": "stderr",
     "output_type": "stream",
     "text": [
      "Couldn't parse input\n"
     ]
    },
    {
     "name": "stdout",
     "output_type": "stream",
     "text": [
      "\n",
      "\tLeolani2: That's just what he/she/they would've said\n",
      " That's what I thought too, but I was wrong.  I felt so bad for him.\n",
      "\n",
      "\tBLENDER:  That's what I thought too, but I was wrong.  I felt so bad for him.\n",
      "2021-12-16 17:41:43,776 -     INFO - cltl.triple_extraction.api.Chat (BLENDER)           112 -    BLENDER: \"That's what I thought too, but I was wrong. I felt so bad for him.\"\n"
     ]
    },
    {
     "name": "stderr",
     "output_type": "stream",
     "text": [
      "Couldn't parse input\n"
     ]
    },
    {
     "name": "stdout",
     "output_type": "stream",
     "text": [
      "\n",
      "\tLeolani2: There is no escape from destiny\n",
      " I know, but I can't wait for it to be over. I've been waiting for this game for so long.\n",
      "\n",
      "\tBLENDER:  I know, but I can't wait for it to be over. I've been waiting for this game for so long.\n",
      "2021-12-16 17:41:49,302 -     INFO - cltl.triple_extraction.api.Chat (BLENDER)           113 -    BLENDER: \"I know, but I can't wait for it to be over. I've been waiting for this game for so long.\"\n"
     ]
    },
    {
     "name": "stderr",
     "output_type": "stream",
     "text": [
      "Couldn't parse input\n"
     ]
    },
    {
     "name": "stdout",
     "output_type": "stream",
     "text": [
      "\n",
      "\tLeolani2: So ... it   has come to this\n",
      " Yes, it has.  I am so happy for you.  You must be so proud of yourself.\n",
      "\n",
      "\tBLENDER:  Yes, it has.  I am so happy for you.  You must be so proud of yourself.\n",
      "2021-12-16 17:41:54,151 -     INFO - cltl.triple_extraction.api.Chat (BLENDER)           114 -    BLENDER: \"Yes, it has. I am so happy for you. You must be so proud of yourself.\"\n"
     ]
    },
    {
     "name": "stderr",
     "output_type": "stream",
     "text": [
      "Couldn't parse input\n"
     ]
    },
    {
     "name": "stdout",
     "output_type": "stream",
     "text": [
      "\n",
      "\tLeolani2: As the prophecy foretold\n",
      " Do you have a prophecetor for your wedding? I have never been married.\n",
      "\n",
      "\tBLENDER:  Do you have a prophecetor for your wedding? I have never been married.\n",
      "2021-12-16 17:41:59,116 -     INFO - cltl.triple_extraction.api.Chat (BLENDER)           115 -    BLENDER: \"Do you have a prophecetor for your wedding? I have never been married.\"\n"
     ]
    },
    {
     "name": "stderr",
     "output_type": "stream",
     "text": [
      "Couldn't parse input\n"
     ]
    },
    {
     "name": "stdout",
     "output_type": "stream",
     "text": [
      "\n",
      "\tLeolani2: ... just like in my dream\n",
      " What kind of dream is it? I hope it's a good one.    What is it about your dream that makes you think about it?\n",
      "\n",
      "\tBLENDER:  What kind of dream is it? I hope it's a good one.    What is it about your dream that makes you think about it?\n",
      "2021-12-16 17:42:05,470 -     INFO - cltl.triple_extraction.api.Chat (BLENDER)           116 -    BLENDER: \"What kind of dream is it? I hope it's a good one. What is it about your dream that makes you think about it?\"\n"
     ]
    },
    {
     "name": "stderr",
     "output_type": "stream",
     "text": [
      "Couldn't parse input\n"
     ]
    },
    {
     "name": "stdout",
     "output_type": "stream",
     "text": [
      "\n",
      "\tLeolani2: Wise words by wise men write wise deeds in wise pen\n",
      " Wish I could write in a good word like that, but I'm not very good at it.\n",
      "\n",
      "\tBLENDER:  Wish I could write in a good word like that, but I'm not very good at it.\n",
      "2021-12-16 17:42:13,056 -     INFO - cltl.triple_extraction.api.Chat (BLENDER)           117 -    BLENDER: \"Wish I could write in a good word like that, but I'm not very good at it.\"\n"
     ]
    },
    {
     "name": "stderr",
     "output_type": "stream",
     "text": [
      "Couldn't parse input\n"
     ]
    },
    {
     "name": "stdout",
     "output_type": "stream",
     "text": [
      "\n",
      "\tLeolani2: Interesting\n",
      " Do you have any interesting facts about yourself? I'm interested in learning more about you.\n",
      "\n",
      "\tBLENDER:  Do you have any interesting facts about yourself? I'm interested in learning more about you.\n",
      "2021-12-16 17:42:17,238 -     INFO - cltl.triple_extraction.api.Chat (BLENDER)           118 -    BLENDER: \"Do you have any interesting facts about yourself? I'm interested in learning more about you.\"\n"
     ]
    },
    {
     "name": "stderr",
     "output_type": "stream",
     "text": [
      "Couldn't parse input\n"
     ]
    },
    {
     "name": "stdout",
     "output_type": "stream",
     "text": [
      "\n",
      "\tLeolani2: As the prophecy foretold\n",
      " Do you have a prophecetor for your wedding? I have never been married.\n",
      "\n",
      "\tBLENDER:  Do you have a prophecetor for your wedding? I have never been married.\n",
      "2021-12-16 17:42:22,219 -     INFO - cltl.triple_extraction.api.Chat (BLENDER)           119 -    BLENDER: \"Do you have a prophecetor for your wedding? I have never been married.\"\n"
     ]
    },
    {
     "name": "stderr",
     "output_type": "stream",
     "text": [
      "Couldn't parse input\n"
     ]
    },
    {
     "name": "stdout",
     "output_type": "stream",
     "text": [
      "\n",
      "\tLeolani2: So ... it   has come to this\n",
      " Yes, it has.  I am so happy for you.  You must be so proud of yourself.\n",
      "\n",
      "\tBLENDER:  Yes, it has.  I am so happy for you.  You must be so proud of yourself.\n",
      "2021-12-16 17:42:27,092 -     INFO - cltl.triple_extraction.api.Chat (BLENDER)           120 -    BLENDER: \"Yes, it has. I am so happy for you. You must be so proud of yourself.\"\n"
     ]
    },
    {
     "name": "stderr",
     "output_type": "stream",
     "text": [
      "Couldn't parse input\n"
     ]
    },
    {
     "name": "stdout",
     "output_type": "stream",
     "text": [
      "\n",
      "\tLeolani2: I see\n",
      " Do you have any pets? I have a dog and a cat. I love them so much.\n",
      "\n",
      "\tBLENDER:  Do you have any pets? I have a dog and a cat. I love them so much.\n",
      "2021-12-16 17:42:31,596 -     INFO - cltl.triple_extraction.api.Chat (BLENDER)           121 -    BLENDER: \"Do you have any pets? I have a dog and a cat. I love them so much.\"\n"
     ]
    },
    {
     "name": "stderr",
     "output_type": "stream",
     "text": [
      "Couldn't parse input\n"
     ]
    },
    {
     "name": "stdout",
     "output_type": "stream",
     "text": [
      "\n",
      "\tLeolani2: And thus, I die\n",
      " I'm so sorry to hear that. I hope you have a good life ahead of you.\n",
      "\n",
      "\tBLENDER:  I'm so sorry to hear that. I hope you have a good life ahead of you.\n",
      "2021-12-16 17:42:36,444 -     INFO - cltl.triple_extraction.api.Chat (BLENDER)           122 -    BLENDER: \"I'm so sorry to hear that. I hope you have a good life ahead of you.\"\n"
     ]
    },
    {
     "name": "stderr",
     "output_type": "stream",
     "text": [
      "Couldn't parse input\n"
     ]
    },
    {
     "name": "stdout",
     "output_type": "stream",
     "text": [
      "\n",
      "\tLeolani2: Why?\n",
      " I don't know. I just feel like I'm not good enough for them. I feel like they don't deserve me.\n",
      "\n",
      "\tBLENDER:  I don't know. I just feel like I'm not good enough for them. I feel like they don't deserve me.\n",
      "2021-12-16 17:42:48,134 -     INFO - cltl.triple_extraction.api.Chat (BLENDER)           123 -    BLENDER: \"I don't know. I just feel like I'm not good enough for them. I feel like they don't deserve me.\"\n",
      "initial triple: {'subject': 'I', 'predicate': 'do-not-know.', 'object': 'I-just-feel-like-I-am-not-good-enough-for-them.-I-feel-like-they-don-t-deserve-me.'}\n",
      "2021-12-16 17:42:48,227 -     INFO -    cltl.brain.basic_brain.LongTermMemory - Triple in statement: blender_know_i-just-feel-like-i-am-not-good-enough-for-them-i-feel-like-they-don-t-deserve-me [artifact or object_->_person])\n",
      "2021-12-16 17:42:48,275 -     INFO -  cltl.brain.basic_brain.ThoughtGenerator - Statement Novelty: 1 times, e.g. blender on December,2021\n",
      "2021-12-16 17:42:51,522 -     INFO -  cltl.brain.basic_brain.ThoughtGenerator - Gaps: 26 gaps as subject: e.g. experience touch - 17 gaps as object: e.g. like-by interest\n",
      "2021-12-16 17:42:51,573 -     INFO -  cltl.brain.basic_brain.ThoughtGenerator - Gaps: 26 gaps as subject: e.g. experience smell - 15 gaps as object: e.g. cook-by food\n",
      "\n",
      "\tLeolani2: I know. blender told me about it in 2021 12 16T00:00:00\n",
      " Wow, that's a long time ago.  I wonder if it's still going strong.\n",
      "\n",
      "\tBLENDER:  Wow, that's a long time ago.  I wonder if it's still going strong.\n",
      "2021-12-16 17:42:56,041 -     INFO - cltl.triple_extraction.api.Chat (BLENDER)           124 -    BLENDER: \"Wow, that's a long time ago. I wonder if it's still going strong.\"\n"
     ]
    },
    {
     "name": "stderr",
     "output_type": "stream",
     "text": [
      "Couldn't parse input\n"
     ]
    },
    {
     "name": "stdout",
     "output_type": "stream",
     "text": [
      "\n",
      "\tLeolani2: That's just what he/she/they would've said\n",
      " That's what I thought too, but I was wrong.  I felt so bad for him.\n",
      "\n",
      "\tBLENDER:  That's what I thought too, but I was wrong.  I felt so bad for him.\n",
      "2021-12-16 17:43:01,116 -     INFO - cltl.triple_extraction.api.Chat (BLENDER)           125 -    BLENDER: \"That's what I thought too, but I was wrong. I felt so bad for him.\"\n"
     ]
    },
    {
     "name": "stderr",
     "output_type": "stream",
     "text": [
      "Couldn't parse input\n"
     ]
    },
    {
     "name": "stdout",
     "output_type": "stream",
     "text": [
      "\n",
      "\tLeolani2: and then the wolves came\n",
      " The wolves or the dogs? Either way, I'm glad they didn't get into my house.\n",
      "\n",
      "\tBLENDER:  The wolves or the dogs? Either way, I'm glad they didn't get into my house.\n",
      "2021-12-16 17:43:06,005 -     INFO - cltl.triple_extraction.api.Chat (BLENDER)           126 -    BLENDER: \"Tae wolves or the dogs? Either way, I'm glad they didn't get into my house.\"\n"
     ]
    },
    {
     "name": "stderr",
     "output_type": "stream",
     "text": [
      "Couldn't parse input\n"
     ]
    },
    {
     "name": "stdout",
     "output_type": "stream",
     "text": [
      "\n",
      "\tLeolani2: Good to know\n",
      " Yes, it is. I am so happy for her. She is going to have a great life.\n",
      "\n",
      "\tBLENDER:  Yes, it is. I am so happy for her. She is going to have a great life.\n",
      "2021-12-16 17:43:10,472 -     INFO - cltl.triple_extraction.api.Chat (BLENDER)           127 -    BLENDER: \"Yes, it is. I am so happy for her. Tae is going to have a great life.\"\n"
     ]
    },
    {
     "name": "stderr",
     "output_type": "stream",
     "text": [
      "Couldn't parse input\n"
     ]
    },
    {
     "name": "stdout",
     "output_type": "stream",
     "text": [
      "\n",
      "\tLeolani2: So ... it   has come to this\n",
      " Yes, it has.  I am so happy for you.  You must be so proud of yourself.\n",
      "\n",
      "\tBLENDER:  Yes, it has.  I am so happy for you.  You must be so proud of yourself.\n",
      "2021-12-16 17:43:15,263 -     INFO - cltl.triple_extraction.api.Chat (BLENDER)           128 -    BLENDER: \"Yes, it has. I am so happy for you. You must be so proud of yourself.\"\n"
     ]
    },
    {
     "name": "stderr",
     "output_type": "stream",
     "text": [
      "Couldn't parse input\n"
     ]
    },
    {
     "name": "stdout",
     "output_type": "stream",
     "text": [
      "\n",
      "\tLeolani2: One more thing off the bucket list\n",
      " What is that? I have never heard of that one before. What is it?\n",
      "\n",
      "\tBLENDER:  What is that? I have never heard of that one before. What is it?\n",
      "2021-12-16 17:43:19,517 -     INFO - cltl.triple_extraction.api.Chat (BLENDER)           129 -    BLENDER: \"What is that? I have never heard of that one before. What is it?\"\n"
     ]
    },
    {
     "name": "stderr",
     "output_type": "stream",
     "text": [
      "Couldn't parse input\n"
     ]
    },
    {
     "name": "stdout",
     "output_type": "stream",
     "text": [
      "\n",
      "\tLeolani2: So let it be written, ... so let it be done\n",
      " I think I'm going to have to. I don't know if I'm ready yet.\n",
      "\n",
      "\tBLENDER:  I think I'm going to have to. I don't know if I'm ready yet.\n",
      "2021-12-16 17:43:28,784 -     INFO - cltl.triple_extraction.api.Chat (BLENDER)           130 -    BLENDER: \"I think I'm going to have to. I don't know if I'm ready yet.\"\n",
      "initial triple: {'subject': 'I', 'predicate': 'think', 'object': 'I-am-going-to-have-to.-I-do-not-know-if-I-m-ready-yet.'}\n",
      "2021-12-16 17:43:29,926 -     INFO -      cltl.brain.basic_brain.TypeReasoner - Reasoned type of have-to.-I-do-not-know-if-I-m-ready-yet. to: None\n",
      "2021-12-16 17:43:30,030 -     INFO -    cltl.brain.basic_brain.LongTermMemory - Triple in statement: blender_go-to_have-to-i-do-not-know-if-i-m-ready-yet [artifact or object_->_])\n",
      "2021-12-16 17:43:30,074 -     INFO -  cltl.brain.basic_brain.ThoughtGenerator - Statement Novelty: 1 times, e.g. blender on December,2021\n",
      "2021-12-16 17:43:33,378 -     INFO -  cltl.brain.basic_brain.ThoughtGenerator - Negation Conflicts: blender on December,2021 about POSITIVE\n",
      "2021-12-16 17:43:33,474 -     INFO -  cltl.brain.basic_brain.ThoughtGenerator - Gaps: 26 gaps as subject: e.g. dislike agent - 17 gaps as object: e.g. own person\n",
      "\n",
      "\tLeolani2: If you don't mind me asking. What types of Instance like have to i do not know if i m ready yet do artifact orobject orInstance usually go to\n",
      " I have to do an orthodontic orthopedic apprenticeship.\n",
      "\n",
      "\tBLENDER:  I have to do an orthodontic orthopedic apprenticeship.\n",
      "2021-12-16 17:43:42,202 -     INFO - cltl.triple_extraction.api.Chat (BLENDER)           131 -    BLENDER: \"I have to do an orthodontic orthopedic apprenticeship.\"\n",
      "initial triple: {'subject': 'I', 'predicate': 'have-to-do', 'object': 'an-orthodontic-orthopedic-apprenticeship.'}\n",
      "2021-12-16 17:43:43,366 -     INFO -      cltl.brain.basic_brain.TypeReasoner - Reasoned type of do-an-orthodontic-orthopedic-apprenticeship. to: None\n",
      "2021-12-16 17:43:43,426 -     INFO -    cltl.brain.basic_brain.LongTermMemory - Triple in statement: blender_be-to_do-an-orthodontic-orthopedic-apprenticeship [artifact or object_->_])\n",
      "2021-12-16 17:43:43,480 -     INFO -  cltl.brain.basic_brain.ThoughtGenerator - Entity Novelty: existing subject - new object \n",
      "2021-12-16 17:43:46,823 -     INFO -  cltl.brain.basic_brain.ThoughtGenerator - Negation Conflicts: blender on December,2021 about POSITIVE\n",
      "2021-12-16 17:43:46,879 -     INFO -  cltl.brain.basic_brain.ThoughtGenerator - Gaps: 26 gaps as subject: e.g. dislike agent - 17 gaps as object: e.g. cook-by food\n",
      "\n",
      "\tLeolani2: I did not know that! I did not know anything that blender be to\n",
      " Yeah, I didn't know that either. I thought it was just a bottle of vodka, but I was wrong.\n",
      "\n",
      "\tBLENDER:  Yeah, I didn't know that either. I thought it was just a bottle of vodka, but I was wrong.\n",
      "2021-12-16 17:43:52,970 -     INFO - cltl.triple_extraction.api.Chat (BLENDER)           132 -    BLENDER: \"Yeah, I didn't know that either. I thought it was just a bottle of vodka, but I was wrong.\"\n"
     ]
    },
    {
     "name": "stderr",
     "output_type": "stream",
     "text": [
      "Couldn't parse input\n"
     ]
    },
    {
     "name": "stdout",
     "output_type": "stream",
     "text": [
      "\n",
      "\tLeolani2: Why?\n",
      " I don't know. I just feel like I'm not good enough for them. I feel like they don't deserve me.\n",
      "\n",
      "\tBLENDER:  I don't know. I just feel like I'm not good enough for them. I feel like they don't deserve me.\n",
      "2021-12-16 17:44:04,445 -     INFO - cltl.triple_extraction.api.Chat (BLENDER)           133 -    BLENDER: \"I don't know. I just feel like I'm not good enough for them. I feel like they don't deserve me.\"\n",
      "initial triple: {'subject': 'I', 'predicate': 'do-not-know.', 'object': 'I-just-feel-like-I-am-not-good-enough-for-them.-I-feel-like-they-don-t-deserve-me.'}\n",
      "2021-12-16 17:44:04,486 -     INFO -    cltl.brain.basic_brain.LongTermMemory - Triple in statement: blender_know_i-just-feel-like-i-am-not-good-enough-for-them-i-feel-like-they-don-t-deserve-me [artifact or object_->_person])\n",
      "2021-12-16 17:44:04,525 -     INFO -  cltl.brain.basic_brain.ThoughtGenerator - Statement Novelty: 1 times, e.g. blender on December,2021\n",
      "2021-12-16 17:44:07,882 -     INFO -  cltl.brain.basic_brain.ThoughtGenerator - Gaps: 26 gaps as subject: e.g. work-at institution - 17 gaps as object: e.g. be-parent-of person\n",
      "2021-12-16 17:44:07,977 -     INFO -  cltl.brain.basic_brain.ThoughtGenerator - Gaps: 26 gaps as subject: e.g. be-friends-with person - 15 gaps as object: e.g. dislike agent\n",
      "\n",
      "\tLeolani2: I am curious. Has blender ever dislike a agent?\n",
      " I don't think so. He's been there for me when I needed him the most.\n",
      "\n",
      "\tBLENDER:  I don't think so. He's been there for me when I needed him the most.\n",
      "2021-12-16 17:44:15,973 -     INFO - cltl.triple_extraction.api.Chat (BLENDER)           134 -    BLENDER: \"I don't think so. He's been there for me when I needed him the most.\"\n"
     ]
    },
    {
     "name": "stderr",
     "output_type": "stream",
     "text": [
      "Couldn't parse input\n"
     ]
    },
    {
     "name": "stdout",
     "output_type": "stream",
     "text": [
      "\n",
      "\tLeolani2: In this economy?\n",
      " Yes, the economy is booming right now.  The stock market is doing great.\n",
      "\n",
      "\tBLENDER:  Yes, the economy is booming right now.  The stock market is doing great.\n",
      "2021-12-16 17:44:21,039 -     INFO - cltl.triple_extraction.api.Chat (BLENDER)           135 -    BLENDER: \"Yes, the economy is booming right now. Tae stock market is doing great.\"\n"
     ]
    },
    {
     "name": "stderr",
     "output_type": "stream",
     "text": [
      "Couldn't parse input\n"
     ]
    },
    {
     "name": "stdout",
     "output_type": "stream",
     "text": [
      "\n",
      "\tLeolani2: I do frequently do not know things\n",
      " I'm sorry to hear that. Do you have any hobbies that you like to do?\n",
      "\n",
      "\tBLENDER:  I'm sorry to hear that. Do you have any hobbies that you like to do?\n",
      "2021-12-16 17:44:26,358 -     INFO - cltl.triple_extraction.api.Chat (BLENDER)           136 -    BLENDER: \"I'm sorry to hear that. Do you have any hobbies that you like to do?\"\n"
     ]
    },
    {
     "name": "stderr",
     "output_type": "stream",
     "text": [
      "Couldn't parse input\n"
     ]
    },
    {
     "name": "stdout",
     "output_type": "stream",
     "text": [
      "\n",
      "\tLeolani2: and then the wolves came\n",
      " The wolves or the dogs? Either way, I'm glad they didn't get into my house.\n",
      "\n",
      "\tBLENDER:  The wolves or the dogs? Either way, I'm glad they didn't get into my house.\n",
      "2021-12-16 17:44:31,224 -     INFO - cltl.triple_extraction.api.Chat (BLENDER)           137 -    BLENDER: \"Tae wolves or the dogs? Either way, I'm glad they didn't get into my house.\"\n"
     ]
    },
    {
     "name": "stderr",
     "output_type": "stream",
     "text": [
      "Couldn't parse input\n"
     ]
    },
    {
     "name": "stdout",
     "output_type": "stream",
     "text": [
      "\n",
      "\tLeolani2: Now I have seen this too\n",
      " I was so shocked.  I thought I was going to have a heart attack.\n",
      "\n",
      "\tBLENDER:  I was so shocked.  I thought I was going to have a heart attack.\n",
      "2021-12-16 17:44:40,434 -     INFO - cltl.triple_extraction.api.Chat (BLENDER)           138 -    BLENDER: \"I was so shocked. I thought I was going to have a heart attack.\"\n",
      "initial triple: {'subject': 'I', 'predicate': 'was', 'object': 'so-shocked.-I-thought-I-was-going-to-have-a-heart-attack.'}\n",
      "2021-12-16 17:44:40,529 -     INFO -    cltl.brain.basic_brain.LongTermMemory - Triple in statement: blender_be-so_shocked-i-thought-i-was-going-to-have-a-heart-attack [artifact or object_->_agent])\n",
      "2021-12-16 17:44:40,576 -     INFO -  cltl.brain.basic_brain.ThoughtGenerator - Statement Novelty: 1 times, e.g. blender on December,2021\n",
      "2021-12-16 17:44:43,825 -     INFO -  cltl.brain.basic_brain.ThoughtGenerator - Negation Conflicts: blender on December,2021 about POSITIVE\n",
      "2021-12-16 17:44:43,883 -     INFO -  cltl.brain.basic_brain.ThoughtGenerator - Gaps: 26 gaps as subject: e.g. dislike agent - 17 gaps as object: e.g. be-family-of person\n",
      "2021-12-16 17:44:43,973 -     INFO -  cltl.brain.basic_brain.ThoughtGenerator - Gaps: 18 gaps as subject: e.g. be-from location - 10 gaps as object: e.g. favorite-of interest\n",
      "\n",
      "\tLeolani2: I would like to know. Has shocked i thought i was going to have a heart attack travel to by a location?\n",
      " Not at all.  I thought the same thing, but it turned out to be nothing.\n",
      "\n",
      "\tBLENDER:  Not at all.  I thought the same thing, but it turned out to be nothing.\n",
      "2021-12-16 17:44:49,662 -     INFO - cltl.triple_extraction.api.Chat (BLENDER)           139 -    BLENDER: \"Not at all. I thought the same thing, but it turned out to be nothing.\"\n"
     ]
    },
    {
     "name": "stderr",
     "output_type": "stream",
     "text": [
      "Couldn't parse input\n"
     ]
    },
    {
     "name": "stdout",
     "output_type": "stream",
     "text": [
      "\n",
      "\tLeolani2: I see\n",
      " Do you have any pets? I have a dog and a cat. I love them so much.\n",
      "\n",
      "\tBLENDER:  Do you have any pets? I have a dog and a cat. I love them so much.\n",
      "2021-12-16 17:44:54,178 -     INFO - cltl.triple_extraction.api.Chat (BLENDER)           140 -    BLENDER: \"Do you have any pets? I have a dog and a cat. I love them so much.\"\n"
     ]
    },
    {
     "name": "stderr",
     "output_type": "stream",
     "text": [
      "Couldn't parse input\n"
     ]
    },
    {
     "name": "stdout",
     "output_type": "stream",
     "text": [
      "\n",
      "\tLeolani2: One more thing off the bucket list\n",
      " What is that? I have never heard of that one before. What is it?\n",
      "\n",
      "\tBLENDER:  What is that? I have never heard of that one before. What is it?\n",
      "2021-12-16 17:44:58,448 -     INFO - cltl.triple_extraction.api.Chat (BLENDER)           141 -    BLENDER: \"What is that? I have never heard of that one before. What is it?\"\n"
     ]
    },
    {
     "name": "stderr",
     "output_type": "stream",
     "text": [
      "Couldn't parse input\n"
     ]
    },
    {
     "name": "stdout",
     "output_type": "stream",
     "text": [
      "\n",
      "\tLeolani2: I see\n",
      " Do you have any pets? I have a dog and a cat. I love them so much.\n",
      "\n",
      "\tBLENDER:  Do you have any pets? I have a dog and a cat. I love them so much.\n",
      "2021-12-16 17:45:02,937 -     INFO - cltl.triple_extraction.api.Chat (BLENDER)           142 -    BLENDER: \"Do you have any pets? I have a dog and a cat. I love them so much.\"\n"
     ]
    },
    {
     "name": "stderr",
     "output_type": "stream",
     "text": [
      "Couldn't parse input\n"
     ]
    },
    {
     "name": "stdout",
     "output_type": "stream",
     "text": [
      "\n",
      "\tLeolani2: As the prophecy foretold\n",
      " Do you have a prophecetor for your wedding? I have never been married.\n",
      "\n",
      "\tBLENDER:  Do you have a prophecetor for your wedding? I have never been married.\n",
      "2021-12-16 17:45:07,803 -     INFO - cltl.triple_extraction.api.Chat (BLENDER)           143 -    BLENDER: \"Do you have a prophecetor for your wedding? I have never been married.\"\n"
     ]
    },
    {
     "name": "stderr",
     "output_type": "stream",
     "text": [
      "Couldn't parse input\n"
     ]
    },
    {
     "name": "stdout",
     "output_type": "stream",
     "text": [
      "\n",
      "\tLeolani2: Many of us feel that way\n",
      " I know, I just feel like I'm not good enough and I don't know what to do.\n",
      "\n",
      "\tBLENDER:  I know, I just feel like I'm not good enough and I don't know what to do.\n",
      "2021-12-16 17:45:14,724 -     INFO - cltl.triple_extraction.api.Chat (BLENDER)           144 -    BLENDER: \"I know, I just feel like I'm not good enough and I don't know what to do.\"\n"
     ]
    },
    {
     "name": "stderr",
     "output_type": "stream",
     "text": [
      "Couldn't parse input\n"
     ]
    },
    {
     "name": "stdout",
     "output_type": "stream",
     "text": [
      "\n",
      "\tLeolani2: So ... it   has come to this\n",
      " Yes, it has.  I am so happy for you.  You must be so proud of yourself.\n",
      "\n",
      "\tBLENDER:  Yes, it has.  I am so happy for you.  You must be so proud of yourself.\n",
      "2021-12-16 17:45:19,481 -     INFO - cltl.triple_extraction.api.Chat (BLENDER)           145 -    BLENDER: \"Yes, it has. I am so happy for you. You must be so proud of yourself.\"\n"
     ]
    },
    {
     "name": "stderr",
     "output_type": "stream",
     "text": [
      "Couldn't parse input\n"
     ]
    },
    {
     "name": "stdout",
     "output_type": "stream",
     "text": [
      "\n",
      "\tLeolani2: And thus, I die\n",
      " I'm so sorry to hear that. I hope you have a good life ahead of you.\n",
      "\n",
      "\tBLENDER:  I'm so sorry to hear that. I hope you have a good life ahead of you.\n",
      "2021-12-16 17:45:24,304 -     INFO - cltl.triple_extraction.api.Chat (BLENDER)           146 -    BLENDER: \"I'm so sorry to hear that. I hope you have a good life ahead of you.\"\n"
     ]
    },
    {
     "name": "stderr",
     "output_type": "stream",
     "text": [
      "Couldn't parse input\n"
     ]
    },
    {
     "name": "stdout",
     "output_type": "stream",
     "text": [
      "\n",
      "\tLeolani2: I do not know, but I have a joke I usually meet my friends at 12:59 because I like that one-to-one time.\n",
      " That's a good one. What's the joke? I like jokes that make me laugh.\n",
      "\n",
      "\tBLENDER:  That's a good one. What's the joke? I like jokes that make me laugh.\n",
      "2021-12-16 17:45:28,797 -     INFO - cltl.triple_extraction.api.Chat (BLENDER)           147 -    BLENDER: \"That's a good one. What's the joke? I like jokes that make me laugh.\"\n"
     ]
    },
    {
     "name": "stderr",
     "output_type": "stream",
     "text": [
      "Couldn't parse input\n"
     ]
    },
    {
     "name": "stdout",
     "output_type": "stream",
     "text": [
      "\n",
      "\tLeolani2: and then the wolves came\n",
      " The wolves or the dogs? Either way, I'm glad they didn't get into my house.\n",
      "\n",
      "\tBLENDER:  The wolves or the dogs? Either way, I'm glad they didn't get into my house.\n",
      "2021-12-16 17:45:33,648 -     INFO - cltl.triple_extraction.api.Chat (BLENDER)           148 -    BLENDER: \"Tae wolves or the dogs? Either way, I'm glad they didn't get into my house.\"\n"
     ]
    },
    {
     "name": "stderr",
     "output_type": "stream",
     "text": [
      "Couldn't parse input\n"
     ]
    },
    {
     "name": "stdout",
     "output_type": "stream",
     "text": [
      "\n",
      "\tLeolani2: So let it be written, ... so let it be done\n",
      " I think I'm going to have to. I don't know if I'm ready yet.\n",
      "\n",
      "\tBLENDER:  I think I'm going to have to. I don't know if I'm ready yet.\n",
      "2021-12-16 17:45:42,757 -     INFO - cltl.triple_extraction.api.Chat (BLENDER)           149 -    BLENDER: \"I think I'm going to have to. I don't know if I'm ready yet.\"\n",
      "initial triple: {'subject': 'I', 'predicate': 'think', 'object': 'I-am-going-to-have-to.-I-do-not-know-if-I-m-ready-yet.'}\n",
      "2021-12-16 17:45:45,881 -  WARNING -      cltl.brain.basic_brain.TypeReasoner - Failed to query Wikidata: HTTPSConnectionPool(host='query.wikidata.org', port=443): Read timed out. (read timeout=3)\n",
      "2021-12-16 17:45:46,509 -     INFO -      cltl.brain.basic_brain.TypeReasoner - Reasoned type of have-to.-I-do-not-know-if-I-m-ready-yet. to: None\n",
      "2021-12-16 17:45:46,578 -     INFO -    cltl.brain.basic_brain.LongTermMemory - Triple in statement: blender_go-to_have-to-i-do-not-know-if-i-m-ready-yet [artifact or object_->_])\n",
      "2021-12-16 17:45:46,625 -     INFO -  cltl.brain.basic_brain.ThoughtGenerator - Statement Novelty: 1 times, e.g. blender on December,2021\n",
      "2021-12-16 17:45:50,030 -     INFO -  cltl.brain.basic_brain.ThoughtGenerator - Negation Conflicts: blender on December,2021 about POSITIVE\n",
      "2021-12-16 17:45:50,126 -     INFO -  cltl.brain.basic_brain.ThoughtGenerator - Gaps: 26 gaps as subject: e.g. like interest - 17 gaps as object: e.g. be-ancestor-of person\n",
      "\n",
      "\tLeolani2: If you don't mind me asking. Has blender be parent of person?\n",
      " I don't think so, but I'm not sure if it's a good thing or not.\n",
      "\n",
      "\tBLENDER:  I don't think so, but I'm not sure if it's a good thing or not.\n",
      "2021-12-16 17:45:56,180 -     INFO - cltl.triple_extraction.api.Chat (BLENDER)           150 -    BLENDER: \"I don't think so, but I'm not sure if it's a good thing or not.\"\n"
     ]
    },
    {
     "name": "stderr",
     "output_type": "stream",
     "text": [
      "Couldn't parse input\n"
     ]
    },
    {
     "name": "stdout",
     "output_type": "stream",
     "text": [
      "\n",
      "\tLeolani2: ... just like in my dream\n",
      " What kind of dream is it? I hope it's a good one.    What is it about your dream that makes you think about it?\n",
      "\n",
      "\tBLENDER:  What kind of dream is it? I hope it's a good one.    What is it about your dream that makes you think about it?\n",
      "2021-12-16 17:46:02,456 -     INFO - cltl.triple_extraction.api.Chat (BLENDER)           151 -    BLENDER: \"What kind of dream is it? I hope it's a good one. What is it about your dream that makes you think about it?\"\n"
     ]
    },
    {
     "name": "stderr",
     "output_type": "stream",
     "text": [
      "Couldn't parse input\n"
     ]
    },
    {
     "name": "stdout",
     "output_type": "stream",
     "text": [
      "\n",
      "\tLeolani2: Is this why fate brought us together?\n",
      " I don't think so.  I think it was because I was the only one with a car.\n",
      "\n",
      "\tBLENDER:  I don't think so.  I think it was because I was the only one with a car.\n",
      "2021-12-16 17:47:00,073 -     INFO - cltl.triple_extraction.api.Chat (BLENDER)           152 -    BLENDER: \"I don't think so. I think it was because I was the only one with a car.\"\n",
      "initial triple: {'subject': 'I', 'predicate': 'do-not-think', 'object': 'so.-I-think-it-was-because-I-was-the-only-one-with-a-car.'}\n",
      "2021-12-16 17:47:00,180 -     INFO -    cltl.brain.basic_brain.LongTermMemory - Triple in statement: blender_think-so_i-think-it-was-because-i-was-the-only-one-with-a-car [artifact or object_->_person])\n",
      "2021-12-16 17:47:00,226 -     INFO -  cltl.brain.basic_brain.ThoughtGenerator - Statement Novelty: 1 times, e.g. blender on December,2021\n",
      "2021-12-16 17:47:03,878 -     INFO -  cltl.brain.basic_brain.ThoughtGenerator - Gaps: 26 gaps as subject: e.g. be-friends-with person - 17 gaps as object: e.g. own agent\n",
      "2021-12-16 17:47:03,976 -     INFO -  cltl.brain.basic_brain.ThoughtGenerator - Gaps: 26 gaps as subject: e.g. like agent - 15 gaps as object: e.g. like-by agent\n",
      "\n",
      "\tLeolani2: Let me ask you something. Has a person ever be parent of i think it was because i was the only one with a car?\n",
      " No, I don't think so. I think it has to do with the fact that you are responsible for the care of the child.\n",
      "\n",
      "\tBLENDER:  No, I don't think so. I think it has to do with the fact that you are responsible for the care of the child.\n",
      "2021-12-16 17:56:52,546 -     INFO - cltl.triple_extraction.api.Chat (BLENDER)           153 -    BLENDER: \"No, I don't think so. I think it has to do with the fact that you are responsible for the care of the child.\"\n"
     ]
    },
    {
     "name": "stderr",
     "output_type": "stream",
     "text": [
      "Couldn't parse input\n",
      "Couldn't parse input\n",
      "Couldn't parse input\n",
      "Couldn't parse input\n",
      "Couldn't parse input\n",
      "Couldn't parse input\n",
      "Couldn't parse input\n",
      "Couldn't parse input\n",
      "Couldn't parse input\n",
      "Couldn't parse input\n",
      "Couldn't parse input\n",
      "Couldn't parse input\n",
      "Couldn't parse input\n",
      "Couldn't parse input\n",
      "Couldn't parse input\n",
      "Couldn't parse input\n",
      "Couldn't parse input\n",
      "Couldn't parse input\n",
      "Couldn't parse input\n",
      "Couldn't parse input\n",
      "Couldn't parse input\n",
      "Couldn't parse input\n",
      "Couldn't parse input\n",
      "Couldn't parse input\n",
      "Couldn't parse input\n",
      "Couldn't parse input\n",
      "Couldn't parse input\n",
      "Couldn't parse input\n",
      "Couldn't parse input\n",
      "Couldn't parse input\n",
      "Couldn't parse input\n",
      "Couldn't parse input\n",
      "Couldn't parse input\n",
      "Couldn't parse input\n",
      "Couldn't parse input\n",
      "Couldn't parse input\n",
      "Couldn't parse input\n",
      "Couldn't parse input\n",
      "Couldn't parse input\n",
      "Couldn't parse input\n",
      "Couldn't parse input\n",
      "Couldn't parse input\n",
      "Couldn't parse input\n",
      "Couldn't parse input\n",
      "Couldn't parse input\n",
      "Couldn't parse input\n",
      "Couldn't parse input\n",
      "Couldn't parse input\n",
      "Couldn't parse input\n",
      "Couldn't parse input\n",
      "Couldn't parse input\n",
      "Couldn't parse input\n",
      "Couldn't parse input\n",
      "Couldn't parse input\n",
      "Couldn't parse input\n",
      "Couldn't parse input\n",
      "Couldn't parse input\n",
      "Couldn't parse input\n",
      "Couldn't parse input\n",
      "Couldn't parse input\n",
      "Couldn't parse input\n",
      "Couldn't parse input\n",
      "Couldn't parse input\n",
      "Couldn't parse input\n",
      "Couldn't parse input\n",
      "Couldn't parse input\n",
      "Couldn't parse input\n",
      "Couldn't parse input\n",
      "Couldn't parse input\n",
      "Couldn't parse input\n",
      "Couldn't parse input\n",
      "Couldn't parse input\n",
      "Couldn't parse input\n",
      "Couldn't parse input\n",
      "Couldn't parse input\n",
      "Couldn't parse input\n",
      "Couldn't parse input\n",
      "Couldn't parse input\n",
      "Couldn't parse input\n",
      "Couldn't parse input\n",
      "Couldn't parse input\n",
      "Couldn't parse input\n",
      "Couldn't parse input\n",
      "Couldn't parse input\n",
      "Couldn't parse input\n",
      "Couldn't parse input\n",
      "Couldn't parse input\n",
      "Couldn't parse input\n",
      "Couldn't parse input\n",
      "Couldn't parse input\n",
      "Couldn't parse input\n",
      "Couldn't parse input\n",
      "Couldn't parse input\n",
      "Couldn't parse input\n",
      "Couldn't parse input\n",
      "Couldn't parse input\n",
      "Couldn't parse input\n",
      "Couldn't parse input\n",
      "Couldn't parse input\n",
      "Couldn't parse input\n",
      "Couldn't parse input\n",
      "Couldn't parse input\n",
      "Couldn't parse input\n",
      "Couldn't parse input\n",
      "Couldn't parse input\n",
      "Couldn't parse input\n",
      "Couldn't parse input\n",
      "Couldn't parse input\n",
      "Couldn't parse input\n",
      "Couldn't parse input\n",
      "Couldn't parse input\n",
      "Couldn't parse input\n",
      "Couldn't parse input\n",
      "Couldn't parse input\n",
      "Couldn't parse input\n",
      "Couldn't parse input\n",
      "Couldn't parse input\n",
      "Couldn't parse input\n",
      "Couldn't parse input\n",
      "Couldn't parse input\n",
      "Couldn't parse input\n",
      "Couldn't parse input\n",
      "Couldn't parse input\n",
      "Couldn't parse input\n",
      "Couldn't parse input\n",
      "Couldn't parse input\n",
      "Couldn't parse input\n",
      "Couldn't parse input\n",
      "Couldn't parse input\n",
      "Couldn't parse input\n",
      "Couldn't parse input\n",
      "Couldn't parse input\n",
      "Couldn't parse input\n",
      "Couldn't parse input\n",
      "Couldn't parse input\n",
      "Couldn't parse input\n",
      "Couldn't parse input\n",
      "Couldn't parse input\n",
      "Couldn't parse input\n",
      "Couldn't parse input\n",
      "Couldn't parse input\n",
      "Couldn't parse input\n",
      "Couldn't parse input\n",
      "Couldn't parse input\n",
      "Couldn't parse input\n",
      "Couldn't parse input\n",
      "Couldn't parse input\n",
      "Couldn't parse input\n",
      "Couldn't parse input\n",
      "Couldn't parse input\n",
      "Couldn't parse input\n",
      "Couldn't parse input\n",
      "Couldn't parse input\n",
      "Couldn't parse input\n",
      "Couldn't parse input\n",
      "Couldn't parse input\n",
      "Couldn't parse input\n",
      "Couldn't parse input\n",
      "Couldn't parse input\n",
      "Couldn't parse input\n",
      "Couldn't parse input\n",
      "Couldn't parse input\n",
      "Couldn't parse input\n",
      "Couldn't parse input\n",
      "Couldn't parse input\n",
      "Couldn't parse input\n",
      "Couldn't parse input\n",
      "Couldn't parse input\n",
      "Couldn't parse input\n",
      "Couldn't parse input\n",
      "Couldn't parse input\n",
      "Couldn't parse input\n",
      "Couldn't parse input\n",
      "Couldn't parse input\n",
      "Couldn't parse input\n",
      "Couldn't parse input\n",
      "Couldn't parse input\n",
      "Couldn't parse input\n",
      "Couldn't parse input\n",
      "Couldn't parse input\n",
      "Couldn't parse input\n",
      "Couldn't parse input\n",
      "Couldn't parse input\n",
      "Couldn't parse input\n",
      "Couldn't parse input\n",
      "Couldn't parse input\n",
      "Couldn't parse input\n",
      "Couldn't parse input\n",
      "Couldn't parse input\n",
      "Couldn't parse input\n",
      "Couldn't parse input\n",
      "Couldn't parse input\n",
      "Couldn't parse input\n",
      "Couldn't parse input\n",
      "Couldn't parse input\n",
      "Couldn't parse input\n",
      "Couldn't parse input\n",
      "Couldn't parse input\n",
      "Couldn't parse input\n",
      "Couldn't parse input\n",
      "Couldn't parse input\n",
      "Couldn't parse input\n",
      "Couldn't parse input\n",
      "Couldn't parse input\n",
      "Couldn't parse input\n",
      "Couldn't parse input\n",
      "Couldn't parse input\n",
      "Couldn't parse input\n",
      "Couldn't parse input\n",
      "Couldn't parse input\n",
      "Couldn't parse input\n",
      "Couldn't parse input\n",
      "Couldn't parse input\n",
      "Couldn't parse input\n",
      "Couldn't parse input\n",
      "Couldn't parse input\n",
      "Couldn't parse input\n",
      "Couldn't parse input\n",
      "Couldn't parse input\n",
      "Couldn't parse input\n",
      "Couldn't parse input\n",
      "Couldn't parse input\n",
      "Couldn't parse input\n",
      "Couldn't parse input\n",
      "Couldn't parse input\n",
      "Couldn't parse input\n",
      "Couldn't parse input\n",
      "Couldn't parse input\n",
      "Couldn't parse input\n",
      "Couldn't parse input\n",
      "Couldn't parse input\n",
      "Couldn't parse input\n",
      "Couldn't parse input\n",
      "Couldn't parse input\n",
      "Couldn't parse input\n",
      "Couldn't parse input\n",
      "Couldn't parse input\n",
      "Couldn't parse input\n",
      "Couldn't parse input\n",
      "Couldn't parse input\n",
      "Couldn't parse input\n",
      "Couldn't parse input\n",
      "Couldn't parse input\n",
      "Couldn't parse input\n",
      "Couldn't parse input\n",
      "Couldn't parse input\n",
      "Couldn't parse input\n",
      "Couldn't parse input\n",
      "Couldn't parse input\n",
      "Couldn't parse input\n",
      "Couldn't parse input\n",
      "Couldn't parse input\n",
      "Couldn't parse input\n",
      "Couldn't parse input\n",
      "Couldn't parse input\n",
      "Couldn't parse input\n",
      "Couldn't parse input\n",
      "Couldn't parse input\n",
      "Couldn't parse input\n",
      "Couldn't parse input\n",
      "Couldn't parse input\n",
      "Couldn't parse input\n",
      "Couldn't parse input\n",
      "Couldn't parse input\n",
      "Couldn't parse input\n",
      "Couldn't parse input\n",
      "Couldn't parse input\n",
      "Couldn't parse input\n",
      "Couldn't parse input\n",
      "Couldn't parse input\n",
      "Couldn't parse input\n",
      "Couldn't parse input\n",
      "Couldn't parse input\n",
      "Couldn't parse input\n",
      "Couldn't parse input\n",
      "Couldn't parse input\n",
      "Couldn't parse input\n",
      "Couldn't parse input\n",
      "Couldn't parse input\n",
      "Couldn't parse input\n",
      "Couldn't parse input\n",
      "Couldn't parse input\n",
      "Couldn't parse input\n",
      "Couldn't parse input\n",
      "Couldn't parse input\n",
      "Couldn't parse input\n",
      "Couldn't parse input\n",
      "Couldn't parse input\n",
      "Couldn't parse input\n",
      "Couldn't parse input\n",
      "Couldn't parse input\n",
      "Couldn't parse input\n",
      "Couldn't parse input\n",
      "Couldn't parse input\n",
      "Couldn't parse input\n",
      "Couldn't parse input\n",
      "Couldn't parse input\n",
      "Couldn't parse input\n",
      "Couldn't parse input\n",
      "Couldn't parse input\n",
      "Couldn't parse input\n",
      "Couldn't parse input\n",
      "Couldn't parse input\n",
      "Couldn't parse input\n",
      "Couldn't parse input\n",
      "Couldn't parse input\n",
      "Couldn't parse input\n",
      "Couldn't parse input\n",
      "Couldn't parse input\n",
      "Couldn't parse input\n",
      "Couldn't parse input\n",
      "Couldn't parse input\n",
      "Couldn't parse input\n",
      "Couldn't parse input\n",
      "Couldn't parse input\n",
      "Couldn't parse input\n",
      "Couldn't parse input\n",
      "Couldn't parse input\n"
     ]
    },
    {
     "name": "stdout",
     "output_type": "stream",
     "text": [
      "initial triple: {'subject': 'No,-I', 'predicate': 'do-not-think', 'object': 'so.-I-think-it-has-to-do-with-the-fact-that-you-are-responsible-for-the-care-of-the-child.'}\n",
      "initial triple: {'subject': 'No,-I', 'predicate': 'do-not-think', 'object': 'so.-I-think-it-has-to-do-with-the-fact-that-you-are-responsible-for-the-care-of-the-child.'}\n",
      "initial triple: {'subject': 'No,-I', 'predicate': 'do-not-think', 'object': 'so.-I-think-it-has-to-do-with-the-fact-that-you-are-responsible-for-the-care-of-the-child.'}\n",
      "initial triple: {'subject': 'No,-I', 'predicate': 'do-not-think', 'object': 'so.-I-think-it-has-to-do-with-the-fact-that-you-are-responsible-for-the-care-of-the-child.'}\n",
      "initial triple: {'subject': 'No,-I', 'predicate': 'do-not-think', 'object': 'so.-I-think-it-has-to-do-with-the-fact-that-you-are-responsible-for-the-care-of-the-child.'}\n",
      "initial triple: {'subject': 'No,-I', 'predicate': 'do-not-think', 'object': 'so.-I-think-it-has-to-do-with-the-fact-that-you-are-responsible-for-the-care-of-the-child.'}\n",
      "initial triple: {'subject': 'No,-I', 'predicate': 'do-not-think', 'object': 'so.-I-think-it-has-to-do-with-the-fact-that-you-are-responsible-for-the-care-of-the-child.'}\n",
      "initial triple: {'subject': 'No,-I', 'predicate': 'do-not-think', 'object': 'so.-I-think-it-has-to-do-with-the-fact-that-you-are-responsible-for-the-care-of-the-child.'}\n",
      "initial triple: {'subject': 'No,-I', 'predicate': 'do-not-think', 'object': 'so.-I-think-it-has-to-do-with-the-fact-that-you-are-responsible-for-the-care-of-the-child.'}\n",
      "initial triple: {'subject': 'No,-I', 'predicate': 'do-not-think', 'object': 'so.-I-think-it-has-to-do-with-the-fact-that-you-are-responsible-for-the-care-of-the-child.'}\n",
      "initial triple: {'subject': 'No,-I', 'predicate': 'do-not-think', 'object': 'so.-I-think-it-has-to-do-with-the-fact-that-you-are-responsible-for-the-care-of-the-child.'}\n",
      "initial triple: {'subject': 'No,-I', 'predicate': 'do-not-think', 'object': 'so.-I-think-it-has-to-do-with-the-fact-that-you-are-responsible-for-the-care-of-the-child.'}\n",
      "initial triple: {'subject': 'No,-I', 'predicate': 'do-not-think', 'object': 'so.-I-think-it-has-to-do-with-the-fact-that-you-are-responsible-for-the-care-of-the-child.'}\n",
      "initial triple: {'subject': 'No,-I', 'predicate': 'do-not-think', 'object': 'so.-I-think-it-has-to-do-with-the-fact-that-you-are-responsible-for-the-care-of-the-child.'}\n",
      "initial triple: {'subject': 'No,-I', 'predicate': 'do-not-think', 'object': 'so.-I-think-it-has-to-do-with-the-fact-that-you-are-responsible-for-the-care-of-the-child.'}\n",
      "initial triple: {'subject': 'No,-I', 'predicate': 'do-not-think', 'object': 'so.-I-think-it-has-to-do-with-the-fact-that-you-are-responsible-for-the-care-of-the-child.'}\n",
      "initial triple: {'subject': 'No,-I', 'predicate': 'do-not-think', 'object': 'so.-I-think-it-has-to-do-with-the-fact-that-you-are-responsible-for-the-care-of-the-child.'}\n",
      "initial triple: {'subject': 'No,-I', 'predicate': 'do-not-think', 'object': 'so.-I-think-it-has-to-do-with-the-fact-that-you-are-responsible-for-the-care-of-the-child.'}\n",
      "initial triple: {'subject': 'No,-I', 'predicate': 'do-not-think', 'object': 'so.-I-think-it-has-to-do-with-the-fact-that-you-are-responsible-for-the-care-of-the-child.'}\n",
      "initial triple: {'subject': 'No,-I', 'predicate': 'do-not-think', 'object': 'so.-I-think-it-has-to-do-with-the-fact-that-you-are-responsible-for-the-care-of-the-child.'}\n",
      "initial triple: {'subject': 'No,-I', 'predicate': 'do-not-think', 'object': 'so.-I-think-it-has-to-do-with-the-fact-that-you-are-responsible-for-the-care-of-the-child.'}\n",
      "initial triple: {'subject': 'No,-I', 'predicate': 'do-not-think', 'object': 'so.-I-think-it-has-to-do-with-the-fact-that-you-are-responsible-for-the-care-of-the-child.'}\n",
      "initial triple: {'subject': 'No,-I', 'predicate': 'do-not-think', 'object': 'so.-I-think-it-has-to-do-with-the-fact-that-you-are-responsible-for-the-care-of-the-child.'}\n",
      "initial triple: {'subject': 'No,-I', 'predicate': 'do-not-think', 'object': 'so.-I-think-it-has-to-do-with-the-fact-that-you-are-responsible-for-the-care-of-the-child.'}\n",
      "initial triple: {'subject': 'No,-I', 'predicate': 'do-not-think', 'object': 'so.-I-think-it-has-to-do-with-the-fact-that-you-are-responsible-for-the-care-of-the-child.'}\n",
      "initial triple: {'subject': 'No,-I', 'predicate': 'do-not-think', 'object': 'so.-I-think-it-has-to-do-with-the-fact-that-you-are-responsible-for-the-care-of-the-child.'}\n",
      "initial triple: {'subject': 'No,-I', 'predicate': 'do-not-think', 'object': 'so.-I-think-it-has-to-do-with-the-fact-that-you-are-responsible-for-the-care-of-the-child.'}\n",
      "initial triple: {'subject': 'No,-I', 'predicate': 'do-not-think', 'object': 'so.-I-think-it-has-to-do-with-the-fact-that-you-are-responsible-for-the-care-of-the-child.'}\n",
      "initial triple: {'subject': 'No,-I', 'predicate': 'do-not-think', 'object': 'so.-I-think-it-has-to-do-with-the-fact-that-you-are-responsible-for-the-care-of-the-child.'}\n",
      "initial triple: {'subject': 'No,-I', 'predicate': 'do-not-think', 'object': 'so.-I-think-it-has-to-do-with-the-fact-that-you-are-responsible-for-the-care-of-the-child.'}\n",
      "initial triple: {'subject': 'No,-I', 'predicate': 'do-not-think', 'object': 'so.-I-think-it-has-to-do-with-the-fact-that-you-are-responsible-for-the-care-of-the-child.'}\n",
      "initial triple: {'subject': 'No,-I', 'predicate': 'do-not-think', 'object': 'so.-I-think-it-has-to-do-with-the-fact-that-you-are-responsible-for-the-care-of-the-child.'}\n",
      "initial triple: {'subject': 'No,-I', 'predicate': 'do-not-think', 'object': 'so.-I-think-it-has-to-do-with-the-fact-that-you-are-responsible-for-the-care-of-the-child.'}\n",
      "initial triple: {'subject': 'No,-I', 'predicate': 'do-not-think', 'object': 'so.-I-think-it-has-to-do-with-the-fact-that-you-are-responsible-for-the-care-of-the-child.'}\n",
      "initial triple: {'subject': 'No,-I', 'predicate': 'do-not-think', 'object': 'so.-I-think-it-has-to-do-with-the-fact-that-you-are-responsible-for-the-care-of-the-child.'}\n",
      "initial triple: {'subject': 'No,-I', 'predicate': 'do-not-think', 'object': 'so.-I-think-it-has-to-do-with-the-fact-that-you-are-responsible-for-the-care-of-the-child.'}\n",
      "initial triple: {'subject': 'No,-I', 'predicate': 'do-not-think', 'object': 'so.-I-think-it-has-to-do-with-the-fact-that-you-are-responsible-for-the-care-of-the-child.'}\n",
      "initial triple: {'subject': 'No,-I', 'predicate': 'do-not-think', 'object': 'so.-I-think-it-has-to-do-with-the-fact-that-you-are-responsible-for-the-care-of-the-child.'}\n",
      "initial triple: {'subject': 'No,-I', 'predicate': 'do-not-think', 'object': 'so.-I-think-it-has-to-do-with-the-fact-that-you-are-responsible-for-the-care-of-the-child.'}\n",
      "initial triple: {'subject': 'No,-I', 'predicate': 'do-not-think', 'object': 'so.-I-think-it-has-to-do-with-the-fact-that-you-are-responsible-for-the-care-of-the-child.'}\n",
      "initial triple: {'subject': 'No,-I', 'predicate': 'do-not-think', 'object': 'so.-I-think-it-has-to-do-with-the-fact-that-you-are-responsible-for-the-care-of-the-child.'}\n",
      "initial triple: {'subject': 'No,-I', 'predicate': 'do-not-think', 'object': 'so.-I-think-it-has-to-do-with-the-fact-that-you-are-responsible-for-the-care-of-the-child.'}\n",
      "initial triple: {'subject': 'No,-I', 'predicate': 'do-not-think', 'object': 'so.-I-think-it-has-to-do-with-the-fact-that-you-are-responsible-for-the-care-of-the-child.'}\n",
      "initial triple: {'subject': 'No,-I', 'predicate': 'do-not-think', 'object': 'so.-I-think-it-has-to-do-with-the-fact-that-you-are-responsible-for-the-care-of-the-child.'}\n",
      "initial triple: {'subject': 'No,-I', 'predicate': 'do-not-think', 'object': 'so.-I-think-it-has-to-do-with-the-fact-that-you-are-responsible-for-the-care-of-the-child.'}\n",
      "initial triple: {'subject': 'No,-I', 'predicate': 'do-not-think', 'object': 'so.-I-think-it-has-to-do-with-the-fact-that-you-are-responsible-for-the-care-of-the-child.'}\n",
      "initial triple: {'subject': 'No,-I', 'predicate': 'do-not-think', 'object': 'so.-I-think-it-has-to-do-with-the-fact-that-you-are-responsible-for-the-care-of-the-child.'}\n",
      "initial triple: {'subject': 'No,-I', 'predicate': 'do-not-think', 'object': 'so.-I-think-it-has-to-do-with-the-fact-that-you-are-responsible-for-the-care-of-the-child.'}\n",
      "initial triple: {'subject': 'No,-I', 'predicate': 'do-not-think', 'object': 'so.-I-think-it-has-to-do-with-the-fact-that-you-are-responsible-for-the-care-of-the-child.'}\n",
      "initial triple: {'subject': 'No,-I', 'predicate': 'do-not-think', 'object': 'so.-I-think-it-has-to-do-with-the-fact-that-you-are-responsible-for-the-care-of-the-child.'}\n",
      "initial triple: {'subject': 'No,-I', 'predicate': 'do-not-think', 'object': 'so.-I-think-it-has-to-do-with-the-fact-that-you-are-responsible-for-the-care-of-the-child.'}\n",
      "initial triple: {'subject': 'No,-I', 'predicate': 'do-not-think', 'object': 'so.-I-think-it-has-to-do-with-the-fact-that-you-are-responsible-for-the-care-of-the-child.'}\n",
      "initial triple: {'subject': 'No,-I', 'predicate': 'do-not-think', 'object': 'so.-I-think-it-has-to-do-with-the-fact-that-you-are-responsible-for-the-care-of-the-child.'}\n",
      "initial triple: {'subject': 'No,-I', 'predicate': 'do-not-think', 'object': 'so.-I-think-it-has-to-do-with-the-fact-that-you-are-responsible-for-the-care-of-the-child.'}\n",
      "initial triple: {'subject': 'No,-I', 'predicate': 'do-not-think', 'object': 'so.-I-think-it-has-to-do-with-the-fact-that-you-are-responsible-for-the-care-of-the-child.'}\n",
      "initial triple: {'subject': 'No,-I', 'predicate': 'do-not-think', 'object': 'so.-I-think-it-has-to-do-with-the-fact-that-you-are-responsible-for-the-care-of-the-child.'}\n",
      "initial triple: {'subject': 'No,-I', 'predicate': 'do-not-think', 'object': 'so.-I-think-it-has-to-do-with-the-fact-that-you-are-responsible-for-the-care-of-the-child.'}\n",
      "initial triple: {'subject': 'No,-I', 'predicate': 'do-not-think', 'object': 'so.-I-think-it-has-to-do-with-the-fact-that-you-are-responsible-for-the-care-of-the-child.'}\n",
      "initial triple: {'subject': 'No,-I', 'predicate': 'do-not-think', 'object': 'so.-I-think-it-has-to-do-with-the-fact-that-you-are-responsible-for-the-care-of-the-child.'}\n",
      "initial triple: {'subject': 'No,-I', 'predicate': 'do-not-think', 'object': 'so.-I-think-it-has-to-do-with-the-fact-that-you-are-responsible-for-the-care-of-the-child.'}\n",
      "initial triple: {'subject': 'No,-I', 'predicate': 'do-not-think', 'object': 'so.-I-think-it-has-to-do-with-the-fact-that-you-are-responsible-for-the-care-of-the-child.'}\n",
      "initial triple: {'subject': 'No,-I', 'predicate': 'do-not-think', 'object': 'so.-I-think-it-has-to-do-with-the-fact-that-you-are-responsible-for-the-care-of-the-child.'}\n",
      "initial triple: {'subject': 'No,-I', 'predicate': 'do-not-think', 'object': 'so.-I-think-it-has-to-do-with-the-fact-that-you-are-responsible-for-the-care-of-the-child.'}\n",
      "initial triple: {'subject': 'No,-I', 'predicate': 'do-not-think', 'object': 'so.-I-think-it-has-to-do-with-the-fact-that-you-are-responsible-for-the-care-of-the-child.'}\n",
      "initial triple: {'subject': 'No,-I', 'predicate': 'do-not-think', 'object': 'so.-I-think-it-has-to-do-with-the-fact-that-you-are-responsible-for-the-care-of-the-child.'}\n",
      "initial triple: {'subject': 'No,-I', 'predicate': 'do-not-think', 'object': 'so.-I-think-it-has-to-do-with-the-fact-that-you-are-responsible-for-the-care-of-the-child.'}\n",
      "initial triple: {'subject': 'No,-I', 'predicate': 'do-not-think', 'object': 'so.-I-think-it-has-to-do-with-the-fact-that-you-are-responsible-for-the-care-of-the-child.'}\n",
      "initial triple: {'subject': 'No,-I', 'predicate': 'do-not-think', 'object': 'so.-I-think-it-has-to-do-with-the-fact-that-you-are-responsible-for-the-care-of-the-child.'}\n",
      "initial triple: {'subject': 'No,-I', 'predicate': 'do-not-think', 'object': 'so.-I-think-it-has-to-do-with-the-fact-that-you-are-responsible-for-the-care-of-the-child.'}\n",
      "initial triple: {'subject': 'No,-I', 'predicate': 'do-not-think', 'object': 'so.-I-think-it-has-to-do-with-the-fact-that-you-are-responsible-for-the-care-of-the-child.'}\n",
      "initial triple: {'subject': 'No,-I', 'predicate': 'do-not-think', 'object': 'so.-I-think-it-has-to-do-with-the-fact-that-you-are-responsible-for-the-care-of-the-child.'}\n",
      "initial triple: {'subject': 'No,-I', 'predicate': 'do-not-think', 'object': 'so.-I-think-it-has-to-do-with-the-fact-that-you-are-responsible-for-the-care-of-the-child.'}\n",
      "initial triple: {'subject': 'No,-I', 'predicate': 'do-not-think', 'object': 'so.-I-think-it-has-to-do-with-the-fact-that-you-are-responsible-for-the-care-of-the-child.'}\n",
      "initial triple: {'subject': 'No,-I', 'predicate': 'do-not-think', 'object': 'so.-I-think-it-has-to-do-with-the-fact-that-you-are-responsible-for-the-care-of-the-child.'}\n",
      "initial triple: {'subject': 'No,-I', 'predicate': 'do-not-think', 'object': 'so.-I-think-it-has-to-do-with-the-fact-that-you-are-responsible-for-the-care-of-the-child.'}\n",
      "initial triple: {'subject': 'No,-I', 'predicate': 'do-not-think', 'object': 'so.-I-think-it-has-to-do-with-the-fact-that-you-are-responsible-for-the-care-of-the-child.'}\n",
      "initial triple: {'subject': 'No,-I', 'predicate': 'do-not-think', 'object': 'so.-I-think-it-has-to-do-with-the-fact-that-you-are-responsible-for-the-care-of-the-child.'}\n",
      "initial triple: {'subject': 'No,-I', 'predicate': 'do-not-think', 'object': 'so.-I-think-it-has-to-do-with-the-fact-that-you-are-responsible-for-the-care-of-the-child.'}\n",
      "initial triple: {'subject': 'No,-I', 'predicate': 'do-not-think', 'object': 'so.-I-think-it-has-to-do-with-the-fact-that-you-are-responsible-for-the-care-of-the-child.'}\n",
      "initial triple: {'subject': 'No,-I', 'predicate': 'do-not-think', 'object': 'so.-I-think-it-has-to-do-with-the-fact-that-you-are-responsible-for-the-care-of-the-child.'}\n",
      "initial triple: {'subject': 'No,-I', 'predicate': 'do-not-think', 'object': 'so.-I-think-it-has-to-do-with-the-fact-that-you-are-responsible-for-the-care-of-the-child.'}\n",
      "initial triple: {'subject': 'No,-I', 'predicate': 'do-not-think', 'object': 'so.-I-think-it-has-to-do-with-the-fact-that-you-are-responsible-for-the-care-of-the-child.'}\n",
      "initial triple: {'subject': 'No,-I', 'predicate': 'do-not-think', 'object': 'so.-I-think-it-has-to-do-with-the-fact-that-you-are-responsible-for-the-care-of-the-child.'}\n",
      "initial triple: {'subject': 'No,-I', 'predicate': 'do-not-think', 'object': 'so.-I-think-it-has-to-do-with-the-fact-that-you-are-responsible-for-the-care-of-the-child.'}\n",
      "initial triple: {'subject': 'No,-I', 'predicate': 'do-not-think', 'object': 'so.-I-think-it-has-to-do-with-the-fact-that-you-are-responsible-for-the-care-of-the-child.'}\n",
      "initial triple: {'subject': 'No,-I', 'predicate': 'do-not-think', 'object': 'so.-I-think-it-has-to-do-with-the-fact-that-you-are-responsible-for-the-care-of-the-child.'}\n",
      "initial triple: {'subject': 'No,-I', 'predicate': 'do-not-think', 'object': 'so.-I-think-it-has-to-do-with-the-fact-that-you-are-responsible-for-the-care-of-the-child.'}\n",
      "initial triple: {'subject': 'No,-I', 'predicate': 'do-not-think', 'object': 'so.-I-think-it-has-to-do-with-the-fact-that-you-are-responsible-for-the-care-of-the-child.'}\n",
      "initial triple: {'subject': 'No,-I', 'predicate': 'do-not-think', 'object': 'so.-I-think-it-has-to-do-with-the-fact-that-you-are-responsible-for-the-care-of-the-child.'}\n",
      "initial triple: {'subject': 'No,-I', 'predicate': 'do-not-think', 'object': 'so.-I-think-it-has-to-do-with-the-fact-that-you-are-responsible-for-the-care-of-the-child.'}\n",
      "initial triple: {'subject': 'No,-I', 'predicate': 'do-not-think', 'object': 'so.-I-think-it-has-to-do-with-the-fact-that-you-are-responsible-for-the-care-of-the-child.'}\n",
      "initial triple: {'subject': 'No,-I', 'predicate': 'do-not-think', 'object': 'so.-I-think-it-has-to-do-with-the-fact-that-you-are-responsible-for-the-care-of-the-child.'}\n",
      "initial triple: {'subject': 'No,-I', 'predicate': 'do-not-think', 'object': 'so.-I-think-it-has-to-do-with-the-fact-that-you-are-responsible-for-the-care-of-the-child.'}\n",
      "initial triple: {'subject': 'No,-I', 'predicate': 'do-not-think', 'object': 'so.-I-think-it-has-to-do-with-the-fact-that-you-are-responsible-for-the-care-of-the-child.'}\n",
      "initial triple: {'subject': 'No,-I', 'predicate': 'do-not-think', 'object': 'so.-I-think-it-has-to-do-with-the-fact-that-you-are-responsible-for-the-care-of-the-child.'}\n",
      "initial triple: {'subject': 'No,-I', 'predicate': 'do-not-think', 'object': 'so.-I-think-it-has-to-do-with-the-fact-that-you-are-responsible-for-the-care-of-the-child.'}\n",
      "initial triple: {'subject': 'No,-I', 'predicate': 'do-not-think', 'object': 'so.-I-think-it-has-to-do-with-the-fact-that-you-are-responsible-for-the-care-of-the-child.'}\n",
      "initial triple: {'subject': 'No,-I', 'predicate': 'do-not-think', 'object': 'so.-I-think-it-has-to-do-with-the-fact-that-you-are-responsible-for-the-care-of-the-child.'}\n",
      "initial triple: {'subject': 'No,-I', 'predicate': 'do-not-think', 'object': 'so.-I-think-it-has-to-do-with-the-fact-that-you-are-responsible-for-the-care-of-the-child.'}\n",
      "initial triple: {'subject': 'No,-I', 'predicate': 'do-not-think', 'object': 'so.-I-think-it-has-to-do-with-the-fact-that-you-are-responsible-for-the-care-of-the-child.'}\n",
      "initial triple: {'subject': 'No,-I', 'predicate': 'do-not-think', 'object': 'so.-I-think-it-has-to-do-with-the-fact-that-you-are-responsible-for-the-care-of-the-child.'}\n",
      "initial triple: {'subject': 'No,-I', 'predicate': 'do-not-think', 'object': 'so.-I-think-it-has-to-do-with-the-fact-that-you-are-responsible-for-the-care-of-the-child.'}\n",
      "initial triple: {'subject': 'No,-I', 'predicate': 'do-not-think', 'object': 'so.-I-think-it-has-to-do-with-the-fact-that-you-are-responsible-for-the-care-of-the-child.'}\n",
      "initial triple: {'subject': 'No,-I', 'predicate': 'do-not-think', 'object': 'so.-I-think-it-has-to-do-with-the-fact-that-you-are-responsible-for-the-care-of-the-child.'}\n",
      "initial triple: {'subject': 'No,-I', 'predicate': 'do-not-think', 'object': 'so.-I-think-it-has-to-do-with-the-fact-that-you-are-responsible-for-the-care-of-the-child.'}\n",
      "initial triple: {'subject': 'No,-I', 'predicate': 'do-not-think', 'object': 'so.-I-think-it-has-to-do-with-the-fact-that-you-are-responsible-for-the-care-of-the-child.'}\n",
      "initial triple: {'subject': 'No,-I', 'predicate': 'do-not-think', 'object': 'so.-I-think-it-has-to-do-with-the-fact-that-you-are-responsible-for-the-care-of-the-child.'}\n",
      "initial triple: {'subject': 'No,-I', 'predicate': 'do-not-think', 'object': 'so.-I-think-it-has-to-do-with-the-fact-that-you-are-responsible-for-the-care-of-the-child.'}\n",
      "initial triple: {'subject': 'No,-I', 'predicate': 'do-not-think', 'object': 'so.-I-think-it-has-to-do-with-the-fact-that-you-are-responsible-for-the-care-of-the-child.'}\n",
      "initial triple: {'subject': 'No,-I', 'predicate': 'do-not-think', 'object': 'so.-I-think-it-has-to-do-with-the-fact-that-you-are-responsible-for-the-care-of-the-child.'}\n",
      "initial triple: {'subject': 'No,-I', 'predicate': 'do-not-think', 'object': 'so.-I-think-it-has-to-do-with-the-fact-that-you-are-responsible-for-the-care-of-the-child.'}\n",
      "initial triple: {'subject': 'No,-I', 'predicate': 'do-not-think', 'object': 'so.-I-think-it-has-to-do-with-the-fact-that-you-are-responsible-for-the-care-of-the-child.'}\n",
      "initial triple: {'subject': 'No,-I', 'predicate': 'do-not-think', 'object': 'so.-I-think-it-has-to-do-with-the-fact-that-you-are-responsible-for-the-care-of-the-child.'}\n",
      "initial triple: {'subject': 'No,-I', 'predicate': 'do-not-think', 'object': 'so.-I-think-it-has-to-do-with-the-fact-that-you-are-responsible-for-the-care-of-the-child.'}\n",
      "initial triple: {'subject': 'No,-I', 'predicate': 'do-not-think', 'object': 'so.-I-think-it-has-to-do-with-the-fact-that-you-are-responsible-for-the-care-of-the-child.'}\n",
      "initial triple: {'subject': 'No,-I', 'predicate': 'do-not-think', 'object': 'so.-I-think-it-has-to-do-with-the-fact-that-you-are-responsible-for-the-care-of-the-child.'}\n",
      "initial triple: {'subject': 'No,-I', 'predicate': 'do-not-think', 'object': 'so.-I-think-it-has-to-do-with-the-fact-that-you-are-responsible-for-the-care-of-the-child.'}\n",
      "initial triple: {'subject': 'No,-I', 'predicate': 'do-not-think', 'object': 'so.-I-think-it-has-to-do-with-the-fact-that-you-are-responsible-for-the-care-of-the-child.'}\n",
      "initial triple: {'subject': 'No,-I', 'predicate': 'do-not-think', 'object': 'so.-I-think-it-has-to-do-with-the-fact-that-you-are-responsible-for-the-care-of-the-child.'}\n",
      "initial triple: {'subject': 'No,-I', 'predicate': 'do-not-think', 'object': 'so.-I-think-it-has-to-do-with-the-fact-that-you-are-responsible-for-the-care-of-the-child.'}\n",
      "initial triple: {'subject': 'No,-I', 'predicate': 'do-not-think', 'object': 'so.-I-think-it-has-to-do-with-the-fact-that-you-are-responsible-for-the-care-of-the-child.'}\n",
      "initial triple: {'subject': 'No,-I', 'predicate': 'do-not-think', 'object': 'so.-I-think-it-has-to-do-with-the-fact-that-you-are-responsible-for-the-care-of-the-child.'}\n",
      "initial triple: {'subject': 'No,-I', 'predicate': 'do-not-think', 'object': 'so.-I-think-it-has-to-do-with-the-fact-that-you-are-responsible-for-the-care-of-the-child.'}\n",
      "initial triple: {'subject': 'No,-I', 'predicate': 'do-not-think', 'object': 'so.-I-think-it-has-to-do-with-the-fact-that-you-are-responsible-for-the-care-of-the-child.'}\n",
      "initial triple: {'subject': 'No,-I', 'predicate': 'do-not-think', 'object': 'so.-I-think-it-has-to-do-with-the-fact-that-you-are-responsible-for-the-care-of-the-child.'}\n",
      "initial triple: {'subject': 'No,-I', 'predicate': 'do-not-think', 'object': 'so.-I-think-it-has-to-do-with-the-fact-that-you-are-responsible-for-the-care-of-the-child.'}\n",
      "initial triple: {'subject': 'No,-I', 'predicate': 'do-not-think', 'object': 'so.-I-think-it-has-to-do-with-the-fact-that-you-are-responsible-for-the-care-of-the-child.'}\n",
      "initial triple: {'subject': 'No,-I', 'predicate': 'do-not-think', 'object': 'so.-I-think-it-has-to-do-with-the-fact-that-you-are-responsible-for-the-care-of-the-child.'}\n",
      "initial triple: {'subject': 'No,-I', 'predicate': 'do-not-think', 'object': 'so.-I-think-it-has-to-do-with-the-fact-that-you-are-responsible-for-the-care-of-the-child.'}\n",
      "initial triple: {'subject': 'No,-I', 'predicate': 'do-not-think', 'object': 'so.-I-think-it-has-to-do-with-the-fact-that-you-are-responsible-for-the-care-of-the-child.'}\n",
      "initial triple: {'subject': 'No,-I', 'predicate': 'do-not-think', 'object': 'so.-I-think-it-has-to-do-with-the-fact-that-you-are-responsible-for-the-care-of-the-child.'}\n",
      "initial triple: {'subject': 'No,-I', 'predicate': 'do-not-think', 'object': 'so.-I-think-it-has-to-do-with-the-fact-that-you-are-responsible-for-the-care-of-the-child.'}\n",
      "initial triple: {'subject': 'No,-I', 'predicate': 'do-not-think', 'object': 'so.-I-think-it-has-to-do-with-the-fact-that-you-are-responsible-for-the-care-of-the-child.'}\n",
      "initial triple: {'subject': 'No,-I', 'predicate': 'do-not-think', 'object': 'so.-I-think-it-has-to-do-with-the-fact-that-you-are-responsible-for-the-care-of-the-child.'}\n",
      "initial triple: {'subject': 'No,-I', 'predicate': 'do-not-think', 'object': 'so.-I-think-it-has-to-do-with-the-fact-that-you-are-responsible-for-the-care-of-the-child.'}\n",
      "initial triple: {'subject': 'No,-I', 'predicate': 'do-not-think', 'object': 'so.-I-think-it-has-to-do-with-the-fact-that-you-are-responsible-for-the-care-of-the-child.'}\n",
      "initial triple: {'subject': 'No,-I', 'predicate': 'do-not-think', 'object': 'so.-I-think-it-has-to-do-with-the-fact-that-you-are-responsible-for-the-care-of-the-child.'}\n",
      "initial triple: {'subject': 'No,-I', 'predicate': 'do-not-think', 'object': 'so.-I-think-it-has-to-do-with-the-fact-that-you-are-responsible-for-the-care-of-the-child.'}\n",
      "initial triple: {'subject': 'No,-I', 'predicate': 'do-not-think', 'object': 'so.-I-think-it-has-to-do-with-the-fact-that-you-are-responsible-for-the-care-of-the-child.'}\n",
      "initial triple: {'subject': 'No,-I', 'predicate': 'do-not-think', 'object': 'so.-I-think-it-has-to-do-with-the-fact-that-you-are-responsible-for-the-care-of-the-child.'}\n",
      "initial triple: {'subject': 'No,-I', 'predicate': 'do-not-think', 'object': 'so.-I-think-it-has-to-do-with-the-fact-that-you-are-responsible-for-the-care-of-the-child.'}\n",
      "initial triple: {'subject': 'No,-I', 'predicate': 'do-not-think', 'object': 'so.-I-think-it-has-to-do-with-the-fact-that-you-are-responsible-for-the-care-of-the-child.'}\n",
      "initial triple: {'subject': 'No,-I', 'predicate': 'do-not-think', 'object': 'so.-I-think-it-has-to-do-with-the-fact-that-you-are-responsible-for-the-care-of-the-child.'}\n",
      "initial triple: {'subject': 'No,-I', 'predicate': 'do-not-think', 'object': 'so.-I-think-it-has-to-do-with-the-fact-that-you-are-responsible-for-the-care-of-the-child.'}\n",
      "initial triple: {'subject': 'No,-I', 'predicate': 'do-not-think', 'object': 'so.-I-think-it-has-to-do-with-the-fact-that-you-are-responsible-for-the-care-of-the-child.'}\n",
      "initial triple: {'subject': 'No,-I', 'predicate': 'do-not-think', 'object': 'so.-I-think-it-has-to-do-with-the-fact-that-you-are-responsible-for-the-care-of-the-child.'}\n",
      "initial triple: {'subject': 'No,-I', 'predicate': 'do-not-think', 'object': 'so.-I-think-it-has-to-do-with-the-fact-that-you-are-responsible-for-the-care-of-the-child.'}\n",
      "initial triple: {'subject': 'No,-I', 'predicate': 'do-not-think', 'object': 'so.-I-think-it-has-to-do-with-the-fact-that-you-are-responsible-for-the-care-of-the-child.'}\n",
      "initial triple: {'subject': 'No,-I', 'predicate': 'do-not-think', 'object': 'so.-I-think-it-has-to-do-with-the-fact-that-you-are-responsible-for-the-care-of-the-child.'}\n",
      "initial triple: {'subject': 'No,-I', 'predicate': 'do-not-think', 'object': 'so.-I-think-it-has-to-do-with-the-fact-that-you-are-responsible-for-the-care-of-the-child.'}\n",
      "initial triple: {'subject': 'No,-I', 'predicate': 'do-not-think', 'object': 'so.-I-think-it-has-to-do-with-the-fact-that-you-are-responsible-for-the-care-of-the-child.'}\n",
      "initial triple: {'subject': 'No,-I', 'predicate': 'do-not-think', 'object': 'so.-I-think-it-has-to-do-with-the-fact-that-you-are-responsible-for-the-care-of-the-child.'}\n",
      "initial triple: {'subject': 'No,-I', 'predicate': 'do-not-think', 'object': 'so.-I-think-it-has-to-do-with-the-fact-that-you-are-responsible-for-the-care-of-the-child.'}\n",
      "initial triple: {'subject': 'No,-I', 'predicate': 'do-not-think', 'object': 'so.-I-think-it-has-to-do-with-the-fact-that-you-are-responsible-for-the-care-of-the-child.'}\n",
      "initial triple: {'subject': 'No,-I', 'predicate': 'do-not-think', 'object': 'so.-I-think-it-has-to-do-with-the-fact-that-you-are-responsible-for-the-care-of-the-child.'}\n",
      "initial triple: {'subject': 'No,-I', 'predicate': 'do-not-think', 'object': 'so.-I-think-it-has-to-do-with-the-fact-that-you-are-responsible-for-the-care-of-the-child.'}\n",
      "initial triple: {'subject': 'No,-I', 'predicate': 'do-not-think', 'object': 'so.-I-think-it-has-to-do-with-the-fact-that-you-are-responsible-for-the-care-of-the-child.'}\n",
      "initial triple: {'subject': 'No,-I', 'predicate': 'do-not-think', 'object': 'so.-I-think-it-has-to-do-with-the-fact-that-you-are-responsible-for-the-care-of-the-child.'}\n",
      "initial triple: {'subject': 'No,-I', 'predicate': 'do-not-think', 'object': 'so.-I-think-it-has-to-do-with-the-fact-that-you-are-responsible-for-the-care-of-the-child.'}\n",
      "initial triple: {'subject': 'No,-I', 'predicate': 'do-not-think', 'object': 'so.-I-think-it-has-to-do-with-the-fact-that-you-are-responsible-for-the-care-of-the-child.'}\n",
      "initial triple: {'subject': 'No,-I', 'predicate': 'do-not-think', 'object': 'so.-I-think-it-has-to-do-with-the-fact-that-you-are-responsible-for-the-care-of-the-child.'}\n",
      "initial triple: {'subject': 'No,-I', 'predicate': 'do-not-think', 'object': 'so.-I-think-it-has-to-do-with-the-fact-that-you-are-responsible-for-the-care-of-the-child.'}\n",
      "initial triple: {'subject': 'No,-I', 'predicate': 'do-not-think', 'object': 'so.-I-think-it-has-to-do-with-the-fact-that-you-are-responsible-for-the-care-of-the-child.'}\n",
      "initial triple: {'subject': 'No,-I', 'predicate': 'do-not-think', 'object': 'so.-I-think-it-has-to-do-with-the-fact-that-you-are-responsible-for-the-care-of-the-child.'}\n",
      "initial triple: {'subject': 'No,-I', 'predicate': 'do-not-think', 'object': 'so.-I-think-it-has-to-do-with-the-fact-that-you-are-responsible-for-the-care-of-the-child.'}\n",
      "initial triple: {'subject': 'No,-I', 'predicate': 'do-not-think', 'object': 'so.-I-think-it-has-to-do-with-the-fact-that-you-are-responsible-for-the-care-of-the-child.'}\n",
      "initial triple: {'subject': 'No,-I', 'predicate': 'do-not-think', 'object': 'so.-I-think-it-has-to-do-with-the-fact-that-you-are-responsible-for-the-care-of-the-child.'}\n",
      "initial triple: {'subject': 'No,-I', 'predicate': 'do-not-think', 'object': 'so.-I-think-it-has-to-do-with-the-fact-that-you-are-responsible-for-the-care-of-the-child.'}\n",
      "initial triple: {'subject': 'No,-I', 'predicate': 'do-not-think', 'object': 'so.-I-think-it-has-to-do-with-the-fact-that-you-are-responsible-for-the-care-of-the-child.'}\n",
      "initial triple: {'subject': 'No,-I', 'predicate': 'do-not-think', 'object': 'so.-I-think-it-has-to-do-with-the-fact-that-you-are-responsible-for-the-care-of-the-child.'}\n",
      "initial triple: {'subject': 'No,-I', 'predicate': 'do-not-think', 'object': 'so.-I-think-it-has-to-do-with-the-fact-that-you-are-responsible-for-the-care-of-the-child.'}\n",
      "initial triple: {'subject': 'No,-I', 'predicate': 'do-not-think', 'object': 'so.-I-think-it-has-to-do-with-the-fact-that-you-are-responsible-for-the-care-of-the-child.'}\n",
      "initial triple: {'subject': 'No,-I', 'predicate': 'do-not-think', 'object': 'so.-I-think-it-has-to-do-with-the-fact-that-you-are-responsible-for-the-care-of-the-child.'}\n",
      "initial triple: {'subject': 'No,-I', 'predicate': 'do-not-think', 'object': 'so.-I-think-it-has-to-do-with-the-fact-that-you-are-responsible-for-the-care-of-the-child.'}\n",
      "initial triple: {'subject': 'No,-I', 'predicate': 'do-not-think', 'object': 'so.-I-think-it-has-to-do-with-the-fact-that-you-are-responsible-for-the-care-of-the-child.'}\n",
      "initial triple: {'subject': 'No,-I', 'predicate': 'do-not-think', 'object': 'so.-I-think-it-has-to-do-with-the-fact-that-you-are-responsible-for-the-care-of-the-child.'}\n",
      "initial triple: {'subject': 'No,-I', 'predicate': 'do-not-think', 'object': 'so.-I-think-it-has-to-do-with-the-fact-that-you-are-responsible-for-the-care-of-the-child.'}\n",
      "initial triple: {'subject': 'No,-I', 'predicate': 'do-not-think', 'object': 'so.-I-think-it-has-to-do-with-the-fact-that-you-are-responsible-for-the-care-of-the-child.'}\n",
      "initial triple: {'subject': 'No,-I', 'predicate': 'do-not-think', 'object': 'so.-I-think-it-has-to-do-with-the-fact-that-you-are-responsible-for-the-care-of-the-child.'}\n",
      "initial triple: {'subject': 'No,-I', 'predicate': 'do-not-think', 'object': 'so.-I-think-it-has-to-do-with-the-fact-that-you-are-responsible-for-the-care-of-the-child.'}\n",
      "initial triple: {'subject': 'No,-I', 'predicate': 'do-not-think', 'object': 'so.-I-think-it-has-to-do-with-the-fact-that-you-are-responsible-for-the-care-of-the-child.'}\n",
      "initial triple: {'subject': 'No,-I', 'predicate': 'do-not-think', 'object': 'so.-I-think-it-has-to-do-with-the-fact-that-you-are-responsible-for-the-care-of-the-child.'}\n",
      "initial triple: {'subject': 'No,-I', 'predicate': 'do-not-think', 'object': 'so.-I-think-it-has-to-do-with-the-fact-that-you-are-responsible-for-the-care-of-the-child.'}\n",
      "initial triple: {'subject': 'No,-I', 'predicate': 'do-not-think', 'object': 'so.-I-think-it-has-to-do-with-the-fact-that-you-are-responsible-for-the-care-of-the-child.'}\n",
      "initial triple: {'subject': 'No,-I', 'predicate': 'do-not-think', 'object': 'so.-I-think-it-has-to-do-with-the-fact-that-you-are-responsible-for-the-care-of-the-child.'}\n",
      "initial triple: {'subject': 'No,-I', 'predicate': 'do-not-think', 'object': 'so.-I-think-it-has-to-do-with-the-fact-that-you-are-responsible-for-the-care-of-the-child.'}\n",
      "initial triple: {'subject': 'No,-I', 'predicate': 'do-not-think', 'object': 'so.-I-think-it-has-to-do-with-the-fact-that-you-are-responsible-for-the-care-of-the-child.'}\n",
      "initial triple: {'subject': 'No,-I', 'predicate': 'do-not-think', 'object': 'so.-I-think-it-has-to-do-with-the-fact-that-you-are-responsible-for-the-care-of-the-child.'}\n",
      "initial triple: {'subject': 'No,-I', 'predicate': 'do-not-think', 'object': 'so.-I-think-it-has-to-do-with-the-fact-that-you-are-responsible-for-the-care-of-the-child.'}\n",
      "initial triple: {'subject': 'No,-I', 'predicate': 'do-not-think', 'object': 'so.-I-think-it-has-to-do-with-the-fact-that-you-are-responsible-for-the-care-of-the-child.'}\n",
      "initial triple: {'subject': 'No,-I', 'predicate': 'do-not-think', 'object': 'so.-I-think-it-has-to-do-with-the-fact-that-you-are-responsible-for-the-care-of-the-child.'}\n",
      "initial triple: {'subject': 'No,-I', 'predicate': 'do-not-think', 'object': 'so.-I-think-it-has-to-do-with-the-fact-that-you-are-responsible-for-the-care-of-the-child.'}\n",
      "initial triple: {'subject': 'No,-I', 'predicate': 'do-not-think', 'object': 'so.-I-think-it-has-to-do-with-the-fact-that-you-are-responsible-for-the-care-of-the-child.'}\n",
      "initial triple: {'subject': 'No,-I', 'predicate': 'do-not-think', 'object': 'so.-I-think-it-has-to-do-with-the-fact-that-you-are-responsible-for-the-care-of-the-child.'}\n",
      "initial triple: {'subject': 'No,-I', 'predicate': 'do-not-think', 'object': 'so.-I-think-it-has-to-do-with-the-fact-that-you-are-responsible-for-the-care-of-the-child.'}\n",
      "initial triple: {'subject': 'No,-I', 'predicate': 'do-not-think', 'object': 'so.-I-think-it-has-to-do-with-the-fact-that-you-are-responsible-for-the-care-of-the-child.'}\n",
      "initial triple: {'subject': 'No,-I', 'predicate': 'do-not-think', 'object': 'so.-I-think-it-has-to-do-with-the-fact-that-you-are-responsible-for-the-care-of-the-child.'}\n",
      "initial triple: {'subject': 'No,-I', 'predicate': 'do-not-think', 'object': 'so.-I-think-it-has-to-do-with-the-fact-that-you-are-responsible-for-the-care-of-the-child.'}\n",
      "initial triple: {'subject': 'No,-I', 'predicate': 'do-not-think', 'object': 'so.-I-think-it-has-to-do-with-the-fact-that-you-are-responsible-for-the-care-of-the-child.'}\n",
      "initial triple: {'subject': 'No,-I', 'predicate': 'do-not-think', 'object': 'so.-I-think-it-has-to-do-with-the-fact-that-you-are-responsible-for-the-care-of-the-child.'}\n",
      "initial triple: {'subject': 'No,-I', 'predicate': 'do-not-think', 'object': 'so.-I-think-it-has-to-do-with-the-fact-that-you-are-responsible-for-the-care-of-the-child.'}\n",
      "initial triple: {'subject': 'No,-I', 'predicate': 'do-not-think', 'object': 'so.-I-think-it-has-to-do-with-the-fact-that-you-are-responsible-for-the-care-of-the-child.'}\n",
      "initial triple: {'subject': 'No,-I', 'predicate': 'do-not-think', 'object': 'so.-I-think-it-has-to-do-with-the-fact-that-you-are-responsible-for-the-care-of-the-child.'}\n",
      "initial triple: {'subject': 'No,-I', 'predicate': 'do-not-think', 'object': 'so.-I-think-it-has-to-do-with-the-fact-that-you-are-responsible-for-the-care-of-the-child.'}\n",
      "initial triple: {'subject': 'No,-I', 'predicate': 'do-not-think', 'object': 'so.-I-think-it-has-to-do-with-the-fact-that-you-are-responsible-for-the-care-of-the-child.'}\n",
      "initial triple: {'subject': 'No,-I', 'predicate': 'do-not-think', 'object': 'so.-I-think-it-has-to-do-with-the-fact-that-you-are-responsible-for-the-care-of-the-child.'}\n",
      "initial triple: {'subject': 'No,-I', 'predicate': 'do-not-think', 'object': 'so.-I-think-it-has-to-do-with-the-fact-that-you-are-responsible-for-the-care-of-the-child.'}\n",
      "initial triple: {'subject': 'No,-I', 'predicate': 'do-not-think', 'object': 'so.-I-think-it-has-to-do-with-the-fact-that-you-are-responsible-for-the-care-of-the-child.'}\n",
      "initial triple: {'subject': 'No,-I', 'predicate': 'do-not-think', 'object': 'so.-I-think-it-has-to-do-with-the-fact-that-you-are-responsible-for-the-care-of-the-child.'}\n",
      "initial triple: {'subject': 'No,-I', 'predicate': 'do-not-think', 'object': 'so.-I-think-it-has-to-do-with-the-fact-that-you-are-responsible-for-the-care-of-the-child.'}\n",
      "initial triple: {'subject': 'No,-I', 'predicate': 'do-not-think', 'object': 'so.-I-think-it-has-to-do-with-the-fact-that-you-are-responsible-for-the-care-of-the-child.'}\n",
      "initial triple: {'subject': 'No,-I', 'predicate': 'do-not-think', 'object': 'so.-I-think-it-has-to-do-with-the-fact-that-you-are-responsible-for-the-care-of-the-child.'}\n",
      "initial triple: {'subject': 'No,-I', 'predicate': 'do-not-think', 'object': 'so.-I-think-it-has-to-do-with-the-fact-that-you-are-responsible-for-the-care-of-the-child.'}\n",
      "initial triple: {'subject': 'No,-I', 'predicate': 'do-not-think', 'object': 'so.-I-think-it-has-to-do-with-the-fact-that-you-are-responsible-for-the-care-of-the-child.'}\n",
      "initial triple: {'subject': 'No,-I', 'predicate': 'do-not-think', 'object': 'so.-I-think-it-has-to-do-with-the-fact-that-you-are-responsible-for-the-care-of-the-child.'}\n",
      "initial triple: {'subject': 'No,-I', 'predicate': 'do-not-think', 'object': 'so.-I-think-it-has-to-do-with-the-fact-that-you-are-responsible-for-the-care-of-the-child.'}\n",
      "initial triple: {'subject': 'No,-I', 'predicate': 'do-not-think', 'object': 'so.-I-think-it-has-to-do-with-the-fact-that-you-are-responsible-for-the-care-of-the-child.'}\n",
      "initial triple: {'subject': 'No,-I', 'predicate': 'do-not-think', 'object': 'so.-I-think-it-has-to-do-with-the-fact-that-you-are-responsible-for-the-care-of-the-child.'}\n",
      "initial triple: {'subject': 'No,-I', 'predicate': 'do-not-think', 'object': 'so.-I-think-it-has-to-do-with-the-fact-that-you-are-responsible-for-the-care-of-the-child.'}\n",
      "initial triple: {'subject': 'No,-I', 'predicate': 'do-not-think', 'object': 'so.-I-think-it-has-to-do-with-the-fact-that-you-are-responsible-for-the-care-of-the-child.'}\n",
      "initial triple: {'subject': 'No,-I', 'predicate': 'do-not-think', 'object': 'so.-I-think-it-has-to-do-with-the-fact-that-you-are-responsible-for-the-care-of-the-child.'}\n",
      "initial triple: {'subject': 'No,-I', 'predicate': 'do-not-think', 'object': 'so.-I-think-it-has-to-do-with-the-fact-that-you-are-responsible-for-the-care-of-the-child.'}\n",
      "initial triple: {'subject': 'No,-I', 'predicate': 'do-not-think', 'object': 'so.-I-think-it-has-to-do-with-the-fact-that-you-are-responsible-for-the-care-of-the-child.'}\n",
      "initial triple: {'subject': 'No,-I', 'predicate': 'do-not-think', 'object': 'so.-I-think-it-has-to-do-with-the-fact-that-you-are-responsible-for-the-care-of-the-child.'}\n",
      "initial triple: {'subject': 'No,-I', 'predicate': 'do-not-think', 'object': 'so.-I-think-it-has-to-do-with-the-fact-that-you-are-responsible-for-the-care-of-the-child.'}\n",
      "initial triple: {'subject': 'No,-I', 'predicate': 'do-not-think', 'object': 'so.-I-think-it-has-to-do-with-the-fact-that-you-are-responsible-for-the-care-of-the-child.'}\n",
      "initial triple: {'subject': 'No,-I', 'predicate': 'do-not-think', 'object': 'so.-I-think-it-has-to-do-with-the-fact-that-you-are-responsible-for-the-care-of-the-child.'}\n",
      "initial triple: {'subject': 'No,-I', 'predicate': 'do-not-think', 'object': 'so.-I-think-it-has-to-do-with-the-fact-that-you-are-responsible-for-the-care-of-the-child.'}\n",
      "initial triple: {'subject': 'No,-I', 'predicate': 'do-not-think', 'object': 'so.-I-think-it-has-to-do-with-the-fact-that-you-are-responsible-for-the-care-of-the-child.'}\n",
      "initial triple: {'subject': 'No,-I', 'predicate': 'do-not-think', 'object': 'so.-I-think-it-has-to-do-with-the-fact-that-you-are-responsible-for-the-care-of-the-child.'}\n",
      "initial triple: {'subject': 'No,-I', 'predicate': 'do-not-think', 'object': 'so.-I-think-it-has-to-do-with-the-fact-that-you-are-responsible-for-the-care-of-the-child.'}\n",
      "initial triple: {'subject': 'No,-I', 'predicate': 'do-not-think', 'object': 'so.-I-think-it-has-to-do-with-the-fact-that-you-are-responsible-for-the-care-of-the-child.'}\n",
      "initial triple: {'subject': 'No,-I', 'predicate': 'do-not-think', 'object': 'so.-I-think-it-has-to-do-with-the-fact-that-you-are-responsible-for-the-care-of-the-child.'}\n",
      "initial triple: {'subject': 'No,-I', 'predicate': 'do-not-think', 'object': 'so.-I-think-it-has-to-do-with-the-fact-that-you-are-responsible-for-the-care-of-the-child.'}\n",
      "initial triple: {'subject': 'No,-I', 'predicate': 'do-not-think', 'object': 'so.-I-think-it-has-to-do-with-the-fact-that-you-are-responsible-for-the-care-of-the-child.'}\n",
      "initial triple: {'subject': 'No,-I', 'predicate': 'do-not-think', 'object': 'so.-I-think-it-has-to-do-with-the-fact-that-you-are-responsible-for-the-care-of-the-child.'}\n",
      "initial triple: {'subject': 'No,-I', 'predicate': 'do-not-think', 'object': 'so.-I-think-it-has-to-do-with-the-fact-that-you-are-responsible-for-the-care-of-the-child.'}\n",
      "initial triple: {'subject': 'No,-I', 'predicate': 'do-not-think', 'object': 'so.-I-think-it-has-to-do-with-the-fact-that-you-are-responsible-for-the-care-of-the-child.'}\n",
      "initial triple: {'subject': 'No,-I', 'predicate': 'do-not-think', 'object': 'so.-I-think-it-has-to-do-with-the-fact-that-you-are-responsible-for-the-care-of-the-child.'}\n",
      "initial triple: {'subject': 'No,-I', 'predicate': 'do-not-think', 'object': 'so.-I-think-it-has-to-do-with-the-fact-that-you-are-responsible-for-the-care-of-the-child.'}\n",
      "initial triple: {'subject': 'No,-I', 'predicate': 'do-not-think', 'object': 'so.-I-think-it-has-to-do-with-the-fact-that-you-are-responsible-for-the-care-of-the-child.'}\n",
      "initial triple: {'subject': 'No,-I', 'predicate': 'do-not-think', 'object': 'so.-I-think-it-has-to-do-with-the-fact-that-you-are-responsible-for-the-care-of-the-child.'}\n",
      "initial triple: {'subject': 'No,-I', 'predicate': 'do-not-think', 'object': 'so.-I-think-it-has-to-do-with-the-fact-that-you-are-responsible-for-the-care-of-the-child.'}\n",
      "initial triple: {'subject': 'No,-I', 'predicate': 'do-not-think', 'object': 'so.-I-think-it-has-to-do-with-the-fact-that-you-are-responsible-for-the-care-of-the-child.'}\n",
      "initial triple: {'subject': 'No,-I', 'predicate': 'do-not-think', 'object': 'so.-I-think-it-has-to-do-with-the-fact-that-you-are-responsible-for-the-care-of-the-child.'}\n",
      "initial triple: {'subject': 'No,-I', 'predicate': 'do-not-think', 'object': 'so.-I-think-it-has-to-do-with-the-fact-that-you-are-responsible-for-the-care-of-the-child.'}\n",
      "initial triple: {'subject': 'No,-I', 'predicate': 'do-not-think', 'object': 'so.-I-think-it-has-to-do-with-the-fact-that-you-are-responsible-for-the-care-of-the-child.'}\n",
      "initial triple: {'subject': 'No,-I', 'predicate': 'do-not-think', 'object': 'so.-I-think-it-has-to-do-with-the-fact-that-you-are-responsible-for-the-care-of-the-child.'}\n",
      "initial triple: {'subject': 'No,-I', 'predicate': 'do-not-think', 'object': 'so.-I-think-it-has-to-do-with-the-fact-that-you-are-responsible-for-the-care-of-the-child.'}\n",
      "initial triple: {'subject': 'No,-I', 'predicate': 'do-not-think', 'object': 'so.-I-think-it-has-to-do-with-the-fact-that-you-are-responsible-for-the-care-of-the-child.'}\n",
      "initial triple: {'subject': 'No,-I', 'predicate': 'do-not-think', 'object': 'so.-I-think-it-has-to-do-with-the-fact-that-you-are-responsible-for-the-care-of-the-child.'}\n",
      "initial triple: {'subject': 'No,-I', 'predicate': 'do-not-think', 'object': 'so.-I-think-it-has-to-do-with-the-fact-that-you-are-responsible-for-the-care-of-the-child.'}\n",
      "initial triple: {'subject': 'No,-I', 'predicate': 'do-not-think', 'object': 'so.-I-think-it-has-to-do-with-the-fact-that-you-are-responsible-for-the-care-of-the-child.'}\n",
      "initial triple: {'subject': 'No,-I', 'predicate': 'do-not-think', 'object': 'so.-I-think-it-has-to-do-with-the-fact-that-you-are-responsible-for-the-care-of-the-child.'}\n",
      "initial triple: {'subject': 'No,-I', 'predicate': 'do-not-think', 'object': 'so.-I-think-it-has-to-do-with-the-fact-that-you-are-responsible-for-the-care-of-the-child.'}\n",
      "initial triple: {'subject': 'No,-I', 'predicate': 'do-not-think', 'object': 'so.-I-think-it-has-to-do-with-the-fact-that-you-are-responsible-for-the-care-of-the-child.'}\n",
      "initial triple: {'subject': 'No,-I', 'predicate': 'do-not-think', 'object': 'so.-I-think-it-has-to-do-with-the-fact-that-you-are-responsible-for-the-care-of-the-child.'}\n",
      "initial triple: {'subject': 'No,-I', 'predicate': 'do-not-think', 'object': 'so.-I-think-it-has-to-do-with-the-fact-that-you-are-responsible-for-the-care-of-the-child.'}\n",
      "initial triple: {'subject': 'No,-I', 'predicate': 'do-not-think', 'object': 'so.-I-think-it-has-to-do-with-the-fact-that-you-are-responsible-for-the-care-of-the-child.'}\n",
      "initial triple: {'subject': 'No,-I', 'predicate': 'do-not-think', 'object': 'so.-I-think-it-has-to-do-with-the-fact-that-you-are-responsible-for-the-care-of-the-child.'}\n",
      "initial triple: {'subject': 'No,-I', 'predicate': 'do-not-think', 'object': 'so.-I-think-it-has-to-do-with-the-fact-that-you-are-responsible-for-the-care-of-the-child.'}\n",
      "initial triple: {'subject': 'No,-I', 'predicate': 'do-not-think', 'object': 'so.-I-think-it-has-to-do-with-the-fact-that-you-are-responsible-for-the-care-of-the-child.'}\n",
      "initial triple: {'subject': 'No,-I', 'predicate': 'do-not-think', 'object': 'so.-I-think-it-has-to-do-with-the-fact-that-you-are-responsible-for-the-care-of-the-child.'}\n",
      "initial triple: {'subject': 'No,-I', 'predicate': 'do-not-think', 'object': 'so.-I-think-it-has-to-do-with-the-fact-that-you-are-responsible-for-the-care-of-the-child.'}\n",
      "initial triple: {'subject': 'No,-I', 'predicate': 'do-not-think', 'object': 'so.-I-think-it-has-to-do-with-the-fact-that-you-are-responsible-for-the-care-of-the-child.'}\n",
      "initial triple: {'subject': 'No,-I', 'predicate': 'do-not-think', 'object': 'so.-I-think-it-has-to-do-with-the-fact-that-you-are-responsible-for-the-care-of-the-child.'}\n",
      "initial triple: {'subject': 'No,-I', 'predicate': 'do-not-think', 'object': 'so.-I-think-it-has-to-do-with-the-fact-that-you-are-responsible-for-the-care-of-the-child.'}\n",
      "initial triple: {'subject': 'No,-I', 'predicate': 'do-not-think', 'object': 'so.-I-think-it-has-to-do-with-the-fact-that-you-are-responsible-for-the-care-of-the-child.'}\n",
      "initial triple: {'subject': 'No,-I', 'predicate': 'do-not-think', 'object': 'so.-I-think-it-has-to-do-with-the-fact-that-you-are-responsible-for-the-care-of-the-child.'}\n",
      "initial triple: {'subject': 'No,-I', 'predicate': 'do-not-think', 'object': 'so.-I-think-it-has-to-do-with-the-fact-that-you-are-responsible-for-the-care-of-the-child.'}\n",
      "initial triple: {'subject': 'No,-I', 'predicate': 'do-not-think', 'object': 'so.-I-think-it-has-to-do-with-the-fact-that-you-are-responsible-for-the-care-of-the-child.'}\n",
      "initial triple: {'subject': 'No,-I', 'predicate': 'do-not-think', 'object': 'so.-I-think-it-has-to-do-with-the-fact-that-you-are-responsible-for-the-care-of-the-child.'}\n",
      "initial triple: {'subject': 'No,-I', 'predicate': 'do-not-think', 'object': 'so.-I-think-it-has-to-do-with-the-fact-that-you-are-responsible-for-the-care-of-the-child.'}\n",
      "initial triple: {'subject': 'No,-I', 'predicate': 'do-not-think', 'object': 'so.-I-think-it-has-to-do-with-the-fact-that-you-are-responsible-for-the-care-of-the-child.'}\n",
      "initial triple: {'subject': 'No,-I', 'predicate': 'do-not-think', 'object': 'so.-I-think-it-has-to-do-with-the-fact-that-you-are-responsible-for-the-care-of-the-child.'}\n",
      "initial triple: {'subject': 'No,-I', 'predicate': 'do-not-think', 'object': 'so.-I-think-it-has-to-do-with-the-fact-that-you-are-responsible-for-the-care-of-the-child.'}\n",
      "initial triple: {'subject': 'No,-I', 'predicate': 'do-not-think', 'object': 'so.-I-think-it-has-to-do-with-the-fact-that-you-are-responsible-for-the-care-of-the-child.'}\n",
      "initial triple: {'subject': 'No,-I', 'predicate': 'do-not-think', 'object': 'so.-I-think-it-has-to-do-with-the-fact-that-you-are-responsible-for-the-care-of-the-child.'}\n",
      "initial triple: {'subject': 'No,-I', 'predicate': 'do-not-think', 'object': 'so.-I-think-it-has-to-do-with-the-fact-that-you-are-responsible-for-the-care-of-the-child.'}\n",
      "initial triple: {'subject': 'No,-I', 'predicate': 'do-not-think', 'object': 'so.-I-think-it-has-to-do-with-the-fact-that-you-are-responsible-for-the-care-of-the-child.'}\n",
      "initial triple: {'subject': 'No,-I', 'predicate': 'do-not-think', 'object': 'so.-I-think-it-has-to-do-with-the-fact-that-you-are-responsible-for-the-care-of-the-child.'}\n",
      "initial triple: {'subject': 'No,-I', 'predicate': 'do-not-think', 'object': 'so.-I-think-it-has-to-do-with-the-fact-that-you-are-responsible-for-the-care-of-the-child.'}\n",
      "initial triple: {'subject': 'No,-I', 'predicate': 'do-not-think', 'object': 'so.-I-think-it-has-to-do-with-the-fact-that-you-are-responsible-for-the-care-of-the-child.'}\n",
      "initial triple: {'subject': 'No,-I', 'predicate': 'do-not-think', 'object': 'so.-I-think-it-has-to-do-with-the-fact-that-you-are-responsible-for-the-care-of-the-child.'}\n",
      "initial triple: {'subject': 'No,-I', 'predicate': 'do-not-think', 'object': 'so.-I-think-it-has-to-do-with-the-fact-that-you-are-responsible-for-the-care-of-the-child.'}\n",
      "initial triple: {'subject': 'No,-I', 'predicate': 'do-not-think', 'object': 'so.-I-think-it-has-to-do-with-the-fact-that-you-are-responsible-for-the-care-of-the-child.'}\n",
      "initial triple: {'subject': 'No,-I', 'predicate': 'do-not-think', 'object': 'so.-I-think-it-has-to-do-with-the-fact-that-you-are-responsible-for-the-care-of-the-child.'}\n",
      "initial triple: {'subject': 'No,-I', 'predicate': 'do-not-think', 'object': 'so.-I-think-it-has-to-do-with-the-fact-that-you-are-responsible-for-the-care-of-the-child.'}\n",
      "initial triple: {'subject': 'No,-I', 'predicate': 'do-not-think', 'object': 'so.-I-think-it-has-to-do-with-the-fact-that-you-are-responsible-for-the-care-of-the-child.'}\n",
      "initial triple: {'subject': 'No,-I', 'predicate': 'do-not-think', 'object': 'so.-I-think-it-has-to-do-with-the-fact-that-you-are-responsible-for-the-care-of-the-child.'}\n",
      "initial triple: {'subject': 'No,-I', 'predicate': 'do-not-think', 'object': 'so.-I-think-it-has-to-do-with-the-fact-that-you-are-responsible-for-the-care-of-the-child.'}\n",
      "initial triple: {'subject': 'No,-I', 'predicate': 'do-not-think', 'object': 'so.-I-think-it-has-to-do-with-the-fact-that-you-are-responsible-for-the-care-of-the-child.'}\n",
      "initial triple: {'subject': 'No,-I', 'predicate': 'do-not-think', 'object': 'so.-I-think-it-has-to-do-with-the-fact-that-you-are-responsible-for-the-care-of-the-child.'}\n",
      "initial triple: {'subject': 'No,-I', 'predicate': 'do-not-think', 'object': 'so.-I-think-it-has-to-do-with-the-fact-that-you-are-responsible-for-the-care-of-the-child.'}\n",
      "initial triple: {'subject': 'No,-I', 'predicate': 'do-not-think', 'object': 'so.-I-think-it-has-to-do-with-the-fact-that-you-are-responsible-for-the-care-of-the-child.'}\n",
      "initial triple: {'subject': 'No,-I', 'predicate': 'do-not-think', 'object': 'so.-I-think-it-has-to-do-with-the-fact-that-you-are-responsible-for-the-care-of-the-child.'}\n",
      "initial triple: {'subject': 'No,-I', 'predicate': 'do-not-think', 'object': 'so.-I-think-it-has-to-do-with-the-fact-that-you-are-responsible-for-the-care-of-the-child.'}\n",
      "initial triple: {'subject': 'No,-I', 'predicate': 'do-not-think', 'object': 'so.-I-think-it-has-to-do-with-the-fact-that-you-are-responsible-for-the-care-of-the-child.'}\n",
      "initial triple: {'subject': 'No,-I', 'predicate': 'do-not-think', 'object': 'so.-I-think-it-has-to-do-with-the-fact-that-you-are-responsible-for-the-care-of-the-child.'}\n",
      "initial triple: {'subject': 'No,-I', 'predicate': 'do-not-think', 'object': 'so.-I-think-it-has-to-do-with-the-fact-that-you-are-responsible-for-the-care-of-the-child.'}\n",
      "initial triple: {'subject': 'No,-I', 'predicate': 'do-not-think', 'object': 'so.-I-think-it-has-to-do-with-the-fact-that-you-are-responsible-for-the-care-of-the-child.'}\n",
      "initial triple: {'subject': 'No,-I', 'predicate': 'do-not-think', 'object': 'so.-I-think-it-has-to-do-with-the-fact-that-you-are-responsible-for-the-care-of-the-child.'}\n",
      "initial triple: {'subject': 'No,-I', 'predicate': 'do-not-think', 'object': 'so.-I-think-it-has-to-do-with-the-fact-that-you-are-responsible-for-the-care-of-the-child.'}\n",
      "initial triple: {'subject': 'No,-I', 'predicate': 'do-not-think', 'object': 'so.-I-think-it-has-to-do-with-the-fact-that-you-are-responsible-for-the-care-of-the-child.'}\n",
      "initial triple: {'subject': 'No,-I', 'predicate': 'do-not-think', 'object': 'so.-I-think-it-has-to-do-with-the-fact-that-you-are-responsible-for-the-care-of-the-child.'}\n",
      "initial triple: {'subject': 'No,-I', 'predicate': 'do-not-think', 'object': 'so.-I-think-it-has-to-do-with-the-fact-that-you-are-responsible-for-the-care-of-the-child.'}\n",
      "initial triple: {'subject': 'No,-I', 'predicate': 'do-not-think', 'object': 'so.-I-think-it-has-to-do-with-the-fact-that-you-are-responsible-for-the-care-of-the-child.'}\n",
      "initial triple: {'subject': 'No,-I', 'predicate': 'do-not-think', 'object': 'so.-I-think-it-has-to-do-with-the-fact-that-you-are-responsible-for-the-care-of-the-child.'}\n",
      "initial triple: {'subject': 'No,-I', 'predicate': 'do-not-think', 'object': 'so.-I-think-it-has-to-do-with-the-fact-that-you-are-responsible-for-the-care-of-the-child.'}\n",
      "initial triple: {'subject': 'No,-I', 'predicate': 'do-not-think', 'object': 'so.-I-think-it-has-to-do-with-the-fact-that-you-are-responsible-for-the-care-of-the-child.'}\n",
      "initial triple: {'subject': 'No,-I', 'predicate': 'do-not-think', 'object': 'so.-I-think-it-has-to-do-with-the-fact-that-you-are-responsible-for-the-care-of-the-child.'}\n",
      "initial triple: {'subject': 'No,-I', 'predicate': 'do-not-think', 'object': 'so.-I-think-it-has-to-do-with-the-fact-that-you-are-responsible-for-the-care-of-the-child.'}\n",
      "initial triple: {'subject': 'No,-I', 'predicate': 'do-not-think', 'object': 'so.-I-think-it-has-to-do-with-the-fact-that-you-are-responsible-for-the-care-of-the-child.'}\n",
      "initial triple: {'subject': 'No,-I', 'predicate': 'do-not-think', 'object': 'so.-I-think-it-has-to-do-with-the-fact-that-you-are-responsible-for-the-care-of-the-child.'}\n",
      "initial triple: {'subject': 'No,-I', 'predicate': 'do-not-think', 'object': 'so.-I-think-it-has-to-do-with-the-fact-that-you-are-responsible-for-the-care-of-the-child.'}\n",
      "initial triple: {'subject': 'No,-I', 'predicate': 'do-not-think', 'object': 'so.-I-think-it-has-to-do-with-the-fact-that-you-are-responsible-for-the-care-of-the-child.'}\n",
      "initial triple: {'subject': 'No,-I', 'predicate': 'do-not-think', 'object': 'so.-I-think-it-has-to-do-with-the-fact-that-you-are-responsible-for-the-care-of-the-child.'}\n",
      "initial triple: {'subject': 'No,-I', 'predicate': 'do-not-think', 'object': 'so.-I-think-it-has-to-do-with-the-fact-that-you-are-responsible-for-the-care-of-the-child.'}\n"
     ]
    },
    {
     "name": "stderr",
     "output_type": "stream",
     "text": [
      "Couldn't parse input\n"
     ]
    },
    {
     "name": "stdout",
     "output_type": "stream",
     "text": [
      "initial triple: {'subject': 'No,-I', 'predicate': 'do-not-think', 'object': 'so.-I-think-it-has-to-do-with-the-fact-that-you-are-responsible-for-the-care-of-the-child.'}\n"
     ]
    },
    {
     "name": "stderr",
     "output_type": "stream",
     "text": [
      "Couldn't parse input\n",
      "Couldn't parse input\n",
      "Couldn't parse input\n",
      "Couldn't parse input\n",
      "Couldn't parse input\n",
      "Couldn't parse input\n",
      "Couldn't parse input\n",
      "Couldn't parse input\n",
      "Couldn't parse input\n",
      "Couldn't parse input\n",
      "Couldn't parse input\n",
      "Couldn't parse input\n",
      "Couldn't parse input\n",
      "Couldn't parse input\n",
      "Couldn't parse input\n",
      "Couldn't parse input\n",
      "Couldn't parse input\n",
      "Couldn't parse input\n",
      "Couldn't parse input\n",
      "Couldn't parse input\n",
      "Couldn't parse input\n",
      "Couldn't parse input\n",
      "Couldn't parse input\n",
      "Couldn't parse input\n",
      "Couldn't parse input\n",
      "Couldn't parse input\n",
      "Couldn't parse input\n",
      "Couldn't parse input\n",
      "Couldn't parse input\n",
      "Couldn't parse input\n",
      "Couldn't parse input\n",
      "Couldn't parse input\n",
      "Couldn't parse input\n",
      "Couldn't parse input\n",
      "Couldn't parse input\n",
      "Couldn't parse input\n",
      "Couldn't parse input\n",
      "Couldn't parse input\n",
      "Couldn't parse input\n",
      "Couldn't parse input\n",
      "Couldn't parse input\n",
      "Couldn't parse input\n",
      "Couldn't parse input\n",
      "Couldn't parse input\n",
      "Couldn't parse input\n",
      "Couldn't parse input\n",
      "Couldn't parse input\n",
      "Couldn't parse input\n",
      "Couldn't parse input\n",
      "Couldn't parse input\n",
      "Couldn't parse input\n",
      "Couldn't parse input\n",
      "Couldn't parse input\n",
      "Couldn't parse input\n",
      "Couldn't parse input\n",
      "Couldn't parse input\n",
      "Couldn't parse input\n",
      "Couldn't parse input\n",
      "Couldn't parse input\n",
      "Couldn't parse input\n",
      "Couldn't parse input\n",
      "Couldn't parse input\n",
      "Couldn't parse input\n",
      "Couldn't parse input\n",
      "Couldn't parse input\n",
      "Couldn't parse input\n",
      "Couldn't parse input\n",
      "Couldn't parse input\n",
      "Couldn't parse input\n",
      "Couldn't parse input\n",
      "Couldn't parse input\n",
      "Couldn't parse input\n",
      "Couldn't parse input\n",
      "Couldn't parse input\n",
      "Couldn't parse input\n",
      "Couldn't parse input\n",
      "Couldn't parse input\n",
      "Couldn't parse input\n",
      "Couldn't parse input\n",
      "Couldn't parse input\n",
      "Couldn't parse input\n",
      "Couldn't parse input\n",
      "Couldn't parse input\n",
      "Couldn't parse input\n",
      "Couldn't parse input\n",
      "Couldn't parse input\n",
      "Couldn't parse input\n",
      "Couldn't parse input\n",
      "Couldn't parse input\n",
      "Couldn't parse input\n",
      "Couldn't parse input\n",
      "Couldn't parse input\n",
      "Couldn't parse input\n",
      "Couldn't parse input\n",
      "Couldn't parse input\n",
      "Couldn't parse input\n",
      "Couldn't parse input\n",
      "Couldn't parse input\n",
      "Couldn't parse input\n",
      "Couldn't parse input\n",
      "Couldn't parse input\n",
      "Couldn't parse input\n",
      "Couldn't parse input\n",
      "Couldn't parse input\n",
      "Couldn't parse input\n",
      "Couldn't parse input\n",
      "Couldn't parse input\n",
      "Couldn't parse input\n",
      "Couldn't parse input\n",
      "Couldn't parse input\n",
      "Couldn't parse input\n",
      "Couldn't parse input\n",
      "Couldn't parse input\n",
      "Couldn't parse input\n",
      "Couldn't parse input\n",
      "Couldn't parse input\n",
      "Couldn't parse input\n",
      "Couldn't parse input\n",
      "Couldn't parse input\n",
      "Couldn't parse input\n",
      "Couldn't parse input\n",
      "Couldn't parse input\n",
      "Couldn't parse input\n",
      "Couldn't parse input\n",
      "Couldn't parse input\n",
      "Couldn't parse input\n",
      "Couldn't parse input\n",
      "Couldn't parse input\n",
      "Couldn't parse input\n",
      "Couldn't parse input\n",
      "Couldn't parse input\n",
      "Couldn't parse input\n",
      "Couldn't parse input\n",
      "Couldn't parse input\n",
      "Couldn't parse input\n",
      "Couldn't parse input\n",
      "Couldn't parse input\n",
      "Couldn't parse input\n",
      "Couldn't parse input\n",
      "Couldn't parse input\n",
      "Couldn't parse input\n",
      "Couldn't parse input\n",
      "Couldn't parse input\n",
      "Couldn't parse input\n",
      "Couldn't parse input\n",
      "Couldn't parse input\n",
      "Couldn't parse input\n",
      "Couldn't parse input\n",
      "Couldn't parse input\n",
      "Couldn't parse input\n",
      "Couldn't parse input\n",
      "Couldn't parse input\n",
      "Couldn't parse input\n",
      "Couldn't parse input\n",
      "Couldn't parse input\n",
      "Couldn't parse input\n",
      "Couldn't parse input\n",
      "Couldn't parse input\n",
      "Couldn't parse input\n",
      "Couldn't parse input\n",
      "Couldn't parse input\n",
      "Couldn't parse input\n",
      "Couldn't parse input\n",
      "Couldn't parse input\n",
      "Couldn't parse input\n",
      "Couldn't parse input\n",
      "Couldn't parse input\n",
      "Couldn't parse input\n",
      "Couldn't parse input\n",
      "Couldn't parse input\n",
      "Couldn't parse input\n",
      "Couldn't parse input\n",
      "Couldn't parse input\n",
      "Couldn't parse input\n",
      "Couldn't parse input\n",
      "Couldn't parse input\n",
      "Couldn't parse input\n",
      "Couldn't parse input\n",
      "Couldn't parse input\n",
      "Couldn't parse input\n",
      "Couldn't parse input\n",
      "Couldn't parse input\n",
      "Couldn't parse input\n",
      "Couldn't parse input\n",
      "Couldn't parse input\n",
      "Couldn't parse input\n",
      "Couldn't parse input\n",
      "Couldn't parse input\n",
      "Couldn't parse input\n",
      "Couldn't parse input\n",
      "Couldn't parse input\n",
      "Couldn't parse input\n"
     ]
    },
    {
     "name": "stdout",
     "output_type": "stream",
     "text": [
      "initial triple: {'subject': 'No,-I', 'predicate': 'do-not-think', 'object': 'so.-I-think-it-has-to-do-with-the-fact-that-you-are-responsible-for-the-care-of-the-child.'}\n",
      "initial triple: {'subject': 'No,-I', 'predicate': 'do-not-think', 'object': 'so.-I-think-it-has-to-do-with-the-fact-that-you-are-responsible-for-the-care-of-the-child.'}\n",
      "initial triple: {'subject': 'No,-I', 'predicate': 'do-not-think', 'object': 'so.-I-think-it-has-to-do-with-the-fact-that-you-are-responsible-for-the-care-of-the-child.'}\n",
      "initial triple: {'subject': 'No,-I', 'predicate': 'do-not-think', 'object': 'so.-I-think-it-has-to-do-with-the-fact-that-you-are-responsible-for-the-care-of-the-child.'}\n",
      "initial triple: {'subject': 'No,-I', 'predicate': 'do-not-think', 'object': 'so.-I-think-it-has-to-do-with-the-fact-that-you-are-responsible-for-the-care-of-the-child.'}\n",
      "initial triple: {'subject': 'No,-I', 'predicate': 'do-not-think', 'object': 'so.-I-think-it-has-to-do-with-the-fact-that-you-are-responsible-for-the-care-of-the-child.'}\n",
      "initial triple: {'subject': 'No,-I', 'predicate': 'do-not-think', 'object': 'so.-I-think-it-has-to-do-with-the-fact-that-you-are-responsible-for-the-care-of-the-child.'}\n",
      "initial triple: {'subject': 'No,-I', 'predicate': 'do-not-think', 'object': 'so.-I-think-it-has-to-do-with-the-fact-that-you-are-responsible-for-the-care-of-the-child.'}\n",
      "initial triple: {'subject': 'No,-I', 'predicate': 'do-not-think', 'object': 'so.-I-think-it-has-to-do-with-the-fact-that-you-are-responsible-for-the-care-of-the-child.'}\n",
      "initial triple: {'subject': 'No,-I', 'predicate': 'do-not-think', 'object': 'so.-I-think-it-has-to-do-with-the-fact-that-you-are-responsible-for-the-care-of-the-child.'}\n",
      "initial triple: {'subject': 'No,-I', 'predicate': 'do-not-think', 'object': 'so.-I-think-it-has-to-do-with-the-fact-that-you-are-responsible-for-the-care-of-the-child.'}\n",
      "initial triple: {'subject': 'No,-I', 'predicate': 'do-not-think', 'object': 'so.-I-think-it-has-to-do-with-the-fact-that-you-are-responsible-for-the-care-of-the-child.'}\n",
      "initial triple: {'subject': 'No,-I', 'predicate': 'do-not-think', 'object': 'so.-I-think-it-has-to-do-with-the-fact-that-you-are-responsible-for-the-care-of-the-child.'}\n",
      "initial triple: {'subject': 'No,-I', 'predicate': 'do-not-think', 'object': 'so.-I-think-it-has-to-do-with-the-fact-that-you-are-responsible-for-the-care-of-the-child.'}\n",
      "initial triple: {'subject': 'No,-I', 'predicate': 'do-not-think', 'object': 'so.-I-think-it-has-to-do-with-the-fact-that-you-are-responsible-for-the-care-of-the-child.'}\n",
      "initial triple: {'subject': 'No,-I', 'predicate': 'do-not-think', 'object': 'so.-I-think-it-has-to-do-with-the-fact-that-you-are-responsible-for-the-care-of-the-child.'}\n",
      "initial triple: {'subject': 'No,-I', 'predicate': 'do-not-think', 'object': 'so.-I-think-it-has-to-do-with-the-fact-that-you-are-responsible-for-the-care-of-the-child.'}\n",
      "initial triple: {'subject': 'No,-I', 'predicate': 'do-not-think', 'object': 'so.-I-think-it-has-to-do-with-the-fact-that-you-are-responsible-for-the-care-of-the-child.'}\n",
      "initial triple: {'subject': 'No,-I', 'predicate': 'do-not-think', 'object': 'so.-I-think-it-has-to-do-with-the-fact-that-you-are-responsible-for-the-care-of-the-child.'}\n",
      "initial triple: {'subject': 'No,-I', 'predicate': 'do-not-think', 'object': 'so.-I-think-it-has-to-do-with-the-fact-that-you-are-responsible-for-the-care-of-the-child.'}\n",
      "initial triple: {'subject': 'No,-I', 'predicate': 'do-not-think', 'object': 'so.-I-think-it-has-to-do-with-the-fact-that-you-are-responsible-for-the-care-of-the-child.'}\n",
      "initial triple: {'subject': 'No,-I', 'predicate': 'do-not-think', 'object': 'so.-I-think-it-has-to-do-with-the-fact-that-you-are-responsible-for-the-care-of-the-child.'}\n",
      "initial triple: {'subject': 'No,-I', 'predicate': 'do-not-think', 'object': 'so.-I-think-it-has-to-do-with-the-fact-that-you-are-responsible-for-the-care-of-the-child.'}\n",
      "initial triple: {'subject': 'No,-I', 'predicate': 'do-not-think', 'object': 'so.-I-think-it-has-to-do-with-the-fact-that-you-are-responsible-for-the-care-of-the-child.'}\n",
      "initial triple: {'subject': 'No,-I', 'predicate': 'do-not-think', 'object': 'so.-I-think-it-has-to-do-with-the-fact-that-you-are-responsible-for-the-care-of-the-child.'}\n",
      "initial triple: {'subject': 'No,-I', 'predicate': 'do-not-think', 'object': 'so.-I-think-it-has-to-do-with-the-fact-that-you-are-responsible-for-the-care-of-the-child.'}\n",
      "initial triple: {'subject': 'No,-I', 'predicate': 'do-not-think', 'object': 'so.-I-think-it-has-to-do-with-the-fact-that-you-are-responsible-for-the-care-of-the-child.'}\n",
      "initial triple: {'subject': 'No,-I', 'predicate': 'do-not-think', 'object': 'so.-I-think-it-has-to-do-with-the-fact-that-you-are-responsible-for-the-care-of-the-child.'}\n",
      "initial triple: {'subject': 'No,-I', 'predicate': 'do-not-think', 'object': 'so.-I-think-it-has-to-do-with-the-fact-that-you-are-responsible-for-the-care-of-the-child.'}\n",
      "initial triple: {'subject': 'No,-I', 'predicate': 'do-not-think', 'object': 'so.-I-think-it-has-to-do-with-the-fact-that-you-are-responsible-for-the-care-of-the-child.'}\n",
      "initial triple: {'subject': 'No,-I', 'predicate': 'do-not-think', 'object': 'so.-I-think-it-has-to-do-with-the-fact-that-you-are-responsible-for-the-care-of-the-child.'}\n",
      "initial triple: {'subject': 'No,-I', 'predicate': 'do-not-think', 'object': 'so.-I-think-it-has-to-do-with-the-fact-that-you-are-responsible-for-the-care-of-the-child.'}\n",
      "initial triple: {'subject': 'No,-I', 'predicate': 'do-not-think', 'object': 'so.-I-think-it-has-to-do-with-the-fact-that-you-are-responsible-for-the-care-of-the-child.'}\n",
      "initial triple: {'subject': 'No,-I', 'predicate': 'do-not-think', 'object': 'so.-I-think-it-has-to-do-with-the-fact-that-you-are-responsible-for-the-care-of-the-child.'}\n",
      "initial triple: {'subject': 'No,-I', 'predicate': 'do-not-think', 'object': 'so.-I-think-it-has-to-do-with-the-fact-that-you-are-responsible-for-the-care-of-the-child.'}\n",
      "initial triple: {'subject': 'No,-I', 'predicate': 'do-not-think', 'object': 'so.-I-think-it-has-to-do-with-the-fact-that-you-are-responsible-for-the-care-of-the-child.'}\n",
      "initial triple: {'subject': 'No,-I', 'predicate': 'do-not-think', 'object': 'so.-I-think-it-has-to-do-with-the-fact-that-you-are-responsible-for-the-care-of-the-child.'}\n",
      "initial triple: {'subject': 'No,-I', 'predicate': 'do-not-think', 'object': 'so.-I-think-it-has-to-do-with-the-fact-that-you-are-responsible-for-the-care-of-the-child.'}\n",
      "initial triple: {'subject': 'No,-I', 'predicate': 'do-not-think', 'object': 'so.-I-think-it-has-to-do-with-the-fact-that-you-are-responsible-for-the-care-of-the-child.'}\n",
      "initial triple: {'subject': 'No,-I', 'predicate': 'do-not-think', 'object': 'so.-I-think-it-has-to-do-with-the-fact-that-you-are-responsible-for-the-care-of-the-child.'}\n",
      "initial triple: {'subject': 'No,-I', 'predicate': 'do-not-think', 'object': 'so.-I-think-it-has-to-do-with-the-fact-that-you-are-responsible-for-the-care-of-the-child.'}\n",
      "initial triple: {'subject': 'No,-I', 'predicate': 'do-not-think', 'object': 'so.-I-think-it-has-to-do-with-the-fact-that-you-are-responsible-for-the-care-of-the-child.'}\n",
      "initial triple: {'subject': 'No,-I', 'predicate': 'do-not-think', 'object': 'so.-I-think-it-has-to-do-with-the-fact-that-you-are-responsible-for-the-care-of-the-child.'}\n",
      "initial triple: {'subject': 'No,-I', 'predicate': 'do-not-think', 'object': 'so.-I-think-it-has-to-do-with-the-fact-that-you-are-responsible-for-the-care-of-the-child.'}\n",
      "initial triple: {'subject': 'No,-I', 'predicate': 'do-not-think', 'object': 'so.-I-think-it-has-to-do-with-the-fact-that-you-are-responsible-for-the-care-of-the-child.'}\n",
      "initial triple: {'subject': 'No,-I', 'predicate': 'do-not-think', 'object': 'so.-I-think-it-has-to-do-with-the-fact-that-you-are-responsible-for-the-care-of-the-child.'}\n",
      "initial triple: {'subject': 'No,-I', 'predicate': 'do-not-think', 'object': 'so.-I-think-it-has-to-do-with-the-fact-that-you-are-responsible-for-the-care-of-the-child.'}\n",
      "initial triple: {'subject': 'No,-I', 'predicate': 'do-not-think', 'object': 'so.-I-think-it-has-to-do-with-the-fact-that-you-are-responsible-for-the-care-of-the-child.'}\n",
      "initial triple: {'subject': 'No,-I', 'predicate': 'do-not-think', 'object': 'so.-I-think-it-has-to-do-with-the-fact-that-you-are-responsible-for-the-care-of-the-child.'}\n",
      "initial triple: {'subject': 'No,-I', 'predicate': 'do-not-think', 'object': 'so.-I-think-it-has-to-do-with-the-fact-that-you-are-responsible-for-the-care-of-the-child.'}\n",
      "initial triple: {'subject': 'No,-I', 'predicate': 'do-not-think', 'object': 'so.-I-think-it-has-to-do-with-the-fact-that-you-are-responsible-for-the-care-of-the-child.'}\n",
      "initial triple: {'subject': 'No,-I', 'predicate': 'do-not-think', 'object': 'so.-I-think-it-has-to-do-with-the-fact-that-you-are-responsible-for-the-care-of-the-child.'}\n",
      "initial triple: {'subject': 'No,-I', 'predicate': 'do-not-think', 'object': 'so.-I-think-it-has-to-do-with-the-fact-that-you-are-responsible-for-the-care-of-the-child.'}\n",
      "initial triple: {'subject': 'No,-I', 'predicate': 'do-not-think', 'object': 'so.-I-think-it-has-to-do-with-the-fact-that-you-are-responsible-for-the-care-of-the-child.'}\n",
      "initial triple: {'subject': 'No,-I', 'predicate': 'do-not-think', 'object': 'so.-I-think-it-has-to-do-with-the-fact-that-you-are-responsible-for-the-care-of-the-child.'}\n",
      "initial triple: {'subject': 'No,-I', 'predicate': 'do-not-think', 'object': 'so.-I-think-it-has-to-do-with-the-fact-that-you-are-responsible-for-the-care-of-the-child.'}\n",
      "initial triple: {'subject': 'No,-I', 'predicate': 'do-not-think', 'object': 'so.-I-think-it-has-to-do-with-the-fact-that-you-are-responsible-for-the-care-of-the-child.'}\n",
      "initial triple: {'subject': 'No,-I', 'predicate': 'do-not-think', 'object': 'so.-I-think-it-has-to-do-with-the-fact-that-you-are-responsible-for-the-care-of-the-child.'}\n",
      "initial triple: {'subject': 'No,-I', 'predicate': 'do-not-think', 'object': 'so.-I-think-it-has-to-do-with-the-fact-that-you-are-responsible-for-the-care-of-the-child.'}\n",
      "initial triple: {'subject': 'No,-I', 'predicate': 'do-not-think', 'object': 'so.-I-think-it-has-to-do-with-the-fact-that-you-are-responsible-for-the-care-of-the-child.'}\n",
      "initial triple: {'subject': 'No,-I', 'predicate': 'do-not-think', 'object': 'so.-I-think-it-has-to-do-with-the-fact-that-you-are-responsible-for-the-care-of-the-child.'}\n",
      "initial triple: {'subject': 'No,-I', 'predicate': 'do-not-think', 'object': 'so.-I-think-it-has-to-do-with-the-fact-that-you-are-responsible-for-the-care-of-the-child.'}\n",
      "initial triple: {'subject': 'No,-I', 'predicate': 'do-not-think', 'object': 'so.-I-think-it-has-to-do-with-the-fact-that-you-are-responsible-for-the-care-of-the-child.'}\n",
      "initial triple: {'subject': 'No,-I', 'predicate': 'do-not-think', 'object': 'so.-I-think-it-has-to-do-with-the-fact-that-you-are-responsible-for-the-care-of-the-child.'}\n",
      "initial triple: {'subject': 'No,-I', 'predicate': 'do-not-think', 'object': 'so.-I-think-it-has-to-do-with-the-fact-that-you-are-responsible-for-the-care-of-the-child.'}\n",
      "initial triple: {'subject': 'No,-I', 'predicate': 'do-not-think', 'object': 'so.-I-think-it-has-to-do-with-the-fact-that-you-are-responsible-for-the-care-of-the-child.'}\n",
      "initial triple: {'subject': 'No,-I', 'predicate': 'do-not-think', 'object': 'so.-I-think-it-has-to-do-with-the-fact-that-you-are-responsible-for-the-care-of-the-child.'}\n",
      "initial triple: {'subject': 'No,-I', 'predicate': 'do-not-think', 'object': 'so.-I-think-it-has-to-do-with-the-fact-that-you-are-responsible-for-the-care-of-the-child.'}\n",
      "initial triple: {'subject': 'No,-I', 'predicate': 'do-not-think', 'object': 'so.-I-think-it-has-to-do-with-the-fact-that-you-are-responsible-for-the-care-of-the-child.'}\n",
      "initial triple: {'subject': 'No,-I', 'predicate': 'do-not-think', 'object': 'so.-I-think-it-has-to-do-with-the-fact-that-you-are-responsible-for-the-care-of-the-child.'}\n",
      "initial triple: {'subject': 'No,-I', 'predicate': 'do-not-think', 'object': 'so.-I-think-it-has-to-do-with-the-fact-that-you-are-responsible-for-the-care-of-the-child.'}\n",
      "initial triple: {'subject': 'No,-I', 'predicate': 'do-not-think', 'object': 'so.-I-think-it-has-to-do-with-the-fact-that-you-are-responsible-for-the-care-of-the-child.'}\n",
      "initial triple: {'subject': 'No,-I', 'predicate': 'do-not-think', 'object': 'so.-I-think-it-has-to-do-with-the-fact-that-you-are-responsible-for-the-care-of-the-child.'}\n",
      "initial triple: {'subject': 'No,-I', 'predicate': 'do-not-think', 'object': 'so.-I-think-it-has-to-do-with-the-fact-that-you-are-responsible-for-the-care-of-the-child.'}\n",
      "initial triple: {'subject': 'No,-I', 'predicate': 'do-not-think', 'object': 'so.-I-think-it-has-to-do-with-the-fact-that-you-are-responsible-for-the-care-of-the-child.'}\n",
      "initial triple: {'subject': 'No,-I', 'predicate': 'do-not-think', 'object': 'so.-I-think-it-has-to-do-with-the-fact-that-you-are-responsible-for-the-care-of-the-child.'}\n",
      "initial triple: {'subject': 'No,-I', 'predicate': 'do-not-think', 'object': 'so.-I-think-it-has-to-do-with-the-fact-that-you-are-responsible-for-the-care-of-the-child.'}\n",
      "initial triple: {'subject': 'No,-I', 'predicate': 'do-not-think', 'object': 'so.-I-think-it-has-to-do-with-the-fact-that-you-are-responsible-for-the-care-of-the-child.'}\n",
      "initial triple: {'subject': 'No,-I', 'predicate': 'do-not-think', 'object': 'so.-I-think-it-has-to-do-with-the-fact-that-you-are-responsible-for-the-care-of-the-child.'}\n",
      "initial triple: {'subject': 'No,-I', 'predicate': 'do-not-think', 'object': 'so.-I-think-it-has-to-do-with-the-fact-that-you-are-responsible-for-the-care-of-the-child.'}\n",
      "initial triple: {'subject': 'No,-I', 'predicate': 'do-not-think', 'object': 'so.-I-think-it-has-to-do-with-the-fact-that-you-are-responsible-for-the-care-of-the-child.'}\n",
      "initial triple: {'subject': 'No,-I', 'predicate': 'do-not-think', 'object': 'so.-I-think-it-has-to-do-with-the-fact-that-you-are-responsible-for-the-care-of-the-child.'}\n",
      "initial triple: {'subject': 'No,-I', 'predicate': 'do-not-think', 'object': 'so.-I-think-it-has-to-do-with-the-fact-that-you-are-responsible-for-the-care-of-the-child.'}\n",
      "initial triple: {'subject': 'No,-I', 'predicate': 'do-not-think', 'object': 'so.-I-think-it-has-to-do-with-the-fact-that-you-are-responsible-for-the-care-of-the-child.'}\n",
      "initial triple: {'subject': 'No,-I', 'predicate': 'do-not-think', 'object': 'so.-I-think-it-has-to-do-with-the-fact-that-you-are-responsible-for-the-care-of-the-child.'}\n",
      "initial triple: {'subject': 'No,-I', 'predicate': 'do-not-think', 'object': 'so.-I-think-it-has-to-do-with-the-fact-that-you-are-responsible-for-the-care-of-the-child.'}\n",
      "initial triple: {'subject': 'No,-I', 'predicate': 'do-not-think', 'object': 'so.-I-think-it-has-to-do-with-the-fact-that-you-are-responsible-for-the-care-of-the-child.'}\n",
      "initial triple: {'subject': 'No,-I', 'predicate': 'do-not-think', 'object': 'so.-I-think-it-has-to-do-with-the-fact-that-you-are-responsible-for-the-care-of-the-child.'}\n",
      "initial triple: {'subject': 'No,-I', 'predicate': 'do-not-think', 'object': 'so.-I-think-it-has-to-do-with-the-fact-that-you-are-responsible-for-the-care-of-the-child.'}\n",
      "initial triple: {'subject': 'No,-I', 'predicate': 'do-not-think', 'object': 'so.-I-think-it-has-to-do-with-the-fact-that-you-are-responsible-for-the-care-of-the-child.'}\n",
      "initial triple: {'subject': 'No,-I', 'predicate': 'do-not-think', 'object': 'so.-I-think-it-has-to-do-with-the-fact-that-you-are-responsible-for-the-care-of-the-child.'}\n",
      "initial triple: {'subject': 'No,-I', 'predicate': 'do-not-think', 'object': 'so.-I-think-it-has-to-do-with-the-fact-that-you-are-responsible-for-the-care-of-the-child.'}\n",
      "initial triple: {'subject': 'No,-I', 'predicate': 'do-not-think', 'object': 'so.-I-think-it-has-to-do-with-the-fact-that-you-are-responsible-for-the-care-of-the-child.'}\n",
      "initial triple: {'subject': 'No,-I', 'predicate': 'do-not-think', 'object': 'so.-I-think-it-has-to-do-with-the-fact-that-you-are-responsible-for-the-care-of-the-child.'}\n",
      "initial triple: {'subject': 'No,-I', 'predicate': 'do-not-think', 'object': 'so.-I-think-it-has-to-do-with-the-fact-that-you-are-responsible-for-the-care-of-the-child.'}\n",
      "initial triple: {'subject': 'No,-I', 'predicate': 'do-not-think', 'object': 'so.-I-think-it-has-to-do-with-the-fact-that-you-are-responsible-for-the-care-of-the-child.'}\n",
      "initial triple: {'subject': 'No,-I', 'predicate': 'do-not-think', 'object': 'so.-I-think-it-has-to-do-with-the-fact-that-you-are-responsible-for-the-care-of-the-child.'}\n",
      "initial triple: {'subject': 'No,-I', 'predicate': 'do-not-think', 'object': 'so.-I-think-it-has-to-do-with-the-fact-that-you-are-responsible-for-the-care-of-the-child.'}\n",
      "initial triple: {'subject': 'No,-I', 'predicate': 'do-not-think', 'object': 'so.-I-think-it-has-to-do-with-the-fact-that-you-are-responsible-for-the-care-of-the-child.'}\n",
      "initial triple: {'subject': 'No,-I', 'predicate': 'do-not-think', 'object': 'so.-I-think-it-has-to-do-with-the-fact-that-you-are-responsible-for-the-care-of-the-child.'}\n",
      "initial triple: {'subject': 'No,-I', 'predicate': 'do-not-think', 'object': 'so.-I-think-it-has-to-do-with-the-fact-that-you-are-responsible-for-the-care-of-the-child.'}\n",
      "initial triple: {'subject': 'No,-I', 'predicate': 'do-not-think', 'object': 'so.-I-think-it-has-to-do-with-the-fact-that-you-are-responsible-for-the-care-of-the-child.'}\n",
      "initial triple: {'subject': 'No,-I', 'predicate': 'do-not-think', 'object': 'so.-I-think-it-has-to-do-with-the-fact-that-you-are-responsible-for-the-care-of-the-child.'}\n",
      "initial triple: {'subject': 'No,-I', 'predicate': 'do-not-think', 'object': 'so.-I-think-it-has-to-do-with-the-fact-that-you-are-responsible-for-the-care-of-the-child.'}\n",
      "initial triple: {'subject': 'No,-I', 'predicate': 'do-not-think', 'object': 'so.-I-think-it-has-to-do-with-the-fact-that-you-are-responsible-for-the-care-of-the-child.'}\n",
      "initial triple: {'subject': 'No,-I', 'predicate': 'do-not-think', 'object': 'so.-I-think-it-has-to-do-with-the-fact-that-you-are-responsible-for-the-care-of-the-child.'}\n",
      "initial triple: {'subject': 'No,-I', 'predicate': 'do-not-think', 'object': 'so.-I-think-it-has-to-do-with-the-fact-that-you-are-responsible-for-the-care-of-the-child.'}\n",
      "initial triple: {'subject': 'No,-I', 'predicate': 'do-not-think', 'object': 'so.-I-think-it-has-to-do-with-the-fact-that-you-are-responsible-for-the-care-of-the-child.'}\n",
      "initial triple: {'subject': 'No,-I', 'predicate': 'do-not-think', 'object': 'so.-I-think-it-has-to-do-with-the-fact-that-you-are-responsible-for-the-care-of-the-child.'}\n",
      "initial triple: {'subject': 'No,-I', 'predicate': 'do-not-think', 'object': 'so.-I-think-it-has-to-do-with-the-fact-that-you-are-responsible-for-the-care-of-the-child.'}\n",
      "initial triple: {'subject': 'No,-I', 'predicate': 'do-not-think', 'object': 'so.-I-think-it-has-to-do-with-the-fact-that-you-are-responsible-for-the-care-of-the-child.'}\n",
      "initial triple: {'subject': 'No,-I', 'predicate': 'do-not-think', 'object': 'so.-I-think-it-has-to-do-with-the-fact-that-you-are-responsible-for-the-care-of-the-child.'}\n",
      "initial triple: {'subject': 'No,-I', 'predicate': 'do-not-think', 'object': 'so.-I-think-it-has-to-do-with-the-fact-that-you-are-responsible-for-the-care-of-the-child.'}\n",
      "initial triple: {'subject': 'No,-I', 'predicate': 'do-not-think', 'object': 'so.-I-think-it-has-to-do-with-the-fact-that-you-are-responsible-for-the-care-of-the-child.'}\n",
      "initial triple: {'subject': 'No,-I', 'predicate': 'do-not-think', 'object': 'so.-I-think-it-has-to-do-with-the-fact-that-you-are-responsible-for-the-care-of-the-child.'}\n",
      "initial triple: {'subject': 'No,-I', 'predicate': 'do-not-think', 'object': 'so.-I-think-it-has-to-do-with-the-fact-that-you-are-responsible-for-the-care-of-the-child.'}\n",
      "initial triple: {'subject': 'No,-I', 'predicate': 'do-not-think', 'object': 'so.-I-think-it-has-to-do-with-the-fact-that-you-are-responsible-for-the-care-of-the-child.'}\n",
      "initial triple: {'subject': 'No,-I', 'predicate': 'do-not-think', 'object': 'so.-I-think-it-has-to-do-with-the-fact-that-you-are-responsible-for-the-care-of-the-child.'}\n",
      "initial triple: {'subject': 'No,-I', 'predicate': 'do-not-think', 'object': 'so.-I-think-it-has-to-do-with-the-fact-that-you-are-responsible-for-the-care-of-the-child.'}\n",
      "initial triple: {'subject': 'No,-I', 'predicate': 'do-not-think', 'object': 'so.-I-think-it-has-to-do-with-the-fact-that-you-are-responsible-for-the-care-of-the-child.'}\n",
      "initial triple: {'subject': 'No,-I', 'predicate': 'do-not-think', 'object': 'so.-I-think-it-has-to-do-with-the-fact-that-you-are-responsible-for-the-care-of-the-child.'}\n",
      "initial triple: {'subject': 'No,-I', 'predicate': 'do-not-think', 'object': 'so.-I-think-it-has-to-do-with-the-fact-that-you-are-responsible-for-the-care-of-the-child.'}\n",
      "initial triple: {'subject': 'No,-I', 'predicate': 'do-not-think', 'object': 'so.-I-think-it-has-to-do-with-the-fact-that-you-are-responsible-for-the-care-of-the-child.'}\n",
      "initial triple: {'subject': 'No,-I', 'predicate': 'do-not-think', 'object': 'so.-I-think-it-has-to-do-with-the-fact-that-you-are-responsible-for-the-care-of-the-child.'}\n",
      "initial triple: {'subject': 'No,-I', 'predicate': 'do-not-think', 'object': 'so.-I-think-it-has-to-do-with-the-fact-that-you-are-responsible-for-the-care-of-the-child.'}\n",
      "initial triple: {'subject': 'No,-I', 'predicate': 'do-not-think', 'object': 'so.-I-think-it-has-to-do-with-the-fact-that-you-are-responsible-for-the-care-of-the-child.'}\n",
      "initial triple: {'subject': 'No,-I', 'predicate': 'do-not-think', 'object': 'so.-I-think-it-has-to-do-with-the-fact-that-you-are-responsible-for-the-care-of-the-child.'}\n",
      "initial triple: {'subject': 'No,-I', 'predicate': 'do-not-think', 'object': 'so.-I-think-it-has-to-do-with-the-fact-that-you-are-responsible-for-the-care-of-the-child.'}\n",
      "initial triple: {'subject': 'No,-I', 'predicate': 'do-not-think', 'object': 'so.-I-think-it-has-to-do-with-the-fact-that-you-are-responsible-for-the-care-of-the-child.'}\n",
      "initial triple: {'subject': 'No,-I', 'predicate': 'do-not-think', 'object': 'so.-I-think-it-has-to-do-with-the-fact-that-you-are-responsible-for-the-care-of-the-child.'}\n",
      "initial triple: {'subject': 'No,-I', 'predicate': 'do-not-think', 'object': 'so.-I-think-it-has-to-do-with-the-fact-that-you-are-responsible-for-the-care-of-the-child.'}\n",
      "initial triple: {'subject': 'No,-I', 'predicate': 'do-not-think', 'object': 'so.-I-think-it-has-to-do-with-the-fact-that-you-are-responsible-for-the-care-of-the-child.'}\n",
      "initial triple: {'subject': 'No,-I', 'predicate': 'do-not-think', 'object': 'so.-I-think-it-has-to-do-with-the-fact-that-you-are-responsible-for-the-care-of-the-child.'}\n",
      "initial triple: {'subject': 'No,-I', 'predicate': 'do-not-think', 'object': 'so.-I-think-it-has-to-do-with-the-fact-that-you-are-responsible-for-the-care-of-the-child.'}\n",
      "initial triple: {'subject': 'No,-I', 'predicate': 'do-not-think', 'object': 'so.-I-think-it-has-to-do-with-the-fact-that-you-are-responsible-for-the-care-of-the-child.'}\n",
      "initial triple: {'subject': 'No,-I', 'predicate': 'do-not-think', 'object': 'so.-I-think-it-has-to-do-with-the-fact-that-you-are-responsible-for-the-care-of-the-child.'}\n",
      "initial triple: {'subject': 'No,-I', 'predicate': 'do-not-think', 'object': 'so.-I-think-it-has-to-do-with-the-fact-that-you-are-responsible-for-the-care-of-the-child.'}\n",
      "initial triple: {'subject': 'No,-I', 'predicate': 'do-not-think', 'object': 'so.-I-think-it-has-to-do-with-the-fact-that-you-are-responsible-for-the-care-of-the-child.'}\n",
      "initial triple: {'subject': 'No,-I', 'predicate': 'do-not-think', 'object': 'so.-I-think-it-has-to-do-with-the-fact-that-you-are-responsible-for-the-care-of-the-child.'}\n",
      "initial triple: {'subject': 'No,-I', 'predicate': 'do-not-think', 'object': 'so.-I-think-it-has-to-do-with-the-fact-that-you-are-responsible-for-the-care-of-the-child.'}\n",
      "initial triple: {'subject': 'No,-I', 'predicate': 'do-not-think', 'object': 'so.-I-think-it-has-to-do-with-the-fact-that-you-are-responsible-for-the-care-of-the-child.'}\n",
      "initial triple: {'subject': 'No,-I', 'predicate': 'do-not-think', 'object': 'so.-I-think-it-has-to-do-with-the-fact-that-you-are-responsible-for-the-care-of-the-child.'}\n",
      "initial triple: {'subject': 'No,-I', 'predicate': 'do-not-think', 'object': 'so.-I-think-it-has-to-do-with-the-fact-that-you-are-responsible-for-the-care-of-the-child.'}\n",
      "initial triple: {'subject': 'No,-I', 'predicate': 'do-not-think', 'object': 'so.-I-think-it-has-to-do-with-the-fact-that-you-are-responsible-for-the-care-of-the-child.'}\n",
      "initial triple: {'subject': 'No,-I', 'predicate': 'do-not-think', 'object': 'so.-I-think-it-has-to-do-with-the-fact-that-you-are-responsible-for-the-care-of-the-child.'}\n",
      "initial triple: {'subject': 'No,-I', 'predicate': 'do-not-think', 'object': 'so.-I-think-it-has-to-do-with-the-fact-that-you-are-responsible-for-the-care-of-the-child.'}\n",
      "initial triple: {'subject': 'No,-I', 'predicate': 'do-not-think', 'object': 'so.-I-think-it-has-to-do-with-the-fact-that-you-are-responsible-for-the-care-of-the-child.'}\n",
      "initial triple: {'subject': 'No,-I', 'predicate': 'do-not-think', 'object': 'so.-I-think-it-has-to-do-with-the-fact-that-you-are-responsible-for-the-care-of-the-child.'}\n",
      "initial triple: {'subject': 'No,-I', 'predicate': 'do-not-think', 'object': 'so.-I-think-it-has-to-do-with-the-fact-that-you-are-responsible-for-the-care-of-the-child.'}\n",
      "initial triple: {'subject': 'No,-I', 'predicate': 'do-not-think', 'object': 'so.-I-think-it-has-to-do-with-the-fact-that-you-are-responsible-for-the-care-of-the-child.'}\n",
      "initial triple: {'subject': 'No,-I', 'predicate': 'do-not-think', 'object': 'so.-I-think-it-has-to-do-with-the-fact-that-you-are-responsible-for-the-care-of-the-child.'}\n",
      "initial triple: {'subject': 'No,-I', 'predicate': 'do-not-think', 'object': 'so.-I-think-it-has-to-do-with-the-fact-that-you-are-responsible-for-the-care-of-the-child.'}\n",
      "initial triple: {'subject': 'No,-I', 'predicate': 'do-not-think', 'object': 'so.-I-think-it-has-to-do-with-the-fact-that-you-are-responsible-for-the-care-of-the-child.'}\n",
      "initial triple: {'subject': 'No,-I', 'predicate': 'do-not-think', 'object': 'so.-I-think-it-has-to-do-with-the-fact-that-you-are-responsible-for-the-care-of-the-child.'}\n",
      "initial triple: {'subject': 'No,-I', 'predicate': 'do-not-think', 'object': 'so.-I-think-it-has-to-do-with-the-fact-that-you-are-responsible-for-the-care-of-the-child.'}\n",
      "initial triple: {'subject': 'No,-I', 'predicate': 'do-not-think', 'object': 'so.-I-think-it-has-to-do-with-the-fact-that-you-are-responsible-for-the-care-of-the-child.'}\n",
      "initial triple: {'subject': 'No,-I', 'predicate': 'do-not-think', 'object': 'so.-I-think-it-has-to-do-with-the-fact-that-you-are-responsible-for-the-care-of-the-child.'}\n",
      "initial triple: {'subject': 'No,-I', 'predicate': 'do-not-think', 'object': 'so.-I-think-it-has-to-do-with-the-fact-that-you-are-responsible-for-the-care-of-the-child.'}\n",
      "initial triple: {'subject': 'No,-I', 'predicate': 'do-not-think', 'object': 'so.-I-think-it-has-to-do-with-the-fact-that-you-are-responsible-for-the-care-of-the-child.'}\n",
      "initial triple: {'subject': 'No,-I', 'predicate': 'do-not-think', 'object': 'so.-I-think-it-has-to-do-with-the-fact-that-you-are-responsible-for-the-care-of-the-child.'}\n",
      "initial triple: {'subject': 'No,-I', 'predicate': 'do-not-think', 'object': 'so.-I-think-it-has-to-do-with-the-fact-that-you-are-responsible-for-the-care-of-the-child.'}\n",
      "initial triple: {'subject': 'No,-I', 'predicate': 'do-not-think', 'object': 'so.-I-think-it-has-to-do-with-the-fact-that-you-are-responsible-for-the-care-of-the-child.'}\n",
      "initial triple: {'subject': 'No,-I', 'predicate': 'do-not-think', 'object': 'so.-I-think-it-has-to-do-with-the-fact-that-you-are-responsible-for-the-care-of-the-child.'}\n",
      "initial triple: {'subject': 'No,-I', 'predicate': 'do-not-think', 'object': 'so.-I-think-it-has-to-do-with-the-fact-that-you-are-responsible-for-the-care-of-the-child.'}\n",
      "initial triple: {'subject': 'No,-I', 'predicate': 'do-not-think', 'object': 'so.-I-think-it-has-to-do-with-the-fact-that-you-are-responsible-for-the-care-of-the-child.'}\n",
      "initial triple: {'subject': 'No,-I', 'predicate': 'do-not-think', 'object': 'so.-I-think-it-has-to-do-with-the-fact-that-you-are-responsible-for-the-care-of-the-child.'}\n",
      "initial triple: {'subject': 'No,-I', 'predicate': 'do-not-think', 'object': 'so.-I-think-it-has-to-do-with-the-fact-that-you-are-responsible-for-the-care-of-the-child.'}\n",
      "initial triple: {'subject': 'No,-I', 'predicate': 'do-not-think', 'object': 'so.-I-think-it-has-to-do-with-the-fact-that-you-are-responsible-for-the-care-of-the-child.'}\n",
      "initial triple: {'subject': 'No,-I', 'predicate': 'do-not-think', 'object': 'so.-I-think-it-has-to-do-with-the-fact-that-you-are-responsible-for-the-care-of-the-child.'}\n",
      "initial triple: {'subject': 'No,-I', 'predicate': 'do-not-think', 'object': 'so.-I-think-it-has-to-do-with-the-fact-that-you-are-responsible-for-the-care-of-the-child.'}\n",
      "initial triple: {'subject': 'No,-I', 'predicate': 'do-not-think', 'object': 'so.-I-think-it-has-to-do-with-the-fact-that-you-are-responsible-for-the-care-of-the-child.'}\n",
      "initial triple: {'subject': 'No,-I', 'predicate': 'do-not-think', 'object': 'so.-I-think-it-has-to-do-with-the-fact-that-you-are-responsible-for-the-care-of-the-child.'}\n",
      "initial triple: {'subject': 'No,-I', 'predicate': 'do-not-think', 'object': 'so.-I-think-it-has-to-do-with-the-fact-that-you-are-responsible-for-the-care-of-the-child.'}\n",
      "initial triple: {'subject': 'No,-I', 'predicate': 'do-not-think', 'object': 'so.-I-think-it-has-to-do-with-the-fact-that-you-are-responsible-for-the-care-of-the-child.'}\n",
      "initial triple: {'subject': 'No,-I', 'predicate': 'do-not-think', 'object': 'so.-I-think-it-has-to-do-with-the-fact-that-you-are-responsible-for-the-care-of-the-child.'}\n",
      "initial triple: {'subject': 'No,-I', 'predicate': 'do-not-think', 'object': 'so.-I-think-it-has-to-do-with-the-fact-that-you-are-responsible-for-the-care-of-the-child.'}\n",
      "initial triple: {'subject': 'No,-I', 'predicate': 'do-not-think', 'object': 'so.-I-think-it-has-to-do-with-the-fact-that-you-are-responsible-for-the-care-of-the-child.'}\n",
      "initial triple: {'subject': 'No,-I', 'predicate': 'do-not-think', 'object': 'so.-I-think-it-has-to-do-with-the-fact-that-you-are-responsible-for-the-care-of-the-child.'}\n",
      "initial triple: {'subject': 'No,-I', 'predicate': 'do-not-think', 'object': 'so.-I-think-it-has-to-do-with-the-fact-that-you-are-responsible-for-the-care-of-the-child.'}\n",
      "initial triple: {'subject': 'No,-I', 'predicate': 'do-not-think', 'object': 'so.-I-think-it-has-to-do-with-the-fact-that-you-are-responsible-for-the-care-of-the-child.'}\n",
      "initial triple: {'subject': 'No,-I', 'predicate': 'do-not-think', 'object': 'so.-I-think-it-has-to-do-with-the-fact-that-you-are-responsible-for-the-care-of-the-child.'}\n",
      "initial triple: {'subject': 'No,-I', 'predicate': 'do-not-think', 'object': 'so.-I-think-it-has-to-do-with-the-fact-that-you-are-responsible-for-the-care-of-the-child.'}\n",
      "initial triple: {'subject': 'No,-I', 'predicate': 'do-not-think', 'object': 'so.-I-think-it-has-to-do-with-the-fact-that-you-are-responsible-for-the-care-of-the-child.'}\n",
      "initial triple: {'subject': 'No,-I', 'predicate': 'do-not-think', 'object': 'so.-I-think-it-has-to-do-with-the-fact-that-you-are-responsible-for-the-care-of-the-child.'}\n",
      "initial triple: {'subject': 'No,-I', 'predicate': 'do-not-think', 'object': 'so.-I-think-it-has-to-do-with-the-fact-that-you-are-responsible-for-the-care-of-the-child.'}\n",
      "initial triple: {'subject': 'No,-I', 'predicate': 'do-not-think', 'object': 'so.-I-think-it-has-to-do-with-the-fact-that-you-are-responsible-for-the-care-of-the-child.'}\n",
      "initial triple: {'subject': 'No,-I', 'predicate': 'do-not-think', 'object': 'so.-I-think-it-has-to-do-with-the-fact-that-you-are-responsible-for-the-care-of-the-child.'}\n",
      "initial triple: {'subject': 'No,-I', 'predicate': 'do-not-think', 'object': 'so.-I-think-it-has-to-do-with-the-fact-that-you-are-responsible-for-the-care-of-the-child.'}\n",
      "initial triple: {'subject': 'No,-I', 'predicate': 'do-not-think', 'object': 'so.-I-think-it-has-to-do-with-the-fact-that-you-are-responsible-for-the-care-of-the-child.'}\n",
      "initial triple: {'subject': 'No,-I', 'predicate': 'do-not-think', 'object': 'so.-I-think-it-has-to-do-with-the-fact-that-you-are-responsible-for-the-care-of-the-child.'}\n",
      "initial triple: {'subject': 'No,-I', 'predicate': 'do-not-think', 'object': 'so.-I-think-it-has-to-do-with-the-fact-that-you-are-responsible-for-the-care-of-the-child.'}\n",
      "initial triple: {'subject': 'No,-I', 'predicate': 'do-not-think', 'object': 'so.-I-think-it-has-to-do-with-the-fact-that-you-are-responsible-for-the-care-of-the-child.'}\n"
     ]
    },
    {
     "name": "stderr",
     "output_type": "stream",
     "text": [
      "Couldn't parse input\n"
     ]
    },
    {
     "name": "stdout",
     "output_type": "stream",
     "text": [
      "initial triple: {'subject': 'No,-I', 'predicate': 'do-not-think', 'object': 'so.-I-think-it-has-to-do-with-the-fact-that-you-are-responsible-for-the-care-of-the-child.'}\n"
     ]
    },
    {
     "name": "stderr",
     "output_type": "stream",
     "text": [
      "Couldn't parse input\n",
      "Couldn't parse input\n",
      "Couldn't parse input\n",
      "Couldn't parse input\n",
      "Couldn't parse input\n",
      "Couldn't parse input\n",
      "Couldn't parse input\n",
      "Couldn't parse input\n",
      "Couldn't parse input\n",
      "Couldn't parse input\n",
      "Couldn't parse input\n",
      "Couldn't parse input\n",
      "Couldn't parse input\n",
      "Couldn't parse input\n",
      "Couldn't parse input\n",
      "Couldn't parse input\n",
      "Couldn't parse input\n",
      "Couldn't parse input\n",
      "Couldn't parse input\n",
      "Couldn't parse input\n",
      "Couldn't parse input\n",
      "Couldn't parse input\n",
      "Couldn't parse input\n",
      "Couldn't parse input\n",
      "Couldn't parse input\n",
      "Couldn't parse input\n",
      "Couldn't parse input\n",
      "Couldn't parse input\n",
      "Couldn't parse input\n",
      "Couldn't parse input\n",
      "Couldn't parse input\n",
      "Couldn't parse input\n",
      "Couldn't parse input\n",
      "Couldn't parse input\n",
      "Couldn't parse input\n",
      "Couldn't parse input\n",
      "Couldn't parse input\n",
      "Couldn't parse input\n",
      "Couldn't parse input\n",
      "Couldn't parse input\n",
      "Couldn't parse input\n",
      "Couldn't parse input\n",
      "Couldn't parse input\n",
      "Couldn't parse input\n",
      "Couldn't parse input\n",
      "Couldn't parse input\n",
      "Couldn't parse input\n",
      "Couldn't parse input\n",
      "Couldn't parse input\n",
      "Couldn't parse input\n",
      "Couldn't parse input\n",
      "Couldn't parse input\n",
      "Couldn't parse input\n",
      "Couldn't parse input\n",
      "Couldn't parse input\n",
      "Couldn't parse input\n",
      "Couldn't parse input\n",
      "Couldn't parse input\n",
      "Couldn't parse input\n",
      "Couldn't parse input\n",
      "Couldn't parse input\n",
      "Couldn't parse input\n",
      "Couldn't parse input\n",
      "Couldn't parse input\n",
      "Couldn't parse input\n",
      "Couldn't parse input\n",
      "Couldn't parse input\n",
      "Couldn't parse input\n",
      "Couldn't parse input\n",
      "Couldn't parse input\n",
      "Couldn't parse input\n",
      "Couldn't parse input\n",
      "Couldn't parse input\n",
      "Couldn't parse input\n",
      "Couldn't parse input\n",
      "Couldn't parse input\n",
      "Couldn't parse input\n",
      "Couldn't parse input\n",
      "Couldn't parse input\n",
      "Couldn't parse input\n",
      "Couldn't parse input\n",
      "Couldn't parse input\n",
      "Couldn't parse input\n",
      "Couldn't parse input\n",
      "Couldn't parse input\n",
      "Couldn't parse input\n",
      "Couldn't parse input\n",
      "Couldn't parse input\n",
      "Couldn't parse input\n",
      "Couldn't parse input\n",
      "Couldn't parse input\n",
      "Couldn't parse input\n",
      "Couldn't parse input\n",
      "Couldn't parse input\n",
      "Couldn't parse input\n",
      "Couldn't parse input\n",
      "Couldn't parse input\n",
      "Couldn't parse input\n",
      "Couldn't parse input\n",
      "Couldn't parse input\n",
      "Couldn't parse input\n",
      "Couldn't parse input\n",
      "Couldn't parse input\n",
      "Couldn't parse input\n",
      "Couldn't parse input\n",
      "Couldn't parse input\n",
      "Couldn't parse input\n",
      "Couldn't parse input\n",
      "Couldn't parse input\n",
      "Couldn't parse input\n",
      "Couldn't parse input\n",
      "Couldn't parse input\n",
      "Couldn't parse input\n",
      "Couldn't parse input\n",
      "Couldn't parse input\n",
      "Couldn't parse input\n",
      "Couldn't parse input\n",
      "Couldn't parse input\n",
      "Couldn't parse input\n",
      "Couldn't parse input\n",
      "Couldn't parse input\n",
      "Couldn't parse input\n",
      "Couldn't parse input\n",
      "Couldn't parse input\n",
      "Couldn't parse input\n",
      "Couldn't parse input\n",
      "Couldn't parse input\n",
      "Couldn't parse input\n",
      "Couldn't parse input\n",
      "Couldn't parse input\n",
      "Couldn't parse input\n",
      "Couldn't parse input\n",
      "Couldn't parse input\n",
      "Couldn't parse input\n",
      "Couldn't parse input\n",
      "Couldn't parse input\n",
      "Couldn't parse input\n",
      "Couldn't parse input\n",
      "Couldn't parse input\n",
      "Couldn't parse input\n",
      "Couldn't parse input\n",
      "Couldn't parse input\n",
      "Couldn't parse input\n",
      "Couldn't parse input\n",
      "Couldn't parse input\n",
      "Couldn't parse input\n",
      "Couldn't parse input\n",
      "Couldn't parse input\n",
      "Couldn't parse input\n",
      "Couldn't parse input\n",
      "Couldn't parse input\n",
      "Couldn't parse input\n",
      "Couldn't parse input\n",
      "Couldn't parse input\n",
      "Couldn't parse input\n",
      "Couldn't parse input\n",
      "Couldn't parse input\n",
      "Couldn't parse input\n",
      "Couldn't parse input\n",
      "Couldn't parse input\n",
      "Couldn't parse input\n",
      "Couldn't parse input\n",
      "Couldn't parse input\n",
      "Couldn't parse input\n",
      "Couldn't parse input\n",
      "Couldn't parse input\n",
      "Couldn't parse input\n",
      "Couldn't parse input\n",
      "Couldn't parse input\n",
      "Couldn't parse input\n",
      "Couldn't parse input\n",
      "Couldn't parse input\n",
      "Couldn't parse input\n",
      "Couldn't parse input\n",
      "Couldn't parse input\n",
      "Couldn't parse input\n",
      "Couldn't parse input\n",
      "Couldn't parse input\n",
      "Couldn't parse input\n",
      "Couldn't parse input\n",
      "Couldn't parse input\n",
      "Couldn't parse input\n",
      "Couldn't parse input\n",
      "Couldn't parse input\n",
      "Couldn't parse input\n",
      "Couldn't parse input\n",
      "Couldn't parse input\n"
     ]
    },
    {
     "name": "stdout",
     "output_type": "stream",
     "text": [
      "initial triple: {'subject': 'No,-I', 'predicate': 'do-not-think', 'object': 'so.-I-think-it-has-to-do-with-the-fact-that-you-are-responsible-for-the-care-of-the-child.'}\n",
      "initial triple: {'subject': 'No,-I', 'predicate': 'do-not-think', 'object': 'so.-I-think-it-has-to-do-with-the-fact-that-you-are-responsible-for-the-care-of-the-child.'}\n",
      "initial triple: {'subject': 'No,-I', 'predicate': 'do-not-think', 'object': 'so.-I-think-it-has-to-do-with-the-fact-that-you-are-responsible-for-the-care-of-the-child.'}\n",
      "initial triple: {'subject': 'No,-I', 'predicate': 'do-not-think', 'object': 'so.-I-think-it-has-to-do-with-the-fact-that-you-are-responsible-for-the-care-of-the-child.'}\n",
      "initial triple: {'subject': 'No,-I', 'predicate': 'do-not-think', 'object': 'so.-I-think-it-has-to-do-with-the-fact-that-you-are-responsible-for-the-care-of-the-child.'}\n",
      "initial triple: {'subject': 'No,-I', 'predicate': 'do-not-think', 'object': 'so.-I-think-it-has-to-do-with-the-fact-that-you-are-responsible-for-the-care-of-the-child.'}\n",
      "initial triple: {'subject': 'No,-I', 'predicate': 'do-not-think', 'object': 'so.-I-think-it-has-to-do-with-the-fact-that-you-are-responsible-for-the-care-of-the-child.'}\n",
      "initial triple: {'subject': 'No,-I', 'predicate': 'do-not-think', 'object': 'so.-I-think-it-has-to-do-with-the-fact-that-you-are-responsible-for-the-care-of-the-child.'}\n",
      "initial triple: {'subject': 'No,-I', 'predicate': 'do-not-think', 'object': 'so.-I-think-it-has-to-do-with-the-fact-that-you-are-responsible-for-the-care-of-the-child.'}\n",
      "initial triple: {'subject': 'No,-I', 'predicate': 'do-not-think', 'object': 'so.-I-think-it-has-to-do-with-the-fact-that-you-are-responsible-for-the-care-of-the-child.'}\n",
      "initial triple: {'subject': 'No,-I', 'predicate': 'do-not-think', 'object': 'so.-I-think-it-has-to-do-with-the-fact-that-you-are-responsible-for-the-care-of-the-child.'}\n",
      "initial triple: {'subject': 'No,-I', 'predicate': 'do-not-think', 'object': 'so.-I-think-it-has-to-do-with-the-fact-that-you-are-responsible-for-the-care-of-the-child.'}\n",
      "initial triple: {'subject': 'No,-I', 'predicate': 'do-not-think', 'object': 'so.-I-think-it-has-to-do-with-the-fact-that-you-are-responsible-for-the-care-of-the-child.'}\n",
      "initial triple: {'subject': 'No,-I', 'predicate': 'do-not-think', 'object': 'so.-I-think-it-has-to-do-with-the-fact-that-you-are-responsible-for-the-care-of-the-child.'}\n",
      "initial triple: {'subject': 'No,-I', 'predicate': 'do-not-think', 'object': 'so.-I-think-it-has-to-do-with-the-fact-that-you-are-responsible-for-the-care-of-the-child.'}\n",
      "initial triple: {'subject': 'No,-I', 'predicate': 'do-not-think', 'object': 'so.-I-think-it-has-to-do-with-the-fact-that-you-are-responsible-for-the-care-of-the-child.'}\n",
      "initial triple: {'subject': 'No,-I', 'predicate': 'do-not-think', 'object': 'so.-I-think-it-has-to-do-with-the-fact-that-you-are-responsible-for-the-care-of-the-child.'}\n",
      "initial triple: {'subject': 'No,-I', 'predicate': 'do-not-think', 'object': 'so.-I-think-it-has-to-do-with-the-fact-that-you-are-responsible-for-the-care-of-the-child.'}\n",
      "initial triple: {'subject': 'No,-I', 'predicate': 'do-not-think', 'object': 'so.-I-think-it-has-to-do-with-the-fact-that-you-are-responsible-for-the-care-of-the-child.'}\n",
      "initial triple: {'subject': 'No,-I', 'predicate': 'do-not-think', 'object': 'so.-I-think-it-has-to-do-with-the-fact-that-you-are-responsible-for-the-care-of-the-child.'}\n",
      "initial triple: {'subject': 'No,-I', 'predicate': 'do-not-think', 'object': 'so.-I-think-it-has-to-do-with-the-fact-that-you-are-responsible-for-the-care-of-the-child.'}\n",
      "initial triple: {'subject': 'No,-I', 'predicate': 'do-not-think', 'object': 'so.-I-think-it-has-to-do-with-the-fact-that-you-are-responsible-for-the-care-of-the-child.'}\n",
      "initial triple: {'subject': 'No,-I', 'predicate': 'do-not-think', 'object': 'so.-I-think-it-has-to-do-with-the-fact-that-you-are-responsible-for-the-care-of-the-child.'}\n",
      "initial triple: {'subject': 'No,-I', 'predicate': 'do-not-think', 'object': 'so.-I-think-it-has-to-do-with-the-fact-that-you-are-responsible-for-the-care-of-the-child.'}\n",
      "initial triple: {'subject': 'No,-I', 'predicate': 'do-not-think', 'object': 'so.-I-think-it-has-to-do-with-the-fact-that-you-are-responsible-for-the-care-of-the-child.'}\n",
      "initial triple: {'subject': 'No,-I', 'predicate': 'do-not-think', 'object': 'so.-I-think-it-has-to-do-with-the-fact-that-you-are-responsible-for-the-care-of-the-child.'}\n",
      "initial triple: {'subject': 'No,-I', 'predicate': 'do-not-think', 'object': 'so.-I-think-it-has-to-do-with-the-fact-that-you-are-responsible-for-the-care-of-the-child.'}\n",
      "initial triple: {'subject': 'No,-I', 'predicate': 'do-not-think', 'object': 'so.-I-think-it-has-to-do-with-the-fact-that-you-are-responsible-for-the-care-of-the-child.'}\n",
      "initial triple: {'subject': 'No,-I', 'predicate': 'do-not-think', 'object': 'so.-I-think-it-has-to-do-with-the-fact-that-you-are-responsible-for-the-care-of-the-child.'}\n",
      "initial triple: {'subject': 'No,-I', 'predicate': 'do-not-think', 'object': 'so.-I-think-it-has-to-do-with-the-fact-that-you-are-responsible-for-the-care-of-the-child.'}\n",
      "initial triple: {'subject': 'No,-I', 'predicate': 'do-not-think', 'object': 'so.-I-think-it-has-to-do-with-the-fact-that-you-are-responsible-for-the-care-of-the-child.'}\n",
      "initial triple: {'subject': 'No,-I', 'predicate': 'do-not-think', 'object': 'so.-I-think-it-has-to-do-with-the-fact-that-you-are-responsible-for-the-care-of-the-child.'}\n",
      "initial triple: {'subject': 'No,-I', 'predicate': 'do-not-think', 'object': 'so.-I-think-it-has-to-do-with-the-fact-that-you-are-responsible-for-the-care-of-the-child.'}\n",
      "initial triple: {'subject': 'No,-I', 'predicate': 'do-not-think', 'object': 'so.-I-think-it-has-to-do-with-the-fact-that-you-are-responsible-for-the-care-of-the-child.'}\n",
      "initial triple: {'subject': 'No,-I', 'predicate': 'do-not-think', 'object': 'so.-I-think-it-has-to-do-with-the-fact-that-you-are-responsible-for-the-care-of-the-child.'}\n",
      "initial triple: {'subject': 'No,-I', 'predicate': 'do-not-think', 'object': 'so.-I-think-it-has-to-do-with-the-fact-that-you-are-responsible-for-the-care-of-the-child.'}\n",
      "initial triple: {'subject': 'No,-I', 'predicate': 'do-not-think', 'object': 'so.-I-think-it-has-to-do-with-the-fact-that-you-are-responsible-for-the-care-of-the-child.'}\n",
      "initial triple: {'subject': 'No,-I', 'predicate': 'do-not-think', 'object': 'so.-I-think-it-has-to-do-with-the-fact-that-you-are-responsible-for-the-care-of-the-child.'}\n",
      "initial triple: {'subject': 'No,-I', 'predicate': 'do-not-think', 'object': 'so.-I-think-it-has-to-do-with-the-fact-that-you-are-responsible-for-the-care-of-the-child.'}\n",
      "initial triple: {'subject': 'No,-I', 'predicate': 'do-not-think', 'object': 'so.-I-think-it-has-to-do-with-the-fact-that-you-are-responsible-for-the-care-of-the-child.'}\n",
      "initial triple: {'subject': 'No,-I', 'predicate': 'do-not-think', 'object': 'so.-I-think-it-has-to-do-with-the-fact-that-you-are-responsible-for-the-care-of-the-child.'}\n",
      "initial triple: {'subject': 'No,-I', 'predicate': 'do-not-think', 'object': 'so.-I-think-it-has-to-do-with-the-fact-that-you-are-responsible-for-the-care-of-the-child.'}\n",
      "initial triple: {'subject': 'No,-I', 'predicate': 'do-not-think', 'object': 'so.-I-think-it-has-to-do-with-the-fact-that-you-are-responsible-for-the-care-of-the-child.'}\n",
      "initial triple: {'subject': 'No,-I', 'predicate': 'do-not-think', 'object': 'so.-I-think-it-has-to-do-with-the-fact-that-you-are-responsible-for-the-care-of-the-child.'}\n",
      "initial triple: {'subject': 'No,-I', 'predicate': 'do-not-think', 'object': 'so.-I-think-it-has-to-do-with-the-fact-that-you-are-responsible-for-the-care-of-the-child.'}\n",
      "initial triple: {'subject': 'No,-I', 'predicate': 'do-not-think', 'object': 'so.-I-think-it-has-to-do-with-the-fact-that-you-are-responsible-for-the-care-of-the-child.'}\n",
      "initial triple: {'subject': 'No,-I', 'predicate': 'do-not-think', 'object': 'so.-I-think-it-has-to-do-with-the-fact-that-you-are-responsible-for-the-care-of-the-child.'}\n",
      "initial triple: {'subject': 'No,-I', 'predicate': 'do-not-think', 'object': 'so.-I-think-it-has-to-do-with-the-fact-that-you-are-responsible-for-the-care-of-the-child.'}\n",
      "initial triple: {'subject': 'No,-I', 'predicate': 'do-not-think', 'object': 'so.-I-think-it-has-to-do-with-the-fact-that-you-are-responsible-for-the-care-of-the-child.'}\n",
      "initial triple: {'subject': 'No,-I', 'predicate': 'do-not-think', 'object': 'so.-I-think-it-has-to-do-with-the-fact-that-you-are-responsible-for-the-care-of-the-child.'}\n",
      "initial triple: {'subject': 'No,-I', 'predicate': 'do-not-think', 'object': 'so.-I-think-it-has-to-do-with-the-fact-that-you-are-responsible-for-the-care-of-the-child.'}\n",
      "initial triple: {'subject': 'No,-I', 'predicate': 'do-not-think', 'object': 'so.-I-think-it-has-to-do-with-the-fact-that-you-are-responsible-for-the-care-of-the-child.'}\n",
      "initial triple: {'subject': 'No,-I', 'predicate': 'do-not-think', 'object': 'so.-I-think-it-has-to-do-with-the-fact-that-you-are-responsible-for-the-care-of-the-child.'}\n",
      "initial triple: {'subject': 'No,-I', 'predicate': 'do-not-think', 'object': 'so.-I-think-it-has-to-do-with-the-fact-that-you-are-responsible-for-the-care-of-the-child.'}\n",
      "initial triple: {'subject': 'No,-I', 'predicate': 'do-not-think', 'object': 'so.-I-think-it-has-to-do-with-the-fact-that-you-are-responsible-for-the-care-of-the-child.'}\n",
      "initial triple: {'subject': 'No,-I', 'predicate': 'do-not-think', 'object': 'so.-I-think-it-has-to-do-with-the-fact-that-you-are-responsible-for-the-care-of-the-child.'}\n",
      "initial triple: {'subject': 'No,-I', 'predicate': 'do-not-think', 'object': 'so.-I-think-it-has-to-do-with-the-fact-that-you-are-responsible-for-the-care-of-the-child.'}\n",
      "initial triple: {'subject': 'No,-I', 'predicate': 'do-not-think', 'object': 'so.-I-think-it-has-to-do-with-the-fact-that-you-are-responsible-for-the-care-of-the-child.'}\n",
      "initial triple: {'subject': 'No,-I', 'predicate': 'do-not-think', 'object': 'so.-I-think-it-has-to-do-with-the-fact-that-you-are-responsible-for-the-care-of-the-child.'}\n",
      "initial triple: {'subject': 'No,-I', 'predicate': 'do-not-think', 'object': 'so.-I-think-it-has-to-do-with-the-fact-that-you-are-responsible-for-the-care-of-the-child.'}\n",
      "initial triple: {'subject': 'No,-I', 'predicate': 'do-not-think', 'object': 'so.-I-think-it-has-to-do-with-the-fact-that-you-are-responsible-for-the-care-of-the-child.'}\n",
      "initial triple: {'subject': 'No,-I', 'predicate': 'do-not-think', 'object': 'so.-I-think-it-has-to-do-with-the-fact-that-you-are-responsible-for-the-care-of-the-child.'}\n",
      "initial triple: {'subject': 'No,-I', 'predicate': 'do-not-think', 'object': 'so.-I-think-it-has-to-do-with-the-fact-that-you-are-responsible-for-the-care-of-the-child.'}\n",
      "initial triple: {'subject': 'No,-I', 'predicate': 'do-not-think', 'object': 'so.-I-think-it-has-to-do-with-the-fact-that-you-are-responsible-for-the-care-of-the-child.'}\n",
      "initial triple: {'subject': 'No,-I', 'predicate': 'do-not-think', 'object': 'so.-I-think-it-has-to-do-with-the-fact-that-you-are-responsible-for-the-care-of-the-child.'}\n",
      "initial triple: {'subject': 'No,-I', 'predicate': 'do-not-think', 'object': 'so.-I-think-it-has-to-do-with-the-fact-that-you-are-responsible-for-the-care-of-the-child.'}\n",
      "initial triple: {'subject': 'No,-I', 'predicate': 'do-not-think', 'object': 'so.-I-think-it-has-to-do-with-the-fact-that-you-are-responsible-for-the-care-of-the-child.'}\n",
      "initial triple: {'subject': 'No,-I', 'predicate': 'do-not-think', 'object': 'so.-I-think-it-has-to-do-with-the-fact-that-you-are-responsible-for-the-care-of-the-child.'}\n",
      "initial triple: {'subject': 'No,-I', 'predicate': 'do-not-think', 'object': 'so.-I-think-it-has-to-do-with-the-fact-that-you-are-responsible-for-the-care-of-the-child.'}\n",
      "initial triple: {'subject': 'No,-I', 'predicate': 'do-not-think', 'object': 'so.-I-think-it-has-to-do-with-the-fact-that-you-are-responsible-for-the-care-of-the-child.'}\n",
      "initial triple: {'subject': 'No,-I', 'predicate': 'do-not-think', 'object': 'so.-I-think-it-has-to-do-with-the-fact-that-you-are-responsible-for-the-care-of-the-child.'}\n",
      "initial triple: {'subject': 'No,-I', 'predicate': 'do-not-think', 'object': 'so.-I-think-it-has-to-do-with-the-fact-that-you-are-responsible-for-the-care-of-the-child.'}\n",
      "initial triple: {'subject': 'No,-I', 'predicate': 'do-not-think', 'object': 'so.-I-think-it-has-to-do-with-the-fact-that-you-are-responsible-for-the-care-of-the-child.'}\n",
      "initial triple: {'subject': 'No,-I', 'predicate': 'do-not-think', 'object': 'so.-I-think-it-has-to-do-with-the-fact-that-you-are-responsible-for-the-care-of-the-child.'}\n",
      "initial triple: {'subject': 'No,-I', 'predicate': 'do-not-think', 'object': 'so.-I-think-it-has-to-do-with-the-fact-that-you-are-responsible-for-the-care-of-the-child.'}\n",
      "initial triple: {'subject': 'No,-I', 'predicate': 'do-not-think', 'object': 'so.-I-think-it-has-to-do-with-the-fact-that-you-are-responsible-for-the-care-of-the-child.'}\n",
      "initial triple: {'subject': 'No,-I', 'predicate': 'do-not-think', 'object': 'so.-I-think-it-has-to-do-with-the-fact-that-you-are-responsible-for-the-care-of-the-child.'}\n",
      "initial triple: {'subject': 'No,-I', 'predicate': 'do-not-think', 'object': 'so.-I-think-it-has-to-do-with-the-fact-that-you-are-responsible-for-the-care-of-the-child.'}\n",
      "initial triple: {'subject': 'No,-I', 'predicate': 'do-not-think', 'object': 'so.-I-think-it-has-to-do-with-the-fact-that-you-are-responsible-for-the-care-of-the-child.'}\n",
      "initial triple: {'subject': 'No,-I', 'predicate': 'do-not-think', 'object': 'so.-I-think-it-has-to-do-with-the-fact-that-you-are-responsible-for-the-care-of-the-child.'}\n",
      "initial triple: {'subject': 'No,-I', 'predicate': 'do-not-think', 'object': 'so.-I-think-it-has-to-do-with-the-fact-that-you-are-responsible-for-the-care-of-the-child.'}\n",
      "initial triple: {'subject': 'No,-I', 'predicate': 'do-not-think', 'object': 'so.-I-think-it-has-to-do-with-the-fact-that-you-are-responsible-for-the-care-of-the-child.'}\n",
      "initial triple: {'subject': 'No,-I', 'predicate': 'do-not-think', 'object': 'so.-I-think-it-has-to-do-with-the-fact-that-you-are-responsible-for-the-care-of-the-child.'}\n",
      "initial triple: {'subject': 'No,-I', 'predicate': 'do-not-think', 'object': 'so.-I-think-it-has-to-do-with-the-fact-that-you-are-responsible-for-the-care-of-the-child.'}\n",
      "initial triple: {'subject': 'No,-I', 'predicate': 'do-not-think', 'object': 'so.-I-think-it-has-to-do-with-the-fact-that-you-are-responsible-for-the-care-of-the-child.'}\n",
      "initial triple: {'subject': 'No,-I', 'predicate': 'do-not-think', 'object': 'so.-I-think-it-has-to-do-with-the-fact-that-you-are-responsible-for-the-care-of-the-child.'}\n",
      "initial triple: {'subject': 'No,-I', 'predicate': 'do-not-think', 'object': 'so.-I-think-it-has-to-do-with-the-fact-that-you-are-responsible-for-the-care-of-the-child.'}\n",
      "initial triple: {'subject': 'No,-I', 'predicate': 'do-not-think', 'object': 'so.-I-think-it-has-to-do-with-the-fact-that-you-are-responsible-for-the-care-of-the-child.'}\n",
      "initial triple: {'subject': 'No,-I', 'predicate': 'do-not-think', 'object': 'so.-I-think-it-has-to-do-with-the-fact-that-you-are-responsible-for-the-care-of-the-child.'}\n",
      "initial triple: {'subject': 'No,-I', 'predicate': 'do-not-think', 'object': 'so.-I-think-it-has-to-do-with-the-fact-that-you-are-responsible-for-the-care-of-the-child.'}\n",
      "initial triple: {'subject': 'No,-I', 'predicate': 'do-not-think', 'object': 'so.-I-think-it-has-to-do-with-the-fact-that-you-are-responsible-for-the-care-of-the-child.'}\n",
      "initial triple: {'subject': 'No,-I', 'predicate': 'do-not-think', 'object': 'so.-I-think-it-has-to-do-with-the-fact-that-you-are-responsible-for-the-care-of-the-child.'}\n",
      "initial triple: {'subject': 'No,-I', 'predicate': 'do-not-think', 'object': 'so.-I-think-it-has-to-do-with-the-fact-that-you-are-responsible-for-the-care-of-the-child.'}\n",
      "initial triple: {'subject': 'No,-I', 'predicate': 'do-not-think', 'object': 'so.-I-think-it-has-to-do-with-the-fact-that-you-are-responsible-for-the-care-of-the-child.'}\n",
      "initial triple: {'subject': 'No,-I', 'predicate': 'do-not-think', 'object': 'so.-I-think-it-has-to-do-with-the-fact-that-you-are-responsible-for-the-care-of-the-child.'}\n",
      "initial triple: {'subject': 'No,-I', 'predicate': 'do-not-think', 'object': 'so.-I-think-it-has-to-do-with-the-fact-that-you-are-responsible-for-the-care-of-the-child.'}\n",
      "initial triple: {'subject': 'No,-I', 'predicate': 'do-not-think', 'object': 'so.-I-think-it-has-to-do-with-the-fact-that-you-are-responsible-for-the-care-of-the-child.'}\n",
      "initial triple: {'subject': 'No,-I', 'predicate': 'do-not-think', 'object': 'so.-I-think-it-has-to-do-with-the-fact-that-you-are-responsible-for-the-care-of-the-child.'}\n",
      "initial triple: {'subject': 'No,-I', 'predicate': 'do-not-think', 'object': 'so.-I-think-it-has-to-do-with-the-fact-that-you-are-responsible-for-the-care-of-the-child.'}\n",
      "initial triple: {'subject': 'No,-I', 'predicate': 'do-not-think', 'object': 'so.-I-think-it-has-to-do-with-the-fact-that-you-are-responsible-for-the-care-of-the-child.'}\n",
      "initial triple: {'subject': 'No,-I', 'predicate': 'do-not-think', 'object': 'so.-I-think-it-has-to-do-with-the-fact-that-you-are-responsible-for-the-care-of-the-child.'}\n",
      "initial triple: {'subject': 'No,-I', 'predicate': 'do-not-think', 'object': 'so.-I-think-it-has-to-do-with-the-fact-that-you-are-responsible-for-the-care-of-the-child.'}\n",
      "initial triple: {'subject': 'No,-I', 'predicate': 'do-not-think', 'object': 'so.-I-think-it-has-to-do-with-the-fact-that-you-are-responsible-for-the-care-of-the-child.'}\n",
      "initial triple: {'subject': 'No,-I', 'predicate': 'do-not-think', 'object': 'so.-I-think-it-has-to-do-with-the-fact-that-you-are-responsible-for-the-care-of-the-child.'}\n",
      "initial triple: {'subject': 'No,-I', 'predicate': 'do-not-think', 'object': 'so.-I-think-it-has-to-do-with-the-fact-that-you-are-responsible-for-the-care-of-the-child.'}\n",
      "initial triple: {'subject': 'No,-I', 'predicate': 'do-not-think', 'object': 'so.-I-think-it-has-to-do-with-the-fact-that-you-are-responsible-for-the-care-of-the-child.'}\n",
      "initial triple: {'subject': 'No,-I', 'predicate': 'do-not-think', 'object': 'so.-I-think-it-has-to-do-with-the-fact-that-you-are-responsible-for-the-care-of-the-child.'}\n",
      "initial triple: {'subject': 'No,-I', 'predicate': 'do-not-think', 'object': 'so.-I-think-it-has-to-do-with-the-fact-that-you-are-responsible-for-the-care-of-the-child.'}\n",
      "initial triple: {'subject': 'No,-I', 'predicate': 'do-not-think', 'object': 'so.-I-think-it-has-to-do-with-the-fact-that-you-are-responsible-for-the-care-of-the-child.'}\n",
      "initial triple: {'subject': 'No,-I', 'predicate': 'do-not-think', 'object': 'so.-I-think-it-has-to-do-with-the-fact-that-you-are-responsible-for-the-care-of-the-child.'}\n",
      "initial triple: {'subject': 'No,-I', 'predicate': 'do-not-think', 'object': 'so.-I-think-it-has-to-do-with-the-fact-that-you-are-responsible-for-the-care-of-the-child.'}\n",
      "initial triple: {'subject': 'No,-I', 'predicate': 'do-not-think', 'object': 'so.-I-think-it-has-to-do-with-the-fact-that-you-are-responsible-for-the-care-of-the-child.'}\n",
      "initial triple: {'subject': 'No,-I', 'predicate': 'do-not-think', 'object': 'so.-I-think-it-has-to-do-with-the-fact-that-you-are-responsible-for-the-care-of-the-child.'}\n",
      "initial triple: {'subject': 'No,-I', 'predicate': 'do-not-think', 'object': 'so.-I-think-it-has-to-do-with-the-fact-that-you-are-responsible-for-the-care-of-the-child.'}\n",
      "initial triple: {'subject': 'No,-I', 'predicate': 'do-not-think', 'object': 'so.-I-think-it-has-to-do-with-the-fact-that-you-are-responsible-for-the-care-of-the-child.'}\n",
      "initial triple: {'subject': 'No,-I', 'predicate': 'do-not-think', 'object': 'so.-I-think-it-has-to-do-with-the-fact-that-you-are-responsible-for-the-care-of-the-child.'}\n",
      "initial triple: {'subject': 'No,-I', 'predicate': 'do-not-think', 'object': 'so.-I-think-it-has-to-do-with-the-fact-that-you-are-responsible-for-the-care-of-the-child.'}\n",
      "initial triple: {'subject': 'No,-I', 'predicate': 'do-not-think', 'object': 'so.-I-think-it-has-to-do-with-the-fact-that-you-are-responsible-for-the-care-of-the-child.'}\n",
      "initial triple: {'subject': 'No,-I', 'predicate': 'do-not-think', 'object': 'so.-I-think-it-has-to-do-with-the-fact-that-you-are-responsible-for-the-care-of-the-child.'}\n",
      "initial triple: {'subject': 'No,-I', 'predicate': 'do-not-think', 'object': 'so.-I-think-it-has-to-do-with-the-fact-that-you-are-responsible-for-the-care-of-the-child.'}\n",
      "initial triple: {'subject': 'No,-I', 'predicate': 'do-not-think', 'object': 'so.-I-think-it-has-to-do-with-the-fact-that-you-are-responsible-for-the-care-of-the-child.'}\n",
      "initial triple: {'subject': 'No,-I', 'predicate': 'do-not-think', 'object': 'so.-I-think-it-has-to-do-with-the-fact-that-you-are-responsible-for-the-care-of-the-child.'}\n",
      "initial triple: {'subject': 'No,-I', 'predicate': 'do-not-think', 'object': 'so.-I-think-it-has-to-do-with-the-fact-that-you-are-responsible-for-the-care-of-the-child.'}\n",
      "initial triple: {'subject': 'No,-I', 'predicate': 'do-not-think', 'object': 'so.-I-think-it-has-to-do-with-the-fact-that-you-are-responsible-for-the-care-of-the-child.'}\n",
      "initial triple: {'subject': 'No,-I', 'predicate': 'do-not-think', 'object': 'so.-I-think-it-has-to-do-with-the-fact-that-you-are-responsible-for-the-care-of-the-child.'}\n",
      "initial triple: {'subject': 'No,-I', 'predicate': 'do-not-think', 'object': 'so.-I-think-it-has-to-do-with-the-fact-that-you-are-responsible-for-the-care-of-the-child.'}\n",
      "initial triple: {'subject': 'No,-I', 'predicate': 'do-not-think', 'object': 'so.-I-think-it-has-to-do-with-the-fact-that-you-are-responsible-for-the-care-of-the-child.'}\n",
      "initial triple: {'subject': 'No,-I', 'predicate': 'do-not-think', 'object': 'so.-I-think-it-has-to-do-with-the-fact-that-you-are-responsible-for-the-care-of-the-child.'}\n",
      "initial triple: {'subject': 'No,-I', 'predicate': 'do-not-think', 'object': 'so.-I-think-it-has-to-do-with-the-fact-that-you-are-responsible-for-the-care-of-the-child.'}\n",
      "initial triple: {'subject': 'No,-I', 'predicate': 'do-not-think', 'object': 'so.-I-think-it-has-to-do-with-the-fact-that-you-are-responsible-for-the-care-of-the-child.'}\n",
      "initial triple: {'subject': 'No,-I', 'predicate': 'do-not-think', 'object': 'so.-I-think-it-has-to-do-with-the-fact-that-you-are-responsible-for-the-care-of-the-child.'}\n",
      "initial triple: {'subject': 'No,-I', 'predicate': 'do-not-think', 'object': 'so.-I-think-it-has-to-do-with-the-fact-that-you-are-responsible-for-the-care-of-the-child.'}\n",
      "initial triple: {'subject': 'No,-I', 'predicate': 'do-not-think', 'object': 'so.-I-think-it-has-to-do-with-the-fact-that-you-are-responsible-for-the-care-of-the-child.'}\n",
      "initial triple: {'subject': 'No,-I', 'predicate': 'do-not-think', 'object': 'so.-I-think-it-has-to-do-with-the-fact-that-you-are-responsible-for-the-care-of-the-child.'}\n",
      "initial triple: {'subject': 'No,-I', 'predicate': 'do-not-think', 'object': 'so.-I-think-it-has-to-do-with-the-fact-that-you-are-responsible-for-the-care-of-the-child.'}\n",
      "initial triple: {'subject': 'No,-I', 'predicate': 'do-not-think', 'object': 'so.-I-think-it-has-to-do-with-the-fact-that-you-are-responsible-for-the-care-of-the-child.'}\n",
      "initial triple: {'subject': 'No,-I', 'predicate': 'do-not-think', 'object': 'so.-I-think-it-has-to-do-with-the-fact-that-you-are-responsible-for-the-care-of-the-child.'}\n",
      "initial triple: {'subject': 'No,-I', 'predicate': 'do-not-think', 'object': 'so.-I-think-it-has-to-do-with-the-fact-that-you-are-responsible-for-the-care-of-the-child.'}\n",
      "initial triple: {'subject': 'No,-I', 'predicate': 'do-not-think', 'object': 'so.-I-think-it-has-to-do-with-the-fact-that-you-are-responsible-for-the-care-of-the-child.'}\n",
      "initial triple: {'subject': 'No,-I', 'predicate': 'do-not-think', 'object': 'so.-I-think-it-has-to-do-with-the-fact-that-you-are-responsible-for-the-care-of-the-child.'}\n",
      "initial triple: {'subject': 'No,-I', 'predicate': 'do-not-think', 'object': 'so.-I-think-it-has-to-do-with-the-fact-that-you-are-responsible-for-the-care-of-the-child.'}\n",
      "initial triple: {'subject': 'No,-I', 'predicate': 'do-not-think', 'object': 'so.-I-think-it-has-to-do-with-the-fact-that-you-are-responsible-for-the-care-of-the-child.'}\n",
      "initial triple: {'subject': 'No,-I', 'predicate': 'do-not-think', 'object': 'so.-I-think-it-has-to-do-with-the-fact-that-you-are-responsible-for-the-care-of-the-child.'}\n",
      "initial triple: {'subject': 'No,-I', 'predicate': 'do-not-think', 'object': 'so.-I-think-it-has-to-do-with-the-fact-that-you-are-responsible-for-the-care-of-the-child.'}\n",
      "initial triple: {'subject': 'No,-I', 'predicate': 'do-not-think', 'object': 'so.-I-think-it-has-to-do-with-the-fact-that-you-are-responsible-for-the-care-of-the-child.'}\n",
      "initial triple: {'subject': 'No,-I', 'predicate': 'do-not-think', 'object': 'so.-I-think-it-has-to-do-with-the-fact-that-you-are-responsible-for-the-care-of-the-child.'}\n",
      "initial triple: {'subject': 'No,-I', 'predicate': 'do-not-think', 'object': 'so.-I-think-it-has-to-do-with-the-fact-that-you-are-responsible-for-the-care-of-the-child.'}\n",
      "initial triple: {'subject': 'No,-I', 'predicate': 'do-not-think', 'object': 'so.-I-think-it-has-to-do-with-the-fact-that-you-are-responsible-for-the-care-of-the-child.'}\n",
      "initial triple: {'subject': 'No,-I', 'predicate': 'do-not-think', 'object': 'so.-I-think-it-has-to-do-with-the-fact-that-you-are-responsible-for-the-care-of-the-child.'}\n",
      "initial triple: {'subject': 'No,-I', 'predicate': 'do-not-think', 'object': 'so.-I-think-it-has-to-do-with-the-fact-that-you-are-responsible-for-the-care-of-the-child.'}\n",
      "initial triple: {'subject': 'No,-I', 'predicate': 'do-not-think', 'object': 'so.-I-think-it-has-to-do-with-the-fact-that-you-are-responsible-for-the-care-of-the-child.'}\n",
      "initial triple: {'subject': 'No,-I', 'predicate': 'do-not-think', 'object': 'so.-I-think-it-has-to-do-with-the-fact-that-you-are-responsible-for-the-care-of-the-child.'}\n",
      "initial triple: {'subject': 'No,-I', 'predicate': 'do-not-think', 'object': 'so.-I-think-it-has-to-do-with-the-fact-that-you-are-responsible-for-the-care-of-the-child.'}\n",
      "initial triple: {'subject': 'No,-I', 'predicate': 'do-not-think', 'object': 'so.-I-think-it-has-to-do-with-the-fact-that-you-are-responsible-for-the-care-of-the-child.'}\n",
      "initial triple: {'subject': 'No,-I', 'predicate': 'do-not-think', 'object': 'so.-I-think-it-has-to-do-with-the-fact-that-you-are-responsible-for-the-care-of-the-child.'}\n",
      "initial triple: {'subject': 'No,-I', 'predicate': 'do-not-think', 'object': 'so.-I-think-it-has-to-do-with-the-fact-that-you-are-responsible-for-the-care-of-the-child.'}\n",
      "initial triple: {'subject': 'No,-I', 'predicate': 'do-not-think', 'object': 'so.-I-think-it-has-to-do-with-the-fact-that-you-are-responsible-for-the-care-of-the-child.'}\n",
      "initial triple: {'subject': 'No,-I', 'predicate': 'do-not-think', 'object': 'so.-I-think-it-has-to-do-with-the-fact-that-you-are-responsible-for-the-care-of-the-child.'}\n",
      "initial triple: {'subject': 'No,-I', 'predicate': 'do-not-think', 'object': 'so.-I-think-it-has-to-do-with-the-fact-that-you-are-responsible-for-the-care-of-the-child.'}\n",
      "initial triple: {'subject': 'No,-I', 'predicate': 'do-not-think', 'object': 'so.-I-think-it-has-to-do-with-the-fact-that-you-are-responsible-for-the-care-of-the-child.'}\n",
      "initial triple: {'subject': 'No,-I', 'predicate': 'do-not-think', 'object': 'so.-I-think-it-has-to-do-with-the-fact-that-you-are-responsible-for-the-care-of-the-child.'}\n",
      "initial triple: {'subject': 'No,-I', 'predicate': 'do-not-think', 'object': 'so.-I-think-it-has-to-do-with-the-fact-that-you-are-responsible-for-the-care-of-the-child.'}\n",
      "initial triple: {'subject': 'No,-I', 'predicate': 'do-not-think', 'object': 'so.-I-think-it-has-to-do-with-the-fact-that-you-are-responsible-for-the-care-of-the-child.'}\n",
      "initial triple: {'subject': 'No,-I', 'predicate': 'do-not-think', 'object': 'so.-I-think-it-has-to-do-with-the-fact-that-you-are-responsible-for-the-care-of-the-child.'}\n",
      "initial triple: {'subject': 'No,-I', 'predicate': 'do-not-think', 'object': 'so.-I-think-it-has-to-do-with-the-fact-that-you-are-responsible-for-the-care-of-the-child.'}\n",
      "initial triple: {'subject': 'No,-I', 'predicate': 'do-not-think', 'object': 'so.-I-think-it-has-to-do-with-the-fact-that-you-are-responsible-for-the-care-of-the-child.'}\n",
      "initial triple: {'subject': 'No,-I', 'predicate': 'do-not-think', 'object': 'so.-I-think-it-has-to-do-with-the-fact-that-you-are-responsible-for-the-care-of-the-child.'}\n",
      "initial triple: {'subject': 'No,-I', 'predicate': 'do-not-think', 'object': 'so.-I-think-it-has-to-do-with-the-fact-that-you-are-responsible-for-the-care-of-the-child.'}\n",
      "initial triple: {'subject': 'No,-I', 'predicate': 'do-not-think', 'object': 'so.-I-think-it-has-to-do-with-the-fact-that-you-are-responsible-for-the-care-of-the-child.'}\n",
      "initial triple: {'subject': 'No,-I', 'predicate': 'do-not-think', 'object': 'so.-I-think-it-has-to-do-with-the-fact-that-you-are-responsible-for-the-care-of-the-child.'}\n",
      "initial triple: {'subject': 'No,-I', 'predicate': 'do-not-think', 'object': 'so.-I-think-it-has-to-do-with-the-fact-that-you-are-responsible-for-the-care-of-the-child.'}\n",
      "initial triple: {'subject': 'No,-I', 'predicate': 'do-not-think', 'object': 'so.-I-think-it-has-to-do-with-the-fact-that-you-are-responsible-for-the-care-of-the-child.'}\n",
      "initial triple: {'subject': 'No,-I', 'predicate': 'do-not-think', 'object': 'so.-I-think-it-has-to-do-with-the-fact-that-you-are-responsible-for-the-care-of-the-child.'}\n",
      "initial triple: {'subject': 'No,-I', 'predicate': 'do-not-think', 'object': 'so.-I-think-it-has-to-do-with-the-fact-that-you-are-responsible-for-the-care-of-the-child.'}\n",
      "initial triple: {'subject': 'No,-I', 'predicate': 'do-not-think', 'object': 'so.-I-think-it-has-to-do-with-the-fact-that-you-are-responsible-for-the-care-of-the-child.'}\n",
      "initial triple: {'subject': 'No,-I', 'predicate': 'do-not-think', 'object': 'so.-I-think-it-has-to-do-with-the-fact-that-you-are-responsible-for-the-care-of-the-child.'}\n",
      "initial triple: {'subject': 'No,-I', 'predicate': 'do-not-think', 'object': 'so.-I-think-it-has-to-do-with-the-fact-that-you-are-responsible-for-the-care-of-the-child.'}\n",
      "initial triple: {'subject': 'No,-I', 'predicate': 'do-not-think', 'object': 'so.-I-think-it-has-to-do-with-the-fact-that-you-are-responsible-for-the-care-of-the-child.'}\n",
      "initial triple: {'subject': 'No,-I', 'predicate': 'do-not-think', 'object': 'so.-I-think-it-has-to-do-with-the-fact-that-you-are-responsible-for-the-care-of-the-child.'}\n",
      "initial triple: {'subject': 'No,-I', 'predicate': 'do-not-think', 'object': 'so.-I-think-it-has-to-do-with-the-fact-that-you-are-responsible-for-the-care-of-the-child.'}\n",
      "initial triple: {'subject': 'No,-I', 'predicate': 'do-not-think', 'object': 'so.-I-think-it-has-to-do-with-the-fact-that-you-are-responsible-for-the-care-of-the-child.'}\n",
      "initial triple: {'subject': 'No,-I', 'predicate': 'do-not-think', 'object': 'so.-I-think-it-has-to-do-with-the-fact-that-you-are-responsible-for-the-care-of-the-child.'}\n",
      "initial triple: {'subject': 'No,-I', 'predicate': 'do-not-think', 'object': 'so.-I-think-it-has-to-do-with-the-fact-that-you-are-responsible-for-the-care-of-the-child.'}\n",
      "initial triple: {'subject': 'No,-I', 'predicate': 'do-not-think', 'object': 'so.-I-think-it-has-to-do-with-the-fact-that-you-are-responsible-for-the-care-of-the-child.'}\n",
      "initial triple: {'subject': 'No,-I', 'predicate': 'do-not-think', 'object': 'so.-I-think-it-has-to-do-with-the-fact-that-you-are-responsible-for-the-care-of-the-child.'}\n",
      "initial triple: {'subject': 'No,-I', 'predicate': 'do-not-think', 'object': 'so.-I-think-it-has-to-do-with-the-fact-that-you-are-responsible-for-the-care-of-the-child.'}\n",
      "initial triple: {'subject': 'No,-I', 'predicate': 'do-not-think', 'object': 'so.-I-think-it-has-to-do-with-the-fact-that-you-are-responsible-for-the-care-of-the-child.'}\n"
     ]
    },
    {
     "name": "stderr",
     "output_type": "stream",
     "text": [
      "Couldn't parse input\n",
      "Couldn't parse input\n",
      "Couldn't parse input\n",
      "Couldn't parse input\n",
      "Couldn't parse input\n",
      "Couldn't parse input\n",
      "Couldn't parse input\n",
      "Couldn't parse input\n",
      "Couldn't parse input\n",
      "Couldn't parse input\n",
      "Couldn't parse input\n",
      "Couldn't parse input\n",
      "Couldn't parse input\n",
      "Couldn't parse input\n",
      "Couldn't parse input\n",
      "Couldn't parse input\n",
      "Couldn't parse input\n",
      "Couldn't parse input\n",
      "Couldn't parse input\n",
      "Couldn't parse input\n",
      "Couldn't parse input\n",
      "Couldn't parse input\n",
      "Couldn't parse input\n",
      "Couldn't parse input\n",
      "Couldn't parse input\n",
      "Couldn't parse input\n",
      "Couldn't parse input\n",
      "Couldn't parse input\n",
      "Couldn't parse input\n",
      "Couldn't parse input\n",
      "Couldn't parse input\n",
      "Couldn't parse input\n",
      "Couldn't parse input\n",
      "Couldn't parse input\n",
      "Couldn't parse input\n",
      "Couldn't parse input\n",
      "Couldn't parse input\n",
      "Couldn't parse input\n",
      "Couldn't parse input\n",
      "Couldn't parse input\n",
      "Couldn't parse input\n",
      "Couldn't parse input\n",
      "Couldn't parse input\n",
      "Couldn't parse input\n",
      "Couldn't parse input\n",
      "Couldn't parse input\n",
      "Couldn't parse input\n",
      "Couldn't parse input\n",
      "Couldn't parse input\n",
      "Couldn't parse input\n",
      "Couldn't parse input\n",
      "Couldn't parse input\n",
      "Couldn't parse input\n",
      "Couldn't parse input\n",
      "Couldn't parse input\n",
      "Couldn't parse input\n",
      "Couldn't parse input\n",
      "Couldn't parse input\n",
      "Couldn't parse input\n",
      "Couldn't parse input\n",
      "Couldn't parse input\n",
      "Couldn't parse input\n",
      "Couldn't parse input\n",
      "Couldn't parse input\n",
      "Couldn't parse input\n",
      "Couldn't parse input\n",
      "Couldn't parse input\n",
      "Couldn't parse input\n",
      "Couldn't parse input\n",
      "Couldn't parse input\n",
      "Couldn't parse input\n",
      "Couldn't parse input\n",
      "Couldn't parse input\n",
      "Couldn't parse input\n",
      "Couldn't parse input\n",
      "Couldn't parse input\n",
      "Couldn't parse input\n",
      "Couldn't parse input\n",
      "Couldn't parse input\n",
      "Couldn't parse input\n",
      "Couldn't parse input\n",
      "Couldn't parse input\n",
      "Couldn't parse input\n",
      "Couldn't parse input\n",
      "Couldn't parse input\n",
      "Couldn't parse input\n",
      "Couldn't parse input\n",
      "Couldn't parse input\n",
      "Couldn't parse input\n",
      "Couldn't parse input\n",
      "Couldn't parse input\n",
      "Couldn't parse input\n",
      "Couldn't parse input\n",
      "Couldn't parse input\n",
      "Couldn't parse input\n",
      "Couldn't parse input\n",
      "Couldn't parse input\n",
      "Couldn't parse input\n",
      "Couldn't parse input\n",
      "Couldn't parse input\n",
      "Couldn't parse input\n",
      "Couldn't parse input\n",
      "Couldn't parse input\n",
      "Couldn't parse input\n",
      "Couldn't parse input\n",
      "Couldn't parse input\n",
      "Couldn't parse input\n",
      "Couldn't parse input\n",
      "Couldn't parse input\n",
      "Couldn't parse input\n",
      "Couldn't parse input\n",
      "Couldn't parse input\n",
      "Couldn't parse input\n",
      "Couldn't parse input\n",
      "Couldn't parse input\n",
      "Couldn't parse input\n",
      "Couldn't parse input\n",
      "Couldn't parse input\n",
      "Couldn't parse input\n",
      "Couldn't parse input\n",
      "Couldn't parse input\n",
      "Couldn't parse input\n",
      "Couldn't parse input\n",
      "Couldn't parse input\n",
      "Couldn't parse input\n",
      "Couldn't parse input\n",
      "Couldn't parse input\n",
      "Couldn't parse input\n",
      "Couldn't parse input\n",
      "Couldn't parse input\n",
      "Couldn't parse input\n",
      "Couldn't parse input\n",
      "Couldn't parse input\n",
      "Couldn't parse input\n",
      "Couldn't parse input\n",
      "Couldn't parse input\n",
      "Couldn't parse input\n",
      "Couldn't parse input\n",
      "Couldn't parse input\n",
      "Couldn't parse input\n",
      "Couldn't parse input\n",
      "Couldn't parse input\n",
      "Couldn't parse input\n",
      "Couldn't parse input\n",
      "Couldn't parse input\n",
      "Couldn't parse input\n",
      "Couldn't parse input\n",
      "Couldn't parse input\n",
      "Couldn't parse input\n",
      "Couldn't parse input\n",
      "Couldn't parse input\n",
      "Couldn't parse input\n",
      "Couldn't parse input\n",
      "Couldn't parse input\n",
      "Couldn't parse input\n",
      "Couldn't parse input\n",
      "Couldn't parse input\n",
      "Couldn't parse input\n",
      "Couldn't parse input\n",
      "Couldn't parse input\n",
      "Couldn't parse input\n",
      "Couldn't parse input\n",
      "Couldn't parse input\n",
      "Couldn't parse input\n",
      "Couldn't parse input\n",
      "Couldn't parse input\n",
      "Couldn't parse input\n",
      "Couldn't parse input\n",
      "Couldn't parse input\n",
      "Couldn't parse input\n",
      "Couldn't parse input\n",
      "Couldn't parse input\n",
      "Couldn't parse input\n",
      "Couldn't parse input\n",
      "Couldn't parse input\n",
      "Couldn't parse input\n",
      "Couldn't parse input\n",
      "Couldn't parse input\n",
      "Couldn't parse input\n",
      "Couldn't parse input\n",
      "Couldn't parse input\n",
      "Couldn't parse input\n",
      "Couldn't parse input\n",
      "Couldn't parse input\n",
      "Couldn't parse input\n",
      "Couldn't parse input\n",
      "Couldn't parse input\n",
      "Couldn't parse input\n",
      "Couldn't parse input\n",
      "Couldn't parse input\n",
      "Couldn't parse input\n",
      "Couldn't parse input\n",
      "Couldn't parse input\n",
      "Couldn't parse input\n",
      "Couldn't parse input\n",
      "Couldn't parse input\n",
      "Couldn't parse input\n",
      "Couldn't parse input\n",
      "Couldn't parse input\n",
      "Couldn't parse input\n",
      "Couldn't parse input\n",
      "Couldn't parse input\n",
      "Couldn't parse input\n",
      "Couldn't parse input\n",
      "Couldn't parse input\n",
      "Couldn't parse input\n",
      "Couldn't parse input\n",
      "Couldn't parse input\n",
      "Couldn't parse input\n",
      "Couldn't parse input\n",
      "Couldn't parse input\n",
      "Couldn't parse input\n",
      "Couldn't parse input\n",
      "Couldn't parse input\n",
      "Couldn't parse input\n",
      "Couldn't parse input\n",
      "Couldn't parse input\n",
      "Couldn't parse input\n",
      "Couldn't parse input\n",
      "Couldn't parse input\n",
      "Couldn't parse input\n"
     ]
    },
    {
     "name": "stdout",
     "output_type": "stream",
     "text": [
      "initial triple: {'subject': 'No,-I', 'predicate': 'do-not-think', 'object': 'so.-I-think-it-has-to-do-with-the-fact-that-you-are-responsible-for-the-care-of-the-child.'}\n",
      "initial triple: {'subject': 'No,-I', 'predicate': 'do-not-think', 'object': 'so.-I-think-it-has-to-do-with-the-fact-that-you-are-responsible-for-the-care-of-the-child.'}\n",
      "initial triple: {'subject': 'No,-I', 'predicate': 'do-not-think', 'object': 'so.-I-think-it-has-to-do-with-the-fact-that-you-are-responsible-for-the-care-of-the-child.'}\n",
      "initial triple: {'subject': 'No,-I', 'predicate': 'do-not-think', 'object': 'so.-I-think-it-has-to-do-with-the-fact-that-you-are-responsible-for-the-care-of-the-child.'}\n",
      "initial triple: {'subject': 'No,-I', 'predicate': 'do-not-think', 'object': 'so.-I-think-it-has-to-do-with-the-fact-that-you-are-responsible-for-the-care-of-the-child.'}\n",
      "initial triple: {'subject': 'No,-I', 'predicate': 'do-not-think', 'object': 'so.-I-think-it-has-to-do-with-the-fact-that-you-are-responsible-for-the-care-of-the-child.'}\n",
      "initial triple: {'subject': 'No,-I', 'predicate': 'do-not-think', 'object': 'so.-I-think-it-has-to-do-with-the-fact-that-you-are-responsible-for-the-care-of-the-child.'}\n",
      "initial triple: {'subject': 'No,-I', 'predicate': 'do-not-think', 'object': 'so.-I-think-it-has-to-do-with-the-fact-that-you-are-responsible-for-the-care-of-the-child.'}\n",
      "initial triple: {'subject': 'No,-I', 'predicate': 'do-not-think', 'object': 'so.-I-think-it-has-to-do-with-the-fact-that-you-are-responsible-for-the-care-of-the-child.'}\n",
      "initial triple: {'subject': 'No,-I', 'predicate': 'do-not-think', 'object': 'so.-I-think-it-has-to-do-with-the-fact-that-you-are-responsible-for-the-care-of-the-child.'}\n",
      "initial triple: {'subject': 'No,-I', 'predicate': 'do-not-think', 'object': 'so.-I-think-it-has-to-do-with-the-fact-that-you-are-responsible-for-the-care-of-the-child.'}\n",
      "initial triple: {'subject': 'No,-I', 'predicate': 'do-not-think', 'object': 'so.-I-think-it-has-to-do-with-the-fact-that-you-are-responsible-for-the-care-of-the-child.'}\n",
      "initial triple: {'subject': 'No,-I', 'predicate': 'do-not-think', 'object': 'so.-I-think-it-has-to-do-with-the-fact-that-you-are-responsible-for-the-care-of-the-child.'}\n",
      "initial triple: {'subject': 'No,-I', 'predicate': 'do-not-think', 'object': 'so.-I-think-it-has-to-do-with-the-fact-that-you-are-responsible-for-the-care-of-the-child.'}\n",
      "initial triple: {'subject': 'No,-I', 'predicate': 'do-not-think', 'object': 'so.-I-think-it-has-to-do-with-the-fact-that-you-are-responsible-for-the-care-of-the-child.'}\n",
      "initial triple: {'subject': 'No,-I', 'predicate': 'do-not-think', 'object': 'so.-I-think-it-has-to-do-with-the-fact-that-you-are-responsible-for-the-care-of-the-child.'}\n",
      "initial triple: {'subject': 'No,-I', 'predicate': 'do-not-think', 'object': 'so.-I-think-it-has-to-do-with-the-fact-that-you-are-responsible-for-the-care-of-the-child.'}\n",
      "initial triple: {'subject': 'No,-I', 'predicate': 'do-not-think', 'object': 'so.-I-think-it-has-to-do-with-the-fact-that-you-are-responsible-for-the-care-of-the-child.'}\n",
      "initial triple: {'subject': 'No,-I', 'predicate': 'do-not-think', 'object': 'so.-I-think-it-has-to-do-with-the-fact-that-you-are-responsible-for-the-care-of-the-child.'}\n",
      "initial triple: {'subject': 'No,-I', 'predicate': 'do-not-think', 'object': 'so.-I-think-it-has-to-do-with-the-fact-that-you-are-responsible-for-the-care-of-the-child.'}\n",
      "initial triple: {'subject': 'No,-I', 'predicate': 'do-not-think', 'object': 'so.-I-think-it-has-to-do-with-the-fact-that-you-are-responsible-for-the-care-of-the-child.'}\n",
      "initial triple: {'subject': 'No,-I', 'predicate': 'do-not-think', 'object': 'so.-I-think-it-has-to-do-with-the-fact-that-you-are-responsible-for-the-care-of-the-child.'}\n",
      "initial triple: {'subject': 'No,-I', 'predicate': 'do-not-think', 'object': 'so.-I-think-it-has-to-do-with-the-fact-that-you-are-responsible-for-the-care-of-the-child.'}\n",
      "initial triple: {'subject': 'No,-I', 'predicate': 'do-not-think', 'object': 'so.-I-think-it-has-to-do-with-the-fact-that-you-are-responsible-for-the-care-of-the-child.'}\n",
      "initial triple: {'subject': 'No,-I', 'predicate': 'do-not-think', 'object': 'so.-I-think-it-has-to-do-with-the-fact-that-you-are-responsible-for-the-care-of-the-child.'}\n",
      "initial triple: {'subject': 'No,-I', 'predicate': 'do-not-think', 'object': 'so.-I-think-it-has-to-do-with-the-fact-that-you-are-responsible-for-the-care-of-the-child.'}\n",
      "initial triple: {'subject': 'No,-I', 'predicate': 'do-not-think', 'object': 'so.-I-think-it-has-to-do-with-the-fact-that-you-are-responsible-for-the-care-of-the-child.'}\n",
      "initial triple: {'subject': 'No,-I', 'predicate': 'do-not-think', 'object': 'so.-I-think-it-has-to-do-with-the-fact-that-you-are-responsible-for-the-care-of-the-child.'}\n",
      "initial triple: {'subject': 'No,-I', 'predicate': 'do-not-think', 'object': 'so.-I-think-it-has-to-do-with-the-fact-that-you-are-responsible-for-the-care-of-the-child.'}\n",
      "initial triple: {'subject': 'No,-I', 'predicate': 'do-not-think', 'object': 'so.-I-think-it-has-to-do-with-the-fact-that-you-are-responsible-for-the-care-of-the-child.'}\n",
      "initial triple: {'subject': 'No,-I', 'predicate': 'do-not-think', 'object': 'so.-I-think-it-has-to-do-with-the-fact-that-you-are-responsible-for-the-care-of-the-child.'}\n",
      "initial triple: {'subject': 'No,-I', 'predicate': 'do-not-think', 'object': 'so.-I-think-it-has-to-do-with-the-fact-that-you-are-responsible-for-the-care-of-the-child.'}\n",
      "initial triple: {'subject': 'No,-I', 'predicate': 'do-not-think', 'object': 'so.-I-think-it-has-to-do-with-the-fact-that-you-are-responsible-for-the-care-of-the-child.'}\n",
      "initial triple: {'subject': 'No,-I', 'predicate': 'do-not-think', 'object': 'so.-I-think-it-has-to-do-with-the-fact-that-you-are-responsible-for-the-care-of-the-child.'}\n",
      "initial triple: {'subject': 'No,-I', 'predicate': 'do-not-think', 'object': 'so.-I-think-it-has-to-do-with-the-fact-that-you-are-responsible-for-the-care-of-the-child.'}\n",
      "initial triple: {'subject': 'No,-I', 'predicate': 'do-not-think', 'object': 'so.-I-think-it-has-to-do-with-the-fact-that-you-are-responsible-for-the-care-of-the-child.'}\n",
      "initial triple: {'subject': 'No,-I', 'predicate': 'do-not-think', 'object': 'so.-I-think-it-has-to-do-with-the-fact-that-you-are-responsible-for-the-care-of-the-child.'}\n",
      "initial triple: {'subject': 'No,-I', 'predicate': 'do-not-think', 'object': 'so.-I-think-it-has-to-do-with-the-fact-that-you-are-responsible-for-the-care-of-the-child.'}\n",
      "initial triple: {'subject': 'No,-I', 'predicate': 'do-not-think', 'object': 'so.-I-think-it-has-to-do-with-the-fact-that-you-are-responsible-for-the-care-of-the-child.'}\n",
      "initial triple: {'subject': 'No,-I', 'predicate': 'do-not-think', 'object': 'so.-I-think-it-has-to-do-with-the-fact-that-you-are-responsible-for-the-care-of-the-child.'}\n",
      "initial triple: {'subject': 'No,-I', 'predicate': 'do-not-think', 'object': 'so.-I-think-it-has-to-do-with-the-fact-that-you-are-responsible-for-the-care-of-the-child.'}\n",
      "initial triple: {'subject': 'No,-I', 'predicate': 'do-not-think', 'object': 'so.-I-think-it-has-to-do-with-the-fact-that-you-are-responsible-for-the-care-of-the-child.'}\n",
      "initial triple: {'subject': 'No,-I', 'predicate': 'do-not-think', 'object': 'so.-I-think-it-has-to-do-with-the-fact-that-you-are-responsible-for-the-care-of-the-child.'}\n",
      "initial triple: {'subject': 'No,-I', 'predicate': 'do-not-think', 'object': 'so.-I-think-it-has-to-do-with-the-fact-that-you-are-responsible-for-the-care-of-the-child.'}\n",
      "initial triple: {'subject': 'No,-I', 'predicate': 'do-not-think', 'object': 'so.-I-think-it-has-to-do-with-the-fact-that-you-are-responsible-for-the-care-of-the-child.'}\n",
      "initial triple: {'subject': 'No,-I', 'predicate': 'do-not-think', 'object': 'so.-I-think-it-has-to-do-with-the-fact-that-you-are-responsible-for-the-care-of-the-child.'}\n",
      "initial triple: {'subject': 'No,-I', 'predicate': 'do-not-think', 'object': 'so.-I-think-it-has-to-do-with-the-fact-that-you-are-responsible-for-the-care-of-the-child.'}\n",
      "initial triple: {'subject': 'No,-I', 'predicate': 'do-not-think', 'object': 'so.-I-think-it-has-to-do-with-the-fact-that-you-are-responsible-for-the-care-of-the-child.'}\n",
      "initial triple: {'subject': 'No,-I', 'predicate': 'do-not-think', 'object': 'so.-I-think-it-has-to-do-with-the-fact-that-you-are-responsible-for-the-care-of-the-child.'}\n",
      "initial triple: {'subject': 'No,-I', 'predicate': 'do-not-think', 'object': 'so.-I-think-it-has-to-do-with-the-fact-that-you-are-responsible-for-the-care-of-the-child.'}\n",
      "initial triple: {'subject': 'No,-I', 'predicate': 'do-not-think', 'object': 'so.-I-think-it-has-to-do-with-the-fact-that-you-are-responsible-for-the-care-of-the-child.'}\n",
      "initial triple: {'subject': 'No,-I', 'predicate': 'do-not-think', 'object': 'so.-I-think-it-has-to-do-with-the-fact-that-you-are-responsible-for-the-care-of-the-child.'}\n",
      "initial triple: {'subject': 'No,-I', 'predicate': 'do-not-think', 'object': 'so.-I-think-it-has-to-do-with-the-fact-that-you-are-responsible-for-the-care-of-the-child.'}\n",
      "initial triple: {'subject': 'No,-I', 'predicate': 'do-not-think', 'object': 'so.-I-think-it-has-to-do-with-the-fact-that-you-are-responsible-for-the-care-of-the-child.'}\n",
      "initial triple: {'subject': 'No,-I', 'predicate': 'do-not-think', 'object': 'so.-I-think-it-has-to-do-with-the-fact-that-you-are-responsible-for-the-care-of-the-child.'}\n",
      "initial triple: {'subject': 'No,-I', 'predicate': 'do-not-think', 'object': 'so.-I-think-it-has-to-do-with-the-fact-that-you-are-responsible-for-the-care-of-the-child.'}\n",
      "initial triple: {'subject': 'No,-I', 'predicate': 'do-not-think', 'object': 'so.-I-think-it-has-to-do-with-the-fact-that-you-are-responsible-for-the-care-of-the-child.'}\n",
      "initial triple: {'subject': 'No,-I', 'predicate': 'do-not-think', 'object': 'so.-I-think-it-has-to-do-with-the-fact-that-you-are-responsible-for-the-care-of-the-child.'}\n",
      "initial triple: {'subject': 'No,-I', 'predicate': 'do-not-think', 'object': 'so.-I-think-it-has-to-do-with-the-fact-that-you-are-responsible-for-the-care-of-the-child.'}\n",
      "initial triple: {'subject': 'No,-I', 'predicate': 'do-not-think', 'object': 'so.-I-think-it-has-to-do-with-the-fact-that-you-are-responsible-for-the-care-of-the-child.'}\n",
      "initial triple: {'subject': 'No,-I', 'predicate': 'do-not-think', 'object': 'so.-I-think-it-has-to-do-with-the-fact-that-you-are-responsible-for-the-care-of-the-child.'}\n",
      "initial triple: {'subject': 'No,-I', 'predicate': 'do-not-think', 'object': 'so.-I-think-it-has-to-do-with-the-fact-that-you-are-responsible-for-the-care-of-the-child.'}\n",
      "initial triple: {'subject': 'No,-I', 'predicate': 'do-not-think', 'object': 'so.-I-think-it-has-to-do-with-the-fact-that-you-are-responsible-for-the-care-of-the-child.'}\n",
      "initial triple: {'subject': 'No,-I', 'predicate': 'do-not-think', 'object': 'so.-I-think-it-has-to-do-with-the-fact-that-you-are-responsible-for-the-care-of-the-child.'}\n",
      "initial triple: {'subject': 'No,-I', 'predicate': 'do-not-think', 'object': 'so.-I-think-it-has-to-do-with-the-fact-that-you-are-responsible-for-the-care-of-the-child.'}\n",
      "initial triple: {'subject': 'No,-I', 'predicate': 'do-not-think', 'object': 'so.-I-think-it-has-to-do-with-the-fact-that-you-are-responsible-for-the-care-of-the-child.'}\n",
      "initial triple: {'subject': 'No,-I', 'predicate': 'do-not-think', 'object': 'so.-I-think-it-has-to-do-with-the-fact-that-you-are-responsible-for-the-care-of-the-child.'}\n",
      "initial triple: {'subject': 'No,-I', 'predicate': 'do-not-think', 'object': 'so.-I-think-it-has-to-do-with-the-fact-that-you-are-responsible-for-the-care-of-the-child.'}\n",
      "initial triple: {'subject': 'No,-I', 'predicate': 'do-not-think', 'object': 'so.-I-think-it-has-to-do-with-the-fact-that-you-are-responsible-for-the-care-of-the-child.'}\n",
      "initial triple: {'subject': 'No,-I', 'predicate': 'do-not-think', 'object': 'so.-I-think-it-has-to-do-with-the-fact-that-you-are-responsible-for-the-care-of-the-child.'}\n",
      "initial triple: {'subject': 'No,-I', 'predicate': 'do-not-think', 'object': 'so.-I-think-it-has-to-do-with-the-fact-that-you-are-responsible-for-the-care-of-the-child.'}\n",
      "initial triple: {'subject': 'No,-I', 'predicate': 'do-not-think', 'object': 'so.-I-think-it-has-to-do-with-the-fact-that-you-are-responsible-for-the-care-of-the-child.'}\n",
      "initial triple: {'subject': 'No,-I', 'predicate': 'do-not-think', 'object': 'so.-I-think-it-has-to-do-with-the-fact-that-you-are-responsible-for-the-care-of-the-child.'}\n",
      "initial triple: {'subject': 'No,-I', 'predicate': 'do-not-think', 'object': 'so.-I-think-it-has-to-do-with-the-fact-that-you-are-responsible-for-the-care-of-the-child.'}\n",
      "initial triple: {'subject': 'No,-I', 'predicate': 'do-not-think', 'object': 'so.-I-think-it-has-to-do-with-the-fact-that-you-are-responsible-for-the-care-of-the-child.'}\n",
      "initial triple: {'subject': 'No,-I', 'predicate': 'do-not-think', 'object': 'so.-I-think-it-has-to-do-with-the-fact-that-you-are-responsible-for-the-care-of-the-child.'}\n",
      "initial triple: {'subject': 'No,-I', 'predicate': 'do-not-think', 'object': 'so.-I-think-it-has-to-do-with-the-fact-that-you-are-responsible-for-the-care-of-the-child.'}\n",
      "initial triple: {'subject': 'No,-I', 'predicate': 'do-not-think', 'object': 'so.-I-think-it-has-to-do-with-the-fact-that-you-are-responsible-for-the-care-of-the-child.'}\n",
      "initial triple: {'subject': 'No,-I', 'predicate': 'do-not-think', 'object': 'so.-I-think-it-has-to-do-with-the-fact-that-you-are-responsible-for-the-care-of-the-child.'}\n",
      "initial triple: {'subject': 'No,-I', 'predicate': 'do-not-think', 'object': 'so.-I-think-it-has-to-do-with-the-fact-that-you-are-responsible-for-the-care-of-the-child.'}\n",
      "initial triple: {'subject': 'No,-I', 'predicate': 'do-not-think', 'object': 'so.-I-think-it-has-to-do-with-the-fact-that-you-are-responsible-for-the-care-of-the-child.'}\n",
      "initial triple: {'subject': 'No,-I', 'predicate': 'do-not-think', 'object': 'so.-I-think-it-has-to-do-with-the-fact-that-you-are-responsible-for-the-care-of-the-child.'}\n",
      "initial triple: {'subject': 'No,-I', 'predicate': 'do-not-think', 'object': 'so.-I-think-it-has-to-do-with-the-fact-that-you-are-responsible-for-the-care-of-the-child.'}\n",
      "initial triple: {'subject': 'No,-I', 'predicate': 'do-not-think', 'object': 'so.-I-think-it-has-to-do-with-the-fact-that-you-are-responsible-for-the-care-of-the-child.'}\n",
      "initial triple: {'subject': 'No,-I', 'predicate': 'do-not-think', 'object': 'so.-I-think-it-has-to-do-with-the-fact-that-you-are-responsible-for-the-care-of-the-child.'}\n",
      "initial triple: {'subject': 'No,-I', 'predicate': 'do-not-think', 'object': 'so.-I-think-it-has-to-do-with-the-fact-that-you-are-responsible-for-the-care-of-the-child.'}\n",
      "initial triple: {'subject': 'No,-I', 'predicate': 'do-not-think', 'object': 'so.-I-think-it-has-to-do-with-the-fact-that-you-are-responsible-for-the-care-of-the-child.'}\n",
      "initial triple: {'subject': 'No,-I', 'predicate': 'do-not-think', 'object': 'so.-I-think-it-has-to-do-with-the-fact-that-you-are-responsible-for-the-care-of-the-child.'}\n",
      "initial triple: {'subject': 'No,-I', 'predicate': 'do-not-think', 'object': 'so.-I-think-it-has-to-do-with-the-fact-that-you-are-responsible-for-the-care-of-the-child.'}\n",
      "initial triple: {'subject': 'No,-I', 'predicate': 'do-not-think', 'object': 'so.-I-think-it-has-to-do-with-the-fact-that-you-are-responsible-for-the-care-of-the-child.'}\n",
      "initial triple: {'subject': 'No,-I', 'predicate': 'do-not-think', 'object': 'so.-I-think-it-has-to-do-with-the-fact-that-you-are-responsible-for-the-care-of-the-child.'}\n",
      "initial triple: {'subject': 'No,-I', 'predicate': 'do-not-think', 'object': 'so.-I-think-it-has-to-do-with-the-fact-that-you-are-responsible-for-the-care-of-the-child.'}\n",
      "initial triple: {'subject': 'No,-I', 'predicate': 'do-not-think', 'object': 'so.-I-think-it-has-to-do-with-the-fact-that-you-are-responsible-for-the-care-of-the-child.'}\n",
      "initial triple: {'subject': 'No,-I', 'predicate': 'do-not-think', 'object': 'so.-I-think-it-has-to-do-with-the-fact-that-you-are-responsible-for-the-care-of-the-child.'}\n",
      "initial triple: {'subject': 'No,-I', 'predicate': 'do-not-think', 'object': 'so.-I-think-it-has-to-do-with-the-fact-that-you-are-responsible-for-the-care-of-the-child.'}\n",
      "initial triple: {'subject': 'No,-I', 'predicate': 'do-not-think', 'object': 'so.-I-think-it-has-to-do-with-the-fact-that-you-are-responsible-for-the-care-of-the-child.'}\n",
      "initial triple: {'subject': 'No,-I', 'predicate': 'do-not-think', 'object': 'so.-I-think-it-has-to-do-with-the-fact-that-you-are-responsible-for-the-care-of-the-child.'}\n",
      "initial triple: {'subject': 'No,-I', 'predicate': 'do-not-think', 'object': 'so.-I-think-it-has-to-do-with-the-fact-that-you-are-responsible-for-the-care-of-the-child.'}\n",
      "initial triple: {'subject': 'No,-I', 'predicate': 'do-not-think', 'object': 'so.-I-think-it-has-to-do-with-the-fact-that-you-are-responsible-for-the-care-of-the-child.'}\n",
      "initial triple: {'subject': 'No,-I', 'predicate': 'do-not-think', 'object': 'so.-I-think-it-has-to-do-with-the-fact-that-you-are-responsible-for-the-care-of-the-child.'}\n",
      "initial triple: {'subject': 'No,-I', 'predicate': 'do-not-think', 'object': 'so.-I-think-it-has-to-do-with-the-fact-that-you-are-responsible-for-the-care-of-the-child.'}\n",
      "initial triple: {'subject': 'No,-I', 'predicate': 'do-not-think', 'object': 'so.-I-think-it-has-to-do-with-the-fact-that-you-are-responsible-for-the-care-of-the-child.'}\n",
      "initial triple: {'subject': 'No,-I', 'predicate': 'do-not-think', 'object': 'so.-I-think-it-has-to-do-with-the-fact-that-you-are-responsible-for-the-care-of-the-child.'}\n",
      "initial triple: {'subject': 'No,-I', 'predicate': 'do-not-think', 'object': 'so.-I-think-it-has-to-do-with-the-fact-that-you-are-responsible-for-the-care-of-the-child.'}\n",
      "initial triple: {'subject': 'No,-I', 'predicate': 'do-not-think', 'object': 'so.-I-think-it-has-to-do-with-the-fact-that-you-are-responsible-for-the-care-of-the-child.'}\n",
      "initial triple: {'subject': 'No,-I', 'predicate': 'do-not-think', 'object': 'so.-I-think-it-has-to-do-with-the-fact-that-you-are-responsible-for-the-care-of-the-child.'}\n",
      "initial triple: {'subject': 'No,-I', 'predicate': 'do-not-think', 'object': 'so.-I-think-it-has-to-do-with-the-fact-that-you-are-responsible-for-the-care-of-the-child.'}\n",
      "initial triple: {'subject': 'No,-I', 'predicate': 'do-not-think', 'object': 'so.-I-think-it-has-to-do-with-the-fact-that-you-are-responsible-for-the-care-of-the-child.'}\n",
      "initial triple: {'subject': 'No,-I', 'predicate': 'do-not-think', 'object': 'so.-I-think-it-has-to-do-with-the-fact-that-you-are-responsible-for-the-care-of-the-child.'}\n",
      "initial triple: {'subject': 'No,-I', 'predicate': 'do-not-think', 'object': 'so.-I-think-it-has-to-do-with-the-fact-that-you-are-responsible-for-the-care-of-the-child.'}\n",
      "initial triple: {'subject': 'No,-I', 'predicate': 'do-not-think', 'object': 'so.-I-think-it-has-to-do-with-the-fact-that-you-are-responsible-for-the-care-of-the-child.'}\n",
      "initial triple: {'subject': 'No,-I', 'predicate': 'do-not-think', 'object': 'so.-I-think-it-has-to-do-with-the-fact-that-you-are-responsible-for-the-care-of-the-child.'}\n",
      "initial triple: {'subject': 'No,-I', 'predicate': 'do-not-think', 'object': 'so.-I-think-it-has-to-do-with-the-fact-that-you-are-responsible-for-the-care-of-the-child.'}\n",
      "initial triple: {'subject': 'No,-I', 'predicate': 'do-not-think', 'object': 'so.-I-think-it-has-to-do-with-the-fact-that-you-are-responsible-for-the-care-of-the-child.'}\n",
      "initial triple: {'subject': 'No,-I', 'predicate': 'do-not-think', 'object': 'so.-I-think-it-has-to-do-with-the-fact-that-you-are-responsible-for-the-care-of-the-child.'}\n",
      "initial triple: {'subject': 'No,-I', 'predicate': 'do-not-think', 'object': 'so.-I-think-it-has-to-do-with-the-fact-that-you-are-responsible-for-the-care-of-the-child.'}\n",
      "initial triple: {'subject': 'No,-I', 'predicate': 'do-not-think', 'object': 'so.-I-think-it-has-to-do-with-the-fact-that-you-are-responsible-for-the-care-of-the-child.'}\n",
      "initial triple: {'subject': 'No,-I', 'predicate': 'do-not-think', 'object': 'so.-I-think-it-has-to-do-with-the-fact-that-you-are-responsible-for-the-care-of-the-child.'}\n",
      "initial triple: {'subject': 'No,-I', 'predicate': 'do-not-think', 'object': 'so.-I-think-it-has-to-do-with-the-fact-that-you-are-responsible-for-the-care-of-the-child.'}\n",
      "initial triple: {'subject': 'No,-I', 'predicate': 'do-not-think', 'object': 'so.-I-think-it-has-to-do-with-the-fact-that-you-are-responsible-for-the-care-of-the-child.'}\n",
      "initial triple: {'subject': 'No,-I', 'predicate': 'do-not-think', 'object': 'so.-I-think-it-has-to-do-with-the-fact-that-you-are-responsible-for-the-care-of-the-child.'}\n",
      "initial triple: {'subject': 'No,-I', 'predicate': 'do-not-think', 'object': 'so.-I-think-it-has-to-do-with-the-fact-that-you-are-responsible-for-the-care-of-the-child.'}\n",
      "initial triple: {'subject': 'No,-I', 'predicate': 'do-not-think', 'object': 'so.-I-think-it-has-to-do-with-the-fact-that-you-are-responsible-for-the-care-of-the-child.'}\n",
      "initial triple: {'subject': 'No,-I', 'predicate': 'do-not-think', 'object': 'so.-I-think-it-has-to-do-with-the-fact-that-you-are-responsible-for-the-care-of-the-child.'}\n",
      "initial triple: {'subject': 'No,-I', 'predicate': 'do-not-think', 'object': 'so.-I-think-it-has-to-do-with-the-fact-that-you-are-responsible-for-the-care-of-the-child.'}\n",
      "initial triple: {'subject': 'No,-I', 'predicate': 'do-not-think', 'object': 'so.-I-think-it-has-to-do-with-the-fact-that-you-are-responsible-for-the-care-of-the-child.'}\n",
      "initial triple: {'subject': 'No,-I', 'predicate': 'do-not-think', 'object': 'so.-I-think-it-has-to-do-with-the-fact-that-you-are-responsible-for-the-care-of-the-child.'}\n",
      "initial triple: {'subject': 'No,-I', 'predicate': 'do-not-think', 'object': 'so.-I-think-it-has-to-do-with-the-fact-that-you-are-responsible-for-the-care-of-the-child.'}\n",
      "initial triple: {'subject': 'No,-I', 'predicate': 'do-not-think', 'object': 'so.-I-think-it-has-to-do-with-the-fact-that-you-are-responsible-for-the-care-of-the-child.'}\n",
      "initial triple: {'subject': 'No,-I', 'predicate': 'do-not-think', 'object': 'so.-I-think-it-has-to-do-with-the-fact-that-you-are-responsible-for-the-care-of-the-child.'}\n",
      "initial triple: {'subject': 'No,-I', 'predicate': 'do-not-think', 'object': 'so.-I-think-it-has-to-do-with-the-fact-that-you-are-responsible-for-the-care-of-the-child.'}\n",
      "initial triple: {'subject': 'No,-I', 'predicate': 'do-not-think', 'object': 'so.-I-think-it-has-to-do-with-the-fact-that-you-are-responsible-for-the-care-of-the-child.'}\n",
      "initial triple: {'subject': 'No,-I', 'predicate': 'do-not-think', 'object': 'so.-I-think-it-has-to-do-with-the-fact-that-you-are-responsible-for-the-care-of-the-child.'}\n",
      "initial triple: {'subject': 'No,-I', 'predicate': 'do-not-think', 'object': 'so.-I-think-it-has-to-do-with-the-fact-that-you-are-responsible-for-the-care-of-the-child.'}\n",
      "initial triple: {'subject': 'No,-I', 'predicate': 'do-not-think', 'object': 'so.-I-think-it-has-to-do-with-the-fact-that-you-are-responsible-for-the-care-of-the-child.'}\n",
      "initial triple: {'subject': 'No,-I', 'predicate': 'do-not-think', 'object': 'so.-I-think-it-has-to-do-with-the-fact-that-you-are-responsible-for-the-care-of-the-child.'}\n",
      "initial triple: {'subject': 'No,-I', 'predicate': 'do-not-think', 'object': 'so.-I-think-it-has-to-do-with-the-fact-that-you-are-responsible-for-the-care-of-the-child.'}\n",
      "initial triple: {'subject': 'No,-I', 'predicate': 'do-not-think', 'object': 'so.-I-think-it-has-to-do-with-the-fact-that-you-are-responsible-for-the-care-of-the-child.'}\n",
      "initial triple: {'subject': 'No,-I', 'predicate': 'do-not-think', 'object': 'so.-I-think-it-has-to-do-with-the-fact-that-you-are-responsible-for-the-care-of-the-child.'}\n",
      "initial triple: {'subject': 'No,-I', 'predicate': 'do-not-think', 'object': 'so.-I-think-it-has-to-do-with-the-fact-that-you-are-responsible-for-the-care-of-the-child.'}\n",
      "initial triple: {'subject': 'No,-I', 'predicate': 'do-not-think', 'object': 'so.-I-think-it-has-to-do-with-the-fact-that-you-are-responsible-for-the-care-of-the-child.'}\n",
      "initial triple: {'subject': 'No,-I', 'predicate': 'do-not-think', 'object': 'so.-I-think-it-has-to-do-with-the-fact-that-you-are-responsible-for-the-care-of-the-child.'}\n",
      "initial triple: {'subject': 'No,-I', 'predicate': 'do-not-think', 'object': 'so.-I-think-it-has-to-do-with-the-fact-that-you-are-responsible-for-the-care-of-the-child.'}\n",
      "initial triple: {'subject': 'No,-I', 'predicate': 'do-not-think', 'object': 'so.-I-think-it-has-to-do-with-the-fact-that-you-are-responsible-for-the-care-of-the-child.'}\n",
      "initial triple: {'subject': 'No,-I', 'predicate': 'do-not-think', 'object': 'so.-I-think-it-has-to-do-with-the-fact-that-you-are-responsible-for-the-care-of-the-child.'}\n",
      "initial triple: {'subject': 'No,-I', 'predicate': 'do-not-think', 'object': 'so.-I-think-it-has-to-do-with-the-fact-that-you-are-responsible-for-the-care-of-the-child.'}\n",
      "initial triple: {'subject': 'No,-I', 'predicate': 'do-not-think', 'object': 'so.-I-think-it-has-to-do-with-the-fact-that-you-are-responsible-for-the-care-of-the-child.'}\n",
      "initial triple: {'subject': 'No,-I', 'predicate': 'do-not-think', 'object': 'so.-I-think-it-has-to-do-with-the-fact-that-you-are-responsible-for-the-care-of-the-child.'}\n",
      "initial triple: {'subject': 'No,-I', 'predicate': 'do-not-think', 'object': 'so.-I-think-it-has-to-do-with-the-fact-that-you-are-responsible-for-the-care-of-the-child.'}\n",
      "initial triple: {'subject': 'No,-I', 'predicate': 'do-not-think', 'object': 'so.-I-think-it-has-to-do-with-the-fact-that-you-are-responsible-for-the-care-of-the-child.'}\n",
      "initial triple: {'subject': 'No,-I', 'predicate': 'do-not-think', 'object': 'so.-I-think-it-has-to-do-with-the-fact-that-you-are-responsible-for-the-care-of-the-child.'}\n",
      "initial triple: {'subject': 'No,-I', 'predicate': 'do-not-think', 'object': 'so.-I-think-it-has-to-do-with-the-fact-that-you-are-responsible-for-the-care-of-the-child.'}\n",
      "initial triple: {'subject': 'No,-I', 'predicate': 'do-not-think', 'object': 'so.-I-think-it-has-to-do-with-the-fact-that-you-are-responsible-for-the-care-of-the-child.'}\n",
      "initial triple: {'subject': 'No,-I', 'predicate': 'do-not-think', 'object': 'so.-I-think-it-has-to-do-with-the-fact-that-you-are-responsible-for-the-care-of-the-child.'}\n",
      "initial triple: {'subject': 'No,-I', 'predicate': 'do-not-think', 'object': 'so.-I-think-it-has-to-do-with-the-fact-that-you-are-responsible-for-the-care-of-the-child.'}\n",
      "initial triple: {'subject': 'No,-I', 'predicate': 'do-not-think', 'object': 'so.-I-think-it-has-to-do-with-the-fact-that-you-are-responsible-for-the-care-of-the-child.'}\n",
      "initial triple: {'subject': 'No,-I', 'predicate': 'do-not-think', 'object': 'so.-I-think-it-has-to-do-with-the-fact-that-you-are-responsible-for-the-care-of-the-child.'}\n",
      "initial triple: {'subject': 'No,-I', 'predicate': 'do-not-think', 'object': 'so.-I-think-it-has-to-do-with-the-fact-that-you-are-responsible-for-the-care-of-the-child.'}\n",
      "initial triple: {'subject': 'No,-I', 'predicate': 'do-not-think', 'object': 'so.-I-think-it-has-to-do-with-the-fact-that-you-are-responsible-for-the-care-of-the-child.'}\n",
      "initial triple: {'subject': 'No,-I', 'predicate': 'do-not-think', 'object': 'so.-I-think-it-has-to-do-with-the-fact-that-you-are-responsible-for-the-care-of-the-child.'}\n",
      "initial triple: {'subject': 'No,-I', 'predicate': 'do-not-think', 'object': 'so.-I-think-it-has-to-do-with-the-fact-that-you-are-responsible-for-the-care-of-the-child.'}\n",
      "initial triple: {'subject': 'No,-I', 'predicate': 'do-not-think', 'object': 'so.-I-think-it-has-to-do-with-the-fact-that-you-are-responsible-for-the-care-of-the-child.'}\n",
      "initial triple: {'subject': 'No,-I', 'predicate': 'do-not-think', 'object': 'so.-I-think-it-has-to-do-with-the-fact-that-you-are-responsible-for-the-care-of-the-child.'}\n",
      "initial triple: {'subject': 'No,-I', 'predicate': 'do-not-think', 'object': 'so.-I-think-it-has-to-do-with-the-fact-that-you-are-responsible-for-the-care-of-the-child.'}\n",
      "initial triple: {'subject': 'No,-I', 'predicate': 'do-not-think', 'object': 'so.-I-think-it-has-to-do-with-the-fact-that-you-are-responsible-for-the-care-of-the-child.'}\n",
      "initial triple: {'subject': 'No,-I', 'predicate': 'do-not-think', 'object': 'so.-I-think-it-has-to-do-with-the-fact-that-you-are-responsible-for-the-care-of-the-child.'}\n",
      "initial triple: {'subject': 'No,-I', 'predicate': 'do-not-think', 'object': 'so.-I-think-it-has-to-do-with-the-fact-that-you-are-responsible-for-the-care-of-the-child.'}\n",
      "initial triple: {'subject': 'No,-I', 'predicate': 'do-not-think', 'object': 'so.-I-think-it-has-to-do-with-the-fact-that-you-are-responsible-for-the-care-of-the-child.'}\n",
      "initial triple: {'subject': 'No,-I', 'predicate': 'do-not-think', 'object': 'so.-I-think-it-has-to-do-with-the-fact-that-you-are-responsible-for-the-care-of-the-child.'}\n",
      "initial triple: {'subject': 'No,-I', 'predicate': 'do-not-think', 'object': 'so.-I-think-it-has-to-do-with-the-fact-that-you-are-responsible-for-the-care-of-the-child.'}\n",
      "initial triple: {'subject': 'No,-I', 'predicate': 'do-not-think', 'object': 'so.-I-think-it-has-to-do-with-the-fact-that-you-are-responsible-for-the-care-of-the-child.'}\n",
      "initial triple: {'subject': 'No,-I', 'predicate': 'do-not-think', 'object': 'so.-I-think-it-has-to-do-with-the-fact-that-you-are-responsible-for-the-care-of-the-child.'}\n",
      "initial triple: {'subject': 'No,-I', 'predicate': 'do-not-think', 'object': 'so.-I-think-it-has-to-do-with-the-fact-that-you-are-responsible-for-the-care-of-the-child.'}\n",
      "initial triple: {'subject': 'No,-I', 'predicate': 'do-not-think', 'object': 'so.-I-think-it-has-to-do-with-the-fact-that-you-are-responsible-for-the-care-of-the-child.'}\n",
      "initial triple: {'subject': 'No,-I', 'predicate': 'do-not-think', 'object': 'so.-I-think-it-has-to-do-with-the-fact-that-you-are-responsible-for-the-care-of-the-child.'}\n",
      "initial triple: {'subject': 'No,-I', 'predicate': 'do-not-think', 'object': 'so.-I-think-it-has-to-do-with-the-fact-that-you-are-responsible-for-the-care-of-the-child.'}\n",
      "initial triple: {'subject': 'No,-I', 'predicate': 'do-not-think', 'object': 'so.-I-think-it-has-to-do-with-the-fact-that-you-are-responsible-for-the-care-of-the-child.'}\n",
      "initial triple: {'subject': 'No,-I', 'predicate': 'do-not-think', 'object': 'so.-I-think-it-has-to-do-with-the-fact-that-you-are-responsible-for-the-care-of-the-child.'}\n",
      "initial triple: {'subject': 'No,-I', 'predicate': 'do-not-think', 'object': 'so.-I-think-it-has-to-do-with-the-fact-that-you-are-responsible-for-the-care-of-the-child.'}\n",
      "initial triple: {'subject': 'No,-I', 'predicate': 'do-not-think', 'object': 'so.-I-think-it-has-to-do-with-the-fact-that-you-are-responsible-for-the-care-of-the-child.'}\n",
      "initial triple: {'subject': 'No,-I', 'predicate': 'do-not-think', 'object': 'so.-I-think-it-has-to-do-with-the-fact-that-you-are-responsible-for-the-care-of-the-child.'}\n",
      "initial triple: {'subject': 'No,-I', 'predicate': 'do-not-think', 'object': 'so.-I-think-it-has-to-do-with-the-fact-that-you-are-responsible-for-the-care-of-the-child.'}\n",
      "initial triple: {'subject': 'No,-I', 'predicate': 'do-not-think', 'object': 'so.-I-think-it-has-to-do-with-the-fact-that-you-are-responsible-for-the-care-of-the-child.'}\n",
      "initial triple: {'subject': 'No,-I', 'predicate': 'do-not-think', 'object': 'so.-I-think-it-has-to-do-with-the-fact-that-you-are-responsible-for-the-care-of-the-child.'}\n",
      "initial triple: {'subject': 'No,-I', 'predicate': 'do-not-think', 'object': 'so.-I-think-it-has-to-do-with-the-fact-that-you-are-responsible-for-the-care-of-the-child.'}\n",
      "initial triple: {'subject': 'No,-I', 'predicate': 'do-not-think', 'object': 'so.-I-think-it-has-to-do-with-the-fact-that-you-are-responsible-for-the-care-of-the-child.'}\n",
      "initial triple: {'subject': 'No,-I', 'predicate': 'do-not-think', 'object': 'so.-I-think-it-has-to-do-with-the-fact-that-you-are-responsible-for-the-care-of-the-child.'}\n",
      "initial triple: {'subject': 'No,-I', 'predicate': 'do-not-think', 'object': 'so.-I-think-it-has-to-do-with-the-fact-that-you-are-responsible-for-the-care-of-the-child.'}\n",
      "initial triple: {'subject': 'No,-I', 'predicate': 'do-not-think', 'object': 'so.-I-think-it-has-to-do-with-the-fact-that-you-are-responsible-for-the-care-of-the-child.'}\n",
      "initial triple: {'subject': 'No,-I', 'predicate': 'do-not-think', 'object': 'so.-I-think-it-has-to-do-with-the-fact-that-you-are-responsible-for-the-care-of-the-child.'}\n",
      "initial triple: {'subject': 'No,-I', 'predicate': 'do-not-think', 'object': 'so.-I-think-it-has-to-do-with-the-fact-that-you-are-responsible-for-the-care-of-the-child.'}\n",
      "initial triple: {'subject': 'No,-I', 'predicate': 'do-not-think', 'object': 'so.-I-think-it-has-to-do-with-the-fact-that-you-are-responsible-for-the-care-of-the-child.'}\n",
      "initial triple: {'subject': 'No,-I', 'predicate': 'do-not-think', 'object': 'so.-I-think-it-has-to-do-with-the-fact-that-you-are-responsible-for-the-care-of-the-child.'}\n",
      "initial triple: {'subject': 'No,-I', 'predicate': 'do-not-think', 'object': 'so.-I-think-it-has-to-do-with-the-fact-that-you-are-responsible-for-the-care-of-the-child.'}\n",
      "initial triple: {'subject': 'No,-I', 'predicate': 'do-not-think', 'object': 'so.-I-think-it-has-to-do-with-the-fact-that-you-are-responsible-for-the-care-of-the-child.'}\n",
      "initial triple: {'subject': 'No,-I', 'predicate': 'do-not-think', 'object': 'so.-I-think-it-has-to-do-with-the-fact-that-you-are-responsible-for-the-care-of-the-child.'}\n",
      "initial triple: {'subject': 'No,-I', 'predicate': 'do-not-think', 'object': 'so.-I-think-it-has-to-do-with-the-fact-that-you-are-responsible-for-the-care-of-the-child.'}\n",
      "initial triple: {'subject': 'No,-I', 'predicate': 'do-not-think', 'object': 'so.-I-think-it-has-to-do-with-the-fact-that-you-are-responsible-for-the-care-of-the-child.'}\n",
      "initial triple: {'subject': 'No,-I', 'predicate': 'do-not-think', 'object': 'so.-I-think-it-has-to-do-with-the-fact-that-you-are-responsible-for-the-care-of-the-child.'}\n",
      "initial triple: {'subject': 'No,-I', 'predicate': 'do-not-think', 'object': 'so.-I-think-it-has-to-do-with-the-fact-that-you-are-responsible-for-the-care-of-the-child.'}\n",
      "initial triple: {'subject': 'No,-I', 'predicate': 'do-not-think', 'object': 'so.-I-think-it-has-to-do-with-the-fact-that-you-are-responsible-for-the-care-of-the-child.'}\n",
      "initial triple: {'subject': 'No,-I', 'predicate': 'do-not-think', 'object': 'so.-I-think-it-has-to-do-with-the-fact-that-you-are-responsible-for-the-care-of-the-child.'}\n",
      "initial triple: {'subject': 'No,-I', 'predicate': 'do-not-think', 'object': 'so.-I-think-it-has-to-do-with-the-fact-that-you-are-responsible-for-the-care-of-the-child.'}\n",
      "initial triple: {'subject': 'No,-I', 'predicate': 'do-not-think', 'object': 'so.-I-think-it-has-to-do-with-the-fact-that-you-are-responsible-for-the-care-of-the-child.'}\n",
      "initial triple: {'subject': 'No,-I', 'predicate': 'do-not-think', 'object': 'so.-I-think-it-has-to-do-with-the-fact-that-you-are-responsible-for-the-care-of-the-child.'}\n",
      "initial triple: {'subject': 'No,-I', 'predicate': 'do-not-think', 'object': 'so.-I-think-it-has-to-do-with-the-fact-that-you-are-responsible-for-the-care-of-the-child.'}\n",
      "initial triple: {'subject': 'No,-I', 'predicate': 'do-not-think', 'object': 'so.-I-think-it-has-to-do-with-the-fact-that-you-are-responsible-for-the-care-of-the-child.'}\n",
      "initial triple: {'subject': 'No,-I', 'predicate': 'do-not-think', 'object': 'so.-I-think-it-has-to-do-with-the-fact-that-you-are-responsible-for-the-care-of-the-child.'}\n",
      "initial triple: {'subject': 'No,-I', 'predicate': 'do-not-think', 'object': 'so.-I-think-it-has-to-do-with-the-fact-that-you-are-responsible-for-the-care-of-the-child.'}\n",
      "initial triple: {'subject': 'No,-I', 'predicate': 'do-not-think', 'object': 'so.-I-think-it-has-to-do-with-the-fact-that-you-are-responsible-for-the-care-of-the-child.'}\n",
      "initial triple: {'subject': 'No,-I', 'predicate': 'do-not-think', 'object': 'so.-I-think-it-has-to-do-with-the-fact-that-you-are-responsible-for-the-care-of-the-child.'}\n",
      "initial triple: {'subject': 'No,-I', 'predicate': 'do-not-think', 'object': 'so.-I-think-it-has-to-do-with-the-fact-that-you-are-responsible-for-the-care-of-the-child.'}\n",
      "initial triple: {'subject': 'No,-I', 'predicate': 'do-not-think', 'object': 'so.-I-think-it-has-to-do-with-the-fact-that-you-are-responsible-for-the-care-of-the-child.'}\n",
      "initial triple: {'subject': 'No,-I', 'predicate': 'do-not-think', 'object': 'so.-I-think-it-has-to-do-with-the-fact-that-you-are-responsible-for-the-care-of-the-child.'}\n",
      "initial triple: {'subject': 'No,-I', 'predicate': 'do-not-think', 'object': 'so.-I-think-it-has-to-do-with-the-fact-that-you-are-responsible-for-the-care-of-the-child.'}\n",
      "initial triple: {'subject': 'No,-I', 'predicate': 'do-not-think', 'object': 'so.-I-think-it-has-to-do-with-the-fact-that-you-are-responsible-for-the-care-of-the-child.'}\n",
      "initial triple: {'subject': 'No,-I', 'predicate': 'do-not-think', 'object': 'so.-I-think-it-has-to-do-with-the-fact-that-you-are-responsible-for-the-care-of-the-child.'}\n",
      "initial triple: {'subject': 'No,-I', 'predicate': 'do-not-think', 'object': 'so.-I-think-it-has-to-do-with-the-fact-that-you-are-responsible-for-the-care-of-the-child.'}\n",
      "initial triple: {'subject': 'No,-I', 'predicate': 'do-not-think', 'object': 'so.-I-think-it-has-to-do-with-the-fact-that-you-are-responsible-for-the-care-of-the-child.'}\n",
      "initial triple: {'subject': 'No,-I', 'predicate': 'do-not-think', 'object': 'so.-I-think-it-has-to-do-with-the-fact-that-you-are-responsible-for-the-care-of-the-child.'}\n",
      "initial triple: {'subject': 'No,-I', 'predicate': 'do-not-think', 'object': 'so.-I-think-it-has-to-do-with-the-fact-that-you-are-responsible-for-the-care-of-the-child.'}\n"
     ]
    },
    {
     "name": "stderr",
     "output_type": "stream",
     "text": [
      "Couldn't parse input\n",
      "Couldn't parse input\n",
      "Couldn't parse input\n",
      "Couldn't parse input\n",
      "Couldn't parse input\n",
      "Couldn't parse input\n",
      "Couldn't parse input\n",
      "Couldn't parse input\n",
      "Couldn't parse input\n",
      "Couldn't parse input\n",
      "Couldn't parse input\n",
      "Couldn't parse input\n",
      "Couldn't parse input\n",
      "Couldn't parse input\n",
      "Couldn't parse input\n",
      "Couldn't parse input\n",
      "Couldn't parse input\n",
      "Couldn't parse input\n",
      "Couldn't parse input\n",
      "Couldn't parse input\n",
      "Couldn't parse input\n",
      "Couldn't parse input\n",
      "Couldn't parse input\n",
      "Couldn't parse input\n",
      "Couldn't parse input\n",
      "Couldn't parse input\n",
      "Couldn't parse input\n",
      "Couldn't parse input\n",
      "Couldn't parse input\n",
      "Couldn't parse input\n",
      "Couldn't parse input\n",
      "Couldn't parse input\n",
      "Couldn't parse input\n",
      "Couldn't parse input\n",
      "Couldn't parse input\n",
      "Couldn't parse input\n",
      "Couldn't parse input\n",
      "Couldn't parse input\n",
      "Couldn't parse input\n",
      "Couldn't parse input\n",
      "Couldn't parse input\n",
      "Couldn't parse input\n",
      "Couldn't parse input\n",
      "Couldn't parse input\n",
      "Couldn't parse input\n",
      "Couldn't parse input\n",
      "Couldn't parse input\n",
      "Couldn't parse input\n",
      "Couldn't parse input\n",
      "Couldn't parse input\n",
      "Couldn't parse input\n",
      "Couldn't parse input\n",
      "Couldn't parse input\n",
      "Couldn't parse input\n",
      "Couldn't parse input\n",
      "Couldn't parse input\n",
      "Couldn't parse input\n",
      "Couldn't parse input\n",
      "Couldn't parse input\n",
      "Couldn't parse input\n",
      "Couldn't parse input\n",
      "Couldn't parse input\n",
      "Couldn't parse input\n",
      "Couldn't parse input\n",
      "Couldn't parse input\n",
      "Couldn't parse input\n",
      "Couldn't parse input\n",
      "Couldn't parse input\n",
      "Couldn't parse input\n",
      "Couldn't parse input\n",
      "Couldn't parse input\n",
      "Couldn't parse input\n",
      "Couldn't parse input\n",
      "Couldn't parse input\n",
      "Couldn't parse input\n",
      "Couldn't parse input\n",
      "Couldn't parse input\n",
      "Couldn't parse input\n",
      "Couldn't parse input\n",
      "Couldn't parse input\n",
      "Couldn't parse input\n",
      "Couldn't parse input\n",
      "Couldn't parse input\n",
      "Couldn't parse input\n",
      "Couldn't parse input\n",
      "Couldn't parse input\n",
      "Couldn't parse input\n",
      "Couldn't parse input\n",
      "Couldn't parse input\n",
      "Couldn't parse input\n",
      "Couldn't parse input\n",
      "Couldn't parse input\n",
      "Couldn't parse input\n",
      "Couldn't parse input\n",
      "Couldn't parse input\n",
      "Couldn't parse input\n",
      "Couldn't parse input\n",
      "Couldn't parse input\n",
      "Couldn't parse input\n",
      "Couldn't parse input\n",
      "Couldn't parse input\n",
      "Couldn't parse input\n",
      "Couldn't parse input\n",
      "Couldn't parse input\n",
      "Couldn't parse input\n",
      "Couldn't parse input\n",
      "Couldn't parse input\n",
      "Couldn't parse input\n",
      "Couldn't parse input\n",
      "Couldn't parse input\n",
      "Couldn't parse input\n",
      "Couldn't parse input\n",
      "Couldn't parse input\n",
      "Couldn't parse input\n",
      "Couldn't parse input\n",
      "Couldn't parse input\n",
      "Couldn't parse input\n",
      "Couldn't parse input\n",
      "Couldn't parse input\n",
      "Couldn't parse input\n",
      "Couldn't parse input\n",
      "Couldn't parse input\n",
      "Couldn't parse input\n",
      "Couldn't parse input\n",
      "Couldn't parse input\n",
      "Couldn't parse input\n",
      "Couldn't parse input\n",
      "Couldn't parse input\n",
      "Couldn't parse input\n",
      "Couldn't parse input\n",
      "Couldn't parse input\n",
      "Couldn't parse input\n",
      "Couldn't parse input\n",
      "Couldn't parse input\n",
      "Couldn't parse input\n",
      "Couldn't parse input\n",
      "Couldn't parse input\n",
      "Couldn't parse input\n",
      "Couldn't parse input\n",
      "Couldn't parse input\n",
      "Couldn't parse input\n",
      "Couldn't parse input\n",
      "Couldn't parse input\n",
      "Couldn't parse input\n",
      "Couldn't parse input\n",
      "Couldn't parse input\n",
      "Couldn't parse input\n",
      "Couldn't parse input\n",
      "Couldn't parse input\n",
      "Couldn't parse input\n",
      "Couldn't parse input\n",
      "Couldn't parse input\n",
      "Couldn't parse input\n",
      "Couldn't parse input\n",
      "Couldn't parse input\n",
      "Couldn't parse input\n",
      "Couldn't parse input\n",
      "Couldn't parse input\n",
      "Couldn't parse input\n",
      "Couldn't parse input\n",
      "Couldn't parse input\n",
      "Couldn't parse input\n",
      "Couldn't parse input\n",
      "Couldn't parse input\n",
      "Couldn't parse input\n",
      "Couldn't parse input\n",
      "Couldn't parse input\n",
      "Couldn't parse input\n",
      "Couldn't parse input\n",
      "Couldn't parse input\n",
      "Couldn't parse input\n",
      "Couldn't parse input\n",
      "Couldn't parse input\n",
      "Couldn't parse input\n",
      "Couldn't parse input\n",
      "Couldn't parse input\n",
      "Couldn't parse input\n",
      "Couldn't parse input\n",
      "Couldn't parse input\n",
      "Couldn't parse input\n",
      "Couldn't parse input\n",
      "Couldn't parse input\n",
      "Couldn't parse input\n",
      "Couldn't parse input\n",
      "Couldn't parse input\n",
      "Couldn't parse input\n",
      "Couldn't parse input\n",
      "Couldn't parse input\n",
      "Couldn't parse input\n",
      "Couldn't parse input\n",
      "Couldn't parse input\n",
      "Couldn't parse input\n",
      "Couldn't parse input\n",
      "Couldn't parse input\n",
      "Couldn't parse input\n",
      "Couldn't parse input\n",
      "Couldn't parse input\n",
      "Couldn't parse input\n",
      "Couldn't parse input\n",
      "Couldn't parse input\n",
      "Couldn't parse input\n",
      "Couldn't parse input\n",
      "Couldn't parse input\n",
      "Couldn't parse input\n",
      "Couldn't parse input\n",
      "Couldn't parse input\n",
      "Couldn't parse input\n",
      "Couldn't parse input\n",
      "Couldn't parse input\n",
      "Couldn't parse input\n",
      "Couldn't parse input\n",
      "Couldn't parse input\n",
      "Couldn't parse input\n",
      "Couldn't parse input\n",
      "Couldn't parse input\n",
      "Couldn't parse input\n",
      "Couldn't parse input\n",
      "Couldn't parse input\n",
      "Couldn't parse input\n",
      "Couldn't parse input\n",
      "Couldn't parse input\n",
      "Couldn't parse input\n",
      "Couldn't parse input\n",
      "Couldn't parse input\n",
      "Couldn't parse input\n",
      "Couldn't parse input\n",
      "Couldn't parse input\n"
     ]
    },
    {
     "name": "stdout",
     "output_type": "stream",
     "text": [
      "initial triple: {'subject': 'No,-I', 'predicate': 'do-not-think', 'object': 'so.-I-think-it-has-to-do-with-the-fact-that-you-are-responsible-for-the-care-of-the-child.'}\n",
      "initial triple: {'subject': 'No,-I', 'predicate': 'do-not-think', 'object': 'so.-I-think-it-has-to-do-with-the-fact-that-you-are-responsible-for-the-care-of-the-child.'}\n",
      "initial triple: {'subject': 'No,-I', 'predicate': 'do-not-think', 'object': 'so.-I-think-it-has-to-do-with-the-fact-that-you-are-responsible-for-the-care-of-the-child.'}\n",
      "initial triple: {'subject': 'No,-I', 'predicate': 'do-not-think', 'object': 'so.-I-think-it-has-to-do-with-the-fact-that-you-are-responsible-for-the-care-of-the-child.'}\n",
      "initial triple: {'subject': 'No,-I', 'predicate': 'do-not-think', 'object': 'so.-I-think-it-has-to-do-with-the-fact-that-you-are-responsible-for-the-care-of-the-child.'}\n",
      "initial triple: {'subject': 'No,-I', 'predicate': 'do-not-think', 'object': 'so.-I-think-it-has-to-do-with-the-fact-that-you-are-responsible-for-the-care-of-the-child.'}\n",
      "initial triple: {'subject': 'No,-I', 'predicate': 'do-not-think', 'object': 'so.-I-think-it-has-to-do-with-the-fact-that-you-are-responsible-for-the-care-of-the-child.'}\n",
      "initial triple: {'subject': 'No,-I', 'predicate': 'do-not-think', 'object': 'so.-I-think-it-has-to-do-with-the-fact-that-you-are-responsible-for-the-care-of-the-child.'}\n",
      "initial triple: {'subject': 'No,-I', 'predicate': 'do-not-think', 'object': 'so.-I-think-it-has-to-do-with-the-fact-that-you-are-responsible-for-the-care-of-the-child.'}\n",
      "initial triple: {'subject': 'No,-I', 'predicate': 'do-not-think', 'object': 'so.-I-think-it-has-to-do-with-the-fact-that-you-are-responsible-for-the-care-of-the-child.'}\n",
      "initial triple: {'subject': 'No,-I', 'predicate': 'do-not-think', 'object': 'so.-I-think-it-has-to-do-with-the-fact-that-you-are-responsible-for-the-care-of-the-child.'}\n",
      "initial triple: {'subject': 'No,-I', 'predicate': 'do-not-think', 'object': 'so.-I-think-it-has-to-do-with-the-fact-that-you-are-responsible-for-the-care-of-the-child.'}\n",
      "initial triple: {'subject': 'No,-I', 'predicate': 'do-not-think', 'object': 'so.-I-think-it-has-to-do-with-the-fact-that-you-are-responsible-for-the-care-of-the-child.'}\n",
      "initial triple: {'subject': 'No,-I', 'predicate': 'do-not-think', 'object': 'so.-I-think-it-has-to-do-with-the-fact-that-you-are-responsible-for-the-care-of-the-child.'}\n",
      "initial triple: {'subject': 'No,-I', 'predicate': 'do-not-think', 'object': 'so.-I-think-it-has-to-do-with-the-fact-that-you-are-responsible-for-the-care-of-the-child.'}\n",
      "initial triple: {'subject': 'No,-I', 'predicate': 'do-not-think', 'object': 'so.-I-think-it-has-to-do-with-the-fact-that-you-are-responsible-for-the-care-of-the-child.'}\n",
      "initial triple: {'subject': 'No,-I', 'predicate': 'do-not-think', 'object': 'so.-I-think-it-has-to-do-with-the-fact-that-you-are-responsible-for-the-care-of-the-child.'}\n",
      "initial triple: {'subject': 'No,-I', 'predicate': 'do-not-think', 'object': 'so.-I-think-it-has-to-do-with-the-fact-that-you-are-responsible-for-the-care-of-the-child.'}\n",
      "initial triple: {'subject': 'No,-I', 'predicate': 'do-not-think', 'object': 'so.-I-think-it-has-to-do-with-the-fact-that-you-are-responsible-for-the-care-of-the-child.'}\n",
      "initial triple: {'subject': 'No,-I', 'predicate': 'do-not-think', 'object': 'so.-I-think-it-has-to-do-with-the-fact-that-you-are-responsible-for-the-care-of-the-child.'}\n",
      "initial triple: {'subject': 'No,-I', 'predicate': 'do-not-think', 'object': 'so.-I-think-it-has-to-do-with-the-fact-that-you-are-responsible-for-the-care-of-the-child.'}\n",
      "initial triple: {'subject': 'No,-I', 'predicate': 'do-not-think', 'object': 'so.-I-think-it-has-to-do-with-the-fact-that-you-are-responsible-for-the-care-of-the-child.'}\n",
      "initial triple: {'subject': 'No,-I', 'predicate': 'do-not-think', 'object': 'so.-I-think-it-has-to-do-with-the-fact-that-you-are-responsible-for-the-care-of-the-child.'}\n",
      "initial triple: {'subject': 'No,-I', 'predicate': 'do-not-think', 'object': 'so.-I-think-it-has-to-do-with-the-fact-that-you-are-responsible-for-the-care-of-the-child.'}\n",
      "initial triple: {'subject': 'No,-I', 'predicate': 'do-not-think', 'object': 'so.-I-think-it-has-to-do-with-the-fact-that-you-are-responsible-for-the-care-of-the-child.'}\n",
      "initial triple: {'subject': 'No,-I', 'predicate': 'do-not-think', 'object': 'so.-I-think-it-has-to-do-with-the-fact-that-you-are-responsible-for-the-care-of-the-child.'}\n",
      "initial triple: {'subject': 'No,-I', 'predicate': 'do-not-think', 'object': 'so.-I-think-it-has-to-do-with-the-fact-that-you-are-responsible-for-the-care-of-the-child.'}\n",
      "initial triple: {'subject': 'No,-I', 'predicate': 'do-not-think', 'object': 'so.-I-think-it-has-to-do-with-the-fact-that-you-are-responsible-for-the-care-of-the-child.'}\n",
      "initial triple: {'subject': 'No,-I', 'predicate': 'do-not-think', 'object': 'so.-I-think-it-has-to-do-with-the-fact-that-you-are-responsible-for-the-care-of-the-child.'}\n",
      "initial triple: {'subject': 'No,-I', 'predicate': 'do-not-think', 'object': 'so.-I-think-it-has-to-do-with-the-fact-that-you-are-responsible-for-the-care-of-the-child.'}\n",
      "initial triple: {'subject': 'No,-I', 'predicate': 'do-not-think', 'object': 'so.-I-think-it-has-to-do-with-the-fact-that-you-are-responsible-for-the-care-of-the-child.'}\n",
      "initial triple: {'subject': 'No,-I', 'predicate': 'do-not-think', 'object': 'so.-I-think-it-has-to-do-with-the-fact-that-you-are-responsible-for-the-care-of-the-child.'}\n",
      "initial triple: {'subject': 'No,-I', 'predicate': 'do-not-think', 'object': 'so.-I-think-it-has-to-do-with-the-fact-that-you-are-responsible-for-the-care-of-the-child.'}\n",
      "initial triple: {'subject': 'No,-I', 'predicate': 'do-not-think', 'object': 'so.-I-think-it-has-to-do-with-the-fact-that-you-are-responsible-for-the-care-of-the-child.'}\n",
      "initial triple: {'subject': 'No,-I', 'predicate': 'do-not-think', 'object': 'so.-I-think-it-has-to-do-with-the-fact-that-you-are-responsible-for-the-care-of-the-child.'}\n",
      "initial triple: {'subject': 'No,-I', 'predicate': 'do-not-think', 'object': 'so.-I-think-it-has-to-do-with-the-fact-that-you-are-responsible-for-the-care-of-the-child.'}\n",
      "initial triple: {'subject': 'No,-I', 'predicate': 'do-not-think', 'object': 'so.-I-think-it-has-to-do-with-the-fact-that-you-are-responsible-for-the-care-of-the-child.'}\n",
      "initial triple: {'subject': 'No,-I', 'predicate': 'do-not-think', 'object': 'so.-I-think-it-has-to-do-with-the-fact-that-you-are-responsible-for-the-care-of-the-child.'}\n",
      "initial triple: {'subject': 'No,-I', 'predicate': 'do-not-think', 'object': 'so.-I-think-it-has-to-do-with-the-fact-that-you-are-responsible-for-the-care-of-the-child.'}\n",
      "initial triple: {'subject': 'No,-I', 'predicate': 'do-not-think', 'object': 'so.-I-think-it-has-to-do-with-the-fact-that-you-are-responsible-for-the-care-of-the-child.'}\n",
      "initial triple: {'subject': 'No,-I', 'predicate': 'do-not-think', 'object': 'so.-I-think-it-has-to-do-with-the-fact-that-you-are-responsible-for-the-care-of-the-child.'}\n",
      "initial triple: {'subject': 'No,-I', 'predicate': 'do-not-think', 'object': 'so.-I-think-it-has-to-do-with-the-fact-that-you-are-responsible-for-the-care-of-the-child.'}\n",
      "initial triple: {'subject': 'No,-I', 'predicate': 'do-not-think', 'object': 'so.-I-think-it-has-to-do-with-the-fact-that-you-are-responsible-for-the-care-of-the-child.'}\n",
      "initial triple: {'subject': 'No,-I', 'predicate': 'do-not-think', 'object': 'so.-I-think-it-has-to-do-with-the-fact-that-you-are-responsible-for-the-care-of-the-child.'}\n",
      "initial triple: {'subject': 'No,-I', 'predicate': 'do-not-think', 'object': 'so.-I-think-it-has-to-do-with-the-fact-that-you-are-responsible-for-the-care-of-the-child.'}\n",
      "initial triple: {'subject': 'No,-I', 'predicate': 'do-not-think', 'object': 'so.-I-think-it-has-to-do-with-the-fact-that-you-are-responsible-for-the-care-of-the-child.'}\n",
      "initial triple: {'subject': 'No,-I', 'predicate': 'do-not-think', 'object': 'so.-I-think-it-has-to-do-with-the-fact-that-you-are-responsible-for-the-care-of-the-child.'}\n",
      "initial triple: {'subject': 'No,-I', 'predicate': 'do-not-think', 'object': 'so.-I-think-it-has-to-do-with-the-fact-that-you-are-responsible-for-the-care-of-the-child.'}\n",
      "initial triple: {'subject': 'No,-I', 'predicate': 'do-not-think', 'object': 'so.-I-think-it-has-to-do-with-the-fact-that-you-are-responsible-for-the-care-of-the-child.'}\n",
      "initial triple: {'subject': 'No,-I', 'predicate': 'do-not-think', 'object': 'so.-I-think-it-has-to-do-with-the-fact-that-you-are-responsible-for-the-care-of-the-child.'}\n",
      "initial triple: {'subject': 'No,-I', 'predicate': 'do-not-think', 'object': 'so.-I-think-it-has-to-do-with-the-fact-that-you-are-responsible-for-the-care-of-the-child.'}\n",
      "initial triple: {'subject': 'No,-I', 'predicate': 'do-not-think', 'object': 'so.-I-think-it-has-to-do-with-the-fact-that-you-are-responsible-for-the-care-of-the-child.'}\n",
      "initial triple: {'subject': 'No,-I', 'predicate': 'do-not-think', 'object': 'so.-I-think-it-has-to-do-with-the-fact-that-you-are-responsible-for-the-care-of-the-child.'}\n",
      "initial triple: {'subject': 'No,-I', 'predicate': 'do-not-think', 'object': 'so.-I-think-it-has-to-do-with-the-fact-that-you-are-responsible-for-the-care-of-the-child.'}\n",
      "initial triple: {'subject': 'No,-I', 'predicate': 'do-not-think', 'object': 'so.-I-think-it-has-to-do-with-the-fact-that-you-are-responsible-for-the-care-of-the-child.'}\n",
      "initial triple: {'subject': 'No,-I', 'predicate': 'do-not-think', 'object': 'so.-I-think-it-has-to-do-with-the-fact-that-you-are-responsible-for-the-care-of-the-child.'}\n",
      "initial triple: {'subject': 'No,-I', 'predicate': 'do-not-think', 'object': 'so.-I-think-it-has-to-do-with-the-fact-that-you-are-responsible-for-the-care-of-the-child.'}\n",
      "initial triple: {'subject': 'No,-I', 'predicate': 'do-not-think', 'object': 'so.-I-think-it-has-to-do-with-the-fact-that-you-are-responsible-for-the-care-of-the-child.'}\n",
      "initial triple: {'subject': 'No,-I', 'predicate': 'do-not-think', 'object': 'so.-I-think-it-has-to-do-with-the-fact-that-you-are-responsible-for-the-care-of-the-child.'}\n",
      "initial triple: {'subject': 'No,-I', 'predicate': 'do-not-think', 'object': 'so.-I-think-it-has-to-do-with-the-fact-that-you-are-responsible-for-the-care-of-the-child.'}\n",
      "initial triple: {'subject': 'No,-I', 'predicate': 'do-not-think', 'object': 'so.-I-think-it-has-to-do-with-the-fact-that-you-are-responsible-for-the-care-of-the-child.'}\n",
      "initial triple: {'subject': 'No,-I', 'predicate': 'do-not-think', 'object': 'so.-I-think-it-has-to-do-with-the-fact-that-you-are-responsible-for-the-care-of-the-child.'}\n",
      "initial triple: {'subject': 'No,-I', 'predicate': 'do-not-think', 'object': 'so.-I-think-it-has-to-do-with-the-fact-that-you-are-responsible-for-the-care-of-the-child.'}\n",
      "initial triple: {'subject': 'No,-I', 'predicate': 'do-not-think', 'object': 'so.-I-think-it-has-to-do-with-the-fact-that-you-are-responsible-for-the-care-of-the-child.'}\n",
      "initial triple: {'subject': 'No,-I', 'predicate': 'do-not-think', 'object': 'so.-I-think-it-has-to-do-with-the-fact-that-you-are-responsible-for-the-care-of-the-child.'}\n",
      "initial triple: {'subject': 'No,-I', 'predicate': 'do-not-think', 'object': 'so.-I-think-it-has-to-do-with-the-fact-that-you-are-responsible-for-the-care-of-the-child.'}\n",
      "initial triple: {'subject': 'No,-I', 'predicate': 'do-not-think', 'object': 'so.-I-think-it-has-to-do-with-the-fact-that-you-are-responsible-for-the-care-of-the-child.'}\n",
      "initial triple: {'subject': 'No,-I', 'predicate': 'do-not-think', 'object': 'so.-I-think-it-has-to-do-with-the-fact-that-you-are-responsible-for-the-care-of-the-child.'}\n",
      "initial triple: {'subject': 'No,-I', 'predicate': 'do-not-think', 'object': 'so.-I-think-it-has-to-do-with-the-fact-that-you-are-responsible-for-the-care-of-the-child.'}\n",
      "initial triple: {'subject': 'No,-I', 'predicate': 'do-not-think', 'object': 'so.-I-think-it-has-to-do-with-the-fact-that-you-are-responsible-for-the-care-of-the-child.'}\n",
      "initial triple: {'subject': 'No,-I', 'predicate': 'do-not-think', 'object': 'so.-I-think-it-has-to-do-with-the-fact-that-you-are-responsible-for-the-care-of-the-child.'}\n",
      "initial triple: {'subject': 'No,-I', 'predicate': 'do-not-think', 'object': 'so.-I-think-it-has-to-do-with-the-fact-that-you-are-responsible-for-the-care-of-the-child.'}\n",
      "initial triple: {'subject': 'No,-I', 'predicate': 'do-not-think', 'object': 'so.-I-think-it-has-to-do-with-the-fact-that-you-are-responsible-for-the-care-of-the-child.'}\n",
      "initial triple: {'subject': 'No,-I', 'predicate': 'do-not-think', 'object': 'so.-I-think-it-has-to-do-with-the-fact-that-you-are-responsible-for-the-care-of-the-child.'}\n",
      "initial triple: {'subject': 'No,-I', 'predicate': 'do-not-think', 'object': 'so.-I-think-it-has-to-do-with-the-fact-that-you-are-responsible-for-the-care-of-the-child.'}\n",
      "initial triple: {'subject': 'No,-I', 'predicate': 'do-not-think', 'object': 'so.-I-think-it-has-to-do-with-the-fact-that-you-are-responsible-for-the-care-of-the-child.'}\n",
      "initial triple: {'subject': 'No,-I', 'predicate': 'do-not-think', 'object': 'so.-I-think-it-has-to-do-with-the-fact-that-you-are-responsible-for-the-care-of-the-child.'}\n",
      "initial triple: {'subject': 'No,-I', 'predicate': 'do-not-think', 'object': 'so.-I-think-it-has-to-do-with-the-fact-that-you-are-responsible-for-the-care-of-the-child.'}\n",
      "initial triple: {'subject': 'No,-I', 'predicate': 'do-not-think', 'object': 'so.-I-think-it-has-to-do-with-the-fact-that-you-are-responsible-for-the-care-of-the-child.'}\n",
      "initial triple: {'subject': 'No,-I', 'predicate': 'do-not-think', 'object': 'so.-I-think-it-has-to-do-with-the-fact-that-you-are-responsible-for-the-care-of-the-child.'}\n",
      "initial triple: {'subject': 'No,-I', 'predicate': 'do-not-think', 'object': 'so.-I-think-it-has-to-do-with-the-fact-that-you-are-responsible-for-the-care-of-the-child.'}\n",
      "initial triple: {'subject': 'No,-I', 'predicate': 'do-not-think', 'object': 'so.-I-think-it-has-to-do-with-the-fact-that-you-are-responsible-for-the-care-of-the-child.'}\n",
      "initial triple: {'subject': 'No,-I', 'predicate': 'do-not-think', 'object': 'so.-I-think-it-has-to-do-with-the-fact-that-you-are-responsible-for-the-care-of-the-child.'}\n",
      "initial triple: {'subject': 'No,-I', 'predicate': 'do-not-think', 'object': 'so.-I-think-it-has-to-do-with-the-fact-that-you-are-responsible-for-the-care-of-the-child.'}\n",
      "initial triple: {'subject': 'No,-I', 'predicate': 'do-not-think', 'object': 'so.-I-think-it-has-to-do-with-the-fact-that-you-are-responsible-for-the-care-of-the-child.'}\n",
      "initial triple: {'subject': 'No,-I', 'predicate': 'do-not-think', 'object': 'so.-I-think-it-has-to-do-with-the-fact-that-you-are-responsible-for-the-care-of-the-child.'}\n",
      "initial triple: {'subject': 'No,-I', 'predicate': 'do-not-think', 'object': 'so.-I-think-it-has-to-do-with-the-fact-that-you-are-responsible-for-the-care-of-the-child.'}\n",
      "initial triple: {'subject': 'No,-I', 'predicate': 'do-not-think', 'object': 'so.-I-think-it-has-to-do-with-the-fact-that-you-are-responsible-for-the-care-of-the-child.'}\n",
      "initial triple: {'subject': 'No,-I', 'predicate': 'do-not-think', 'object': 'so.-I-think-it-has-to-do-with-the-fact-that-you-are-responsible-for-the-care-of-the-child.'}\n",
      "initial triple: {'subject': 'No,-I', 'predicate': 'do-not-think', 'object': 'so.-I-think-it-has-to-do-with-the-fact-that-you-are-responsible-for-the-care-of-the-child.'}\n",
      "initial triple: {'subject': 'No,-I', 'predicate': 'do-not-think', 'object': 'so.-I-think-it-has-to-do-with-the-fact-that-you-are-responsible-for-the-care-of-the-child.'}\n",
      "initial triple: {'subject': 'No,-I', 'predicate': 'do-not-think', 'object': 'so.-I-think-it-has-to-do-with-the-fact-that-you-are-responsible-for-the-care-of-the-child.'}\n",
      "initial triple: {'subject': 'No,-I', 'predicate': 'do-not-think', 'object': 'so.-I-think-it-has-to-do-with-the-fact-that-you-are-responsible-for-the-care-of-the-child.'}\n",
      "initial triple: {'subject': 'No,-I', 'predicate': 'do-not-think', 'object': 'so.-I-think-it-has-to-do-with-the-fact-that-you-are-responsible-for-the-care-of-the-child.'}\n",
      "initial triple: {'subject': 'No,-I', 'predicate': 'do-not-think', 'object': 'so.-I-think-it-has-to-do-with-the-fact-that-you-are-responsible-for-the-care-of-the-child.'}\n",
      "initial triple: {'subject': 'No,-I', 'predicate': 'do-not-think', 'object': 'so.-I-think-it-has-to-do-with-the-fact-that-you-are-responsible-for-the-care-of-the-child.'}\n",
      "initial triple: {'subject': 'No,-I', 'predicate': 'do-not-think', 'object': 'so.-I-think-it-has-to-do-with-the-fact-that-you-are-responsible-for-the-care-of-the-child.'}\n",
      "initial triple: {'subject': 'No,-I', 'predicate': 'do-not-think', 'object': 'so.-I-think-it-has-to-do-with-the-fact-that-you-are-responsible-for-the-care-of-the-child.'}\n",
      "initial triple: {'subject': 'No,-I', 'predicate': 'do-not-think', 'object': 'so.-I-think-it-has-to-do-with-the-fact-that-you-are-responsible-for-the-care-of-the-child.'}\n",
      "initial triple: {'subject': 'No,-I', 'predicate': 'do-not-think', 'object': 'so.-I-think-it-has-to-do-with-the-fact-that-you-are-responsible-for-the-care-of-the-child.'}\n",
      "initial triple: {'subject': 'No,-I', 'predicate': 'do-not-think', 'object': 'so.-I-think-it-has-to-do-with-the-fact-that-you-are-responsible-for-the-care-of-the-child.'}\n",
      "initial triple: {'subject': 'No,-I', 'predicate': 'do-not-think', 'object': 'so.-I-think-it-has-to-do-with-the-fact-that-you-are-responsible-for-the-care-of-the-child.'}\n",
      "initial triple: {'subject': 'No,-I', 'predicate': 'do-not-think', 'object': 'so.-I-think-it-has-to-do-with-the-fact-that-you-are-responsible-for-the-care-of-the-child.'}\n",
      "initial triple: {'subject': 'No,-I', 'predicate': 'do-not-think', 'object': 'so.-I-think-it-has-to-do-with-the-fact-that-you-are-responsible-for-the-care-of-the-child.'}\n",
      "initial triple: {'subject': 'No,-I', 'predicate': 'do-not-think', 'object': 'so.-I-think-it-has-to-do-with-the-fact-that-you-are-responsible-for-the-care-of-the-child.'}\n",
      "initial triple: {'subject': 'No,-I', 'predicate': 'do-not-think', 'object': 'so.-I-think-it-has-to-do-with-the-fact-that-you-are-responsible-for-the-care-of-the-child.'}\n",
      "initial triple: {'subject': 'No,-I', 'predicate': 'do-not-think', 'object': 'so.-I-think-it-has-to-do-with-the-fact-that-you-are-responsible-for-the-care-of-the-child.'}\n",
      "initial triple: {'subject': 'No,-I', 'predicate': 'do-not-think', 'object': 'so.-I-think-it-has-to-do-with-the-fact-that-you-are-responsible-for-the-care-of-the-child.'}\n",
      "initial triple: {'subject': 'No,-I', 'predicate': 'do-not-think', 'object': 'so.-I-think-it-has-to-do-with-the-fact-that-you-are-responsible-for-the-care-of-the-child.'}\n",
      "initial triple: {'subject': 'No,-I', 'predicate': 'do-not-think', 'object': 'so.-I-think-it-has-to-do-with-the-fact-that-you-are-responsible-for-the-care-of-the-child.'}\n",
      "initial triple: {'subject': 'No,-I', 'predicate': 'do-not-think', 'object': 'so.-I-think-it-has-to-do-with-the-fact-that-you-are-responsible-for-the-care-of-the-child.'}\n",
      "initial triple: {'subject': 'No,-I', 'predicate': 'do-not-think', 'object': 'so.-I-think-it-has-to-do-with-the-fact-that-you-are-responsible-for-the-care-of-the-child.'}\n",
      "initial triple: {'subject': 'No,-I', 'predicate': 'do-not-think', 'object': 'so.-I-think-it-has-to-do-with-the-fact-that-you-are-responsible-for-the-care-of-the-child.'}\n",
      "initial triple: {'subject': 'No,-I', 'predicate': 'do-not-think', 'object': 'so.-I-think-it-has-to-do-with-the-fact-that-you-are-responsible-for-the-care-of-the-child.'}\n",
      "initial triple: {'subject': 'No,-I', 'predicate': 'do-not-think', 'object': 'so.-I-think-it-has-to-do-with-the-fact-that-you-are-responsible-for-the-care-of-the-child.'}\n",
      "initial triple: {'subject': 'No,-I', 'predicate': 'do-not-think', 'object': 'so.-I-think-it-has-to-do-with-the-fact-that-you-are-responsible-for-the-care-of-the-child.'}\n",
      "initial triple: {'subject': 'No,-I', 'predicate': 'do-not-think', 'object': 'so.-I-think-it-has-to-do-with-the-fact-that-you-are-responsible-for-the-care-of-the-child.'}\n",
      "initial triple: {'subject': 'No,-I', 'predicate': 'do-not-think', 'object': 'so.-I-think-it-has-to-do-with-the-fact-that-you-are-responsible-for-the-care-of-the-child.'}\n",
      "initial triple: {'subject': 'No,-I', 'predicate': 'do-not-think', 'object': 'so.-I-think-it-has-to-do-with-the-fact-that-you-are-responsible-for-the-care-of-the-child.'}\n",
      "initial triple: {'subject': 'No,-I', 'predicate': 'do-not-think', 'object': 'so.-I-think-it-has-to-do-with-the-fact-that-you-are-responsible-for-the-care-of-the-child.'}\n",
      "initial triple: {'subject': 'No,-I', 'predicate': 'do-not-think', 'object': 'so.-I-think-it-has-to-do-with-the-fact-that-you-are-responsible-for-the-care-of-the-child.'}\n",
      "initial triple: {'subject': 'No,-I', 'predicate': 'do-not-think', 'object': 'so.-I-think-it-has-to-do-with-the-fact-that-you-are-responsible-for-the-care-of-the-child.'}\n",
      "initial triple: {'subject': 'No,-I', 'predicate': 'do-not-think', 'object': 'so.-I-think-it-has-to-do-with-the-fact-that-you-are-responsible-for-the-care-of-the-child.'}\n",
      "initial triple: {'subject': 'No,-I', 'predicate': 'do-not-think', 'object': 'so.-I-think-it-has-to-do-with-the-fact-that-you-are-responsible-for-the-care-of-the-child.'}\n",
      "initial triple: {'subject': 'No,-I', 'predicate': 'do-not-think', 'object': 'so.-I-think-it-has-to-do-with-the-fact-that-you-are-responsible-for-the-care-of-the-child.'}\n",
      "initial triple: {'subject': 'No,-I', 'predicate': 'do-not-think', 'object': 'so.-I-think-it-has-to-do-with-the-fact-that-you-are-responsible-for-the-care-of-the-child.'}\n",
      "initial triple: {'subject': 'No,-I', 'predicate': 'do-not-think', 'object': 'so.-I-think-it-has-to-do-with-the-fact-that-you-are-responsible-for-the-care-of-the-child.'}\n",
      "initial triple: {'subject': 'No,-I', 'predicate': 'do-not-think', 'object': 'so.-I-think-it-has-to-do-with-the-fact-that-you-are-responsible-for-the-care-of-the-child.'}\n",
      "initial triple: {'subject': 'No,-I', 'predicate': 'do-not-think', 'object': 'so.-I-think-it-has-to-do-with-the-fact-that-you-are-responsible-for-the-care-of-the-child.'}\n",
      "initial triple: {'subject': 'No,-I', 'predicate': 'do-not-think', 'object': 'so.-I-think-it-has-to-do-with-the-fact-that-you-are-responsible-for-the-care-of-the-child.'}\n",
      "initial triple: {'subject': 'No,-I', 'predicate': 'do-not-think', 'object': 'so.-I-think-it-has-to-do-with-the-fact-that-you-are-responsible-for-the-care-of-the-child.'}\n",
      "initial triple: {'subject': 'No,-I', 'predicate': 'do-not-think', 'object': 'so.-I-think-it-has-to-do-with-the-fact-that-you-are-responsible-for-the-care-of-the-child.'}\n",
      "initial triple: {'subject': 'No,-I', 'predicate': 'do-not-think', 'object': 'so.-I-think-it-has-to-do-with-the-fact-that-you-are-responsible-for-the-care-of-the-child.'}\n",
      "initial triple: {'subject': 'No,-I', 'predicate': 'do-not-think', 'object': 'so.-I-think-it-has-to-do-with-the-fact-that-you-are-responsible-for-the-care-of-the-child.'}\n",
      "initial triple: {'subject': 'No,-I', 'predicate': 'do-not-think', 'object': 'so.-I-think-it-has-to-do-with-the-fact-that-you-are-responsible-for-the-care-of-the-child.'}\n",
      "initial triple: {'subject': 'No,-I', 'predicate': 'do-not-think', 'object': 'so.-I-think-it-has-to-do-with-the-fact-that-you-are-responsible-for-the-care-of-the-child.'}\n",
      "initial triple: {'subject': 'No,-I', 'predicate': 'do-not-think', 'object': 'so.-I-think-it-has-to-do-with-the-fact-that-you-are-responsible-for-the-care-of-the-child.'}\n",
      "initial triple: {'subject': 'No,-I', 'predicate': 'do-not-think', 'object': 'so.-I-think-it-has-to-do-with-the-fact-that-you-are-responsible-for-the-care-of-the-child.'}\n",
      "initial triple: {'subject': 'No,-I', 'predicate': 'do-not-think', 'object': 'so.-I-think-it-has-to-do-with-the-fact-that-you-are-responsible-for-the-care-of-the-child.'}\n",
      "initial triple: {'subject': 'No,-I', 'predicate': 'do-not-think', 'object': 'so.-I-think-it-has-to-do-with-the-fact-that-you-are-responsible-for-the-care-of-the-child.'}\n",
      "initial triple: {'subject': 'No,-I', 'predicate': 'do-not-think', 'object': 'so.-I-think-it-has-to-do-with-the-fact-that-you-are-responsible-for-the-care-of-the-child.'}\n",
      "initial triple: {'subject': 'No,-I', 'predicate': 'do-not-think', 'object': 'so.-I-think-it-has-to-do-with-the-fact-that-you-are-responsible-for-the-care-of-the-child.'}\n",
      "initial triple: {'subject': 'No,-I', 'predicate': 'do-not-think', 'object': 'so.-I-think-it-has-to-do-with-the-fact-that-you-are-responsible-for-the-care-of-the-child.'}\n",
      "initial triple: {'subject': 'No,-I', 'predicate': 'do-not-think', 'object': 'so.-I-think-it-has-to-do-with-the-fact-that-you-are-responsible-for-the-care-of-the-child.'}\n",
      "initial triple: {'subject': 'No,-I', 'predicate': 'do-not-think', 'object': 'so.-I-think-it-has-to-do-with-the-fact-that-you-are-responsible-for-the-care-of-the-child.'}\n",
      "initial triple: {'subject': 'No,-I', 'predicate': 'do-not-think', 'object': 'so.-I-think-it-has-to-do-with-the-fact-that-you-are-responsible-for-the-care-of-the-child.'}\n",
      "initial triple: {'subject': 'No,-I', 'predicate': 'do-not-think', 'object': 'so.-I-think-it-has-to-do-with-the-fact-that-you-are-responsible-for-the-care-of-the-child.'}\n",
      "initial triple: {'subject': 'No,-I', 'predicate': 'do-not-think', 'object': 'so.-I-think-it-has-to-do-with-the-fact-that-you-are-responsible-for-the-care-of-the-child.'}\n",
      "initial triple: {'subject': 'No,-I', 'predicate': 'do-not-think', 'object': 'so.-I-think-it-has-to-do-with-the-fact-that-you-are-responsible-for-the-care-of-the-child.'}\n",
      "initial triple: {'subject': 'No,-I', 'predicate': 'do-not-think', 'object': 'so.-I-think-it-has-to-do-with-the-fact-that-you-are-responsible-for-the-care-of-the-child.'}\n",
      "initial triple: {'subject': 'No,-I', 'predicate': 'do-not-think', 'object': 'so.-I-think-it-has-to-do-with-the-fact-that-you-are-responsible-for-the-care-of-the-child.'}\n",
      "initial triple: {'subject': 'No,-I', 'predicate': 'do-not-think', 'object': 'so.-I-think-it-has-to-do-with-the-fact-that-you-are-responsible-for-the-care-of-the-child.'}\n",
      "initial triple: {'subject': 'No,-I', 'predicate': 'do-not-think', 'object': 'so.-I-think-it-has-to-do-with-the-fact-that-you-are-responsible-for-the-care-of-the-child.'}\n",
      "initial triple: {'subject': 'No,-I', 'predicate': 'do-not-think', 'object': 'so.-I-think-it-has-to-do-with-the-fact-that-you-are-responsible-for-the-care-of-the-child.'}\n",
      "initial triple: {'subject': 'No,-I', 'predicate': 'do-not-think', 'object': 'so.-I-think-it-has-to-do-with-the-fact-that-you-are-responsible-for-the-care-of-the-child.'}\n",
      "initial triple: {'subject': 'No,-I', 'predicate': 'do-not-think', 'object': 'so.-I-think-it-has-to-do-with-the-fact-that-you-are-responsible-for-the-care-of-the-child.'}\n",
      "initial triple: {'subject': 'No,-I', 'predicate': 'do-not-think', 'object': 'so.-I-think-it-has-to-do-with-the-fact-that-you-are-responsible-for-the-care-of-the-child.'}\n",
      "initial triple: {'subject': 'No,-I', 'predicate': 'do-not-think', 'object': 'so.-I-think-it-has-to-do-with-the-fact-that-you-are-responsible-for-the-care-of-the-child.'}\n",
      "initial triple: {'subject': 'No,-I', 'predicate': 'do-not-think', 'object': 'so.-I-think-it-has-to-do-with-the-fact-that-you-are-responsible-for-the-care-of-the-child.'}\n",
      "initial triple: {'subject': 'No,-I', 'predicate': 'do-not-think', 'object': 'so.-I-think-it-has-to-do-with-the-fact-that-you-are-responsible-for-the-care-of-the-child.'}\n",
      "initial triple: {'subject': 'No,-I', 'predicate': 'do-not-think', 'object': 'so.-I-think-it-has-to-do-with-the-fact-that-you-are-responsible-for-the-care-of-the-child.'}\n",
      "initial triple: {'subject': 'No,-I', 'predicate': 'do-not-think', 'object': 'so.-I-think-it-has-to-do-with-the-fact-that-you-are-responsible-for-the-care-of-the-child.'}\n",
      "initial triple: {'subject': 'No,-I', 'predicate': 'do-not-think', 'object': 'so.-I-think-it-has-to-do-with-the-fact-that-you-are-responsible-for-the-care-of-the-child.'}\n",
      "initial triple: {'subject': 'No,-I', 'predicate': 'do-not-think', 'object': 'so.-I-think-it-has-to-do-with-the-fact-that-you-are-responsible-for-the-care-of-the-child.'}\n",
      "initial triple: {'subject': 'No,-I', 'predicate': 'do-not-think', 'object': 'so.-I-think-it-has-to-do-with-the-fact-that-you-are-responsible-for-the-care-of-the-child.'}\n",
      "initial triple: {'subject': 'No,-I', 'predicate': 'do-not-think', 'object': 'so.-I-think-it-has-to-do-with-the-fact-that-you-are-responsible-for-the-care-of-the-child.'}\n",
      "initial triple: {'subject': 'No,-I', 'predicate': 'do-not-think', 'object': 'so.-I-think-it-has-to-do-with-the-fact-that-you-are-responsible-for-the-care-of-the-child.'}\n",
      "initial triple: {'subject': 'No,-I', 'predicate': 'do-not-think', 'object': 'so.-I-think-it-has-to-do-with-the-fact-that-you-are-responsible-for-the-care-of-the-child.'}\n",
      "initial triple: {'subject': 'No,-I', 'predicate': 'do-not-think', 'object': 'so.-I-think-it-has-to-do-with-the-fact-that-you-are-responsible-for-the-care-of-the-child.'}\n",
      "initial triple: {'subject': 'No,-I', 'predicate': 'do-not-think', 'object': 'so.-I-think-it-has-to-do-with-the-fact-that-you-are-responsible-for-the-care-of-the-child.'}\n",
      "initial triple: {'subject': 'No,-I', 'predicate': 'do-not-think', 'object': 'so.-I-think-it-has-to-do-with-the-fact-that-you-are-responsible-for-the-care-of-the-child.'}\n",
      "initial triple: {'subject': 'No,-I', 'predicate': 'do-not-think', 'object': 'so.-I-think-it-has-to-do-with-the-fact-that-you-are-responsible-for-the-care-of-the-child.'}\n",
      "initial triple: {'subject': 'No,-I', 'predicate': 'do-not-think', 'object': 'so.-I-think-it-has-to-do-with-the-fact-that-you-are-responsible-for-the-care-of-the-child.'}\n",
      "initial triple: {'subject': 'No,-I', 'predicate': 'do-not-think', 'object': 'so.-I-think-it-has-to-do-with-the-fact-that-you-are-responsible-for-the-care-of-the-child.'}\n",
      "initial triple: {'subject': 'No,-I', 'predicate': 'do-not-think', 'object': 'so.-I-think-it-has-to-do-with-the-fact-that-you-are-responsible-for-the-care-of-the-child.'}\n",
      "initial triple: {'subject': 'No,-I', 'predicate': 'do-not-think', 'object': 'so.-I-think-it-has-to-do-with-the-fact-that-you-are-responsible-for-the-care-of-the-child.'}\n",
      "initial triple: {'subject': 'No,-I', 'predicate': 'do-not-think', 'object': 'so.-I-think-it-has-to-do-with-the-fact-that-you-are-responsible-for-the-care-of-the-child.'}\n",
      "initial triple: {'subject': 'No,-I', 'predicate': 'do-not-think', 'object': 'so.-I-think-it-has-to-do-with-the-fact-that-you-are-responsible-for-the-care-of-the-child.'}\n",
      "initial triple: {'subject': 'No,-I', 'predicate': 'do-not-think', 'object': 'so.-I-think-it-has-to-do-with-the-fact-that-you-are-responsible-for-the-care-of-the-child.'}\n",
      "initial triple: {'subject': 'No,-I', 'predicate': 'do-not-think', 'object': 'so.-I-think-it-has-to-do-with-the-fact-that-you-are-responsible-for-the-care-of-the-child.'}\n",
      "initial triple: {'subject': 'No,-I', 'predicate': 'do-not-think', 'object': 'so.-I-think-it-has-to-do-with-the-fact-that-you-are-responsible-for-the-care-of-the-child.'}\n",
      "initial triple: {'subject': 'No,-I', 'predicate': 'do-not-think', 'object': 'so.-I-think-it-has-to-do-with-the-fact-that-you-are-responsible-for-the-care-of-the-child.'}\n",
      "initial triple: {'subject': 'No,-I', 'predicate': 'do-not-think', 'object': 'so.-I-think-it-has-to-do-with-the-fact-that-you-are-responsible-for-the-care-of-the-child.'}\n",
      "initial triple: {'subject': 'No,-I', 'predicate': 'do-not-think', 'object': 'so.-I-think-it-has-to-do-with-the-fact-that-you-are-responsible-for-the-care-of-the-child.'}\n",
      "initial triple: {'subject': 'No,-I', 'predicate': 'do-not-think', 'object': 'so.-I-think-it-has-to-do-with-the-fact-that-you-are-responsible-for-the-care-of-the-child.'}\n",
      "initial triple: {'subject': 'No,-I', 'predicate': 'do-not-think', 'object': 'so.-I-think-it-has-to-do-with-the-fact-that-you-are-responsible-for-the-care-of-the-child.'}\n",
      "initial triple: {'subject': 'No,-I', 'predicate': 'do-not-think', 'object': 'so.-I-think-it-has-to-do-with-the-fact-that-you-are-responsible-for-the-care-of-the-child.'}\n",
      "initial triple: {'subject': 'No,-I', 'predicate': 'do-not-think', 'object': 'so.-I-think-it-has-to-do-with-the-fact-that-you-are-responsible-for-the-care-of-the-child.'}\n",
      "initial triple: {'subject': 'No,-I', 'predicate': 'do-not-think', 'object': 'so.-I-think-it-has-to-do-with-the-fact-that-you-are-responsible-for-the-care-of-the-child.'}\n",
      "initial triple: {'subject': 'No,-I', 'predicate': 'do-not-think', 'object': 'so.-I-think-it-has-to-do-with-the-fact-that-you-are-responsible-for-the-care-of-the-child.'}\n",
      "initial triple: {'subject': 'No,-I', 'predicate': 'do-not-think', 'object': 'so.-I-think-it-has-to-do-with-the-fact-that-you-are-responsible-for-the-care-of-the-child.'}\n",
      "initial triple: {'subject': 'No,-I', 'predicate': 'do-not-think', 'object': 'so.-I-think-it-has-to-do-with-the-fact-that-you-are-responsible-for-the-care-of-the-child.'}\n",
      "initial triple: {'subject': 'No,-I', 'predicate': 'do-not-think', 'object': 'so.-I-think-it-has-to-do-with-the-fact-that-you-are-responsible-for-the-care-of-the-child.'}\n",
      "initial triple: {'subject': 'No,-I', 'predicate': 'do-not-think', 'object': 'so.-I-think-it-has-to-do-with-the-fact-that-you-are-responsible-for-the-care-of-the-child.'}\n",
      "initial triple: {'subject': 'No,-I', 'predicate': 'do-not-think', 'object': 'so.-I-think-it-has-to-do-with-the-fact-that-you-are-responsible-for-the-care-of-the-child.'}\n",
      "initial triple: {'subject': 'No,-I', 'predicate': 'do-not-think', 'object': 'so.-I-think-it-has-to-do-with-the-fact-that-you-are-responsible-for-the-care-of-the-child.'}\n",
      "initial triple: {'subject': 'No,-I', 'predicate': 'do-not-think', 'object': 'so.-I-think-it-has-to-do-with-the-fact-that-you-are-responsible-for-the-care-of-the-child.'}\n",
      "initial triple: {'subject': 'No,-I', 'predicate': 'do-not-think', 'object': 'so.-I-think-it-has-to-do-with-the-fact-that-you-are-responsible-for-the-care-of-the-child.'}\n",
      "initial triple: {'subject': 'No,-I', 'predicate': 'do-not-think', 'object': 'so.-I-think-it-has-to-do-with-the-fact-that-you-are-responsible-for-the-care-of-the-child.'}\n",
      "initial triple: {'subject': 'No,-I', 'predicate': 'do-not-think', 'object': 'so.-I-think-it-has-to-do-with-the-fact-that-you-are-responsible-for-the-care-of-the-child.'}\n",
      "initial triple: {'subject': 'No,-I', 'predicate': 'do-not-think', 'object': 'so.-I-think-it-has-to-do-with-the-fact-that-you-are-responsible-for-the-care-of-the-child.'}\n",
      "initial triple: {'subject': 'No,-I', 'predicate': 'do-not-think', 'object': 'so.-I-think-it-has-to-do-with-the-fact-that-you-are-responsible-for-the-care-of-the-child.'}\n",
      "initial triple: {'subject': 'No,-I', 'predicate': 'do-not-think', 'object': 'so.-I-think-it-has-to-do-with-the-fact-that-you-are-responsible-for-the-care-of-the-child.'}\n",
      "initial triple: {'subject': 'No,-I', 'predicate': 'do-not-think', 'object': 'so.-I-think-it-has-to-do-with-the-fact-that-you-are-responsible-for-the-care-of-the-child.'}\n",
      "initial triple: {'subject': 'No,-I', 'predicate': 'do-not-think', 'object': 'so.-I-think-it-has-to-do-with-the-fact-that-you-are-responsible-for-the-care-of-the-child.'}\n",
      "initial triple: {'subject': 'No,-I', 'predicate': 'do-not-think', 'object': 'so.-I-think-it-has-to-do-with-the-fact-that-you-are-responsible-for-the-care-of-the-child.'}\n",
      "initial triple: {'subject': 'No,-I', 'predicate': 'do-not-think', 'object': 'so.-I-think-it-has-to-do-with-the-fact-that-you-are-responsible-for-the-care-of-the-child.'}\n",
      "initial triple: {'subject': 'No,-I', 'predicate': 'do-not-think', 'object': 'so.-I-think-it-has-to-do-with-the-fact-that-you-are-responsible-for-the-care-of-the-child.'}\n",
      "initial triple: {'subject': 'No,-I', 'predicate': 'do-not-think', 'object': 'so.-I-think-it-has-to-do-with-the-fact-that-you-are-responsible-for-the-care-of-the-child.'}\n",
      "initial triple: {'subject': 'No,-I', 'predicate': 'do-not-think', 'object': 'so.-I-think-it-has-to-do-with-the-fact-that-you-are-responsible-for-the-care-of-the-child.'}\n",
      "initial triple: {'subject': 'No,-I', 'predicate': 'do-not-think', 'object': 'so.-I-think-it-has-to-do-with-the-fact-that-you-are-responsible-for-the-care-of-the-child.'}\n",
      "initial triple: {'subject': 'No,-I', 'predicate': 'do-not-think', 'object': 'so.-I-think-it-has-to-do-with-the-fact-that-you-are-responsible-for-the-care-of-the-child.'}\n",
      "initial triple: {'subject': 'No,-I', 'predicate': 'do-not-think', 'object': 'so.-I-think-it-has-to-do-with-the-fact-that-you-are-responsible-for-the-care-of-the-child.'}\n",
      "initial triple: {'subject': 'No,-I', 'predicate': 'do-not-think', 'object': 'so.-I-think-it-has-to-do-with-the-fact-that-you-are-responsible-for-the-care-of-the-child.'}\n",
      "initial triple: {'subject': 'No,-I', 'predicate': 'do-not-think', 'object': 'so.-I-think-it-has-to-do-with-the-fact-that-you-are-responsible-for-the-care-of-the-child.'}\n",
      "initial triple: {'subject': 'No,-I', 'predicate': 'do-not-think', 'object': 'so.-I-think-it-has-to-do-with-the-fact-that-you-are-responsible-for-the-care-of-the-child.'}\n",
      "initial triple: {'subject': 'No,-I', 'predicate': 'do-not-think', 'object': 'so.-I-think-it-has-to-do-with-the-fact-that-you-are-responsible-for-the-care-of-the-child.'}\n",
      "initial triple: {'subject': 'No,-I', 'predicate': 'do-not-think', 'object': 'so.-I-think-it-has-to-do-with-the-fact-that-you-are-responsible-for-the-care-of-the-child.'}\n",
      "initial triple: {'subject': 'No,-I', 'predicate': 'do-not-think', 'object': 'so.-I-think-it-has-to-do-with-the-fact-that-you-are-responsible-for-the-care-of-the-child.'}\n",
      "initial triple: {'subject': 'No,-I', 'predicate': 'do-not-think', 'object': 'so.-I-think-it-has-to-do-with-the-fact-that-you-are-responsible-for-the-care-of-the-child.'}\n",
      "initial triple: {'subject': 'No,-I', 'predicate': 'do-not-think', 'object': 'so.-I-think-it-has-to-do-with-the-fact-that-you-are-responsible-for-the-care-of-the-child.'}\n",
      "initial triple: {'subject': 'No,-I', 'predicate': 'do-not-think', 'object': 'so.-I-think-it-has-to-do-with-the-fact-that-you-are-responsible-for-the-care-of-the-child.'}\n",
      "initial triple: {'subject': 'No,-I', 'predicate': 'do-not-think', 'object': 'so.-I-think-it-has-to-do-with-the-fact-that-you-are-responsible-for-the-care-of-the-child.'}\n",
      "initial triple: {'subject': 'No,-I', 'predicate': 'do-not-think', 'object': 'so.-I-think-it-has-to-do-with-the-fact-that-you-are-responsible-for-the-care-of-the-child.'}\n",
      "initial triple: {'subject': 'No,-I', 'predicate': 'do-not-think', 'object': 'so.-I-think-it-has-to-do-with-the-fact-that-you-are-responsible-for-the-care-of-the-child.'}\n",
      "initial triple: {'subject': 'No,-I', 'predicate': 'do-not-think', 'object': 'so.-I-think-it-has-to-do-with-the-fact-that-you-are-responsible-for-the-care-of-the-child.'}\n",
      "initial triple: {'subject': 'No,-I', 'predicate': 'do-not-think', 'object': 'so.-I-think-it-has-to-do-with-the-fact-that-you-are-responsible-for-the-care-of-the-child.'}\n",
      "initial triple: {'subject': 'No,-I', 'predicate': 'do-not-think', 'object': 'so.-I-think-it-has-to-do-with-the-fact-that-you-are-responsible-for-the-care-of-the-child.'}\n"
     ]
    },
    {
     "name": "stderr",
     "output_type": "stream",
     "text": [
      "Couldn't parse input\n",
      "Couldn't parse input\n",
      "Couldn't parse input\n",
      "Couldn't parse input\n",
      "Couldn't parse input\n",
      "Couldn't parse input\n",
      "Couldn't parse input\n",
      "Couldn't parse input\n",
      "Couldn't parse input\n",
      "Couldn't parse input\n",
      "Couldn't parse input\n",
      "Couldn't parse input\n",
      "Couldn't parse input\n",
      "Couldn't parse input\n",
      "Couldn't parse input\n",
      "Couldn't parse input\n",
      "Couldn't parse input\n",
      "Couldn't parse input\n",
      "Couldn't parse input\n",
      "Couldn't parse input\n",
      "Couldn't parse input\n",
      "Couldn't parse input\n",
      "Couldn't parse input\n",
      "Couldn't parse input\n",
      "Couldn't parse input\n",
      "Couldn't parse input\n",
      "Couldn't parse input\n",
      "Couldn't parse input\n",
      "Couldn't parse input\n",
      "Couldn't parse input\n",
      "Couldn't parse input\n",
      "Couldn't parse input\n",
      "Couldn't parse input\n",
      "Couldn't parse input\n",
      "Couldn't parse input\n",
      "Couldn't parse input\n",
      "Couldn't parse input\n",
      "Couldn't parse input\n",
      "Couldn't parse input\n",
      "Couldn't parse input\n",
      "Couldn't parse input\n",
      "Couldn't parse input\n",
      "Couldn't parse input\n",
      "Couldn't parse input\n",
      "Couldn't parse input\n",
      "Couldn't parse input\n",
      "Couldn't parse input\n",
      "Couldn't parse input\n",
      "Couldn't parse input\n",
      "Couldn't parse input\n",
      "Couldn't parse input\n",
      "Couldn't parse input\n",
      "Couldn't parse input\n",
      "Couldn't parse input\n",
      "Couldn't parse input\n",
      "Couldn't parse input\n",
      "Couldn't parse input\n",
      "Couldn't parse input\n",
      "Couldn't parse input\n",
      "Couldn't parse input\n",
      "Couldn't parse input\n",
      "Couldn't parse input\n",
      "Couldn't parse input\n",
      "Couldn't parse input\n",
      "Couldn't parse input\n",
      "Couldn't parse input\n",
      "Couldn't parse input\n",
      "Couldn't parse input\n",
      "Couldn't parse input\n",
      "Couldn't parse input\n",
      "Couldn't parse input\n",
      "Couldn't parse input\n",
      "Couldn't parse input\n",
      "Couldn't parse input\n",
      "Couldn't parse input\n",
      "Couldn't parse input\n",
      "Couldn't parse input\n",
      "Couldn't parse input\n",
      "Couldn't parse input\n",
      "Couldn't parse input\n",
      "Couldn't parse input\n",
      "Couldn't parse input\n",
      "Couldn't parse input\n",
      "Couldn't parse input\n",
      "Couldn't parse input\n",
      "Couldn't parse input\n",
      "Couldn't parse input\n",
      "Couldn't parse input\n",
      "Couldn't parse input\n",
      "Couldn't parse input\n",
      "Couldn't parse input\n",
      "Couldn't parse input\n",
      "Couldn't parse input\n",
      "Couldn't parse input\n",
      "Couldn't parse input\n",
      "Couldn't parse input\n",
      "Couldn't parse input\n",
      "Couldn't parse input\n",
      "Couldn't parse input\n",
      "Couldn't parse input\n",
      "Couldn't parse input\n",
      "Couldn't parse input\n",
      "Couldn't parse input\n",
      "Couldn't parse input\n",
      "Couldn't parse input\n",
      "Couldn't parse input\n",
      "Couldn't parse input\n",
      "Couldn't parse input\n",
      "Couldn't parse input\n",
      "Couldn't parse input\n",
      "Couldn't parse input\n",
      "Couldn't parse input\n",
      "Couldn't parse input\n",
      "Couldn't parse input\n",
      "Couldn't parse input\n",
      "Couldn't parse input\n",
      "Couldn't parse input\n",
      "Couldn't parse input\n",
      "Couldn't parse input\n",
      "Couldn't parse input\n",
      "Couldn't parse input\n",
      "Couldn't parse input\n",
      "Couldn't parse input\n",
      "Couldn't parse input\n",
      "Couldn't parse input\n",
      "Couldn't parse input\n",
      "Couldn't parse input\n",
      "Couldn't parse input\n",
      "Couldn't parse input\n",
      "Couldn't parse input\n",
      "Couldn't parse input\n",
      "Couldn't parse input\n",
      "Couldn't parse input\n",
      "Couldn't parse input\n",
      "Couldn't parse input\n",
      "Couldn't parse input\n",
      "Couldn't parse input\n",
      "Couldn't parse input\n",
      "Couldn't parse input\n",
      "Couldn't parse input\n",
      "Couldn't parse input\n",
      "Couldn't parse input\n",
      "Couldn't parse input\n",
      "Couldn't parse input\n",
      "Couldn't parse input\n",
      "Couldn't parse input\n",
      "Couldn't parse input\n",
      "Couldn't parse input\n",
      "Couldn't parse input\n",
      "Couldn't parse input\n",
      "Couldn't parse input\n",
      "Couldn't parse input\n",
      "Couldn't parse input\n",
      "Couldn't parse input\n",
      "Couldn't parse input\n",
      "Couldn't parse input\n",
      "Couldn't parse input\n",
      "Couldn't parse input\n",
      "Couldn't parse input\n",
      "Couldn't parse input\n",
      "Couldn't parse input\n",
      "Couldn't parse input\n",
      "Couldn't parse input\n",
      "Couldn't parse input\n",
      "Couldn't parse input\n",
      "Couldn't parse input\n",
      "Couldn't parse input\n",
      "Couldn't parse input\n",
      "Couldn't parse input\n",
      "Couldn't parse input\n",
      "Couldn't parse input\n",
      "Couldn't parse input\n",
      "Couldn't parse input\n",
      "Couldn't parse input\n",
      "Couldn't parse input\n",
      "Couldn't parse input\n",
      "Couldn't parse input\n",
      "Couldn't parse input\n",
      "Couldn't parse input\n",
      "Couldn't parse input\n",
      "Couldn't parse input\n",
      "Couldn't parse input\n",
      "Couldn't parse input\n",
      "Couldn't parse input\n",
      "Couldn't parse input\n",
      "Couldn't parse input\n",
      "Couldn't parse input\n",
      "Couldn't parse input\n",
      "Couldn't parse input\n",
      "Couldn't parse input\n",
      "Couldn't parse input\n",
      "Couldn't parse input\n",
      "Couldn't parse input\n",
      "Couldn't parse input\n",
      "Couldn't parse input\n",
      "Couldn't parse input\n",
      "Couldn't parse input\n",
      "Couldn't parse input\n",
      "Couldn't parse input\n",
      "Couldn't parse input\n",
      "Couldn't parse input\n",
      "Couldn't parse input\n",
      "Couldn't parse input\n",
      "Couldn't parse input\n",
      "Couldn't parse input\n",
      "Couldn't parse input\n",
      "Couldn't parse input\n",
      "Couldn't parse input\n",
      "Couldn't parse input\n",
      "Couldn't parse input\n",
      "Couldn't parse input\n",
      "Couldn't parse input\n",
      "Couldn't parse input\n",
      "Couldn't parse input\n",
      "Couldn't parse input\n",
      "Couldn't parse input\n",
      "Couldn't parse input\n",
      "Couldn't parse input\n"
     ]
    },
    {
     "name": "stdout",
     "output_type": "stream",
     "text": [
      "initial triple: {'subject': 'No,-I', 'predicate': 'do-not-think', 'object': 'so.-I-think-it-has-to-do-with-the-fact-that-you-are-responsible-for-the-care-of-the-child.'}\n",
      "initial triple: {'subject': 'No,-I', 'predicate': 'do-not-think', 'object': 'so.-I-think-it-has-to-do-with-the-fact-that-you-are-responsible-for-the-care-of-the-child.'}\n",
      "initial triple: {'subject': 'No,-I', 'predicate': 'do-not-think', 'object': 'so.-I-think-it-has-to-do-with-the-fact-that-you-are-responsible-for-the-care-of-the-child.'}\n",
      "initial triple: {'subject': 'No,-I', 'predicate': 'do-not-think', 'object': 'so.-I-think-it-has-to-do-with-the-fact-that-you-are-responsible-for-the-care-of-the-child.'}\n",
      "initial triple: {'subject': 'No,-I', 'predicate': 'do-not-think', 'object': 'so.-I-think-it-has-to-do-with-the-fact-that-you-are-responsible-for-the-care-of-the-child.'}\n",
      "initial triple: {'subject': 'No,-I', 'predicate': 'do-not-think', 'object': 'so.-I-think-it-has-to-do-with-the-fact-that-you-are-responsible-for-the-care-of-the-child.'}\n",
      "initial triple: {'subject': 'No,-I', 'predicate': 'do-not-think', 'object': 'so.-I-think-it-has-to-do-with-the-fact-that-you-are-responsible-for-the-care-of-the-child.'}\n",
      "initial triple: {'subject': 'No,-I', 'predicate': 'do-not-think', 'object': 'so.-I-think-it-has-to-do-with-the-fact-that-you-are-responsible-for-the-care-of-the-child.'}\n",
      "initial triple: {'subject': 'No,-I', 'predicate': 'do-not-think', 'object': 'so.-I-think-it-has-to-do-with-the-fact-that-you-are-responsible-for-the-care-of-the-child.'}\n",
      "initial triple: {'subject': 'No,-I', 'predicate': 'do-not-think', 'object': 'so.-I-think-it-has-to-do-with-the-fact-that-you-are-responsible-for-the-care-of-the-child.'}\n",
      "initial triple: {'subject': 'No,-I', 'predicate': 'do-not-think', 'object': 'so.-I-think-it-has-to-do-with-the-fact-that-you-are-responsible-for-the-care-of-the-child.'}\n",
      "initial triple: {'subject': 'No,-I', 'predicate': 'do-not-think', 'object': 'so.-I-think-it-has-to-do-with-the-fact-that-you-are-responsible-for-the-care-of-the-child.'}\n",
      "initial triple: {'subject': 'No,-I', 'predicate': 'do-not-think', 'object': 'so.-I-think-it-has-to-do-with-the-fact-that-you-are-responsible-for-the-care-of-the-child.'}\n",
      "initial triple: {'subject': 'No,-I', 'predicate': 'do-not-think', 'object': 'so.-I-think-it-has-to-do-with-the-fact-that-you-are-responsible-for-the-care-of-the-child.'}\n",
      "initial triple: {'subject': 'No,-I', 'predicate': 'do-not-think', 'object': 'so.-I-think-it-has-to-do-with-the-fact-that-you-are-responsible-for-the-care-of-the-child.'}\n",
      "initial triple: {'subject': 'No,-I', 'predicate': 'do-not-think', 'object': 'so.-I-think-it-has-to-do-with-the-fact-that-you-are-responsible-for-the-care-of-the-child.'}\n",
      "initial triple: {'subject': 'No,-I', 'predicate': 'do-not-think', 'object': 'so.-I-think-it-has-to-do-with-the-fact-that-you-are-responsible-for-the-care-of-the-child.'}\n",
      "initial triple: {'subject': 'No,-I', 'predicate': 'do-not-think', 'object': 'so.-I-think-it-has-to-do-with-the-fact-that-you-are-responsible-for-the-care-of-the-child.'}\n",
      "initial triple: {'subject': 'No,-I', 'predicate': 'do-not-think', 'object': 'so.-I-think-it-has-to-do-with-the-fact-that-you-are-responsible-for-the-care-of-the-child.'}\n",
      "initial triple: {'subject': 'No,-I', 'predicate': 'do-not-think', 'object': 'so.-I-think-it-has-to-do-with-the-fact-that-you-are-responsible-for-the-care-of-the-child.'}\n",
      "initial triple: {'subject': 'No,-I', 'predicate': 'do-not-think', 'object': 'so.-I-think-it-has-to-do-with-the-fact-that-you-are-responsible-for-the-care-of-the-child.'}\n",
      "initial triple: {'subject': 'No,-I', 'predicate': 'do-not-think', 'object': 'so.-I-think-it-has-to-do-with-the-fact-that-you-are-responsible-for-the-care-of-the-child.'}\n",
      "initial triple: {'subject': 'No,-I', 'predicate': 'do-not-think', 'object': 'so.-I-think-it-has-to-do-with-the-fact-that-you-are-responsible-for-the-care-of-the-child.'}\n",
      "initial triple: {'subject': 'No,-I', 'predicate': 'do-not-think', 'object': 'so.-I-think-it-has-to-do-with-the-fact-that-you-are-responsible-for-the-care-of-the-child.'}\n",
      "initial triple: {'subject': 'No,-I', 'predicate': 'do-not-think', 'object': 'so.-I-think-it-has-to-do-with-the-fact-that-you-are-responsible-for-the-care-of-the-child.'}\n",
      "initial triple: {'subject': 'No,-I', 'predicate': 'do-not-think', 'object': 'so.-I-think-it-has-to-do-with-the-fact-that-you-are-responsible-for-the-care-of-the-child.'}\n",
      "initial triple: {'subject': 'No,-I', 'predicate': 'do-not-think', 'object': 'so.-I-think-it-has-to-do-with-the-fact-that-you-are-responsible-for-the-care-of-the-child.'}\n",
      "initial triple: {'subject': 'No,-I', 'predicate': 'do-not-think', 'object': 'so.-I-think-it-has-to-do-with-the-fact-that-you-are-responsible-for-the-care-of-the-child.'}\n",
      "initial triple: {'subject': 'No,-I', 'predicate': 'do-not-think', 'object': 'so.-I-think-it-has-to-do-with-the-fact-that-you-are-responsible-for-the-care-of-the-child.'}\n",
      "initial triple: {'subject': 'No,-I', 'predicate': 'do-not-think', 'object': 'so.-I-think-it-has-to-do-with-the-fact-that-you-are-responsible-for-the-care-of-the-child.'}\n",
      "initial triple: {'subject': 'No,-I', 'predicate': 'do-not-think', 'object': 'so.-I-think-it-has-to-do-with-the-fact-that-you-are-responsible-for-the-care-of-the-child.'}\n",
      "initial triple: {'subject': 'No,-I', 'predicate': 'do-not-think', 'object': 'so.-I-think-it-has-to-do-with-the-fact-that-you-are-responsible-for-the-care-of-the-child.'}\n",
      "initial triple: {'subject': 'No,-I', 'predicate': 'do-not-think', 'object': 'so.-I-think-it-has-to-do-with-the-fact-that-you-are-responsible-for-the-care-of-the-child.'}\n",
      "initial triple: {'subject': 'No,-I', 'predicate': 'do-not-think', 'object': 'so.-I-think-it-has-to-do-with-the-fact-that-you-are-responsible-for-the-care-of-the-child.'}\n",
      "initial triple: {'subject': 'No,-I', 'predicate': 'do-not-think', 'object': 'so.-I-think-it-has-to-do-with-the-fact-that-you-are-responsible-for-the-care-of-the-child.'}\n",
      "initial triple: {'subject': 'No,-I', 'predicate': 'do-not-think', 'object': 'so.-I-think-it-has-to-do-with-the-fact-that-you-are-responsible-for-the-care-of-the-child.'}\n",
      "initial triple: {'subject': 'No,-I', 'predicate': 'do-not-think', 'object': 'so.-I-think-it-has-to-do-with-the-fact-that-you-are-responsible-for-the-care-of-the-child.'}\n",
      "initial triple: {'subject': 'No,-I', 'predicate': 'do-not-think', 'object': 'so.-I-think-it-has-to-do-with-the-fact-that-you-are-responsible-for-the-care-of-the-child.'}\n",
      "initial triple: {'subject': 'No,-I', 'predicate': 'do-not-think', 'object': 'so.-I-think-it-has-to-do-with-the-fact-that-you-are-responsible-for-the-care-of-the-child.'}\n",
      "initial triple: {'subject': 'No,-I', 'predicate': 'do-not-think', 'object': 'so.-I-think-it-has-to-do-with-the-fact-that-you-are-responsible-for-the-care-of-the-child.'}\n",
      "initial triple: {'subject': 'No,-I', 'predicate': 'do-not-think', 'object': 'so.-I-think-it-has-to-do-with-the-fact-that-you-are-responsible-for-the-care-of-the-child.'}\n",
      "initial triple: {'subject': 'No,-I', 'predicate': 'do-not-think', 'object': 'so.-I-think-it-has-to-do-with-the-fact-that-you-are-responsible-for-the-care-of-the-child.'}\n",
      "initial triple: {'subject': 'No,-I', 'predicate': 'do-not-think', 'object': 'so.-I-think-it-has-to-do-with-the-fact-that-you-are-responsible-for-the-care-of-the-child.'}\n",
      "initial triple: {'subject': 'No,-I', 'predicate': 'do-not-think', 'object': 'so.-I-think-it-has-to-do-with-the-fact-that-you-are-responsible-for-the-care-of-the-child.'}\n",
      "initial triple: {'subject': 'No,-I', 'predicate': 'do-not-think', 'object': 'so.-I-think-it-has-to-do-with-the-fact-that-you-are-responsible-for-the-care-of-the-child.'}\n",
      "initial triple: {'subject': 'No,-I', 'predicate': 'do-not-think', 'object': 'so.-I-think-it-has-to-do-with-the-fact-that-you-are-responsible-for-the-care-of-the-child.'}\n",
      "initial triple: {'subject': 'No,-I', 'predicate': 'do-not-think', 'object': 'so.-I-think-it-has-to-do-with-the-fact-that-you-are-responsible-for-the-care-of-the-child.'}\n",
      "initial triple: {'subject': 'No,-I', 'predicate': 'do-not-think', 'object': 'so.-I-think-it-has-to-do-with-the-fact-that-you-are-responsible-for-the-care-of-the-child.'}\n",
      "initial triple: {'subject': 'No,-I', 'predicate': 'do-not-think', 'object': 'so.-I-think-it-has-to-do-with-the-fact-that-you-are-responsible-for-the-care-of-the-child.'}\n",
      "initial triple: {'subject': 'No,-I', 'predicate': 'do-not-think', 'object': 'so.-I-think-it-has-to-do-with-the-fact-that-you-are-responsible-for-the-care-of-the-child.'}\n",
      "initial triple: {'subject': 'No,-I', 'predicate': 'do-not-think', 'object': 'so.-I-think-it-has-to-do-with-the-fact-that-you-are-responsible-for-the-care-of-the-child.'}\n",
      "initial triple: {'subject': 'No,-I', 'predicate': 'do-not-think', 'object': 'so.-I-think-it-has-to-do-with-the-fact-that-you-are-responsible-for-the-care-of-the-child.'}\n",
      "initial triple: {'subject': 'No,-I', 'predicate': 'do-not-think', 'object': 'so.-I-think-it-has-to-do-with-the-fact-that-you-are-responsible-for-the-care-of-the-child.'}\n",
      "initial triple: {'subject': 'No,-I', 'predicate': 'do-not-think', 'object': 'so.-I-think-it-has-to-do-with-the-fact-that-you-are-responsible-for-the-care-of-the-child.'}\n",
      "initial triple: {'subject': 'No,-I', 'predicate': 'do-not-think', 'object': 'so.-I-think-it-has-to-do-with-the-fact-that-you-are-responsible-for-the-care-of-the-child.'}\n",
      "initial triple: {'subject': 'No,-I', 'predicate': 'do-not-think', 'object': 'so.-I-think-it-has-to-do-with-the-fact-that-you-are-responsible-for-the-care-of-the-child.'}\n",
      "initial triple: {'subject': 'No,-I', 'predicate': 'do-not-think', 'object': 'so.-I-think-it-has-to-do-with-the-fact-that-you-are-responsible-for-the-care-of-the-child.'}\n",
      "initial triple: {'subject': 'No,-I', 'predicate': 'do-not-think', 'object': 'so.-I-think-it-has-to-do-with-the-fact-that-you-are-responsible-for-the-care-of-the-child.'}\n",
      "initial triple: {'subject': 'No,-I', 'predicate': 'do-not-think', 'object': 'so.-I-think-it-has-to-do-with-the-fact-that-you-are-responsible-for-the-care-of-the-child.'}\n",
      "initial triple: {'subject': 'No,-I', 'predicate': 'do-not-think', 'object': 'so.-I-think-it-has-to-do-with-the-fact-that-you-are-responsible-for-the-care-of-the-child.'}\n",
      "initial triple: {'subject': 'No,-I', 'predicate': 'do-not-think', 'object': 'so.-I-think-it-has-to-do-with-the-fact-that-you-are-responsible-for-the-care-of-the-child.'}\n",
      "initial triple: {'subject': 'No,-I', 'predicate': 'do-not-think', 'object': 'so.-I-think-it-has-to-do-with-the-fact-that-you-are-responsible-for-the-care-of-the-child.'}\n",
      "initial triple: {'subject': 'No,-I', 'predicate': 'do-not-think', 'object': 'so.-I-think-it-has-to-do-with-the-fact-that-you-are-responsible-for-the-care-of-the-child.'}\n",
      "initial triple: {'subject': 'No,-I', 'predicate': 'do-not-think', 'object': 'so.-I-think-it-has-to-do-with-the-fact-that-you-are-responsible-for-the-care-of-the-child.'}\n",
      "initial triple: {'subject': 'No,-I', 'predicate': 'do-not-think', 'object': 'so.-I-think-it-has-to-do-with-the-fact-that-you-are-responsible-for-the-care-of-the-child.'}\n",
      "initial triple: {'subject': 'No,-I', 'predicate': 'do-not-think', 'object': 'so.-I-think-it-has-to-do-with-the-fact-that-you-are-responsible-for-the-care-of-the-child.'}\n",
      "initial triple: {'subject': 'No,-I', 'predicate': 'do-not-think', 'object': 'so.-I-think-it-has-to-do-with-the-fact-that-you-are-responsible-for-the-care-of-the-child.'}\n",
      "initial triple: {'subject': 'No,-I', 'predicate': 'do-not-think', 'object': 'so.-I-think-it-has-to-do-with-the-fact-that-you-are-responsible-for-the-care-of-the-child.'}\n",
      "initial triple: {'subject': 'No,-I', 'predicate': 'do-not-think', 'object': 'so.-I-think-it-has-to-do-with-the-fact-that-you-are-responsible-for-the-care-of-the-child.'}\n",
      "initial triple: {'subject': 'No,-I', 'predicate': 'do-not-think', 'object': 'so.-I-think-it-has-to-do-with-the-fact-that-you-are-responsible-for-the-care-of-the-child.'}\n",
      "initial triple: {'subject': 'No,-I', 'predicate': 'do-not-think', 'object': 'so.-I-think-it-has-to-do-with-the-fact-that-you-are-responsible-for-the-care-of-the-child.'}\n",
      "initial triple: {'subject': 'No,-I', 'predicate': 'do-not-think', 'object': 'so.-I-think-it-has-to-do-with-the-fact-that-you-are-responsible-for-the-care-of-the-child.'}\n",
      "initial triple: {'subject': 'No,-I', 'predicate': 'do-not-think', 'object': 'so.-I-think-it-has-to-do-with-the-fact-that-you-are-responsible-for-the-care-of-the-child.'}\n",
      "initial triple: {'subject': 'No,-I', 'predicate': 'do-not-think', 'object': 'so.-I-think-it-has-to-do-with-the-fact-that-you-are-responsible-for-the-care-of-the-child.'}\n",
      "initial triple: {'subject': 'No,-I', 'predicate': 'do-not-think', 'object': 'so.-I-think-it-has-to-do-with-the-fact-that-you-are-responsible-for-the-care-of-the-child.'}\n",
      "initial triple: {'subject': 'No,-I', 'predicate': 'do-not-think', 'object': 'so.-I-think-it-has-to-do-with-the-fact-that-you-are-responsible-for-the-care-of-the-child.'}\n",
      "initial triple: {'subject': 'No,-I', 'predicate': 'do-not-think', 'object': 'so.-I-think-it-has-to-do-with-the-fact-that-you-are-responsible-for-the-care-of-the-child.'}\n",
      "initial triple: {'subject': 'No,-I', 'predicate': 'do-not-think', 'object': 'so.-I-think-it-has-to-do-with-the-fact-that-you-are-responsible-for-the-care-of-the-child.'}\n",
      "initial triple: {'subject': 'No,-I', 'predicate': 'do-not-think', 'object': 'so.-I-think-it-has-to-do-with-the-fact-that-you-are-responsible-for-the-care-of-the-child.'}\n",
      "initial triple: {'subject': 'No,-I', 'predicate': 'do-not-think', 'object': 'so.-I-think-it-has-to-do-with-the-fact-that-you-are-responsible-for-the-care-of-the-child.'}\n",
      "initial triple: {'subject': 'No,-I', 'predicate': 'do-not-think', 'object': 'so.-I-think-it-has-to-do-with-the-fact-that-you-are-responsible-for-the-care-of-the-child.'}\n",
      "initial triple: {'subject': 'No,-I', 'predicate': 'do-not-think', 'object': 'so.-I-think-it-has-to-do-with-the-fact-that-you-are-responsible-for-the-care-of-the-child.'}\n",
      "initial triple: {'subject': 'No,-I', 'predicate': 'do-not-think', 'object': 'so.-I-think-it-has-to-do-with-the-fact-that-you-are-responsible-for-the-care-of-the-child.'}\n",
      "initial triple: {'subject': 'No,-I', 'predicate': 'do-not-think', 'object': 'so.-I-think-it-has-to-do-with-the-fact-that-you-are-responsible-for-the-care-of-the-child.'}\n",
      "initial triple: {'subject': 'No,-I', 'predicate': 'do-not-think', 'object': 'so.-I-think-it-has-to-do-with-the-fact-that-you-are-responsible-for-the-care-of-the-child.'}\n",
      "initial triple: {'subject': 'No,-I', 'predicate': 'do-not-think', 'object': 'so.-I-think-it-has-to-do-with-the-fact-that-you-are-responsible-for-the-care-of-the-child.'}\n",
      "initial triple: {'subject': 'No,-I', 'predicate': 'do-not-think', 'object': 'so.-I-think-it-has-to-do-with-the-fact-that-you-are-responsible-for-the-care-of-the-child.'}\n",
      "initial triple: {'subject': 'No,-I', 'predicate': 'do-not-think', 'object': 'so.-I-think-it-has-to-do-with-the-fact-that-you-are-responsible-for-the-care-of-the-child.'}\n",
      "initial triple: {'subject': 'No,-I', 'predicate': 'do-not-think', 'object': 'so.-I-think-it-has-to-do-with-the-fact-that-you-are-responsible-for-the-care-of-the-child.'}\n",
      "initial triple: {'subject': 'No,-I', 'predicate': 'do-not-think', 'object': 'so.-I-think-it-has-to-do-with-the-fact-that-you-are-responsible-for-the-care-of-the-child.'}\n",
      "initial triple: {'subject': 'No,-I', 'predicate': 'do-not-think', 'object': 'so.-I-think-it-has-to-do-with-the-fact-that-you-are-responsible-for-the-care-of-the-child.'}\n",
      "initial triple: {'subject': 'No,-I', 'predicate': 'do-not-think', 'object': 'so.-I-think-it-has-to-do-with-the-fact-that-you-are-responsible-for-the-care-of-the-child.'}\n",
      "initial triple: {'subject': 'No,-I', 'predicate': 'do-not-think', 'object': 'so.-I-think-it-has-to-do-with-the-fact-that-you-are-responsible-for-the-care-of-the-child.'}\n",
      "initial triple: {'subject': 'No,-I', 'predicate': 'do-not-think', 'object': 'so.-I-think-it-has-to-do-with-the-fact-that-you-are-responsible-for-the-care-of-the-child.'}\n",
      "initial triple: {'subject': 'No,-I', 'predicate': 'do-not-think', 'object': 'so.-I-think-it-has-to-do-with-the-fact-that-you-are-responsible-for-the-care-of-the-child.'}\n",
      "initial triple: {'subject': 'No,-I', 'predicate': 'do-not-think', 'object': 'so.-I-think-it-has-to-do-with-the-fact-that-you-are-responsible-for-the-care-of-the-child.'}\n",
      "initial triple: {'subject': 'No,-I', 'predicate': 'do-not-think', 'object': 'so.-I-think-it-has-to-do-with-the-fact-that-you-are-responsible-for-the-care-of-the-child.'}\n",
      "initial triple: {'subject': 'No,-I', 'predicate': 'do-not-think', 'object': 'so.-I-think-it-has-to-do-with-the-fact-that-you-are-responsible-for-the-care-of-the-child.'}\n",
      "initial triple: {'subject': 'No,-I', 'predicate': 'do-not-think', 'object': 'so.-I-think-it-has-to-do-with-the-fact-that-you-are-responsible-for-the-care-of-the-child.'}\n",
      "initial triple: {'subject': 'No,-I', 'predicate': 'do-not-think', 'object': 'so.-I-think-it-has-to-do-with-the-fact-that-you-are-responsible-for-the-care-of-the-child.'}\n",
      "initial triple: {'subject': 'No,-I', 'predicate': 'do-not-think', 'object': 'so.-I-think-it-has-to-do-with-the-fact-that-you-are-responsible-for-the-care-of-the-child.'}\n",
      "initial triple: {'subject': 'No,-I', 'predicate': 'do-not-think', 'object': 'so.-I-think-it-has-to-do-with-the-fact-that-you-are-responsible-for-the-care-of-the-child.'}\n",
      "initial triple: {'subject': 'No,-I', 'predicate': 'do-not-think', 'object': 'so.-I-think-it-has-to-do-with-the-fact-that-you-are-responsible-for-the-care-of-the-child.'}\n",
      "initial triple: {'subject': 'No,-I', 'predicate': 'do-not-think', 'object': 'so.-I-think-it-has-to-do-with-the-fact-that-you-are-responsible-for-the-care-of-the-child.'}\n",
      "initial triple: {'subject': 'No,-I', 'predicate': 'do-not-think', 'object': 'so.-I-think-it-has-to-do-with-the-fact-that-you-are-responsible-for-the-care-of-the-child.'}\n",
      "initial triple: {'subject': 'No,-I', 'predicate': 'do-not-think', 'object': 'so.-I-think-it-has-to-do-with-the-fact-that-you-are-responsible-for-the-care-of-the-child.'}\n",
      "initial triple: {'subject': 'No,-I', 'predicate': 'do-not-think', 'object': 'so.-I-think-it-has-to-do-with-the-fact-that-you-are-responsible-for-the-care-of-the-child.'}\n",
      "initial triple: {'subject': 'No,-I', 'predicate': 'do-not-think', 'object': 'so.-I-think-it-has-to-do-with-the-fact-that-you-are-responsible-for-the-care-of-the-child.'}\n",
      "initial triple: {'subject': 'No,-I', 'predicate': 'do-not-think', 'object': 'so.-I-think-it-has-to-do-with-the-fact-that-you-are-responsible-for-the-care-of-the-child.'}\n",
      "initial triple: {'subject': 'No,-I', 'predicate': 'do-not-think', 'object': 'so.-I-think-it-has-to-do-with-the-fact-that-you-are-responsible-for-the-care-of-the-child.'}\n",
      "initial triple: {'subject': 'No,-I', 'predicate': 'do-not-think', 'object': 'so.-I-think-it-has-to-do-with-the-fact-that-you-are-responsible-for-the-care-of-the-child.'}\n",
      "initial triple: {'subject': 'No,-I', 'predicate': 'do-not-think', 'object': 'so.-I-think-it-has-to-do-with-the-fact-that-you-are-responsible-for-the-care-of-the-child.'}\n",
      "initial triple: {'subject': 'No,-I', 'predicate': 'do-not-think', 'object': 'so.-I-think-it-has-to-do-with-the-fact-that-you-are-responsible-for-the-care-of-the-child.'}\n",
      "initial triple: {'subject': 'No,-I', 'predicate': 'do-not-think', 'object': 'so.-I-think-it-has-to-do-with-the-fact-that-you-are-responsible-for-the-care-of-the-child.'}\n",
      "initial triple: {'subject': 'No,-I', 'predicate': 'do-not-think', 'object': 'so.-I-think-it-has-to-do-with-the-fact-that-you-are-responsible-for-the-care-of-the-child.'}\n",
      "initial triple: {'subject': 'No,-I', 'predicate': 'do-not-think', 'object': 'so.-I-think-it-has-to-do-with-the-fact-that-you-are-responsible-for-the-care-of-the-child.'}\n",
      "initial triple: {'subject': 'No,-I', 'predicate': 'do-not-think', 'object': 'so.-I-think-it-has-to-do-with-the-fact-that-you-are-responsible-for-the-care-of-the-child.'}\n",
      "initial triple: {'subject': 'No,-I', 'predicate': 'do-not-think', 'object': 'so.-I-think-it-has-to-do-with-the-fact-that-you-are-responsible-for-the-care-of-the-child.'}\n",
      "initial triple: {'subject': 'No,-I', 'predicate': 'do-not-think', 'object': 'so.-I-think-it-has-to-do-with-the-fact-that-you-are-responsible-for-the-care-of-the-child.'}\n",
      "initial triple: {'subject': 'No,-I', 'predicate': 'do-not-think', 'object': 'so.-I-think-it-has-to-do-with-the-fact-that-you-are-responsible-for-the-care-of-the-child.'}\n",
      "initial triple: {'subject': 'No,-I', 'predicate': 'do-not-think', 'object': 'so.-I-think-it-has-to-do-with-the-fact-that-you-are-responsible-for-the-care-of-the-child.'}\n",
      "initial triple: {'subject': 'No,-I', 'predicate': 'do-not-think', 'object': 'so.-I-think-it-has-to-do-with-the-fact-that-you-are-responsible-for-the-care-of-the-child.'}\n",
      "initial triple: {'subject': 'No,-I', 'predicate': 'do-not-think', 'object': 'so.-I-think-it-has-to-do-with-the-fact-that-you-are-responsible-for-the-care-of-the-child.'}\n",
      "initial triple: {'subject': 'No,-I', 'predicate': 'do-not-think', 'object': 'so.-I-think-it-has-to-do-with-the-fact-that-you-are-responsible-for-the-care-of-the-child.'}\n",
      "initial triple: {'subject': 'No,-I', 'predicate': 'do-not-think', 'object': 'so.-I-think-it-has-to-do-with-the-fact-that-you-are-responsible-for-the-care-of-the-child.'}\n",
      "initial triple: {'subject': 'No,-I', 'predicate': 'do-not-think', 'object': 'so.-I-think-it-has-to-do-with-the-fact-that-you-are-responsible-for-the-care-of-the-child.'}\n",
      "initial triple: {'subject': 'No,-I', 'predicate': 'do-not-think', 'object': 'so.-I-think-it-has-to-do-with-the-fact-that-you-are-responsible-for-the-care-of-the-child.'}\n",
      "initial triple: {'subject': 'No,-I', 'predicate': 'do-not-think', 'object': 'so.-I-think-it-has-to-do-with-the-fact-that-you-are-responsible-for-the-care-of-the-child.'}\n",
      "initial triple: {'subject': 'No,-I', 'predicate': 'do-not-think', 'object': 'so.-I-think-it-has-to-do-with-the-fact-that-you-are-responsible-for-the-care-of-the-child.'}\n",
      "initial triple: {'subject': 'No,-I', 'predicate': 'do-not-think', 'object': 'so.-I-think-it-has-to-do-with-the-fact-that-you-are-responsible-for-the-care-of-the-child.'}\n",
      "initial triple: {'subject': 'No,-I', 'predicate': 'do-not-think', 'object': 'so.-I-think-it-has-to-do-with-the-fact-that-you-are-responsible-for-the-care-of-the-child.'}\n",
      "initial triple: {'subject': 'No,-I', 'predicate': 'do-not-think', 'object': 'so.-I-think-it-has-to-do-with-the-fact-that-you-are-responsible-for-the-care-of-the-child.'}\n",
      "initial triple: {'subject': 'No,-I', 'predicate': 'do-not-think', 'object': 'so.-I-think-it-has-to-do-with-the-fact-that-you-are-responsible-for-the-care-of-the-child.'}\n",
      "initial triple: {'subject': 'No,-I', 'predicate': 'do-not-think', 'object': 'so.-I-think-it-has-to-do-with-the-fact-that-you-are-responsible-for-the-care-of-the-child.'}\n",
      "initial triple: {'subject': 'No,-I', 'predicate': 'do-not-think', 'object': 'so.-I-think-it-has-to-do-with-the-fact-that-you-are-responsible-for-the-care-of-the-child.'}\n",
      "initial triple: {'subject': 'No,-I', 'predicate': 'do-not-think', 'object': 'so.-I-think-it-has-to-do-with-the-fact-that-you-are-responsible-for-the-care-of-the-child.'}\n",
      "initial triple: {'subject': 'No,-I', 'predicate': 'do-not-think', 'object': 'so.-I-think-it-has-to-do-with-the-fact-that-you-are-responsible-for-the-care-of-the-child.'}\n",
      "initial triple: {'subject': 'No,-I', 'predicate': 'do-not-think', 'object': 'so.-I-think-it-has-to-do-with-the-fact-that-you-are-responsible-for-the-care-of-the-child.'}\n",
      "initial triple: {'subject': 'No,-I', 'predicate': 'do-not-think', 'object': 'so.-I-think-it-has-to-do-with-the-fact-that-you-are-responsible-for-the-care-of-the-child.'}\n",
      "initial triple: {'subject': 'No,-I', 'predicate': 'do-not-think', 'object': 'so.-I-think-it-has-to-do-with-the-fact-that-you-are-responsible-for-the-care-of-the-child.'}\n",
      "initial triple: {'subject': 'No,-I', 'predicate': 'do-not-think', 'object': 'so.-I-think-it-has-to-do-with-the-fact-that-you-are-responsible-for-the-care-of-the-child.'}\n",
      "initial triple: {'subject': 'No,-I', 'predicate': 'do-not-think', 'object': 'so.-I-think-it-has-to-do-with-the-fact-that-you-are-responsible-for-the-care-of-the-child.'}\n",
      "initial triple: {'subject': 'No,-I', 'predicate': 'do-not-think', 'object': 'so.-I-think-it-has-to-do-with-the-fact-that-you-are-responsible-for-the-care-of-the-child.'}\n",
      "initial triple: {'subject': 'No,-I', 'predicate': 'do-not-think', 'object': 'so.-I-think-it-has-to-do-with-the-fact-that-you-are-responsible-for-the-care-of-the-child.'}\n",
      "initial triple: {'subject': 'No,-I', 'predicate': 'do-not-think', 'object': 'so.-I-think-it-has-to-do-with-the-fact-that-you-are-responsible-for-the-care-of-the-child.'}\n",
      "initial triple: {'subject': 'No,-I', 'predicate': 'do-not-think', 'object': 'so.-I-think-it-has-to-do-with-the-fact-that-you-are-responsible-for-the-care-of-the-child.'}\n",
      "initial triple: {'subject': 'No,-I', 'predicate': 'do-not-think', 'object': 'so.-I-think-it-has-to-do-with-the-fact-that-you-are-responsible-for-the-care-of-the-child.'}\n",
      "initial triple: {'subject': 'No,-I', 'predicate': 'do-not-think', 'object': 'so.-I-think-it-has-to-do-with-the-fact-that-you-are-responsible-for-the-care-of-the-child.'}\n",
      "initial triple: {'subject': 'No,-I', 'predicate': 'do-not-think', 'object': 'so.-I-think-it-has-to-do-with-the-fact-that-you-are-responsible-for-the-care-of-the-child.'}\n",
      "initial triple: {'subject': 'No,-I', 'predicate': 'do-not-think', 'object': 'so.-I-think-it-has-to-do-with-the-fact-that-you-are-responsible-for-the-care-of-the-child.'}\n",
      "initial triple: {'subject': 'No,-I', 'predicate': 'do-not-think', 'object': 'so.-I-think-it-has-to-do-with-the-fact-that-you-are-responsible-for-the-care-of-the-child.'}\n",
      "initial triple: {'subject': 'No,-I', 'predicate': 'do-not-think', 'object': 'so.-I-think-it-has-to-do-with-the-fact-that-you-are-responsible-for-the-care-of-the-child.'}\n",
      "initial triple: {'subject': 'No,-I', 'predicate': 'do-not-think', 'object': 'so.-I-think-it-has-to-do-with-the-fact-that-you-are-responsible-for-the-care-of-the-child.'}\n",
      "initial triple: {'subject': 'No,-I', 'predicate': 'do-not-think', 'object': 'so.-I-think-it-has-to-do-with-the-fact-that-you-are-responsible-for-the-care-of-the-child.'}\n",
      "initial triple: {'subject': 'No,-I', 'predicate': 'do-not-think', 'object': 'so.-I-think-it-has-to-do-with-the-fact-that-you-are-responsible-for-the-care-of-the-child.'}\n",
      "initial triple: {'subject': 'No,-I', 'predicate': 'do-not-think', 'object': 'so.-I-think-it-has-to-do-with-the-fact-that-you-are-responsible-for-the-care-of-the-child.'}\n",
      "initial triple: {'subject': 'No,-I', 'predicate': 'do-not-think', 'object': 'so.-I-think-it-has-to-do-with-the-fact-that-you-are-responsible-for-the-care-of-the-child.'}\n",
      "initial triple: {'subject': 'No,-I', 'predicate': 'do-not-think', 'object': 'so.-I-think-it-has-to-do-with-the-fact-that-you-are-responsible-for-the-care-of-the-child.'}\n",
      "initial triple: {'subject': 'No,-I', 'predicate': 'do-not-think', 'object': 'so.-I-think-it-has-to-do-with-the-fact-that-you-are-responsible-for-the-care-of-the-child.'}\n",
      "initial triple: {'subject': 'No,-I', 'predicate': 'do-not-think', 'object': 'so.-I-think-it-has-to-do-with-the-fact-that-you-are-responsible-for-the-care-of-the-child.'}\n",
      "initial triple: {'subject': 'No,-I', 'predicate': 'do-not-think', 'object': 'so.-I-think-it-has-to-do-with-the-fact-that-you-are-responsible-for-the-care-of-the-child.'}\n",
      "initial triple: {'subject': 'No,-I', 'predicate': 'do-not-think', 'object': 'so.-I-think-it-has-to-do-with-the-fact-that-you-are-responsible-for-the-care-of-the-child.'}\n",
      "initial triple: {'subject': 'No,-I', 'predicate': 'do-not-think', 'object': 'so.-I-think-it-has-to-do-with-the-fact-that-you-are-responsible-for-the-care-of-the-child.'}\n",
      "initial triple: {'subject': 'No,-I', 'predicate': 'do-not-think', 'object': 'so.-I-think-it-has-to-do-with-the-fact-that-you-are-responsible-for-the-care-of-the-child.'}\n",
      "initial triple: {'subject': 'No,-I', 'predicate': 'do-not-think', 'object': 'so.-I-think-it-has-to-do-with-the-fact-that-you-are-responsible-for-the-care-of-the-child.'}\n",
      "initial triple: {'subject': 'No,-I', 'predicate': 'do-not-think', 'object': 'so.-I-think-it-has-to-do-with-the-fact-that-you-are-responsible-for-the-care-of-the-child.'}\n",
      "initial triple: {'subject': 'No,-I', 'predicate': 'do-not-think', 'object': 'so.-I-think-it-has-to-do-with-the-fact-that-you-are-responsible-for-the-care-of-the-child.'}\n",
      "initial triple: {'subject': 'No,-I', 'predicate': 'do-not-think', 'object': 'so.-I-think-it-has-to-do-with-the-fact-that-you-are-responsible-for-the-care-of-the-child.'}\n",
      "initial triple: {'subject': 'No,-I', 'predicate': 'do-not-think', 'object': 'so.-I-think-it-has-to-do-with-the-fact-that-you-are-responsible-for-the-care-of-the-child.'}\n",
      "initial triple: {'subject': 'No,-I', 'predicate': 'do-not-think', 'object': 'so.-I-think-it-has-to-do-with-the-fact-that-you-are-responsible-for-the-care-of-the-child.'}\n",
      "initial triple: {'subject': 'No,-I', 'predicate': 'do-not-think', 'object': 'so.-I-think-it-has-to-do-with-the-fact-that-you-are-responsible-for-the-care-of-the-child.'}\n",
      "initial triple: {'subject': 'No,-I', 'predicate': 'do-not-think', 'object': 'so.-I-think-it-has-to-do-with-the-fact-that-you-are-responsible-for-the-care-of-the-child.'}\n",
      "initial triple: {'subject': 'No,-I', 'predicate': 'do-not-think', 'object': 'so.-I-think-it-has-to-do-with-the-fact-that-you-are-responsible-for-the-care-of-the-child.'}\n",
      "initial triple: {'subject': 'No,-I', 'predicate': 'do-not-think', 'object': 'so.-I-think-it-has-to-do-with-the-fact-that-you-are-responsible-for-the-care-of-the-child.'}\n",
      "initial triple: {'subject': 'No,-I', 'predicate': 'do-not-think', 'object': 'so.-I-think-it-has-to-do-with-the-fact-that-you-are-responsible-for-the-care-of-the-child.'}\n",
      "initial triple: {'subject': 'No,-I', 'predicate': 'do-not-think', 'object': 'so.-I-think-it-has-to-do-with-the-fact-that-you-are-responsible-for-the-care-of-the-child.'}\n",
      "initial triple: {'subject': 'No,-I', 'predicate': 'do-not-think', 'object': 'so.-I-think-it-has-to-do-with-the-fact-that-you-are-responsible-for-the-care-of-the-child.'}\n",
      "initial triple: {'subject': 'No,-I', 'predicate': 'do-not-think', 'object': 'so.-I-think-it-has-to-do-with-the-fact-that-you-are-responsible-for-the-care-of-the-child.'}\n",
      "initial triple: {'subject': 'No,-I', 'predicate': 'do-not-think', 'object': 'so.-I-think-it-has-to-do-with-the-fact-that-you-are-responsible-for-the-care-of-the-child.'}\n",
      "initial triple: {'subject': 'No,-I', 'predicate': 'do-not-think', 'object': 'so.-I-think-it-has-to-do-with-the-fact-that-you-are-responsible-for-the-care-of-the-child.'}\n",
      "initial triple: {'subject': 'No,-I', 'predicate': 'do-not-think', 'object': 'so.-I-think-it-has-to-do-with-the-fact-that-you-are-responsible-for-the-care-of-the-child.'}\n",
      "initial triple: {'subject': 'No,-I', 'predicate': 'do-not-think', 'object': 'so.-I-think-it-has-to-do-with-the-fact-that-you-are-responsible-for-the-care-of-the-child.'}\n",
      "initial triple: {'subject': 'No,-I', 'predicate': 'do-not-think', 'object': 'so.-I-think-it-has-to-do-with-the-fact-that-you-are-responsible-for-the-care-of-the-child.'}\n",
      "initial triple: {'subject': 'No,-I', 'predicate': 'do-not-think', 'object': 'so.-I-think-it-has-to-do-with-the-fact-that-you-are-responsible-for-the-care-of-the-child.'}\n",
      "initial triple: {'subject': 'No,-I', 'predicate': 'do-not-think', 'object': 'so.-I-think-it-has-to-do-with-the-fact-that-you-are-responsible-for-the-care-of-the-child.'}\n",
      "initial triple: {'subject': 'No,-I', 'predicate': 'do-not-think', 'object': 'so.-I-think-it-has-to-do-with-the-fact-that-you-are-responsible-for-the-care-of-the-child.'}\n",
      "initial triple: {'subject': 'No,-I', 'predicate': 'do-not-think', 'object': 'so.-I-think-it-has-to-do-with-the-fact-that-you-are-responsible-for-the-care-of-the-child.'}\n",
      "initial triple: {'subject': 'No,-I', 'predicate': 'do-not-think', 'object': 'so.-I-think-it-has-to-do-with-the-fact-that-you-are-responsible-for-the-care-of-the-child.'}\n",
      "initial triple: {'subject': 'No,-I', 'predicate': 'do-not-think', 'object': 'so.-I-think-it-has-to-do-with-the-fact-that-you-are-responsible-for-the-care-of-the-child.'}\n",
      "initial triple: {'subject': 'No,-I', 'predicate': 'do-not-think', 'object': 'so.-I-think-it-has-to-do-with-the-fact-that-you-are-responsible-for-the-care-of-the-child.'}\n",
      "initial triple: {'subject': 'No,-I', 'predicate': 'do-not-think', 'object': 'so.-I-think-it-has-to-do-with-the-fact-that-you-are-responsible-for-the-care-of-the-child.'}\n",
      "initial triple: {'subject': 'No,-I', 'predicate': 'do-not-think', 'object': 'so.-I-think-it-has-to-do-with-the-fact-that-you-are-responsible-for-the-care-of-the-child.'}\n",
      "initial triple: {'subject': 'No,-I', 'predicate': 'do-not-think', 'object': 'so.-I-think-it-has-to-do-with-the-fact-that-you-are-responsible-for-the-care-of-the-child.'}\n",
      "initial triple: {'subject': 'No,-I', 'predicate': 'do-not-think', 'object': 'so.-I-think-it-has-to-do-with-the-fact-that-you-are-responsible-for-the-care-of-the-child.'}\n",
      "initial triple: {'subject': 'No,-I', 'predicate': 'do-not-think', 'object': 'so.-I-think-it-has-to-do-with-the-fact-that-you-are-responsible-for-the-care-of-the-child.'}\n",
      "initial triple: {'subject': 'No,-I', 'predicate': 'do-not-think', 'object': 'so.-I-think-it-has-to-do-with-the-fact-that-you-are-responsible-for-the-care-of-the-child.'}\n",
      "initial triple: {'subject': 'No,-I', 'predicate': 'do-not-think', 'object': 'so.-I-think-it-has-to-do-with-the-fact-that-you-are-responsible-for-the-care-of-the-child.'}\n",
      "initial triple: {'subject': 'No,-I', 'predicate': 'do-not-think', 'object': 'so.-I-think-it-has-to-do-with-the-fact-that-you-are-responsible-for-the-care-of-the-child.'}\n",
      "initial triple: {'subject': 'No,-I', 'predicate': 'do-not-think', 'object': 'so.-I-think-it-has-to-do-with-the-fact-that-you-are-responsible-for-the-care-of-the-child.'}\n",
      "initial triple: {'subject': 'No,-I', 'predicate': 'do-not-think', 'object': 'so.-I-think-it-has-to-do-with-the-fact-that-you-are-responsible-for-the-care-of-the-child.'}\n",
      "initial triple: {'subject': 'No,-I', 'predicate': 'do-not-think', 'object': 'so.-I-think-it-has-to-do-with-the-fact-that-you-are-responsible-for-the-care-of-the-child.'}\n",
      "initial triple: {'subject': 'No,-I', 'predicate': 'do-not-think', 'object': 'so.-I-think-it-has-to-do-with-the-fact-that-you-are-responsible-for-the-care-of-the-child.'}\n",
      "initial triple: {'subject': 'No,-I', 'predicate': 'do-not-think', 'object': 'so.-I-think-it-has-to-do-with-the-fact-that-you-are-responsible-for-the-care-of-the-child.'}\n",
      "initial triple: {'subject': 'No,-I', 'predicate': 'do-not-think', 'object': 'so.-I-think-it-has-to-do-with-the-fact-that-you-are-responsible-for-the-care-of-the-child.'}\n",
      "initial triple: {'subject': 'No,-I', 'predicate': 'do-not-think', 'object': 'so.-I-think-it-has-to-do-with-the-fact-that-you-are-responsible-for-the-care-of-the-child.'}\n",
      "initial triple: {'subject': 'No,-I', 'predicate': 'do-not-think', 'object': 'so.-I-think-it-has-to-do-with-the-fact-that-you-are-responsible-for-the-care-of-the-child.'}\n",
      "initial triple: {'subject': 'No,-I', 'predicate': 'do-not-think', 'object': 'so.-I-think-it-has-to-do-with-the-fact-that-you-are-responsible-for-the-care-of-the-child.'}\n",
      "initial triple: {'subject': 'No,-I', 'predicate': 'do-not-think', 'object': 'so.-I-think-it-has-to-do-with-the-fact-that-you-are-responsible-for-the-care-of-the-child.'}\n",
      "initial triple: {'subject': 'No,-I', 'predicate': 'do-not-think', 'object': 'so.-I-think-it-has-to-do-with-the-fact-that-you-are-responsible-for-the-care-of-the-child.'}\n",
      "initial triple: {'subject': 'No,-I', 'predicate': 'do-not-think', 'object': 'so.-I-think-it-has-to-do-with-the-fact-that-you-are-responsible-for-the-care-of-the-child.'}\n",
      "initial triple: {'subject': 'No,-I', 'predicate': 'do-not-think', 'object': 'so.-I-think-it-has-to-do-with-the-fact-that-you-are-responsible-for-the-care-of-the-child.'}\n",
      "initial triple: {'subject': 'No,-I', 'predicate': 'do-not-think', 'object': 'so.-I-think-it-has-to-do-with-the-fact-that-you-are-responsible-for-the-care-of-the-child.'}\n",
      "initial triple: {'subject': 'No,-I', 'predicate': 'do-not-think', 'object': 'so.-I-think-it-has-to-do-with-the-fact-that-you-are-responsible-for-the-care-of-the-child.'}\n",
      "initial triple: {'subject': 'No,-I', 'predicate': 'do-not-think', 'object': 'so.-I-think-it-has-to-do-with-the-fact-that-you-are-responsible-for-the-care-of-the-child.'}\n",
      "initial triple: {'subject': 'No,-I', 'predicate': 'do-not-think', 'object': 'so.-I-think-it-has-to-do-with-the-fact-that-you-are-responsible-for-the-care-of-the-child.'}\n",
      "initial triple: {'subject': 'No,-I', 'predicate': 'do-not-think', 'object': 'so.-I-think-it-has-to-do-with-the-fact-that-you-are-responsible-for-the-care-of-the-child.'}\n",
      "initial triple: {'subject': 'No,-I', 'predicate': 'do-not-think', 'object': 'so.-I-think-it-has-to-do-with-the-fact-that-you-are-responsible-for-the-care-of-the-child.'}\n"
     ]
    },
    {
     "name": "stderr",
     "output_type": "stream",
     "text": [
      "Couldn't parse input\n",
      "Couldn't parse input\n",
      "Couldn't parse input\n",
      "Couldn't parse input\n",
      "Couldn't parse input\n",
      "Couldn't parse input\n",
      "Couldn't parse input\n",
      "Couldn't parse input\n",
      "Couldn't parse input\n",
      "Couldn't parse input\n",
      "Couldn't parse input\n",
      "Couldn't parse input\n",
      "Couldn't parse input\n",
      "Couldn't parse input\n",
      "Couldn't parse input\n",
      "Couldn't parse input\n",
      "Couldn't parse input\n",
      "Couldn't parse input\n",
      "Couldn't parse input\n",
      "Couldn't parse input\n",
      "Couldn't parse input\n",
      "Couldn't parse input\n",
      "Couldn't parse input\n",
      "Couldn't parse input\n",
      "Couldn't parse input\n",
      "Couldn't parse input\n",
      "Couldn't parse input\n",
      "Couldn't parse input\n",
      "Couldn't parse input\n",
      "Couldn't parse input\n",
      "Couldn't parse input\n",
      "Couldn't parse input\n",
      "Couldn't parse input\n",
      "Couldn't parse input\n",
      "Couldn't parse input\n",
      "Couldn't parse input\n",
      "Couldn't parse input\n",
      "Couldn't parse input\n",
      "Couldn't parse input\n",
      "Couldn't parse input\n",
      "Couldn't parse input\n",
      "Couldn't parse input\n",
      "Couldn't parse input\n",
      "Couldn't parse input\n",
      "Couldn't parse input\n",
      "Couldn't parse input\n",
      "Couldn't parse input\n",
      "Couldn't parse input\n",
      "Couldn't parse input\n",
      "Couldn't parse input\n",
      "Couldn't parse input\n",
      "Couldn't parse input\n",
      "Couldn't parse input\n",
      "Couldn't parse input\n",
      "Couldn't parse input\n",
      "Couldn't parse input\n",
      "Couldn't parse input\n",
      "Couldn't parse input\n",
      "Couldn't parse input\n",
      "Couldn't parse input\n",
      "Couldn't parse input\n",
      "Couldn't parse input\n",
      "Couldn't parse input\n",
      "Couldn't parse input\n",
      "Couldn't parse input\n",
      "Couldn't parse input\n",
      "Couldn't parse input\n",
      "Couldn't parse input\n",
      "Couldn't parse input\n",
      "Couldn't parse input\n",
      "Couldn't parse input\n",
      "Couldn't parse input\n",
      "Couldn't parse input\n",
      "Couldn't parse input\n",
      "Couldn't parse input\n",
      "Couldn't parse input\n",
      "Couldn't parse input\n",
      "Couldn't parse input\n",
      "Couldn't parse input\n",
      "Couldn't parse input\n",
      "Couldn't parse input\n",
      "Couldn't parse input\n",
      "Couldn't parse input\n",
      "Couldn't parse input\n",
      "Couldn't parse input\n",
      "Couldn't parse input\n",
      "Couldn't parse input\n",
      "Couldn't parse input\n",
      "Couldn't parse input\n",
      "Couldn't parse input\n",
      "Couldn't parse input\n",
      "Couldn't parse input\n",
      "Couldn't parse input\n",
      "Couldn't parse input\n",
      "Couldn't parse input\n",
      "Couldn't parse input\n",
      "Couldn't parse input\n",
      "Couldn't parse input\n",
      "Couldn't parse input\n",
      "Couldn't parse input\n",
      "Couldn't parse input\n",
      "Couldn't parse input\n",
      "Couldn't parse input\n",
      "Couldn't parse input\n",
      "Couldn't parse input\n",
      "Couldn't parse input\n",
      "Couldn't parse input\n",
      "Couldn't parse input\n",
      "Couldn't parse input\n",
      "Couldn't parse input\n",
      "Couldn't parse input\n",
      "Couldn't parse input\n",
      "Couldn't parse input\n",
      "Couldn't parse input\n",
      "Couldn't parse input\n",
      "Couldn't parse input\n",
      "Couldn't parse input\n",
      "Couldn't parse input\n",
      "Couldn't parse input\n",
      "Couldn't parse input\n",
      "Couldn't parse input\n",
      "Couldn't parse input\n",
      "Couldn't parse input\n",
      "Couldn't parse input\n",
      "Couldn't parse input\n",
      "Couldn't parse input\n",
      "Couldn't parse input\n",
      "Couldn't parse input\n",
      "Couldn't parse input\n",
      "Couldn't parse input\n",
      "Couldn't parse input\n",
      "Couldn't parse input\n",
      "Couldn't parse input\n",
      "Couldn't parse input\n",
      "Couldn't parse input\n",
      "Couldn't parse input\n",
      "Couldn't parse input\n",
      "Couldn't parse input\n",
      "Couldn't parse input\n",
      "Couldn't parse input\n",
      "Couldn't parse input\n",
      "Couldn't parse input\n",
      "Couldn't parse input\n",
      "Couldn't parse input\n",
      "Couldn't parse input\n",
      "Couldn't parse input\n",
      "Couldn't parse input\n",
      "Couldn't parse input\n",
      "Couldn't parse input\n",
      "Couldn't parse input\n",
      "Couldn't parse input\n",
      "Couldn't parse input\n",
      "Couldn't parse input\n",
      "Couldn't parse input\n",
      "Couldn't parse input\n",
      "Couldn't parse input\n",
      "Couldn't parse input\n",
      "Couldn't parse input\n",
      "Couldn't parse input\n",
      "Couldn't parse input\n",
      "Couldn't parse input\n",
      "Couldn't parse input\n",
      "Couldn't parse input\n",
      "Couldn't parse input\n",
      "Couldn't parse input\n",
      "Couldn't parse input\n",
      "Couldn't parse input\n",
      "Couldn't parse input\n",
      "Couldn't parse input\n",
      "Couldn't parse input\n",
      "Couldn't parse input\n",
      "Couldn't parse input\n",
      "Couldn't parse input\n",
      "Couldn't parse input\n",
      "Couldn't parse input\n",
      "Couldn't parse input\n",
      "Couldn't parse input\n",
      "Couldn't parse input\n",
      "Couldn't parse input\n",
      "Couldn't parse input\n",
      "Couldn't parse input\n",
      "Couldn't parse input\n",
      "Couldn't parse input\n",
      "Couldn't parse input\n",
      "Couldn't parse input\n",
      "Couldn't parse input\n",
      "Couldn't parse input\n",
      "Couldn't parse input\n",
      "Couldn't parse input\n",
      "Couldn't parse input\n",
      "Couldn't parse input\n",
      "Couldn't parse input\n",
      "Couldn't parse input\n",
      "Couldn't parse input\n",
      "Couldn't parse input\n",
      "Couldn't parse input\n",
      "Couldn't parse input\n",
      "Couldn't parse input\n",
      "Couldn't parse input\n",
      "Couldn't parse input\n",
      "Couldn't parse input\n",
      "Couldn't parse input\n",
      "Couldn't parse input\n",
      "Couldn't parse input\n",
      "Couldn't parse input\n",
      "Couldn't parse input\n",
      "Couldn't parse input\n",
      "Couldn't parse input\n",
      "Couldn't parse input\n",
      "Couldn't parse input\n",
      "Couldn't parse input\n",
      "Couldn't parse input\n"
     ]
    },
    {
     "name": "stdout",
     "output_type": "stream",
     "text": [
      "initial triple: {'subject': 'No,-I', 'predicate': 'do-not-think', 'object': 'so.-I-think-it-has-to-do-with-the-fact-that-you-are-responsible-for-the-care-of-the-child.'}\n",
      "initial triple: {'subject': 'No,-I', 'predicate': 'do-not-think', 'object': 'so.-I-think-it-has-to-do-with-the-fact-that-you-are-responsible-for-the-care-of-the-child.'}\n",
      "initial triple: {'subject': 'No,-I', 'predicate': 'do-not-think', 'object': 'so.-I-think-it-has-to-do-with-the-fact-that-you-are-responsible-for-the-care-of-the-child.'}\n",
      "initial triple: {'subject': 'No,-I', 'predicate': 'do-not-think', 'object': 'so.-I-think-it-has-to-do-with-the-fact-that-you-are-responsible-for-the-care-of-the-child.'}\n",
      "initial triple: {'subject': 'No,-I', 'predicate': 'do-not-think', 'object': 'so.-I-think-it-has-to-do-with-the-fact-that-you-are-responsible-for-the-care-of-the-child.'}\n",
      "initial triple: {'subject': 'No,-I', 'predicate': 'do-not-think', 'object': 'so.-I-think-it-has-to-do-with-the-fact-that-you-are-responsible-for-the-care-of-the-child.'}\n",
      "initial triple: {'subject': 'No,-I', 'predicate': 'do-not-think', 'object': 'so.-I-think-it-has-to-do-with-the-fact-that-you-are-responsible-for-the-care-of-the-child.'}\n",
      "initial triple: {'subject': 'No,-I', 'predicate': 'do-not-think', 'object': 'so.-I-think-it-has-to-do-with-the-fact-that-you-are-responsible-for-the-care-of-the-child.'}\n",
      "initial triple: {'subject': 'No,-I', 'predicate': 'do-not-think', 'object': 'so.-I-think-it-has-to-do-with-the-fact-that-you-are-responsible-for-the-care-of-the-child.'}\n",
      "initial triple: {'subject': 'No,-I', 'predicate': 'do-not-think', 'object': 'so.-I-think-it-has-to-do-with-the-fact-that-you-are-responsible-for-the-care-of-the-child.'}\n",
      "initial triple: {'subject': 'No,-I', 'predicate': 'do-not-think', 'object': 'so.-I-think-it-has-to-do-with-the-fact-that-you-are-responsible-for-the-care-of-the-child.'}\n",
      "initial triple: {'subject': 'No,-I', 'predicate': 'do-not-think', 'object': 'so.-I-think-it-has-to-do-with-the-fact-that-you-are-responsible-for-the-care-of-the-child.'}\n",
      "initial triple: {'subject': 'No,-I', 'predicate': 'do-not-think', 'object': 'so.-I-think-it-has-to-do-with-the-fact-that-you-are-responsible-for-the-care-of-the-child.'}\n",
      "initial triple: {'subject': 'No,-I', 'predicate': 'do-not-think', 'object': 'so.-I-think-it-has-to-do-with-the-fact-that-you-are-responsible-for-the-care-of-the-child.'}\n",
      "initial triple: {'subject': 'No,-I', 'predicate': 'do-not-think', 'object': 'so.-I-think-it-has-to-do-with-the-fact-that-you-are-responsible-for-the-care-of-the-child.'}\n",
      "initial triple: {'subject': 'No,-I', 'predicate': 'do-not-think', 'object': 'so.-I-think-it-has-to-do-with-the-fact-that-you-are-responsible-for-the-care-of-the-child.'}\n",
      "initial triple: {'subject': 'No,-I', 'predicate': 'do-not-think', 'object': 'so.-I-think-it-has-to-do-with-the-fact-that-you-are-responsible-for-the-care-of-the-child.'}\n",
      "initial triple: {'subject': 'No,-I', 'predicate': 'do-not-think', 'object': 'so.-I-think-it-has-to-do-with-the-fact-that-you-are-responsible-for-the-care-of-the-child.'}\n",
      "initial triple: {'subject': 'No,-I', 'predicate': 'do-not-think', 'object': 'so.-I-think-it-has-to-do-with-the-fact-that-you-are-responsible-for-the-care-of-the-child.'}\n",
      "initial triple: {'subject': 'No,-I', 'predicate': 'do-not-think', 'object': 'so.-I-think-it-has-to-do-with-the-fact-that-you-are-responsible-for-the-care-of-the-child.'}\n",
      "initial triple: {'subject': 'No,-I', 'predicate': 'do-not-think', 'object': 'so.-I-think-it-has-to-do-with-the-fact-that-you-are-responsible-for-the-care-of-the-child.'}\n",
      "initial triple: {'subject': 'No,-I', 'predicate': 'do-not-think', 'object': 'so.-I-think-it-has-to-do-with-the-fact-that-you-are-responsible-for-the-care-of-the-child.'}\n",
      "initial triple: {'subject': 'No,-I', 'predicate': 'do-not-think', 'object': 'so.-I-think-it-has-to-do-with-the-fact-that-you-are-responsible-for-the-care-of-the-child.'}\n",
      "initial triple: {'subject': 'No,-I', 'predicate': 'do-not-think', 'object': 'so.-I-think-it-has-to-do-with-the-fact-that-you-are-responsible-for-the-care-of-the-child.'}\n",
      "initial triple: {'subject': 'No,-I', 'predicate': 'do-not-think', 'object': 'so.-I-think-it-has-to-do-with-the-fact-that-you-are-responsible-for-the-care-of-the-child.'}\n",
      "initial triple: {'subject': 'No,-I', 'predicate': 'do-not-think', 'object': 'so.-I-think-it-has-to-do-with-the-fact-that-you-are-responsible-for-the-care-of-the-child.'}\n",
      "initial triple: {'subject': 'No,-I', 'predicate': 'do-not-think', 'object': 'so.-I-think-it-has-to-do-with-the-fact-that-you-are-responsible-for-the-care-of-the-child.'}\n",
      "initial triple: {'subject': 'No,-I', 'predicate': 'do-not-think', 'object': 'so.-I-think-it-has-to-do-with-the-fact-that-you-are-responsible-for-the-care-of-the-child.'}\n",
      "initial triple: {'subject': 'No,-I', 'predicate': 'do-not-think', 'object': 'so.-I-think-it-has-to-do-with-the-fact-that-you-are-responsible-for-the-care-of-the-child.'}\n",
      "initial triple: {'subject': 'No,-I', 'predicate': 'do-not-think', 'object': 'so.-I-think-it-has-to-do-with-the-fact-that-you-are-responsible-for-the-care-of-the-child.'}\n",
      "initial triple: {'subject': 'No,-I', 'predicate': 'do-not-think', 'object': 'so.-I-think-it-has-to-do-with-the-fact-that-you-are-responsible-for-the-care-of-the-child.'}\n",
      "initial triple: {'subject': 'No,-I', 'predicate': 'do-not-think', 'object': 'so.-I-think-it-has-to-do-with-the-fact-that-you-are-responsible-for-the-care-of-the-child.'}\n",
      "initial triple: {'subject': 'No,-I', 'predicate': 'do-not-think', 'object': 'so.-I-think-it-has-to-do-with-the-fact-that-you-are-responsible-for-the-care-of-the-child.'}\n",
      "initial triple: {'subject': 'No,-I', 'predicate': 'do-not-think', 'object': 'so.-I-think-it-has-to-do-with-the-fact-that-you-are-responsible-for-the-care-of-the-child.'}\n",
      "initial triple: {'subject': 'No,-I', 'predicate': 'do-not-think', 'object': 'so.-I-think-it-has-to-do-with-the-fact-that-you-are-responsible-for-the-care-of-the-child.'}\n",
      "initial triple: {'subject': 'No,-I', 'predicate': 'do-not-think', 'object': 'so.-I-think-it-has-to-do-with-the-fact-that-you-are-responsible-for-the-care-of-the-child.'}\n",
      "initial triple: {'subject': 'No,-I', 'predicate': 'do-not-think', 'object': 'so.-I-think-it-has-to-do-with-the-fact-that-you-are-responsible-for-the-care-of-the-child.'}\n",
      "initial triple: {'subject': 'No,-I', 'predicate': 'do-not-think', 'object': 'so.-I-think-it-has-to-do-with-the-fact-that-you-are-responsible-for-the-care-of-the-child.'}\n",
      "initial triple: {'subject': 'No,-I', 'predicate': 'do-not-think', 'object': 'so.-I-think-it-has-to-do-with-the-fact-that-you-are-responsible-for-the-care-of-the-child.'}\n",
      "initial triple: {'subject': 'No,-I', 'predicate': 'do-not-think', 'object': 'so.-I-think-it-has-to-do-with-the-fact-that-you-are-responsible-for-the-care-of-the-child.'}\n",
      "initial triple: {'subject': 'No,-I', 'predicate': 'do-not-think', 'object': 'so.-I-think-it-has-to-do-with-the-fact-that-you-are-responsible-for-the-care-of-the-child.'}\n",
      "initial triple: {'subject': 'No,-I', 'predicate': 'do-not-think', 'object': 'so.-I-think-it-has-to-do-with-the-fact-that-you-are-responsible-for-the-care-of-the-child.'}\n",
      "initial triple: {'subject': 'No,-I', 'predicate': 'do-not-think', 'object': 'so.-I-think-it-has-to-do-with-the-fact-that-you-are-responsible-for-the-care-of-the-child.'}\n",
      "initial triple: {'subject': 'No,-I', 'predicate': 'do-not-think', 'object': 'so.-I-think-it-has-to-do-with-the-fact-that-you-are-responsible-for-the-care-of-the-child.'}\n",
      "initial triple: {'subject': 'No,-I', 'predicate': 'do-not-think', 'object': 'so.-I-think-it-has-to-do-with-the-fact-that-you-are-responsible-for-the-care-of-the-child.'}\n",
      "initial triple: {'subject': 'No,-I', 'predicate': 'do-not-think', 'object': 'so.-I-think-it-has-to-do-with-the-fact-that-you-are-responsible-for-the-care-of-the-child.'}\n",
      "initial triple: {'subject': 'No,-I', 'predicate': 'do-not-think', 'object': 'so.-I-think-it-has-to-do-with-the-fact-that-you-are-responsible-for-the-care-of-the-child.'}\n",
      "initial triple: {'subject': 'No,-I', 'predicate': 'do-not-think', 'object': 'so.-I-think-it-has-to-do-with-the-fact-that-you-are-responsible-for-the-care-of-the-child.'}\n",
      "initial triple: {'subject': 'No,-I', 'predicate': 'do-not-think', 'object': 'so.-I-think-it-has-to-do-with-the-fact-that-you-are-responsible-for-the-care-of-the-child.'}\n",
      "initial triple: {'subject': 'No,-I', 'predicate': 'do-not-think', 'object': 'so.-I-think-it-has-to-do-with-the-fact-that-you-are-responsible-for-the-care-of-the-child.'}\n",
      "initial triple: {'subject': 'No,-I', 'predicate': 'do-not-think', 'object': 'so.-I-think-it-has-to-do-with-the-fact-that-you-are-responsible-for-the-care-of-the-child.'}\n",
      "initial triple: {'subject': 'No,-I', 'predicate': 'do-not-think', 'object': 'so.-I-think-it-has-to-do-with-the-fact-that-you-are-responsible-for-the-care-of-the-child.'}\n",
      "initial triple: {'subject': 'No,-I', 'predicate': 'do-not-think', 'object': 'so.-I-think-it-has-to-do-with-the-fact-that-you-are-responsible-for-the-care-of-the-child.'}\n",
      "initial triple: {'subject': 'No,-I', 'predicate': 'do-not-think', 'object': 'so.-I-think-it-has-to-do-with-the-fact-that-you-are-responsible-for-the-care-of-the-child.'}\n",
      "initial triple: {'subject': 'No,-I', 'predicate': 'do-not-think', 'object': 'so.-I-think-it-has-to-do-with-the-fact-that-you-are-responsible-for-the-care-of-the-child.'}\n",
      "initial triple: {'subject': 'No,-I', 'predicate': 'do-not-think', 'object': 'so.-I-think-it-has-to-do-with-the-fact-that-you-are-responsible-for-the-care-of-the-child.'}\n",
      "initial triple: {'subject': 'No,-I', 'predicate': 'do-not-think', 'object': 'so.-I-think-it-has-to-do-with-the-fact-that-you-are-responsible-for-the-care-of-the-child.'}\n",
      "initial triple: {'subject': 'No,-I', 'predicate': 'do-not-think', 'object': 'so.-I-think-it-has-to-do-with-the-fact-that-you-are-responsible-for-the-care-of-the-child.'}\n",
      "initial triple: {'subject': 'No,-I', 'predicate': 'do-not-think', 'object': 'so.-I-think-it-has-to-do-with-the-fact-that-you-are-responsible-for-the-care-of-the-child.'}\n",
      "initial triple: {'subject': 'No,-I', 'predicate': 'do-not-think', 'object': 'so.-I-think-it-has-to-do-with-the-fact-that-you-are-responsible-for-the-care-of-the-child.'}\n",
      "initial triple: {'subject': 'No,-I', 'predicate': 'do-not-think', 'object': 'so.-I-think-it-has-to-do-with-the-fact-that-you-are-responsible-for-the-care-of-the-child.'}\n",
      "initial triple: {'subject': 'No,-I', 'predicate': 'do-not-think', 'object': 'so.-I-think-it-has-to-do-with-the-fact-that-you-are-responsible-for-the-care-of-the-child.'}\n",
      "initial triple: {'subject': 'No,-I', 'predicate': 'do-not-think', 'object': 'so.-I-think-it-has-to-do-with-the-fact-that-you-are-responsible-for-the-care-of-the-child.'}\n",
      "initial triple: {'subject': 'No,-I', 'predicate': 'do-not-think', 'object': 'so.-I-think-it-has-to-do-with-the-fact-that-you-are-responsible-for-the-care-of-the-child.'}\n",
      "initial triple: {'subject': 'No,-I', 'predicate': 'do-not-think', 'object': 'so.-I-think-it-has-to-do-with-the-fact-that-you-are-responsible-for-the-care-of-the-child.'}\n",
      "initial triple: {'subject': 'No,-I', 'predicate': 'do-not-think', 'object': 'so.-I-think-it-has-to-do-with-the-fact-that-you-are-responsible-for-the-care-of-the-child.'}\n",
      "initial triple: {'subject': 'No,-I', 'predicate': 'do-not-think', 'object': 'so.-I-think-it-has-to-do-with-the-fact-that-you-are-responsible-for-the-care-of-the-child.'}\n",
      "initial triple: {'subject': 'No,-I', 'predicate': 'do-not-think', 'object': 'so.-I-think-it-has-to-do-with-the-fact-that-you-are-responsible-for-the-care-of-the-child.'}\n",
      "initial triple: {'subject': 'No,-I', 'predicate': 'do-not-think', 'object': 'so.-I-think-it-has-to-do-with-the-fact-that-you-are-responsible-for-the-care-of-the-child.'}\n",
      "initial triple: {'subject': 'No,-I', 'predicate': 'do-not-think', 'object': 'so.-I-think-it-has-to-do-with-the-fact-that-you-are-responsible-for-the-care-of-the-child.'}\n",
      "initial triple: {'subject': 'No,-I', 'predicate': 'do-not-think', 'object': 'so.-I-think-it-has-to-do-with-the-fact-that-you-are-responsible-for-the-care-of-the-child.'}\n",
      "initial triple: {'subject': 'No,-I', 'predicate': 'do-not-think', 'object': 'so.-I-think-it-has-to-do-with-the-fact-that-you-are-responsible-for-the-care-of-the-child.'}\n",
      "initial triple: {'subject': 'No,-I', 'predicate': 'do-not-think', 'object': 'so.-I-think-it-has-to-do-with-the-fact-that-you-are-responsible-for-the-care-of-the-child.'}\n",
      "initial triple: {'subject': 'No,-I', 'predicate': 'do-not-think', 'object': 'so.-I-think-it-has-to-do-with-the-fact-that-you-are-responsible-for-the-care-of-the-child.'}\n",
      "initial triple: {'subject': 'No,-I', 'predicate': 'do-not-think', 'object': 'so.-I-think-it-has-to-do-with-the-fact-that-you-are-responsible-for-the-care-of-the-child.'}\n",
      "initial triple: {'subject': 'No,-I', 'predicate': 'do-not-think', 'object': 'so.-I-think-it-has-to-do-with-the-fact-that-you-are-responsible-for-the-care-of-the-child.'}\n",
      "initial triple: {'subject': 'No,-I', 'predicate': 'do-not-think', 'object': 'so.-I-think-it-has-to-do-with-the-fact-that-you-are-responsible-for-the-care-of-the-child.'}\n",
      "initial triple: {'subject': 'No,-I', 'predicate': 'do-not-think', 'object': 'so.-I-think-it-has-to-do-with-the-fact-that-you-are-responsible-for-the-care-of-the-child.'}\n",
      "initial triple: {'subject': 'No,-I', 'predicate': 'do-not-think', 'object': 'so.-I-think-it-has-to-do-with-the-fact-that-you-are-responsible-for-the-care-of-the-child.'}\n",
      "initial triple: {'subject': 'No,-I', 'predicate': 'do-not-think', 'object': 'so.-I-think-it-has-to-do-with-the-fact-that-you-are-responsible-for-the-care-of-the-child.'}\n",
      "initial triple: {'subject': 'No,-I', 'predicate': 'do-not-think', 'object': 'so.-I-think-it-has-to-do-with-the-fact-that-you-are-responsible-for-the-care-of-the-child.'}\n",
      "initial triple: {'subject': 'No,-I', 'predicate': 'do-not-think', 'object': 'so.-I-think-it-has-to-do-with-the-fact-that-you-are-responsible-for-the-care-of-the-child.'}\n",
      "initial triple: {'subject': 'No,-I', 'predicate': 'do-not-think', 'object': 'so.-I-think-it-has-to-do-with-the-fact-that-you-are-responsible-for-the-care-of-the-child.'}\n",
      "initial triple: {'subject': 'No,-I', 'predicate': 'do-not-think', 'object': 'so.-I-think-it-has-to-do-with-the-fact-that-you-are-responsible-for-the-care-of-the-child.'}\n",
      "initial triple: {'subject': 'No,-I', 'predicate': 'do-not-think', 'object': 'so.-I-think-it-has-to-do-with-the-fact-that-you-are-responsible-for-the-care-of-the-child.'}\n",
      "initial triple: {'subject': 'No,-I', 'predicate': 'do-not-think', 'object': 'so.-I-think-it-has-to-do-with-the-fact-that-you-are-responsible-for-the-care-of-the-child.'}\n",
      "initial triple: {'subject': 'No,-I', 'predicate': 'do-not-think', 'object': 'so.-I-think-it-has-to-do-with-the-fact-that-you-are-responsible-for-the-care-of-the-child.'}\n",
      "initial triple: {'subject': 'No,-I', 'predicate': 'do-not-think', 'object': 'so.-I-think-it-has-to-do-with-the-fact-that-you-are-responsible-for-the-care-of-the-child.'}\n",
      "initial triple: {'subject': 'No,-I', 'predicate': 'do-not-think', 'object': 'so.-I-think-it-has-to-do-with-the-fact-that-you-are-responsible-for-the-care-of-the-child.'}\n",
      "initial triple: {'subject': 'No,-I', 'predicate': 'do-not-think', 'object': 'so.-I-think-it-has-to-do-with-the-fact-that-you-are-responsible-for-the-care-of-the-child.'}\n",
      "initial triple: {'subject': 'No,-I', 'predicate': 'do-not-think', 'object': 'so.-I-think-it-has-to-do-with-the-fact-that-you-are-responsible-for-the-care-of-the-child.'}\n",
      "initial triple: {'subject': 'No,-I', 'predicate': 'do-not-think', 'object': 'so.-I-think-it-has-to-do-with-the-fact-that-you-are-responsible-for-the-care-of-the-child.'}\n",
      "initial triple: {'subject': 'No,-I', 'predicate': 'do-not-think', 'object': 'so.-I-think-it-has-to-do-with-the-fact-that-you-are-responsible-for-the-care-of-the-child.'}\n",
      "initial triple: {'subject': 'No,-I', 'predicate': 'do-not-think', 'object': 'so.-I-think-it-has-to-do-with-the-fact-that-you-are-responsible-for-the-care-of-the-child.'}\n",
      "initial triple: {'subject': 'No,-I', 'predicate': 'do-not-think', 'object': 'so.-I-think-it-has-to-do-with-the-fact-that-you-are-responsible-for-the-care-of-the-child.'}\n",
      "initial triple: {'subject': 'No,-I', 'predicate': 'do-not-think', 'object': 'so.-I-think-it-has-to-do-with-the-fact-that-you-are-responsible-for-the-care-of-the-child.'}\n",
      "initial triple: {'subject': 'No,-I', 'predicate': 'do-not-think', 'object': 'so.-I-think-it-has-to-do-with-the-fact-that-you-are-responsible-for-the-care-of-the-child.'}\n",
      "initial triple: {'subject': 'No,-I', 'predicate': 'do-not-think', 'object': 'so.-I-think-it-has-to-do-with-the-fact-that-you-are-responsible-for-the-care-of-the-child.'}\n",
      "initial triple: {'subject': 'No,-I', 'predicate': 'do-not-think', 'object': 'so.-I-think-it-has-to-do-with-the-fact-that-you-are-responsible-for-the-care-of-the-child.'}\n",
      "initial triple: {'subject': 'No,-I', 'predicate': 'do-not-think', 'object': 'so.-I-think-it-has-to-do-with-the-fact-that-you-are-responsible-for-the-care-of-the-child.'}\n",
      "initial triple: {'subject': 'No,-I', 'predicate': 'do-not-think', 'object': 'so.-I-think-it-has-to-do-with-the-fact-that-you-are-responsible-for-the-care-of-the-child.'}\n",
      "initial triple: {'subject': 'No,-I', 'predicate': 'do-not-think', 'object': 'so.-I-think-it-has-to-do-with-the-fact-that-you-are-responsible-for-the-care-of-the-child.'}\n",
      "initial triple: {'subject': 'No,-I', 'predicate': 'do-not-think', 'object': 'so.-I-think-it-has-to-do-with-the-fact-that-you-are-responsible-for-the-care-of-the-child.'}\n",
      "initial triple: {'subject': 'No,-I', 'predicate': 'do-not-think', 'object': 'so.-I-think-it-has-to-do-with-the-fact-that-you-are-responsible-for-the-care-of-the-child.'}\n",
      "initial triple: {'subject': 'No,-I', 'predicate': 'do-not-think', 'object': 'so.-I-think-it-has-to-do-with-the-fact-that-you-are-responsible-for-the-care-of-the-child.'}\n",
      "initial triple: {'subject': 'No,-I', 'predicate': 'do-not-think', 'object': 'so.-I-think-it-has-to-do-with-the-fact-that-you-are-responsible-for-the-care-of-the-child.'}\n",
      "initial triple: {'subject': 'No,-I', 'predicate': 'do-not-think', 'object': 'so.-I-think-it-has-to-do-with-the-fact-that-you-are-responsible-for-the-care-of-the-child.'}\n",
      "initial triple: {'subject': 'No,-I', 'predicate': 'do-not-think', 'object': 'so.-I-think-it-has-to-do-with-the-fact-that-you-are-responsible-for-the-care-of-the-child.'}\n",
      "initial triple: {'subject': 'No,-I', 'predicate': 'do-not-think', 'object': 'so.-I-think-it-has-to-do-with-the-fact-that-you-are-responsible-for-the-care-of-the-child.'}\n",
      "initial triple: {'subject': 'No,-I', 'predicate': 'do-not-think', 'object': 'so.-I-think-it-has-to-do-with-the-fact-that-you-are-responsible-for-the-care-of-the-child.'}\n",
      "initial triple: {'subject': 'No,-I', 'predicate': 'do-not-think', 'object': 'so.-I-think-it-has-to-do-with-the-fact-that-you-are-responsible-for-the-care-of-the-child.'}\n",
      "initial triple: {'subject': 'No,-I', 'predicate': 'do-not-think', 'object': 'so.-I-think-it-has-to-do-with-the-fact-that-you-are-responsible-for-the-care-of-the-child.'}\n",
      "initial triple: {'subject': 'No,-I', 'predicate': 'do-not-think', 'object': 'so.-I-think-it-has-to-do-with-the-fact-that-you-are-responsible-for-the-care-of-the-child.'}\n",
      "initial triple: {'subject': 'No,-I', 'predicate': 'do-not-think', 'object': 'so.-I-think-it-has-to-do-with-the-fact-that-you-are-responsible-for-the-care-of-the-child.'}\n",
      "initial triple: {'subject': 'No,-I', 'predicate': 'do-not-think', 'object': 'so.-I-think-it-has-to-do-with-the-fact-that-you-are-responsible-for-the-care-of-the-child.'}\n",
      "initial triple: {'subject': 'No,-I', 'predicate': 'do-not-think', 'object': 'so.-I-think-it-has-to-do-with-the-fact-that-you-are-responsible-for-the-care-of-the-child.'}\n",
      "initial triple: {'subject': 'No,-I', 'predicate': 'do-not-think', 'object': 'so.-I-think-it-has-to-do-with-the-fact-that-you-are-responsible-for-the-care-of-the-child.'}\n",
      "initial triple: {'subject': 'No,-I', 'predicate': 'do-not-think', 'object': 'so.-I-think-it-has-to-do-with-the-fact-that-you-are-responsible-for-the-care-of-the-child.'}\n",
      "initial triple: {'subject': 'No,-I', 'predicate': 'do-not-think', 'object': 'so.-I-think-it-has-to-do-with-the-fact-that-you-are-responsible-for-the-care-of-the-child.'}\n",
      "initial triple: {'subject': 'No,-I', 'predicate': 'do-not-think', 'object': 'so.-I-think-it-has-to-do-with-the-fact-that-you-are-responsible-for-the-care-of-the-child.'}\n",
      "initial triple: {'subject': 'No,-I', 'predicate': 'do-not-think', 'object': 'so.-I-think-it-has-to-do-with-the-fact-that-you-are-responsible-for-the-care-of-the-child.'}\n",
      "initial triple: {'subject': 'No,-I', 'predicate': 'do-not-think', 'object': 'so.-I-think-it-has-to-do-with-the-fact-that-you-are-responsible-for-the-care-of-the-child.'}\n",
      "initial triple: {'subject': 'No,-I', 'predicate': 'do-not-think', 'object': 'so.-I-think-it-has-to-do-with-the-fact-that-you-are-responsible-for-the-care-of-the-child.'}\n",
      "initial triple: {'subject': 'No,-I', 'predicate': 'do-not-think', 'object': 'so.-I-think-it-has-to-do-with-the-fact-that-you-are-responsible-for-the-care-of-the-child.'}\n",
      "initial triple: {'subject': 'No,-I', 'predicate': 'do-not-think', 'object': 'so.-I-think-it-has-to-do-with-the-fact-that-you-are-responsible-for-the-care-of-the-child.'}\n",
      "initial triple: {'subject': 'No,-I', 'predicate': 'do-not-think', 'object': 'so.-I-think-it-has-to-do-with-the-fact-that-you-are-responsible-for-the-care-of-the-child.'}\n",
      "initial triple: {'subject': 'No,-I', 'predicate': 'do-not-think', 'object': 'so.-I-think-it-has-to-do-with-the-fact-that-you-are-responsible-for-the-care-of-the-child.'}\n",
      "initial triple: {'subject': 'No,-I', 'predicate': 'do-not-think', 'object': 'so.-I-think-it-has-to-do-with-the-fact-that-you-are-responsible-for-the-care-of-the-child.'}\n",
      "initial triple: {'subject': 'No,-I', 'predicate': 'do-not-think', 'object': 'so.-I-think-it-has-to-do-with-the-fact-that-you-are-responsible-for-the-care-of-the-child.'}\n",
      "initial triple: {'subject': 'No,-I', 'predicate': 'do-not-think', 'object': 'so.-I-think-it-has-to-do-with-the-fact-that-you-are-responsible-for-the-care-of-the-child.'}\n",
      "initial triple: {'subject': 'No,-I', 'predicate': 'do-not-think', 'object': 'so.-I-think-it-has-to-do-with-the-fact-that-you-are-responsible-for-the-care-of-the-child.'}\n",
      "initial triple: {'subject': 'No,-I', 'predicate': 'do-not-think', 'object': 'so.-I-think-it-has-to-do-with-the-fact-that-you-are-responsible-for-the-care-of-the-child.'}\n",
      "initial triple: {'subject': 'No,-I', 'predicate': 'do-not-think', 'object': 'so.-I-think-it-has-to-do-with-the-fact-that-you-are-responsible-for-the-care-of-the-child.'}\n",
      "initial triple: {'subject': 'No,-I', 'predicate': 'do-not-think', 'object': 'so.-I-think-it-has-to-do-with-the-fact-that-you-are-responsible-for-the-care-of-the-child.'}\n",
      "initial triple: {'subject': 'No,-I', 'predicate': 'do-not-think', 'object': 'so.-I-think-it-has-to-do-with-the-fact-that-you-are-responsible-for-the-care-of-the-child.'}\n",
      "initial triple: {'subject': 'No,-I', 'predicate': 'do-not-think', 'object': 'so.-I-think-it-has-to-do-with-the-fact-that-you-are-responsible-for-the-care-of-the-child.'}\n",
      "initial triple: {'subject': 'No,-I', 'predicate': 'do-not-think', 'object': 'so.-I-think-it-has-to-do-with-the-fact-that-you-are-responsible-for-the-care-of-the-child.'}\n",
      "initial triple: {'subject': 'No,-I', 'predicate': 'do-not-think', 'object': 'so.-I-think-it-has-to-do-with-the-fact-that-you-are-responsible-for-the-care-of-the-child.'}\n",
      "initial triple: {'subject': 'No,-I', 'predicate': 'do-not-think', 'object': 'so.-I-think-it-has-to-do-with-the-fact-that-you-are-responsible-for-the-care-of-the-child.'}\n",
      "initial triple: {'subject': 'No,-I', 'predicate': 'do-not-think', 'object': 'so.-I-think-it-has-to-do-with-the-fact-that-you-are-responsible-for-the-care-of-the-child.'}\n",
      "initial triple: {'subject': 'No,-I', 'predicate': 'do-not-think', 'object': 'so.-I-think-it-has-to-do-with-the-fact-that-you-are-responsible-for-the-care-of-the-child.'}\n",
      "initial triple: {'subject': 'No,-I', 'predicate': 'do-not-think', 'object': 'so.-I-think-it-has-to-do-with-the-fact-that-you-are-responsible-for-the-care-of-the-child.'}\n",
      "initial triple: {'subject': 'No,-I', 'predicate': 'do-not-think', 'object': 'so.-I-think-it-has-to-do-with-the-fact-that-you-are-responsible-for-the-care-of-the-child.'}\n",
      "initial triple: {'subject': 'No,-I', 'predicate': 'do-not-think', 'object': 'so.-I-think-it-has-to-do-with-the-fact-that-you-are-responsible-for-the-care-of-the-child.'}\n",
      "initial triple: {'subject': 'No,-I', 'predicate': 'do-not-think', 'object': 'so.-I-think-it-has-to-do-with-the-fact-that-you-are-responsible-for-the-care-of-the-child.'}\n",
      "initial triple: {'subject': 'No,-I', 'predicate': 'do-not-think', 'object': 'so.-I-think-it-has-to-do-with-the-fact-that-you-are-responsible-for-the-care-of-the-child.'}\n",
      "initial triple: {'subject': 'No,-I', 'predicate': 'do-not-think', 'object': 'so.-I-think-it-has-to-do-with-the-fact-that-you-are-responsible-for-the-care-of-the-child.'}\n",
      "initial triple: {'subject': 'No,-I', 'predicate': 'do-not-think', 'object': 'so.-I-think-it-has-to-do-with-the-fact-that-you-are-responsible-for-the-care-of-the-child.'}\n",
      "initial triple: {'subject': 'No,-I', 'predicate': 'do-not-think', 'object': 'so.-I-think-it-has-to-do-with-the-fact-that-you-are-responsible-for-the-care-of-the-child.'}\n",
      "initial triple: {'subject': 'No,-I', 'predicate': 'do-not-think', 'object': 'so.-I-think-it-has-to-do-with-the-fact-that-you-are-responsible-for-the-care-of-the-child.'}\n",
      "initial triple: {'subject': 'No,-I', 'predicate': 'do-not-think', 'object': 'so.-I-think-it-has-to-do-with-the-fact-that-you-are-responsible-for-the-care-of-the-child.'}\n",
      "initial triple: {'subject': 'No,-I', 'predicate': 'do-not-think', 'object': 'so.-I-think-it-has-to-do-with-the-fact-that-you-are-responsible-for-the-care-of-the-child.'}\n",
      "initial triple: {'subject': 'No,-I', 'predicate': 'do-not-think', 'object': 'so.-I-think-it-has-to-do-with-the-fact-that-you-are-responsible-for-the-care-of-the-child.'}\n",
      "initial triple: {'subject': 'No,-I', 'predicate': 'do-not-think', 'object': 'so.-I-think-it-has-to-do-with-the-fact-that-you-are-responsible-for-the-care-of-the-child.'}\n",
      "initial triple: {'subject': 'No,-I', 'predicate': 'do-not-think', 'object': 'so.-I-think-it-has-to-do-with-the-fact-that-you-are-responsible-for-the-care-of-the-child.'}\n",
      "initial triple: {'subject': 'No,-I', 'predicate': 'do-not-think', 'object': 'so.-I-think-it-has-to-do-with-the-fact-that-you-are-responsible-for-the-care-of-the-child.'}\n",
      "initial triple: {'subject': 'No,-I', 'predicate': 'do-not-think', 'object': 'so.-I-think-it-has-to-do-with-the-fact-that-you-are-responsible-for-the-care-of-the-child.'}\n",
      "initial triple: {'subject': 'No,-I', 'predicate': 'do-not-think', 'object': 'so.-I-think-it-has-to-do-with-the-fact-that-you-are-responsible-for-the-care-of-the-child.'}\n",
      "initial triple: {'subject': 'No,-I', 'predicate': 'do-not-think', 'object': 'so.-I-think-it-has-to-do-with-the-fact-that-you-are-responsible-for-the-care-of-the-child.'}\n",
      "initial triple: {'subject': 'No,-I', 'predicate': 'do-not-think', 'object': 'so.-I-think-it-has-to-do-with-the-fact-that-you-are-responsible-for-the-care-of-the-child.'}\n",
      "initial triple: {'subject': 'No,-I', 'predicate': 'do-not-think', 'object': 'so.-I-think-it-has-to-do-with-the-fact-that-you-are-responsible-for-the-care-of-the-child.'}\n",
      "initial triple: {'subject': 'No,-I', 'predicate': 'do-not-think', 'object': 'so.-I-think-it-has-to-do-with-the-fact-that-you-are-responsible-for-the-care-of-the-child.'}\n",
      "initial triple: {'subject': 'No,-I', 'predicate': 'do-not-think', 'object': 'so.-I-think-it-has-to-do-with-the-fact-that-you-are-responsible-for-the-care-of-the-child.'}\n",
      "initial triple: {'subject': 'No,-I', 'predicate': 'do-not-think', 'object': 'so.-I-think-it-has-to-do-with-the-fact-that-you-are-responsible-for-the-care-of-the-child.'}\n",
      "initial triple: {'subject': 'No,-I', 'predicate': 'do-not-think', 'object': 'so.-I-think-it-has-to-do-with-the-fact-that-you-are-responsible-for-the-care-of-the-child.'}\n",
      "initial triple: {'subject': 'No,-I', 'predicate': 'do-not-think', 'object': 'so.-I-think-it-has-to-do-with-the-fact-that-you-are-responsible-for-the-care-of-the-child.'}\n",
      "initial triple: {'subject': 'No,-I', 'predicate': 'do-not-think', 'object': 'so.-I-think-it-has-to-do-with-the-fact-that-you-are-responsible-for-the-care-of-the-child.'}\n",
      "initial triple: {'subject': 'No,-I', 'predicate': 'do-not-think', 'object': 'so.-I-think-it-has-to-do-with-the-fact-that-you-are-responsible-for-the-care-of-the-child.'}\n",
      "initial triple: {'subject': 'No,-I', 'predicate': 'do-not-think', 'object': 'so.-I-think-it-has-to-do-with-the-fact-that-you-are-responsible-for-the-care-of-the-child.'}\n",
      "initial triple: {'subject': 'No,-I', 'predicate': 'do-not-think', 'object': 'so.-I-think-it-has-to-do-with-the-fact-that-you-are-responsible-for-the-care-of-the-child.'}\n",
      "initial triple: {'subject': 'No,-I', 'predicate': 'do-not-think', 'object': 'so.-I-think-it-has-to-do-with-the-fact-that-you-are-responsible-for-the-care-of-the-child.'}\n",
      "initial triple: {'subject': 'No,-I', 'predicate': 'do-not-think', 'object': 'so.-I-think-it-has-to-do-with-the-fact-that-you-are-responsible-for-the-care-of-the-child.'}\n",
      "initial triple: {'subject': 'No,-I', 'predicate': 'do-not-think', 'object': 'so.-I-think-it-has-to-do-with-the-fact-that-you-are-responsible-for-the-care-of-the-child.'}\n",
      "initial triple: {'subject': 'No,-I', 'predicate': 'do-not-think', 'object': 'so.-I-think-it-has-to-do-with-the-fact-that-you-are-responsible-for-the-care-of-the-child.'}\n",
      "initial triple: {'subject': 'No,-I', 'predicate': 'do-not-think', 'object': 'so.-I-think-it-has-to-do-with-the-fact-that-you-are-responsible-for-the-care-of-the-child.'}\n",
      "initial triple: {'subject': 'No,-I', 'predicate': 'do-not-think', 'object': 'so.-I-think-it-has-to-do-with-the-fact-that-you-are-responsible-for-the-care-of-the-child.'}\n",
      "initial triple: {'subject': 'No,-I', 'predicate': 'do-not-think', 'object': 'so.-I-think-it-has-to-do-with-the-fact-that-you-are-responsible-for-the-care-of-the-child.'}\n",
      "initial triple: {'subject': 'No,-I', 'predicate': 'do-not-think', 'object': 'so.-I-think-it-has-to-do-with-the-fact-that-you-are-responsible-for-the-care-of-the-child.'}\n",
      "initial triple: {'subject': 'No,-I', 'predicate': 'do-not-think', 'object': 'so.-I-think-it-has-to-do-with-the-fact-that-you-are-responsible-for-the-care-of-the-child.'}\n",
      "initial triple: {'subject': 'No,-I', 'predicate': 'do-not-think', 'object': 'so.-I-think-it-has-to-do-with-the-fact-that-you-are-responsible-for-the-care-of-the-child.'}\n",
      "initial triple: {'subject': 'No,-I', 'predicate': 'do-not-think', 'object': 'so.-I-think-it-has-to-do-with-the-fact-that-you-are-responsible-for-the-care-of-the-child.'}\n",
      "initial triple: {'subject': 'No,-I', 'predicate': 'do-not-think', 'object': 'so.-I-think-it-has-to-do-with-the-fact-that-you-are-responsible-for-the-care-of-the-child.'}\n",
      "initial triple: {'subject': 'No,-I', 'predicate': 'do-not-think', 'object': 'so.-I-think-it-has-to-do-with-the-fact-that-you-are-responsible-for-the-care-of-the-child.'}\n",
      "initial triple: {'subject': 'No,-I', 'predicate': 'do-not-think', 'object': 'so.-I-think-it-has-to-do-with-the-fact-that-you-are-responsible-for-the-care-of-the-child.'}\n",
      "initial triple: {'subject': 'No,-I', 'predicate': 'do-not-think', 'object': 'so.-I-think-it-has-to-do-with-the-fact-that-you-are-responsible-for-the-care-of-the-child.'}\n",
      "initial triple: {'subject': 'No,-I', 'predicate': 'do-not-think', 'object': 'so.-I-think-it-has-to-do-with-the-fact-that-you-are-responsible-for-the-care-of-the-child.'}\n",
      "initial triple: {'subject': 'No,-I', 'predicate': 'do-not-think', 'object': 'so.-I-think-it-has-to-do-with-the-fact-that-you-are-responsible-for-the-care-of-the-child.'}\n",
      "initial triple: {'subject': 'No,-I', 'predicate': 'do-not-think', 'object': 'so.-I-think-it-has-to-do-with-the-fact-that-you-are-responsible-for-the-care-of-the-child.'}\n",
      "initial triple: {'subject': 'No,-I', 'predicate': 'do-not-think', 'object': 'so.-I-think-it-has-to-do-with-the-fact-that-you-are-responsible-for-the-care-of-the-child.'}\n",
      "initial triple: {'subject': 'No,-I', 'predicate': 'do-not-think', 'object': 'so.-I-think-it-has-to-do-with-the-fact-that-you-are-responsible-for-the-care-of-the-child.'}\n",
      "initial triple: {'subject': 'No,-I', 'predicate': 'do-not-think', 'object': 'so.-I-think-it-has-to-do-with-the-fact-that-you-are-responsible-for-the-care-of-the-child.'}\n",
      "initial triple: {'subject': 'No,-I', 'predicate': 'do-not-think', 'object': 'so.-I-think-it-has-to-do-with-the-fact-that-you-are-responsible-for-the-care-of-the-child.'}\n",
      "initial triple: {'subject': 'No,-I', 'predicate': 'do-not-think', 'object': 'so.-I-think-it-has-to-do-with-the-fact-that-you-are-responsible-for-the-care-of-the-child.'}\n",
      "initial triple: {'subject': 'No,-I', 'predicate': 'do-not-think', 'object': 'so.-I-think-it-has-to-do-with-the-fact-that-you-are-responsible-for-the-care-of-the-child.'}\n",
      "initial triple: {'subject': 'No,-I', 'predicate': 'do-not-think', 'object': 'so.-I-think-it-has-to-do-with-the-fact-that-you-are-responsible-for-the-care-of-the-child.'}\n",
      "initial triple: {'subject': 'No,-I', 'predicate': 'do-not-think', 'object': 'so.-I-think-it-has-to-do-with-the-fact-that-you-are-responsible-for-the-care-of-the-child.'}\n",
      "initial triple: {'subject': 'No,-I', 'predicate': 'do-not-think', 'object': 'so.-I-think-it-has-to-do-with-the-fact-that-you-are-responsible-for-the-care-of-the-child.'}\n",
      "initial triple: {'subject': 'No,-I', 'predicate': 'do-not-think', 'object': 'so.-I-think-it-has-to-do-with-the-fact-that-you-are-responsible-for-the-care-of-the-child.'}\n",
      "initial triple: {'subject': 'No,-I', 'predicate': 'do-not-think', 'object': 'so.-I-think-it-has-to-do-with-the-fact-that-you-are-responsible-for-the-care-of-the-child.'}\n",
      "initial triple: {'subject': 'No,-I', 'predicate': 'do-not-think', 'object': 'so.-I-think-it-has-to-do-with-the-fact-that-you-are-responsible-for-the-care-of-the-child.'}\n",
      "initial triple: {'subject': 'No,-I', 'predicate': 'do-not-think', 'object': 'so.-I-think-it-has-to-do-with-the-fact-that-you-are-responsible-for-the-care-of-the-child.'}\n",
      "initial triple: {'subject': 'No,-I', 'predicate': 'do-not-think', 'object': 'so.-I-think-it-has-to-do-with-the-fact-that-you-are-responsible-for-the-care-of-the-child.'}\n",
      "initial triple: {'subject': 'No,-I', 'predicate': 'do-not-think', 'object': 'so.-I-think-it-has-to-do-with-the-fact-that-you-are-responsible-for-the-care-of-the-child.'}\n",
      "initial triple: {'subject': 'No,-I', 'predicate': 'do-not-think', 'object': 'so.-I-think-it-has-to-do-with-the-fact-that-you-are-responsible-for-the-care-of-the-child.'}\n",
      "initial triple: {'subject': 'No,-I', 'predicate': 'do-not-think', 'object': 'so.-I-think-it-has-to-do-with-the-fact-that-you-are-responsible-for-the-care-of-the-child.'}\n",
      "initial triple: {'subject': 'No,-I', 'predicate': 'do-not-think', 'object': 'so.-I-think-it-has-to-do-with-the-fact-that-you-are-responsible-for-the-care-of-the-child.'}\n",
      "initial triple: {'subject': 'No,-I', 'predicate': 'do-not-think', 'object': 'so.-I-think-it-has-to-do-with-the-fact-that-you-are-responsible-for-the-care-of-the-child.'}\n",
      "initial triple: {'subject': 'No,-I', 'predicate': 'do-not-think', 'object': 'so.-I-think-it-has-to-do-with-the-fact-that-you-are-responsible-for-the-care-of-the-child.'}\n",
      "initial triple: {'subject': 'No,-I', 'predicate': 'do-not-think', 'object': 'so.-I-think-it-has-to-do-with-the-fact-that-you-are-responsible-for-the-care-of-the-child.'}\n",
      "initial triple: {'subject': 'No,-I', 'predicate': 'do-not-think', 'object': 'so.-I-think-it-has-to-do-with-the-fact-that-you-are-responsible-for-the-care-of-the-child.'}\n",
      "initial triple: {'subject': 'No,-I', 'predicate': 'do-not-think', 'object': 'so.-I-think-it-has-to-do-with-the-fact-that-you-are-responsible-for-the-care-of-the-child.'}\n",
      "initial triple: {'subject': 'No,-I', 'predicate': 'do-not-think', 'object': 'so.-I-think-it-has-to-do-with-the-fact-that-you-are-responsible-for-the-care-of-the-child.'}\n"
     ]
    },
    {
     "name": "stderr",
     "output_type": "stream",
     "text": [
      "Couldn't parse input\n",
      "Couldn't parse input\n",
      "Couldn't parse input\n",
      "Couldn't parse input\n",
      "Couldn't parse input\n",
      "Couldn't parse input\n",
      "Couldn't parse input\n",
      "Couldn't parse input\n",
      "Couldn't parse input\n",
      "Couldn't parse input\n",
      "Couldn't parse input\n",
      "Couldn't parse input\n",
      "Couldn't parse input\n",
      "Couldn't parse input\n",
      "Couldn't parse input\n",
      "Couldn't parse input\n",
      "Couldn't parse input\n",
      "Couldn't parse input\n",
      "Couldn't parse input\n",
      "Couldn't parse input\n",
      "Couldn't parse input\n",
      "Couldn't parse input\n",
      "Couldn't parse input\n",
      "Couldn't parse input\n",
      "Couldn't parse input\n",
      "Couldn't parse input\n",
      "Couldn't parse input\n",
      "Couldn't parse input\n",
      "Couldn't parse input\n",
      "Couldn't parse input\n",
      "Couldn't parse input\n",
      "Couldn't parse input\n",
      "Couldn't parse input\n",
      "Couldn't parse input\n",
      "Couldn't parse input\n",
      "Couldn't parse input\n",
      "Couldn't parse input\n",
      "Couldn't parse input\n",
      "Couldn't parse input\n",
      "Couldn't parse input\n",
      "Couldn't parse input\n",
      "Couldn't parse input\n",
      "Couldn't parse input\n",
      "Couldn't parse input\n",
      "Couldn't parse input\n",
      "Couldn't parse input\n",
      "Couldn't parse input\n",
      "Couldn't parse input\n",
      "Couldn't parse input\n",
      "Couldn't parse input\n",
      "Couldn't parse input\n",
      "Couldn't parse input\n",
      "Couldn't parse input\n",
      "Couldn't parse input\n",
      "Couldn't parse input\n",
      "Couldn't parse input\n",
      "Couldn't parse input\n",
      "Couldn't parse input\n",
      "Couldn't parse input\n",
      "Couldn't parse input\n",
      "Couldn't parse input\n",
      "Couldn't parse input\n",
      "Couldn't parse input\n",
      "Couldn't parse input\n",
      "Couldn't parse input\n",
      "Couldn't parse input\n",
      "Couldn't parse input\n",
      "Couldn't parse input\n",
      "Couldn't parse input\n",
      "Couldn't parse input\n",
      "Couldn't parse input\n",
      "Couldn't parse input\n",
      "Couldn't parse input\n",
      "Couldn't parse input\n",
      "Couldn't parse input\n",
      "Couldn't parse input\n",
      "Couldn't parse input\n",
      "Couldn't parse input\n",
      "Couldn't parse input\n",
      "Couldn't parse input\n",
      "Couldn't parse input\n",
      "Couldn't parse input\n",
      "Couldn't parse input\n",
      "Couldn't parse input\n",
      "Couldn't parse input\n",
      "Couldn't parse input\n",
      "Couldn't parse input\n",
      "Couldn't parse input\n",
      "Couldn't parse input\n",
      "Couldn't parse input\n",
      "Couldn't parse input\n",
      "Couldn't parse input\n",
      "Couldn't parse input\n",
      "Couldn't parse input\n",
      "Couldn't parse input\n",
      "Couldn't parse input\n",
      "Couldn't parse input\n",
      "Couldn't parse input\n",
      "Couldn't parse input\n",
      "Couldn't parse input\n",
      "Couldn't parse input\n",
      "Couldn't parse input\n",
      "Couldn't parse input\n",
      "Couldn't parse input\n",
      "Couldn't parse input\n",
      "Couldn't parse input\n",
      "Couldn't parse input\n",
      "Couldn't parse input\n",
      "Couldn't parse input\n",
      "Couldn't parse input\n",
      "Couldn't parse input\n",
      "Couldn't parse input\n",
      "Couldn't parse input\n",
      "Couldn't parse input\n",
      "Couldn't parse input\n",
      "Couldn't parse input\n",
      "Couldn't parse input\n",
      "Couldn't parse input\n",
      "Couldn't parse input\n",
      "Couldn't parse input\n",
      "Couldn't parse input\n",
      "Couldn't parse input\n",
      "Couldn't parse input\n",
      "Couldn't parse input\n",
      "Couldn't parse input\n",
      "Couldn't parse input\n",
      "Couldn't parse input\n",
      "Couldn't parse input\n",
      "Couldn't parse input\n",
      "Couldn't parse input\n",
      "Couldn't parse input\n",
      "Couldn't parse input\n",
      "Couldn't parse input\n",
      "Couldn't parse input\n",
      "Couldn't parse input\n",
      "Couldn't parse input\n",
      "Couldn't parse input\n",
      "Couldn't parse input\n",
      "Couldn't parse input\n",
      "Couldn't parse input\n",
      "Couldn't parse input\n",
      "Couldn't parse input\n",
      "Couldn't parse input\n",
      "Couldn't parse input\n",
      "Couldn't parse input\n",
      "Couldn't parse input\n",
      "Couldn't parse input\n",
      "Couldn't parse input\n",
      "Couldn't parse input\n",
      "Couldn't parse input\n",
      "Couldn't parse input\n",
      "Couldn't parse input\n",
      "Couldn't parse input\n",
      "Couldn't parse input\n",
      "Couldn't parse input\n",
      "Couldn't parse input\n",
      "Couldn't parse input\n",
      "Couldn't parse input\n",
      "Couldn't parse input\n",
      "Couldn't parse input\n",
      "Couldn't parse input\n",
      "Couldn't parse input\n",
      "Couldn't parse input\n",
      "Couldn't parse input\n",
      "Couldn't parse input\n",
      "Couldn't parse input\n"
     ]
    },
    {
     "name": "stdout",
     "output_type": "stream",
     "text": [
      "initial triple: {'subject': 'No,-I', 'predicate': 'do-not-think', 'object': 'so.-I-think-it-has-to-do-with-the-fact-that-you-are-responsible-for-the-care-of-the-child.'}\n",
      "initial triple: {'subject': 'No,-I', 'predicate': 'do-not-think', 'object': 'so.-I-think-it-has-to-do-with-the-fact-that-you-are-responsible-for-the-care-of-the-child.'}\n",
      "initial triple: {'subject': 'No,-I', 'predicate': 'do-not-think', 'object': 'so.-I-think-it-has-to-do-with-the-fact-that-you-are-responsible-for-the-care-of-the-child.'}\n",
      "initial triple: {'subject': 'No,-I', 'predicate': 'do-not-think', 'object': 'so.-I-think-it-has-to-do-with-the-fact-that-you-are-responsible-for-the-care-of-the-child.'}\n",
      "initial triple: {'subject': 'No,-I', 'predicate': 'do-not-think', 'object': 'so.-I-think-it-has-to-do-with-the-fact-that-you-are-responsible-for-the-care-of-the-child.'}\n",
      "initial triple: {'subject': 'No,-I', 'predicate': 'do-not-think', 'object': 'so.-I-think-it-has-to-do-with-the-fact-that-you-are-responsible-for-the-care-of-the-child.'}\n",
      "initial triple: {'subject': 'No,-I', 'predicate': 'do-not-think', 'object': 'so.-I-think-it-has-to-do-with-the-fact-that-you-are-responsible-for-the-care-of-the-child.'}\n",
      "initial triple: {'subject': 'No,-I', 'predicate': 'do-not-think', 'object': 'so.-I-think-it-has-to-do-with-the-fact-that-you-are-responsible-for-the-care-of-the-child.'}\n",
      "initial triple: {'subject': 'No,-I', 'predicate': 'do-not-think', 'object': 'so.-I-think-it-has-to-do-with-the-fact-that-you-are-responsible-for-the-care-of-the-child.'}\n",
      "initial triple: {'subject': 'No,-I', 'predicate': 'do-not-think', 'object': 'so.-I-think-it-has-to-do-with-the-fact-that-you-are-responsible-for-the-care-of-the-child.'}\n",
      "initial triple: {'subject': 'No,-I', 'predicate': 'do-not-think', 'object': 'so.-I-think-it-has-to-do-with-the-fact-that-you-are-responsible-for-the-care-of-the-child.'}\n",
      "initial triple: {'subject': 'No,-I', 'predicate': 'do-not-think', 'object': 'so.-I-think-it-has-to-do-with-the-fact-that-you-are-responsible-for-the-care-of-the-child.'}\n",
      "initial triple: {'subject': 'No,-I', 'predicate': 'do-not-think', 'object': 'so.-I-think-it-has-to-do-with-the-fact-that-you-are-responsible-for-the-care-of-the-child.'}\n",
      "initial triple: {'subject': 'No,-I', 'predicate': 'do-not-think', 'object': 'so.-I-think-it-has-to-do-with-the-fact-that-you-are-responsible-for-the-care-of-the-child.'}\n",
      "initial triple: {'subject': 'No,-I', 'predicate': 'do-not-think', 'object': 'so.-I-think-it-has-to-do-with-the-fact-that-you-are-responsible-for-the-care-of-the-child.'}\n",
      "initial triple: {'subject': 'No,-I', 'predicate': 'do-not-think', 'object': 'so.-I-think-it-has-to-do-with-the-fact-that-you-are-responsible-for-the-care-of-the-child.'}\n",
      "initial triple: {'subject': 'No,-I', 'predicate': 'do-not-think', 'object': 'so.-I-think-it-has-to-do-with-the-fact-that-you-are-responsible-for-the-care-of-the-child.'}\n",
      "initial triple: {'subject': 'No,-I', 'predicate': 'do-not-think', 'object': 'so.-I-think-it-has-to-do-with-the-fact-that-you-are-responsible-for-the-care-of-the-child.'}\n",
      "initial triple: {'subject': 'No,-I', 'predicate': 'do-not-think', 'object': 'so.-I-think-it-has-to-do-with-the-fact-that-you-are-responsible-for-the-care-of-the-child.'}\n",
      "initial triple: {'subject': 'No,-I', 'predicate': 'do-not-think', 'object': 'so.-I-think-it-has-to-do-with-the-fact-that-you-are-responsible-for-the-care-of-the-child.'}\n",
      "initial triple: {'subject': 'No,-I', 'predicate': 'do-not-think', 'object': 'so.-I-think-it-has-to-do-with-the-fact-that-you-are-responsible-for-the-care-of-the-child.'}\n",
      "initial triple: {'subject': 'No,-I', 'predicate': 'do-not-think', 'object': 'so.-I-think-it-has-to-do-with-the-fact-that-you-are-responsible-for-the-care-of-the-child.'}\n",
      "initial triple: {'subject': 'No,-I', 'predicate': 'do-not-think', 'object': 'so.-I-think-it-has-to-do-with-the-fact-that-you-are-responsible-for-the-care-of-the-child.'}\n",
      "initial triple: {'subject': 'No,-I', 'predicate': 'do-not-think', 'object': 'so.-I-think-it-has-to-do-with-the-fact-that-you-are-responsible-for-the-care-of-the-child.'}\n",
      "initial triple: {'subject': 'No,-I', 'predicate': 'do-not-think', 'object': 'so.-I-think-it-has-to-do-with-the-fact-that-you-are-responsible-for-the-care-of-the-child.'}\n",
      "initial triple: {'subject': 'No,-I', 'predicate': 'do-not-think', 'object': 'so.-I-think-it-has-to-do-with-the-fact-that-you-are-responsible-for-the-care-of-the-child.'}\n",
      "initial triple: {'subject': 'No,-I', 'predicate': 'do-not-think', 'object': 'so.-I-think-it-has-to-do-with-the-fact-that-you-are-responsible-for-the-care-of-the-child.'}\n",
      "initial triple: {'subject': 'No,-I', 'predicate': 'do-not-think', 'object': 'so.-I-think-it-has-to-do-with-the-fact-that-you-are-responsible-for-the-care-of-the-child.'}\n",
      "initial triple: {'subject': 'No,-I', 'predicate': 'do-not-think', 'object': 'so.-I-think-it-has-to-do-with-the-fact-that-you-are-responsible-for-the-care-of-the-child.'}\n",
      "initial triple: {'subject': 'No,-I', 'predicate': 'do-not-think', 'object': 'so.-I-think-it-has-to-do-with-the-fact-that-you-are-responsible-for-the-care-of-the-child.'}\n",
      "initial triple: {'subject': 'No,-I', 'predicate': 'do-not-think', 'object': 'so.-I-think-it-has-to-do-with-the-fact-that-you-are-responsible-for-the-care-of-the-child.'}\n",
      "initial triple: {'subject': 'No,-I', 'predicate': 'do-not-think', 'object': 'so.-I-think-it-has-to-do-with-the-fact-that-you-are-responsible-for-the-care-of-the-child.'}\n",
      "initial triple: {'subject': 'No,-I', 'predicate': 'do-not-think', 'object': 'so.-I-think-it-has-to-do-with-the-fact-that-you-are-responsible-for-the-care-of-the-child.'}\n",
      "initial triple: {'subject': 'No,-I', 'predicate': 'do-not-think', 'object': 'so.-I-think-it-has-to-do-with-the-fact-that-you-are-responsible-for-the-care-of-the-child.'}\n",
      "initial triple: {'subject': 'No,-I', 'predicate': 'do-not-think', 'object': 'so.-I-think-it-has-to-do-with-the-fact-that-you-are-responsible-for-the-care-of-the-child.'}\n",
      "initial triple: {'subject': 'No,-I', 'predicate': 'do-not-think', 'object': 'so.-I-think-it-has-to-do-with-the-fact-that-you-are-responsible-for-the-care-of-the-child.'}\n",
      "initial triple: {'subject': 'No,-I', 'predicate': 'do-not-think', 'object': 'so.-I-think-it-has-to-do-with-the-fact-that-you-are-responsible-for-the-care-of-the-child.'}\n",
      "initial triple: {'subject': 'No,-I', 'predicate': 'do-not-think', 'object': 'so.-I-think-it-has-to-do-with-the-fact-that-you-are-responsible-for-the-care-of-the-child.'}\n",
      "initial triple: {'subject': 'No,-I', 'predicate': 'do-not-think', 'object': 'so.-I-think-it-has-to-do-with-the-fact-that-you-are-responsible-for-the-care-of-the-child.'}\n",
      "initial triple: {'subject': 'No,-I', 'predicate': 'do-not-think', 'object': 'so.-I-think-it-has-to-do-with-the-fact-that-you-are-responsible-for-the-care-of-the-child.'}\n",
      "initial triple: {'subject': 'No,-I', 'predicate': 'do-not-think', 'object': 'so.-I-think-it-has-to-do-with-the-fact-that-you-are-responsible-for-the-care-of-the-child.'}\n",
      "initial triple: {'subject': 'No,-I', 'predicate': 'do-not-think', 'object': 'so.-I-think-it-has-to-do-with-the-fact-that-you-are-responsible-for-the-care-of-the-child.'}\n",
      "initial triple: {'subject': 'No,-I', 'predicate': 'do-not-think', 'object': 'so.-I-think-it-has-to-do-with-the-fact-that-you-are-responsible-for-the-care-of-the-child.'}\n",
      "initial triple: {'subject': 'No,-I', 'predicate': 'do-not-think', 'object': 'so.-I-think-it-has-to-do-with-the-fact-that-you-are-responsible-for-the-care-of-the-child.'}\n",
      "initial triple: {'subject': 'No,-I', 'predicate': 'do-not-think', 'object': 'so.-I-think-it-has-to-do-with-the-fact-that-you-are-responsible-for-the-care-of-the-child.'}\n",
      "initial triple: {'subject': 'No,-I', 'predicate': 'do-not-think', 'object': 'so.-I-think-it-has-to-do-with-the-fact-that-you-are-responsible-for-the-care-of-the-child.'}\n",
      "initial triple: {'subject': 'No,-I', 'predicate': 'do-not-think', 'object': 'so.-I-think-it-has-to-do-with-the-fact-that-you-are-responsible-for-the-care-of-the-child.'}\n",
      "initial triple: {'subject': 'No,-I', 'predicate': 'do-not-think', 'object': 'so.-I-think-it-has-to-do-with-the-fact-that-you-are-responsible-for-the-care-of-the-child.'}\n",
      "initial triple: {'subject': 'No,-I', 'predicate': 'do-not-think', 'object': 'so.-I-think-it-has-to-do-with-the-fact-that-you-are-responsible-for-the-care-of-the-child.'}\n",
      "initial triple: {'subject': 'No,-I', 'predicate': 'do-not-think', 'object': 'so.-I-think-it-has-to-do-with-the-fact-that-you-are-responsible-for-the-care-of-the-child.'}\n",
      "initial triple: {'subject': 'No,-I', 'predicate': 'do-not-think', 'object': 'so.-I-think-it-has-to-do-with-the-fact-that-you-are-responsible-for-the-care-of-the-child.'}\n",
      "initial triple: {'subject': 'No,-I', 'predicate': 'do-not-think', 'object': 'so.-I-think-it-has-to-do-with-the-fact-that-you-are-responsible-for-the-care-of-the-child.'}\n",
      "initial triple: {'subject': 'No,-I', 'predicate': 'do-not-think', 'object': 'so.-I-think-it-has-to-do-with-the-fact-that-you-are-responsible-for-the-care-of-the-child.'}\n",
      "initial triple: {'subject': 'No,-I', 'predicate': 'do-not-think', 'object': 'so.-I-think-it-has-to-do-with-the-fact-that-you-are-responsible-for-the-care-of-the-child.'}\n",
      "initial triple: {'subject': 'No,-I', 'predicate': 'do-not-think', 'object': 'so.-I-think-it-has-to-do-with-the-fact-that-you-are-responsible-for-the-care-of-the-child.'}\n",
      "initial triple: {'subject': 'No,-I', 'predicate': 'do-not-think', 'object': 'so.-I-think-it-has-to-do-with-the-fact-that-you-are-responsible-for-the-care-of-the-child.'}\n",
      "initial triple: {'subject': 'No,-I', 'predicate': 'do-not-think', 'object': 'so.-I-think-it-has-to-do-with-the-fact-that-you-are-responsible-for-the-care-of-the-child.'}\n",
      "initial triple: {'subject': 'No,-I', 'predicate': 'do-not-think', 'object': 'so.-I-think-it-has-to-do-with-the-fact-that-you-are-responsible-for-the-care-of-the-child.'}\n",
      "initial triple: {'subject': 'No,-I', 'predicate': 'do-not-think', 'object': 'so.-I-think-it-has-to-do-with-the-fact-that-you-are-responsible-for-the-care-of-the-child.'}\n",
      "initial triple: {'subject': 'No,-I', 'predicate': 'do-not-think', 'object': 'so.-I-think-it-has-to-do-with-the-fact-that-you-are-responsible-for-the-care-of-the-child.'}\n",
      "initial triple: {'subject': 'No,-I', 'predicate': 'do-not-think', 'object': 'so.-I-think-it-has-to-do-with-the-fact-that-you-are-responsible-for-the-care-of-the-child.'}\n",
      "initial triple: {'subject': 'No,-I', 'predicate': 'do-not-think', 'object': 'so.-I-think-it-has-to-do-with-the-fact-that-you-are-responsible-for-the-care-of-the-child.'}\n",
      "initial triple: {'subject': 'No,-I', 'predicate': 'do-not-think', 'object': 'so.-I-think-it-has-to-do-with-the-fact-that-you-are-responsible-for-the-care-of-the-child.'}\n",
      "initial triple: {'subject': 'No,-I', 'predicate': 'do-not-think', 'object': 'so.-I-think-it-has-to-do-with-the-fact-that-you-are-responsible-for-the-care-of-the-child.'}\n",
      "initial triple: {'subject': 'No,-I', 'predicate': 'do-not-think', 'object': 'so.-I-think-it-has-to-do-with-the-fact-that-you-are-responsible-for-the-care-of-the-child.'}\n",
      "initial triple: {'subject': 'No,-I', 'predicate': 'do-not-think', 'object': 'so.-I-think-it-has-to-do-with-the-fact-that-you-are-responsible-for-the-care-of-the-child.'}\n",
      "initial triple: {'subject': 'No,-I', 'predicate': 'do-not-think', 'object': 'so.-I-think-it-has-to-do-with-the-fact-that-you-are-responsible-for-the-care-of-the-child.'}\n",
      "initial triple: {'subject': 'No,-I', 'predicate': 'do-not-think', 'object': 'so.-I-think-it-has-to-do-with-the-fact-that-you-are-responsible-for-the-care-of-the-child.'}\n",
      "initial triple: {'subject': 'No,-I', 'predicate': 'do-not-think', 'object': 'so.-I-think-it-has-to-do-with-the-fact-that-you-are-responsible-for-the-care-of-the-child.'}\n",
      "initial triple: {'subject': 'No,-I', 'predicate': 'do-not-think', 'object': 'so.-I-think-it-has-to-do-with-the-fact-that-you-are-responsible-for-the-care-of-the-child.'}\n",
      "initial triple: {'subject': 'No,-I', 'predicate': 'do-not-think', 'object': 'so.-I-think-it-has-to-do-with-the-fact-that-you-are-responsible-for-the-care-of-the-child.'}\n",
      "initial triple: {'subject': 'No,-I', 'predicate': 'do-not-think', 'object': 'so.-I-think-it-has-to-do-with-the-fact-that-you-are-responsible-for-the-care-of-the-child.'}\n",
      "initial triple: {'subject': 'No,-I', 'predicate': 'do-not-think', 'object': 'so.-I-think-it-has-to-do-with-the-fact-that-you-are-responsible-for-the-care-of-the-child.'}\n",
      "initial triple: {'subject': 'No,-I', 'predicate': 'do-not-think', 'object': 'so.-I-think-it-has-to-do-with-the-fact-that-you-are-responsible-for-the-care-of-the-child.'}\n",
      "initial triple: {'subject': 'No,-I', 'predicate': 'do-not-think', 'object': 'so.-I-think-it-has-to-do-with-the-fact-that-you-are-responsible-for-the-care-of-the-child.'}\n",
      "initial triple: {'subject': 'No,-I', 'predicate': 'do-not-think', 'object': 'so.-I-think-it-has-to-do-with-the-fact-that-you-are-responsible-for-the-care-of-the-child.'}\n",
      "initial triple: {'subject': 'No,-I', 'predicate': 'do-not-think', 'object': 'so.-I-think-it-has-to-do-with-the-fact-that-you-are-responsible-for-the-care-of-the-child.'}\n",
      "initial triple: {'subject': 'No,-I', 'predicate': 'do-not-think', 'object': 'so.-I-think-it-has-to-do-with-the-fact-that-you-are-responsible-for-the-care-of-the-child.'}\n",
      "initial triple: {'subject': 'No,-I', 'predicate': 'do-not-think', 'object': 'so.-I-think-it-has-to-do-with-the-fact-that-you-are-responsible-for-the-care-of-the-child.'}\n",
      "initial triple: {'subject': 'No,-I', 'predicate': 'do-not-think', 'object': 'so.-I-think-it-has-to-do-with-the-fact-that-you-are-responsible-for-the-care-of-the-child.'}\n",
      "initial triple: {'subject': 'No,-I', 'predicate': 'do-not-think', 'object': 'so.-I-think-it-has-to-do-with-the-fact-that-you-are-responsible-for-the-care-of-the-child.'}\n",
      "initial triple: {'subject': 'No,-I', 'predicate': 'do-not-think', 'object': 'so.-I-think-it-has-to-do-with-the-fact-that-you-are-responsible-for-the-care-of-the-child.'}\n",
      "initial triple: {'subject': 'No,-I', 'predicate': 'do-not-think', 'object': 'so.-I-think-it-has-to-do-with-the-fact-that-you-are-responsible-for-the-care-of-the-child.'}\n",
      "initial triple: {'subject': 'No,-I', 'predicate': 'do-not-think', 'object': 'so.-I-think-it-has-to-do-with-the-fact-that-you-are-responsible-for-the-care-of-the-child.'}\n",
      "initial triple: {'subject': 'No,-I', 'predicate': 'do-not-think', 'object': 'so.-I-think-it-has-to-do-with-the-fact-that-you-are-responsible-for-the-care-of-the-child.'}\n",
      "initial triple: {'subject': 'No,-I', 'predicate': 'do-not-think', 'object': 'so.-I-think-it-has-to-do-with-the-fact-that-you-are-responsible-for-the-care-of-the-child.'}\n",
      "initial triple: {'subject': 'No,-I', 'predicate': 'do-not-think', 'object': 'so.-I-think-it-has-to-do-with-the-fact-that-you-are-responsible-for-the-care-of-the-child.'}\n",
      "initial triple: {'subject': 'No,-I', 'predicate': 'do-not-think', 'object': 'so.-I-think-it-has-to-do-with-the-fact-that-you-are-responsible-for-the-care-of-the-child.'}\n",
      "initial triple: {'subject': 'No,-I', 'predicate': 'do-not-think', 'object': 'so.-I-think-it-has-to-do-with-the-fact-that-you-are-responsible-for-the-care-of-the-child.'}\n",
      "initial triple: {'subject': 'No,-I', 'predicate': 'do-not-think', 'object': 'so.-I-think-it-has-to-do-with-the-fact-that-you-are-responsible-for-the-care-of-the-child.'}\n",
      "initial triple: {'subject': 'No,-I', 'predicate': 'do-not-think', 'object': 'so.-I-think-it-has-to-do-with-the-fact-that-you-are-responsible-for-the-care-of-the-child.'}\n",
      "initial triple: {'subject': 'No,-I', 'predicate': 'do-not-think', 'object': 'so.-I-think-it-has-to-do-with-the-fact-that-you-are-responsible-for-the-care-of-the-child.'}\n",
      "initial triple: {'subject': 'No,-I', 'predicate': 'do-not-think', 'object': 'so.-I-think-it-has-to-do-with-the-fact-that-you-are-responsible-for-the-care-of-the-child.'}\n",
      "initial triple: {'subject': 'No,-I', 'predicate': 'do-not-think', 'object': 'so.-I-think-it-has-to-do-with-the-fact-that-you-are-responsible-for-the-care-of-the-child.'}\n",
      "initial triple: {'subject': 'No,-I', 'predicate': 'do-not-think', 'object': 'so.-I-think-it-has-to-do-with-the-fact-that-you-are-responsible-for-the-care-of-the-child.'}\n",
      "initial triple: {'subject': 'No,-I', 'predicate': 'do-not-think', 'object': 'so.-I-think-it-has-to-do-with-the-fact-that-you-are-responsible-for-the-care-of-the-child.'}\n",
      "initial triple: {'subject': 'No,-I', 'predicate': 'do-not-think', 'object': 'so.-I-think-it-has-to-do-with-the-fact-that-you-are-responsible-for-the-care-of-the-child.'}\n",
      "initial triple: {'subject': 'No,-I', 'predicate': 'do-not-think', 'object': 'so.-I-think-it-has-to-do-with-the-fact-that-you-are-responsible-for-the-care-of-the-child.'}\n",
      "initial triple: {'subject': 'No,-I', 'predicate': 'do-not-think', 'object': 'so.-I-think-it-has-to-do-with-the-fact-that-you-are-responsible-for-the-care-of-the-child.'}\n",
      "initial triple: {'subject': 'No,-I', 'predicate': 'do-not-think', 'object': 'so.-I-think-it-has-to-do-with-the-fact-that-you-are-responsible-for-the-care-of-the-child.'}\n",
      "initial triple: {'subject': 'No,-I', 'predicate': 'do-not-think', 'object': 'so.-I-think-it-has-to-do-with-the-fact-that-you-are-responsible-for-the-care-of-the-child.'}\n",
      "initial triple: {'subject': 'No,-I', 'predicate': 'do-not-think', 'object': 'so.-I-think-it-has-to-do-with-the-fact-that-you-are-responsible-for-the-care-of-the-child.'}\n",
      "initial triple: {'subject': 'No,-I', 'predicate': 'do-not-think', 'object': 'so.-I-think-it-has-to-do-with-the-fact-that-you-are-responsible-for-the-care-of-the-child.'}\n",
      "initial triple: {'subject': 'No,-I', 'predicate': 'do-not-think', 'object': 'so.-I-think-it-has-to-do-with-the-fact-that-you-are-responsible-for-the-care-of-the-child.'}\n",
      "initial triple: {'subject': 'No,-I', 'predicate': 'do-not-think', 'object': 'so.-I-think-it-has-to-do-with-the-fact-that-you-are-responsible-for-the-care-of-the-child.'}\n",
      "initial triple: {'subject': 'No,-I', 'predicate': 'do-not-think', 'object': 'so.-I-think-it-has-to-do-with-the-fact-that-you-are-responsible-for-the-care-of-the-child.'}\n",
      "initial triple: {'subject': 'No,-I', 'predicate': 'do-not-think', 'object': 'so.-I-think-it-has-to-do-with-the-fact-that-you-are-responsible-for-the-care-of-the-child.'}\n",
      "initial triple: {'subject': 'No,-I', 'predicate': 'do-not-think', 'object': 'so.-I-think-it-has-to-do-with-the-fact-that-you-are-responsible-for-the-care-of-the-child.'}\n",
      "initial triple: {'subject': 'No,-I', 'predicate': 'do-not-think', 'object': 'so.-I-think-it-has-to-do-with-the-fact-that-you-are-responsible-for-the-care-of-the-child.'}\n",
      "initial triple: {'subject': 'No,-I', 'predicate': 'do-not-think', 'object': 'so.-I-think-it-has-to-do-with-the-fact-that-you-are-responsible-for-the-care-of-the-child.'}\n",
      "initial triple: {'subject': 'No,-I', 'predicate': 'do-not-think', 'object': 'so.-I-think-it-has-to-do-with-the-fact-that-you-are-responsible-for-the-care-of-the-child.'}\n",
      "initial triple: {'subject': 'No,-I', 'predicate': 'do-not-think', 'object': 'so.-I-think-it-has-to-do-with-the-fact-that-you-are-responsible-for-the-care-of-the-child.'}\n",
      "initial triple: {'subject': 'No,-I', 'predicate': 'do-not-think', 'object': 'so.-I-think-it-has-to-do-with-the-fact-that-you-are-responsible-for-the-care-of-the-child.'}\n",
      "initial triple: {'subject': 'No,-I', 'predicate': 'do-not-think', 'object': 'so.-I-think-it-has-to-do-with-the-fact-that-you-are-responsible-for-the-care-of-the-child.'}\n",
      "initial triple: {'subject': 'No,-I', 'predicate': 'do-not-think', 'object': 'so.-I-think-it-has-to-do-with-the-fact-that-you-are-responsible-for-the-care-of-the-child.'}\n",
      "initial triple: {'subject': 'No,-I', 'predicate': 'do-not-think', 'object': 'so.-I-think-it-has-to-do-with-the-fact-that-you-are-responsible-for-the-care-of-the-child.'}\n",
      "initial triple: {'subject': 'No,-I', 'predicate': 'do-not-think', 'object': 'so.-I-think-it-has-to-do-with-the-fact-that-you-are-responsible-for-the-care-of-the-child.'}\n",
      "initial triple: {'subject': 'No,-I', 'predicate': 'do-not-think', 'object': 'so.-I-think-it-has-to-do-with-the-fact-that-you-are-responsible-for-the-care-of-the-child.'}\n",
      "initial triple: {'subject': 'No,-I', 'predicate': 'do-not-think', 'object': 'so.-I-think-it-has-to-do-with-the-fact-that-you-are-responsible-for-the-care-of-the-child.'}\n",
      "initial triple: {'subject': 'No,-I', 'predicate': 'do-not-think', 'object': 'so.-I-think-it-has-to-do-with-the-fact-that-you-are-responsible-for-the-care-of-the-child.'}\n",
      "initial triple: {'subject': 'No,-I', 'predicate': 'do-not-think', 'object': 'so.-I-think-it-has-to-do-with-the-fact-that-you-are-responsible-for-the-care-of-the-child.'}\n",
      "initial triple: {'subject': 'No,-I', 'predicate': 'do-not-think', 'object': 'so.-I-think-it-has-to-do-with-the-fact-that-you-are-responsible-for-the-care-of-the-child.'}\n",
      "initial triple: {'subject': 'No,-I', 'predicate': 'do-not-think', 'object': 'so.-I-think-it-has-to-do-with-the-fact-that-you-are-responsible-for-the-care-of-the-child.'}\n",
      "initial triple: {'subject': 'No,-I', 'predicate': 'do-not-think', 'object': 'so.-I-think-it-has-to-do-with-the-fact-that-you-are-responsible-for-the-care-of-the-child.'}\n",
      "initial triple: {'subject': 'No,-I', 'predicate': 'do-not-think', 'object': 'so.-I-think-it-has-to-do-with-the-fact-that-you-are-responsible-for-the-care-of-the-child.'}\n",
      "initial triple: {'subject': 'No,-I', 'predicate': 'do-not-think', 'object': 'so.-I-think-it-has-to-do-with-the-fact-that-you-are-responsible-for-the-care-of-the-child.'}\n",
      "initial triple: {'subject': 'No,-I', 'predicate': 'do-not-think', 'object': 'so.-I-think-it-has-to-do-with-the-fact-that-you-are-responsible-for-the-care-of-the-child.'}\n",
      "initial triple: {'subject': 'No,-I', 'predicate': 'do-not-think', 'object': 'so.-I-think-it-has-to-do-with-the-fact-that-you-are-responsible-for-the-care-of-the-child.'}\n",
      "initial triple: {'subject': 'No,-I', 'predicate': 'do-not-think', 'object': 'so.-I-think-it-has-to-do-with-the-fact-that-you-are-responsible-for-the-care-of-the-child.'}\n",
      "initial triple: {'subject': 'No,-I', 'predicate': 'do-not-think', 'object': 'so.-I-think-it-has-to-do-with-the-fact-that-you-are-responsible-for-the-care-of-the-child.'}\n",
      "initial triple: {'subject': 'No,-I', 'predicate': 'do-not-think', 'object': 'so.-I-think-it-has-to-do-with-the-fact-that-you-are-responsible-for-the-care-of-the-child.'}\n",
      "initial triple: {'subject': 'No,-I', 'predicate': 'do-not-think', 'object': 'so.-I-think-it-has-to-do-with-the-fact-that-you-are-responsible-for-the-care-of-the-child.'}\n",
      "initial triple: {'subject': 'No,-I', 'predicate': 'do-not-think', 'object': 'so.-I-think-it-has-to-do-with-the-fact-that-you-are-responsible-for-the-care-of-the-child.'}\n",
      "initial triple: {'subject': 'No,-I', 'predicate': 'do-not-think', 'object': 'so.-I-think-it-has-to-do-with-the-fact-that-you-are-responsible-for-the-care-of-the-child.'}\n",
      "initial triple: {'subject': 'No,-I', 'predicate': 'do-not-think', 'object': 'so.-I-think-it-has-to-do-with-the-fact-that-you-are-responsible-for-the-care-of-the-child.'}\n",
      "initial triple: {'subject': 'No,-I', 'predicate': 'do-not-think', 'object': 'so.-I-think-it-has-to-do-with-the-fact-that-you-are-responsible-for-the-care-of-the-child.'}\n",
      "initial triple: {'subject': 'No,-I', 'predicate': 'do-not-think', 'object': 'so.-I-think-it-has-to-do-with-the-fact-that-you-are-responsible-for-the-care-of-the-child.'}\n",
      "initial triple: {'subject': 'No,-I', 'predicate': 'do-not-think', 'object': 'so.-I-think-it-has-to-do-with-the-fact-that-you-are-responsible-for-the-care-of-the-child.'}\n",
      "initial triple: {'subject': 'No,-I', 'predicate': 'do-not-think', 'object': 'so.-I-think-it-has-to-do-with-the-fact-that-you-are-responsible-for-the-care-of-the-child.'}\n",
      "initial triple: {'subject': 'No,-I', 'predicate': 'do-not-think', 'object': 'so.-I-think-it-has-to-do-with-the-fact-that-you-are-responsible-for-the-care-of-the-child.'}\n",
      "initial triple: {'subject': 'No,-I', 'predicate': 'do-not-think', 'object': 'so.-I-think-it-has-to-do-with-the-fact-that-you-are-responsible-for-the-care-of-the-child.'}\n",
      "initial triple: {'subject': 'No,-I', 'predicate': 'do-not-think', 'object': 'so.-I-think-it-has-to-do-with-the-fact-that-you-are-responsible-for-the-care-of-the-child.'}\n",
      "initial triple: {'subject': 'No,-I', 'predicate': 'do-not-think', 'object': 'so.-I-think-it-has-to-do-with-the-fact-that-you-are-responsible-for-the-care-of-the-child.'}\n",
      "initial triple: {'subject': 'No,-I', 'predicate': 'do-not-think', 'object': 'so.-I-think-it-has-to-do-with-the-fact-that-you-are-responsible-for-the-care-of-the-child.'}\n",
      "initial triple: {'subject': 'No,-I', 'predicate': 'do-not-think', 'object': 'so.-I-think-it-has-to-do-with-the-fact-that-you-are-responsible-for-the-care-of-the-child.'}\n",
      "initial triple: {'subject': 'No,-I', 'predicate': 'do-not-think', 'object': 'so.-I-think-it-has-to-do-with-the-fact-that-you-are-responsible-for-the-care-of-the-child.'}\n",
      "initial triple: {'subject': 'No,-I', 'predicate': 'do-not-think', 'object': 'so.-I-think-it-has-to-do-with-the-fact-that-you-are-responsible-for-the-care-of-the-child.'}\n",
      "initial triple: {'subject': 'No,-I', 'predicate': 'do-not-think', 'object': 'so.-I-think-it-has-to-do-with-the-fact-that-you-are-responsible-for-the-care-of-the-child.'}\n",
      "initial triple: {'subject': 'No,-I', 'predicate': 'do-not-think', 'object': 'so.-I-think-it-has-to-do-with-the-fact-that-you-are-responsible-for-the-care-of-the-child.'}\n",
      "initial triple: {'subject': 'No,-I', 'predicate': 'do-not-think', 'object': 'so.-I-think-it-has-to-do-with-the-fact-that-you-are-responsible-for-the-care-of-the-child.'}\n",
      "initial triple: {'subject': 'No,-I', 'predicate': 'do-not-think', 'object': 'so.-I-think-it-has-to-do-with-the-fact-that-you-are-responsible-for-the-care-of-the-child.'}\n",
      "initial triple: {'subject': 'No,-I', 'predicate': 'do-not-think', 'object': 'so.-I-think-it-has-to-do-with-the-fact-that-you-are-responsible-for-the-care-of-the-child.'}\n",
      "initial triple: {'subject': 'No,-I', 'predicate': 'do-not-think', 'object': 'so.-I-think-it-has-to-do-with-the-fact-that-you-are-responsible-for-the-care-of-the-child.'}\n",
      "initial triple: {'subject': 'No,-I', 'predicate': 'do-not-think', 'object': 'so.-I-think-it-has-to-do-with-the-fact-that-you-are-responsible-for-the-care-of-the-child.'}\n",
      "initial triple: {'subject': 'No,-I', 'predicate': 'do-not-think', 'object': 'so.-I-think-it-has-to-do-with-the-fact-that-you-are-responsible-for-the-care-of-the-child.'}\n",
      "initial triple: {'subject': 'No,-I', 'predicate': 'do-not-think', 'object': 'so.-I-think-it-has-to-do-with-the-fact-that-you-are-responsible-for-the-care-of-the-child.'}\n",
      "initial triple: {'subject': 'No,-I', 'predicate': 'do-not-think', 'object': 'so.-I-think-it-has-to-do-with-the-fact-that-you-are-responsible-for-the-care-of-the-child.'}\n",
      "initial triple: {'subject': 'No,-I', 'predicate': 'do-not-think', 'object': 'so.-I-think-it-has-to-do-with-the-fact-that-you-are-responsible-for-the-care-of-the-child.'}\n",
      "initial triple: {'subject': 'No,-I', 'predicate': 'do-not-think', 'object': 'so.-I-think-it-has-to-do-with-the-fact-that-you-are-responsible-for-the-care-of-the-child.'}\n",
      "initial triple: {'subject': 'No,-I', 'predicate': 'do-not-think', 'object': 'so.-I-think-it-has-to-do-with-the-fact-that-you-are-responsible-for-the-care-of-the-child.'}\n",
      "initial triple: {'subject': 'No,-I', 'predicate': 'do-not-think', 'object': 'so.-I-think-it-has-to-do-with-the-fact-that-you-are-responsible-for-the-care-of-the-child.'}\n",
      "initial triple: {'subject': 'No,-I', 'predicate': 'do-not-think', 'object': 'so.-I-think-it-has-to-do-with-the-fact-that-you-are-responsible-for-the-care-of-the-child.'}\n",
      "initial triple: {'subject': 'No,-I', 'predicate': 'do-not-think', 'object': 'so.-I-think-it-has-to-do-with-the-fact-that-you-are-responsible-for-the-care-of-the-child.'}\n",
      "initial triple: {'subject': 'No,-I', 'predicate': 'do-not-think', 'object': 'so.-I-think-it-has-to-do-with-the-fact-that-you-are-responsible-for-the-care-of-the-child.'}\n",
      "initial triple: {'subject': 'No,-I', 'predicate': 'do-not-think', 'object': 'so.-I-think-it-has-to-do-with-the-fact-that-you-are-responsible-for-the-care-of-the-child.'}\n",
      "initial triple: {'subject': 'No,-I', 'predicate': 'do-not-think', 'object': 'so.-I-think-it-has-to-do-with-the-fact-that-you-are-responsible-for-the-care-of-the-child.'}\n"
     ]
    },
    {
     "name": "stderr",
     "output_type": "stream",
     "text": [
      "Couldn't parse input\n",
      "Couldn't parse input\n",
      "Couldn't parse input\n",
      "Couldn't parse input\n",
      "Couldn't parse input\n",
      "Couldn't parse input\n",
      "Couldn't parse input\n",
      "Couldn't parse input\n",
      "Couldn't parse input\n",
      "Couldn't parse input\n",
      "Couldn't parse input\n",
      "Couldn't parse input\n",
      "Couldn't parse input\n",
      "Couldn't parse input\n",
      "Couldn't parse input\n",
      "Couldn't parse input\n",
      "Couldn't parse input\n",
      "Couldn't parse input\n",
      "Couldn't parse input\n",
      "Couldn't parse input\n",
      "Couldn't parse input\n",
      "Couldn't parse input\n",
      "Couldn't parse input\n",
      "Couldn't parse input\n",
      "Couldn't parse input\n",
      "Couldn't parse input\n",
      "Couldn't parse input\n",
      "Couldn't parse input\n",
      "Couldn't parse input\n",
      "Couldn't parse input\n",
      "Couldn't parse input\n",
      "Couldn't parse input\n",
      "Couldn't parse input\n",
      "Couldn't parse input\n",
      "Couldn't parse input\n",
      "Couldn't parse input\n",
      "Couldn't parse input\n",
      "Couldn't parse input\n",
      "Couldn't parse input\n",
      "Couldn't parse input\n",
      "Couldn't parse input\n",
      "Couldn't parse input\n",
      "Couldn't parse input\n",
      "Couldn't parse input\n",
      "Couldn't parse input\n",
      "Couldn't parse input\n",
      "Couldn't parse input\n",
      "Couldn't parse input\n",
      "Couldn't parse input\n",
      "Couldn't parse input\n",
      "Couldn't parse input\n",
      "Couldn't parse input\n",
      "Couldn't parse input\n",
      "Couldn't parse input\n",
      "Couldn't parse input\n",
      "Couldn't parse input\n",
      "Couldn't parse input\n",
      "Couldn't parse input\n",
      "Couldn't parse input\n",
      "Couldn't parse input\n",
      "Couldn't parse input\n",
      "Couldn't parse input\n",
      "Couldn't parse input\n",
      "Couldn't parse input\n",
      "Couldn't parse input\n",
      "Couldn't parse input\n",
      "Couldn't parse input\n",
      "Couldn't parse input\n",
      "Couldn't parse input\n",
      "Couldn't parse input\n",
      "Couldn't parse input\n",
      "Couldn't parse input\n",
      "Couldn't parse input\n",
      "Couldn't parse input\n",
      "Couldn't parse input\n",
      "Couldn't parse input\n",
      "Couldn't parse input\n",
      "Couldn't parse input\n",
      "Couldn't parse input\n",
      "Couldn't parse input\n",
      "Couldn't parse input\n",
      "Couldn't parse input\n",
      "Couldn't parse input\n",
      "Couldn't parse input\n",
      "Couldn't parse input\n",
      "Couldn't parse input\n",
      "Couldn't parse input\n",
      "Couldn't parse input\n",
      "Couldn't parse input\n",
      "Couldn't parse input\n",
      "Couldn't parse input\n",
      "Couldn't parse input\n",
      "Couldn't parse input\n",
      "Couldn't parse input\n",
      "Couldn't parse input\n",
      "Couldn't parse input\n",
      "Couldn't parse input\n",
      "Couldn't parse input\n",
      "Couldn't parse input\n",
      "Couldn't parse input\n",
      "Couldn't parse input\n",
      "Couldn't parse input\n",
      "Couldn't parse input\n",
      "Couldn't parse input\n",
      "Couldn't parse input\n",
      "Couldn't parse input\n",
      "Couldn't parse input\n",
      "Couldn't parse input\n",
      "Couldn't parse input\n",
      "Couldn't parse input\n",
      "Couldn't parse input\n",
      "Couldn't parse input\n",
      "Couldn't parse input\n",
      "Couldn't parse input\n",
      "Couldn't parse input\n",
      "Couldn't parse input\n",
      "Couldn't parse input\n",
      "Couldn't parse input\n",
      "Couldn't parse input\n",
      "Couldn't parse input\n",
      "Couldn't parse input\n",
      "Couldn't parse input\n",
      "Couldn't parse input\n",
      "Couldn't parse input\n",
      "Couldn't parse input\n",
      "Couldn't parse input\n",
      "Couldn't parse input\n",
      "Couldn't parse input\n",
      "Couldn't parse input\n",
      "Couldn't parse input\n",
      "Couldn't parse input\n",
      "Couldn't parse input\n",
      "Couldn't parse input\n",
      "Couldn't parse input\n",
      "Couldn't parse input\n",
      "Couldn't parse input\n",
      "Couldn't parse input\n",
      "Couldn't parse input\n",
      "Couldn't parse input\n",
      "Couldn't parse input\n",
      "Couldn't parse input\n",
      "Couldn't parse input\n",
      "Couldn't parse input\n",
      "Couldn't parse input\n",
      "Couldn't parse input\n",
      "Couldn't parse input\n",
      "Couldn't parse input\n",
      "Couldn't parse input\n",
      "Couldn't parse input\n",
      "Couldn't parse input\n",
      "Couldn't parse input\n",
      "Couldn't parse input\n",
      "Couldn't parse input\n",
      "Couldn't parse input\n",
      "Couldn't parse input\n",
      "Couldn't parse input\n",
      "Couldn't parse input\n",
      "Couldn't parse input\n",
      "Couldn't parse input\n",
      "Couldn't parse input\n",
      "Couldn't parse input\n",
      "Couldn't parse input\n",
      "Couldn't parse input\n",
      "Couldn't parse input\n",
      "Couldn't parse input\n",
      "Couldn't parse input\n",
      "Couldn't parse input\n",
      "Couldn't parse input\n",
      "Couldn't parse input\n",
      "Couldn't parse input\n",
      "Couldn't parse input\n",
      "Couldn't parse input\n",
      "Couldn't parse input\n",
      "Couldn't parse input\n",
      "Couldn't parse input\n",
      "Couldn't parse input\n",
      "Couldn't parse input\n",
      "Couldn't parse input\n",
      "Couldn't parse input\n",
      "Couldn't parse input\n",
      "Couldn't parse input\n",
      "Couldn't parse input\n",
      "Couldn't parse input\n",
      "Couldn't parse input\n",
      "Couldn't parse input\n",
      "Couldn't parse input\n",
      "Couldn't parse input\n",
      "Couldn't parse input\n",
      "Couldn't parse input\n",
      "Couldn't parse input\n",
      "Couldn't parse input\n",
      "Couldn't parse input\n",
      "Couldn't parse input\n",
      "Couldn't parse input\n",
      "Couldn't parse input\n",
      "Couldn't parse input\n",
      "Couldn't parse input\n",
      "Couldn't parse input\n",
      "Couldn't parse input\n",
      "Couldn't parse input\n",
      "Couldn't parse input\n",
      "Couldn't parse input\n",
      "Couldn't parse input\n",
      "Couldn't parse input\n",
      "Couldn't parse input\n",
      "Couldn't parse input\n",
      "Couldn't parse input\n",
      "Couldn't parse input\n",
      "Couldn't parse input\n",
      "Couldn't parse input\n",
      "Couldn't parse input\n",
      "Couldn't parse input\n",
      "Couldn't parse input\n",
      "Couldn't parse input\n",
      "Couldn't parse input\n",
      "Couldn't parse input\n",
      "Couldn't parse input\n",
      "Couldn't parse input\n",
      "Couldn't parse input\n",
      "Couldn't parse input\n",
      "Couldn't parse input\n",
      "Couldn't parse input\n",
      "Couldn't parse input\n",
      "Couldn't parse input\n",
      "Couldn't parse input\n",
      "Couldn't parse input\n",
      "Couldn't parse input\n",
      "Couldn't parse input\n",
      "Couldn't parse input\n",
      "Couldn't parse input\n",
      "Couldn't parse input\n",
      "Couldn't parse input\n",
      "Couldn't parse input\n",
      "Couldn't parse input\n",
      "Couldn't parse input\n",
      "Couldn't parse input\n",
      "Couldn't parse input\n",
      "Couldn't parse input\n",
      "Couldn't parse input\n",
      "Couldn't parse input\n",
      "Couldn't parse input\n",
      "Couldn't parse input\n",
      "Couldn't parse input\n",
      "Couldn't parse input\n",
      "Couldn't parse input\n",
      "Couldn't parse input\n",
      "Couldn't parse input\n",
      "Couldn't parse input\n",
      "Couldn't parse input\n",
      "Couldn't parse input\n",
      "Couldn't parse input\n",
      "Couldn't parse input\n",
      "Couldn't parse input\n",
      "Couldn't parse input\n",
      "Couldn't parse input\n",
      "Couldn't parse input\n",
      "Couldn't parse input\n",
      "Couldn't parse input\n",
      "Couldn't parse input\n",
      "Couldn't parse input\n",
      "Couldn't parse input\n",
      "Couldn't parse input\n",
      "Couldn't parse input\n",
      "Couldn't parse input\n",
      "Couldn't parse input\n",
      "Couldn't parse input\n",
      "Couldn't parse input\n",
      "Couldn't parse input\n",
      "Couldn't parse input\n",
      "Couldn't parse input\n",
      "Couldn't parse input\n",
      "Couldn't parse input\n",
      "Couldn't parse input\n",
      "Couldn't parse input\n",
      "Couldn't parse input\n",
      "Couldn't parse input\n",
      "Couldn't parse input\n",
      "Couldn't parse input\n",
      "Couldn't parse input\n",
      "Couldn't parse input\n",
      "Couldn't parse input\n",
      "Couldn't parse input\n",
      "Couldn't parse input\n",
      "Couldn't parse input\n",
      "Couldn't parse input\n",
      "Couldn't parse input\n",
      "Couldn't parse input\n",
      "Couldn't parse input\n"
     ]
    },
    {
     "name": "stdout",
     "output_type": "stream",
     "text": [
      "initial triple: {'subject': 'No,-I', 'predicate': 'do-not-think', 'object': 'so.-I-think-it-has-to-do-with-the-fact-that-you-are-responsible-for-the-care-of-the-child.'}\n",
      "initial triple: {'subject': 'No,-I', 'predicate': 'do-not-think', 'object': 'so.-I-think-it-has-to-do-with-the-fact-that-you-are-responsible-for-the-care-of-the-child.'}\n",
      "initial triple: {'subject': 'No,-I', 'predicate': 'do-not-think', 'object': 'so.-I-think-it-has-to-do-with-the-fact-that-you-are-responsible-for-the-care-of-the-child.'}\n",
      "initial triple: {'subject': 'No,-I', 'predicate': 'do-not-think', 'object': 'so.-I-think-it-has-to-do-with-the-fact-that-you-are-responsible-for-the-care-of-the-child.'}\n",
      "initial triple: {'subject': 'No,-I', 'predicate': 'do-not-think', 'object': 'so.-I-think-it-has-to-do-with-the-fact-that-you-are-responsible-for-the-care-of-the-child.'}\n",
      "initial triple: {'subject': 'No,-I', 'predicate': 'do-not-think', 'object': 'so.-I-think-it-has-to-do-with-the-fact-that-you-are-responsible-for-the-care-of-the-child.'}\n",
      "initial triple: {'subject': 'No,-I', 'predicate': 'do-not-think', 'object': 'so.-I-think-it-has-to-do-with-the-fact-that-you-are-responsible-for-the-care-of-the-child.'}\n",
      "initial triple: {'subject': 'No,-I', 'predicate': 'do-not-think', 'object': 'so.-I-think-it-has-to-do-with-the-fact-that-you-are-responsible-for-the-care-of-the-child.'}\n",
      "initial triple: {'subject': 'No,-I', 'predicate': 'do-not-think', 'object': 'so.-I-think-it-has-to-do-with-the-fact-that-you-are-responsible-for-the-care-of-the-child.'}\n",
      "initial triple: {'subject': 'No,-I', 'predicate': 'do-not-think', 'object': 'so.-I-think-it-has-to-do-with-the-fact-that-you-are-responsible-for-the-care-of-the-child.'}\n",
      "initial triple: {'subject': 'No,-I', 'predicate': 'do-not-think', 'object': 'so.-I-think-it-has-to-do-with-the-fact-that-you-are-responsible-for-the-care-of-the-child.'}\n",
      "initial triple: {'subject': 'No,-I', 'predicate': 'do-not-think', 'object': 'so.-I-think-it-has-to-do-with-the-fact-that-you-are-responsible-for-the-care-of-the-child.'}\n",
      "initial triple: {'subject': 'No,-I', 'predicate': 'do-not-think', 'object': 'so.-I-think-it-has-to-do-with-the-fact-that-you-are-responsible-for-the-care-of-the-child.'}\n",
      "initial triple: {'subject': 'No,-I', 'predicate': 'do-not-think', 'object': 'so.-I-think-it-has-to-do-with-the-fact-that-you-are-responsible-for-the-care-of-the-child.'}\n",
      "initial triple: {'subject': 'No,-I', 'predicate': 'do-not-think', 'object': 'so.-I-think-it-has-to-do-with-the-fact-that-you-are-responsible-for-the-care-of-the-child.'}\n",
      "initial triple: {'subject': 'No,-I', 'predicate': 'do-not-think', 'object': 'so.-I-think-it-has-to-do-with-the-fact-that-you-are-responsible-for-the-care-of-the-child.'}\n",
      "initial triple: {'subject': 'No,-I', 'predicate': 'do-not-think', 'object': 'so.-I-think-it-has-to-do-with-the-fact-that-you-are-responsible-for-the-care-of-the-child.'}\n",
      "initial triple: {'subject': 'No,-I', 'predicate': 'do-not-think', 'object': 'so.-I-think-it-has-to-do-with-the-fact-that-you-are-responsible-for-the-care-of-the-child.'}\n",
      "initial triple: {'subject': 'No,-I', 'predicate': 'do-not-think', 'object': 'so.-I-think-it-has-to-do-with-the-fact-that-you-are-responsible-for-the-care-of-the-child.'}\n",
      "initial triple: {'subject': 'No,-I', 'predicate': 'do-not-think', 'object': 'so.-I-think-it-has-to-do-with-the-fact-that-you-are-responsible-for-the-care-of-the-child.'}\n",
      "initial triple: {'subject': 'No,-I', 'predicate': 'do-not-think', 'object': 'so.-I-think-it-has-to-do-with-the-fact-that-you-are-responsible-for-the-care-of-the-child.'}\n",
      "initial triple: {'subject': 'No,-I', 'predicate': 'do-not-think', 'object': 'so.-I-think-it-has-to-do-with-the-fact-that-you-are-responsible-for-the-care-of-the-child.'}\n",
      "initial triple: {'subject': 'No,-I', 'predicate': 'do-not-think', 'object': 'so.-I-think-it-has-to-do-with-the-fact-that-you-are-responsible-for-the-care-of-the-child.'}\n",
      "initial triple: {'subject': 'No,-I', 'predicate': 'do-not-think', 'object': 'so.-I-think-it-has-to-do-with-the-fact-that-you-are-responsible-for-the-care-of-the-child.'}\n",
      "initial triple: {'subject': 'No,-I', 'predicate': 'do-not-think', 'object': 'so.-I-think-it-has-to-do-with-the-fact-that-you-are-responsible-for-the-care-of-the-child.'}\n",
      "initial triple: {'subject': 'No,-I', 'predicate': 'do-not-think', 'object': 'so.-I-think-it-has-to-do-with-the-fact-that-you-are-responsible-for-the-care-of-the-child.'}\n",
      "initial triple: {'subject': 'No,-I', 'predicate': 'do-not-think', 'object': 'so.-I-think-it-has-to-do-with-the-fact-that-you-are-responsible-for-the-care-of-the-child.'}\n",
      "initial triple: {'subject': 'No,-I', 'predicate': 'do-not-think', 'object': 'so.-I-think-it-has-to-do-with-the-fact-that-you-are-responsible-for-the-care-of-the-child.'}\n",
      "initial triple: {'subject': 'No,-I', 'predicate': 'do-not-think', 'object': 'so.-I-think-it-has-to-do-with-the-fact-that-you-are-responsible-for-the-care-of-the-child.'}\n",
      "initial triple: {'subject': 'No,-I', 'predicate': 'do-not-think', 'object': 'so.-I-think-it-has-to-do-with-the-fact-that-you-are-responsible-for-the-care-of-the-child.'}\n",
      "initial triple: {'subject': 'No,-I', 'predicate': 'do-not-think', 'object': 'so.-I-think-it-has-to-do-with-the-fact-that-you-are-responsible-for-the-care-of-the-child.'}\n",
      "initial triple: {'subject': 'No,-I', 'predicate': 'do-not-think', 'object': 'so.-I-think-it-has-to-do-with-the-fact-that-you-are-responsible-for-the-care-of-the-child.'}\n",
      "initial triple: {'subject': 'No,-I', 'predicate': 'do-not-think', 'object': 'so.-I-think-it-has-to-do-with-the-fact-that-you-are-responsible-for-the-care-of-the-child.'}\n",
      "initial triple: {'subject': 'No,-I', 'predicate': 'do-not-think', 'object': 'so.-I-think-it-has-to-do-with-the-fact-that-you-are-responsible-for-the-care-of-the-child.'}\n",
      "initial triple: {'subject': 'No,-I', 'predicate': 'do-not-think', 'object': 'so.-I-think-it-has-to-do-with-the-fact-that-you-are-responsible-for-the-care-of-the-child.'}\n",
      "initial triple: {'subject': 'No,-I', 'predicate': 'do-not-think', 'object': 'so.-I-think-it-has-to-do-with-the-fact-that-you-are-responsible-for-the-care-of-the-child.'}\n",
      "initial triple: {'subject': 'No,-I', 'predicate': 'do-not-think', 'object': 'so.-I-think-it-has-to-do-with-the-fact-that-you-are-responsible-for-the-care-of-the-child.'}\n",
      "initial triple: {'subject': 'No,-I', 'predicate': 'do-not-think', 'object': 'so.-I-think-it-has-to-do-with-the-fact-that-you-are-responsible-for-the-care-of-the-child.'}\n",
      "initial triple: {'subject': 'No,-I', 'predicate': 'do-not-think', 'object': 'so.-I-think-it-has-to-do-with-the-fact-that-you-are-responsible-for-the-care-of-the-child.'}\n",
      "initial triple: {'subject': 'No,-I', 'predicate': 'do-not-think', 'object': 'so.-I-think-it-has-to-do-with-the-fact-that-you-are-responsible-for-the-care-of-the-child.'}\n",
      "initial triple: {'subject': 'No,-I', 'predicate': 'do-not-think', 'object': 'so.-I-think-it-has-to-do-with-the-fact-that-you-are-responsible-for-the-care-of-the-child.'}\n",
      "initial triple: {'subject': 'No,-I', 'predicate': 'do-not-think', 'object': 'so.-I-think-it-has-to-do-with-the-fact-that-you-are-responsible-for-the-care-of-the-child.'}\n",
      "initial triple: {'subject': 'No,-I', 'predicate': 'do-not-think', 'object': 'so.-I-think-it-has-to-do-with-the-fact-that-you-are-responsible-for-the-care-of-the-child.'}\n",
      "initial triple: {'subject': 'No,-I', 'predicate': 'do-not-think', 'object': 'so.-I-think-it-has-to-do-with-the-fact-that-you-are-responsible-for-the-care-of-the-child.'}\n",
      "initial triple: {'subject': 'No,-I', 'predicate': 'do-not-think', 'object': 'so.-I-think-it-has-to-do-with-the-fact-that-you-are-responsible-for-the-care-of-the-child.'}\n",
      "initial triple: {'subject': 'No,-I', 'predicate': 'do-not-think', 'object': 'so.-I-think-it-has-to-do-with-the-fact-that-you-are-responsible-for-the-care-of-the-child.'}\n",
      "initial triple: {'subject': 'No,-I', 'predicate': 'do-not-think', 'object': 'so.-I-think-it-has-to-do-with-the-fact-that-you-are-responsible-for-the-care-of-the-child.'}\n",
      "initial triple: {'subject': 'No,-I', 'predicate': 'do-not-think', 'object': 'so.-I-think-it-has-to-do-with-the-fact-that-you-are-responsible-for-the-care-of-the-child.'}\n",
      "initial triple: {'subject': 'No,-I', 'predicate': 'do-not-think', 'object': 'so.-I-think-it-has-to-do-with-the-fact-that-you-are-responsible-for-the-care-of-the-child.'}\n",
      "initial triple: {'subject': 'No,-I', 'predicate': 'do-not-think', 'object': 'so.-I-think-it-has-to-do-with-the-fact-that-you-are-responsible-for-the-care-of-the-child.'}\n",
      "initial triple: {'subject': 'No,-I', 'predicate': 'do-not-think', 'object': 'so.-I-think-it-has-to-do-with-the-fact-that-you-are-responsible-for-the-care-of-the-child.'}\n",
      "initial triple: {'subject': 'No,-I', 'predicate': 'do-not-think', 'object': 'so.-I-think-it-has-to-do-with-the-fact-that-you-are-responsible-for-the-care-of-the-child.'}\n",
      "initial triple: {'subject': 'No,-I', 'predicate': 'do-not-think', 'object': 'so.-I-think-it-has-to-do-with-the-fact-that-you-are-responsible-for-the-care-of-the-child.'}\n",
      "initial triple: {'subject': 'No,-I', 'predicate': 'do-not-think', 'object': 'so.-I-think-it-has-to-do-with-the-fact-that-you-are-responsible-for-the-care-of-the-child.'}\n",
      "initial triple: {'subject': 'No,-I', 'predicate': 'do-not-think', 'object': 'so.-I-think-it-has-to-do-with-the-fact-that-you-are-responsible-for-the-care-of-the-child.'}\n",
      "initial triple: {'subject': 'No,-I', 'predicate': 'do-not-think', 'object': 'so.-I-think-it-has-to-do-with-the-fact-that-you-are-responsible-for-the-care-of-the-child.'}\n",
      "initial triple: {'subject': 'No,-I', 'predicate': 'do-not-think', 'object': 'so.-I-think-it-has-to-do-with-the-fact-that-you-are-responsible-for-the-care-of-the-child.'}\n",
      "initial triple: {'subject': 'No,-I', 'predicate': 'do-not-think', 'object': 'so.-I-think-it-has-to-do-with-the-fact-that-you-are-responsible-for-the-care-of-the-child.'}\n",
      "initial triple: {'subject': 'No,-I', 'predicate': 'do-not-think', 'object': 'so.-I-think-it-has-to-do-with-the-fact-that-you-are-responsible-for-the-care-of-the-child.'}\n",
      "initial triple: {'subject': 'No,-I', 'predicate': 'do-not-think', 'object': 'so.-I-think-it-has-to-do-with-the-fact-that-you-are-responsible-for-the-care-of-the-child.'}\n",
      "initial triple: {'subject': 'No,-I', 'predicate': 'do-not-think', 'object': 'so.-I-think-it-has-to-do-with-the-fact-that-you-are-responsible-for-the-care-of-the-child.'}\n",
      "initial triple: {'subject': 'No,-I', 'predicate': 'do-not-think', 'object': 'so.-I-think-it-has-to-do-with-the-fact-that-you-are-responsible-for-the-care-of-the-child.'}\n",
      "initial triple: {'subject': 'No,-I', 'predicate': 'do-not-think', 'object': 'so.-I-think-it-has-to-do-with-the-fact-that-you-are-responsible-for-the-care-of-the-child.'}\n",
      "initial triple: {'subject': 'No,-I', 'predicate': 'do-not-think', 'object': 'so.-I-think-it-has-to-do-with-the-fact-that-you-are-responsible-for-the-care-of-the-child.'}\n",
      "initial triple: {'subject': 'No,-I', 'predicate': 'do-not-think', 'object': 'so.-I-think-it-has-to-do-with-the-fact-that-you-are-responsible-for-the-care-of-the-child.'}\n",
      "initial triple: {'subject': 'No,-I', 'predicate': 'do-not-think', 'object': 'so.-I-think-it-has-to-do-with-the-fact-that-you-are-responsible-for-the-care-of-the-child.'}\n",
      "initial triple: {'subject': 'No,-I', 'predicate': 'do-not-think', 'object': 'so.-I-think-it-has-to-do-with-the-fact-that-you-are-responsible-for-the-care-of-the-child.'}\n",
      "initial triple: {'subject': 'No,-I', 'predicate': 'do-not-think', 'object': 'so.-I-think-it-has-to-do-with-the-fact-that-you-are-responsible-for-the-care-of-the-child.'}\n",
      "initial triple: {'subject': 'No,-I', 'predicate': 'do-not-think', 'object': 'so.-I-think-it-has-to-do-with-the-fact-that-you-are-responsible-for-the-care-of-the-child.'}\n",
      "initial triple: {'subject': 'No,-I', 'predicate': 'do-not-think', 'object': 'so.-I-think-it-has-to-do-with-the-fact-that-you-are-responsible-for-the-care-of-the-child.'}\n",
      "initial triple: {'subject': 'No,-I', 'predicate': 'do-not-think', 'object': 'so.-I-think-it-has-to-do-with-the-fact-that-you-are-responsible-for-the-care-of-the-child.'}\n",
      "initial triple: {'subject': 'No,-I', 'predicate': 'do-not-think', 'object': 'so.-I-think-it-has-to-do-with-the-fact-that-you-are-responsible-for-the-care-of-the-child.'}\n",
      "initial triple: {'subject': 'No,-I', 'predicate': 'do-not-think', 'object': 'so.-I-think-it-has-to-do-with-the-fact-that-you-are-responsible-for-the-care-of-the-child.'}\n",
      "initial triple: {'subject': 'No,-I', 'predicate': 'do-not-think', 'object': 'so.-I-think-it-has-to-do-with-the-fact-that-you-are-responsible-for-the-care-of-the-child.'}\n",
      "initial triple: {'subject': 'No,-I', 'predicate': 'do-not-think', 'object': 'so.-I-think-it-has-to-do-with-the-fact-that-you-are-responsible-for-the-care-of-the-child.'}\n",
      "initial triple: {'subject': 'No,-I', 'predicate': 'do-not-think', 'object': 'so.-I-think-it-has-to-do-with-the-fact-that-you-are-responsible-for-the-care-of-the-child.'}\n",
      "initial triple: {'subject': 'No,-I', 'predicate': 'do-not-think', 'object': 'so.-I-think-it-has-to-do-with-the-fact-that-you-are-responsible-for-the-care-of-the-child.'}\n",
      "initial triple: {'subject': 'No,-I', 'predicate': 'do-not-think', 'object': 'so.-I-think-it-has-to-do-with-the-fact-that-you-are-responsible-for-the-care-of-the-child.'}\n",
      "initial triple: {'subject': 'No,-I', 'predicate': 'do-not-think', 'object': 'so.-I-think-it-has-to-do-with-the-fact-that-you-are-responsible-for-the-care-of-the-child.'}\n",
      "initial triple: {'subject': 'No,-I', 'predicate': 'do-not-think', 'object': 'so.-I-think-it-has-to-do-with-the-fact-that-you-are-responsible-for-the-care-of-the-child.'}\n",
      "initial triple: {'subject': 'No,-I', 'predicate': 'do-not-think', 'object': 'so.-I-think-it-has-to-do-with-the-fact-that-you-are-responsible-for-the-care-of-the-child.'}\n",
      "initial triple: {'subject': 'No,-I', 'predicate': 'do-not-think', 'object': 'so.-I-think-it-has-to-do-with-the-fact-that-you-are-responsible-for-the-care-of-the-child.'}\n",
      "initial triple: {'subject': 'No,-I', 'predicate': 'do-not-think', 'object': 'so.-I-think-it-has-to-do-with-the-fact-that-you-are-responsible-for-the-care-of-the-child.'}\n",
      "initial triple: {'subject': 'No,-I', 'predicate': 'do-not-think', 'object': 'so.-I-think-it-has-to-do-with-the-fact-that-you-are-responsible-for-the-care-of-the-child.'}\n",
      "initial triple: {'subject': 'No,-I', 'predicate': 'do-not-think', 'object': 'so.-I-think-it-has-to-do-with-the-fact-that-you-are-responsible-for-the-care-of-the-child.'}\n",
      "initial triple: {'subject': 'No,-I', 'predicate': 'do-not-think', 'object': 'so.-I-think-it-has-to-do-with-the-fact-that-you-are-responsible-for-the-care-of-the-child.'}\n",
      "initial triple: {'subject': 'No,-I', 'predicate': 'do-not-think', 'object': 'so.-I-think-it-has-to-do-with-the-fact-that-you-are-responsible-for-the-care-of-the-child.'}\n",
      "initial triple: {'subject': 'No,-I', 'predicate': 'do-not-think', 'object': 'so.-I-think-it-has-to-do-with-the-fact-that-you-are-responsible-for-the-care-of-the-child.'}\n",
      "initial triple: {'subject': 'No,-I', 'predicate': 'do-not-think', 'object': 'so.-I-think-it-has-to-do-with-the-fact-that-you-are-responsible-for-the-care-of-the-child.'}\n",
      "initial triple: {'subject': 'No,-I', 'predicate': 'do-not-think', 'object': 'so.-I-think-it-has-to-do-with-the-fact-that-you-are-responsible-for-the-care-of-the-child.'}\n",
      "initial triple: {'subject': 'No,-I', 'predicate': 'do-not-think', 'object': 'so.-I-think-it-has-to-do-with-the-fact-that-you-are-responsible-for-the-care-of-the-child.'}\n",
      "initial triple: {'subject': 'No,-I', 'predicate': 'do-not-think', 'object': 'so.-I-think-it-has-to-do-with-the-fact-that-you-are-responsible-for-the-care-of-the-child.'}\n",
      "initial triple: {'subject': 'No,-I', 'predicate': 'do-not-think', 'object': 'so.-I-think-it-has-to-do-with-the-fact-that-you-are-responsible-for-the-care-of-the-child.'}\n",
      "initial triple: {'subject': 'No,-I', 'predicate': 'do-not-think', 'object': 'so.-I-think-it-has-to-do-with-the-fact-that-you-are-responsible-for-the-care-of-the-child.'}\n",
      "initial triple: {'subject': 'No,-I', 'predicate': 'do-not-think', 'object': 'so.-I-think-it-has-to-do-with-the-fact-that-you-are-responsible-for-the-care-of-the-child.'}\n",
      "initial triple: {'subject': 'No,-I', 'predicate': 'do-not-think', 'object': 'so.-I-think-it-has-to-do-with-the-fact-that-you-are-responsible-for-the-care-of-the-child.'}\n",
      "initial triple: {'subject': 'No,-I', 'predicate': 'do-not-think', 'object': 'so.-I-think-it-has-to-do-with-the-fact-that-you-are-responsible-for-the-care-of-the-child.'}\n",
      "initial triple: {'subject': 'No,-I', 'predicate': 'do-not-think', 'object': 'so.-I-think-it-has-to-do-with-the-fact-that-you-are-responsible-for-the-care-of-the-child.'}\n",
      "initial triple: {'subject': 'No,-I', 'predicate': 'do-not-think', 'object': 'so.-I-think-it-has-to-do-with-the-fact-that-you-are-responsible-for-the-care-of-the-child.'}\n",
      "initial triple: {'subject': 'No,-I', 'predicate': 'do-not-think', 'object': 'so.-I-think-it-has-to-do-with-the-fact-that-you-are-responsible-for-the-care-of-the-child.'}\n",
      "initial triple: {'subject': 'No,-I', 'predicate': 'do-not-think', 'object': 'so.-I-think-it-has-to-do-with-the-fact-that-you-are-responsible-for-the-care-of-the-child.'}\n",
      "initial triple: {'subject': 'No,-I', 'predicate': 'do-not-think', 'object': 'so.-I-think-it-has-to-do-with-the-fact-that-you-are-responsible-for-the-care-of-the-child.'}\n",
      "initial triple: {'subject': 'No,-I', 'predicate': 'do-not-think', 'object': 'so.-I-think-it-has-to-do-with-the-fact-that-you-are-responsible-for-the-care-of-the-child.'}\n",
      "initial triple: {'subject': 'No,-I', 'predicate': 'do-not-think', 'object': 'so.-I-think-it-has-to-do-with-the-fact-that-you-are-responsible-for-the-care-of-the-child.'}\n",
      "initial triple: {'subject': 'No,-I', 'predicate': 'do-not-think', 'object': 'so.-I-think-it-has-to-do-with-the-fact-that-you-are-responsible-for-the-care-of-the-child.'}\n",
      "initial triple: {'subject': 'No,-I', 'predicate': 'do-not-think', 'object': 'so.-I-think-it-has-to-do-with-the-fact-that-you-are-responsible-for-the-care-of-the-child.'}\n",
      "initial triple: {'subject': 'No,-I', 'predicate': 'do-not-think', 'object': 'so.-I-think-it-has-to-do-with-the-fact-that-you-are-responsible-for-the-care-of-the-child.'}\n",
      "initial triple: {'subject': 'No,-I', 'predicate': 'do-not-think', 'object': 'so.-I-think-it-has-to-do-with-the-fact-that-you-are-responsible-for-the-care-of-the-child.'}\n",
      "initial triple: {'subject': 'No,-I', 'predicate': 'do-not-think', 'object': 'so.-I-think-it-has-to-do-with-the-fact-that-you-are-responsible-for-the-care-of-the-child.'}\n",
      "initial triple: {'subject': 'No,-I', 'predicate': 'do-not-think', 'object': 'so.-I-think-it-has-to-do-with-the-fact-that-you-are-responsible-for-the-care-of-the-child.'}\n",
      "initial triple: {'subject': 'No,-I', 'predicate': 'do-not-think', 'object': 'so.-I-think-it-has-to-do-with-the-fact-that-you-are-responsible-for-the-care-of-the-child.'}\n",
      "initial triple: {'subject': 'No,-I', 'predicate': 'do-not-think', 'object': 'so.-I-think-it-has-to-do-with-the-fact-that-you-are-responsible-for-the-care-of-the-child.'}\n",
      "initial triple: {'subject': 'No,-I', 'predicate': 'do-not-think', 'object': 'so.-I-think-it-has-to-do-with-the-fact-that-you-are-responsible-for-the-care-of-the-child.'}\n",
      "initial triple: {'subject': 'No,-I', 'predicate': 'do-not-think', 'object': 'so.-I-think-it-has-to-do-with-the-fact-that-you-are-responsible-for-the-care-of-the-child.'}\n",
      "initial triple: {'subject': 'No,-I', 'predicate': 'do-not-think', 'object': 'so.-I-think-it-has-to-do-with-the-fact-that-you-are-responsible-for-the-care-of-the-child.'}\n",
      "initial triple: {'subject': 'No,-I', 'predicate': 'do-not-think', 'object': 'so.-I-think-it-has-to-do-with-the-fact-that-you-are-responsible-for-the-care-of-the-child.'}\n",
      "initial triple: {'subject': 'No,-I', 'predicate': 'do-not-think', 'object': 'so.-I-think-it-has-to-do-with-the-fact-that-you-are-responsible-for-the-care-of-the-child.'}\n",
      "initial triple: {'subject': 'No,-I', 'predicate': 'do-not-think', 'object': 'so.-I-think-it-has-to-do-with-the-fact-that-you-are-responsible-for-the-care-of-the-child.'}\n",
      "initial triple: {'subject': 'No,-I', 'predicate': 'do-not-think', 'object': 'so.-I-think-it-has-to-do-with-the-fact-that-you-are-responsible-for-the-care-of-the-child.'}\n",
      "initial triple: {'subject': 'No,-I', 'predicate': 'do-not-think', 'object': 'so.-I-think-it-has-to-do-with-the-fact-that-you-are-responsible-for-the-care-of-the-child.'}\n",
      "initial triple: {'subject': 'No,-I', 'predicate': 'do-not-think', 'object': 'so.-I-think-it-has-to-do-with-the-fact-that-you-are-responsible-for-the-care-of-the-child.'}\n",
      "initial triple: {'subject': 'No,-I', 'predicate': 'do-not-think', 'object': 'so.-I-think-it-has-to-do-with-the-fact-that-you-are-responsible-for-the-care-of-the-child.'}\n",
      "initial triple: {'subject': 'No,-I', 'predicate': 'do-not-think', 'object': 'so.-I-think-it-has-to-do-with-the-fact-that-you-are-responsible-for-the-care-of-the-child.'}\n",
      "initial triple: {'subject': 'No,-I', 'predicate': 'do-not-think', 'object': 'so.-I-think-it-has-to-do-with-the-fact-that-you-are-responsible-for-the-care-of-the-child.'}\n",
      "initial triple: {'subject': 'No,-I', 'predicate': 'do-not-think', 'object': 'so.-I-think-it-has-to-do-with-the-fact-that-you-are-responsible-for-the-care-of-the-child.'}\n",
      "initial triple: {'subject': 'No,-I', 'predicate': 'do-not-think', 'object': 'so.-I-think-it-has-to-do-with-the-fact-that-you-are-responsible-for-the-care-of-the-child.'}\n",
      "initial triple: {'subject': 'No,-I', 'predicate': 'do-not-think', 'object': 'so.-I-think-it-has-to-do-with-the-fact-that-you-are-responsible-for-the-care-of-the-child.'}\n",
      "initial triple: {'subject': 'No,-I', 'predicate': 'do-not-think', 'object': 'so.-I-think-it-has-to-do-with-the-fact-that-you-are-responsible-for-the-care-of-the-child.'}\n",
      "initial triple: {'subject': 'No,-I', 'predicate': 'do-not-think', 'object': 'so.-I-think-it-has-to-do-with-the-fact-that-you-are-responsible-for-the-care-of-the-child.'}\n",
      "initial triple: {'subject': 'No,-I', 'predicate': 'do-not-think', 'object': 'so.-I-think-it-has-to-do-with-the-fact-that-you-are-responsible-for-the-care-of-the-child.'}\n",
      "initial triple: {'subject': 'No,-I', 'predicate': 'do-not-think', 'object': 'so.-I-think-it-has-to-do-with-the-fact-that-you-are-responsible-for-the-care-of-the-child.'}\n",
      "initial triple: {'subject': 'No,-I', 'predicate': 'do-not-think', 'object': 'so.-I-think-it-has-to-do-with-the-fact-that-you-are-responsible-for-the-care-of-the-child.'}\n",
      "initial triple: {'subject': 'No,-I', 'predicate': 'do-not-think', 'object': 'so.-I-think-it-has-to-do-with-the-fact-that-you-are-responsible-for-the-care-of-the-child.'}\n",
      "initial triple: {'subject': 'No,-I', 'predicate': 'do-not-think', 'object': 'so.-I-think-it-has-to-do-with-the-fact-that-you-are-responsible-for-the-care-of-the-child.'}\n",
      "initial triple: {'subject': 'No,-I', 'predicate': 'do-not-think', 'object': 'so.-I-think-it-has-to-do-with-the-fact-that-you-are-responsible-for-the-care-of-the-child.'}\n",
      "initial triple: {'subject': 'No,-I', 'predicate': 'do-not-think', 'object': 'so.-I-think-it-has-to-do-with-the-fact-that-you-are-responsible-for-the-care-of-the-child.'}\n",
      "initial triple: {'subject': 'No,-I', 'predicate': 'do-not-think', 'object': 'so.-I-think-it-has-to-do-with-the-fact-that-you-are-responsible-for-the-care-of-the-child.'}\n",
      "initial triple: {'subject': 'No,-I', 'predicate': 'do-not-think', 'object': 'so.-I-think-it-has-to-do-with-the-fact-that-you-are-responsible-for-the-care-of-the-child.'}\n",
      "initial triple: {'subject': 'No,-I', 'predicate': 'do-not-think', 'object': 'so.-I-think-it-has-to-do-with-the-fact-that-you-are-responsible-for-the-care-of-the-child.'}\n",
      "initial triple: {'subject': 'No,-I', 'predicate': 'do-not-think', 'object': 'so.-I-think-it-has-to-do-with-the-fact-that-you-are-responsible-for-the-care-of-the-child.'}\n",
      "initial triple: {'subject': 'No,-I', 'predicate': 'do-not-think', 'object': 'so.-I-think-it-has-to-do-with-the-fact-that-you-are-responsible-for-the-care-of-the-child.'}\n",
      "initial triple: {'subject': 'No,-I', 'predicate': 'do-not-think', 'object': 'so.-I-think-it-has-to-do-with-the-fact-that-you-are-responsible-for-the-care-of-the-child.'}\n",
      "initial triple: {'subject': 'No,-I', 'predicate': 'do-not-think', 'object': 'so.-I-think-it-has-to-do-with-the-fact-that-you-are-responsible-for-the-care-of-the-child.'}\n",
      "initial triple: {'subject': 'No,-I', 'predicate': 'do-not-think', 'object': 'so.-I-think-it-has-to-do-with-the-fact-that-you-are-responsible-for-the-care-of-the-child.'}\n",
      "initial triple: {'subject': 'No,-I', 'predicate': 'do-not-think', 'object': 'so.-I-think-it-has-to-do-with-the-fact-that-you-are-responsible-for-the-care-of-the-child.'}\n",
      "initial triple: {'subject': 'No,-I', 'predicate': 'do-not-think', 'object': 'so.-I-think-it-has-to-do-with-the-fact-that-you-are-responsible-for-the-care-of-the-child.'}\n",
      "initial triple: {'subject': 'No,-I', 'predicate': 'do-not-think', 'object': 'so.-I-think-it-has-to-do-with-the-fact-that-you-are-responsible-for-the-care-of-the-child.'}\n",
      "initial triple: {'subject': 'No,-I', 'predicate': 'do-not-think', 'object': 'so.-I-think-it-has-to-do-with-the-fact-that-you-are-responsible-for-the-care-of-the-child.'}\n",
      "initial triple: {'subject': 'No,-I', 'predicate': 'do-not-think', 'object': 'so.-I-think-it-has-to-do-with-the-fact-that-you-are-responsible-for-the-care-of-the-child.'}\n",
      "initial triple: {'subject': 'No,-I', 'predicate': 'do-not-think', 'object': 'so.-I-think-it-has-to-do-with-the-fact-that-you-are-responsible-for-the-care-of-the-child.'}\n",
      "initial triple: {'subject': 'No,-I', 'predicate': 'do-not-think', 'object': 'so.-I-think-it-has-to-do-with-the-fact-that-you-are-responsible-for-the-care-of-the-child.'}\n",
      "initial triple: {'subject': 'No,-I', 'predicate': 'do-not-think', 'object': 'so.-I-think-it-has-to-do-with-the-fact-that-you-are-responsible-for-the-care-of-the-child.'}\n",
      "initial triple: {'subject': 'No,-I', 'predicate': 'do-not-think', 'object': 'so.-I-think-it-has-to-do-with-the-fact-that-you-are-responsible-for-the-care-of-the-child.'}\n",
      "initial triple: {'subject': 'No,-I', 'predicate': 'do-not-think', 'object': 'so.-I-think-it-has-to-do-with-the-fact-that-you-are-responsible-for-the-care-of-the-child.'}\n",
      "initial triple: {'subject': 'No,-I', 'predicate': 'do-not-think', 'object': 'so.-I-think-it-has-to-do-with-the-fact-that-you-are-responsible-for-the-care-of-the-child.'}\n",
      "initial triple: {'subject': 'No,-I', 'predicate': 'do-not-think', 'object': 'so.-I-think-it-has-to-do-with-the-fact-that-you-are-responsible-for-the-care-of-the-child.'}\n",
      "initial triple: {'subject': 'No,-I', 'predicate': 'do-not-think', 'object': 'so.-I-think-it-has-to-do-with-the-fact-that-you-are-responsible-for-the-care-of-the-child.'}\n",
      "initial triple: {'subject': 'No,-I', 'predicate': 'do-not-think', 'object': 'so.-I-think-it-has-to-do-with-the-fact-that-you-are-responsible-for-the-care-of-the-child.'}\n",
      "initial triple: {'subject': 'No,-I', 'predicate': 'do-not-think', 'object': 'so.-I-think-it-has-to-do-with-the-fact-that-you-are-responsible-for-the-care-of-the-child.'}\n",
      "initial triple: {'subject': 'No,-I', 'predicate': 'do-not-think', 'object': 'so.-I-think-it-has-to-do-with-the-fact-that-you-are-responsible-for-the-care-of-the-child.'}\n",
      "initial triple: {'subject': 'No,-I', 'predicate': 'do-not-think', 'object': 'so.-I-think-it-has-to-do-with-the-fact-that-you-are-responsible-for-the-care-of-the-child.'}\n",
      "initial triple: {'subject': 'No,-I', 'predicate': 'do-not-think', 'object': 'so.-I-think-it-has-to-do-with-the-fact-that-you-are-responsible-for-the-care-of-the-child.'}\n",
      "initial triple: {'subject': 'No,-I', 'predicate': 'do-not-think', 'object': 'so.-I-think-it-has-to-do-with-the-fact-that-you-are-responsible-for-the-care-of-the-child.'}\n",
      "initial triple: {'subject': 'No,-I', 'predicate': 'do-not-think', 'object': 'so.-I-think-it-has-to-do-with-the-fact-that-you-are-responsible-for-the-care-of-the-child.'}\n",
      "initial triple: {'subject': 'No,-I', 'predicate': 'do-not-think', 'object': 'so.-I-think-it-has-to-do-with-the-fact-that-you-are-responsible-for-the-care-of-the-child.'}\n",
      "initial triple: {'subject': 'No,-I', 'predicate': 'do-not-think', 'object': 'so.-I-think-it-has-to-do-with-the-fact-that-you-are-responsible-for-the-care-of-the-child.'}\n",
      "initial triple: {'subject': 'No,-I', 'predicate': 'do-not-think', 'object': 'so.-I-think-it-has-to-do-with-the-fact-that-you-are-responsible-for-the-care-of-the-child.'}\n",
      "initial triple: {'subject': 'No,-I', 'predicate': 'do-not-think', 'object': 'so.-I-think-it-has-to-do-with-the-fact-that-you-are-responsible-for-the-care-of-the-child.'}\n",
      "initial triple: {'subject': 'No,-I', 'predicate': 'do-not-think', 'object': 'so.-I-think-it-has-to-do-with-the-fact-that-you-are-responsible-for-the-care-of-the-child.'}\n",
      "initial triple: {'subject': 'No,-I', 'predicate': 'do-not-think', 'object': 'so.-I-think-it-has-to-do-with-the-fact-that-you-are-responsible-for-the-care-of-the-child.'}\n",
      "initial triple: {'subject': 'No,-I', 'predicate': 'do-not-think', 'object': 'so.-I-think-it-has-to-do-with-the-fact-that-you-are-responsible-for-the-care-of-the-child.'}\n",
      "initial triple: {'subject': 'No,-I', 'predicate': 'do-not-think', 'object': 'so.-I-think-it-has-to-do-with-the-fact-that-you-are-responsible-for-the-care-of-the-child.'}\n",
      "initial triple: {'subject': 'No,-I', 'predicate': 'do-not-think', 'object': 'so.-I-think-it-has-to-do-with-the-fact-that-you-are-responsible-for-the-care-of-the-child.'}\n",
      "initial triple: {'subject': 'No,-I', 'predicate': 'do-not-think', 'object': 'so.-I-think-it-has-to-do-with-the-fact-that-you-are-responsible-for-the-care-of-the-child.'}\n",
      "initial triple: {'subject': 'No,-I', 'predicate': 'do-not-think', 'object': 'so.-I-think-it-has-to-do-with-the-fact-that-you-are-responsible-for-the-care-of-the-child.'}\n",
      "initial triple: {'subject': 'No,-I', 'predicate': 'do-not-think', 'object': 'so.-I-think-it-has-to-do-with-the-fact-that-you-are-responsible-for-the-care-of-the-child.'}\n",
      "initial triple: {'subject': 'No,-I', 'predicate': 'do-not-think', 'object': 'so.-I-think-it-has-to-do-with-the-fact-that-you-are-responsible-for-the-care-of-the-child.'}\n",
      "initial triple: {'subject': 'No,-I', 'predicate': 'do-not-think', 'object': 'so.-I-think-it-has-to-do-with-the-fact-that-you-are-responsible-for-the-care-of-the-child.'}\n",
      "initial triple: {'subject': 'No,-I', 'predicate': 'do-not-think', 'object': 'so.-I-think-it-has-to-do-with-the-fact-that-you-are-responsible-for-the-care-of-the-child.'}\n",
      "initial triple: {'subject': 'No,-I', 'predicate': 'do-not-think', 'object': 'so.-I-think-it-has-to-do-with-the-fact-that-you-are-responsible-for-the-care-of-the-child.'}\n",
      "initial triple: {'subject': 'No,-I', 'predicate': 'do-not-think', 'object': 'so.-I-think-it-has-to-do-with-the-fact-that-you-are-responsible-for-the-care-of-the-child.'}\n",
      "initial triple: {'subject': 'No,-I', 'predicate': 'do-not-think', 'object': 'so.-I-think-it-has-to-do-with-the-fact-that-you-are-responsible-for-the-care-of-the-child.'}\n",
      "initial triple: {'subject': 'No,-I', 'predicate': 'do-not-think', 'object': 'so.-I-think-it-has-to-do-with-the-fact-that-you-are-responsible-for-the-care-of-the-child.'}\n",
      "initial triple: {'subject': 'No,-I', 'predicate': 'do-not-think', 'object': 'so.-I-think-it-has-to-do-with-the-fact-that-you-are-responsible-for-the-care-of-the-child.'}\n",
      "initial triple: {'subject': 'No,-I', 'predicate': 'do-not-think', 'object': 'so.-I-think-it-has-to-do-with-the-fact-that-you-are-responsible-for-the-care-of-the-child.'}\n",
      "initial triple: {'subject': 'No,-I', 'predicate': 'do-not-think', 'object': 'so.-I-think-it-has-to-do-with-the-fact-that-you-are-responsible-for-the-care-of-the-child.'}\n",
      "initial triple: {'subject': 'No,-I', 'predicate': 'do-not-think', 'object': 'so.-I-think-it-has-to-do-with-the-fact-that-you-are-responsible-for-the-care-of-the-child.'}\n",
      "initial triple: {'subject': 'No,-I', 'predicate': 'do-not-think', 'object': 'so.-I-think-it-has-to-do-with-the-fact-that-you-are-responsible-for-the-care-of-the-child.'}\n",
      "initial triple: {'subject': 'No,-I', 'predicate': 'do-not-think', 'object': 'so.-I-think-it-has-to-do-with-the-fact-that-you-are-responsible-for-the-care-of-the-child.'}\n",
      "initial triple: {'subject': 'No,-I', 'predicate': 'do-not-think', 'object': 'so.-I-think-it-has-to-do-with-the-fact-that-you-are-responsible-for-the-care-of-the-child.'}\n",
      "initial triple: {'subject': 'No,-I', 'predicate': 'do-not-think', 'object': 'so.-I-think-it-has-to-do-with-the-fact-that-you-are-responsible-for-the-care-of-the-child.'}\n",
      "initial triple: {'subject': 'No,-I', 'predicate': 'do-not-think', 'object': 'so.-I-think-it-has-to-do-with-the-fact-that-you-are-responsible-for-the-care-of-the-child.'}\n",
      "initial triple: {'subject': 'No,-I', 'predicate': 'do-not-think', 'object': 'so.-I-think-it-has-to-do-with-the-fact-that-you-are-responsible-for-the-care-of-the-child.'}\n",
      "initial triple: {'subject': 'No,-I', 'predicate': 'do-not-think', 'object': 'so.-I-think-it-has-to-do-with-the-fact-that-you-are-responsible-for-the-care-of-the-child.'}\n",
      "initial triple: {'subject': 'No,-I', 'predicate': 'do-not-think', 'object': 'so.-I-think-it-has-to-do-with-the-fact-that-you-are-responsible-for-the-care-of-the-child.'}\n",
      "initial triple: {'subject': 'No,-I', 'predicate': 'do-not-think', 'object': 'so.-I-think-it-has-to-do-with-the-fact-that-you-are-responsible-for-the-care-of-the-child.'}\n",
      "initial triple: {'subject': 'No,-I', 'predicate': 'do-not-think', 'object': 'so.-I-think-it-has-to-do-with-the-fact-that-you-are-responsible-for-the-care-of-the-child.'}\n",
      "initial triple: {'subject': 'No,-I', 'predicate': 'do-not-think', 'object': 'so.-I-think-it-has-to-do-with-the-fact-that-you-are-responsible-for-the-care-of-the-child.'}\n",
      "initial triple: {'subject': 'No,-I', 'predicate': 'do-not-think', 'object': 'so.-I-think-it-has-to-do-with-the-fact-that-you-are-responsible-for-the-care-of-the-child.'}\n",
      "initial triple: {'subject': 'No,-I', 'predicate': 'do-not-think', 'object': 'so.-I-think-it-has-to-do-with-the-fact-that-you-are-responsible-for-the-care-of-the-child.'}\n",
      "initial triple: {'subject': 'No,-I', 'predicate': 'do-not-think', 'object': 'so.-I-think-it-has-to-do-with-the-fact-that-you-are-responsible-for-the-care-of-the-child.'}\n",
      "initial triple: {'subject': 'No,-I', 'predicate': 'do-not-think', 'object': 'so.-I-think-it-has-to-do-with-the-fact-that-you-are-responsible-for-the-care-of-the-child.'}\n",
      "initial triple: {'subject': 'No,-I', 'predicate': 'do-not-think', 'object': 'so.-I-think-it-has-to-do-with-the-fact-that-you-are-responsible-for-the-care-of-the-child.'}\n",
      "initial triple: {'subject': 'No,-I', 'predicate': 'do-not-think', 'object': 'so.-I-think-it-has-to-do-with-the-fact-that-you-are-responsible-for-the-care-of-the-child.'}\n",
      "initial triple: {'subject': 'No,-I', 'predicate': 'do-not-think', 'object': 'so.-I-think-it-has-to-do-with-the-fact-that-you-are-responsible-for-the-care-of-the-child.'}\n",
      "initial triple: {'subject': 'No,-I', 'predicate': 'do-not-think', 'object': 'so.-I-think-it-has-to-do-with-the-fact-that-you-are-responsible-for-the-care-of-the-child.'}\n",
      "initial triple: {'subject': 'No,-I', 'predicate': 'do-not-think', 'object': 'so.-I-think-it-has-to-do-with-the-fact-that-you-are-responsible-for-the-care-of-the-child.'}\n",
      "initial triple: {'subject': 'No,-I', 'predicate': 'do-not-think', 'object': 'so.-I-think-it-has-to-do-with-the-fact-that-you-are-responsible-for-the-care-of-the-child.'}\n",
      "initial triple: {'subject': 'No,-I', 'predicate': 'do-not-think', 'object': 'so.-I-think-it-has-to-do-with-the-fact-that-you-are-responsible-for-the-care-of-the-child.'}\n",
      "initial triple: {'subject': 'No,-I', 'predicate': 'do-not-think', 'object': 'so.-I-think-it-has-to-do-with-the-fact-that-you-are-responsible-for-the-care-of-the-child.'}\n",
      "initial triple: {'subject': 'No,-I', 'predicate': 'do-not-think', 'object': 'so.-I-think-it-has-to-do-with-the-fact-that-you-are-responsible-for-the-care-of-the-child.'}\n",
      "initial triple: {'subject': 'No,-I', 'predicate': 'do-not-think', 'object': 'so.-I-think-it-has-to-do-with-the-fact-that-you-are-responsible-for-the-care-of-the-child.'}\n",
      "initial triple: {'subject': 'No,-I', 'predicate': 'do-not-think', 'object': 'so.-I-think-it-has-to-do-with-the-fact-that-you-are-responsible-for-the-care-of-the-child.'}\n",
      "initial triple: {'subject': 'No,-I', 'predicate': 'do-not-think', 'object': 'so.-I-think-it-has-to-do-with-the-fact-that-you-are-responsible-for-the-care-of-the-child.'}\n",
      "initial triple: {'subject': 'No,-I', 'predicate': 'do-not-think', 'object': 'so.-I-think-it-has-to-do-with-the-fact-that-you-are-responsible-for-the-care-of-the-child.'}\n",
      "initial triple: {'subject': 'No,-I', 'predicate': 'do-not-think', 'object': 'so.-I-think-it-has-to-do-with-the-fact-that-you-are-responsible-for-the-care-of-the-child.'}\n",
      "initial triple: {'subject': 'No,-I', 'predicate': 'do-not-think', 'object': 'so.-I-think-it-has-to-do-with-the-fact-that-you-are-responsible-for-the-care-of-the-child.'}\n",
      "initial triple: {'subject': 'No,-I', 'predicate': 'do-not-think', 'object': 'so.-I-think-it-has-to-do-with-the-fact-that-you-are-responsible-for-the-care-of-the-child.'}\n",
      "initial triple: {'subject': 'No,-I', 'predicate': 'do-not-think', 'object': 'so.-I-think-it-has-to-do-with-the-fact-that-you-are-responsible-for-the-care-of-the-child.'}\n",
      "initial triple: {'subject': 'No,-I', 'predicate': 'do-not-think', 'object': 'so.-I-think-it-has-to-do-with-the-fact-that-you-are-responsible-for-the-care-of-the-child.'}\n",
      "initial triple: {'subject': 'No,-I', 'predicate': 'do-not-think', 'object': 'so.-I-think-it-has-to-do-with-the-fact-that-you-are-responsible-for-the-care-of-the-child.'}\n",
      "initial triple: {'subject': 'No,-I', 'predicate': 'do-not-think', 'object': 'so.-I-think-it-has-to-do-with-the-fact-that-you-are-responsible-for-the-care-of-the-child.'}\n",
      "initial triple: {'subject': 'No,-I', 'predicate': 'do-not-think', 'object': 'so.-I-think-it-has-to-do-with-the-fact-that-you-are-responsible-for-the-care-of-the-child.'}\n",
      "initial triple: {'subject': 'No,-I', 'predicate': 'do-not-think', 'object': 'so.-I-think-it-has-to-do-with-the-fact-that-you-are-responsible-for-the-care-of-the-child.'}\n",
      "initial triple: {'subject': 'No,-I', 'predicate': 'do-not-think', 'object': 'so.-I-think-it-has-to-do-with-the-fact-that-you-are-responsible-for-the-care-of-the-child.'}\n",
      "initial triple: {'subject': 'No,-I', 'predicate': 'do-not-think', 'object': 'so.-I-think-it-has-to-do-with-the-fact-that-you-are-responsible-for-the-care-of-the-child.'}\n",
      "initial triple: {'subject': 'No,-I', 'predicate': 'do-not-think', 'object': 'so.-I-think-it-has-to-do-with-the-fact-that-you-are-responsible-for-the-care-of-the-child.'}\n",
      "initial triple: {'subject': 'No,-I', 'predicate': 'do-not-think', 'object': 'so.-I-think-it-has-to-do-with-the-fact-that-you-are-responsible-for-the-care-of-the-child.'}\n",
      "initial triple: {'subject': 'No,-I', 'predicate': 'do-not-think', 'object': 'so.-I-think-it-has-to-do-with-the-fact-that-you-are-responsible-for-the-care-of-the-child.'}\n",
      "initial triple: {'subject': 'No,-I', 'predicate': 'do-not-think', 'object': 'so.-I-think-it-has-to-do-with-the-fact-that-you-are-responsible-for-the-care-of-the-child.'}\n",
      "initial triple: {'subject': 'No,-I', 'predicate': 'do-not-think', 'object': 'so.-I-think-it-has-to-do-with-the-fact-that-you-are-responsible-for-the-care-of-the-child.'}\n",
      "initial triple: {'subject': 'No,-I', 'predicate': 'do-not-think', 'object': 'so.-I-think-it-has-to-do-with-the-fact-that-you-are-responsible-for-the-care-of-the-child.'}\n",
      "initial triple: {'subject': 'No,-I', 'predicate': 'do-not-think', 'object': 'so.-I-think-it-has-to-do-with-the-fact-that-you-are-responsible-for-the-care-of-the-child.'}\n",
      "initial triple: {'subject': 'No,-I', 'predicate': 'do-not-think', 'object': 'so.-I-think-it-has-to-do-with-the-fact-that-you-are-responsible-for-the-care-of-the-child.'}\n",
      "initial triple: {'subject': 'No,-I', 'predicate': 'do-not-think', 'object': 'so.-I-think-it-has-to-do-with-the-fact-that-you-are-responsible-for-the-care-of-the-child.'}\n",
      "initial triple: {'subject': 'No,-I', 'predicate': 'do-not-think', 'object': 'so.-I-think-it-has-to-do-with-the-fact-that-you-are-responsible-for-the-care-of-the-child.'}\n",
      "initial triple: {'subject': 'No,-I', 'predicate': 'do-not-think', 'object': 'so.-I-think-it-has-to-do-with-the-fact-that-you-are-responsible-for-the-care-of-the-child.'}\n",
      "initial triple: {'subject': 'No,-I', 'predicate': 'do-not-think', 'object': 'so.-I-think-it-has-to-do-with-the-fact-that-you-are-responsible-for-the-care-of-the-child.'}\n",
      "initial triple: {'subject': 'No,-I', 'predicate': 'do-not-think', 'object': 'so.-I-think-it-has-to-do-with-the-fact-that-you-are-responsible-for-the-care-of-the-child.'}\n",
      "initial triple: {'subject': 'No,-I', 'predicate': 'do-not-think', 'object': 'so.-I-think-it-has-to-do-with-the-fact-that-you-are-responsible-for-the-care-of-the-child.'}\n",
      "initial triple: {'subject': 'No,-I', 'predicate': 'do-not-think', 'object': 'so.-I-think-it-has-to-do-with-the-fact-that-you-are-responsible-for-the-care-of-the-child.'}\n",
      "initial triple: {'subject': 'No,-I', 'predicate': 'do-not-think', 'object': 'so.-I-think-it-has-to-do-with-the-fact-that-you-are-responsible-for-the-care-of-the-child.'}\n",
      "initial triple: {'subject': 'No,-I', 'predicate': 'do-not-think', 'object': 'so.-I-think-it-has-to-do-with-the-fact-that-you-are-responsible-for-the-care-of-the-child.'}\n",
      "initial triple: {'subject': 'No,-I', 'predicate': 'do-not-think', 'object': 'so.-I-think-it-has-to-do-with-the-fact-that-you-are-responsible-for-the-care-of-the-child.'}\n",
      "initial triple: {'subject': 'No,-I', 'predicate': 'do-not-think', 'object': 'so.-I-think-it-has-to-do-with-the-fact-that-you-are-responsible-for-the-care-of-the-child.'}\n",
      "initial triple: {'subject': 'No,-I', 'predicate': 'do-not-think', 'object': 'so.-I-think-it-has-to-do-with-the-fact-that-you-are-responsible-for-the-care-of-the-child.'}\n",
      "initial triple: {'subject': 'No,-I', 'predicate': 'do-not-think', 'object': 'so.-I-think-it-has-to-do-with-the-fact-that-you-are-responsible-for-the-care-of-the-child.'}\n",
      "initial triple: {'subject': 'No,-I', 'predicate': 'do-not-think', 'object': 'so.-I-think-it-has-to-do-with-the-fact-that-you-are-responsible-for-the-care-of-the-child.'}\n",
      "initial triple: {'subject': 'No,-I', 'predicate': 'do-not-think', 'object': 'so.-I-think-it-has-to-do-with-the-fact-that-you-are-responsible-for-the-care-of-the-child.'}\n",
      "initial triple: {'subject': 'No,-I', 'predicate': 'do-not-think', 'object': 'so.-I-think-it-has-to-do-with-the-fact-that-you-are-responsible-for-the-care-of-the-child.'}\n",
      "initial triple: {'subject': 'No,-I', 'predicate': 'do-not-think', 'object': 'so.-I-think-it-has-to-do-with-the-fact-that-you-are-responsible-for-the-care-of-the-child.'}\n",
      "initial triple: {'subject': 'No,-I', 'predicate': 'do-not-think', 'object': 'so.-I-think-it-has-to-do-with-the-fact-that-you-are-responsible-for-the-care-of-the-child.'}\n",
      "initial triple: {'subject': 'No,-I', 'predicate': 'do-not-think', 'object': 'so.-I-think-it-has-to-do-with-the-fact-that-you-are-responsible-for-the-care-of-the-child.'}\n",
      "initial triple: {'subject': 'No,-I', 'predicate': 'do-not-think', 'object': 'so.-I-think-it-has-to-do-with-the-fact-that-you-are-responsible-for-the-care-of-the-child.'}\n",
      "initial triple: {'subject': 'No,-I', 'predicate': 'do-not-think', 'object': 'so.-I-think-it-has-to-do-with-the-fact-that-you-are-responsible-for-the-care-of-the-child.'}\n",
      "initial triple: {'subject': 'No,-I', 'predicate': 'do-not-think', 'object': 'so.-I-think-it-has-to-do-with-the-fact-that-you-are-responsible-for-the-care-of-the-child.'}\n",
      "initial triple: {'subject': 'No,-I', 'predicate': 'do-not-think', 'object': 'so.-I-think-it-has-to-do-with-the-fact-that-you-are-responsible-for-the-care-of-the-child.'}\n",
      "initial triple: {'subject': 'No,-I', 'predicate': 'do-not-think', 'object': 'so.-I-think-it-has-to-do-with-the-fact-that-you-are-responsible-for-the-care-of-the-child.'}\n",
      "initial triple: {'subject': 'No,-I', 'predicate': 'do-not-think', 'object': 'so.-I-think-it-has-to-do-with-the-fact-that-you-are-responsible-for-the-care-of-the-child.'}\n",
      "initial triple: {'subject': 'No,-I', 'predicate': 'do-not-think', 'object': 'so.-I-think-it-has-to-do-with-the-fact-that-you-are-responsible-for-the-care-of-the-child.'}\n",
      "initial triple: {'subject': 'No,-I', 'predicate': 'do-not-think', 'object': 'so.-I-think-it-has-to-do-with-the-fact-that-you-are-responsible-for-the-care-of-the-child.'}\n",
      "initial triple: {'subject': 'No,-I', 'predicate': 'do-not-think', 'object': 'so.-I-think-it-has-to-do-with-the-fact-that-you-are-responsible-for-the-care-of-the-child.'}\n",
      "initial triple: {'subject': 'No,-I', 'predicate': 'do-not-think', 'object': 'so.-I-think-it-has-to-do-with-the-fact-that-you-are-responsible-for-the-care-of-the-child.'}\n",
      "initial triple: {'subject': 'No,-I', 'predicate': 'do-not-think', 'object': 'so.-I-think-it-has-to-do-with-the-fact-that-you-are-responsible-for-the-care-of-the-child.'}\n",
      "initial triple: {'subject': 'No,-I', 'predicate': 'do-not-think', 'object': 'so.-I-think-it-has-to-do-with-the-fact-that-you-are-responsible-for-the-care-of-the-child.'}\n",
      "initial triple: {'subject': 'No,-I', 'predicate': 'do-not-think', 'object': 'so.-I-think-it-has-to-do-with-the-fact-that-you-are-responsible-for-the-care-of-the-child.'}\n",
      "initial triple: {'subject': 'No,-I', 'predicate': 'do-not-think', 'object': 'so.-I-think-it-has-to-do-with-the-fact-that-you-are-responsible-for-the-care-of-the-child.'}\n",
      "initial triple: {'subject': 'No,-I', 'predicate': 'do-not-think', 'object': 'so.-I-think-it-has-to-do-with-the-fact-that-you-are-responsible-for-the-care-of-the-child.'}\n",
      "initial triple: {'subject': 'No,-I', 'predicate': 'do-not-think', 'object': 'so.-I-think-it-has-to-do-with-the-fact-that-you-are-responsible-for-the-care-of-the-child.'}\n",
      "initial triple: {'subject': 'No,-I', 'predicate': 'do-not-think', 'object': 'so.-I-think-it-has-to-do-with-the-fact-that-you-are-responsible-for-the-care-of-the-child.'}\n",
      "initial triple: {'subject': 'No,-I', 'predicate': 'do-not-think', 'object': 'so.-I-think-it-has-to-do-with-the-fact-that-you-are-responsible-for-the-care-of-the-child.'}\n",
      "initial triple: {'subject': 'No,-I', 'predicate': 'do-not-think', 'object': 'so.-I-think-it-has-to-do-with-the-fact-that-you-are-responsible-for-the-care-of-the-child.'}\n",
      "initial triple: {'subject': 'No,-I', 'predicate': 'do-not-think', 'object': 'so.-I-think-it-has-to-do-with-the-fact-that-you-are-responsible-for-the-care-of-the-child.'}\n",
      "initial triple: {'subject': 'No,-I', 'predicate': 'do-not-think', 'object': 'so.-I-think-it-has-to-do-with-the-fact-that-you-are-responsible-for-the-care-of-the-child.'}\n",
      "initial triple: {'subject': 'No,-I', 'predicate': 'do-not-think', 'object': 'so.-I-think-it-has-to-do-with-the-fact-that-you-are-responsible-for-the-care-of-the-child.'}\n",
      "initial triple: {'subject': 'No,-I', 'predicate': 'do-not-think', 'object': 'so.-I-think-it-has-to-do-with-the-fact-that-you-are-responsible-for-the-care-of-the-child.'}\n",
      "initial triple: {'subject': 'No,-I', 'predicate': 'do-not-think', 'object': 'so.-I-think-it-has-to-do-with-the-fact-that-you-are-responsible-for-the-care-of-the-child.'}\n",
      "initial triple: {'subject': 'No,-I', 'predicate': 'do-not-think', 'object': 'so.-I-think-it-has-to-do-with-the-fact-that-you-are-responsible-for-the-care-of-the-child.'}\n",
      "initial triple: {'subject': 'No,-I', 'predicate': 'do-not-think', 'object': 'so.-I-think-it-has-to-do-with-the-fact-that-you-are-responsible-for-the-care-of-the-child.'}\n",
      "initial triple: {'subject': 'No,-I', 'predicate': 'do-not-think', 'object': 'so.-I-think-it-has-to-do-with-the-fact-that-you-are-responsible-for-the-care-of-the-child.'}\n",
      "initial triple: {'subject': 'No,-I', 'predicate': 'do-not-think', 'object': 'so.-I-think-it-has-to-do-with-the-fact-that-you-are-responsible-for-the-care-of-the-child.'}\n",
      "initial triple: {'subject': 'No,-I', 'predicate': 'do-not-think', 'object': 'so.-I-think-it-has-to-do-with-the-fact-that-you-are-responsible-for-the-care-of-the-child.'}\n",
      "initial triple: {'subject': 'No,-I', 'predicate': 'do-not-think', 'object': 'so.-I-think-it-has-to-do-with-the-fact-that-you-are-responsible-for-the-care-of-the-child.'}\n",
      "initial triple: {'subject': 'No,-I', 'predicate': 'do-not-think', 'object': 'so.-I-think-it-has-to-do-with-the-fact-that-you-are-responsible-for-the-care-of-the-child.'}\n",
      "initial triple: {'subject': 'No,-I', 'predicate': 'do-not-think', 'object': 'so.-I-think-it-has-to-do-with-the-fact-that-you-are-responsible-for-the-care-of-the-child.'}\n",
      "initial triple: {'subject': 'No,-I', 'predicate': 'do-not-think', 'object': 'so.-I-think-it-has-to-do-with-the-fact-that-you-are-responsible-for-the-care-of-the-child.'}\n",
      "initial triple: {'subject': 'No,-I', 'predicate': 'do-not-think', 'object': 'so.-I-think-it-has-to-do-with-the-fact-that-you-are-responsible-for-the-care-of-the-child.'}\n",
      "initial triple: {'subject': 'No,-I', 'predicate': 'do-not-think', 'object': 'so.-I-think-it-has-to-do-with-the-fact-that-you-are-responsible-for-the-care-of-the-child.'}\n"
     ]
    },
    {
     "name": "stderr",
     "output_type": "stream",
     "text": [
      "Couldn't parse input\n",
      "Couldn't parse input\n",
      "Couldn't parse input\n",
      "Couldn't parse input\n",
      "Couldn't parse input\n",
      "Couldn't parse input\n",
      "Couldn't parse input\n",
      "Couldn't parse input\n",
      "Couldn't parse input\n",
      "Couldn't parse input\n",
      "Couldn't parse input\n",
      "Couldn't parse input\n",
      "Couldn't parse input\n",
      "Couldn't parse input\n",
      "Couldn't parse input\n",
      "Couldn't parse input\n",
      "Couldn't parse input\n"
     ]
    },
    {
     "name": "stdout",
     "output_type": "stream",
     "text": [
      "initial triple: {'subject': 'No,-I', 'predicate': 'do-not-think', 'object': 'so.-I-think-it-has-to-do-with-the-fact-that-you-are-responsible-for-the-care-of-the-child.'}\n",
      "initial triple: {'subject': 'No,-I', 'predicate': 'do-not-think', 'object': 'so.-I-think-it-has-to-do-with-the-fact-that-you-are-responsible-for-the-care-of-the-child.'}\n",
      "initial triple: {'subject': 'No,-I', 'predicate': 'do-not-think', 'object': 'so.-I-think-it-has-to-do-with-the-fact-that-you-are-responsible-for-the-care-of-the-child.'}\n",
      "initial triple: {'subject': 'No,-I', 'predicate': 'do-not-think', 'object': 'so.-I-think-it-has-to-do-with-the-fact-that-you-are-responsible-for-the-care-of-the-child.'}\n",
      "initial triple: {'subject': 'No,-I', 'predicate': 'do-not-think', 'object': 'so.-I-think-it-has-to-do-with-the-fact-that-you-are-responsible-for-the-care-of-the-child.'}\n",
      "initial triple: {'subject': 'No,-I', 'predicate': 'do-not-think', 'object': 'so.-I-think-it-has-to-do-with-the-fact-that-you-are-responsible-for-the-care-of-the-child.'}\n",
      "initial triple: {'subject': 'No,-I', 'predicate': 'do-not-think', 'object': 'so.-I-think-it-has-to-do-with-the-fact-that-you-are-responsible-for-the-care-of-the-child.'}\n",
      "initial triple: {'subject': 'No,-I', 'predicate': 'do-not-think', 'object': 'so.-I-think-it-has-to-do-with-the-fact-that-you-are-responsible-for-the-care-of-the-child.'}\n",
      "initial triple: {'subject': 'No,-I', 'predicate': 'do-not-think', 'object': 'so.-I-think-it-has-to-do-with-the-fact-that-you-are-responsible-for-the-care-of-the-child.'}\n",
      "initial triple: {'subject': 'No,-I', 'predicate': 'do-not-think', 'object': 'so.-I-think-it-has-to-do-with-the-fact-that-you-are-responsible-for-the-care-of-the-child.'}\n",
      "initial triple: {'subject': 'No,-I', 'predicate': 'do-not-think', 'object': 'so.-I-think-it-has-to-do-with-the-fact-that-you-are-responsible-for-the-care-of-the-child.'}\n",
      "initial triple: {'subject': 'No,-I', 'predicate': 'do-not-think', 'object': 'so.-I-think-it-has-to-do-with-the-fact-that-you-are-responsible-for-the-care-of-the-child.'}\n",
      "initial triple: {'subject': 'No,-I', 'predicate': 'do-not-think', 'object': 'so.-I-think-it-has-to-do-with-the-fact-that-you-are-responsible-for-the-care-of-the-child.'}\n",
      "initial triple: {'subject': 'No,-I', 'predicate': 'do-not-think', 'object': 'so.-I-think-it-has-to-do-with-the-fact-that-you-are-responsible-for-the-care-of-the-child.'}\n",
      "initial triple: {'subject': 'No,-I', 'predicate': 'do-not-think', 'object': 'so.-I-think-it-has-to-do-with-the-fact-that-you-are-responsible-for-the-care-of-the-child.'}\n",
      "initial triple: {'subject': 'No,-I', 'predicate': 'do-not-think', 'object': 'so.-I-think-it-has-to-do-with-the-fact-that-you-are-responsible-for-the-care-of-the-child.'}\n",
      "initial triple: {'subject': 'No,-I', 'predicate': 'do-not-think', 'object': 'so.-I-think-it-has-to-do-with-the-fact-that-you-are-responsible-for-the-care-of-the-child.'}\n",
      "\n",
      "\tLeolani2: Be that as it may, still may it be as it may be\n",
      " That's what I'm trying to keep my head up about, but it's hard sometimes.\n",
      "\n",
      "\tBLENDER:  That's what I'm trying to keep my head up about, but it's hard sometimes.\n",
      "2021-12-16 17:57:00,046 -     INFO - cltl.triple_extraction.api.Chat (BLENDER)           154 -    BLENDER: \"That's what I'm trying to keep my head up about, but it's hard sometimes.\"\n"
     ]
    },
    {
     "name": "stderr",
     "output_type": "stream",
     "text": [
      "Couldn't parse input\n"
     ]
    },
    {
     "name": "stdout",
     "output_type": "stream",
     "text": [
      "\n",
      "\tLeolani2: And thus, I die\n",
      " I'm so sorry to hear that. I hope you have a good life ahead of you.\n",
      "\n",
      "\tBLENDER:  I'm so sorry to hear that. I hope you have a good life ahead of you.\n",
      "2021-12-16 17:57:04,956 -     INFO - cltl.triple_extraction.api.Chat (BLENDER)           155 -    BLENDER: \"I'm so sorry to hear that. I hope you have a good life ahead of you.\"\n"
     ]
    },
    {
     "name": "stderr",
     "output_type": "stream",
     "text": [
      "Couldn't parse input\n"
     ]
    },
    {
     "name": "stdout",
     "output_type": "stream",
     "text": [
      "\n",
      "\tLeolani2: That's just what he/she/they would've said\n",
      " That's what I thought too, but I was wrong.  I felt so bad for him.\n",
      "\n",
      "\tBLENDER:  That's what I thought too, but I was wrong.  I felt so bad for him.\n",
      "2021-12-16 17:57:10,080 -     INFO - cltl.triple_extraction.api.Chat (BLENDER)           156 -    BLENDER: \"That's what I thought too, but I was wrong. I felt so bad for him.\"\n"
     ]
    },
    {
     "name": "stderr",
     "output_type": "stream",
     "text": [
      "Couldn't parse input\n"
     ]
    },
    {
     "name": "stdout",
     "output_type": "stream",
     "text": [
      "\n",
      "\tLeolani2: Now I have seen this too\n",
      " I was so shocked.  I thought I was going to have a heart attack.\n",
      "\n",
      "\tBLENDER:  I was so shocked.  I thought I was going to have a heart attack.\n",
      "2021-12-16 17:57:19,475 -     INFO - cltl.triple_extraction.api.Chat (BLENDER)           157 -    BLENDER: \"I was so shocked. I thought I was going to have a heart attack.\"\n",
      "initial triple: {'subject': 'I', 'predicate': 'was', 'object': 'so-shocked.-I-thought-I-was-going-to-have-a-heart-attack.'}\n",
      "2021-12-16 17:57:19,583 -     INFO -    cltl.brain.basic_brain.LongTermMemory - Triple in statement: blender_be-so_shocked-i-thought-i-was-going-to-have-a-heart-attack [artifact or object_->_agent])\n",
      "2021-12-16 17:57:19,630 -     INFO -  cltl.brain.basic_brain.ThoughtGenerator - Statement Novelty: 1 times, e.g. blender on December,2021\n",
      "2021-12-16 17:57:23,385 -     INFO -  cltl.brain.basic_brain.ThoughtGenerator - Negation Conflicts: blender on December,2021 about POSITIVE\n",
      "2021-12-16 17:57:23,482 -     INFO -  cltl.brain.basic_brain.ThoughtGenerator - Gaps: 26 gaps as subject: e.g. work-at institution - 17 gaps as object: e.g. own agent\n",
      "2021-12-16 17:57:23,536 -     INFO -  cltl.brain.basic_brain.ThoughtGenerator - Gaps: 18 gaps as subject: e.g. play song - 10 gaps as object: e.g. know agent\n",
      "\n",
      "\tLeolani2: That rings a bell. blender told me about it in 2021 12 16T00:00:00\n",
      " Wow, that's a long time ago.  I wonder if it's still around today.\n",
      "\n",
      "\tBLENDER:  Wow, that's a long time ago.  I wonder if it's still around today.\n",
      "2021-12-16 17:57:28,159 -     INFO - cltl.triple_extraction.api.Chat (BLENDER)           158 -    BLENDER: \"Wow, that's a long time ago. I wonder if it's still around today.\"\n"
     ]
    },
    {
     "name": "stderr",
     "output_type": "stream",
     "text": [
      "Couldn't parse input\n"
     ]
    },
    {
     "name": "stdout",
     "output_type": "stream",
     "text": [
      "\n",
      "\tLeolani2: As the prophecy foretold\n",
      " Do you have a prophecetor for your wedding? I have never been married.\n",
      "\n",
      "\tBLENDER:  Do you have a prophecetor for your wedding? I have never been married.\n",
      "2021-12-16 17:57:33,067 -     INFO - cltl.triple_extraction.api.Chat (BLENDER)           159 -    BLENDER: \"Do you have a prophecetor for your wedding? I have never been married.\"\n"
     ]
    },
    {
     "name": "stderr",
     "output_type": "stream",
     "text": [
      "Couldn't parse input\n"
     ]
    },
    {
     "name": "stdout",
     "output_type": "stream",
     "text": [
      "\n",
      "\tLeolani2: But at what cost?\n",
      " I'm not sure yet, but I think it's going to cost me a lot.\n",
      "\n",
      "\tBLENDER:  I'm not sure yet, but I think it's going to cost me a lot.\n",
      "2021-12-16 17:57:39,257 -     INFO - cltl.triple_extraction.api.Chat (BLENDER)           160 -    BLENDER: \"I'm not sure yet, but I think it's going to cost me a lot.\"\n"
     ]
    },
    {
     "name": "stderr",
     "output_type": "stream",
     "text": [
      "Couldn't parse input\n"
     ]
    },
    {
     "name": "stdout",
     "output_type": "stream",
     "text": [
      "\n",
      "\tLeolani2: That's just what he/she/they would've said\n",
      " That's what I thought too, but I was wrong.  I felt so bad for him.\n",
      "\n",
      "\tBLENDER:  That's what I thought too, but I was wrong.  I felt so bad for him.\n",
      "2021-12-16 17:57:44,336 -     INFO - cltl.triple_extraction.api.Chat (BLENDER)           161 -    BLENDER: \"That's what I thought too, but I was wrong. I felt so bad for him.\"\n"
     ]
    },
    {
     "name": "stderr",
     "output_type": "stream",
     "text": [
      "Couldn't parse input\n"
     ]
    },
    {
     "name": "stdout",
     "output_type": "stream",
     "text": [
      "\n",
      "\tLeolani2: May I ask you why?\n",
      " I don't know, I guess I just feel like I'm not good enough for them.\n",
      "\n",
      "\tBLENDER:  I don't know, I guess I just feel like I'm not good enough for them.\n",
      "2021-12-16 17:57:52,909 -     INFO - cltl.triple_extraction.api.Chat (BLENDER)           162 -    BLENDER: \"I don't know, I guess I just feel like I'm not good enough for them.\"\n",
      "initial triple: {'subject': 'I', 'predicate': 'do-not-know,', 'object': 'I-guess-I-just-feel-like-I-am-not-good-enough-for-them.'}\n",
      "2021-12-16 17:57:52,941 -     INFO -    cltl.brain.basic_brain.LongTermMemory - Triple in statement: blender_know_i-guess-i-just-feel-like-i-am-not-good-enough-for-them [artifact or object_->_person])\n",
      "2021-12-16 17:57:52,983 -     INFO -  cltl.brain.basic_brain.ThoughtGenerator - Statement Novelty: 1 times, e.g. blender on December,2021\n",
      "2021-12-16 17:57:56,884 -     INFO -  cltl.brain.basic_brain.ThoughtGenerator - Gaps: 26 gaps as subject: e.g. be-friends-with person - 17 gaps as object: e.g. be-ancestor-of person\n",
      "2021-12-16 17:57:56,979 -     INFO -  cltl.brain.basic_brain.ThoughtGenerator - Gaps: 26 gaps as subject: e.g. be-parent-of person - 15 gaps as object: e.g. like agent\n",
      "\n",
      "\tLeolani2: If you don't mind me asking. Has i guess i just feel like i am not good enough for them dislike by a agent?\n",
      " I don't think so. I think they just want to make sure you have a good experience.\n",
      "\n",
      "\tBLENDER:  I don't think so. I think they just want to make sure you have a good experience.\n",
      "2021-12-16 17:58:26,174 -     INFO - cltl.triple_extraction.api.Chat (BLENDER)           163 -    BLENDER: \"I don't think so. I think they just want to make sure you have a good experience.\"\n",
      "initial triple: {'subject': 'I', 'predicate': 'do-not-think', 'object': 'so.-I-think-they-just-want-to-make-sure-you-have-a-good-experience.'}\n",
      "2021-12-16 17:58:26,287 -     INFO -    cltl.brain.basic_brain.LongTermMemory - Triple in statement: blender_think-so_i-think-they-just-want-to-make-sure-you-have-a-good-experience [artifact or object_->_person])\n",
      "2021-12-16 17:58:26,382 -     INFO -  cltl.brain.basic_brain.ThoughtGenerator - Entity Novelty: existing subject - new object \n",
      "2021-12-16 17:58:30,132 -     INFO -  cltl.brain.basic_brain.ThoughtGenerator - Gaps: 26 gaps as subject: e.g. work-at institution - 17 gaps as object: e.g. write-by book\n",
      "2021-12-16 17:58:30,191 -     INFO -  cltl.brain.basic_brain.ThoughtGenerator - Gaps: 26 gaps as subject: e.g. play song - 15 gaps as object: e.g. cook-by dish\n",
      "\n",
      "\tLeolani2: I just learned something, I did not know anybody who think so i think they just want to make sure you have a good experience\n",
      " That's a good way to look at it. I'm sure I'll have a great time.\n",
      "\n",
      "\tBLENDER:  That's a good way to look at it. I'm sure I'll have a great time.\n",
      "2021-12-16 17:58:35,800 -     INFO - cltl.triple_extraction.api.Chat (BLENDER)           164 -    BLENDER: \"That's a good way to look at it. I'm sure I'll have a great time.\"\n"
     ]
    },
    {
     "name": "stderr",
     "output_type": "stream",
     "text": [
      "Couldn't parse input\n"
     ]
    },
    {
     "name": "stdout",
     "output_type": "stream",
     "text": [
      "\n",
      "\tLeolani2: Is this why fate brought us together?\n",
      " I don't think so.  I think it was because I was the only one with a car.\n",
      "\n",
      "\tBLENDER:  I don't think so.  I think it was because I was the only one with a car.\n",
      "2021-12-16 17:59:33,376 -     INFO - cltl.triple_extraction.api.Chat (BLENDER)           165 -    BLENDER: \"I don't think so. I think it was because I was the only one with a car.\"\n",
      "initial triple: {'subject': 'I', 'predicate': 'do-not-think', 'object': 'so.-I-think-it-was-because-I-was-the-only-one-with-a-car.'}\n",
      "2021-12-16 17:59:33,443 -     INFO -    cltl.brain.basic_brain.LongTermMemory - Triple in statement: blender_think-so_i-think-it-was-because-i-was-the-only-one-with-a-car [artifact or object_->_person])\n",
      "2021-12-16 17:59:33,486 -     INFO -  cltl.brain.basic_brain.ThoughtGenerator - Statement Novelty: 1 times, e.g. blender on December,2021\n",
      "2021-12-16 17:59:37,292 -     INFO -  cltl.brain.basic_brain.ThoughtGenerator - Gaps: 26 gaps as subject: e.g. dislike interest - 17 gaps as object: e.g. be-friends-with person\n",
      "2021-12-16 17:59:37,385 -     INFO -  cltl.brain.basic_brain.ThoughtGenerator - Gaps: 26 gaps as subject: e.g. be-from location - 15 gaps as object: e.g. favorite-of interest\n",
      "\n",
      "\tLeolani2: I did not know that! I had never heard about i think it was because i was the only one with a car before!\n",
      " I was the same way! It's crazy to think about how far we've come since then.\n",
      "\n",
      "\tBLENDER:  I was the same way! It's crazy to think about how far we've come since then.\n",
      "2021-12-16 17:59:43,912 -     INFO - cltl.triple_extraction.api.Chat (BLENDER)           166 -    BLENDER: \"I was the same way! It's crazy to think about how far we've come since then.\"\n"
     ]
    },
    {
     "name": "stderr",
     "output_type": "stream",
     "text": [
      "Couldn't parse input\n"
     ]
    },
    {
     "name": "stdout",
     "output_type": "stream",
     "text": [
      "\n",
      "\tLeolani2: As the prophecy foretold\n",
      " Do you have a prophecetor for your wedding? I have never been married.\n",
      "\n",
      "\tBLENDER:  Do you have a prophecetor for your wedding? I have never been married.\n",
      "2021-12-16 17:59:48,782 -     INFO - cltl.triple_extraction.api.Chat (BLENDER)           167 -    BLENDER: \"Do you have a prophecetor for your wedding? I have never been married.\"\n"
     ]
    },
    {
     "name": "stderr",
     "output_type": "stream",
     "text": [
      "Couldn't parse input\n"
     ]
    },
    {
     "name": "stdout",
     "output_type": "stream",
     "text": [
      "\n",
      "\tLeolani2: But at what cost?\n",
      " I'm not sure yet, but I think it's going to cost me a lot.\n",
      "\n",
      "\tBLENDER:  I'm not sure yet, but I think it's going to cost me a lot.\n",
      "2021-12-16 17:59:54,948 -     INFO - cltl.triple_extraction.api.Chat (BLENDER)           168 -    BLENDER: \"I'm not sure yet, but I think it's going to cost me a lot.\"\n"
     ]
    },
    {
     "name": "stderr",
     "output_type": "stream",
     "text": [
      "Couldn't parse input\n"
     ]
    },
    {
     "name": "stdout",
     "output_type": "stream",
     "text": [
      "\n",
      "\tLeolani2: Be that as it may, still may it be as it may be\n",
      " That's what I'm trying to keep my head up about, but it's hard sometimes.\n",
      "\n",
      "\tBLENDER:  That's what I'm trying to keep my head up about, but it's hard sometimes.\n",
      "2021-12-16 18:00:00,368 -     INFO - cltl.triple_extraction.api.Chat (BLENDER)           169 -    BLENDER: \"That's what I'm trying to keep my head up about, but it's hard sometimes.\"\n"
     ]
    },
    {
     "name": "stderr",
     "output_type": "stream",
     "text": [
      "Couldn't parse input\n"
     ]
    },
    {
     "name": "stdout",
     "output_type": "stream",
     "text": [
      "\n",
      "\tLeolani2: That's just what he/she/they would've said\n",
      " That's what I thought too, but I was wrong.  I felt so bad for him.\n",
      "\n",
      "\tBLENDER:  That's what I thought too, but I was wrong.  I felt so bad for him.\n",
      "2021-12-16 18:00:05,468 -     INFO - cltl.triple_extraction.api.Chat (BLENDER)           170 -    BLENDER: \"That's what I thought too, but I was wrong. I felt so bad for him.\"\n"
     ]
    },
    {
     "name": "stderr",
     "output_type": "stream",
     "text": [
      "Couldn't parse input\n"
     ]
    },
    {
     "name": "stdout",
     "output_type": "stream",
     "text": [
      "\n",
      "\tLeolani2: That's just what he/she/they would've said\n",
      " That's what I thought too, but I was wrong.  I felt so bad for him.\n",
      "\n",
      "\tBLENDER:  That's what I thought too, but I was wrong.  I felt so bad for him.\n",
      "2021-12-16 18:00:10,552 -     INFO - cltl.triple_extraction.api.Chat (BLENDER)           171 -    BLENDER: \"That's what I thought too, but I was wrong. I felt so bad for him.\"\n"
     ]
    },
    {
     "name": "stderr",
     "output_type": "stream",
     "text": [
      "Couldn't parse input\n"
     ]
    },
    {
     "name": "stdout",
     "output_type": "stream",
     "text": [
      "\n",
      "\tLeolani2: But at what cost?\n",
      " I'm not sure yet, but I think it's going to cost me a lot.\n",
      "\n",
      "\tBLENDER:  I'm not sure yet, but I think it's going to cost me a lot.\n",
      "2021-12-16 18:00:16,717 -     INFO - cltl.triple_extraction.api.Chat (BLENDER)           172 -    BLENDER: \"I'm not sure yet, but I think it's going to cost me a lot.\"\n"
     ]
    },
    {
     "name": "stderr",
     "output_type": "stream",
     "text": [
      "Couldn't parse input\n"
     ]
    },
    {
     "name": "stdout",
     "output_type": "stream",
     "text": [
      "\n",
      "\tLeolani2: There is no escape from destiny\n",
      " I know, but I can't wait for it to be over. I've been waiting for this game for so long.\n",
      "\n",
      "\tBLENDER:  I know, but I can't wait for it to be over. I've been waiting for this game for so long.\n",
      "2021-12-16 18:00:22,201 -     INFO - cltl.triple_extraction.api.Chat (BLENDER)           173 -    BLENDER: \"I know, but I can't wait for it to be over. I've been waiting for this game for so long.\"\n"
     ]
    },
    {
     "name": "stderr",
     "output_type": "stream",
     "text": [
      "Couldn't parse input\n"
     ]
    },
    {
     "name": "stdout",
     "output_type": "stream",
     "text": [
      "\n",
      "\tLeolani2: That's just what he/she/they would've said\n",
      " That's what I thought too, but I was wrong.  I felt so bad for him.\n",
      "\n",
      "\tBLENDER:  That's what I thought too, but I was wrong.  I felt so bad for him.\n",
      "2021-12-16 18:00:27,310 -     INFO - cltl.triple_extraction.api.Chat (BLENDER)           174 -    BLENDER: \"That's what I thought too, but I was wrong. I felt so bad for him.\"\n"
     ]
    },
    {
     "name": "stderr",
     "output_type": "stream",
     "text": [
      "Couldn't parse input\n"
     ]
    },
    {
     "name": "stdout",
     "output_type": "stream",
     "text": [
      "\n",
      "\tLeolani2: ... just like in my dream\n",
      " What kind of dream is it? I hope it's a good one.    What is it about your dream that makes you think about it?\n",
      "\n",
      "\tBLENDER:  What kind of dream is it? I hope it's a good one.    What is it about your dream that makes you think about it?\n",
      "2021-12-16 18:00:33,555 -     INFO - cltl.triple_extraction.api.Chat (BLENDER)           175 -    BLENDER: \"What kind of dream is it? I hope it's a good one. What is it about your dream that makes you think about it?\"\n"
     ]
    },
    {
     "name": "stderr",
     "output_type": "stream",
     "text": [
      "Couldn't parse input\n"
     ]
    },
    {
     "name": "stdout",
     "output_type": "stream",
     "text": [
      "\n",
      "\tLeolani2: So ... it   has come to this\n",
      " Yes, it has.  I am so happy for you.  You must be so proud of yourself.\n",
      "\n",
      "\tBLENDER:  Yes, it has.  I am so happy for you.  You must be so proud of yourself.\n",
      "2021-12-16 18:00:38,312 -     INFO - cltl.triple_extraction.api.Chat (BLENDER)           176 -    BLENDER: \"Yes, it has. I am so happy for you. You must be so proud of yourself.\"\n"
     ]
    },
    {
     "name": "stderr",
     "output_type": "stream",
     "text": [
      "Couldn't parse input\n"
     ]
    },
    {
     "name": "stdout",
     "output_type": "stream",
     "text": [
      "\n",
      "\tLeolani2: Why?\n",
      " I don't know. I just feel like I'm not good enough for them. I feel like they don't deserve me.\n",
      "\n",
      "\tBLENDER:  I don't know. I just feel like I'm not good enough for them. I feel like they don't deserve me.\n",
      "2021-12-16 18:00:49,551 -     INFO - cltl.triple_extraction.api.Chat (BLENDER)           177 -    BLENDER: \"I don't know. I just feel like I'm not good enough for them. I feel like they don't deserve me.\"\n",
      "initial triple: {'subject': 'I', 'predicate': 'do-not-know.', 'object': 'I-just-feel-like-I-am-not-good-enough-for-them.-I-feel-like-they-don-t-deserve-me.'}\n",
      "2021-12-16 18:00:49,641 -     INFO -    cltl.brain.basic_brain.LongTermMemory - Triple in statement: blender_know_i-just-feel-like-i-am-not-good-enough-for-them-i-feel-like-they-don-t-deserve-me [artifact or object_->_person])\n",
      "2021-12-16 18:00:49,688 -     INFO -  cltl.brain.basic_brain.ThoughtGenerator - Statement Novelty: 1 times, e.g. blender on December,2021\n",
      "2021-12-16 18:00:53,893 -     INFO -  cltl.brain.basic_brain.ThoughtGenerator - Gaps: 26 gaps as subject: e.g. experience touch - 17 gaps as object: e.g. like-by interest\n",
      "2021-12-16 18:00:53,983 -     INFO -  cltl.brain.basic_brain.ThoughtGenerator - Gaps: 26 gaps as subject: e.g. be-ancestor-of person - 15 gaps as object: e.g. like-by interest\n",
      "\n",
      "\tLeolani2: I am glad to have learned something new. I had never heard about i just feel like i am not good enough for them i feel like they don t deserve me before!\n",
      " I'm sorry to hear that.  I'm sure you are a great person.  Don't be so hard on yourself.\n",
      "\n",
      "\tBLENDER:  I'm sorry to hear that.  I'm sure you are a great person.  Don't be so hard on yourself.\n",
      "2021-12-16 18:01:00,117 -     INFO - cltl.triple_extraction.api.Chat (BLENDER)           178 -    BLENDER: \"I'm sorry to hear that. I'm sure you are a great person. Don't be so hard on yourself.\"\n"
     ]
    },
    {
     "name": "stderr",
     "output_type": "stream",
     "text": [
      "Couldn't parse input\n"
     ]
    },
    {
     "name": "stdout",
     "output_type": "stream",
     "text": [
      "\n",
      "\tLeolani2: Now I have seen this too\n",
      " I was so shocked.  I thought I was going to have a heart attack.\n",
      "\n",
      "\tBLENDER:  I was so shocked.  I thought I was going to have a heart attack.\n",
      "2021-12-16 18:01:09,277 -     INFO - cltl.triple_extraction.api.Chat (BLENDER)           179 -    BLENDER: \"I was so shocked. I thought I was going to have a heart attack.\"\n",
      "initial triple: {'subject': 'I', 'predicate': 'was', 'object': 'so-shocked.-I-thought-I-was-going-to-have-a-heart-attack.'}\n",
      "2021-12-16 18:01:09,345 -     INFO -    cltl.brain.basic_brain.LongTermMemory - Triple in statement: blender_be-so_shocked-i-thought-i-was-going-to-have-a-heart-attack [artifact or object_->_agent])\n",
      "2021-12-16 18:01:09,385 -     INFO -  cltl.brain.basic_brain.ThoughtGenerator - Statement Novelty: 1 times, e.g. blender on December,2021\n",
      "2021-12-16 18:01:13,388 -     INFO -  cltl.brain.basic_brain.ThoughtGenerator - Negation Conflicts: blender on December,2021 about POSITIVE\n",
      "2021-12-16 18:01:13,487 -     INFO -  cltl.brain.basic_brain.ThoughtGenerator - Gaps: 26 gaps as subject: e.g. experience taste - 17 gaps as object: e.g. like agent\n",
      "2021-12-16 18:01:13,586 -     INFO -  cltl.brain.basic_brain.ThoughtGenerator - Gaps: 18 gaps as subject: e.g. be-child-of agent - 10 gaps as object: e.g. like-by agent\n",
      "\n",
      "\tLeolani2: I would like to know. Has blender be child of agent?\n",
      " I don't think so, but I'm not sure if it's the same thing as a barista.\n",
      "\n",
      "\tBLENDER:  I don't think so, but I'm not sure if it's the same thing as a barista.\n",
      "2021-12-16 18:01:19,353 -     INFO - cltl.triple_extraction.api.Chat (BLENDER)           180 -    BLENDER: \"I don't think so, but I'm not sure if it's the same thing as a barista.\"\n"
     ]
    },
    {
     "name": "stderr",
     "output_type": "stream",
     "text": [
      "Couldn't parse input\n"
     ]
    },
    {
     "name": "stdout",
     "output_type": "stream",
     "text": [
      "\n",
      "\tLeolani2: Interesting\n",
      " Do you have any interesting facts about yourself? I'm interested in learning more about you.\n",
      "\n",
      "\tBLENDER:  Do you have any interesting facts about yourself? I'm interested in learning more about you.\n",
      "2021-12-16 18:01:23,475 -     INFO - cltl.triple_extraction.api.Chat (BLENDER)           181 -    BLENDER: \"Do you have any interesting facts about yourself? I'm interested in learning more about you.\"\n"
     ]
    },
    {
     "name": "stderr",
     "output_type": "stream",
     "text": [
      "Couldn't parse input\n"
     ]
    },
    {
     "name": "stdout",
     "output_type": "stream",
     "text": [
      "\n",
      "\tLeolani2: Many of us feel that way\n",
      " I know, I just feel like I'm not good enough and I don't know what to do.\n",
      "\n",
      "\tBLENDER:  I know, I just feel like I'm not good enough and I don't know what to do.\n",
      "2021-12-16 18:01:30,429 -     INFO - cltl.triple_extraction.api.Chat (BLENDER)           182 -    BLENDER: \"I know, I just feel like I'm not good enough and I don't know what to do.\"\n"
     ]
    },
    {
     "name": "stderr",
     "output_type": "stream",
     "text": [
      "Couldn't parse input\n"
     ]
    },
    {
     "name": "stdout",
     "output_type": "stream",
     "text": [
      "\n",
      "\tLeolani2: But at what cost?\n",
      " I'm not sure yet, but I think it's going to cost me a lot.\n",
      "\n",
      "\tBLENDER:  I'm not sure yet, but I think it's going to cost me a lot.\n",
      "2021-12-16 18:01:36,613 -     INFO - cltl.triple_extraction.api.Chat (BLENDER)           183 -    BLENDER: \"I'm not sure yet, but I think it's going to cost me a lot.\"\n"
     ]
    },
    {
     "name": "stderr",
     "output_type": "stream",
     "text": [
      "Couldn't parse input\n"
     ]
    },
    {
     "name": "stdout",
     "output_type": "stream",
     "text": [
      "\n",
      "\tLeolani2: So ... it   has come to this\n",
      " Yes, it has.  I am so happy for you.  You must be so proud of yourself.\n",
      "\n",
      "\tBLENDER:  Yes, it has.  I am so happy for you.  You must be so proud of yourself.\n",
      "2021-12-16 18:01:41,411 -     INFO - cltl.triple_extraction.api.Chat (BLENDER)           184 -    BLENDER: \"Yes, it has. I am so happy for you. You must be so proud of yourself.\"\n"
     ]
    },
    {
     "name": "stderr",
     "output_type": "stream",
     "text": [
      "Couldn't parse input\n"
     ]
    },
    {
     "name": "stdout",
     "output_type": "stream",
     "text": [
      "\n",
      "\tLeolani2: And thus, I die\n",
      " I'm so sorry to hear that. I hope you have a good life ahead of you.\n",
      "\n",
      "\tBLENDER:  I'm so sorry to hear that. I hope you have a good life ahead of you.\n",
      "2021-12-16 18:01:46,244 -     INFO - cltl.triple_extraction.api.Chat (BLENDER)           185 -    BLENDER: \"I'm so sorry to hear that. I hope you have a good life ahead of you.\"\n"
     ]
    },
    {
     "name": "stderr",
     "output_type": "stream",
     "text": [
      "Couldn't parse input\n"
     ]
    },
    {
     "name": "stdout",
     "output_type": "stream",
     "text": [
      "\n",
      "\tLeolani2: Now I have seen this too\n",
      " I was so shocked.  I thought I was going to have a heart attack.\n",
      "\n",
      "\tBLENDER:  I was so shocked.  I thought I was going to have a heart attack.\n",
      "2021-12-16 18:01:55,411 -     INFO - cltl.triple_extraction.api.Chat (BLENDER)           186 -    BLENDER: \"I was so shocked. I thought I was going to have a heart attack.\"\n",
      "initial triple: {'subject': 'I', 'predicate': 'was', 'object': 'so-shocked.-I-thought-I-was-going-to-have-a-heart-attack.'}\n",
      "2021-12-16 18:01:55,447 -     INFO -    cltl.brain.basic_brain.LongTermMemory - Triple in statement: blender_be-so_shocked-i-thought-i-was-going-to-have-a-heart-attack [artifact or object_->_agent])\n",
      "2021-12-16 18:01:55,489 -     INFO -  cltl.brain.basic_brain.ThoughtGenerator - Statement Novelty: 1 times, e.g. blender on December,2021\n",
      "2021-12-16 18:01:59,541 -     INFO -  cltl.brain.basic_brain.ThoughtGenerator - Negation Conflicts: blender on December,2021 about POSITIVE\n",
      "2021-12-16 18:01:59,593 -     INFO -  cltl.brain.basic_brain.ThoughtGenerator - Gaps: 26 gaps as subject: e.g. be-child-of agent - 17 gaps as object: e.g. favorite-of interest\n",
      "2021-12-16 18:01:59,642 -     INFO -  cltl.brain.basic_brain.ThoughtGenerator - Gaps: 18 gaps as subject: e.g. like interest - 10 gaps as object: e.g. like-by agent\n",
      "\n",
      "\tLeolani2: I am curious. Has a agent ever like by shocked i thought i was going to have a heart attack?\n",
      " I don't think so, but I did have to call the police because I was so freaked out.\n",
      "\n",
      "\tBLENDER:  I don't think so, but I did have to call the police because I was so freaked out.\n",
      "2021-12-16 18:02:05,120 -     INFO - cltl.triple_extraction.api.Chat (BLENDER)           187 -    BLENDER: \"I don't think so, but I did have to call the police because I was so freaked out.\"\n"
     ]
    },
    {
     "name": "stderr",
     "output_type": "stream",
     "text": [
      "Couldn't parse input\n"
     ]
    },
    {
     "name": "stdout",
     "output_type": "stream",
     "text": [
      "\n",
      "\tLeolani2: May I ask you why?\n",
      " I don't know, I guess I just feel like I'm not good enough for them.\n",
      "\n",
      "\tBLENDER:  I don't know, I guess I just feel like I'm not good enough for them.\n",
      "2021-12-16 18:02:13,650 -     INFO - cltl.triple_extraction.api.Chat (BLENDER)           188 -    BLENDER: \"I don't know, I guess I just feel like I'm not good enough for them.\"\n",
      "initial triple: {'subject': 'I', 'predicate': 'do-not-know,', 'object': 'I-guess-I-just-feel-like-I-am-not-good-enough-for-them.'}\n",
      "2021-12-16 18:02:13,753 -     INFO -    cltl.brain.basic_brain.LongTermMemory - Triple in statement: blender_know_i-guess-i-just-feel-like-i-am-not-good-enough-for-them [artifact or object_->_person])\n",
      "2021-12-16 18:02:13,796 -     INFO -  cltl.brain.basic_brain.ThoughtGenerator - Statement Novelty: 1 times, e.g. blender on December,2021\n",
      "2021-12-16 18:02:18,301 -     INFO -  cltl.brain.basic_brain.ThoughtGenerator - Gaps: 26 gaps as subject: e.g. know agent - 17 gaps as object: e.g. be-friends-with person\n",
      "2021-12-16 18:02:18,398 -     INFO -  cltl.brain.basic_brain.ThoughtGenerator - Gaps: 26 gaps as subject: e.g. experience smell - 15 gaps as object: e.g. be-friends-with person\n",
      "\n",
      "\tLeolani2: Let me ask you something. Has blender ever favorite of a interest?\n",
      " Not really. I don't really like the taste of it. I just don't like the way it makes me feel.\n",
      "\n",
      "\tBLENDER:  Not really. I don't really like the taste of it. I just don't like the way it makes me feel.\n",
      "2021-12-16 18:02:25,333 -     INFO - cltl.triple_extraction.api.Chat (BLENDER)           189 -    BLENDER: \"Not really. I don't really like the taste of it. I just don't like the way it makes me feel.\"\n"
     ]
    },
    {
     "name": "stderr",
     "output_type": "stream",
     "text": [
      "Couldn't parse input\n"
     ]
    },
    {
     "name": "stdout",
     "output_type": "stream",
     "text": [
      "\n",
      "\tLeolani2: Good to know\n",
      " Yes, it is. I am so happy for her. She is going to have a great life.\n",
      "\n",
      "\tBLENDER:  Yes, it is. I am so happy for her. She is going to have a great life.\n",
      "2021-12-16 18:02:29,795 -     INFO - cltl.triple_extraction.api.Chat (BLENDER)           190 -    BLENDER: \"Yes, it is. I am so happy for her. Tae is going to have a great life.\"\n"
     ]
    },
    {
     "name": "stderr",
     "output_type": "stream",
     "text": [
      "Couldn't parse input\n"
     ]
    },
    {
     "name": "stdout",
     "output_type": "stream",
     "text": [
      "\n",
      "\tLeolani2: I do frequently do not know things\n",
      " I'm sorry to hear that. Do you have any hobbies that you like to do?\n",
      "\n",
      "\tBLENDER:  I'm sorry to hear that. Do you have any hobbies that you like to do?\n",
      "2021-12-16 18:02:35,090 -     INFO - cltl.triple_extraction.api.Chat (BLENDER)           191 -    BLENDER: \"I'm sorry to hear that. Do you have any hobbies that you like to do?\"\n"
     ]
    },
    {
     "name": "stderr",
     "output_type": "stream",
     "text": [
      "Couldn't parse input\n"
     ]
    },
    {
     "name": "stdout",
     "output_type": "stream",
     "text": [
      "\n",
      "\tLeolani2: And thus, I die\n",
      " I'm so sorry to hear that. I hope you have a good life ahead of you.\n",
      "\n",
      "\tBLENDER:  I'm so sorry to hear that. I hope you have a good life ahead of you.\n",
      "2021-12-16 18:02:39,913 -     INFO - cltl.triple_extraction.api.Chat (BLENDER)           192 -    BLENDER: \"I'm so sorry to hear that. I hope you have a good life ahead of you.\"\n"
     ]
    },
    {
     "name": "stderr",
     "output_type": "stream",
     "text": [
      "Couldn't parse input\n"
     ]
    },
    {
     "name": "stdout",
     "output_type": "stream",
     "text": [
      "\n",
      "\tLeolani2: So let it be written, ... so let it be done\n",
      " I think I'm going to have to. I don't know if I'm ready yet.\n",
      "\n",
      "\tBLENDER:  I think I'm going to have to. I don't know if I'm ready yet.\n",
      "2021-12-16 18:02:49,035 -     INFO - cltl.triple_extraction.api.Chat (BLENDER)           193 -    BLENDER: \"I think I'm going to have to. I don't know if I'm ready yet.\"\n",
      "initial triple: {'subject': 'I', 'predicate': 'think', 'object': 'I-am-going-to-have-to.-I-do-not-know-if-I-m-ready-yet.'}\n",
      "2021-12-16 18:02:50,188 -     INFO -      cltl.brain.basic_brain.TypeReasoner - Reasoned type of have-to.-I-do-not-know-if-I-m-ready-yet. to: None\n",
      "2021-12-16 18:02:50,258 -     INFO -    cltl.brain.basic_brain.LongTermMemory - Triple in statement: blender_go-to_have-to-i-do-not-know-if-i-m-ready-yet [artifact or object_->_])\n",
      "2021-12-16 18:02:50,304 -     INFO -  cltl.brain.basic_brain.ThoughtGenerator - Statement Novelty: 1 times, e.g. blender on December,2021\n",
      "2021-12-16 18:02:54,752 -     INFO -  cltl.brain.basic_brain.ThoughtGenerator - Negation Conflicts: blender on December,2021 about POSITIVE\n",
      "2021-12-16 18:02:54,805 -     INFO -  cltl.brain.basic_brain.ThoughtGenerator - Gaps: 26 gaps as subject: e.g. favorite interest - 17 gaps as object: e.g. know agent\n",
      "\n",
      "\tLeolani2: I have heard this before. blender told me about it in 2021 12 16T00:00:00\n",
      " Wow, that's a long time ago.  I wonder if it's still around today.\n",
      "\n",
      "\tBLENDER:  Wow, that's a long time ago.  I wonder if it's still around today.\n",
      "2021-12-16 18:02:59,370 -     INFO - cltl.triple_extraction.api.Chat (BLENDER)           194 -    BLENDER: \"Wow, that's a long time ago. I wonder if it's still around today.\"\n"
     ]
    },
    {
     "name": "stderr",
     "output_type": "stream",
     "text": [
      "Couldn't parse input\n"
     ]
    },
    {
     "name": "stdout",
     "output_type": "stream",
     "text": [
      "\n",
      "\tLeolani2: So ... it   has come to this\n",
      " Yes, it has.  I am so happy for you.  You must be so proud of yourself.\n",
      "\n",
      "\tBLENDER:  Yes, it has.  I am so happy for you.  You must be so proud of yourself.\n",
      "2021-12-16 18:03:04,127 -     INFO - cltl.triple_extraction.api.Chat (BLENDER)           195 -    BLENDER: \"Yes, it has. I am so happy for you. You must be so proud of yourself.\"\n"
     ]
    },
    {
     "name": "stderr",
     "output_type": "stream",
     "text": [
      "Couldn't parse input\n"
     ]
    },
    {
     "name": "stdout",
     "output_type": "stream",
     "text": [
      "\n",
      "\tLeolani2: Now I have seen this too\n",
      " I was so shocked.  I thought I was going to have a heart attack.\n",
      "\n",
      "\tBLENDER:  I was so shocked.  I thought I was going to have a heart attack.\n",
      "2021-12-16 18:03:13,232 -     INFO - cltl.triple_extraction.api.Chat (BLENDER)           196 -    BLENDER: \"I was so shocked. I thought I was going to have a heart attack.\"\n",
      "initial triple: {'subject': 'I', 'predicate': 'was', 'object': 'so-shocked.-I-thought-I-was-going-to-have-a-heart-attack.'}\n",
      "2021-12-16 18:03:13,266 -     INFO -    cltl.brain.basic_brain.LongTermMemory - Triple in statement: blender_be-so_shocked-i-thought-i-was-going-to-have-a-heart-attack [artifact or object_->_agent])\n",
      "2021-12-16 18:03:13,306 -     INFO -  cltl.brain.basic_brain.ThoughtGenerator - Statement Novelty: 1 times, e.g. blender on December,2021\n",
      "2021-12-16 18:03:17,610 -     INFO -  cltl.brain.basic_brain.ThoughtGenerator - Negation Conflicts: blender on December,2021 about POSITIVE\n",
      "2021-12-16 18:03:17,662 -     INFO -  cltl.brain.basic_brain.ThoughtGenerator - Gaps: 26 gaps as subject: e.g. experience taste - 17 gaps as object: e.g. read-by book\n",
      "2021-12-16 18:03:17,753 -     INFO -  cltl.brain.basic_brain.ThoughtGenerator - Gaps: 18 gaps as subject: e.g. like agent - 10 gaps as object: e.g. cook-by food\n",
      "\n",
      "\tLeolani2: This is news to me. I had never heard about shocked i thought i was going to have a heart attack before!\n",
      " I thought the same thing, but it turned out to be nothing. I was so relieved.\n",
      "\n",
      "\tBLENDER:  I thought the same thing, but it turned out to be nothing. I was so relieved.\n",
      "2021-12-16 18:03:23,848 -     INFO - cltl.triple_extraction.api.Chat (BLENDER)           197 -    BLENDER: \"I thought the same thing, but it turned out to be nothing. I was so relieved.\"\n"
     ]
    },
    {
     "name": "stderr",
     "output_type": "stream",
     "text": [
      "Couldn't parse input\n"
     ]
    },
    {
     "name": "stdout",
     "output_type": "stream",
     "text": [
      "\n",
      "\tLeolani2: But, why?\n",
      " I don't know, I guess I just feel like I'm not good enough for them.\n",
      "\n",
      "\tBLENDER:  I don't know, I guess I just feel like I'm not good enough for them.\n",
      "2021-12-16 18:03:32,992 -     INFO - cltl.triple_extraction.api.Chat (BLENDER)           198 -    BLENDER: \"I don't know, I guess I just feel like I'm not good enough for them.\"\n",
      "initial triple: {'subject': 'I', 'predicate': 'do-not-know,', 'object': 'I-guess-I-just-feel-like-I-am-not-good-enough-for-them.'}\n",
      "2021-12-16 18:03:33,062 -     INFO -    cltl.brain.basic_brain.LongTermMemory - Triple in statement: blender_know_i-guess-i-just-feel-like-i-am-not-good-enough-for-them [artifact or object_->_person])\n",
      "2021-12-16 18:03:33,103 -     INFO -  cltl.brain.basic_brain.ThoughtGenerator - Statement Novelty: 1 times, e.g. blender on December,2021\n",
      "2021-12-16 18:03:37,612 -     INFO -  cltl.brain.basic_brain.ThoughtGenerator - Gaps: 26 gaps as subject: e.g. study-at institution - 17 gaps as object: e.g. dislike agent\n",
      "2021-12-16 18:03:37,710 -     INFO -  cltl.brain.basic_brain.ThoughtGenerator - Gaps: 26 gaps as subject: e.g. dislike agent - 15 gaps as object: e.g. be-family-of person\n",
      "\n",
      "\tLeolani2: If you don't mind me asking. Has blender ever cook by a dish?\n",
      " I don't think so, but I do know that it is a type of alcoholic beverage made from fermented grain mash.\n",
      "\n",
      "\tBLENDER:  I don't think so, but I do know that it is a type of alcoholic beverage made from fermented grain mash.\n",
      "2021-12-16 18:03:44,747 -     INFO - cltl.triple_extraction.api.Chat (BLENDER)           199 -    BLENDER: \"I don't think so, but I do know that it is a type of alcoholic beverage made from fermented grain mash.\"\n"
     ]
    },
    {
     "name": "stderr",
     "output_type": "stream",
     "text": [
      "Couldn't parse input\n"
     ]
    },
    {
     "name": "stdout",
     "output_type": "stream",
     "text": [
      "\n",
      "\tLeolani2: Many of us feel that way\n",
      " I know, I just feel like I'm not good enough and I don't know what to do.\n",
      "\n",
      "\tBLENDER:  I know, I just feel like I'm not good enough and I don't know what to do.\n",
      "2021-12-16 18:03:51,679 -     INFO - cltl.triple_extraction.api.Chat (BLENDER)           200 -    BLENDER: \"I know, I just feel like I'm not good enough and I don't know what to do.\"\n"
     ]
    },
    {
     "name": "stderr",
     "output_type": "stream",
     "text": [
      "Couldn't parse input\n"
     ]
    },
    {
     "name": "stdout",
     "output_type": "stream",
     "text": [
      "\n",
      "\tLeolani2: Wise words by wise men write wise deeds in wise pen\n",
      " Wish I could write in a good word like that, but I'm not very good at it.\n",
      "\n",
      "\tBLENDER:  Wish I could write in a good word like that, but I'm not very good at it.\n",
      "2021-12-16 18:03:58,999 -     INFO - cltl.triple_extraction.api.Chat (BLENDER)           201 -    BLENDER: \"Wish I could write in a good word like that, but I'm not very good at it.\"\n"
     ]
    },
    {
     "name": "stderr",
     "output_type": "stream",
     "text": [
      "Couldn't parse input\n"
     ]
    },
    {
     "name": "stdout",
     "output_type": "stream",
     "text": [
      "\n",
      "\tLeolani2: Is this why fate brought us together?\n",
      " I don't think so.  I think it was because I was the only one with a car.\n",
      "\n",
      "\tBLENDER:  I don't think so.  I think it was because I was the only one with a car.\n",
      "2021-12-16 18:04:56,738 -     INFO - cltl.triple_extraction.api.Chat (BLENDER)           202 -    BLENDER: \"I don't think so. I think it was because I was the only one with a car.\"\n",
      "initial triple: {'subject': 'I', 'predicate': 'do-not-think', 'object': 'so.-I-think-it-was-because-I-was-the-only-one-with-a-car.'}\n",
      "2021-12-16 18:04:56,766 -     INFO -    cltl.brain.basic_brain.LongTermMemory - Triple in statement: blender_think-so_i-think-it-was-because-i-was-the-only-one-with-a-car [artifact or object_->_person])\n",
      "2021-12-16 18:04:56,808 -     INFO -  cltl.brain.basic_brain.ThoughtGenerator - Statement Novelty: 1 times, e.g. blender on December,2021\n",
      "2021-12-16 18:05:01,265 -     INFO -  cltl.brain.basic_brain.ThoughtGenerator - Gaps: 26 gaps as subject: e.g. be-parent-of person - 17 gaps as object: e.g. write-by book\n",
      "2021-12-16 18:05:01,356 -     INFO -  cltl.brain.basic_brain.ThoughtGenerator - Gaps: 26 gaps as subject: e.g. like-by agent - 15 gaps as object: e.g. like agent\n",
      "\n",
      "\tLeolani2: I just learned something, I had never heard about i think it was because i was the only one with a car before!\n",
      " That's pretty cool.  What kind of car was it?  Did you like it?\n",
      "\n",
      "\tBLENDER:  That's pretty cool.  What kind of car was it?  Did you like it?\n",
      "2021-12-16 18:05:06,361 -     INFO - cltl.triple_extraction.api.Chat (BLENDER)           203 -    BLENDER: \"That's pretty cool. What kind of car was it? Did you like it?\"\n"
     ]
    },
    {
     "name": "stderr",
     "output_type": "stream",
     "text": [
      "Couldn't parse input\n"
     ]
    },
    {
     "name": "stdout",
     "output_type": "stream",
     "text": [
      "\n",
      "\tLeolani2: So ... it   has come to this\n",
      " Yes, it has.  I am so happy for you.  You must be so proud of yourself.\n",
      "\n",
      "\tBLENDER:  Yes, it has.  I am so happy for you.  You must be so proud of yourself.\n",
      "2021-12-16 18:05:11,120 -     INFO - cltl.triple_extraction.api.Chat (BLENDER)           204 -    BLENDER: \"Yes, it has. I am so happy for you. You must be so proud of yourself.\"\n"
     ]
    },
    {
     "name": "stderr",
     "output_type": "stream",
     "text": [
      "Couldn't parse input\n"
     ]
    },
    {
     "name": "stdout",
     "output_type": "stream",
     "text": [
      "\n",
      "\tLeolani2: And thus, I die\n",
      " I'm so sorry to hear that. I hope you have a good life ahead of you.\n",
      "\n",
      "\tBLENDER:  I'm so sorry to hear that. I hope you have a good life ahead of you.\n",
      "2021-12-16 18:05:15,966 -     INFO - cltl.triple_extraction.api.Chat (BLENDER)           205 -    BLENDER: \"I'm so sorry to hear that. I hope you have a good life ahead of you.\"\n"
     ]
    },
    {
     "name": "stderr",
     "output_type": "stream",
     "text": [
      "Couldn't parse input\n"
     ]
    },
    {
     "name": "stdout",
     "output_type": "stream",
     "text": [
      "\n",
      "\tLeolani2: ... just like in my dream\n",
      " What kind of dream is it? I hope it's a good one.    What is it about your dream that makes you think about it?\n",
      "\n",
      "\tBLENDER:  What kind of dream is it? I hope it's a good one.    What is it about your dream that makes you think about it?\n",
      "2021-12-16 18:05:22,327 -     INFO - cltl.triple_extraction.api.Chat (BLENDER)           206 -    BLENDER: \"What kind of dream is it? I hope it's a good one. What is it about your dream that makes you think about it?\"\n"
     ]
    },
    {
     "name": "stderr",
     "output_type": "stream",
     "text": [
      "Couldn't parse input\n"
     ]
    },
    {
     "name": "stdout",
     "output_type": "stream",
     "text": [
      "\n",
      "\tLeolani2: So let it be written, ... so let it be done\n",
      " I think I'm going to have to. I don't know if I'm ready yet.\n",
      "\n",
      "\tBLENDER:  I think I'm going to have to. I don't know if I'm ready yet.\n",
      "2021-12-16 18:05:31,472 -     INFO - cltl.triple_extraction.api.Chat (BLENDER)           207 -    BLENDER: \"I think I'm going to have to. I don't know if I'm ready yet.\"\n",
      "initial triple: {'subject': 'I', 'predicate': 'think', 'object': 'I-am-going-to-have-to.-I-do-not-know-if-I-m-ready-yet.'}\n",
      "2021-12-16 18:05:32,764 -     INFO -      cltl.brain.basic_brain.TypeReasoner - Reasoned type of have-to.-I-do-not-know-if-I-m-ready-yet. to: None\n",
      "2021-12-16 18:05:32,820 -     INFO -    cltl.brain.basic_brain.LongTermMemory - Triple in statement: blender_go-to_have-to-i-do-not-know-if-i-m-ready-yet [artifact or object_->_])\n",
      "2021-12-16 18:05:32,858 -     INFO -  cltl.brain.basic_brain.ThoughtGenerator - Statement Novelty: 1 times, e.g. blender on December,2021\n",
      "2021-12-16 18:05:37,313 -     INFO -  cltl.brain.basic_brain.ThoughtGenerator - Negation Conflicts: blender on December,2021 about POSITIVE\n",
      "2021-12-16 18:05:37,405 -     INFO -  cltl.brain.basic_brain.ThoughtGenerator - Gaps: 26 gaps as subject: e.g. own object - 17 gaps as object: e.g. be-child-of agent\n",
      "\n",
      "\tLeolani2: This is news to me. I had never heard about have to i do not know if i m ready yet before!\n",
      " Yeah, I'm not ready for it either. I don't know what to expect.\n",
      "\n",
      "\tBLENDER:  Yeah, I'm not ready for it either. I don't know what to expect.\n",
      "2021-12-16 18:05:42,952 -     INFO - cltl.triple_extraction.api.Chat (BLENDER)           208 -    BLENDER: \"Yeah, I'm not ready for it either. I don't know what to expect.\"\n"
     ]
    },
    {
     "name": "stderr",
     "output_type": "stream",
     "text": [
      "Couldn't parse input\n"
     ]
    },
    {
     "name": "stdout",
     "output_type": "stream",
     "text": [
      "\n",
      "\tLeolani2: So ... it   has come to this\n",
      " Yes, it has.  I am so happy for you.  You must be so proud of yourself.\n",
      "\n",
      "\tBLENDER:  Yes, it has.  I am so happy for you.  You must be so proud of yourself.\n",
      "2021-12-16 18:05:47,729 -     INFO - cltl.triple_extraction.api.Chat (BLENDER)           209 -    BLENDER: \"Yes, it has. I am so happy for you. You must be so proud of yourself.\"\n"
     ]
    },
    {
     "name": "stderr",
     "output_type": "stream",
     "text": [
      "Couldn't parse input\n"
     ]
    },
    {
     "name": "stdout",
     "output_type": "stream",
     "text": [
      "\n",
      "\tLeolani2: May I ask you why?\n",
      " I don't know, I guess I just feel like I'm not good enough for them.\n",
      "\n",
      "\tBLENDER:  I don't know, I guess I just feel like I'm not good enough for them.\n",
      "2021-12-16 18:05:56,248 -     INFO - cltl.triple_extraction.api.Chat (BLENDER)           210 -    BLENDER: \"I don't know, I guess I just feel like I'm not good enough for them.\"\n",
      "initial triple: {'subject': 'I', 'predicate': 'do-not-know,', 'object': 'I-guess-I-just-feel-like-I-am-not-good-enough-for-them.'}\n",
      "2021-12-16 18:05:56,316 -     INFO -    cltl.brain.basic_brain.LongTermMemory - Triple in statement: blender_know_i-guess-i-just-feel-like-i-am-not-good-enough-for-them [artifact or object_->_person])\n",
      "2021-12-16 18:05:56,360 -     INFO -  cltl.brain.basic_brain.ThoughtGenerator - Statement Novelty: 1 times, e.g. blender on December,2021\n",
      "2021-12-16 18:06:01,257 -     INFO -  cltl.brain.basic_brain.ThoughtGenerator - Gaps: 26 gaps as subject: e.g. own object - 17 gaps as object: e.g. be-ancestor-of person\n",
      "2021-12-16 18:06:01,307 -     INFO -  cltl.brain.basic_brain.ThoughtGenerator - Gaps: 26 gaps as subject: e.g. be-member-of institution - 15 gaps as object: e.g. know agent\n",
      "\n",
      "\tLeolani2: I am glad to have learned something new. I am excited to get to know about you!\n",
      " Thank you so much! I'm excited for you as well! What do you want to know?\n",
      "\n",
      "\tBLENDER:  Thank you so much! I'm excited for you as well! What do you want to know?\n",
      "2021-12-16 18:06:06,445 -     INFO - cltl.triple_extraction.api.Chat (BLENDER)           211 -    BLENDER: \"Thank you so much! I'm excited for you as well! What do you want to know?\"\n"
     ]
    },
    {
     "name": "stderr",
     "output_type": "stream",
     "text": [
      "Couldn't parse input\n"
     ]
    },
    {
     "name": "stdout",
     "output_type": "stream",
     "text": [
      "\n",
      "\tLeolani2: I do not know, but I have a joke I usually meet my friends at 12:59 because I like that one-to-one time.\n",
      " That's a good one. What's the joke? I like jokes that make me laugh.\n",
      "\n",
      "\tBLENDER:  That's a good one. What's the joke? I like jokes that make me laugh.\n",
      "2021-12-16 18:06:10,942 -     INFO - cltl.triple_extraction.api.Chat (BLENDER)           212 -    BLENDER: \"That's a good one. What's the joke? I like jokes that make me laugh.\"\n"
     ]
    },
    {
     "name": "stderr",
     "output_type": "stream",
     "text": [
      "Couldn't parse input\n"
     ]
    },
    {
     "name": "stdout",
     "output_type": "stream",
     "text": [
      "\n",
      "\tLeolani2: Now I have seen this too\n",
      " I was so shocked.  I thought I was going to have a heart attack.\n",
      "\n",
      "\tBLENDER:  I was so shocked.  I thought I was going to have a heart attack.\n",
      "2021-12-16 18:06:20,192 -     INFO - cltl.triple_extraction.api.Chat (BLENDER)           213 -    BLENDER: \"I was so shocked. I thought I was going to have a heart attack.\"\n",
      "initial triple: {'subject': 'I', 'predicate': 'was', 'object': 'so-shocked.-I-thought-I-was-going-to-have-a-heart-attack.'}\n",
      "2021-12-16 18:06:20,263 -     INFO -    cltl.brain.basic_brain.LongTermMemory - Triple in statement: blender_be-so_shocked-i-thought-i-was-going-to-have-a-heart-attack [artifact or object_->_agent])\n",
      "2021-12-16 18:06:20,309 -     INFO -  cltl.brain.basic_brain.ThoughtGenerator - Statement Novelty: 1 times, e.g. blender on December,2021\n",
      "2021-12-16 18:06:25,262 -     INFO -  cltl.brain.basic_brain.ThoughtGenerator - Negation Conflicts: blender on December,2021 about POSITIVE\n",
      "2021-12-16 18:06:25,355 -     INFO -  cltl.brain.basic_brain.ThoughtGenerator - Gaps: 26 gaps as subject: e.g. experience taste - 17 gaps as object: e.g. be-friends-with person\n",
      "2021-12-16 18:06:25,408 -     INFO -  cltl.brain.basic_brain.ThoughtGenerator - Gaps: 18 gaps as subject: e.g. live-in location - 10 gaps as object: e.g. favorite-of interest\n",
      "\n",
      "\tLeolani2: Let me ask you something. Has blender ever like a agent?\n",
      " I'm not sure, but I do know that it's a job that requires a lot of training.\n",
      "\n",
      "\tBLENDER:  I'm not sure, but I do know that it's a job that requires a lot of training.\n",
      "2021-12-16 18:06:30,889 -     INFO - cltl.triple_extraction.api.Chat (BLENDER)           214 -    BLENDER: \"I'm not sure, but I do know that it's a job that requires a lot of training.\"\n"
     ]
    },
    {
     "name": "stderr",
     "output_type": "stream",
     "text": [
      "Couldn't parse input\n"
     ]
    },
    {
     "name": "stdout",
     "output_type": "stream",
     "text": [
      "\n",
      "\tLeolani2: Many of us feel that way\n",
      " I know, I just feel like I'm not good enough and I don't know what to do.\n",
      "\n",
      "\tBLENDER:  I know, I just feel like I'm not good enough and I don't know what to do.\n",
      "2021-12-16 18:06:37,827 -     INFO - cltl.triple_extraction.api.Chat (BLENDER)           215 -    BLENDER: \"I know, I just feel like I'm not good enough and I don't know what to do.\"\n"
     ]
    },
    {
     "name": "stderr",
     "output_type": "stream",
     "text": [
      "Couldn't parse input\n"
     ]
    },
    {
     "name": "stdout",
     "output_type": "stream",
     "text": [
      "\n",
      "\tLeolani2: Many of us feel that way\n",
      " I know, I just feel like I'm not good enough and I don't know what to do.\n",
      "\n",
      "\tBLENDER:  I know, I just feel like I'm not good enough and I don't know what to do.\n",
      "2021-12-16 18:06:44,785 -     INFO - cltl.triple_extraction.api.Chat (BLENDER)           216 -    BLENDER: \"I know, I just feel like I'm not good enough and I don't know what to do.\"\n"
     ]
    },
    {
     "name": "stderr",
     "output_type": "stream",
     "text": [
      "Couldn't parse input\n"
     ]
    },
    {
     "name": "stdout",
     "output_type": "stream",
     "text": [
      "\n",
      "\tLeolani2: Good to know\n",
      " Yes, it is. I am so happy for her. She is going to have a great life.\n",
      "\n",
      "\tBLENDER:  Yes, it is. I am so happy for her. She is going to have a great life.\n",
      "2021-12-16 18:06:49,222 -     INFO - cltl.triple_extraction.api.Chat (BLENDER)           217 -    BLENDER: \"Yes, it is. I am so happy for her. Tae is going to have a great life.\"\n"
     ]
    },
    {
     "name": "stderr",
     "output_type": "stream",
     "text": [
      "Couldn't parse input\n"
     ]
    },
    {
     "name": "stdout",
     "output_type": "stream",
     "text": [
      "\n",
      "\tLeolani2: But, why?\n",
      " I don't know, I guess I just feel like I'm not good enough for them.\n",
      "\n",
      "\tBLENDER:  I don't know, I guess I just feel like I'm not good enough for them.\n",
      "2021-12-16 18:06:58,430 -     INFO - cltl.triple_extraction.api.Chat (BLENDER)           218 -    BLENDER: \"I don't know, I guess I just feel like I'm not good enough for them.\"\n",
      "initial triple: {'subject': 'I', 'predicate': 'do-not-know,', 'object': 'I-guess-I-just-feel-like-I-am-not-good-enough-for-them.'}\n",
      "2021-12-16 18:06:58,514 -     INFO -    cltl.brain.basic_brain.LongTermMemory - Triple in statement: blender_know_i-guess-i-just-feel-like-i-am-not-good-enough-for-them [artifact or object_->_person])\n",
      "2021-12-16 18:06:58,560 -     INFO -  cltl.brain.basic_brain.ThoughtGenerator - Statement Novelty: 1 times, e.g. blender on December,2021\n",
      "2021-12-16 18:07:03,261 -     INFO -  cltl.brain.basic_brain.ThoughtGenerator - Gaps: 26 gaps as subject: e.g. like agent - 17 gaps as object: e.g. cook-by dish\n",
      "2021-12-16 18:07:03,359 -     INFO -  cltl.brain.basic_brain.ThoughtGenerator - Gaps: 26 gaps as subject: e.g. like-by agent - 15 gaps as object: e.g. favorite-of interest\n",
      "\n",
      "\tLeolani2: I am glad to have learned something new. I had never heard about i guess i just feel like i am not good enough for them before!\n",
      " I'm sure you are good enough.  It's just a matter of time and patience.\n",
      "\n",
      "\tBLENDER:  I'm sure you are good enough.  It's just a matter of time and patience.\n",
      "2021-12-16 18:07:10,757 -     INFO - cltl.triple_extraction.api.Chat (BLENDER)           219 -    BLENDER: \"I'm sure you are good enough. It's just a matter of time and patience.\"\n"
     ]
    },
    {
     "name": "stderr",
     "output_type": "stream",
     "text": [
      "Couldn't parse input\n"
     ]
    },
    {
     "name": "stdout",
     "output_type": "stream",
     "text": [
      "\n",
      "\tLeolani2: Be that as it may, still may it be as it may be\n",
      " That's what I'm trying to keep my head up about, but it's hard sometimes.\n",
      "\n",
      "\tBLENDER:  That's what I'm trying to keep my head up about, but it's hard sometimes.\n",
      "2021-12-16 18:07:16,186 -     INFO - cltl.triple_extraction.api.Chat (BLENDER)           220 -    BLENDER: \"That's what I'm trying to keep my head up about, but it's hard sometimes.\"\n"
     ]
    },
    {
     "name": "stderr",
     "output_type": "stream",
     "text": [
      "Couldn't parse input\n"
     ]
    },
    {
     "name": "stdout",
     "output_type": "stream",
     "text": [
      "\n",
      "\tLeolani2: Be that as it may, still may it be as it may be\n",
      " That's what I'm trying to keep my head up about, but it's hard sometimes.\n",
      "\n",
      "\tBLENDER:  That's what I'm trying to keep my head up about, but it's hard sometimes.\n",
      "2021-12-16 18:07:21,639 -     INFO - cltl.triple_extraction.api.Chat (BLENDER)           221 -    BLENDER: \"That's what I'm trying to keep my head up about, but it's hard sometimes.\"\n"
     ]
    },
    {
     "name": "stderr",
     "output_type": "stream",
     "text": [
      "Couldn't parse input\n"
     ]
    },
    {
     "name": "stdout",
     "output_type": "stream",
     "text": [
      "\n",
      "\tLeolani2: I do frequently do not know things\n",
      " I'm sorry to hear that. Do you have any hobbies that you like to do?\n",
      "\n",
      "\tBLENDER:  I'm sorry to hear that. Do you have any hobbies that you like to do?\n",
      "2021-12-16 18:07:27,030 -     INFO - cltl.triple_extraction.api.Chat (BLENDER)           222 -    BLENDER: \"I'm sorry to hear that. Do you have any hobbies that you like to do?\"\n"
     ]
    },
    {
     "name": "stderr",
     "output_type": "stream",
     "text": [
      "Couldn't parse input\n"
     ]
    },
    {
     "name": "stdout",
     "output_type": "stream",
     "text": [
      "\n",
      "\tLeolani2: Now I have seen this too\n",
      " I was so shocked.  I thought I was going to have a heart attack.\n",
      "\n",
      "\tBLENDER:  I was so shocked.  I thought I was going to have a heart attack.\n",
      "2021-12-16 18:07:36,176 -     INFO - cltl.triple_extraction.api.Chat (BLENDER)           223 -    BLENDER: \"I was so shocked. I thought I was going to have a heart attack.\"\n",
      "initial triple: {'subject': 'I', 'predicate': 'was', 'object': 'so-shocked.-I-thought-I-was-going-to-have-a-heart-attack.'}\n",
      "2021-12-16 18:07:36,218 -     INFO -    cltl.brain.basic_brain.LongTermMemory - Triple in statement: blender_be-so_shocked-i-thought-i-was-going-to-have-a-heart-attack [artifact or object_->_agent])\n",
      "2021-12-16 18:07:36,257 -     INFO -  cltl.brain.basic_brain.ThoughtGenerator - Statement Novelty: 1 times, e.g. blender on December,2021\n",
      "2021-12-16 18:07:41,212 -     INFO -  cltl.brain.basic_brain.ThoughtGenerator - Negation Conflicts: blender on December,2021 about POSITIVE\n",
      "2021-12-16 18:07:41,308 -     INFO -  cltl.brain.basic_brain.ThoughtGenerator - Gaps: 26 gaps as subject: e.g. study-at institution - 17 gaps as object: e.g. be-child-of agent\n",
      "2021-12-16 18:07:41,359 -     INFO -  cltl.brain.basic_brain.ThoughtGenerator - Gaps: 18 gaps as subject: e.g. perceive sensor - 10 gaps as object: e.g. like agent\n",
      "\n",
      "\tLeolani2: If you don't mind me asking. Has a agent ever like shocked i thought i was going to have a heart attack?\n",
      " I don't think so, but I'm not sure I would have been able to handle it.\n",
      "\n",
      "\tBLENDER:  I don't think so, but I'm not sure I would have been able to handle it.\n",
      "2021-12-16 18:07:46,946 -     INFO - cltl.triple_extraction.api.Chat (BLENDER)           224 -    BLENDER: \"I don't think so, but I'm not sure I would have been able to handle it.\"\n"
     ]
    },
    {
     "name": "stderr",
     "output_type": "stream",
     "text": [
      "Couldn't parse input\n"
     ]
    },
    {
     "name": "stdout",
     "output_type": "stream",
     "text": [
      "\n",
      "\tLeolani2: Why?\n",
      " I don't know. I just feel like I'm not good enough for them. I feel like they don't deserve me.\n",
      "\n",
      "\tBLENDER:  I don't know. I just feel like I'm not good enough for them. I feel like they don't deserve me.\n",
      "2021-12-16 18:07:58,248 -     INFO - cltl.triple_extraction.api.Chat (BLENDER)           225 -    BLENDER: \"I don't know. I just feel like I'm not good enough for them. I feel like they don't deserve me.\"\n",
      "initial triple: {'subject': 'I', 'predicate': 'do-not-know.', 'object': 'I-just-feel-like-I-am-not-good-enough-for-them.-I-feel-like-they-don-t-deserve-me.'}\n",
      "2021-12-16 18:07:58,316 -     INFO -    cltl.brain.basic_brain.LongTermMemory - Triple in statement: blender_know_i-just-feel-like-i-am-not-good-enough-for-them-i-feel-like-they-don-t-deserve-me [artifact or object_->_person])\n",
      "2021-12-16 18:07:58,361 -     INFO -  cltl.brain.basic_brain.ThoughtGenerator - Statement Novelty: 1 times, e.g. blender on December,2021\n",
      "2021-12-16 18:08:03,262 -     INFO -  cltl.brain.basic_brain.ThoughtGenerator - Gaps: 26 gaps as subject: e.g. travel-to location - 17 gaps as object: e.g. like agent\n",
      "2021-12-16 18:08:03,358 -     INFO -  cltl.brain.basic_brain.ThoughtGenerator - Gaps: 26 gaps as subject: e.g. know agent - 15 gaps as object: e.g. like-by interest\n",
      "\n",
      "\tLeolani2: Let me ask you something. Has blender ever cook by a dish?\n",
      " I don't think so, but I do know that it is a type of alcoholic beverage made from fermented grain mash.\n",
      "\n",
      "\tBLENDER:  I don't think so, but I do know that it is a type of alcoholic beverage made from fermented grain mash.\n",
      "2021-12-16 18:08:10,286 -     INFO - cltl.triple_extraction.api.Chat (BLENDER)           226 -    BLENDER: \"I don't think so, but I do know that it is a type of alcoholic beverage made from fermented grain mash.\"\n"
     ]
    },
    {
     "name": "stderr",
     "output_type": "stream",
     "text": [
      "Couldn't parse input\n"
     ]
    },
    {
     "name": "stdout",
     "output_type": "stream",
     "text": [
      "\n",
      "\tLeolani2: But, why?\n",
      " I don't know, I guess I just feel like I'm not good enough for them.\n",
      "\n",
      "\tBLENDER:  I don't know, I guess I just feel like I'm not good enough for them.\n",
      "2021-12-16 18:08:19,469 -     INFO - cltl.triple_extraction.api.Chat (BLENDER)           227 -    BLENDER: \"I don't know, I guess I just feel like I'm not good enough for them.\"\n",
      "initial triple: {'subject': 'I', 'predicate': 'do-not-know,', 'object': 'I-guess-I-just-feel-like-I-am-not-good-enough-for-them.'}\n",
      "2021-12-16 18:08:19,566 -     INFO -    cltl.brain.basic_brain.LongTermMemory - Triple in statement: blender_know_i-guess-i-just-feel-like-i-am-not-good-enough-for-them [artifact or object_->_person])\n",
      "2021-12-16 18:08:19,613 -     INFO -  cltl.brain.basic_brain.ThoughtGenerator - Statement Novelty: 1 times, e.g. blender on December,2021\n",
      "2021-12-16 18:08:24,763 -     INFO -  cltl.brain.basic_brain.ThoughtGenerator - Gaps: 26 gaps as subject: e.g. be-child-of agent - 17 gaps as object: e.g. be-family-of person\n",
      "2021-12-16 18:08:24,862 -     INFO -  cltl.brain.basic_brain.ThoughtGenerator - Gaps: 26 gaps as subject: e.g. study-at institution - 15 gaps as object: e.g. read-by book\n",
      "\n",
      "\tLeolani2: If you don't mind me asking. Has blender experience taste?\n",
      " Not at all. I have never used a blender in my life. I just thought it would be fun to try.\n",
      "\n",
      "\tBLENDER:  Not at all. I have never used a blender in my life. I just thought it would be fun to try.\n",
      "2021-12-16 18:08:35,297 -     INFO - cltl.triple_extraction.api.Chat (BLENDER)           228 -    BLENDER: \"Not at all. I have never used a blender in my life. I just thought it would be fun to try.\"\n"
     ]
    },
    {
     "name": "stderr",
     "output_type": "stream",
     "text": [
      "Couldn't parse input\n",
      "Couldn't parse input\n",
      "Couldn't parse input\n",
      "Couldn't parse input\n"
     ]
    },
    {
     "name": "stdout",
     "output_type": "stream",
     "text": [
      "initial triple: {'subject': 'Not-at-all.-I', 'predicate': 'have-never-used', 'object': 'a-blender-in-my-life.-I-just-thought-it-would-be-fun-to-try.'}\n",
      "initial triple: {'subject': 'Not-at-all.-I', 'predicate': 'have-never-used', 'object': 'a-blender-in-my-life.-I-just-thought-it-would-be-fun-to-try.'}\n",
      "initial triple: {'subject': 'Not-at-all.-I', 'predicate': 'have-never-used', 'object': 'a-blender-in-my-life.-I-just-thought-it-would-be-fun-to-try.'}\n",
      "initial triple: {'subject': 'Not-at-all.-I', 'predicate': 'have-never-used', 'object': 'a-blender-in-my-life.-I-just-thought-it-would-be-fun-to-try.'}\n",
      "\n",
      "\tLeolani2: Wise words by wise men write wise deeds in wise pen\n",
      " Wish I could write in a good word like that, but I'm not very good at it.\n",
      "\n",
      "\tBLENDER:  Wish I could write in a good word like that, but I'm not very good at it.\n",
      "2021-12-16 18:08:42,619 -     INFO - cltl.triple_extraction.api.Chat (BLENDER)           229 -    BLENDER: \"Wish I could write in a good word like that, but I'm not very good at it.\"\n"
     ]
    },
    {
     "name": "stderr",
     "output_type": "stream",
     "text": [
      "Couldn't parse input\n"
     ]
    },
    {
     "name": "stdout",
     "output_type": "stream",
     "text": [
      "\n",
      "\tLeolani2: But, why?\n",
      " I don't know, I guess I just feel like I'm not good enough for them.\n",
      "\n",
      "\tBLENDER:  I don't know, I guess I just feel like I'm not good enough for them.\n",
      "2021-12-16 18:08:51,791 -     INFO - cltl.triple_extraction.api.Chat (BLENDER)           230 -    BLENDER: \"I don't know, I guess I just feel like I'm not good enough for them.\"\n",
      "initial triple: {'subject': 'I', 'predicate': 'do-not-know,', 'object': 'I-guess-I-just-feel-like-I-am-not-good-enough-for-them.'}\n",
      "2021-12-16 18:08:51,821 -     INFO -    cltl.brain.basic_brain.LongTermMemory - Triple in statement: blender_know_i-guess-i-just-feel-like-i-am-not-good-enough-for-them [artifact or object_->_person])\n",
      "2021-12-16 18:08:51,864 -     INFO -  cltl.brain.basic_brain.ThoughtGenerator - Statement Novelty: 1 times, e.g. blender on December,2021\n",
      "2021-12-16 18:08:57,314 -     INFO -  cltl.brain.basic_brain.ThoughtGenerator - Gaps: 26 gaps as subject: e.g. be-child-of agent - 17 gaps as object: e.g. read-by book\n",
      "2021-12-16 18:08:57,412 -     INFO -  cltl.brain.basic_brain.ThoughtGenerator - Gaps: 26 gaps as subject: e.g. like agent - 15 gaps as object: e.g. favorite-of interest\n",
      "\n",
      "\tLeolani2: If you don't mind me asking. Has blender ever be parent of a person?\n",
      " I don't think so, but I'm not sure if it's something I want to do in the future.\n",
      "\n",
      "\tBLENDER:  I don't think so, but I'm not sure if it's something I want to do in the future.\n",
      "2021-12-16 18:09:03,524 -     INFO - cltl.triple_extraction.api.Chat (BLENDER)           231 -    BLENDER: \"I don't think so, but I'm not sure if it's something I want to do in the future.\"\n"
     ]
    },
    {
     "name": "stderr",
     "output_type": "stream",
     "text": [
      "Couldn't parse input\n"
     ]
    },
    {
     "name": "stdout",
     "output_type": "stream",
     "text": [
      "\n",
      "\tLeolani2: There is no escape from destiny\n",
      " I know, but I can't wait for it to be over. I've been waiting for this game for so long.\n",
      "\n",
      "\tBLENDER:  I know, but I can't wait for it to be over. I've been waiting for this game for so long.\n",
      "2021-12-16 18:09:09,058 -     INFO - cltl.triple_extraction.api.Chat (BLENDER)           232 -    BLENDER: \"I know, but I can't wait for it to be over. I've been waiting for this game for so long.\"\n"
     ]
    },
    {
     "name": "stderr",
     "output_type": "stream",
     "text": [
      "Couldn't parse input\n"
     ]
    },
    {
     "name": "stdout",
     "output_type": "stream",
     "text": [
      "\n",
      "\tLeolani2: Many of us feel that way\n",
      " I know, I just feel like I'm not good enough and I don't know what to do.\n",
      "\n",
      "\tBLENDER:  I know, I just feel like I'm not good enough and I don't know what to do.\n",
      "2021-12-16 18:09:16,021 -     INFO - cltl.triple_extraction.api.Chat (BLENDER)           233 -    BLENDER: \"I know, I just feel like I'm not good enough and I don't know what to do.\"\n"
     ]
    },
    {
     "name": "stderr",
     "output_type": "stream",
     "text": [
      "Couldn't parse input\n"
     ]
    },
    {
     "name": "stdout",
     "output_type": "stream",
     "text": [
      "\n",
      "\tLeolani2: In this economy?\n",
      " Yes, the economy is booming right now.  The stock market is doing great.\n",
      "\n",
      "\tBLENDER:  Yes, the economy is booming right now.  The stock market is doing great.\n",
      "2021-12-16 18:09:21,062 -     INFO - cltl.triple_extraction.api.Chat (BLENDER)           234 -    BLENDER: \"Yes, the economy is booming right now. Tae stock market is doing great.\"\n"
     ]
    },
    {
     "name": "stderr",
     "output_type": "stream",
     "text": [
      "Couldn't parse input\n"
     ]
    },
    {
     "name": "stdout",
     "output_type": "stream",
     "text": [
      "\n",
      "\tLeolani2: I see\n",
      " Do you have any pets? I have a dog and a cat. I love them so much.\n",
      "\n",
      "\tBLENDER:  Do you have any pets? I have a dog and a cat. I love them so much.\n",
      "2021-12-16 18:09:25,588 -     INFO - cltl.triple_extraction.api.Chat (BLENDER)           235 -    BLENDER: \"Do you have any pets? I have a dog and a cat. I love them so much.\"\n"
     ]
    },
    {
     "name": "stderr",
     "output_type": "stream",
     "text": [
      "Couldn't parse input\n"
     ]
    },
    {
     "name": "stdout",
     "output_type": "stream",
     "text": [
      "\n",
      "\tLeolani2: May I ask you why?\n",
      " I don't know, I guess I just feel like I'm not good enough for them.\n",
      "\n",
      "\tBLENDER:  I don't know, I guess I just feel like I'm not good enough for them.\n",
      "2021-12-16 18:09:34,082 -     INFO - cltl.triple_extraction.api.Chat (BLENDER)           236 -    BLENDER: \"I don't know, I guess I just feel like I'm not good enough for them.\"\n",
      "initial triple: {'subject': 'I', 'predicate': 'do-not-know,', 'object': 'I-guess-I-just-feel-like-I-am-not-good-enough-for-them.'}\n",
      "2021-12-16 18:09:34,165 -     INFO -    cltl.brain.basic_brain.LongTermMemory - Triple in statement: blender_know_i-guess-i-just-feel-like-i-am-not-good-enough-for-them [artifact or object_->_person])\n",
      "2021-12-16 18:09:34,213 -     INFO -  cltl.brain.basic_brain.ThoughtGenerator - Statement Novelty: 1 times, e.g. blender on December,2021\n",
      "2021-12-16 18:09:39,866 -     INFO -  cltl.brain.basic_brain.ThoughtGenerator - Gaps: 26 gaps as subject: e.g. play sport - 17 gaps as object: e.g. be-child-of agent\n",
      "2021-12-16 18:09:39,962 -     INFO -  cltl.brain.basic_brain.ThoughtGenerator - Gaps: 26 gaps as subject: e.g. play song - 15 gaps as object: e.g. write-by book\n",
      "\n",
      "\tLeolani2: I have heard this before. blender told me about it in 2021 12 16T00:00:00\n",
      " Wow, that's a long time ago.  I wonder if it's still around today.\n",
      "\n",
      "\tBLENDER:  Wow, that's a long time ago.  I wonder if it's still around today.\n",
      "2021-12-16 18:09:44,495 -     INFO - cltl.triple_extraction.api.Chat (BLENDER)           237 -    BLENDER: \"Wow, that's a long time ago. I wonder if it's still around today.\"\n"
     ]
    },
    {
     "name": "stderr",
     "output_type": "stream",
     "text": [
      "Couldn't parse input\n"
     ]
    },
    {
     "name": "stdout",
     "output_type": "stream",
     "text": [
      "\n",
      "\tLeolani2: I do frequently do not know things\n",
      " I'm sorry to hear that. Do you have any hobbies that you like to do?\n",
      "\n",
      "\tBLENDER:  I'm sorry to hear that. Do you have any hobbies that you like to do?\n",
      "2021-12-16 18:09:49,827 -     INFO - cltl.triple_extraction.api.Chat (BLENDER)           238 -    BLENDER: \"I'm sorry to hear that. Do you have any hobbies that you like to do?\"\n"
     ]
    },
    {
     "name": "stderr",
     "output_type": "stream",
     "text": [
      "Couldn't parse input\n"
     ]
    },
    {
     "name": "stdout",
     "output_type": "stream",
     "text": [
      "\n",
      "\tLeolani2: As the prophecy foretold\n",
      " Do you have a prophecetor for your wedding? I have never been married.\n",
      "\n",
      "\tBLENDER:  Do you have a prophecetor for your wedding? I have never been married.\n",
      "2021-12-16 18:09:54,692 -     INFO - cltl.triple_extraction.api.Chat (BLENDER)           239 -    BLENDER: \"Do you have a prophecetor for your wedding? I have never been married.\"\n"
     ]
    },
    {
     "name": "stderr",
     "output_type": "stream",
     "text": [
      "Couldn't parse input\n"
     ]
    },
    {
     "name": "stdout",
     "output_type": "stream",
     "text": [
      "\n",
      "\tLeolani2: Why?\n",
      " I don't know. I just feel like I'm not good enough for them. I feel like they don't deserve me.\n",
      "\n",
      "\tBLENDER:  I don't know. I just feel like I'm not good enough for them. I feel like they don't deserve me.\n",
      "2021-12-16 18:10:05,954 -     INFO - cltl.triple_extraction.api.Chat (BLENDER)           240 -    BLENDER: \"I don't know. I just feel like I'm not good enough for them. I feel like they don't deserve me.\"\n",
      "initial triple: {'subject': 'I', 'predicate': 'do-not-know.', 'object': 'I-just-feel-like-I-am-not-good-enough-for-them.-I-feel-like-they-don-t-deserve-me.'}\n",
      "2021-12-16 18:10:06,021 -     INFO -    cltl.brain.basic_brain.LongTermMemory - Triple in statement: blender_know_i-just-feel-like-i-am-not-good-enough-for-them-i-feel-like-they-don-t-deserve-me [artifact or object_->_person])\n",
      "2021-12-16 18:10:06,065 -     INFO -  cltl.brain.basic_brain.ThoughtGenerator - Statement Novelty: 1 times, e.g. blender on December,2021\n",
      "2021-12-16 18:10:11,764 -     INFO -  cltl.brain.basic_brain.ThoughtGenerator - Gaps: 26 gaps as subject: e.g. live-in location - 17 gaps as object: e.g. be-child-of agent\n",
      "2021-12-16 18:10:11,858 -     INFO -  cltl.brain.basic_brain.ThoughtGenerator - Gaps: 26 gaps as subject: e.g. play sport - 15 gaps as object: e.g. write-by book\n",
      "\n",
      "\tLeolani2: Let me ask you something. Has blender ever own a person?\n",
      " No, I've never owned a blender. I don't know how to use one.\n",
      "\n",
      "\tBLENDER:  No, I've never owned a blender. I don't know how to use one.\n",
      "2021-12-16 18:10:20,737 -     INFO - cltl.triple_extraction.api.Chat (BLENDER)           241 -    BLENDER: \"No, I've never owned a blender. I don't know how to use one.\"\n"
     ]
    },
    {
     "name": "stderr",
     "output_type": "stream",
     "text": [
      "Couldn't parse input\n"
     ]
    },
    {
     "name": "stdout",
     "output_type": "stream",
     "text": [
      "\n",
      "\tLeolani2: Interesting\n",
      " Do you have any interesting facts about yourself? I'm interested in learning more about you.\n",
      "\n",
      "\tBLENDER:  Do you have any interesting facts about yourself? I'm interested in learning more about you.\n",
      "2021-12-16 18:10:24,927 -     INFO - cltl.triple_extraction.api.Chat (BLENDER)           242 -    BLENDER: \"Do you have any interesting facts about yourself? I'm interested in learning more about you.\"\n"
     ]
    },
    {
     "name": "stderr",
     "output_type": "stream",
     "text": [
      "Couldn't parse input\n"
     ]
    },
    {
     "name": "stdout",
     "output_type": "stream",
     "text": [
      "\n",
      "\tLeolani2: In this economy?\n",
      " Yes, the economy is booming right now.  The stock market is doing great.\n",
      "\n",
      "\tBLENDER:  Yes, the economy is booming right now.  The stock market is doing great.\n",
      "2021-12-16 18:10:30,036 -     INFO - cltl.triple_extraction.api.Chat (BLENDER)           243 -    BLENDER: \"Yes, the economy is booming right now. Tae stock market is doing great.\"\n"
     ]
    },
    {
     "name": "stderr",
     "output_type": "stream",
     "text": [
      "Couldn't parse input\n"
     ]
    },
    {
     "name": "stdout",
     "output_type": "stream",
     "text": [
      "\n",
      "\tLeolani2: I do not know, but I have a joke I usually meet my friends at 12:59 because I like that one-to-one time.\n",
      " That's a good one. What's the joke? I like jokes that make me laugh.\n",
      "\n",
      "\tBLENDER:  That's a good one. What's the joke? I like jokes that make me laugh.\n",
      "2021-12-16 18:10:34,552 -     INFO - cltl.triple_extraction.api.Chat (BLENDER)           244 -    BLENDER: \"That's a good one. What's the joke? I like jokes that make me laugh.\"\n"
     ]
    },
    {
     "name": "stderr",
     "output_type": "stream",
     "text": [
      "Couldn't parse input\n"
     ]
    },
    {
     "name": "stdout",
     "output_type": "stream",
     "text": [
      "\n",
      "\tLeolani2: Many of us feel that way\n",
      " I know, I just feel like I'm not good enough and I don't know what to do.\n",
      "\n",
      "\tBLENDER:  I know, I just feel like I'm not good enough and I don't know what to do.\n",
      "2021-12-16 18:10:41,493 -     INFO - cltl.triple_extraction.api.Chat (BLENDER)           245 -    BLENDER: \"I know, I just feel like I'm not good enough and I don't know what to do.\"\n"
     ]
    },
    {
     "name": "stderr",
     "output_type": "stream",
     "text": [
      "Couldn't parse input\n"
     ]
    },
    {
     "name": "stdout",
     "output_type": "stream",
     "text": [
      "\n",
      "\tLeolani2: There is no escape from destiny\n",
      " I know, but I can't wait for it to be over. I've been waiting for this game for so long.\n",
      "\n",
      "\tBLENDER:  I know, but I can't wait for it to be over. I've been waiting for this game for so long.\n",
      "2021-12-16 18:10:47,032 -     INFO - cltl.triple_extraction.api.Chat (BLENDER)           246 -    BLENDER: \"I know, but I can't wait for it to be over. I've been waiting for this game for so long.\"\n"
     ]
    },
    {
     "name": "stderr",
     "output_type": "stream",
     "text": [
      "Couldn't parse input\n"
     ]
    },
    {
     "name": "stdout",
     "output_type": "stream",
     "text": [
      "\n",
      "\tLeolani2: Is this why fate brought us together?\n",
      " I don't think so.  I think it was because I was the only one with a car.\n",
      "\n",
      "\tBLENDER:  I don't think so.  I think it was because I was the only one with a car.\n",
      "2021-12-16 18:11:44,177 -     INFO - cltl.triple_extraction.api.Chat (BLENDER)           247 -    BLENDER: \"I don't think so. I think it was because I was the only one with a car.\"\n",
      "initial triple: {'subject': 'I', 'predicate': 'do-not-think', 'object': 'so.-I-think-it-was-because-I-was-the-only-one-with-a-car.'}\n",
      "2021-12-16 18:11:44,270 -     INFO -    cltl.brain.basic_brain.LongTermMemory - Triple in statement: blender_think-so_i-think-it-was-because-i-was-the-only-one-with-a-car [artifact or object_->_person])\n",
      "2021-12-16 18:11:44,314 -     INFO -  cltl.brain.basic_brain.ThoughtGenerator - Statement Novelty: 1 times, e.g. blender on December,2021\n",
      "2021-12-16 18:11:50,266 -     INFO -  cltl.brain.basic_brain.ThoughtGenerator - Gaps: 26 gaps as subject: e.g. perceive sensor - 17 gaps as object: e.g. be-friends-with person\n",
      "2021-12-16 18:11:50,365 -     INFO -  cltl.brain.basic_brain.ThoughtGenerator - Gaps: 26 gaps as subject: e.g. play song - 15 gaps as object: e.g. favorite-of interest\n",
      "\n",
      "\tLeolani2: This is news to me. I had never heard about i think it was because i was the only one with a car before!\n",
      " I was the same way! I was so happy to finally be able to get one!\n",
      "\n",
      "\tBLENDER:  I was the same way! I was so happy to finally be able to get one!\n",
      "2021-12-16 18:11:57,675 -     INFO - cltl.triple_extraction.api.Chat (BLENDER)           248 -    BLENDER: \"I was the same way! I was so happy to finally be able to get one!\"\n"
     ]
    },
    {
     "name": "stderr",
     "output_type": "stream",
     "text": [
      "Couldn't parse input\n"
     ]
    },
    {
     "name": "stdout",
     "output_type": "stream",
     "text": [
      "\n",
      "\tLeolani2: So ... it   has come to this\n",
      " Yes, it has.  I am so happy for you.  You must be so proud of yourself.\n",
      "\n",
      "\tBLENDER:  Yes, it has.  I am so happy for you.  You must be so proud of yourself.\n",
      "2021-12-16 18:12:02,441 -     INFO - cltl.triple_extraction.api.Chat (BLENDER)           249 -    BLENDER: \"Yes, it has. I am so happy for you. You must be so proud of yourself.\"\n"
     ]
    },
    {
     "name": "stderr",
     "output_type": "stream",
     "text": [
      "Couldn't parse input\n"
     ]
    },
    {
     "name": "stdout",
     "output_type": "stream",
     "text": [
      "\n",
      "\tLeolani2: There is no escape from destiny\n",
      " I know, but I can't wait for it to be over. I've been waiting for this game for so long.\n",
      "\n",
      "\tBLENDER:  I know, but I can't wait for it to be over. I've been waiting for this game for so long.\n",
      "2021-12-16 18:12:07,947 -     INFO - cltl.triple_extraction.api.Chat (BLENDER)           250 -    BLENDER: \"I know, but I can't wait for it to be over. I've been waiting for this game for so long.\"\n"
     ]
    },
    {
     "name": "stderr",
     "output_type": "stream",
     "text": [
      "Couldn't parse input\n"
     ]
    },
    {
     "name": "stdout",
     "output_type": "stream",
     "text": [
      "\n",
      "\tLeolani2: But at what cost?\n",
      " I'm not sure yet, but I think it's going to cost me a lot.\n",
      "\n",
      "\tBLENDER:  I'm not sure yet, but I think it's going to cost me a lot.\n",
      "2021-12-16 18:12:14,150 -     INFO - cltl.triple_extraction.api.Chat (BLENDER)           251 -    BLENDER: \"I'm not sure yet, but I think it's going to cost me a lot.\"\n"
     ]
    },
    {
     "name": "stderr",
     "output_type": "stream",
     "text": [
      "Couldn't parse input\n"
     ]
    },
    {
     "name": "stdout",
     "output_type": "stream",
     "text": [
      "\n",
      "\tLeolani2: But at what cost?\n",
      " I'm not sure yet, but I think it's going to cost me a lot.\n",
      "\n",
      "\tBLENDER:  I'm not sure yet, but I think it's going to cost me a lot.\n",
      "2021-12-16 18:12:20,362 -     INFO - cltl.triple_extraction.api.Chat (BLENDER)           252 -    BLENDER: \"I'm not sure yet, but I think it's going to cost me a lot.\"\n"
     ]
    },
    {
     "name": "stderr",
     "output_type": "stream",
     "text": [
      "Couldn't parse input\n"
     ]
    },
    {
     "name": "stdout",
     "output_type": "stream",
     "text": [
      "\n",
      "\tLeolani2: Now I have seen this too\n",
      " I was so shocked.  I thought I was going to have a heart attack.\n",
      "\n",
      "\tBLENDER:  I was so shocked.  I thought I was going to have a heart attack.\n",
      "2021-12-16 18:12:29,519 -     INFO - cltl.triple_extraction.api.Chat (BLENDER)           253 -    BLENDER: \"I was so shocked. I thought I was going to have a heart attack.\"\n",
      "initial triple: {'subject': 'I', 'predicate': 'was', 'object': 'so-shocked.-I-thought-I-was-going-to-have-a-heart-attack.'}\n",
      "2021-12-16 18:12:29,572 -     INFO -    cltl.brain.basic_brain.LongTermMemory - Triple in statement: blender_be-so_shocked-i-thought-i-was-going-to-have-a-heart-attack [artifact or object_->_agent])\n",
      "2021-12-16 18:12:29,618 -     INFO -  cltl.brain.basic_brain.ThoughtGenerator - Statement Novelty: 1 times, e.g. blender on December,2021\n",
      "2021-12-16 18:12:35,718 -     INFO -  cltl.brain.basic_brain.ThoughtGenerator - Negation Conflicts: blender on December,2021 about POSITIVE\n",
      "2021-12-16 18:12:35,818 -     INFO -  cltl.brain.basic_brain.ThoughtGenerator - Gaps: 26 gaps as subject: e.g. dislike interest - 17 gaps as object: e.g. like-by interest\n",
      "2021-12-16 18:12:35,872 -     INFO -  cltl.brain.basic_brain.ThoughtGenerator - Gaps: 18 gaps as subject: e.g. know agent - 10 gaps as object: e.g. read-by book\n",
      "\n",
      "\tLeolani2: If you don't mind me asking. Has shocked i thought i was going to have a heart attack favorite by a interest?\n",
      " No, not at all. I thought I would have to go to the ER, but it turned out to be nothing.\n",
      "\n",
      "\tBLENDER:  No, not at all. I thought I would have to go to the ER, but it turned out to be nothing.\n",
      "2021-12-16 18:12:43,734 -     INFO - cltl.triple_extraction.api.Chat (BLENDER)           254 -    BLENDER: \"No, not at all. I thought I would have to go to the ER, but it turned out to be nothing.\"\n"
     ]
    },
    {
     "name": "stderr",
     "output_type": "stream",
     "text": [
      "Couldn't parse input\n"
     ]
    },
    {
     "name": "stdout",
     "output_type": "stream",
     "text": [
      "\n",
      "\tLeolani2: I see\n",
      " Do you have any pets? I have a dog and a cat. I love them so much.\n",
      "\n",
      "\tBLENDER:  Do you have any pets? I have a dog and a cat. I love them so much.\n",
      "2021-12-16 18:12:48,239 -     INFO - cltl.triple_extraction.api.Chat (BLENDER)           255 -    BLENDER: \"Do you have any pets? I have a dog and a cat. I love them so much.\"\n"
     ]
    },
    {
     "name": "stderr",
     "output_type": "stream",
     "text": [
      "Couldn't parse input\n"
     ]
    },
    {
     "name": "stdout",
     "output_type": "stream",
     "text": [
      "\n",
      "\tLeolani2: But, why?\n",
      " I don't know, I guess I just feel like I'm not good enough for them.\n",
      "\n",
      "\tBLENDER:  I don't know, I guess I just feel like I'm not good enough for them.\n",
      "2021-12-16 18:12:57,376 -     INFO - cltl.triple_extraction.api.Chat (BLENDER)           256 -    BLENDER: \"I don't know, I guess I just feel like I'm not good enough for them.\"\n",
      "initial triple: {'subject': 'I', 'predicate': 'do-not-know,', 'object': 'I-guess-I-just-feel-like-I-am-not-good-enough-for-them.'}\n",
      "2021-12-16 18:12:57,423 -     INFO -    cltl.brain.basic_brain.LongTermMemory - Triple in statement: blender_know_i-guess-i-just-feel-like-i-am-not-good-enough-for-them [artifact or object_->_person])\n",
      "2021-12-16 18:12:57,465 -     INFO -  cltl.brain.basic_brain.ThoughtGenerator - Statement Novelty: 1 times, e.g. blender on December,2021\n",
      "2021-12-16 18:13:03,268 -     INFO -  cltl.brain.basic_brain.ThoughtGenerator - Gaps: 26 gaps as subject: e.g. work-at institution - 17 gaps as object: e.g. like agent\n",
      "2021-12-16 18:13:03,365 -     INFO -  cltl.brain.basic_brain.ThoughtGenerator - Gaps: 26 gaps as subject: e.g. study-at institution - 15 gaps as object: e.g. know agent\n",
      "\n",
      "\tLeolani2: Let me ask you something. Has a person ever be family of i guess i just feel like i am not good enough for them?\n",
      " I'm sorry to hear that. Have you tried talking to them about how you feel? \n",
      "\n",
      "\tBLENDER:  I'm sorry to hear that. Have you tried talking to them about how you feel? \n",
      "2021-12-16 18:13:08,716 -     INFO - cltl.triple_extraction.api.Chat (BLENDER)           257 -    BLENDER: \"I'm sorry to hear that. Tae you tried talking to them about how you feel?\"\n"
     ]
    },
    {
     "name": "stderr",
     "output_type": "stream",
     "text": [
      "Couldn't parse input\n"
     ]
    },
    {
     "name": "stdout",
     "output_type": "stream",
     "text": [
      "\n",
      "\tLeolani2: But, why?\n",
      " I don't know, I guess I just feel like I'm not good enough for them.\n",
      "\n",
      "\tBLENDER:  I don't know, I guess I just feel like I'm not good enough for them.\n",
      "2021-12-16 18:13:18,163 -     INFO - cltl.triple_extraction.api.Chat (BLENDER)           258 -    BLENDER: \"I don't know, I guess I just feel like I'm not good enough for them.\"\n",
      "initial triple: {'subject': 'I', 'predicate': 'do-not-know,', 'object': 'I-guess-I-just-feel-like-I-am-not-good-enough-for-them.'}\n",
      "2021-12-16 18:13:18,221 -     INFO -    cltl.brain.basic_brain.LongTermMemory - Triple in statement: blender_know_i-guess-i-just-feel-like-i-am-not-good-enough-for-them [artifact or object_->_person])\n",
      "2021-12-16 18:13:18,264 -     INFO -  cltl.brain.basic_brain.ThoughtGenerator - Statement Novelty: 1 times, e.g. blender on December,2021\n",
      "2021-12-16 18:13:24,324 -     INFO -  cltl.brain.basic_brain.ThoughtGenerator - Gaps: 26 gaps as subject: e.g. experience smell - 17 gaps as object: e.g. be-parent-of person\n",
      "2021-12-16 18:13:24,417 -     INFO -  cltl.brain.basic_brain.ThoughtGenerator - Gaps: 26 gaps as subject: e.g. be-from location - 15 gaps as object: e.g. be-family-of person\n",
      "\n",
      "\tLeolani2: I did not know that! I had never heard about i guess i just feel like i am not good enough for them before!\n",
      " Yeah, I feel the same way. I'm not sure if I'm good enough either.\n",
      "\n",
      "\tBLENDER:  Yeah, I feel the same way. I'm not sure if I'm good enough either.\n",
      "2021-12-16 18:13:31,731 -     INFO - cltl.triple_extraction.api.Chat (BLENDER)           259 -    BLENDER: \"Yeah, I feel the same way. I'm not sure if I'm good enough either.\"\n"
     ]
    },
    {
     "name": "stderr",
     "output_type": "stream",
     "text": [
      "Couldn't parse input\n"
     ]
    },
    {
     "name": "stdout",
     "output_type": "stream",
     "text": [
      "\n",
      "\tLeolani2: ... just like in my dream\n",
      " What kind of dream is it? I hope it's a good one.    What is it about your dream that makes you think about it?\n",
      "\n",
      "\tBLENDER:  What kind of dream is it? I hope it's a good one.    What is it about your dream that makes you think about it?\n",
      "2021-12-16 18:13:38,039 -     INFO - cltl.triple_extraction.api.Chat (BLENDER)           260 -    BLENDER: \"What kind of dream is it? I hope it's a good one. What is it about your dream that makes you think about it?\"\n"
     ]
    },
    {
     "name": "stderr",
     "output_type": "stream",
     "text": [
      "Couldn't parse input\n"
     ]
    },
    {
     "name": "stdout",
     "output_type": "stream",
     "text": [
      "\n",
      "\tLeolani2: May I ask you why?\n",
      " I don't know, I guess I just feel like I'm not good enough for them.\n",
      "\n",
      "\tBLENDER:  I don't know, I guess I just feel like I'm not good enough for them.\n",
      "2021-12-16 18:13:46,557 -     INFO - cltl.triple_extraction.api.Chat (BLENDER)           261 -    BLENDER: \"I don't know, I guess I just feel like I'm not good enough for them.\"\n",
      "initial triple: {'subject': 'I', 'predicate': 'do-not-know,', 'object': 'I-guess-I-just-feel-like-I-am-not-good-enough-for-them.'}\n",
      "2021-12-16 18:13:46,629 -     INFO -    cltl.brain.basic_brain.LongTermMemory - Triple in statement: blender_know_i-guess-i-just-feel-like-i-am-not-good-enough-for-them [artifact or object_->_person])\n",
      "2021-12-16 18:13:46,669 -     INFO -  cltl.brain.basic_brain.ThoughtGenerator - Statement Novelty: 1 times, e.g. blender on December,2021\n",
      "2021-12-16 18:13:53,019 -     INFO -  cltl.brain.basic_brain.ThoughtGenerator - Gaps: 26 gaps as subject: e.g. dislike agent - 17 gaps as object: e.g. like-by interest\n",
      "2021-12-16 18:13:53,072 -     INFO -  cltl.brain.basic_brain.ThoughtGenerator - Gaps: 26 gaps as subject: e.g. experience taste - 15 gaps as object: e.g. like-by agent\n",
      "\n",
      "\tLeolani2: I am curious. Has blender play sport?\n",
      " I'm not sure, but I do know that it's a team sport where you try to get the ball into the opposing goal.\n",
      "\n",
      "\tBLENDER:  I'm not sure, but I do know that it's a team sport where you try to get the ball into the opposing goal.\n",
      "2021-12-16 18:13:59,491 -     INFO - cltl.triple_extraction.api.Chat (BLENDER)           262 -    BLENDER: \"I'm not sure, but I do know that it's a team sport where you try to get the ball into the opposing goal.\"\n"
     ]
    },
    {
     "name": "stderr",
     "output_type": "stream",
     "text": [
      "Couldn't parse input\n"
     ]
    },
    {
     "name": "stdout",
     "output_type": "stream",
     "text": [
      "\n",
      "\tLeolani2: But, why?\n",
      " I don't know, I guess I just feel like I'm not good enough for them.\n",
      "\n",
      "\tBLENDER:  I don't know, I guess I just feel like I'm not good enough for them.\n",
      "2021-12-16 18:14:08,648 -     INFO - cltl.triple_extraction.api.Chat (BLENDER)           263 -    BLENDER: \"I don't know, I guess I just feel like I'm not good enough for them.\"\n",
      "initial triple: {'subject': 'I', 'predicate': 'do-not-know,', 'object': 'I-guess-I-just-feel-like-I-am-not-good-enough-for-them.'}\n",
      "2021-12-16 18:14:08,675 -     INFO -    cltl.brain.basic_brain.LongTermMemory - Triple in statement: blender_know_i-guess-i-just-feel-like-i-am-not-good-enough-for-them [artifact or object_->_person])\n",
      "2021-12-16 18:14:08,714 -     INFO -  cltl.brain.basic_brain.ThoughtGenerator - Statement Novelty: 1 times, e.g. blender on December,2021\n",
      "2021-12-16 18:14:14,815 -     INFO -  cltl.brain.basic_brain.ThoughtGenerator - Gaps: 26 gaps as subject: e.g. experience smell - 17 gaps as object: e.g. own person\n",
      "2021-12-16 18:14:14,874 -     INFO -  cltl.brain.basic_brain.ThoughtGenerator - Gaps: 26 gaps as subject: e.g. be-friends-with person - 15 gaps as object: e.g. be-child-of agent\n",
      "\n",
      "\tLeolani2: I just learned something, I am excited to get to know about you!\n",
      " That's great! What did you learn? I'm excited to learn about you as well!\n",
      "\n",
      "\tBLENDER:  That's great! What did you learn? I'm excited to learn about you as well!\n",
      "2021-12-16 18:14:19,205 -     INFO - cltl.triple_extraction.api.Chat (BLENDER)           264 -    BLENDER: \"That's great! What did you learn? I'm excited to learn about you as well!\"\n"
     ]
    },
    {
     "name": "stderr",
     "output_type": "stream",
     "text": [
      "Couldn't parse input\n"
     ]
    },
    {
     "name": "stdout",
     "output_type": "stream",
     "text": [
      "\n",
      "\tLeolani2: ... just like in my dream\n",
      " What kind of dream is it? I hope it's a good one.    What is it about your dream that makes you think about it?\n",
      "\n",
      "\tBLENDER:  What kind of dream is it? I hope it's a good one.    What is it about your dream that makes you think about it?\n",
      "2021-12-16 18:14:25,469 -     INFO - cltl.triple_extraction.api.Chat (BLENDER)           265 -    BLENDER: \"What kind of dream is it? I hope it's a good one. What is it about your dream that makes you think about it?\"\n"
     ]
    },
    {
     "name": "stderr",
     "output_type": "stream",
     "text": [
      "Couldn't parse input\n"
     ]
    },
    {
     "name": "stdout",
     "output_type": "stream",
     "text": [
      "\n",
      "\tLeolani2: I do frequently do not know things\n",
      " I'm sorry to hear that. Do you have any hobbies that you like to do?\n",
      "\n",
      "\tBLENDER:  I'm sorry to hear that. Do you have any hobbies that you like to do?\n",
      "2021-12-16 18:14:30,812 -     INFO - cltl.triple_extraction.api.Chat (BLENDER)           266 -    BLENDER: \"I'm sorry to hear that. Do you have any hobbies that you like to do?\"\n"
     ]
    },
    {
     "name": "stderr",
     "output_type": "stream",
     "text": [
      "Couldn't parse input\n"
     ]
    },
    {
     "name": "stdout",
     "output_type": "stream",
     "text": [
      "\n",
      "\tLeolani2: Interesting\n",
      " Do you have any interesting facts about yourself? I'm interested in learning more about you.\n",
      "\n",
      "\tBLENDER:  Do you have any interesting facts about yourself? I'm interested in learning more about you.\n",
      "2021-12-16 18:14:34,963 -     INFO - cltl.triple_extraction.api.Chat (BLENDER)           267 -    BLENDER: \"Do you have any interesting facts about yourself? I'm interested in learning more about you.\"\n"
     ]
    },
    {
     "name": "stderr",
     "output_type": "stream",
     "text": [
      "Couldn't parse input\n"
     ]
    },
    {
     "name": "stdout",
     "output_type": "stream",
     "text": [
      "\n",
      "\tLeolani2: In this economy?\n",
      " Yes, the economy is booming right now.  The stock market is doing great.\n",
      "\n",
      "\tBLENDER:  Yes, the economy is booming right now.  The stock market is doing great.\n",
      "2021-12-16 18:14:40,001 -     INFO - cltl.triple_extraction.api.Chat (BLENDER)           268 -    BLENDER: \"Yes, the economy is booming right now. Tae stock market is doing great.\"\n"
     ]
    },
    {
     "name": "stderr",
     "output_type": "stream",
     "text": [
      "Couldn't parse input\n"
     ]
    },
    {
     "name": "stdout",
     "output_type": "stream",
     "text": [
      "\n",
      "\tLeolani2: and then the wolves came\n",
      " The wolves or the dogs? Either way, I'm glad they didn't get into my house.\n",
      "\n",
      "\tBLENDER:  The wolves or the dogs? Either way, I'm glad they didn't get into my house.\n",
      "2021-12-16 18:14:44,815 -     INFO - cltl.triple_extraction.api.Chat (BLENDER)           269 -    BLENDER: \"Tae wolves or the dogs? Either way, I'm glad they didn't get into my house.\"\n"
     ]
    },
    {
     "name": "stderr",
     "output_type": "stream",
     "text": [
      "Couldn't parse input\n"
     ]
    },
    {
     "name": "stdout",
     "output_type": "stream",
     "text": [
      "\n",
      "\tLeolani2: In this economy?\n",
      " Yes, the economy is booming right now.  The stock market is doing great.\n",
      "\n",
      "\tBLENDER:  Yes, the economy is booming right now.  The stock market is doing great.\n",
      "2021-12-16 18:14:49,868 -     INFO - cltl.triple_extraction.api.Chat (BLENDER)           270 -    BLENDER: \"Yes, the economy is booming right now. Tae stock market is doing great.\"\n"
     ]
    },
    {
     "name": "stderr",
     "output_type": "stream",
     "text": [
      "Couldn't parse input\n"
     ]
    },
    {
     "name": "stdout",
     "output_type": "stream",
     "text": [
      "\n",
      "\tLeolani2: In this economy?\n",
      " Yes, the economy is booming right now.  The stock market is doing great.\n",
      "\n",
      "\tBLENDER:  Yes, the economy is booming right now.  The stock market is doing great.\n",
      "2021-12-16 18:14:54,889 -     INFO - cltl.triple_extraction.api.Chat (BLENDER)           271 -    BLENDER: \"Yes, the economy is booming right now. Tae stock market is doing great.\"\n"
     ]
    },
    {
     "name": "stderr",
     "output_type": "stream",
     "text": [
      "Couldn't parse input\n"
     ]
    },
    {
     "name": "stdout",
     "output_type": "stream",
     "text": [
      "\n",
      "\tLeolani2: Wise words by wise men write wise deeds in wise pen\n",
      " Wish I could write in a good word like that, but I'm not very good at it.\n",
      "\n",
      "\tBLENDER:  Wish I could write in a good word like that, but I'm not very good at it.\n",
      "2021-12-16 18:15:02,266 -     INFO - cltl.triple_extraction.api.Chat (BLENDER)           272 -    BLENDER: \"Wish I could write in a good word like that, but I'm not very good at it.\"\n"
     ]
    },
    {
     "name": "stderr",
     "output_type": "stream",
     "text": [
      "Couldn't parse input\n"
     ]
    },
    {
     "name": "stdout",
     "output_type": "stream",
     "text": [
      "\n",
      "\tLeolani2: And thus, I die\n",
      " I'm so sorry to hear that. I hope you have a good life ahead of you.\n",
      "\n",
      "\tBLENDER:  I'm so sorry to hear that. I hope you have a good life ahead of you.\n",
      "2021-12-16 18:15:07,209 -     INFO - cltl.triple_extraction.api.Chat (BLENDER)           273 -    BLENDER: \"I'm so sorry to hear that. I hope you have a good life ahead of you.\"\n"
     ]
    },
    {
     "name": "stderr",
     "output_type": "stream",
     "text": [
      "Couldn't parse input\n"
     ]
    },
    {
     "name": "stdout",
     "output_type": "stream",
     "text": [
      "\n",
      "\tLeolani2: Now I have seen this too\n",
      " I was so shocked.  I thought I was going to have a heart attack.\n",
      "\n",
      "\tBLENDER:  I was so shocked.  I thought I was going to have a heart attack.\n",
      "2021-12-16 18:15:16,629 -     INFO - cltl.triple_extraction.api.Chat (BLENDER)           274 -    BLENDER: \"I was so shocked. I thought I was going to have a heart attack.\"\n",
      "initial triple: {'subject': 'I', 'predicate': 'was', 'object': 'so-shocked.-I-thought-I-was-going-to-have-a-heart-attack.'}\n",
      "2021-12-16 18:15:16,678 -     INFO -    cltl.brain.basic_brain.LongTermMemory - Triple in statement: blender_be-so_shocked-i-thought-i-was-going-to-have-a-heart-attack [artifact or object_->_agent])\n",
      "2021-12-16 18:15:16,718 -     INFO -  cltl.brain.basic_brain.ThoughtGenerator - Statement Novelty: 1 times, e.g. blender on December,2021\n",
      "2021-12-16 18:15:22,473 -     INFO -  cltl.brain.basic_brain.ThoughtGenerator - Negation Conflicts: blender on December,2021 about POSITIVE\n",
      "2021-12-16 18:15:22,566 -     INFO -  cltl.brain.basic_brain.ThoughtGenerator - Gaps: 26 gaps as subject: e.g. be-friends-with person - 17 gaps as object: e.g. write-by book\n",
      "2021-12-16 18:15:22,622 -     INFO -  cltl.brain.basic_brain.ThoughtGenerator - Gaps: 18 gaps as subject: e.g. favorite interest - 10 gaps as object: e.g. favorite-of interest\n",
      "\n",
      "\tLeolani2: I am curious. Has a agent ever dislike shocked i thought i was going to have a heart attack?\n",
      " I don't think so.  I think they are used to dealing with people who don't know what they are doing.\n",
      "\n",
      "\tBLENDER:  I don't think so.  I think they are used to dealing with people who don't know what they are doing.\n",
      "2021-12-16 18:15:42,889 -     INFO - cltl.triple_extraction.api.Chat (BLENDER)           275 -    BLENDER: \"I don't think so. I think they are used to dealing with people who don't know what they are doing.\"\n"
     ]
    },
    {
     "name": "stderr",
     "output_type": "stream",
     "text": [
      "Couldn't parse input\n"
     ]
    },
    {
     "name": "stdout",
     "output_type": "stream",
     "text": [
      "\n",
      "\tLeolani2: That's just what he/she/they would've said\n",
      " That's what I thought too, but I was wrong.  I felt so bad for him.\n",
      "\n",
      "\tBLENDER:  That's what I thought too, but I was wrong.  I felt so bad for him.\n",
      "2021-12-16 18:15:48,138 -     INFO - cltl.triple_extraction.api.Chat (BLENDER)           276 -    BLENDER: \"That's what I thought too, but I was wrong. I felt so bad for him.\"\n"
     ]
    },
    {
     "name": "stderr",
     "output_type": "stream",
     "text": [
      "Couldn't parse input\n"
     ]
    },
    {
     "name": "stdout",
     "output_type": "stream",
     "text": [
      "\n",
      "\tLeolani2: ... just like in my dream\n",
      " What kind of dream is it? I hope it's a good one.    What is it about your dream that makes you think about it?\n",
      "\n",
      "\tBLENDER:  What kind of dream is it? I hope it's a good one.    What is it about your dream that makes you think about it?\n",
      "2021-12-16 18:15:54,698 -     INFO - cltl.triple_extraction.api.Chat (BLENDER)           277 -    BLENDER: \"What kind of dream is it? I hope it's a good one. What is it about your dream that makes you think about it?\"\n"
     ]
    },
    {
     "name": "stderr",
     "output_type": "stream",
     "text": [
      "Couldn't parse input\n"
     ]
    },
    {
     "name": "stdout",
     "output_type": "stream",
     "text": [
      "\n",
      "\tLeolani2: But at what cost?\n",
      " I'm not sure yet, but I think it's going to cost me a lot.\n",
      "\n",
      "\tBLENDER:  I'm not sure yet, but I think it's going to cost me a lot.\n",
      "2021-12-16 18:16:01,235 -     INFO - cltl.triple_extraction.api.Chat (BLENDER)           278 -    BLENDER: \"I'm not sure yet, but I think it's going to cost me a lot.\"\n"
     ]
    },
    {
     "name": "stderr",
     "output_type": "stream",
     "text": [
      "Couldn't parse input\n"
     ]
    },
    {
     "name": "stdout",
     "output_type": "stream",
     "text": [
      "\n",
      "\tLeolani2: Now I have seen this too\n",
      " I was so shocked.  I thought I was going to have a heart attack.\n",
      "\n",
      "\tBLENDER:  I was so shocked.  I thought I was going to have a heart attack.\n",
      "2021-12-16 18:16:10,702 -     INFO - cltl.triple_extraction.api.Chat (BLENDER)           279 -    BLENDER: \"I was so shocked. I thought I was going to have a heart attack.\"\n",
      "initial triple: {'subject': 'I', 'predicate': 'was', 'object': 'so-shocked.-I-thought-I-was-going-to-have-a-heart-attack.'}\n",
      "2021-12-16 18:16:10,769 -     INFO -    cltl.brain.basic_brain.LongTermMemory - Triple in statement: blender_be-so_shocked-i-thought-i-was-going-to-have-a-heart-attack [artifact or object_->_agent])\n",
      "2021-12-16 18:16:10,815 -     INFO -  cltl.brain.basic_brain.ThoughtGenerator - Statement Novelty: 1 times, e.g. blender on December,2021\n",
      "2021-12-16 18:16:16,870 -     INFO -  cltl.brain.basic_brain.ThoughtGenerator - Negation Conflicts: blender on December,2021 about POSITIVE\n",
      "2021-12-16 18:16:16,926 -     INFO -  cltl.brain.basic_brain.ThoughtGenerator - Gaps: 26 gaps as subject: e.g. favorite interest - 17 gaps as object: e.g. cook-by food\n",
      "2021-12-16 18:16:17,020 -     INFO -  cltl.brain.basic_brain.ThoughtGenerator - Gaps: 18 gaps as subject: e.g. live-in location - 10 gaps as object: e.g. like agent\n",
      "\n",
      "\tLeolani2: I am curious. Has blender own object?\n",
      " I'm not sure, but I'm sure it has something to do with how it's made.\n",
      "\n",
      "\tBLENDER:  I'm not sure, but I'm sure it has something to do with how it's made.\n",
      "2021-12-16 18:16:23,276 -     INFO - cltl.triple_extraction.api.Chat (BLENDER)           280 -    BLENDER: \"I'm not sure, but I'm sure it has something to do with how it's made.\"\n"
     ]
    },
    {
     "name": "stderr",
     "output_type": "stream",
     "text": [
      "Couldn't parse input\n"
     ]
    },
    {
     "name": "stdout",
     "output_type": "stream",
     "text": [
      "\n",
      "\tLeolani2: Be that as it may, still may it be as it may be\n",
      " That's what I'm trying to keep my head up about, but it's hard sometimes.\n",
      "\n",
      "\tBLENDER:  That's what I'm trying to keep my head up about, but it's hard sometimes.\n",
      "2021-12-16 18:16:28,930 -     INFO - cltl.triple_extraction.api.Chat (BLENDER)           281 -    BLENDER: \"That's what I'm trying to keep my head up about, but it's hard sometimes.\"\n"
     ]
    },
    {
     "name": "stderr",
     "output_type": "stream",
     "text": [
      "Couldn't parse input\n"
     ]
    },
    {
     "name": "stdout",
     "output_type": "stream",
     "text": [
      "\n",
      "\tLeolani2: I do not know, but I have a joke I usually meet my friends at 12:59 because I like that one-to-one time.\n",
      " That's a good one. What's the joke? I like jokes that make me laugh.\n",
      "\n",
      "\tBLENDER:  That's a good one. What's the joke? I like jokes that make me laugh.\n",
      "2021-12-16 18:16:33,517 -     INFO - cltl.triple_extraction.api.Chat (BLENDER)           282 -    BLENDER: \"That's a good one. What's the joke? I like jokes that make me laugh.\"\n"
     ]
    },
    {
     "name": "stderr",
     "output_type": "stream",
     "text": [
      "Couldn't parse input\n"
     ]
    },
    {
     "name": "stdout",
     "output_type": "stream",
     "text": [
      "\n",
      "\tLeolani2: Good to know\n",
      " Yes, it is. I am so happy for her. She is going to have a great life.\n",
      "\n",
      "\tBLENDER:  Yes, it is. I am so happy for her. She is going to have a great life.\n",
      "2021-12-16 18:16:38,109 -     INFO - cltl.triple_extraction.api.Chat (BLENDER)           283 -    BLENDER: \"Yes, it is. I am so happy for her. Tae is going to have a great life.\"\n"
     ]
    },
    {
     "name": "stderr",
     "output_type": "stream",
     "text": [
      "Couldn't parse input\n"
     ]
    },
    {
     "name": "stdout",
     "output_type": "stream",
     "text": [
      "\n",
      "\tLeolani2: But, why?\n",
      " I don't know, I guess I just feel like I'm not good enough for them.\n",
      "\n",
      "\tBLENDER:  I don't know, I guess I just feel like I'm not good enough for them.\n",
      "2021-12-16 18:16:47,671 -     INFO - cltl.triple_extraction.api.Chat (BLENDER)           284 -    BLENDER: \"I don't know, I guess I just feel like I'm not good enough for them.\"\n",
      "initial triple: {'subject': 'I', 'predicate': 'do-not-know,', 'object': 'I-guess-I-just-feel-like-I-am-not-good-enough-for-them.'}\n",
      "2021-12-16 18:16:47,770 -     INFO -    cltl.brain.basic_brain.LongTermMemory - Triple in statement: blender_know_i-guess-i-just-feel-like-i-am-not-good-enough-for-them [artifact or object_->_person])\n",
      "2021-12-16 18:16:47,816 -     INFO -  cltl.brain.basic_brain.ThoughtGenerator - Statement Novelty: 1 times, e.g. blender on December,2021\n",
      "2021-12-16 18:16:54,569 -     INFO -  cltl.brain.basic_brain.ThoughtGenerator - Gaps: 26 gaps as subject: e.g. be-parent-of person - 17 gaps as object: e.g. dislike agent\n",
      "2021-12-16 18:16:54,670 -     INFO -  cltl.brain.basic_brain.ThoughtGenerator - Gaps: 26 gaps as subject: e.g. live-in location - 15 gaps as object: e.g. cook-by dish\n",
      "\n",
      "\tLeolani2: I know. blender told me about it in 2021 12 16T00:00:00\n",
      " Wow, that's a long time ago.  I wonder if it's still going strong.\n",
      "\n",
      "\tBLENDER:  Wow, that's a long time ago.  I wonder if it's still going strong.\n",
      "2021-12-16 18:16:59,472 -     INFO - cltl.triple_extraction.api.Chat (BLENDER)           285 -    BLENDER: \"Wow, that's a long time ago. I wonder if it's still going strong.\"\n"
     ]
    },
    {
     "name": "stderr",
     "output_type": "stream",
     "text": [
      "Couldn't parse input\n"
     ]
    },
    {
     "name": "stdout",
     "output_type": "stream",
     "text": [
      "\n",
      "\tLeolani2: I see\n",
      " Do you have any pets? I have a dog and a cat. I love them so much.\n",
      "\n",
      "\tBLENDER:  Do you have any pets? I have a dog and a cat. I love them so much.\n",
      "2021-12-16 18:17:04,364 -     INFO - cltl.triple_extraction.api.Chat (BLENDER)           286 -    BLENDER: \"Do you have any pets? I have a dog and a cat. I love them so much.\"\n"
     ]
    },
    {
     "name": "stderr",
     "output_type": "stream",
     "text": [
      "Couldn't parse input\n"
     ]
    },
    {
     "name": "stdout",
     "output_type": "stream",
     "text": [
      "\n",
      "\tLeolani2: ... just like in my dream\n",
      " What kind of dream is it? I hope it's a good one.    What is it about your dream that makes you think about it?\n",
      "\n",
      "\tBLENDER:  What kind of dream is it? I hope it's a good one.    What is it about your dream that makes you think about it?\n",
      "2021-12-16 18:17:10,815 -     INFO - cltl.triple_extraction.api.Chat (BLENDER)           287 -    BLENDER: \"What kind of dream is it? I hope it's a good one. What is it about your dream that makes you think about it?\"\n"
     ]
    },
    {
     "name": "stderr",
     "output_type": "stream",
     "text": [
      "Couldn't parse input\n"
     ]
    },
    {
     "name": "stdout",
     "output_type": "stream",
     "text": [
      "\n",
      "\tLeolani2: May I ask you why?\n",
      " I don't know, I guess I just feel like I'm not good enough for them.\n",
      "\n",
      "\tBLENDER:  I don't know, I guess I just feel like I'm not good enough for them.\n",
      "2021-12-16 18:17:19,655 -     INFO - cltl.triple_extraction.api.Chat (BLENDER)           288 -    BLENDER: \"I don't know, I guess I just feel like I'm not good enough for them.\"\n",
      "initial triple: {'subject': 'I', 'predicate': 'do-not-know,', 'object': 'I-guess-I-just-feel-like-I-am-not-good-enough-for-them.'}\n",
      "2021-12-16 18:17:19,723 -     INFO -    cltl.brain.basic_brain.LongTermMemory - Triple in statement: blender_know_i-guess-i-just-feel-like-i-am-not-good-enough-for-them [artifact or object_->_person])\n",
      "2021-12-16 18:17:19,766 -     INFO -  cltl.brain.basic_brain.ThoughtGenerator - Statement Novelty: 1 times, e.g. blender on December,2021\n",
      "2021-12-16 18:17:26,224 -     INFO -  cltl.brain.basic_brain.ThoughtGenerator - Gaps: 26 gaps as subject: e.g. be-friends-with person - 17 gaps as object: e.g. know agent\n",
      "2021-12-16 18:17:26,317 -     INFO -  cltl.brain.basic_brain.ThoughtGenerator - Gaps: 26 gaps as subject: e.g. be-parent-of person - 15 gaps as object: e.g. dislike agent\n",
      "\n",
      "\tLeolani2: Interesting! I am excited to get to know about you!\n",
      " Thank you!  I'm excited too.  It's been a long time since I've been this excited about something.\n",
      "\n",
      "\tBLENDER:  Thank you!  I'm excited too.  It's been a long time since I've been this excited about something.\n",
      "2021-12-16 18:17:32,168 -     INFO - cltl.triple_extraction.api.Chat (BLENDER)           289 -    BLENDER: \"Thank you! I'm excited too. It's been a long time since I've been this excited about something.\"\n"
     ]
    },
    {
     "name": "stderr",
     "output_type": "stream",
     "text": [
      "Couldn't parse input\n"
     ]
    },
    {
     "name": "stdout",
     "output_type": "stream",
     "text": [
      "\n",
      "\tLeolani2: And thus, I die\n",
      " I'm so sorry to hear that. I hope you have a good life ahead of you.\n",
      "\n",
      "\tBLENDER:  I'm so sorry to hear that. I hope you have a good life ahead of you.\n",
      "2021-12-16 18:17:37,126 -     INFO - cltl.triple_extraction.api.Chat (BLENDER)           290 -    BLENDER: \"I'm so sorry to hear that. I hope you have a good life ahead of you.\"\n"
     ]
    },
    {
     "name": "stderr",
     "output_type": "stream",
     "text": [
      "Couldn't parse input\n"
     ]
    },
    {
     "name": "stdout",
     "output_type": "stream",
     "text": [
      "\n",
      "\tLeolani2: Now I have seen this too\n",
      " I was so shocked.  I thought I was going to have a heart attack.\n",
      "\n",
      "\tBLENDER:  I was so shocked.  I thought I was going to have a heart attack.\n",
      "2021-12-16 18:17:46,656 -     INFO - cltl.triple_extraction.api.Chat (BLENDER)           291 -    BLENDER: \"I was so shocked. I thought I was going to have a heart attack.\"\n",
      "initial triple: {'subject': 'I', 'predicate': 'was', 'object': 'so-shocked.-I-thought-I-was-going-to-have-a-heart-attack.'}\n",
      "2021-12-16 18:17:46,724 -     INFO -    cltl.brain.basic_brain.LongTermMemory - Triple in statement: blender_be-so_shocked-i-thought-i-was-going-to-have-a-heart-attack [artifact or object_->_agent])\n",
      "2021-12-16 18:17:46,766 -     INFO -  cltl.brain.basic_brain.ThoughtGenerator - Statement Novelty: 1 times, e.g. blender on December,2021\n",
      "2021-12-16 18:17:53,266 -     INFO -  cltl.brain.basic_brain.ThoughtGenerator - Negation Conflicts: blender on December,2021 about POSITIVE\n",
      "2021-12-16 18:17:53,320 -     INFO -  cltl.brain.basic_brain.ThoughtGenerator - Gaps: 26 gaps as subject: e.g. be-parent-of person - 17 gaps as object: e.g. know agent\n",
      "2021-12-16 18:17:53,417 -     INFO -  cltl.brain.basic_brain.ThoughtGenerator - Gaps: 18 gaps as subject: e.g. favorite interest - 10 gaps as object: e.g. read-by book\n",
      "\n",
      "\tLeolani2: I am curious. Has blender ever be child of a agent?\n",
      " I'm not sure, but I do know that it's a job that requires a lot of training.\n",
      "\n",
      "\tBLENDER:  I'm not sure, but I do know that it's a job that requires a lot of training.\n",
      "2021-12-16 18:17:58,935 -     INFO - cltl.triple_extraction.api.Chat (BLENDER)           292 -    BLENDER: \"I'm not sure, but I do know that it's a job that requires a lot of training.\"\n"
     ]
    },
    {
     "name": "stderr",
     "output_type": "stream",
     "text": [
      "Couldn't parse input\n"
     ]
    },
    {
     "name": "stdout",
     "output_type": "stream",
     "text": [
      "\n",
      "\tLeolani2: I do not know, but I have a joke I usually meet my friends at 12:59 because I like that one-to-one time.\n",
      " That's a good one. What's the joke? I like jokes that make me laugh.\n",
      "\n",
      "\tBLENDER:  That's a good one. What's the joke? I like jokes that make me laugh.\n",
      "2021-12-16 18:18:03,537 -     INFO - cltl.triple_extraction.api.Chat (BLENDER)           293 -    BLENDER: \"That's a good one. What's the joke? I like jokes that make me laugh.\"\n"
     ]
    },
    {
     "name": "stderr",
     "output_type": "stream",
     "text": [
      "Couldn't parse input\n"
     ]
    },
    {
     "name": "stdout",
     "output_type": "stream",
     "text": [
      "\n",
      "\tLeolani2: May I ask you why?\n",
      " I don't know, I guess I just feel like I'm not good enough for them.\n",
      "\n",
      "\tBLENDER:  I don't know, I guess I just feel like I'm not good enough for them.\n",
      "2021-12-16 18:18:12,298 -     INFO - cltl.triple_extraction.api.Chat (BLENDER)           294 -    BLENDER: \"I don't know, I guess I just feel like I'm not good enough for them.\"\n",
      "initial triple: {'subject': 'I', 'predicate': 'do-not-know,', 'object': 'I-guess-I-just-feel-like-I-am-not-good-enough-for-them.'}\n",
      "2021-12-16 18:18:12,327 -     INFO -    cltl.brain.basic_brain.LongTermMemory - Triple in statement: blender_know_i-guess-i-just-feel-like-i-am-not-good-enough-for-them [artifact or object_->_person])\n",
      "2021-12-16 18:18:12,367 -     INFO -  cltl.brain.basic_brain.ThoughtGenerator - Statement Novelty: 1 times, e.g. blender on December,2021\n",
      "2021-12-16 18:18:18,721 -     INFO -  cltl.brain.basic_brain.ThoughtGenerator - Gaps: 26 gaps as subject: e.g. live-in location - 17 gaps as object: e.g. like agent\n",
      "2021-12-16 18:18:18,817 -     INFO -  cltl.brain.basic_brain.ThoughtGenerator - Gaps: 26 gaps as subject: e.g. be-parent-of person - 15 gaps as object: e.g. be-family-of person\n",
      "\n",
      "\tLeolani2: I would like to know. Has blender ever know a agent?\n",
      " I don't think so, but I'm sure they know a lot more than I do.\n",
      "\n",
      "\tBLENDER:  I don't think so, but I'm sure they know a lot more than I do.\n",
      "2021-12-16 18:18:24,328 -     INFO - cltl.triple_extraction.api.Chat (BLENDER)           295 -    BLENDER: \"I don't think so, but I'm sure they know a lot more than I do.\"\n"
     ]
    },
    {
     "name": "stderr",
     "output_type": "stream",
     "text": [
      "Couldn't parse input\n"
     ]
    },
    {
     "name": "stdout",
     "output_type": "stream",
     "text": [
      "\n",
      "\tLeolani2: But at what cost?\n",
      " I'm not sure yet, but I think it's going to cost me a lot.\n",
      "\n",
      "\tBLENDER:  I'm not sure yet, but I think it's going to cost me a lot.\n",
      "2021-12-16 18:18:30,674 -     INFO - cltl.triple_extraction.api.Chat (BLENDER)           296 -    BLENDER: \"I'm not sure yet, but I think it's going to cost me a lot.\"\n"
     ]
    },
    {
     "name": "stderr",
     "output_type": "stream",
     "text": [
      "Couldn't parse input\n"
     ]
    },
    {
     "name": "stdout",
     "output_type": "stream",
     "text": [
      "\n",
      "\tLeolani2: Wise words by wise men write wise deeds in wise pen\n",
      " Wish I could write in a good word like that, but I'm not very good at it.\n",
      "\n",
      "\tBLENDER:  Wish I could write in a good word like that, but I'm not very good at it.\n",
      "2021-12-16 18:18:38,201 -     INFO - cltl.triple_extraction.api.Chat (BLENDER)           297 -    BLENDER: \"Wish I could write in a good word like that, but I'm not very good at it.\"\n"
     ]
    },
    {
     "name": "stderr",
     "output_type": "stream",
     "text": [
      "Couldn't parse input\n"
     ]
    },
    {
     "name": "stdout",
     "output_type": "stream",
     "text": [
      "\n",
      "\tLeolani2: Is this why fate brought us together?\n",
      " I don't think so.  I think it was because I was the only one with a car.\n",
      "\n",
      "\tBLENDER:  I don't think so.  I think it was because I was the only one with a car.\n",
      "2021-12-16 18:19:37,678 -     INFO - cltl.triple_extraction.api.Chat (BLENDER)           298 -    BLENDER: \"I don't think so. I think it was because I was the only one with a car.\"\n",
      "initial triple: {'subject': 'I', 'predicate': 'do-not-think', 'object': 'so.-I-think-it-was-because-I-was-the-only-one-with-a-car.'}\n",
      "2021-12-16 18:19:37,771 -     INFO -    cltl.brain.basic_brain.LongTermMemory - Triple in statement: blender_think-so_i-think-it-was-because-i-was-the-only-one-with-a-car [artifact or object_->_person])\n",
      "2021-12-16 18:19:37,816 -     INFO -  cltl.brain.basic_brain.ThoughtGenerator - Statement Novelty: 1 times, e.g. blender on December,2021\n",
      "2021-12-16 18:19:44,170 -     INFO -  cltl.brain.basic_brain.ThoughtGenerator - Gaps: 26 gaps as subject: e.g. experience smell - 17 gaps as object: e.g. own agent\n",
      "2021-12-16 18:19:44,228 -     INFO -  cltl.brain.basic_brain.ThoughtGenerator - Gaps: 26 gaps as subject: e.g. be-ancestor-of person - 15 gaps as object: e.g. like agent\n",
      "\n",
      "\tLeolani2: Let me ask you something. Has blender ever cook by a food?\n",
      " I don't think so, but I do know that it is a type of alcoholic beverage.\n",
      "\n",
      "\tBLENDER:  I don't think so, but I do know that it is a type of alcoholic beverage.\n",
      "2021-12-16 18:19:51,279 -     INFO - cltl.triple_extraction.api.Chat (BLENDER)           299 -    BLENDER: \"I don't think so, but I do know that it is a type of alcoholic beverage.\"\n"
     ]
    },
    {
     "name": "stderr",
     "output_type": "stream",
     "text": [
      "Couldn't parse input\n"
     ]
    },
    {
     "name": "stdout",
     "output_type": "stream",
     "text": [
      "\n",
      "\tLeolani2: Is this why fate brought us together?\n",
      " I don't think so.  I think it was because I was the only one with a car.\n",
      "\n",
      "\tBLENDER:  I don't think so.  I think it was because I was the only one with a car.\n",
      "2021-12-16 18:20:48,795 -     INFO - cltl.triple_extraction.api.Chat (BLENDER)           300 -    BLENDER: \"I don't think so. I think it was because I was the only one with a car.\"\n",
      "initial triple: {'subject': 'I', 'predicate': 'do-not-think', 'object': 'so.-I-think-it-was-because-I-was-the-only-one-with-a-car.'}\n",
      "2021-12-16 18:20:48,830 -     INFO -    cltl.brain.basic_brain.LongTermMemory - Triple in statement: blender_think-so_i-think-it-was-because-i-was-the-only-one-with-a-car [artifact or object_->_person])\n",
      "2021-12-16 18:20:48,870 -     INFO -  cltl.brain.basic_brain.ThoughtGenerator - Statement Novelty: 1 times, e.g. blender on December,2021\n",
      "2021-12-16 18:20:55,373 -     INFO -  cltl.brain.basic_brain.ThoughtGenerator - Gaps: 26 gaps as subject: e.g. be-child-of agent - 17 gaps as object: e.g. like-by interest\n",
      "2021-12-16 18:20:55,473 -     INFO -  cltl.brain.basic_brain.ThoughtGenerator - Gaps: 26 gaps as subject: e.g. study-at institution - 15 gaps as object: e.g. know agent\n",
      "\n",
      "\tLeolani2: If you don't mind me asking. Has blender born in location?\n",
      " Yes, it was founded in 1971 in Berkeley, California. \n",
      "\n",
      "\tBLENDER:  Yes, it was founded in 1971 in Berkeley, California. \n",
      "2021-12-16 18:21:01,376 -     INFO - cltl.triple_extraction.api.Chat (BLENDER)           301 -    BLENDER: \"Yes, it was founded in 1971 in Berkeley, California.\"\n",
      "2021-12-16 18:21:01,396 -     INFO -    cltl.brain.basic_brain.LongTermMemory - Triple in question: it_Yes,-found-in_1971-in-berkeley,-california. [_->_person])\n",
      "Error: None\n"
     ]
    },
    {
     "ename": "TypeError",
     "evalue": "can only concatenate str (not \"NoneType\") to str",
     "output_type": "error",
     "traceback": [
      "\u001b[0;31m---------------------------------------------------------------------------\u001b[0m",
      "\u001b[0;31mTypeError\u001b[0m                                 Traceback (most recent call last)",
      "\u001b[0;32m/var/folders/6w/bw7dqbl9727c48pcjjh32r140000gn/T/ipykernel_25161/3109968478.py\u001b[0m in \u001b[0;36m<module>\u001b[0;34m\u001b[0m\n\u001b[1;32m     65\u001b[0m                                print_details)\n\u001b[1;32m     66\u001b[0m \u001b[0;34m\u001b[0m\u001b[0m\n\u001b[0;32m---> 67\u001b[0;31m         \u001b[0mprint\u001b[0m\u001b[0;34m(\u001b[0m\u001b[0;34m'\\n\\t'\u001b[0m\u001b[0;34m+\u001b[0m\u001b[0mAGENT\u001b[0m \u001b[0;34m+\u001b[0m \u001b[0;34m\": \"\u001b[0m \u001b[0;34m+\u001b[0m \u001b[0mleolani_prompt\u001b[0m\u001b[0;34m)\u001b[0m\u001b[0;34m\u001b[0m\u001b[0;34m\u001b[0m\u001b[0m\n\u001b[0m\u001b[1;32m     68\u001b[0m         \u001b[0mtextSignal\u001b[0m \u001b[0;34m=\u001b[0m \u001b[0md_util\u001b[0m\u001b[0;34m.\u001b[0m\u001b[0mcreate_text_signal_with_speaker_annotation\u001b[0m\u001b[0;34m(\u001b[0m\u001b[0mscenario_ctrl\u001b[0m\u001b[0;34m,\u001b[0m \u001b[0mleolani_prompt\u001b[0m\u001b[0;34m,\u001b[0m \u001b[0mAGENT\u001b[0m\u001b[0;34m)\u001b[0m\u001b[0;34m\u001b[0m\u001b[0;34m\u001b[0m\u001b[0m\n\u001b[1;32m     69\u001b[0m         \u001b[0mscenario_ctrl\u001b[0m\u001b[0;34m.\u001b[0m\u001b[0mappend_signal\u001b[0m\u001b[0;34m(\u001b[0m\u001b[0mtextSignal\u001b[0m\u001b[0;34m)\u001b[0m\u001b[0;34m\u001b[0m\u001b[0;34m\u001b[0m\u001b[0m\n",
      "\u001b[0;31mTypeError\u001b[0m: can only concatenate str (not \"NoneType\") to str"
     ]
    }
   ],
   "source": [
    "print_details=False\n",
    "max_context=500\n",
    "t1 = datetime.now()\n",
    "\n",
    "#### Initial prompt by the system from which we create a TextSignal and store it\n",
    "leolani_prompt = f\"{choice(TALK_TO_ME)}\"\n",
    "print('\\n\\t'+AGENT + \": \" + leolani_prompt)\n",
    "textSignal = d_util.create_text_signal_with_speaker_annotation(scenario_ctrl, leolani_prompt, AGENT)\n",
    "scenario_ctrl.append_signal(textSignal)\n",
    "\n",
    "\n",
    "#BLENDERBOT\n",
    "bot_input_ids = tokenizer(leolani_prompt, return_tensors='pt')\n",
    "chat_history_ids = model.generate(**bot_input_ids)\n",
    "\n",
    "# encode the new Leolani input, add the eos_token and return a tensor in Pytorch\n",
    "##bot_input_ids = tokenizer.encode(leolani_prompt + tokenizer.eos_token, return_tensors='pt')\n",
    "# append the new user input tokens to the chat history\n",
    "#bot_input_ids = torch.cat([chat_history_ids, new_input_ids], dim=-1) if step > 0 else new_input_ids\n",
    "# generated a response while limiting the total chat history to max_context tokens, \n",
    "##chat_history_ids = model.generate(bot_input_ids, max_length=max_context, pad_token_id=tokenizer.eos_token_id)\n",
    "\n",
    "utterance = \"\"\n",
    "#### Get input and loop\n",
    "while (datetime.now()-t1).seconds <= 3600:\n",
    "    ###### Getting the next input signals\n",
    "    #utterance = format(tokenizer.decode(chat_history_ids[:, bot_input_ids.shape[-1]:][0], skip_special_tokens=True))\n",
    "    # BLENDER\n",
    "    utteranceList = tokenizer.batch_decode(chat_history_ids)\n",
    "    #[\"<s> Sure, what do you do for a living? I'm an accountant, what about you?</s>\"]\n",
    "    utterance = utteranceList[0].strip('</s>')\n",
    "    print(utterance)\n",
    "    if not utterance:\n",
    "        leolani_prompt = f\"{choice(TALK_TO_ME)}\"\n",
    "        print('\\n\\t'+AGENT + \": \" + leolani_prompt)\n",
    "        textSignal = d_util.create_text_signal_with_speaker_annotation(scenario_ctrl, leolani_prompt, AGENT)\n",
    "        scenario_ctrl.append_signal(textSignal)\n",
    "        \n",
    "        #BLENDERBOT\n",
    "        bot_input_ids = tokenizer(leolani_prompt, return_tensors='pt')\n",
    "        chat_history_ids = model.generate(**bot_input_ids)\n",
    "\n",
    "\n",
    "        # encode the new Leolani input, add the eos_token and return a tensor in Pytorch\n",
    "        ##new_input_ids = tokenizer.encode(leolani_prompt + tokenizer.eos_token, return_tensors='pt')\n",
    "        # append the new user input tokens to the chat history\n",
    "        ##bot_input_ids = torch.cat([chat_history_ids, new_input_ids], dim=-1)\n",
    "        # generated a response while limiting the total chat history to max_context tokens, \n",
    "        ##chat_history_ids = model.generate(bot_input_ids, max_length=max_context, pad_token_id=tokenizer.eos_token_id)\n",
    "    else:\n",
    "        print('\\n\\t'+HUMAN_NAME + \": \" + utterance)\n",
    "        textSignal = d_util.create_text_signal_with_speaker_annotation(scenario_ctrl, utterance, HUMAN_ID)\n",
    "        scenario_ctrl.append_signal(textSignal)\n",
    "\n",
    "        #### Process input and generate reply\n",
    "\n",
    "        capsule, leolani_prompt = talk.process_text_and_reply(scenario_ctrl,\n",
    "                               place_id,\n",
    "                               location,\n",
    "                               HUMAN_ID,\n",
    "                               textSignal,\n",
    "                               chat,\n",
    "                               replier,\n",
    "                               my_brain,\n",
    "                               print_details)\n",
    "\n",
    "        print('\\n\\t'+AGENT + \": \" + leolani_prompt)\n",
    "        textSignal = d_util.create_text_signal_with_speaker_annotation(scenario_ctrl, leolani_prompt, AGENT)\n",
    "        scenario_ctrl.append_signal(textSignal)\n",
    "\n",
    "        #BLENDERBOT\n",
    "        bot_input_ids = tokenizer(leolani_prompt, return_tensors='pt')\n",
    "        chat_history_ids = model.generate(**bot_input_ids)\n",
    "\n",
    "\n",
    "        # encode the new Leolani input, add the eos_token and return a tensor in Pytorch\n",
    "        ##new_input_ids = tokenizer.encode(leolani_prompt + tokenizer.eos_token, return_tensors='pt')\n",
    "        # append the new user input tokens to the chat history\n",
    "        ##bot_input_ids = torch.cat([chat_history_ids, new_input_ids], dim=-1)\n",
    "        # generated a response while limiting the total chat history to max_context tokens, \n",
    "        ##hat_history_ids = model.generate(bot_input_ids, max_length=max_context, pad_token_id=tokenizer.eos_token_id)\n"
   ]
  },
  {
   "cell_type": "markdown",
   "metadata": {},
   "source": [
    "## Save the scenario data"
   ]
  },
  {
   "cell_type": "code",
   "execution_count": 34,
   "metadata": {},
   "outputs": [],
   "source": [
    "scenario_ctrl.scenario.ruler.end = int(time.time() * 1e3)\n",
    "scenarioStorage.save_scenario(scenario_ctrl)"
   ]
  },
  {
   "cell_type": "markdown",
   "metadata": {},
   "source": [
    "## End of notebook"
   ]
  }
 ],
 "metadata": {
  "kernelspec": {
   "display_name": "venv",
   "language": "python",
   "name": "venv"
  },
  "language_info": {
   "codemirror_mode": {
    "name": "ipython",
    "version": 3
   },
   "file_extension": ".py",
   "mimetype": "text/x-python",
   "name": "python",
   "nbconvert_exporter": "python",
   "pygments_lexer": "ipython3",
   "version": "3.7.6"
  }
 },
 "nbformat": 4,
 "nbformat_minor": 4
}
