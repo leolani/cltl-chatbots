{
 "cells": [
  {
   "cell_type": "markdown",
   "metadata": {},
   "source": [
    "# Uses interaction to push triples to the brain and query it"
   ]
  },
  {
   "cell_type": "markdown",
   "metadata": {},
   "source": [
    "This notebook assumes you already understand the following notebooks:\n",
    "\n",
    "* lets-chat.ipynb\n",
    "* roboGrasp-api.ipynb\n",
    "\n",
    "In this notebook, we will combine the interaction modeled through EMISSOR with the interaction throught *capsules* with the BRAIN. As auxiliary modules, we will use the *cltl-knowledgeextraction* and *cltl-language-generation*. The *cltl-knowledgeextraction* will extract triples from the utterances either for posting or for querying. In the former case, it also extracts the source perspective from the text. The triples and source perspectives are represented in enriched capsules. We will also use a replier that is include in the *cltl-languagegeneration* package. This replier transfers the response from the BRAIN into natural language expressions and possibly gestures. \n",
    "\n",
    "In order to connect to the EMISSOR scenario, we need to align the meta properties of the scenario with the meta data in the capsules. However,  the *cltl-knowledgeextraction* uses a similar data object to keep track of the conversation history. This is a Chat object that needs to be created. Through this Chat object, we keep track of what was said before and deal with coreference to earlier utterances.\n",
    "\n",
    "Combining EMISSOR and the BRAIN, we can model the interaction in a infite while loop where we go through the following steps:\n",
    "\n",
    "* We create an EMISSOR scenario at the start of the interaction and a corresponding Chat object to keep track of the dialogue history\n",
    "* while the user does not stop:\n",
    "    * create TextSignals for each utterance from the user and store these in an EMISSOR scenario\n",
    "    * add the utterance also to the Chat instance\n",
    "    * process the latest utterance in the Chat object using the *cltl-knowledgeextraction* to get triples and perspectives\n",
    "    * create a capsule from the triples, perspectives and the text signal meta data\n",
    "    * post the triple to the BRAIN\n",
    "    * get the answer or throughts as a response from the BRAIN\n",
    "    * verbalise the answer or thoughts\n",
    "    * create a new TextSignal for the system response and add it to the EMISSOR scenario\n",
    "* When the user stops, we save the scenario in the EMISSOR format.\n",
    "\n"
   ]
  },
  {
   "cell_type": "markdown",
   "metadata": {},
   "source": [
    "Before running, start GraphDB and make sure that there is a sandbox repository.\n",
    "GraphDB can be downloaded from:\n",
    "\n",
    "https://graphdb.ontotext.com"
   ]
  },
  {
   "cell_type": "markdown",
   "metadata": {},
   "source": [
    "## Import the necessary modules"
   ]
  },
  {
   "cell_type": "code",
   "execution_count": 1,
   "metadata": {},
   "outputs": [
    {
     "name": "stderr",
     "output_type": "stream",
     "text": [
      "/Users/piek/PycharmProjects/cltl-chatbots/venv/lib/python3.7/site-packages/rdflib_jsonld/__init__.py:12: DeprecationWarning: The rdflib-jsonld package has been integrated into rdflib as of rdflib==6.0.1.  Please remove rdflib-jsonld from your project's dependencies.\n",
      "  DeprecationWarning,\n",
      "[nltk_data] Downloading package punkt to /Users/piek/nltk_data...\n",
      "[nltk_data]   Package punkt is already up-to-date!\n"
     ]
    }
   ],
   "source": [
    "import json\n",
    "import os\n",
    "import time\n",
    "import uuid\n",
    "from datetime import date\n",
    "from datetime import datetime\n",
    "from random import getrandbits, choice\n",
    "import pathlib\n",
    "import pprint\n",
    "\n",
    "# general imports for EMISSOR and the BRAIN\n",
    "import emissor as em\n",
    "import requests\n",
    "from cltl import brain\n",
    "from cltl.brain.long_term_memory import LongTermMemory\n",
    "from cltl.brain.utils.helper_functions import brain_response_to_json\n",
    "from cltl.combot.backend.api.discrete import UtteranceType\n",
    "from cltl.reply_generation.data.sentences import GREETING, ASK_NAME, ELOQUENCE, TALK_TO_ME\n",
    "from cltl.reply_generation.lenka_replier import LenkaReplier\n",
    "from cltl.triple_extraction.api import Chat, UtteranceHypothesis\n",
    "from emissor.persistence import ScenarioStorage\n",
    "from emissor.representation.annotation import AnnotationType, Token, NER\n",
    "from emissor.representation.container import Index\n",
    "from emissor.representation.scenario import Modality, ImageSignal, TextSignal, Mention, Annotation, Scenario"
   ]
  },
  {
   "cell_type": "markdown",
   "metadata": {},
   "source": [
    "### Import the chatbot utility functions"
   ]
  },
  {
   "cell_type": "code",
   "execution_count": 2,
   "metadata": {},
   "outputs": [],
   "source": [
    "import sys\n",
    "import os\n",
    "\n",
    "src_path = os.path.abspath(os.path.join('..'))\n",
    "if src_path not in sys.path:\n",
    "    sys.path.append(src_path)\n",
    "\n",
    "#### The next utils are needed for the interaction and creating triples and capsules\n",
    "import chatbots.util.driver_util as d_util\n",
    "import chatbots.util.capsule_util as c_util\n",
    "import chatbots.intentions.talk as talk\n",
    "import chatbots.intentions.get_to_know_you as friend"
   ]
  },
  {
   "cell_type": "markdown",
   "metadata": {},
   "source": [
    "## Standard initialisation of a scenario\n",
    "\n",
    "We initialise a scenario in the standard way by creating a unique folder and setting the AGENT and HUMAN_NAME and HUMAN_ID variables. Throughout this scenario, the HUMAN_NAME and HUMAN_ID will be used as the source for the utterances."
   ]
  },
  {
   "cell_type": "code",
   "execution_count": 3,
   "metadata": {},
   "outputs": [
    {
     "name": "stdout",
     "output_type": "stream",
     "text": [
      "Directory  /Users/piek/PycharmProjects/cltl-chatbots/data/2021-11-12-12:16:47  Created \n",
      "Directory  /Users/piek/PycharmProjects/cltl-chatbots/data/2021-11-12-12:16:47/image  Created \n"
     ]
    }
   ],
   "source": [
    "from random import getrandbits\n",
    "import requests\n",
    "##### Setting the location\n",
    "place_id = getrandbits(8)\n",
    "location = None\n",
    "try:\n",
    "    location = requests.get(\"https://ipinfo.io\").json()\n",
    "except:\n",
    "    print(\"failed to get the IP location\")\n",
    "    \n",
    "##### Setting the agents\n",
    "AGENT = \"Leolani2\"\n",
    "HUMAN_NAME = \"Stranger\"\n",
    "HUMAN_ID = \"stranger\"\n",
    "\n",
    "### The name of your scenario\n",
    "scenario_id = datetime.today().strftime(\"%Y-%m-%d-%H:%M:%S\")\n",
    "\n",
    "### Specify the path to an existing data folder where your scenario is created and saved as a subfolder\n",
    "scenario_path = os.path.abspath(os.path.join('../../data'))\n",
    "if scenario_path not in sys.path:\n",
    "    sys.path.append(scenario_path)\n",
    "\n",
    "    ### Specify the path to an existing data folder where your scenario is created and saved as a subfolder\n",
    "scenario_path = os.path.abspath(os.path.join('../../data'))\n",
    "if scenario_path not in sys.path:\n",
    "    sys.path.append(scenario_path)\n",
    "\n",
    "if not os.path.exists(scenario_path) :\n",
    "    os.mkdir(scenario_path)\n",
    "    print(\"Created a data folder for storing the scenarios\", scenario_path)\n",
    "\n",
    "### Define the folders where the images and rdf triples are saved\n",
    "imagefolder = scenario_path + \"/\" + scenario_id + \"/\" + \"image\"\n",
    "rdffolder = scenario_path + \"/\" + scenario_id + \"/\" + \"rdf\"\n",
    "\n",
    "\n",
    "### Create the scenario folder, the json files and a scenarioStorage and scenario in memory\n",
    "scenarioStorage = d_util.create_scenario(scenario_path, scenario_id)\n",
    "scenario = scenarioStorage.create_scenario(scenario_id, datetime.now().microsecond, datetime.now().microsecond, AGENT)"
   ]
  },
  {
   "cell_type": "markdown",
   "metadata": {},
   "source": [
    "## Specifying the BRAIN"
   ]
  },
  {
   "cell_type": "markdown",
   "metadata": {},
   "source": [
    "We specify the BRAIN in GraphDB and use the scenario path just defined for storing the RDF triple produced in EMISSOR.\n",
    "\n",
    "If you set *clear_all* to *True*, the sandbox triple store is emptied (memory erased) and the basic ontological models are reloaded. Setting it to *False* means you add things to the current memory."
   ]
  },
  {
   "cell_type": "code",
   "execution_count": 4,
   "metadata": {},
   "outputs": [
    {
     "name": "stdout",
     "output_type": "stream",
     "text": [
      "2021-11-12 12:16:51,128 -     INFO -    cltl.brain.basic_brain.LongTermMemory - Uploading ontology to brain\n",
      "2021-11-12 12:16:53,070 -     INFO -   cltl.brain.basic_brain.TrustCalculator - Computed trust for all known agents\n"
     ]
    }
   ],
   "source": [
    "log_path = pathlib.Path(rdffolder)\n",
    "my_brain = brain.LongTermMemory(address=\"http://localhost:7200/repositories/sandbox\",\n",
    "                                log_dir=log_path,\n",
    "                                clear_all=True)\n"
   ]
  },
  {
   "cell_type": "markdown",
   "metadata": {},
   "source": [
    "## Create an instance of a replier"
   ]
  },
  {
   "cell_type": "code",
   "execution_count": 5,
   "metadata": {},
   "outputs": [
    {
     "name": "stdout",
     "output_type": "stream",
     "text": [
      "2021-11-12 12:16:54,116 -     INFO -   cltl.reply_generation.api.LenkaReplier - Booted\n"
     ]
    }
   ],
   "source": [
    "replier = LenkaReplier()"
   ]
  },
  {
   "cell_type": "markdown",
   "metadata": {},
   "source": [
    "## Establish the speaker identity"
   ]
  },
  {
   "cell_type": "code",
   "execution_count": 6,
   "metadata": {},
   "outputs": [
    {
     "name": "stdout",
     "output_type": "stream",
     "text": [
      "Leolani2: Hi! I would like to know your name! Stranger?\n"
     ]
    },
    {
     "name": "stdin",
     "output_type": "stream",
     "text": [
      "\n",
      " Fred\n"
     ]
    },
    {
     "name": "stdout",
     "output_type": "stream",
     "text": [
      "Fred\n",
      "Leolani2: So your name is Fred?\n"
     ]
    },
    {
     "name": "stdin",
     "output_type": "stream",
     "text": [
      "\n",
      " yes\n"
     ]
    },
    {
     "name": "stdout",
     "output_type": "stream",
     "text": [
      "Name: Fred\n",
      "Id: Fred_t_956924\n",
      "2021-11-12 12:17:00,076 -     INFO -    cltl.brain.basic_brain.LongTermMemory - Triple in statement: fred-t-956924_label_fred [person_->_object])\n",
      "2021-11-12 12:17:00,092 -     INFO -  cltl.brain.basic_brain.ThoughtGenerator - Entity Novelty: new subject - new object \n",
      "2021-11-12 12:17:01,731 -     INFO -  cltl.brain.basic_brain.ThoughtGenerator - Negation Conflicts: fred-t-956924 on November,2021 about UNDERSPECIFIED\n",
      "2021-11-12 12:17:01,765 -     INFO -  cltl.brain.basic_brain.ThoughtGenerator - Gaps: 26 gaps as subject: e.g. experience touch - 15 gaps as object: e.g. dislike agent\n",
      "2021-11-12 12:17:01,777 -     INFO -  cltl.brain.basic_brain.ThoughtGenerator - Gaps: 0 gaps as subject: e.g. '' - 2 gaps as object: e.g. own agent\n",
      "Name capsule: {'chat': '2021-11-12-12:16:47', 'turn': '6f60596c-5117-4d43-85ff-408db28f6f68', 'author': 'fred-t-956924', 'utterance': 'Hi! I would like to know your name! Stranger?', 'utterance_type': <UtteranceType.STATEMENT: 0>, 'position': '0-45', 'subject': {'label': 'Fred_t_956924', 'type': ['person']}, 'predicate': {'type': 'label'}, 'object': {'label': 'Fred', 'type': ['object']}, 'context_id': 'Leolani2', 'date': datetime.date(2021, 11, 12), 'place': 'Amsterdam', 'place_id': 238, 'country': 'NL', 'region': 'North Holland', 'city': 'Amsterdam', 'objects': [{'type': 'chair', 'confidence': 0.59, 'id': 1}, {'type': 'table', 'confidence': 0.73, 'id': 1}, {'type': 'pillbox', 'confidence': 0.32, 'id': 1}], 'people': [{'name': 'Fred_t_956924', 'confidence': 0.98, 'id': 1}], 'triple': fred-t-956924_label_fred [person_->_object]), 'perspective': <cltl.brain.infrastructure.api.Perspective object at 0x7fbfa06ebbd0>, 'type': <UtteranceType.STATEMENT: 0>}\n"
     ]
    },
    {
     "data": {
      "text/plain": [
       "{'response': '204',\n",
       " 'statement': {'chat': '2021-11-12-12:16:47',\n",
       "  'turn': '6f60596c-5117-4d43-85ff-408db28f6f68',\n",
       "  'author': 'fred-t-956924',\n",
       "  'utterance': 'Hi! I would like to know your name! Stranger?',\n",
       "  'utterance_type': <UtteranceType.STATEMENT: 0>,\n",
       "  'position': '0-45',\n",
       "  'subject': {'label': 'Fred_t_956924', 'type': ['person']},\n",
       "  'predicate': {'type': 'label'},\n",
       "  'object': {'label': 'Fred', 'type': ['object']},\n",
       "  'context_id': 'Leolani2',\n",
       "  'date': datetime.date(2021, 11, 12),\n",
       "  'place': 'Amsterdam',\n",
       "  'place_id': 238,\n",
       "  'country': 'NL',\n",
       "  'region': 'North Holland',\n",
       "  'city': 'Amsterdam',\n",
       "  'objects': [{'type': 'chair', 'confidence': 0.59, 'id': 1},\n",
       "   {'type': 'table', 'confidence': 0.73, 'id': 1},\n",
       "   {'type': 'pillbox', 'confidence': 0.32, 'id': 1}],\n",
       "  'people': [{'name': 'Fred_t_956924', 'confidence': 0.98, 'id': 1}],\n",
       "  'triple': fred-t-956924_label_fred [person_->_object]),\n",
       "  'perspective': <cltl.brain.infrastructure.api.Perspective at 0x7fbfa06ebbd0>,\n",
       "  'type': <UtteranceType.STATEMENT: 0>},\n",
       " 'thoughts': {'statement_novelty': [], 'entity_novelty': new subject - new object, 'negation_conflicts': [fred-t-956924 on November,2021 about UNDERSPECIFIED], 'complement_conflict': [], 'subject_gaps': 26 gaps as subject: e.g. be-child-of agent - 15 gaps as object: e.g. dislike agent, 'complement_gaps': 0 gaps as subject: e.g. '' - 2 gaps as object: e.g. own person, 'overlaps': 0 subject overlaps: e.g. '' - 0 object overlaps: e.g. ''}}"
      ]
     },
     "execution_count": 6,
     "metadata": {},
     "output_type": "execute_result"
    }
   ],
   "source": [
    "#### Small sequence to learn name of speaker\n",
    "initial_prompt = f\"{choice(GREETING)} {choice(ASK_NAME)} {HUMAN_NAME}?\"\n",
    "print(AGENT + \": \" + initial_prompt)\n",
    "textSignal = d_util.create_text_signal(scenario, initial_prompt)\n",
    "scenario.append_signal(textSignal)\n",
    "\n",
    "#### Get name from person \n",
    "HUMAN_NAME, HUMAN_ID = friend.get_a_name_and_id(scenario, AGENT)\n",
    "\n",
    "print(\"Name:\", HUMAN_NAME)\n",
    "print(\"Id:\", HUMAN_ID)\n",
    "friend.add_new_name_to_brain (scenario, \n",
    "                  place_id, \n",
    "                  location, \n",
    "                  HUMAN_ID,\n",
    "                  textSignal,\n",
    "                  HUMAN_NAME,\n",
    "                  my_brain)"
   ]
  },
  {
   "cell_type": "markdown",
   "metadata": {},
   "source": [
    "## Initialise a chat with the HUMAN_ID to keep track of the dialogue history"
   ]
  },
  {
   "cell_type": "code",
   "execution_count": 7,
   "metadata": {},
   "outputs": [
    {
     "name": "stdout",
     "output_type": "stream",
     "text": [
      "2021-11-12 12:19:05,867 -     INFO - cltl.triple_extraction.api.Chat (Fred_t_956924)     000 - << Start of Chat with Fred_t_956924 >>\n"
     ]
    }
   ],
   "source": [
    "chat = Chat(HUMAN_ID)"
   ]
  },
  {
   "cell_type": "markdown",
   "metadata": {},
   "source": [
    "## Start the interaction"
   ]
  },
  {
   "cell_type": "code",
   "execution_count": null,
   "metadata": {},
   "outputs": [
    {
     "name": "stdout",
     "output_type": "stream",
     "text": [
      "Leolani2: Tell me anything, I love learning things\n"
     ]
    },
    {
     "name": "stdin",
     "output_type": "stream",
     "text": [
      "\n",
      " I like pizza\n"
     ]
    },
    {
     "name": "stdout",
     "output_type": "stream",
     "text": [
      "Fred: I like pizza\n",
      "2021-11-12 12:19:44,890 -     INFO -               cltl.triple_extraction.api - Started POS tagger\n",
      "2021-11-12 12:19:44,891 -     INFO -               cltl.triple_extraction.api - Started NER tagger\n",
      "2021-11-12 12:19:44,897 -     INFO -               cltl.triple_extraction.api - Loaded grammar\n",
      "2021-11-12 12:19:46,017 -     INFO - cltl.triple_extraction.api.Chat (Fred_t_956924)     001 - Fred_t_956924: \"I like pizza\"\n",
      "2021-11-12 12:19:47,303 -     INFO -    cltl.brain.basic_brain.LongTermMemory - Triple in statement: fred-t-956924_like_pizza [agent_->_food])\n",
      "2021-11-12 12:19:47,341 -     INFO -  cltl.brain.basic_brain.ThoughtGenerator - Entity Novelty: existing subject - new object \n",
      "2021-11-12 12:19:49,393 -     INFO -  cltl.brain.basic_brain.ThoughtGenerator - Negation Conflicts: fred-t-956924 on November,2021 about POSITIVE\n",
      "2021-11-12 12:19:49,445 -     INFO -  cltl.brain.basic_brain.ThoughtGenerator - Gaps: 26 gaps as subject: e.g. travel-to location - 15 gaps as object: e.g. cook-by food\n",
      "2021-11-12 12:19:49,488 -     INFO -  cltl.brain.basic_brain.ThoughtGenerator - Gaps: 3 gaps as subject: e.g. like-by agent - 2 gaps as object: e.g. dislike agent\n",
      "{'author': 'fred-t-956924',\n",
      " 'chat': '2021-11-12-12:16:47',\n",
      " 'city': 'Amsterdam',\n",
      " 'context_id': 'Leolani2',\n",
      " 'country': 'NL',\n",
      " 'date': datetime.date(2021, 11, 12),\n",
      " 'object': {'label': 'pizza', 'type': ['noun.food']},\n",
      " 'objects': [{'confidence': 0.59, 'id': 1, 'type': 'chair'},\n",
      "             {'confidence': 0.73, 'id': 1, 'type': 'table'},\n",
      "             {'confidence': 0.32, 'id': 1, 'type': 'pillbox'}],\n",
      " 'people': [{'confidence': 0.98, 'id': 1, 'name': 'Fred_t_956924'}],\n",
      " 'perspective': <cltl.brain.infrastructure.api.Perspective object at 0x7fbfc1b3b850>,\n",
      " 'place': 'Amsterdam',\n",
      " 'place_id': 238,\n",
      " 'position': '0-12',\n",
      " 'predicate': {'type': 'like'},\n",
      " 'region': 'North Holland',\n",
      " 'subject': {'label': 'Fred_t_956924', 'type': ['agent']},\n",
      " 'triple': fred-t-956924_like_pizza [agent_->_food]),\n",
      " 'turn': '01cdc912-d27c-4bb5-b348-2c0bd5579b11',\n",
      " 'type': <UtteranceType.STATEMENT: 0>,\n",
      " 'utterance': 'I like pizza',\n",
      " 'utterance_type': <UtteranceType.STATEMENT: 0>}\n",
      "Leolani2: This is news to me. I did not know anybody who like pizza\n"
     ]
    },
    {
     "name": "stdin",
     "output_type": "stream",
     "text": [
      "\n",
      " Who likes pizza?\n"
     ]
    },
    {
     "name": "stdout",
     "output_type": "stream",
     "text": [
      "Fred: Who likes pizza?\n",
      "2021-11-12 12:19:59,910 -     INFO - cltl.triple_extraction.api.Chat (Fred_t_956924)     002 - Fred_t_956924: \"Who likes pizza?\"\n",
      "2021-11-12 12:19:59,914 -     INFO -    cltl.brain.basic_brain.LongTermMemory - Triple in question: pizza_like_? [food_->_])\n",
      "{'author': 'Fred_t_956924',\n",
      " 'chat': '2021-11-12-12:16:47',\n",
      " 'city': 'Amsterdam',\n",
      " 'context_id': 'Leolani2',\n",
      " 'country': 'NL',\n",
      " 'date': datetime.date(2021, 11, 12),\n",
      " 'object': {'label': '', 'type': []},\n",
      " 'objects': [{'confidence': 0.59, 'id': 1, 'type': 'chair'},\n",
      "             {'confidence': 0.73, 'id': 1, 'type': 'table'},\n",
      "             {'confidence': 0.32, 'id': 1, 'type': 'pillbox'}],\n",
      " 'people': [{'confidence': 0.98, 'id': 1, 'name': 'Fred_t_956924'}],\n",
      " 'perspective': None,\n",
      " 'place': 'Amsterdam',\n",
      " 'place_id': 238,\n",
      " 'position': '0-16',\n",
      " 'predicate': {'type': 'like'},\n",
      " 'region': 'North Holland',\n",
      " 'subject': {'label': 'pizza', 'type': ['noun.food']},\n",
      " 'triple': pizza_like_? [food_->_]),\n",
      " 'turn': 'e438bb74-8e06-4bf0-8ab9-cf108cc9c11f',\n",
      " 'utterance': 'Who likes pizza?',\n",
      " 'utterance_type': <UtteranceType.QUESTION: 1>}\n",
      "Leolani2: I don't know\n"
     ]
    },
    {
     "name": "stdin",
     "output_type": "stream",
     "text": [
      "\n",
      " WHat does Fred Like?\n"
     ]
    },
    {
     "name": "stdout",
     "output_type": "stream",
     "text": [
      "Fred: WHat does Fred Like?\n",
      "2021-11-12 12:20:08,968 -     INFO - cltl.triple_extraction.api.Chat (Fred_t_956924)     003 - Fred_t_956924: \"WHat does Fred Like?\"\n",
      "2021-11-12 12:20:12,034 -  WARNING -      cltl.brain.basic_brain.TypeReasoner - Failed to query Wikidata: HTTPSConnectionPool(host='query.wikidata.org', port=443): Read timed out. (read timeout=3)\n",
      "2021-11-12 12:20:12,170 -     INFO -      cltl.brain.basic_brain.TypeReasoner - Reasoned type of what to: what\n",
      "2021-11-12 12:20:12,207 -     INFO -    cltl.brain.basic_brain.LongTermMemory - Triple in statement: what_do_fred-like [_->_person or cognition or what])\n",
      "2021-11-12 12:20:12,243 -     INFO -  cltl.brain.basic_brain.ThoughtGenerator - Entity Novelty: new subject - new object \n",
      "2021-11-12 12:20:14,488 -     INFO -  cltl.brain.basic_brain.ThoughtGenerator - Negation Conflicts: fred-t-956924 on November,2021 about POSITIVE\n",
      "2021-11-12 12:20:14,639 -     INFO -  cltl.brain.basic_brain.ThoughtGenerator - Gaps: 26 gaps as subject: e.g. like-by agent - 15 gaps as object: e.g. be-ancestor-of person\n",
      "{'author': 'fred-t-956924',\n",
      " 'chat': '2021-11-12-12:16:47',\n",
      " 'city': 'Amsterdam',\n",
      " 'context_id': 'Leolani2',\n",
      " 'country': 'NL',\n",
      " 'date': datetime.date(2021, 11, 12),\n",
      " 'object': {'label': 'Fred-Like', 'type': ['person', 'noun.cognition']},\n",
      " 'objects': [{'confidence': 0.59, 'id': 1, 'type': 'chair'},\n",
      "             {'confidence': 0.73, 'id': 1, 'type': 'table'},\n",
      "             {'confidence': 0.32, 'id': 1, 'type': 'pillbox'}],\n",
      " 'people': [{'confidence': 0.98, 'id': 1, 'name': 'Fred_t_956924'}],\n",
      " 'perspective': <cltl.brain.infrastructure.api.Perspective object at 0x7fbfa06ef210>,\n",
      " 'place': 'Amsterdam',\n",
      " 'place_id': 238,\n",
      " 'position': '0-20',\n",
      " 'predicate': {'type': 'do'},\n",
      " 'region': 'North Holland',\n",
      " 'subject': {'label': 'what', 'type': []},\n",
      " 'triple': what_do_fred-like [_->_person or cognition or what]),\n",
      " 'turn': 'b97fce7d-7af6-4fc1-96ba-5a98743d9313',\n",
      " 'type': <UtteranceType.STATEMENT: 0>,\n",
      " 'utterance': 'WHat does Fred Like?',\n",
      " 'utterance_type': <UtteranceType.STATEMENT: 0>}\n",
      "Leolani2: I just learned something, I had never heard about what before!\n"
     ]
    },
    {
     "name": "stdin",
     "output_type": "stream",
     "text": [
      "\n",
      " What does Fred like?\n"
     ]
    },
    {
     "name": "stdout",
     "output_type": "stream",
     "text": [
      "Fred: What does Fred like?\n",
      "2021-11-12 12:20:25,141 -     INFO - cltl.triple_extraction.api.Chat (Fred_t_956924)     004 - Fred_t_956924: \"What does Fred like?\"\n",
      "2021-11-12 12:20:25,145 -     INFO -    cltl.brain.basic_brain.LongTermMemory - Triple in question: Fred-like_do_? [person or cognition_->_])\n",
      "{'author': 'Fred_t_956924',\n",
      " 'chat': '2021-11-12-12:16:47',\n",
      " 'city': 'Amsterdam',\n",
      " 'context_id': 'Leolani2',\n",
      " 'country': 'NL',\n",
      " 'date': datetime.date(2021, 11, 12),\n",
      " 'object': {'label': '', 'type': []},\n",
      " 'objects': [{'confidence': 0.59, 'id': 1, 'type': 'chair'},\n",
      "             {'confidence': 0.73, 'id': 1, 'type': 'table'},\n",
      "             {'confidence': 0.32, 'id': 1, 'type': 'pillbox'}],\n",
      " 'people': [{'confidence': 0.98, 'id': 1, 'name': 'Fred_t_956924'}],\n",
      " 'perspective': None,\n",
      " 'place': 'Amsterdam',\n",
      " 'place_id': 238,\n",
      " 'position': '0-20',\n",
      " 'predicate': {'type': 'do'},\n",
      " 'region': 'North Holland',\n",
      " 'subject': {'label': 'Fred-like', 'type': ['person', 'noun.cognition']},\n",
      " 'triple': Fred-like_do_? [person or cognition_->_]),\n",
      " 'turn': 'ff7437c8-9300-4f64-993d-b95282132708',\n",
      " 'utterance': 'What does Fred like?',\n",
      " 'utterance_type': <UtteranceType.QUESTION: 1>}\n",
      "Leolani2: I may be ignorant, bu tI don't know.I am sorry, I have no idea\n"
     ]
    },
    {
     "name": "stdin",
     "output_type": "stream",
     "text": [
      "\n",
      " What does fred like?\n"
     ]
    },
    {
     "name": "stdout",
     "output_type": "stream",
     "text": [
      "Fred: What does fred like?\n",
      "2021-11-12 12:20:35,438 -     INFO - cltl.triple_extraction.api.Chat (Fred_t_956924)     005 - Fred_t_956924: \"What does fred like?\"\n"
     ]
    },
    {
     "name": "stderr",
     "output_type": "stream",
     "text": [
      "Couldn't parse input\n"
     ]
    },
    {
     "name": "stdout",
     "output_type": "stream",
     "text": [
      "None\n",
      "Leolani2: So let it be written, ... so let it be done\n"
     ]
    },
    {
     "name": "stdin",
     "output_type": "stream",
     "text": [
      "\n",
      " What Fred likes?\n"
     ]
    },
    {
     "name": "stdout",
     "output_type": "stream",
     "text": [
      "Fred: What Fred likes?\n",
      "2021-11-12 12:21:44,135 -     INFO - cltl.triple_extraction.api.Chat (Fred_t_956924)     006 - Fred_t_956924: \"What Fred likes?\"\n",
      "2021-11-12 12:21:44,139 -     INFO -    cltl.brain.basic_brain.LongTermMemory - Triple in question: likes_Fred_? [cognition_->_])\n",
      "{'author': 'Fred_t_956924',\n",
      " 'chat': '2021-11-12-12:16:47',\n",
      " 'city': 'Amsterdam',\n",
      " 'context_id': 'Leolani2',\n",
      " 'country': 'NL',\n",
      " 'date': datetime.date(2021, 11, 12),\n",
      " 'object': {'label': '', 'type': []},\n",
      " 'objects': [{'confidence': 0.59, 'id': 1, 'type': 'chair'},\n",
      "             {'confidence': 0.73, 'id': 1, 'type': 'table'},\n",
      "             {'confidence': 0.32, 'id': 1, 'type': 'pillbox'}],\n",
      " 'people': [{'confidence': 0.98, 'id': 1, 'name': 'Fred_t_956924'}],\n",
      " 'perspective': None,\n",
      " 'place': 'Amsterdam',\n",
      " 'place_id': 238,\n",
      " 'position': '0-16',\n",
      " 'predicate': {'type': 'Fred'},\n",
      " 'region': 'North Holland',\n",
      " 'subject': {'label': 'likes', 'type': ['noun.cognition']},\n",
      " 'triple': likes_Fred_? [cognition_->_]),\n",
      " 'turn': '0167e7b4-4818-44c3-aaed-9b718047d865',\n",
      " 'utterance': 'What Fred likes?',\n",
      " 'utterance_type': <UtteranceType.QUESTION: 1>}\n",
      "Leolani2: I don't know\n"
     ]
    },
    {
     "name": "stdin",
     "output_type": "stream",
     "text": [
      "\n",
      " Fred likes what?\n"
     ]
    },
    {
     "name": "stdout",
     "output_type": "stream",
     "text": [
      "Fred: Fred likes what?\n",
      "2021-11-12 12:22:06,777 -     INFO - cltl.triple_extraction.api.Chat (Fred_t_956924)     007 - Fred_t_956924: \"Fred likes what?\"\n",
      "2021-11-12 12:22:06,839 -     INFO -      cltl.brain.basic_brain.TypeReasoner - Reasoned type of fred to: object\n",
      "2021-11-12 12:22:06,907 -     INFO -    cltl.brain.basic_brain.LongTermMemory - Triple in statement: fred_like_what [_->_agent or object])\n",
      "2021-11-12 12:22:06,990 -     INFO -  cltl.brain.basic_brain.ThoughtGenerator - Entity Novelty: new subject - existing object \n",
      "2021-11-12 12:22:09,640 -     INFO -  cltl.brain.basic_brain.ThoughtGenerator - Negation Conflicts: fred-t-956924 on November,2021 about POSITIVE\n",
      "2021-11-12 12:22:09,695 -     INFO -  cltl.brain.basic_brain.ThoughtGenerator - Gaps: 0 gaps as subject: e.g. '' - 2 gaps as object: e.g. own agent\n",
      "2021-11-12 12:22:09,747 -     INFO -  cltl.brain.basic_brain.ThoughtGenerator - Gaps: 16 gaps as subject: e.g. study-at institution - 11 gaps as object: e.g. like-by agent\n",
      "{'author': 'fred-t-956924',\n",
      " 'chat': '2021-11-12-12:16:47',\n",
      " 'city': 'Amsterdam',\n",
      " 'context_id': 'Leolani2',\n",
      " 'country': 'NL',\n",
      " 'date': datetime.date(2021, 11, 12),\n",
      " 'object': {'label': 'what', 'type': ['agent']},\n",
      " 'objects': [{'confidence': 0.59, 'id': 1, 'type': 'chair'},\n",
      "             {'confidence': 0.73, 'id': 1, 'type': 'table'},\n",
      "             {'confidence': 0.32, 'id': 1, 'type': 'pillbox'}],\n",
      " 'people': [{'confidence': 0.98, 'id': 1, 'name': 'Fred_t_956924'}],\n",
      " 'perspective': <cltl.brain.infrastructure.api.Perspective object at 0x7fbf8041ea90>,\n",
      " 'place': 'Amsterdam',\n",
      " 'place_id': 238,\n",
      " 'position': '0-16',\n",
      " 'predicate': {'type': 'like'},\n",
      " 'region': 'North Holland',\n",
      " 'subject': {'label': 'fred', 'type': []},\n",
      " 'triple': fred_like_what [_->_agent or object]),\n",
      " 'turn': '1e40f028-8b3b-44a7-ba2a-853ff02af1bd',\n",
      " 'type': <UtteranceType.STATEMENT: 0>,\n",
      " 'utterance': 'Fred likes what?',\n",
      " 'utterance_type': <UtteranceType.STATEMENT: 0>}\n",
      "Leolani2: I am curious. Has fred ever own a person?\n"
     ]
    }
   ],
   "source": [
    "#### Initial prompt by the system from which we create a TextSignal and store it\n",
    "initial_prompt = f\"{choice(TALK_TO_ME)}\"\n",
    "print(AGENT + \": \" + initial_prompt)\n",
    "textSignal = d_util.create_text_signal(scenario, initial_prompt)\n",
    "scenario.append_signal(textSignal)\n",
    "\n",
    "utterance = \"\"\n",
    "#### Get input and loop\n",
    "while not (utterance.lower() == 'stop' or utterance.lower() == 'bye'):\n",
    "    ###### Getting the next input signals\n",
    "    utterance = input('\\n')\n",
    "    print(HUMAN_NAME + \": \" + utterance)\n",
    "    textSignal = d_util.create_text_signal(scenario, utterance)\n",
    "    scenario.append_signal(textSignal)\n",
    "\n",
    "    #### Process input and generate reply\n",
    "    \n",
    "    capsule, reply = talk.process_text_and_reply(scenario,\n",
    "                           place_id,\n",
    "                           location,\n",
    "                           HUMAN_ID,\n",
    "                           textSignal,\n",
    "                           chat,\n",
    "                           replier,\n",
    "                           my_brain)\n",
    "    pprint.pprint(capsule)\n",
    "    print(AGENT + \": \" + reply)\n",
    "    textSignal = d_util.create_text_signal(scenario, reply)\n",
    "    scenario.append_signal(textSignal)\n",
    "\n"
   ]
  },
  {
   "cell_type": "markdown",
   "metadata": {},
   "source": [
    "## Save the scenario data"
   ]
  },
  {
   "cell_type": "code",
   "execution_count": 14,
   "metadata": {},
   "outputs": [],
   "source": [
    "scenario.scenario.ruler.end = datetime.now().microsecond\n",
    "scenarioStorage.save_scenario(scenario)"
   ]
  },
  {
   "cell_type": "markdown",
   "metadata": {},
   "source": [
    "## End of notebook"
   ]
  }
 ],
 "metadata": {
  "kernelspec": {
   "display_name": "venv",
   "language": "python",
   "name": "venv"
  },
  "language_info": {
   "codemirror_mode": {
    "name": "ipython",
    "version": 3
   },
   "file_extension": ".py",
   "mimetype": "text/x-python",
   "name": "python",
   "nbconvert_exporter": "python",
   "pygments_lexer": "ipython3",
   "version": "3.7.6"
  }
 },
 "nbformat": 4,
 "nbformat_minor": 4
}
