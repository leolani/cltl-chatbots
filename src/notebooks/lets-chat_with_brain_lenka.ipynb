{
 "cells": [
  {
   "cell_type": "markdown",
   "metadata": {},
   "source": [
    "# Uses interaction to push triples to the brain"
   ]
  },
  {
   "cell_type": "markdown",
   "metadata": {},
   "source": [
    "Before running, start GraphDB and make sure that there is a sandbox repository"
   ]
  },
  {
   "cell_type": "code",
   "execution_count": 1,
   "metadata": {},
   "outputs": [
    {
     "name": "stderr",
     "output_type": "stream",
     "text": [
      "/Users/piek/PycharmProjects/cltl-chatbots/venv/lib/python3.7/site-packages/rdflib_jsonld/__init__.py:12: DeprecationWarning: The rdflib-jsonld package has been integrated into rdflib as of rdflib==6.0.1.  Please remove rdflib-jsonld from your project's dependencies.\n",
      "  DeprecationWarning,\n",
      "[nltk_data] Downloading package punkt to /Users/piek/nltk_data...\n",
      "[nltk_data]   Package punkt is already up-to-date!\n"
     ]
    }
   ],
   "source": [
    "import json\n",
    "import os\n",
    "import time\n",
    "import uuid\n",
    "from datetime import date\n",
    "from datetime import datetime\n",
    "from random import getrandbits, choice\n",
    "import pathlib\n",
    "\n",
    "# general imports for EMISSOR and the BRAIN\n",
    "import emissor as em\n",
    "import requests\n",
    "from cltl import brain\n",
    "from cltl.brain.long_term_memory import LongTermMemory\n",
    "from cltl.brain.utils.helper_functions import brain_response_to_json\n",
    "from cltl.combot.backend.api.discrete import UtteranceType\n",
    "from cltl.reply_generation.data.sentences import GREETING, ASK_NAME, ELOQUENCE, TALK_TO_ME\n",
    "from cltl.reply_generation.lenka_replier import LenkaReplier\n",
    "from cltl.triple_extraction.api import Chat, UtteranceHypothesis\n",
    "from emissor.persistence import ScenarioStorage\n",
    "from emissor.representation.annotation import AnnotationType, Token, NER\n",
    "from emissor.representation.container import Index\n",
    "from emissor.representation.scenario import Modality, ImageSignal, TextSignal, Mention, Annotation, Scenario"
   ]
  },
  {
   "cell_type": "markdown",
   "metadata": {},
   "source": [
    "### Importing the chatbot utility functions"
   ]
  },
  {
   "cell_type": "code",
   "execution_count": 2,
   "metadata": {},
   "outputs": [],
   "source": [
    "import sys\n",
    "import os\n",
    "\n",
    "src_path = os.path.abspath(os.path.join('..'))\n",
    "if src_path not in sys.path:\n",
    "    sys.path.append(src_path)\n",
    "\n",
    "#### The next utils are needed for the interaction and creating triples and capsules\n",
    "import chatbots.util.driver_util as d_util\n",
    "import chatbots.util.capsule_util as c_util\n",
    "import chatbots.intentions.talk as talk\n",
    "import chatbots.dummies.text_to_triple as ttt"
   ]
  },
  {
   "cell_type": "markdown",
   "metadata": {},
   "source": [
    "## Standard initialisation of a scenario"
   ]
  },
  {
   "cell_type": "code",
   "execution_count": 5,
   "metadata": {},
   "outputs": [
    {
     "name": "stdout",
     "output_type": "stream",
     "text": [
      "Directory  ../../data/2021-11-04-10:52:06  Created \n",
      "Directory  ../../data/2021-11-04-10:52:06/image  Created \n"
     ]
    }
   ],
   "source": [
    "##### Setting the location\n",
    "place_id = getrandbits(8)\n",
    "location = requests.get(\"https://ipinfo.io\").json()\n",
    "\n",
    "##### Setting the agents\n",
    "AGENT = \"Leolani2\"\n",
    "HUMAN_NAME = \"Stranger\"\n",
    "HUMAN_ID = \"stranger\"\n",
    "\n",
    "### The name of your scenario\n",
    "scenario_id = datetime.today().strftime(\"%Y-%m-%d-%H:%M:%S\")\n",
    "\n",
    "### Specify the path to an existing data folder where your scenario is created and saved as a subfolder\n",
    "scenario_path = \"../../data\"\n",
    "\n",
    "### Define the folder where the images and rdf are saved\n",
    "imagefolder = scenario_path + \"/\" + scenario_id + \"/\" + \"image\"\n",
    "\n",
    "### Create the scenario folder, the json files and a scenarioStorage and scenario in memory\n",
    "scenarioStorage = d_util.create_scenario(scenario_path, scenario_id)\n",
    "scenario = scenarioStorage.create_scenario(scenario_id, datetime.now().microsecond, datetime.now().microsecond, AGENT)"
   ]
  },
  {
   "cell_type": "markdown",
   "metadata": {},
   "source": [
    "## Specifying the BRAIN"
   ]
  },
  {
   "cell_type": "code",
   "execution_count": 6,
   "metadata": {},
   "outputs": [
    {
     "name": "stdout",
     "output_type": "stream",
     "text": [
      "2021-11-04 10:52:31,386 -     INFO -    cltl.brain.basic_brain.LongTermMemory - Uploading ontology to brain\n",
      "2021-11-04 10:52:35,521 -     INFO -   cltl.brain.basic_brain.TrustCalculator - Computed trust for all known agents\n",
      "2021-11-04 10:52:35,521 -     INFO -   cltl.reply_generation.api.LenkaReplier - Booted\n"
     ]
    }
   ],
   "source": [
    "rdffolder = scenario_path + \"/\" + scenario_id + \"/\" + \"rdf\"\n",
    "log_path = pathlib.Path(rdffolder)\n",
    "my_brain = brain.LongTermMemory(address=\"http://localhost:7200/repositories/sandbox\",\n",
    "                                log_dir=log_path,\n",
    "                                clear_all=True)\n",
    "replier = LenkaReplier()"
   ]
  },
  {
   "cell_type": "code",
   "execution_count": null,
   "metadata": {},
   "outputs": [
    {
     "name": "stdout",
     "output_type": "stream",
     "text": [
      "Leolani2: Nice to see you! I would like to know your name! Stranger?\n"
     ]
    },
    {
     "name": "stdin",
     "output_type": "stream",
     "text": [
      "\n",
      " My name is Piek\n"
     ]
    },
    {
     "name": "stdout",
     "output_type": "stream",
     "text": [
      "Stranger: My name is Piek\n",
      "2021-11-04 10:52:56,267 -     INFO - cltl.triple_extraction.api.Chat (My_Name_Is_Piek)   000 - << Start of Chat with My_Name_Is_Piek >>\n",
      "Leolani2: Tell me something, anything!\n"
     ]
    },
    {
     "name": "stdin",
     "output_type": "stream",
     "text": [
      "\n",
      " I am from Amsterdam\n"
     ]
    },
    {
     "name": "stdout",
     "output_type": "stream",
     "text": [
      "My_Name_Is_Piek: I am from Amsterdam\n",
      "2021-11-04 10:53:07,483 -     INFO -               cltl.triple_extraction.api - Started POS tagger\n",
      "2021-11-04 10:53:07,484 -     INFO -               cltl.triple_extraction.api - Started NER tagger\n",
      "2021-11-04 10:53:07,489 -     INFO -               cltl.triple_extraction.api - Loaded grammar\n",
      "2021-11-04 10:53:08,952 -     INFO - cltl.triple_extraction.api.Chat (My_Name_Is_Piek)   001 - My_Name_Is_Piek: \"I am from Amsterdam\"\n",
      "2021-11-04 10:53:10,477 -     INFO -    cltl.brain.basic_brain.LongTermMemory - Triple in statement: my-name-is-piek_be-from_amsterdam [agent_->_location])\n",
      "2021-11-04 10:53:10,572 -     INFO -  cltl.brain.basic_brain.ThoughtGenerator - Entity Novelty: new subject - new object \n",
      "2021-11-04 10:53:13,017 -     INFO -  cltl.brain.basic_brain.ThoughtGenerator - Gaps: 26 gaps as subject: e.g. play sport - 15 gaps as object: e.g. write-by book\n",
      "Leolani2: Let me ask you something. What types of location orInstance like amsterdam do agent orInstance usually be from\n"
     ]
    },
    {
     "name": "stdin",
     "output_type": "stream",
     "text": [
      "\n",
      " city\n"
     ]
    },
    {
     "name": "stdout",
     "output_type": "stream",
     "text": [
      "My_Name_Is_Piek: city\n",
      "2021-11-04 10:53:32,449 -     INFO - cltl.triple_extraction.api.Chat (My_Name_Is_Piek)   002 - My_Name_Is_Piek: \"city\"\n"
     ]
    },
    {
     "name": "stderr",
     "output_type": "stream",
     "text": [
      "Couldn't parse input\n"
     ]
    },
    {
     "name": "stdout",
     "output_type": "stream",
     "text": [
      "Leolani2: Sorry, did not get that.\n"
     ]
    },
    {
     "name": "stdin",
     "output_type": "stream",
     "text": [
      "\n",
      " People come from cities\n"
     ]
    },
    {
     "name": "stdout",
     "output_type": "stream",
     "text": [
      "My_Name_Is_Piek: People come from cities\n",
      "2021-11-04 10:53:49,874 -     INFO - cltl.triple_extraction.api.Chat (My_Name_Is_Piek)   003 - My_Name_Is_Piek: \"People come from cities\"\n",
      "2021-11-04 10:53:49,976 -     INFO -    cltl.brain.basic_brain.LongTermMemory - Triple in statement: people_come-from_cities [group_->_location])\n",
      "2021-11-04 10:53:50,061 -     INFO -  cltl.brain.basic_brain.ThoughtGenerator - Entity Novelty: new subject - new object \n",
      "Leolani2: I did not know that! I did not know anybody who come from cities\n"
     ]
    },
    {
     "name": "stdin",
     "output_type": "stream",
     "text": [
      "\n",
      " Amsterdam is a city\n"
     ]
    },
    {
     "name": "stdout",
     "output_type": "stream",
     "text": [
      "My_Name_Is_Piek: Amsterdam is a city\n",
      "2021-11-04 10:54:05,302 -     INFO - cltl.triple_extraction.api.Chat (My_Name_Is_Piek)   004 - My_Name_Is_Piek: \"Amsterdam is a city\"\n",
      "2021-11-04 10:54:05,378 -     INFO -    cltl.brain.basic_brain.LongTermMemory - Triple in statement: amsterdam_be_a-city [location_->_location])\n",
      "2021-11-04 10:54:05,466 -     INFO -  cltl.brain.basic_brain.ThoughtGenerator - Entity Novelty: new subject - new object \n",
      "Leolani2: I am glad to have learned something new. I did not know anybody who be a city\n"
     ]
    },
    {
     "name": "stdin",
     "output_type": "stream",
     "text": [
      "\n",
      " Where am I from?\n"
     ]
    },
    {
     "name": "stdout",
     "output_type": "stream",
     "text": [
      "My_Name_Is_Piek: Where am I from?\n",
      "2021-11-04 10:54:14,678 -     INFO - cltl.triple_extraction.api.Chat (My_Name_Is_Piek)   005 - My_Name_Is_Piek: \"Where am I from?\"\n",
      "2021-11-04 10:54:14,681 -     INFO -    cltl.brain.basic_brain.LongTermMemory - Triple in question: My_Name_Is_Piek_from_? [agent_->_])\n",
      "Leolani2: I wouldn't know!\n"
     ]
    },
    {
     "name": "stdin",
     "output_type": "stream",
     "text": [
      "\n",
      " I am from Amsterdam\n"
     ]
    },
    {
     "name": "stdout",
     "output_type": "stream",
     "text": [
      "My_Name_Is_Piek: I am from Amsterdam\n",
      "2021-11-04 10:54:25,865 -     INFO - cltl.triple_extraction.api.Chat (My_Name_Is_Piek)   006 - My_Name_Is_Piek: \"I am from Amsterdam\"\n",
      "2021-11-04 10:54:25,978 -     INFO -    cltl.brain.basic_brain.LongTermMemory - Triple in statement: my-name-is-piek_be-from_amsterdam [agent_->_location])\n",
      "2021-11-04 10:54:26,017 -     INFO -  cltl.brain.basic_brain.ThoughtGenerator - Statement Novelty: 1 times, e.g. my-name-is-piek on November,2021\n",
      "2021-11-04 10:54:28,523 -     INFO -  cltl.brain.basic_brain.ThoughtGenerator - Gaps: 26 gaps as subject: e.g. work-at institution - 15 gaps as object: e.g. cook-by dish\n",
      "Leolani2: I am curious. Has my name is piek ever cook by a food?\n"
     ]
    },
    {
     "name": "stdin",
     "output_type": "stream",
     "text": [
      "\n",
      " Yes\n"
     ]
    },
    {
     "name": "stdout",
     "output_type": "stream",
     "text": [
      "My_Name_Is_Piek: Yes\n",
      "2021-11-04 10:54:42,309 -     INFO - cltl.triple_extraction.api.Chat (My_Name_Is_Piek)   007 - My_Name_Is_Piek: \"Lea\"\n"
     ]
    },
    {
     "name": "stderr",
     "output_type": "stream",
     "text": [
      "Couldn't parse input\n"
     ]
    },
    {
     "name": "stdout",
     "output_type": "stream",
     "text": [
      "Leolani2: Sorry, did not get that.\n"
     ]
    },
    {
     "name": "stdin",
     "output_type": "stream",
     "text": [
      "\n",
      " I like pizza?\n"
     ]
    },
    {
     "name": "stdout",
     "output_type": "stream",
     "text": [
      "My_Name_Is_Piek: I like pizza?\n",
      "2021-11-04 10:54:58,028 -     INFO - cltl.triple_extraction.api.Chat (My_Name_Is_Piek)   008 - My_Name_Is_Piek: \"I like pizza?\"\n",
      "2021-11-04 10:54:58,082 -     INFO -    cltl.brain.basic_brain.LongTermMemory - Triple in statement: my-name-is-piek_like_pizza [agent_->_food])\n",
      "2021-11-04 10:54:58,166 -     INFO -  cltl.brain.basic_brain.ThoughtGenerator - Entity Novelty: existing subject - new object \n",
      "2021-11-04 10:55:00,517 -     INFO -  cltl.brain.basic_brain.ThoughtGenerator - Gaps: 26 gaps as subject: e.g. favorite interest - 15 gaps as object: e.g. be-parent-of person\n",
      "Leolani2: I am curious. What types of food orInstance like pizza do agent orInstance usually like\n"
     ]
    },
    {
     "name": "stdin",
     "output_type": "stream",
     "text": [
      "\n",
      " What do I like?\n"
     ]
    },
    {
     "name": "stdout",
     "output_type": "stream",
     "text": [
      "My_Name_Is_Piek: What do I like?\n",
      "2021-11-04 10:55:09,074 -     INFO - cltl.triple_extraction.api.Chat (My_Name_Is_Piek)   009 - My_Name_Is_Piek: \"What do I like?\"\n",
      "2021-11-04 10:55:09,078 -     INFO -    cltl.brain.basic_brain.LongTermMemory - Triple in question: My_Name_Is_Piek_like_? [agent_->_])\n",
      "Leolani2: I wouldn't know!\n"
     ]
    }
   ],
   "source": [
    "#### Small sequence to learn name of speaker\n",
    "initial_prompt = f\"{choice(GREETING)} {choice(ASK_NAME)} {HUMAN_NAME}?\"\n",
    "print(AGENT + \": \" + initial_prompt)\n",
    "textSignal = d_util.create_text_signal(scenario, initial_prompt)\n",
    "scenario.append_signal(textSignal)\n",
    "\n",
    "#### Get name from person  \n",
    "utterance = input('\\n')\n",
    "print(HUMAN_NAME + \": \" + utterance)\n",
    "textSignal = d_util.create_text_signal(scenario, utterance)\n",
    "scenario.append_signal(textSignal)\n",
    "\n",
    "HUMAN_NAME = ttt.get_your_name(utterance)\n",
    "HUMAN_ID = HUMAN_NAME\n",
    "chat = Chat(HUMAN_ID)\n",
    "\n",
    "#### Initial prompt by the system from which we create a TextSignal and store it\n",
    "initial_prompt = f\"{choice(TALK_TO_ME)}\"\n",
    "print(AGENT + \": \" + initial_prompt)\n",
    "textSignal = d_util.create_text_signal(scenario, initial_prompt)\n",
    "scenario.append_signal(textSignal)\n",
    "\n",
    "#### Get input and loop\n",
    "while not (utterance.lower() == 'stop' or utterance.lower() == 'bye'):\n",
    "    ###### Getting the next input signals\n",
    "    utterance = input('\\n')\n",
    "    print(HUMAN_NAME + \": \" + utterance)\n",
    "    textSignal = d_util.create_text_signal(scenario, utterance)\n",
    "    scenario.append_signal(textSignal)\n",
    "\n",
    "    #### Process input and generate reply\n",
    "    reply = talk.process_text_and_reply(scenario, place_id, location, HUMAN_ID, textSignal, chat, replier, my_brain)\n",
    "    print(AGENT + \": \" + reply)\n",
    "    textSignal = d_util.create_text_signal(scenario, reply)\n",
    "    scenario.append_signal(textSignal)\n"
   ]
  },
  {
   "cell_type": "code",
   "execution_count": null,
   "metadata": {},
   "outputs": [],
   "source": [
    "#scenario.scenario.end = datetime.now().microsecond\n",
    "scenarioStorage.save_scenario(scenario)"
   ]
  },
  {
   "cell_type": "markdown",
   "metadata": {},
   "source": [
    "## End of notebook"
   ]
  }
 ],
 "metadata": {
  "kernelspec": {
   "display_name": "venv",
   "language": "python",
   "name": "venv"
  },
  "language_info": {
   "codemirror_mode": {
    "name": "ipython",
    "version": 3
   },
   "file_extension": ".py",
   "mimetype": "text/x-python",
   "name": "python",
   "nbconvert_exporter": "python",
   "pygments_lexer": "ipython3",
   "version": "3.7.6"
  }
 },
 "nbformat": 4,
 "nbformat_minor": 4
}
