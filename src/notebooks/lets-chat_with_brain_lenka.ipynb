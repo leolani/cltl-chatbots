{
 "cells": [
  {
   "cell_type": "markdown",
   "metadata": {},
   "source": [
    "# Uses interaction to push triples to the brain"
   ]
  },
  {
   "cell_type": "markdown",
   "metadata": {},
   "source": [
    "Before running, start GraphDB and make sure that there is a sandbox repository"
   ]
  },
  {
   "cell_type": "code",
   "execution_count": 1,
   "metadata": {},
   "outputs": [
    {
     "name": "stderr",
     "output_type": "stream",
     "text": [
      "[nltk_data] Downloading package punkt to /Users/piek/nltk_data...\n",
      "[nltk_data]   Package punkt is already up-to-date!\n"
     ]
    }
   ],
   "source": [
    "# general imports for EMISSOR and the BRAIN\n",
    "import emissor as em\n",
    "from cltl import brain\n",
    "from cltl.triple_extraction.api import Chat, UtteranceHypothesis\n",
    "from emissor.persistence import ScenarioStorage\n",
    "from emissor.representation.annotation import AnnotationType, Token, NER\n",
    "from emissor.representation.container import Index\n",
    "from emissor.representation.scenario import Modality, ImageSignal, TextSignal, Mention, Annotation, Scenario\n",
    "from cltl.brain.long_term_memory import LongTermMemory\n",
    "from cltl.combot.backend.api.discrete import UtteranceType\n",
    "\n",
    "import os\n",
    "import time\n",
    "import uuid\n",
    "from datetime import datetime\n",
    "from datetime import date\n",
    "import requests\n"
   ]
  },
  {
   "cell_type": "code",
   "execution_count": 2,
   "metadata": {},
   "outputs": [],
   "source": [
    "import sys\n",
    "import os\n",
    "src_path = os.path.abspath(os.path.join('..'))\n",
    "if src_path not in sys.path:\n",
    "    sys.path.append(src_path)\n",
    "\n",
    "#### The next utils are needed for the interaction and creating triples and capsules\n",
    "import util.driver_util as d_util\n",
    "import util.capsule_util as c_util\n",
    "import intentions.listen as listen\n",
    "import intentions.answer as answer"
   ]
  },
  {
   "cell_type": "code",
   "execution_count": 3,
   "metadata": {},
   "outputs": [
    {
     "name": "stdout",
     "output_type": "stream",
     "text": [
      "Directory  ../../data/2021-11-01-12:23:29  Created \n",
      "Directory  ../../data/2021-11-01-12:23:29/image  Created \n"
     ]
    }
   ],
   "source": [
    "from random import getrandbits\n",
    "\n",
    "##### Setting the location\n",
    "place_id = getrandbits(8)\n",
    "location = requests.get(\"https://ipinfo.io\").json()\n",
    "\n",
    "##### Setting the agents\n",
    "AGENT = \"Leolani2\"\n",
    "HUMAN_NAME = \"Stranger\"\n",
    "HUMAN_ID = \"stranger\"\n",
    "\n",
    "### The name of your scenario\n",
    "scenario_id = datetime.today().strftime(\"%Y-%m-%d-%H:%M:%S\")\n",
    "\n",
    "### Specify the path to an existing data folder where your scenario is created and saved as a subfolder\n",
    "scenario_path = \"../../data\"\n",
    "\n",
    "### Define the folder where the images are saved\n",
    "imagefolder = scenario_path + \"/\" + scenario_id + \"/\" + \"image\"\n",
    "\n",
    "\n",
    "### Create the scenario folder, the json files and a scenarioStorage and scenario in memory\n",
    "scenarioStorage = d_util.create_scenario(scenario_path, scenario_id)\n",
    "scenario = scenarioStorage.create_scenario(scenario_id, datetime.now().microsecond, datetime.now().microsecond, AGENT)"
   ]
  },
  {
   "cell_type": "code",
   "execution_count": 4,
   "metadata": {},
   "outputs": [
    {
     "name": "stdout",
     "output_type": "stream",
     "text": [
      "<class 'pathlib.PosixPath'>\n",
      "2021-11-01 12:23:32,842 -    DEBUG -    cltl.brain.basic_brain.LongTermMemory - Booted\n"
     ]
    },
    {
     "name": "stderr",
     "output_type": "stream",
     "text": [
      "2021-11-01 12:23:32.842 DEBUG basic_brain - __init__: Booted\n"
     ]
    },
    {
     "name": "stdout",
     "output_type": "stream",
     "text": [
      "2021-11-01 12:23:32,844 -    DEBUG -    cltl.brain.basic_brain.LongTermMemory - Clearing brain\n"
     ]
    },
    {
     "name": "stderr",
     "output_type": "stream",
     "text": [
      "2021-11-01 12:23:32.844 DEBUG basic_brain - clear_brain: Clearing brain\n"
     ]
    },
    {
     "name": "stdout",
     "output_type": "stream",
     "text": [
      "2021-11-01 12:23:35,089 -    DEBUG -    cltl.brain.basic_brain.LongTermMemory - Checking if ontology is in brain\n"
     ]
    },
    {
     "name": "stderr",
     "output_type": "stream",
     "text": [
      "2021-11-01 12:23:35.089 DEBUG basic_brain - ontology_is_uploaded: Checking if ontology is in brain\n"
     ]
    },
    {
     "name": "stdout",
     "output_type": "stream",
     "text": [
      "2021-11-01 12:23:35,093 -    DEBUG -    cltl.brain.basic_brain.LongTermMemory - Posting query\n"
     ]
    },
    {
     "name": "stderr",
     "output_type": "stream",
     "text": [
      "2021-11-01 12:23:35.093 DEBUG basic_brain - _submit_query: Posting query\n"
     ]
    },
    {
     "name": "stdout",
     "output_type": "stream",
     "text": [
      "2021-11-01 12:23:35,792 -     INFO -    cltl.brain.basic_brain.LongTermMemory - Uploading ontology to brain\n"
     ]
    },
    {
     "name": "stderr",
     "output_type": "stream",
     "text": [
      "2021-11-01 12:23:35.792 INFO basic_brain - upload_ontology: Uploading ontology to brain\n"
     ]
    },
    {
     "name": "stdout",
     "output_type": "stream",
     "text": [
      "2021-11-01 12:23:38,541 -    DEBUG -  cltl.brain.basic_brain.ThoughtGenerator - Booted\n"
     ]
    },
    {
     "name": "stderr",
     "output_type": "stream",
     "text": [
      "2021-11-01 12:23:38.541 DEBUG basic_brain - __init__: Booted\n"
     ]
    },
    {
     "name": "stdout",
     "output_type": "stream",
     "text": [
      "2021-11-01 12:23:38,544 -    DEBUG -  cltl.brain.basic_brain.LocationReasoner - Booted\n"
     ]
    },
    {
     "name": "stderr",
     "output_type": "stream",
     "text": [
      "2021-11-01 12:23:38.544 DEBUG basic_brain - __init__: Booted\n"
     ]
    },
    {
     "name": "stdout",
     "output_type": "stream",
     "text": [
      "2021-11-01 12:23:38,547 -    DEBUG -      cltl.brain.basic_brain.TypeReasoner - Booted\n"
     ]
    },
    {
     "name": "stderr",
     "output_type": "stream",
     "text": [
      "2021-11-01 12:23:38.547 DEBUG basic_brain - __init__: Booted\n"
     ]
    },
    {
     "name": "stdout",
     "output_type": "stream",
     "text": [
      "2021-11-01 12:23:38,550 -    DEBUG -   cltl.brain.basic_brain.TrustCalculator - Booted\n"
     ]
    },
    {
     "name": "stderr",
     "output_type": "stream",
     "text": [
      "2021-11-01 12:23:38.550 DEBUG basic_brain - __init__: Booted\n"
     ]
    },
    {
     "name": "stdout",
     "output_type": "stream",
     "text": [
      "2021-11-01 12:23:38,890 -    DEBUG -   cltl.brain.basic_brain.TrustCalculator - Posting query\n"
     ]
    },
    {
     "name": "stderr",
     "output_type": "stream",
     "text": [
      "2021-11-01 12:23:38.890 DEBUG basic_brain - _submit_query: Posting query\n"
     ]
    },
    {
     "name": "stdout",
     "output_type": "stream",
     "text": [
      "2021-11-01 12:23:38,935 -     INFO -   cltl.brain.basic_brain.TrustCalculator - Computed trust for all known agents\n"
     ]
    },
    {
     "name": "stderr",
     "output_type": "stream",
     "text": [
      "2021-11-01 12:23:38.935 INFO trust_calculator - compute_trust_network: Computed trust for all known agents\n"
     ]
    }
   ],
   "source": [
    "import pathlib\n",
    "log_path=pathlib.Path('./logs')\n",
    "print(type(log_path))\n",
    "my_brain = brain.LongTermMemory(address=\"http://localhost:7200/repositories/sandbox\",\n",
    "                           log_dir=log_path,\n",
    "                           clear_all=True)"
   ]
  },
  {
   "cell_type": "code",
   "execution_count": 4,
   "metadata": {},
   "outputs": [],
   "source": [
    "def process_text_and_think1 (scenario: Scenario, \n",
    "                  place_id:str, \n",
    "                  location: str, \n",
    "                  textSignal: TextSignal,\n",
    "                  human_id: str,\n",
    "                  my_brain:LongTermMemory):\n",
    "    thoughts = \"\"\n",
    "    chat = Chat(human_id)\n",
    "    chat.add_utterance([UtteranceHypothesis(c_util.seq_to_text(textSignal.seq), 1.0)])\n",
    "    chat.last_utterance.analyze()\n",
    "    # No triple was extracted, so we missed three items (s, p, o)\n",
    "    if chat.last_utterance.triple is None:\n",
    "        utterance = \"Any gossip?\" + '\\n'\n",
    "    else:\n",
    "        triple = c_util.rephrase_triple_json_for_capsule(chat.last_utterance.triple)\n",
    "        # A triple was extracted so we compare it elementwise\n",
    "        capsule = c_util.scenario_utterance_and_triple_to_capsule(scenario, \n",
    "                                                                  place_id,\n",
    "                                                                  location,\n",
    "                                                                  textSignal, \n",
    "                                                                  human_id,\n",
    "                                                                  chat.last_utterance.perspective, \n",
    "                                                                  triple)\n",
    "        print('Capsule:', capsule)\n",
    "        thoughts = my_brain.update(capsule, reason_types=True, create_label=False)\n",
    "        #print(thoughts)\n",
    "    return thoughts  "
   ]
  },
  {
   "cell_type": "code",
   "execution_count": null,
   "metadata": {},
   "outputs": [
    {
     "name": "stdout",
     "output_type": "stream",
     "text": [
      "Leolani2: Hi there. Who are you Stranger?\n"
     ]
    },
    {
     "name": "stdin",
     "output_type": "stream",
     "text": [
      "\n",
      " I am Piek\n"
     ]
    },
    {
     "name": "stdout",
     "output_type": "stream",
     "text": [
      "Stranger: I am Piek\n",
      "2021-11-01 12:24:18,644 -     INFO - cltl.triple_extraction.api.Chat (stranger)          000 - << Start of Chat with stranger >>\n"
     ]
    },
    {
     "name": "stderr",
     "output_type": "stream",
     "text": [
      "2021-11-01 12:24:18.644 INFO api - __init__: << Start of Chat with stranger >>\n"
     ]
    },
    {
     "name": "stdout",
     "output_type": "stream",
     "text": [
      "2021-11-01 12:24:18,646 -     INFO -               cltl.triple_extraction.api - Started POS tagger\n"
     ]
    },
    {
     "name": "stderr",
     "output_type": "stream",
     "text": [
      "2021-11-01 12:24:18.646 INFO api - __init__: Started POS tagger\n"
     ]
    },
    {
     "name": "stdout",
     "output_type": "stream",
     "text": [
      "2021-11-01 12:24:18,653 -     INFO -               cltl.triple_extraction.api - Started NER tagger\n"
     ]
    },
    {
     "name": "stderr",
     "output_type": "stream",
     "text": [
      "2021-11-01 12:24:18.653 INFO api - __init__: Started NER tagger\n"
     ]
    },
    {
     "name": "stdout",
     "output_type": "stream",
     "text": [
      "2021-11-01 12:24:18,661 -     INFO -               cltl.triple_extraction.api - Loaded grammar\n"
     ]
    },
    {
     "name": "stderr",
     "output_type": "stream",
     "text": [
      "2021-11-01 12:24:18.660 INFO ner - _start_server: Started NER server\n",
      "2021-11-01 12:24:18.661 INFO api - __init__: Loaded grammar\n"
     ]
    },
    {
     "name": "stdout",
     "output_type": "stream",
     "text": [
      "2021-11-01 12:24:19,811 -     INFO - cltl.triple_extraction.api.Chat (stranger)          001 -   stranger: \"I am Piek\"\n"
     ]
    },
    {
     "name": "stderr",
     "output_type": "stream",
     "text": [
      "2021-11-01 12:24:19.811 INFO api - add_utterance:   stranger: \"I am Piek\"\n",
      "2021-11-01 12:24:19.820 INFO ner - _start_server: Started NER server\n",
      "2021-11-01 12:24:21.086 INFO analyzer - __init__: extracted perspective: {'sentiment': 0, 'certainty': 1, 'polarity': 1, 'emotion': <Emotion.NEUTRAL: 7>}\n",
      "2021-11-01 12:24:21.091 INFO api - analyze: RDF    subject: {\"label\": \"stranger\", \"type\": [\"noun.person\"]}\n",
      "2021-11-01 12:24:21.092 INFO api - analyze: RDF  predicate: {\"label\": \"be\", \"type\": [\"verb.stative\"]}\n",
      "2021-11-01 12:24:21.092 INFO api - analyze: RDF     object: {\"label\": \"Piek\", \"type\": [\"person\"]}\n"
     ]
    },
    {
     "name": "stdout",
     "output_type": "stream",
     "text": [
      "{'subject': {'label': 'stranger', 'type': ['noun.person']}, 'predicate': {'label': 'be', 'type': ['verb.stative']}, 'object': {'label': 'Piek', 'type': ['person']}}\n",
      "{'subject': {'stranger', 'person'}, 'predicate': {'be', 'stative'}, 'object': {'Piek', 'person'}}\n",
      "Capsule: {'chat': '2021-11-01-12:23:29', 'turn': 'a3a011ce-f5d6-4813-bb81-833e0b9d7cd8', 'author': 'stranger', 'utterance': 'I am Piek', 'utterance_type': <UtteranceType.STATEMENT: 0>, 'position': '0-9', 'subject': {'label': 'piek', 'type': 'person'}, 'predicate': {'type': 'see'}, 'object': {'label': 'pills', 'type': 'object'}, 'perspective': {'sentiment': 0, 'certainty': 1, 'polarity': 1, 'emotion': <Emotion.NEUTRAL: 7>}, 'context_id': 'Leolani2', 'date': datetime.date(2021, 11, 1), 'place': 'Amsterdam', 'place_id': 131, 'country': 'NL', 'region': 'North Holland', 'city': 'Amsterdam', 'objects': [{'type': 'chair', 'confidence': 0.59, 'id': 1}, {'type': 'table', 'confidence': 0.73, 'id': 1}, {'type': 'pillbox', 'confidence': 0.32, 'id': 1}], 'people': [{'name': 'stranger', 'confidence': 0.98, 'id': 1}]}\n",
      "2021-11-01 12:24:21,129 -    DEBUG -    cltl.brain.basic_brain.LongTermMemory - Posting query\n"
     ]
    },
    {
     "name": "stderr",
     "output_type": "stream",
     "text": [
      "2021-11-01 12:24:21.129 DEBUG basic_brain - _submit_query: Posting query\n"
     ]
    },
    {
     "name": "stdout",
     "output_type": "stream",
     "text": [
      "2021-11-01 12:24:21,136 -    DEBUG -  cltl.brain.basic_brain.LocationReasoner - Posting query\n"
     ]
    },
    {
     "name": "stderr",
     "output_type": "stream",
     "text": [
      "2021-11-01 12:24:21.136 DEBUG basic_brain - _submit_query: Posting query\n"
     ]
    },
    {
     "name": "stdout",
     "output_type": "stream",
     "text": [
      "2021-11-01 12:24:21,159 -     INFO -    cltl.brain.basic_brain.LongTermMemory - Triple in statement: piek_see_pills [person_->_object])\n"
     ]
    },
    {
     "name": "stderr",
     "output_type": "stream",
     "text": [
      "2021-11-01 12:24:21.159 INFO LTM_statement_processing - model_graphs: Triple in statement: piek_see_pills [person_->_object])\n"
     ]
    },
    {
     "name": "stdout",
     "output_type": "stream",
     "text": [
      "2021-11-01 12:24:21,161 -    DEBUG -  cltl.brain.basic_brain.ThoughtGenerator - Posting query\n"
     ]
    },
    {
     "name": "stderr",
     "output_type": "stream",
     "text": [
      "2021-11-01 12:24:21.161 DEBUG basic_brain - _submit_query: Posting query\n"
     ]
    },
    {
     "name": "stdout",
     "output_type": "stream",
     "text": [
      "2021-11-01 12:24:21,168 -    DEBUG -  cltl.brain.basic_brain.ThoughtGenerator - Posting query\n"
     ]
    },
    {
     "name": "stderr",
     "output_type": "stream",
     "text": [
      "2021-11-01 12:24:21.168 DEBUG basic_brain - _submit_query: Posting query\n"
     ]
    },
    {
     "name": "stdout",
     "output_type": "stream",
     "text": [
      "2021-11-01 12:24:21,175 -    DEBUG -  cltl.brain.basic_brain.ThoughtGenerator - Posting query\n"
     ]
    },
    {
     "name": "stderr",
     "output_type": "stream",
     "text": [
      "2021-11-01 12:24:21.175 DEBUG basic_brain - _submit_query: Posting query\n"
     ]
    },
    {
     "name": "stdout",
     "output_type": "stream",
     "text": [
      "2021-11-01 12:24:21,182 -     INFO -  cltl.brain.basic_brain.ThoughtGenerator - Entity Novelty: new subject - new object \n"
     ]
    },
    {
     "name": "stderr",
     "output_type": "stream",
     "text": [
      "2021-11-01 12:24:21.182 INFO thought_generator - fill_entity_novelty: Entity Novelty: new subject - new object \n"
     ]
    },
    {
     "name": "stdout",
     "output_type": "stream",
     "text": [
      "2021-11-01 12:24:21,184 -    DEBUG -  cltl.brain.basic_brain.ThoughtGenerator - Posting query\n"
     ]
    },
    {
     "name": "stderr",
     "output_type": "stream",
     "text": [
      "2021-11-01 12:24:21.184 DEBUG basic_brain - _submit_query: Posting query\n"
     ]
    },
    {
     "name": "stdout",
     "output_type": "stream",
     "text": [
      "2021-11-01 12:24:21,193 -    DEBUG -  cltl.brain.basic_brain.ThoughtGenerator - Posting query\n"
     ]
    },
    {
     "name": "stderr",
     "output_type": "stream",
     "text": [
      "2021-11-01 12:24:21.193 DEBUG basic_brain - _submit_query: Posting query\n"
     ]
    },
    {
     "name": "stdout",
     "output_type": "stream",
     "text": [
      "2021-11-01 12:24:22,342 -    DEBUG -    cltl.brain.basic_brain.LongTermMemory - Posting triples\n"
     ]
    },
    {
     "name": "stderr",
     "output_type": "stream",
     "text": [
      "2021-11-01 12:24:22.342 DEBUG basic_brain - _upload_to_brain: Posting triples\n"
     ]
    },
    {
     "name": "stdout",
     "output_type": "stream",
     "text": [
      "2021-11-01 12:24:22,613 -    DEBUG -  cltl.brain.basic_brain.ThoughtGenerator - Posting query\n"
     ]
    },
    {
     "name": "stderr",
     "output_type": "stream",
     "text": [
      "2021-11-01 12:24:22.613 DEBUG basic_brain - _submit_query: Posting query\n"
     ]
    },
    {
     "name": "stdout",
     "output_type": "stream",
     "text": [
      "2021-11-01 12:24:22,621 -    DEBUG -  cltl.brain.basic_brain.ThoughtGenerator - Posting query\n"
     ]
    },
    {
     "name": "stderr",
     "output_type": "stream",
     "text": [
      "2021-11-01 12:24:22.621 DEBUG basic_brain - _submit_query: Posting query\n"
     ]
    },
    {
     "name": "stdout",
     "output_type": "stream",
     "text": [
      "2021-11-01 12:24:22,629 -    DEBUG -  cltl.brain.basic_brain.ThoughtGenerator - Posting query\n"
     ]
    },
    {
     "name": "stderr",
     "output_type": "stream",
     "text": [
      "2021-11-01 12:24:22.629 DEBUG basic_brain - _submit_query: Posting query\n"
     ]
    },
    {
     "name": "stdout",
     "output_type": "stream",
     "text": [
      "2021-11-01 12:24:22,637 -    DEBUG -  cltl.brain.basic_brain.ThoughtGenerator - Posting query\n"
     ]
    },
    {
     "name": "stderr",
     "output_type": "stream",
     "text": [
      "2021-11-01 12:24:22.637 DEBUG basic_brain - _submit_query: Posting query\n"
     ]
    },
    {
     "name": "stdout",
     "output_type": "stream",
     "text": [
      "2021-11-01 12:24:22,647 -    DEBUG -  cltl.brain.basic_brain.ThoughtGenerator - Posting query\n"
     ]
    },
    {
     "name": "stderr",
     "output_type": "stream",
     "text": [
      "2021-11-01 12:24:22.647 DEBUG basic_brain - _submit_query: Posting query\n"
     ]
    },
    {
     "name": "stdout",
     "output_type": "stream",
     "text": [
      "2021-11-01 12:24:22,655 -    DEBUG -   cltl.brain.basic_brain.TrustCalculator - Posting query\n"
     ]
    },
    {
     "name": "stderr",
     "output_type": "stream",
     "text": [
      "2021-11-01 12:24:22.655 DEBUG basic_brain - _submit_query: Posting query\n"
     ]
    },
    {
     "name": "stdout",
     "output_type": "stream",
     "text": [
      "Leolani2: So you what do you want to talk about Stranger?\n",
      "\n"
     ]
    },
    {
     "name": "stdin",
     "output_type": "stream",
     "text": [
      "\n",
      " I like Pizza\n"
     ]
    },
    {
     "name": "stdout",
     "output_type": "stream",
     "text": [
      "2021-11-01 12:24:29,493 -     INFO - cltl.triple_extraction.api.Chat (stranger)          000 - << Start of Chat with stranger >>\n"
     ]
    },
    {
     "name": "stderr",
     "output_type": "stream",
     "text": [
      "2021-11-01 12:24:29.493 INFO api - __init__: << Start of Chat with stranger >>\n"
     ]
    },
    {
     "name": "stdout",
     "output_type": "stream",
     "text": [
      "2021-11-01 12:24:30,510 -     INFO - cltl.triple_extraction.api.Chat (stranger)          001 -   stranger: \"I like Pizza\"\n"
     ]
    },
    {
     "name": "stderr",
     "output_type": "stream",
     "text": [
      "2021-11-01 12:24:30.510 INFO api - add_utterance:   stranger: \"I like Pizza\"\n",
      "2021-11-01 12:24:30.513 INFO analyzer - __init__: extracted perspective: {'sentiment': '0.75', 'certainty': 1, 'polarity': 1, 'emotion': <Emotion.NEUTRAL: 7>}\n",
      "2021-11-01 12:24:30.521 INFO api - analyze: RDF    subject: {\"label\": \"stranger\", \"type\": [\"noun.person\"]}\n",
      "2021-11-01 12:24:30.521 INFO api - analyze: RDF  predicate: {\"label\": \"like\", \"type\": [\"verb.emotion\"]}\n",
      "2021-11-01 12:24:30.522 INFO api - analyze: RDF     object: {\"label\": \"Pizza\", \"type\": [\"noun.food\"]}\n"
     ]
    },
    {
     "name": "stdout",
     "output_type": "stream",
     "text": [
      "{'subject': {'label': 'stranger', 'type': ['noun.person']}, 'predicate': {'label': 'like', 'type': ['verb.emotion']}, 'object': {'label': 'Pizza', 'type': ['noun.food']}}\n",
      "{'subject': {'stranger', 'person'}, 'predicate': {'like', 'emotion'}, 'object': {'Pizza', 'food'}}\n",
      "Capsule: {'chat': '2021-11-01-12:23:29', 'turn': 'b10767bc-6337-4a41-ae67-316ea033d827', 'author': 'stranger', 'utterance': 'I like Pizza', 'utterance_type': <UtteranceType.STATEMENT: 0>, 'position': '0-12', 'subject': {'label': 'piek', 'type': 'person'}, 'predicate': {'type': 'see'}, 'object': {'label': 'pills', 'type': 'object'}, 'perspective': {'sentiment': '0.75', 'certainty': 1, 'polarity': 1, 'emotion': <Emotion.NEUTRAL: 7>}, 'context_id': 'Leolani2', 'date': datetime.date(2021, 11, 1), 'place': 'Amsterdam', 'place_id': 131, 'country': 'NL', 'region': 'North Holland', 'city': 'Amsterdam', 'objects': [{'type': 'chair', 'confidence': 0.59, 'id': 1}, {'type': 'table', 'confidence': 0.73, 'id': 1}, {'type': 'pillbox', 'confidence': 0.32, 'id': 1}], 'people': [{'name': 'stranger', 'confidence': 0.98, 'id': 1}]}\n",
      "2021-11-01 12:24:30,529 -    DEBUG -    cltl.brain.basic_brain.LongTermMemory - Posting query\n"
     ]
    },
    {
     "name": "stderr",
     "output_type": "stream",
     "text": [
      "2021-11-01 12:24:30.529 DEBUG basic_brain - _submit_query: Posting query\n"
     ]
    },
    {
     "name": "stdout",
     "output_type": "stream",
     "text": [
      "2021-11-01 12:24:30,542 -    DEBUG -  cltl.brain.basic_brain.LocationReasoner - Posting query\n"
     ]
    },
    {
     "name": "stderr",
     "output_type": "stream",
     "text": [
      "2021-11-01 12:24:30.542 DEBUG basic_brain - _submit_query: Posting query\n"
     ]
    },
    {
     "name": "stdout",
     "output_type": "stream",
     "text": [
      "2021-11-01 12:24:30,571 -     INFO -    cltl.brain.basic_brain.LongTermMemory - Triple in statement: piek_see_pills [person_->_object])\n"
     ]
    },
    {
     "name": "stderr",
     "output_type": "stream",
     "text": [
      "2021-11-01 12:24:30.571 INFO LTM_statement_processing - model_graphs: Triple in statement: piek_see_pills [person_->_object])\n"
     ]
    },
    {
     "name": "stdout",
     "output_type": "stream",
     "text": [
      "2021-11-01 12:24:30,573 -    DEBUG -  cltl.brain.basic_brain.ThoughtGenerator - Posting query\n"
     ]
    },
    {
     "name": "stderr",
     "output_type": "stream",
     "text": [
      "2021-11-01 12:24:30.573 DEBUG basic_brain - _submit_query: Posting query\n"
     ]
    },
    {
     "name": "stdout",
     "output_type": "stream",
     "text": [
      "2021-11-01 12:24:30,581 -     INFO -  cltl.brain.basic_brain.ThoughtGenerator - Statement Novelty: 1 times, e.g. stranger on November,2021\n"
     ]
    },
    {
     "name": "stderr",
     "output_type": "stream",
     "text": [
      "2021-11-01 12:24:30.581 INFO thought_generator - get_statement_novelty: Statement Novelty: 1 times, e.g. stranger on November,2021\n"
     ]
    },
    {
     "name": "stdout",
     "output_type": "stream",
     "text": [
      "2021-11-01 12:24:30,583 -    DEBUG -  cltl.brain.basic_brain.ThoughtGenerator - Posting query\n"
     ]
    },
    {
     "name": "stderr",
     "output_type": "stream",
     "text": [
      "2021-11-01 12:24:30.583 DEBUG basic_brain - _submit_query: Posting query\n"
     ]
    },
    {
     "name": "stdout",
     "output_type": "stream",
     "text": [
      "2021-11-01 12:24:30,589 -    DEBUG -  cltl.brain.basic_brain.ThoughtGenerator - Posting query\n"
     ]
    },
    {
     "name": "stderr",
     "output_type": "stream",
     "text": [
      "2021-11-01 12:24:30.589 DEBUG basic_brain - _submit_query: Posting query\n"
     ]
    },
    {
     "name": "stdout",
     "output_type": "stream",
     "text": [
      "2021-11-01 12:24:30,597 -    DEBUG -  cltl.brain.basic_brain.ThoughtGenerator - Posting query\n"
     ]
    },
    {
     "name": "stderr",
     "output_type": "stream",
     "text": [
      "2021-11-01 12:24:30.597 DEBUG basic_brain - _submit_query: Posting query\n"
     ]
    },
    {
     "name": "stdout",
     "output_type": "stream",
     "text": [
      "2021-11-01 12:24:30,605 -    DEBUG -  cltl.brain.basic_brain.ThoughtGenerator - Posting query\n"
     ]
    },
    {
     "name": "stderr",
     "output_type": "stream",
     "text": [
      "2021-11-01 12:24:30.605 DEBUG basic_brain - _submit_query: Posting query\n"
     ]
    },
    {
     "name": "stdout",
     "output_type": "stream",
     "text": [
      "2021-11-01 12:24:31,844 -    DEBUG -    cltl.brain.basic_brain.LongTermMemory - Posting triples\n"
     ]
    },
    {
     "name": "stderr",
     "output_type": "stream",
     "text": [
      "2021-11-01 12:24:31.844 DEBUG basic_brain - _upload_to_brain: Posting triples\n"
     ]
    },
    {
     "name": "stdout",
     "output_type": "stream",
     "text": [
      "2021-11-01 12:24:32,126 -    DEBUG -  cltl.brain.basic_brain.ThoughtGenerator - Posting query\n"
     ]
    },
    {
     "name": "stderr",
     "output_type": "stream",
     "text": [
      "2021-11-01 12:24:32.126 DEBUG basic_brain - _submit_query: Posting query\n"
     ]
    },
    {
     "name": "stdout",
     "output_type": "stream",
     "text": [
      "2021-11-01 12:24:32,135 -    DEBUG -  cltl.brain.basic_brain.ThoughtGenerator - Posting query\n"
     ]
    },
    {
     "name": "stderr",
     "output_type": "stream",
     "text": [
      "2021-11-01 12:24:32.135 DEBUG basic_brain - _submit_query: Posting query\n"
     ]
    },
    {
     "name": "stdout",
     "output_type": "stream",
     "text": [
      "2021-11-01 12:24:32,145 -    DEBUG -  cltl.brain.basic_brain.ThoughtGenerator - Posting query\n"
     ]
    },
    {
     "name": "stderr",
     "output_type": "stream",
     "text": [
      "2021-11-01 12:24:32.145 DEBUG basic_brain - _submit_query: Posting query\n"
     ]
    },
    {
     "name": "stdout",
     "output_type": "stream",
     "text": [
      "2021-11-01 12:24:32,154 -    DEBUG -  cltl.brain.basic_brain.ThoughtGenerator - Posting query\n"
     ]
    },
    {
     "name": "stderr",
     "output_type": "stream",
     "text": [
      "2021-11-01 12:24:32.154 DEBUG basic_brain - _submit_query: Posting query\n"
     ]
    },
    {
     "name": "stdout",
     "output_type": "stream",
     "text": [
      "2021-11-01 12:24:32,163 -    DEBUG -  cltl.brain.basic_brain.ThoughtGenerator - Posting query\n"
     ]
    },
    {
     "name": "stderr",
     "output_type": "stream",
     "text": [
      "2021-11-01 12:24:32.163 DEBUG basic_brain - _submit_query: Posting query\n"
     ]
    },
    {
     "name": "stdout",
     "output_type": "stream",
     "text": [
      "2021-11-01 12:24:32,171 -    DEBUG -   cltl.brain.basic_brain.TrustCalculator - Posting query\n"
     ]
    },
    {
     "name": "stderr",
     "output_type": "stream",
     "text": [
      "2021-11-01 12:24:32.171 DEBUG basic_brain - _submit_query: Posting query\n"
     ]
    },
    {
     "name": "stdout",
     "output_type": "stream",
     "text": [
      "Leolani2: So you what do you want to talk about Stranger?\n",
      "\n"
     ]
    }
   ],
   "source": [
    "#### Initial prompt by the system from which we create a TextSignal and store it\n",
    "initial_prompt = \"Hi there. Who are you \" + HUMAN_NAME + \"?\"\n",
    "print(AGENT + \": \" + initial_prompt)\n",
    "textSignal = d_util.create_text_signal(scenario, initial_prompt)\n",
    "scenario.append_signal(textSignal)\n",
    "\n",
    "utterance = input('\\n')\n",
    "print(HUMAN_NAME + \": \" + utterance)\n",
    "while not (utterance.lower() == 'stop' or utterance.lower() == 'bye'):\n",
    "    textSignal = d_util.create_text_signal(scenario, utterance)\n",
    "    scenario.append_signal(textSignal)\n",
    "    thoughts = listen.process_text_and_think (scenario, \n",
    "                  place_id, \n",
    "                  location, \n",
    "                  textSignal, \n",
    "                  HUMAN_ID, my_brain)\n",
    "    \n",
    "    # Create the response from the system and store this as a new signal\n",
    "    utterance = \"\" #ttt.getTextFromTriples(response)\n",
    "    if not utterance:\n",
    "            utterance = f\"So you what do you want to talk about {HUMAN_NAME}?\\n\"\n",
    "\n",
    "    response = utterance[::-1]\n",
    "    print(AGENT + \": \" + utterance)\n",
    "    textSignal = d_util.create_text_signal(scenario, utterance)\n",
    "    scenario.append_signal(textSignal)\n",
    "\n",
    "    ###### Getting the next input signals\n",
    "    utterance = input('\\n')\n"
   ]
  },
  {
   "cell_type": "markdown",
   "metadata": {},
   "source": [
    "## End of notebook"
   ]
  },
  {
   "cell_type": "code",
   "execution_count": null,
   "metadata": {},
   "outputs": [],
   "source": []
  }
 ],
 "metadata": {
  "kernelspec": {
   "display_name": "venv",
   "language": "python",
   "name": "venv"
  },
  "language_info": {
   "codemirror_mode": {
    "name": "ipython",
    "version": 3
   },
   "file_extension": ".py",
   "mimetype": "text/x-python",
   "name": "python",
   "nbconvert_exporter": "python",
   "pygments_lexer": "ipython3",
   "version": "3.7.6"
  }
 },
 "nbformat": 4,
 "nbformat_minor": 4
}
