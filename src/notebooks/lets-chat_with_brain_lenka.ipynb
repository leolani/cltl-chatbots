{
 "cells": [
  {
   "cell_type": "markdown",
   "metadata": {},
   "source": [
    "# Uses interaction to push triples to the brain"
   ]
  },
  {
   "cell_type": "markdown",
   "metadata": {},
   "source": [
    "Before running, start GraphDB and make sure that there is a sandbox repository"
   ]
  },
  {
   "cell_type": "code",
   "execution_count": 1,
   "metadata": {},
   "outputs": [
    {
     "name": "stderr",
     "output_type": "stream",
     "text": [
      "/Users/piek/PycharmProjects/cltl-chatbots/venv/lib/python3.7/site-packages/rdflib_jsonld/__init__.py:12: DeprecationWarning: The rdflib-jsonld package has been integrated into rdflib as of rdflib==6.0.1.  Please remove rdflib-jsonld from your project's dependencies.\n",
      "  DeprecationWarning,\n",
      "[nltk_data] Downloading package punkt to /Users/piek/nltk_data...\n",
      "[nltk_data]   Package punkt is already up-to-date!\n"
     ]
    }
   ],
   "source": [
    "# general imports for EMISSOR and the BRAIN\n",
    "import emissor as em\n",
    "from cltl import brain\n",
    "from cltl.triple_extraction.api import Chat, UtteranceHypothesis\n",
    "from emissor.persistence import ScenarioStorage\n",
    "from emissor.representation.annotation import AnnotationType, Token, NER\n",
    "from emissor.representation.container import Index\n",
    "from emissor.representation.scenario import Modality, ImageSignal, TextSignal, Mention, Annotation, Scenario\n",
    "from cltl.brain.long_term_memory import LongTermMemory\n",
    "from cltl.combot.backend.api.discrete import UtteranceType\n",
    "from cltl.brain.utils.helper_functions import brain_response_to_json\n",
    "from cltl.reply_generation.lenka_replier import LenkaReplier\n",
    "\n",
    "import os\n",
    "import time\n",
    "import uuid\n",
    "from datetime import datetime\n",
    "from datetime import date\n",
    "import requests\n"
   ]
  },
  {
   "cell_type": "code",
   "execution_count": 2,
   "metadata": {},
   "outputs": [],
   "source": [
    "import sys\n",
    "import os\n",
    "src_path = os.path.abspath(os.path.join('..'))\n",
    "if src_path not in sys.path:\n",
    "    sys.path.append(src_path)\n",
    "\n",
    "#### The next utils are needed for the interaction and creating triples and capsules\n",
    "import util.driver_util as d_util\n",
    "import util.capsule_util as c_util\n",
    "import intentions.talk as talk"
   ]
  },
  {
   "cell_type": "code",
   "execution_count": 3,
   "metadata": {},
   "outputs": [
    {
     "name": "stdout",
     "output_type": "stream",
     "text": [
      "Directory  ../../data/2021-11-01-20:59:11  Created \n",
      "Directory  ../../data/2021-11-01-20:59:11/image  Created \n"
     ]
    }
   ],
   "source": [
    "from random import getrandbits\n",
    "\n",
    "##### Setting the location\n",
    "place_id = getrandbits(8)\n",
    "location = requests.get(\"https://ipinfo.io\").json()\n",
    "\n",
    "##### Setting the agents\n",
    "AGENT = \"Leolani2\"\n",
    "HUMAN_NAME = \"Stranger\"\n",
    "HUMAN_ID = \"stranger\"\n",
    "\n",
    "### The name of your scenario\n",
    "scenario_id = datetime.today().strftime(\"%Y-%m-%d-%H:%M:%S\")\n",
    "\n",
    "### Specify the path to an existing data folder where your scenario is created and saved as a subfolder\n",
    "scenario_path = \"../../data\"\n",
    "\n",
    "### Define the folder where the images are saved\n",
    "imagefolder = scenario_path + \"/\" + scenario_id + \"/\" + \"image\"\n",
    "\n",
    "\n",
    "### Create the scenario folder, the json files and a scenarioStorage and scenario in memory\n",
    "scenarioStorage = d_util.create_scenario(scenario_path, scenario_id)\n",
    "scenario = scenarioStorage.create_scenario(scenario_id, datetime.now().microsecond, datetime.now().microsecond, AGENT)"
   ]
  },
  {
   "cell_type": "code",
   "execution_count": 4,
   "metadata": {},
   "outputs": [
    {
     "name": "stdout",
     "output_type": "stream",
     "text": [
      "<class 'pathlib.PosixPath'>\n",
      "2021-11-01 20:59:15,540 -     INFO -    cltl.brain.basic_brain.LongTermMemory - Uploading ontology to brain\n",
      "2021-11-01 20:59:17,437 -     INFO -   cltl.brain.basic_brain.TrustCalculator - Computed trust for all known agents\n",
      "2021-11-01 20:59:17,438 -    DEBUG -   cltl.reply_generation.api.LenkaReplier - Booted\n"
     ]
    }
   ],
   "source": [
    "import pathlib\n",
    "log_path=pathlib.Path('./logs')\n",
    "print(type(log_path))\n",
    "my_brain = brain.LongTermMemory(address=\"http://localhost:7200/repositories/sandbox\",\n",
    "                           log_dir=log_path,\n",
    "                           clear_all=True)\n",
    "replier = LenkaReplier()"
   ]
  },
  {
   "cell_type": "code",
   "execution_count": null,
   "metadata": {},
   "outputs": [
    {
     "name": "stdout",
     "output_type": "stream",
     "text": [
      "Leolani2: Hi there. Who are you Stranger?\n"
     ]
    },
    {
     "name": "stdin",
     "output_type": "stream",
     "text": [
      "\n",
      " I like cats\n"
     ]
    },
    {
     "name": "stdout",
     "output_type": "stream",
     "text": [
      "Stranger: I like cats\n",
      "2021-11-01 20:59:32,197 -     INFO - cltl.triple_extraction.api.Chat (stranger)          000 - << Start of Chat with stranger >>\n",
      "2021-11-01 20:59:32,198 -     INFO -               cltl.triple_extraction.api - Started POS tagger\n",
      "2021-11-01 20:59:32,203 -     INFO -               cltl.triple_extraction.api - Started NER tagger\n",
      "2021-11-01 20:59:32,206 -     INFO -               cltl.triple_extraction.api - Loaded grammar\n",
      "2021-11-01 20:59:33,615 -     INFO - cltl.triple_extraction.api.Chat (stranger)          001 -   stranger: \"I like cats\"\n",
      "{'subject': {'label': 'stranger', 'type': ['noun.person']}, 'predicate': {'label': 'like', 'type': ['verb.emotion']}, 'object': {'label': 'cats', 'type': ['noun.animal']}}\n",
      "{'subject': {'label': 'stranger', 'type': 'person'}, 'predicate': {'label': 'like', 'type': 'emotion'}, 'object': {'label': 'cats', 'type': 'animal'}}\n",
      "{'chat': '2021-11-01-20:59:11', 'turn': 'e1233d73-20e5-4d28-94ca-ed5f84053b13', 'author': 'stranger', 'utterance': 'I like cats', 'utterance_type': <UtteranceType.STATEMENT: 0>, 'position': '0-11', 'subject': {'label': 'stranger', 'type': 'person'}, 'predicate': {'label': 'like', 'type': 'emotion'}, 'object': {'label': 'cats', 'type': 'animal'}, 'perspective': {'sentiment': '0.75', 'certainty': 1, 'polarity': 1, 'emotion': <Emotion.NEUTRAL: 7>}, 'context_id': 'Leolani2', 'date': datetime.date(2021, 11, 1), 'place': 'Weesp', 'place_id': 143, 'country': 'NL', 'region': 'North Holland', 'city': 'Weesp', 'objects': [{'type': 'chair', 'confidence': 0.59, 'id': 1}, {'type': 'table', 'confidence': 0.73, 'id': 1}, {'type': 'pillbox', 'confidence': 0.32, 'id': 1}], 'people': [{'name': 'stranger', 'confidence': 0.98, 'id': 1}]}\n",
      "2021-11-01 20:59:35,056 -     INFO -    cltl.brain.basic_brain.LongTermMemory - Triple in statement: stranger_emotion_cats [person_->_animal])\n",
      "2021-11-01 20:59:35,078 -     INFO -  cltl.brain.basic_brain.ThoughtGenerator - Entity Novelty: new subject - new object \n",
      "2021-11-01 20:59:46,704 -     INFO -  cltl.brain.basic_brain.ThoughtGenerator - Negation Conflicts: stranger on November,2021 about POSITIVE\n",
      "2021-11-01 20:59:46,722 -     INFO -  cltl.brain.basic_brain.ThoughtGenerator - Gaps: 26 gaps as subject: e.g. like agent - 15 gaps as object: e.g. cook-by dish\n",
      "2021-11-01 20:59:46,742 -     INFO -  cltl.brain.basic_brain.ThoughtGenerator - Gaps: 0 gaps as subject: e.g. '' - 2 gaps as object: e.g. own agent\n",
      "{'response': '204', 'statement': {'chat': '2021-11-01-20:59:11', 'turn': 'e1233d73-20e5-4d28-94ca-ed5f84053b13', 'author': 'stranger', 'utterance': 'I like cats', 'utterance_type': 'STATEMENT', 'position': '0-11', 'subject': {'label': 'stranger', 'type': ['person']}, 'predicate': {'label': 'like', 'type': 'emotion'}, 'object': {'label': 'cats', 'type': ['animal']}, 'perspective': {'_certainty': 'CERTAIN', '_polarity': 'POSITIVE', '_sentiment': 'POSITIVE', '_time': None, '_emotion': 'UNDERSPECIFIED'}, 'context_id': 'Leolani2', 'date': '2021-11-01', 'place': 'Weesp', 'place_id': 143, 'country': 'NL', 'region': 'North Holland', 'city': 'Weesp', 'objects': [{'type': 'chair', 'confidence': 0.59, 'id': 1}, {'type': 'table', 'confidence': 0.73, 'id': 1}, {'type': 'pillbox', 'confidence': 0.32, 'id': 1}], 'people': [{'name': 'stranger', 'confidence': 0.98, 'id': 1}], 'triple': {'_subject': {'_id': 'http://cltl.nl/leolani/world/stranger', '_label': 'stranger', '_offset': None, '_confidence': 0.0, '_types': ['person', 'Instance']}, '_predicate': {'_id': 'http://cltl.nl/leolani/n2mu/emotion', '_label': 'emotion', '_offset': None, '_confidence': 0.0, '_cardinality': 1}, '_complement': {'_id': 'http://cltl.nl/leolani/world/cats', '_label': 'cats', '_offset': None, '_confidence': 0.0, '_types': ['animal', 'Instance']}}, 'type': 'STATEMENT'}, 'thoughts': {'_statement_novelty': [], '_entity_novelty': {'_subject': 'True', '_complement': 'True'}, '_negation_conflicts': [{'_provenance': {'_author': 'stranger', '_date': '2021-11-01T00:00:00'}, '_polarity_value': 'POSITIVE'}], '_complement_conflict': [], '_subject_gaps': {'_subject': [{'_predicate': {'_id': 'http://cltl.nl/leolani/n2mu/experience', '_label': 'experience', '_offset': None, '_confidence': 0.0, '_cardinality': 1}, '_entity': {'_id': 'http://cltl.nl/leolani/n2mu/', '_label': '', '_offset': None, '_confidence': 0.0, '_types': ['smell']}}, {'_predicate': {'_id': 'http://cltl.nl/leolani/n2mu/experience', '_label': 'experience', '_offset': None, '_confidence': 0.0, '_cardinality': 1}, '_entity': {'_id': 'http://cltl.nl/leolani/n2mu/', '_label': '', '_offset': None, '_confidence': 0.0, '_types': ['taste']}}, {'_predicate': {'_id': 'http://cltl.nl/leolani/n2mu/experience', '_label': 'experience', '_offset': None, '_confidence': 0.0, '_cardinality': 1}, '_entity': {'_id': 'http://cltl.nl/leolani/n2mu/', '_label': '', '_offset': None, '_confidence': 0.0, '_types': ['touch']}}, {'_predicate': {'_id': 'http://cltl.nl/leolani/n2mu/be-ancestor-of', '_label': 'be-ancestor-of', '_offset': None, '_confidence': 0.0, '_cardinality': 1}, '_entity': {'_id': 'http://cltl.nl/leolani/n2mu/', '_label': '', '_offset': None, '_confidence': 0.0, '_types': ['person']}}, {'_predicate': {'_id': 'http://cltl.nl/leolani/n2mu/be-family-of', '_label': 'be-family-of', '_offset': None, '_confidence': 0.0, '_cardinality': 1}, '_entity': {'_id': 'http://cltl.nl/leolani/n2mu/', '_label': '', '_offset': None, '_confidence': 0.0, '_types': ['person']}}, {'_predicate': {'_id': 'http://cltl.nl/leolani/n2mu/be-parent-of', '_label': 'be-parent-of', '_offset': None, '_confidence': 0.0, '_cardinality': 1}, '_entity': {'_id': 'http://cltl.nl/leolani/n2mu/', '_label': '', '_offset': None, '_confidence': 0.0, '_types': ['person']}}, {'_predicate': {'_id': 'http://cltl.nl/leolani/n2mu/be-friends-with', '_label': 'be-friends-with', '_offset': None, '_confidence': 0.0, '_cardinality': 1}, '_entity': {'_id': 'http://cltl.nl/leolani/n2mu/', '_label': '', '_offset': None, '_confidence': 0.0, '_types': ['person']}}, {'_predicate': {'_id': 'http://cltl.nl/leolani/n2mu/born-in', '_label': 'born-in', '_offset': None, '_confidence': 0.0, '_cardinality': 1}, '_entity': {'_id': 'http://cltl.nl/leolani/n2mu/', '_label': '', '_offset': None, '_confidence': 0.0, '_types': ['location']}}, {'_predicate': {'_id': 'http://cltl.nl/leolani/n2mu/own', '_label': 'own', '_offset': None, '_confidence': 0.0, '_cardinality': 1}, '_entity': {'_id': 'http://cltl.nl/leolani/n2mu/', '_label': '', '_offset': None, '_confidence': 0.0, '_types': ['object']}}, {'_predicate': {'_id': 'http://cltl.nl/leolani/n2mu/perceive', '_label': 'perceive', '_offset': None, '_confidence': 0.0, '_cardinality': 1}, '_entity': {'_id': 'http://cltl.nl/leolani/n2mu/', '_label': '', '_offset': None, '_confidence': 0.0, '_types': ['sensor']}}, {'_predicate': {'_id': 'http://cltl.nl/leolani/n2mu/be-child-of', '_label': 'be-child-of', '_offset': None, '_confidence': 0.0, '_cardinality': 1}, '_entity': {'_id': 'http://cltl.nl/leolani/n2mu/', '_label': '', '_offset': None, '_confidence': 0.0, '_types': ['agent']}}, {'_predicate': {'_id': 'http://cltl.nl/leolani/n2mu/be-member-of', '_label': 'be-member-of', '_offset': None, '_confidence': 0.0, '_cardinality': 1}, '_entity': {'_id': 'http://cltl.nl/leolani/n2mu/', '_label': '', '_offset': None, '_confidence': 0.0, '_types': ['institution']}}, {'_predicate': {'_id': 'http://cltl.nl/leolani/n2mu/know', '_label': 'know', '_offset': None, '_confidence': 0.0, '_cardinality': 1}, '_entity': {'_id': 'http://cltl.nl/leolani/n2mu/', '_label': '', '_offset': None, '_confidence': 0.0, '_types': ['agent']}}, {'_predicate': {'_id': 'http://cltl.nl/leolani/n2mu/be-from', '_label': 'be-from', '_offset': None, '_confidence': 0.0, '_cardinality': 1}, '_entity': {'_id': 'http://cltl.nl/leolani/n2mu/', '_label': '', '_offset': None, '_confidence': 0.0, '_types': ['location']}}, {'_predicate': {'_id': 'http://cltl.nl/leolani/n2mu/dislike', '_label': 'dislike', '_offset': None, '_confidence': 0.0, '_cardinality': 1}, '_entity': {'_id': 'http://cltl.nl/leolani/n2mu/', '_label': '', '_offset': None, '_confidence': 0.0, '_types': ['agent']}}, {'_predicate': {'_id': 'http://cltl.nl/leolani/n2mu/dislike', '_label': 'dislike', '_offset': None, '_confidence': 0.0, '_cardinality': 1}, '_entity': {'_id': 'http://cltl.nl/leolani/n2mu/', '_label': '', '_offset': None, '_confidence': 0.0, '_types': ['interest']}}, {'_predicate': {'_id': 'http://cltl.nl/leolani/n2mu/favorite', '_label': 'favorite', '_offset': None, '_confidence': 0.0, '_cardinality': 1}, '_entity': {'_id': 'http://cltl.nl/leolani/n2mu/', '_label': '', '_offset': None, '_confidence': 0.0, '_types': ['interest']}}, {'_predicate': {'_id': 'http://cltl.nl/leolani/n2mu/like', '_label': 'like', '_offset': None, '_confidence': 0.0, '_cardinality': 1}, '_entity': {'_id': 'http://cltl.nl/leolani/n2mu/', '_label': '', '_offset': None, '_confidence': 0.0, '_types': ['agent']}}, {'_predicate': {'_id': 'http://cltl.nl/leolani/n2mu/like', '_label': 'like', '_offset': None, '_confidence': 0.0, '_cardinality': 1}, '_entity': {'_id': 'http://cltl.nl/leolani/n2mu/', '_label': '', '_offset': None, '_confidence': 0.0, '_types': ['interest']}}, {'_predicate': {'_id': 'http://cltl.nl/leolani/n2mu/live-in', '_label': 'live-in', '_offset': None, '_confidence': 0.0, '_cardinality': 1}, '_entity': {'_id': 'http://cltl.nl/leolani/n2mu/', '_label': '', '_offset': None, '_confidence': 0.0, '_types': ['location']}}, {'_predicate': {'_id': 'http://cltl.nl/leolani/n2mu/play', '_label': 'play', '_offset': None, '_confidence': 0.0, '_cardinality': 1}, '_entity': {'_id': 'http://cltl.nl/leolani/n2mu/', '_label': '', '_offset': None, '_confidence': 0.0, '_types': ['song']}}, {'_predicate': {'_id': 'http://cltl.nl/leolani/n2mu/play', '_label': 'play', '_offset': None, '_confidence': 0.0, '_cardinality': 1}, '_entity': {'_id': 'http://cltl.nl/leolani/n2mu/', '_label': '', '_offset': None, '_confidence': 0.0, '_types': ['sport']}}, {'_predicate': {'_id': 'http://cltl.nl/leolani/n2mu/like-by', '_label': 'like-by', '_offset': None, '_confidence': 0.0, '_cardinality': 1}, '_entity': {'_id': 'http://cltl.nl/leolani/n2mu/', '_label': '', '_offset': None, '_confidence': 0.0, '_types': ['agent']}}, {'_predicate': {'_id': 'http://cltl.nl/leolani/n2mu/study-at', '_label': 'study-at', '_offset': None, '_confidence': 0.0, '_cardinality': 1}, '_entity': {'_id': 'http://cltl.nl/leolani/n2mu/', '_label': '', '_offset': None, '_confidence': 0.0, '_types': ['institution']}}, {'_predicate': {'_id': 'http://cltl.nl/leolani/n2mu/travel-to', '_label': 'travel-to', '_offset': None, '_confidence': 0.0, '_cardinality': 1}, '_entity': {'_id': 'http://cltl.nl/leolani/n2mu/', '_label': '', '_offset': None, '_confidence': 0.0, '_types': ['location']}}, {'_predicate': {'_id': 'http://cltl.nl/leolani/n2mu/work-at', '_label': 'work-at', '_offset': None, '_confidence': 0.0, '_cardinality': 1}, '_entity': {'_id': 'http://cltl.nl/leolani/n2mu/', '_label': '', '_offset': None, '_confidence': 0.0, '_types': ['institution']}}], '_complement': [{'_predicate': {'_id': 'http://cltl.nl/leolani/n2mu/be-ancestor-of', '_label': 'be-ancestor-of', '_offset': None, '_confidence': 0.0, '_cardinality': 1}, '_entity': {'_id': 'http://cltl.nl/leolani/n2mu/', '_label': '', '_offset': None, '_confidence': 0.0, '_types': ['person']}}, {'_predicate': {'_id': 'http://cltl.nl/leolani/n2mu/be-family-of', '_label': 'be-family-of', '_offset': None, '_confidence': 0.0, '_cardinality': 1}, '_entity': {'_id': 'http://cltl.nl/leolani/n2mu/', '_label': '', '_offset': None, '_confidence': 0.0, '_types': ['person']}}, {'_predicate': {'_id': 'http://cltl.nl/leolani/n2mu/be-parent-of', '_label': 'be-parent-of', '_offset': None, '_confidence': 0.0, '_cardinality': 1}, '_entity': {'_id': 'http://cltl.nl/leolani/n2mu/', '_label': '', '_offset': None, '_confidence': 0.0, '_types': ['person']}}, {'_predicate': {'_id': 'http://cltl.nl/leolani/n2mu/be-friends-with', '_label': 'be-friends-with', '_offset': None, '_confidence': 0.0, '_cardinality': 1}, '_entity': {'_id': 'http://cltl.nl/leolani/n2mu/', '_label': '', '_offset': None, '_confidence': 0.0, '_types': ['person']}}, {'_predicate': {'_id': 'http://cltl.nl/leolani/n2mu/write-by', '_label': 'write-by', '_offset': None, '_confidence': 0.0, '_cardinality': 1}, '_entity': {'_id': 'http://cltl.nl/leolani/n2mu/', '_label': '', '_offset': None, '_confidence': 0.0, '_types': ['book']}}, {'_predicate': {'_id': 'http://cltl.nl/leolani/n2mu/be-child-of', '_label': 'be-child-of', '_offset': None, '_confidence': 0.0, '_cardinality': 1}, '_entity': {'_id': 'http://cltl.nl/leolani/n2mu/', '_label': '', '_offset': None, '_confidence': 0.0, '_types': ['agent']}}, {'_predicate': {'_id': 'http://cltl.nl/leolani/n2mu/know', '_label': 'know', '_offset': None, '_confidence': 0.0, '_cardinality': 1}, '_entity': {'_id': 'http://cltl.nl/leolani/n2mu/', '_label': '', '_offset': None, '_confidence': 0.0, '_types': ['agent']}}, {'_predicate': {'_id': 'http://cltl.nl/leolani/n2mu/cook-by', '_label': 'cook-by', '_offset': None, '_confidence': 0.0, '_cardinality': 1}, '_entity': {'_id': 'http://cltl.nl/leolani/n2mu/', '_label': '', '_offset': None, '_confidence': 0.0, '_types': ['dish']}}, {'_predicate': {'_id': 'http://cltl.nl/leolani/n2mu/cook-by', '_label': 'cook-by', '_offset': None, '_confidence': 0.0, '_cardinality': 1}, '_entity': {'_id': 'http://cltl.nl/leolani/n2mu/', '_label': '', '_offset': None, '_confidence': 0.0, '_types': ['food']}}, {'_predicate': {'_id': 'http://cltl.nl/leolani/n2mu/dislike', '_label': 'dislike', '_offset': None, '_confidence': 0.0, '_cardinality': 1}, '_entity': {'_id': 'http://cltl.nl/leolani/n2mu/', '_label': '', '_offset': None, '_confidence': 0.0, '_types': ['agent']}}, {'_predicate': {'_id': 'http://cltl.nl/leolani/n2mu/like', '_label': 'like', '_offset': None, '_confidence': 0.0, '_cardinality': 1}, '_entity': {'_id': 'http://cltl.nl/leolani/n2mu/', '_label': '', '_offset': None, '_confidence': 0.0, '_types': ['agent']}}, {'_predicate': {'_id': 'http://cltl.nl/leolani/n2mu/favorite-of', '_label': 'favorite-of', '_offset': None, '_confidence': 0.0, '_cardinality': 1}, '_entity': {'_id': 'http://cltl.nl/leolani/n2mu/', '_label': '', '_offset': None, '_confidence': 0.0, '_types': ['interest']}}, {'_predicate': {'_id': 'http://cltl.nl/leolani/n2mu/like-by', '_label': 'like-by', '_offset': None, '_confidence': 0.0, '_cardinality': 1}, '_entity': {'_id': 'http://cltl.nl/leolani/n2mu/', '_label': '', '_offset': None, '_confidence': 0.0, '_types': ['agent']}}, {'_predicate': {'_id': 'http://cltl.nl/leolani/n2mu/like-by', '_label': 'like-by', '_offset': None, '_confidence': 0.0, '_cardinality': 1}, '_entity': {'_id': 'http://cltl.nl/leolani/n2mu/', '_label': '', '_offset': None, '_confidence': 0.0, '_types': ['interest']}}, {'_predicate': {'_id': 'http://cltl.nl/leolani/n2mu/read-by', '_label': 'read-by', '_offset': None, '_confidence': 0.0, '_cardinality': 1}, '_entity': {'_id': 'http://cltl.nl/leolani/n2mu/', '_label': '', '_offset': None, '_confidence': 0.0, '_types': ['book']}}]}, '_complement_gaps': {'_subject': [], '_complement': [{'_predicate': {'_id': 'http://cltl.nl/leolani/n2mu/own', '_label': 'own', '_offset': None, '_confidence': 0.0, '_cardinality': 1}, '_entity': {'_id': 'http://cltl.nl/leolani/n2mu/', '_label': '', '_offset': None, '_confidence': 0.0, '_types': ['person']}}, {'_predicate': {'_id': 'http://cltl.nl/leolani/n2mu/own', '_label': 'own', '_offset': None, '_confidence': 0.0, '_cardinality': 1}, '_entity': {'_id': 'http://cltl.nl/leolani/n2mu/', '_label': '', '_offset': None, '_confidence': 0.0, '_types': ['agent']}}]}, '_overlaps': {'_subject': [], '_complement': []}, '_trust': 0.5}}\n",
      "Leolani2: I am curious. Has a person ever own cats?\n"
     ]
    },
    {
     "name": "stdin",
     "output_type": "stream",
     "text": [
      "\n",
      " What do I like?\n"
     ]
    },
    {
     "name": "stdout",
     "output_type": "stream",
     "text": [
      "2021-11-01 20:59:58,994 -     INFO - cltl.triple_extraction.api.Chat (stranger)          000 - << Start of Chat with stranger >>\n",
      "2021-11-01 20:59:59,887 -     INFO - cltl.triple_extraction.api.Chat (stranger)          001 -   stranger: \"What do I like?\"\n",
      "{'predicate': {'label': 'like', 'type': ['verb.emotion']}, 'subject': {'label': 'stranger', 'type': ['noun.person']}, 'object': {'label': '', 'type': []}}\n",
      "{'subject': {'label': 'stranger', 'type': 'person'}, 'predicate': {'label': 'like', 'type': 'emotion'}, 'object': {'label': '', 'type': []}}\n",
      "{'chat': '2021-11-01-20:59:11', 'turn': '49f3a8f9-7e05-4833-acb1-f9d740a18590', 'author': 'stranger', 'utterance': 'What do I like?', 'utterance_type': <UtteranceType.QUESTION: 1>, 'position': '0-15', 'subject': {'label': 'stranger', 'type': 'person'}, 'predicate': {'label': 'like', 'type': 'emotion'}, 'object': {'label': '', 'type': []}, 'perspective': None, 'context_id': 'Leolani2', 'date': datetime.date(2021, 11, 1), 'place': 'Weesp', 'place_id': 143, 'country': 'NL', 'region': 'North Holland', 'city': 'Weesp', 'objects': [{'type': 'chair', 'confidence': 0.59, 'id': 1}, {'type': 'table', 'confidence': 0.73, 'id': 1}, {'type': 'pillbox', 'confidence': 0.32, 'id': 1}], 'people': [{'name': 'stranger', 'confidence': 0.98, 'id': 1}]}\n",
      "2021-11-01 20:59:59,891 -     INFO -    cltl.brain.basic_brain.LongTermMemory - Triple in question: stranger_emotion_? [person_->_])\n",
      "Leolani2: you told me you emotion cats\n"
     ]
    }
   ],
   "source": [
    "#### Initial prompt by the system from which we create a TextSignal and store it\n",
    "initial_prompt = \"Hi there. Who are you \" + HUMAN_NAME + \"?\"\n",
    "print(AGENT + \": \" + initial_prompt)\n",
    "textSignal = d_util.create_text_signal(scenario, initial_prompt)\n",
    "scenario.append_signal(textSignal)\n",
    "\n",
    "utterance = input('\\n')\n",
    "print(HUMAN_NAME + \": \" + utterance)\n",
    "while not (utterance.lower() == 'stop' or utterance.lower() == 'bye'):\n",
    "    textSignal = d_util.create_text_signal(scenario, utterance)\n",
    "    scenario.append_signal(textSignal)\n",
    "    \n",
    "    thoughts = talk.process_text_and_reply (scenario, place_id, location, HUMAN_ID, textSignal, replier, my_brain)\n",
    "    \n",
    "    print(AGENT + \": \" + thoughts)\n",
    "    textSignal = d_util.create_text_signal(scenario, thoughts)\n",
    "    scenario.append_signal(textSignal)\n",
    "\n",
    "    ###### Getting the next input signals\n",
    "    utterance = input('\\n')\n"
   ]
  },
  {
   "cell_type": "code",
   "execution_count": 6,
   "metadata": {},
   "outputs": [],
   "source": [
    "#scenario.scenario.end = datetime.now().microsecond\n",
    "scenarioStorage.save_scenario(scenario)"
   ]
  },
  {
   "cell_type": "markdown",
   "metadata": {},
   "source": [
    "## End of notebook"
   ]
  },
  {
   "cell_type": "code",
   "execution_count": 6,
   "metadata": {},
   "outputs": [
    {
     "name": "stdout",
     "output_type": "stream",
     "text": [
      "Package                Version\n",
      "---------------------- ------------\n",
      "blis                   0.7.5\n",
      "catalogue              2.0.6\n",
      "certifi                2021.10.8\n",
      "cffi                   1.15.0\n",
      "chardet                3.0.4\n",
      "charset-normalizer     2.0.7\n",
      "click                  8.0.3\n",
      "cltl.asr               0.0.dev3\n",
      "cltl.backend           0.0.dev1\n",
      "cltl.brain             0.0.dev6\n",
      "cltl.reply-generation  0.0.dev5\n",
      "cltl.triple-extraction 0.0.dev3\n",
      "cltl.vad               0.0.dev1\n",
      "cymem                  2.0.6\n",
      "emissor                0.0.dev5\n",
      "en-core-web-sm         3.1.0\n",
      "filelock               3.3.2\n",
      "Flask                  2.0.2\n",
      "fuzzywuzzy             0.18.0\n",
      "huggingface-hub        0.0.19\n",
      "idna                   2.10\n",
      "importlib-metadata     4.8.1\n",
      "importlib-resources    5.3.0\n",
      "iribaker               0.2\n",
      "isodate                0.6.0\n",
      "itsdangerous           2.0.1\n",
      "Jinja2                 3.0.2\n",
      "jiwer                  2.2.1\n",
      "joblib                 1.1.0\n",
      "jsonpickle             2.0.0\n",
      "MarkupSafe             2.0.1\n",
      "marshmallow            3.14.0\n",
      "marshmallow-dataclass  8.5.3\n",
      "marshmallow-enum       1.5.1\n",
      "mock                   4.0.3\n",
      "murmurhash             1.0.6\n",
      "mypy-extensions        0.4.3\n",
      "nltk                   3.4.5\n",
      "numpy                  1.21.3\n",
      "opencv-python          4.5.4.58\n",
      "packaging              21.2\n",
      "parameterized          0.8.1\n",
      "pathy                  0.6.1\n",
      "Pillow                 8.4.0\n",
      "pip                    21.3.1\n",
      "preshed                3.0.6\n",
      "PyAudio                0.2.11\n",
      "pycparser              2.20\n",
      "pydantic               1.8.2\n",
      "pyparsing              2.4.7\n",
      "python-Levenshtein     0.12.2\n",
      "python-on-whales       0.29.0\n",
      "PyYAML                 6.0\n",
      "rdflib                 5.0.0\n",
      "rdflib-jsonld          0.6.2\n",
      "regex                  2021.10.23\n",
      "requests               2.25.0\n",
      "rfc3987                1.3.8\n",
      "sacremoses             0.0.46\n",
      "setuptools             41.2.0\n",
      "simplejson             3.17.5\n",
      "six                    1.16.0\n",
      "smart-open             5.2.1\n",
      "sounddevice            0.4.3\n",
      "SoundFile              0.10.3.post1\n",
      "spacy                  3.1.3\n",
      "spacy-legacy           3.0.8\n",
      "SPARQLWrapper          1.8.5\n",
      "srsly                  2.4.2\n",
      "thinc                  8.0.12\n",
      "tokenizers             0.10.3\n",
      "torch                  1.9.0\n",
      "tqdm                   4.62.3\n",
      "transformers           4.10.0\n",
      "typer                  0.4.0\n",
      "typing-extensions      3.10.0.2\n",
      "typing-inspect         0.7.1\n",
      "urllib3                1.26.7\n",
      "wasabi                 0.8.2\n",
      "webrtcvad              2.0.10\n",
      "Werkzeug               2.0.2\n",
      "zipp                   3.6.0\n"
     ]
    }
   ],
   "source": [
    "!pip list"
   ]
  },
  {
   "cell_type": "code",
   "execution_count": null,
   "metadata": {},
   "outputs": [],
   "source": []
  }
 ],
 "metadata": {
  "kernelspec": {
   "display_name": "venv",
   "language": "python",
   "name": "venv"
  },
  "language_info": {
   "codemirror_mode": {
    "name": "ipython",
    "version": 3
   },
   "file_extension": ".py",
   "mimetype": "text/x-python",
   "name": "python",
   "nbconvert_exporter": "python",
   "pygments_lexer": "ipython3",
   "version": "3.7.6"
  }
 },
 "nbformat": 4,
 "nbformat_minor": 4
}
