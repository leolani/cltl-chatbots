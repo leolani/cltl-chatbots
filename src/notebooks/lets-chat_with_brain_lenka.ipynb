{
 "cells": [
  {
   "cell_type": "markdown",
   "metadata": {},
   "source": [
    "# Uses interaction to push triples to the brain"
   ]
  },
  {
   "cell_type": "markdown",
   "metadata": {},
   "source": [
    "Before running, start GraphDB and make sure that there is a sandbox repository"
   ]
  },
  {
   "cell_type": "code",
   "execution_count": 1,
   "metadata": {},
   "outputs": [
    {
     "name": "stderr",
     "output_type": "stream",
     "text": [
      "[nltk_data] Downloading package punkt to /Users/piek/nltk_data...\n",
      "[nltk_data]   Package punkt is already up-to-date!\n"
     ]
    }
   ],
   "source": [
    "# general imports for EMISSOR and the BRAIN\n",
    "import emissor as em\n",
    "from cltl import brain\n",
    "from cltl.triple_extraction.api import Chat, UtteranceHypothesis\n",
    "from emissor.persistence import ScenarioStorage\n",
    "from emissor.representation.annotation import AnnotationType, Token, NER\n",
    "from emissor.representation.container import Index\n",
    "from emissor.representation.scenario import Modality, ImageSignal, TextSignal, Mention, Annotation, Scenario\n",
    "from cltl.brain.long_term_memory import LongTermMemory\n",
    "from cltl.combot.backend.api.discrete import UtteranceType\n",
    "#from cltl.brain.utils.helper_functions import brain_response_to_json\n",
    "from cltl.reply_generation.lenka_replier import LenkaReplier\n",
    "\n",
    "import os\n",
    "import time\n",
    "import uuid\n",
    "from datetime import datetime\n",
    "from datetime import date\n",
    "import requests\n"
   ]
  },
  {
   "cell_type": "code",
   "execution_count": 2,
   "metadata": {},
   "outputs": [],
   "source": [
    "import sys\n",
    "import os\n",
    "src_path = os.path.abspath(os.path.join('..'))\n",
    "if src_path not in sys.path:\n",
    "    sys.path.append(src_path)\n",
    "\n",
    "#### The next utils are needed for the interaction and creating triples and capsules\n",
    "import util.driver_util as d_util\n",
    "import util.capsule_util as c_util\n",
    "import intentions.talk as talk"
   ]
  },
  {
   "cell_type": "code",
   "execution_count": 3,
   "metadata": {},
   "outputs": [
    {
     "name": "stdout",
     "output_type": "stream",
     "text": [
      "Directory  ../../data/2021-11-01-16:42:40  Created \n",
      "Directory  ../../data/2021-11-01-16:42:40/image  Created \n"
     ]
    }
   ],
   "source": [
    "from random import getrandbits\n",
    "\n",
    "##### Setting the location\n",
    "place_id = getrandbits(8)\n",
    "location = requests.get(\"https://ipinfo.io\").json()\n",
    "\n",
    "##### Setting the agents\n",
    "AGENT = \"Leolani2\"\n",
    "HUMAN_NAME = \"Stranger\"\n",
    "HUMAN_ID = \"stranger\"\n",
    "\n",
    "### The name of your scenario\n",
    "scenario_id = datetime.today().strftime(\"%Y-%m-%d-%H:%M:%S\")\n",
    "\n",
    "### Specify the path to an existing data folder where your scenario is created and saved as a subfolder\n",
    "scenario_path = \"../../data\"\n",
    "\n",
    "### Define the folder where the images are saved\n",
    "imagefolder = scenario_path + \"/\" + scenario_id + \"/\" + \"image\"\n",
    "\n",
    "\n",
    "### Create the scenario folder, the json files and a scenarioStorage and scenario in memory\n",
    "scenarioStorage = d_util.create_scenario(scenario_path, scenario_id)\n",
    "scenario = scenarioStorage.create_scenario(scenario_id, datetime.now().microsecond, datetime.now().microsecond, AGENT)"
   ]
  },
  {
   "cell_type": "code",
   "execution_count": 4,
   "metadata": {},
   "outputs": [
    {
     "name": "stdout",
     "output_type": "stream",
     "text": [
      "<class 'pathlib.PosixPath'>\n",
      "2021-11-01 16:42:41,886 -    DEBUG -    cltl.brain.basic_brain.LongTermMemory - Booted\n",
      "2021-11-01 16:42:41,886 -    DEBUG -    cltl.brain.basic_brain.LongTermMemory - Clearing brain\n",
      "2021-11-01 16:42:42,295 -    DEBUG -    cltl.brain.basic_brain.LongTermMemory - Checking if ontology is in brain\n",
      "2021-11-01 16:42:42,297 -    DEBUG -    cltl.brain.basic_brain.LongTermMemory - Posting query\n",
      "2021-11-01 16:42:42,996 -     INFO -    cltl.brain.basic_brain.LongTermMemory - Uploading ontology to brain\n",
      "2021-11-01 16:42:44,458 -    DEBUG -  cltl.brain.basic_brain.ThoughtGenerator - Booted\n",
      "2021-11-01 16:42:44,459 -    DEBUG -  cltl.brain.basic_brain.LocationReasoner - Booted\n",
      "2021-11-01 16:42:44,461 -    DEBUG -      cltl.brain.basic_brain.TypeReasoner - Booted\n",
      "2021-11-01 16:42:44,464 -    DEBUG -   cltl.brain.basic_brain.TrustCalculator - Booted\n",
      "2021-11-01 16:42:44,546 -    DEBUG -   cltl.brain.basic_brain.TrustCalculator - Posting query\n",
      "2021-11-01 16:42:44,550 -     INFO -   cltl.brain.basic_brain.TrustCalculator - Computed trust for all known agents\n",
      "2021-11-01 16:42:44,551 -    DEBUG -   cltl.reply_generation.api.LenkaReplier - Booted\n"
     ]
    }
   ],
   "source": [
    "import pathlib\n",
    "log_path=pathlib.Path('./logs')\n",
    "print(type(log_path))\n",
    "my_brain = brain.LongTermMemory(address=\"http://localhost:7200/repositories/sandbox\",\n",
    "                           log_dir=log_path,\n",
    "                           clear_all=True)\n",
    "replier = LenkaReplier()"
   ]
  },
  {
   "cell_type": "code",
   "execution_count": 6,
   "metadata": {},
   "outputs": [
    {
     "name": "stdout",
     "output_type": "stream",
     "text": [
      "Leolani2: Hi there. Who are you Stranger?\n"
     ]
    },
    {
     "name": "stdin",
     "output_type": "stream",
     "text": [
      "\n",
      " I like cats\n"
     ]
    },
    {
     "name": "stdout",
     "output_type": "stream",
     "text": [
      "Stranger: I like cats\n",
      "2021-11-01 16:54:34,246 -     INFO - cltl.triple_extraction.api.Chat (stranger)          000 - << Start of Chat with stranger >>\n",
      "2021-11-01 16:54:35,246 -     INFO - cltl.triple_extraction.api.Chat (stranger)          001 -   stranger: \"I like cats\"\n",
      "{'subject': {'label': 'stranger', 'type': ['noun.person']}, 'predicate': {'label': 'like', 'type': ['verb.emotion']}, 'object': {'label': 'cats', 'type': ['noun.animal']}}\n",
      "{'subject': {'label': 'stranger', 'type': 'person'}, 'predicate': {'label': 'like', 'type': 'emotion'}, 'object': {'label': 'cats', 'type': 'animal'}}\n",
      "{'chat': '2021-11-01-16:42:40', 'turn': 'e70c69fa-8cda-48df-9522-e731aa510009', 'author': 'stranger', 'utterance': 'I like cats', 'utterance_type': <UtteranceType.STATEMENT: 0>, 'position': '0-11', 'subject': {'label': 'stranger', 'type': 'person'}, 'predicate': {'label': 'like', 'type': 'emotion'}, 'object': {'label': 'cats', 'type': 'animal'}, 'perspective': {'sentiment': '0.75', 'certainty': 1, 'polarity': 1, 'emotion': <Emotion.NEUTRAL: 7>}, 'context_id': 'Leolani2', 'date': datetime.date(2021, 11, 1), 'place': 'Amsterdam', 'place_id': 19, 'country': 'NL', 'region': 'North Holland', 'city': 'Amsterdam', 'objects': [{'type': 'chair', 'confidence': 0.59, 'id': 1}, {'type': 'table', 'confidence': 0.73, 'id': 1}, {'type': 'pillbox', 'confidence': 0.32, 'id': 1}], 'people': [{'name': 'stranger', 'confidence': 0.98, 'id': 1}]}\n",
      "2021-11-01 16:54:35,285 -    DEBUG -    cltl.brain.basic_brain.LongTermMemory - Posting query\n",
      "2021-11-01 16:54:35,314 -    DEBUG -  cltl.brain.basic_brain.LocationReasoner - Posting query\n",
      "2021-11-01 16:54:35,332 -     INFO -    cltl.brain.basic_brain.LongTermMemory - Triple in statement: stranger_emotion_cats [person_->_animal])\n",
      "2021-11-01 16:54:35,334 -    DEBUG -  cltl.brain.basic_brain.ThoughtGenerator - Posting query\n",
      "2021-11-01 16:54:35,365 -    DEBUG -  cltl.brain.basic_brain.ThoughtGenerator - Posting query\n",
      "2021-11-01 16:54:35,371 -    DEBUG -  cltl.brain.basic_brain.ThoughtGenerator - Posting query\n",
      "2021-11-01 16:54:35,413 -     INFO -  cltl.brain.basic_brain.ThoughtGenerator - Entity Novelty: new subject - new object \n",
      "2021-11-01 16:54:35,414 -    DEBUG -  cltl.brain.basic_brain.ThoughtGenerator - Posting query\n",
      "2021-11-01 16:54:35,421 -    DEBUG -  cltl.brain.basic_brain.ThoughtGenerator - Posting query\n",
      "2021-11-01 16:54:36,838 -    DEBUG -    cltl.brain.basic_brain.LongTermMemory - Posting triples\n",
      "2021-11-01 16:54:37,665 -    DEBUG -  cltl.brain.basic_brain.ThoughtGenerator - Posting query\n",
      "2021-11-01 16:54:37,712 -     INFO -  cltl.brain.basic_brain.ThoughtGenerator - Negation Conflicts: stranger on November,2021 about POSITIVE\n",
      "2021-11-01 16:54:37,713 -    DEBUG -  cltl.brain.basic_brain.ThoughtGenerator - Posting query\n",
      "2021-11-01 16:54:37,722 -    DEBUG -  cltl.brain.basic_brain.ThoughtGenerator - Posting query\n",
      "2021-11-01 16:54:37,767 -     INFO -  cltl.brain.basic_brain.ThoughtGenerator - Gaps: 26 gaps as subject: e.g. live-in location - 15 gaps as object: e.g. be-friends-with person\n",
      "2021-11-01 16:54:37,768 -    DEBUG -  cltl.brain.basic_brain.ThoughtGenerator - Posting query\n",
      "2021-11-01 16:54:37,774 -    DEBUG -  cltl.brain.basic_brain.ThoughtGenerator - Posting query\n",
      "2021-11-01 16:54:37,787 -     INFO -  cltl.brain.basic_brain.ThoughtGenerator - Gaps: 0 gaps as subject: e.g. '' - 2 gaps as object: e.g. own agent\n",
      "2021-11-01 16:54:37,788 -    DEBUG -   cltl.brain.basic_brain.TrustCalculator - Posting query\n",
      "{'response': '204', 'statement': {'chat': '2021-11-01-16:42:40', 'turn': 'e70c69fa-8cda-48df-9522-e731aa510009', 'author': 'stranger', 'utterance': 'I like cats', 'utterance_type': 'STATEMENT', 'position': '0-11', 'subject': {'label': 'stranger', 'type': 'person'}, 'predicate': {'label': 'like', 'type': 'emotion'}, 'object': {'label': 'cats', 'type': 'animal'}, 'perspective': {'_certainty': 'CERTAIN', '_polarity': 'POSITIVE', '_sentiment': 'POSITIVE', '_time': None, '_emotion': 'UNDERSPECIFIED'}, 'context_id': 'Leolani2', 'date': '2021-11-01', 'place': 'Amsterdam', 'place_id': 19, 'country': 'NL', 'region': 'North Holland', 'city': 'Amsterdam', 'objects': [{'type': 'chair', 'confidence': 0.59, 'id': 1}, {'type': 'table', 'confidence': 0.73, 'id': 1}, {'type': 'pillbox', 'confidence': 0.32, 'id': 1}], 'people': [{'name': 'stranger', 'confidence': 0.98, 'id': 1}], 'triple': {'_subject': {'_id': 'http://cltl.nl/leolani/world/stranger', '_label': 'stranger', '_offset': None, '_confidence': 0.0, '_types': ['person', 'Instance']}, '_predicate': {'_id': 'http://cltl.nl/leolani/n2mu/emotion', '_label': 'emotion', '_offset': None, '_confidence': 0.0, '_cardinality': 1}, '_complement': {'_id': 'http://cltl.nl/leolani/world/cats', '_label': 'cats', '_offset': None, '_confidence': 0.0, '_types': ['animal', 'Instance']}}, 'type': 'STATEMENT'}, 'thoughts': {'_statement_novelty': [], '_entity_novelty': {'_subject': 'True', '_complement': 'True'}, '_negation_conflicts': [{'_provenance': {'_author': 'stranger', '_date': '2021-11-01T00:00:00'}, '_polarity_value': 'POSITIVE'}], '_complement_conflict': [], '_subject_gaps': {'_subject': [{'_predicate': {'_id': 'http://cltl.nl/leolani/n2mu/experience', '_label': 'experience', '_offset': None, '_confidence': 0.0, '_cardinality': 1}, '_entity': {'_id': 'http://cltl.nl/leolani/n2mu/', '_label': '', '_offset': None, '_confidence': 0.0, '_types': ['smell']}}, {'_predicate': {'_id': 'http://cltl.nl/leolani/n2mu/experience', '_label': 'experience', '_offset': None, '_confidence': 0.0, '_cardinality': 1}, '_entity': {'_id': 'http://cltl.nl/leolani/n2mu/', '_label': '', '_offset': None, '_confidence': 0.0, '_types': ['taste']}}, {'_predicate': {'_id': 'http://cltl.nl/leolani/n2mu/experience', '_label': 'experience', '_offset': None, '_confidence': 0.0, '_cardinality': 1}, '_entity': {'_id': 'http://cltl.nl/leolani/n2mu/', '_label': '', '_offset': None, '_confidence': 0.0, '_types': ['touch']}}, {'_predicate': {'_id': 'http://cltl.nl/leolani/n2mu/be-ancestor-of', '_label': 'be-ancestor-of', '_offset': None, '_confidence': 0.0, '_cardinality': 1}, '_entity': {'_id': 'http://cltl.nl/leolani/n2mu/', '_label': '', '_offset': None, '_confidence': 0.0, '_types': ['person']}}, {'_predicate': {'_id': 'http://cltl.nl/leolani/n2mu/be-family-of', '_label': 'be-family-of', '_offset': None, '_confidence': 0.0, '_cardinality': 1}, '_entity': {'_id': 'http://cltl.nl/leolani/n2mu/', '_label': '', '_offset': None, '_confidence': 0.0, '_types': ['person']}}, {'_predicate': {'_id': 'http://cltl.nl/leolani/n2mu/be-parent-of', '_label': 'be-parent-of', '_offset': None, '_confidence': 0.0, '_cardinality': 1}, '_entity': {'_id': 'http://cltl.nl/leolani/n2mu/', '_label': '', '_offset': None, '_confidence': 0.0, '_types': ['person']}}, {'_predicate': {'_id': 'http://cltl.nl/leolani/n2mu/be-friends-with', '_label': 'be-friends-with', '_offset': None, '_confidence': 0.0, '_cardinality': 1}, '_entity': {'_id': 'http://cltl.nl/leolani/n2mu/', '_label': '', '_offset': None, '_confidence': 0.0, '_types': ['person']}}, {'_predicate': {'_id': 'http://cltl.nl/leolani/n2mu/born-in', '_label': 'born-in', '_offset': None, '_confidence': 0.0, '_cardinality': 1}, '_entity': {'_id': 'http://cltl.nl/leolani/n2mu/', '_label': '', '_offset': None, '_confidence': 0.0, '_types': ['location']}}, {'_predicate': {'_id': 'http://cltl.nl/leolani/n2mu/own', '_label': 'own', '_offset': None, '_confidence': 0.0, '_cardinality': 1}, '_entity': {'_id': 'http://cltl.nl/leolani/n2mu/', '_label': '', '_offset': None, '_confidence': 0.0, '_types': ['object']}}, {'_predicate': {'_id': 'http://cltl.nl/leolani/n2mu/perceive', '_label': 'perceive', '_offset': None, '_confidence': 0.0, '_cardinality': 1}, '_entity': {'_id': 'http://cltl.nl/leolani/n2mu/', '_label': '', '_offset': None, '_confidence': 0.0, '_types': ['sensor']}}, {'_predicate': {'_id': 'http://cltl.nl/leolani/n2mu/be-child-of', '_label': 'be-child-of', '_offset': None, '_confidence': 0.0, '_cardinality': 1}, '_entity': {'_id': 'http://cltl.nl/leolani/n2mu/', '_label': '', '_offset': None, '_confidence': 0.0, '_types': ['agent']}}, {'_predicate': {'_id': 'http://cltl.nl/leolani/n2mu/be-member-of', '_label': 'be-member-of', '_offset': None, '_confidence': 0.0, '_cardinality': 1}, '_entity': {'_id': 'http://cltl.nl/leolani/n2mu/', '_label': '', '_offset': None, '_confidence': 0.0, '_types': ['institution']}}, {'_predicate': {'_id': 'http://cltl.nl/leolani/n2mu/know', '_label': 'know', '_offset': None, '_confidence': 0.0, '_cardinality': 1}, '_entity': {'_id': 'http://cltl.nl/leolani/n2mu/', '_label': '', '_offset': None, '_confidence': 0.0, '_types': ['agent']}}, {'_predicate': {'_id': 'http://cltl.nl/leolani/n2mu/be-from', '_label': 'be-from', '_offset': None, '_confidence': 0.0, '_cardinality': 1}, '_entity': {'_id': 'http://cltl.nl/leolani/n2mu/', '_label': '', '_offset': None, '_confidence': 0.0, '_types': ['location']}}, {'_predicate': {'_id': 'http://cltl.nl/leolani/n2mu/dislike', '_label': 'dislike', '_offset': None, '_confidence': 0.0, '_cardinality': 1}, '_entity': {'_id': 'http://cltl.nl/leolani/n2mu/', '_label': '', '_offset': None, '_confidence': 0.0, '_types': ['agent']}}, {'_predicate': {'_id': 'http://cltl.nl/leolani/n2mu/dislike', '_label': 'dislike', '_offset': None, '_confidence': 0.0, '_cardinality': 1}, '_entity': {'_id': 'http://cltl.nl/leolani/n2mu/', '_label': '', '_offset': None, '_confidence': 0.0, '_types': ['interest']}}, {'_predicate': {'_id': 'http://cltl.nl/leolani/n2mu/favorite', '_label': 'favorite', '_offset': None, '_confidence': 0.0, '_cardinality': 1}, '_entity': {'_id': 'http://cltl.nl/leolani/n2mu/', '_label': '', '_offset': None, '_confidence': 0.0, '_types': ['interest']}}, {'_predicate': {'_id': 'http://cltl.nl/leolani/n2mu/like', '_label': 'like', '_offset': None, '_confidence': 0.0, '_cardinality': 1}, '_entity': {'_id': 'http://cltl.nl/leolani/n2mu/', '_label': '', '_offset': None, '_confidence': 0.0, '_types': ['agent']}}, {'_predicate': {'_id': 'http://cltl.nl/leolani/n2mu/like', '_label': 'like', '_offset': None, '_confidence': 0.0, '_cardinality': 1}, '_entity': {'_id': 'http://cltl.nl/leolani/n2mu/', '_label': '', '_offset': None, '_confidence': 0.0, '_types': ['interest']}}, {'_predicate': {'_id': 'http://cltl.nl/leolani/n2mu/live-in', '_label': 'live-in', '_offset': None, '_confidence': 0.0, '_cardinality': 1}, '_entity': {'_id': 'http://cltl.nl/leolani/n2mu/', '_label': '', '_offset': None, '_confidence': 0.0, '_types': ['location']}}, {'_predicate': {'_id': 'http://cltl.nl/leolani/n2mu/play', '_label': 'play', '_offset': None, '_confidence': 0.0, '_cardinality': 1}, '_entity': {'_id': 'http://cltl.nl/leolani/n2mu/', '_label': '', '_offset': None, '_confidence': 0.0, '_types': ['song']}}, {'_predicate': {'_id': 'http://cltl.nl/leolani/n2mu/play', '_label': 'play', '_offset': None, '_confidence': 0.0, '_cardinality': 1}, '_entity': {'_id': 'http://cltl.nl/leolani/n2mu/', '_label': '', '_offset': None, '_confidence': 0.0, '_types': ['sport']}}, {'_predicate': {'_id': 'http://cltl.nl/leolani/n2mu/like-by', '_label': 'like-by', '_offset': None, '_confidence': 0.0, '_cardinality': 1}, '_entity': {'_id': 'http://cltl.nl/leolani/n2mu/', '_label': '', '_offset': None, '_confidence': 0.0, '_types': ['agent']}}, {'_predicate': {'_id': 'http://cltl.nl/leolani/n2mu/study-at', '_label': 'study-at', '_offset': None, '_confidence': 0.0, '_cardinality': 1}, '_entity': {'_id': 'http://cltl.nl/leolani/n2mu/', '_label': '', '_offset': None, '_confidence': 0.0, '_types': ['institution']}}, {'_predicate': {'_id': 'http://cltl.nl/leolani/n2mu/travel-to', '_label': 'travel-to', '_offset': None, '_confidence': 0.0, '_cardinality': 1}, '_entity': {'_id': 'http://cltl.nl/leolani/n2mu/', '_label': '', '_offset': None, '_confidence': 0.0, '_types': ['location']}}, {'_predicate': {'_id': 'http://cltl.nl/leolani/n2mu/work-at', '_label': 'work-at', '_offset': None, '_confidence': 0.0, '_cardinality': 1}, '_entity': {'_id': 'http://cltl.nl/leolani/n2mu/', '_label': '', '_offset': None, '_confidence': 0.0, '_types': ['institution']}}], '_complement': [{'_predicate': {'_id': 'http://cltl.nl/leolani/n2mu/be-ancestor-of', '_label': 'be-ancestor-of', '_offset': None, '_confidence': 0.0, '_cardinality': 1}, '_entity': {'_id': 'http://cltl.nl/leolani/n2mu/', '_label': '', '_offset': None, '_confidence': 0.0, '_types': ['person']}}, {'_predicate': {'_id': 'http://cltl.nl/leolani/n2mu/be-family-of', '_label': 'be-family-of', '_offset': None, '_confidence': 0.0, '_cardinality': 1}, '_entity': {'_id': 'http://cltl.nl/leolani/n2mu/', '_label': '', '_offset': None, '_confidence': 0.0, '_types': ['person']}}, {'_predicate': {'_id': 'http://cltl.nl/leolani/n2mu/be-parent-of', '_label': 'be-parent-of', '_offset': None, '_confidence': 0.0, '_cardinality': 1}, '_entity': {'_id': 'http://cltl.nl/leolani/n2mu/', '_label': '', '_offset': None, '_confidence': 0.0, '_types': ['person']}}, {'_predicate': {'_id': 'http://cltl.nl/leolani/n2mu/be-friends-with', '_label': 'be-friends-with', '_offset': None, '_confidence': 0.0, '_cardinality': 1}, '_entity': {'_id': 'http://cltl.nl/leolani/n2mu/', '_label': '', '_offset': None, '_confidence': 0.0, '_types': ['person']}}, {'_predicate': {'_id': 'http://cltl.nl/leolani/n2mu/write-by', '_label': 'write-by', '_offset': None, '_confidence': 0.0, '_cardinality': 1}, '_entity': {'_id': 'http://cltl.nl/leolani/n2mu/', '_label': '', '_offset': None, '_confidence': 0.0, '_types': ['book']}}, {'_predicate': {'_id': 'http://cltl.nl/leolani/n2mu/be-child-of', '_label': 'be-child-of', '_offset': None, '_confidence': 0.0, '_cardinality': 1}, '_entity': {'_id': 'http://cltl.nl/leolani/n2mu/', '_label': '', '_offset': None, '_confidence': 0.0, '_types': ['agent']}}, {'_predicate': {'_id': 'http://cltl.nl/leolani/n2mu/know', '_label': 'know', '_offset': None, '_confidence': 0.0, '_cardinality': 1}, '_entity': {'_id': 'http://cltl.nl/leolani/n2mu/', '_label': '', '_offset': None, '_confidence': 0.0, '_types': ['agent']}}, {'_predicate': {'_id': 'http://cltl.nl/leolani/n2mu/cook-by', '_label': 'cook-by', '_offset': None, '_confidence': 0.0, '_cardinality': 1}, '_entity': {'_id': 'http://cltl.nl/leolani/n2mu/', '_label': '', '_offset': None, '_confidence': 0.0, '_types': ['dish']}}, {'_predicate': {'_id': 'http://cltl.nl/leolani/n2mu/cook-by', '_label': 'cook-by', '_offset': None, '_confidence': 0.0, '_cardinality': 1}, '_entity': {'_id': 'http://cltl.nl/leolani/n2mu/', '_label': '', '_offset': None, '_confidence': 0.0, '_types': ['food']}}, {'_predicate': {'_id': 'http://cltl.nl/leolani/n2mu/dislike', '_label': 'dislike', '_offset': None, '_confidence': 0.0, '_cardinality': 1}, '_entity': {'_id': 'http://cltl.nl/leolani/n2mu/', '_label': '', '_offset': None, '_confidence': 0.0, '_types': ['agent']}}, {'_predicate': {'_id': 'http://cltl.nl/leolani/n2mu/like', '_label': 'like', '_offset': None, '_confidence': 0.0, '_cardinality': 1}, '_entity': {'_id': 'http://cltl.nl/leolani/n2mu/', '_label': '', '_offset': None, '_confidence': 0.0, '_types': ['agent']}}, {'_predicate': {'_id': 'http://cltl.nl/leolani/n2mu/favorite-of', '_label': 'favorite-of', '_offset': None, '_confidence': 0.0, '_cardinality': 1}, '_entity': {'_id': 'http://cltl.nl/leolani/n2mu/', '_label': '', '_offset': None, '_confidence': 0.0, '_types': ['interest']}}, {'_predicate': {'_id': 'http://cltl.nl/leolani/n2mu/like-by', '_label': 'like-by', '_offset': None, '_confidence': 0.0, '_cardinality': 1}, '_entity': {'_id': 'http://cltl.nl/leolani/n2mu/', '_label': '', '_offset': None, '_confidence': 0.0, '_types': ['agent']}}, {'_predicate': {'_id': 'http://cltl.nl/leolani/n2mu/like-by', '_label': 'like-by', '_offset': None, '_confidence': 0.0, '_cardinality': 1}, '_entity': {'_id': 'http://cltl.nl/leolani/n2mu/', '_label': '', '_offset': None, '_confidence': 0.0, '_types': ['interest']}}, {'_predicate': {'_id': 'http://cltl.nl/leolani/n2mu/read-by', '_label': 'read-by', '_offset': None, '_confidence': 0.0, '_cardinality': 1}, '_entity': {'_id': 'http://cltl.nl/leolani/n2mu/', '_label': '', '_offset': None, '_confidence': 0.0, '_types': ['book']}}]}, '_complement_gaps': {'_subject': [], '_complement': [{'_predicate': {'_id': 'http://cltl.nl/leolani/n2mu/own', '_label': 'own', '_offset': None, '_confidence': 0.0, '_cardinality': 1}, '_entity': {'_id': 'http://cltl.nl/leolani/n2mu/', '_label': '', '_offset': None, '_confidence': 0.0, '_types': ['person']}}, {'_predicate': {'_id': 'http://cltl.nl/leolani/n2mu/own', '_label': 'own', '_offset': None, '_confidence': 0.0, '_cardinality': 1}, '_entity': {'_id': 'http://cltl.nl/leolani/n2mu/', '_label': '', '_offset': None, '_confidence': 0.0, '_types': ['agent']}}]}, '_overlaps': {'_subject': [], '_complement': []}, '_trust': 0.5}}\n"
     ]
    },
    {
     "ename": "AttributeError",
     "evalue": "'dict' object has no attribute 'triple'",
     "output_type": "error",
     "traceback": [
      "\u001b[0;31m---------------------------------------------------------------------------\u001b[0m",
      "\u001b[0;31mAttributeError\u001b[0m                            Traceback (most recent call last)",
      "\u001b[0;32m<ipython-input-6-45bf60a7a3af>\u001b[0m in \u001b[0;36m<module>\u001b[0;34m\u001b[0m\n\u001b[1;32m     11\u001b[0m     \u001b[0mscenario\u001b[0m\u001b[0;34m.\u001b[0m\u001b[0mappend_signal\u001b[0m\u001b[0;34m(\u001b[0m\u001b[0mtextSignal\u001b[0m\u001b[0;34m)\u001b[0m\u001b[0;34m\u001b[0m\u001b[0;34m\u001b[0m\u001b[0m\n\u001b[1;32m     12\u001b[0m \u001b[0;34m\u001b[0m\u001b[0m\n\u001b[0;32m---> 13\u001b[0;31m     \u001b[0mthoughts\u001b[0m \u001b[0;34m=\u001b[0m \u001b[0mtalk\u001b[0m\u001b[0;34m.\u001b[0m\u001b[0mprocess_text_and_reply\u001b[0m \u001b[0;34m(\u001b[0m\u001b[0mscenario\u001b[0m\u001b[0;34m,\u001b[0m \u001b[0mplace_id\u001b[0m\u001b[0;34m,\u001b[0m \u001b[0mlocation\u001b[0m\u001b[0;34m,\u001b[0m \u001b[0mHUMAN_ID\u001b[0m\u001b[0;34m,\u001b[0m \u001b[0mtextSignal\u001b[0m\u001b[0;34m,\u001b[0m \u001b[0mreplier\u001b[0m\u001b[0;34m,\u001b[0m \u001b[0mmy_brain\u001b[0m\u001b[0;34m)\u001b[0m\u001b[0;34m\u001b[0m\u001b[0;34m\u001b[0m\u001b[0m\n\u001b[0m\u001b[1;32m     14\u001b[0m \u001b[0;34m\u001b[0m\u001b[0m\n\u001b[1;32m     15\u001b[0m     \u001b[0mprint\u001b[0m\u001b[0;34m(\u001b[0m\u001b[0mAGENT\u001b[0m \u001b[0;34m+\u001b[0m \u001b[0;34m\": \"\u001b[0m \u001b[0;34m+\u001b[0m \u001b[0mthoughts\u001b[0m\u001b[0;34m)\u001b[0m\u001b[0;34m\u001b[0m\u001b[0;34m\u001b[0m\u001b[0m\n",
      "\u001b[0;32m~/PycharmProjects/cltl-chatbots/src/intentions/talk.py\u001b[0m in \u001b[0;36mprocess_text_and_reply\u001b[0;34m(scenario, place_id, location, human_id, textSignal, replier, my_brain)\u001b[0m\n\u001b[1;32m     89\u001b[0m                 \u001b[0mresponse_json\u001b[0m \u001b[0;34m=\u001b[0m \u001b[0mh_util\u001b[0m\u001b[0;34m.\u001b[0m\u001b[0mbrain_response_to_json\u001b[0m\u001b[0;34m(\u001b[0m\u001b[0mresponse\u001b[0m\u001b[0;34m)\u001b[0m\u001b[0;34m\u001b[0m\u001b[0;34m\u001b[0m\u001b[0m\n\u001b[1;32m     90\u001b[0m                 \u001b[0mprint\u001b[0m\u001b[0;34m(\u001b[0m\u001b[0mresponse_json\u001b[0m\u001b[0;34m)\u001b[0m\u001b[0;34m\u001b[0m\u001b[0;34m\u001b[0m\u001b[0m\n\u001b[0;32m---> 91\u001b[0;31m                 \u001b[0mreply\u001b[0m \u001b[0;34m=\u001b[0m \u001b[0mreplier\u001b[0m\u001b[0;34m.\u001b[0m\u001b[0mreply_to_statement\u001b[0m\u001b[0;34m(\u001b[0m\u001b[0mresponse_json\u001b[0m\u001b[0;34m,\u001b[0m \u001b[0mproactive\u001b[0m\u001b[0;34m=\u001b[0m\u001b[0;32mTrue\u001b[0m\u001b[0;34m,\u001b[0m \u001b[0mpersist\u001b[0m\u001b[0;34m=\u001b[0m\u001b[0;32mTrue\u001b[0m\u001b[0;34m)\u001b[0m\u001b[0;34m\u001b[0m\u001b[0;34m\u001b[0m\u001b[0m\n\u001b[0m\u001b[1;32m     92\u001b[0m     \u001b[0;32mreturn\u001b[0m \u001b[0mreply\u001b[0m\u001b[0;34m\u001b[0m\u001b[0;34m\u001b[0m\u001b[0m\n\u001b[1;32m     93\u001b[0m \u001b[0;34m\u001b[0m\u001b[0m\n",
      "\u001b[0;32m~/opt/anaconda3/lib/python3.7/site-packages/cltl/reply_generation/lenka_replier.py\u001b[0m in \u001b[0;36mreply_to_statement\u001b[0;34m(self, update, entity_only, proactive, persist)\u001b[0m\n\u001b[1;32m    148\u001b[0m         \u001b[0;31m# Casefold and select approach randomly\u001b[0m\u001b[0;34m\u001b[0m\u001b[0;34m\u001b[0m\u001b[0;34m\u001b[0m\u001b[0m\n\u001b[1;32m    149\u001b[0m         \u001b[0mutterance\u001b[0m \u001b[0;34m=\u001b[0m \u001b[0mupdate\u001b[0m\u001b[0;34m[\u001b[0m\u001b[0;34m'statement'\u001b[0m\u001b[0;34m]\u001b[0m\u001b[0;34m\u001b[0m\u001b[0;34m\u001b[0m\u001b[0m\n\u001b[0;32m--> 150\u001b[0;31m         \u001b[0;32mif\u001b[0m \u001b[0mutterance\u001b[0m\u001b[0;34m.\u001b[0m\u001b[0mtriple\u001b[0m \u001b[0;32mis\u001b[0m \u001b[0;32mNone\u001b[0m\u001b[0;34m:\u001b[0m\u001b[0;34m\u001b[0m\u001b[0;34m\u001b[0m\u001b[0m\n\u001b[0m\u001b[1;32m    151\u001b[0m             \u001b[0;32mreturn\u001b[0m \u001b[0;32mNone\u001b[0m\u001b[0;34m\u001b[0m\u001b[0;34m\u001b[0m\u001b[0m\n\u001b[1;32m    152\u001b[0m \u001b[0;34m\u001b[0m\u001b[0m\n",
      "\u001b[0;31mAttributeError\u001b[0m: 'dict' object has no attribute 'triple'"
     ]
    }
   ],
   "source": [
    "#### Initial prompt by the system from which we create a TextSignal and store it\n",
    "initial_prompt = \"Hi there. Who are you \" + HUMAN_NAME + \"?\"\n",
    "print(AGENT + \": \" + initial_prompt)\n",
    "textSignal = d_util.create_text_signal(scenario, initial_prompt)\n",
    "scenario.append_signal(textSignal)\n",
    "\n",
    "utterance = input('\\n')\n",
    "print(HUMAN_NAME + \": \" + utterance)\n",
    "while not (utterance.lower() == 'stop' or utterance.lower() == 'bye'):\n",
    "    textSignal = d_util.create_text_signal(scenario, utterance)\n",
    "    scenario.append_signal(textSignal)\n",
    "    \n",
    "    thoughts = talk.process_text_and_reply (scenario, place_id, location, HUMAN_ID, textSignal, replier, my_brain)\n",
    "    \n",
    "    print(AGENT + \": \" + thoughts)\n",
    "    textSignal = d_util.create_text_signal(scenario, thoughts)\n",
    "    scenario.append_signal(textSignal)\n",
    "\n",
    "    ###### Getting the next input signals\n",
    "    utterance = input('\\n')\n"
   ]
  },
  {
   "cell_type": "code",
   "execution_count": 6,
   "metadata": {},
   "outputs": [],
   "source": [
    "#scenario.scenario.end = datetime.now().microsecond\n",
    "scenarioStorage.save_scenario(scenario)"
   ]
  },
  {
   "cell_type": "markdown",
   "metadata": {},
   "source": [
    "## End of notebook"
   ]
  }
 ],
 "metadata": {
  "kernelspec": {
   "display_name": "venv",
   "language": "python",
   "name": "venv"
  },
  "language_info": {
   "codemirror_mode": {
    "name": "ipython",
    "version": 3
   },
   "file_extension": ".py",
   "mimetype": "text/x-python",
   "name": "python",
   "nbconvert_exporter": "python",
   "pygments_lexer": "ipython3",
   "version": "3.7.6"
  }
 },
 "nbformat": 4,
 "nbformat_minor": 4
}
