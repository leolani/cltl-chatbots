{
 "cells": [
  {
   "cell_type": "markdown",
   "metadata": {},
   "source": [
    "# Uses interaction to push triples to the brain"
   ]
  },
  {
   "cell_type": "markdown",
   "metadata": {},
   "source": [
    "Before running, start GraphDB and make sure that there is a sandbox repository"
   ]
  },
  {
   "cell_type": "code",
   "execution_count": 1,
   "metadata": {},
   "outputs": [
    {
     "name": "stderr",
     "output_type": "stream",
     "text": [
      "/Users/piek/PycharmProjects/cltl-chatbots/venv/lib/python3.7/site-packages/rdflib_jsonld/__init__.py:12: DeprecationWarning: The rdflib-jsonld package has been integrated into rdflib as of rdflib==6.0.1.  Please remove rdflib-jsonld from your project's dependencies.\n",
      "  DeprecationWarning,\n",
      "[nltk_data] Downloading package punkt to /Users/piek/nltk_data...\n",
      "[nltk_data]   Package punkt is already up-to-date!\n"
     ]
    }
   ],
   "source": [
    "import json\n",
    "import os\n",
    "import time\n",
    "import uuid\n",
    "from datetime import date\n",
    "from datetime import datetime\n",
    "from random import getrandbits, choice\n",
    "import pathlib\n",
    "\n",
    "# general imports for EMISSOR and the BRAIN\n",
    "import emissor as em\n",
    "import requests\n",
    "from cltl import brain\n",
    "from cltl.brain.long_term_memory import LongTermMemory\n",
    "from cltl.brain.utils.helper_functions import brain_response_to_json\n",
    "from cltl.combot.backend.api.discrete import UtteranceType\n",
    "from cltl.reply_generation.data.sentences import GREETING, ASK_NAME, ELOQUENCE, TALK_TO_ME\n",
    "from cltl.reply_generation.lenka_replier import LenkaReplier\n",
    "from cltl.triple_extraction.api import Chat, UtteranceHypothesis\n",
    "from emissor.persistence import ScenarioStorage\n",
    "from emissor.representation.annotation import AnnotationType, Token, NER\n",
    "from emissor.representation.container import Index\n",
    "from emissor.representation.scenario import Modality, ImageSignal, TextSignal, Mention, Annotation, Scenario"
   ]
  },
  {
   "cell_type": "markdown",
   "metadata": {},
   "source": [
    "### Importing the chatbot utility functions"
   ]
  },
  {
   "cell_type": "code",
   "execution_count": 2,
   "metadata": {},
   "outputs": [],
   "source": [
    "import sys\n",
    "import os\n",
    "\n",
    "src_path = os.path.abspath(os.path.join('..'))\n",
    "if src_path not in sys.path:\n",
    "    sys.path.append(src_path)\n",
    "\n",
    "#### The next utils are needed for the interaction and creating triples and capsules\n",
    "import chatbots.util.driver_util as d_util\n",
    "import chatbots.util.capsule_util as c_util\n",
    "import chatbots.intentions.talk as talk\n",
    "import chatbots.intentions.get_to_know_you as friend"
   ]
  },
  {
   "cell_type": "markdown",
   "metadata": {},
   "source": [
    "## Standard initialisation of a scenario"
   ]
  },
  {
   "cell_type": "code",
   "execution_count": 3,
   "metadata": {},
   "outputs": [
    {
     "name": "stdout",
     "output_type": "stream",
     "text": [
      "Directory  ../../data/2021-11-04-17:07:20  Created \n",
      "Directory  ../../data/2021-11-04-17:07:20/image  Created \n"
     ]
    }
   ],
   "source": [
    "from random import getrandbits\n",
    "import requests\n",
    "##### Setting the location\n",
    "place_id = getrandbits(8)\n",
    "location = requests.get(\"https://ipinfo.io\").json()\n",
    "\n",
    "##### Setting the agents\n",
    "AGENT = \"Leolani2\"\n",
    "HUMAN_NAME = \"Stranger\"\n",
    "HUMAN_ID = \"stranger\"\n",
    "\n",
    "### The name of your scenario\n",
    "scenario_id = datetime.today().strftime(\"%Y-%m-%d-%H:%M:%S\")\n",
    "\n",
    "### Specify the path to an existing data folder where your scenario is created and saved as a subfolder\n",
    "scenario_path = \"../../data\"\n",
    "\n",
    "### Define the folder where the images and rdf are saved\n",
    "imagefolder = scenario_path + \"/\" + scenario_id + \"/\" + \"image\"\n",
    "\n",
    "### Create the scenario folder, the json files and a scenarioStorage and scenario in memory\n",
    "scenarioStorage = d_util.create_scenario(scenario_path, scenario_id)\n",
    "scenario = scenarioStorage.create_scenario(scenario_id, datetime.now().microsecond, datetime.now().microsecond, AGENT)"
   ]
  },
  {
   "cell_type": "markdown",
   "metadata": {},
   "source": [
    "## Specifying the BRAIN"
   ]
  },
  {
   "cell_type": "code",
   "execution_count": 4,
   "metadata": {},
   "outputs": [
    {
     "name": "stdout",
     "output_type": "stream",
     "text": [
      "2021-11-04 17:07:25,133 -     INFO -    cltl.brain.basic_brain.LongTermMemory - Uploading ontology to brain\n",
      "2021-11-04 17:07:27,975 -     INFO -   cltl.brain.basic_brain.TrustCalculator - Computed trust for all known agents\n",
      "2021-11-04 17:07:27,976 -     INFO -   cltl.reply_generation.api.LenkaReplier - Booted\n"
     ]
    }
   ],
   "source": [
    "rdffolder = scenario_path + \"/\" + scenario_id + \"/\" + \"rdf\"\n",
    "log_path = pathlib.Path(rdffolder)\n",
    "my_brain = brain.LongTermMemory(address=\"http://localhost:7200/repositories/sandbox\",\n",
    "                                log_dir=log_path,\n",
    "                                clear_all=True)\n",
    "replier = LenkaReplier()"
   ]
  },
  {
   "cell_type": "code",
   "execution_count": null,
   "metadata": {},
   "outputs": [
    {
     "name": "stdout",
     "output_type": "stream",
     "text": [
      "Leolani2: What's up? I would like to know your name! Stranger?\n"
     ]
    },
    {
     "name": "stdin",
     "output_type": "stream",
     "text": [
      "\n",
      " Piek\n"
     ]
    },
    {
     "name": "stdout",
     "output_type": "stream",
     "text": [
      "Piek\n",
      "Leolani2: So your name is Piek?\n"
     ]
    },
    {
     "name": "stdin",
     "output_type": "stream",
     "text": [
      "\n",
      " yes\n"
     ]
    },
    {
     "name": "stdout",
     "output_type": "stream",
     "text": [
      "2021-11-04 17:07:36,535 -     INFO - cltl.triple_extraction.api.Chat (Piek_t_535075)     000 - << Start of Chat with Piek_t_535075 >>\n",
      "Leolani2: Do you have any gossip?\n"
     ]
    },
    {
     "name": "stdin",
     "output_type": "stream",
     "text": [
      "\n",
      " I am from Amsterdam\n"
     ]
    },
    {
     "name": "stdout",
     "output_type": "stream",
     "text": [
      "Piek: I am from Amsterdam\n",
      "2021-11-04 17:07:48,484 -     INFO -               cltl.triple_extraction.api - Started POS tagger\n",
      "2021-11-04 17:07:48,486 -     INFO -               cltl.triple_extraction.api - Started NER tagger\n",
      "2021-11-04 17:07:48,490 -     INFO -               cltl.triple_extraction.api - Loaded grammar\n",
      "2021-11-04 17:07:49,880 -     INFO - cltl.triple_extraction.api.Chat (Piek_t_535075)     001 - Piek_t_535075: \"I am from Amsterdam\"\n",
      "UtteranceType.STATEMENT\n",
      "{'subject': {'label': 'Piek_t_535075', 'type': ['agent']}, 'predicate': {'label': 'be-from', 'type': ['verb.stative', 'prep']}, 'object': {'label': 'Amsterdam', 'type': ['noun.location']}}\n",
      "2021-11-04 17:07:51,340 -     INFO -    cltl.brain.basic_brain.LongTermMemory - Triple in statement: piek-t-535075_be-from_amsterdam [agent_->_location])\n",
      "2021-11-04 17:07:51,425 -     INFO -  cltl.brain.basic_brain.ThoughtGenerator - Entity Novelty: new subject - new object \n",
      "2021-11-04 17:07:53,678 -     INFO -  cltl.brain.basic_brain.ThoughtGenerator - Gaps: 26 gaps as subject: e.g. play sport - 15 gaps as object: e.g. be-parent-of person\n",
      "Leolani2: If you don't mind me asking. Has piek t 535075 be parent of person?\n"
     ]
    },
    {
     "name": "stdin",
     "output_type": "stream",
     "text": [
      "\n",
      " I am a person\n"
     ]
    },
    {
     "name": "stdout",
     "output_type": "stream",
     "text": [
      "Piek: I am a person\n",
      "2021-11-04 17:08:10,134 -     INFO - cltl.triple_extraction.api.Chat (Piek_t_535075)     002 - Piek_t_535075: \"I am a person\"\n",
      "UtteranceType.STATEMENT\n",
      "{'subject': {'label': 'Piek_t_535075', 'type': ['agent']}, 'predicate': {'label': 'be', 'type': ['verb.stative']}, 'object': {'label': 'a-person', 'type': ['article:indefinite', 'noun.Tops']}}\n",
      "2021-11-04 17:08:10,195 -     INFO -    cltl.brain.basic_brain.LongTermMemory - Triple in statement: piek-t-535075_be_a-person [agent_->_tops])\n",
      "2021-11-04 17:08:10,278 -     INFO -  cltl.brain.basic_brain.ThoughtGenerator - Entity Novelty: existing subject - new object \n",
      "2021-11-04 17:08:12,835 -     INFO -  cltl.brain.basic_brain.ThoughtGenerator - Gaps: 26 gaps as subject: e.g. live-in location - 15 gaps as object: e.g. be-ancestor-of person\n",
      "Leolani2: I just learned something, I had never heard about a person before!\n"
     ]
    },
    {
     "name": "stdin",
     "output_type": "stream",
     "text": [
      "\n",
      " My name is Piek\n"
     ]
    },
    {
     "name": "stdout",
     "output_type": "stream",
     "text": [
      "Piek: My name is Piek\n",
      "2021-11-04 17:08:22,512 -     INFO - cltl.triple_extraction.api.Chat (Piek_t_535075)     003 - Piek_t_535075: \"My name is Piek\"\n",
      "UtteranceType.STATEMENT\n",
      "{'subject': {'label': 'My', 'type': ['person']}, 'predicate': {'label': 'name-is', 'type': ['noun.communication', 'verb.stative']}, 'object': {'label': 'Piek', 'type': ['person']}}\n",
      "2021-11-04 17:08:22,546 -     INFO -    cltl.brain.basic_brain.LongTermMemory - Triple in statement: my_name-is_piek [person_->_person])\n",
      "2021-11-04 17:08:22,582 -     INFO -  cltl.brain.basic_brain.ThoughtGenerator - Entity Novelty: new subject - new object \n",
      "Leolani2: If you don't mind me asking. What types can my name is\n"
     ]
    },
    {
     "name": "stdin",
     "output_type": "stream",
     "text": [
      "\n",
      " What is my name?\n"
     ]
    },
    {
     "name": "stdout",
     "output_type": "stream",
     "text": [
      "Piek: What is my name?\n",
      "2021-11-04 17:08:43,134 -     INFO - cltl.triple_extraction.api.Chat (Piek_t_535075)     004 - Piek_t_535075: \"What is my name?\"\n",
      "UtteranceType.QUESTION\n",
      "{'predicate': {'label': 'name-is', 'type': ['noun.communication', 'verb.stative']}, 'subject': {'label': 'Piek_t_535075', 'type': ['agent']}, 'object': {'label': '', 'type': []}}\n",
      "2021-11-04 17:08:43,138 -     INFO -    cltl.brain.basic_brain.LongTermMemory - Triple in question: Piek_t_535075_name-is_? [agent_->_])\n",
      "Leolani2: I don't know\n"
     ]
    },
    {
     "name": "stdin",
     "output_type": "stream",
     "text": [
      "\n",
      " Where am I from?\n"
     ]
    },
    {
     "name": "stdout",
     "output_type": "stream",
     "text": [
      "Piek: Where am I from?\n",
      "2021-11-04 17:09:06,086 -     INFO - cltl.triple_extraction.api.Chat (Piek_t_535075)     005 - Piek_t_535075: \"Where am I from?\"\n",
      "UtteranceType.QUESTION\n",
      "{'predicate': {'label': 'from', 'type': ['verb']}, 'subject': {'label': 'Piek_t_535075', 'type': ['agent']}, 'object': {'label': '', 'type': []}}\n",
      "2021-11-04 17:09:06,090 -     INFO -    cltl.brain.basic_brain.LongTermMemory - Triple in question: Piek_t_535075_from_? [agent_->_])\n",
      "Leolani2: I wouldn't know!\n"
     ]
    },
    {
     "name": "stdin",
     "output_type": "stream",
     "text": [
      "\n",
      " I like pizza\n"
     ]
    },
    {
     "name": "stdout",
     "output_type": "stream",
     "text": [
      "Piek: I like pizza\n",
      "2021-11-04 17:09:46,356 -     INFO - cltl.triple_extraction.api.Chat (Piek_t_535075)     006 - Piek_t_535075: \"I like pizza\"\n",
      "UtteranceType.STATEMENT\n",
      "{'subject': {'label': 'Piek_t_535075', 'type': ['agent']}, 'predicate': {'label': 'like', 'type': ['verb.emotion']}, 'object': {'label': 'pizza', 'type': ['noun.food']}}\n",
      "2021-11-04 17:09:46,395 -     INFO -    cltl.brain.basic_brain.LongTermMemory - Triple in statement: piek-t-535075_like_pizza [agent_->_food])\n",
      "2021-11-04 17:09:46,477 -     INFO -  cltl.brain.basic_brain.ThoughtGenerator - Entity Novelty: existing subject - new object \n",
      "2021-11-04 17:09:48,983 -     INFO -  cltl.brain.basic_brain.ThoughtGenerator - Gaps: 26 gaps as subject: e.g. play song - 15 gaps as object: e.g. know agent\n",
      "Leolani2: I did not know that! I did not know anybody who like pizza\n"
     ]
    },
    {
     "name": "stdin",
     "output_type": "stream",
     "text": [
      "\n",
      " What do I like\n"
     ]
    },
    {
     "name": "stdout",
     "output_type": "stream",
     "text": [
      "Piek: What do I like\n",
      "2021-11-04 17:09:57,018 -     INFO - cltl.triple_extraction.api.Chat (Piek_t_535075)     007 - Piek_t_535075: \"What do I like\"\n",
      "UtteranceType.QUESTION\n",
      "{'predicate': {'label': 'like', 'type': ['verb.emotion']}, 'subject': {'label': 'Piek_t_535075', 'type': ['agent']}, 'object': {'label': '', 'type': []}}\n",
      "2021-11-04 17:09:57,022 -     INFO -    cltl.brain.basic_brain.LongTermMemory - Triple in question: Piek_t_535075_like_? [agent_->_])\n",
      "Leolani2: I don't know\n"
     ]
    },
    {
     "name": "stdin",
     "output_type": "stream",
     "text": [
      "\n",
      " WHo do you know?\n"
     ]
    },
    {
     "name": "stdout",
     "output_type": "stream",
     "text": [
      "Piek: WHo do you know?\n",
      "2021-11-04 17:15:57,963 -     INFO - cltl.triple_extraction.api.Chat (Piek_t_535075)     008 - Piek_t_535075: \"WHo do you know?\"\n",
      "UtteranceType.STATEMENT\n",
      "{'subject': {'label': 'who', 'type': []}, 'predicate': {'label': 'do', 'type': ['verb.social']}, 'object': {'label': 'leolani-know', 'type': ['agent', 'verb.cognition']}}\n",
      "2021-11-04 17:16:01,794 -  WARNING -      cltl.brain.basic_brain.TypeReasoner - Failed to query Wikidata: HTTPSConnectionPool(host='query.wikidata.org', port=443): Read timed out. (read timeout=3)\n",
      "2021-11-04 17:16:01,984 -     INFO -      cltl.brain.basic_brain.TypeReasoner - Reasoned type of who to: who\n",
      "2021-11-04 17:16:02,196 -     INFO -    cltl.brain.basic_brain.LongTermMemory - Triple in statement: who_do_leolani-know [_->_agent or who])\n",
      "2021-11-04 17:16:02,381 -     INFO -  cltl.brain.basic_brain.ThoughtGenerator - Entity Novelty: new subject - new object \n",
      "Leolani2: I am curious. What types can who do\n"
     ]
    },
    {
     "name": "stdin",
     "output_type": "stream",
     "text": [
      "\n",
      " Who are your friends\n"
     ]
    },
    {
     "name": "stdout",
     "output_type": "stream",
     "text": [
      "Piek: Who are your friends\n",
      "2021-11-04 17:16:18,774 -     INFO - cltl.triple_extraction.api.Chat (Piek_t_535075)     009 - Piek_t_535075: \"Who are your friends\"\n",
      "UtteranceType.QUESTION\n",
      "{'predicate': {'label': 'be', 'type': ['verb.stative']}, 'subject': {'label': 'leolani-friends', 'type': ['agent', 'noun.person']}, 'object': {'label': '', 'type': []}}\n",
      "2021-11-04 17:16:18,781 -     INFO -    cltl.brain.basic_brain.LongTermMemory - Triple in question: leolani-friends_be_? [agent or person_->_])\n",
      "Leolani2: I don't know\n"
     ]
    },
    {
     "name": "stdin",
     "output_type": "stream",
     "text": [
      "\n",
      " Selene likes pizza\n"
     ]
    },
    {
     "name": "stdout",
     "output_type": "stream",
     "text": [
      "Piek: Selene likes pizza\n",
      "2021-11-04 17:22:40,880 -     INFO - cltl.triple_extraction.api.Chat (Piek_t_535075)     010 - Piek_t_535075: \"Selene likes pizza\"\n",
      "UtteranceType.STATEMENT\n",
      "{'subject': {'label': 'selene', 'type': ['noun.person']}, 'predicate': {'label': 'like', 'type': ['prep']}, 'object': {'label': 'pizza', 'type': ['noun.food']}}\n",
      "2021-11-04 17:22:41,002 -     INFO -    cltl.brain.basic_brain.LongTermMemory - Triple in statement: selene_like_pizza [person_->_food])\n",
      "2021-11-04 17:22:41,089 -     INFO -  cltl.brain.basic_brain.ThoughtGenerator - Entity Novelty: new subject - existing object \n",
      "Leolani2: I am glad to have learned something new. I had never heard about selene before!\n"
     ]
    },
    {
     "name": "stdin",
     "output_type": "stream",
     "text": [
      "\n",
      " Who likes pizza\n"
     ]
    },
    {
     "name": "stdout",
     "output_type": "stream",
     "text": [
      "Piek: Who likes pizza\n",
      "2021-11-04 17:23:07,288 -     INFO - cltl.triple_extraction.api.Chat (Piek_t_535075)     011 - Piek_t_535075: \"Who likes pizza\"\n",
      "UtteranceType.QUESTION\n",
      "{'predicate': {'label': 'like', 'type': ['prep']}, 'subject': {'label': 'pizza', 'type': ['noun.food']}, 'object': {'label': '', 'type': []}}\n",
      "2021-11-04 17:23:07,291 -     INFO -    cltl.brain.basic_brain.LongTermMemory - Triple in question: pizza_like_? [food_->_])\n",
      "Leolani2: I wouldn't know!\n"
     ]
    }
   ],
   "source": [
    "#### Small sequence to learn name of speaker\n",
    "initial_prompt = f\"{choice(GREETING)} {choice(ASK_NAME)} {HUMAN_NAME}?\"\n",
    "print(AGENT + \": \" + initial_prompt)\n",
    "textSignal = d_util.create_text_signal(scenario, initial_prompt)\n",
    "scenario.append_signal(textSignal)\n",
    "\n",
    "#### Get name from person \n",
    "HUMAN_NAME, HUMAN_ID = friend.get_a_name_and_id(scenario, AGENT)\n",
    "\n",
    "chat = Chat(HUMAN_ID)\n",
    "\n",
    "#### Initial prompt by the system from which we create a TextSignal and store it\n",
    "initial_prompt = f\"{choice(TALK_TO_ME)}\"\n",
    "print(AGENT + \": \" + initial_prompt)\n",
    "textSignal = d_util.create_text_signal(scenario, initial_prompt)\n",
    "scenario.append_signal(textSignal)\n",
    "\n",
    "utterance = \"\"\n",
    "#### Get input and loop\n",
    "while not (utterance.lower() == 'stop' or utterance.lower() == 'bye'):\n",
    "    ###### Getting the next input signals\n",
    "    utterance = input('\\n')\n",
    "    print(HUMAN_NAME + \": \" + utterance)\n",
    "    textSignal = d_util.create_text_signal(scenario, utterance)\n",
    "    scenario.append_signal(textSignal)\n",
    "\n",
    "    #### Process input and generate reply\n",
    "    reply = talk.process_text_and_reply(scenario, place_id, location, HUMAN_ID, textSignal, chat, replier, my_brain)\n",
    "    print(AGENT + \": \" + reply)\n",
    "    textSignal = d_util.create_text_signal(scenario, reply)\n",
    "    scenario.append_signal(textSignal)\n"
   ]
  },
  {
   "cell_type": "code",
   "execution_count": 8,
   "metadata": {},
   "outputs": [],
   "source": [
    "#scenario.scenario.end = datetime.now().microsecond\n",
    "scenarioStorage.save_scenario(scenario)"
   ]
  },
  {
   "cell_type": "markdown",
   "metadata": {},
   "source": [
    "## End of notebook"
   ]
  }
 ],
 "metadata": {
  "kernelspec": {
   "display_name": "venv",
   "language": "python",
   "name": "venv"
  },
  "language_info": {
   "codemirror_mode": {
    "name": "ipython",
    "version": 3
   },
   "file_extension": ".py",
   "mimetype": "text/x-python",
   "name": "python",
   "nbconvert_exporter": "python",
   "pygments_lexer": "ipython3",
   "version": "3.7.6"
  }
 },
 "nbformat": 4,
 "nbformat_minor": 4
}
