{
 "cells": [
  {
   "cell_type": "code",
   "execution_count": 1,
   "metadata": {},
   "outputs": [
    {
     "name": "stderr",
     "output_type": "stream",
     "text": [
      "/Users/piek/Desktop/t-MA-Combots-2021/code/venv/lib/python3.7/site-packages/rdflib_jsonld/__init__.py:12: DeprecationWarning: The rdflib-jsonld package has been integrated into rdflib as of rdflib==6.0.1.  Please remove rdflib-jsonld from your project's dependencies.\n",
      "  DeprecationWarning,\n",
      "[nltk_data] Downloading package punkt to /Users/piek/nltk_data...\n",
      "[nltk_data]   Package punkt is already up-to-date!\n"
     ]
    }
   ],
   "source": [
    "import emissor\n",
    "from cltl import brain\n",
    "from cltl.triple_extraction.api import Chat, UtteranceHypothesis"
   ]
  },
  {
   "cell_type": "code",
   "execution_count": 2,
   "metadata": {},
   "outputs": [
    {
     "name": "stdout",
     "output_type": "stream",
     "text": [
      "2021-10-27 13:53:20,151 -     INFO - cltl.triple_extraction.api.Chat (Lenka)             000 - << Start of Chat with Lenka >>\n",
      "2021-10-27 13:53:20,153 -     INFO -               cltl.triple_extraction.api - Started POS tagger\n",
      "2021-10-27 13:53:20,155 -     INFO -               cltl.triple_extraction.api - Started NER tagger\n",
      "2021-10-27 13:53:20,161 -     INFO -               cltl.triple_extraction.api - Loaded grammar\n",
      "2021-10-27 13:53:21,565 -     INFO - cltl.triple_extraction.api.Chat (Lenka)             001 -      Lenka: \"This is mu utterance\"\n"
     ]
    }
   ],
   "source": [
    "chat = Chat(\"Lenka\")\n",
    "chat.add_utterance([UtteranceHypothesis('This is mu utterance', 1.0)])\n",
    "chat.last_utterance.analyze()"
   ]
  },
  {
   "cell_type": "code",
   "execution_count": 5,
   "metadata": {},
   "outputs": [
    {
     "name": "stdout",
     "output_type": "stream",
     "text": [
      "{'subject': {'label': 'this', 'type': ['deictic:proximal,singular']}, 'predicate': {'label': 'be', 'type': ['verb.stative']}, 'object': {'label': 'mu-utterance', 'type': ['noun.communication', 'noun.communication']}}\n"
     ]
    }
   ],
   "source": [
    "print(chat.last_utterance.triple)"
   ]
  },
  {
   "cell_type": "code",
   "execution_count": 6,
   "metadata": {},
   "outputs": [
    {
     "name": "stdout",
     "output_type": "stream",
     "text": [
      "{'sentiment': 0, 'certainty': 1, 'polarity': 1, 'emotion': <Emotion.NEUTRAL: 7>}\n"
     ]
    }
   ],
   "source": [
    "print(chat.last_utterance.perspective)"
   ]
  },
  {
   "cell_type": "code",
   "execution_count": 3,
   "metadata": {},
   "outputs": [],
   "source": [
    "import random\n",
    "\n",
    "from cltl.combot.backend.utils.casefolding import casefold_text\n",
    "from cltl.reply_generation.api import BasicReplier\n",
    "from cltl.reply_generation.data.sentences import NEW_KNOWLEDGE, EXISTING_KNOWLEDGE, CONFLICTING_KNOWLEDGE,\n",
    "    CURIOSITY, HAPPY, TRUST, NO_TRUST\n",
    "from cltl.reply_generation.utils.helper_functions import lexicon_lookup\n"
   ]
  },
  {
   "cell_type": "code",
   "execution_count": null,
   "metadata": {},
   "outputs": [],
   "source": []
  }
 ],
 "metadata": {
  "kernelspec": {
   "display_name": "venv",
   "language": "python",
   "name": "venv"
  },
  "language_info": {
   "codemirror_mode": {
    "name": "ipython",
    "version": 3
   },
   "file_extension": ".py",
   "mimetype": "text/x-python",
   "name": "python",
   "nbconvert_exporter": "python",
   "pygments_lexer": "ipython3",
   "version": "3.7.6"
  }
 },
 "nbformat": 4,
 "nbformat_minor": 4
}