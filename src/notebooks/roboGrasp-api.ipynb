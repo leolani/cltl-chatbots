{
 "cells": [
  {
   "cell_type": "markdown",
   "metadata": {},
   "source": [
    "# Uses interaction to push triples to the brain and query it"
   ]
  },
  {
   "cell_type": "markdown",
   "metadata": {},
   "source": [
    "This notebook assume you have knowledge about GAF, GRasP and roboGRasP. These are explained in the following papers:\n",
    "\n",
    "Fokkens, Antske, Marieke Van Erp, Piek Vossen, Sara Tonelli, Willem Robert Van Hage, Luciano Serafini, Rachele Sprugnoli, and Jesper Hoeksema. \"GAF: A grounded annotation framework for events.\" In Workshop on Events: Definition, Detection, Coreference, and Representation, pp. 11-20. 2013: Fokkens-etal-2013-GAF.pdf  Download Fokkens-etal-2013-GAF.pdf\n",
    "\n",
    "Fokkens, Antske, Piek Vossen, Marco Rospocher, Rinke Hoekstra, Willem R. van Hage, and Fondazione Bruno Kessler. \"Grasp: grounded representation and source perspective.\" In Proceedings of the Workshop Knowledge Resources for the Socio-Economic Sciences and Humanities associated with RANLP 2017, pp. 19-25. 2017: Fokkens-etal-2017-grasp-KnowRSH-2017.pdf  Download Fokkens-etal-2017-grasp-KnowRSH-2017.pdf\n",
    "\n",
    "\n",
    "Santamaría, Selene Báez, Thomas Baier, Taewoon Kim, Lea Krause, Jaap Kruijt, and Piek Vossen. \"EMISSOR: A platform for capturing multimodal interactions as Episodic Memories and Interpretations with Situated Scenario-based Ontological References.\" arXiv preprint arXiv:2105.08388 (2021): https://arxiv.org/pdf/2105.08388.pdf\n",
    "\n",
    "The GRaSP model is defined here: https://github.com/cltl/GRaSP"
   ]
  },
  {
   "cell_type": "markdown",
   "metadata": {},
   "source": [
    "Before running, start GraphDB and make sure that there is a sandbox repository.\n",
    "GraphDB can be downloaded from:\n",
    "\n",
    "https://graphdb.ontotext.com\n"
   ]
  },
  {
   "cell_type": "code",
   "execution_count": 2,
   "metadata": {},
   "outputs": [
    {
     "name": "stderr",
     "output_type": "stream",
     "text": [
      "/Users/piek/PycharmProjects/cltl-chatbots/venv/lib/python3.7/site-packages/rdflib_jsonld/__init__.py:12: DeprecationWarning: The rdflib-jsonld package has been integrated into rdflib as of rdflib==6.0.1.  Please remove rdflib-jsonld from your project's dependencies.\n",
      "  DeprecationWarning,\n",
      "[nltk_data] Downloading package punkt to /Users/piek/nltk_data...\n",
      "[nltk_data]   Package punkt is already up-to-date!\n"
     ]
    }
   ],
   "source": [
    "import json\n",
    "import os\n",
    "import time\n",
    "import uuid\n",
    "from datetime import date\n",
    "from datetime import datetime\n",
    "from random import getrandbits, choice\n",
    "import pathlib\n",
    "\n",
    "# general imports for EMISSOR and the BRAIN\n",
    "import emissor as em\n",
    "import requests\n",
    "from cltl import brain\n",
    "from cltl.brain.long_term_memory import LongTermMemory\n",
    "from cltl.brain.utils.helper_functions import brain_response_to_json\n",
    "from cltl.combot.backend.api.discrete import UtteranceType\n",
    "from cltl.reply_generation.data.sentences import GREETING, ASK_NAME, ELOQUENCE, TALK_TO_ME\n",
    "from cltl.reply_generation.lenka_replier import LenkaReplier\n",
    "from cltl.triple_extraction.api import Chat, UtteranceHypothesis"
   ]
  },
  {
   "cell_type": "markdown",
   "metadata": {},
   "source": [
    "### Importing the chatbot utility functions"
   ]
  },
  {
   "cell_type": "code",
   "execution_count": 3,
   "metadata": {},
   "outputs": [],
   "source": [
    "import sys\n",
    "import os\n",
    "\n",
    "src_path = os.path.abspath(os.path.join('..'))\n",
    "if src_path not in sys.path:\n",
    "    sys.path.append(src_path)\n",
    "\n",
    "#### The next utils are needed for the interaction and creating triples and capsules\n",
    "import chatbots.util.driver_util as d_util\n",
    "import chatbots.util.capsule_util as c_util\n",
    "import chatbots.intentions.talk as talk"
   ]
  },
  {
   "cell_type": "markdown",
   "metadata": {},
   "source": [
    "## Specifying the BRAIN"
   ]
  },
  {
   "cell_type": "markdown",
   "metadata": {},
   "source": [
    "We imported the brain from CLTL. We create an instance using the class *LongTermMemory*, which takes three parameters: 1) the address of the triple store, 2) a path to a folder for logging the triples and a boolean flag for clearing the repository and reload the initial ontologies.\n",
    "\n",
    "As the address of the triple store, we give the GraphDB localhost port (7200) and specify the name of the repository that we created beforehand. Any repository will do. We use here the *sandbox* repository. Note that you can also specify a remote SPARQL endpoint of another triple store or share a triple store among systems.\n",
    "\n",
    "For storing the triples generate, we define a scenario folder in a data folder relative to where the notebooks are stored. It is based on the timestamp when we start. We will use this scenario structure later for the interaction as well as we did before.\n",
    "\n",
    "Finally, if you set *clear_all* to *True*, the sandbox triple store is emptied (memory erased) and the basic ontological models are reloaded. Setting it to *False* means you add things to the current memory."
   ]
  },
  {
   "cell_type": "code",
   "execution_count": 4,
   "metadata": {},
   "outputs": [
    {
     "name": "stdout",
     "output_type": "stream",
     "text": [
      "2021-11-11 12:16:27,334 -     INFO -    cltl.brain.basic_brain.LongTermMemory - Uploading ontology to brain\n",
      "2021-11-11 12:16:29,055 -     INFO -   cltl.brain.basic_brain.TrustCalculator - Computed trust for all known agents\n"
     ]
    }
   ],
   "source": [
    "### The name of your scenario\n",
    "scenario_id = datetime.today().strftime(\"%Y-%m-%d-%H:%M:%S\")\n",
    "\n",
    "### Specify the path to an existing data folder where your scenario is created and saved as a subfolder\n",
    "scenario_path = os.path.abspath(os.path.join('../../data'))\n",
    "if scenario_path not in sys.path:\n",
    "    sys.path.append(scenario_path)\n",
    "\n",
    "    ### Specify the path to an existing data folder where your scenario is created and saved as a subfolder\n",
    "scenario_path = os.path.abspath(os.path.join('../../data'))\n",
    "if scenario_path not in sys.path:\n",
    "    sys.path.append(scenario_path)\n",
    "\n",
    "if not os.path.exists(scenario_path) :\n",
    "    os.mkdir(scenario_path)\n",
    "    print(\"Created a data folder for storing the scenarios\", scenario_path)\n",
    "    \n",
    "rdffolder = scenario_path + \"/\" + scenario_id + \"/\" + \"rdf\"\n",
    "log_path = pathlib.Path(rdffolder)\n",
    "my_brain = brain.LongTermMemory(address=\"http://localhost:7200/repositories/sandbox\",\n",
    "                                log_dir=log_path,\n",
    "                                clear_all=True)\n"
   ]
  },
  {
   "cell_type": "markdown",
   "metadata": {},
   "source": [
    "### Posting triples to the brain"
   ]
  },
  {
   "cell_type": "markdown",
   "metadata": {},
   "source": [
    "The *talk.py* script in *intentions* demonstrates the basic API functions for posting and querying the BRAIN. The input of for these function is a triple in JSON format. In the next cell, we define such a triple for the subject 'Fred, the predicate 'like' and the object 'singing'. In addition to a *label* that is used to identify the resource URI in the knowledge graph, we also need to provide type information.\n"
   ]
  },
  {
   "cell_type": "code",
   "execution_count": 7,
   "metadata": {},
   "outputs": [],
   "source": [
    "test_triple = {'subject': {'label': 'Karla', 'type': ['noun.person']},\n",
    "               'predicate': {'label': 'like', 'type': ['verb.emotion']},\n",
    "               'object': {'label': 'singing', 'type': ['noun.act']}}"
   ]
  },
  {
   "cell_type": "markdown",
   "metadata": {},
   "source": [
    "The BRAIN uses the roboGRaSP model to capture knowledge. In roboGRaSP, we keep track of the *mentioning* of knowledge in signals. This can be either through conversation or though perception. Whenever a signal makes reference to knowledge (e.g. people, objects, properties), there is also a source of the signal and possibly a perspective.\n",
    "Sources are typically speakers with whom a system interacts but they can also be the camera or microphone of the agent that picked up a signal. Perspectives reflect the attitude and appraisal of the source towards the triple. Possible perspective values are, among others: certainty, sentiment, emotion, epistemic belief, deontic judgement, ethical judgment. Following GRaSP, the actual triple is reprsented as a claim made by the source in or through a signal and the perspective values are represented as attributions of the source.\n",
    "\n",
    "In order to deal with these GRaSP layers, we need to embed the *factual* triple within a so-called *capsule* JSON structures that provides contextual information, the source and the perspective. The following attributes are required:\n",
    "\n",
    "* The physical context is time and space: context_id, contry, region, city, place, place_id, position, date\n",
    "* The physical objects in the physical context: objects, people\n",
    "* The interactive context: chat, turn, utterance and utterance type \n",
    "* The author (source)\n",
    "* The triple: subject, predicate and object\n",
    "* The perspective\n",
    "\n",
    "Next is a capsule example, that contains the above triple embedded within the minimal contextual information:\n",
    "\n",
    "```\n",
    "{'context_id': '1',\n",
    "  'country': '',\n",
    "  'city': '',\n",
    "  'region': '',\n",
    "  'place': '',\n",
    "  'place_id': '',\n",
    "  'position': '',\n",
    "  'date': datetime.date(2021, 11, 9),\n",
    "  'objects': [],\n",
    "  'people': [],\n",
    "  'author': 'me',\n",
    "  'chat': '1',\n",
    "  'turn': '1',\n",
    "  'utterance': '',\n",
    "  'utterance_type': <UtteranceType.STATEMENT: 0>\n",
    "  'subject': {'label': 'Fred', 'type': ['agent']},\n",
    "  'predicate': {'label': 'like', 'type': ['verb.emotion']},\n",
    "  'object': {'label': 'Fred', 'type': ['noun.object']},\n",
    "  'perspective': []\n",
    "}\n",
    "```\n",
    "\n",
    "The *capsule_util.py* within util has a number of functions to create capsules. We use these functions within the different intentions that involve the brain, as shown below."
   ]
  },
  {
   "cell_type": "markdown",
   "metadata": {},
   "source": [
    "To post the above triple as a simple statement we use the *post_a_triple_and_get_thoughts* function from the *talk.py* that you find within the *intentions* module. This function takes a triple and an initialised brain as parameters and it returns the capsule that is created but also the response from the brain as a JSON structure. \n",
    "\n",
    "Posting triples to the brain is done through the *update* API function. This takes three parameters: the capsule and two boolean settings: *reason_types*  triggers linking subjects and entities to their types by consulting the semantic web, and *create_label* which triggers the system to create an additional *rdfs:label* property from the subject and object label if it is an entity. We typically set these to false, which are also the default values. Calling the update function not only stores the triple but is also followed by a series of preprogrammed SPAQRL queries that represent the *thoughts* on the changes to the brain."
   ]
  },
  {
   "cell_type": "code",
   "execution_count": 8,
   "metadata": {},
   "outputs": [
    {
     "name": "stdout",
     "output_type": "stream",
     "text": [
      "2021-11-11 12:18:19,721 -     INFO -    cltl.brain.basic_brain.LongTermMemory - Triple in statement: karla_like_singing [person_->_act])\n",
      "2021-11-11 12:18:19,814 -     INFO -  cltl.brain.basic_brain.ThoughtGenerator - Entity Novelty: new subject - existing object \n",
      "2021-11-11 12:18:19,864 -     INFO -  cltl.brain.basic_brain.ThoughtGenerator - Overlaps: 0 subject overlaps: e.g. '' - 1 object overlaps: e.g. me on November,2021 about fred\n",
      "2021-11-11 12:18:22,023 -     INFO -  cltl.brain.basic_brain.ThoughtGenerator - Negation Conflicts: me on November,2021 about UNDERSPECIFIED\n",
      "2021-11-11 12:18:22,076 -     INFO -  cltl.brain.basic_brain.ThoughtGenerator - Gaps: 26 gaps as subject: e.g. be-ancestor-of person - 15 gaps as object: e.g. be-friends-with person\n",
      "Capsule that provides the interactive contexts for the signal to which a triple is grouned:\n",
      "\n",
      "{'author': 'me',\n",
      " 'chat': '1',\n",
      " 'city': '',\n",
      " 'context_id': '1',\n",
      " 'country': '',\n",
      " 'date': datetime.date(2021, 11, 11),\n",
      " 'object': {'label': 'singing', 'type': ['noun.act']},\n",
      " 'objects': [],\n",
      " 'people': [],\n",
      " 'perspective': <cltl.brain.infrastructure.api.Perspective object at 0x7fa248b41f50>,\n",
      " 'place': '',\n",
      " 'place_id': '',\n",
      " 'position': '',\n",
      " 'predicate': {'type': 'like'},\n",
      " 'region': '',\n",
      " 'subject': {'label': 'Karla', 'type': ['noun.person']},\n",
      " 'triple': karla_like_singing [person_->_act]),\n",
      " 'turn': '1',\n",
      " 'type': <UtteranceType.STATEMENT: 0>,\n",
      " 'utterance': '',\n",
      " 'utterance_type': <UtteranceType.STATEMENT: 0>}\n"
     ]
    }
   ],
   "source": [
    "import pprint\n",
    "\n",
    "\n",
    "capsule, throughts_json = talk.post_a_triple_label_and_type(test_triple, my_brain)\n",
    "print(\"Capsule that provides the interactive contexts for the signal to which a triple is grouned:\\n\")\n",
    "pprint.pprint(capsule)\n"
   ]
  },
  {
   "cell_type": "markdown",
   "metadata": {},
   "source": [
    "In the above print outs, we see the triple echoed in the capsule. After posting the triple, we could query the brain in GraphDB as is shown in the next image:\n",
    "\n",
    "![graph-db query](images/graph-db-query-1.png \"GraphDB query for the triple result\")"
   ]
  },
  {
   "cell_type": "markdown",
   "metadata": {},
   "source": [
    "The *post_a_triple_label_and_type* function used the API call *my_brain.update(capsule, reason_types=True, create_label=True)*. The parameter *reason_types=True* triggers the brain to add type information to instances, possibly by consulting the semantic web, whereas the parameter *createLabel=true* adds the *rdfs:label* property on the basis of the labels. This is shown in the next screen dump from GraphDB:\n",
    "\n",
    "![graph-db properties for fred](images/graph-db-properties-3.png \"GraphDB showing addition properties derived for Fred\")\n",
    "\n"
   ]
  },
  {
   "cell_type": "markdown",
   "metadata": {},
   "source": [
    "Note that the mentioning of Fred through the capsule resulted in adding a *gaf:denotedIn* property that points to the chat and utterance identifiers that were specified (so far dummay values) and an additional *type* to *gaf:Instance*."
   ]
  },
  {
   "cell_type": "markdown",
   "metadata": {},
   "source": [
    "### Getting the thoughts"
   ]
  },
  {
   "cell_type": "markdown",
   "metadata": {},
   "source": [
    "We also caught the response of the brain to this new information, which looks as shown below. The *thoughts* element lists different possible issues: _complement_conflict,_complement_gaps, _entity_novelty, _negation_conflicts, _overlaps, _statement_novelty, _subject_gaps, trust. Since we have not added a lot of data, most elements are still empty."
   ]
  },
  {
   "cell_type": "code",
   "execution_count": 9,
   "metadata": {},
   "outputs": [
    {
     "name": "stdout",
     "output_type": "stream",
     "text": [
      "\n",
      "Thoughts resulting from posting the triples to the brain:\n",
      "\n",
      "{'response': '204',\n",
      " 'statement': {'author': 'me',\n",
      "               'chat': '1',\n",
      "               'city': '',\n",
      "               'context_id': '1',\n",
      "               'country': '',\n",
      "               'date': '2021-11-11',\n",
      "               'object': {'label': 'singing', 'type': ['noun.act']},\n",
      "               'objects': [],\n",
      "               'people': [],\n",
      "               'perspective': {'_certainty': 'UNDERSPECIFIED',\n",
      "                               '_emotion': 'UNDERSPECIFIED',\n",
      "                               '_polarity': 'UNDERSPECIFIED',\n",
      "                               '_sentiment': 'UNDERSPECIFIED',\n",
      "                               '_time': None},\n",
      "               'place': '',\n",
      "               'place_id': '',\n",
      "               'position': '',\n",
      "               'predicate': {'type': 'like'},\n",
      "               'region': '',\n",
      "               'subject': {'label': 'Karla', 'type': ['noun.person']},\n",
      "               'triple': {'_complement': {'_confidence': 0.0,\n",
      "                                          '_id': 'http://cltl.nl/leolani/world/singing',\n",
      "                                          '_label': 'singing',\n",
      "                                          '_offset': None,\n",
      "                                          '_types': ['act', 'Instance']},\n",
      "                          '_predicate': {'_cardinality': 1,\n",
      "                                         '_confidence': 0.0,\n",
      "                                         '_id': 'http://cltl.nl/leolani/n2mu/like',\n",
      "                                         '_label': 'like',\n",
      "                                         '_offset': None},\n",
      "                          '_subject': {'_confidence': 0.0,\n",
      "                                       '_id': 'http://cltl.nl/leolani/world/Karla',\n",
      "                                       '_label': 'karla',\n",
      "                                       '_offset': None,\n",
      "                                       '_types': ['person', 'Instance']}},\n",
      "               'turn': '1',\n",
      "               'type': 'STATEMENT',\n",
      "               'utterance': '',\n",
      "               'utterance_type': 'STATEMENT'},\n",
      " 'thoughts': {'_complement_conflict': [],\n",
      "              '_complement_gaps': {'_complement': [], '_subject': []},\n",
      "              '_entity_novelty': {'_complement': 'False', '_subject': 'True'},\n",
      "              '_negation_conflicts': [{'_polarity_value': 'UNDERSPECIFIED',\n",
      "                                       '_provenance': {'_author': 'me',\n",
      "                                                       '_date': '2021-11-11T00:00:00'}}],\n",
      "              '_overlaps': {'_complement': [{'_entity': {'_confidence': 0.0,\n",
      "                                                         '_id': 'http://cltl.nl/leolani/world/fred',\n",
      "                                                         '_label': 'fred',\n",
      "                                                         '_offset': None,\n",
      "                                                         '_types': ['person',\n",
      "                                                                    'agent']},\n",
      "                                             '_provenance': {'_author': 'me',\n",
      "                                                             '_date': '2021-11-11T00:00:00'}}],\n",
      "                            '_subject': []},\n",
      "              '_statement_novelty': [],\n",
      "              '_subject_gaps': {'_complement': [{'_entity': {'_confidence': 0.0,\n",
      "                                                             '_id': 'http://cltl.nl/leolani/n2mu/',\n",
      "                                                             '_label': '',\n",
      "                                                             '_offset': None,\n",
      "                                                             '_types': ['person']},\n",
      "                                                 '_predicate': {'_cardinality': 1,\n",
      "                                                                '_confidence': 0.0,\n",
      "                                                                '_id': 'http://cltl.nl/leolani/n2mu/be-ancestor-of',\n",
      "                                                                '_label': 'be-ancestor-of',\n",
      "                                                                '_offset': None}},\n",
      "                                                {'_entity': {'_confidence': 0.0,\n",
      "                                                             '_id': 'http://cltl.nl/leolani/n2mu/',\n",
      "                                                             '_label': '',\n",
      "                                                             '_offset': None,\n",
      "                                                             '_types': ['person']},\n",
      "                                                 '_predicate': {'_cardinality': 1,\n",
      "                                                                '_confidence': 0.0,\n",
      "                                                                '_id': 'http://cltl.nl/leolani/n2mu/be-family-of',\n",
      "                                                                '_label': 'be-family-of',\n",
      "                                                                '_offset': None}},\n",
      "                                                {'_entity': {'_confidence': 0.0,\n",
      "                                                             '_id': 'http://cltl.nl/leolani/n2mu/',\n",
      "                                                             '_label': '',\n",
      "                                                             '_offset': None,\n",
      "                                                             '_types': ['person']},\n",
      "                                                 '_predicate': {'_cardinality': 1,\n",
      "                                                                '_confidence': 0.0,\n",
      "                                                                '_id': 'http://cltl.nl/leolani/n2mu/be-parent-of',\n",
      "                                                                '_label': 'be-parent-of',\n",
      "                                                                '_offset': None}},\n",
      "                                                {'_entity': {'_confidence': 0.0,\n",
      "                                                             '_id': 'http://cltl.nl/leolani/n2mu/',\n",
      "                                                             '_label': '',\n",
      "                                                             '_offset': None,\n",
      "                                                             '_types': ['person']},\n",
      "                                                 '_predicate': {'_cardinality': 1,\n",
      "                                                                '_confidence': 0.0,\n",
      "                                                                '_id': 'http://cltl.nl/leolani/n2mu/be-friends-with',\n",
      "                                                                '_label': 'be-friends-with',\n",
      "                                                                '_offset': None}},\n",
      "                                                {'_entity': {'_confidence': 0.0,\n",
      "                                                             '_id': 'http://cltl.nl/leolani/n2mu/',\n",
      "                                                             '_label': '',\n",
      "                                                             '_offset': None,\n",
      "                                                             '_types': ['book']},\n",
      "                                                 '_predicate': {'_cardinality': 1,\n",
      "                                                                '_confidence': 0.0,\n",
      "                                                                '_id': 'http://cltl.nl/leolani/n2mu/write-by',\n",
      "                                                                '_label': 'write-by',\n",
      "                                                                '_offset': None}},\n",
      "                                                {'_entity': {'_confidence': 0.0,\n",
      "                                                             '_id': 'http://cltl.nl/leolani/n2mu/',\n",
      "                                                             '_label': '',\n",
      "                                                             '_offset': None,\n",
      "                                                             '_types': ['agent']},\n",
      "                                                 '_predicate': {'_cardinality': 1,\n",
      "                                                                '_confidence': 0.0,\n",
      "                                                                '_id': 'http://cltl.nl/leolani/n2mu/be-child-of',\n",
      "                                                                '_label': 'be-child-of',\n",
      "                                                                '_offset': None}},\n",
      "                                                {'_entity': {'_confidence': 0.0,\n",
      "                                                             '_id': 'http://cltl.nl/leolani/n2mu/',\n",
      "                                                             '_label': '',\n",
      "                                                             '_offset': None,\n",
      "                                                             '_types': ['agent']},\n",
      "                                                 '_predicate': {'_cardinality': 1,\n",
      "                                                                '_confidence': 0.0,\n",
      "                                                                '_id': 'http://cltl.nl/leolani/n2mu/know',\n",
      "                                                                '_label': 'know',\n",
      "                                                                '_offset': None}},\n",
      "                                                {'_entity': {'_confidence': 0.0,\n",
      "                                                             '_id': 'http://cltl.nl/leolani/n2mu/',\n",
      "                                                             '_label': '',\n",
      "                                                             '_offset': None,\n",
      "                                                             '_types': ['dish']},\n",
      "                                                 '_predicate': {'_cardinality': 1,\n",
      "                                                                '_confidence': 0.0,\n",
      "                                                                '_id': 'http://cltl.nl/leolani/n2mu/cook-by',\n",
      "                                                                '_label': 'cook-by',\n",
      "                                                                '_offset': None}},\n",
      "                                                {'_entity': {'_confidence': 0.0,\n",
      "                                                             '_id': 'http://cltl.nl/leolani/n2mu/',\n",
      "                                                             '_label': '',\n",
      "                                                             '_offset': None,\n",
      "                                                             '_types': ['food']},\n",
      "                                                 '_predicate': {'_cardinality': 1,\n",
      "                                                                '_confidence': 0.0,\n",
      "                                                                '_id': 'http://cltl.nl/leolani/n2mu/cook-by',\n",
      "                                                                '_label': 'cook-by',\n",
      "                                                                '_offset': None}},\n",
      "                                                {'_entity': {'_confidence': 0.0,\n",
      "                                                             '_id': 'http://cltl.nl/leolani/n2mu/',\n",
      "                                                             '_label': '',\n",
      "                                                             '_offset': None,\n",
      "                                                             '_types': ['agent']},\n",
      "                                                 '_predicate': {'_cardinality': 1,\n",
      "                                                                '_confidence': 0.0,\n",
      "                                                                '_id': 'http://cltl.nl/leolani/n2mu/dislike',\n",
      "                                                                '_label': 'dislike',\n",
      "                                                                '_offset': None}},\n",
      "                                                {'_entity': {'_confidence': 0.0,\n",
      "                                                             '_id': 'http://cltl.nl/leolani/n2mu/',\n",
      "                                                             '_label': '',\n",
      "                                                             '_offset': None,\n",
      "                                                             '_types': ['agent']},\n",
      "                                                 '_predicate': {'_cardinality': 1,\n",
      "                                                                '_confidence': 0.0,\n",
      "                                                                '_id': 'http://cltl.nl/leolani/n2mu/like',\n",
      "                                                                '_label': 'like',\n",
      "                                                                '_offset': None}},\n",
      "                                                {'_entity': {'_confidence': 0.0,\n",
      "                                                             '_id': 'http://cltl.nl/leolani/n2mu/',\n",
      "                                                             '_label': '',\n",
      "                                                             '_offset': None,\n",
      "                                                             '_types': ['interest']},\n",
      "                                                 '_predicate': {'_cardinality': 1,\n",
      "                                                                '_confidence': 0.0,\n",
      "                                                                '_id': 'http://cltl.nl/leolani/n2mu/favorite-of',\n",
      "                                                                '_label': 'favorite-of',\n",
      "                                                                '_offset': None}},\n",
      "                                                {'_entity': {'_confidence': 0.0,\n",
      "                                                             '_id': 'http://cltl.nl/leolani/n2mu/',\n",
      "                                                             '_label': '',\n",
      "                                                             '_offset': None,\n",
      "                                                             '_types': ['agent']},\n",
      "                                                 '_predicate': {'_cardinality': 1,\n",
      "                                                                '_confidence': 0.0,\n",
      "                                                                '_id': 'http://cltl.nl/leolani/n2mu/like-by',\n",
      "                                                                '_label': 'like-by',\n",
      "                                                                '_offset': None}},\n",
      "                                                {'_entity': {'_confidence': 0.0,\n",
      "                                                             '_id': 'http://cltl.nl/leolani/n2mu/',\n",
      "                                                             '_label': '',\n",
      "                                                             '_offset': None,\n",
      "                                                             '_types': ['interest']},\n",
      "                                                 '_predicate': {'_cardinality': 1,\n",
      "                                                                '_confidence': 0.0,\n",
      "                                                                '_id': 'http://cltl.nl/leolani/n2mu/like-by',\n",
      "                                                                '_label': 'like-by',\n",
      "                                                                '_offset': None}},\n",
      "                                                {'_entity': {'_confidence': 0.0,\n",
      "                                                             '_id': 'http://cltl.nl/leolani/n2mu/',\n",
      "                                                             '_label': '',\n",
      "                                                             '_offset': None,\n",
      "                                                             '_types': ['book']},\n",
      "                                                 '_predicate': {'_cardinality': 1,\n",
      "                                                                '_confidence': 0.0,\n",
      "                                                                '_id': 'http://cltl.nl/leolani/n2mu/read-by',\n",
      "                                                                '_label': 'read-by',\n",
      "                                                                '_offset': None}}],\n",
      "                                '_subject': [{'_entity': {'_confidence': 0.0,\n",
      "                                                          '_id': 'http://cltl.nl/leolani/n2mu/',\n",
      "                                                          '_label': '',\n",
      "                                                          '_offset': None,\n",
      "                                                          '_types': ['smell']},\n",
      "                                              '_predicate': {'_cardinality': 1,\n",
      "                                                             '_confidence': 0.0,\n",
      "                                                             '_id': 'http://cltl.nl/leolani/n2mu/experience',\n",
      "                                                             '_label': 'experience',\n",
      "                                                             '_offset': None}},\n",
      "                                             {'_entity': {'_confidence': 0.0,\n",
      "                                                          '_id': 'http://cltl.nl/leolani/n2mu/',\n",
      "                                                          '_label': '',\n",
      "                                                          '_offset': None,\n",
      "                                                          '_types': ['taste']},\n",
      "                                              '_predicate': {'_cardinality': 1,\n",
      "                                                             '_confidence': 0.0,\n",
      "                                                             '_id': 'http://cltl.nl/leolani/n2mu/experience',\n",
      "                                                             '_label': 'experience',\n",
      "                                                             '_offset': None}},\n",
      "                                             {'_entity': {'_confidence': 0.0,\n",
      "                                                          '_id': 'http://cltl.nl/leolani/n2mu/',\n",
      "                                                          '_label': '',\n",
      "                                                          '_offset': None,\n",
      "                                                          '_types': ['touch']},\n",
      "                                              '_predicate': {'_cardinality': 1,\n",
      "                                                             '_confidence': 0.0,\n",
      "                                                             '_id': 'http://cltl.nl/leolani/n2mu/experience',\n",
      "                                                             '_label': 'experience',\n",
      "                                                             '_offset': None}},\n",
      "                                             {'_entity': {'_confidence': 0.0,\n",
      "                                                          '_id': 'http://cltl.nl/leolani/n2mu/',\n",
      "                                                          '_label': '',\n",
      "                                                          '_offset': None,\n",
      "                                                          '_types': ['person']},\n",
      "                                              '_predicate': {'_cardinality': 1,\n",
      "                                                             '_confidence': 0.0,\n",
      "                                                             '_id': 'http://cltl.nl/leolani/n2mu/be-ancestor-of',\n",
      "                                                             '_label': 'be-ancestor-of',\n",
      "                                                             '_offset': None}},\n",
      "                                             {'_entity': {'_confidence': 0.0,\n",
      "                                                          '_id': 'http://cltl.nl/leolani/n2mu/',\n",
      "                                                          '_label': '',\n",
      "                                                          '_offset': None,\n",
      "                                                          '_types': ['person']},\n",
      "                                              '_predicate': {'_cardinality': 1,\n",
      "                                                             '_confidence': 0.0,\n",
      "                                                             '_id': 'http://cltl.nl/leolani/n2mu/be-family-of',\n",
      "                                                             '_label': 'be-family-of',\n",
      "                                                             '_offset': None}},\n",
      "                                             {'_entity': {'_confidence': 0.0,\n",
      "                                                          '_id': 'http://cltl.nl/leolani/n2mu/',\n",
      "                                                          '_label': '',\n",
      "                                                          '_offset': None,\n",
      "                                                          '_types': ['person']},\n",
      "                                              '_predicate': {'_cardinality': 1,\n",
      "                                                             '_confidence': 0.0,\n",
      "                                                             '_id': 'http://cltl.nl/leolani/n2mu/be-parent-of',\n",
      "                                                             '_label': 'be-parent-of',\n",
      "                                                             '_offset': None}},\n",
      "                                             {'_entity': {'_confidence': 0.0,\n",
      "                                                          '_id': 'http://cltl.nl/leolani/n2mu/',\n",
      "                                                          '_label': '',\n",
      "                                                          '_offset': None,\n",
      "                                                          '_types': ['person']},\n",
      "                                              '_predicate': {'_cardinality': 1,\n",
      "                                                             '_confidence': 0.0,\n",
      "                                                             '_id': 'http://cltl.nl/leolani/n2mu/be-friends-with',\n",
      "                                                             '_label': 'be-friends-with',\n",
      "                                                             '_offset': None}},\n",
      "                                             {'_entity': {'_confidence': 0.0,\n",
      "                                                          '_id': 'http://cltl.nl/leolani/n2mu/',\n",
      "                                                          '_label': '',\n",
      "                                                          '_offset': None,\n",
      "                                                          '_types': ['location']},\n",
      "                                              '_predicate': {'_cardinality': 1,\n",
      "                                                             '_confidence': 0.0,\n",
      "                                                             '_id': 'http://cltl.nl/leolani/n2mu/born-in',\n",
      "                                                             '_label': 'born-in',\n",
      "                                                             '_offset': None}},\n",
      "                                             {'_entity': {'_confidence': 0.0,\n",
      "                                                          '_id': 'http://cltl.nl/leolani/n2mu/',\n",
      "                                                          '_label': '',\n",
      "                                                          '_offset': None,\n",
      "                                                          '_types': ['object']},\n",
      "                                              '_predicate': {'_cardinality': 1,\n",
      "                                                             '_confidence': 0.0,\n",
      "                                                             '_id': 'http://cltl.nl/leolani/n2mu/own',\n",
      "                                                             '_label': 'own',\n",
      "                                                             '_offset': None}},\n",
      "                                             {'_entity': {'_confidence': 0.0,\n",
      "                                                          '_id': 'http://cltl.nl/leolani/n2mu/',\n",
      "                                                          '_label': '',\n",
      "                                                          '_offset': None,\n",
      "                                                          '_types': ['sensor']},\n",
      "                                              '_predicate': {'_cardinality': 1,\n",
      "                                                             '_confidence': 0.0,\n",
      "                                                             '_id': 'http://cltl.nl/leolani/n2mu/perceive',\n",
      "                                                             '_label': 'perceive',\n",
      "                                                             '_offset': None}},\n",
      "                                             {'_entity': {'_confidence': 0.0,\n",
      "                                                          '_id': 'http://cltl.nl/leolani/n2mu/',\n",
      "                                                          '_label': '',\n",
      "                                                          '_offset': None,\n",
      "                                                          '_types': ['agent']},\n",
      "                                              '_predicate': {'_cardinality': 1,\n",
      "                                                             '_confidence': 0.0,\n",
      "                                                             '_id': 'http://cltl.nl/leolani/n2mu/be-child-of',\n",
      "                                                             '_label': 'be-child-of',\n",
      "                                                             '_offset': None}},\n",
      "                                             {'_entity': {'_confidence': 0.0,\n",
      "                                                          '_id': 'http://cltl.nl/leolani/n2mu/',\n",
      "                                                          '_label': '',\n",
      "                                                          '_offset': None,\n",
      "                                                          '_types': ['institution']},\n",
      "                                              '_predicate': {'_cardinality': 1,\n",
      "                                                             '_confidence': 0.0,\n",
      "                                                             '_id': 'http://cltl.nl/leolani/n2mu/be-member-of',\n",
      "                                                             '_label': 'be-member-of',\n",
      "                                                             '_offset': None}},\n",
      "                                             {'_entity': {'_confidence': 0.0,\n",
      "                                                          '_id': 'http://cltl.nl/leolani/n2mu/',\n",
      "                                                          '_label': '',\n",
      "                                                          '_offset': None,\n",
      "                                                          '_types': ['agent']},\n",
      "                                              '_predicate': {'_cardinality': 1,\n",
      "                                                             '_confidence': 0.0,\n",
      "                                                             '_id': 'http://cltl.nl/leolani/n2mu/know',\n",
      "                                                             '_label': 'know',\n",
      "                                                             '_offset': None}},\n",
      "                                             {'_entity': {'_confidence': 0.0,\n",
      "                                                          '_id': 'http://cltl.nl/leolani/n2mu/',\n",
      "                                                          '_label': '',\n",
      "                                                          '_offset': None,\n",
      "                                                          '_types': ['location']},\n",
      "                                              '_predicate': {'_cardinality': 1,\n",
      "                                                             '_confidence': 0.0,\n",
      "                                                             '_id': 'http://cltl.nl/leolani/n2mu/be-from',\n",
      "                                                             '_label': 'be-from',\n",
      "                                                             '_offset': None}},\n",
      "                                             {'_entity': {'_confidence': 0.0,\n",
      "                                                          '_id': 'http://cltl.nl/leolani/n2mu/',\n",
      "                                                          '_label': '',\n",
      "                                                          '_offset': None,\n",
      "                                                          '_types': ['agent']},\n",
      "                                              '_predicate': {'_cardinality': 1,\n",
      "                                                             '_confidence': 0.0,\n",
      "                                                             '_id': 'http://cltl.nl/leolani/n2mu/dislike',\n",
      "                                                             '_label': 'dislike',\n",
      "                                                             '_offset': None}},\n",
      "                                             {'_entity': {'_confidence': 0.0,\n",
      "                                                          '_id': 'http://cltl.nl/leolani/n2mu/',\n",
      "                                                          '_label': '',\n",
      "                                                          '_offset': None,\n",
      "                                                          '_types': ['interest']},\n",
      "                                              '_predicate': {'_cardinality': 1,\n",
      "                                                             '_confidence': 0.0,\n",
      "                                                             '_id': 'http://cltl.nl/leolani/n2mu/dislike',\n",
      "                                                             '_label': 'dislike',\n",
      "                                                             '_offset': None}},\n",
      "                                             {'_entity': {'_confidence': 0.0,\n",
      "                                                          '_id': 'http://cltl.nl/leolani/n2mu/',\n",
      "                                                          '_label': '',\n",
      "                                                          '_offset': None,\n",
      "                                                          '_types': ['interest']},\n",
      "                                              '_predicate': {'_cardinality': 1,\n",
      "                                                             '_confidence': 0.0,\n",
      "                                                             '_id': 'http://cltl.nl/leolani/n2mu/favorite',\n",
      "                                                             '_label': 'favorite',\n",
      "                                                             '_offset': None}},\n",
      "                                             {'_entity': {'_confidence': 0.0,\n",
      "                                                          '_id': 'http://cltl.nl/leolani/n2mu/',\n",
      "                                                          '_label': '',\n",
      "                                                          '_offset': None,\n",
      "                                                          '_types': ['agent']},\n",
      "                                              '_predicate': {'_cardinality': 1,\n",
      "                                                             '_confidence': 0.0,\n",
      "                                                             '_id': 'http://cltl.nl/leolani/n2mu/like',\n",
      "                                                             '_label': 'like',\n",
      "                                                             '_offset': None}},\n",
      "                                             {'_entity': {'_confidence': 0.0,\n",
      "                                                          '_id': 'http://cltl.nl/leolani/n2mu/',\n",
      "                                                          '_label': '',\n",
      "                                                          '_offset': None,\n",
      "                                                          '_types': ['interest']},\n",
      "                                              '_predicate': {'_cardinality': 1,\n",
      "                                                             '_confidence': 0.0,\n",
      "                                                             '_id': 'http://cltl.nl/leolani/n2mu/like',\n",
      "                                                             '_label': 'like',\n",
      "                                                             '_offset': None}},\n",
      "                                             {'_entity': {'_confidence': 0.0,\n",
      "                                                          '_id': 'http://cltl.nl/leolani/n2mu/',\n",
      "                                                          '_label': '',\n",
      "                                                          '_offset': None,\n",
      "                                                          '_types': ['location']},\n",
      "                                              '_predicate': {'_cardinality': 1,\n",
      "                                                             '_confidence': 0.0,\n",
      "                                                             '_id': 'http://cltl.nl/leolani/n2mu/live-in',\n",
      "                                                             '_label': 'live-in',\n",
      "                                                             '_offset': None}},\n",
      "                                             {'_entity': {'_confidence': 0.0,\n",
      "                                                          '_id': 'http://cltl.nl/leolani/n2mu/',\n",
      "                                                          '_label': '',\n",
      "                                                          '_offset': None,\n",
      "                                                          '_types': ['song']},\n",
      "                                              '_predicate': {'_cardinality': 1,\n",
      "                                                             '_confidence': 0.0,\n",
      "                                                             '_id': 'http://cltl.nl/leolani/n2mu/play',\n",
      "                                                             '_label': 'play',\n",
      "                                                             '_offset': None}},\n",
      "                                             {'_entity': {'_confidence': 0.0,\n",
      "                                                          '_id': 'http://cltl.nl/leolani/n2mu/',\n",
      "                                                          '_label': '',\n",
      "                                                          '_offset': None,\n",
      "                                                          '_types': ['sport']},\n",
      "                                              '_predicate': {'_cardinality': 1,\n",
      "                                                             '_confidence': 0.0,\n",
      "                                                             '_id': 'http://cltl.nl/leolani/n2mu/play',\n",
      "                                                             '_label': 'play',\n",
      "                                                             '_offset': None}},\n",
      "                                             {'_entity': {'_confidence': 0.0,\n",
      "                                                          '_id': 'http://cltl.nl/leolani/n2mu/',\n",
      "                                                          '_label': '',\n",
      "                                                          '_offset': None,\n",
      "                                                          '_types': ['agent']},\n",
      "                                              '_predicate': {'_cardinality': 1,\n",
      "                                                             '_confidence': 0.0,\n",
      "                                                             '_id': 'http://cltl.nl/leolani/n2mu/like-by',\n",
      "                                                             '_label': 'like-by',\n",
      "                                                             '_offset': None}},\n",
      "                                             {'_entity': {'_confidence': 0.0,\n",
      "                                                          '_id': 'http://cltl.nl/leolani/n2mu/',\n",
      "                                                          '_label': '',\n",
      "                                                          '_offset': None,\n",
      "                                                          '_types': ['institution']},\n",
      "                                              '_predicate': {'_cardinality': 1,\n",
      "                                                             '_confidence': 0.0,\n",
      "                                                             '_id': 'http://cltl.nl/leolani/n2mu/study-at',\n",
      "                                                             '_label': 'study-at',\n",
      "                                                             '_offset': None}},\n",
      "                                             {'_entity': {'_confidence': 0.0,\n",
      "                                                          '_id': 'http://cltl.nl/leolani/n2mu/',\n",
      "                                                          '_label': '',\n",
      "                                                          '_offset': None,\n",
      "                                                          '_types': ['location']},\n",
      "                                              '_predicate': {'_cardinality': 1,\n",
      "                                                             '_confidence': 0.0,\n",
      "                                                             '_id': 'http://cltl.nl/leolani/n2mu/travel-to',\n",
      "                                                             '_label': 'travel-to',\n",
      "                                                             '_offset': None}},\n",
      "                                             {'_entity': {'_confidence': 0.0,\n",
      "                                                          '_id': 'http://cltl.nl/leolani/n2mu/',\n",
      "                                                          '_label': '',\n",
      "                                                          '_offset': None,\n",
      "                                                          '_types': ['institution']},\n",
      "                                              '_predicate': {'_cardinality': 1,\n",
      "                                                             '_confidence': 0.0,\n",
      "                                                             '_id': 'http://cltl.nl/leolani/n2mu/work-at',\n",
      "                                                             '_label': 'work-at',\n",
      "                                                             '_offset': None}}]},\n",
      "              '_trust': 0.5}}\n"
     ]
    }
   ],
   "source": [
    "print()\n",
    "print(\"Thoughts resulting from posting the triples to the brain:\\n\")\n",
    "pprint.pprint(throughts_json)"
   ]
  },
  {
   "cell_type": "markdown",
   "metadata": {},
   "source": [
    "We can see that most thoughts are empty because the brain has hardly been populated but there are a lot of subject_gaps based on the ontology that assume that persons can have these properties."
   ]
  },
  {
   "cell_type": "markdown",
   "metadata": {},
   "source": [
    "To verbalise the thoughts. we use a replier *LenkaReplier* imported from *cltl.reply_generation*. This replier randomly selects a thought and uses templates to generate a natural language phrase."
   ]
  },
  {
   "cell_type": "code",
   "execution_count": 11,
   "metadata": {},
   "outputs": [
    {
     "name": "stdout",
     "output_type": "stream",
     "text": [
      "2021-11-11 12:22:05,949 -     INFO -   cltl.reply_generation.api.LenkaReplier - Booted\n",
      "I am glad to have learned something new. I had never heard about singing before!\n"
     ]
    }
   ],
   "source": [
    "replier = LenkaReplier()\n",
    "reply = replier.reply_to_statement(throughts_json, proactive=True, persist=True)\n",
    "print(reply)"
   ]
  },
  {
   "cell_type": "markdown",
   "metadata": {},
   "source": [
    "You can call the replier repititively for the same response and it may select a different thought or phrasing of a thought."
   ]
  },
  {
   "cell_type": "code",
   "execution_count": 13,
   "metadata": {},
   "outputs": [
    {
     "name": "stdout",
     "output_type": "stream",
     "text": [
      "I am curious. Has karla ever know a agent?\n",
      "Interesting! I did not know anything that karla like\n",
      "Let me ask you something. Has karla travel to location?\n",
      "I did not know that! I did not know anything that karla like\n",
      "I would like to know. What types of act orInstance like singing do person orInstance usually like\n",
      "I just learned something, I had never heard about karla before!\n",
      "Wow! Did you know that fred also like singing\n",
      "I did not know that! I did not know anybody who like singing\n",
      "I am glad to have learned something new. I had never heard about karla before!\n",
      "Let me ask you something. Has karla born in location?\n"
     ]
    }
   ],
   "source": [
    "for i in range(10):\n",
    "    reply = replier.reply_to_statement(throughts_json, proactive=True, persist=True)\n",
    "    print(reply)"
   ]
  },
  {
   "cell_type": "markdown",
   "metadata": {},
   "source": [
    "Let us add a few more triples to the brain and check the result. This time Karla likes singing:"
   ]
  },
  {
   "cell_type": "code",
   "execution_count": 10,
   "metadata": {},
   "outputs": [
    {
     "name": "stdout",
     "output_type": "stream",
     "text": [
      "2021-11-11 08:34:32,947 -     INFO -    cltl.brain.basic_brain.LongTermMemory - Triple in statement: karla_like_singing [person_->_act])\n",
      "2021-11-11 08:34:33,031 -     INFO -  cltl.brain.basic_brain.ThoughtGenerator - Entity Novelty: new subject - existing object \n",
      "2021-11-11 08:34:33,084 -     INFO -  cltl.brain.basic_brain.ThoughtGenerator - Overlaps: 0 subject overlaps: e.g. '' - 1 object overlaps: e.g. me on November,2021 about fred\n",
      "2021-11-11 08:34:35,332 -     INFO -  cltl.brain.basic_brain.ThoughtGenerator - Negation Conflicts: me on November,2021 about UNDERSPECIFIED\n",
      "2021-11-11 08:34:35,387 -     INFO -  cltl.brain.basic_brain.ThoughtGenerator - Gaps: 26 gaps as subject: e.g. born-in location - 15 gaps as object: e.g. be-ancestor-of person\n"
     ]
    }
   ],
   "source": [
    "test_triple = {'subject': {'label': 'Karla', 'type': ['noun.person']},\n",
    "               'predicate': {'label': 'like', 'type': ['verb.emotion']},\n",
    "               'object': {'label': 'singing', 'type': ['noun.act']}}\n",
    "capsule, throughts_json = talk.post_a_triple_label_and_type(test_triple, my_brain)"
   ]
  },
  {
   "cell_type": "code",
   "execution_count": 11,
   "metadata": {},
   "outputs": [
    {
     "name": "stdout",
     "output_type": "stream",
     "text": [
      "2021-11-11 08:34:39,740 -     INFO -    cltl.brain.basic_brain.LongTermMemory - Triple in statement: karla_like_pizza [person_->_act])\n",
      "2021-11-11 08:34:39,794 -     INFO -  cltl.brain.basic_brain.ThoughtGenerator - Entity Novelty: existing subject - new object \n",
      "2021-11-11 08:34:39,839 -     INFO -  cltl.brain.basic_brain.ThoughtGenerator - Overlaps: 1 subject overlaps: e.g. me on November,2021 about singing - 0 object overlaps: e.g. ''\n",
      "2021-11-11 08:34:41,983 -     INFO -  cltl.brain.basic_brain.ThoughtGenerator - Negation Conflicts: me on November,2021 about UNDERSPECIFIED\n",
      "2021-11-11 08:34:42,036 -     INFO -  cltl.brain.basic_brain.ThoughtGenerator - Gaps: 26 gaps as subject: e.g. favorite interest - 15 gaps as object: e.g. know agent\n"
     ]
    }
   ],
   "source": [
    "test_triple = {'subject': {'label': 'Karla', 'type': ['noun.person']},\n",
    "               'predicate': {'label': 'like', 'type': ['verb.emotion']},\n",
    "               'object': {'label': 'pizza', 'type': ['noun.act']}}\n",
    "capsule, throughts_json = talk.post_a_triple_label_and_type(test_triple, my_brain)"
   ]
  },
  {
   "cell_type": "code",
   "execution_count": 12,
   "metadata": {},
   "outputs": [
    {
     "name": "stdout",
     "output_type": "stream",
     "text": [
      "Nice! Did you know that karla also like singing\n",
      "If you don't mind me asking. Has karla ever be parent of a person?\n",
      "I am curious. Has karla ever be child of a agent?\n",
      "I would like to know. What types of act orInstance like pizza do person orInstance usually like\n",
      "I would like to know. Has karla born in location?\n",
      "I would like to know. Has karla ever read by a book?\n",
      "Exciting news! I did not know anybody who like pizza\n",
      "I am curious. What types can karla like\n",
      "Let me ask you something. Has karla perceive sensor?\n",
      "Exciting news! I had never heard about pizza before!\n"
     ]
    }
   ],
   "source": [
    "for i in range(10):\n",
    "    reply = replier.reply_to_statement(throughts_json, proactive=True, persist=True)\n",
    "    print(reply)"
   ]
  },
  {
   "cell_type": "markdown",
   "metadata": {},
   "source": [
    "Launching the same SPARQL query to the brain will now give the following result:\n",
    "\n",
    "![graph-db query](images/graph-db-query-2.png \"GraphDB query for the triple result\")"
   ]
  },
  {
   "cell_type": "markdown",
   "metadata": {},
   "source": [
    "### Querying the brain"
   ]
  },
  {
   "cell_type": "markdown",
   "metadata": {},
   "source": [
    "Since we have added properties to the brain, we can also ask questions. For this we need to make a triple with an empty slot: the variable. In the next example, we will ask what things Karla likes. Note that the API uses the labels of things and the label for Karla is automatically created by the posting function we used with *createLabel=True*. This adds the label \"karla\" in lowercase. We therfore also have to query with the label in lowercase."
   ]
  },
  {
   "cell_type": "code",
   "execution_count": 14,
   "metadata": {},
   "outputs": [
    {
     "name": "stdout",
     "output_type": "stream",
     "text": [
      "{'chat': '1', 'turn': '1', 'author': 'me', 'utterance': '', 'utterance_type': <UtteranceType.QUESTION: 1>, 'position': '', 'subject': {'label': 'karla', 'type': ['agent']}, 'predicate': {'type': 'like'}, 'object': {'label': '', 'type': []}, 'context_id': '1', 'date': datetime.date(2021, 11, 11), 'place': '', 'place_id': '', 'country': '', 'region': '', 'city': '', 'objects': [], 'people': []}\n",
      "2021-11-11 12:28:54,459 -     INFO -    cltl.brain.basic_brain.LongTermMemory - Triple in question: karla_like_? [agent_->_])\n",
      "{'question': {'author': 'me',\n",
      "              'chat': '1',\n",
      "              'city': '',\n",
      "              'context_id': '1',\n",
      "              'country': '',\n",
      "              'date': '2021-11-11',\n",
      "              'object': {'label': '', 'type': []},\n",
      "              'objects': [],\n",
      "              'people': [],\n",
      "              'place': '',\n",
      "              'place_id': '',\n",
      "              'position': '',\n",
      "              'predicate': {'type': 'like'},\n",
      "              'region': '',\n",
      "              'subject': {'label': 'karla', 'type': ['agent']},\n",
      "              'triple': {'_complement': {'_confidence': 0.0,\n",
      "                                         '_id': 'http://cltl.nl/leolani/world/',\n",
      "                                         '_label': '',\n",
      "                                         '_offset': None,\n",
      "                                         '_types': []},\n",
      "                         '_predicate': {'_cardinality': 1,\n",
      "                                        '_confidence': 0.0,\n",
      "                                        '_id': 'http://cltl.nl/leolani/n2mu/like',\n",
      "                                        '_label': 'like',\n",
      "                                        '_offset': None},\n",
      "                         '_subject': {'_confidence': 0.0,\n",
      "                                      '_id': 'http://cltl.nl/leolani/world/karla',\n",
      "                                      '_label': 'karla',\n",
      "                                      '_offset': None,\n",
      "                                      '_types': ['agent']}},\n",
      "              'turn': '1',\n",
      "              'utterance': '',\n",
      "              'utterance_type': 'QUESTION'},\n",
      " 'response': [{'authorlabel': {'type': 'literal', 'value': 'me'},\n",
      "               'certaintyValue': {'type': 'literal', 'value': 'UNDERSPECIFIED'},\n",
      "               'emotionValue': {'type': 'literal', 'value': 'UNDERSPECIFIED'},\n",
      "               'olabel': {'type': 'literal', 'value': 'singing'},\n",
      "               'polarityValue': {'type': 'literal', 'value': 'UNDERSPECIFIED'},\n",
      "               'sentimentValue': {'type': 'literal',\n",
      "                                  'value': 'UNDERSPECIFIED'}}]}\n"
     ]
    }
   ],
   "source": [
    "test_triple = {'predicate': {'label': 'like', 'type': ['verb.emotion']}, \n",
    "               'subject': {'label': 'karla', 'type': ['agent']}, \n",
    "               'object': {'label': '', 'type': []}}\n",
    "answer = talk.post_a_query(test_triple, my_brain)\n",
    "pprint.pprint(answer)"
   ]
  },
  {
   "cell_type": "markdown",
   "metadata": {},
   "source": [
    "We can see the response value in the resulting JSON. In addition to the object labels (*olabel) returned, we also get additional properties on the sources of this information and their perspective on the claim that contained the triple. To humaise the repsonse, we can again call the *replier* but in this case we use the *reply_to_question* function:"
   ]
  },
  {
   "cell_type": "code",
   "execution_count": 15,
   "metadata": {},
   "outputs": [
    {
     "name": "stdout",
     "output_type": "stream",
     "text": [
      "you told me karla maybe not like singing\n"
     ]
    }
   ],
   "source": [
    "reply = replier.reply_to_question(answer)\n",
    "print(reply)"
   ]
  },
  {
   "cell_type": "markdown",
   "metadata": {},
   "source": [
    "You may wonder why the verbalisation inserted the modal phrase *maybe not*. This is because we have not specified the perspecive in the capsule. As you can see in the response, the value for Polarity is UNDERSPECIFIED which raises doubts about the belief. We will see below how the triple extractor handles this by processing real text rather than triples."
   ]
  },
  {
   "cell_type": "code",
   "execution_count": 19,
   "metadata": {},
   "outputs": [
    {
     "name": "stdout",
     "output_type": "stream",
     "text": [
      "{'chat': '1', 'turn': '1', 'author': 'me', 'utterance': '', 'utterance_type': <UtteranceType.QUESTION: 1>, 'position': '', 'subject': {'label': 'fred', 'type': ['agent']}, 'predicate': {'type': 'like'}, 'object': {'label': '', 'type': []}, 'context_id': '1', 'date': datetime.date(2021, 11, 11), 'place': '', 'place_id': '', 'country': '', 'region': '', 'city': '', 'objects': [], 'people': []}\n",
      "2021-11-11 08:49:14,593 -     INFO -    cltl.brain.basic_brain.LongTermMemory - Triple in question: fred_like_? [agent_->_])\n",
      "you told me fred maybe not like singing\n"
     ]
    }
   ],
   "source": [
    "test_triple = {'predicate': {'label': 'like', 'type': ['verb.emotion']}, \n",
    "               'subject': {'label': 'fred', 'type': ['agent']}, \n",
    "               'object': {'label': '', 'type': []}}\n",
    "answer = talk.post_a_query_and_verbalise_answer(test_triple, replier, my_brain)\n",
    "print(answer)"
   ]
  },
  {
   "cell_type": "markdown",
   "metadata": {},
   "source": [
    "Again, we see that the perspective is not set and therefore the pespective of the source results in strange phrasings. In the notebook: *lets-chat-with-brain-lenk.ipynb* we will use more advanced Natural Language Processing to extract such perspectives from the utterances within a conversational interaction setting."
   ]
  },
  {
   "cell_type": "markdown",
   "metadata": {},
   "source": [
    "## End of notebook"
   ]
  }
 ],
 "metadata": {
  "kernelspec": {
   "display_name": "venv",
   "language": "python",
   "name": "venv"
  },
  "language_info": {
   "codemirror_mode": {
    "name": "ipython",
    "version": 3
   },
   "file_extension": ".py",
   "mimetype": "text/x-python",
   "name": "python",
   "nbconvert_exporter": "python",
   "pygments_lexer": "ipython3",
   "version": "3.7.6"
  }
 },
 "nbformat": 4,
 "nbformat_minor": 4
}
