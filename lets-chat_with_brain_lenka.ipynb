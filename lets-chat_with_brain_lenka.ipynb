{
 "cells": [
  {
   "cell_type": "markdown",
   "metadata": {},
   "source": [
    "# Uses interaction to push triples to the brain"
   ]
  },
  {
   "cell_type": "markdown",
   "metadata": {},
   "source": [
    "Before running, start GraphDB and make sure that there is a sandbox repository"
   ]
  },
  {
   "cell_type": "code",
   "execution_count": 1,
   "metadata": {},
   "outputs": [
    {
     "name": "stderr",
     "output_type": "stream",
     "text": [
      "[nltk_data] Downloading package punkt to /Users/piek/nltk_data...\n",
      "[nltk_data]   Package punkt is already up-to-date!\n"
     ]
    }
   ],
   "source": [
    "# general imports for EMISSOR and the BRAIN\n",
    "import emissor as em\n",
    "from cltl import brain\n",
    "from cltl.triple_extraction.api import Chat, UtteranceHypothesis\n",
    "from emissor.persistence import ScenarioStorage\n",
    "from emissor.representation.annotation import AnnotationType, Token, NER\n",
    "from emissor.representation.container import Index\n",
    "from emissor.representation.scenario import Modality, ImageSignal, TextSignal, Mention, Annotation, Scenario\n",
    "from cltl.brain.long_term_memory import LongTermMemory\n",
    "from cltl.combot.backend.api.discrete import UtteranceType\n",
    "\n",
    "import os\n",
    "import time\n",
    "import uuid\n",
    "from datetime import datetime\n",
    "from datetime import date\n",
    "import requests\n",
    "\n",
    "#### The next utils are needed for the interaction and creating triples and capsules\n",
    "import util.driver_util as d_util\n",
    "import util.capsule_util as c_util"
   ]
  },
  {
   "cell_type": "code",
   "execution_count": 2,
   "metadata": {},
   "outputs": [
    {
     "name": "stdout",
     "output_type": "stream",
     "text": [
      "Directory  ./data/2021-10-29-12:02:42  Created \n",
      "Directory  ./data/2021-10-29-12:02:42/image  Created \n"
     ]
    }
   ],
   "source": [
    "from random import getrandbits\n",
    "\n",
    "##### Setting the location\n",
    "place_id = getrandbits(8)\n",
    "location = requests.get(\"https://ipinfo.io\").json()\n",
    "\n",
    "##### Setting the agents\n",
    "AGENT = \"Leolani2\"\n",
    "HUMAN_NAME = \"Stranger\"\n",
    "HUMAN_ID = \"stranger\"\n",
    "\n",
    "### The name of your scenario\n",
    "scenario_id = datetime.today().strftime(\"%Y-%m-%d-%H:%M:%S\")\n",
    "\n",
    "### Specify the path to an existing data folder where your scenario is created and saved as a subfolder\n",
    "scenario_path = \"./data\"\n",
    "\n",
    "### Define the folder where the images are saved\n",
    "imagefolder = scenario_path + \"/\" + scenario_id + \"/\" + \"image\"\n",
    "\n",
    "\n",
    "### Create the scenario folder, the json files and a scenarioStorage and scenario in memory\n",
    "scenarioStorage = d_util.create_scenario(scenario_path, scenario_id)\n",
    "scenario = scenarioStorage.create_scenario(scenario_id, datetime.now().microsecond, datetime.now().microsecond, AGENT)"
   ]
  },
  {
   "cell_type": "code",
   "execution_count": 3,
   "metadata": {},
   "outputs": [
    {
     "name": "stdout",
     "output_type": "stream",
     "text": [
      "<class 'pathlib.PosixPath'>\n",
      "2021-10-29 12:02:44,435 -    DEBUG -    cltl.brain.basic_brain.LongTermMemory - Booted\n",
      "2021-10-29 12:02:44,436 -    DEBUG -    cltl.brain.basic_brain.LongTermMemory - Clearing brain\n",
      "2021-10-29 12:02:45,940 -    DEBUG -    cltl.brain.basic_brain.LongTermMemory - Checking if ontology is in brain\n",
      "2021-10-29 12:02:45,944 -    DEBUG -    cltl.brain.basic_brain.LongTermMemory - Posting query\n",
      "2021-10-29 12:02:46,674 -     INFO -    cltl.brain.basic_brain.LongTermMemory - Uploading ontology to brain\n",
      "2021-10-29 12:02:49,345 -    DEBUG -  cltl.brain.basic_brain.ThoughtGenerator - Booted\n",
      "2021-10-29 12:02:49,347 -    DEBUG -  cltl.brain.basic_brain.LocationReasoner - Booted\n",
      "2021-10-29 12:02:49,349 -    DEBUG -      cltl.brain.basic_brain.TypeReasoner - Booted\n",
      "2021-10-29 12:02:49,352 -    DEBUG -   cltl.brain.basic_brain.TrustCalculator - Booted\n",
      "2021-10-29 12:02:49,591 -    DEBUG -   cltl.brain.basic_brain.TrustCalculator - Posting query\n",
      "2021-10-29 12:02:49,636 -     INFO -   cltl.brain.basic_brain.TrustCalculator - Computed trust for all known agents\n"
     ]
    }
   ],
   "source": [
    "import pathlib\n",
    "log_path=pathlib.Path('./logs')\n",
    "print(type(log_path))\n",
    "my_brain = brain.LongTermMemory(address=\"http://localhost:7200/repositories/sandbox\",\n",
    "                           log_dir=log_path,\n",
    "                           clear_all=True)"
   ]
  },
  {
   "cell_type": "code",
   "execution_count": 4,
   "metadata": {},
   "outputs": [],
   "source": [
    "def process_text_and_think (scenario: Scenario, \n",
    "                  place_id:str, \n",
    "                  location: str, \n",
    "                  textSignal: TextSignal,\n",
    "                  human_id: str,\n",
    "                  my_brain:LongTermMemory):\n",
    "    thoughts = \"\"\n",
    "    chat = Chat(human_id)\n",
    "    chat.add_utterance([UtteranceHypothesis(c_util.seq_to_text(textSignal.seq), 1.0)])\n",
    "    chat.last_utterance.analyze()\n",
    "    # No triple was extracted, so we missed three items (s, p, o)\n",
    "    if chat.last_utterance.triple is None:\n",
    "        utterance = \"Any gossip?\" + '\\n'\n",
    "    else:\n",
    "        triple = c_util.rephrase_triple_json_for_capsule(chat.last_utterance.triple)\n",
    "        # A triple was extracted so we compare it elementwise\n",
    "        capsule = c_util.scenario_utterance_and_triple_to_capsule(scenario, \n",
    "                                                                  place_id,\n",
    "                                                                  location,\n",
    "                                                                  textSignal, \n",
    "                                                                  human_id,\n",
    "                                                                  chat.last_utterance.perspective, \n",
    "                                                                  triple)\n",
    "        print('Capsule:', capsule)\n",
    "        thoughts = my_brain.update(capsule, reason_types=True, create_label=False)\n",
    "        #print(thoughts)\n",
    "    return thoughts  "
   ]
  },
  {
   "cell_type": "code",
   "execution_count": 5,
   "metadata": {},
   "outputs": [
    {
     "name": "stdout",
     "output_type": "stream",
     "text": [
      "Leolani2: Hi there. Who are you Stranger?\n"
     ]
    },
    {
     "name": "stdin",
     "output_type": "stream",
     "text": [
      "\n",
      " I am Piek\n"
     ]
    },
    {
     "name": "stdout",
     "output_type": "stream",
     "text": [
      "Stranger: I am Piek\n",
      "2021-10-29 12:03:06,810 -     INFO - cltl.triple_extraction.api.Chat (VOID)              000 - << Start of Chat with VOID >>\n",
      "2021-10-29 12:03:06,812 -     INFO -               cltl.triple_extraction.api - Started POS tagger\n",
      "2021-10-29 12:03:06,813 -     INFO -               cltl.triple_extraction.api - Started NER tagger\n",
      "2021-10-29 12:03:06,822 -     INFO -               cltl.triple_extraction.api - Loaded grammar\n",
      "2021-10-29 12:03:07,937 -     INFO - cltl.triple_extraction.api.Chat (VOID)              001 -       VOID: \"I am Piek\"\n",
      "{'subject': {'label': 'VOID', 'type': ['noun.state']}, 'predicate': {'label': 'be', 'type': ['verb.stative']}, 'object': {'label': 'Piek', 'type': ['person']}}\n",
      "{'subject': {'state', 'VOID'}, 'predicate': {'be', 'stative'}, 'object': {'Piek', 'person'}}\n",
      "Capsule: {'chat': '2021-10-29-12:02:42', 'turn': '754919a2-3d25-4204-a423-e3cf1978c443', 'author': 'VOID', 'utterance': 'I am Piek', 'utterance_type': <UtteranceType.STATEMENT: 0>, 'position': '0-9', 'subject': {'label': 'piek', 'type': 'person'}, 'predicate': {'type': 'see'}, 'object': {'label': 'pills', 'type': 'object'}, 'perspective': {'sentiment': 0, 'certainty': 1, 'polarity': 1, 'emotion': <Emotion.NEUTRAL: 7>}, 'context_id': 'Leolani2', 'date': datetime.date(2021, 10, 29), 'place': 'Amsterdam', 'place_id': 55, 'country': 'NL', 'region': 'North Holland', 'city': 'Amsterdam', 'objects': [{'type': 'chair', 'confidence': 0.59, 'id': 1}, {'type': 'table', 'confidence': 0.73, 'id': 1}, {'type': 'pillbox', 'confidence': 0.32, 'id': 1}], 'people': [{'name': 'VOID', 'confidence': 0.98, 'id': 1}]}\n",
      "2021-10-29 12:03:09,304 -    DEBUG -    cltl.brain.basic_brain.LongTermMemory - Posting query\n",
      "2021-10-29 12:03:09,340 -    DEBUG -  cltl.brain.basic_brain.LocationReasoner - Posting query\n",
      "2021-10-29 12:03:09,399 -     INFO -    cltl.brain.basic_brain.LongTermMemory - Triple in statement: piek_see_pills [person_->_object])\n",
      "2021-10-29 12:03:09,401 -    DEBUG -  cltl.brain.basic_brain.ThoughtGenerator - Posting query\n",
      "2021-10-29 12:03:09,439 -    DEBUG -  cltl.brain.basic_brain.ThoughtGenerator - Posting query\n",
      "2021-10-29 12:03:09,445 -    DEBUG -  cltl.brain.basic_brain.ThoughtGenerator - Posting query\n",
      "2021-10-29 12:03:09,491 -     INFO -  cltl.brain.basic_brain.ThoughtGenerator - Entity Novelty: new subject - new object \n",
      "2021-10-29 12:03:09,492 -    DEBUG -  cltl.brain.basic_brain.ThoughtGenerator - Posting query\n",
      "2021-10-29 12:03:09,538 -    DEBUG -  cltl.brain.basic_brain.ThoughtGenerator - Posting query\n",
      "2021-10-29 12:03:10,614 -    DEBUG -    cltl.brain.basic_brain.LongTermMemory - Posting triples\n",
      "2021-10-29 12:03:11,740 -    DEBUG -  cltl.brain.basic_brain.ThoughtGenerator - Posting query\n",
      "2021-10-29 12:03:11,785 -    DEBUG -  cltl.brain.basic_brain.ThoughtGenerator - Posting query\n",
      "2021-10-29 12:03:11,790 -    DEBUG -  cltl.brain.basic_brain.ThoughtGenerator - Posting query\n",
      "2021-10-29 12:03:11,795 -    DEBUG -  cltl.brain.basic_brain.ThoughtGenerator - Posting query\n",
      "2021-10-29 12:03:11,838 -    DEBUG -  cltl.brain.basic_brain.ThoughtGenerator - Posting query\n",
      "2021-10-29 12:03:11,844 -    DEBUG -   cltl.brain.basic_brain.TrustCalculator - Posting query\n",
      "Leolani2: So you what do you want to talk about Stranger?\n",
      "\n"
     ]
    },
    {
     "name": "stdin",
     "output_type": "stream",
     "text": [
      "\n",
      " I like pizza\n"
     ]
    },
    {
     "name": "stdout",
     "output_type": "stream",
     "text": [
      "2021-10-29 12:03:20,825 -     INFO - cltl.triple_extraction.api.Chat (VOID)              000 - << Start of Chat with VOID >>\n",
      "2021-10-29 12:03:21,768 -     INFO - cltl.triple_extraction.api.Chat (VOID)              001 -       VOID: \"I like pizza\"\n",
      "{'subject': {'label': 'VOID', 'type': ['noun.state']}, 'predicate': {'label': 'like', 'type': ['verb.emotion']}, 'object': {'label': 'pizza', 'type': ['noun.food']}}\n",
      "{'subject': {'state', 'VOID'}, 'predicate': {'like', 'emotion'}, 'object': {'pizza', 'food'}}\n",
      "Capsule: {'chat': '2021-10-29-12:02:42', 'turn': '471d13b8-4448-4d94-986a-811796f2f225', 'author': 'VOID', 'utterance': 'I like pizza', 'utterance_type': <UtteranceType.STATEMENT: 0>, 'position': '0-12', 'subject': {'label': 'piek', 'type': 'person'}, 'predicate': {'type': 'see'}, 'object': {'label': 'pills', 'type': 'object'}, 'perspective': {'sentiment': '0.75', 'certainty': 1, 'polarity': 1, 'emotion': <Emotion.NEUTRAL: 7>}, 'context_id': 'Leolani2', 'date': datetime.date(2021, 10, 29), 'place': 'Amsterdam', 'place_id': 55, 'country': 'NL', 'region': 'North Holland', 'city': 'Amsterdam', 'objects': [{'type': 'chair', 'confidence': 0.59, 'id': 1}, {'type': 'table', 'confidence': 0.73, 'id': 1}, {'type': 'pillbox', 'confidence': 0.32, 'id': 1}], 'people': [{'name': 'VOID', 'confidence': 0.98, 'id': 1}]}\n",
      "2021-10-29 12:03:21,780 -    DEBUG -    cltl.brain.basic_brain.LongTermMemory - Posting query\n",
      "2021-10-29 12:03:21,788 -    DEBUG -  cltl.brain.basic_brain.LocationReasoner - Posting query\n",
      "2021-10-29 12:03:21,806 -     INFO -    cltl.brain.basic_brain.LongTermMemory - Triple in statement: piek_see_pills [person_->_object])\n",
      "2021-10-29 12:03:21,807 -    DEBUG -  cltl.brain.basic_brain.ThoughtGenerator - Posting query\n",
      "2021-10-29 12:03:21,837 -     INFO -  cltl.brain.basic_brain.ThoughtGenerator - Statement Novelty: 1 times, e.g. void on October,2021\n",
      "2021-10-29 12:03:21,839 -    DEBUG -  cltl.brain.basic_brain.ThoughtGenerator - Posting query\n",
      "2021-10-29 12:03:21,843 -    DEBUG -  cltl.brain.basic_brain.ThoughtGenerator - Posting query\n",
      "2021-10-29 12:03:21,886 -    DEBUG -  cltl.brain.basic_brain.ThoughtGenerator - Posting query\n",
      "2021-10-29 12:03:21,893 -    DEBUG -  cltl.brain.basic_brain.ThoughtGenerator - Posting query\n",
      "2021-10-29 12:03:23,038 -    DEBUG -    cltl.brain.basic_brain.LongTermMemory - Posting triples\n",
      "2021-10-29 12:03:24,340 -    DEBUG -  cltl.brain.basic_brain.ThoughtGenerator - Posting query\n",
      "2021-10-29 12:03:24,387 -    DEBUG -  cltl.brain.basic_brain.ThoughtGenerator - Posting query\n",
      "2021-10-29 12:03:24,393 -    DEBUG -  cltl.brain.basic_brain.ThoughtGenerator - Posting query\n",
      "2021-10-29 12:03:24,438 -    DEBUG -  cltl.brain.basic_brain.ThoughtGenerator - Posting query\n",
      "2021-10-29 12:03:24,445 -    DEBUG -  cltl.brain.basic_brain.ThoughtGenerator - Posting query\n",
      "2021-10-29 12:03:24,488 -    DEBUG -   cltl.brain.basic_brain.TrustCalculator - Posting query\n",
      "Leolani2: So you what do you want to talk about Stranger?\n",
      "\n"
     ]
    },
    {
     "name": "stdin",
     "output_type": "stream",
     "text": [
      "\n",
      " bye\n"
     ]
    }
   ],
   "source": [
    "#### Initial prompt by the system from which we create a TextSignal and store it\n",
    "initial_prompt = \"Hi there. Who are you \" + HUMAN_NAME + \"?\"\n",
    "print(AGENT + \": \" + initial_prompt)\n",
    "textSignal = d_util.create_text_signal(scenario, initial_prompt)\n",
    "scenario.append_signal(textSignal)\n",
    "\n",
    "utterance = input('\\n')\n",
    "print(HUMAN_NAME + \": \" + utterance)\n",
    "while not (utterance.lower() == 'stop' or utterance.lower() == 'bye'):\n",
    "    textSignal = d_util.create_text_signal(scenario, utterance)\n",
    "    scenario.append_signal(textSignal)\n",
    "    thoughts = process_text_and_think (scenario, \n",
    "                  place_id, \n",
    "                  location, \n",
    "                  textSignal, \n",
    "                  HUMAN_ID, my_brain)\n",
    "    \n",
    "    # Create the response from the system and store this as a new signal\n",
    "    utterance = \"\" #ttt.getTextFromTriples(response)\n",
    "    if not utterance:\n",
    "            utterance = f\"So you what do you want to talk about {HUMAN_NAME}?\\n\"\n",
    "\n",
    "    response = utterance[::-1]\n",
    "    print(AGENT + \": \" + utterance)\n",
    "    textSignal = d_util.create_text_signal(scenario, utterance)\n",
    "    scenario.append_signal(textSignal)\n",
    "\n",
    "    ###### Getting the next input signals\n",
    "    utterance = input('\\n')\n"
   ]
  },
  {
   "cell_type": "markdown",
   "metadata": {},
   "source": [
    "## End of notebook"
   ]
  },
  {
   "cell_type": "code",
   "execution_count": null,
   "metadata": {},
   "outputs": [],
   "source": []
  }
 ],
 "metadata": {
  "kernelspec": {
   "display_name": "venv",
   "language": "python",
   "name": "venv"
  },
  "language_info": {
   "codemirror_mode": {
    "name": "ipython",
    "version": 3
   },
   "file_extension": ".py",
   "mimetype": "text/x-python",
   "name": "python",
   "nbconvert_exporter": "python",
   "pygments_lexer": "ipython3",
   "version": "3.7.6"
  }
 },
 "nbformat": 4,
 "nbformat_minor": 4
}
